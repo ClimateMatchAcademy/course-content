{
 "cells": [
  {
   "cell_type": "markdown",
   "id": "7a9918b3",
   "metadata": {
    "execution": {}
   },
   "source": [
    "# Outro"
   ]
  },
  {
   "cell_type": "markdown",
   "id": "17107c4e",
   "metadata": {
    "execution": {}
   },
   "source": [
    "As you learned through these tutorials, past climate states can serve as analogs for future warming on Earth and can help to assess future changes in the climate system. Paleoclimate proxies and models can help us understand these past variations in Earth’s climate. In the next tutorial, you’ll learn more about climate models, but in the context of modern and future climate change.\n"
   ]
  }
 ],
 "metadata": {
  "colab": {
   "collapsed_sections": [],
   "include_colab_link": true,
   "name": "W1D4_Outro",
   "toc_visible": true
  },
  "kernel": {
   "display_name": "Python 3",
   "language": "python",
   "name": "python3"
  },
  "kernelspec": {
   "display_name": "Python 3 (ipykernel)",
   "language": "python",
   "name": "python3"
  },
  "language_info": {
   "codemirror_mode": {
    "name": "ipython",
    "version": 3
   },
   "file_extension": ".py",
   "mimetype": "text/x-python",
   "name": "python",
   "nbconvert_exporter": "python",
   "pygments_lexer": "ipython3",
   "version": "3.10.12"
  }
 },
 "nbformat": 4,
 "nbformat_minor": 5
}