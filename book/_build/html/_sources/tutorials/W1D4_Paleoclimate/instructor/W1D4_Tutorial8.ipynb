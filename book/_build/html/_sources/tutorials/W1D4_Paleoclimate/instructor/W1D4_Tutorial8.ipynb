{
 "cells": [
  {
   "cell_type": "markdown",
   "id": "7f57454a",
   "metadata": {
    "execution": {}
   },
   "source": [
    "[![Open In Colab](https://colab.research.google.com/assets/colab-badge.svg)](https://colab.research.google.com/github/ClimateMatchAcademy/course-content/blob/main/tutorials/W1D4_Paleoclimate/instructor/W1D4_Tutorial8.ipynb)   <a href=\"https://kaggle.com/kernels/welcome?src=https://raw.githubusercontent.com/ClimateMatchAcademy/course-content/main/tutorials/W1D4_Paleoclimate/instructor/W1D4_Tutorial8.ipynb\" target=\"_blank\"><img alt=\"Open in Kaggle\" src=\"https://kaggle.com/static/images/open-in-kaggle.svg\"/></a>"
   ]
  },
  {
   "attachments": {},
   "cell_type": "markdown",
   "metadata": {
    "execution": {}
   },
   "source": [
    "# **Tutorial 8: Paleoclimate Models**\n",
    "**Week 1, Day 4, Paleoclimate**\n",
    "\n",
    "**Content creators:** Sloane Garelick\n",
    "\n",
    "**Content reviewers:** Yosmely Bermúdez, Dionessa Biton, Katrina Dobson, Maria Gonzalez, Will Gregory, Nahid Hasan, Sherry Mi, Beatriz Cosenza Muralles, Brodie Pearson, Jenna Pearson, Rieke Schäfer, Chi Zhang, Ohad Zivan \n",
    "\n",
    "**Content editors:** Yosmely Bermúdez, Zahra Khodakaramimaghsoud, Jenna Pearson, Agustina Pesce, Chi Zhang, Ohad Zivan\n",
    "\n",
    "**Production editors:** Wesley Banfield, Jenna Pearson, Chi Zhang, Ohad Zivan\n",
    "\n",
    "**Our 2023 Sponsors:** NASA TOPS"
   ]
  },
  {
   "attachments": {},
   "cell_type": "markdown",
   "metadata": {
    "execution": {}
   },
   "source": [
    "# **Tutorial Objectives**\n",
    "\n",
    "So far today, we've been focusing on how proxy-based reconstructions can be used to understand past variations in Earth's climate sytem. However, another useful tool in paleoclimate is the use of climate models.  \n",
    "\n",
    "In this tutorial, you'll explore data from the [Paleoclimate Modelling Intercomparison Project 3 (PMIP3)](https://www.nature.com/articles/nclimate1456). More specifically, you'll be analyzing global mean surface temperature (GMST) data from  simulations for the past 1,000 years. \n",
    "\n",
    "You'll also compare the PMIP3 GMST data to a proxy-based reconstruction of temperature from Lake Tanganyika in East Africa [(Tierney et al., 2010)](https://www.nature.com/articles/ngeo865). Through this proxy-model comparison, you'll be able to assess the differences and similarities between the two datasets. \n",
    "\n",
    "\n",
    "By the end of this tutorial you will be able to:\n",
    "\n",
    "*   Plot time series of paleoclimate model simulations\n",
    "*   Compare and interpret proxy-based reconstructions of climate to paleoclimate model simulations of climate\n",
    "\n",
    "\n"
   ]
  },
  {
   "attachments": {},
   "cell_type": "markdown",
   "metadata": {
    "execution": {}
   },
   "source": [
    "# Setup"
   ]
  },
  {
   "cell_type": "code",
   "execution_count": null,
   "metadata": {
    "execution": {}
   },
   "outputs": [],
   "source": [
    "# imports\n",
    "import pandas as pd\n",
    "import numpy as np\n",
    "import xarray as xr\n",
    "import pooch\n",
    "\n",
    "import cartopy\n",
    "import pyleoclim as pyleo"
   ]
  },
  {
   "cell_type": "markdown",
   "metadata": {},
   "source": [
    "##  Video 1: Speaker Introduction\n"
   ]
  },
  {
   "cell_type": "markdown",
   "metadata": {},
   "source": [
    "###  Video 1: Speaker Introduction\n"
   ]
  },
  {
   "cell_type": "code",
   "execution_count": null,
   "metadata": {
    "cellView": "form",
    "execution": {},
    "tags": [
     "hide-input"
    ]
   },
   "outputs": [],
   "source": [
    "# @title Video 1: Speaker Introduction\n",
    "#Tech team will add code to format and display the video"
   ]
  },
  {
   "attachments": {},
   "cell_type": "markdown",
   "metadata": {
    "execution": {}
   },
   "source": [
    "\n",
    "# **Section 1: Load Proxy-Based Temperature Reconstructions**\n",
    "\n",
    "The proxy record we'll be analyzing in this tutorial is a 1,000 year-long lake surface temperature reconstruction from [Tierney et al., 2010](https://https://doi.org/10.1038/ngeo865). This record is from Lake Taganyika in equatorial East Africa and is based on the [TEX86 ratio](https://en.wikipedia.org/wiki/TEX86), which is a temperature proxy derived from the distribution of the isoprenoid glycerol dialkyl glycerol tetraether (iGDGT) of archaeal membrane lipids. The organisms producing these iGDGT compounds alter the structure of the compound in response to changes in temperature, so by measuring changes in the ratio of the different compounds, we can infer past changes in temperature.   \n",
    "\n",
    "Let's start by loading the proxy data, saving it as a `Series` in Pyleoclim, and plotting a time series. "
   ]
  },
  {
   "cell_type": "code",
   "execution_count": null,
   "metadata": {
    "execution": {}
   },
   "outputs": [],
   "source": [
    "proxy_temp = pd.read_csv(pooch.retrieve(\"https://osf.io/p8tx3/download\", known_hash=None))\n",
    "proxy_temp.head()"
   ]
  },
  {
   "cell_type": "code",
   "execution_count": null,
   "metadata": {
    "execution": {},
    "executionInfo": {
     "elapsed": 696,
     "status": "ok",
     "timestamp": 1681255526502,
     "user": {
      "displayName": "Brodie Pearson",
      "userId": "05269028596972519847"
     },
     "user_tz": 420
    }
   },
   "outputs": [],
   "source": [
    "proxy_t = pyleo.Series(\n",
    "    time=proxy_temp['Year'],\n",
    "    value= proxy_temp['LST'],\n",
    "    time_name='Time',\n",
    "    time_unit='yrs',\n",
    "    value_name='Surface Temperature',\n",
    "    value_unit='ºC',\n",
    "    label='Lake Tanganyika Surface Temperature'\n",
    ")\n",
    "\n",
    "proxy_t.plot(color='C1')"
   ]
  },
  {
   "attachments": {},
   "cell_type": "markdown",
   "metadata": {
    "execution": {}
   },
   "source": [
    "## **Questions 1**"
   ]
  },
  {
   "attachments": {},
   "cell_type": "markdown",
   "metadata": {
    "execution": {}
   },
   "source": [
    "Let's make some initial observations about the data:\n",
    "\n",
    "\n",
    "1. What is the overall temperature trend over the past 2,000 years? Where are the major increases or decrease in temperature? \n",
    "2. What could be the cause of these shifts in lake surface temperature? \n",
    "\n"
   ]
  },
  {
   "cell_type": "code",
   "execution_count": null,
   "metadata": {
    "execution": {}
   },
   "outputs": [],
   "source": [
    "# to_remove explanation\n",
    "\n",
    "\"\"\"\n",
    "Write your observations here\n",
    "1. Until about 1850, the overall temperature is relatively constant with a ~1ºC decrease from 600-1000 and a ~1.5ºC warming from 1000-1300. However, from 1850 to the present, temperature has increased by ~2.5ºC.\n",
    "2. This recent increase in temperature is likely due to the impacts of anthropogenic activities.\n",
    "\n",
    "\"\"\";"
   ]
  },
  {
   "attachments": {},
   "cell_type": "markdown",
   "metadata": {
    "execution": {}
   },
   "source": [
    "# **Section 2: Last Millenium PMIP3 GMST Data**\n",
    "\n",
    "We can now load GMST anomaly data from the PMIP3 simulations for the past 1,000 years ([Braconnot et al., 2012](https://doi.org/10.1038/nclimate1456) and [PAGES 2k-PMIP3 group, 2015](https://cp.copernicus.org/articles/11/1673/2015/)). The anomalies are computed compared to the mean of the time series over the full length of temporal overlap between simulations.\n"
   ]
  },
  {
   "cell_type": "code",
   "execution_count": null,
   "metadata": {
    "execution": {},
    "executionInfo": {
     "elapsed": 437,
     "status": "ok",
     "timestamp": 1681255552933,
     "user": {
      "displayName": "Brodie Pearson",
      "userId": "05269028596972519847"
     },
     "user_tz": 420
    }
   },
   "outputs": [],
   "source": [
    "# load the raw data 'PMIP3_GMST.txt'\n",
    "url_PMIP3=\"https://osf.io/gw2m5/download\"\n",
    "df = pd.read_table(pooch.retrieve(url_PMIP3,known_hash=None))\n",
    "\n",
    "# display the raw data\n",
    "df"
   ]
  },
  {
   "attachments": {},
   "cell_type": "markdown",
   "metadata": {
    "execution": {}
   },
   "source": [
    "Note that the data file includes several ensemble members for [Community Earth System Model (CESM)](https://www.cesm.ucar.edu/) and [Goddard Institute for Space Studies (GISS)](https://www.giss.nasa.gov/) simulations. Ensembles are essentially groups of climate model simulations used for climate projections, or in this case, reconstructions. You will learn about this in much more detail on W1D5: Climate Modeling.\n",
    "\n",
    "For now, we can replace these with their ensemble mean series.\n"
   ]
  },
  {
   "cell_type": "code",
   "execution_count": null,
   "metadata": {
    "execution": {}
   },
   "outputs": [],
   "source": [
    "# create a new pandas.DataFrame to store the processed data\n",
    "df_new = df.copy()\n",
    "\n",
    "# remove the data columns for CESM and GISS ensemble members\n",
    "for i in range(10):\n",
    "    df_new = df_new.drop([f'CESM_member_{i+1}'], axis=1)\n",
    "\n",
    "df_new = df_new.drop(['GISS-E2-R_r1i1p127.1'], axis=1)\n",
    "df_new = df_new.drop(['GISS-E2-R_r1i1p127'], axis=1)\n",
    "df_new = df_new.drop(['GISS-E2-R_r1i1p121'], axis=1)\n",
    "\n",
    "# calculate the ensemble mean for CESM and GISS, and add the results into the table\n",
    "df_new['CESM'] = df[[\n",
    "    'CESM_member_1',\n",
    "    'CESM_member_2',\n",
    "    'CESM_member_3',\n",
    "    'CESM_member_4',\n",
    "    'CESM_member_5',\n",
    "    'CESM_member_6',\n",
    "    'CESM_member_7',\n",
    "    'CESM_member_8',\n",
    "    'CESM_member_9',\n",
    "    'CESM_member_10',\n",
    "]].mean(axis=1)\n",
    "\n",
    "df_new['GISS'] = df[[\n",
    "    'GISS-E2-R_r1i1p127.1',\n",
    "    'GISS-E2-R_r1i1p127',\n",
    "    'GISS-E2-R_r1i1p121',\n",
    "]].mean(axis=1)"
   ]
  },
  {
   "cell_type": "code",
   "execution_count": null,
   "metadata": {
    "execution": {},
    "executionInfo": {
     "elapsed": 257,
     "status": "ok",
     "timestamp": 1681255705870,
     "user": {
      "displayName": "Brodie Pearson",
      "userId": "05269028596972519847"
     },
     "user_tz": 420
    }
   },
   "outputs": [],
   "source": [
    "# display the processed data\n",
    "df_new"
   ]
  },
  {
   "attachments": {},
   "cell_type": "markdown",
   "metadata": {
    "execution": {}
   },
   "source": [
    "In our new dataframe, you can now see that the ensemble members for CESM and GISS are now replaced with one ensemble mean for each model simulation.\n",
    "\n",
    "\n",
    "\n",
    "Now we can create a Pyleoclim `Series` object for each simulated GMST time series, which will allow us to easily plot the time series for each simulation and perform data analysis using various built-in tools."
   ]
  },
  {
   "cell_type": "code",
   "execution_count": null,
   "metadata": {
    "execution": {}
   },
   "outputs": [],
   "source": [
    "# store each pyleoclim.Series() object into a dictionary\n",
    "ts_dict = {}\n",
    "for name in df_new.columns[1:]:\n",
    "    ts_dict[name] = pyleo.Series(\n",
    "        time=df_new['Year'].values,  # the time axis\n",
    "        value=df_new[name].values,   # the value axis\n",
    "        label=name,                  # optional metadata: the nickname of the series\n",
    "        time_name='Time',            # optional metadata: the name of the time axis\n",
    "        time_unit='yrs',             # optional metadata: the unit of the time axis\n",
    "        value_name='GMST anomaly',     # optional metadata: the name of the value axis\n",
    "        value_unit='ºC',              # optional metadata: the unit of the value axis\n",
    "    )"
   ]
  },
  {
   "attachments": {},
   "cell_type": "markdown",
   "metadata": {
    "execution": {}
   },
   "source": [
    "We can now plot each simulation. For example, let's plot the CCSM4 GMST anomaly:"
   ]
  },
  {
   "cell_type": "code",
   "execution_count": null,
   "metadata": {
    "execution": {},
    "executionInfo": {
     "elapsed": 616,
     "status": "ok",
     "timestamp": 1681255723006,
     "user": {
      "displayName": "Brodie Pearson",
      "userId": "05269028596972519847"
     },
     "user_tz": 420
    }
   },
   "outputs": [],
   "source": [
    "fig, ax = ts_dict['CCSM4'].plot()"
   ]
  },
  {
   "attachments": {},
   "cell_type": "markdown",
   "metadata": {
    "execution": {}
   },
   "source": [
    "But what if we wanted to plot all of the PMIP3 time series at once? We can do that using the `MultipleSeries` object in Pyleoclim, which takes a list of `Series` objects as input. To do so, we have to convert the dictionary of `Series` into a list and then create a `MultipleSeries` object."
   ]
  },
  {
   "cell_type": "code",
   "execution_count": null,
   "metadata": {
    "execution": {}
   },
   "outputs": [],
   "source": [
    "ts_list = [v for k, v in ts_dict.items()]  # a pythonic way to convert the pyleo.Series items in the dictionary to a list\n",
    "ms_pmip = pyleo.MultipleSeries(ts_list)"
   ]
  },
  {
   "attachments": {},
   "cell_type": "markdown",
   "metadata": {
    "execution": {}
   },
   "source": [
    "We can now plot all PMIP3 simulation time series at once:"
   ]
  },
  {
   "cell_type": "code",
   "execution_count": null,
   "metadata": {
    "execution": {},
    "executionInfo": {
     "elapsed": 928,
     "status": "ok",
     "timestamp": 1681255736092,
     "user": {
      "displayName": "Brodie Pearson",
      "userId": "05269028596972519847"
     },
     "user_tz": 420
    }
   },
   "outputs": [],
   "source": [
    "fig, ax = ms_pmip.plot(\n",
    "    lgd_kwargs={\n",
    "        'bbox_to_anchor': (1.25, 1),  # move the legend to the right side\n",
    "    }\n",
    ")"
   ]
  },
  {
   "attachments": {},
   "cell_type": "markdown",
   "metadata": {
    "execution": {}
   },
   "source": [
    "Note that like the paleo proxy data we have looked at, these model simulations are also referred to as reconstructions as they are attempts to recreate past climates.\n",
    "\n",
    "The reconstructed GMST anomalies from all of the PMIP3 simulations follow the same overall trend of relatively stable, long-term temperature from 800-1800 AD, followed by an increase in temperature over the past 200 years. What do you think is driving this recent warming trend?\n",
    "\n",
    "Despite the long-term similarities, there are also noticeable differences between the GMST time series from each simulation.  \n",
    "\n",
    "## **Questions 2: Climate Connection**\n",
    "\n",
    "1.   How are the GMST anomalies from each simulation different? What could be causing these differences?\n",
    "4.   How do we know which simulation is the most accurate and reliable?"
   ]
  },
  {
   "cell_type": "code",
   "execution_count": null,
   "metadata": {
    "execution": {}
   },
   "outputs": [],
   "source": [
    "# to_remove explanation\n",
    "\n",
    "\"\"\"\n",
    "1. The reconstructed Global Mean Surface Temperature (GMST) anomalies from the collective time series displays a variation within the range of 1.5 ˚C. The consistency among the reconstructed values tends to increase as we approach the present day, with more substantial variation observed between the years 1200 and 1800. These differences can be attributed to several factors. For instance, each model's unique sensitivity to different forcings and their distinct representations of physical processes or spatial resolutions can lead to variations in outcomes.\n",
    "2. In order to obtain the \"best\" simulation, a comparative analysis is conducted against observational or proxy data. The simulation that best mirrors the observed or reconstructed climate trends and variability over the same time period is often deemed the most reliable. However, it's essential to note that all models possess their own strengths and weaknesses, and the \"best\" model can depend on the specific climate variable or region of interest.\n",
    "\n",
    "\"\"\";"
   ]
  },
  {
   "attachments": {},
   "cell_type": "markdown",
   "metadata": {
    "execution": {}
   },
   "source": [
    "# **Section 3: Proxy-Model Comparisons**\n",
    "\n",
    "Proxy-based reconstructions of climate variables in the past can provide direct measurements of temperature, precipitation, greenhouse gas concentration, etc. Comparing proxy paleoclimate records with paleoclimate model simulations can help to clarify the interpretation of the proxy record and also help to improve the ability of climate models to simulate past variations in climate.\n",
    "\n",
    "Here, we'll compare the proxy-based Lake Tanganyika surface temperature reconstruction we downloaded and plotted at the beginning of the tutorial, with the GMST anomaly PMIP3 simulations. But first, we need to standardize the Lake Tanganyika data since we're comparing the data to the GMST anomaly."
   ]
  },
  {
   "cell_type": "code",
   "execution_count": null,
   "metadata": {
    "execution": {}
   },
   "outputs": [],
   "source": [
    "# standardize the proxy data\n",
    "proxy_stnd = proxy_t.standardize()"
   ]
  },
  {
   "cell_type": "code",
   "execution_count": null,
   "metadata": {
    "execution": {},
    "executionInfo": {
     "elapsed": 1414,
     "status": "ok",
     "timestamp": 1681255872349,
     "user": {
      "displayName": "Brodie Pearson",
      "userId": "05269028596972519847"
     },
     "user_tz": 420
    }
   },
   "outputs": [],
   "source": [
    "fig, ax = ms_pmip.plot(\n",
    "    lgd_kwargs={\n",
    "        'bbox_to_anchor': (1.25, 1),  # move the legend to the right side\n",
    "    }\n",
    ")\n",
    "\n",
    "ax.set_ylabel('GMST anomaly (ºC)')\n",
    "ax1 = ax.twinx()  # create a second axes that shares the same x-axis\n",
    "ax1.set_ylabel('Tanganyika Surface Temperature Anomaly (ºC)')\n",
    "\n",
    "proxy_stnd.plot(ax=ax1,color='black')\n",
    "ax.set_xlim(xmin=850,xmax=2000)\n",
    "ax.set_ylim(ymin=-4,ymax=2)\n",
    "ax1.set_ylim(ymin=-4,ymax=2)"
   ]
  },
  {
   "attachments": {},
   "cell_type": "markdown",
   "metadata": {
    "execution": {}
   },
   "source": [
    "## **Questions 3: Climate Connection**\n",
    "\n",
    "How do the model simulated GMST and proxy-based surface temperature compare?\n",
    "\n",
    "\n",
    "1.  Is there more variability in the proxy or model temperatures? What might be causing this?\n",
    "2.  Are the long-term trends over the last millenium in the simulated GMST anomaly and proxy-based surface temperature record similar or different?"
   ]
  },
  {
   "cell_type": "code",
   "execution_count": null,
   "metadata": {
    "execution": {}
   },
   "outputs": [],
   "source": [
    "# to_remove explanation\n",
    "\n",
    "\"\"\"\n",
    "1. The model temperatures exhibit greater variability compared to the proxy records due to the significantly lower sampling frequency of the proxies.\n",
    "2. Despite the differences in variability and temporal resolution, the overall temperature trends seen in the proxy record and GMST anomaly reconstructions from all PMIP3 simulations are similar. Overall, both the model and the proxy show relatively constant temperatures until ~1850 when temperature rapidly increases due to the influence of anthropogenic forcings, particularly the increase in greenhouse gas concentrations due to human activities.\n",
    "\n",
    "\"\"\";"
   ]
  },
  {
   "attachments": {},
   "cell_type": "markdown",
   "metadata": {
    "execution": {}
   },
   "source": [
    "This is just one simplified example of a proxy-model comparison. Larger-scale proxy-model comparisons can help to identify spatial patterns of temperature change and assess forcing mechanisms of paleoclimate variations. In W2D1, you'll spend more time exploring climate models."
   ]
  },
  {
   "attachments": {},
   "cell_type": "markdown",
   "metadata": {
    "execution": {}
   },
   "source": [
    "# **Summary**\n",
    "In this tutorial, you explored the role of climate models in paleoclimate research, particularly focusing on data from PMIP3. You learned to analyze and plot time series of paleoclimate model simulations, specifically GMST anomaly data from the past 1,000 years. This data reveals a trend of relatively stable global mean surface temperature anomalies from 800-1800 AD, followed by a noticeable rise in temperature over the last two centuries.\n",
    "\n",
    "Furthermore, you have learned to compare this model data with proxy-based reconstructions. Using the example of temperature data from Lake Tanganyika in East Africa, we've assessed the differences and similarities between the model and proxy data. This process not only enhances our interpretation of the proxy record but also improves our understanding of how well climate models simulate past climate variations.\n",
    "\n",
    "In the next and final tutorial for today, you'll explore another tool for assessing past climate variability using both proxies and models."
   ]
  },
  {
   "attachments": {},
   "cell_type": "markdown",
   "metadata": {
    "execution": {}
   },
   "source": [
    "# **Resources**\n",
    "\n",
    "Code for this tutorial is based on existing notebooks from LinkedEarth that explore [paleoclimate model-data comparisons](https://github.com/LinkedEarth/paleoHackathon/blob/main/notebooks/PaleoHack-nb08_Model-DataConfrontationInTimeDomain.ipynb) using [PMIP3 model simulations](https://github.com/LinkedEarth/paleoHackathon/blob/main/notebooks/PaleoHack-nb07_Model-DataConfrontationInFrequencyDomain.ipynb).\n",
    "\n",
    "Data from the following sources are used in this tutorial:\n",
    "\n",
    "*   Braconnot, P., Harrison, S., Kageyama, M. et al. Evaluation of climate models using palaeoclimatic data. Nature Clim Change 2, 417–424 (2012). https://doi.org/10.1038/nclimate1456\n",
    "*   Tierney, J., Mayes, M., Meyer, N. et al. Late-twentieth-century warming in Lake Tanganyika unprecedented since AD 500. Nature Geosci 3, 422–425 (2010). https://doi.org/10.1038/ngeo865"
   ]
  }
 ],
 "metadata": {
  "colab": {
   "collapsed_sections": [],
   "include_colab_link": true,
   "name": "W1D4_Tutorial8",
   "provenance": [
    {
     "file_id": "1wFhubLDgjU4HN94QSHyc9zBzHAzgN2Cw",
     "timestamp": 1679502090432
    }
   ],
   "toc_visible": true
  },
  "kernel": {
   "display_name": "Python 3",
   "language": "python",
   "name": "python3"
  },
  "kernelspec": {
   "display_name": "Python 3 (ipykernel)",
   "language": "python",
   "name": "python3"
  },
  "language_info": {
   "codemirror_mode": {
    "name": "ipython",
    "version": 3
   },
   "file_extension": ".py",
   "mimetype": "text/x-python",
   "name": "python",
   "nbconvert_exporter": "python",
   "pygments_lexer": "ipython3",
   "version": "3.10.12"
  }
 },
 "nbformat": 4,
 "nbformat_minor": 4
}