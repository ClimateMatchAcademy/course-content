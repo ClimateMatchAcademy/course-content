{
 "cells": [
  {
   "cell_type": "markdown",
   "id": "myt07YFyNgmw",
   "metadata": {
    "execution": {}
   },
   "source": [
    "# Tutorial 8:  Artificial neural networks on crops dataset\n",
    "\n",
    "**Week 2, Day 5: Climate Response: adaptation and impact**\n",
    "\n",
    "**By Climatematch Academy**\n",
    "\n",
    "__Content creators:__ Deepak Mewada, Grace Lindsay\n",
    "\n",
    "__Content reviewers:__ Ohad Zivan, Name Surname\n",
    "\n",
    "__Content editors:__ Name Surname, Name Surname\n",
    "\n",
    "__Production editors:__ Name Surname, Name Surname"
   ]
  },
  {
   "cell_type": "markdown",
   "id": "kDQc1jnoNWcp",
   "metadata": {
    "execution": {}
   },
   "source": [
    "___\n",
    "# **Tutorial Objectives**\n",
    "\n",
    "*Estimated timing of tutorial: 10 minutes*\n",
    "\n",
    "Welcome to tutorial 8 of a series focused on understanding the role of data science and machine learning in addressing the impact of climate change and adapting to it.\n",
    "\n",
    "In this tutorial we will learn Artificial neural network. Specifically, by the end of this tutorial, you will be able to:\n",
    "\n",
    "- \n",
    "\n",
    "\n",
    "---"
   ]
  },
  {
   "cell_type": "markdown",
   "metadata": {},
   "source": [
    "##  Tutorial slides\n"
   ]
  },
  {
   "cell_type": "markdown",
   "metadata": {},
   "source": [
    " These are the slides for the videos in all tutorials today\n"
   ]
  },
  {
   "cell_type": "markdown",
   "metadata": {},
   "source": [
    "###  Tutorial slides\n"
   ]
  },
  {
   "cell_type": "markdown",
   "metadata": {},
   "source": [
    " These are the slides for the videos in all tutorials today\n"
   ]
  },
  {
   "cell_type": "markdown",
   "metadata": {},
   "source": [
    "####  Tutorial slides\n"
   ]
  },
  {
   "cell_type": "markdown",
   "metadata": {},
   "source": [
    " These are the slides for the videos in all tutorials today\n"
   ]
  },
  {
   "cell_type": "code",
   "execution_count": null,
   "id": "wlndBdbV5iJF",
   "metadata": {
    "cellView": "form",
    "execution": {},
    "executionInfo": {
     "elapsed": 1506,
     "status": "ok",
     "timestamp": 1681491270181,
     "user": {
      "displayName": "Deepak Mewada",
      "userId": "10376201445384716451"
     },
     "user_tz": -330
    },
    "tags": [
     "remove-input"
    ]
   },
   "outputs": [],
   "source": [
    "# @title Tutorial slides\n",
    "\n",
    "# @markdown These are the slides for the videos in all tutorials today\n",
    "from IPython.display import IFrame\n",
    "IFrame(src=f\"https://mfr.ca-1.osf.io/render?url=https://osf.io/kaq2x/?direct%26mode=render%26action=download%26mode=render\", width=854, height=480)"
   ]
  },
  {
   "cell_type": "markdown",
   "id": "Vtq0OyoRNPcc",
   "metadata": {
    "execution": {}
   },
   "source": [
    "\n",
    "\n",
    "---\n",
    "# **Setup**"
   ]
  },
  {
   "cell_type": "markdown",
   "metadata": {},
   "source": [
    "##  Import necessary libraries:\n"
   ]
  },
  {
   "cell_type": "markdown",
   "metadata": {},
   "source": [
    "###  Import necessary libraries:\n"
   ]
  },
  {
   "cell_type": "markdown",
   "metadata": {},
   "source": [
    "####  Import necessary libraries:\n"
   ]
  },
  {
   "cell_type": "code",
   "execution_count": null,
   "id": "Kwsl6-KNNPcc",
   "metadata": {
    "cellView": "form",
    "execution": {},
    "executionInfo": {
     "elapsed": 483,
     "status": "ok",
     "timestamp": 1681795844343,
     "user": {
      "displayName": "Deepak Mewada",
      "userId": "10376201445384716451"
     },
     "user_tz": -330
    },
    "pycharm": {
     "name": "#%%\n"
    },
    "tags": [
     "hide-input"
    ]
   },
   "outputs": [],
   "source": [
    "#@title Import necessary libraries:\n",
    "\n",
    "import numpy as np  # Import the numpy library as np - used for array computing and linear algebra operations\n",
    "import matplotlib.pyplot as plt\n",
    "from sklearn.neural_network import MLPClassifier  # A type of artificial neural network\n",
    "from sklearn.exceptions import ConvergenceWarning  # A warning message that may appear during model training\n",
    "import warnings  # A module for managing warning messages\n",
    "\n",
    "# Ignore the convergence warnings that may appear during model training\n",
    "warnings.filterwarnings(\"ignore\", category=ConvergenceWarning)"
   ]
  },
  {
   "cell_type": "markdown",
   "id": "wNqEz5P8j2Q-",
   "metadata": {
    "execution": {}
   },
   "source": [
    "<details>\n",
    "<summary> <font color='Red'>Click here if you are running on local machine or you encounter any error while importing   </font></summary>\n",
    "**NOTE :**  Please note that if you are running this code on a local machine and encounter an error while importing a library, make sure to install the library via pip. For example, if you receive a \"`ModuleNotFoundError: No module named 'library name'`\" error , please run \"`pip install 'library name'`\" to install the required module."
   ]
  },
  {
   "cell_type": "markdown",
   "metadata": {},
   "source": [
    "##  Plotting functions\n"
   ]
  },
  {
   "cell_type": "markdown",
   "metadata": {},
   "source": [
    " Run this cell to define plotting function we will be using in this code"
   ]
  },
  {
   "cell_type": "markdown",
   "metadata": {},
   "source": [
    "###  Plotting functions\n"
   ]
  },
  {
   "cell_type": "markdown",
   "metadata": {},
   "source": [
    " Run this cell to define plotting function we will be using in this code"
   ]
  },
  {
   "cell_type": "markdown",
   "metadata": {},
   "source": [
    "####  Plotting functions\n"
   ]
  },
  {
   "cell_type": "markdown",
   "metadata": {},
   "source": [
    " Run this cell to define plotting function we will be using in this code"
   ]
  },
  {
   "cell_type": "code",
   "execution_count": null,
   "id": "zBSog43E5Cmr",
   "metadata": {
    "cellView": "form",
    "execution": {},
    "executionInfo": {
     "elapsed": 379,
     "status": "ok",
     "timestamp": 1681796714171,
     "user": {
      "displayName": "Deepak Mewada",
      "userId": "10376201445384716451"
     },
     "user_tz": -330
    },
    "tags": [
     "hide-input"
    ]
   },
   "outputs": [],
   "source": [
    "#@title Plotting functions\n",
    "#@markdown Run this cell to define plotting function we will be using in this code"
   ]
  },
  {
   "cell_type": "markdown",
   "id": "nULavCfq4o07",
   "metadata": {
    "execution": {}
   },
   "source": [
    "--- \n",
    "# **Section 1: Artificial Neural Network on Crops Data**\n",
    "---\n",
    "\n",
    "\n",
    "\n"
   ]
  },
  {
   "cell_type": "markdown",
   "metadata": {},
   "source": [
    "##  Video 1: Video 1 Name\n"
   ]
  },
  {
   "cell_type": "markdown",
   "metadata": {},
   "source": [
    "###  Video 1: Video 1 Name\n"
   ]
  },
  {
   "cell_type": "markdown",
   "metadata": {},
   "source": [
    "####  Video 1: Video 1 Name\n"
   ]
  },
  {
   "cell_type": "code",
   "execution_count": null,
   "id": "ThcPwgvzvV-6",
   "metadata": {
    "cellView": "form",
    "execution": {},
    "executionInfo": {
     "elapsed": 19,
     "status": "ok",
     "timestamp": 1681491271656,
     "user": {
      "displayName": "Deepak Mewada",
      "userId": "10376201445384716451"
     },
     "user_tz": -330
    },
    "tags": [
     "remove-input"
    ]
   },
   "outputs": [],
   "source": [
    "# @title Video 1: Video 1 Name\n",
    "from ipywidgets import widgets\n",
    "from IPython.display import display, IFrame, YouTubeVideo\n",
    "\n",
    "out2 = widgets.Output()\n",
    "with out2:\n",
    "  class BiliVideo(IFrame):\n",
    "    def __init__(self, id, page=1, width=400, height=300, **kwargs):\n",
    "      self.id=id\n",
    "      src = 'https://player.bilibili.com/player.html?bvid={0}&page={1}'.format(id, page)\n",
    "      super(BiliVideo, self).__init__(src, width, height, **kwargs)\n",
    "\n",
    "  video = BiliVideo(id=\"\", width=730, height=410, fs=1)\n",
    "  print(f'Video available at https://www.bilibili.com/video/{video.id}')\n",
    "  display(video)\n",
    "\n",
    "out1 = widgets.Output()\n",
    "with out1:\n",
    "  video = YouTubeVideo(id=\"\", width=730, height=410, fs=1, rel=0)\n",
    "  print(f'Video available at https://youtube.com/watch?v={video.id}')\n",
    "  display(video)\n",
    "\n",
    "out = widgets.Tab([out1, out2])\n",
    "out.set_title(0, 'Youtube')\n",
    "out.set_title(1, 'Bilibili')\n",
    "\n",
    "display(out)"
   ]
  },
  {
   "cell_type": "markdown",
   "id": "2155c2a3",
   "metadata": {
    "execution": {}
   },
   "source": [
    "---\n",
    "## Section 1.1:  Training an artificial neural network on crops data\n",
    "---\n",
    "\n",
    "\n",
    "As discussed before, there are usually multiple possible ways to solve a data science problem. Here we will train an artificial neural network (ANN) to perform binary classifcation on our remote sensing crops data set. \n",
    "\n",
    "We will first load our data."
   ]
  },
  {
   "cell_type": "code",
   "execution_count": null,
   "id": "c241ff61",
   "metadata": {
    "execution": {},
    "executionInfo": {
     "elapsed": 4357,
     "status": "ok",
     "timestamp": 1681791442979,
     "user": {
      "displayName": "Deepak Mewada",
      "userId": "10376201445384716451"
     },
     "user_tz": -330
    }
   },
   "outputs": [],
   "source": [
    "#Load the data from the specified file path\n",
    "import os, pooch\n",
    "fname = 'togo_crops_data.npz'\n",
    "if not os.path.exists(fname):\n",
    "    url = \"https://osf.io/4tqhe/download\"\n",
    "    fname = pooch.retrieve(url, known_hash=None)\n",
    "data = np.load(fname)\n",
    "#Extract the input and output features from the loaded data\n",
    "X_train = data['arr_0']; y_train = data['arr_1']; X_test = data['arr_2']; y_test = data['arr_3']"
   ]
  },
  {
   "cell_type": "markdown",
   "id": "NAO0bYT4u6FZ",
   "metadata": {
    "execution": {}
   },
   "source": [
    "Small artificial neural networks can be trained in scitkit-learn just like other models. Use [MLPClassifier](https://scikit-learn.org/stable/modules/generated/sklearn.neural_network.MLPClassifier.html#sklearn.neural_network.MLPClassifier) with default parameters to train a model on the crops training set and evaluate its accuracy on both the training and test sets. (MLP stands for multi-layer perceptron, another name for a simple artificial neural network). "
   ]
  },
  {
   "cell_type": "code",
   "execution_count": null,
   "id": "mZgnpC9Y_4kk",
   "metadata": {
    "execution": {},
    "executionInfo": {
     "elapsed": 4,
     "status": "error",
     "timestamp": 1681803888390,
     "user": {
      "displayName": "Deepak Mewada",
      "userId": "10376201445384716451"
     },
     "user_tz": -330
    }
   },
   "outputs": [],
   "source": [
    "#################################################\n",
    "## TODO for students: Import and fit MLP on crop data\n",
    "# Fill in the code in empty places and comment out the line given below\n",
    "# raise NotImplementedError(\"Student exercise: Fill in the code in empty places to remove this error\")\n",
    "#################################################\n",
    "\n",
    "# Import the MLPClassifier from the neural_network module in the sklearn library\n",
    "from sklearn.neural_network import MLPClassifier\n",
    "\n",
    "# Set a random seed to ensure reproducibility of results\n",
    "np.random.seed(144)\n",
    "\n",
    "# Fit the MLPClassifier model on the training data\n",
    "# trained_model = fit    # write code to fit MLPClassifier on train data\n",
    "\n",
    "# Print the training accuracy and test accuracy of the model\n",
    "# print('Training Accuracy: ', trained_model.score(...,...))\n",
    "print('Test Accuracy: ',  ...)"
   ]
  },
  {
   "cell_type": "markdown",
   "id": "n0_mYfiAuJTW",
   "metadata": {
    "execution": {}
   },
   "source": [
    "\n",
    "\n",
    "```\n",
    "# After successfull implementation your result should look like this\n",
    " Training Accuracy:  0.7875968992248062\n",
    " Test Accuracy:      0.7189542483660131\n",
    "```\n",
    "\n"
   ]
  },
  {
   "cell_type": "markdown",
   "id": "6f32a750",
   "metadata": {
    "colab_type": "text",
    "execution": {},
    "executionInfo": {
     "elapsed": 5188,
     "status": "ok",
     "timestamp": 1681793762408,
     "user": {
      "displayName": "Deepak Mewada",
      "userId": "10376201445384716451"
     },
     "user_tz": -330
    }
   },
   "source": [
    "[*Click for solution*](https://github.com/NeuromatchAcademy/course-content/tree/main//tutorials/W2D5_ClimateResponse-AdaptationImpact/solutions/W2D5_Tutorial8_Solution_3fc37cc1.py)\n",
    "\n"
   ]
  },
  {
   "cell_type": "markdown",
   "id": "l07SCayNAB8H",
   "metadata": {
    "execution": {}
   },
   "source": [
    "### Think! 1.1: Understanding the model\n",
    "Does the ANN perform better or worse than the logistic regression model? Does the result surprise you?"
   ]
  },
  {
   "cell_type": "markdown",
   "id": "Vg4e7B_b7pk9",
   "metadata": {
    "execution": {}
   },
   "source": [
    "\n",
    "\n",
    "---\n",
    "\n",
    "\n",
    "## Section 1.2:  Overfitting in ANNs\n",
    "\n",
    "\n",
    "---\n",
    "\n",
    "\n",
    "Our ANN model has better training performance but worse test performance than the linear regression model. As we saw previously, high training data performance but poor test data performance could be a sign of overfitting. Overfitting happens when a model has too many free parameters, which it uses to 'memorize' the relationships between inputs and outputs in the training set. In this way, what the model learns is too specific to the training data and won't be helpful on new data. \n",
    "\n",
    "One way to cause overfitting is to use a large model. Use the hidden_layer_sizes parameter of MLPClassifier to vary the number of units in the hidden layer in your ANN. Plot the training and test performance as a function of the number of hidden units. Note how training performance rises as test performance does not.  \n"
   ]
  },
  {
   "cell_type": "markdown",
   "id": "5PoDL-uT21DJ",
   "metadata": {
    "execution": {}
   },
   "source": [
    "### Exercise 1.2 : Visualizing the Impact of Hidden Units on the Performance of a Multi-Layer Perceptron Classifier\n",
    "\n",
    "**Objective**: In this exercise, you are required to fill in the missing code in the mlp_performance function. The function is supposed to train multiple MLP classifiers with different numbers of hidden units and return the training and testing accuracy for each classifier.\n",
    "\n",
    "It may take a few minutes for this to run. While you wait, discuss what adding more units really means. What does each hidden unit do and how does having more give the model higher capacity? \n"
   ]
  },
  {
   "cell_type": "markdown",
   "metadata": {},
   "source": [
    "  *Execute this cell to enable the plotting function to be used for plotting performance of our model in next cell: `plot_mlp_performance`*\n"
   ]
  },
  {
   "cell_type": "markdown",
   "metadata": {},
   "source": [
    "  *Execute this cell to enable the plotting function to be used for plotting performance of our model in next cell: `plot_mlp_performance`*\n"
   ]
  },
  {
   "cell_type": "markdown",
   "metadata": {},
   "source": [
    "  *Execute this cell to enable the plotting function to be used for plotting performance of our model in next cell: `plot_mlp_performance`*\n"
   ]
  },
  {
   "cell_type": "code",
   "execution_count": null,
   "id": "tOyc0mrb_WOu",
   "metadata": {
    "cellView": "form",
    "execution": {},
    "executionInfo": {
     "elapsed": 391,
     "status": "ok",
     "timestamp": 1681798601680,
     "user": {
      "displayName": "Deepak Mewada",
      "userId": "10376201445384716451"
     },
     "user_tz": -330
    },
    "tags": [
     "hide-input"
    ]
   },
   "outputs": [],
   "source": [
    "#@markdown  *Execute this cell to enable the plotting function to be used for plotting performance of our model in next cell: `plot_mlp_performance`*\n",
    "\n",
    "def plot_mlp_performance(hidden_units, train_accuracy, test_accuracy):\n",
    "    \"\"\"\n",
    "    Plot the performance of the Multi-Layer Perceptron (MLP) model with varying hidden units.\n",
    "\n",
    "    Args:\n",
    "    hidden_units (range): A range of integers representing the different number of hidden units.\n",
    "    train_accuracy (list): A list of floats representing the training accuracy for each number of hidden units.\n",
    "    test_accuracy (list): A list of floats representing the testing accuracy for each number of hidden units.\n",
    "\n",
    "    Returns:\n",
    "    None\n",
    "    \"\"\"\n",
    "\n",
    "    # Create a figure and axis object with specified size\n",
    "    fig, ax = plt.subplots(figsize=(8, 6))\n",
    "\n",
    "    # Plot the training accuracy as a function of number of hidden units\n",
    "    ax.plot(hidden_units, train_accuracy, marker='o', label='Training Accuracy', color='navy', alpha=0.8, linewidth=2)\n",
    "\n",
    "    # Plot the testing accuracy as a function of number of hidden units\n",
    "    ax.plot(hidden_units, test_accuracy, marker='o', label='Testing Accuracy', color='crimson', alpha=0.8, linewidth=2)\n",
    "\n",
    "    # Add a legend to the plot\n",
    "    ax.legend()\n",
    "\n",
    "    # Add a title to the plot\n",
    "    ax.set_title('Performance of MLP with Varying Hidden Units', fontsize=16, fontweight='bold')\n",
    "\n",
    "    # Add x-label to the plot\n",
    "    ax.set_xlabel('Number of Hidden Units', fontsize=14)\n",
    "\n",
    "    # Add y-label to the plot\n",
    "    ax.set_ylabel('Accuracy', fontsize=14)\n",
    "\n",
    "    # Set tick labels for x and y axes\n",
    "    ax.tick_params(axis='both', which='major', labelsize=12)\n",
    "\n",
    "    # Add gridlines to the plot\n",
    "    ax.grid(True, linestyle='--', alpha=0.5)\n",
    "\n",
    "    # Remove top and right spines of the plot\n",
    "    ax.spines['right'].set_visible(False)\n",
    "    ax.spines['top'].set_visible(False)\n",
    "\n",
    "    # Adjust the layout of the plot\n",
    "    plt.tight_layout()\n",
    "\n",
    "    # Display the plot\n",
    "    plt.show()"
   ]
  },
  {
   "cell_type": "code",
   "execution_count": null,
   "id": "NA3oHuvrA2UO",
   "metadata": {
    "execution": {},
    "executionInfo": {
     "elapsed": 405,
     "status": "ok",
     "timestamp": 1681798898629,
     "user": {
      "displayName": "Deepak Mewada",
      "userId": "10376201445384716451"
     },
     "user_tz": -330
    }
   },
   "outputs": [],
   "source": [
    "def mlp_performance(X_train, y_train, X_test, y_test):\n",
    "    \"\"\"\n",
    "    This function trains multiple MLP classifiers with different numbers of hidden units and returns the training and testing\n",
    "    accuracy for each classifier.\n",
    "\n",
    "    Args:\n",
    "    X_train (ndarray): An array of shape (N_train, M) that contains the training data\n",
    "    y_train (ndarray): An array of shape (N_train,) that contains the labels for the training data\n",
    "    X_test (ndarray): An array of shape (N_test, M) that contains the testing data\n",
    "    y_test (ndarray): An array of shape (N_test,) that contains the labels for the testing data\n",
    "\n",
    "    Returns:\n",
    "    tuple: A tuple of three arrays: hidden_units, train_accuracy, and test_accuracy\n",
    "    \"\"\"\n",
    "\n",
    "    #################################################\n",
    "    ## TODO for students:\n",
    "    # Fill in the code in empty places to remove this error\n",
    "    raise NotImplementedError(\"Student exercise: Fill in the code in empty places to remove this error\")\n",
    "    #################################################\n",
    "\n",
    "    # Define the range of hidden units to test\n",
    "    hidden_units = range(5, 300, 15)  # Test 5 to 300 hidden units in steps of 15\n",
    "\n",
    "    # Create empty lists to store training and testing accuracy for different numbers of hidden units\n",
    "    train_accuracy = []\n",
    "    test_accuracy = []\n",
    "\n",
    "    # Loop over different numbers of hidden units\n",
    "    for units in hidden_units:\n",
    "        # Set a seed for random number generation to ensure consistent results\n",
    "        np.random.seed(144)\n",
    "\n",
    "        # Create an MLP classifier with the current number of hidden units\n",
    "        classifier = MLPClassifier(hidden_layer_sizes=(...))\n",
    "\n",
    "        # Train the classifier on the training data\n",
    "        classifier.fit(..., y_train)\n",
    "\n",
    "        # Calculate the training and testing accuracy of the classifier\n",
    "        train_acc = classifier.score(..., ...)\n",
    "        test_acc = classifier.score(..., ...)\n",
    "\n",
    "        # Add the training and testing accuracy to the corresponding lists\n",
    "        train_accuracy.append(...)\n",
    "        test_accuracy.append(...)\n",
    "\n",
    "    return hidden_units, train_accuracy, test_accuracy\n",
    "\n",
    "## Uncomment the code below to test your function\n",
    "#Call mlp_performance function\n",
    "#hidden_units, train_accuracy, test_accuracy = mlp_performance(X_train, y_train, X_test, y_test)\n",
    "# Plot the training and testing accuracy as a function of the number of hidden units\n",
    "#plot_mlp_performance(hidden_units, train_accuracy, test_accuracy)"
   ]
  },
  {
   "cell_type": "markdown",
   "id": "LBXVccJvBwcm",
   "metadata": {
    "execution": {}
   },
   "source": [
    "\n",
    "\n",
    "```\n",
    "# Correct implementation should result in plot like this\n",
    "```\n",
    "![image.png](data:image/png;base64,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)\n",
    "\n"
   ]
  },
  {
   "cell_type": "code",
   "execution_count": null,
   "id": "p5VJ14mEL3jc",
   "metadata": {
    "execution": {},
    "executionInfo": {
     "elapsed": 56993,
     "status": "ok",
     "timestamp": 1681802290183,
     "user": {
      "displayName": "Deepak Mewada",
      "userId": "10376201445384716451"
     },
     "user_tz": -330
    }
   },
   "outputs": [],
   "source": [
    "def mlp_performance(X_train, y_train, X_test, y_test):\n",
    "    \"\"\"\n",
    "    This function trains multiple MLP classifiers with different numbers of hidden units and returns the training and testing\n",
    "    accuracy for each classifier.\n",
    "\n",
    "    Args:\n",
    "    X_train (ndarray): An array of shape (N_train, M) that contains the training data\n",
    "    y_train (ndarray): An array of shape (N_train,) that contains the labels for the training data\n",
    "    X_test (ndarray): An array of shape (N_test, M) that contains the testing data\n",
    "    y_test (ndarray): An array of shape (N_test,) that contains the labels for the testing data\n",
    "\n",
    "    Returns:\n",
    "    tuple: A tuple of three arrays: hidden_units, train_accuracy, and test_accuracy\n",
    "    \"\"\"\n",
    "\n",
    "\n",
    "    # Define the range of hidden units to test\n",
    "    hidden_units = range(5, 300, 15)  # Test 5 to 300 hidden units in steps of 15\n",
    "\n",
    "    # Create empty lists to store training and testing accuracy for different numbers of hidden units\n",
    "    train_accuracy = []\n",
    "    test_accuracy = []\n",
    "\n",
    "    # Loop over different numbers of hidden units\n",
    "    for units in hidden_units:\n",
    "        # Set a seed for random number generation to ensure consistent results\n",
    "        np.random.seed(144)\n",
    "\n",
    "        # Create an MLP classifier with the current number of hidden units\n",
    "        classifier = MLPClassifier(hidden_layer_sizes=(units))\n",
    "\n",
    "        # Train the classifier on the training data\n",
    "        classifier.fit(X_train, y_train)\n",
    "\n",
    "        # Calculate the training and testing accuracy of the classifier\n",
    "        train_acc = classifier.score(X_train, y_train)\n",
    "        test_acc = classifier.score(X_test, y_test)\n",
    "\n",
    "        # Add the training and testing accuracy to the corresponding lists\n",
    "        train_accuracy.append(train_acc)\n",
    "        test_accuracy.append(test_acc)\n",
    "\n",
    "    return hidden_units, train_accuracy, test_accuracy\n",
    "\n",
    "## Uncomment the code below to test your function\n",
    "#Call mlp_performance function\n",
    "hidden_units, train_accuracy, test_accuracy = mlp_performance(X_train, y_train, X_test, y_test)\n",
    "# Plot the training and testing accuracy as a function of the number of hidden units\n",
    "plot_mlp_performance(hidden_units, train_accuracy, test_accuracy)"
   ]
  },
  {
   "cell_type": "markdown",
   "id": "jtVA_2hSSScp",
   "metadata": {
    "execution": {}
   },
   "source": [
    "How do you interpret the plot above? What do you observe?"
   ]
  },
  {
   "cell_type": "markdown",
   "id": "2Lzf_6DgSX0G",
   "metadata": {
    "execution": {}
   },
   "source": [
    "<details>\n",
    "<summary> <font color='yellow'>Hint  </font></summary>\n",
    "The plot generated by the mlp_performance function shows the training and testing accuracy of a multi-layer perceptron classifier (MLP) as a function of the number of hidden units. The blue line shows the training accuracy, while the orange line shows the testing accuracy.       \n",
    "As the number of hidden units increases, the training accuracy generally increases as well. However, the testing accuracy may not necessarily increase and may start to plateau or even decrease at some point. This indicates the model is overfitting, where it is learning the noise in the training data instead of the underlying pattern."
   ]
  },
  {
   "cell_type": "markdown",
   "id": "ba6d35d1",
   "metadata": {
    "execution": {}
   },
   "source": [
    "\n",
    "\n",
    "---\n",
    "\n",
    "\n"
   ]
  },
  {
   "cell_type": "markdown",
   "id": "092e6678",
   "metadata": {
    "execution": {}
   },
   "source": [
    "## Section 1.3:  Overfitting by learning too much\n",
    "\n",
    "As the network is trained, it loops through all the training data repeatedly, updating its weights to make the network perform better on that data. Another way to induce overfitting is to let the network loop over the training data too many times. Repeat the above training experiment with the default number of hidden units but varying the number training epochs using the max_iter parameter. \n",
    "\n",
    "While you wait for this to run, you can continue your discussion about hidden units. "
   ]
  },
  {
   "cell_type": "markdown",
   "id": "FFug21_4Npxy",
   "metadata": {
    "execution": {}
   },
   "source": [
    "### Exercise 1.3 : Training MLPClassifier with varying number of epochs and observing performance"
   ]
  },
  {
   "cell_type": "markdown",
   "metadata": {},
   "source": [
    "  *Execute this cell to enable the plotting function to be used for plotting performance of our model in next cell: `plot_training_performance`*\n"
   ]
  },
  {
   "cell_type": "markdown",
   "metadata": {},
   "source": [
    "  *Execute this cell to enable the plotting function to be used for plotting performance of our model in next cell: `plot_training_performance`*\n"
   ]
  },
  {
   "cell_type": "markdown",
   "metadata": {},
   "source": [
    "  *Execute this cell to enable the plotting function to be used for plotting performance of our model in next cell: `plot_training_performance`*\n"
   ]
  },
  {
   "cell_type": "code",
   "execution_count": null,
   "id": "tNm6Vt8kJIf5",
   "metadata": {
    "cellView": "form",
    "execution": {},
    "executionInfo": {
     "elapsed": 2,
     "status": "ok",
     "timestamp": 1681801362641,
     "user": {
      "displayName": "Deepak Mewada",
      "userId": "10376201445384716451"
     },
     "user_tz": -330
    },
    "tags": [
     "hide-input"
    ]
   },
   "outputs": [],
   "source": [
    "#@markdown  *Execute this cell to enable the plotting function to be used for plotting performance of our model in next cell: `plot_training_performance`*\n",
    "\n",
    "\n",
    "def plot_training_performance(train_perfs, test_perfs):\n",
    "    \"\"\"\n",
    "    Plots the training and test performance against the number of training epochs.\n",
    "\n",
    "    Args:\n",
    "    train_perfs: list of floats representing the training performance for each epoch.\n",
    "    test_perfs: list of floats representing the test performance for each epoch.\n",
    "    \"\"\"\n",
    "    # Create a figure and axis object\n",
    "    fig, ax = plt.subplots(figsize=(8, 6))\n",
    "\n",
    "    # Plot the training and test performance against the number of training epochs\n",
    "    ax.plot(np.arange(5,500,20),train_perfs, label='Training Accuracy', linewidth=2, marker='o')\n",
    "    ax.plot(np.arange(5,500,20),test_perfs, label='Test Accuracy', linewidth=2, marker='s')\n",
    "    ax.set_title('Training and Test Performance vs. Number of Training Epochs', fontsize=16, fontweight='bold')\n",
    "    ax.set_xlabel('Number of Training Epochs', fontsize=14)\n",
    "    ax.set_ylabel('Accuracy', fontsize=14)\n",
    "    ax.legend(loc='lower right', fontsize=12)\n",
    "    ax.grid(True)\n",
    "\n",
    "    # Add text annotation for maximum test accuracy\n",
    "    max_test_acc = max(test_perfs)\n",
    "    max_test_epoch = (np.argmax(test_perfs)*20)+5\n",
    "    ax.annotate(f'Maximum test accuracy of {max_test_acc:.2f} at {max_test_epoch} epochs',\n",
    "                xy=(max_test_epoch, max_test_acc),\n",
    "                xytext=(max_test_epoch+50, max_test_acc-0.05),\n",
    "                fontsize=12, fontweight='bold', color='green',\n",
    "                arrowprops=dict(facecolor='green', shrink=0.05))\n",
    "\n",
    "    # Show the plot\n",
    "    plt.tight_layout()\n",
    "    plt.show()"
   ]
  },
  {
   "cell_type": "code",
   "execution_count": null,
   "id": "mbB1zZitLxTd",
   "metadata": {
    "execution": {},
    "executionInfo": {
     "elapsed": 677,
     "status": "ok",
     "timestamp": 1681801713296,
     "user": {
      "displayName": "Deepak Mewada",
      "userId": "10376201445384716451"
     },
     "user_tz": -330
    }
   },
   "outputs": [],
   "source": [
    "def train_epochs(X_train, y_train, X_test, y_test, start_epoch=5, end_epoch=500, step=20):\n",
    "    \"\"\"\n",
    "    Train an MLPClassifier for a range of epochs and return the training and test accuracy for each epoch.\n",
    "\n",
    "    Parameters:\n",
    "    -----------\n",
    "    X_train: array-like of shape (n_samples, n_features)\n",
    "        Training input samples.\n",
    "    y_train: array-like of shape (n_samples,)\n",
    "        Target values for the training set.\n",
    "    X_test: array-like of shape (n_samples, n_features)\n",
    "        Test input samples.\n",
    "    y_test: array-like of shape (n_samples,)\n",
    "        Target values for the test set.\n",
    "    start_epoch: int, optional\n",
    "        The first epoch to train for. Default is 5.\n",
    "    end_epoch: int, optional\n",
    "        The last epoch to train for. Default is 500.\n",
    "    step: int, optional\n",
    "        The step size between epochs. Default is 20.\n",
    "\n",
    "    Returns:\n",
    "    --------\n",
    "    tuple\n",
    "        Two lists, the first containing the training accuracy for each epoch, and the second containing the test\n",
    "        accuracy for each epoch.\n",
    "    \"\"\"\n",
    "\n",
    "    #################################################\n",
    "    ## TODO for students:\n",
    "    # Fill in the code in empty places and then comment out the line given below\n",
    "    raise NotImplementedError(\"Student exercise: Fill in the code in empty places to remove this error\")\n",
    "    #################################################\n",
    "\n",
    "    # Initialize empty lists to store training and test performance\n",
    "    train_accuracy = []\n",
    "    test_accuracy = []\n",
    "\n",
    "    # Loop through a range of epochs and train the MLPClassifier model for each epoch\n",
    "    for m in range(start_epoch, end_epoch, step):\n",
    "        # Set random seed for reproducibility\n",
    "        np.random.seed(144)\n",
    "\n",
    "        # Fit the MLPClassifier model to the training data for the current epoch\n",
    "        trained_model = MLPClassifier(max_iter=m).fit(X_train, y_train)\n",
    "\n",
    "        # Calculate and store the training and test accuracy for the current epoch\n",
    "        train_accuracy.append(trained_model.score(X_train,y_train))\n",
    "        test_accuracy.append(trained_model.score(X_test,y_test))\n",
    "\n",
    "    # Return the lists of training and test performance for each epoch\n",
    "    return train_accuracy, test_accuracy\n",
    "\n",
    "## Uncomment the code below to test your function\n",
    "#train_perfs, test_perfs = train_epochs(X_train, y_train, X_test, y_test) # Call the train_epochs function and store the returned values in variables train_perfs and test_perfs\n",
    "#plot_training_performance(train_perfs, test_perfs) # Calling plotting function to plot the performance vs epochs plot"
   ]
  },
  {
   "cell_type": "markdown",
   "id": "6Nk9-JsTLLcg",
   "metadata": {
    "execution": {}
   },
   "source": [
    "\n",
    "\n",
    "```\n",
    "# Example Output\n",
    "```\n",
    "![image.png](data:image/png;base64,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)\n"
   ]
  },
  {
   "cell_type": "markdown",
   "id": "3LpVn2UBJx0X",
   "metadata": {
    "colab_type": "text",
    "execution": {},
    "executionInfo": {
     "elapsed": 79992,
     "status": "ok",
     "timestamp": 1681801695753,
     "user": {
      "displayName": "Deepak Mewada",
      "userId": "10376201445384716451"
     },
     "user_tz": -330
    }
   },
   "source": [
    "[*Click for solution*](https://github.com/NeuromatchAcademy/course-content/tree/main//tutorials/W2D5_ClimateResponse-AdaptationImpact/solutions/W2D5_Tutorial8_Solution_6458b1b3.py)\n",
    "\n"
   ]
  },
  {
   "cell_type": "markdown",
   "id": "GRo5E4UIRpL7",
   "metadata": {
    "execution": {}
   },
   "source": [
    "What did you observe?"
   ]
  },
  {
   "cell_type": "markdown",
   "id": "G2oZTsHiUIgP",
   "metadata": {
    "execution": {}
   },
   "source": [
    "<details>\n",
    "<summary> <font color='yellow'>Hint  </font></summary>\n",
    "The plot generated shows the training and test accuracy of a neural network as the number of training epochs increases. The training accuracy generally increases with the number of epochs, while the test accuracy initially increases but eventually levels off or even decreases due to overfitting. The maximum test accuracy achieved and the epoch at which it occurs can also be seen on the plot."
   ]
  },
  {
   "cell_type": "markdown",
   "id": "QStFtvNLMtCX",
   "metadata": {
    "execution": {}
   },
   "source": [
    "\n",
    "\n",
    "---\n",
    "## Section 2.3 : Reflection on Overfitting\n",
    "---\n",
    "\n"
   ]
  },
  {
   "cell_type": "markdown",
   "id": "R1XxMxSgMI-7",
   "metadata": {
    "execution": {}
   },
   "source": [
    "### Think! 2.1: Preventing overfitting\n",
    "\n",
    "Now that we saw what can cause overfitting, reflect on how to prevent it. In addition to controlling the number of hidden units and amount of training, are there any other ways to prevent overfitting? "
   ]
  },
  {
   "cell_type": "markdown",
   "id": "QpvMO0r1TRfI",
   "metadata": {
    "execution": {}
   },
   "source": [
    "\n",
    "\n",
    "```\n",
    "#  to_remove explanation\n",
    "\n",
    "Solutions to handle overfitting include reducing model complexity, increasing dataset size, using regularization, or cross-validation. Ensemble models such as random forests also do inherently help control overfitting by averaging many different models\n",
    "```\n",
    "\n"
   ]
  },
  {
   "cell_type": "markdown",
   "id": "DiR7mcnycPiB",
   "metadata": {
    "execution": {}
   },
   "source": [
    "\n",
    "\n",
    "---\n",
    "\n",
    "\n",
    "# **Summary**\n",
    "\n",
    "Estimated timing of tutorial: \n",
    "\n",
    "In this tutorial, we explored how to train an Artificial Neural Network on the crops dataset. We also learned about overfitting in ANNs and how to prevent it. By experimenting with different numbers of hidden units and epochs, we observed how overfitting can occur due to the model learning too much from the training data. Overall, this tutorial provided a comprehensive introduction to training ANNs on real-world datasets and highlighted the importance of preventing overfitting.\n",
    "\n",
    "---\n",
    "\n"
   ]
  }
 ],
 "metadata": {
  "colab": {
   "collapsed_sections": [],
   "include_colab_link": true,
   "name": "W2D5_Tutorial8",
   "provenance": [
    {
     "file_id": "1jdYX3rpa3kFQpFIK5xYplimbiAj6dJb-",
     "timestamp": 1681238178237
    }
   ],
   "toc_visible": true
  },
  "kernel": {
   "display_name": "Python 3",
   "language": "python",
   "name": "python3"
  },
  "kernelspec": {
   "display_name": "Python 3 (pangeo)",
   "language": "python",
   "name": "pangeo"
  },
  "language_info": {
   "codemirror_mode": {
    "name": "ipython",
    "version": 3
   },
   "file_extension": ".py",
   "mimetype": "text/x-python",
   "name": "python",
   "nbconvert_exporter": "python",
   "pygments_lexer": "ipython3",
   "version": "3.10.10"
  }
 },
 "nbformat": 4,
 "nbformat_minor": 5
}