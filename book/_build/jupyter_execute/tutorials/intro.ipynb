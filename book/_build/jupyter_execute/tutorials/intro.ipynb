{
 "cells": [
  {
   "attachments": {},
   "cell_type": "markdown",
   "metadata": {
    "colab_type": "text",
    "execution": {},
    "id": "view-in-github"
   },
   "source": [
    "<a href=\"https://colab.research.google.com/github/NeuromatchAcademy/course-content/blob/main/tutorials/intro.ipynb\" target=\"_blank\"><img alt=\"Open In Colab\" src=\"https://colab.research.google.com/assets/colab-badge.svg\"/></a>   <a href=\"https://kaggle.com/kernels/welcome?src=https://raw.githubusercontent.com/NeuromatchAcademy/course-content/main/tutorials/intro.ipynb\" target=\"_blank\"><img alt=\"Open in Kaggle\" src=\"https://kaggle.com/static/images/open-in-kaggle.svg\"/></a>"
   ]
  },
  {
   "attachments": {},
   "cell_type": "markdown",
   "metadata": {
    "execution": {},
    "pycharm": {
     "name": "#%% md\n"
    }
   },
   "source": [
    "# Introduction\n",
    "\n",
    "## Welcome to Computational Tools in Climate Science!"
   ]
  },
  {
   "attachments": {},
   "cell_type": "markdown",
   "metadata": {
    "execution": {}
   },
   "source": [
    "![Sponsors](./static/cma_sponsors_intro_2.png)"
   ]
  },
  {
   "attachments": {},
   "cell_type": "markdown",
   "metadata": {
    "execution": {},
    "pycharm": {
     "name": "#%% md\n"
    }
   },
   "source": [
    "## Welcome Video"
   ]
  },
  {
   "cell_type": "markdown",
   "metadata": {},
   "source": [
    "\n"
   ]
  },
  {
   "cell_type": "markdown",
   "metadata": {},
   "source": [
    "\n"
   ]
  },
  {
   "cell_type": "code",
   "execution_count": null,
   "metadata": {
    "cellView": "form",
    "execution": {},
    "pycharm": {
     "name": "#%%\n"
    },
    "tags": [
     "remove-input"
    ]
   },
   "outputs": [],
   "source": [
    "# @markdown\n",
    "from ipywidgets import widgets\n",
    "\n",
    "out2 = widgets.Output()\n",
    "with out2:\n",
    "    from IPython.display import IFrame\n",
    "\n",
    "    class BiliVideo(IFrame):\n",
    "        def __init__(self, id, page=1, width=400, height=300, **kwargs):\n",
    "            self.id = id\n",
    "            src = \"https://player.bilibili.com/player.html?bvid={0}&page={1}\".format(\n",
    "                id, page\n",
    "            )\n",
    "            super(BiliVideo, self).__init__(src, width, height, **kwargs)\n",
    "\n",
    "    video = BiliVideo(id=\"BV12a411p7Zj\", width=730, height=410, fs=1)\n",
    "    print(\"Video available at https://www.bilibili.com/video/{0}\".format(video.id))\n",
    "    display(video)\n",
    "\n",
    "out1 = widgets.Output()\n",
    "with out1:\n",
    "    from IPython.display import YouTubeVideo\n",
    "\n",
    "    video = YouTubeVideo(id=\"KRSomVVqYwI\", width=730, height=410, fs=1, rel=0)\n",
    "    print(\"Video available at https://youtube.com/watch?v=\" + video.id)\n",
    "    display(video)\n",
    "\n",
    "out = widgets.Tab([out1, out2])\n",
    "out.set_title(0, \"Youtube\")\n",
    "out.set_title(1, \"Bilibili\")\n",
    "\n",
    "display(out)"
   ]
  },
  {
   "attachments": {},
   "cell_type": "markdown",
   "metadata": {
    "execution": {},
    "pycharm": {
     "name": "#%% md\n"
    }
   },
   "source": [
    "## Concepts map\n",
    "\n",
    "<img src=\"Art/CMA_Concept_Map.png\" alt=\"Concept map overview of curriculum\" class=\"bg-primary\" width=\"100%\">\n",
    "\n",
    "*Image made by Sloane Garelick"
   ]
  },
  {
   "attachments": {},
   "cell_type": "markdown",
   "metadata": {
    "execution": {}
   },
   "source": [
    "We have curated an integrated program of tutorials, research projects and professional development activities. The curriculum spans most areas of climate science and will cover cutting-edge methods to analyse climate data and models. This section will overview the curriculum.\n",
    "\n",
    "## Prerequisite refreshers\n",
    "We curated a number of [refresher resources](https://github.com/NeuromatchAcademy/precourse/blob/main/prereqs/ClimateScience.md) for you that will help you prepare for Climatematch Academy. You are not required to study this material before the course. It is rather meant to help you detect and fill any gaps you may have in your knowledge. \n",
    "The **Introduction to Python** pre-course is an asynchronous course that you can complete on your own time. You will learn how to code in Python from scratch using straightforward examples curated by Project Pythia. If you have questions about the pre-course material, we offer support via Discord chat on July 12-14, 2023\n",
    "You will also find other open-source resources to catch up on algebra, statistics, calculus, physics, chemistry, and climate science. The topics covered on these days were carefully chosen based on what you need for the course.\n",
    "\n",
    "## The Academy begins!\n",
    "You will start out your two weeks at Climatematch Academy covering the **fundamentals** for understanding climate science data and research. This will include an overview of the climate system and xarray, as well as an introduction to good, equitable research practices.  \n",
    "\n",
    "You will then switch your focus on different types of **climate data**. You will use reanalysis products, remote sensing data, and paleoclimate proxy data to understand multi-scale climate interactions, climate monitoring, and variations in past marine, terrestrial, and atmospheric climates. \n",
    "\n",
    "This will be followed by an introduction to the **future of the climate system** as predicted through climate modeling. You will learn about climate models, how to interpret their projections of future climate and the standard framework for assessing socio-economic climate risks. You will also explore pathways to mitigate those risks. During this time, you will also have a full day to work on your research projects, which will give you a chance to incorporate these new insights into your data analyses and interpretation. \n",
    "\n",
    "Finally, the course will cover the **responses to climate change**, including identification of extreme climate events, like heatwaves, droughts, or wildfires, and the use of climate data for tracking the impacts of climate change to inform adaptation measures.\n",
    "\n",
    "You can find more details on the daily schedule and topics taught on different days in the [General Schedule](https://comptools.climatematch.io/tutorials/Schedule/daily_schedules.html)."
   ]
  },
  {
   "cell_type": "markdown",
   "id": "526438c9",
   "metadata": {},
   "source": [
    "\n",
    "```{toctree}\n",
    ":hidden:\n",
    ":titlesonly:\n",
    "\n",
    "\n",
    "Schedule/schedule_intro.md\n",
    "```\n",
    "\n",
    "\n",
    "```{toctree}\n",
    ":hidden:\n",
    ":titlesonly:\n",
    "\n",
    "\n",
    "TechnicalHelp/tech_intro.md\n",
    "```\n",
    "\n",
    "\n",
    "```{toctree}\n",
    ":hidden:\n",
    ":titlesonly:\n",
    "\n",
    "\n",
    "TechnicalHelp/Links_Policy.md\n",
    "```\n",
    "\n",
    "\n",
    "```{toctree}\n",
    ":hidden:\n",
    ":titlesonly:\n",
    "\n",
    "\n",
    "prereqs/ClimateScience.md\n",
    "```\n",
    "\n",
    "\n",
    "```{toctree}\n",
    ":hidden:\n",
    ":titlesonly:\n",
    ":caption: Fundamentals\n",
    "\n",
    "Climate System Overview (W1D1) <W1D1_ClimateSystemOverview/chapter_title.md>\n",
    "Good Research Practices (Projects) <Projects_GoodResearchPractices/chapter_title.md>\n",
    "```\n",
    "\n",
    "\n",
    "```{toctree}\n",
    ":hidden:\n",
    ":titlesonly:\n",
    ":caption: Climate Data\n",
    "\n",
    "State of the Climate Ocean and Atmosphere Reanalysis (W1D2) <W1D2_StateoftheClimateOceanandAtmosphereReanalysis/chapter_title.md>\n",
    "Remote Sensing Land Ocean and Atmosphere (W1D3) <W1D3_RemoteSensingLandOceanandAtmosphere/chapter_title.md>\n",
    "Paleoclimate (W1D4) <W1D4_Paleoclimate/chapter_title.md>\n",
    "```\n",
    "\n",
    "\n",
    "```{toctree}\n",
    ":hidden:\n",
    ":titlesonly:\n",
    ":caption: Climate Future\n",
    "\n",
    "Climate Modeling (W1D5) <W1D5_ClimateModeling/chapter_title.md>\n",
    "Future Climate - IPCC I Physical Basis (W2D1) <W2D1_FutureClimate-IPCCIPhysicalBasis/chapter_title.md>\n",
    "Future Climate - IPCC II & III Socio-Economic Basis (W2D3) <W2D3_FutureClimate-IPCCII&IIISocio-EconomicBasis/chapter_title.md>\n",
    "```\n",
    "\n",
    "\n",
    "```{toctree}\n",
    ":hidden:\n",
    ":titlesonly:\n",
    ":caption: Climate Response\n",
    "\n",
    "Climate Response - Extremes & Variability (W2D4) <W2D4_ClimateResponse-Extremes&Variability/chapter_title.md>\n",
    "Climate Response - Adaptation Impact (W2D5) <W2D5_ClimateResponse-AdaptationImpact/chapter_title.md>\n",
    "```\n",
    "\n",
    "\n",
    "```{toctree}\n",
    ":hidden:\n",
    ":titlesonly:\n",
    ":caption: Project Booklet\n",
    "\n",
    "Introduction <../projects/README.md>\n",
    "Daily guide for projects <../projects/docs/project_guidance.md>\n",
    "Project materials <../projects/docs/datasets_overview.md>\n",
    "Continuing your project after the course <../projects/docs/continuing_your_project_after_the_course.md>\n",
    "```\n",
    "\n",
    "\n",
    "```{toctree}\n",
    ":hidden:\n",
    ":titlesonly:\n",
    ":caption: Professional Development\n",
    "\n",
    "Introduction <../projects/professional_development/README.md>\n",
    "Impact Talks <../projects/professional_development/impact_talks.ipynb>\n",
    "Mentor Meetings <../projects/professional_development/mentors.md>\n",
    "Career Features <../projects/professional_development/career_features.md>\n",
    "Career Panels <../projects/professional_development/career_panels.md>\n",
    "```\n"
   ]
  }
 ],
 "metadata": {
  "colab": {
   "collapsed_sections": [],
   "include_colab_link": true,
   "name": "intro",
   "provenance": [],
   "toc_visible": true
  },
  "kernel": {
   "display_name": "Python 3",
   "language": "python",
   "name": "python3"
  },
  "kernelspec": {
   "display_name": "Python 3",
   "language": "python",
   "name": "python3"
  },
  "language_info": {
   "codemirror_mode": {
    "name": "ipython",
    "version": 3
   },
   "file_extension": ".py",
   "mimetype": "text/x-python",
   "name": "python",
   "nbconvert_exporter": "python",
   "pygments_lexer": "ipython3",
   "version": "3.7.13"
  }
 },
 "nbformat": 4,
 "nbformat_minor": 0
}