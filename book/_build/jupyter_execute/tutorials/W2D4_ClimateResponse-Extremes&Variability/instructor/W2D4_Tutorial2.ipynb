{
 "cells": [
  {
   "attachments": {},
   "cell_type": "markdown",
   "id": "c9ebd05f",
   "metadata": {
    "execution": {}
   },
   "source": [
    "[![Open In Colab](https://colab.research.google.com/assets/colab-badge.svg)](https://colab.research.google.com/github/ClimateMatchAcademy/course-content/blob/main/tutorials/W2D4_ClimateResponse-Extremes&amp;Variability/W2D4_Tutorial2.ipynb)   <a href=\"https://kaggle.com/kernels/welcome?src=https://raw.githubusercontent.com/ClimateMatchAcademy/course-content/main/tutorials/W2D4_ClimateResponse-Extremes&amp;Variability/W2D4_Tutorial2.ipynb\" target=\"_blank\"><img alt=\"Open in Kaggle\" src=\"https://kaggle.com/static/images/open-in-kaggle.svg\"/></a>"
   ]
  },
  {
   "attachments": {},
   "cell_type": "markdown",
   "metadata": {
    "execution": {}
   },
   "source": [
    "# **Tutorial 2: What is an Extreme Event? Empirical Return Levels**\n",
    "\n",
    "**Week 2, Day 4, Extremes & Vulnerability**\n",
    "\n",
    "**Content creators:** Matthias Aengenheyster, Joeri Reinders\n",
    "\n",
    "**Content reviewers:** Younkap Nina Duplex, Sloane Garelick, Zahra Khodakaramimaghsoud, Peter Ohue, Laura Paccini, Jenna Pearson, Agustina Pesce, Derick Temfack, Peizhen Yang, Cheng Zhang, Chi Zhang, Ohad Zivan\n",
    "\n",
    "**Content editors:** Jenna Pearson, Chi Zhang, Ohad Zivan\n",
    "\n",
    "**Production editors:** Wesley Banfield, Jenna Pearson, Chi Zhang, Ohad Zivan\n",
    "\n",
    "**Our 2023 Sponsors:** NASA TOPS"
   ]
  },
  {
   "attachments": {},
   "cell_type": "markdown",
   "metadata": {
    "execution": {}
   },
   "source": [
    "# **Tutorial Objectives**"
   ]
  },
  {
   "attachments": {},
   "cell_type": "markdown",
   "metadata": {
    "execution": {}
   },
   "source": [
    "In this second tutorial, you will calculate the precipitation levels associated with the 50, 100, and 500-year events using the empirical method.\n",
    "\n",
    "By the end of this tutorial, you will have the ability to:\n",
    "\n",
    "- Calculate empirical return levels\n",
    "- Visualize a data record using a return-level plot"
   ]
  },
  {
   "attachments": {},
   "cell_type": "markdown",
   "metadata": {
    "execution": {}
   },
   "source": [
    "# **Setup**"
   ]
  },
  {
   "cell_type": "code",
   "execution_count": null,
   "metadata": {
    "execution": {},
    "executionInfo": {
     "elapsed": 2068,
     "status": "ok",
     "timestamp": 1681923641610,
     "user": {
      "displayName": "Matthias Aengenheyster",
      "userId": "16322208118439170907"
     },
     "user_tz": -60
    }
   },
   "outputs": [],
   "source": [
    "# imports\n",
    "import numpy as np\n",
    "import matplotlib.pyplot as plt\n",
    "import pandas as pd\n",
    "from scipy import stats\n",
    "import os\n",
    "import pooch"
   ]
  },
  {
   "cell_type": "markdown",
   "metadata": {},
   "source": [
    "##  Figure Settings\n"
   ]
  },
  {
   "cell_type": "markdown",
   "metadata": {},
   "source": [
    "###  Figure Settings\n"
   ]
  },
  {
   "cell_type": "code",
   "execution_count": null,
   "metadata": {
    "cellView": "form",
    "execution": {},
    "tags": [
     "hide-input"
    ]
   },
   "outputs": [],
   "source": [
    "# @title Figure Settings\n",
    "import ipywidgets as widgets       # interactive display\n",
    "%config InlineBackend.figure_format = 'retina'\n",
    "plt.style.use(\"https://raw.githubusercontent.com/ClimateMatchAcademy/course-content/main/cma.mplstyle\")"
   ]
  },
  {
   "cell_type": "markdown",
   "metadata": {},
   "source": [
    "##  Video 1: Speaker Introduction\n"
   ]
  },
  {
   "cell_type": "markdown",
   "metadata": {},
   "source": [
    "###  Video 1: Speaker Introduction\n"
   ]
  },
  {
   "cell_type": "code",
   "execution_count": null,
   "metadata": {
    "cellView": "form",
    "execution": {},
    "tags": [
     "hide-input"
    ]
   },
   "outputs": [],
   "source": [
    "# @title Video 1: Speaker Introduction\n",
    "#Tech team will add code to format and display the video"
   ]
  },
  {
   "attachments": {},
   "cell_type": "markdown",
   "metadata": {
    "execution": {}
   },
   "source": [
    "# **Section 1: Calculating Return Levels**"
   ]
  },
  {
   "attachments": {},
   "cell_type": "markdown",
   "metadata": {
    "execution": {}
   },
   "source": [
    "The 100-year event represents a precipitation level that is expected to occur only once every 100 years, indicating an event with a 1% chance of occurring in any given year. Similarly, the 2-year event has a 50% chance of occurring annually. These return periods, as they are commonly referred to, play a crucial role in policymaking and infrastructure design. For instance, bridges are constructed to withstand 100-year flood events, evacuation plans are tailored for 50-year earthquakes, and nuclear power plants are engineered to withstand 10,000-year storms.\n",
    "\n",
    "To determine the return levels associated with a specific return period, there are two approaches: empirical calculation and the use of probability density functions (PDF) within a distribution. In this tutorial, we will first focus on the empirical method.\n",
    "\n",
    "First download and open the precipitation record in Germany (from the last tutorial) and plot it over time: "
   ]
  },
  {
   "cell_type": "code",
   "execution_count": null,
   "metadata": {
    "execution": {},
    "executionInfo": {
     "elapsed": 26698,
     "status": "ok",
     "timestamp": 1681923676549,
     "user": {
      "displayName": "Matthias Aengenheyster",
      "userId": "16322208118439170907"
     },
     "user_tz": -60
    }
   },
   "outputs": [],
   "source": [
    "# download file: 'precipitationGermany_1920-2022.csv'\n",
    "url_precipitationGermany = \"https://osf.io/xs7h6/download\"\n",
    "\n",
    "\n",
    "data = pd.read_csv(pooch.retrieve(url_precipitationGermany, known_hash=None),\n",
    "                   index_col=0).set_index('years')\n",
    "data.columns=['precipitation']\n",
    "precipitation = data.precipitation"
   ]
  },
  {
   "cell_type": "code",
   "execution_count": null,
   "metadata": {
    "execution": {},
    "executionInfo": {
     "elapsed": 12,
     "status": "ok",
     "timestamp": 1681923683775,
     "user": {
      "displayName": "Matthias Aengenheyster",
      "userId": "16322208118439170907"
     },
     "user_tz": -60
    }
   },
   "outputs": [],
   "source": [
    "precipitation.plot.line(style='.-')\n",
    "plt.ylabel('Annual Maximum Daily Precipitation \\n(mm/day)')"
   ]
  },
  {
   "attachments": {},
   "cell_type": "markdown",
   "metadata": {
    "execution": {}
   },
   "source": [
    "In this tutorial, we will calculate the return period for each event in the dataset, specifically for each maximum precipitation value recorded in a given year. To accomplish this, we will begin by ranking the precipitation levels in descending order using the sort function. The sorted data will be saved in the first column of a matrix named \"precip\" with four columns, and the number of rows will correspond to the number of data entries.\n",
    "\n",
    "In the second column of the matrix, we will store the ranks assigned to each precipitation value, with the highest value assigned a rank of 1 and the lowest value assigned a rank corresponding to the total number of entries (e.g., 103)."
   ]
  },
  {
   "cell_type": "code",
   "execution_count": null,
   "metadata": {
    "execution": {},
    "executionInfo": {
     "elapsed": 3,
     "status": "ok",
     "timestamp": 1681923686323,
     "user": {
      "displayName": "Matthias Aengenheyster",
      "userId": "16322208118439170907"
     },
     "user_tz": -60
    }
   },
   "outputs": [],
   "source": [
    "# create a data frame from precipitation data\n",
    "precip_df = pd.DataFrame(index=np.arange(data.precipitation.size))"
   ]
  },
  {
   "cell_type": "code",
   "execution_count": null,
   "metadata": {
    "execution": {},
    "executionInfo": {
     "elapsed": 2,
     "status": "ok",
     "timestamp": 1681923686323,
     "user": {
      "displayName": "Matthias Aengenheyster",
      "userId": "16322208118439170907"
     },
     "user_tz": -60
    }
   },
   "outputs": [],
   "source": [
    "# sort the data\n",
    "precip_df['sorted'] = np.sort(data.precipitation)[::-1]"
   ]
  },
  {
   "cell_type": "code",
   "execution_count": null,
   "metadata": {
    "execution": {},
    "executionInfo": {
     "elapsed": 5,
     "status": "ok",
     "timestamp": 1681923686680,
     "user": {
      "displayName": "Matthias Aengenheyster",
      "userId": "16322208118439170907"
     },
     "user_tz": -60
    }
   },
   "outputs": [],
   "source": [
    "# assign the ranks\n",
    "precip_df['ranks'] = np.arange(data.precipitation.size)"
   ]
  },
  {
   "cell_type": "code",
   "execution_count": null,
   "metadata": {
    "execution": {}
   },
   "outputs": [],
   "source": [
    "# len() gives the length of the list\n",
    "len(precip_df)"
   ]
  },
  {
   "cell_type": "code",
   "execution_count": null,
   "metadata": {
    "execution": {}
   },
   "outputs": [],
   "source": [
    "# the command np.unique gives back only unique values, and len() gives the length.\n",
    "# Thus len(np.unique()) shows how many unique values can be found in the data in question.\n",
    "len(np.unique(precip_df['sorted']))"
   ]
  },
  {
   "attachments": {},
   "cell_type": "markdown",
   "metadata": {
    "execution": {}
   },
   "source": [
    "\n",
    "Since we have 103 precipitation values but only 87 unique ones, we have a few instances where values are duplicated. It is important to ensure that these duplicate values are assigned the same rank. To address this, we can utilize the `rankdata` function from the `scipy` library. This function assigns similar values the same rank. After obtaining the ranks, we need to sort them before incorporating them into our matrix.\n"
   ]
  },
  {
   "cell_type": "code",
   "execution_count": null,
   "metadata": {
    "execution": {},
    "executionInfo": {
     "elapsed": 9,
     "status": "ok",
     "timestamp": 1681923688272,
     "user": {
      "displayName": "Matthias Aengenheyster",
      "userId": "16322208118439170907"
     },
     "user_tz": -60
    }
   },
   "outputs": [],
   "source": [
    "# rank via scipy instead to deal with duplicate values\n",
    "precip_df['ranks_sp'] = np.sort(stats.rankdata(-data.precipitation))"
   ]
  },
  {
   "cell_type": "code",
   "execution_count": null,
   "metadata": {
    "execution": {}
   },
   "outputs": [],
   "source": [
    "# the command set gives back only unique values.\n",
    "len(np.unique(precip_df['ranks_sp']))"
   ]
  },
  {
   "attachments": {},
   "cell_type": "markdown",
   "metadata": {
    "execution": {}
   },
   "source": [
    "Now, the length of ranks is the same as the length of unique values. \n",
    "Next we compute the empirical probability of exceedance by dividing the rank (r) by the total\n",
    "amount of values (n) plus 1.\n"
   ]
  },
  {
   "cell_type": "code",
   "execution_count": null,
   "metadata": {
    "execution": {},
    "executionInfo": {
     "elapsed": 4,
     "status": "ok",
     "timestamp": 1681923688272,
     "user": {
      "displayName": "Matthias Aengenheyster",
      "userId": "16322208118439170907"
     },
     "user_tz": -60
    }
   },
   "outputs": [],
   "source": [
    "# find exceedance probability\n",
    "n = data.precipitation.size\n",
    "precip_df['exceedance'] = precip_df['ranks_sp']/(n+1)"
   ]
  },
  {
   "attachments": {},
   "cell_type": "markdown",
   "metadata": {
    "execution": {}
   },
   "source": [
    "The return period and the chance of exceedance are related through T = 1/P"
   ]
  },
  {
   "cell_type": "code",
   "execution_count": null,
   "metadata": {
    "execution": {},
    "executionInfo": {
     "elapsed": 6,
     "status": "ok",
     "timestamp": 1681923689933,
     "user": {
      "displayName": "Matthias Aengenheyster",
      "userId": "16322208118439170907"
     },
     "user_tz": -60
    }
   },
   "outputs": [],
   "source": [
    "# find return period\n",
    "precip_df['period'] = 1 / precip_df['exceedance']"
   ]
  },
  {
   "cell_type": "code",
   "execution_count": null,
   "metadata": {
    "execution": {},
    "executionInfo": {
     "elapsed": 5,
     "status": "ok",
     "timestamp": 1681923689933,
     "user": {
      "displayName": "Matthias Aengenheyster",
      "userId": "16322208118439170907"
     },
     "user_tz": -60
    }
   },
   "outputs": [],
   "source": [
    "precip_df"
   ]
  },
  {
   "attachments": {},
   "cell_type": "markdown",
   "metadata": {
    "execution": {}
   },
   "source": [
    "Now that we know the return periods of each annual maximum precipitation level we can create\n",
    "a return level plot - a plot of return levels against return periods:"
   ]
  },
  {
   "cell_type": "code",
   "execution_count": null,
   "metadata": {
    "execution": {},
    "executionInfo": {
     "elapsed": 373,
     "status": "ok",
     "timestamp": 1681923690608,
     "user": {
      "displayName": "Matthias Aengenheyster",
      "userId": "16322208118439170907"
     },
     "user_tz": -60
    }
   },
   "outputs": [],
   "source": [
    "# plot the results\n",
    "fig,ax=plt.subplots()\n",
    "ax.plot(precip_df['period'],precip_df['sorted'],'o')\n",
    "ax.set_xlabel('Return Period (years)')\n",
    "ax.set_ylabel('Return Level (mm/day)')\n",
    "ax.set_xscale('linear') # notice the xscale"
   ]
  },
  {
   "attachments": {},
   "cell_type": "markdown",
   "metadata": {
    "execution": {}
   },
   "source": [
    "Frequently, we discuss return periods using a logarithmic scale, referring to events with return periods of 1 year, 10 years, and 100 years. Let's modify the plot above by changing the x-axis to a logarithmic scale."
   ]
  },
  {
   "cell_type": "code",
   "execution_count": null,
   "metadata": {
    "execution": {}
   },
   "outputs": [],
   "source": [
    "fig,ax=plt.subplots()\n",
    "ax.plot(precip_df['period'],precip_df['sorted'],'o')\n",
    "ax.set_xlabel('Return Period (years)')\n",
    "ax.set_ylabel('Return Level (mm/day)')\n",
    "ax.set_xscale('log') # change the xscale"
   ]
  },
  {
   "attachments": {},
   "cell_type": "markdown",
   "metadata": {
    "execution": {}
   },
   "source": [
    "## Questions 1: \n",
    "\n",
    "1. From the figure, what is the return level associated with the 1, 10, and 100 year return periods.\n",
    "\n",
    "2. It is important to note that the plots we have just made represent a single data record, which means our estimate of \"extreme values\" relies on a limited number of data points. Considering this, how confident can we be about the return periods or levels of extreme values based on this plot?"
   ]
  },
  {
   "cell_type": "code",
   "execution_count": null,
   "metadata": {
    "execution": {}
   },
   "outputs": [],
   "source": [
    "# to_remove explanation\n",
    "\"\"\"\n",
    "1. 10, 40 and 70 mm/day.\n",
    "2. Our data only spans from 1920 to 2022. If we are truly interested in 100-year events we need to work with a longer dataset perhaps using paleo proxies or other instrumentation. The longer the dataset, the more frequently we would expect to observe the long return period events and increase our confidence in them. Other ideas would be estimating probability/cumulative density functions (next few tutorials) or to use resampling methods (coding exercise below).\n",
    "\"\"\";"
   ]
  },
  {
   "attachments": {},
   "cell_type": "markdown",
   "metadata": {
    "execution": {}
   },
   "source": [
    "## Coding Exercise 1: \n",
    "\n",
    "We would like to have as much data as possible, because then we can sample more of what is possible, and be more sure we have not missed anything important. However, often we are limited by the available data, which is less than we would like.\n",
    "\n",
    "Fortunately, there is a trick that allows us to use the data itself to tell us about its own uncertainty. This method is called \"bootstrapping\", in reference to the saying of \"pulling oneself up by one's bootstraps\". \n",
    "\n",
    "This method works by assuming that while we have limited data, the data that we do have is nevertheless a representative sample of possible events - that is we assume that we did not miss anything systematic. Then, we use the data as a distribution to draw \"fake\" observations from, and compute uncertainties using those:\n",
    "\n",
    "1. We pull artificial observations from our data - with replacement.\n",
    "2. We draw as many observations as our data record is long. This record will now only include data points that we observed before, but some will show up several times, some not at all.\n",
    "3. We compute our statistics over this artifical record - just as we did to the record itself.\n",
    "4. We repeat this process many times.\n",
    "5. Thus we compute our statistics over many artificial records, which can give us an indication of the uncertainty.\n",
    "\n",
    "Remember, this only works under the assumption that our data is representative of the process - that we did not systematically miss something about the data. We cannot use this to estimate how hot it could get during noon if we only recorded the temperature at night. \n",
    "\n",
    "In this exercise, you may now:\n",
    "1. Define a function to calculate the empirical return period, then take 1000 resamples with replacement (each value could be sampled more than once) and plot the associated return level curves for each sample, together with the return period of the original data set."
   ]
  },
  {
   "cell_type": "code",
   "execution_count": null,
   "metadata": {
    "execution": {}
   },
   "outputs": [],
   "source": [
    "# define a function to calculate the empirical return period by using the code from the cells above.\n",
    "# add period and sorted to a dataframe as before\n",
    "def empirical_period(data):\n",
    "    ...\n",
    "\n",
    "    return df[['period','sorted']].set_index('period')['sorted']\n",
    "\n",
    "# setup figure\n",
    "fix,ax=plt.subplots()\n",
    "\n",
    "# create 1000 resamples of the data, with replacement set to tru.\n",
    "for i in range(1000):\n",
    "    ...\n",
    "\n",
    "# aesthetics\n",
    "ax.plot(precip_df['period'],precip_df['sorted'],'ko')\n",
    "ax.set_xlabel('Return Period (years)')\n",
    "ax.set_ylabel('Return Level (mm/day)')\n",
    "ax.set_xscale('log')"
   ]
  },
  {
   "cell_type": "code",
   "execution_count": null,
   "metadata": {
    "execution": {}
   },
   "outputs": [],
   "source": [
    "# to remove solution\n",
    "\n",
    "# define a function to calculate the empirical return period by using the code from the cells above.\n",
    "# add period and sorted to a dataframe as before\n",
    "def empirical_period(data):\n",
    "    df = pd.DataFrame(index=np.arange(data.size))\n",
    "    df['sorted'] = np.sort(data)[::-1]\n",
    "    df['ranks'] = np.arange(data.size)\n",
    "    df['ranks_sp'] = np.sort(stats.rankdata(-data))\n",
    "    n = data.size\n",
    "    P = df['ranks_sp']/(n+1)\n",
    "    df['exceedance'] = P\n",
    "    df['period'] = 1 / df['exceedance']\n",
    "\n",
    "    return df[['period','sorted']].set_index('period')['sorted']\n",
    "\n",
    "# setup figure\n",
    "fix,ax=plt.subplots()\n",
    "\n",
    "# create 1000 resamples of the data, with replacement set to tru.\n",
    "for i in range(1000):\n",
    "    empirical_period(\n",
    "        # select the randome sample with replacement and plot\n",
    "        np.random.choice(data.precipitation.values,size=data.precipitation.size,replace=True)\n",
    "        ).plot(style='C0-',alpha=0.1,ax=ax)\n",
    "\n",
    "# aesthetics\n",
    "ax.plot(precip_df['period'],precip_df['sorted'],'ko')\n",
    "ax.set_xlabel('Return Period (years)')\n",
    "ax.set_ylabel('Return Level (mm/day)')\n",
    "ax.set_xscale('log')"
   ]
  },
  {
   "attachments": {},
   "cell_type": "markdown",
   "metadata": {
    "execution": {}
   },
   "source": [
    "# **Summary**\n",
    "In this tutorial, you've explored how to calculate empirical return periods and visualized these using a return-level plot. You also considered the limitations of estimating extreme values based on a single data record."
   ]
  },
  {
   "attachments": {},
   "cell_type": "markdown",
   "metadata": {
    "execution": {}
   },
   "source": [
    "# **Resources**\n",
    "\n",
    "Data from this tutorial uses the 0.25 degree precipitation dataset E-OBS. It combines precipitation observations to generate a gridded (i.e. no \"holes\") precipitation over Europe. We used the precipitation data from the gridpoint at 51 N, 6 E. \n",
    "\n",
    "The dataset can be accessed using the KNMI Climate Explorer [here](https://climexp.knmi.nl/select.cgi?id=someone@somewhere&field=ensembles_025_rr). The Climate Explorer is a great resource to access, manipulate and visualize climate data, including observations and climate model simulations. It is freely accessible - feel free to explore!"
   ]
  }
 ],
 "metadata": {
  "colab": {
   "collapsed_sections": [],
   "include_colab_link": true,
   "name": "W2D4_Tutorial2",
   "provenance": [],
   "toc_visible": true
  },
  "kernel": {
   "display_name": "Python 3",
   "language": "python",
   "name": "python3"
  },
  "kernelspec": {
   "display_name": "climatematch",
   "language": "python",
   "name": "climatematch"
  },
  "language_info": {
   "codemirror_mode": {
    "name": "ipython",
    "version": 3
   },
   "file_extension": ".py",
   "mimetype": "text/x-python",
   "name": "python",
   "nbconvert_exporter": "python",
   "pygments_lexer": "ipython3",
   "version": "3.10.12"
  }
 },
 "nbformat": 4,
 "nbformat_minor": 4
}