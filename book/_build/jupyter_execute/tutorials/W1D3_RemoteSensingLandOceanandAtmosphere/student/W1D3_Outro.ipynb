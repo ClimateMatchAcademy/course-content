{
 "cells": [
  {
   "cell_type": "markdown",
   "id": "1a4babe0",
   "metadata": {
    "execution": {}
   },
   "source": [
    "# Outro"
   ]
  },
  {
   "cell_type": "markdown",
   "id": "efa01eb3",
   "metadata": {
    "execution": {}
   },
   "source": [
    "Now you understand what is satellite remote sensing and can access and analyze modern satellite data for climate applications. These skills and tools can be helpful in your project time if you are working on projects using satellite datasets. During next day, you will learn something quite different - paleoclimate, a critical component of the history of our climate system."
   ]
  }
 ],
 "metadata": {
  "colab": {
   "collapsed_sections": [],
   "include_colab_link": true,
   "name": "W1D3_Outro",
   "toc_visible": true
  },
  "kernel": {
   "display_name": "Python 3",
   "language": "python",
   "name": "python3"
  },
  "kernelspec": {
   "display_name": "Python 3 (ipykernel)",
   "language": "python",
   "name": "python3"
  },
  "language_info": {
   "codemirror_mode": {
    "name": "ipython",
    "version": 3
   },
   "file_extension": ".py",
   "mimetype": "text/x-python",
   "name": "python",
   "nbconvert_exporter": "python",
   "pygments_lexer": "ipython3",
   "version": "3.10.12"
  }
 },
 "nbformat": 4,
 "nbformat_minor": 5
}