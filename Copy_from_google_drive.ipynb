{
 "cells": [
  {
   "cell_type": "code",
   "execution_count": 7,
   "id": "931e6f03-32dd-4008-8432-7379ccf7b319",
   "metadata": {
    "tags": []
   },
   "outputs": [],
   "source": [
    "import os\n",
    "import re\n",
    "import shutil\n",
    "import glob\n",
    "from pathlib import Path"
   ]
  },
  {
   "cell_type": "code",
   "execution_count": 8,
   "id": "99931fe4-8637-4f43-997b-f08af2704490",
   "metadata": {
    "tags": []
   },
   "outputs": [],
   "source": [
    "files = glob.glob(os.environ['GDRIVE_NOTEBOOKS'] + \"/**/*\", recursive=True)"
   ]
  },
  {
   "cell_type": "code",
   "execution_count": 9,
   "id": "654ff02b-6fe5-41c9-9be6-74fbe49e1757",
   "metadata": {
    "tags": []
   },
   "outputs": [],
   "source": [
    "file_extensions = set([file.split(\".\")[-1] for file in files if os.path.isfile(file)])"
   ]
  },
  {
   "cell_type": "code",
   "execution_count": 10,
   "id": "0b952322-dfae-4f81-90fd-75dd5155547a",
   "metadata": {
    "tags": []
   },
   "outputs": [
    {
     "data": {
      "text/plain": [
       "{'csv',\n",
       " 'docx',\n",
       " 'gdoc',\n",
       " 'gif',\n",
       " 'gsheet',\n",
       " 'gslides',\n",
       " 'io/Shared drives/Academy/Courses/Climate/Climatematch/02-Curriculum/Climatematch Content Folder/W2D3 - Future Climate - IPCC II & III (Socio-Economic Basis) /W2D3 Tutorials/day8_tutorial5_sentiment_analysis_FILES NEEDED/stored_tweets',\n",
       " 'ipynb',\n",
       " 'jl',\n",
       " 'lpd',\n",
       " 'mkv',\n",
       " 'mp4',\n",
       " 'nc',\n",
       " 'npz',\n",
       " 'pdf',\n",
       " 'png',\n",
       " 'pptx',\n",
       " 'py',\n",
       " 'pyc',\n",
       " 'txt',\n",
       " 'vtt',\n",
       " 'xlsx',\n",
       " 'zip'}"
      ]
     },
     "execution_count": 10,
     "metadata": {},
     "output_type": "execute_result"
    }
   ],
   "source": [
    "file_extensions"
   ]
  },
  {
   "cell_type": "code",
   "execution_count": 22,
   "id": "d92f404e-9ee8-4004-805c-bf1882138535",
   "metadata": {
    "tags": []
   },
   "outputs": [
    {
     "data": {
      "text/plain": [
       "\u001b[0;31mSignature:\u001b[0m \u001b[0mshutil\u001b[0m\u001b[0;34m.\u001b[0m\u001b[0mcopy2\u001b[0m\u001b[0;34m(\u001b[0m\u001b[0msrc\u001b[0m\u001b[0;34m,\u001b[0m \u001b[0mdst\u001b[0m\u001b[0;34m,\u001b[0m \u001b[0;34m*\u001b[0m\u001b[0;34m,\u001b[0m \u001b[0mfollow_symlinks\u001b[0m\u001b[0;34m=\u001b[0m\u001b[0;32mTrue\u001b[0m\u001b[0;34m)\u001b[0m\u001b[0;34m\u001b[0m\u001b[0;34m\u001b[0m\u001b[0m\n",
       "\u001b[0;31mDocstring:\u001b[0m\n",
       "Copy data and metadata. Return the file's destination.\n",
       "\n",
       "Metadata is copied with copystat(). Please see the copystat function\n",
       "for more information.\n",
       "\n",
       "The destination may be a directory.\n",
       "\n",
       "If follow_symlinks is false, symlinks won't be followed. This\n",
       "resembles GNU's \"cp -P src dst\".\n",
       "\u001b[0;31mFile:\u001b[0m      ~/miniconda3/envs/rms-3.10/lib/python3.10/shutil.py\n",
       "\u001b[0;31mType:\u001b[0m      function\n"
      ]
     },
     "metadata": {},
     "output_type": "display_data"
    }
   ],
   "source": [
    "shutil.copy2?"
   ]
  },
  {
   "cell_type": "code",
   "execution_count": 40,
   "id": "c54db2de-8571-42e4-9842-eedb854eac74",
   "metadata": {
    "tags": []
   },
   "outputs": [
    {
     "name": "stdout",
     "output_type": "stream",
     "text": [
      "W1D5 - Climate Modeling\n",
      "W1D3 - Remote Sensing (Land, Ocean and Atmosphere) \n",
      "W1D1 - Climate System Overview\n",
      "W2D3 - Future Climate - IPCC II & III (Socio-Economic Basis) \n",
      "W2D2 - Projects Day \n",
      "W1D2 - State of the Climate (Ocean and Atmosphere Reanalysis) \n",
      "W2D1 - Future Climate - IPCC I (Physical Basis) \n",
      "W2D5 - Climate Response - Adaptation Impact \n",
      "W1D4 - Paleoclimate\n",
      "W2D4 - Climate Response - Extremes & Variability\n"
     ]
    }
   ],
   "source": [
    "gdrive_notebooks_path = os.environ['GDRIVE_NOTEBOOKS']\n",
    "\n",
    "\n",
    "bad_folders = []\n",
    "bad_files = []\n",
    "\n",
    "for day_folder in os.listdir(gdrive_notebooks_path):\n",
    "    if re.match(\"^W\\dD\\d\", day_folder) is not None:\n",
    "        print(day_folder)\n",
    "        new_folder_name = day_folder.replace(\" \", \"\")\n",
    "        try:\n",
    "            os.mkdir(os.path.join(\"tutorials\", new_folder_name))\n",
    "        except FileExistsError:\n",
    "            pass\n",
    "        tutorials_found = False\n",
    "        for tutorials_folder in os.listdir(os.path.join(gdrive_notebooks_path, day_folder)):\n",
    "            if re.match(\".*utorials\", tutorials_folder) is not None:\n",
    "                tutorials_found = True\n",
    "                for file in os.listdir(os.path.join(gdrive_notebooks_path, day_folder, tutorials_folder)):\n",
    "                    if file.endswith(\".ipynb\"):\n",
    "                        shutil.copy2(os.path.join(gdrive_notebooks_path, day_folder, tutorials_folder, file), os.path.join(\".\", \"tutorials\", new_folder_name, file))\n",
    "                    elif os.path.isdir(os.path.join(gdrive_notebooks_path, day_folder, tutorials_folder, file)): \n",
    "                        bad_folders.append((tutorials_folder, file))\n",
    "                        continue\n",
    "                    else:\n",
    "                        bad_files.append((tutorials_folder, file))\n",
    "\n",
    "        if not tutorials_found:\n",
    "            raise ValueError(f\"Missing tutorials {folder}\")"
   ]
  },
  {
   "cell_type": "code",
   "execution_count": 102,
   "id": "a5f55292-3606-4e6a-a517-1b82528ba062",
   "metadata": {
    "tags": []
   },
   "outputs": [],
   "source": [
    "def handle_w1d1(day_folder, new_folder):\n",
    "    folder_to_copy = os.path.join(gdrive_notebooks_path, day_folder, 'W1D1 Tutorials', 'Tutorials for Pre-Pod')\n",
    "    for file in os.listdir(folder_to_copy):\n",
    "        new_file_name = file.replace(\" \", \"\")\n",
    "        new_file_name = new_file_name[:4] + \"_\" + new_file_name[4:]\n",
    "        shutil.copy2(os.path.join(folder_to_copy, file), os.path.join(\"tutorials\", new_folder, new_file_name))\n",
    "        \n",
    "def handle_w1d2(day_folder, new_folder):\n",
    "    pass\n",
    "    \n",
    "def handle_w1d3(day_folder, new_folder):\n",
    "    folder_to_copy = os.path.join(gdrive_notebooks_path, day_folder, 'W1D3 Tutorials')\n",
    "    for file in os.listdir(folder_to_copy):\n",
    "        if file.endswith(\".ipynb\"):\n",
    "            new_file_name = \"W1D3_\" + file.replace(\"_\", \"\").replace(\"W1D3\", \"\")\n",
    "            shutil.copy2(os.path.join(folder_to_copy, file), os.path.join(\"tutorials\", new_folder, new_file_name))\n",
    "        elif file == \"asset\":\n",
    "            pass\n",
    "        \n",
    "def handle_w1d4(day_folder, new_folder):\n",
    "    folder_to_copy = os.path.join(gdrive_notebooks_path, day_folder, 'W1D4 Tutorials')\n",
    "    for file in os.listdir(folder_to_copy):\n",
    "        if file.endswith(\".ipynb\"):\n",
    "            new_file_name = \"W1D4_\" + file[:file.find(\"(\")-1].replace(\" #\", \"\") + \".ipynb\"\n",
    "            shutil.copy2(os.path.join(folder_to_copy, file), os.path.join(\"tutorials\", new_folder, new_file_name))\n",
    "        elif file == \"data\":\n",
    "            pass\n",
    "        \n",
    "def handle_w2d3(day_folder, new_folder):\n",
    "    \"feasible\"\n",
    "    pass"
   ]
  },
  {
   "cell_type": "code",
   "execution_count": 109,
   "id": "3e557f00-496e-4117-b9dc-c74b8e5e9f84",
   "metadata": {
    "tags": []
   },
   "outputs": [],
   "source": [
    "for day_folder in os.listdir(gdrive_notebooks_path):\n",
    "    if re.match(\"^W\\dD\\d\", day_folder) is not None:\n",
    "        new_folder_name = day_folder.replace(\" \", \"\").replace(\"(\", \"\").replace(\")\",\"\")\n",
    "        new_folder_name = new_folder_name[:4] + \"_\" + new_folder_name[5:]\n",
    "        try:\n",
    "            os.mkdir(os.path.join(\"tutorials\", new_folder_name))\n",
    "        except FileExistsError:\n",
    "            pass\n",
    "    Path(f'tutorials/{new_folder_name}/further_reading.md').touch()\n",
    "    if day_folder.startswith(\"W1D1\"):\n",
    "        handle_w1d1(day_folder, new_folder_name)\n",
    "    elif day_folder.startswith(\"W1D2\"):\n",
    "        handle_w1d2(day_folder, new_folder_name)\n",
    "    elif day_folder.startswith(\"W1D3\"):\n",
    "        handle_w1d3(day_folder, new_folder_name)\n",
    "    elif day_folder.startswith(\"W1D4\"):\n",
    "        handle_w1d4(day_folder, new_folder_name)"
   ]
  },
  {
   "cell_type": "code",
   "execution_count": 97,
   "id": "f76d8e4d-52c2-4007-877f-eb3463a8bb7e",
   "metadata": {
    "tags": []
   },
   "outputs": [
    {
     "data": {
      "text/plain": [
       "'W2D4_ClimateResponse-Extremes&Variability'"
      ]
     },
     "execution_count": 97,
     "metadata": {},
     "output_type": "execute_result"
    }
   ],
   "source": [
    "new_folder_name[:4] + \"_\" + new_folder_name[5:]"
   ]
  },
  {
   "cell_type": "code",
   "execution_count": 84,
   "id": "b8a2c02a-cbe4-41c1-bafe-a0c20912b7d2",
   "metadata": {
    "tags": []
   },
   "outputs": [
    {
     "data": {
      "text/plain": [
       "'www('"
      ]
     },
     "execution_count": 84,
     "metadata": {},
     "output_type": "execute_result"
    }
   ],
   "source": [
    "\"www(\"[:4]"
   ]
  },
  {
   "cell_type": "code",
   "execution_count": null,
   "id": "1212b7c1-1bb5-41a0-952a-ba95bd90c0f0",
   "metadata": {},
   "outputs": [],
   "source": []
  },
  {
   "cell_type": "code",
   "execution_count": 35,
   "id": "25e15b91-7cd9-46b7-92be-300a5fd4010a",
   "metadata": {
    "tags": []
   },
   "outputs": [
    {
     "data": {
      "text/plain": [
       "<re.Match object; span=(0, 4), match='W1D1'>"
      ]
     },
     "execution_count": 35,
     "metadata": {},
     "output_type": "execute_result"
    }
   ],
   "source": [
    "import re\n",
    "re.match(\"W\\dD\\d\", \"W1D1\")"
   ]
  },
  {
   "cell_type": "code",
   "execution_count": 12,
   "id": "9c129676-369e-485f-9cec-2e7c38032f24",
   "metadata": {
    "tags": []
   },
   "outputs": [],
   "source": [
    "file_extensions_to_keep = set({'py', 'ipynb'})"
   ]
  },
  {
   "cell_type": "code",
   "execution_count": 28,
   "id": "42eca46c-ac3c-46e5-bc4c-b84e4adb8dfa",
   "metadata": {
    "tags": []
   },
   "outputs": [
    {
     "name": "stdout",
     "output_type": "stream",
     "text": [
      "tutorials/Notebook Template.ipynb\n",
      "tutorials/W1D3 - Remote Sensing (Land, Ocean and Atmosphere) /W1D3 Tutorials/Tutorial_6_W1D3.ipynb\n",
      "tutorials/W1D3 - Remote Sensing (Land, Ocean and Atmosphere) /W1D3 Tutorials/Tutorial_3_W1D3.ipynb\n",
      "tutorials/W1D3 - Remote Sensing (Land, Ocean and Atmosphere) /W1D3 Tutorials/Tutorial_4_W1D3.ipynb\n",
      "tutorials/W1D3 - Remote Sensing (Land, Ocean and Atmosphere) /W1D3 Tutorials/Tutorial_1_W1D3.ipynb\n",
      "tutorials/W1D3 - Remote Sensing (Land, Ocean and Atmosphere) /W1D3 Tutorials/Tutorial_2_W1D3.ipynb\n",
      "tutorials/W1D3 - Remote Sensing (Land, Ocean and Atmosphere) /W1D3 Tutorials/Tutorial_7_W1D3.ipynb\n",
      "tutorials/W1D3 - Remote Sensing (Land, Ocean and Atmosphere) /W1D3 Tutorials/Tutorial_8_W1D3.ipynb\n",
      "tutorials/W1D3 - Remote Sensing (Land, Ocean and Atmosphere) /W1D3 Tutorials/Tutorial_5_W1D3.ipynb\n",
      "tutorials/W1D1 - Climate System Overview/W1D1 Tutorials/W1D1 Tutorials 1-3-reviewed.ipynb\n",
      "tutorials/W1D1 - Climate System Overview/W1D1 Tutorials/W1D1_Tutorials_4_9-reviewed.ipynb\n",
      "tutorials/W1D1 - Climate System Overview/W1D1 Tutorials/computation-masking.ipynb\n",
      "tutorials/W1D1 - Climate System Overview/W1D1 Tutorials/xarray-intro.ipynb\n",
      "tutorials/W1D1 - Climate System Overview/W1D1 Tutorials/OLD VERSIONS/W1D1 Tutorials 1-3.ipynb\n",
      "tutorials/W1D1 - Climate System Overview/W1D1 Tutorials/OLD VERSIONS/W1D1 Tutorials 4-9.ipynb\n",
      "tutorials/W1D1 - Climate System Overview/W1D1 Tutorials/OLD VERSIONS/Untitled0.ipynb\n",
      "tutorials/W1D1 - Climate System Overview/W1D1 Tutorials/OLD VERSIONS/OLD VERSION - W1D4 All Tutorials.ipynb\n",
      "tutorials/W1D1 - Climate System Overview/W1D1 Tutorials/OLD VERSIONS/OLD VERSION - Tutorial #5 (W1D1).ipynb\n",
      "tutorials/W1D1 - Climate System Overview/W1D1 Tutorials/Tutorials for Pre-Pod/W1D1 Tutorial 9.ipynb\n",
      "tutorials/W1D1 - Climate System Overview/W1D1 Tutorials/Tutorials for Pre-Pod/W1D1 Tutorial 8.ipynb\n",
      "tutorials/W1D1 - Climate System Overview/W1D1 Tutorials/Tutorials for Pre-Pod/W1D1 Tutorial 4.ipynb\n",
      "tutorials/W1D1 - Climate System Overview/W1D1 Tutorials/Tutorials for Pre-Pod/W1D1 Tutorial 6.ipynb\n",
      "tutorials/W1D1 - Climate System Overview/W1D1 Tutorials/Tutorials for Pre-Pod/W1D1 Tutorial 2.ipynb\n",
      "tutorials/W1D1 - Climate System Overview/W1D1 Tutorials/Tutorials for Pre-Pod/W1D1 Tutorial 7.ipynb\n",
      "tutorials/W1D1 - Climate System Overview/W1D1 Tutorials/Tutorials for Pre-Pod/W1D1 Tutorial 5.ipynb\n",
      "tutorials/W1D1 - Climate System Overview/W1D1 Tutorials/Tutorials for Pre-Pod/W1D1 Tutorial 1.ipynb\n",
      "tutorials/W1D1 - Climate System Overview/W1D1 Tutorials/Tutorials for Pre-Pod/W1D1 Tutorial 3.ipynb\n",
      "tutorials/W2D3 - Future Climate - IPCC II & III (Socio-Economic Basis) /W2D3 Tutorials/day8_tutorial5_sentiment_analysis_FILES NEEDED/day8_tutorial5_sentiment_analysis-REVIEWed.ipynb\n",
      "tutorials/W2D3 - Future Climate - IPCC II & III (Socio-Economic Basis) /W2D3 Tutorials/day8_tutorial5_sentiment_analysis_FILES NEEDED/day8_tutorial5_sentiment_analysis.ipynb\n",
      "tutorials/W2D3 - Future Climate - IPCC II & III (Socio-Economic Basis) /W2D3 Tutorials/day8_tutorial3_IAMs/tutorial3_IAMs - REVIEWED.ipynb\n",
      "tutorials/W2D3 - Future Climate - IPCC II & III (Socio-Economic Basis) /W2D3 Tutorials/day8_tutorial3_IAMs/tutorial3_IAMs.ipynb\n",
      "tutorials/W2D3 - Future Climate - IPCC II & III (Socio-Economic Basis) /W2D3 Tutorials/waste/tutorial_1_limits_of_growth - REVIEWED.ipynb\n",
      "tutorials/W2D3 - Future Climate - IPCC II & III (Socio-Economic Basis) /W2D3 Tutorials/day8_tutorial1_limits_to_growth/tutorial_1_limits_of_growth.ipynb\n",
      "tutorials/W2D2 - Projects Day /Good Research Practices 1-4.ipynb\n",
      "tutorials/W2D2 - Projects Day /Good Research Practices 5-8.ipynb\n",
      "tutorials/W1D2 - State of the Climate (Ocean and Atmosphere Reanalysis) /W1D2 Tutorials /Tutorial6_new.ipynb\n",
      "tutorials/W1D2 - State of the Climate (Ocean and Atmosphere Reanalysis) /W1D2 Tutorials /Tutorial #1 (W1D2).ipynb\n",
      "tutorials/W1D2 - State of the Climate (Ocean and Atmosphere Reanalysis) /W1D2 Tutorials /Tutorial7_new.ipynb\n",
      "tutorials/W1D2 - State of the Climate (Ocean and Atmosphere Reanalysis) /W1D2 Tutorials /Process_Data_tut7.ipynb\n",
      "tutorials/W1D2 - State of the Climate (Ocean and Atmosphere Reanalysis) /W1D2 Tutorials /Tutorial 4 global_winds.ipynb\n",
      "tutorials/W1D2 - State of the Climate (Ocean and Atmosphere Reanalysis) /W1D2 Tutorials /Tutorial_1_enso-xarray-reviewed.ipynb\n",
      "tutorials/W1D2 - State of the Climate (Ocean and Atmosphere Reanalysis) /W1D2 Tutorials /Tutorial_1_enso-xarray.ipynb\n",
      "tutorials/W1D2 - State of the Climate (Ocean and Atmosphere Reanalysis) /W1D2 Tutorials /Process_Data_tut6.ipynb\n",
      "tutorials/W1D2 - State of the Climate (Ocean and Atmosphere Reanalysis) /W1D2 Tutorials /Tutorial 3 - ERA5 Intro (2).ipynb\n",
      "tutorials/W2D1 - Future Climate - IPCC I (Physical Basis) /W2D1 Tutorials/OLD_copy of W2D1_Tutorial_Draft.ipynb\n",
      "tutorials/W2D1 - Future Climate - IPCC I (Physical Basis) /W2D1 Tutorials/W2D1_Tutorial_Draft.ipynb\n",
      "tutorials/W2D1 - Future Climate - IPCC I (Physical Basis) /W2D1 Tutorials/OLD_IPCC_Future_Climate_Tutorials_draft.ipynb\n",
      "tutorials/W2D1 - Future Climate - IPCC I (Physical Basis) /W2D1 Tutorials/W2D1_Tutorial_Draft - Ohad messing about.ipynb\n",
      "tutorials/W2D1 - Future Climate - IPCC I (Physical Basis) /W2D1 Tutorials/Tutorials for Pre-Pod (Sloane)/Copy of Copy of W2D1_Tutorial_Draft.ipynb\n",
      "tutorials/W2D1 - Future Climate - IPCC I (Physical Basis) /W2D1 Tutorials/Tutorials for Pre-Pod (Sloane)/Copy of Copy of Copy of Copy of Copy of Copy of W2D1_Tutorial_Draft.ipynb\n",
      "tutorials/W2D1 - Future Climate - IPCC I (Physical Basis) /W2D1 Tutorials/Tutorials for Pre-Pod (Sloane)/Copy of Copy of Copy of W2D1_Tutorial_Draft.ipynb\n",
      "tutorials/W2D1 - Future Climate - IPCC I (Physical Basis) /W2D1 Tutorials/Tutorials for Pre-Pod (Sloane)/Copy of Copy of Copy of Copy of W2D1_Tutorial_Draft.ipynb\n",
      "tutorials/W2D1 - Future Climate - IPCC I (Physical Basis) /W2D1 Tutorials/Tutorials for Pre-Pod (Sloane)/Copy of Copy of Copy of Copy of Copy of W2D1_Tutorial_Draft.ipynb\n",
      "tutorials/W2D1 - Future Climate - IPCC I (Physical Basis) /W2D1 Tutorials/Tutorials for Pre-Pod (Sloane)/W2D1 Tutorial 1.ipynb\n",
      "tutorials/W2D1 - Future Climate - IPCC I (Physical Basis) /W2D1 Tutorials/Testing/W2D1_Tutorials_draft.ipynb\n",
      "tutorials/W2D1 - Future Climate - IPCC I (Physical Basis) /W2D1 Tutorials/Code_for_Patrick/Notebook_for_Project_Patrick.ipynb\n",
      "tutorials/W2D5 - Climate Response - Adaptation Impact /W2D5 Tutorials/W2D5 Tutorial 3 - Dengue Fever Data Set - reviewed.ipynb\n",
      "tutorials/W2D5 - Climate Response - Adaptation Impact /W2D5 Tutorials/W2D5 Tutorial 4 - Dengue Fever Regression.ipynb\n",
      "tutorials/W2D5 - Climate Response - Adaptation Impact /W2D5 Tutorials/W2D5 Tutorial 3 - Dengue Fever Data Set.ipynb\n",
      "tutorials/W2D5 - Climate Response - Adaptation Impact /W2D5 Tutorials/W2D5 Tutorial 4 - Dengue Fever Regression - reviewer.ipynb\n",
      "tutorials/W2D5 - Climate Response - Adaptation Impact /W2D5 Tutorials/W2D5 Tutorial 7 - Logistic Regression on Crops Data.ipynb\n",
      "tutorials/W2D5 - Climate Response - Adaptation Impact /W2D5 Tutorials/W2D5 Tutorial 6 - Remote sensing crops dataset - reviewer.ipynb\n",
      "tutorials/W2D5 - Climate Response - Adaptation Impact /W2D5 Tutorials/W2D5 Tutorial 1 - Linear Regression.ipynb\n",
      "tutorials/W2D5 - Climate Response - Adaptation Impact /W2D5 Tutorials/W2D5 Tutorial 5 - Decision Trees - reviewer.ipynb\n",
      "tutorials/W2D5 - Climate Response - Adaptation Impact /W2D5 Tutorials/W2D5 Tutorial 2 - Logistic Regression.ipynb\n",
      "tutorials/W2D5 - Climate Response - Adaptation Impact /W2D5 Tutorials/W2D5 Tutorial 7 - Logistic Regression on Crops Data - reviewer.ipynb\n",
      "tutorials/W2D5 - Climate Response - Adaptation Impact /W2D5 Tutorials/W2D5 Tutorial 6 - Remote Sensing Crops Dataset.ipynb\n",
      "tutorials/W2D5 - Climate Response - Adaptation Impact /W2D5 Tutorials/W2D5 Tutorial 8 - Artificial Neural Networks on Crops Data - reviewer.ipynb\n",
      "tutorials/W2D5 - Climate Response - Adaptation Impact /W2D5 Tutorials/W2D5 Tutorial 9 - Identifying Applications - reviewer.ipynb\n",
      "tutorials/W2D5 - Climate Response - Adaptation Impact /W2D5 Tutorials/W2D5 Tutorial 9 - Identifying Applications.ipynb\n",
      "tutorials/W2D5 - Climate Response - Adaptation Impact /W2D5 Tutorials/W2D5 Tutorial 8 - Artificial Neural Networks on Crops Data.ipynb\n",
      "tutorials/W2D5 - Climate Response - Adaptation Impact /W2D5 Tutorials/W2D5 Tutorial 5 - Decision Trees on Dengue data.ipynb\n",
      "tutorials/W2D5 - Climate Response - Adaptation Impact /W2D5 Tutorials/old_versions_dont_use/W2D5 Tutorial 4 - Dengue Fever Regression.ipynb\n",
      "tutorials/W2D5 - Climate Response - Adaptation Impact /W2D5 Tutorials/old_versions_dont_use/W2D5 Tutorial 3 - Dengue Fever Data Set.ipynb\n",
      "tutorials/W2D5 - Climate Response - Adaptation Impact /W2D5 Tutorials/old_versions_dont_use/W2D5 Tutorial 1 - Linear Regression.ipynb\n",
      "tutorials/W2D5 - Climate Response - Adaptation Impact /W2D5 Tutorials/old_versions_dont_use/W2D5 Tutorial 1 - Linear Regression-Reviewed.ipynb\n",
      "tutorials/W2D5 - Climate Response - Adaptation Impact /W2D5 Tutorials/old_versions_dont_use/W2D5 Tutorial 2 - Logistic Regression.ipynb\n",
      "tutorials/W2D5 - Climate Response - Adaptation Impact /W2D5 Tutorials/old_versions_dont_use/W2D5 Tutorial 5 - Decision Trees.ipynb\n",
      "tutorials/W2D5 - Climate Response - Adaptation Impact /W2D5 Tutorials/old_versions_dont_use/W2D5 Tutorial 6 - Remote sensing crops dataset.ipynb\n",
      "tutorials/W1D4 - Paleoclimate/W1D4 Tutorials/Tutorial #7 (W1D4)-Sloane-Revisions.ipynb\n",
      "tutorials/W1D4 - Paleoclimate/W1D4 Tutorials/Tutorial #5 (W1D4)-reviewed.ipynb\n",
      "tutorials/W1D4 - Paleoclimate/W1D4 Tutorials/Tutorial #8 (W1D4)-reviewed.ipynb\n",
      "tutorials/W1D4 - Paleoclimate/W1D4 Tutorials/Tutorial #1 (W1D4) - WORKING.ipynb\n",
      "tutorials/W1D4 - Paleoclimate/W1D4 Tutorials/Tutorial #9 (W1D4).ipynb\n",
      "tutorials/W1D4 - Paleoclimate/W1D4 Tutorials/Tutorial #6 (W1D4)-reviewed.ipynb\n",
      "tutorials/W1D4 - Paleoclimate/W1D4 Tutorials/Tutorial #3 (W1D4).ipynb\n",
      "tutorials/W1D4 - Paleoclimate/W1D4 Tutorials/Tutorial #4 (W1D4)-reviewed.ipynb\n",
      "tutorials/W1D4 - Paleoclimate/W1D4 Tutorials/Tutorial #2 (W1D4).ipynb\n",
      "tutorials/W1D4 - Paleoclimate/W1D4 Tutorials/Old Versions/Copy of Tutorial #3 (W1D4).ipynb\n",
      "tutorials/W1D4 - Paleoclimate/W1D4 Tutorials/Old Versions/Tutorial_2_(W1D4) - Reviewed.ipynb\n",
      "tutorials/W1D4 - Paleoclimate/W1D4 Tutorials/Old Versions/Tutorial #1 (W1D4)-reviewed.ipynb\n",
      "tutorials/W1D4 - Paleoclimate/W1D4 Tutorials/Old Versions/Tutorial #6 (W1D4).ipynb\n",
      "tutorials/W1D4 - Paleoclimate/W1D4 Tutorials/Old Versions/Tutorial #7 (W1D4)-reviewed (1).ipynb\n",
      "tutorials/W1D4 - Paleoclimate/W1D4 Tutorials/Old Versions/Tutorial #7 (W1D4)-reviewed.ipynb\n",
      "tutorials/W1D4 - Paleoclimate/W1D4 Tutorials/Old Versions/Copy of Tutorial #8 (W1D4).ipynb\n",
      "tutorials/W1D4 - Paleoclimate/W1D4 Tutorials/Old Versions/Copy of Tutorial #2 TEST.ipynb\n",
      "tutorials/W1D4 - Paleoclimate/W1D4 Tutorials/Old Versions/Tutorial #8 (W1D4).ipynb\n",
      "tutorials/W1D4 - Paleoclimate/W1D4 Tutorials/Old Versions/Old Tutorial 1.ipynb\n",
      "tutorials/W1D4 - Paleoclimate/W1D4 Tutorials/Old Versions/Tutorial #2 TEST.ipynb\n",
      "tutorials/W1D4 - Paleoclimate/W1D4 Tutorials/Old Versions/Tutorial 9 Extra Cells.ipynb\n",
      "tutorials/W1D4 - Paleoclimate/W1D4 Tutorials/Old Versions/Tutorial #8 (W1D4) (1).ipynb\n",
      "tutorials/W1D4 - Paleoclimate/W1D4 Tutorials/Old Versions/Tutorial #4 (W1D4).ipynb\n",
      "tutorials/W1D4 - Paleoclimate/W1D4 Tutorials/Old Versions/Copy of Tutorial #1 (W1D4).ipynb\n",
      "tutorials/W1D4 - Paleoclimate/W1D4 Tutorials/Old Versions/Tutorial #5 (W1D4).ipynb\n",
      "tutorials/W2D4 - Climate Response - Extremes & Variability/W2D4 Tutorials/tutorial_8.ipynb\n",
      "tutorials/W2D4 - Climate Response - Extremes & Variability/W2D4 Tutorials/tutorial_1_Review.ipynb\n",
      "tutorials/W2D4 - Climate Response - Extremes & Variability/W2D4 Tutorials/tutorial_2-Review.ipynb\n",
      "tutorials/W2D4 - Climate Response - Extremes & Variability/W2D4 Tutorials/tutorial_1.ipynb\n",
      "tutorials/W2D4 - Climate Response - Extremes & Variability/W2D4 Tutorials/tutorial_3-reviewed.ipynb\n",
      "tutorials/W2D4 - Climate Response - Extremes & Variability/W2D4 Tutorials/tutorial_3.ipynb\n",
      "tutorials/W2D4 - Climate Response - Extremes & Variability/W2D4 Tutorials/extremes_functions.py\n",
      "tutorials/W2D4 - Climate Response - Extremes & Variability/W2D4 Tutorials/tutorial_7.ipynb\n",
      "tutorials/W2D4 - Climate Response - Extremes & Variability/W2D4 Tutorials/tutorial_5.ipynb\n",
      "tutorials/W2D4 - Climate Response - Extremes & Variability/W2D4 Tutorials/tutorial_2.ipynb\n",
      "tutorials/W2D4 - Climate Response - Extremes & Variability/W2D4 Tutorials/tutorial_6-reviewed.ipynb\n",
      "tutorials/W2D4 - Climate Response - Extremes & Variability/W2D4 Tutorials/tutorial_4.ipynb\n",
      "tutorials/W2D4 - Climate Response - Extremes & Variability/W2D4 Tutorials/tutorial_6.ipynb\n",
      "tutorials/W1D5-Climate Modeling/W1D5 Tutorials/blackbody_curves.ipynb\n",
      "tutorials/W1D5-Climate Modeling/W1D5 Tutorials/W1D5_Tutorial_5.ipynb\n",
      "tutorials/W1D5-Climate Modeling/W1D5 Tutorials/W1D5_Tutorial_3.ipynb\n",
      "tutorials/W1D5-Climate Modeling/W1D5 Tutorials/W1D5_Tutorial_1.ipynb\n",
      "tutorials/W1D5-Climate Modeling/W1D5 Tutorials/W1D5_Tutorial_6.ipynb\n",
      "tutorials/W1D5-Climate Modeling/W1D5 Tutorials/W1D5_Tutorial_4.ipynb\n",
      "tutorials/W1D5-Climate Modeling/W1D5 Tutorials/W1D5_Tutorial_2.ipynb\n",
      "tutorials/W1D5-Climate Modeling/W1D5 Tutorials/waste/Old Copy of Not_Ready_Tutorial #3.ipynb\n",
      "tutorials/W1D5-Climate Modeling/W1D5 Tutorials/waste/Untitled0.ipynb\n",
      "tutorials/W1D5-Climate Modeling/W1D5 Tutorials/waste/Copy of Not_Ready_Tutorial # 6.ipynb\n"
     ]
    }
   ],
   "source": [
    "for file in files:\n",
    "    if file.split(\".\")[-1] in file_extensions_to_keep:\n",
    "        relative_path = Path(file).relative_to(Path(os.environ['GDRIVE_NOTEBOOKS']))\n",
    "        print(os.path.join(\"tutorials\", relative_path))"
   ]
  },
  {
   "cell_type": "code",
   "execution_count": 22,
   "id": "bcc2eeca-1469-4063-8216-60a7057274c4",
   "metadata": {
    "tags": []
   },
   "outputs": [],
   "source": []
  },
  {
   "cell_type": "code",
   "execution_count": 25,
   "id": "acd11c5b-fb78-4323-8520-d1fba5edfd20",
   "metadata": {
    "tags": []
   },
   "outputs": [
    {
     "data": {
      "text/plain": [
       "PosixPath('Notebook Template.ipynb')"
      ]
     },
     "execution_count": 25,
     "metadata": {},
     "output_type": "execute_result"
    }
   ],
   "source": [
    "Path(file).relative_to(Path(os.environ['GDRIVE_NOTEBOOKS']))"
   ]
  },
  {
   "cell_type": "code",
   "execution_count": 21,
   "id": "ca65c97c-583e-42ff-9101-14406a961ad3",
   "metadata": {
    "tags": []
   },
   "outputs": [
    {
     "data": {
      "text/plain": [
       "'/Users/wesleybanfield/Library/CloudStorage/GoogleDrive-wesley.banfield@climatematch.io/Shared drives/Academy/Courses/Climate/Climatematch/02-Curriculum/Climatematch Content Folder'"
      ]
     },
     "execution_count": 21,
     "metadata": {},
     "output_type": "execute_result"
    }
   ],
   "source": [
    "os.path.commonpath((os.environ['GDRIVE_NOTEBOOKS'], file))"
   ]
  },
  {
   "cell_type": "code",
   "execution_count": 17,
   "id": "936f5804-93c4-49df-adb9-d5c3a691ca4d",
   "metadata": {
    "tags": []
   },
   "outputs": [
    {
     "data": {
      "text/plain": [
       "'/Users/wesleybanfield/Library/CloudStorage/GoogleDrive-wesley.banfield@climatematch.io/Shared drives/Academy/Courses/Climate/Climatematch/02-Curriculum/Climatematch Content Folder'"
      ]
     },
     "execution_count": 17,
     "metadata": {},
     "output_type": "execute_result"
    }
   ],
   "source": [
    "os.environ['GDRIVE_NOTEBOOKS']"
   ]
  },
  {
   "cell_type": "code",
   "execution_count": null,
   "id": "e59aa70c-183e-4513-a770-a35eb6523ff7",
   "metadata": {},
   "outputs": [],
   "source": []
  }
 ],
 "metadata": {
  "kernelspec": {
   "display_name": "Python 3 (ipykernel)",
   "language": "python",
   "name": "python3"
  },
  "language_info": {
   "codemirror_mode": {
    "name": "ipython",
    "version": 3
   },
   "file_extension": ".py",
   "mimetype": "text/x-python",
   "name": "python",
   "nbconvert_exporter": "python",
   "pygments_lexer": "ipython3",
   "version": "3.10.9"
  }
 },
 "nbformat": 4,
 "nbformat_minor": 5
}
