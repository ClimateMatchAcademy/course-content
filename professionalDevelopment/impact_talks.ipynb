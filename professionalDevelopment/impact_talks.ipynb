<<<<<<< HEAD
{
 "cells": [
  {
   "cell_type": "markdown",
   "metadata": {
    "execution": {}
   },
   "source": [
    "# **Impact Talks**\n",
    "\n",
    "\n",
    "Soon you will find information about our four Impact Talks here\n",
   ]
  },
]
}
=======
{
 "cells": [
  {
   "attachments": {},
   "cell_type": "markdown",
   "metadata": {},
   "source": [
    "# Impact Talks\n",
    "\n",
    "Soon you will find information about our four Impact Talks here"
   ]
  }
 ],
 "metadata": {
  "language_info": {
   "name": "python"
  },
  "orig_nbformat": 4
 },
 "nbformat": 4,
 "nbformat_minor": 2
}
>>>>>>> 82e2cd9 (changing impact_talks from md to ipynb)
