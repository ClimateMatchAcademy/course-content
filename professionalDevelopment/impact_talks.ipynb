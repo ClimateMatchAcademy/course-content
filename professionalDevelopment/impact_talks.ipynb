{
 "cells": [
  {
   "attachments": {},
   "cell_type": "markdown",
   "metadata": {},
   "source": [
    "# Impact Talks\n",
    "\n",
    "Soon you will find information about our four Impact Talks here"
   ]
  }
 ],
 "metadata": {
  "language_info": {
   "name": "python"
  },
  "orig_nbformat": 4
 },
 "nbformat": 4,
 "nbformat_minor": 2
}
