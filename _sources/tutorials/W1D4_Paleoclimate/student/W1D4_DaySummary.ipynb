{
 "cells": [
  {
   "cell_type": "markdown",
   "id": "acddf042",
   "metadata": {},
   "source": [
    "# Day Summary"
   ]
  },
  {
   "cell_type": "markdown",
   "id": "12617137",
   "metadata": {},
   "source": [
    "In the tutorials today, you explored multiple paleoclimate reconstructions based on various proxies. You further applied computational tools for assessing past changes in Earth’s climate and interpreting climate forcings. Finally, you compared paleoclimate proxies and paleoclimate data from model simulations of past climate to further understand global climate variability on different timescales. Using these paleoclimate proxies and tools to better understand past climate on Earth can help to assess future changes in the climate system. \n"
   ]
  }
 ],
 "metadata": {
  "kernelspec": {
   "display_name": "Python 3 (ipykernel)",
   "language": "python",
   "name": "python3"
  },
  "language_info": {
   "codemirror_mode": {
    "name": "ipython",
    "version": 3
   },
   "file_extension": ".py",
   "mimetype": "text/x-python",
   "name": "python",
   "nbconvert_exporter": "python",
   "pygments_lexer": "ipython3",
   "version": "3.10.8"
  }
 },
 "nbformat": 4,
 "nbformat_minor": 5
}