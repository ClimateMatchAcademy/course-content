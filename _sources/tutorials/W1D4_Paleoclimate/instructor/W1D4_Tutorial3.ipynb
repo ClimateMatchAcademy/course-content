{
 "cells": [
  {
   "attachments": {},
   "cell_type": "markdown",
   "metadata": {
    "execution": {}
   },
   "source": [
    "[![Open In Colab](https://colab.research.google.com/assets/colab-badge.svg)](https://colab.research.google.com/github/ClimateMatchAcademy/course-content/blob/main/tutorials/W1D4_Paleoclimate/instructor/W1D4_Tutorial3.ipynb)   <a href=\"https://kaggle.com/kernels/welcome?src=https://raw.githubusercontent.com/{ORG}/course-content/main/tutorials/W1D4_Paleoclimate/instructor/W1D4_Tutorial3.ipynb\" target=\"_blank\"><img alt=\"Open in Kaggle\" src=\"https://kaggle.com/static/images/open-in-kaggle.svg\"/></a>"
   ]
  },
  {
   "attachments": {},
   "cell_type": "markdown",
   "metadata": {
    "execution": {}
   },
   "source": [
    "# **Tutorial 3: Reconstructing Past Changes in Terrestrial Climate**\n",
    "**Week 1, Day 4, Paleoclimate**\n",
    "\n",
    "**Content creators:** Sloane Garelick\n",
    "\n",
    "**Content reviewers:** Yosmely Bermúdez, Dionessa Biton, Katrina Dobson, Maria Gonzalez, Will Gregory, Nahid Hasan, Sherry Mi, Beatriz Cosenza Muralles, Brodie Pearson, Jenna Pearson, Chi Zhang, Ohad Zivan \n",
    "\n",
    "**Content editors:** Yosmely Bermúdez, Zahra Khodakaramimaghsoud, Jenna Pearson, Agustina Pesce, Chi Zhang, Ohad Zivan\n",
    "\n",
    "**Production editors:** Wesley Banfield, Jenna Pearson, Chi Zhang, Ohad Zivan\n",
    "\n",
    "**Our 2023 Sponsors:** NASA TOPS and Google DeepMind"
   ]
  },
  {
   "attachments": {},
   "cell_type": "markdown",
   "metadata": {
    "execution": {}
   },
   "source": [
    "# **Tutorial Objectives**\n",
    "\n",
    "In this tutorial, we’ll explore the Euro2K proxy network, which is a subset of PAGES2K, the database we explored in the first tutorial. We will specifically focus on interpreting temperature change over the past 2,000 years as recorded by proxy records from tree rings, speleothems, and lake sediments. To analyze these datasets, we will group them by archive and create time series plots to assess temperature variations.\n",
    "\n",
    "During this tutorial you will:\n",
    "\n",
    "*   Plot temperature records based on three different terrestrial proxies\n",
    "*   Assess similarities and differences between the temperature records\n",
    "\n",
    "\n",
    "\n",
    "\n"
   ]
  },
  {
   "attachments": {},
   "cell_type": "markdown",
   "metadata": {
    "execution": {}
   },
   "source": [
    "# Setup"
   ]
  },
  {
   "cell_type": "code",
   "execution_count": null,
   "metadata": {
    "execution": {}
   },
   "outputs": [],
   "source": [
    "# imports\n",
    "import pyleoclim as pyleo\n",
    "import pandas as pd\n",
    "import numpy as np\n",
    "import os\n",
    "import pooch\n",
    "import tempfile\n",
    "import matplotlib.pyplot as plt\n",
    "import cartopy\n",
    "import cartopy.crs as ccrs\n",
    "import cartopy.feature as cfeature"
   ]
  },
  {
   "cell_type": "markdown",
   "metadata": {},
   "source": [
    "##  Video 1: Speaker Introduction\n"
   ]
  },
  {
   "cell_type": "code",
   "execution_count": null,
   "metadata": {
    "cellView": "form",
    "execution": {},
    "tags": [
     "hide-input"
    ]
   },
   "outputs": [],
   "source": [
    "# @title Video 1: Speaker Introduction\n",
    "# Tech team will add code to format and display the video"
   ]
  },
  {
   "cell_type": "code",
   "execution_count": null,
   "metadata": {
    "execution": {}
   },
   "outputs": [],
   "source": [
    "# helper functions\n",
    "\n",
    "\n",
    "def pooch_load(filelocation=None, filename=None, processor=None):\n",
    "    shared_location = \"/home/jovyan/shared/Data/tutorials/W1D4_Paleoclimate\"  # this is different for each day\n",
    "    user_temp_cache = tempfile.gettempdir()\n",
    "\n",
    "    if os.path.exists(os.path.join(shared_location, filename)):\n",
    "        file = os.path.join(shared_location, filename)\n",
    "    else:\n",
    "        file = pooch.retrieve(\n",
    "            filelocation,\n",
    "            known_hash=None,\n",
    "            fname=os.path.join(user_temp_cache, filename),\n",
    "            processor=processor,\n",
    "        )\n",
    "\n",
    "    return file"
   ]
  },
  {
   "attachments": {},
   "cell_type": "markdown",
   "metadata": {
    "execution": {}
   },
   "source": [
    "# Section 1: Loading Terrestrial Paleoclimate Records\n",
    "\n",
    "First, we need to download the data. Similar to Tutorial 1, the data is stored as a LiPD file, and we will be using Pyleoclim to format and interpret the data."
   ]
  },
  {
   "cell_type": "code",
   "execution_count": null,
   "metadata": {
    "execution": {}
   },
   "outputs": [],
   "source": [
    "# set the name to save the Euro2k data\n",
    "fname = \"euro2k_data\"\n",
    "\n",
    "# download the data\n",
    "lipd_file_path = pooch.retrieve(\n",
    "    url=\"https://osf.io/7ezp3/download/\",\n",
    "    known_hash=None,\n",
    "    path=\"./\",\n",
    "    fname=fname,\n",
    "    processor=pooch.Unzip(),\n",
    ")"
   ]
  },
  {
   "cell_type": "code",
   "execution_count": null,
   "metadata": {
    "execution": {}
   },
   "outputs": [],
   "source": [
    "# the LiPD object can be used to load datasets stored in the LiPD format.\n",
    "# in this first case study, we will load an entire library of LiPD files:\n",
    "d_euro = pyleo.Lipd(os.path.join(\".\", f\"{fname}.unzip\", \"Euro2k\"))"
   ]
  },
  {
   "attachments": {},
   "cell_type": "markdown",
   "metadata": {
    "execution": {}
   },
   "source": [
    "# Section 2: Temperature Reconstructions"
   ]
  },
  {
   "attachments": {},
   "cell_type": "markdown",
   "metadata": {
    "execution": {}
   },
   "source": [
    "Before plotting, let's narrow the data down a bit. We can filter all of the data so that we only keep reconstructions of temperature from terrestrial archives (e.g. tree rings, speleothems and lake sediments). This is accomplished with the function below."
   ]
  },
  {
   "cell_type": "code",
   "execution_count": null,
   "metadata": {
    "execution": {}
   },
   "outputs": [],
   "source": [
    "def filter_data(dataset, archive_type, variable_name):\n",
    "    \"\"\"\n",
    "    Return a MultipleSeries object with the variable record (variable_name) for a given archive_type and coordinates.\n",
    "    \"\"\"\n",
    "    # Create a list of dictionary that can be iterated upon using Lipd.to_tso method\n",
    "    ts_list = dataset.to_tso()\n",
    "    # Append the correct indices for a given value of archive_type and variable_name\n",
    "    indices = []\n",
    "    lat = []\n",
    "    lon = []\n",
    "    for idx, item in enumerate(ts_list):\n",
    "        # Check that it is available to avoid errors on the loop\n",
    "        if \"archiveType\" in item.keys():\n",
    "            # If it's a archive_type, then proceed to the next step\n",
    "            if item[\"archiveType\"] == archive_type:\n",
    "                if item[\"paleoData_variableName\"] == variable_name:\n",
    "                    indices.append(idx)\n",
    "    print(indices)\n",
    "    # Create a list of LipdSeries for the given indices\n",
    "    ts_list_archive_type = []\n",
    "    for indice in indices:\n",
    "        ts_list_archive_type.append(pyleo.LipdSeries(ts_list[indice]))\n",
    "\n",
    "        # save lat and lons of proxies\n",
    "        lat.append(ts_list[indice][\"geo_meanLat\"])\n",
    "        lon.append(ts_list[indice][\"geo_meanLon\"])\n",
    "\n",
    "    return pyleo.MultipleSeries(ts_list_archive_type), lat, lon"
   ]
  },
  {
   "attachments": {},
   "cell_type": "markdown",
   "metadata": {
    "execution": {}
   },
   "source": [
    "In the function above, the [`Lipd.to_tso`](https://pyleoclim-util.readthedocs.io/en/latest/core/api.html#pyleoclim.core.lipd.Lipd.to_tso) method is used to obtain a list of dictionaries that can be iterated upon. "
   ]
  },
  {
   "cell_type": "code",
   "execution_count": null,
   "metadata": {
    "execution": {}
   },
   "outputs": [],
   "source": [
    "ts_list = d_euro.to_tso()"
   ]
  },
  {
   "attachments": {},
   "cell_type": "markdown",
   "metadata": {
    "execution": {}
   },
   "source": [
    "Dictionaries are native to Python and can be explored as shown below. "
   ]
  },
  {
   "cell_type": "code",
   "execution_count": null,
   "metadata": {
    "execution": {}
   },
   "outputs": [],
   "source": [
    "# look at available entries for just one time-series\n",
    "ts_list[0].keys()"
   ]
  },
  {
   "cell_type": "code",
   "execution_count": null,
   "metadata": {
    "execution": {}
   },
   "outputs": [],
   "source": [
    "# print relevant information for all entries\n",
    "for idx, item in enumerate(ts_list):\n",
    "    print(str(idx) + \": \" + item[\"dataSetName\"] + \": \" + item[\"paleoData_variableName\"])"
   ]
  },
  {
   "attachments": {},
   "cell_type": "markdown",
   "metadata": {
    "execution": {}
   },
   "source": [
    "Now let's use our pre-defined function to create a new list that only has temperature reconstructions based on proxies from **lake sediments**:"
   ]
  },
  {
   "cell_type": "code",
   "execution_count": null,
   "metadata": {
    "execution": {},
    "executionInfo": {
     "elapsed": 163,
     "status": "ok",
     "timestamp": 1680674812384,
     "user": {
      "displayName": "Brodie Pearson",
      "userId": "05269028596972519847"
     },
     "user_tz": 420
    }
   },
   "outputs": [],
   "source": [
    "ms_euro_lake, euro_lake_lat, euro_lake_lon = filter_data(\n",
    "    d_euro, \"lake sediment\", \"temperature\"\n",
    ")"
   ]
  },
  {
   "attachments": {},
   "cell_type": "markdown",
   "metadata": {
    "execution": {}
   },
   "source": [
    "And a new list that only has temperature reconstructions based on proxies from **tree rings**:"
   ]
  },
  {
   "cell_type": "code",
   "execution_count": null,
   "metadata": {
    "execution": {},
    "executionInfo": {
     "elapsed": 187,
     "status": "ok",
     "timestamp": 1680674816989,
     "user": {
      "displayName": "Brodie Pearson",
      "userId": "05269028596972519847"
     },
     "user_tz": 420
    }
   },
   "outputs": [],
   "source": [
    "ms_euro_tree, euro_tree_lat, euro_tree_lon = filter_data(d_euro, \"tree\", \"temperature\")"
   ]
  },
  {
   "attachments": {},
   "cell_type": "markdown",
   "metadata": {
    "execution": {}
   },
   "source": [
    "And finally, a new list that only has temperature information based on proxies from **speleothems**:"
   ]
  },
  {
   "cell_type": "code",
   "execution_count": null,
   "metadata": {
    "execution": {},
    "executionInfo": {
     "elapsed": 200,
     "status": "ok",
     "timestamp": 1680674825774,
     "user": {
      "displayName": "Brodie Pearson",
      "userId": "05269028596972519847"
     },
     "user_tz": 420
    }
   },
   "outputs": [],
   "source": [
    "ms_euro_spel, euro_spel_lat, euro_spel_lon = filter_data(d_euro, \"speleothem\", \"d18O\")"
   ]
  },
  {
   "attachments": {},
   "cell_type": "markdown",
   "metadata": {
    "execution": {}
   },
   "source": [
    "## Coding Exercises 2\n",
    "\n",
    "Using the coordinate information output from the `filter_data()` function, make a plot of the locations of the proxies using the markers and colors from Tutorial 1. Note that data close together may not be very visible."
   ]
  },
  {
   "cell_type": "markdown",
   "metadata": {
    "colab_type": "text",
    "execution": {}
   },
   "source": [
    "```python\n",
    "# initate plot with the specific figure size\n",
    "fig = plt.figure(figsize=(9, 6))\n",
    "\n",
    "# set base map projection\n",
    "ax = plt.axes(projection=ccrs.Robinson())\n",
    "\n",
    "ax.set_global()\n",
    "\n",
    "# add land fratures using gray color\n",
    "ax.add_feature(cfeature.LAND, facecolor=\"k\")\n",
    "\n",
    "# add coastlines\n",
    "ax.add_feature(cfeature.COASTLINE)\n",
    "\n",
    "# add the proxy locations\n",
    "# Uncomment and complete following line\n",
    "# ax.scatter(\n",
    "#     ...,\n",
    "#     ...,\n",
    "#     transform=ccrs.Geodetic(),\n",
    "#     label=...,\n",
    "#     s=50,\n",
    "#     marker=\"d\",\n",
    "#     color=[0.52734375, 0.8046875, 0.97916667],\n",
    "#     edgecolor=\"k\",\n",
    "#     zorder=2,\n",
    "# )\n",
    "# ax.scatter(\n",
    "#     ...,\n",
    "#     ...,\n",
    "#     transform=ccrs.Geodetic(),\n",
    "#     label=...,\n",
    "#     s=50,\n",
    "#     marker=\"p\",\n",
    "#     color=[0.73828125, 0.71484375, 0.41796875],\n",
    "#     edgecolor=\"k\",\n",
    "#     zorder=2,\n",
    "# )\n",
    "# ax.scatter(\n",
    "#     ...,\n",
    "#     ...,\n",
    "#     transform=ccrs.Geodetic(),\n",
    "#     label=...,\n",
    "#     s=50,\n",
    "#     marker=\"8\",\n",
    "#     color=[1, 0, 0],\n",
    "#     edgecolor=\"k\",\n",
    "#     zorder=2,\n",
    "# )\n",
    "\n",
    "# change the map view to zoom in on central Pacific\n",
    "ax.set_extent((0, 360, 0, 90), crs=ccrs.PlateCarree())\n",
    "\n",
    "ax.legend(\n",
    "    scatterpoints=1,\n",
    "    bbox_to_anchor=(0, -0.4),\n",
    "    loc=\"lower left\",\n",
    "    ncol=3,\n",
    "    fontsize=15,\n",
    ")\n",
    "\n",
    "```"
   ]
  },
  {
   "cell_type": "code",
   "execution_count": null,
   "metadata": {
    "execution": {}
   },
   "outputs": [],
   "source": [
    "# to_remove solution\n",
    "\n",
    "# initate plot with the specific figure size\n",
    "fig = plt.figure(figsize=(9, 6))\n",
    "\n",
    "# set base map projection\n",
    "ax = plt.axes(projection=ccrs.Robinson())\n",
    "\n",
    "ax.set_global()\n",
    "\n",
    "# add land fratures using gray color\n",
    "ax.add_feature(cfeature.LAND, facecolor=\"k\")\n",
    "\n",
    "# add coastlines\n",
    "ax.add_feature(cfeature.COASTLINE)\n",
    "\n",
    "# add the proxy locations\n",
    "# Uncomment and complete following line\n",
    "_ = ax.scatter(\n",
    "    euro_lake_lon,\n",
    "    euro_lake_lat,\n",
    "    transform=ccrs.Geodetic(),\n",
    "    label=\"lake sediment\",\n",
    "    s=50,\n",
    "    marker=\"d\",\n",
    "    color=[0.52734375, 0.8046875, 0.97916667],\n",
    "    edgecolor=\"k\",\n",
    "    zorder=2,\n",
    ")\n",
    "_ = ax.scatter(\n",
    "    euro_tree_lon,\n",
    "    euro_tree_lat,\n",
    "    transform=ccrs.Geodetic(),\n",
    "    label=\"tree ring\",\n",
    "    s=50,\n",
    "    marker=\"p\",\n",
    "    color=[0.73828125, 0.71484375, 0.41796875],\n",
    "    edgecolor=\"k\",\n",
    "    zorder=2,\n",
    ")\n",
    "_ = ax.scatter(\n",
    "    euro_spel_lon,\n",
    "    euro_spel_lat,\n",
    "    transform=ccrs.Geodetic(),\n",
    "    label=\"speleothem\",\n",
    "    s=50,\n",
    "    marker=\"8\",\n",
    "    color=[1, 0, 0],\n",
    "    edgecolor=\"k\",\n",
    "    zorder=2,\n",
    ")\n",
    "\n",
    "# change the map view to zoom in on central Pacific\n",
    "ax.set_extent((0, 360, 0, 90), crs=ccrs.PlateCarree())\n",
    "\n",
    "ax.legend(\n",
    "    scatterpoints=1,\n",
    "    bbox_to_anchor=(0, -0.4),\n",
    "    loc=\"lower left\",\n",
    "    ncol=3,\n",
    "    fontsize=15,\n",
    ")"
   ]
  },
  {
   "attachments": {},
   "cell_type": "markdown",
   "metadata": {
    "execution": {}
   },
   "source": [
    "Since we are going to compare temperature datasets based on different terrestrial climate archives (lake sediments, tree rings and speleothems), the quantitative values of the measurements in each record will differ (i.e., the lake sediment and tree ring data are temperature in degrees C, but the speleothem data is oxygen isotopes in per mille). Therefore, to more easily and accurately compare temperature between the records, it's helpful to standardize the data as we did in tutorial 2. The `.standardize()` function removes the estimated mean of the time series and divides by its estimated standard deviation."
   ]
  },
  {
   "cell_type": "code",
   "execution_count": null,
   "metadata": {
    "execution": {}
   },
   "outputs": [],
   "source": [
    "# standardize the data\n",
    "spel_stnd = ms_euro_spel.standardize()\n",
    "lake_stnd = ms_euro_lake.standardize()\n",
    "tree_stnd = ms_euro_tree.standardize()"
   ]
  },
  {
   "attachments": {},
   "cell_type": "markdown",
   "metadata": {
    "execution": {}
   },
   "source": [
    "Now we can use Pyleoclim functions to create three stacked plots of this data with lake sediment records on top, tree ring reconstructions in the middle and speleothem records on the bottom. \n",
    "\n",
    "\n",
    "Note that the colors used for the time series in each plot are the default colors generated by the function, so the corresponding colors in each of the three plots are not relevant."
   ]
  },
  {
   "cell_type": "code",
   "execution_count": null,
   "metadata": {
    "execution": {},
    "executionInfo": {
     "elapsed": 4905,
     "status": "ok",
     "timestamp": 1680674844494,
     "user": {
      "displayName": "Brodie Pearson",
      "userId": "05269028596972519847"
     },
     "user_tz": 420
    }
   },
   "outputs": [],
   "source": [
    "# note the x axis is years before present, so read from left to right moving back in time\n",
    "\n",
    "ax = lake_stnd.stackplot(\n",
    "    label_x_loc=1.7,\n",
    "    xlim=[0, 2000],\n",
    "    v_shift_factor=1,\n",
    "    figsize=[9, 5],\n",
    "    time_unit=\"yrs BP\",\n",
    ")\n",
    "ax[0].suptitle(\"Lake Cores\", y=1.2)\n",
    "\n",
    "ax = tree_stnd.stackplot(\n",
    "    label_x_loc=1.7,\n",
    "    xlim=[0, 2000],\n",
    "    v_shift_factor=1,\n",
    "    figsize=[9, 5],\n",
    "    time_unit=\"yrs BP\",\n",
    ")\n",
    "ax[0].suptitle(\"Tree Rings\", y=1.2)\n",
    "\n",
    "# recall d18O is a proxy for SST, and that more positive d18O means colder SST\n",
    "ax = spel_stnd.stackplot(\n",
    "    label_x_loc=1.7,\n",
    "    xlim=[0, 2000],\n",
    "    v_shift_factor=1,\n",
    "    figsize=[9, 5],\n",
    "    time_unit=\"yrs BP\",\n",
    ")\n",
    "ax[0].suptitle(\"Speleothems\", y=1.2)"
   ]
  },
  {
   "attachments": {},
   "cell_type": "markdown",
   "metadata": {
    "execution": {}
   },
   "source": [
    "## Questions 2"
   ]
  },
  {
   "attachments": {},
   "cell_type": "markdown",
   "metadata": {
    "execution": {}
   },
   "source": [
    "Using the plots we just made (and recalling that all of these records are from Europe), let's make some inferences about the temperature data over the past 2,000 years:\n",
    "\n",
    "1.   Recall that &delta;<sup>18</sup>O is a proxy for SST, and that more positive &delta;<sup>18</sup>O means colder SST. Do the temperature records based on a single proxy type record similar patterns?\n",
    "2.   Do the three proxy types collectively record similar patterns? \n",
    "3.   What might be causing the more frequent variations in temperature?"
   ]
  },
  {
   "cell_type": "code",
   "execution_count": null,
   "metadata": {
    "execution": {}
   },
   "outputs": [],
   "source": [
    "# to_remove explanation\n",
    "\n",
    "\"\"\"\n",
    "1. The proxy measurements for tree rings seem to be the most similar to each other, while there are notable differences in the other two archives.\n",
    "2. By just looking at the temperature records from each proxy type, the reconstructions don't appear to record the same temperature patterns due to the intra-archive variability. However, more quantitative comparisons would help to clarify the similarities and differences between the temperature reconstructions based on the three proxy types.\n",
    "3. The frequency at which we can obtain information between the proxies varies between archive type. As you learned in the video, for example, tree rings can provide seasonal information while speleothems provide at most annual information. The variability on those shorter timescales will likely correspond with temperature fluctuations on the same timescales.\n",
    "\n",
    "\"\"\";"
   ]
  },
  {
   "attachments": {},
   "cell_type": "markdown",
   "metadata": {
    "execution": {}
   },
   "source": [
    "# **Summary**\n",
    "In this tutorial, we explored how to use the Euro2k proxy network to investigate changes in temperature over the past 2,000 years from tree rings, speleothems, and lake sediments. To analyze these diverse datasets, we categorized them based on their archive type and constructed time series plots."
   ]
  },
  {
   "attachments": {},
   "cell_type": "markdown",
   "metadata": {
    "execution": {}
   },
   "source": [
    "# **Resources**\n",
    "\n",
    "Code for this tutorial is based on an existing notebook from LinkedEarth that provides instruction on [working with LiPD files](https://github.com/LinkedEarth/PyleoTutorials/blob/main/notebooks/L1_working_with_LiPD.ipynb). \n",
    "\n",
    "Data from the following sources are used in this tutorial:\n",
    "\n",
    "*   Euro2k database: PAGES2k Consortium., Emile-Geay, J., McKay, N. et al. A global multiproxy database for temperature reconstructions of the Common Era. Sci Data 4, 170088 (2017). https://doi.org/10.1038/sdata.2017.88"
   ]
  }
 ],
 "metadata": {
  "colab": {
   "collapsed_sections": [],
   "include_colab_link": true,
   "name": "W1D4_Tutorial3",
   "provenance": [
    {
     "file_id": "1lHuVrVtAW4fQzc0dFdlZuwY0i71KWw_t",
     "timestamp": 1677637469824
    }
   ],
   "toc_visible": true
  },
  "kernel": {
   "display_name": "Python 3",
   "language": "python",
   "name": "python3"
  },
  "kernelspec": {
   "display_name": "Python 3 (ipykernel)",
   "language": "python",
   "name": "python3"
  },
  "language_info": {
   "codemirror_mode": {
    "name": "ipython",
    "version": 3
   },
   "file_extension": ".py",
   "mimetype": "text/x-python",
   "name": "python",
   "nbconvert_exporter": "python",
   "pygments_lexer": "ipython3",
   "version": "3.10.12"
  }
 },
 "nbformat": 4,
 "nbformat_minor": 4
}