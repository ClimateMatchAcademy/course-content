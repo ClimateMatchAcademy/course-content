{
 "cells": [
  {
   "cell_type": "markdown",
   "id": "d73f3f7d",
   "metadata": {
    "execution": {}
   },
   "source": [
    "# Outro"
   ]
  },
  {
   "cell_type": "markdown",
   "id": "6be4b939",
   "metadata": {
    "execution": {}
   },
   "source": [
    "Now that you have learnt the fundamental concepts of climate modeling and worked with output from one of the most complex climate models, you are ready to begin using these models to explore climate science questions. One of the most powerful aspects of complex climate models is their ability to provide a window into the future of Earth’s climate, something which cannot be gleaned from other data sources (observations & proxies). In your next day you will explore future projections from numerous cutting-edge & complex climate models used by the Intergovernmental Panel on Climate Change (IPCC). You will use data from these complex climate models to project the future state of Earth’s climate under different socioeconomic & emission scenarios, and the (un)certainty associated with these projections."
   ]
  }
 ],
 "metadata": {
  "colab": {
   "collapsed_sections": [],
   "include_colab_link": true,
   "name": "W1D5_Outro",
   "toc_visible": true
  },
  "kernel": {
   "display_name": "Python 3",
   "language": "python",
   "name": "python3"
  },
  "kernelspec": {
   "display_name": "Python 3 (ipykernel)",
   "language": "python",
   "name": "python3"
  },
  "language_info": {
   "codemirror_mode": {
    "name": "ipython",
    "version": 3
   },
   "file_extension": ".py",
   "mimetype": "text/x-python",
   "name": "python",
   "nbconvert_exporter": "python",
   "pygments_lexer": "ipython3",
   "version": "3.10.8"
  }
 },
 "nbformat": 4,
 "nbformat_minor": 5
}
