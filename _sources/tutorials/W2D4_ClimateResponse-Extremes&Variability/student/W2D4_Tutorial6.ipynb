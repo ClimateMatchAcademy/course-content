{
 "cells": [
  {
   "cell_type": "markdown",
   "metadata": {
    "execution": {}
   },
   "source": [
    "For this 6th tutorial we will study  annual maximum sea level heights in Washington DC. \n",
    "Sea levels can get extremely high during coastal storms, especially in combination with high \n",
    "tides. For cities at coastlines this can be very problematic. Having a sense of what the X-year\n",
    "storm would be can be very helpful, for example when constructing safety measures. Here we are \n",
    "looking at annual maximum sea level data from a measurment station close to Washington DC.  \n",
    "\n",
    "Import the data using read.csv() and create a plot of the recorded data. \n"
   ]
  },
  {
   "cell_type": "code",
   "execution_count": null,
   "metadata": {
    "execution": {},
    "tags": [
     "colab"
    ]
   },
   "outputs": [],
   "source": [
    "# # <Yosmely Bermúdez> comments\n",
    "# #install dependencies\n",
    "# # We need this to install eigen which is needed for SDFC to install correctly\n",
    "# !pip install -q condacolab\n",
    "# import condacolab\n",
    "# condacolab.install()\n",
    "# !conda install eigen\n",
    "# !pip install -v https://github.com/yrobink/SDFC/archive/master.zip#subdirectory=python\n",
    "# !pip install https://github.com/njleach/mystatsfunctions/archive/master.zip\n",
    "# !pip install numpy\n",
    "# !pip install matplotlib\n",
    "# !pip install seaborn\n",
    "# !pip install pandas\n",
    "# !pip install cartopy\n",
    "# !pip install scipy\n",
    "# !pip install texttable"
   ]
  },
  {
   "cell_type": "code",
   "execution_count": null,
   "metadata": {
    "execution": {},
    "executionInfo": {
     "elapsed": 1430,
     "status": "ok",
     "timestamp": 1681921157378,
     "user": {
      "displayName": "Matthias Aengenheyster",
      "userId": "16322208118439170907"
     },
     "user_tz": -60
    }
   },
   "outputs": [],
   "source": [
    "import numpy as np\n",
    "import matplotlib.pyplot as plt\n",
    "import seaborn as sns\n",
    "import pandas as pd\n",
    "import cartopy.crs as ccrs\n",
    "from scipy import stats"
   ]
  },
  {
   "cell_type": "code",
   "execution_count": null,
   "metadata": {
    "execution": {},
    "executionInfo": {
     "elapsed": 1757,
     "status": "ok",
     "timestamp": 1681921183683,
     "user": {
      "displayName": "Matthias Aengenheyster",
      "userId": "16322208118439170907"
     },
     "user_tz": -60
    }
   },
   "outputs": [],
   "source": [
    "import extremes_functions as ef\n",
    "from mystatsfunctions import OLSE,LMoments\n",
    "import SDFC as sd"
   ]
  },
  {
   "cell_type": "code",
   "execution_count": null,
   "metadata": {
    "execution": {},
    "executionInfo": {
     "elapsed": 11,
     "status": "ok",
     "timestamp": 1681921183684,
     "user": {
      "displayName": "Matthias Aengenheyster",
      "userId": "16322208118439170907"
     },
     "user_tz": -60
    }
   },
   "outputs": [],
   "source": [
    "gev = stats.genextreme"
   ]
  },
  {
   "cell_type": "code",
   "execution_count": null,
   "metadata": {
    "execution": {},
    "executionInfo": {
     "elapsed": 8,
     "status": "ok",
     "timestamp": 1681921183685,
     "user": {
      "displayName": "Matthias Aengenheyster",
      "userId": "16322208118439170907"
     },
     "user_tz": -60
    }
   },
   "outputs": [],
   "source": [
    "def estimate_return_level(quantile,model):\n",
    "    loc, scale, shape = model.coef_\n",
    "    level = loc - scale / shape * (1 - (-np.log(quantile))**(-shape))\n",
    "    # level = stats.genextreme.ppf(quantile,-shape,loc=loc,scale=scale)\n",
    "    return level"
   ]
  },
  {
   "cell_type": "code",
   "execution_count": null,
   "metadata": {
    "execution": {},
    "executionInfo": {
     "elapsed": 472,
     "status": "ok",
     "timestamp": 1681921184150,
     "user": {
      "displayName": "Matthias Aengenheyster",
      "userId": "16322208118439170907"
     },
     "user_tz": -60
    }
   },
   "outputs": [],
   "source": [
    "import os, pooch\n",
    "\n",
    "fname = 'WashingtonDCSSH1930-2022.csv'\n",
    "if not os.path.exists(fname):\n",
    "    url = \"https://osf.io/4zynp/download\"\n",
    "    fname = pooch.retrieve(url, known_hash=None)\n",
    "\n",
    "data = pd.read_csv(fname, index_col=0).set_index('years')\n",
    "data"
   ]
  },
  {
   "cell_type": "code",
   "execution_count": null,
   "metadata": {
    "execution": {},
    "executionInfo": {
     "elapsed": 1097,
     "status": "ok",
     "timestamp": 1680721204016,
     "user": {
      "displayName": "Yosmely Tamira Bermudez Gutierrez",
      "userId": "07776907551108334395"
     },
     "user_tz": 180
    }
   },
   "outputs": [],
   "source": [
    "data.ssh.plot(linestyle='-',marker='.')\n",
    "plt.ylabel('sea surface height')"
   ]
  },
  {
   "cell_type": "markdown",
   "metadata": {
    "execution": {}
   },
   "source": [
    "Have a good look at the plot of your record… there appear to be an increasing trend. Of course, sea \n",
    "level height is strongly dependent on sea surface temperatures, which are rising due to climate change. \n",
    "In this case… it is actually appears linear. That means we should account of this non-stationarity. \n",
    "\n",
    "In the previous tutorials we assumed the probability density function shape to remains the same\n",
    "through time. In other words, the precipitation values always derived from the same distribution. But,\n",
    "today's world so clearly affected by climate change we cannot assume that the pdf remains stable \n",
    "For example...temperatures globaly rise so the distribution's location shifts, locally precipitation\n",
    "becomes more variable so the distribution widens, or the extremes become more extreme so the\n",
    "distribution tails become thicker. We call this 'non-stationary'.\n",
    "\n",
    "We can study this more in depth by grouping our data in say three 30-year (climate normal) periods. \n",
    "Make one record from 1931 to 1960, one from 1961 to 1990 and one from 1991 to 2020. Then plot the \n",
    "histogram of each dataset within the same frame."
   ]
  },
  {
   "cell_type": "code",
   "execution_count": null,
   "metadata": {
    "execution": {}
   },
   "outputs": [],
   "source": [
    "data_period1 = data.iloc[0:30]\n",
    "data_period2 = data.iloc[30:60]\n",
    "data_period3 = data.iloc[60:90]"
   ]
  },
  {
   "cell_type": "code",
   "execution_count": null,
   "metadata": {
    "execution": {},
    "executionInfo": {
     "elapsed": 798,
     "status": "ok",
     "timestamp": 1680721212023,
     "user": {
      "displayName": "Yosmely Tamira Bermudez Gutierrez",
      "userId": "07776907551108334395"
     },
     "user_tz": 180
    }
   },
   "outputs": [],
   "source": [
    "sns.histplot(data_period1.ssh,bins=np.arange(-200,650,50),color='C0',element='step',alpha=0.5,kde=True,label='1931-1960')\n",
    "sns.histplot(data_period2.ssh,bins=np.arange(-200,650,50),color='C1',element='step',alpha=0.5,kde=True,label='1961-1990')\n",
    "sns.histplot(data_period3.ssh,bins=np.arange(-200,650,50),color='C2',element='step',alpha=0.5,kde=True,label='1991-2020')\n",
    "plt.legend()"
   ]
  },
  {
   "cell_type": "code",
   "execution_count": null,
   "metadata": {
    "execution": {},
    "executionInfo": {
     "elapsed": 561,
     "status": "ok",
     "timestamp": 1680721216790,
     "user": {
      "displayName": "Yosmely Tamira Bermudez Gutierrez",
      "userId": "07776907551108334395"
     },
     "user_tz": 180
    }
   },
   "outputs": [],
   "source": [
    "periods_stats = pd.DataFrame(index=['Mean','Standard Deviation','Skew'])\n",
    "periods_stats['1931-1960'] = [data_period1.ssh.mean(), data_period1.ssh.std(), data_period1.ssh.skew()]\n",
    "periods_stats['1961-1990'] = [data_period2.ssh.mean(), data_period2.ssh.std(), data_period2.ssh.skew()]\n",
    "periods_stats['1991-2020'] = [data_period3.ssh.mean(), data_period3.ssh.std(), data_period3.ssh.skew()]\n",
    "\n",
    "periods_stats = periods_stats.T\n",
    "periods_stats"
   ]
  },
  {
   "cell_type": "markdown",
   "metadata": {
    "execution": {}
   },
   "source": [
    "It is clear that the moments change over time, especially the mean increases rapidly. Skewness on\n",
    "the other hand remains similar over time or decreases slightly. Clearly this record is non-stationary.\n",
    "To see how the entire shape of the distribution changes we can fit a GEV distribution to the record \n",
    "of each period and plot the associated pdf:"
   ]
  },
  {
   "cell_type": "code",
   "execution_count": null,
   "metadata": {
    "execution": {}
   },
   "outputs": [],
   "source": [
    "fit_period1, model_period1 = ef.fit_return_levels_sdfc(data_period1.ssh.values,times=np.arange(1.1,1000),periods_per_year=1,kind='GEV',N_boot=1000,full=True,model=True)\n",
    "fit_period2, model_period2 = ef.fit_return_levels_sdfc(data_period2.ssh.values,times=np.arange(1.1,1000),periods_per_year=1,kind='GEV',N_boot=1000,full=True,model=True)\n",
    "fit_period3, model_period3 = ef.fit_return_levels_sdfc(data_period3.ssh.values,times=np.arange(1.1,1000),periods_per_year=1,kind='GEV',N_boot=1000,full=True,model=True)"
   ]
  },
  {
   "cell_type": "code",
   "execution_count": null,
   "metadata": {
    "execution": {},
    "executionInfo": {
     "elapsed": 984,
     "status": "ok",
     "timestamp": 1680721274650,
     "user": {
      "displayName": "Yosmely Tamira Bermudez Gutierrez",
      "userId": "07776907551108334395"
     },
     "user_tz": 180
    }
   },
   "outputs": [],
   "source": [
    "fig, ax = plt.subplots()\n",
    "x = np.linspace(-200,600,1000)\n",
    "ax.plot(x,gev.pdf(\n",
    "    x,\n",
    "    -model_period1.shape.mean(),\n",
    "    loc=model_period1.loc.mean(),\n",
    "    scale=model_period1.scale.mean()\n",
    "    ),\n",
    "    c='C0',lw=3,label='1931-1960')\n",
    "ax.plot(x,gev.pdf(\n",
    "    x,\n",
    "    -model_period2.shape.mean(),\n",
    "    loc=model_period2.loc.mean(),\n",
    "    scale=model_period2.scale.mean()\n",
    "    ),\n",
    "    c='C1',lw=3,label='1961-1990')\n",
    "ax.plot(x,gev.pdf(\n",
    "    x,\n",
    "    -model_period3.shape.mean(),\n",
    "    loc=model_period3.loc.mean(),\n",
    "    scale=model_period3.scale.mean()\n",
    "    ),\n",
    "    c='C2',lw=3,label='1991-2020')\n",
    "ax.legend()\n",
    "ax.set_xlabel('sea level height')\n",
    "ax.set_ylabel('Density')"
   ]
  },
  {
   "cell_type": "markdown",
   "metadata": {
    "execution": {}
   },
   "source": [
    "Again we see a very clear shift towards higher values and a widening of the probability distribution. \n",
    "Finally we can have a look at the GEV parameters, how do they change. This will give a good sense of \n",
    "how we can incorporate non-stationarity in to our model in one of the next tutorials."
   ]
  },
  {
   "cell_type": "code",
   "execution_count": null,
   "metadata": {
    "execution": {},
    "executionInfo": {
     "elapsed": 9,
     "status": "ok",
     "timestamp": 1680721280152,
     "user": {
      "displayName": "Yosmely Tamira Bermudez Gutierrez",
      "userId": "07776907551108334395"
     },
     "user_tz": 180
    }
   },
   "outputs": [],
   "source": [
    "parameters = pd.DataFrame(index=['Location', 'Scale', 'Shape'])\n",
    "parameters['1931-1960'] = [model_period1.loc.mean(), model_period1.scale.mean(), model_period1.shape.mean()]\n",
    "parameters['1961-1990'] = [model_period2.loc.mean(), model_period2.scale.mean(), model_period2.shape.mean()]\n",
    "parameters['1991-2020'] = [model_period3.loc.mean(), model_period3.scale.mean(), model_period3.shape.mean()]\n",
    "\n",
    "parameters = parameters.T\n",
    "parameters.round(4)#.astype('%.2f')"
   ]
  }
 ],
 "metadata": {
  "colab": {
   "collapsed_sections": [],
   "include_colab_link": true,
   "name": "W2D4_Tutorial6",
   "provenance": [
    {
     "file_id": "1q9gfBO_7bG3xrQfyFisZAKq8lK_RN2BX",
     "timestamp": 1680619878447
    }
   ],
   "toc_visible": true
  },
  "kernel": {
   "display_name": "Python 3",
   "language": "python",
   "name": "python3"
  },
  "kernelspec": {
   "display_name": "Python 3 (pangeo)",
   "language": "python",
   "name": "pangeo"
  },
  "language_info": {
   "codemirror_mode": {
    "name": "ipython",
    "version": 3
   },
   "file_extension": ".py",
   "mimetype": "text/x-python",
   "name": "python",
   "nbconvert_exporter": "python",
   "pygments_lexer": "ipython3",
   "version": "3.10.10"
  }
 },
 "nbformat": 4,
 "nbformat_minor": 0
}