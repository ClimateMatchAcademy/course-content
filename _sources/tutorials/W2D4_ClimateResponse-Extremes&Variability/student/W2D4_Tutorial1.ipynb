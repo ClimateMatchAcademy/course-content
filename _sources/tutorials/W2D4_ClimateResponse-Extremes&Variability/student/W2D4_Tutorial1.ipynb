{
 "cells": [
  {
   "cell_type": "code",
   "execution_count": null,
   "metadata": {
    "execution": {},
    "tags": [
     "colab"
    ]
   },
   "outputs": [],
   "source": [
    "# # Agustina comments\n",
    "# # =====================\n",
    "# # Need to install cartopy\n",
    "\n",
    "# !pip install cartopy"
   ]
  },
  {
   "cell_type": "code",
   "execution_count": null,
   "metadata": {
    "execution": {},
    "executionInfo": {
     "elapsed": 723,
     "status": "ok",
     "timestamp": 1681921582804,
     "user": {
      "displayName": "Matthias Aengenheyster",
      "userId": "16322208118439170907"
     },
     "user_tz": -60
    }
   },
   "outputs": [],
   "source": [
    "import numpy as np\n",
    "import matplotlib.pyplot as plt\n",
    "import seaborn as sns\n",
    "import pandas as pd\n",
    "# import cartopy.crs as ccrs"
   ]
  },
  {
   "cell_type": "markdown",
   "metadata": {
    "execution": {}
   },
   "source": [
    "In this first tutorial we will have look at the distribution of annual extreme precipitation levels in Germany. Our task is to have a look at the different moments of the distribution: the mean, variance, skewness. \n",
    "\n",
    "First open the precipitation record and plot it over time: \n"
   ]
  },
  {
   "cell_type": "code",
   "execution_count": null,
   "metadata": {
    "execution": {}
   },
   "outputs": [],
   "source": [
    "import os, pooch\n",
    "\n",
    "fname = 'precipitationGermany_1920-2022.csv'\n",
    "if not os.path.exists(fname):\n",
    "    url = \"https://osf.io/xs7h6/download\"\n",
    "    fname = pooch.retrieve(url, known_hash=None)\n",
    "\n",
    "data = pd.read_csv(fname, index_col=0).set_index('years')\n",
    "data.columns=['precipitation']\n",
    "precipitation = data.precipitation"
   ]
  },
  {
   "cell_type": "code",
   "execution_count": null,
   "metadata": {
    "execution": {}
   },
   "outputs": [],
   "source": [
    "precipitation"
   ]
  },
  {
   "cell_type": "code",
   "execution_count": null,
   "metadata": {
    "execution": {}
   },
   "outputs": [],
   "source": [
    "precipitation.plot()#(x='years',y='rr')\n",
    "plt.ylabel('precipitation')"
   ]
  },
  {
   "cell_type": "markdown",
   "metadata": {
    "execution": {}
   },
   "source": [
    "Now create a variable that contains only the vector and plot a histogram of the data."
   ]
  },
  {
   "cell_type": "code",
   "execution_count": null,
   "metadata": {
    "execution": {}
   },
   "outputs": [],
   "source": [
    "bins=np.arange(0,precipitation.max(),2)\n",
    "sns.histplot(precipitation,bins=bins)\n",
    "plt.xlim(bins[0],bins[-1])\n",
    "plt.xlabel('precipitation')"
   ]
  },
  {
   "cell_type": "markdown",
   "metadata": {
    "execution": {}
   },
   "source": [
    "Next compute the mean and the variance... Plot the mean as a verticle line in the histogram"
   ]
  },
  {
   "cell_type": "code",
   "execution_count": null,
   "metadata": {
    "execution": {}
   },
   "outputs": [],
   "source": [
    "mean_pr = precipitation.mean()\n",
    "var_pr = precipitation.var()\n",
    "std_pr = precipitation.std()"
   ]
  },
  {
   "cell_type": "code",
   "execution_count": null,
   "metadata": {
    "execution": {}
   },
   "outputs": [],
   "source": [
    "mean_pr, var_pr, std_pr"
   ]
  },
  {
   "cell_type": "code",
   "execution_count": null,
   "metadata": {
    "execution": {}
   },
   "outputs": [],
   "source": [
    "bins=np.arange(0,precipitation.max(),2)\n",
    "sns.histplot(precipitation,bins=bins)\n",
    "plt.xlim(bins[0],bins[-1])\n",
    "\n",
    "ylim = plt.ylim()\n",
    "\n",
    "plt.vlines(mean_pr,ymin=ylim[0],ymax=ylim[1],color='C3',lw=3,label='mean')\n",
    "plt.xlabel('precipitation')\n",
    "plt.legend()"
   ]
  },
  {
   "cell_type": "markdown",
   "metadata": {
    "execution": {}
   },
   "source": [
    "As you can see the range of values on both sides of the the line is not equal. This hint at a skewed distribution. Lets check how big the potential skew is. Also generate a 100 random values from a normal distribution (mean = 0, standard deviation = 1) and compare its skewness that of precipitation:"
   ]
  },
  {
   "cell_type": "code",
   "execution_count": null,
   "metadata": {
    "execution": {}
   },
   "outputs": [],
   "source": [
    "precipitation.skew()"
   ]
  },
  {
   "cell_type": "code",
   "execution_count": null,
   "metadata": {
    "execution": {}
   },
   "outputs": [],
   "source": [
    "data['random'] = np.random.normal(0,1,size=data.index.size)"
   ]
  },
  {
   "cell_type": "code",
   "execution_count": null,
   "metadata": {
    "execution": {}
   },
   "outputs": [],
   "source": [
    "data.skew()"
   ]
  },
  {
   "cell_type": "markdown",
   "metadata": {
    "execution": {}
   },
   "source": [
    "As you can see the skewness of our data is much larger than the data extracted from a normal distribution. To further explore this we can fit a normal distribution to our precipitation data. For this we need to compute mean and standard deviation of 'precipitation'which are the two parameters of a normal distribution. Using the scipy function norm.pdf we can draw a probability density function (pdf) next to our histogram. The pdf shows the probability we will find any level of precipitation based on the data. As you can expect the mean value will have the highest probability. "
   ]
  },
  {
   "cell_type": "code",
   "execution_count": null,
   "metadata": {
    "execution": {}
   },
   "outputs": [],
   "source": [
    "from scipy import stats"
   ]
  },
  {
   "cell_type": "code",
   "execution_count": null,
   "metadata": {
    "execution": {}
   },
   "outputs": [],
   "source": [
    "bins=np.arange(0,precipitation.max(),2)\n",
    "sns.histplot(precipitation,bins=bins,stat='density')\n",
    "plt.xlim(bins[0],bins[-1])\n",
    "\n",
    "ylim = plt.ylim()\n",
    "\n",
    "plt.vlines(mean_pr,ymin=ylim[0],ymax=ylim[1],color='C3',lw=3)\n",
    "\n",
    "x = np.arange(0,100,1)\n",
    "plt.plot(x,stats.norm.pdf(x,mean_pr,std_pr),c='k',lw=3)"
   ]
  },
  {
   "cell_type": "markdown",
   "metadata": {
    "execution": {}
   },
   "source": [
    "Let's add some uncertainty"
   ]
  },
  {
   "cell_type": "code",
   "execution_count": null,
   "metadata": {
    "execution": {}
   },
   "outputs": [],
   "source": [
    "random_samples = np.random.normal(mean_pr,std_pr,size=[100,1000])\n",
    "pdfs = np.zeros([x.size,1000])\n",
    "\n",
    "for i in range(1000):\n",
    "    pdfi = stats.norm.pdf(x,random_samples[:,i].mean(),random_samples[:,i].std())\n",
    "    pdfs[:,i] = pdfi\n",
    "    # plt.plot(x,pdfi,lw=1,alpha=0.05,c='C2')"
   ]
  },
  {
   "cell_type": "code",
   "execution_count": null,
   "metadata": {
    "execution": {}
   },
   "outputs": [],
   "source": [
    "bins=np.arange(0,precipitation.max(),2)\n",
    "sns.histplot(precipitation,bins=bins,stat='density')\n",
    "plt.xlim(bins[0],bins[-1])\n",
    "\n",
    "ylim = plt.ylim()\n",
    "\n",
    "plt.vlines(mean_pr,ymin=ylim[0],ymax=ylim[1],color='C3',lw=3)\n",
    "\n",
    "x = np.arange(0,100,1)\n",
    "plt.plot(x,stats.norm.pdf(x,mean_pr,std_pr),c='k',lw=3)\n",
    "\n",
    "plt.plot(np.quantile(pdfs,0.95,axis=1),'--',lw=2,color='k')\n",
    "plt.plot(np.quantile(pdfs,0.05,axis=1),'--',lw=2,color='k')"
   ]
  },
  {
   "cell_type": "markdown",
   "metadata": {
    "execution": {}
   },
   "source": [
    "Does your normal distribution describe your model well?\n"
   ]
  }
 ],
 "metadata": {
  "colab": {
   "collapsed_sections": [],
   "include_colab_link": true,
   "name": "W2D4_Tutorial1",
   "provenance": [],
   "toc_visible": true
  },
  "kernel": {
   "display_name": "Python 3",
   "language": "python",
   "name": "python3"
  },
  "kernelspec": {
   "display_name": "Python 3 (pangeo)",
   "language": "python",
   "name": "pangeo"
  },
  "language_info": {
   "codemirror_mode": {
    "name": "ipython",
    "version": 3
   },
   "file_extension": ".py",
   "mimetype": "text/x-python",
   "name": "python",
   "nbconvert_exporter": "python",
   "pygments_lexer": "ipython3",
   "version": "3.10.10"
  }
 },
 "nbformat": 4,
 "nbformat_minor": 0
}