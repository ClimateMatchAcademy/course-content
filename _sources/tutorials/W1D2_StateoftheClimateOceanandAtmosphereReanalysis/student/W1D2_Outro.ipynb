{
 "cells": [
  {
   "cell_type": "markdown",
   "id": "59931dc6",
   "metadata": {
    "execution": {}
   },
   "source": [
    "# Outro"
   ]
  },
  {
   "cell_type": "markdown",
   "id": "958dea05",
   "metadata": {
    "execution": {}
   },
   "source": [
    "Today you have navigated through the large-scale structure of oceanic and atmospheric systems, utilizing reanalysis data and various computational tools to analyze and interpret ocean-atmospheric interactions. Tomorrow, you will transition your focus to remote sensing for climate applications, where you will also begin to explore the land system in addition to the ocean and atmosphere. "
   ]
  }
 ],
 "metadata": {
  "colab": {
   "collapsed_sections": [],
   "include_colab_link": true,
   "name": "W1D2_Outro",
   "toc_visible": true
  },
  "kernel": {
   "display_name": "Python 3",
   "language": "python",
   "name": "python3"
  },
  "kernelspec": {
   "display_name": "climatematch",
   "language": "python",
   "name": "python3"
  },
  "language_info": {
   "codemirror_mode": {
    "name": "ipython",
    "version": 3
   },
   "file_extension": ".py",
   "mimetype": "text/x-python",
   "name": "python",
   "nbconvert_exporter": "python",
   "pygments_lexer": "ipython3",
   "version": "3.10.12"
  }
 },
 "nbformat": 4,
 "nbformat_minor": 5
}