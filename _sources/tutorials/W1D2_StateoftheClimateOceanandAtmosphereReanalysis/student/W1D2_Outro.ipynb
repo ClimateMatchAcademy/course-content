{
 "cells": [
  {
   "cell_type": "markdown",
   "id": "59931dc6",
   "metadata": {},
   "source": [
    "# Outro"
   ]
  },
  {
   "cell_type": "markdown",
   "id": "958dea05",
   "metadata": {},
   "source": [
    "Today you have navigated through the large-scale structure of oceanic and atmospheric systems, utilizing reanalysis data and various computational tools to analyze and interpret ocean-atmospheric interactions. Tomorrow, you will transition your focus to remote sensing for climate applications, where you will also begin to explore the land system in addition to the ocean and atmosphere. "
   ]
  }
 ],
 "metadata": {
  "kernelspec": {
   "display_name": "Python 3 (ipykernel)",
   "language": "python",
   "name": "python3"
  },
  "language_info": {
   "codemirror_mode": {
    "name": "ipython",
    "version": 3
   },
   "file_extension": ".py",
   "mimetype": "text/x-python",
   "name": "python",
   "nbconvert_exporter": "python",
   "pygments_lexer": "ipython3",
   "version": "3.10.8"
  }
 },
 "nbformat": 4,
 "nbformat_minor": 5
}
