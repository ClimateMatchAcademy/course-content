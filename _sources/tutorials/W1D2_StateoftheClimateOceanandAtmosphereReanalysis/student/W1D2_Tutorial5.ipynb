{
 "cells": [
  {
   "cell_type": "markdown",
   "metadata": {
    "execution": {}
   },
   "source": [
    "# Tutorial 5: Thermohaline circulation\n",
    "\n",
    "### Week 1, Day 2: State of the Climate - Ocean and Atmospheric Reanalysis"
   ]
  },
  {
   "cell_type": "markdown",
   "metadata": {
    "execution": {}
   },
   "source": [
    "NOTE: we need some sort of written intro here, even if minimal"
   ]
  },
  {
   "cell_type": "markdown",
   "metadata": {
    "execution": {}
   },
   "source": [
    "***\n",
    "## Tutorial objectives\n",
    "* Plot sea surface salinity and temperature\n",
    "* Understand how salinity and temperature combine to determine ocean density\n",
    "* Explore the difference between a linear and non-linear equation of state"
   ]
  },
  {
   "cell_type": "markdown",
   "metadata": {
    "execution": {}
   },
   "source": [
    "***\n",
    "## Set up\n",
    "Here we import needed packages, import ECCO data that has been preprocessed,\n",
    "NOTE: Here working with interpolated data fields to lat-lon grid"
   ]
  },
  {
   "cell_type": "code",
   "execution_count": null,
   "metadata": {
    "execution": {},
    "executionInfo": {
     "elapsed": 2058,
     "status": "error",
     "timestamp": 1682626613201,
     "user": {
      "displayName": "Sloane Garelick",
      "userId": "04706287370408131987"
     },
     "user_tz": 240
    }
   },
   "outputs": [],
   "source": [
    "import numpy as np\n",
    "import xarray as xr\n",
    "import matplotlib.pyplot as plt\n",
    "import seaborn as sns\n",
    "import cartopy as cart\n",
    "import cartopy.crs as ccrs\n",
    "from cartopy.mpl.ticker import LongitudeFormatter, LatitudeFormatter\n",
    "import cmocean"
   ]
  },
  {
   "cell_type": "code",
   "execution_count": null,
   "metadata": {
    "execution": {}
   },
   "outputs": [],
   "source": [
    "#Import preprocessed ecco data. This data is surface data that is monthly over the period 2014 to 2016.\n",
    "import pooch, os\n",
    "fname = 'surface_theta.nc'\n",
    "if not os.path.exists(fname):\n",
    "    url = \"https://osf.io/98ksr/download\"\n",
    "    fname = pooch.retrieve(url, known_hash=None, fname=fname)\n",
    "subset_theta= xr.open_dataset(fname)\n",
    "fname = 'surface_salt.nc'\n",
    "if not os.path.exists(fname):\n",
    "    url = \"https://osf.io/aufs2/download\"\n",
    "    fname = pooch.retrieve(url, known_hash=None, fname=fname)\n",
    "subset_salt= xr.open_dataset(fname)"
   ]
  },
  {
   "cell_type": "code",
   "execution_count": null,
   "metadata": {
    "execution": {}
   },
   "outputs": [],
   "source": [
    "#Make land points NaN (not a number)\n",
    "subset_theta=subset_theta.where(subset_theta != 0)\n",
    "subset_salt=subset_salt.where(subset_salt != 0)\n",
    "subset_theta=subset_theta.THETA\n",
    "subset_salt=subset_salt.SALT"
   ]
  },
  {
   "cell_type": "markdown",
   "metadata": {
    "execution": {}
   },
   "source": [
    "***\n",
    "## Plot surface temperature and salinity\n",
    "In the slides we learned that, in addition to the wind driven circulation, flows in the ocean can also be driven by spatial changes (gradients) in density. The thermohaline circulation is an example of a density driven flow. Density in the ocean is affected by salinity (higher salinity = denser) and temperature (generally, lower temperature = denser). To get some intuition about how density might vary spatially, let's look at the mean salinity and temperature at the ocean surface."
   ]
  },
  {
   "cell_type": "code",
   "execution_count": null,
   "metadata": {
    "execution": {}
   },
   "outputs": [],
   "source": [
    "#Plot SST\n",
    "fig, ax = plt.subplots(subplot_kw={'projection':ccrs.PlateCarree()},figsize=(11,12),dpi=100) #this is from cartopy https://rabernat.github.io/research_computing_2018/maps-with-cartopy.html\n",
    "p=(subset_theta).plot(vmin=0,cmap=cmocean.cm.thermal,cbar_kwargs={'shrink':0.75,'orientation':'horizontal','extend':'both','pad':0.05,'label': \"degree C\"})\n",
    "ax.coastlines(color='grey',lw=0.5)\n",
    "ax.set_xticks([-180, -120, -60, 0, 60, 120, 180], crs=ccrs.PlateCarree())\n",
    "ax.set_yticks([-90, -60, -30, 0, 30, 60, 90], crs=ccrs.PlateCarree())\n",
    "lon_formatter = LongitudeFormatter(zero_direction_label=True)\n",
    "lat_formatter = LatitudeFormatter()\n",
    "ax.add_feature(cart.feature.LAND, zorder=100, edgecolor='k')\n",
    "plt.title('Surface temperature, mean over 2014 to 2016')\n",
    "fig.tight_layout()"
   ]
  },
  {
   "cell_type": "code",
   "execution_count": null,
   "metadata": {
    "execution": {}
   },
   "outputs": [],
   "source": [
    "#Plot SSS\n",
    "fig, ax = plt.subplots(subplot_kw={'projection':ccrs.PlateCarree()},figsize=(11,12),dpi=100) #this is from cartopy https://rabernat.github.io/research_computing_2018/maps-with-cartopy.html\n",
    "p=(subset_salt).plot(cmap=cmocean.cm.haline,vmin=30,cbar_kwargs={'shrink':0.75,'orientation':'horizontal','extend':'both','pad':0.05,'label': \"psu\"})\n",
    "ax.coastlines(color='grey',lw=0.5)\n",
    "ax.set_xticks([-180, -120, -60, 0, 60, 120, 180], crs=ccrs.PlateCarree())\n",
    "ax.set_yticks([-90, -60, -30, 0, 30, 60, 90], crs=ccrs.PlateCarree())\n",
    "lon_formatter = LongitudeFormatter(zero_direction_label=True)\n",
    "lat_formatter = LatitudeFormatter()\n",
    "ax.add_feature(cart.feature.LAND, zorder=100, edgecolor='k')\n",
    "plt.title('Surface salinity, mean over 2014 to 2016')\n",
    "fig.tight_layout()"
   ]
  },
  {
   "cell_type": "markdown",
   "metadata": {
    "execution": {}
   },
   "source": [
    "***\n",
    "## Density from salt and temperature\n",
    "The equation relating ocean water density to other water properties is called the *equation of state*. It is a non-linear function of temperature, salinity, and pressure. This can be expressed as $\\rho=\\rho(T,S,p)$. Here we will show two ways to calculate the density. The first is a *linear approximation* to the equation of state. We will then show how to calculate the full, non-linear equation of state using the *gsw* package"
   ]
  },
  {
   "cell_type": "markdown",
   "metadata": {
    "execution": {}
   },
   "source": [
    "### Linearized equation of state\n",
    "Here we take the linearized equation of state from equation 1.57 in Vallis' textbook \"*Atmospheric and Oceanic Fluid Dynamics*\"\n",
    "\n",
    "$$ \\rho=\\rho_0[1-\\beta_T(T-T_0)+\\beta_S(S-S_0)+\\beta_p(p-p_0)] $$\n",
    "\n",
    "In this equation, $\\rho_0\\simeq 1027$ is a reference density, $\\beta_T \\simeq 2*10^{-4}$/K is the thermal expansion coefficient, $\\beta_S \\simeq 7.6*10^{-4}$/ppt is the haline contraction coefficient, and $\\beta_p \\simeq 4.4*10^{-10}$/Pa is the compressibility coefficient. The values with $_0$ are reference values, and here we use $T_0=283$K and $S_0=35$. Since surface pressure rarely changes by more than a few percent, let's assume that the pressure at the surface is equal to the reference pressure at every point ($\\beta_p(p-p_0)=0$).\n",
    "\n",
    "The non-linearities in the full equation of state (which we will use later) arise because, in reality, the $\\beta$ terms themselves vary with pressure, salinity, and temperature."
   ]
  },
  {
   "cell_type": "code",
   "execution_count": null,
   "metadata": {
    "execution": {}
   },
   "outputs": [],
   "source": [
    "rho=1027*(1-2E-4*(subset_theta+273.15-283)+7.6E-4*(subset_salt-35))"
   ]
  },
  {
   "cell_type": "code",
   "execution_count": null,
   "metadata": {
    "execution": {}
   },
   "outputs": [],
   "source": [
    "#Plot linearized density\n",
    "fig, ax = plt.subplots(subplot_kw={'projection':ccrs.PlateCarree()},figsize=(11,12),dpi=100) #this is from cartopy https://rabernat.github.io/research_computing_2018/maps-with-cartopy.html\n",
    "p=(rho).plot(cmap=cmocean.cm.dense,vmin=1021, vmax=1029, cbar_kwargs={'shrink':0.75,'orientation':'horizontal','extend':'both','pad':0.05,'label': \"kg/m$^3$\"})\n",
    "ax.coastlines(color='grey',lw=0.5)\n",
    "ax.set_xticks([-180, -120, -60, 0, 60, 120, 180], crs=ccrs.PlateCarree())\n",
    "ax.set_yticks([-90, -60, -30, 0, 30, 60, 90], crs=ccrs.PlateCarree())\n",
    "lon_formatter = LongitudeFormatter(zero_direction_label=True)\n",
    "lat_formatter = LatitudeFormatter()\n",
    "ax.add_feature(cart.feature.LAND, zorder=100, edgecolor='k')\n",
    "plt.title('Surface density from linear equation, mean over 2014 to 2016')\n",
    "fig.tight_layout()"
   ]
  },
  {
   "cell_type": "markdown",
   "metadata": {
    "execution": {}
   },
   "source": [
    "### Full nonlinear equation of state\n",
    "One way to compute the density from the full nonlinear equation in python is using the *gsw* package which is a Python implementation of the *Thermodynamic Equation of Seawater 2010 (TEOS-10)* (https://teos-10.github.io/GSW-Python/)"
   ]
  },
  {
   "cell_type": "code",
   "execution_count": null,
   "metadata": {
    "execution": {}
   },
   "outputs": [],
   "source": [
    "import gsw\n",
    "CT = gsw.CT_from_pt(subset_salt,subset_theta) #get conservative temperature from potential temperature\n",
    "rho_nonlin=gsw.rho(subset_salt,CT,0)"
   ]
  },
  {
   "cell_type": "code",
   "execution_count": null,
   "metadata": {
    "execution": {}
   },
   "outputs": [],
   "source": [
    "#Plot density from full nonlinear equation\n",
    "fig, ax = plt.subplots(subplot_kw={'projection':ccrs.PlateCarree()},figsize=(11,12),dpi=100) #this is from cartopy https://rabernat.github.io/research_computing_2018/maps-with-cartopy.html\n",
    "p=(rho_nonlin).plot(cmap=cmocean.cm.dense,vmin=1021, vmax=1029, cbar_kwargs={'shrink':0.75,'orientation':'horizontal','extend':'both','pad':0.05,'label': \"kg/m$^3$\"})\n",
    "ax.coastlines(color='grey',lw=0.5)\n",
    "ax.set_xticks([-180, -120, -60, 0, 60, 120, 180], crs=ccrs.PlateCarree())\n",
    "ax.set_yticks([-90, -60, -30, 0, 30, 60, 90], crs=ccrs.PlateCarree())\n",
    "lon_formatter = LongitudeFormatter(zero_direction_label=True)\n",
    "lat_formatter = LatitudeFormatter()\n",
    "ax.add_feature(cart.feature.LAND, zorder=100, edgecolor='k')\n",
    "plt.title('Surface density from nonlinear equation, mean over 2014 to 2016')\n",
    "fig.tight_layout()"
   ]
  },
  {
   "cell_type": "markdown",
   "metadata": {
    "execution": {}
   },
   "source": [
    "We see that the two equations of state are broadly similar but there are some differences. These differences are caused by the nonlinearity in the equation of state, where the haline contraction coefficient and thermal expansion coefficient are not constants, in contrast to our linear equation of state assumptions! \n",
    "\n",
    "Regardless of how we calculate the density, we see that there are horizontal density differences (gradients) at the surface of the ocean. For example, the seawater tends to be lighter in the subtropics and denser near the poles. These density differences can drive currents, as we discussed in the slides! "
   ]
  }
 ],
 "metadata": {
  "colab": {
   "collapsed_sections": [],
   "include_colab_link": true,
   "name": "W1D2_Tutorial5",
   "provenance": [],
   "toc_visible": true
  },
  "kernel": {
   "display_name": "Python 3",
   "language": "python",
   "name": "python3"
  },
  "kernelspec": {
   "display_name": "my_env",
   "language": "python",
   "name": "my_env"
  },
  "language_info": {
   "codemirror_mode": {
    "name": "ipython",
    "version": 3
   },
   "file_extension": ".py",
   "mimetype": "text/x-python",
   "name": "python",
   "nbconvert_exporter": "python",
   "pygments_lexer": "ipython3",
   "version": "3.9.7"
  }
 },
 "nbformat": 4,
 "nbformat_minor": 0
}