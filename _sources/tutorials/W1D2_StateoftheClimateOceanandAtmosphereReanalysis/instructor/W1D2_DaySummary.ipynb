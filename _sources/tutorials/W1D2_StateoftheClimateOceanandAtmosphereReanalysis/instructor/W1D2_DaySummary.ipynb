{
 "cells": [
  {
   "cell_type": "markdown",
   "id": "56915a50",
   "metadata": {},
   "source": [
    "# Day Summary"
   ]
  },
  {
   "cell_type": "markdown",
   "id": "e96747c7",
   "metadata": {},
   "source": [
    "Day 2 explored the complex interplay between the ocean and atmosphere within the climate system. You began the day with an exploration of SST variations during El Niño and La Niña events, utilizing Xarray tools and the CESM2 model data. You then worked with reanalysis data to explore the large-scale circulation of the ocean and atmosphere, and the changes in ocean heat storage over recent decades.\n"
   ]
  }
 ],
 "metadata": {
  "kernelspec": {
   "display_name": "Python 3 (ipykernel)",
   "language": "python",
   "name": "python3"
  },
  "language_info": {
   "codemirror_mode": {
    "name": "ipython",
    "version": 3
   },
   "file_extension": ".py",
   "mimetype": "text/x-python",
   "name": "python",
   "nbconvert_exporter": "python",
   "pygments_lexer": "ipython3",
   "version": "3.10.8"
  }
 },
 "nbformat": 4,
 "nbformat_minor": 5
}