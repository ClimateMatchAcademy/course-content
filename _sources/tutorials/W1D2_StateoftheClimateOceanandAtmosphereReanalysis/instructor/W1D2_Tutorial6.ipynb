{
 "cells": [
  {
   "cell_type": "markdown",
   "metadata": {
    "execution": {}
   },
   "source": [
    "[![Open In Colab](https://colab.research.google.com/assets/colab-badge.svg)](https://colab.research.google.com/github/ClimateMatchAcademy/course-content/blob/main/tutorials/W1D2_StateoftheClimateOceanandAtmosphereReanalysis/instructor/W1D2_Tutorial6.ipynb)   <a href=\"https://kaggle.com/kernels/welcome?src=https://raw.githubusercontent.com/ClimateMatchAcademy/course-content/main/tutorials/W1D2_StateoftheClimateOceanandAtmosphereReanalysis/instructor/W1D2_Tutorial6.ipynb\" target=\"_blank\"><img alt=\"Open in Kaggle\" src=\"https://kaggle.com/static/images/open-in-kaggle.svg\"/></a>"
   ]
  },
  {
   "cell_type": "markdown",
   "metadata": {
    "execution": {}
   },
   "source": [
    "# **Tutorial 6: Ocean Heat Content**\n",
    "\n",
    "**Week 1, Day 2: Ocean and Atmospheric Reanalysis**\n",
    "\n",
    "__Content creators:__ Aurora Basinski\n",
    "\n",
    "**Content reviewers:** Katrina Dobson, Danika Gupta, Maria Gonzalez, Will Gregory, Nahid Hasan, Sherry Mi, Beatriz Cosenza Muralles, Jenna Pearson, Chi Zhang, Ohad Zivan\n",
    "\n",
    "**Content editors:** Brodie, Pearson, Jenna Pearson, Chi Zhang, Ohad Zivan\n",
    "\n",
    "**Production editors:** Wesley Banfield, Jenna Pearson, Chi Zhang, Ohad Zivan\n",
    "\n",
    "**Our 2023 Sponsors:** NASA TOPS and Google DeepMind\n",
    "![CMIP.png](https://github.com/ClimateMatchAcademy/course-content/blob/main/tutorials/Art/CMIP.png?raw=true)|\n",
    "-\n"
   ]
  },
  {
   "cell_type": "markdown",
   "metadata": {
    "execution": {}
   },
   "source": [
    "# Tutorial Objectives\n",
    "In this tutorial, you will explore the ocean's vast heat capacity, which has a significant impact on the climate system. \n",
    "\n",
    "The ocean has a heat capacity that is approximately 1000 times greater than the entire atmosphere, due to the relatively large mass and specific heat capacity of water. This means that the ocean has a significant impact on Earth's thermal equilibrium state. *Ocean heat uptake* and *ocean carbon uptake* mitigates the effect of anthropogenic climate change by absorbing roughly 90% of the excess heat and 25% of human-emitted CO2. As you will see in this tutorial, ocean heat uptake largely occurs in the upper ocean as it is the region in contact with the atmosphere.\n",
    "\n",
    "The ocean's high heat capacity also facilitates meridional ocean heat transport from the equator to the poles, which acts in addition to the meridional *atmospheric* heat transport.\n",
    "\n",
    "Through this tutorial, you will explore the spatial distribution of heat in the ocean and how the ocean's  heat content is changing over time. To do this, you will utilize the [Estimating the Circulation and Climate of the Ocean (ECCO)](https://www.ecco-group.org/) dataset."
   ]
  },
  {
   "cell_type": "markdown",
   "metadata": {
    "execution": {}
   },
   "source": [
    "# Setup"
   ]
  },
  {
   "cell_type": "code",
   "execution_count": null,
   "metadata": {
    "execution": {},
    "tags": [
     "colab"
    ]
   },
   "outputs": [],
   "source": [
    "# !pip install seaborn\n",
    "# !pip install cmocean\n",
    "# !pip install cartopy\n",
    "# !pip install geoviews"
   ]
  },
  {
   "cell_type": "code",
   "execution_count": null,
   "metadata": {
    "execution": {}
   },
   "outputs": [],
   "source": [
    "import numpy as np\n",
    "import xarray as xr\n",
    "import matplotlib.pyplot as plt\n",
    "import seaborn as sns\n",
    "import cartopy as cart\n",
    "import cartopy.crs as ccrs\n",
    "from cartopy.mpl.ticker import LongitudeFormatter, LatitudeFormatter\n",
    "import cmocean\n",
    "import os\n",
    "import pooch\n",
    "import tempfile\n",
    "from scipy import integrate"
   ]
  },
  {
   "cell_type": "markdown",
   "metadata": {},
   "source": [
    "##  Video 1: Ocean's Role in Climate\n"
   ]
  },
  {
   "cell_type": "code",
   "execution_count": null,
   "metadata": {
    "cellView": "form",
    "execution": {},
    "tags": [
     "remove-input"
    ]
   },
   "outputs": [],
   "source": [
    "# @title Video 1: Ocean's Role in Climate\n",
    "\n",
    "from ipywidgets import widgets\n",
    "from IPython.display import YouTubeVideo\n",
    "from IPython.display import IFrame\n",
    "from IPython.display import display\n",
    "\n",
    "\n",
    "class PlayVideo(IFrame):\n",
    "    def __init__(self, id, source, page=1, width=400, height=300, **kwargs):\n",
    "        self.id = id\n",
    "        if source == \"Bilibili\":\n",
    "            src = f\"https://player.bilibili.com/player.html?bvid={id}&page={page}\"\n",
    "        elif source == \"Osf\":\n",
    "            src = f\"https://mfr.ca-1.osf.io/render?url=https://osf.io/download/{id}/?direct%26mode=render\"\n",
    "        super(PlayVideo, self).__init__(src, width, height, **kwargs)\n",
    "\n",
    "\n",
    "def display_videos(video_ids, W=400, H=300, fs=1):\n",
    "    tab_contents = []\n",
    "    for i, video_id in enumerate(video_ids):\n",
    "        out = widgets.Output()\n",
    "        with out:\n",
    "            if video_ids[i][0] == \"Youtube\":\n",
    "                video = YouTubeVideo(\n",
    "                    id=video_ids[i][1], width=W, height=H, fs=fs, rel=0\n",
    "                )\n",
    "                print(f\"Video available at https://youtube.com/watch?v={video.id}\")\n",
    "            else:\n",
    "                video = PlayVideo(\n",
    "                    id=video_ids[i][1],\n",
    "                    source=video_ids[i][0],\n",
    "                    width=W,\n",
    "                    height=H,\n",
    "                    fs=fs,\n",
    "                    autoplay=False,\n",
    "                )\n",
    "                if video_ids[i][0] == \"Bilibili\":\n",
    "                    print(\n",
    "                        f\"Video available at https://www.bilibili.com/video/{video.id}\"\n",
    "                    )\n",
    "                elif video_ids[i][0] == \"Osf\":\n",
    "                    print(f\"Video available at https://osf.io/{video.id}\")\n",
    "            display(video)\n",
    "        tab_contents.append(out)\n",
    "    return tab_contents\n",
    "\n",
    "\n",
    "video_ids = [(\"Youtube\", \"dPSYOC1blUg\"), (\"Bilibili\", \"BV1gP411y7oj\")]\n",
    "tab_contents = display_videos(video_ids, W=730, H=410)\n",
    "tabs = widgets.Tab()\n",
    "tabs.children = tab_contents\n",
    "for i in range(len(tab_contents)):\n",
    "    tabs.set_title(i, video_ids[i][0])\n",
    "display(tabs)"
   ]
  },
  {
   "cell_type": "markdown",
   "metadata": {},
   "source": [
    "##  Tutorial slides\n"
   ]
  },
  {
   "cell_type": "markdown",
   "metadata": {},
   "source": [
    " These are the slides for the videos in all tutorials today\n"
   ]
  },
  {
   "cell_type": "code",
   "execution_count": null,
   "metadata": {
    "cellView": "form",
    "execution": {},
    "pycharm": {
     "name": "#%%\n"
    },
    "tags": [
     "remove-input"
    ]
   },
   "outputs": [],
   "source": [
    "# @title Tutorial slides\n",
    "# @markdown These are the slides for the videos in all tutorials today\n",
    "from IPython.display import IFrame\n",
    "\n",
    "link_id = \"vyb68\""
   ]
  },
  {
   "cell_type": "code",
   "execution_count": null,
   "metadata": {
    "execution": {},
    "tags": []
   },
   "outputs": [],
   "source": [
    "# helper functions\n",
    "\n",
    "def pooch_load(filelocation=None, filename=None, processor=None):\n",
    "    shared_location = \"/home/jovyan/shared/Data/tutorials/W1D2_StateoftheClimateOceanandAtmosphereReanalysis\"  # this is different for each day\n",
    "    user_temp_cache = tempfile.gettempdir()\n",
    "\n",
    "    if os.path.exists(os.path.join(shared_location, filename)):\n",
    "        file = os.path.join(shared_location, filename)\n",
    "    else:\n",
    "        file = pooch.retrieve(\n",
    "            filelocation,\n",
    "            known_hash=None,\n",
    "            fname=os.path.join(user_temp_cache, filename),\n",
    "            processor=processor,\n",
    "        )\n",
    "\n",
    "    return file"
   ]
  },
  {
   "cell_type": "markdown",
   "metadata": {
    "execution": {}
   },
   "source": [
    "# Section 1: Vertical Distribution of Heat Within the Ocean\n",
    "\n",
    "First, let's load ECCO ocean temperature (`THETA`). This datasets contains the annual mean temperature over the period of 1992 to 2016."
   ]
  },
  {
   "cell_type": "code",
   "execution_count": null,
   "metadata": {
    "execution": {}
   },
   "outputs": [],
   "source": [
    "# import preprocessed ECCO data. This data is full depth temperature data over 1992 to 2016 (annual mean)\n",
    "# this file takes about 5 minutes to load\n",
    "filename_theta_annual = \"theta_annual_mean.nc\"\n",
    "url_theta_annual = \"https://osf.io/c8wqt/download\"\n",
    "\n",
    "theta_annual = xr.open_dataset(pooch_load(url_theta_annual, filename_theta_annual))\n",
    "theta_annual = theta_annual.THETA\n",
    "theta_annual = theta_annual.where(theta_annual != 0)  # make land points equal to NaN\n",
    "theta_annual"
   ]
  },
  {
   "cell_type": "code",
   "execution_count": null,
   "metadata": {
    "execution": {}
   },
   "outputs": [],
   "source": [
    "# take the mean over the period 1992 to 1994\n",
    "subset_theta = theta_annual.sel(year=slice(\"1992\", \"1994\")).mean(\"year\")\n",
    "subset_theta"
   ]
  },
  {
   "cell_type": "code",
   "execution_count": null,
   "metadata": {
    "execution": {}
   },
   "outputs": [],
   "source": [
    "# plot a zonal mean slice of this data. we take a mean just in longitudes by dividing the dA coordinate by the\n",
    "fig, ax = plt.subplots(figsize=(8, 6))\n",
    "(\n",
    "    ((subset_theta - 273.15) * subset_theta.dX).sum(\"longitude\")\n",
    "    / (subset_theta.dX.sum(\"longitude\"))\n",
    ").plot(ax=ax)\n",
    "ax.set_title(\"Global zonal mean of temperature (C)\")"
   ]
  },
  {
   "cell_type": "markdown",
   "metadata": {
    "execution": {}
   },
   "source": [
    "Temperatures are warmest near the ocean's surface and close to the Equator, which suggests that heat is not distributed evenly within the ocean. **In this tutorial you will explore the spatial distribution of heat storage in the ocean (i.e., ocean heat content), and how this distribution is changing over time**. \n",
    "\n",
    "Heat content is typically measured in Joules, which is equivalent to the units kg$*$m$^2$/s$^2$. To determine the heat content within a specific depth range of the global ocean, i.e., between depth $z_1$ and the surface (height of 0), you can calculate a *volume integral* over the dimensions $x,y,$ and $z$. This integral can be written as:\n",
    "$$\\iiint_{-z_1}^0 c_p \\cdot \\rho_0 \\cdot \\theta(x,y,z) dz dA$$\n",
    "\n",
    "Here, $dA$ represents the area integral over the $x$ and $y$ (lat, lon) coordinates. $\\rho_0$ is the reference density in units of kg/m$^3$ and $c_p$ is specific heat capacity in units of J/(kg$*$K)"
   ]
  },
  {
   "cell_type": "code",
   "execution_count": null,
   "metadata": {
    "execution": {}
   },
   "outputs": [],
   "source": [
    "theta_area_int = (\n",
    "    (subset_theta * subset_theta.dA).sum(\"latitude\").sum(\"longitude\")\n",
    ")  # we take an area integral first at each depth level"
   ]
  },
  {
   "cell_type": "code",
   "execution_count": null,
   "metadata": {
    "execution": {}
   },
   "outputs": [],
   "source": [
    "rho = 1026  # kg/m^3\n",
    "c_p = 3990  # J/(kg K)\n",
    "\n",
    "sns.set_style(style=\"whitegrid\")\n",
    "fig, ax = plt.subplots(figsize=(8, 6))\n",
    "ax.plot(\n",
    "    -subset_theta.Zu, (rho * c_p * theta_area_int * subset_theta.dZ).cumsum() / 10**27\n",
    ")\n",
    "ax.set_xlabel(\"Depth (m)\")\n",
    "ax.set_ylabel(\"Heat content above this depth ($10^6$ ZJ)\")\n",
    "ax.set_title(\"Global Ocean Heat Content above each depth\")"
   ]
  },
  {
   "cell_type": "markdown",
   "metadata": {
    "execution": {}
   },
   "source": [
    "You can see that much of the ocean's heat is concentrated in the upper ocean (where the line is steep), with less heat stored in the deepest ocean regions (where the line plateaus). At first glance, this seems consistent with the zonal mean plot you plotted earlier in the tutorial, where the upper ocean tends to be warmer than deeper waters. However, in the integral equation above, $\\theta$ is not the only depth-dependent term. The global ocean area ($A$) also varies with depth, with the area of the global ocean decreasing with depth until only a few deep trenches contain water at the greatest ocean depths.\n",
    "\n",
    "Let's explore whether the ocean heat content plot we just created is driven by temperature variations or global ocean area variations with depth. One way to do this is to calculate and plot an integral of the global ocean area between each depth and the surface (i.e., the volume of the ocean above a each depth): $Volume(z) = \\iiint_{-z_1}^0 dz dA$.\n",
    "\n",
    "If the volume as a function of depth looks similar to the heat content plot above, it would suggest that the  smaller heat content of the deeper ocean (i.e., the plateau at large depths) is caused by the relatively small volume of water contained at these depths, rather than the vertical variations in temperature.\n"
   ]
  },
  {
   "cell_type": "code",
   "execution_count": null,
   "metadata": {
    "execution": {}
   },
   "outputs": [],
   "source": [
    "area_of_ocean = (\n",
    "    (subset_theta * subset_theta.dA / subset_theta).sum(\"latitude\").sum(\"longitude\")\n",
    ")  # we take an area integral first at each depth level\n",
    "\n",
    "sns.set_style(style=\"whitegrid\")\n",
    "fig, ax = plt.subplots(figsize=(8, 6))\n",
    "ax.plot(-subset_theta.Zu, (area_of_ocean * subset_theta.dZ).cumsum())\n",
    "ax.set_xlabel(\"Depth (m)\")\n",
    "ax.set_ylabel(\"Volume of the global ocean above this depth (m$^3$)\")\n",
    "ax.set_title(\"Global ocean volume above each depth\")"
   ]
  },
  {
   "cell_type": "markdown",
   "metadata": {
    "execution": {}
   },
   "source": [
    "## Question 1\n",
    "\n",
    "1. Based on the last two plots, are depth-variations in ocean heat content primarily due to vertical changes in the temperature or area of the ocean?\n"
   ]
  },
  {
   "cell_type": "code",
   "execution_count": null,
   "metadata": {
    "execution": {}
   },
   "outputs": [],
   "source": [
    "# to_remove explanation\n",
    "\n",
    "\"\"\"\n",
    "1. The volume as a function of depth has a shape that is almost identical to the ocean heat content plot, which indicates that the ocean heat content above each depth is primarily shaped by depth-variations in the global ocean's area.\n",
    "\"\"\";"
   ]
  },
  {
   "cell_type": "markdown",
   "metadata": {
    "execution": {}
   },
   "source": [
    "# Section 2: Changes in Ocean Heat Content"
   ]
  },
  {
   "cell_type": "markdown",
   "metadata": {
    "execution": {}
   },
   "source": [
    "In this section you will examine how the total (i.e., full-depth) heat content of the ocean has changed over time. You will also explore heat content changes within two specific upper-ocean layers: one above 700 m depth and another above 2000 m depth$^*$. By analyzing these near surface layers, you will identify whether changes in the ocean's heat content are evenly distributed through the water column.\n",
    "\n",
    "$^*$*Note: technically the grid of the data means you will be looking above 677 m and 1997 m respectively*"
   ]
  },
  {
   "cell_type": "code",
   "execution_count": null,
   "metadata": {
    "execution": {}
   },
   "outputs": [],
   "source": [
    "# this cell may take a while to run!\n",
    "rho = 1026  # kg/m^3\n",
    "c_p = 3990  # J/(kg K)\n",
    "global_heat, years_to_plot, global_heat_upper2000, global_heat_upper700 = [], [], [], []\n",
    "for year in theta_annual.year:\n",
    "    years_to_plot.append(int(year))\n",
    "    subset_theta_year = theta_annual.sel(year=int(year))\n",
    "    global_heat.append(\n",
    "        float(\n",
    "            rho\n",
    "            * c_p\n",
    "            * (subset_theta_year * subset_theta_year.dZ * subset_theta_year.dA)\n",
    "            .sum(\"Z\")\n",
    "            .sum(\"latitude\")\n",
    "            .sum(\"longitude\")\n",
    "        )\n",
    "    )\n",
    "    global_heat_upper2000.append(\n",
    "        float(\n",
    "            rho\n",
    "            * c_p\n",
    "            * (\n",
    "                (\n",
    "                    subset_theta_year.where(subset_theta_year.Zu > -2000)\n",
    "                    * subset_theta_year.dZ\n",
    "                    * subset_theta_year.dA\n",
    "                )\n",
    "                .sum(\"Z\")\n",
    "                .sum(\"latitude\")\n",
    "                .sum(\"longitude\")\n",
    "            )\n",
    "        )\n",
    "    )\n",
    "    global_heat_upper700.append(\n",
    "        float(\n",
    "            rho\n",
    "            * c_p\n",
    "            * (\n",
    "                (\n",
    "                    subset_theta_year.where(subset_theta_year.Zu > -700)\n",
    "                    * subset_theta_year.dZ\n",
    "                    * subset_theta_year.dA\n",
    "                )\n",
    "                .sum(\"Z\")\n",
    "                .sum(\"latitude\")\n",
    "                .sum(\"longitude\")\n",
    "            )\n",
    "        )\n",
    "    )\n",
    "\n",
    "# we now have lists, and list don't support math operations (-)\n",
    "# we also divide the values by 10**21 to make them easier to read.\n",
    "\n",
    "heat_anom_fulldepth = [\n",
    "    (heat - global_heat[0]) / 10**21 for heat in global_heat\n",
    "]  # remove year 1992\n",
    "heat_anom_upper2000 = [\n",
    "    (heat - global_heat_upper2000[0]) / 10**21 for heat in global_heat_upper2000\n",
    "]  # remove year 1992\n",
    "heat_anom_upper700 = [\n",
    "    (heat - global_heat_upper700[0]) / 10**21 for heat in global_heat_upper700\n",
    "]  # remove year 1992\n",
    "heat_anom_upper2000_700 = [\n",
    "    a - b for a, b in zip(heat_anom_upper2000, heat_anom_upper700)\n",
    "]  # difference series between 2000 to 700\n",
    "heat_anom_upperfulldepth_2000 = [\n",
    "    a - b for a, b in zip(heat_anom_fulldepth, heat_anom_upper2000)\n",
    "]  # difference series between fulldepth to 2000"
   ]
  },
  {
   "cell_type": "code",
   "execution_count": null,
   "metadata": {
    "execution": {}
   },
   "outputs": [],
   "source": [
    "fig, ax = plt.subplots(figsize=(8, 6))\n",
    "sns.set_style(style=\"whitegrid\")\n",
    "ax.plot(years_to_plot, heat_anom_fulldepth, \"k--\")\n",
    "ax.plot(years_to_plot, heat_anom_upper700)\n",
    "ax.plot(years_to_plot, heat_anom_upper2000_700)\n",
    "ax.plot(years_to_plot, heat_anom_upperfulldepth_2000)\n",
    "ax.set_xlabel(\"Time\")\n",
    "ax.set_ylabel(\"Heat content change (ZJ)\")\n",
    "ax.legend(\n",
    "    [\n",
    "        \"Full depth\",\n",
    "        \"Surface to 700 meters depth\",\n",
    "        \"700 to 2000 meters depth\",\n",
    "        \"Below 2000 meters depth\",\n",
    "    ]\n",
    ")\n",
    "ax.set_title(\"Change in heat over time\")"
   ]
  },
  {
   "cell_type": "markdown",
   "metadata": {
    "execution": {}
   },
   "source": [
    "## Questions 2\n",
    "\n",
    "The volume of the ocean model in the reanalysis product does not change over time. Thus the *changes* in ocean heat content that you just calculated are caused by changes in the ocean's temperature. Most of the ocean's warming (heat gain) has been within the upper ocean (shallower than 700 m). The deeper ocean has also warmed, but not as substantially as near-surface waters.\n",
    "\n",
    "1. Based on this graph, what percentage of the ocean's heat gain since 1992 is contained within the top 2000 meters?\n"
   ]
  },
  {
   "cell_type": "code",
   "execution_count": null,
   "metadata": {
    "execution": {}
   },
   "outputs": [],
   "source": [
    "# to_remove explanation\n",
    "\n",
    "\"\"\"\n",
    "1. The total heat gain is around 190 ZJ, while the upper layers have gained roughly 130 ZJ (above 700 m) and 35 ZJ (700-2000 m). This means the upper 2000 m contain (130+35)/190 = 87% of the ocean's heat gain, despite containing only ~50% of the ocean's water (see the volume plot you created in Section 1).\n",
    "\"\"\";"
   ]
  },
  {
   "cell_type": "markdown",
   "metadata": {
    "execution": {}
   },
   "source": [
    "# Section 3: Spatial Distribution of Ocean Heat Content"
   ]
  },
  {
   "cell_type": "markdown",
   "metadata": {
    "execution": {}
   },
   "source": [
    "You just saw that the ocean heat increase is concentrated near the ocean surface. **Now you will explore where that heat is stored as a function of latitude and longitude**. You can do this by creating a global map of ocean heat content in the upper 700 m of the ocean - which is essentially the same integral as above without the horizontal area integral: $\\int_{-700m}^0 c_p\\rho_0\\theta(x,y,z) dz$"
   ]
  },
  {
   "cell_type": "code",
   "execution_count": null,
   "metadata": {
    "execution": {}
   },
   "outputs": [],
   "source": [
    "# first let's plot where heat is stored in the mean\n",
    "fig, ax = plt.subplots(\n",
    "    subplot_kw={\"projection\": ccrs.PlateCarree()}, figsize=(11, 12), dpi=100\n",
    ")  # this is from cartopy https://rabernat.github.io/research_computing_2018/maps-with-cartopy.html\n",
    "\n",
    "p = (\n",
    "    (\n",
    "        (rho * c_p * subset_theta.where(-subset_theta.Zu < 700) * subset_theta.dZ).sum(\n",
    "            \"Z\"\n",
    "        )\n",
    "    )\n",
    ").plot(\n",
    "    vmin=7e11,\n",
    "    vmax=8.15e11,\n",
    "    cmap=cmocean.cm.thermal,\n",
    "    cbar_kwargs={\n",
    "        \"shrink\": 0.75,\n",
    "        \"orientation\": \"horizontal\",\n",
    "        \"extend\": \"both\",\n",
    "        \"pad\": 0.05,\n",
    "        \"label\": \"\",\n",
    "    },\n",
    "    ax=ax,\n",
    ")\n",
    "ax.coastlines(color=\"grey\", lw=0.5)\n",
    "ax.set_xticks([-180, -120, -60, 0, 60, 120, 180], crs=ccrs.PlateCarree())\n",
    "ax.set_yticks([-90, -60, -30, 0, 30, 60, 90], crs=ccrs.PlateCarree())\n",
    "lon_formatter = LongitudeFormatter(zero_direction_label=True)\n",
    "lat_formatter = LatitudeFormatter()\n",
    "ax.add_feature(cart.feature.LAND, zorder=100, edgecolor=\"k\")\n",
    "ax.set_title(\n",
    "    \"Ocean Heat Content of top 700 m per unit area, mean of 1992 to 1994, J m$^{-2}$\"\n",
    ")\n",
    "fig.tight_layout()"
   ]
  },
  {
   "cell_type": "markdown",
   "metadata": {
    "execution": {}
   },
   "source": [
    "The lower latitude ocean contains more heat than the higher latitudes. This finding is consistent with your previous plot of warmer waters near the Equator during this tutorial. \n",
    "\n",
    "*Note: the color scale of this figure was chosen to emphasize latitudinal differences in ocean heat conent. As a result, some regions with shallow water depth display as black on the plot due to their relatively low column-integrated ocean heat content ($<7 \\times 10^{11} J m^{-2}$). **These black regions do not have zero ocean heat content.***\n",
    "\n",
    "Now let's explore the spatial pattern of (full-depth) ocean heat content *rate of change* between 1992 and 2016."
   ]
  },
  {
   "cell_type": "code",
   "execution_count": null,
   "metadata": {
    "execution": {}
   },
   "outputs": [],
   "source": [
    "# we already defined an object that's the mean over years 1992 to 1994 (subset_theta)\n",
    "# now define an object that's the mean over 2014 to 2016\n",
    "subset_theta_future = theta_annual.sel(year=slice(\"2014\", \"2016\")).mean(\"year\")\n",
    "\n",
    "length_of_time_period = 24 * 60 * 60 * 365 * (2015 - 1993)\n",
    "\n",
    "full_depth_heat_content_change = (\n",
    "    rho * c_p * subset_theta_future * subset_theta_future.dZ\n",
    ").sum(\"Z\") - (rho * c_p * subset_theta * subset_theta.dZ).sum(\"Z\")\n",
    "upper_700m_heat_content_change = (\n",
    "    rho\n",
    "    * c_p\n",
    "    * subset_theta_future.where(-subset_theta.Zu < 700)\n",
    "    * subset_theta_future.dZ\n",
    ").sum(\"Z\") - (\n",
    "    rho * c_p * subset_theta.where(-subset_theta.Zu < 700) * subset_theta.dZ\n",
    ").sum(\n",
    "    \"Z\"\n",
    ")"
   ]
  },
  {
   "cell_type": "code",
   "execution_count": null,
   "metadata": {
    "execution": {}
   },
   "outputs": [],
   "source": [
    "fig, ax = plt.subplots(\n",
    "    1, 2, subplot_kw={\"projection\": ccrs.PlateCarree()}, figsize=(11, 12), dpi=100\n",
    ")  # this is from cartopy https://rabernat.github.io/research_computing_2018/maps-with-cartopy.html\n",
    "(full_depth_heat_content_change / length_of_time_period).plot(\n",
    "    ax=ax[0],\n",
    "    vmin=-10,\n",
    "    vmax=10,\n",
    "    cmap=cmocean.cm.balance,\n",
    "    cbar_kwargs={\n",
    "        \"shrink\": 0.75,\n",
    "        \"orientation\": \"horizontal\",\n",
    "        \"extend\": \"both\",\n",
    "        \"pad\": 0.05,\n",
    "        \"label\": \"\",\n",
    "    },\n",
    ")\n",
    "(upper_700m_heat_content_change / length_of_time_period).plot(\n",
    "    ax=ax[1],\n",
    "    vmin=-10,\n",
    "    vmax=10,\n",
    "    cmap=cmocean.cm.balance,\n",
    "    cbar_kwargs={\n",
    "        \"shrink\": 0.75,\n",
    "        \"orientation\": \"horizontal\",\n",
    "        \"extend\": \"both\",\n",
    "        \"pad\": 0.05,\n",
    "        \"label\": \"\",\n",
    "    },\n",
    ")\n",
    "ax[0].coastlines(color=\"grey\", lw=0.5)\n",
    "ax[0].set_xticks([-180, -120, -60, 0, 60, 120, 180], crs=ccrs.PlateCarree())\n",
    "ax[0].set_yticks([-90, -60, -30, 0, 30, 60, 90], crs=ccrs.PlateCarree())\n",
    "lon_formatter = LongitudeFormatter(zero_direction_label=True)\n",
    "lat_formatter = LatitudeFormatter()\n",
    "ax[0].add_feature(cart.feature.LAND, zorder=100, edgecolor=\"k\")\n",
    "ax[0].set_title(\n",
    "    \"Rate of change in full-depth ocean heat content \\n (2014-2016 minus 1992-1994); (J m$^{-2}$)/year\"\n",
    ")\n",
    "fig.tight_layout\n",
    "ax[1].coastlines(color=\"grey\", lw=0.5)\n",
    "ax[1].set_xticks([-180, -120, -60, 0, 60, 120, 180], crs=ccrs.PlateCarree())\n",
    "ax[1].set_yticks([-90, -60, -30, 0, 30, 60, 90], crs=ccrs.PlateCarree())\n",
    "ax[0].set_ylabel(\"Latitude\")\n",
    "ax[1].set_ylabel(\"\")\n",
    "ax[0].set_xlabel(\"Longitude\")\n",
    "ax[1].set_xlabel(\"Longitude\")\n",
    "lon_formatter = LongitudeFormatter(zero_direction_label=True)\n",
    "lat_formatter = LatitudeFormatter()\n",
    "ax[1].add_feature(cart.feature.LAND, zorder=100, edgecolor=\"k\")\n",
    "ax[1].set_title(\n",
    "    \"Rate of change in upper 700 m ocean heat content \\n (2014-2016 minus 1992-1994); (J m$^{-2}$)/year\"\n",
    ")\n",
    "fig.tight_layout"
   ]
  },
  {
   "cell_type": "markdown",
   "metadata": {
    "execution": {}
   },
   "source": [
    "With these plots, you demonstrated that ocean heat gain is not evenly distributed across space. When comparing the two plots, you once again see that the upper ocean contains a large fraction of the warming (recall that Equatorial regions contribute more to the global mean than high-latitude regions becasue of their relatively large area)."
   ]
  },
  {
   "cell_type": "markdown",
   "metadata": {
    "execution": {}
   },
   "source": [
    "# Summary\n",
    "\n",
    "In this tutorial, you have quantified the spatial patterns and temporal changes of the ocean's heat content. You showed that the upper layers of the ocean contain most of the ocean's heat content, due to their relatively large area (and hence volume) compared to the deepest ocean layers. These upper layers also experience a disproportionately large fraction of the ocean warming that has been observed in recent decades. You also found that heat content distribution varies by latitude and longitude, and is typically greater in the lower latitudes, and the ocean's heat gain over time is not uniformly distributed across different oceanic regions."
   ]
  },
  {
   "cell_type": "markdown",
   "metadata": {
    "execution": {}
   },
   "source": [
    "# Resources\n",
    "\n",
    "Data for this tutorial can be accessed [here](https://www.ecco-group.org/)."
   ]
  }
 ],
 "metadata": {
  "colab": {
   "collapsed_sections": [],
   "include_colab_link": true,
   "name": "W1D2_Tutorial6",
   "provenance": [],
   "toc_visible": true
  },
  "kernel": {
   "display_name": "Python 3",
   "language": "python",
   "name": "python3"
  },
  "kernelspec": {
   "display_name": "Python 3 (ipykernel)",
   "language": "python",
   "name": "python3"
  },
  "language_info": {
   "codemirror_mode": {
    "name": "ipython",
    "version": 3
   },
   "file_extension": ".py",
   "mimetype": "text/x-python",
   "name": "python",
   "nbconvert_exporter": "python",
   "pygments_lexer": "ipython3",
   "version": "3.10.12"
  }
 },
 "nbformat": 4,
 "nbformat_minor": 4
}