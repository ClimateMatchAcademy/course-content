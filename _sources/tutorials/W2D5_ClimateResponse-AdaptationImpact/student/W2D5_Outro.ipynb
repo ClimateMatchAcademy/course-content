{
 "cells": [
  {
   "cell_type": "markdown",
   "id": "cbe66527",
   "metadata": {},
   "source": [
    "# Outro"
   ]
  },
  {
   "cell_type": "markdown",
   "id": "223a5d62",
   "metadata": {},
   "source": [
    "The tools learned on this day are widely applicable to many climate topics, some of which were already covered in this course but also many more topic areas of importance to climate change mitigation and adaptation. As discussed, however, care most always be taken when interpreting and using machine learning models in the real world."
   ]
  }
 ],
 "metadata": {
  "kernelspec": {
   "display_name": "Python 3 (ipykernel)",
   "language": "python",
   "name": "python3"
  },
  "language_info": {
   "codemirror_mode": {
    "name": "ipython",
    "version": 3
   },
   "file_extension": ".py",
   "mimetype": "text/x-python",
   "name": "python",
   "nbconvert_exporter": "python",
   "pygments_lexer": "ipython3",
   "version": "3.10.8"
  }
 },
 "nbformat": 4,
 "nbformat_minor": 5
}