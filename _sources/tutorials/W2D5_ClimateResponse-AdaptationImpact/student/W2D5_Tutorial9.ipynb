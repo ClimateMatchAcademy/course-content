{
 "cells": [
  {
   "cell_type": "markdown",
   "metadata": {
    "execution": {}
   },
   "source": [
    "# Tutorial 9:  Exploring other applications\n",
    "\n",
    "\n",
    "---\n",
    "\n",
    "\n",
    "**Week 2, Day 5: Climate Response: adaptation and impact**\n",
    "\n",
    "**By Climatematch Academy**\n",
    "\n",
    "__Content creators:__ Deepak Mewada, Grace Lindsay\n",
    "\n",
    "__Content reviewers:__ Ohad Zivan, Name Surname\n",
    "\n",
    "__Content editors:__ Name Surname, Name Surname\n",
    "\n",
    "__Production editors:__ Name Surname, Name Surname"
   ]
  },
  {
   "cell_type": "markdown",
   "metadata": {
    "execution": {}
   },
   "source": [
    "\n",
    "---\n",
    "# Tutorial Objective\n",
    "\n",
    "\n",
    "The objective of this tutorial is to help participants of the ClimateMatch Academy to explore and think critically about different climate-related datasets, frame problems in data science terms, and consider the potential impact of machine learning solutions in the real world. By the end of this tutorial, participants should have a better understanding of how to identify and evaluate relevant datasets, select appropriate methods and data for solving problems, and consider the ethical and practical implications of their solutions.\n",
    "\n",
    "---\n",
    "\n"
   ]
  },
  {
   "cell_type": "markdown",
   "metadata": {},
   "source": [
    "##  Tutorial slides\n"
   ]
  },
  {
   "cell_type": "markdown",
   "metadata": {},
   "source": [
    " These are the slides for the videos in all tutorials today\n"
   ]
  },
  {
   "cell_type": "markdown",
   "metadata": {},
   "source": [
    "###  Tutorial slides\n"
   ]
  },
  {
   "cell_type": "markdown",
   "metadata": {},
   "source": [
    " These are the slides for the videos in all tutorials today\n"
   ]
  },
  {
   "cell_type": "markdown",
   "metadata": {},
   "source": [
    "####  Tutorial slides\n"
   ]
  },
  {
   "cell_type": "markdown",
   "metadata": {},
   "source": [
    " These are the slides for the videos in all tutorials today\n"
   ]
  },
  {
   "cell_type": "code",
   "execution_count": null,
   "metadata": {
    "cellView": "form",
    "execution": {},
    "executionInfo": {
     "elapsed": 4,
     "status": "ok",
     "timestamp": 1681525378935,
     "user": {
      "displayName": "Deepak Mewada",
      "userId": "10376201445384716451"
     },
     "user_tz": -330
    },
    "tags": [
     "remove-input"
    ]
   },
   "outputs": [],
   "source": [
    "# @title Tutorial slides\n",
    "\n",
    "# @markdown These are the slides for the videos in all tutorials today\n",
    "from IPython.display import IFrame\n",
    "IFrame(src=f\"https://mfr.ca-1.osf.io/render?url=https://osf.io/kaq2x/?direct%26mode=render%26action=download%26mode=render\", width=854, height=480)"
   ]
  },
  {
   "cell_type": "markdown",
   "metadata": {
    "execution": {}
   },
   "source": [
    "---\n",
    "\n",
    "# Section 1: Finding Other Datsets, Identifying Applications and Considering Impact\n",
    "\n",
    "\n",
    "---\n",
    "\n"
   ]
  },
  {
   "cell_type": "markdown",
   "metadata": {},
   "source": [
    "##  Video 1: Video 1 Name\n"
   ]
  },
  {
   "cell_type": "markdown",
   "metadata": {},
   "source": [
    "###  Video 1: Video 1 Name\n"
   ]
  },
  {
   "cell_type": "markdown",
   "metadata": {},
   "source": [
    "####  Video 1: Video 1 Name\n"
   ]
  },
  {
   "cell_type": "code",
   "execution_count": null,
   "metadata": {
    "cellView": "form",
    "execution": {},
    "executionInfo": {
     "elapsed": 460,
     "status": "ok",
     "timestamp": 1681525380609,
     "user": {
      "displayName": "Deepak Mewada",
      "userId": "10376201445384716451"
     },
     "user_tz": -330
    },
    "tags": [
     "remove-input"
    ]
   },
   "outputs": [],
   "source": [
    "# @title Video 1: Video 1 Name\n",
    "from ipywidgets import widgets\n",
    "from IPython.display import display, IFrame, YouTubeVideo\n",
    "\n",
    "out2 = widgets.Output()\n",
    "with out2:\n",
    "  class BiliVideo(IFrame):\n",
    "    def __init__(self, id, page=1, width=400, height=300, **kwargs):\n",
    "      self.id=id\n",
    "      src = 'https://player.bilibili.com/player.html?bvid={0}&page={1}'.format(id, page)\n",
    "      super(BiliVideo, self).__init__(src, width, height, **kwargs)\n",
    "\n",
    "  video = BiliVideo(id=\"\", width=730, height=410, fs=1)\n",
    "  print(f'Video available at https://www.bilibili.com/video/{video.id}')\n",
    "  display(video)\n",
    "\n",
    "out1 = widgets.Output()\n",
    "with out1:\n",
    "  video = YouTubeVideo(id=\"\", width=730, height=410, fs=1, rel=0)\n",
    "  print(f'Video available at https://youtube.com/watch?v={video.id}')\n",
    "  display(video)\n",
    "\n",
    "out = widgets.Tab([out1, out2])\n",
    "out.set_title(0, 'Youtube')\n",
    "out.set_title(1, 'Bilibili')\n",
    "\n",
    "display(out)"
   ]
  },
  {
   "cell_type": "markdown",
   "metadata": {
    "execution": {}
   },
   "source": [
    "\n",
    "\n",
    "---\n",
    "\n",
    "\n",
    "## Section 1.1:  Finding Other Datasets\n",
    "\n",
    "---"
   ]
  },
  {
   "cell_type": "markdown",
   "metadata": {
    "execution": {}
   },
   "source": [
    "Now that you know the basics of how machine learning tools can be applied to climate-related data, In this tutorial, you will explore more climate-related datasets and think about how you would approach them using machine learning tools. Specifically, you will look at the [Climate Change AI wiki](https://wiki.climatechange.ai/wiki/Buildings_and_Cities) and identify 2-3 problems that are of interest to you and your pod.\n",
    "\n",
    "Take some time to review the papers or dataset and  Identify 2-3 papers/datasets you'd like to discuss further"
   ]
  },
  {
   "cell_type": "markdown",
   "metadata": {
    "execution": {}
   },
   "source": [
    "\n",
    "\n",
    "---\n",
    "\n",
    "\n",
    "## Section 1.2: Framing Problems in Data Science Terms\n",
    "\n",
    "---\n",
    "\n"
   ]
  },
  {
   "cell_type": "markdown",
   "metadata": {
    "execution": {}
   },
   "source": [
    "Now that you have identified the datasets and papers that interest you, it's time to frame the problems in data science terms.\n",
    "\n",
    "For each problem, consider the following questions:\n",
    "\n",
    "- What kind of problem is it? Regression, classification, or something else?\n",
    "- What methods could you use to address it? What data is most important?\n",
    "- What kind of challenges might you face in trying to build a machine learning system for this problem?\n",
    "\n",
    "Write down your answers to these questions for each problem you have selected. Share your findings with your pod and discuss potential solutions."
   ]
  },
  {
   "cell_type": "markdown",
   "metadata": {
    "execution": {}
   },
   "source": [
    "\n",
    "\n",
    "---\n",
    "## Section 1.3: Considering Impact\n",
    "\n",
    "\n",
    "---\n",
    "\n"
   ]
  },
  {
   "cell_type": "markdown",
   "metadata": {
    "execution": {}
   },
   "source": [
    "Machine learning and data science can help solve several technical challenges that will be important for addressing and adapting to climate change. However, the full potential of these approaches won't be realized if they aren't appropriately and fairly integrated with companies, communities, governments, and decision makers.\n",
    "\n",
    "Discuss what needs to happen to make these models impactful in the real world. Consider the following questions:\n",
    "\n",
    "- What are the potential hazards that need to be addressed before implementing machine learning systems for climate-related problems?\n",
    "- How can we ensure that these models are appropriately and fairly integrated into decision-making processes at different levels of government and industry?\n",
    "- How can we ensure that the models are accessible to stakeholders and the public?\n",
    "\n",
    "Work with your pod to brainstorm potential solutions to these challenges and discuss how you can work towards implementing them in your own work."
   ]
  },
  {
   "cell_type": "markdown",
   "metadata": {
    "execution": {}
   },
   "source": [
    "\n",
    "\n",
    "---\n",
    "\n",
    "\n",
    "#Summary\n",
    "In this tutorial, we explored the importance of exploring more datasets, framing problems in data science terms, and considering impact. We encourage you to continue exploring datasets and framing problems in data science terms. Remember to consider the ethical implications of using datasets and ensure that the models are appropriately and fairly integrated with stakeholders.\n",
    "\n",
    "\n",
    "---\n",
    "\n"
   ]
  }
 ],
 "metadata": {
  "colab": {
   "collapsed_sections": [],
   "include_colab_link": true,
   "name": "W2D5_Tutorial9",
   "provenance": [],
   "toc_visible": true
  },
  "kernel": {
   "display_name": "Python 3",
   "language": "python",
   "name": "python3"
  },
  "kernelspec": {
   "display_name": "Python 3 (pangeo)",
   "language": "python",
   "name": "pangeo"
  },
  "language_info": {
   "codemirror_mode": {
    "name": "ipython",
    "version": 3
   },
   "file_extension": ".py",
   "mimetype": "text/x-python",
   "name": "python",
   "nbconvert_exporter": "python",
   "pygments_lexer": "ipython3",
   "version": "3.10.10"
  }
 },
 "nbformat": 4,
 "nbformat_minor": 0
}