{
 "cells": [
  {
   "cell_type": "markdown",
   "id": "c57bdbdf",
   "metadata": {},
   "source": [
    "# Day Summary"
   ]
  },
  {
   "cell_type": "markdown",
   "id": "af474117",
   "metadata": {},
   "source": [
    "The tutorials today provided an overview of Earth’s climate system as well as an introduction to Xarray. You learned about long-term, natural forcings and feedbacks that influence Earth’s climate including Earth’s energy budget, orbital forcings and the carbon cycle and explored various processes within the atmospheric, oceanic and terrestrial components of Earth’s climate system. Additionally, you learned useful tools in Xarray for formatting, analyzing and interpreting climate data"
   ]
  }
 ],
 "metadata": {
  "kernelspec": {
   "display_name": "Python 3 (ipykernel)",
   "language": "python",
   "name": "python3"
  },
  "language_info": {
   "codemirror_mode": {
    "name": "ipython",
    "version": 3
   },
   "file_extension": ".py",
   "mimetype": "text/x-python",
   "name": "python",
   "nbconvert_exporter": "python",
   "pygments_lexer": "ipython3",
   "version": "3.10.8"
  }
 },
 "nbformat": 4,
 "nbformat_minor": 5
}