{
 "cells": [
  {
   "cell_type": "markdown",
   "id": "bb42d526",
   "metadata": {},
   "source": [
    "# Outro"
   ]
  },
  {
   "cell_type": "markdown",
   "id": "9c2120be",
   "metadata": {},
   "source": [
    "Now that you’ve explored various components, forcings and processes of Earth’s climate system, we can start to use additional climate data from various sources to investigate variability in Earth’s climate on multiple spatial and temporal scales. "
   ]
  }
 ],
 "metadata": {
  "kernelspec": {
   "display_name": "Python 3 (ipykernel)",
   "language": "python",
   "name": "python3"
  },
  "language_info": {
   "codemirror_mode": {
    "name": "ipython",
    "version": 3
   },
   "file_extension": ".py",
   "mimetype": "text/x-python",
   "name": "python",
   "nbconvert_exporter": "python",
   "pygments_lexer": "ipython3",
   "version": "3.10.8"
  }
 },
 "nbformat": 4,
 "nbformat_minor": 5
}
