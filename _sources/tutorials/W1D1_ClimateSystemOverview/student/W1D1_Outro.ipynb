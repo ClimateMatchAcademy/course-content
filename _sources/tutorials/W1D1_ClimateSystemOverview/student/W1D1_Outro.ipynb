{
 "cells": [
  {
   "cell_type": "markdown",
   "id": "bb42d526",
   "metadata": {
    "execution": {}
   },
   "source": [
    "# Outro"
   ]
  },
  {
   "cell_type": "markdown",
   "id": "9c2120be",
   "metadata": {
    "execution": {}
   },
   "source": [
    "Now that you’ve explored various components, forcings and processes of Earth’s climate system, we can start to use additional climate data from various sources to investigate variability in Earth’s climate on multiple spatial and temporal scales. "
   ]
  }
 ],
 "metadata": {
  "colab": {
   "collapsed_sections": [],
   "include_colab_link": true,
   "name": "W1D1_Outro",
   "toc_visible": true
  },
  "kernel": {
   "display_name": "Python 3",
   "language": "python",
   "name": "python3"
  },
  "kernelspec": {
   "display_name": "Python 3 (ipykernel)",
   "language": "python",
   "name": "python3"
  },
  "language_info": {
   "codemirror_mode": {
    "name": "ipython",
    "version": 3
   },
   "file_extension": ".py",
   "mimetype": "text/x-python",
   "name": "python",
   "nbconvert_exporter": "python",
   "pygments_lexer": "ipython3",
   "version": "3.10.12"
  }
 },
 "nbformat": 4,
 "nbformat_minor": 5
}