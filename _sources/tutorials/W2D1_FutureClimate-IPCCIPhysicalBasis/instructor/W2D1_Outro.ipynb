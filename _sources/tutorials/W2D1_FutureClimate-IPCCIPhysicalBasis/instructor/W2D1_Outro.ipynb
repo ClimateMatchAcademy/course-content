{
 "cells": [
  {
   "cell_type": "markdown",
   "id": "795f9948",
   "metadata": {
    "execution": {}
   },
   "source": [
    "# Outro"
   ]
  },
  {
   "cell_type": "markdown",
   "id": "4b4bf019",
   "metadata": {
    "execution": {}
   },
   "source": [
    "Today you have analyzed data from numerous cutting-edge & complex climate models used by the Intergovernmental Panel on Climate Change (IPCC) to assess projections of future climate under different socioeconomic & emission scenarios. In today’s videos, you saw some of the ways in which these scenarios differ from each other (e.g., emission rates & amounts, land use change), but one big question was not addressed. Why were these specific scenarios used for CMIP6? On W2D3, you will answer this question by delving into the socio-economic side of Earth’s future. Through this process you will explore the coupling between social sciences, politics, economics, and anthropogenic climate forcing."
   ]
  }
 ],
 "metadata": {
  "colab": {
   "collapsed_sections": [],
   "include_colab_link": true,
   "name": "W2D1_Outro",
   "toc_visible": true
  },
  "kernel": {
   "display_name": "Python 3",
   "language": "python",
   "name": "python3"
  },
  "kernelspec": {
   "display_name": "Python 3 (ipykernel)",
   "language": "python",
   "name": "python3"
  },
  "language_info": {
   "codemirror_mode": {
    "name": "ipython",
    "version": 3
   },
   "file_extension": ".py",
   "mimetype": "text/x-python",
   "name": "python",
   "nbconvert_exporter": "python",
   "pygments_lexer": "ipython3",
   "version": "3.10.12"
  }
 },
 "nbformat": 4,
 "nbformat_minor": 5
}