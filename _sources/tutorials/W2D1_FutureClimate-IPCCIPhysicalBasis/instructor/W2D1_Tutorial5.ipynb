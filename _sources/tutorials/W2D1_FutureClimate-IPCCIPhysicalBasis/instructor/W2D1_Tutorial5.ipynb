{
 "cells": [
  {
   "cell_type": "markdown",
   "metadata": {
    "execution": {}
   },
   "source": [
    "#**W2D1 Tutorial 2: Time series, global averages, and scenario comparison**\n",
    "\n",
    "> Indented block\n",
    "\n",
    "> Indented block\n",
    "\n",
    "\n",
    "\n",
    "\n",
    "**Week 2, Day 1, Future Climate: The Physical Basis**\n",
    "\n",
    "**Content creators:** Brodie Pearson (Day Lead), Julius Busecke (Tutorial co-lead), Tom Nicholas (Tutorial co-lead)\n",
    "\n",
    "**Content reviewers:** Jenna Pearson, Ohad Zivan\n",
    "\n",
    "**Content editors:** TBD\n",
    "\n",
    "**Production editors:** TBD\n",
    "\n",
    "**Our 2023 Sponsors:** TBD"
   ]
  },
  {
   "cell_type": "markdown",
   "metadata": {
    "execution": {}
   },
   "source": [
    "#**Tutorial Objectives**\n",
    "\n",
    "Today's tutorials demonstrate how to work with data from *Earth System Models* (ESMs) simulations conducted for the recent *Climate Model Intercomparison Project* (CMIP6) \n",
    "\n",
    "By the end of today's tutorials you will be able to:\n",
    "\n",
    "*   Manipulate raw data from multiple CMIP6 models\n",
    "*   Evaluate the spread of future projections from several CMIP6 models\n",
    "*   Synthesize climate data from observations and models\n",
    "\n"
   ]
  },
  {
   "cell_type": "markdown",
   "metadata": {
    "execution": {}
   },
   "source": [
    "#**Setup**\n",
    "\n",
    "    \n",
    "\n"
   ]
  },
  {
   "cell_type": "code",
   "execution_count": null,
   "metadata": {
    "execution": {},
    "executionInfo": {
     "elapsed": 21495,
     "status": "ok",
     "timestamp": 1682794856980,
     "user": {
      "displayName": "Brodie Pearson",
      "userId": "05269028596972519847"
     },
     "user_tz": 420
    },
    "tags": [
     "colab"
    ]
   },
   "outputs": [],
   "source": [
    "# #Imports\n",
    "\n",
    "# !pip install condacolab &> /dev/null\n",
    "# import condacolab\n",
    "# condacolab.install()\n",
    "\n",
    "# # Install all packages in one call (+ use mamba instead of conda)\n",
    "# # hopefully this improves speed\n",
    "# !mamba install xarray-datatree intake-esm gcsfs xmip aiohttp nc-time-axis cf_xarray xarrayutils &> /dev/null"
   ]
  },
  {
   "cell_type": "code",
   "execution_count": null,
   "metadata": {
    "execution": {},
    "executionInfo": {
     "elapsed": 3115,
     "status": "ok",
     "timestamp": 1682794860069,
     "user": {
      "displayName": "Brodie Pearson",
      "userId": "05269028596972519847"
     },
     "user_tz": 420
    }
   },
   "outputs": [],
   "source": [
    "import time\n",
    "\n",
    "tic = time.time()\n",
    "\n",
    "import intake\n",
    "import numpy as np\n",
    "import matplotlib.pyplot as plt\n",
    "import xarray as xr\n",
    "\n",
    "from xmip.preprocessing import combined_preprocessing\n",
    "from xarrayutils.plotting import shaded_line_plot\n",
    "\n",
    "from datatree import DataTree\n",
    "from xmip.postprocessing import _parse_metric"
   ]
  },
  {
   "cell_type": "markdown",
   "metadata": {},
   "source": [
    "##  Figure settings\n"
   ]
  },
  {
   "cell_type": "code",
   "execution_count": null,
   "metadata": {
    "cellView": "form",
    "execution": {},
    "executionInfo": {
     "elapsed": 276,
     "status": "ok",
     "timestamp": 1682794866543,
     "user": {
      "displayName": "Brodie Pearson",
      "userId": "05269028596972519847"
     },
     "user_tz": 420
    },
    "tags": [
     "hide-input"
    ]
   },
   "outputs": [],
   "source": [
    "# @title Figure settings\n",
    "import ipywidgets as widgets  # interactive display\n",
    "\n",
    "%config InlineBackend.figure_format = 'retina'\n",
    "plt.style.use(\n",
    "    \"https://raw.githubusercontent.com/ClimateMatchAcademy/course-content/main/cma.mplstyle\"\n",
    ")\n",
    "# model_colors = {k:f\"C{ki}\" for ki, k in enumerate(source_ids)}"
   ]
  },
  {
   "cell_type": "markdown",
   "metadata": {},
   "source": [
    "##  Plotting functions\n"
   ]
  },
  {
   "cell_type": "code",
   "execution_count": null,
   "metadata": {
    "cellView": "form",
    "execution": {},
    "executionInfo": {
     "elapsed": 4,
     "status": "ok",
     "timestamp": 1682794867567,
     "user": {
      "displayName": "Brodie Pearson",
      "userId": "05269028596972519847"
     },
     "user_tz": 420
    },
    "tags": [
     "hide-input"
    ]
   },
   "outputs": [],
   "source": [
    "# @title Plotting functions\n",
    "\n",
    "# You may have functions that plot results that aren't\n",
    "# particularly interesting. You can add these here to hide them.\n",
    "\n",
    "\n",
    "def plotting_z(z):\n",
    "    \"\"\"This function multiplies every element in an array by a provided value\n",
    "\n",
    "    Args:\n",
    "      z (ndarray): neural activity over time, shape (T, ) where T is number of timesteps\n",
    "\n",
    "    \"\"\"\n",
    "\n",
    "    fig, ax = plt.subplots()\n",
    "\n",
    "    ax.plot(z)\n",
    "    ax.set(xlabel=\"Time (s)\", ylabel=\"Z\", title=\"Neural activity over time\")"
   ]
  },
  {
   "cell_type": "markdown",
   "metadata": {},
   "source": [
    "##  Helper functions\n"
   ]
  },
  {
   "cell_type": "code",
   "execution_count": null,
   "metadata": {
    "cellView": "form",
    "execution": {},
    "executionInfo": {
     "elapsed": 281,
     "status": "ok",
     "timestamp": 1682794870981,
     "user": {
      "displayName": "Brodie Pearson",
      "userId": "05269028596972519847"
     },
     "user_tz": 420
    },
    "tags": [
     "hide-input"
    ]
   },
   "outputs": [],
   "source": [
    "# @title Helper functions\n",
    "\n",
    "# If any helper functions you want to hide for clarity (that has been seen before\n",
    "# or is simple/uniformative), add here\n",
    "# If helper code depends on libraries that aren't used elsewhere,\n",
    "# import those libaries here, rather than in the main import cell\n",
    "\n",
    "\n",
    "def global_mean(ds: xr.Dataset) -> xr.Dataset:\n",
    "    \"\"\"Global average, weighted by the cell area\"\"\"\n",
    "    return ds.weighted(ds.areacello.fillna(0)).mean([\"x\", \"y\"], keep_attrs=True)\n",
    "\n",
    "\n",
    "# Calculate anomaly to reference period\n",
    "def datatree_anomaly(dt):\n",
    "    dt_out = DataTree()\n",
    "    for model, subtree in dt.items():\n",
    "        # for the coding exercise, ellipses will go after sel on the following line\n",
    "        ref = dt[model][\"historical\"].ds.sel(time=slice(\"1950\", \"1980\")).mean()\n",
    "        dt_out[model] = subtree - ref\n",
    "    return dt_out\n",
    "\n",
    "\n",
    "def plot_historical_ssp126_combined(dt):\n",
    "    for model in dt.keys():\n",
    "        datasets = []\n",
    "        for experiment in [\"historical\", \"ssp126\"]:\n",
    "            datasets.append(dt[model][experiment].ds.tos)\n",
    "\n",
    "        da_combined = xr.concat(datasets, dim=\"time\")"
   ]
  },
  {
   "cell_type": "markdown",
   "metadata": {},
   "source": [
    "##  Video 1: Video 1 Name\n"
   ]
  },
  {
   "cell_type": "code",
   "execution_count": null,
   "metadata": {
    "cellView": "form",
    "execution": {},
    "executionInfo": {
     "elapsed": 279,
     "status": "ok",
     "timestamp": 1682794874315,
     "user": {
      "displayName": "Brodie Pearson",
      "userId": "05269028596972519847"
     },
     "user_tz": 420
    },
    "tags": [
     "hide-input"
    ]
   },
   "outputs": [],
   "source": [
    "# @title Video 1: Video 1 Name\n",
    "# Tech team will add code to format and display the video"
   ]
  },
  {
   "cell_type": "markdown",
   "metadata": {
    "execution": {}
   },
   "source": [
    "## **Tutorial 5: Internal climate variability & single-model ensembles**\n",
    "\n",
    "One of the CMIP6 models we are using in today's tutorials, *MPI-ESM1-2-LR* is part of single-model ensemble, where its modelling center carried out multiple simulations from that model for each CMIP6 experiment.\n",
    "\n",
    "Let's take advantage of this to quantify the internal variability of this model's simulated climate, and compare the uncertainty due to this variability to the multi-model uncertainty we diagnosed in the previous tutorial."
   ]
  },
  {
   "cell_type": "markdown",
   "metadata": {
    "execution": {}
   },
   "source": [
    "###**Coding Exercise 5.1: Load and plot timeseries of 5 simulation single-model ensemble for the historical period and the SSP1-2.6 projection**\n",
    "\n",
    "Complete the following code to:\n",
    "\n",
    "\n",
    "1.   Load 5 different *realizations* of the *MPI-ESM1-2-LR* experiments(*r1i1p1f1* through *r5i1p1f1*). This means they were each initialized using a different time-snapshot of the base simulation.\n",
    "2.   Plot the historical and SSP1-2.6 experiment data for each realization, using a distinct color for each realization, but keeping that color the same across the historical and future period for a given realization.\n"
   ]
  },
  {
   "cell_type": "markdown",
   "metadata": {
    "execution": {}
   },
   "source": [
    "## **If the following cell crashes, run the cell a second time**"
   ]
  },
  {
   "cell_type": "markdown",
   "metadata": {
    "colab_type": "text",
    "execution": {},
    "executionInfo": {
     "elapsed": 9,
     "status": "error",
     "timestamp": 1682794761883,
     "user": {
      "displayName": "Brodie Pearson",
      "userId": "05269028596972519847"
     },
     "user_tz": 420
    }
   },
   "source": [
    "```python\n",
    "#################################################\n",
    "## TODO for students: details of what they should do ##\n",
    "# Fill out function and remove\n",
    "raise NotImplementedError(\"Student exercise: Load single-model ensemble datasets and plot hisotorical/ssp126 timeseries for each ensemble member\")\n",
    "#################################################\n",
    "%matplotlib inline\n",
    "\n",
    "col = intake.open_esm_datastore(\"https://storage.googleapis.com/cmip6/pangeo-cmip6.json\") # open an intake catalog containing the Pangeo CMIP cloud data\n",
    "\n",
    "cat_ensemble = col.search(\n",
    "    source_id=['MPI-ESM1-2-LR'],\n",
    "    variable_id='tos',\n",
    "    table_id='Omon',\n",
    "    # Select the 5 ensemble members described above\n",
    "    member_id=...,\n",
    "    grid_label='gn',\n",
    "    experiment_id = ['historical', 'ssp126', 'ssp585'],\n",
    "    require_all_on = ['source_id', 'member_id']\n",
    ")\n",
    "\n",
    "# convert the sub-catalog into a datatree object, by opening each dataset into an xarray.Dataset (without loading the data)\n",
    "kwargs = dict(\n",
    "    preprocess=combined_preprocessing, #apply xMIP fixes to each dataset\n",
    "    xarray_open_kwargs=dict(use_cftime=True), #ensure all datasets use the same time index\n",
    "    storage_options={'token':'anon'} #anonymous/public authentication to google cloud storage\n",
    ")\n",
    "# hopefully we can implement https://github.com/intake/intake-esm/issues/562 before the\n",
    "# actual tutorial, so this would be a lot cleaner\n",
    "cat_ensemble.esmcat.aggregation_control.groupby_attrs = ['source_id', 'experiment_id']\n",
    "dt_ensemble = cat_ensemble.to_datatree(**kwargs)\n",
    "\n",
    "# add the area (we can reuse the area from before, since for a given model the horizontal are does not vary between members)\n",
    "dt_ensemble_with_area = DataTree()\n",
    "for model,subtree in dt_ensemble.items():\n",
    "    metric = dt_area['MPI-ESM1-2-LR']['historical'].ds['areacello'].squeeze()\n",
    "    dt_ensemble_with_area[model] = subtree.map_over_subtree(_parse_metric,metric)\n",
    "\n",
    "# global average\n",
    "# average every dataset in the tree globally\n",
    "dt_ensemble_gm = dt_ensemble_with_area.map_over_subtree(global_mean)\n",
    "\n",
    "# calculate anomaly\n",
    "dt_ensemble_gm_anomaly = datatree_anomaly(dt_ensemble_gm)\n",
    "\n",
    "def plot_historical_ssp126_ensemble_combined(dt):\n",
    "    for model in dt.keys():\n",
    "        datasets = []\n",
    "        for experiment in ['historical', 'ssp126']:\n",
    "            datasets.append(dt[model][experiment].ds.tos)\n",
    "\n",
    "        # Concatenate the historical and ssp126 timeseries for each ensemble member\n",
    "        da_combined = ...\n",
    "        # plot annual averages\n",
    "        da_combined.coarsen(time=12).mean().plot(hue='member_id')\n",
    "\n",
    "plt.figure()\n",
    "plot_historical_ssp126_ensemble_combined(dt_ensemble_gm_anomaly)\n",
    "\n",
    "plt.title('Global Mean SST Anomaly in SSP1-2.6 from a 5-member single-model ensemble')\n",
    "plt.ylabel('Global Mean SST Anomaly [$^\\circ$C]')\n",
    "plt.xlabel('Year')\n",
    "plt.legend()\n",
    "\n",
    "```"
   ]
  },
  {
   "cell_type": "code",
   "execution_count": null,
   "metadata": {
    "execution": {},
    "executionInfo": {
     "elapsed": 197671,
     "status": "ok",
     "timestamp": 1682795526692,
     "user": {
      "displayName": "Brodie Pearson",
      "userId": "05269028596972519847"
     },
     "user_tz": 420
    }
   },
   "outputs": [],
   "source": [
    "# to_remove solution\n",
    "%matplotlib inline\n",
    "\n",
    "col = intake.open_esm_datastore(\n",
    "    \"https://storage.googleapis.com/cmip6/pangeo-cmip6.json\"\n",
    ")  # open an intake catalog containing the Pangeo CMIP cloud data\n",
    "\n",
    "cat_ensemble = col.search(\n",
    "    source_id=[\"MPI-ESM1-2-LR\"],\n",
    "    variable_id=\"tos\",\n",
    "    table_id=\"Omon\",\n",
    "    # Select the 5 ensemble members described above\n",
    "    member_id=[\"r1i1p1f1\", \"r2i1p1f1\", \"r3i1p1f1\", \"r4i1p1f1\", \"r5i1p1f1\"],\n",
    "    grid_label=\"gn\",\n",
    "    experiment_id=[\"historical\", \"ssp126\", \"ssp585\"],\n",
    "    require_all_on=[\"source_id\", \"member_id\"],\n",
    ")\n",
    "\n",
    "# convert the sub-catalog into a datatree object, by opening each dataset into an xarray.Dataset (without loading the data)\n",
    "kwargs = dict(\n",
    "    preprocess=combined_preprocessing,  # apply xMIP fixes to each dataset\n",
    "    xarray_open_kwargs=dict(\n",
    "        use_cftime=True\n",
    "    ),  # ensure all datasets use the same time index\n",
    "    storage_options={\n",
    "        \"token\": \"anon\"\n",
    "    },  # anonymous/public authentication to google cloud storage\n",
    ")\n",
    "# hopefully we can implement https://github.com/intake/intake-esm/issues/562 before the\n",
    "# actual tutorial, so this would be a lot cleaner\n",
    "cat_ensemble.esmcat.aggregation_control.groupby_attrs = [\"source_id\", \"experiment_id\"]\n",
    "dt_ensemble = cat_ensemble.to_datatree(**kwargs)\n",
    "\n",
    "cat_area = col.search(\n",
    "    source_id=[\"MPI-ESM1-2-LR\"],\n",
    "    variable_id=\"areacello\",  # for the coding exercise, ellipses will go after the equals on this line\n",
    "    member_id=\"r1i1p1f1\",\n",
    "    table_id=\"Ofx\",  # for the coding exercise, ellipses will go after the equals on this line\n",
    "    grid_label=\"gn\",\n",
    "    experiment_id=[\n",
    "        \"historical\"\n",
    "    ],  # for the coding exercise, ellipses will go after the equals on this line\n",
    "    require_all_on=[\"source_id\"],\n",
    ")\n",
    "# hopefully we can implement https://github.com/intake/intake-esm/issues/562 before the\n",
    "# actual tutorial, so this would be a lot cleaner\n",
    "cat_area.esmcat.aggregation_control.groupby_attrs = [\"source_id\", \"experiment_id\"]\n",
    "dt_area = cat_area.to_datatree(**kwargs)\n",
    "\n",
    "# add the area (we can reuse the area from before, since for a given model the horizontal are does not vary between members)\n",
    "dt_ensemble_with_area = DataTree()\n",
    "for model, subtree in dt_ensemble.items():\n",
    "    metric = dt_area[\"MPI-ESM1-2-LR\"][\"historical\"].ds[\"areacello\"].squeeze()\n",
    "    dt_ensemble_with_area[model] = subtree.map_over_subtree(_parse_metric, metric)\n",
    "\n",
    "# global average\n",
    "# average every dataset in the tree globally\n",
    "dt_ensemble_gm = dt_ensemble_with_area.map_over_subtree(global_mean)\n",
    "\n",
    "# calculate anomaly\n",
    "dt_ensemble_gm_anomaly = datatree_anomaly(dt_ensemble_gm)\n",
    "\n",
    "\n",
    "def plot_historical_ssp126_ensemble_combined(dt):\n",
    "    for model in dt.keys():\n",
    "        datasets = []\n",
    "        for experiment in [\"historical\", \"ssp126\"]:\n",
    "            datasets.append(dt[model][experiment].ds.tos)\n",
    "\n",
    "        # Concatenate the historical and ssp126 timeseries for each ensemble member\n",
    "        da_combined = xr.concat(datasets, dim=\"time\")\n",
    "        # plot annual averages\n",
    "        da_combined.coarsen(time=12).mean().plot(hue=\"member_id\")\n",
    "\n",
    "\n",
    "with plt.xkcd():\n",
    "    plt.figure()\n",
    "    plot_historical_ssp126_ensemble_combined(dt_ensemble_gm_anomaly)\n",
    "\n",
    "    plt.title(\n",
    "        \"Global Mean SST Anomaly in SSP1-2.6 from a 5-member single-model ensemble\"\n",
    "    )\n",
    "    plt.ylabel(\"Global Mean SST Anomaly [$^\\circ$C]\")\n",
    "    plt.xlabel(\"Year\")\n",
    "    plt.legend()"
   ]
  },
  {
   "cell_type": "markdown",
   "metadata": {
    "execution": {}
   },
   "source": [
    "###**Coding Exercise 5.2: Create a single-model ensemble data with IPCC uncertainty bands**\n",
    "\n",
    "Complete the following code to:\n",
    "\n",
    "\n",
    "1.   Repeat the final figure of the last tutorial, except now display means and uncertainty bands of the single-model ensemble that you just loaded, rather than the multi-model ensemble analyzed in the previous tutorial"
   ]
  },
  {
   "cell_type": "markdown",
   "metadata": {
    "colab_type": "text",
    "execution": {},
    "executionInfo": {
     "elapsed": 313,
     "status": "error",
     "timestamp": 1682795255008,
     "user": {
      "displayName": "Brodie Pearson",
      "userId": "05269028596972519847"
     },
     "user_tz": 420
    }
   },
   "source": [
    "```python\n",
    "#################################################\n",
    "## TODO for students: details of what they should do ##\n",
    "# Fill out function and remove\n",
    "raise NotImplementedError(\"Student exercise: Repeat the prevous figure but now showing uncertainty bands rather than indivudal timeseries\")\n",
    "#################################################\n",
    "\n",
    "for experiment, color in zip(['historical', 'ssp126', 'ssp585'], ['C0', 'C1', 'C2']):\n",
    "    da = dt_ensemble_gm_anomaly['MPI-ESM1-2-LR'][experiment].ds.tos.coarsen(time=12).mean().load()\n",
    "\n",
    "    # Shading representing spread between members\n",
    "    x = da.time.data\n",
    "    # Diagnose the lower range of the likely bounds\n",
    "    da_lower = ...\n",
    "    # Diagnose the upper range of the likely bounds\n",
    "    da_upper = ...\n",
    "    plt.fill_between(x, da_lower, da_upper,  alpha=0.5, color=color)\n",
    "\n",
    "    # Calculate the mean across ensemble members\n",
    "    da.mean(...).plot(color=color, label=experiment,)\n",
    "plt.title('Global Mean SST Anomaly in SSP1-2.6 from a 5-member single-model ensemble')\n",
    "plt.ylabel('Global Mean SST Anomaly [$^\\circ$C]')\n",
    "plt.xlabel('Year')\n",
    "plt.legend()\n",
    "\n",
    "```"
   ]
  },
  {
   "cell_type": "code",
   "execution_count": null,
   "metadata": {
    "execution": {},
    "executionInfo": {
     "elapsed": 195922,
     "status": "ok",
     "timestamp": 1682795740369,
     "user": {
      "displayName": "Brodie Pearson",
      "userId": "05269028596972519847"
     },
     "user_tz": 420
    }
   },
   "outputs": [],
   "source": [
    "# to_remove solution\n",
    "\n",
    "with plt.xkcd():\n",
    "    for experiment, color in zip(\n",
    "        [\"historical\", \"ssp126\", \"ssp585\"], [\"C0\", \"C1\", \"C2\"]\n",
    "    ):\n",
    "        da = (\n",
    "            dt_ensemble_gm_anomaly[\"MPI-ESM1-2-LR\"][experiment]\n",
    "            .ds.tos.coarsen(time=12)\n",
    "            .mean()\n",
    "            .load()\n",
    "        )\n",
    "\n",
    "        # Shading representing spread between members\n",
    "        x = da.time.data\n",
    "        # Diagnose the lower range of the likely bounds\n",
    "        da_lower = da.squeeze().quantile(0.17, dim=\"member_id\")\n",
    "        # Diagnose the upper range of the likely bounds\n",
    "        da_upper = da.squeeze().quantile(0.83, dim=\"member_id\")\n",
    "        plt.fill_between(x, da_lower, da_upper, alpha=0.5, color=color)\n",
    "\n",
    "        # Calculate the mean across ensemble members\n",
    "        da.mean(\"member_id\").plot(\n",
    "            color=color,\n",
    "            label=experiment,\n",
    "        )\n",
    "    plt.title(\n",
    "        \"Global Mean SST Anomaly in SSP1-2.6 from a 5-member single-model ensemble\"\n",
    "    )\n",
    "    plt.ylabel(\"Global Mean SST Anomaly [$^\\circ$C]\")\n",
    "    plt.xlabel(\"Year\")\n",
    "    plt.legend()"
   ]
  },
  {
   "cell_type": "markdown",
   "metadata": {
    "execution": {}
   },
   "source": [
    "## Post-figure questions\n",
    "\n",
    "1.   Is there anything in this figure that is interesting to you?\n",
    "2. How does this figure compare to the multi-model ensemble figure from the previous tutorial? Can you interpret differences using the science we have discussed today?"
   ]
  }
 ],
 "metadata": {
  "colab": {
   "collapsed_sections": [],
   "include_colab_link": true,
   "machine_shape": "hm",
   "name": "W2D1_Tutorial5",
   "provenance": [
    {
     "file_id": "1WfT8oN22xywtecNriLptqi1SuGUSoIlc",
     "timestamp": 1680298239014
    }
   ],
   "toc_visible": true
  },
  "gpuClass": "standard",
  "kernel": {
   "display_name": "Python 3",
   "language": "python",
   "name": "python3"
  },
  "kernelspec": {
   "display_name": "Python 3 (pangeo)",
   "language": "python",
   "name": "python3"
  },
  "language_info": {
   "codemirror_mode": {
    "name": "ipython",
    "version": 3
   },
   "file_extension": ".py",
   "mimetype": "text/x-python",
   "name": "python",
   "nbconvert_exporter": "python",
   "pygments_lexer": "ipython3",
   "version": "3.10.10"
  }
 },
 "nbformat": 4,
 "nbformat_minor": 0
}