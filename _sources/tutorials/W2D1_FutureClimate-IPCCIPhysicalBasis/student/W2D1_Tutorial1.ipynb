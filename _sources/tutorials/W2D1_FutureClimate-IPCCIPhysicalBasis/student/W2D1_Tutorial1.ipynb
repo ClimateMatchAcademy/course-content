{
 "cells": [
  {
   "attachments": {},
   "cell_type": "markdown",
   "id": "d266ae7f",
   "metadata": {
    "execution": {}
   },
   "source": [
    "[![Open In Colab](https://colab.research.google.com/assets/colab-badge.svg)](https://colab.research.google.com/github/ClimateMatchAcademy/course-content/blob/main/tutorials/W2D1_FutureClimate-IPCCIPhysicalBasis/W2D1_Tutorial_1.ipynb)   <a href=\"https://kaggle.com/kernels/welcome?src=https://raw.githubusercontent.com/ClimateMatchAcademy/course-content/main/tutorials/W2D1_FutureClimate-IPCCIPhysicalBasis/W2D1_Tutorial_1.ipynb\" target=\"_blank\"><img alt=\"Open in Kaggle\" src=\"https://kaggle.com/static/images/open-in-kaggle.svg\"/></a>"
   ]
  },
  {
   "attachments": {},
   "cell_type": "markdown",
   "metadata": {
    "execution": {}
   },
   "source": [
    "# **Tutorial 1: Creating Maps of CMIP6 Earth System Model (ESM) Projections**\n",
    "\n",
    "**Week 2, Day 1, Future Climate: The Physical Basis**\n",
    "\n",
    "**Content creators:** Brodie Pearson, Julius Busecke, Tom Nicholas\n",
    "\n",
    "**Content reviewers:** Younkap Nina Duplex, Zahra Khodakaramimaghsoud, Sloane Garelick, Peter Ohue, Jenna Pearson, Agustina Pesce, Derick Temfack, Peizhen Yang, Cheng Zhang, Chi Zhang, Ohad Zivan\n",
    "\n",
    "**Content editors:** Jenna Pearson, Ohad Zivan, Chi Zhang\n",
    "\n",
    "**Production editors:** Wesley Banfield, Jenna Pearson, Chi Zhang, Ohad Zivan\n",
    "\n",
    "**Our 2023 Sponsors:** NASA TOPS"
   ]
  },
  {
   "attachments": {},
   "cell_type": "markdown",
   "metadata": {
    "execution": {}
   },
   "source": [
    "# **Tutorial Objectives**\n",
    "Earth System Models (ESMs) provide physically-based projections of how Earth's climate could change in the coming years, decades, and centuries at both global and local scales. In the following tutorial you will:\n",
    "\n",
    "- Revisit how to load ESM data from the CMIP6 experiments, and \n",
    "- Create maps showing projected future changes in sea surface temperature (SST)."
   ]
  },
  {
   "attachments": {},
   "cell_type": "markdown",
   "metadata": {
    "execution": {}
   },
   "source": [
    "# **Setup**\n"
   ]
  },
  {
   "cell_type": "code",
   "execution_count": null,
   "metadata": {
    "execution": {},
    "tags": [
     "colab"
    ]
   },
   "outputs": [],
   "source": [
    "# !pip install condacolab &> /dev/null\n",
    "# import condacolab\n",
    "# condacolab.install()\n",
    "\n",
    "# # Install all packages in one call (+ use mamba instead of conda), this must in one line or code will fail\n",
    "# !mamba install xarray-datatree intake-esm gcsfs xmip aiohttp cartopy nc-time-axis cf_xarray xarrayutils \"esmf<=8.3.1\" xesmf &> /dev/null\n",
    "# # For xesmf install we need to pin \"esmf<=8.3.1\". More context here: https://github.com/pangeo-data/xESMF/issues/246"
   ]
  },
  {
   "cell_type": "code",
   "execution_count": null,
   "metadata": {
    "execution": {},
    "executionInfo": {
     "elapsed": 2,
     "status": "ok",
     "timestamp": 1683928271799,
     "user": {
      "displayName": "Brodie Pearson",
      "userId": "05269028596972519847"
     },
     "user_tz": 420
    },
    "tags": []
   },
   "outputs": [],
   "source": [
    "# imports\n",
    "import time\n",
    "tic = time.time()\n",
    "\n",
    "import intake\n",
    "import numpy as np\n",
    "import matplotlib.pyplot as plt\n",
    "import xarray as xr\n",
    "import xesmf as xe\n",
    "\n",
    "from xmip.preprocessing import combined_preprocessing\n",
    "from xarrayutils.plotting import shaded_line_plot\n",
    "\n",
    "from datatree import DataTree\n",
    "from xmip.postprocessing import _parse_metric\n",
    "\n",
    "import cartopy.crs as ccrs"
   ]
  },
  {
   "cell_type": "markdown",
   "metadata": {},
   "source": [
    "##  Figure settings\n"
   ]
  },
  {
   "cell_type": "markdown",
   "metadata": {},
   "source": [
    "###  Figure settings\n"
   ]
  },
  {
   "cell_type": "markdown",
   "metadata": {},
   "source": [
    "####  Figure settings\n"
   ]
  },
  {
   "cell_type": "markdown",
   "metadata": {},
   "source": [
    "#####  Figure settings\n"
   ]
  },
  {
   "cell_type": "code",
   "execution_count": null,
   "metadata": {
    "cellView": "form",
    "execution": {},
    "tags": [
     "hide-input"
    ]
   },
   "outputs": [],
   "source": [
    "# @title Figure settings\n",
    "import ipywidgets as widgets       # interactive display\n",
    "%config InlineBackend.figure_format = 'retina'\n",
    "plt.style.use(\"https://raw.githubusercontent.com/ClimateMatchAcademy/course-content/main/cma.mplstyle\")"
   ]
  },
  {
   "cell_type": "markdown",
   "metadata": {},
   "source": [
    "##  Video 1: Recap of Earth System Models\n"
   ]
  },
  {
   "cell_type": "markdown",
   "metadata": {},
   "source": [
    "###  Video 1: Recap of Earth System Models\n"
   ]
  },
  {
   "cell_type": "markdown",
   "metadata": {},
   "source": [
    "####  Video 1: Recap of Earth System Models\n"
   ]
  },
  {
   "cell_type": "markdown",
   "metadata": {},
   "source": [
    "#####  Video 1: Recap of Earth System Models\n"
   ]
  },
  {
   "cell_type": "code",
   "execution_count": null,
   "metadata": {
    "cellView": "form",
    "execution": {},
    "tags": [
     "hide-input"
    ]
   },
   "outputs": [],
   "source": [
    "# @title Video 1: Recap of Earth System Models\n",
    "#Tech team will add code to format and display the video"
   ]
  },
  {
   "attachments": {},
   "cell_type": "markdown",
   "metadata": {
    "execution": {},
    "tags": []
   },
   "source": [
    "## **Section 1.1: Loading CMIP6 SST Data with `xarray`**\n",
    "\n",
    "As a reminder, these ESMs simulate several systems (ocean, atmosphere, cryosphere, land) that are coupled to each other, and each system has its own variables, physics, and discretizations (grid & timestep).\n",
    "\n",
    "<img src=\"https://upload.wikimedia.org/wikipedia/commons/7/73/AtmosphericModelSchematic.png\" alt= “EarthSystemModel” width=\"420\" height=\"400\">\n",
    "\n",
    "Atmospheric Model Schematic (Credit: [Wikipedia](https://upload.wikimedia.org/wikipedia/commons/7/73/AtmosphericModelSchematic.png))\n",
    "\n",
    "Let's repeat the CMIP6 loading method that we learned in Tutorial 6 on last week's Climate Modelling day (Day 5).\n",
    "\n",
    " **Although we will only work with monthly SST (ocean) data today, the methods introduced can easily be applied/extended to load and analyze other CMIP6 variables, including from other components of the Earth system.**\n",
    "\n",
    "As a reminder, the *facets* that have to be specified for CMIP6, along with the facet choice(s) we make in this tutorial, are:\n",
    "1. **variable_id**: *tos* = sea surface temperature\n",
    "2. **source_id**: The CMIP6 model(s) that we want data from \n",
    "3. **table_id**: *Omon* (ocean monthly output)\n",
    "4. **grid_id**: *gn* = data on the model's *native* grid\n",
    "5. **experiment_id**: *ssp585* (we'll discuss experiments later today)\n",
    "6. **member_id**: *r1i1p1f1* for now\n",
    "\n",
    "Now, let's repeat our CMIP6 loading method from the previous tutorial.\n",
    "\n",
    "*Note: today we will start by using only use one model, **TaiESM1**, which stands for **Taiwan Earth System Model version 1**, and a single experiment, **ssp585** which is a high-emissions future scenario. In later tutorials you will work with 5 distinct CMIP6 models (**source_id**), and two additional experiments (**experiment_id**). **TaiESM1** was developed by modifying the Community Earth System Model (**CESM**) version 1.2.2 to include different parameterizations (i.e., physics). As a result, the **TaiESM1** model output is distinct from the **CESM** output you used in previous tutorials/days.*\n"
   ]
  },
  {
   "cell_type": "code",
   "execution_count": null,
   "metadata": {
    "execution": {},
    "executionInfo": {
     "elapsed": 6561,
     "status": "ok",
     "timestamp": 1683910891406,
     "user": {
      "displayName": "Brodie Pearson",
      "userId": "05269028596972519847"
     },
     "user_tz": 420
    },
    "tags": []
   },
   "outputs": [],
   "source": [
    "# open an intake catalog containing the Pangeo CMIP cloud data\n",
    "col = intake.open_esm_datastore(\"https://storage.googleapis.com/cmip6/pangeo-cmip6.json\")\n",
    "\n",
    "# from the full `col` object, create a subset using facet search\n",
    "cat = col.search(\n",
    "    source_id='TaiESM1',\n",
    "    variable_id='tos',\n",
    "    member_id='r1i1p1f1',\n",
    "    table_id='Omon',\n",
    "    grid_label='gn',\n",
    "    experiment_id = 'ssp585',\n",
    "    require_all_on = ['source_id'] #make sure that we only get models which have all of the above experiments\n",
    ")\n",
    "\n",
    "# convert the sub-catalog into a datatree object, by opening each dataset into an xarray.Dataset (without loading the data)\n",
    "kwargs = dict(\n",
    "    preprocess=combined_preprocessing, #apply xMIP fixes to each dataset\n",
    "    xarray_open_kwargs=dict(use_cftime=True), #ensure all datasets use the same time index\n",
    "    storage_options={'token':'anon'} #anonymous/public authentication to google cloud storage\n",
    ")\n",
    "\n",
    "cat.esmcat.aggregation_control.groupby_attrs = ['source_id', 'experiment_id']\n",
    "dt = cat.to_datatree(**kwargs)"
   ]
  },
  {
   "attachments": {},
   "cell_type": "markdown",
   "metadata": {
    "execution": {}
   },
   "source": [
    "We now have a \"datatree\" containing the data we searched for. A datatree is a high-level container of xarray data, useful for organizing many related datasets together. You can think of a single `DataTree` object as being like a (nested) dictionary of `xarray.Dataset` objects. Each dataset in the tree is known as a \"node\" or \"group\", and we can also have empty nodes. *This `DataTree` object may seem complicated when we load only one dataset, but it will prove to be very useful in later tutorials where you will work with multiple models, experiments, and ensemble members* \n",
    "\n",
    "You can explore the nodes of the tree and its contents interactively in a similar way to how you can explore the contents of an `xarray.Dataset`:"
   ]
  },
  {
   "cell_type": "code",
   "execution_count": null,
   "metadata": {
    "execution": {},
    "executionInfo": {
     "elapsed": 1011,
     "status": "ok",
     "timestamp": 1683910899038,
     "user": {
      "displayName": "Brodie Pearson",
      "userId": "05269028596972519847"
     },
     "user_tz": 420
    },
    "tags": []
   },
   "outputs": [],
   "source": [
    "dt"
   ]
  },
  {
   "attachments": {},
   "cell_type": "markdown",
   "metadata": {
    "execution": {}
   },
   "source": [
    "Now that we have the model datasets organized within thie datatree (`dt`) we can plot the datasets. Let's start by plotting a map of SST from the `TaiESM1` CMIP6 model in July 2023. \n",
    "\n",
    "*Note that CMIP6 experiments were run several years ago, so the cut-off between **past** (observed forcing) and **future** (scenario-based/projected forcing) was at the start of 2015. This means that July 2023 is about 8 years into the CMIP6 **future** and so it is unlikely to look exactly like Earth's current SST state.*"
   ]
  },
  {
   "cell_type": "code",
   "execution_count": null,
   "metadata": {
    "execution": {},
    "executionInfo": {
     "elapsed": 11488,
     "status": "ok",
     "timestamp": 1683910911990,
     "user": {
      "displayName": "Brodie Pearson",
      "userId": "05269028596972519847"
     },
     "user_tz": 420
    },
    "tags": []
   },
   "outputs": [],
   "source": [
    "%matplotlib inline\n",
    "\n",
    "# select just a single model (TaiESM1) and experiment (ssp585) to plot\n",
    "sst_ssp585 = dt['TaiESM1']['ssp585'].ds.tos\n",
    "\n",
    "fig, (ax_present) = plt.subplots(\n",
    "    ncols=1, nrows=1,\n",
    "    figsize=[8,4],\n",
    "    subplot_kw={'projection':ccrs.Robinson()}\n",
    ")\n",
    "\n",
    "# select the model data for July 2023\n",
    "sst_present = sst_ssp585.sel(time='2023-07').squeeze()\n",
    "\n",
    "# plot the model data\n",
    "sst_present.plot(ax=ax_present, x='lon', y='lat', transform=ccrs.PlateCarree(), vmin=-10, vmax=30, cmap='magma', robust=True)\n",
    "ax_present.coastlines()\n",
    "ax_present.set_title('July 2023')"
   ]
  },
  {
   "attachments": {},
   "cell_type": "markdown",
   "metadata": {
    "execution": {}
   },
   "source": [
    "### **Coding Exercise 1.1**\n",
    "\n",
    "Now that we can plot maps of CMIP6 data, let's look at some projected future changes using this data!\n",
    "\n",
    "In this coding exercise your goals are to: \n",
    "1. Create a map of the projected sea surface temperature in July 2100 under the SSP5-8.5 high-emissions scenario (we'll discuss scenarios in the next mini-lecture) using data from the *TaiESM1* CMIP6 model.\n",
    "2. Create a map showing how this sea surface temperature projection is different from the current (July 2023) sea surface temperature in this model\n",
    "3. Plot a similar map for this model that shows how *January* 2100 is different from *January* 2023\n",
    "\n",
    "To get you started, we have provided code to load the required data set into a variable called *sst_ssp585*, and we have plotted the current (July 2023) sea surface temperature from this data set.\n",
    "\n",
    "*Note: differences between two snapshots of SST are not the same as the **anomalies** that you encountered earlier in the course, which were the difference relative to the average during a reference period.*"
   ]
  },
  {
   "cell_type": "code",
   "execution_count": null,
   "metadata": {
    "execution": {},
    "executionInfo": {
     "elapsed": 163,
     "status": "error",
     "timestamp": 1683910918443,
     "user": {
      "displayName": "Brodie Pearson",
      "userId": "05269028596972519847"
     },
     "user_tz": 420
    }
   },
   "outputs": [],
   "source": [
    "# %matplotlib inline\n",
    "\n",
    "# select just a single model and experiment\n",
    "sst_ssp585 = dt['TaiESM1']['ssp585'].ds.tos\n",
    "\n",
    "fig, ([ax_present, ax_future], [ax_diff_july, ax_diff_jan]) = plt.subplots(\n",
    "    ncols=2, nrows=2,\n",
    "    figsize=[12,6],\n",
    "    subplot_kw={'projection':ccrs.Robinson()}\n",
    ")\n",
    "\n",
    "# plot a timestep for 2023\n",
    "sst_present = sst_ssp585.sel(time='2023-07').squeeze()\n",
    "sst_present.plot(ax=ax_present, x='lon', y='lat', transform=ccrs.PlateCarree(), vmin=-10, vmax=30, cmap='magma', robust=True)\n",
    "ax_present.coastlines()\n",
    "ax_present.set_title('July 2023')\n",
    "\n",
    "# repeat for 2100\n",
    "# complete the following line to extract data for July 2100\n",
    "sst_future = ...\n",
    "_ = ...\n",
    "ax_future.coastlines()\n",
    "ax_future.set_title('July 2100')\n",
    "\n",
    "# now find the difference between July 2100 and July 2023\n",
    "# complete the following line to extract the July difference\n",
    "sst_difference_july = ...\n",
    "_ = ...\n",
    "ax_diff_july.coastlines()\n",
    "ax_diff_july.set_title('2100 vs. 2023 Difference (July)')\n",
    "\n",
    "# finally, find the difference between January of the two years used above\n",
    "# complete the following line to extract the January difference\n",
    "sst_difference_jan = ...\n",
    "_ = ...\n",
    "ax_diff_jan.coastlines()\n",
    "ax_diff_jan.set_title('2100 vs. 2023 Difference (January)')\n",
    "\n",
    "plt.show()"
   ]
  },
  {
   "cell_type": "markdown",
   "metadata": {
    "colab_type": "text",
    "execution": {},
    "executionInfo": {
     "elapsed": 36973,
     "status": "ok",
     "timestamp": 1683910956791,
     "user": {
      "displayName": "Brodie Pearson",
      "userId": "05269028596972519847"
     },
     "user_tz": 420
    },
    "tags": []
   },
   "source": [
    "[*Click for solution*](https://github.com/ClimateMatchAcademy/course-content/tree/main/tutorials/W2D1_FutureClimate-IPCCIPhysicalBasis/solutions/W2D1_Tutorial_1_Solution_55810c8f.py)\n",
    "\n",
    "*Example output:*\n",
    "\n",
    "<img alt='Solution hint' align='left' width=1164.0 height=586.0 src=https://raw.githubusercontent.com/ClimateMatchAcademy/course-content/main/tutorials/W2D1_FutureClimate-IPCCIPhysicalBasis/static/W2D1_Tutorial_1_Solution_55810c8f_0.png>\n",
    "\n"
   ]
  },
  {
   "attachments": {},
   "cell_type": "markdown",
   "metadata": {
    "execution": {},
    "tags": []
   },
   "source": [
    "## **Questions 1.1: Climate Connection**\n",
    "\n",
    "1.   *Comparing only the top two panels*, how is the July SST projected to change in this particular model simulation? Do these changes agree with the map of July change that you plotted in the bottom left, and are these changes easier to see in this bottom map?\n",
    "2.   In what ways are the July and January maps similar or dissimilar, and can you think of any physical explanations for these (dis)similarities?\n",
    "3. Why do you think the color bar axes vary? (i.e., the top panels say \"*Sea Surface Temperature [$^oC$]*\" while the bottom panels say \"*tos*\")\n",
    "\n",
    "Many of the changes seen in the maps are a result of a changing climate under this high-emissions scenarios. However, keep in mind that these are differences between two months that are almost 80 years apart, so some of the changes are due to weather/synoptic differences between these particular months.\n"
   ]
  },
  {
   "cell_type": "markdown",
   "metadata": {
    "colab_type": "text",
    "execution": {},
    "tags": []
   },
   "source": [
    "[*Click for solution*](https://github.com/ClimateMatchAcademy/course-content/tree/main/tutorials/W2D1_FutureClimate-IPCCIPhysicalBasis/solutions/W2D1_Tutorial_1_Solution_edfd8cc7.py)\n",
    "\n"
   ]
  },
  {
   "attachments": {},
   "cell_type": "markdown",
   "metadata": {
    "execution": {}
   },
   "source": [
    "## **Section 1.2: Horizontal Regridding**\n",
    "\n",
    "Many CMIP6 models use distinct spatial grids, we call this the model's *native grid*. \n",
    "\n",
    "You are likely familiar with the *regular latitude-longitude* grid where we separate the planet into boxes that have a fixed latitude and longitude span like this image we saw in the tutorial:\n",
    "\n",
    "<img src=\"https://upload.wikimedia.org/wikipedia/commons/4/4c/Azimutalprojektion-schief_kl-cropped.png\" alt= \"Lat_Lon_Grid\" width=\"250\" height=\"250\">\n",
    "\n",
    "Let's look at the grid used for the ocean component of the *TaiESM1* CMIP6 model:\n"
   ]
  },
  {
   "cell_type": "code",
   "execution_count": null,
   "metadata": {
    "execution": {},
    "executionInfo": {
     "elapsed": 1822,
     "status": "ok",
     "timestamp": 1683910973589,
     "user": {
      "displayName": "Brodie Pearson",
      "userId": "05269028596972519847"
     },
     "user_tz": 420
    },
    "tags": []
   },
   "outputs": [],
   "source": [
    "# create a scatter plot with a symbol at the center of each ocean grid cell in TaiESM1\n",
    "plt.scatter(x=sst_ssp585.lon, y=sst_ssp585.lat, s=0.1)\n",
    "plt.ylabel('Latitude')\n",
    "plt.xlabel('Longitude')\n",
    "plt.title('Grid cell locations in TaiESM1')"
   ]
  },
  {
   "attachments": {},
   "cell_type": "markdown",
   "metadata": {
    "execution": {}
   },
   "source": [
    "## **Questions 1.2**\n",
    "\n",
    "1. How would this plot look for a *regular latitude-longitude* grid like the globe image shown above and in the slides? In what ways is the TaiESM1 grid different from this regular grid?\n",
    "2. Can you think of a reason the Northern and Southern hemisphere ocean grids differ?*\n",
    "\n",
    "**Hint: from an oceanographic context, how are the North and South poles different from each other?*"
   ]
  },
  {
   "cell_type": "markdown",
   "metadata": {
    "colab_type": "text",
    "execution": {},
    "tags": []
   },
   "source": [
    "[*Click for solution*](https://github.com/ClimateMatchAcademy/course-content/tree/main/tutorials/W2D1_FutureClimate-IPCCIPhysicalBasis/solutions/W2D1_Tutorial_1_Solution_319c2307.py)\n",
    "\n"
   ]
  },
  {
   "attachments": {},
   "cell_type": "markdown",
   "metadata": {
    "execution": {}
   },
   "source": [
    "If you want to compare spatial maps from different models/observations, e.g. plot a map averaged over several models or the bias of this map relative to observations, you must first ensure the data from all the models (and observations) is on the same spatial grid. This is where regridding becomes essential!\n",
    "\n",
    "> Regridding is applied lazily, but it is still taking time to compute *when* it is applied. So if you want to compare for example the mean over time of several models it is often much quicker to compute the mean in time over the native grid and then regrid the result of that, instead of regridding each timestep and then calculating the mean!"
   ]
  },
  {
   "cell_type": "code",
   "execution_count": null,
   "metadata": {
    "execution": {},
    "executionInfo": {
     "elapsed": 190,
     "status": "ok",
     "timestamp": 1683912424678,
     "user": {
      "displayName": "Brodie Pearson",
      "userId": "05269028596972519847"
     },
     "user_tz": 420
    },
    "tags": []
   },
   "outputs": [],
   "source": [
    "# define a 'target' grid. This is simply a regular lon/lat grid that we will interpolate our data on\n",
    "ds_target = xr.Dataset(\n",
    "    {\n",
    "        \"lat\": ([\"lat\"], np.arange(-90, 90, 1.0), {\"units\": \"degrees_north\"}),\n",
    "        \"lon\": ([\"lon\"], np.arange(0, 360, 1.0), {\"units\": \"degrees_east\"}),\n",
    "    }\n",
    ") # you can try to modify the parameters above to e.g. just regrid onto a region or make the resolution coarser etc\n",
    "ds_target"
   ]
  },
  {
   "cell_type": "code",
   "execution_count": null,
   "metadata": {
    "execution": {},
    "executionInfo": {
     "elapsed": 9588,
     "status": "ok",
     "timestamp": 1683912434512,
     "user": {
      "displayName": "Brodie Pearson",
      "userId": "05269028596972519847"
     },
     "user_tz": 420
    },
    "tags": []
   },
   "outputs": [],
   "source": [
    "# define the regridder object (from our source dataarray to the target)\n",
    "regridder = xe.Regridder(sst_ssp585, ds_target, 'bilinear', periodic=True) # this takes some time to calculate a weight matrix for the regridding\n",
    "regridder"
   ]
  },
  {
   "cell_type": "code",
   "execution_count": null,
   "metadata": {
    "execution": {},
    "executionInfo": {
     "elapsed": 3184,
     "status": "ok",
     "timestamp": 1683912437684,
     "user": {
      "displayName": "Brodie Pearson",
      "userId": "05269028596972519847"
     },
     "user_tz": 420
    },
    "tags": []
   },
   "outputs": [],
   "source": [
    "# now we can apply the regridder to our data\n",
    "sst_ssp585_regridded = regridder(sst_ssp585) # this is a lazy operation!\n",
    "  # so it does not slow us down significantly to apply it to the full data!\n",
    "  # we can work with this array just like before and the regridding will only be\n",
    "  # applied to the parts that we later load into memory or plot.\n",
    "sst_ssp585_regridded"
   ]
  },
  {
   "cell_type": "code",
   "execution_count": null,
   "metadata": {
    "execution": {},
    "executionInfo": {
     "elapsed": 191,
     "status": "ok",
     "timestamp": 1683912440448,
     "user": {
      "displayName": "Brodie Pearson",
      "userId": "05269028596972519847"
     },
     "user_tz": 420
    },
    "tags": []
   },
   "outputs": [],
   "source": [
    "# compare the shape to the original array\n",
    "sst_ssp585"
   ]
  },
  {
   "attachments": {},
   "cell_type": "markdown",
   "metadata": {
    "execution": {}
   },
   "source": [
    "## **Section 1.3: Visually Comparing Data with Different Map Projections**\n",
    "\n",
    "Let's use the code from above to plot a map of the model data on its original (*native*) grid, and a map of the model data after it is regridded."
   ]
  },
  {
   "cell_type": "code",
   "execution_count": null,
   "metadata": {
    "execution": {},
    "executionInfo": {
     "elapsed": 21337,
     "status": "ok",
     "timestamp": 1683912463177,
     "user": {
      "displayName": "Brodie Pearson",
      "userId": "05269028596972519847"
     },
     "user_tz": 420
    },
    "tags": []
   },
   "outputs": [],
   "source": [
    "\n",
    "fig, ([ax_regridded, ax_native]) = plt.subplots(\n",
    "    ncols=2,\n",
    "    figsize=[12,3],\n",
    "    subplot_kw={'projection':ccrs.Robinson()}\n",
    ")\n",
    "\n",
    "# Native grid data\n",
    "sst_future = sst_ssp585.sel(time='2100-07').squeeze()\n",
    "sst_future.plot(ax=ax_native, x='lon', y='lat', transform=ccrs.PlateCarree(), vmin=-10, vmax=30, cmap='magma', robust=True)\n",
    "ax_native.coastlines()\n",
    "ax_native.set_title('July 2100 Native Grid')\n",
    "\n",
    "# Regridded data\n",
    "sst_future_regridded = sst_ssp585_regridded.sel(time='2100-07').squeeze()\n",
    "sst_future_regridded.plot(ax=ax_regridded, x='lon', y='lat', transform=ccrs.PlateCarree(), vmin=-10, vmax=30, cmap='magma', robust=True)\n",
    "ax_regridded.coastlines()\n",
    "ax_regridded.set_title('July 2100 Regridded')\n"
   ]
  },
  {
   "attachments": {},
   "cell_type": "markdown",
   "metadata": {
    "execution": {}
   },
   "source": [
    "## **Questions 1.3**\n",
    "\n",
    "1. Is this what you expected to see after regridding the data?"
   ]
  },
  {
   "cell_type": "markdown",
   "metadata": {
    "colab_type": "text",
    "execution": {},
    "tags": []
   },
   "source": [
    "[*Click for solution*](https://github.com/ClimateMatchAcademy/course-content/tree/main/tutorials/W2D1_FutureClimate-IPCCIPhysicalBasis/solutions/W2D1_Tutorial_1_Solution_f9a48a4e.py)\n",
    "\n"
   ]
  },
  {
   "attachments": {},
   "cell_type": "markdown",
   "metadata": {
    "execution": {}
   },
   "source": [
    "# **Summary**\n",
    "\n",
    "In Tutorial 1 you have: \n",
    "\n",
    "*   Loaded and manipulated data from a CMIP6 model under a high-emissions future scenario experiment\n",
    "*   Created maps of future projected changes in the Earth system using CMIP6 data\n",
    "*   Converted/regridded CMIP6 model data onto a desired grid. This is a critical processing step that allows us to directly compare data from different models and/or observations \n"
   ]
  },
  {
   "attachments": {},
   "cell_type": "markdown",
   "metadata": {
    "execution": {}
   },
   "source": [
    "# **Resources**\n",
    "\n",
    "Data for this tutorial can be accessed [here](https://gallery.pangeo.io/repos/pangeo-gallery/cmip6/index.html)."
   ]
  }
 ],
 "metadata": {
  "colab": {
   "collapsed_sections": [],
   "include_colab_link": true,
   "machine_shape": "hm",
   "name": "W2D1_Tutorial_1",
   "provenance": [
    {
     "file_id": "1WfT8oN22xywtecNriLptqi1SuGUSoIlc",
     "timestamp": 1680298239014
    }
   ],
   "toc_visible": true
  },
  "gpuClass": "standard",
  "kernel": {
   "display_name": "Python 3",
   "language": "python",
   "name": "python3"
  },
  "kernelspec": {
   "display_name": "Python 3 (ipykernel)",
   "language": "python",
   "name": "python3"
  },
  "language_info": {
   "codemirror_mode": {
    "name": "ipython",
    "version": 3
   },
   "file_extension": ".py",
   "mimetype": "text/x-python",
   "name": "python",
   "nbconvert_exporter": "python",
   "pygments_lexer": "ipython3",
   "version": "3.10.12"
  }
 },
 "nbformat": 4,
 "nbformat_minor": 4
}