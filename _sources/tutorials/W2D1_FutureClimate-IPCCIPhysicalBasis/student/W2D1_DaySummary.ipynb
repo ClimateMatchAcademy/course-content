{
 "cells": [
  {
   "cell_type": "markdown",
   "id": "ec5d87b1",
   "metadata": {},
   "source": [
    "# **Day Summary**"
   ]
  },
  {
   "cell_type": "markdown",
   "id": "11c0c51d",
   "metadata": {},
   "source": [
    "In today’s tutorials you analyzed data from several Earth System Models (ESMs) that were part of the most recent Coupled Model Intercomparison Project (CMIP6). First, you created maps showing how the spatial patterns of oceanic changes, and you learned how to regrid CMIP6 data. You then explored climate change under different future scenarios using a multi-model CMIP6 ensemble and a single-model CMIP6 ensemble to quantify the uncertainty of these projections. Finally, you synthesized data from CMIP6 projections with observations, proxy records, and paleo-CMIP6 experiments to gain a holistic view of past & future changes in the Earth system."
   ]
  }
 ],
 "metadata": {
  "kernelspec": {
   "display_name": "Python 3 (ipykernel)",
   "language": "python",
   "name": "python3"
  },
  "language_info": {
   "codemirror_mode": {
    "name": "ipython",
    "version": 3
   },
   "file_extension": ".py",
   "mimetype": "text/x-python",
   "name": "python",
   "nbconvert_exporter": "python",
   "pygments_lexer": "ipython3",
   "version": "3.10.8"
  }
 },
 "nbformat": 4,
 "nbformat_minor": 5
}