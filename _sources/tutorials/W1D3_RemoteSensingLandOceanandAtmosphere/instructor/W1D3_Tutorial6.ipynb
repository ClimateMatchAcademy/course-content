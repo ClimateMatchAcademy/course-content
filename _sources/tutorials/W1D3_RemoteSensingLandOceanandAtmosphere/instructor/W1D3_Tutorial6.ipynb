{
 "cells": [
  {
   "cell_type": "markdown",
   "metadata": {
    "execution": {}
   },
   "source": [
    "# **Tutorial 6: Large Scale Climate Variability - ENSO**\n",
    "\n",
    "**Week 1, Day 3, Remote Sensing**\n",
    "\n",
    "**Content creators:** Douglas Rao\n",
    "\n",
    "**Content reviewers:** Katrina Dobson, Younkap Nina Duplex, Maria Gonzalez, Will Gregory, Nahid Hasan, Sherry Mi, Beatriz Cosenza Muralles, Jenna Pearson, Agustina Pesce, Chi Zhang, Ohad Zivan\n",
    "\n",
    "**Content editors:** Jenna Pearson, Chi Zhang, Ohad Zivan\n",
    "\n",
    "**Production editors:** Wesley Banfield, Jenna Pearson, Chi Zhang, Ohad Zivan\n",
    "\n",
    "**Our 2023 Sponsors:** NASA TOPS and Google DeepMind"
   ]
  },
  {
   "cell_type": "markdown",
   "metadata": {
    "execution": {}
   },
   "source": [
    "# **Tutorial Objectives**\n",
    "\n",
    "In this tutorial, you will build upon the introduction to El Niño-Southern Oscillation (ENSO) from Day 1 and 2. ENSO is recognized as one of the most influential large-scale climate variabilities that impact weather and climate patterns.\n",
    "\n",
    "By the end of this tutorial, you will:\n",
    "\n",
    "- Enhance your comprehension of the concept of ENSO and the three distinct phases associated with it.\n",
    "- Utilize satellite-derived sea surface temperature (SST) data to compute an index for monitoring ENSO.\n"
   ]
  },
  {
   "cell_type": "markdown",
   "metadata": {
    "execution": {}
   },
   "source": [
    "# **Setup**"
   ]
  },
  {
   "cell_type": "code",
   "execution_count": null,
   "metadata": {
    "execution": {},
    "tags": [
     "colab"
    ]
   },
   "outputs": [],
   "source": [
    "# !apt-get install libproj-dev proj-data proj-bin --quiet\n",
    "# !apt-get install libgeos-dev --quiet\n",
    "# !pip install cython --quiet\n",
    "# !pip install cartopy --quiet\n",
    "\n",
    "# !apt-get -qq install python-cartopy python3-cartopy  --quiet\n",
    "# !pip uninstall -y shapely  --quiet\n",
    "# !pip install shapely --no-binary shapely  --quiet"
   ]
  },
  {
   "cell_type": "code",
   "execution_count": null,
   "metadata": {
    "execution": {},
    "tags": []
   },
   "outputs": [],
   "source": [
    "# imports\n",
    "import xarray as xr\n",
    "import numpy as np\n",
    "import matplotlib.pyplot as plt\n",
    "import cartopy\n",
    "import cartopy.crs as ccrs\n",
    "import os\n",
    "import requests\n",
    "import tarfile\n",
    "import pooch\n",
    "import os\n",
    "import tempfile\n",
    "import holoviews\n",
    "from geoviews import Dataset as gvDataset\n",
    "import geoviews.feature as gf\n",
    "from geoviews import Image as gvImage"
   ]
  },
  {
   "cell_type": "markdown",
   "metadata": {},
   "source": [
    "##  Figure settings\n"
   ]
  },
  {
   "cell_type": "code",
   "execution_count": null,
   "metadata": {
    "cellView": "form",
    "execution": {},
    "tags": [
     "hide-input"
    ]
   },
   "outputs": [],
   "source": [
    "# @title Figure settings\n",
    "import ipywidgets as widgets  # interactive display\n",
    "\n",
    "%config InlineBackend.figure_format = 'retina'\n",
    "plt.style.use(\n",
    "    \"https://raw.githubusercontent.com/ClimateMatchAcademy/course-content/main/cma.mplstyle\"\n",
    ")"
   ]
  },
  {
   "cell_type": "markdown",
   "metadata": {},
   "source": [
    "##  Video 1: Video 1 Name\n"
   ]
  },
  {
   "cell_type": "code",
   "execution_count": null,
   "metadata": {
    "cellView": "form",
    "execution": {},
    "tags": [
     "hide-input"
    ]
   },
   "outputs": [],
   "source": [
    "# @title Video 1: Video 1 Name\n",
    "# Tech team will add code to format and display the video"
   ]
  },
  {
   "cell_type": "code",
   "execution_count": null,
   "metadata": {
    "execution": {}
   },
   "outputs": [],
   "source": [
    "# helper functions\n",
    "\n",
    "\n",
    "def pooch_load(filelocation=\"\", filename=\"\"):\n",
    "    shared_location = \"/home/jovyan/shared/data/tutorials/W1D3_RemoteSensingLandOceanandAtmosphere\"  # this is different for each day\n",
    "    user_temp_cache = tempfile.gettempdir()\n",
    "\n",
    "    if os.path.exists(os.path.join(shared_location, filename)):\n",
    "        file = os.path.join(shared_location, filename)\n",
    "    else:\n",
    "        file = pooch.retrieve(\n",
    "            filelocation, known_hash=None, fname=os.path.join(user_temp_cache, filename)\n",
    "        )\n",
    "\n",
    "    return file"
   ]
  },
  {
   "cell_type": "markdown",
   "metadata": {
    "execution": {}
   },
   "source": [
    "# **Section 1: El Niño-Southern Oscillation (ENSO)**\n"
   ]
  },
  {
   "cell_type": "markdown",
   "metadata": {
    "execution": {}
   },
   "source": [
    "As you learned in Day 1 and 2, one of the most significant large-scale climate variabilities is El Niño-Southern Oscillation (ENSO). ENSO can change the global atmospheric circulation, which in turn, influences temperature and precipitation across the globe.\n",
    "\n",
    "Despite being a single climate phenomenon, ENSO exhibits three distinct phases:\n",
    "\n",
    "- El Niño: A warming of the ocean surface, or above-average sea surface temperatures, in the central and eastern tropical Pacific Ocean.\n",
    "- La Niña: A cooling of the ocean surface, or below-average sea surface temperatures, in the central and eastern tropical Pacific Ocean.\n",
    "- Neutral: Neither El Niño or La Niña. Often tropical Pacific SSTs are generally close to average. \n",
    "\n",
    "In Day 2, you practiced utilizing a variety of Xarray tools to examine variations in sea surface temperature (SST) during El Niño and La Niña events by calculating the [Oceanic Niño Index (ONI)](https://climatedataguide.ucar.edu/climate-data/nino-sst-indices-nino-12-3-34-4-oni-and-tni) from reanalysis data over the time period 2000-2014.\n",
    "\n",
    "In contrast to previous days, in this tutorial you will use satellite-based SST data to monitor ENSO over a longer time period starting in 1981."
   ]
  },
  {
   "cell_type": "markdown",
   "metadata": {
    "execution": {}
   },
   "source": [
    "## **Section 1.1: Calculate SST Anomaly**\n",
    "\n",
    "[Optimum Interpolation Sea Surface Temperature (OISST)](https://www.ncei.noaa.gov/products/optimum-interpolation-sst) is a long-term Climate Data Record that incorporates observations from different platforms (satellites, ships, buoys and Argo floats) into a regular global grid. OISST data is originally produced at daily and 1/4° spatial resolution. To avoid the large amount of data processing of daily data, we use the monthly aggregated OISST SST data provided by [NOAA Physical Systems Laboratory](https://psl.noaa.gov/). "
   ]
  },
  {
   "cell_type": "code",
   "execution_count": null,
   "metadata": {
    "execution": {},
    "tags": []
   },
   "outputs": [],
   "source": [
    "# download the monthly sea surface temperature data from NOAA Physical System\n",
    "# Laboratory. The data is processed using the OISST SST Climate Data Records\n",
    "# from the NOAA CDR program.\n",
    "# the data downloading may take 2-3 minutes to complete.\n",
    "# filename=sst.mon.mean.nc\n",
    "url_sst = \"https://osf.io/6pgc2/download/\"\n",
    "filename = \"sst.mon.mean.nc\"\n",
    "\n",
    "# we divide the data into small chunks to allow for easier memory manangement. this is all done automatically, no need for you to do anything\n",
    "ds = xr.open_dataset(\n",
    "    pooch_load(filelocation=url_sst, filename=filename),\n",
    "    chunks={\"time\": 25, \"latitude\": 200, \"longitude\": 200},\n",
    ")\n",
    "ds"
   ]
  },
  {
   "cell_type": "markdown",
   "metadata": {
    "execution": {}
   },
   "source": [
    "The monthly OISST data is available starting from September of 1981. We will use the Niño 3.4 (5N-5S, 170W-120W) region to monitor the ENSO as identified in the map below provided by NOAA Climate portal.\n",
    "\n",
    "![Location of four different nino regions ](https://www.climate.gov/sites/default/files/Fig3_ENSOindices_SST_large.png)\n",
    "\n",
    "Credit: [NOAA](https://www.climate.gov/sites/default/files/Fig3_ENSOindices_SST_large.png)\n",
    "\n",
    "The data is only available in full years starting 1982, so we will use 1982-2011 as the climatology period."
   ]
  },
  {
   "cell_type": "code",
   "execution_count": null,
   "metadata": {
    "execution": {},
    "tags": []
   },
   "outputs": [],
   "source": [
    "# get 30-year climatology from 1982-2011\n",
    "sst_30yr = ds.sst.sel(time=slice(\"1982-01-01\", \"2011-12-01\"))\n",
    "\n",
    "# calculate monthly climatology\n",
    "sst_clim = sst_30yr.groupby(\"time.month\").mean()\n",
    "sst_clim"
   ]
  },
  {
   "cell_type": "code",
   "execution_count": null,
   "metadata": {
    "execution": {},
    "tags": []
   },
   "outputs": [],
   "source": [
    "# calculate monthly anomaly\n",
    "sst_anom = ds.sst.groupby(\"time.month\") - sst_clim\n",
    "sst_anom"
   ]
  },
  {
   "cell_type": "markdown",
   "metadata": {
    "execution": {}
   },
   "source": [
    "Now, we can take a look at the SST anomaly of a given month. We use January of 1998 to show the specific change of SST during that time period."
   ]
  },
  {
   "cell_type": "code",
   "execution_count": null,
   "metadata": {
    "execution": {},
    "tags": []
   },
   "outputs": [],
   "source": [
    "sst = sst_anom.sel(time=\"1998-01-01\")\n",
    "\n",
    "# initate plot\n",
    "fig, ax = plt.subplots(\n",
    "    subplot_kw={\"projection\": ccrs.Robinson(central_longitude=180)}, figsize=(9, 6)\n",
    ")\n",
    "\n",
    "# focus on the ocean with the central_longitude=180\n",
    "ax.coastlines()\n",
    "ax.gridlines()\n",
    "sst.plot(\n",
    "    ax=ax,\n",
    "    transform=ccrs.PlateCarree(),\n",
    "    vmin=-3,\n",
    "    vmax=3,\n",
    "    cmap=\"RdBu_r\",\n",
    "    cbar_kwargs=dict(shrink=0.5, label=\"OISST Anomaly (degC)\"),\n",
    ")"
   ]
  },
  {
   "cell_type": "markdown",
   "metadata": {
    "execution": {}
   },
   "source": [
    "### **Interactive Demo 1.1**\n",
    "\n",
    "Use the slider bar below to explore maps of the anomalies through the year in 1998."
   ]
  },
  {
   "cell_type": "code",
   "execution_count": null,
   "metadata": {
    "execution": {},
    "tags": []
   },
   "outputs": [],
   "source": [
    "# note this code takes a while to load. probably an hour\n",
    "# holoviews.extension('bokeh')\n",
    "\n",
    "# dataset_plot = gvDataset(sst_anom.sel(time=slice('1998-01-01','1998-12-01'))) # taking only 12 months\n",
    "# images = dataset_plot.to(gvImage, ['lon', 'lat'], ['sst'], 'time')\n",
    "# images.opts(cmap='RdBu_r', colorbar=True, width=600, height=400,projection=ccrs.Robinson(),\n",
    "#             clim=(-3,3),clabel ='OISST Anomaly (degC)') * gf.coastline"
   ]
  },
  {
   "cell_type": "markdown",
   "metadata": {
    "execution": {}
   },
   "source": [
    "## **Section 1.2: Monitoring ENSO with Oceanic Niño Index**\n",
    "\n",
    "As you learned in Day 2, the [Oceanic Niño Index (ONI)](https://climatedataguide.ucar.edu/climate-data/nino-sst-indices-nino-12-3-34-4-oni-and-tni) is a common index used to monitor ENSO. It is calculated using the Niño 3.4 region (5N-5S, 170W-120W) and by applying a 3-month rolling mean to the mean SST anomalies in that region."
   ]
  },
  {
   "cell_type": "markdown",
   "metadata": {
    "execution": {}
   },
   "source": [
    "You may have noticed that the `lon` for the SST data from [NOAA Physical Systems Laboratory](https://psl.noaa.gov/) is organized between 0°–360°E. Just as in Tutorial 1 of Day 2, we find that the region to subset with our dataset is (-5°–5°, 190–240°)."
   ]
  },
  {
   "cell_type": "code",
   "execution_count": null,
   "metadata": {
    "execution": {},
    "tags": []
   },
   "outputs": [],
   "source": [
    "# extract SST data from the Nino 3.4 region\n",
    "sst_nino34 = sst_anom.sel(lat=slice(-5, 5), lon=slice(190, 240))\n",
    "sst_nino34"
   ]
  },
  {
   "cell_type": "code",
   "execution_count": null,
   "metadata": {
    "execution": {},
    "tags": []
   },
   "outputs": [],
   "source": [
    "# calculate the mean values for the Nino 3.4 region\n",
    "nino34 = sst_nino34.mean(dim=[\"lat\", \"lon\"])\n",
    "\n",
    "# Pplot time series for Nino 3.4 mean anomaly\n",
    "fig, ax = plt.subplots(figsize=(12, 6))\n",
    "nino34.plot(ax=ax)\n",
    "ax.set_ylabel(\"Nino3.4 Anomaly (degC)\")\n",
    "ax.axhline(y=0, color=\"k\", linestyle=\"dashed\")"
   ]
  },
  {
   "cell_type": "markdown",
   "metadata": {
    "execution": {}
   },
   "source": [
    "The ONI is defined as the 3-month rolling mean of the monthly regional average of the SST anomaly for the Nino 3.4 region. We can use `.rolling()` to calculate the ONI value for each month from the OISST monthly anomaly."
   ]
  },
  {
   "cell_type": "code",
   "execution_count": null,
   "metadata": {
    "execution": {},
    "tags": []
   },
   "outputs": [],
   "source": [
    "# calculate 3-month rolling mean of Nino 3.4 anomaly for the ONI\n",
    "oni = nino34.rolling(time=3, center=True).mean()\n",
    "\n",
    "# generate time series plot\n",
    "fig, ax = plt.subplots(figsize=(12, 6))\n",
    "nino34.plot(label=\"Nino 3.4\", ax=ax)\n",
    "oni.plot(color=\"k\", label=\"ONI\", ax=ax)\n",
    "ax.set_ylabel(\"Anomaly (degC)\")\n",
    "ax.axhline(y=0, color=\"k\", linestyle=\"dashed\")\n",
    "ax.legend()"
   ]
  },
  {
   "cell_type": "markdown",
   "metadata": {
    "execution": {}
   },
   "source": [
    "The different phases of ENSO are nominally defined based on a threshold of $\\pm$ 0.5 with the ONI index. \n",
    "\n",
    "- [El Niño](https://glossary.ametsoc.org/wiki/El_niño) [ONI values higher than 0.5]: surface waters in the east-central tropical Pacific are at least 0.5 degrees Celsius *warmer than normal*.\n",
    "- [La Niña](https://glossary.ametsoc.org/wiki/La_niña) [ONI values lower than -0.5]: surface waters ub the west tropical Pacific are at least 0.5 degrees Celsius *cooler than normal*.\n",
    "\n",
    "The neutral phase is when ONI values are in between these two thresholds. We can make the ONI plot that is used by NOAA and other organizations to monitor ENSO phases."
   ]
  },
  {
   "cell_type": "code",
   "execution_count": null,
   "metadata": {
    "execution": {},
    "tags": []
   },
   "outputs": [],
   "source": [
    "# set up the plot size\n",
    "fig, ax = plt.subplots(figsize=(12, 6))\n",
    "\n",
    "# create the filled area when ONI values are above 0.5 for El Nino\n",
    "ax.fill_between(\n",
    "    oni.time.data,\n",
    "    oni.where(oni >= 0.5).data,\n",
    "    0.5,\n",
    "    color=\"red\",\n",
    "    alpha=0.9,\n",
    ")\n",
    "\n",
    "# create the filled area when ONI values are below -0.5 for La Nina\n",
    "ax.fill_between(\n",
    "    oni.time.data,\n",
    "    oni.where(oni <= -0.5).data,\n",
    "    -0.5,\n",
    "    color=\"blue\",\n",
    "    alpha=0.9,\n",
    ")\n",
    "\n",
    "# create the time series of ONI\n",
    "oni.plot(color=\"black\", ax=ax)\n",
    "\n",
    "# add the threshold lines on the plot\n",
    "ax.axhline(0, color=\"black\", lw=0.5)\n",
    "ax.axhline(0.5, color=\"red\", linewidth=0.5, linestyle=\"dotted\")\n",
    "ax.axhline(-0.5, color=\"blue\", linewidth=0.5, linestyle=\"dotted\")\n",
    "ax.set_title(\"Oceanic Niño Index\")"
   ]
  },
  {
   "cell_type": "markdown",
   "metadata": {
    "execution": {}
   },
   "source": [
    "From the plot, we can see the historical ENSO phases swing from El Nino to La Nina events. The major ENSO events like 1997-1998 shows up very clearly on the ONI plot. \n",
    "\n",
    "We will use the ONI data to perform analysis to understand the impact of ENSO on precipitation. So you can export the ONI time series into a netCDF file for future use via `.to_netcdf()`. For our purposes, we will download a dataset that has been previously saved in the next tutorial. If you wanted to save the data when working on your own computer, this is the code you could use."
   ]
  },
  {
   "cell_type": "code",
   "execution_count": null,
   "metadata": {
    "execution": {},
    "tags": []
   },
   "outputs": [],
   "source": [
    "# oni.to_netcdf('t6_oceanic-nino-index.nc')"
   ]
  },
  {
   "cell_type": "markdown",
   "metadata": {
    "execution": {}
   },
   "source": [
    "### **Coding Exercises 1.2**\n",
    "\n",
    "As we learned here, ENSO is monitored using the anomaly of SST data for a specific region (e.g., Nino 3.4). We also learned previously that the reference periods used to calculate climatolgies are updated regularly to reflect the most up to date 'normal'.\n",
    "\n",
    "1. Compare the ONI time series calculated using two different climatology reference periods (1982-2011 v.s. 1991-2020). "
   ]
  },
  {
   "cell_type": "markdown",
   "metadata": {
    "colab_type": "text",
    "execution": {},
    "tags": []
   },
   "source": [
    "```python\n",
    "#################################################\n",
    "# Students: Fill in missing code (...) and comment or remove the next line\n",
    "raise NotImplementedError(\n",
    "    \"Student exercise: Compare the ONI time series calculated using two different climatology reference periods (1982-2011 v.s. 1991-2020).\"\n",
    ")\n",
    "#################################################\n",
    "# select data from 1991-2020.\n",
    "sst_30yr_later = ...\n",
    "\n",
    "# calculate climatology\n",
    "sst_clim_later = ...\n",
    "\n",
    "# calculate anomaly\n",
    "sst_anom_later = ...\n",
    "\n",
    "# calculate mean over Nino 3.4 region\n",
    "nino34_later = ...\n",
    "\n",
    "# compute 3 month rolling mean\n",
    "oni_later = ...\n",
    "\n",
    "# compare the two ONI time series and visualize the difference as a time series plot\n",
    "fig, ax = plt.subplots(figsize=(12, 6))\n",
    "oni.plot(color=\"k\", label=\"ONI (1982-2011)\", ax=ax)\n",
    "oni_later.plot(color=\"r\", label=\"ONI (1991-2020)\", ax=ax)\n",
    "ax.set_ylabel(\"Anomaly (degC)\")\n",
    "ax.axhline(y=0, color=\"k\", linestyle=\"dashed\")\n",
    "ax.legend()\n",
    "\n",
    "```"
   ]
  },
  {
   "cell_type": "code",
   "execution_count": null,
   "metadata": {
    "execution": {},
    "tags": []
   },
   "outputs": [],
   "source": [
    "# to_remove solution\n",
    "\n",
    "# select data from 1991-2020.\n",
    "sst_30yr_later = ds.sst.sel(time=slice(\"1991-01-01\", \"2020-12-30\"))\n",
    "\n",
    "# calculate climatology\n",
    "sst_clim_later = sst_30yr_later.groupby(\"time.month\").mean()\n",
    "\n",
    "# calculate anomaly\n",
    "sst_anom_later = ds.sst.groupby(\"time.month\") - sst_clim_later\n",
    "\n",
    "# calculate mean over Nino 3.4 region\n",
    "nino34_later = sst_anom_later.sel(lat=slice(-5, 5), lon=slice(190, 240)).mean(\n",
    "    dim=[\"lat\", \"lon\"]\n",
    ")\n",
    "\n",
    "# compute 3 month rolling mean\n",
    "oni_later = nino34_later.rolling(time=3, center=True).mean()\n",
    "\n",
    "# compare the two ONI time series and visualize the difference as a time series plot\n",
    "fig, ax = plt.subplots(figsize=(12, 6))\n",
    "oni.plot(color=\"k\", label=\"ONI (1982-2011)\", ax=ax)\n",
    "oni_later.plot(color=\"r\", label=\"ONI (1991-2020)\", ax=ax)\n",
    "ax.set_ylabel(\"Anomaly (degC)\")\n",
    "ax.axhline(y=0, color=\"k\", linestyle=\"dashed\")\n",
    "ax.legend()"
   ]
  },
  {
   "cell_type": "markdown",
   "metadata": {
    "execution": {}
   },
   "source": [
    "### **Questions 1.2: Climate Connection**\n",
    "\n",
    "1. What is the main difference you note about this plot?\n",
    "2. What does this tell you about the climatology calculated from 1982-2011 versus 1991-2020?\n",
    "3. Why is it important to use appropriate climatologies when finding anomalies?"
   ]
  },
  {
   "cell_type": "code",
   "execution_count": null,
   "metadata": {
    "execution": {},
    "tags": []
   },
   "outputs": [],
   "source": [
    "# to_remove explanation\n",
    "\n",
    "\"\"\"\n",
    "1. The index using the 1982-2011 reference period is always a little larger than the 1991-2020 reference period curve.\n",
    "2. This means that the climatology values for the 1991-2020 reference period were larger than that of 1982-2011.\n",
    "3. This can help remove long term trends (e.g. from warming) that can obscure the anomalies and ensures the anomaly is to the correct 'normal'.\n",
    "\"\"\";"
   ]
  },
  {
   "cell_type": "markdown",
   "metadata": {
    "execution": {}
   },
   "source": [
    "# **Summary**\n",
    "\n",
    "In this tutorial, you revisted the foundational principles of ENSO and explored how satellite data can be employed to track this phenomenon. \n",
    "- As one of the most potent climate influences on Earth, ENSO has the capacity to alter global atmospheric circulation with impacts around the world.\n",
    "- You observed the three phases of ENSO by utilizing SST data gathered from satellites and calculating the Oceanic Niño Index.\n",
    "\n",
    "In the forthcoming tutorial, we will utilize the ONI, calculated in this session, to evaluate the influence of ENSO on precipitation in select regions. \n"
   ]
  },
  {
   "cell_type": "markdown",
   "metadata": {
    "execution": {}
   },
   "source": [
    "# Resources"
   ]
  },
  {
   "cell_type": "markdown",
   "metadata": {
    "execution": {}
   },
   "source": [
    "Data from this tutorial can be accessed [here](https://www.ncei.noaa.gov/products/optimum-interpolation-sst)."
   ]
  }
 ],
 "metadata": {
  "colab": {
   "collapsed_sections": [],
   "include_colab_link": true,
   "name": "W1D3_Tutorial6",
   "provenance": [],
   "toc_visible": true
  },
  "kernel": {
   "display_name": "Python 3",
   "language": "python",
   "name": "python3"
  },
  "kernelspec": {
   "display_name": "Python 3 (ipykernel)",
   "language": "python",
   "name": "python3"
  },
  "language_info": {
   "codemirror_mode": {
    "name": "ipython",
    "version": 3
   },
   "file_extension": ".py",
   "mimetype": "text/x-python",
   "name": "python",
   "nbconvert_exporter": "python",
   "pygments_lexer": "ipython3",
   "version": "3.10.12"
  }
 },
 "nbformat": 4,
 "nbformat_minor": 4
}