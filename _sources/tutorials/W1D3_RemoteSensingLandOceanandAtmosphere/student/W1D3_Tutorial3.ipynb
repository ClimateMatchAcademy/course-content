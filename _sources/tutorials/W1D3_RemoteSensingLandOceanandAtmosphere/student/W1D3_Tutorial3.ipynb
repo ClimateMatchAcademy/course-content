{
 "cells": [
  {
   "cell_type": "markdown",
   "metadata": {},
   "source": [
    "[![Open In Colab](https://colab.research.google.com/assets/colab-badge.svg)](https://colab.research.google.com/github/ClimateMatchAcademy/course-content/blob/main/tutorials/W1D3_RemoteSensingLandOceanandAtmosphere/student/W1D3_Tutorial3.ipynb)   <a href=\"https://kaggle.com/kernels/welcome?src=https://raw.githubusercontent.com/ClimateMatchAcademy/course-content/main/tutorials/W1D3_RemoteSensingLandOceanandAtmosphere/student/W1D3_Tutorial3.ipynb\" target=\"_blank\"><img alt=\"Open in Kaggle\" src=\"https://kaggle.com/static/images/open-in-kaggle.svg\"/></a>"
   ]
  },
  {
   "cell_type": "markdown",
   "metadata": {
    "execution": {}
   },
   "source": [
    "# Tutorial 3: Visualizing Satellite CDR - Global Vegetation Mapping\n",
    "\n",
    "**Week 1, Day 3, Remote Sensing**\n",
    "\n",
    "**Content creators:** Douglas Rao\n",
    "\n",
    "**Content reviewers:** Katrina Dobson, Younkap Nina Duplex, Maria Gonzalez, Will Gregory, Nahid Hasan, Sherry Mi, Beatriz Cosenza Muralles, Jenna Pearson, Agustina Pesce, Chi Zhang, Ohad Zivan\n",
    "\n",
    "**Content editors:** Jenna Pearson, Chi Zhang, Ohad Zivan\n",
    "\n",
    "**Production editors:** Wesley Banfield, Jenna Pearson, Chi Zhang, Ohad Zivan\n",
    "\n",
    "**Our 2023 Sponsors:** NASA TOPS and Google DeepMind"
   ]
  },
  {
   "cell_type": "markdown",
   "metadata": {
    "execution": {}
   },
   "source": [
    "# Tutorial Objectives\n",
    "\n",
    "In this tutorial, you will acquire skills necessary for accessing and analyzing satellite remote sensing products, particularly in the context of climate applications. We will be using vegetation mapping as an example, and use long-term vegetation greeness data to demonstrate these skills.\n",
    "\n",
    "By the end of this tutorial you will be able to:\n",
    "\n",
    "* Locate, access, and visualize vegetation greeness data (NDVI) from the cloud using `xarray` and `matplotlib`.\n",
    "* Understand how to use quality flag information included in the datasets to filter out data that is not acceptable to use for climate analysis.\n"
   ]
  },
  {
   "cell_type": "markdown",
   "metadata": {
    "execution": {}
   },
   "source": [
    "# Setup"
   ]
  },
  {
   "cell_type": "code",
   "execution_count": null,
   "metadata": {
    "tags": [
     "colab"
    ]
   },
   "outputs": [],
   "source": [
    "# installations ( uncomment and run this cell ONLY when using google colab or kaggle )\n",
    "\n",
    "# !pip install s3fs --quiet\n",
    "\n",
    "# # properly install cartopy in colab to avoid session crash\n",
    "# !apt-get install libproj-dev proj-data proj-bin --quiet\n",
    "# !apt-get install libgeos-dev --quiet\n",
    "# !pip install cython --quiet\n",
    "# !pip install cartopy --quiet\n",
    "\n",
    "# !apt-get -qq install python-cartopy python3-cartopy  --quiet\n",
    "# !pip uninstall -y shapely  --quiet\n",
    "# !pip install shapely --no-binary shapely  --quiet\n",
    "\n",
    "# !pip install boto3 --quiet\n",
    "\n",
    "# you may need to restart the runtime after running this cell and that is ok"
   ]
  },
  {
   "cell_type": "code",
   "execution_count": null,
   "metadata": {
    "tags": []
   },
   "outputs": [],
   "source": [
    "# imports\n",
    "import s3fs\n",
    "import numpy as np\n",
    "import xarray as xr\n",
    "import matplotlib.pyplot as plt\n",
    "import cartopy\n",
    "import cartopy.crs as ccrs\n",
    "import datetime\n",
    "import boto3\n",
    "import botocore\n",
    "import pooch\n",
    "import os\n",
    "import tempfile"
   ]
  },
  {
   "cell_type": "markdown",
   "metadata": {},
   "source": [
    "##  Figure Settings\n"
   ]
  },
  {
   "cell_type": "code",
   "execution_count": null,
   "metadata": {
    "cellView": "form",
    "tags": [
     "hide-input"
    ]
   },
   "outputs": [],
   "source": [
    "# @title Figure Settings\n",
    "import ipywidgets as widgets  # interactive display\n",
    "\n",
    "%config InlineBackend.figure_format = 'retina'\n",
    "plt.style.use(\n",
    "    \"https://raw.githubusercontent.com/ClimateMatchAcademy/course-content/main/cma.mplstyle\"\n",
    ")"
   ]
  },
  {
   "cell_type": "markdown",
   "metadata": {},
   "source": [
    "##  Helper functions\n"
   ]
  },
  {
   "cell_type": "code",
   "execution_count": null,
   "metadata": {
    "tags": [
     "hide-input"
    ]
   },
   "outputs": [],
   "source": [
    "# @title Helper functions\n",
    "\n",
    "def pooch_load(filelocation=None, filename=None, processor=None):\n",
    "    shared_location = \"/home/jovyan/shared/data/tutorials/W1D3_RemoteSensingLandOceanandAtmosphere\"  # this is different for each day\n",
    "    user_temp_cache = tempfile.gettempdir()\n",
    "\n",
    "    if os.path.exists(os.path.join(shared_location, filename)):\n",
    "        file = os.path.join(shared_location, filename)\n",
    "    else:\n",
    "        file = pooch.retrieve(\n",
    "            filelocation,\n",
    "            known_hash=None,\n",
    "            fname=os.path.join(user_temp_cache, filename),\n",
    "            processor=processor,\n",
    "        )\n",
    "\n",
    "    return file"
   ]
  },
  {
   "cell_type": "markdown",
   "metadata": {},
   "source": [
    "##  Video 1: Access and Vizualise Satellite CDR\n"
   ]
  },
  {
   "cell_type": "code",
   "execution_count": null,
   "metadata": {
    "cellView": "form",
    "tags": [
     "remove-input"
    ]
   },
   "outputs": [],
   "source": [
    "# @title Video 1: Access and Vizualise Satellite CDR\n",
    "\n",
    "from ipywidgets import widgets\n",
    "from IPython.display import YouTubeVideo\n",
    "from IPython.display import IFrame\n",
    "from IPython.display import display\n",
    "\n",
    "\n",
    "class PlayVideo(IFrame):\n",
    "  def __init__(self, id, source, page=1, width=400, height=300, **kwargs):\n",
    "    self.id = id\n",
    "    if source == 'Bilibili':\n",
    "      src = f'https://player.bilibili.com/player.html?bvid={id}&page={page}'\n",
    "    elif source == 'Osf':\n",
    "      src = f'https://mfr.ca-1.osf.io/render?url=https://osf.io/download/{id}/?direct%26mode=render'\n",
    "    super(PlayVideo, self).__init__(src, width, height, **kwargs)\n",
    "\n",
    "\n",
    "def display_videos(video_ids, W=400, H=300, fs=1):\n",
    "  tab_contents = []\n",
    "  for i, video_id in enumerate(video_ids):\n",
    "    out = widgets.Output()\n",
    "    with out:\n",
    "      if video_ids[i][0] == 'Youtube':\n",
    "        video = YouTubeVideo(id=video_ids[i][1], width=W,\n",
    "                             height=H, fs=fs, rel=0)\n",
    "        print(f'Video available at https://youtube.com/watch?v={video.id}')\n",
    "      else:\n",
    "        video = PlayVideo(id=video_ids[i][1], source=video_ids[i][0], width=W,\n",
    "                          height=H, fs=fs, autoplay=False)\n",
    "        if video_ids[i][0] == 'Bilibili':\n",
    "          print(f'Video available at https://www.bilibili.com/video/{video.id}')\n",
    "        elif video_ids[i][0] == 'Osf':\n",
    "          print(f'Video available at https://osf.io/{video.id}')\n",
    "      display(video)\n",
    "    tab_contents.append(out)\n",
    "  return tab_contents\n",
    "\n",
    "\n",
    "video_ids = [('Youtube', 'y5l1o3FGbCw'), ('Bilibili', 'BV1tF41197Lv')]\n",
    "tab_contents = display_videos(video_ids, W=730, H=410)\n",
    "tabs = widgets.Tab()\n",
    "tabs.children = tab_contents\n",
    "for i in range(len(tab_contents)):\n",
    "  tabs.set_title(i, video_ids[i][0])\n",
    "display(tabs)"
   ]
  },
  {
   "cell_type": "code",
   "execution_count": null,
   "metadata": {
    "cellView": "form",
    "pycharm": {
     "name": "#%%\n"
    },
    "tags": [
     "remove-input"
    ]
   },
   "outputs": [],
   "source": [
    "# @markdown\n",
    "from ipywidgets import widgets\n",
    "from IPython.display import IFrame\n",
    "\n",
    "link_id = \"g9n5d\"\n",
    "\n",
    "download_link = f\"https://osf.io/download/{link_id}/\"\n",
    "render_link = f\"https://mfr.ca-1.osf.io/render?url=https://osf.io/{link_id}/?direct%26mode=render%26action=download%26mode=render\"\n",
    "# @markdown\n",
    "out = widgets.Output()\n",
    "with out:\n",
    "    print(f\"If you want to download the slides: {download_link}\")\n",
    "    display(IFrame(src=f\"{render_link}\", width=730, height=410))\n",
    "display(out)"
   ]
  },
  {
   "cell_type": "markdown",
   "metadata": {
    "execution": {}
   },
   "source": [
    "# Section 1: Satellite Monitoring of Vegetation Status\n",
    "\n",
    "As we learned in the previous tutorial, all the **National Atmospheric and Oceanic Administration Climate Data Record (NOAA-CDR)** datasets are available both at NOAA National Centers for Environmental Information (NCEI) and commercial cloud platforms. Here, we are accessing the data directly via the **Amazon Web Service (AWS)**. You can find out information about the NOAA CDRs on AWS's Open Data Registry.\n",
    "\n",
    "* [NOAA Fundamental CDR on AWS](https://registry.opendata.aws/noaa-cdr-fundamental/) \n",
    "* [NOAA Terrestrial CDR on AWS](https://registry.opendata.aws/noaa-cdr-terrestrial/) \n",
    "* [NOAA Atmospheric CDR on AWS](https://registry.opendata.aws/noaa-cdr-atmospheric/) \n",
    "* [NOAA Oceanic CDR on AWS](https://registry.opendata.aws/noaa-cdr-oceanic/) \n",
    "\n",
    "The index we will use in this tutorial is the **Normalized Difference Vegetation Index (NDVI)**.  It is one of the most commonly used remotely sensed indices. It measures the \"greeness\" of vegetation, and is useful in understanding vegetation density and assessing changes in plant health. For example, NDVI can be used to study the impact of drought, heatwave, and insect infestation on plants covering Earth's surface."
   ]
  },
  {
   "cell_type": "markdown",
   "metadata": {
    "execution": {}
   },
   "source": [
    "## Section 1.1: Access NOAA NDVI CDR Data from AWS\n",
    "\n"
   ]
  },
  {
   "cell_type": "markdown",
   "metadata": {
    "execution": {}
   },
   "source": [
    "If we go to the [cloud storage space (or a S3 bucket)](https://noaa-cdr-ndvi-pds.s3.amazonaws.com/index.html#data/) that hosts NOAA NDVI CDR data, you will see the pattern of how the NOAA NDVI CDR is organized:\n",
    "\n",
    "`s3://noaa-cdr-ndvi-pds/data/1981/AVHRR-Land_v005_AVH13C1_NOAA-07_19810624_c20170610041337.nc`\n",
    "\n",
    "We can take advantage of the pattern to search for the data file systematically. \n",
    "\n",
    "> Parent directory: `s3://noaa-cdr-ndvi-pds/data/`  \n",
    "> Sub-directory for each year: `1981/`  \n",
    "> File name of each day: `AVHRR-Land_v005_AVH13C1_NOAA-07_19810624_c20170610041337.nc`\n",
    "\n",
    "The file name also has a clear pattern:\n",
    "\n",
    "> Sensor name: `AVHRR`  \n",
    "> Product category: `Land`  \n",
    "> Product version: `v005`  \n",
    "> Product code: `AVH13C1`  \n",
    "> Satellite platform: `NOAA-07`  \n",
    "> Date of the data: `19810624`  \n",
    "> Processing time: `c20170610041337` (*This will change for each file based on when the file was processed*)  \n",
    "> File format: `.nc` (*netCDR-4 format*)\n",
    "\n",
    "In other words, if we are looking for the data of a specific day, we can easily locate where the file might be. \n",
    "\n",
    "For example, if we want to find the AVHRR data for the day of *2002-03-12 (or March 12, 2002)*, you can use:\n",
    "\n",
    "`s3://noaa-cdr-ndvi-pds/data/2002/AVHRR-Land_v005_AVH13C1_*_20020312_c*.nc`\n",
    "\n",
    "The reasaon that we put `*` in the above directory is because we are not sure about what satellite platform this data is from and when the data was processed. The `*` is called a **wildcard**, and is used because we want *all* the files that contain our specific criteria, but do not want to have to specify all the other pieces of the filename we are not sure about yet. It should return all the data satisfying that initial criteria and you can refine further once you see what is available. Essentially, this first step helps to narrow down the data search."
   ]
  },
  {
   "cell_type": "code",
   "execution_count": null,
   "metadata": {
    "tags": []
   },
   "outputs": [],
   "source": [
    "# to access the NDVI data from AWS S3 bucket, we first need to connect to s3 bucket\n",
    "fs = s3fs.S3FileSystem(anon=True)\n",
    "\n",
    "# we can now check to see if the file exist in this cloud storage bucket using the file name pattern we just described\n",
    "date_sel = datetime.datetime(\n",
    "    2002, 3, 12, 0\n",
    ")  # select a desired date and hours (midnight is zero)\n",
    "\n",
    "# automatic filename from data_sel. we use strftime (string format time) to get the text format of the file in question.\n",
    "file_location = fs.glob(\n",
    "    \"s3://noaa-cdr-ndvi-pds/data/\"\n",
    "    + date_sel.strftime(\"%Y\")\n",
    "    + \"/AVHRR-Land_v005_AVH13C1_*\"\n",
    "    + date_sel.strftime(\"%Y%m%d\")\n",
    "    + \"_c*.nc\"\n",
    ")\n",
    "# now let's check if there is a file match the pattern of the date that we are interested in.\n",
    "file_location"
   ]
  },
  {
   "cell_type": "markdown",
   "metadata": {
    "execution": {}
   },
   "source": [
    "### Coding Exercises 1.1\n",
    "\n",
    "1. NDVI CDR data switched sensors on 2014 from AVHRR (the older generation sensor) to VIIRS (the newest generation sensor). Using the code above and the [list of data names](https://noaa-cdr-ndvi-pds.s3.amazonaws.com/index.html#data/) for VIIRS, find data from a day after 2014. You will need to modify string input into `glob()` to do so."
   ]
  },
  {
   "cell_type": "code",
   "execution_count": null,
   "metadata": {
    "tags": []
   },
   "outputs": [],
   "source": [
    "# select a desired date and hours (midnight is zero)\n",
    "exercise_date_sel = ...\n",
    "\n",
    "# automatic filename from data_sel. we use strftime (string format time) to get the text format of the file in question.\n",
    "exercise_file_location = ...\n",
    "\n",
    "# now let's check if there is a file match the pattern of the date that we are interested in.\n",
    "exercise_file_location"
   ]
  },
  {
   "cell_type": "markdown",
   "metadata": {
    "execution": {}
   },
   "source": [
    "## Section 1.2: Read NDVI CDR Data\n",
    "\n",
    "Now that you have the location of the NDVI data for a specific date, you can read in the data using the python library `xarray` to open the [netCDF-4 file](https://pro.arcgis.com/en/pro-app/latest/help/data/multidimensional/what-is-netcdf-data.htm), a common data format used to store satellite and climate datasets.\n",
    "\n"
   ]
  },
  {
   "cell_type": "code",
   "execution_count": null,
   "metadata": {
    "tags": []
   },
   "outputs": [],
   "source": [
    "# first, we need to open the connection to the file object of the selected date.\n",
    "# we are still using the date of 2002-03-12 as the example here.\n",
    "\n",
    "# to keep up with previous tutorials (consistency), we are going to use boto3 and pooch to open the file.\n",
    "# but note s3fs also has the ability to open files from s3 remotely.\n",
    "\n",
    "client = boto3.client(\n",
    "    \"s3\", config=botocore.client.Config(signature_version=botocore.UNSIGNED)\n",
    ")  # initialize aws s3 bucket client\n",
    "\n",
    "ds = xr.open_dataset(\n",
    "    pooch_load(\n",
    "        filelocation=\"http://s3.amazonaws.com/\" + file_location[0],\n",
    "        filename=file_location[0],\n",
    "    )\n",
    ")  # open the file\n",
    "ds"
   ]
  },
  {
   "cell_type": "markdown",
   "metadata": {
    "execution": {}
   },
   "source": [
    "The output from the code block tells us that the NDVI data file of 2002-03-12 has dimensions of `3600x7200`. This makes sense for a dataset with the spatial resolution of 0.05°×0.05° that spans 180° of latitude and 360° of longitude. There is another dimension of the dataset named `time`. Since it is a daily data file, it only contains one value.\n",
    "\n",
    "Two main data variables are in this dataset are `NDVI` and `QA`.\n",
    "\n",
    "* `NDVI` is the variable that contains the value of Normalized Difference Vegetation Index  (NDVI - ranges between -1 and 1) that can be used to measure the vegetation greeness.  \n",
    "* `QA` is the variable that indicates the quality of the NDVI values for each corresponding grid. It reflects whether the data is of high quality or should be discarded because of various reasons (e.g., bad sensor data, potentially contanminated by clouds).\n",
    "\n"
   ]
  },
  {
   "cell_type": "markdown",
   "metadata": {
    "execution": {}
   },
   "source": [
    "## Section 1.3: Visualize NDVI CDR Data"
   ]
  },
  {
   "cell_type": "code",
   "execution_count": null,
   "metadata": {
    "tags": []
   },
   "outputs": [],
   "source": [
    "# examine NDVI values from the dataset\n",
    "ndvi = ds.NDVI\n",
    "ndvi"
   ]
  },
  {
   "cell_type": "markdown",
   "metadata": {
    "tags": []
   },
   "source": [
    "To visualize the raw data, we will will plot it using `matplotlib` by calling `.plot()` on our xarray `DataArray`."
   ]
  },
  {
   "cell_type": "code",
   "execution_count": null,
   "metadata": {
    "tags": []
   },
   "outputs": [],
   "source": [
    "# figure settings:\n",
    "# vmin & vmax: minimum and maximum values for the legend\n",
    "# aspect: setting the aspect ratio of the figure, must be combined with `size`\n",
    "# size: setting the overall size of the figure\n",
    "\n",
    "# to make plotting faster and less memory intesive we use coarsen to reduce the number of pixels\n",
    "ndvi.coarsen(latitude=5).mean().coarsen(longitude=5).mean().plot(\n",
    "    vmin=-0.1, vmax=1.0, aspect=1.8, size=5\n",
    ")"
   ]
  },
  {
   "cell_type": "markdown",
   "metadata": {
    "execution": {}
   },
   "source": [
    "## Section 1.4: Mask NDVI Data Using a Quality Flag\n",
    "\n",
    "As stated earlier, there is also a variable `QA` that indicates the quality of the NDVI value for each grid cell. This quality information is very important when using satellite data to ensure the climate analysis is done using only the highest quality data.\n",
    "\n",
    "For NDVI CDR data, it has a complex quality flag system that is represented using a 16-bit system. Although when you explore the values of `QA`,= it appears to be normal numeric values, the QA value needs to be converted to binary values of 16 bits and recognize the quality flag based on the information listed in the table below. "
   ]
  },
  {
   "cell_type": "markdown",
   "metadata": {
    "execution": {}
   },
   "source": [
    "| Bit No. | Description | Value=1 | Value=0 |\n",
    "|-:|:-|:-:|:-:|\n",
    "|15|Flag to indicate if the pixel is in polar region|Yes|No|\n",
    "|14|Flag to indicate BRDF-correction issues|Yes|No|\n",
    "|13|Flag to indicate RH03 value is invalid|Yes|No|\n",
    "|12|Flag to indicate AVHRR Channel 5 value is invalid|Yes|No|\n",
    "|11|Flag to indicate AVHRR Channel 4 value is invalid|Yes|No|\n",
    "|10|Flag to indicate AVHRR Channel 3 value is invalid|Yes|No|\n",
    "| 9|Flag to indicate AVHRR Channel 2 value is invalid|Yes|No|\n",
    "| 8|Flag to indicate AVHRR Channel 1 value is invalid|Yes|No|\n",
    "| 7|Flag to indicate all 5 AVHRR Channels are valid|Yes|No|\n",
    "| 6|Flag to indicate the pixel is at night (no visible channel data)|Yes|No|\n",
    "| 5|Flag to indicate the pixel is over dense dark vegetation|Yes|No|\n",
    "| 4|Flag to indicate the pixel is over sunglint (over ocean)|Yes|No|\n",
    "| 3|Flag to indicate the pixel is over water|Yes|No|\n",
    "| 2|Flag to indicate the pixel contains cloud shadow|Yes|No|\n",
    "| 1|Flag to indicate the pixel is cloudy|Yes|No|\n",
    "| 0|(Unused)|Yes|No|"
   ]
  },
  {
   "cell_type": "markdown",
   "metadata": {
    "execution": {}
   },
   "source": [
    "This shows the complex system to ensure that satellite CDR data is of high quality for climate applications. But how can we decifer the quality of a given pixel? \n",
    "\n",
    "Assuming that we have a grid with `QA=18`, when converted into a binary value with the length of 16 bits it becomes `0000000000010010`. That is, every `QA` value will be convereted into a list of 1's and 0's that is 16 numbers long. Converting our example above of 18 we have:\n",
    "\n",
    "|Bit15|Bit14|Bit13|Bit12|Bit11|Bit10|Bit9|Bit8|Bit7|Bit6|Bit5|Bit4|Bit3|Bit2|Bit1|Bit0|\n",
    "|-:|-:|-:|-:|-:|-:|-:|-:|-:|-:|-:|-:|-:|-:|-:|-:|\n",
    "|0|0|0|0|0|0|0|0|1|0|0|1|0|0|1|0|\n",
    "|No|No|No|No|No|No|No|No|Yes|No|No|Yes|No|No|Yes|No|\n",
    "\n",
    "Note here that 1 is `True` and 0 is `False`. Interpreting the table above, for a quality flag of 18, the NDVI is retrieved from valid values of AVHRR channels (`Bit7=1`) and the grid is over dense dark vegetation (`Bit5=1`), but the grid is cloudy (`Bit1=1`). Therefore, the QA tells us that we should not use this grid since it is covered by clouds and does not reflect vegetation information on the land surface. \n",
    "\n",
    "If you are a little confused by how to convert to binary, that is ok! This is a skill that you can practice more in your projects. For this tutorial, we will define a function that will automate our selection process of avoiding cloudy data."
   ]
  },
  {
   "cell_type": "code",
   "execution_count": null,
   "metadata": {
    "cellView": "form",
    "tags": []
   },
   "outputs": [],
   "source": [
    "# define a function to extract high quality NDVI data\n",
    "def get_quality_info(QA):\n",
    "    \"\"\"\n",
    "    QA: the QA value read in from the NDVI data\n",
    "\n",
    "    High quality NDVI should meet the following criteria:\n",
    "    Bit 7: 1 (All AVHRR channels have valid values)\n",
    "    Bit 2: 0 (The pixel is not covered by cloud shadow)\n",
    "    Bit 1: 0 (The pixel is not covered by cloud)\n",
    "\n",
    "    Output:\n",
    "    True: high quality\n",
    "    False: low quality\n",
    "    \"\"\"\n",
    "    # unpack quality assurance flag for cloud (byte: 1)\n",
    "    cld_flag = (QA % (2**2)) // 2\n",
    "    # unpack quality assurance flag for cloud shadow (byte: 2)\n",
    "    cld_shadow = (QA % (2**3)) // 2**2\n",
    "    # unpack quality assurance flag for AVHRR values (byte: 7)\n",
    "    value_valid = (QA % (2**8)) // 2**7\n",
    "\n",
    "    mask = (cld_flag == 0) & (cld_shadow == 0) & (value_valid == 1)\n",
    "\n",
    "    return mask"
   ]
  },
  {
   "cell_type": "code",
   "execution_count": null,
   "metadata": {
    "cellView": "form",
    "tags": []
   },
   "outputs": [],
   "source": [
    "# get the quality assurance value from NDVI data\n",
    "QA = ds.QA\n",
    "\n",
    "# create the high quality information mask\n",
    "mask = get_quality_info(QA)\n",
    "\n",
    "# check the quality flag mask information\n",
    "mask"
   ]
  },
  {
   "cell_type": "markdown",
   "metadata": {
    "execution": {}
   },
   "source": [
    "The output of the previous operation gives us a data array with logical values to indicate if a grid has high quality NDVI values or not. Now let's mask out the NDVI data array with this quality information to see if this will make a difference in the final map."
   ]
  },
  {
   "cell_type": "code",
   "execution_count": null,
   "metadata": {
    "cellView": "form",
    "tags": []
   },
   "outputs": [],
   "source": [
    "# use `.where` to only keep the NDVI values with high quality flag\n",
    "ndvi_masked = ndvi.where(mask)\n",
    "ndvi_masked"
   ]
  },
  {
   "cell_type": "markdown",
   "metadata": {
    "execution": {}
   },
   "source": [
    "As you may have noticed, a lot of the NDVI values in the masked data array becomes `nan` which means `not a number`. This means that the grid does not have a high quality NDVI value based on the QA value. Now, let's plot the map one more time to see the difference after the quality masking."
   ]
  },
  {
   "cell_type": "code",
   "execution_count": null,
   "metadata": {
    "tags": []
   },
   "outputs": [],
   "source": [
    "# re-plot the NDVI map using masked data\n",
    "ndvi_masked.coarsen(latitude=5).mean().coarsen(longitude=5).mean().plot(\n",
    "    vmin=-0.1, vmax=1.0, aspect=1.8, size=5\n",
    ")"
   ]
  },
  {
   "cell_type": "markdown",
   "metadata": {
    "execution": {}
   },
   "source": [
    "Note the large difference after the quality mask was applied and you removed data that was compromised due to clouds. Since the NDVI value is calculated using the reflectance values of the red and near-infrared spectral band, this value is only useful for vegetation and surface monitoring when there are no clouds present. Thus, we always need to remove the grid with clouds in the data."
   ]
  },
  {
   "cell_type": "markdown",
   "metadata": {
    "execution": {}
   },
   "source": [
    "### Coding Exercises 1.4\n",
    "\n",
    "You just learned how to use `xarray` and `matplotlib` to access NDVI CDR data from AWS and visualize it. Can you find a different date that you are interested in and visualize the high quality NDVI data of that day? Note the solution is just an example of a date that you could choose."
   ]
  },
  {
   "cell_type": "code",
   "execution_count": null,
   "metadata": {
    "tags": []
   },
   "outputs": [],
   "source": [
    "# define the date of your interest YYYYMMDD (e.g., 20030701)\n",
    "# select a desired date and hours (midnight is zero)\n",
    "date_sel_exercise = ...\n",
    "\n",
    "# locate the data in the AWS S3 bucket\n",
    "# hint: use the file pattern that we described\n",
    "file_location_exercise = ...\n",
    "\n",
    "# open file connection to the file in AWS S3 bucket and Use xarray to open the NDVI CDR file\n",
    "# open the file\n",
    "ds_exercise = ...\n",
    "\n",
    "# get the QA value and extract the high quality data mask and Mask NDVI data to keep only high quality value\n",
    "# hint: reuse the get_quality_info helper function we defined\n",
    "ndvi_masked_exercise = ...\n",
    "\n",
    "# plot high quality NDVI data\n",
    "# hint: use plot() function\n",
    "# ndvi_masked_exercise.coarsen(latitude=5).mean().coarsen(longitude=5).mean().plot(\n",
    "#     vmin=-0.1, vmax=1.0, aspect=1.8, size=5\n",
    "# )"
   ]
  },
  {
   "cell_type": "markdown",
   "metadata": {
    "execution": {}
   },
   "source": [
    "# Summary\n",
    "\n",
    "In this tutorial, you successfully accessed and visualized one of the most commonly used remotely sensed climate datasets for land applications! In addition, you should now:\n",
    "\n",
    "* Understand the file organization pattern to help you identify the data that you are interested in.\n",
    "* Understand thow to extract only the high quality data using quality flags provided with the datasets.\n",
    "* Know how to apply a quality flag mask and plot the resulting data.\n",
    "\n",
    "In the next tutorial, you will explore how to perform time series analysis, including calculating a climatology and anomaly with precipitation data.\n"
   ]
  },
  {
   "cell_type": "markdown",
   "metadata": {},
   "source": [
    "# Resources"
   ]
  },
  {
   "cell_type": "markdown",
   "metadata": {},
   "source": [
    "Data from this tutorial can be accessed [here](https://noaa-cdr-ndvi-pds.s3.amazonaws.com/index.html#data/)."
   ]
  }
 ],
 "metadata": {
  "colab": {
   "collapsed_sections": [],
   "include_colab_link": true,
   "name": "W1D3_Tutorial3",
   "provenance": [],
   "toc_visible": true
  },
  "kernel": {
   "display_name": "Python 3",
   "language": "python",
   "name": "python3"
  },
  "kernelspec": {
   "display_name": "climatematch",
   "language": "python",
   "name": "python3"
  },
  "language_info": {
   "codemirror_mode": {
    "name": "ipython",
    "version": 3
   },
   "file_extension": ".py",
   "mimetype": "text/x-python",
   "name": "python",
   "nbconvert_exporter": "python",
   "pygments_lexer": "ipython3",
   "version": "3.10.11"
  }
 },
 "nbformat": 4,
 "nbformat_minor": 4
}