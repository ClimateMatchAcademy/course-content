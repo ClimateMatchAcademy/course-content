{
 "cells": [
  {
   "cell_type": "markdown",
   "metadata": {
    "execution": {}
   },
   "source": [
    "#**Tutorial 3: Visualizing satellite CDR - Global Vegetation Mapping**\n",
    "\n",
    "> Indented block\n",
    "\n",
    "> Indented block\n",
    "\n",
    "\n",
    "\n",
    "\n",
    "**Week 1, Day 3, Remote Sensing**\n",
    "\n",
    "**Content creators:** Douglas Rao\n",
    "\n",
    "**Content reviewers:** TBD\n",
    "\n",
    "**Content editors:** TBD\n",
    "\n",
    "**Production editors:** TBD\n",
    "\n",
    "**Our 2023 Sponsors:** TBD"
   ]
  },
  {
   "cell_type": "markdown",
   "metadata": {
    "execution": {}
   },
   "source": [
    "#**Tutorial Objectives**\n",
    "\n",
    "In this tutorial, you will learn the skills of how to access and analyze satellite remote sensing products for climate applications. We will be using vegetation mapping as an example and use the long-term vegetation greeness data to demonstrate these skills.\n",
    "\n",
    "By the end of this tutorial you will be able to:\n",
    "\n",
    "* Locate, access, and visulize vegetation greeness data (NDVI) from cloud using `xarray` and `matplotlib`.\n",
    "* Understand how to use quality flag information from remote sensing dataset to filter data that is proper for climate analysis.\n"
   ]
  },
  {
   "cell_type": "markdown",
   "metadata": {
    "execution": {}
   },
   "source": [
    "#**Setup**\n",
    "\n",
    "\n",
    "\n",
    "In this section, we have:\n",
    "\n",
    "\n",
    "1.   **Import cell:** imports all libraries you use in the tutorial.\n",
    "2.   **Hidden Figure settings cell:** sets up the plotting style (copy exactly)\n",
    "1.   **Hidden Plotting functions cell:** contains all functions used to create plots throughout the tutorial (so students don't waste time looking at boilerplate matplotlib but can here if they wish to). Please use only matplotlib for plotting for consistency.\n",
    "2.   **Hidden Helper functions cell:** This should contain functions that students have previously used or that are very simple. Any helper functions that are being used for the first time and are important should be placed directly above the relevant text or exercise (see Section 1.1 for an example).\n",
    "    \n",
    "\n"
   ]
  },
  {
   "cell_type": "code",
   "execution_count": null,
   "metadata": {
    "execution": {}
   },
   "outputs": [],
   "source": [
    "#Imports\n",
    "\n",
    "# Import only the libraries/objects that you use in this tutorial.\n",
    "\n",
    "# If any external library has to be installed, !pip install library --quiet\n",
    "# follow this order: numpy>matplotlib.\n",
    "# import widgets in hidden Figure settings cell\n",
    "\n",
    "#!pip install s3fs --quiet\n",
    "#!pip install cartopy --quiet\n",
    "\n",
    "import s3fs\n",
    "import numpy as np\n",
    "import xarray as xr\n",
    "import matplotlib.pyplot as plt\n",
    "import cartopy, cartopy.crs as ccrs"
   ]
  },
  {
   "cell_type": "markdown",
   "metadata": {},
   "source": [
    "##  Figure settings\n"
   ]
  },
  {
   "cell_type": "markdown",
   "metadata": {},
   "source": [
    "###  Figure settings\n"
   ]
  },
  {
   "cell_type": "markdown",
   "metadata": {},
   "source": [
    "####  Figure settings\n"
   ]
  },
  {
   "cell_type": "markdown",
   "metadata": {},
   "source": [
    "#####  Figure settings\n"
   ]
  },
  {
   "cell_type": "markdown",
   "metadata": {},
   "source": [
    "######  Figure settings\n"
   ]
  },
  {
   "cell_type": "markdown",
   "metadata": {},
   "source": [
    "#######  Figure settings\n"
   ]
  },
  {
   "cell_type": "markdown",
   "metadata": {},
   "source": [
    "########  Figure settings\n"
   ]
  },
  {
   "cell_type": "markdown",
   "metadata": {},
   "source": [
    "#########  Figure settings\n"
   ]
  },
  {
   "cell_type": "markdown",
   "metadata": {},
   "source": [
    "##########  Figure settings\n"
   ]
  },
  {
   "cell_type": "markdown",
   "metadata": {},
   "source": [
    "###########  Figure settings\n"
   ]
  },
  {
   "cell_type": "markdown",
   "metadata": {},
   "source": [
    "############  Figure settings\n"
   ]
  },
  {
   "cell_type": "markdown",
   "metadata": {},
   "source": [
    "#############  Figure settings\n"
   ]
  },
  {
   "cell_type": "markdown",
   "metadata": {},
   "source": [
    "##############  Figure settings\n"
   ]
  },
  {
   "cell_type": "markdown",
   "metadata": {},
   "source": [
    "###############  Figure settings\n"
   ]
  },
  {
   "cell_type": "markdown",
   "metadata": {},
   "source": [
    "################  Figure settings\n"
   ]
  },
  {
   "cell_type": "markdown",
   "metadata": {},
   "source": [
    "#################  Figure settings\n"
   ]
  },
  {
   "cell_type": "markdown",
   "metadata": {},
   "source": [
    "##################  Figure settings\n"
   ]
  },
  {
   "cell_type": "markdown",
   "metadata": {},
   "source": [
    "###################  Figure settings\n"
   ]
  },
  {
   "cell_type": "markdown",
   "metadata": {},
   "source": [
    "####################  Figure settings\n"
   ]
  },
  {
   "cell_type": "markdown",
   "metadata": {},
   "source": [
    "#####################  Figure settings\n"
   ]
  },
  {
   "cell_type": "markdown",
   "metadata": {},
   "source": [
    "######################  Figure settings\n"
   ]
  },
  {
   "cell_type": "markdown",
   "metadata": {},
   "source": [
    "#######################  Figure settings\n"
   ]
  },
  {
   "cell_type": "markdown",
   "metadata": {},
   "source": [
    "########################  Figure settings\n"
   ]
  },
  {
   "cell_type": "markdown",
   "metadata": {},
   "source": [
    "#########################  Figure settings\n"
   ]
  },
  {
   "cell_type": "markdown",
   "metadata": {},
   "source": [
    "##########################  Figure settings\n"
   ]
  },
  {
   "cell_type": "markdown",
   "metadata": {},
   "source": [
    "###########################  Figure settings\n"
   ]
  },
  {
   "cell_type": "markdown",
   "metadata": {},
   "source": [
    "############################  Figure settings\n"
   ]
  },
  {
   "cell_type": "markdown",
   "metadata": {},
   "source": [
    "#############################  Figure settings\n"
   ]
  },
  {
   "cell_type": "markdown",
   "metadata": {},
   "source": [
    "##############################  Figure settings\n"
   ]
  },
  {
   "cell_type": "markdown",
   "metadata": {},
   "source": [
    "###############################  Figure settings\n"
   ]
  },
  {
   "cell_type": "markdown",
   "metadata": {},
   "source": [
    "################################  Figure settings\n"
   ]
  },
  {
   "cell_type": "markdown",
   "metadata": {},
   "source": [
    "#################################  Figure settings\n"
   ]
  },
  {
   "cell_type": "markdown",
   "metadata": {},
   "source": [
    "##################################  Figure settings\n"
   ]
  },
  {
   "cell_type": "markdown",
   "metadata": {},
   "source": [
    "###################################  Figure settings\n"
   ]
  },
  {
   "cell_type": "markdown",
   "metadata": {},
   "source": [
    "####################################  Figure settings\n"
   ]
  },
  {
   "cell_type": "markdown",
   "metadata": {},
   "source": [
    "#####################################  Figure settings\n"
   ]
  },
  {
   "cell_type": "code",
   "execution_count": null,
   "metadata": {
    "cellView": "form",
    "execution": {},
    "tags": [
     "hide-input"
    ]
   },
   "outputs": [],
   "source": [
    "# @title Figure settings\n",
    "import ipywidgets as widgets       # interactive display\n",
    "%config InlineBackend.figure_format = 'retina'\n",
    "plt.style.use(\"https://raw.githubusercontent.com/ClimateMatchAcademy/course-content/main/cma.mplstyle\")"
   ]
  },
  {
   "cell_type": "markdown",
   "metadata": {
    "execution": {}
   },
   "source": [
    "#**Section 1: Satellite monitoring of vegetation status**\n",
    "\n",
    "As we learned in the previous tutorial, all NOAA CDR datasets are available both at NOAA NCEI and commercial cloud platforms. Here, we are accessing the data directly via Amazon Web Service (AWS). You can find out the NOAA CDR data on AWS's Open Data Registry.\n",
    "\n",
    "* [NOAA Fundamental CDR on AWS](https://registry.opendata.aws/noaa-cdr-fundamental/) \n",
    "* [NOAA Terrestrial CDR on AWS](https://registry.opendata.aws/noaa-cdr-terrestrial/) \n",
    "* [NOAA Atmospheric CDR on AWS](https://registry.opendata.aws/noaa-cdr-atmospheric/) \n",
    "* [NOAA Oceanic CDR on AWS](https://registry.opendata.aws/noaa-cdr-oceanic/) \n",
    "\n"
   ]
  },
  {
   "cell_type": "markdown",
   "metadata": {},
   "source": [
    "##  Video 1: Video 1 Name\n"
   ]
  },
  {
   "cell_type": "markdown",
   "metadata": {},
   "source": [
    "###  Video 1: Video 1 Name\n"
   ]
  },
  {
   "cell_type": "markdown",
   "metadata": {},
   "source": [
    "####  Video 1: Video 1 Name\n"
   ]
  },
  {
   "cell_type": "markdown",
   "metadata": {},
   "source": [
    "#####  Video 1: Video 1 Name\n"
   ]
  },
  {
   "cell_type": "markdown",
   "metadata": {},
   "source": [
    "######  Video 1: Video 1 Name\n"
   ]
  },
  {
   "cell_type": "markdown",
   "metadata": {},
   "source": [
    "#######  Video 1: Video 1 Name\n"
   ]
  },
  {
   "cell_type": "markdown",
   "metadata": {},
   "source": [
    "########  Video 1: Video 1 Name\n"
   ]
  },
  {
   "cell_type": "markdown",
   "metadata": {},
   "source": [
    "#########  Video 1: Video 1 Name\n"
   ]
  },
  {
   "cell_type": "markdown",
   "metadata": {},
   "source": [
    "##########  Video 1: Video 1 Name\n"
   ]
  },
  {
   "cell_type": "markdown",
   "metadata": {},
   "source": [
    "###########  Video 1: Video 1 Name\n"
   ]
  },
  {
   "cell_type": "markdown",
   "metadata": {},
   "source": [
    "############  Video 1: Video 1 Name\n"
   ]
  },
  {
   "cell_type": "markdown",
   "metadata": {},
   "source": [
    "#############  Video 1: Video 1 Name\n"
   ]
  },
  {
   "cell_type": "markdown",
   "metadata": {},
   "source": [
    "##############  Video 1: Video 1 Name\n"
   ]
  },
  {
   "cell_type": "markdown",
   "metadata": {},
   "source": [
    "###############  Video 1: Video 1 Name\n"
   ]
  },
  {
   "cell_type": "markdown",
   "metadata": {},
   "source": [
    "################  Video 1: Video 1 Name\n"
   ]
  },
  {
   "cell_type": "markdown",
   "metadata": {},
   "source": [
    "#################  Video 1: Video 1 Name\n"
   ]
  },
  {
   "cell_type": "markdown",
   "metadata": {},
   "source": [
    "##################  Video 1: Video 1 Name\n"
   ]
  },
  {
   "cell_type": "markdown",
   "metadata": {},
   "source": [
    "###################  Video 1: Video 1 Name\n"
   ]
  },
  {
   "cell_type": "markdown",
   "metadata": {},
   "source": [
    "####################  Video 1: Video 1 Name\n"
   ]
  },
  {
   "cell_type": "markdown",
   "metadata": {},
   "source": [
    "#####################  Video 1: Video 1 Name\n"
   ]
  },
  {
   "cell_type": "markdown",
   "metadata": {},
   "source": [
    "######################  Video 1: Video 1 Name\n"
   ]
  },
  {
   "cell_type": "markdown",
   "metadata": {},
   "source": [
    "#######################  Video 1: Video 1 Name\n"
   ]
  },
  {
   "cell_type": "markdown",
   "metadata": {},
   "source": [
    "########################  Video 1: Video 1 Name\n"
   ]
  },
  {
   "cell_type": "markdown",
   "metadata": {},
   "source": [
    "#########################  Video 1: Video 1 Name\n"
   ]
  },
  {
   "cell_type": "markdown",
   "metadata": {},
   "source": [
    "##########################  Video 1: Video 1 Name\n"
   ]
  },
  {
   "cell_type": "markdown",
   "metadata": {},
   "source": [
    "###########################  Video 1: Video 1 Name\n"
   ]
  },
  {
   "cell_type": "markdown",
   "metadata": {},
   "source": [
    "############################  Video 1: Video 1 Name\n"
   ]
  },
  {
   "cell_type": "markdown",
   "metadata": {},
   "source": [
    "#############################  Video 1: Video 1 Name\n"
   ]
  },
  {
   "cell_type": "markdown",
   "metadata": {},
   "source": [
    "##############################  Video 1: Video 1 Name\n"
   ]
  },
  {
   "cell_type": "markdown",
   "metadata": {},
   "source": [
    "###############################  Video 1: Video 1 Name\n"
   ]
  },
  {
   "cell_type": "markdown",
   "metadata": {},
   "source": [
    "################################  Video 1: Video 1 Name\n"
   ]
  },
  {
   "cell_type": "markdown",
   "metadata": {},
   "source": [
    "#################################  Video 1: Video 1 Name\n"
   ]
  },
  {
   "cell_type": "markdown",
   "metadata": {},
   "source": [
    "##################################  Video 1: Video 1 Name\n"
   ]
  },
  {
   "cell_type": "markdown",
   "metadata": {},
   "source": [
    "###################################  Video 1: Video 1 Name\n"
   ]
  },
  {
   "cell_type": "markdown",
   "metadata": {},
   "source": [
    "####################################  Video 1: Video 1 Name\n"
   ]
  },
  {
   "cell_type": "markdown",
   "metadata": {},
   "source": [
    "#####################################  Video 1: Video 1 Name\n"
   ]
  },
  {
   "cell_type": "code",
   "execution_count": null,
   "metadata": {
    "cellView": "form",
    "execution": {},
    "tags": [
     "hide-input"
    ]
   },
   "outputs": [],
   "source": [
    "# @title Video 1: Video 1 Name\n",
    "#Tech team will add code to format and display the video"
   ]
  },
  {
   "cell_type": "markdown",
   "metadata": {
    "execution": {}
   },
   "source": [
    "**Normalized Difference Vegetation Index (NDVI)** is one of the most commonly used remotely sensed indices to measure the \"greeness\" of vegetation and is useful in understanding vegetation density and assessing changes in plant health. NDVI can be used to study the impact of drought, heatwave, and insect infestation on the plants at scale."
   ]
  },
  {
   "cell_type": "markdown",
   "metadata": {
    "execution": {}
   },
   "source": [
    "##**Section 1.1: Access NOAA NDVI CDR data from AWS**\n",
    "\n"
   ]
  },
  {
   "cell_type": "markdown",
   "metadata": {
    "execution": {}
   },
   "source": [
    "If we go to the [cloud storage space (or a S3 bucket)](https://noaa-cdr-ndvi-pds.s3.amazonaws.com/index.html#data/) that host NOAA NDVI CDR data, you can find the pattern of how the NOAA NDVI CDR is stored:\n",
    "\n",
    "`s3://noaa-cdr-ndvi-pds/data/1981/AVHRR-Land_v005_AVH13C1_NOAA-07_19810624_c20170610041337.nc`\n",
    "\n",
    "As you can see, there is a clear pattern on how the data is organized. We can take advantage of the pattern to search for the data file programaticaly. \n",
    "\n",
    "> Parent directory: `s3://noaa-cdr-ndvi-pds/data/`  \n",
    "> Sub-directory for each year: `1981/`  \n",
    "> File name of each day: `AVHRR-Land_v005_AVH13C1_NOAA-07_19810624_c20170610041337.nc`\n",
    "\n",
    "The file name also has a clear pattern:\n",
    "\n",
    "> Sensor name: `AVHRR`  \n",
    "> Product category: `Land`  \n",
    "> Product version: `v005`  \n",
    "> Product code: `AVH13C1`  \n",
    "> Satellite platform: `NOAA-07`  \n",
    "> Date of the data: `19810624`  \n",
    "> Processing time: `c20170610041337` (*This will change for each file based on when the file are processed*)  \n",
    "> File format: `.nc` (*netCDR-4 format*)\n",
    "\n",
    "In other words, if we are looking for the data of a specific day, we can easily locate where the file might be. \n",
    "\n",
    "For example, if we want to find the AVHRR data for the day of *2002-03-12 (or March 12, 2002)*, we will be looking at something like this:\n",
    "\n",
    "`s3://noaa-cdr-ndvi-pds/data/2002/AVHRR-Land_v005_AVH13C1_*_20020312_c*.nc`\n",
    "\n",
    "The reasaon that we put `*` in the above directory is because we are not sure about what satellite platform this data is from and when the data is being processed. But with this pattern we can still check if the file exist.\n",
    "\n",
    "\n",
    "\n"
   ]
  },
  {
   "cell_type": "code",
   "execution_count": null,
   "metadata": {
    "execution": {}
   },
   "outputs": [],
   "source": [
    "# To access the NDVI data from AWS S3 bucket, we first need to connect to s3 bucket\n",
    "fs = s3fs.S3FileSystem(anon=True)\n",
    "\n",
    "# We can now check to see if the file exist in this cloud storage bucket using the\n",
    "# file name pattern we just described\n",
    "file_location = fs.glob('s3://noaa-cdr-ndvi-pds/data/2002/AVHRR-Land_v005_AVH13C1_*_20020312_c*.nc')\n",
    "\n",
    "# Now let's check if there is a file match the pattern of the date that we are\n",
    "# interested in.\n",
    "print(file_location)"
   ]
  },
  {
   "cell_type": "markdown",
   "metadata": {
    "execution": {}
   },
   "source": [
    "### **Code exercise 1.1: Finding the data of your interest**\n",
    "\n",
    "Looks like we find the daily data that we are looking for earlier. Can you try to find the data of a specific date that you want to check?\n",
    "\n",
    "**Hint:** NDVI CDR data switched sensors on 2014 from AVHRR (the older generation sensor) to VIIRS (the newest generation sensor). So if you are trying to find the data after 2013, you may want to adjust the code to locate the data properly."
   ]
  },
  {
   "cell_type": "code",
   "execution_count": null,
   "metadata": {
    "execution": {}
   },
   "outputs": [],
   "source": [
    "################################################################################\n",
    "## Choose a data of your interest and identify the location of the NDVI CDR   ##\n",
    "## data on Amazon Web Service                                                 ##\n",
    "################################################################################\n",
    "# exercise_file = fs.glob(...)\n",
    "# print(exercise_file)"
   ]
  },
  {
   "cell_type": "markdown",
   "metadata": {
    "execution": {}
   },
   "source": [
    "##**Section 1.2: Read NDVI CDR Data**\n",
    "\n",
    "Now we have the location of the NDVI data for a specific date. We can read in the data using the python library `xarray` to open the netCDF-4 file, a common data format used to store satellite and climate datasets.\n",
    "\n"
   ]
  },
  {
   "cell_type": "code",
   "execution_count": null,
   "metadata": {
    "execution": {}
   },
   "outputs": [],
   "source": [
    "## First, we need to open the connection to the file object of the selected date.\n",
    "## We are still using the date of 2002-03-12 as the example here.\n",
    "file_obj = fs.open(file_location[0]) # this provide a link to the data on AWS\n",
    "\n",
    "## With the link to the file object, we can open the NDVI data file on AWS\n",
    "ds = xr.open_dataset(file_obj)\n",
    "\n",
    "## Now let's look at what this data look like\n",
    "ds"
   ]
  },
  {
   "cell_type": "markdown",
   "metadata": {
    "execution": {}
   },
   "source": [
    "The output from the code block tells us that the NDVI data file of 2002-03-12 has the dimention of `3600x7200`. This makes sense for a dataset with the spatial resolution of 0.5°×0.5°. There is another dimension of the dataset named `time`. Since it is a daily data file, it only contains one value in its dimension.\n",
    "\n",
    "Two main data variables in this dataset are `NDVI` and `QA`.\n",
    "\n",
    "* `NDVI` is the variable that contains the value of NDVI (ranges between -1 and 1) that can be used to measure the vegetation greeness.  \n",
    "* `QA` is the variable that indicates the quality of the NDVI values for each corresponding grid. It reflects whether the data is of high quality or should be discarded because of various reasons (e.g., bad sensor data, potentially contanminated by cloud).\n",
    "\n"
   ]
  },
  {
   "cell_type": "markdown",
   "metadata": {
    "execution": {}
   },
   "source": [
    "##**Section 1.3: Visualize NDVI CDR data**"
   ]
  },
  {
   "cell_type": "code",
   "execution_count": null,
   "metadata": {
    "execution": {}
   },
   "outputs": [],
   "source": [
    "## Now let's only looking at the NDVI values from the dataset\n",
    "ndvi = ds.NDVI\n",
    "ndvi"
   ]
  },
  {
   "cell_type": "code",
   "execution_count": null,
   "metadata": {
    "execution": {}
   },
   "outputs": [],
   "source": [
    "## As this is a gridded dataset, we can plot the data of this day directly to\n",
    "## visually understand the data.\n",
    "## Figure settings:\n",
    "## vmin & vmax: minimum and maximum values for the legend\n",
    "## aspect: setting the aspect ratio of the figure, must be combined with `size`\n",
    "## size: setting the overall size of th figure\n",
    "ndvi.plot(vmin=-0.1, vmax=1.0, aspect=1.8, size=5)"
   ]
  },
  {
   "cell_type": "markdown",
   "metadata": {
    "execution": {}
   },
   "source": [
    "##**Section 1.4: Mask NDVI Data Using Quality Flag**\n",
    "\n",
    "As stated earlier, there is also a variable `QA` that indicates the quality of the NDVI value for each grid cell. This quality information is very important when using satellite data to ensure the climate analysis is only done using the highest quality data that are appropirate for the application.\n",
    "\n",
    "For NDVI CDR data, it has a complex quality flag system that is represented using 16-bit system. Although when you reach in the QA, it appears to be normal numeric values, the QA value need to be converted to binary values of 16 bits and recognize the quality flag based on the information listed in the table below. "
   ]
  },
  {
   "cell_type": "markdown",
   "metadata": {
    "execution": {}
   },
   "source": [
    "| Bit No. | Description | Value=1 | Value=0 |\n",
    "|-:|:-|:-:|:-:|\n",
    "|15|Flag to indicate if the pixel is in polar region|Yes|No|\n",
    "|14|Flag to indicate BRDF-correction issues|Yes|No|\n",
    "|13|Flag to indicate RH03 value is invalid|Yes|No|\n",
    "|12|Flag to indicate AVHRR Channel 5 value is invalid|Yes|No|\n",
    "|11|Flag to indicate AVHRR Channel 4 value is invalid|Yes|No|\n",
    "|10|Flag to indicate AVHRR Channel 3 value is invalid|Yes|No|\n",
    "| 9|Flag to indicate AVHRR Channel 2 value is invalid|Yes|No|\n",
    "| 8|Flag to indicate AVHRR Channel 1 value is invalid|Yes|No|\n",
    "| 7|Flag to indicate all 5 AVHRR Channels are valid|Yes|No|\n",
    "| 6|Flag to indicate the pixel is at night (no visible channel data)|Yes|No|\n",
    "| 5|Flag to indicate the pixel is over dense dark vegetation|Yes|No|\n",
    "| 4|Flag to indicate the pixel is over sunglint (over ocean)|Yes|No|\n",
    "| 3|Flag to indicate the pixel is over water|Yes|No|\n",
    "| 2|Flag to indicate the pixel contains cloud shadow|Yes|No|\n",
    "| 1|Flag to indicate the pixel is cloudy|Yes|No|\n",
    "| 0|(Unused)|Yes|No|"
   ]
  },
  {
   "cell_type": "markdown",
   "metadata": {
    "execution": {}
   },
   "source": [
    "This shows the complex system to ensure that satellite CDR data is of high quality for climate applications. But how can we decifer the quality of a given pixel? \n",
    "\n",
    "Assuming that we have a grid with `QA=18`, when converted into binary value with the length of 16 bits is `0000000000010010`. So it can be interpreted as\n",
    "\n",
    "|Bit15|Bit14|Bit13|Bit12|Bit11|Bit10|Bit9|Bit8|Bit7|Bit6|Bit5|Bit4|Bit3|Bit2|Bit1|Bit0|\n",
    "|-:|-:|-:|-:|-:|-:|-:|-:|-:|-:|-:|-:|-:|-:|-:|-:|\n",
    "|0|0|0|0|0|0|0|0|1|0|0|1|0|0|1|0|\n",
    "|No|No|No|No|No|No|No|No|Yes|No|No|Yes|No|No|Yes|No|\n",
    "\n",
    "This means that the NDVI of the value is retrieved from valid values of AVHRR channels (`Bit7=1`) and the grid is over dense dark vegetation (`Bit5=1`), but the gird is cloudy (`Bit1=1`). Therefore, the QA tells us that we should not use this grid since it is covered the by cloud and cannot reflect the vegetation information on the land surface. \n",
    "\n",
    "Now let's define a function to create the cloud mask."
   ]
  },
  {
   "cell_type": "markdown",
   "metadata": {},
   "source": [
    " *Run this cell to define the function to extract high quality NDVI data `get_quality_info()`*\n"
   ]
  },
  {
   "cell_type": "markdown",
   "metadata": {},
   "source": [
    " *Run this cell to define the function to extract high quality NDVI data `get_quality_info()`*\n"
   ]
  },
  {
   "cell_type": "markdown",
   "metadata": {},
   "source": [
    " *Run this cell to define the function to extract high quality NDVI data `get_quality_info()`*\n"
   ]
  },
  {
   "cell_type": "markdown",
   "metadata": {},
   "source": [
    " *Run this cell to define the function to extract high quality NDVI data `get_quality_info()`*\n"
   ]
  },
  {
   "cell_type": "markdown",
   "metadata": {},
   "source": [
    " *Run this cell to define the function to extract high quality NDVI data `get_quality_info()`*\n"
   ]
  },
  {
   "cell_type": "markdown",
   "metadata": {},
   "source": [
    " *Run this cell to define the function to extract high quality NDVI data `get_quality_info()`*\n"
   ]
  },
  {
   "cell_type": "markdown",
   "metadata": {},
   "source": [
    " *Run this cell to define the function to extract high quality NDVI data `get_quality_info()`*\n"
   ]
  },
  {
   "cell_type": "markdown",
   "metadata": {},
   "source": [
    " *Run this cell to define the function to extract high quality NDVI data `get_quality_info()`*\n"
   ]
  },
  {
   "cell_type": "markdown",
   "metadata": {},
   "source": [
    " *Run this cell to define the function to extract high quality NDVI data `get_quality_info()`*\n"
   ]
  },
  {
   "cell_type": "markdown",
   "metadata": {},
   "source": [
    " *Run this cell to define the function to extract high quality NDVI data `get_quality_info()`*\n"
   ]
  },
  {
   "cell_type": "markdown",
   "metadata": {},
   "source": [
    " *Run this cell to define the function to extract high quality NDVI data `get_quality_info()`*\n"
   ]
  },
  {
   "cell_type": "markdown",
   "metadata": {},
   "source": [
    " *Run this cell to define the function to extract high quality NDVI data `get_quality_info()`*\n"
   ]
  },
  {
   "cell_type": "markdown",
   "metadata": {},
   "source": [
    " *Run this cell to define the function to extract high quality NDVI data `get_quality_info()`*\n"
   ]
  },
  {
   "cell_type": "markdown",
   "metadata": {},
   "source": [
    " *Run this cell to define the function to extract high quality NDVI data `get_quality_info()`*\n"
   ]
  },
  {
   "cell_type": "markdown",
   "metadata": {},
   "source": [
    " *Run this cell to define the function to extract high quality NDVI data `get_quality_info()`*\n"
   ]
  },
  {
   "cell_type": "markdown",
   "metadata": {},
   "source": [
    " *Run this cell to define the function to extract high quality NDVI data `get_quality_info()`*\n"
   ]
  },
  {
   "cell_type": "markdown",
   "metadata": {},
   "source": [
    " *Run this cell to define the function to extract high quality NDVI data `get_quality_info()`*\n"
   ]
  },
  {
   "cell_type": "markdown",
   "metadata": {},
   "source": [
    " *Run this cell to define the function to extract high quality NDVI data `get_quality_info()`*\n"
   ]
  },
  {
   "cell_type": "markdown",
   "metadata": {},
   "source": [
    " *Run this cell to define the function to extract high quality NDVI data `get_quality_info()`*\n"
   ]
  },
  {
   "cell_type": "markdown",
   "metadata": {},
   "source": [
    " *Run this cell to define the function to extract high quality NDVI data `get_quality_info()`*\n"
   ]
  },
  {
   "cell_type": "markdown",
   "metadata": {},
   "source": [
    " *Run this cell to define the function to extract high quality NDVI data `get_quality_info()`*\n"
   ]
  },
  {
   "cell_type": "markdown",
   "metadata": {},
   "source": [
    " *Run this cell to define the function to extract high quality NDVI data `get_quality_info()`*\n"
   ]
  },
  {
   "cell_type": "markdown",
   "metadata": {},
   "source": [
    " *Run this cell to define the function to extract high quality NDVI data `get_quality_info()`*\n"
   ]
  },
  {
   "cell_type": "markdown",
   "metadata": {},
   "source": [
    " *Run this cell to define the function to extract high quality NDVI data `get_quality_info()`*\n"
   ]
  },
  {
   "cell_type": "markdown",
   "metadata": {},
   "source": [
    " *Run this cell to define the function to extract high quality NDVI data `get_quality_info()`*\n"
   ]
  },
  {
   "cell_type": "markdown",
   "metadata": {},
   "source": [
    " *Run this cell to define the function to extract high quality NDVI data `get_quality_info()`*\n"
   ]
  },
  {
   "cell_type": "markdown",
   "metadata": {},
   "source": [
    " *Run this cell to define the function to extract high quality NDVI data `get_quality_info()`*\n"
   ]
  },
  {
   "cell_type": "markdown",
   "metadata": {},
   "source": [
    " *Run this cell to define the function to extract high quality NDVI data `get_quality_info()`*\n"
   ]
  },
  {
   "cell_type": "markdown",
   "metadata": {},
   "source": [
    " *Run this cell to define the function to extract high quality NDVI data `get_quality_info()`*\n"
   ]
  },
  {
   "cell_type": "markdown",
   "metadata": {},
   "source": [
    " *Run this cell to define the function to extract high quality NDVI data `get_quality_info()`*\n"
   ]
  },
  {
   "cell_type": "markdown",
   "metadata": {},
   "source": [
    " *Run this cell to define the function to extract high quality NDVI data `get_quality_info()`*\n"
   ]
  },
  {
   "cell_type": "markdown",
   "metadata": {},
   "source": [
    " *Run this cell to define the function to extract high quality NDVI data `get_quality_info()`*\n"
   ]
  },
  {
   "cell_type": "markdown",
   "metadata": {},
   "source": [
    " *Run this cell to define the function to extract high quality NDVI data `get_quality_info()`*\n"
   ]
  },
  {
   "cell_type": "markdown",
   "metadata": {},
   "source": [
    " *Run this cell to define the function to extract high quality NDVI data `get_quality_info()`*\n"
   ]
  },
  {
   "cell_type": "markdown",
   "metadata": {},
   "source": [
    " *Run this cell to define the function to extract high quality NDVI data `get_quality_info()`*\n"
   ]
  },
  {
   "cell_type": "markdown",
   "metadata": {},
   "source": [
    " *Run this cell to define the function to extract high quality NDVI data `get_quality_info()`*\n"
   ]
  },
  {
   "cell_type": "code",
   "execution_count": null,
   "metadata": {
    "cellView": "form",
    "execution": {},
    "tags": [
     "hide-input"
    ]
   },
   "outputs": [],
   "source": [
    "#@markdown *Run this cell to define the function to extract high quality NDVI data `get_quality_info()`*\n",
    "def get_quality_info(QA):\n",
    "  \"\"\"\n",
    "  QA: the QA value read in from the NDVI data\n",
    "\n",
    "  High quality NDVI should meet the following criteria:\n",
    "  Bit 7: 1 (All AVHRR channels have valid values)\n",
    "  Bit 2: 0 (The pixel is not covered by cloud shadow)\n",
    "  Bit 1: 0 (The pixel is not covered by cloud)\n",
    "\n",
    "  Output:\n",
    "  True: high quality\n",
    "  False: low quality\n",
    "  \"\"\"\n",
    "  ## Unpack quality assurance flag for cloud (byte: 1)\n",
    "  cld_flag = (QA % (2**2)) // 2;\n",
    "  ## Unpack quality assurance flag for cloud shadow (byte: 2)\n",
    "  cld_shadow = (QA % (2**3)) // 2**2;\n",
    "  ## Unpack quality assurance flag for AVHRR values (byte: 7)\n",
    "  value_valid = (QA % (2**8)) // 2**7;\n",
    "\n",
    "  mask = (cld_flag == 0) & (cld_shadow == 0) & (value_valid ==1)\n",
    "\n",
    "  return mask"
   ]
  },
  {
   "cell_type": "markdown",
   "metadata": {},
   "source": [
    " *Run this cell to extract the mask indicates high quality NDVI grid using `get_quality_info()`*\n"
   ]
  },
  {
   "cell_type": "markdown",
   "metadata": {},
   "source": [
    " *Run this cell to extract the mask indicates high quality NDVI grid using `get_quality_info()`*\n"
   ]
  },
  {
   "cell_type": "markdown",
   "metadata": {},
   "source": [
    " *Run this cell to extract the mask indicates high quality NDVI grid using `get_quality_info()`*\n"
   ]
  },
  {
   "cell_type": "markdown",
   "metadata": {},
   "source": [
    " *Run this cell to extract the mask indicates high quality NDVI grid using `get_quality_info()`*\n"
   ]
  },
  {
   "cell_type": "markdown",
   "metadata": {},
   "source": [
    " *Run this cell to extract the mask indicates high quality NDVI grid using `get_quality_info()`*\n"
   ]
  },
  {
   "cell_type": "markdown",
   "metadata": {},
   "source": [
    " *Run this cell to extract the mask indicates high quality NDVI grid using `get_quality_info()`*\n"
   ]
  },
  {
   "cell_type": "markdown",
   "metadata": {},
   "source": [
    " *Run this cell to extract the mask indicates high quality NDVI grid using `get_quality_info()`*\n"
   ]
  },
  {
   "cell_type": "markdown",
   "metadata": {},
   "source": [
    " *Run this cell to extract the mask indicates high quality NDVI grid using `get_quality_info()`*\n"
   ]
  },
  {
   "cell_type": "markdown",
   "metadata": {},
   "source": [
    " *Run this cell to extract the mask indicates high quality NDVI grid using `get_quality_info()`*\n"
   ]
  },
  {
   "cell_type": "markdown",
   "metadata": {},
   "source": [
    " *Run this cell to extract the mask indicates high quality NDVI grid using `get_quality_info()`*\n"
   ]
  },
  {
   "cell_type": "markdown",
   "metadata": {},
   "source": [
    " *Run this cell to extract the mask indicates high quality NDVI grid using `get_quality_info()`*\n"
   ]
  },
  {
   "cell_type": "markdown",
   "metadata": {},
   "source": [
    " *Run this cell to extract the mask indicates high quality NDVI grid using `get_quality_info()`*\n"
   ]
  },
  {
   "cell_type": "markdown",
   "metadata": {},
   "source": [
    " *Run this cell to extract the mask indicates high quality NDVI grid using `get_quality_info()`*\n"
   ]
  },
  {
   "cell_type": "markdown",
   "metadata": {},
   "source": [
    " *Run this cell to extract the mask indicates high quality NDVI grid using `get_quality_info()`*\n"
   ]
  },
  {
   "cell_type": "markdown",
   "metadata": {},
   "source": [
    " *Run this cell to extract the mask indicates high quality NDVI grid using `get_quality_info()`*\n"
   ]
  },
  {
   "cell_type": "markdown",
   "metadata": {},
   "source": [
    " *Run this cell to extract the mask indicates high quality NDVI grid using `get_quality_info()`*\n"
   ]
  },
  {
   "cell_type": "markdown",
   "metadata": {},
   "source": [
    " *Run this cell to extract the mask indicates high quality NDVI grid using `get_quality_info()`*\n"
   ]
  },
  {
   "cell_type": "markdown",
   "metadata": {},
   "source": [
    " *Run this cell to extract the mask indicates high quality NDVI grid using `get_quality_info()`*\n"
   ]
  },
  {
   "cell_type": "markdown",
   "metadata": {},
   "source": [
    " *Run this cell to extract the mask indicates high quality NDVI grid using `get_quality_info()`*\n"
   ]
  },
  {
   "cell_type": "markdown",
   "metadata": {},
   "source": [
    " *Run this cell to extract the mask indicates high quality NDVI grid using `get_quality_info()`*\n"
   ]
  },
  {
   "cell_type": "markdown",
   "metadata": {},
   "source": [
    " *Run this cell to extract the mask indicates high quality NDVI grid using `get_quality_info()`*\n"
   ]
  },
  {
   "cell_type": "markdown",
   "metadata": {},
   "source": [
    " *Run this cell to extract the mask indicates high quality NDVI grid using `get_quality_info()`*\n"
   ]
  },
  {
   "cell_type": "markdown",
   "metadata": {},
   "source": [
    " *Run this cell to extract the mask indicates high quality NDVI grid using `get_quality_info()`*\n"
   ]
  },
  {
   "cell_type": "markdown",
   "metadata": {},
   "source": [
    " *Run this cell to extract the mask indicates high quality NDVI grid using `get_quality_info()`*\n"
   ]
  },
  {
   "cell_type": "markdown",
   "metadata": {},
   "source": [
    " *Run this cell to extract the mask indicates high quality NDVI grid using `get_quality_info()`*\n"
   ]
  },
  {
   "cell_type": "markdown",
   "metadata": {},
   "source": [
    " *Run this cell to extract the mask indicates high quality NDVI grid using `get_quality_info()`*\n"
   ]
  },
  {
   "cell_type": "markdown",
   "metadata": {},
   "source": [
    " *Run this cell to extract the mask indicates high quality NDVI grid using `get_quality_info()`*\n"
   ]
  },
  {
   "cell_type": "markdown",
   "metadata": {},
   "source": [
    " *Run this cell to extract the mask indicates high quality NDVI grid using `get_quality_info()`*\n"
   ]
  },
  {
   "cell_type": "markdown",
   "metadata": {},
   "source": [
    " *Run this cell to extract the mask indicates high quality NDVI grid using `get_quality_info()`*\n"
   ]
  },
  {
   "cell_type": "markdown",
   "metadata": {},
   "source": [
    " *Run this cell to extract the mask indicates high quality NDVI grid using `get_quality_info()`*\n"
   ]
  },
  {
   "cell_type": "markdown",
   "metadata": {},
   "source": [
    " *Run this cell to extract the mask indicates high quality NDVI grid using `get_quality_info()`*\n"
   ]
  },
  {
   "cell_type": "markdown",
   "metadata": {},
   "source": [
    " *Run this cell to extract the mask indicates high quality NDVI grid using `get_quality_info()`*\n"
   ]
  },
  {
   "cell_type": "markdown",
   "metadata": {},
   "source": [
    " *Run this cell to extract the mask indicates high quality NDVI grid using `get_quality_info()`*\n"
   ]
  },
  {
   "cell_type": "markdown",
   "metadata": {},
   "source": [
    " *Run this cell to extract the mask indicates high quality NDVI grid using `get_quality_info()`*\n"
   ]
  },
  {
   "cell_type": "markdown",
   "metadata": {},
   "source": [
    " *Run this cell to extract the mask indicates high quality NDVI grid using `get_quality_info()`*\n"
   ]
  },
  {
   "cell_type": "markdown",
   "metadata": {},
   "source": [
    " *Run this cell to extract the mask indicates high quality NDVI grid using `get_quality_info()`*\n"
   ]
  },
  {
   "cell_type": "code",
   "execution_count": null,
   "metadata": {
    "cellView": "form",
    "execution": {},
    "tags": [
     "hide-input"
    ]
   },
   "outputs": [],
   "source": [
    "#@markdown *Run this cell to extract the mask indicates high quality NDVI grid using `get_quality_info()`*\n",
    "\n",
    "## Get the quality assurance value from NDVI data\n",
    "QA = ds.QA\n",
    "## Create the high quality information mask\n",
    "mask = get_quality_info(QA)\n",
    "## Check the quality flag mask information\n",
    "mask"
   ]
  },
  {
   "cell_type": "markdown",
   "metadata": {
    "execution": {}
   },
   "source": [
    "The output of the previous operation gives us a data array with logical values to indicate if a grid has high quality NDVI values or not. Now let's mask out the NDVI data array with this quality information to see if this will make a difference in the final map."
   ]
  },
  {
   "cell_type": "markdown",
   "metadata": {},
   "source": [
    " Run this cell to use `.where` to only keep the NDVI values with high quality flag.\n"
   ]
  },
  {
   "cell_type": "markdown",
   "metadata": {},
   "source": [
    " Run this cell to use `.where` to only keep the NDVI values with high quality flag.\n"
   ]
  },
  {
   "cell_type": "markdown",
   "metadata": {},
   "source": [
    " Run this cell to use `.where` to only keep the NDVI values with high quality flag.\n"
   ]
  },
  {
   "cell_type": "markdown",
   "metadata": {},
   "source": [
    " Run this cell to use `.where` to only keep the NDVI values with high quality flag.\n"
   ]
  },
  {
   "cell_type": "markdown",
   "metadata": {},
   "source": [
    " Run this cell to use `.where` to only keep the NDVI values with high quality flag.\n"
   ]
  },
  {
   "cell_type": "markdown",
   "metadata": {},
   "source": [
    " Run this cell to use `.where` to only keep the NDVI values with high quality flag.\n"
   ]
  },
  {
   "cell_type": "markdown",
   "metadata": {},
   "source": [
    " Run this cell to use `.where` to only keep the NDVI values with high quality flag.\n"
   ]
  },
  {
   "cell_type": "markdown",
   "metadata": {},
   "source": [
    " Run this cell to use `.where` to only keep the NDVI values with high quality flag.\n"
   ]
  },
  {
   "cell_type": "markdown",
   "metadata": {},
   "source": [
    " Run this cell to use `.where` to only keep the NDVI values with high quality flag.\n"
   ]
  },
  {
   "cell_type": "markdown",
   "metadata": {},
   "source": [
    " Run this cell to use `.where` to only keep the NDVI values with high quality flag.\n"
   ]
  },
  {
   "cell_type": "markdown",
   "metadata": {},
   "source": [
    " Run this cell to use `.where` to only keep the NDVI values with high quality flag.\n"
   ]
  },
  {
   "cell_type": "markdown",
   "metadata": {},
   "source": [
    " Run this cell to use `.where` to only keep the NDVI values with high quality flag.\n"
   ]
  },
  {
   "cell_type": "markdown",
   "metadata": {},
   "source": [
    " Run this cell to use `.where` to only keep the NDVI values with high quality flag.\n"
   ]
  },
  {
   "cell_type": "markdown",
   "metadata": {},
   "source": [
    " Run this cell to use `.where` to only keep the NDVI values with high quality flag.\n"
   ]
  },
  {
   "cell_type": "markdown",
   "metadata": {},
   "source": [
    " Run this cell to use `.where` to only keep the NDVI values with high quality flag.\n"
   ]
  },
  {
   "cell_type": "markdown",
   "metadata": {},
   "source": [
    " Run this cell to use `.where` to only keep the NDVI values with high quality flag.\n"
   ]
  },
  {
   "cell_type": "markdown",
   "metadata": {},
   "source": [
    " Run this cell to use `.where` to only keep the NDVI values with high quality flag.\n"
   ]
  },
  {
   "cell_type": "markdown",
   "metadata": {},
   "source": [
    " Run this cell to use `.where` to only keep the NDVI values with high quality flag.\n"
   ]
  },
  {
   "cell_type": "markdown",
   "metadata": {},
   "source": [
    " Run this cell to use `.where` to only keep the NDVI values with high quality flag.\n"
   ]
  },
  {
   "cell_type": "markdown",
   "metadata": {},
   "source": [
    " Run this cell to use `.where` to only keep the NDVI values with high quality flag.\n"
   ]
  },
  {
   "cell_type": "markdown",
   "metadata": {},
   "source": [
    " Run this cell to use `.where` to only keep the NDVI values with high quality flag.\n"
   ]
  },
  {
   "cell_type": "markdown",
   "metadata": {},
   "source": [
    " Run this cell to use `.where` to only keep the NDVI values with high quality flag.\n"
   ]
  },
  {
   "cell_type": "markdown",
   "metadata": {},
   "source": [
    " Run this cell to use `.where` to only keep the NDVI values with high quality flag.\n"
   ]
  },
  {
   "cell_type": "markdown",
   "metadata": {},
   "source": [
    " Run this cell to use `.where` to only keep the NDVI values with high quality flag.\n"
   ]
  },
  {
   "cell_type": "markdown",
   "metadata": {},
   "source": [
    " Run this cell to use `.where` to only keep the NDVI values with high quality flag.\n"
   ]
  },
  {
   "cell_type": "markdown",
   "metadata": {},
   "source": [
    " Run this cell to use `.where` to only keep the NDVI values with high quality flag.\n"
   ]
  },
  {
   "cell_type": "markdown",
   "metadata": {},
   "source": [
    " Run this cell to use `.where` to only keep the NDVI values with high quality flag.\n"
   ]
  },
  {
   "cell_type": "markdown",
   "metadata": {},
   "source": [
    " Run this cell to use `.where` to only keep the NDVI values with high quality flag.\n"
   ]
  },
  {
   "cell_type": "markdown",
   "metadata": {},
   "source": [
    " Run this cell to use `.where` to only keep the NDVI values with high quality flag.\n"
   ]
  },
  {
   "cell_type": "markdown",
   "metadata": {},
   "source": [
    " Run this cell to use `.where` to only keep the NDVI values with high quality flag.\n"
   ]
  },
  {
   "cell_type": "markdown",
   "metadata": {},
   "source": [
    " Run this cell to use `.where` to only keep the NDVI values with high quality flag.\n"
   ]
  },
  {
   "cell_type": "markdown",
   "metadata": {},
   "source": [
    " Run this cell to use `.where` to only keep the NDVI values with high quality flag.\n"
   ]
  },
  {
   "cell_type": "markdown",
   "metadata": {},
   "source": [
    " Run this cell to use `.where` to only keep the NDVI values with high quality flag.\n"
   ]
  },
  {
   "cell_type": "markdown",
   "metadata": {},
   "source": [
    " Run this cell to use `.where` to only keep the NDVI values with high quality flag.\n"
   ]
  },
  {
   "cell_type": "markdown",
   "metadata": {},
   "source": [
    " Run this cell to use `.where` to only keep the NDVI values with high quality flag.\n"
   ]
  },
  {
   "cell_type": "markdown",
   "metadata": {},
   "source": [
    " Run this cell to use `.where` to only keep the NDVI values with high quality flag.\n"
   ]
  },
  {
   "cell_type": "code",
   "execution_count": null,
   "metadata": {
    "cellView": "form",
    "execution": {},
    "tags": [
     "hide-input"
    ]
   },
   "outputs": [],
   "source": [
    "#@markdown Run this cell to use `.where` to only keep the NDVI values with high quality flag.\n",
    "ndvi_masked = ndvi.where(mask)\n",
    "ndvi_masked"
   ]
  },
  {
   "cell_type": "markdown",
   "metadata": {
    "execution": {}
   },
   "source": [
    "As you may have noticed, a lot of the NDVI values in the masked data array becomes `nan` which means `not a number`. This means that the grid does not have a high quality NDVI value based on the QA value. Now, let's plot the map one more time to see the difference after the quality masking."
   ]
  },
  {
   "cell_type": "markdown",
   "metadata": {},
   "source": [
    " Run this cell to re-plot the NDVI map using masked data\n"
   ]
  },
  {
   "cell_type": "markdown",
   "metadata": {},
   "source": [
    " Run this cell to re-plot the NDVI map using masked data\n"
   ]
  },
  {
   "cell_type": "markdown",
   "metadata": {},
   "source": [
    " Run this cell to re-plot the NDVI map using masked data\n"
   ]
  },
  {
   "cell_type": "markdown",
   "metadata": {},
   "source": [
    " Run this cell to re-plot the NDVI map using masked data\n"
   ]
  },
  {
   "cell_type": "markdown",
   "metadata": {},
   "source": [
    " Run this cell to re-plot the NDVI map using masked data\n"
   ]
  },
  {
   "cell_type": "markdown",
   "metadata": {},
   "source": [
    " Run this cell to re-plot the NDVI map using masked data\n"
   ]
  },
  {
   "cell_type": "markdown",
   "metadata": {},
   "source": [
    " Run this cell to re-plot the NDVI map using masked data\n"
   ]
  },
  {
   "cell_type": "markdown",
   "metadata": {},
   "source": [
    " Run this cell to re-plot the NDVI map using masked data\n"
   ]
  },
  {
   "cell_type": "markdown",
   "metadata": {},
   "source": [
    " Run this cell to re-plot the NDVI map using masked data\n"
   ]
  },
  {
   "cell_type": "markdown",
   "metadata": {},
   "source": [
    " Run this cell to re-plot the NDVI map using masked data\n"
   ]
  },
  {
   "cell_type": "markdown",
   "metadata": {},
   "source": [
    " Run this cell to re-plot the NDVI map using masked data\n"
   ]
  },
  {
   "cell_type": "markdown",
   "metadata": {},
   "source": [
    " Run this cell to re-plot the NDVI map using masked data\n"
   ]
  },
  {
   "cell_type": "markdown",
   "metadata": {},
   "source": [
    " Run this cell to re-plot the NDVI map using masked data\n"
   ]
  },
  {
   "cell_type": "markdown",
   "metadata": {},
   "source": [
    " Run this cell to re-plot the NDVI map using masked data\n"
   ]
  },
  {
   "cell_type": "markdown",
   "metadata": {},
   "source": [
    " Run this cell to re-plot the NDVI map using masked data\n"
   ]
  },
  {
   "cell_type": "markdown",
   "metadata": {},
   "source": [
    " Run this cell to re-plot the NDVI map using masked data\n"
   ]
  },
  {
   "cell_type": "markdown",
   "metadata": {},
   "source": [
    " Run this cell to re-plot the NDVI map using masked data\n"
   ]
  },
  {
   "cell_type": "markdown",
   "metadata": {},
   "source": [
    " Run this cell to re-plot the NDVI map using masked data\n"
   ]
  },
  {
   "cell_type": "markdown",
   "metadata": {},
   "source": [
    " Run this cell to re-plot the NDVI map using masked data\n"
   ]
  },
  {
   "cell_type": "markdown",
   "metadata": {},
   "source": [
    " Run this cell to re-plot the NDVI map using masked data\n"
   ]
  },
  {
   "cell_type": "markdown",
   "metadata": {},
   "source": [
    " Run this cell to re-plot the NDVI map using masked data\n"
   ]
  },
  {
   "cell_type": "markdown",
   "metadata": {},
   "source": [
    " Run this cell to re-plot the NDVI map using masked data\n"
   ]
  },
  {
   "cell_type": "markdown",
   "metadata": {},
   "source": [
    " Run this cell to re-plot the NDVI map using masked data\n"
   ]
  },
  {
   "cell_type": "markdown",
   "metadata": {},
   "source": [
    " Run this cell to re-plot the NDVI map using masked data\n"
   ]
  },
  {
   "cell_type": "markdown",
   "metadata": {},
   "source": [
    " Run this cell to re-plot the NDVI map using masked data\n"
   ]
  },
  {
   "cell_type": "markdown",
   "metadata": {},
   "source": [
    " Run this cell to re-plot the NDVI map using masked data\n"
   ]
  },
  {
   "cell_type": "markdown",
   "metadata": {},
   "source": [
    " Run this cell to re-plot the NDVI map using masked data\n"
   ]
  },
  {
   "cell_type": "markdown",
   "metadata": {},
   "source": [
    " Run this cell to re-plot the NDVI map using masked data\n"
   ]
  },
  {
   "cell_type": "markdown",
   "metadata": {},
   "source": [
    " Run this cell to re-plot the NDVI map using masked data\n"
   ]
  },
  {
   "cell_type": "markdown",
   "metadata": {},
   "source": [
    " Run this cell to re-plot the NDVI map using masked data\n"
   ]
  },
  {
   "cell_type": "markdown",
   "metadata": {},
   "source": [
    " Run this cell to re-plot the NDVI map using masked data\n"
   ]
  },
  {
   "cell_type": "markdown",
   "metadata": {},
   "source": [
    " Run this cell to re-plot the NDVI map using masked data\n"
   ]
  },
  {
   "cell_type": "markdown",
   "metadata": {},
   "source": [
    " Run this cell to re-plot the NDVI map using masked data\n"
   ]
  },
  {
   "cell_type": "markdown",
   "metadata": {},
   "source": [
    " Run this cell to re-plot the NDVI map using masked data\n"
   ]
  },
  {
   "cell_type": "markdown",
   "metadata": {},
   "source": [
    " Run this cell to re-plot the NDVI map using masked data\n"
   ]
  },
  {
   "cell_type": "markdown",
   "metadata": {},
   "source": [
    " Run this cell to re-plot the NDVI map using masked data\n"
   ]
  },
  {
   "cell_type": "code",
   "execution_count": null,
   "metadata": {
    "cellView": "form",
    "execution": {},
    "tags": [
     "hide-input"
    ]
   },
   "outputs": [],
   "source": [
    "#@markdown Run this cell to re-plot the NDVI map using masked data\n",
    "ndvi_masked.plot(vmin = -0.1, vmax = 1.0, aspect=1.8, size=5)"
   ]
  },
  {
   "cell_type": "markdown",
   "metadata": {
    "execution": {}
   },
   "source": [
    "You can clearly see the difference after the quality mask for NDVI value. This is largely because of the cloud effect. Since NDVI value is calculated using the reflectance values of the red and near-infrared spectral band, this value is only useful for vegetation and surface monitoring when there is no cloud present. Thus, we always need to remove the grid with cloud in the data."
   ]
  },
  {
   "cell_type": "markdown",
   "metadata": {
    "execution": {}
   },
   "source": [
    "###**Code Exercise 1.4: Read and Visualize the NDVI data of your choice**\n",
    "\n",
    "Now we learned how to use `xarray` and `matplotlib` to access NDVI CDR data from AWS and visualize it. Can you find a different date that you are interested in and visualize the high quality NDVI data of that day?"
   ]
  },
  {
   "cell_type": "code",
   "execution_count": null,
   "metadata": {
    "execution": {}
   },
   "outputs": [],
   "source": [
    "### Step 1: Define the date of your interest YYYYMMDD (e.g., 20030701)\n",
    "\n",
    "### Step 2: Locate the data in the AWS S3 bucket\n",
    "### Hint: use the file pattern that we described\n",
    "\n",
    "### Step 3: Open file connection to the file in AWS S3 bucket\n",
    "### Hint: use s3fs to open the connection\n",
    "\n",
    "### Step 4: Use xarray to open the NDVI CDR file\n",
    "### Hint: use xarry open_dataset\n",
    "\n",
    "### Step 5: Get the QA value and extract the high quality data mask\n",
    "### Hint: reuse the get_quality_info helper function we defined\n",
    "\n",
    "### Step 6: Mask NDVI data to keep only high quality value\n",
    "### Hint: use the quality info flag\n",
    "\n",
    "### Step 7: Plot high quality NDVI data\n",
    "### Hint: use plot() function"
   ]
  },
  {
   "cell_type": "markdown",
   "metadata": {
    "execution": {}
   },
   "source": [
    "#**Summary**\n",
    "\n",
    "In this tutorial, you successfully accessed and visualized one of the most commonly used remotely sensed climate data set for land applications! This is an important first step to the climate analysis. Please make sure you\n",
    "\n",
    "* Understand the file organization pattern to help you identify the data that you are interested in.\n",
    "* Understand the dataset, particularly the quality information, to only use the proper dataset for your analysis.\n",
    "* Remotely sensed data often have user guider or algorithm document that will provide detailed information of the dataset.\n",
    "\n",
    "In next tutorial, we will explore how to perform time series analysis, including calculating climatology and anomaly with precipitation data.\n"
   ]
  }
 ],
 "metadata": {
  "colab": {
   "collapsed_sections": [],
   "include_colab_link": true,
   "name": "W1D3_Tutorial3",
   "provenance": [],
   "toc_visible": true
  },
  "kernel": {
   "display_name": "Python 3",
   "language": "python",
   "name": "python3"
  },
  "kernelspec": {
   "display_name": "Python 3 (pangeo)",
   "language": "python",
   "name": "pangeo"
  },
  "language_info": {
   "codemirror_mode": {
    "name": "ipython",
    "version": 3
   },
   "file_extension": ".py",
   "mimetype": "text/x-python",
   "name": "python",
   "nbconvert_exporter": "python",
   "pygments_lexer": "ipython3",
   "version": "3.10.10"
  }
 },
 "nbformat": 4,
 "nbformat_minor": 0
}