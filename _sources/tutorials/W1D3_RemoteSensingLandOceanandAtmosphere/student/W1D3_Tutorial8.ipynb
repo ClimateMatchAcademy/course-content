{
 "cells": [
  {
   "cell_type": "markdown",
   "metadata": {},
   "source": [
    "[![Open In Colab](https://colab.research.google.com/assets/colab-badge.svg)](https://colab.research.google.com/github/ClimateMatchAcademy/course-content/blob/main/tutorials/W1D3_RemoteSensingLandOceanandAtmosphere/student/W1D3_Tutorial8.ipynb)   <a href=\"https://kaggle.com/kernels/welcome?src=https://raw.githubusercontent.com/ClimateMatchAcademy/course-content/main/tutorials/W1D3_RemoteSensingLandOceanandAtmosphere/student/W1D3_Tutorial8.ipynb\" target=\"_blank\"><img alt=\"Open in Kaggle\" src=\"https://kaggle.com/static/images/open-in-kaggle.svg\"/></a>"
   ]
  },
  {
   "cell_type": "markdown",
   "metadata": {
    "execution": {}
   },
   "source": [
    "# Tutorial 8: Comparing Satellite Products With In Situ Data\n",
    "\n",
    "**Week 1, Day 3, Remote Sensing**\n",
    "\n",
    "**Content creators:** Douglas Rao\n",
    "\n",
    "**Content reviewers:** Katrina Dobson, Younkap Nina Duplex, Maria Gonzalez, Will Gregory, Nahid Hasan, Sherry Mi, Beatriz Cosenza Muralles, Jenna Pearson, Agustina Pesce, Chi Zhang, Ohad Zivan\n",
    "\n",
    "**Content editors:** Jenna Pearson, Chi Zhang, Ohad Zivan\n",
    "\n",
    "**Production editors:** Wesley Banfield, Jenna Pearson, Chi Zhang, Ohad Zivan\n",
    "\n",
    "**Our 2023 Sponsors:** NASA TOPS and Google DeepMind"
   ]
  },
  {
   "cell_type": "markdown",
   "metadata": {
    "execution": {},
    "jp-MarkdownHeadingCollapsed": true
   },
   "source": [
    "# Tutorial Objectives\n",
    "\n",
    "In this tutorial, our primary focus will be on the 'Verification of Satellite Data'. Building on our previous modules where we explored various climate applications of satellite data, we will now delve into the critical task of assessing the quality and reliability of such data.\n",
    "\n",
    "By the end of this tutorial, you will learn how to use land-based observations to validate satellite climate data. In this process you will:\n",
    "\n",
    "*  Learn how to access the gridded climate data derived from station observations from AWS.\n",
    "*  Learn how to convert monthly total values to a daily rate.\n",
    "*  Learn how to correctly evaluate satellite data against land-based observations."
   ]
  },
  {
   "cell_type": "markdown",
   "metadata": {
    "execution": {}
   },
   "source": [
    "# Setup"
   ]
  },
  {
   "cell_type": "code",
   "execution_count": null,
   "metadata": {
    "tags": [
     "colab"
    ]
   },
   "outputs": [],
   "source": [
    "# installations ( run this cell ONLY when using google colab or kaggle )\n",
    "\n",
    "# !pip install s3fs --quiet\n",
    "\n",
    "# # properly install cartopy in colab to avoid session crash\n",
    "# !apt-get install libproj-dev proj-data proj-bin --quiet\n",
    "# !apt-get install libgeos-dev --quiet\n",
    "# !pip install cython --quiet\n",
    "# !pip install cartopy --quiet\n",
    "\n",
    "# !apt-get -qq install python-cartopy python3-cartopy  --quiet\n",
    "# !pip uninstall -y shapely  --quiet\n",
    "# !pip install shapely --no-binary shapely  --quiet\n",
    "\n",
    "# !pip install boto3 --quiet\n",
    "\n",
    "# you may need to restart the runtime after running this cell and that is ok"
   ]
  },
  {
   "cell_type": "code",
   "execution_count": null,
   "metadata": {
    "executionInfo": {
     "elapsed": 128816,
     "status": "ok",
     "timestamp": 1681872600523,
     "user": {
      "displayName": "Yuhan (Douglas) Rao",
      "userId": "14858740632129213276"
     },
     "user_tz": 240
    },
    "tags": []
   },
   "outputs": [],
   "source": [
    "# imports\n",
    "import s3fs\n",
    "import xarray as xr\n",
    "import numpy as np\n",
    "import matplotlib.pyplot as plt\n",
    "import cartopy\n",
    "import cartopy.crs as ccrs\n",
    "import pooch\n",
    "import os\n",
    "import tempfile\n",
    "import boto3\n",
    "import botocore\n",
    "from scipy import stats"
   ]
  },
  {
   "cell_type": "markdown",
   "metadata": {},
   "source": [
    "##  Figure settings\n"
   ]
  },
  {
   "cell_type": "code",
   "execution_count": null,
   "metadata": {
    "cellView": "form",
    "executionInfo": {
     "elapsed": 325,
     "status": "ok",
     "timestamp": 1681872600844,
     "user": {
      "displayName": "Yuhan (Douglas) Rao",
      "userId": "14858740632129213276"
     },
     "user_tz": 240
    },
    "tags": [
     "hide-input"
    ]
   },
   "outputs": [],
   "source": [
    "# @title Figure settings\n",
    "import ipywidgets as widgets  # interactive display\n",
    "\n",
    "%config InlineBackend.figure_format = 'retina'\n",
    "plt.style.use(\n",
    "    \"https://raw.githubusercontent.com/ClimateMatchAcademy/course-content/main/cma.mplstyle\"\n",
    ")"
   ]
  },
  {
   "cell_type": "markdown",
   "metadata": {},
   "source": [
    "##  Helper functions\n"
   ]
  },
  {
   "cell_type": "code",
   "execution_count": null,
   "metadata": {
    "tags": [
     "hide-input"
    ]
   },
   "outputs": [],
   "source": [
    "# @title Helper functions\n",
    "\n",
    "def pooch_load(filelocation=None, filename=None, processor=None):\n",
    "    shared_location = \"/home/jovyan/shared/data/tutorials/W1D3_RemoteSensingLandOceanandAtmosphere\"  # this is different for each day\n",
    "    user_temp_cache = tempfile.gettempdir()\n",
    "\n",
    "    if os.path.exists(os.path.join(shared_location, filename)):\n",
    "        file = os.path.join(shared_location, filename)\n",
    "    else:\n",
    "        file = pooch.retrieve(\n",
    "            filelocation,\n",
    "            known_hash=None,\n",
    "            fname=os.path.join(user_temp_cache, filename),\n",
    "            processor=processor,\n",
    "        )\n",
    "\n",
    "    return file"
   ]
  },
  {
   "cell_type": "markdown",
   "metadata": {},
   "source": [
    "##  Video 1: Verification of Satellite Data\n"
   ]
  },
  {
   "cell_type": "code",
   "execution_count": null,
   "metadata": {
    "cellView": "form",
    "tags": [
     "remove-input"
    ]
   },
   "outputs": [],
   "source": [
    "# @title Video 1: Verification of Satellite Data\n",
    "\n",
    "from ipywidgets import widgets\n",
    "from IPython.display import YouTubeVideo\n",
    "from IPython.display import IFrame\n",
    "from IPython.display import display\n",
    "\n",
    "\n",
    "class PlayVideo(IFrame):\n",
    "  def __init__(self, id, source, page=1, width=400, height=300, **kwargs):\n",
    "    self.id = id\n",
    "    if source == 'Bilibili':\n",
    "      src = f'https://player.bilibili.com/player.html?bvid={id}&page={page}'\n",
    "    elif source == 'Osf':\n",
    "      src = f'https://mfr.ca-1.osf.io/render?url=https://osf.io/download/{id}/?direct%26mode=render'\n",
    "    super(PlayVideo, self).__init__(src, width, height, **kwargs)\n",
    "\n",
    "\n",
    "def display_videos(video_ids, W=400, H=300, fs=1):\n",
    "  tab_contents = []\n",
    "  for i, video_id in enumerate(video_ids):\n",
    "    out = widgets.Output()\n",
    "    with out:\n",
    "      if video_ids[i][0] == 'Youtube':\n",
    "        video = YouTubeVideo(id=video_ids[i][1], width=W,\n",
    "                             height=H, fs=fs, rel=0)\n",
    "        print(f'Video available at https://youtube.com/watch?v={video.id}')\n",
    "      else:\n",
    "        video = PlayVideo(id=video_ids[i][1], source=video_ids[i][0], width=W,\n",
    "                          height=H, fs=fs, autoplay=False)\n",
    "        if video_ids[i][0] == 'Bilibili':\n",
    "          print(f'Video available at https://www.bilibili.com/video/{video.id}')\n",
    "        elif video_ids[i][0] == 'Osf':\n",
    "          print(f'Video available at https://osf.io/{video.id}')\n",
    "      display(video)\n",
    "    tab_contents.append(out)\n",
    "  return tab_contents\n",
    "\n",
    "\n",
    "video_ids = [('Youtube', 'Mpy_cdvp0E0'), ('Bilibili', 'BV1HP411y72j')]\n",
    "tab_contents = display_videos(video_ids, W=730, H=410)\n",
    "tabs = widgets.Tab()\n",
    "tabs.children = tab_contents\n",
    "for i in range(len(tab_contents)):\n",
    "  tabs.set_title(i, video_ids[i][0])\n",
    "display(tabs)"
   ]
  },
  {
   "cell_type": "code",
   "execution_count": null,
   "metadata": {
    "cellView": "form",
    "pycharm": {
     "name": "#%%\n"
    },
    "tags": [
     "remove-input"
    ]
   },
   "outputs": [],
   "source": [
    "# @markdown\n",
    "from ipywidgets import widgets\n",
    "from IPython.display import IFrame\n",
    "\n",
    "link_id = \"w3r49\"\n",
    "\n",
    "download_link = f\"https://osf.io/download/{link_id}/\"\n",
    "render_link = f\"https://mfr.ca-1.osf.io/render?url=https://osf.io/{link_id}/?direct%26mode=render%26action=download%26mode=render\"\n",
    "# @markdown\n",
    "out = widgets.Output()\n",
    "with out:\n",
    "    print(f\"If you want to download the slides: {download_link}\")\n",
    "    display(IFrame(src=f\"{render_link}\", width=730, height=410))\n",
    "display(out)"
   ]
  },
  {
   "cell_type": "markdown",
   "metadata": {
    "execution": {}
   },
   "source": [
    "# Section 1: Evaluating Satellite Data with Observations\n"
   ]
  },
  {
   "cell_type": "markdown",
   "metadata": {
    "execution": {}
   },
   "source": [
    "Satellite data is frequently cross-verified against observations deemed reliable to evaluate its quality. Station-based observations and derived data are typically regarded as a reliable reference. When it comes to oceanic data, measurements taken by ships, buoys, drifters, or gliders are often used as a benchmark to assess the quality of satellite data.\n",
    "\n",
    "In this tutorial, we will be using the nClimGrid dataset, a gridded climate dataset produced by NOAA. This dataset provides daily and monthly temperature and precipitation data, leveraging all available station observations. However, it's important to note that this dataset is exclusive to the United States. We have selected this dataset due to its public availability on AWS. You are encouraged to explore other station data for the evaluation of satellite data in your projects."
   ]
  },
  {
   "cell_type": "markdown",
   "metadata": {
    "execution": {}
   },
   "source": [
    "## Section 1.1: Accesing nClimGrid - a station based gridded climate data\n",
    "\n",
    "The nClimGrid-monthly dataset is a gridded dataset derived from spatially interpolating data from the [Global Historical Climatology Network (GHCN)](https://www.ncei.noaa.gov/products/land-based-station/global-historical-climatology-network-daily). The dataset includes monthly precipitation, monthly temperature average, monthly temperature maximum and monthly temperature minimum.  The dataset provides monthly values in a approximate 5x5 km lat/lon grid for the Continental United States. Data is available from 1895 to the present via NOAA NCEI or AWS. We will be accessing the data via AWS directly.\n"
   ]
  },
  {
   "cell_type": "code",
   "execution_count": null,
   "metadata": {
    "executionInfo": {
     "elapsed": 4091,
     "status": "ok",
     "timestamp": 1681872604932,
     "user": {
      "displayName": "Yuhan (Douglas) Rao",
      "userId": "14858740632129213276"
     },
     "user_tz": 240
    },
    "tags": []
   },
   "outputs": [],
   "source": [
    "# connect to the AWS S3 bucket for the nClimGrid Monthly Precipitation data\n",
    "\n",
    "# read in the monthly precipitation data from nClimGrid on AWS\n",
    "client = boto3.client(\n",
    "    \"s3\", config=botocore.client.Config(signature_version=botocore.UNSIGNED)\n",
    ")  # initialize aws s3 bucket client\n",
    "\n",
    "file_nclimgrid = \"noaa-nclimgrid-monthly-pds/nclimgrid_prcp.nc\"\n",
    "ds = xr.open_dataset(\n",
    "    pooch_load(\n",
    "        filelocation=\"http://s3.amazonaws.com/\" + file_nclimgrid,\n",
    "        filename=file_nclimgrid,\n",
    "    )\n",
    ")\n",
    "ds"
   ]
  },
  {
   "cell_type": "markdown",
   "metadata": {
    "execution": {}
   },
   "source": [
    "The nClimGrid dataset is available from `1895-01-01` until present. Since our GPCP data is only available between `1979-01-01` and `2022-12-01`, extract only the data from that time period from the nClimGrid monthly data."
   ]
  },
  {
   "cell_type": "code",
   "execution_count": null,
   "metadata": {
    "executionInfo": {
     "elapsed": 16,
     "status": "ok",
     "timestamp": 1681872604932,
     "user": {
      "displayName": "Yuhan (Douglas) Rao",
      "userId": "14858740632129213276"
     },
     "user_tz": 240
    },
    "tags": []
   },
   "outputs": [],
   "source": [
    "prcp_obs = ds.sel(time=slice(\"1979-01-01\", \"2022-12-31\"))\n",
    "prcp_obs"
   ]
  },
  {
   "cell_type": "markdown",
   "metadata": {
    "execution": {}
   },
   "source": [
    "From the information about the precipitation data from nClimGird monthly dataset, we know it is the monthly total precipitation, which is the total amount of rainfall that a location receives for the entire month with the unit of `millimeter`."
   ]
  },
  {
   "cell_type": "code",
   "execution_count": null,
   "metadata": {
    "executionInfo": {
     "elapsed": 461,
     "status": "ok",
     "timestamp": 1681872605381,
     "user": {
      "displayName": "Yuhan (Douglas) Rao",
      "userId": "14858740632129213276"
     },
     "user_tz": 240
    },
    "tags": []
   },
   "outputs": [],
   "source": [
    "prcp_obs.prcp"
   ]
  },
  {
   "cell_type": "markdown",
   "metadata": {
    "execution": {}
   },
   "source": [
    "However, the GPCP satellite precipitation variable is the daily precipitation rate with the unit of `mm/day`. This variable quantifies the average amount of precipitation in a day for a given location in a month. \n",
    "\n",
    "To convert from the total amount to the precipitation rate, we just need to divide the amount by the number of days within a month (e.g., 31 days for January). We can use `.days_in_month` to achieve that."
   ]
  },
  {
   "cell_type": "code",
   "execution_count": null,
   "metadata": {
    "executionInfo": {
     "elapsed": 64910,
     "status": "ok",
     "timestamp": 1681872670287,
     "user": {
      "displayName": "Yuhan (Douglas) Rao",
      "userId": "14858740632129213276"
     },
     "user_tz": 240
    },
    "tags": []
   },
   "outputs": [],
   "source": [
    "# calculate precipitation rate from nClimGrid\n",
    "obs_rate = prcp_obs.prcp / prcp_obs.time.dt.days_in_month\n",
    "obs_rate"
   ]
  },
  {
   "cell_type": "code",
   "execution_count": null,
   "metadata": {
    "executionInfo": {
     "elapsed": 4538,
     "status": "ok",
     "timestamp": 1681872674818,
     "user": {
      "displayName": "Yuhan (Douglas) Rao",
      "userId": "14858740632129213276"
     },
     "user_tz": 240
    },
    "tags": []
   },
   "outputs": [],
   "source": [
    "# generate the map of precipitation rate from nClimGrid monthly data\n",
    "obs_rate[0].plot()"
   ]
  },
  {
   "cell_type": "markdown",
   "metadata": {
    "execution": {}
   },
   "source": [
    "In this quick map, we can see the value range of the precipitation rate appears to be reasonable compared to the GPCP monthly precipitation CDR data (0-20 mm/day)."
   ]
  },
  {
   "cell_type": "markdown",
   "metadata": {
    "execution": {}
   },
   "source": [
    "## Section 1.2: Read GPCP Monthly Precipitation Data\n",
    "Now we are ready to compare our land-based observations to the monthly GPCP satellite from AWS public data catalog."
   ]
  },
  {
   "cell_type": "code",
   "execution_count": null,
   "metadata": {
    "executionInfo": {
     "elapsed": 186915,
     "status": "ok",
     "timestamp": 1681872861713,
     "user": {
      "displayName": "Yuhan (Douglas) Rao",
      "userId": "14858740632129213276"
     },
     "user_tz": 240
    },
    "tags": []
   },
   "outputs": [],
   "source": [
    "# get the list of all data files in the AWS S3 bucket\n",
    "fs = s3fs.S3FileSystem(anon=True)\n",
    "file_pattern = \"noaa-cdr-precip-gpcp-monthly-pds/data/*/gpcp_v02r03_monthly_*.nc\"\n",
    "file_location = fs.glob(file_pattern)\n",
    "\n",
    "# open connection to all data files\n",
    "file_ob = [\n",
    "    pooch_load(filelocation=\"http://s3.amazonaws.com/\" + file, filename=file)\n",
    "    for file in file_location\n",
    "]\n",
    "\n",
    "# open all the monthly data files and concatenate them along the time dimension.\n",
    "# this process will take ~ 1 minute to complete due to the number of data files.\n",
    "ds_gpcp = xr.open_mfdataset(file_ob, combine=\"nested\", concat_dim=\"time\")\n",
    "ds_gpcp"
   ]
  },
  {
   "cell_type": "code",
   "execution_count": null,
   "metadata": {
    "executionInfo": {
     "elapsed": 18,
     "status": "ok",
     "timestamp": 1681872861715,
     "user": {
      "displayName": "Yuhan (Douglas) Rao",
      "userId": "14858740632129213276"
     },
     "user_tz": 240
    },
    "tags": []
   },
   "outputs": [],
   "source": [
    "# get the GPCP precipitation rate\n",
    "prcp_sat = ds_gpcp.precip\n",
    "prcp_sat"
   ]
  },
  {
   "cell_type": "markdown",
   "metadata": {
    "execution": {}
   },
   "source": [
    "## Section 1.3: Spatial Pattern\n",
    "\n",
    "Now, let's take a quick look at the spatial pattern between these two datasets for a selected month (e.g., 1979-01-01)."
   ]
  },
  {
   "cell_type": "code",
   "execution_count": null,
   "metadata": {
    "executionInfo": {
     "elapsed": 10612,
     "status": "ok",
     "timestamp": 1681872872311,
     "user": {
      "displayName": "Yuhan (Douglas) Rao",
      "userId": "14858740632129213276"
     },
     "user_tz": 240
    },
    "tags": []
   },
   "outputs": [],
   "source": [
    "# set up the geographical region for continental US\n",
    "central_lat = 37.5\n",
    "central_lon = -96\n",
    "extent = [-120, -70, 21, 50]\n",
    "central_lon = np.mean(extent[:2])\n",
    "central_lat = np.mean(extent[2:])\n",
    "\n",
    "# extract sat and obs data for the month of 1979-01-01\n",
    "sat = prcp_sat.sel(time=\"1979-01-01\")\n",
    "obs = obs_rate.sel(time=\"1979-01-01\")\n",
    "\n",
    "# initate plot for North America using two suplots\n",
    "fig, axs = plt.subplots(\n",
    "    2,\n",
    "    subplot_kw={\"projection\": ccrs.AlbersEqualArea(central_lon, central_lat)},\n",
    "    figsize=(9, 12),\n",
    "    sharex=True,\n",
    "    sharey=True,\n",
    ")\n",
    "axs[0].set_extent(extent)\n",
    "axs[0].coastlines()\n",
    "axs[0].set_title(\"GPCP Monthly\")\n",
    "sat.plot(\n",
    "    ax=axs[0],\n",
    "    transform=ccrs.PlateCarree(),\n",
    "    vmin=0,\n",
    "    vmax=15,\n",
    "    cbar_kwargs=dict(shrink=0.5, label=\"GPCP Precipitation (mm/day)\"),\n",
    ")\n",
    "axs[1].set_extent(extent)\n",
    "axs[1].coastlines()\n",
    "axs[1].set_title(\"nClimGrid Monthly\")\n",
    "obs.plot(\n",
    "    ax=axs[1],\n",
    "    transform=ccrs.PlateCarree(),\n",
    "    vmin=0,\n",
    "    vmax=15,\n",
    "    cbar_kwargs=dict(shrink=0.5, label=\"nClimGrid Precipitation (mm/day)\"),\n",
    ")"
   ]
  },
  {
   "cell_type": "markdown",
   "metadata": {
    "execution": {}
   },
   "source": [
    "Overall, we have a similar spatial pattern but with widely different spatial resolution (i.e., 5km v.s. 2.5°). "
   ]
  },
  {
   "cell_type": "markdown",
   "metadata": {
    "execution": {}
   },
   "source": [
    "## Section 1.4: Time Series Comparison\n",
    "\n",
    "Let's use New York City as an example, we can examine the time series of the satellite and observation-based dataset to evaluate the performance.\n",
    "\n",
    "The latitute and longitute of NYC is `(40.71°N, 74.01°W)`. We will use it to extract the time series from GPCP and nClimGrid using the `nearest` method you discussed in Day 1 due to the differing resolutions of each dataset."
   ]
  },
  {
   "cell_type": "code",
   "execution_count": null,
   "metadata": {
    "executionInfo": {
     "elapsed": 19,
     "status": "ok",
     "timestamp": 1681872872312,
     "user": {
      "displayName": "Yuhan (Douglas) Rao",
      "userId": "14858740632129213276"
     },
     "user_tz": 240
    },
    "tags": []
   },
   "outputs": [],
   "source": [
    "# note that GPCP data is stored as 0-360 degree for the longitude, so the longitude should be using (360 - lon)\n",
    "sat = prcp_sat.sel(longitude=285.99, latitude=40.71, method=\"nearest\")\n",
    "obs = obs_rate.sel(lon=-74.01, lat=40.71, method=\"nearest\")  # precipitation rate\n",
    "obs_total = prcp_obs.sel(lon=-74.01, lat=40.71, method=\"nearest\")  # total amount"
   ]
  },
  {
   "cell_type": "code",
   "execution_count": null,
   "metadata": {
    "executionInfo": {
     "elapsed": 7721,
     "status": "ok",
     "timestamp": 1681872942720,
     "user": {
      "displayName": "Yuhan (Douglas) Rao",
      "userId": "14858740632129213276"
     },
     "user_tz": 240
    },
    "tags": []
   },
   "outputs": [],
   "source": [
    "# let's look at the comparison between the precipitation rate from nClimGrid and satellite CDR\n",
    "fig, ax = plt.subplots(figsize=(12, 6))\n",
    "obs.plot(label=\"nClimGrid Monthly Precipitation Rate\", ax=ax)\n",
    "sat.plot(color=\"k\", alpha=0.6, label=\"GPCP Monthly Precipitation Rate\", ax=ax)\n",
    "ax.set_ylabel(\"nClimGrid v.s. GPCP (New York City) (mm/day)\")\n",
    "ax.legend()"
   ]
  },
  {
   "cell_type": "markdown",
   "metadata": {
    "execution": {}
   },
   "source": [
    "Now we are going to zoom in to a few years to see how the data compares."
   ]
  },
  {
   "cell_type": "code",
   "execution_count": null,
   "metadata": {
    "executionInfo": {
     "elapsed": 1508,
     "status": "ok",
     "timestamp": 1681872944214,
     "user": {
      "displayName": "Yuhan (Douglas) Rao",
      "userId": "14858740632129213276"
     },
     "user_tz": 240
    },
    "tags": []
   },
   "outputs": [],
   "source": [
    "fig, ax = plt.subplots(figsize=(12, 6))\n",
    "obs.sel(time=slice(\"2011-01-01\", \"2015-12-01\")).plot(label=\"nClimGrid\", ax=ax)\n",
    "sat.sel(time=slice(\"2011-01-01\", \"2015-12-01\")).plot(\n",
    "    marker=\"o\", label=\"GPCP Monthly\", ax=ax\n",
    ")\n",
    "ax.legend()"
   ]
  },
  {
   "cell_type": "markdown",
   "metadata": {
    "execution": {}
   },
   "source": [
    "We see a great alignment in the precipitation rate between the nClimGrid and GPCP data when we look at the details over this small chosen window. However, we cannot zoom in to every location for all times to confirm they are a good match. We can use statistics to quantify the relationship between these two datasets for as in a automated fashion, and will do so in the next section."
   ]
  },
  {
   "cell_type": "markdown",
   "metadata": {
    "execution": {}
   },
   "source": [
    "## Section 1.5: Quantify the Difference\n",
    "\n",
    "One way to more robustly compare the datasets is through a scatterplot. The data would ideally follow the 1:1 line, which would suggest that they are very closely matched. Let's make this plot and observe how our data compares to one another:"
   ]
  },
  {
   "cell_type": "code",
   "execution_count": null,
   "metadata": {
    "executionInfo": {
     "elapsed": 5,
     "status": "ok",
     "timestamp": 1681872944214,
     "user": {
      "displayName": "Yuhan (Douglas) Rao",
      "userId": "14858740632129213276"
     },
     "user_tz": 240
    },
    "tags": []
   },
   "outputs": [],
   "source": [
    "# make sure that both observation and satellite data are for the samte time period\n",
    "sat = sat.sel(time=slice(\"1979-01-01\", \"2022-12-01\"))\n",
    "obs = obs.sel(time=slice(\"1979-01-01\", \"2022-12-01\"))"
   ]
  },
  {
   "cell_type": "code",
   "execution_count": null,
   "metadata": {
    "executionInfo": {
     "elapsed": 20565,
     "status": "ok",
     "timestamp": 1681872964775,
     "user": {
      "displayName": "Yuhan (Douglas) Rao",
      "userId": "14858740632129213276"
     },
     "user_tz": 240
    },
    "tags": []
   },
   "outputs": [],
   "source": [
    "# plot the scatter plot between nClimGrid and GPCP monthly precipitation CDR\n",
    "fig, ax = plt.subplots(figsize=(12, 6))\n",
    "fig.suptitle(\"GPCP Precipitaion v.s. nClimGrid\")\n",
    "ax.scatter(sat, obs, alpha=0.6)\n",
    "# Add 1:1 line\n",
    "y_lim = (0, 15)\n",
    "x_lim = (0, 15)\n",
    "ax.plot((0, 15), (0, 15), \"r-\")\n",
    "ax.set_ylim(y_lim)\n",
    "ax.set_xlim(x_lim)\n",
    "ax.set_xlabel(\"GPCP Precipitation (mm/day)\")\n",
    "ax.set_ylabel(\"nClimGrid (mm/day)\")"
   ]
  },
  {
   "cell_type": "markdown",
   "metadata": {
    "execution": {}
   },
   "source": [
    "By eye, there appears to be a stong correlation between the satellite data and the observations for NYC, with much of the data following the 1:1 line plotted in red. As in the last tutorial, we can calculate the correlation coefficient and corresponding p-value."
   ]
  },
  {
   "cell_type": "code",
   "execution_count": null,
   "metadata": {
    "tags": []
   },
   "outputs": [],
   "source": [
    "r, p = stats.pearsonr(sat, obs)\n",
    "print(\"Corr Coef: \" + str(r) + \", p-val: \" + str(p))"
   ]
  },
  {
   "cell_type": "markdown",
   "metadata": {
    "execution": {}
   },
   "source": [
    "### Coding Exercises 1.5\n",
    "\n",
    "1. Sometimes, we are more interested in the difference among the anomaly data rather than the total data. Using the same location, compare the anomaly data."
   ]
  },
  {
   "cell_type": "code",
   "execution_count": null,
   "metadata": {
    "tags": []
   },
   "outputs": [],
   "source": [
    "# calculate climatology for the 1981-2010 period for both GPCP and nClimGrid\n",
    "sat_clim = ...\n",
    "obs_clim = ...\n",
    "\n",
    "# calculate anomaly of the NYC time series for both GPCP and nClimGrid\n",
    "sat_clim_anom = ...\n",
    "obs_clim_anom = ...\n",
    "\n",
    "# plot time series and scatter plot between two time series\n",
    "fig, ax = plt.subplots(figsize=(12, 6))\n",
    "# obs_clim_anom.sel(time=slice(\"2011-01-01\", \"2015-12-01\")).plot(\n",
    "#     label=\"nClimGrid anomaly\", ax=ax\n",
    "# )\n",
    "# sat_clim_anom.sel(time=slice(\"2011-01-01\", \"2015-12-01\")).plot(\n",
    "#     marker=\"o\", label=\"GPCP Monthly anomaly\", ax=ax\n",
    "# )\n",
    "ax.legend()\n",
    "\n",
    "# plot the scatter plot between nClimGrid and GPCP monthly precipitation CDR\n",
    "fig, ax = plt.subplots(figsize=(12, 6))\n",
    "fig.suptitle(\"GPCP Precipitaion v.s. nClimGrid\")\n",
    "# ax.scatter(sat_clim_anom, obs_clim_anom, alpha=0.6)\n",
    "# Add 1:1 line\n",
    "y_lim = (0, 15)\n",
    "x_lim = (0, 15)\n",
    "ax.plot((0, 15), (0, 15), \"r-\")\n",
    "ax.set_ylim(y_lim)\n",
    "ax.set_xlim(x_lim)\n",
    "ax.set_xlabel(\"GPCP Precipitation anomaly (mm/day)\")\n",
    "ax.set_ylabel(\"nClimGrid anomaly (mm/day)\")\n",
    "\n",
    "# calculate and print correlation coefficient and p-value\n",
    "# r, p = ...\n",
    "# print(\"Corr Coef: \" + str(r) + \", p-val: \" + str(p))"
   ]
  },
  {
   "cell_type": "markdown",
   "metadata": {
    "execution": {}
   },
   "source": [
    "# Summary\n",
    "\n",
    "In this tutorial, you explored how to use station-based observations within the U.S. to evaluate satellite precipitation data. While this isn't a global comparison, the methodology can be applied to other station or observation data you may wish to utilize.\n",
    "\n",
    "When carrying out these comparisons, remember the following key points:\n",
    "\n",
    "- Ensure that both the satellite data and the observations represent the same quantity (for example, total precipitation amount versus precipitation rate).\n",
    "- Comparisons should be made for the same geolocation (or very near to it) and the same time period.\n",
    "- Be aware of potential spatial scale effects. Satellite data measures over a large area, whereas observations may be narrowly focused, particularly for elements that exhibit substantial spatial variability. This can lead to considerable uncertainty in the satellite data.\n"
   ]
  },
  {
   "cell_type": "markdown",
   "metadata": {},
   "source": [
    "# Resources"
   ]
  },
  {
   "cell_type": "markdown",
   "metadata": {},
   "source": [
    "Data from this tutorial can be accessed [here](https://noaa-cdr-precip-gpcp-monthly-pds.s3.amazonaws.com/index.html#data/) and [here](https://www.ncei.noaa.gov/products/land-based-station/global-historical-climatology-network-daily)."
   ]
  }
 ],
 "metadata": {
  "colab": {
   "collapsed_sections": [],
   "include_colab_link": true,
   "name": "W1D3_Tutorial8",
   "provenance": [],
   "toc_visible": true
  },
  "kernel": {
   "display_name": "Python 3",
   "language": "python",
   "name": "python3"
  },
  "kernelspec": {
   "display_name": "climatematch",
   "language": "python",
   "name": "python3"
  },
  "language_info": {
   "codemirror_mode": {
    "name": "ipython",
    "version": 3
   },
   "file_extension": ".py",
   "mimetype": "text/x-python",
   "name": "python",
   "nbconvert_exporter": "python",
   "pygments_lexer": "ipython3",
   "version": "3.10.11"
  }
 },
 "nbformat": 4,
 "nbformat_minor": 4
}