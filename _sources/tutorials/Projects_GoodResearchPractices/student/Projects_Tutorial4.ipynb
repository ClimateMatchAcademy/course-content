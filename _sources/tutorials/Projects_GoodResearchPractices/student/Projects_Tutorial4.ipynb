{
 "cells": [
  {
   "cell_type": "markdown",
   "metadata": {
    "execution": {}
   },
   "source": [
    "[![Open In Colab](https://colab.research.google.com/assets/colab-badge.svg)](https://colab.research.google.com/github/ClimateMatchAcademy/course-content/blob/main/tutorials/Projects_GoodResearchPractices/student/Projects_Tutorial4.ipynb)   <a href=\"https://kaggle.com/kernels/welcome?src=https://raw.githubusercontent.com/ClimateMatchAcademy/course-content/main/tutorials/Projects_GoodResearchPractices/student/Projects_Tutorial4.ipynb\" target=\"_blank\"><img alt=\"Open in Kaggle\" src=\"https://kaggle.com/static/images/open-in-kaggle.svg\"/></a>"
   ]
  },
  {
   "cell_type": "markdown",
   "metadata": {
    "execution": {}
   },
   "source": [
    "# Tutorial 4: Formulating a Hypothesis\n",
    "\n",
    "**Good Research Practices**\n",
    "\n",
    "**Content creators:** Marguerite Brown, Yuxin Zhou, Zane Mitrevica, Natalie Steinemann\n",
    "\n",
    "**Content reviewers:** Sherry Mi, Maria Gonzalez, Nahid Hasan, Beatriz Cosenza Muralles, Katrina Dobson, Sloane Garelick, Cheng Zhang\n",
    "\n",
    "**Content editors:** Jenna Pearson, Chi Zhang, Ohad Zivan\n",
    "\n",
    "**Production editors:** Wesley Banfield, Jenna Pearson, Chi Zhang, Ohad Zivan\n",
    "\n",
    "**Our 2023 Sponsors:** NASA TOPS and Google DeepMind"
   ]
  },
  {
   "cell_type": "markdown",
   "metadata": {
    "execution": {}
   },
   "source": [
    "# Tutorial Objectives\n",
    "\n",
    "In Tutorials 1-4, you will learn about the process of research design. This includes how to\n",
    "\n",
    "1.   Identify a phenomenon and formulate a research question surrounding it\n",
    "2.   Efficiently review existing literature and knowledge about the phenomenon\n",
    "3.   Identify what is needed to study the phenomenon\n",
    "4.   Formulate a testable hypothesis regarding the phenomenon\n",
    "\n",
    "By the end of these tutorials you will be able to:\n",
    "\n",
    "*   Understand the principles of good research practices\n",
    "*   Learn to view a scientific data set or question through the lens of equity: Who is represented by this data and who is not? Who has access to this information? Who is in a position to use it?"
   ]
  },
  {
   "cell_type": "markdown",
   "metadata": {},
   "source": [
    "##  Video 1: Formulating a Hypothesis\n"
   ]
  },
  {
   "cell_type": "code",
   "execution_count": null,
   "metadata": {
    "cellView": "form",
    "execution": {},
    "tags": [
     "remove-input"
    ]
   },
   "outputs": [],
   "source": [
    "# @title Video 1: Formulating a Hypothesis\n",
    "\n",
    "from ipywidgets import widgets\n",
    "from IPython.display import YouTubeVideo\n",
    "from IPython.display import IFrame\n",
    "from IPython.display import display\n",
    "\n",
    "\n",
    "class PlayVideo(IFrame):\n",
    "  def __init__(self, id, source, page=1, width=400, height=300, **kwargs):\n",
    "    self.id = id\n",
    "    if source == 'Bilibili':\n",
    "      src = f'https://player.bilibili.com/player.html?bvid={id}&page={page}'\n",
    "    elif source == 'Osf':\n",
    "      src = f'https://mfr.ca-1.osf.io/render?url=https://osf.io/download/{id}/?direct%26mode=render'\n",
    "    super(PlayVideo, self).__init__(src, width, height, **kwargs)\n",
    "\n",
    "\n",
    "def display_videos(video_ids, W=400, H=300, fs=1):\n",
    "  tab_contents = []\n",
    "  for i, video_id in enumerate(video_ids):\n",
    "    out = widgets.Output()\n",
    "    with out:\n",
    "      if video_ids[i][0] == 'Youtube':\n",
    "        video = YouTubeVideo(id=video_ids[i][1], width=W,\n",
    "                             height=H, fs=fs, rel=0)\n",
    "        print(f'Video available at https://youtube.com/watch?v={video.id}')\n",
    "      else:\n",
    "        video = PlayVideo(id=video_ids[i][1], source=video_ids[i][0], width=W,\n",
    "                          height=H, fs=fs, autoplay=False)\n",
    "        if video_ids[i][0] == 'Bilibili':\n",
    "          print(f'Video available at https://www.bilibili.com/video/{video.id}')\n",
    "        elif video_ids[i][0] == 'Osf':\n",
    "          print(f'Video available at https://osf.io/{video.id}')\n",
    "      display(video)\n",
    "    tab_contents.append(out)\n",
    "  return tab_contents\n",
    "\n",
    "\n",
    "video_ids = [('Youtube', 'F71IbvrHv6s'), ('Bilibili', 'BV1tF411Q7Wz')]\n",
    "tab_contents = display_videos(video_ids, W=730, H=410)\n",
    "tabs = widgets.Tab()\n",
    "tabs.children = tab_contents\n",
    "for i in range(len(tab_contents)):\n",
    "  tabs.set_title(i, video_ids[i][0])\n",
    "display(tabs)"
   ]
  },
  {
   "cell_type": "markdown",
   "metadata": {},
   "source": [
    "##  Tutorial slides\n"
   ]
  },
  {
   "cell_type": "markdown",
   "metadata": {},
   "source": [
    " These are the slides for the videos in all tutorials today\n"
   ]
  },
  {
   "cell_type": "code",
   "execution_count": null,
   "metadata": {
    "tags": [
     "remove-input"
    ]
   },
   "outputs": [],
   "source": [
    "# @title Tutorial slides\n",
    "# @markdown These are the slides for the videos in all tutorials today\n",
    "from IPython.display import IFrame\n",
    "link_id = \"v8zx6\""
   ]
  },
  {
   "cell_type": "markdown",
   "metadata": {
    "execution": {}
   },
   "source": [
    "# Activity: Understanding Hypothesis\n",
    "\n",
    "Take 5 minutes to discuss how a hypothesis differs from a research question."
   ]
  },
  {
   "cell_type": "markdown",
   "metadata": {
    "execution": {}
   },
   "source": [
    "## Make Sure to Avoid the pitfalls!\n",
    "<details>\n",
    "<summary>Click here for a recap on pitfalls</summary>\n",
    "\n",
    "I don’t need a hypothesis, I will just play around with the model/data\n",
    "  <ul>\n",
    "  <li>A hypothesis will help to clarify your goals when presenting research. After all, \"I just played around with this model a lot\" isn't a very satisfying scientific result</li>\n",
    "  <li>However, we encourage you to explore and experiment with the model and the data, as this can help develop your intuition and understanding of the subject matter</li>\n",
    "  <li>Hypothesis formation is often an iterative process involving both the literature review and playing around with your model and data</li>\n",
    "  </ul>\n",
    "\n",
    "My hypothesis doesn’t match my question (or vice versa)\n",
    "  <ul>\n",
    "  <li>This is a normal part of the process!</li>\n",
    "  <li>You can return to Step 1 and update your question / phenomenon / goals</li>\n",
    "  </ul>\n",
    "\n",
    "I can’t write down a hypothesis\n",
    "  <ul>\n",
    "  <li>If you find it challenging to articulate a hypothesis, it may indicate that you lack ingredients and/or clarity on the hypothesis. Try returning to Step 2 to further your literature review, or continue playing around with your model or data.</li>\n",
    "  </ul>\n",
    "</details>"
   ]
  },
  {
   "cell_type": "markdown",
   "metadata": {
    "execution": {}
   },
   "source": [
    "# Tutorials 1-4 Summary\n",
    "\n",
    "Through tutorials 1-4, we worked through the preliminary steps of starting a research project.\n",
    "\n",
    "*   We identified a phenomenon and formulated a question (Step 1)\n",
    "*   We did a review of the literature and determine what has already been studied about the phenomenon (Step 2)\n",
    "*   We determined what basic ingredients we need to investigate the phenomenon (Step 3)\n",
    "*   We used all of the above to formulate a testable hypothesis (Step 4)\n"
   ]
  },
  {
   "cell_type": "markdown",
   "metadata": {
    "execution": {}
   },
   "source": [
    "# Next Steps\n",
    "\n",
    "Tutorials 5-8 will illustrate the steps involved in data analysis, interpreting your results, and communicating your results to an audience. As you do your own research, feel free to return to this tutorial as a guide."
   ]
  }
 ],
 "metadata": {
  "colab": {
   "collapsed_sections": [],
   "include_colab_link": true,
   "name": "Projects_Tutorial4",
   "provenance": [
    {
     "file_id": "1WfT8oN22xywtecNriLptqi1SuGUSoIlc",
     "timestamp": 1680037587733
    }
   ],
   "toc_visible": true
  },
  "kernel": {
   "display_name": "Python 3",
   "language": "python",
   "name": "python3"
  },
  "kernelspec": {
   "display_name": "Python 3 (ipykernel)",
   "language": "python",
   "name": "python3"
  },
  "language_info": {
   "codemirror_mode": {
    "name": "ipython",
    "version": 3
   },
   "file_extension": ".py",
   "mimetype": "text/x-python",
   "name": "python",
   "nbconvert_exporter": "python",
   "pygments_lexer": "ipython3",
   "version": "3.10.8"
  }
 },
 "nbformat": 4,
 "nbformat_minor": 4
}