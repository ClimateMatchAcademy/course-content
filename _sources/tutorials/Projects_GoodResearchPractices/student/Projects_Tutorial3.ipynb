{
 "cells": [
  {
   "cell_type": "markdown",
   "metadata": {
    "execution": {}
   },
   "source": [
    "[![Open In Colab](https://colab.research.google.com/assets/colab-badge.svg)](https://colab.research.google.com/github/ClimateMatchAcademy/course-content/blob/main/tutorials/Projects_GoodResearchPractices/student/Projects_Tutorial3.ipynb)   <a href=\"https://kaggle.com/kernels/welcome?src=https://raw.githubusercontent.com/ClimateMatchAcademy/course-content/main/tutorials/Projects_GoodResearchPractices/student/Projects_Tutorial3.ipynb\" target=\"_blank\"><img alt=\"Open in Kaggle\" src=\"https://kaggle.com/static/images/open-in-kaggle.svg\"/></a>"
   ]
  },
  {
   "cell_type": "markdown",
   "metadata": {
    "execution": {}
   },
   "source": [
    "# Tutorial 3: Identifying the Basic Ingredients\n",
    "\n",
    "**Good Research Practices**\n",
    "\n",
    "**Content creators:** Marguerite Brown, Yuxin Zhou, Natalie Steinemann, Zane Mitrevica\n",
    "\n",
    "**Content reviewers:** Sherry Mi, Maria Gonzalez, Nahid Hasan, Beatriz Cosenza Muralles, Katrina Dobson, Sloane Garelick, Cheng Zhang\n",
    "\n",
    "**Content editors:** Jenna Pearson, Chi Zhang, Ohad Zivan\n",
    "\n",
    "**Production editors:** Wesley Banfield, Jenna Pearson, Chi Zhang, Ohad Zivan\n",
    "\n",
    "**Our 2023 Sponsors:** NASA TOPS and Google DeepMind"
   ]
  },
  {
   "cell_type": "markdown",
   "metadata": {
    "execution": {}
   },
   "source": [
    "# Tutorial Objectives\n",
    "\n",
    "In Tutorials 1-4, you will learn about the process of research design. This includes how to\n",
    "\n",
    "1.   Identify a phenomenon and formulate a research question surrounding it\n",
    "2.   Efficiently review existing literature and knowledge about the phenomenon\n",
    "3.   Identify what is needed to study the phenomenon\n",
    "4.   Formulate a testable hypothesis regarding the phenomenon\n",
    "\n",
    "By the end of these tutorials you will be able to:\n",
    "\n",
    "*   Understand the principles of good research practices\n",
    "*   Learn to view a scientific data set or question through the lens of equity: Who is represented by this data and who is not? Who has access to this information? Who is in a position to use it?"
   ]
  },
  {
   "cell_type": "markdown",
   "metadata": {},
   "source": [
    "##  Video 1: Basic Ingredients\n"
   ]
  },
  {
   "cell_type": "code",
   "execution_count": null,
   "metadata": {
    "cellView": "form",
    "execution": {},
    "tags": [
     "remove-input"
    ]
   },
   "outputs": [],
   "source": [
    "# @title Video 1: Basic Ingredients\n",
    "\n",
    "from ipywidgets import widgets\n",
    "from IPython.display import YouTubeVideo\n",
    "from IPython.display import IFrame\n",
    "from IPython.display import display\n",
    "\n",
    "\n",
    "class PlayVideo(IFrame):\n",
    "  def __init__(self, id, source, page=1, width=400, height=300, **kwargs):\n",
    "    self.id = id\n",
    "    if source == 'Bilibili':\n",
    "      src = f'https://player.bilibili.com/player.html?bvid={id}&page={page}'\n",
    "    elif source == 'Osf':\n",
    "      src = f'https://mfr.ca-1.osf.io/render?url=https://osf.io/download/{id}/?direct%26mode=render'\n",
    "    super(PlayVideo, self).__init__(src, width, height, **kwargs)\n",
    "\n",
    "\n",
    "def display_videos(video_ids, W=400, H=300, fs=1):\n",
    "  tab_contents = []\n",
    "  for i, video_id in enumerate(video_ids):\n",
    "    out = widgets.Output()\n",
    "    with out:\n",
    "      if video_ids[i][0] == 'Youtube':\n",
    "        video = YouTubeVideo(id=video_ids[i][1], width=W,\n",
    "                             height=H, fs=fs, rel=0)\n",
    "        print(f'Video available at https://youtube.com/watch?v={video.id}')\n",
    "      else:\n",
    "        video = PlayVideo(id=video_ids[i][1], source=video_ids[i][0], width=W,\n",
    "                          height=H, fs=fs, autoplay=False)\n",
    "        if video_ids[i][0] == 'Bilibili':\n",
    "          print(f'Video available at https://www.bilibili.com/video/{video.id}')\n",
    "        elif video_ids[i][0] == 'Osf':\n",
    "          print(f'Video available at https://osf.io/{video.id}')\n",
    "      display(video)\n",
    "    tab_contents.append(out)\n",
    "  return tab_contents\n",
    "\n",
    "\n",
    "video_ids = [('Youtube', 'zqwIZJe47Bg'), ('Bilibili', 'BV1WN41127UX')]\n",
    "tab_contents = display_videos(video_ids, W=730, H=410)\n",
    "tabs = widgets.Tab()\n",
    "tabs.children = tab_contents\n",
    "for i in range(len(tab_contents)):\n",
    "  tabs.set_title(i, video_ids[i][0])\n",
    "display(tabs)"
   ]
  },
  {
   "cell_type": "markdown",
   "metadata": {},
   "source": [
    "##  Tutorial slides\n"
   ]
  },
  {
   "cell_type": "markdown",
   "metadata": {},
   "source": [
    " These are the slides for the videos in all tutorials today\n"
   ]
  },
  {
   "cell_type": "code",
   "execution_count": null,
   "metadata": {
    "tags": [
     "remove-input"
    ]
   },
   "outputs": [],
   "source": [
    "# @title Tutorial slides\n",
    "# @markdown These are the slides for the videos in all tutorials today\n",
    "from IPython.display import IFrame\n",
    "link_id = \"zyvwp\""
   ]
  },
  {
   "cell_type": "markdown",
   "metadata": {
    "execution": {},
    "tags": []
   },
   "source": [
    "# Activity: Identifying Basic Ingredients\n",
    "\n",
    "Take 10 minutes to discuss the advantages and disadvantages of utilizing the following basic ingredients to explore the research question discussed in Video 1:\n",
    "\n",
    "\n",
    "*   Ice core data for CO<sub>2</sub>\n",
    "\n",
    "*   Deep sea sediment data for sea surface temperature\n",
    "\n",
    "Can you think of alternative approaches that might work well?\n",
    "\n"
   ]
  },
  {
   "cell_type": "markdown",
   "metadata": {
    "execution": {}
   },
   "source": [
    "## Choosing Your Data\n",
    "<details>\n",
    "<summary>Click here for some pointers on how to choose your data</summary>\n",
    "\n",
    "Here are some questions to ask yourself when choosing the data to use:\n",
    "\n",
    "What physical processes must be included?\n",
    "<ul>\n",
    "  <li>You don't want an approach that contains less than the bare minimum. For some phenomena, we know what the bare minimum is. For others, more research is needed...</li>\n",
    "  <li>If you are unsure about what physical processes are needed, check the literature!</li></ul>\n",
    "\n",
    "What spatial and temporal resolution is necessary to capture the phenomenon?\n",
    "<ul>\n",
    "<li>GCMs can typically have a spatial resolution around 100km and time resolution of several hours.</li>\n",
    "<li> For phenomena that require higher resolution, you can either </li>\n",
    "<ul><li>Use a more idealized model that resolves smaller scales</li><li>Implement a parameterization of the sub-gridscale features within the GCM.</li>\n",
    "  </ul></ul>\n",
    "\n",
    "What restrictions do I have for computational resources?\n",
    "<ul>\n",
    "  <li>If you do not have access to large computational resources, you can still do research using smaller datasets or idealized models</li>\n",
    "  </ul>\n",
    "\n",
    "Am I interested in looking at a particular time period or a specific physical location?\n",
    "<ul>\n",
    "  <li>Reanalysis can be used for time periods after roughly the 1940s</li>\n",
    "  <li>Proxy data can be used for a wider historical and prehistorical data</li>\n",
    "  <li>Both reanalysis and proxy data can provide specific location information</li>\n",
    "  <li>Models can be designed to mimic the conditions of the location or time, for example:</li><ul>\n",
    "  <li>GCMs (General Circulation Models or Global Climate Models) can be set according to parameters that resemble the time period</li>\n",
    "  <li>Energy balance models can capture some aspects of average temperature in other time periods</li>\n",
    "  <li>Radiative-convective equilibrium models can capture some phenomena in the tropics</li>\n",
    "  <li>Quasi-geostrophic models can capture some phenomena in the mid-latitudes (between ~30-60 degrees)</li>\n",
    "  <li>And many more!</li>\n",
    "  </ul>\n",
    "  </ul>\n",
    "\n",
    "Am I interested in studying a feature of the phenomenon in isolation or interactions between multiple features?\n",
    "\n",
    "<ul>\n",
    "  <li>If you want to isolate a single aspect of the phenomenon, an idealized model may be more appropriate</li>\n",
    "  <li>If you want to study interactions between multiple features, either observational data or a more complex model may be appropriate</li>\n",
    "  </ul>\n",
    "\n",
    "Am I trying to...\n",
    "<ul> \n",
    "<li>explain the theory behind the phenomenon? An idealized model may be appropriate</li>\n",
    "<li>provide evidence to support or challenge a pre-existing hypothesis? Observational data or a more complex model may be appropriate</li>\n",
    "<li> document the features of the phenomenon? Observational data may be appropriate</li>\n",
    "</ul>\n",
    "\n",
    "For more information on observational data:  \n",
    "* [NCAR's climate data guide](https://climatedataguide.ucar.edu/climate-data)\n",
    "* [NCAR's guide on real-time weather data](https://weather.rap.ucar.edu/)\n",
    "* [NOAA's guide on hydrological survey data](https://nauticalcharts.noaa.gov/data/hydrographic-survey-data.html)\n",
    "* [USGS's guide on paleoclimate proxies](https://www.usgs.gov/programs/climate-research-and-development-program/science/paleoclimate-proxies)\n",
    "* [Pangeo](https://pangeo.io/) hosts a few open-access datasets\n",
    "\n",
    "For more information on numerical modeling: \n",
    "\n",
    "*    Atmospheric Model Hierarchies: Maher, P., Gerber, E. P., Medeiros, B., Merlis, T. M., Sherwood, S., Sheshadri, A., et al. (2019). Model hierarchies for understanding atmospheric circulation, Reviews of Geophysics, 57, 250– 280. https://doi.org/10.1029/2018RG000607\n",
    "*    Ocean Model Hierarchies:  Hsu, T.-Y., Primeau, F., & Magnusdottir, G. (2022). A hierarchy of global ocean models coupled to CESM1. Journal of Advances in Modeling Earth Systems, 14, e2021MS002979. https://doi.org/10.1029/2021MS002979 "
   ]
  }
 ],
 "metadata": {
  "colab": {
   "collapsed_sections": [],
   "include_colab_link": true,
   "name": "Projects_Tutorial3",
   "provenance": [
    {
     "file_id": "1WfT8oN22xywtecNriLptqi1SuGUSoIlc",
     "timestamp": 1680037587733
    }
   ],
   "toc_visible": true
  },
  "kernel": {
   "display_name": "Python 3",
   "language": "python",
   "name": "python3"
  },
  "kernelspec": {
   "display_name": "Python 3 (ipykernel)",
   "language": "python",
   "name": "python3"
  },
  "language_info": {
   "codemirror_mode": {
    "name": "ipython",
    "version": 3
   },
   "file_extension": ".py",
   "mimetype": "text/x-python",
   "name": "python",
   "nbconvert_exporter": "python",
   "pygments_lexer": "ipython3",
   "version": "3.10.8"
  }
 },
 "nbformat": 4,
 "nbformat_minor": 4
}