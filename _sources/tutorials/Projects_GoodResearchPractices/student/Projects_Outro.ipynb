{
 "cells": [
  {
   "cell_type": "markdown",
   "id": "0e51c3ed",
   "metadata": {},
   "source": [
    "# Outro"
   ]
  },
  {
   "cell_type": "markdown",
   "id": "32d634e1",
   "metadata": {},
   "source": [
    "Now you have learned about doing climate research and presenting your results. These include many equity concerns, including possible impacts on populations in many parts of the world."
   ]
  }
 ],
 "metadata": {
  "kernelspec": {
   "display_name": "Python 3 (ipykernel)",
   "language": "python",
   "name": "python3"
  },
  "language_info": {
   "codemirror_mode": {
    "name": "ipython",
    "version": 3
   },
   "file_extension": ".py",
   "mimetype": "text/x-python",
   "name": "python",
   "nbconvert_exporter": "python",
   "pygments_lexer": "ipython3",
   "version": "3.10.8"
  }
 },
 "nbformat": 4,
 "nbformat_minor": 5
}
