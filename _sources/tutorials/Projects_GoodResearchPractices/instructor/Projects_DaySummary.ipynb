{
 "cells": [
  {
   "cell_type": "markdown",
   "id": "39cf544a",
   "metadata": {},
   "source": [
    "# Day Summary"
   ]
  },
  {
   "cell_type": "markdown",
   "id": "3e482081",
   "metadata": {},
   "source": [
    "In this tutorial, you’ve learned about how to construct a research project. You now know how to:\n",
    "\n",
    "- Identify a phenomenon and ask a good research question\n",
    "- Do a literature review to determine what is already known about the phenomenon\n",
    "- Choose a dataset to address your research question\n",
    "- Form a good, testable hypothesis\n",
    "- Draft and implement data analysis\n",
    "- Interpret your results\n",
    "- Communicate your findings to a broader audience\n",
    "\n",
    "Feel free to refer back to this section as you work on your own research projects for reminders about the scientific process and how to avoid pitfalls.\n"
   ]
  }
 ],
 "metadata": {
  "kernelspec": {
   "display_name": "Python 3 (ipykernel)",
   "language": "python",
   "name": "python3"
  },
  "language_info": {
   "codemirror_mode": {
    "name": "ipython",
    "version": 3
   },
   "file_extension": ".py",
   "mimetype": "text/x-python",
   "name": "python",
   "nbconvert_exporter": "python",
   "pygments_lexer": "ipython3",
   "version": "3.10.8"
  }
 },
 "nbformat": 4,
 "nbformat_minor": 5
}