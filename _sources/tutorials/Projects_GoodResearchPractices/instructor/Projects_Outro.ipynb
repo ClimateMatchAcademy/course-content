{
 "cells": [
  {
   "cell_type": "markdown",
   "id": "0e51c3ed",
   "metadata": {
    "execution": {}
   },
   "source": [
    "# Outro"
   ]
  },
  {
   "cell_type": "markdown",
   "id": "32d634e1",
   "metadata": {
    "execution": {}
   },
   "source": [
    "Now you have learned about doing climate research and presenting your results. These include many equity concerns, including possible impacts on populations in many parts of the world. In the next section, you will learn about the socioeconomic implications of climate change according to the IPCC report."
   ]
  }
 ],
 "metadata": {
  "colab": {
   "collapsed_sections": [],
   "include_colab_link": true,
   "name": "Projects_Outro",
   "toc_visible": true
  },
  "kernel": {
   "display_name": "Python 3",
   "language": "python",
   "name": "python3"
  },
  "kernelspec": {
   "display_name": "Python 3 (ipykernel)",
   "language": "python",
   "name": "python3"
  },
  "language_info": {
   "codemirror_mode": {
    "name": "ipython",
    "version": 3
   },
   "file_extension": ".py",
   "mimetype": "text/x-python",
   "name": "python",
   "nbconvert_exporter": "python",
   "pygments_lexer": "ipython3",
   "version": "3.10.12"
  }
 },
 "nbformat": 4,
 "nbformat_minor": 5
}