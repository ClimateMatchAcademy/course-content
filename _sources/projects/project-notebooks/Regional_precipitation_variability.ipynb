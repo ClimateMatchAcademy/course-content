{
 "cells": [
 {
   "cell_type": "markdown",
   "metadata": {
    "execution": {}
   },
   "source": [
    "[![Open In Colab](https://colab.research.google.com/assets/colab-badge.svg)](https://colab.research.google.com/github/ClimateMatchAcademy/course-content/blob/main/projects/project-notebooks/Regional_precipitation_variability.ipynb) &nbsp; <a href=\"https://kaggle.com/kernels/welcome?src=https://raw.githubusercontent.com/ClimateMatchAcademy/course-content/main/projects/project-notebooks/Regional_precipitation_variability.ipynb\" target=\"_parent\"><img src=\"https://kaggle.com/static/images/open-in-kaggle.svg\" alt=\"Open in Kaggle\"/></a>"
   ]
  },
  {
   "cell_type": "markdown",
   "metadata": {
    "id": "avjFjFXwWqyW"
   },
   "source": [
    "# Regional Precipitation Variability and Extreme Events\n",
    "\n",
    "**Content creators:** Laura Paccini, Raphael Rocha\n",
    "\n",
    "**Content reviewers:** Marguerite Brown, Ohad Zivan, Jenna Pearson, Chi Zhang\n",
    "\n",
    "**Content editors:** Zane Mitrevica, Natalie Steinemann, Douglas Rao, Jenna Pearson, Chi Zhang, Ohad Zivan\n",
    "\n",
    "**Production editors:** Wesley Banfield, Jenna Pearson, Chi Zhang, Ohad Zivan\n",
    "\n",
    "**Our 2023 Sponsors:** NASA TOPS and Google DeepMind"
   ]
  },
  {
   "cell_type": "code",
   "execution_count": null,
   "metadata": {
    "id": "umnBeSiJeqYo",
    "tags": []
   },
   "outputs": [],
   "source": [
    "# @title Project Background\n",
    "\n",
    "from ipywidgets import widgets\n",
    "from IPython.display import YouTubeVideo\n",
    "from IPython.display import IFrame\n",
    "from IPython.display import display\n",
    "\n",
    "\n",
    "class PlayVideo(IFrame):\n",
    "    def __init__(self, id, source, page=1, width=400, height=300, **kwargs):\n",
    "        self.id = id\n",
    "        if source == \"Bilibili\":\n",
    "            src = f\"https://player.bilibili.com/player.html?bvid={id}&page={page}\"\n",
    "        elif source == \"Osf\":\n",
    "            src = f\"https://mfr.ca-1.osf.io/render?url=https://osf.io/download/{id}/?direct%26mode=render\"\n",
    "        super(PlayVideo, self).__init__(src, width, height, **kwargs)\n",
    "\n",
    "\n",
    "def display_videos(video_ids, W=400, H=300, fs=1):\n",
    "    tab_contents = []\n",
    "    for i, video_id in enumerate(video_ids):\n",
    "        out = widgets.Output()\n",
    "        with out:\n",
    "            if video_ids[i][0] == \"Youtube\":\n",
    "                video = YouTubeVideo(\n",
    "                    id=video_ids[i][1], width=W, height=H, fs=fs, rel=0\n",
    "                )\n",
    "                print(f\"Video available at https://youtube.com/watch?v={video.id}\")\n",
    "            else:\n",
    "                video = PlayVideo(\n",
    "                    id=video_ids[i][1],\n",
    "                    source=video_ids[i][0],\n",
    "                    width=W,\n",
    "                    height=H,\n",
    "                    fs=fs,\n",
    "                    autoplay=False,\n",
    "                )\n",
    "                if video_ids[i][0] == \"Bilibili\":\n",
    "                    print(\n",
    "                        f\"Video available at https://www.bilibili.com/video/{video.id}\"\n",
    "                    )\n",
    "                elif video_ids[i][0] == \"Osf\":\n",
    "                    print(f\"Video available at https://osf.io/{video.id}\")\n",
    "            display(video)\n",
    "        tab_contents.append(out)\n",
    "    return tab_contents\n",
    "\n",
    "\n",
    "video_ids = [('Youtube', '49XHRe61LI8'), ('Bilibili', 'BV1Au411L7fo')]\n",
    "tab_contents = display_videos(video_ids, W=730, H=410)\n",
    "tabs = widgets.Tab()\n",
    "tabs.children = tab_contents\n",
    "for i in range(len(tab_contents)):\n",
    "    tabs.set_title(i, video_ids[i][0])\n",
    "display(tabs)"
   ]
  },
  {
   "cell_type": "code",
   "execution_count": null,
   "metadata": {
    "tags": []
   },
   "outputs": [],
   "source": [
    "# @title Tutorial slides\n",
    "# @markdown These are the slides for the videos in all tutorials today\n",
    "from IPython.display import IFrame\n",
    "link_id = \"a53b4\""
   ]
  },
  {
   "cell_type": "markdown",
   "metadata": {
    "id": "DZbqRlQKXhnc"
   },
   "source": [
    "**In this project**, you will explore rain gauge and satellite data from CHIRPS and NOAA Terrestrial Climate Data Records NDVI datasets to extract rain estimates and land surface reflectance, respectively. This data will enable identification of extreme events in your region of interest. Besides investigating the relationships between these variables, you are encouraged to study the impact of extreme events on changes in vegetation."
   ]
  },
  {
   "cell_type": "markdown",
   "metadata": {
    "id": "adR8NLN_ZsZL"
   },
   "source": [
    "# Project Template\n",
    "![Project Template](https://raw.githubusercontent.com/ClimateMatchAcademy/course-content/main/projects/template-images/precipitation_template_map.svg)\n",
    "\n",
    "*Note: The dashed boxes are socio-economic questions.*"
   ]
  },
  {
   "cell_type": "markdown",
   "metadata": {
    "id": "-uS_n9-3YJrZ"
   },
   "source": [
    "# Data Exploration Notebook\n",
    "## Project Setup"
   ]
  },
  {
   "cell_type": "code",
   "execution_count": null,
   "metadata": {
    "id": "9nDg6MeVY1CX",
    "tags": []
   },
   "outputs": [],
   "source": [
    "# imports\n",
    "\n",
    "import numpy as np\n",
    "import matplotlib.pyplot as plt\n",
    "import xarray as xr\n",
    "import pooch\n",
    "import os\n",
    "import tempfile\n",
    "import pandas as pd\n",
    "import s3fs\n",
    "import boto3\n",
    "import botocore\n",
    "import datetime"
   ]
  },
  {
   "cell_type": "code",
   "execution_count": null,
   "metadata": {
    "tags": []
   },
   "outputs": [],
   "source": [
    "# helper functions\n",
    "\n",
    "def pooch_load(filelocation=None,filename=None,processor=None):\n",
    "    shared_location='/home/jovyan/shared/Data/Projects/Precipitation' # this is different for each day\n",
    "    user_temp_cache=tempfile.gettempdir()\n",
    "    \n",
    "    if os.path.exists(os.path.join(shared_location,filename)):\n",
    "        file = os.path.join(shared_location,filename)\n",
    "    else:\n",
    "        file = pooch.retrieve(filelocation,known_hash=None,fname=os.path.join(user_temp_cache,filename),processor=processor)\n",
    "\n",
    "    return file"
   ]
  },
  {
   "cell_type": "markdown",
   "metadata": {
    "id": "W43m6TQBZrpe"
   },
   "source": [
    "## CHIRPS Version 2.0 Global Daily 0.25°\n",
    "\n",
    "The Climate Hazards Group InfraRed Precipitation with Station data (CHIRPS) is a high-resolution precipitation dataset developed by the Climate Hazards Group at the University of California, Santa Barbara. It combines satellite-derived precipitation estimates with ground-based station data to provide gridded precipitation data at a quasi-global scale between 50°S-50°N. \n",
    "\n",
    "Read more about CHIRPS here:\n",
    "\n",
    "* [The climate hazards infrared precipitation with stations—a new environmental record for monitoring extremes](https://www.nature.com/articles/sdata201566)\n",
    "\n",
    "* [Climate Hazard Group CHG Wiki](https://wiki.chc.ucsb.edu/CHIRPS_FAQ)\n",
    "\n",
    "* [Data storage location](https://data.chc.ucsb.edu/products/CHIRPS-2.0/global_daily/netcdf/p25/)"
   ]
  },
  {
   "cell_type": "markdown",
   "metadata": {
    "id": "tKj2wyLIrmMQ"
   },
   "source": [
    "### Indices for Extreme Events\n",
    "The Expert Team on Climate Change Detection and Indices ([ETCCDI]( http://etccdi.pacificclimate.org/list_27_indices.shtml)) has defined various indices that focus on different aspects such as duration or intensity of extreme events. The following functions provide examples of how to compute indices for each category. You can modify these functions to suit your specific needs or create your own custom functions. Here are some tips you can use:\n",
    "\n",
    "- Most of the indices require daily data, so in order to select a specific season you can just use xarray to subset the data. Example:\n",
    "\n",
    "`daily_precip_DJF = data_chirps.sel(time=data_chirps['time.season']=='DJF')`\n",
    "\n",
    "- A common threshold for a wet event is precipitation greater than or equal to 1mm/day, while a dry (or non-precipitating) event is defined as precipitation less than 1mm/day.\n",
    "- Some of the indices are based on percentiles. You can define a base period climatology to calculate percentile thresholds, such as the 5th, 10th, 90th, and 95th percentiles, to determine extreme events."
   ]
  },
  {
   "cell_type": "code",
   "execution_count": null,
   "metadata": {
    "id": "xPE5u-H0hZVS",
    "tags": []
   },
   "outputs": [],
   "source": [
    "def calculate_sdii_index(data):\n",
    "    \"\"\"\n",
    "    This function calculates the Simple Daily Intensity Index (SDII), which\n",
    "    represents the average amount of precipitation on wet days (days with\n",
    "    precipitation greater than or equal to 1mm) for each year in the input data.\n",
    "    The input data should be a Dataset with time coordinates, and the function\n",
    "    returns a Dataset with the SDII index values for each year in the data.\n",
    "    ----------\n",
    "    - data (xarray.Dataset): Input dataset containing daily precipitation data.\n",
    "    - period (str, optional): Period for which to calculate the SDII index.\n",
    "\n",
    "    Returns:\n",
    "    -------\n",
    "        - xarray.Dataset: Dataset containing the SDII index for the given period.\n",
    "    \"\"\"\n",
    "    # calculate daily precipitation amount on wet days (PR >= 1mm)\n",
    "    wet_days = data.where(data >= 1)\n",
    "\n",
    "    # group by year and calculate the sum precipitation on wet days\n",
    "    sum_wet_days_grouped = wet_days.groupby(\"time.year\").sum(dim=\"time\")\n",
    "\n",
    "    # count number of wet days for each time step\n",
    "    w = wet_days.groupby(\"time.year\").count(dim=\"time\")\n",
    "\n",
    "    # divide by the number of wet days to get SDII index\n",
    "    sdii = sum_wet_days_grouped / w\n",
    "\n",
    "    return sdii"
   ]
  },
  {
   "cell_type": "code",
   "execution_count": null,
   "metadata": {
    "id": "1EKC69d76nZg",
    "tags": []
   },
   "outputs": [],
   "source": [
    "def calculate_cdd_index(data):\n",
    "    \"\"\"\n",
    "    This function takes a daily precipitation dataset as input and calculates\n",
    "    the Consecutive Dry Days (CDD) index, which represents the longest sequence\n",
    "    of consecutive days with precipitation less than 1mm. The input data should\n",
    "    be a DataArray with time coordinates, and the function returns a DataArray\n",
    "    with the CDD values for each unique year in the input data.\n",
    "    Parameters:\n",
    "    ----------\n",
    "      - data (xarray.DataArray): The input daily precipitation data should be\n",
    "      a dataset (eg. for chirps_data the SataArray would be chirps_data.precip)\n",
    "    Returns:\n",
    "    -------\n",
    "      - cdd (xarray.DataArray): The calculated CDD index\n",
    "\n",
    "    \"\"\"\n",
    "    # create a boolean array for dry days (PR < 1mm)\n",
    "    dry_days = data < 1\n",
    "    # initialize CDD array\n",
    "    cdd = np.zeros(len(data.groupby(\"time.year\")))\n",
    "    # get unique years as a list\n",
    "    unique_years = list(data.groupby(\"time.year\").groups.keys())\n",
    "    # iterate for each day\n",
    "    for i, year in enumerate(unique_years):\n",
    "        consecutive_trues = []\n",
    "        current_count = 0\n",
    "        for day in dry_days.sel(time=data[\"time.year\"] == year).values:\n",
    "            if day:\n",
    "                current_count += 1\n",
    "            else:\n",
    "                if current_count > 0:\n",
    "                    consecutive_trues.append(current_count)\n",
    "                    current_count = 0\n",
    "        if current_count > 0:\n",
    "            consecutive_trues.append(current_count)\n",
    "        # print(consecutive_trues)\n",
    "        # CDD is the largest number of consecutive days\n",
    "        cdd[i] = np.max(consecutive_trues)\n",
    "    # transform to dataset\n",
    "    cdd_da = xr.DataArray(cdd, coords={\"year\": unique_years}, dims=\"year\")\n",
    "    return cdd_da"
   ]
  },
  {
   "cell_type": "code",
   "execution_count": null,
   "metadata": {
    "id": "rXy1foR4DuBY",
    "tags": []
   },
   "outputs": [],
   "source": [
    "# code to retrieve and load the data\n",
    "\n",
    "years=range(1981,2024) # the years you want. we want 1981 till 2023\n",
    "file_paths=['https://data.chc.ucsb.edu/products/CHIRPS-2.0/global_daily/netcdf/p25/chirps-v2.0.'+str(year)+'.days_p25.nc' for year in years] # the format of the files\n",
    "filenames=['chirps-v2.0.'+str(year)+'.days_p25.nc' for year in years] # the format of the files\n",
    "\n",
    "downloaded_files=[ pooch_load(fpath,fname) for (fpath,fname) in zip(file_paths,filenames)] # download all of the files\n",
    "\n",
    "#### open data as xarray\n",
    "chirps_data = xr.open_mfdataset(\n",
    "    downloaded_files, combine=\"by_coords\"\n",
    ")  # open the files as one dataset"
   ]
  },
  {
   "cell_type": "markdown",
   "metadata": {
    "id": "9UbbKMMQbI0C"
   },
   "source": [
    "We can now visualize the content of the dataset.\n",
    "\n"
   ]
  },
  {
   "cell_type": "code",
   "execution_count": null,
   "metadata": {
    "colab": {
     "base_uri": "https://localhost:8080/",
     "height": 270
    },
    "id": "BlAQNu898z5s",
    "outputId": "6c6260ce-fd88-4195-a327-6f9426991051",
    "tags": []
   },
   "outputs": [],
   "source": [
    "# code to print the shape, array names, etc of the dataset\n",
    "chirps_data"
   ]
  },
  {
   "cell_type": "markdown",
   "metadata": {
    "id": "pSUjOHGqFPD7"
   },
   "source": [
    "## NOAA Fundamental Climate Data Records (FCDR) AVHRR Land Bundle - Surface Reflectance and Normalized Difference Vegetation Index\n",
    "\n",
    "As we learned in the W1D3 tutorials, all the National Atmospheric and Oceanic Administration Climate Data Record (NOAA-CDR) datasets are available both at NOAA National Centers for Environmental Information (NCEI) and commercial cloud platforms. See the link [here](https://registry.opendata.aws/noaa-cdr-terrestrial/). We are accessing the data directly via the [Amazon Web Service (AWS) cloud storage space](https://noaa-cdr-ndvi-pds.s3.amazonaws.com/index.html).\n",
    "\n",
    "For this project we recommend using the Normalized Difference Vegetation Index (NDVI). It is one of the most commonly used remotely sensed indices. It measures the \"greeness\" of vegetation, and is useful in understanding vegetation density and assessing changes in plant health. For example, NDVI can be used to study the impacts of droughts, heatwaves, and insect infestations on plants covering Earth's surface. A good overview of this index from this particular sensor can be accessed [here](https://digitalcommons.unl.edu/nasapub/217/).\n",
    "\n",
    "Recall what we learned in W1D3 Tutorial 3, the data files on AWS are named systematically:\n",
    "\n",
    "> Sensor name: `AVHRR`  \n",
    "> Product category: `Land`  \n",
    "> Product version: `v005`  \n",
    "> Product code: `AVH13C1`  \n",
    "> Satellite platform: `NOAA-07`  \n",
    "> Date of the data: `19810624`  \n",
    "> Processing time: `c20170610041337` (*This will change for each file based on when the file was processed*)  \n",
    "> File format: `.nc` (*netCDR-4 format*)\n",
    "\n",
    "In other words, if we are looking for the data of a specific day, we can easily locate where the file might be. \n",
    "\n",
    "For example, if we want to find the AVHRR data for the day of *2002-03-12 (or March 12, 2002)*, you can use:\n",
    "\n",
    "`s3://noaa-cdr-ndvi-pds/data/2002/AVHRR-Land_v005_AVH13C1_*_20020312_c*.nc`\n",
    "\n",
    "The reasaon that we put `*` in the above directory is because we are not sure about what satellite platform this data is from and when the data was processed. The `*` is called a **wildcard**, and is used because we want *all* the files that contain our specific criteria, but do not want to have to specify all the other pieces of the filename we are not sure about yet. It should return all the data satisfying that initial criteria and you can refine further once you see what is available. Essentially, this first step helps to narrow down the data search. You can then use this to create datasets from the timeframe of your choosing.\n"
   ]
  },
  {
   "cell_type": "code",
   "execution_count": null,
   "metadata": {
    "tags": []
   },
   "outputs": [],
   "source": [
    "# we can use the data from W1D3 tutorial 3\n",
    "# to access the NDVI data from AWS S3 bucket, we first need to connect to s3 bucket\n",
    "\n",
    "fs = s3fs.S3FileSystem(anon=True)\n",
    "client = boto3.client('s3', config=botocore.client.Config(signature_version=botocore.UNSIGNED)) # initialize aws s3 bucket client\n",
    "date_sel = datetime.datetime(2001,1,1,0) \n",
    "file_location = fs.glob('s3://noaa-cdr-ndvi-pds/data/'+\n",
    "                        date_sel.strftime('%Y')+'/AVHRR-Land_v005_AVH13C1_*_c*.nc') # the files we want for a whole year\n",
    "files_for_pooch=[pooch_load('http://s3.amazonaws.com/'+file,file) for file in file_location]\n",
    "\n",
    "ds = xr.open_mfdataset(files_for_pooch, combine=\"by_coords\")  # open the file\n",
    "ds"
   ]
  },
  {
   "cell_type": "markdown",
   "metadata": {},
   "source": [
    "# Alternative NDVI source: MODIS/Terra Vegetation Indices (MOD13C2) Version 6.1 L3 Global 0.05° CMG\n",
    "\n",
    "Global MODIS (Moderate Resolution Imaging Spectroradiometer) vegetation indices are designed to provide consistent spatial and temporal comparisons of vegetation conditions. Blue, red, and near-infrared reflectances, centered at 469-nanometers, 645-nanometers, and 858-nanometers, respectively, are used to determine the MODIS vegetation indices.\n",
    "\n",
    "The MODIS Normalized Difference Vegetation Index (NDVI) complements NOAA's Advanced Very High Resolution Radiometer (AVHRR) NDVI products providing continuity for time series applications over this rich historical archive.\n",
    "\n",
    "[Global MOD13C2 data](https://ladsweb.modaps.eosdis.nasa.gov/missions-and-measurements/products/MOD13C2#overview) are cloud-free spatial composites of the gridded 16-day 1-kilometer MOD13C2A2, and are provided as a level-3 product projected on a 0.05 degree (5600-meter) geographic Climate Modeling Grid (CMG).\n",
    "These files have also been pre-processed to match the grid of the precipitation data."
   ]
  },
  {
   "cell_type": "code",
   "execution_count": null,
   "metadata": {
    "tags": []
   },
   "outputs": [],
   "source": [
    "years=range(2000,2024) # the NDVI data we have available \n",
    "file_paths=['MODIS/NDVI_'+str(year)+'.nc' for year in years] # the format of the files\n",
    "filenames=['MODIS/NDVI_'+str(year)+'.nc'  for year in years] # the format of the files\n",
    "\n",
    "downloaded_files=[ pooch_load(fpath,fname) for (fpath,fname) in zip(file_paths,filenames)] # download all of the files\n",
    "# load Data\n",
    "modis_data = xr.open_mfdataset(downloaded_files,combine='by_coords')\n",
    "modis_data"
   ]
  },
  {
   "cell_type": "markdown",
   "metadata": {
    "id": "GHPGv6DWBBBX"
   },
   "source": [
    "<a name=\"dataset2-1\"></a>\n",
    "## Worldbank Data: Cereal Production\n",
    "\n",
    "Cereal production is a crucial component of global agriculture and food security. The [World Bank](https://databank.worldbank.org/metadataglossary/world-development-indicators/series/AG.PRD.CREL.MT) collects and provides data on cereal production, which includes crops such as wheat, rice, maize, barley, oats, rye, sorghum, millet, and mixed grains. The data covers various indicators such as production quantity, area harvested, yield, and production value.\n",
    "\n",
    "The World Bank also collects data on land under cereals production, which refers to the area of land that is being used to grow cereal crops. This information can be valuable for assessing the productivity and efficiency of cereal production systems in different regions, as well as identifying potential areas for improvement. Overall, the World Bank's data on cereal production and land under cereals production is an important resource for policymakers, researchers, and other stakeholders who are interested in understanding global trends in agriculture and food security."
   ]
  },
  {
   "cell_type": "code",
   "execution_count": null,
   "metadata": {
    "colab": {
     "base_uri": "https://localhost:8080/",
     "height": 612
    },
    "id": "qVy0zpxFBLue",
    "outputId": "c757c926-f19f-4b96-cbbb-d5ed4ea752d7",
    "tags": []
   },
   "outputs": [],
   "source": [
    "# code to retrieve and load the data\n",
    "filename_cereal = 'data_cereal_land.csv'\n",
    "url_cereal = 'https://raw.githubusercontent.com/Sshamekh/Heatwave/f85f43997e3d6ae61e5d729bf77cfcc188fbf2fd/data_cereal_land.csv'\n",
    "ds_cereal_land = pd.read_csv(pooch_load(url_cereal,filename_cereal))\n",
    "ds_cereal_land.head() "
   ]
  },
  {
   "cell_type": "code",
   "execution_count": null,
   "metadata": {
    "colab": {
     "base_uri": "https://localhost:8080/"
    },
    "id": "liZJJxW3BYx4",
    "outputId": "2a0a20c0-8d71-461b-e366-038028d27a71",
    "tags": []
   },
   "outputs": [],
   "source": [
    "# example\n",
    "ds_cereal_land[(ds_cereal_land[\"Country Name\"] == \"Brazil\")].reset_index(\n",
    "    drop=True\n",
    ").iloc[0].transpose()"
   ]
  },
  {
   "cell_type": "markdown",
   "metadata": {
    "id": "fKb2AhYbmmWc"
   },
   "source": [
    "\n",
    "Now you are all set to address the questions you are interested in! Just be mindful of the specific coordinate names to avoid any issues. \n",
    "\n",
    "You can use the provided functions as examples to compute various indices for extreme events based on duration or intensity. Don't hesitate to modify them according to your specific needs or create your own custom functions.\n",
    "\n",
    "\n",
    "Happy exploring and analyzing precipitation variability and extreme events in your project!\n"
   ]
  },
  {
   "cell_type": "markdown",
   "metadata": {
    "id": "e5KKmsTujjAg"
   },
   "source": [
    "# Further Reading\n",
    "\n",
    "- Anyamba, A. and Tucker, C.J., 2012. Historical perspective of AVHRR NDVI and vegetation drought monitoring. Remote sensing of drought: innovative monitoring approaches, 23, pp.20.[https://digitalcommons.unl.edu/nasapub/217/](https://digitalcommons.unl.edu/nasapub/217/)\n",
    "- Zhang, X., Alexander, L., Hegerl, G.C., Jones, P., Tank, A.K., Peterson, T.C., Trewin, B. and Zwiers, F.W., 2011. Indices for monitoring changes in extremes based on daily temperature and precipitation data. Wiley Interdisciplinary Reviews: Climate Change, 2(6), pp.851-870.\n",
    "- Schultz, P. A., and M. S. Halpert. \"Global correlation of temperature, NDVI and precipitation.\" Advances in Space Research 13.5 (1993): 277-280. \n",
    "- Seneviratne, S.I. et al., 2021: Weather and Climate Extreme Events in a Changing Climate. In Climate Change 2021: The Physical Science Basis. Contribution of Working Group I to the Sixth Assessment Report of the Intergovernmental Panel on Climate Change [Masson-Delmotte, V. et al. (eds.)]. Cambridge University Press, Cambridge, United Kingdom and New York, NY, USA, pp. 1513–1766, https://www.ipcc.ch/report/ar6/wg1/chapter/chapter-11/\n",
    "- IPCC, 2021: Annex VI: Climatic Impact-driver and Extreme Indices [Gutiérrez J.M. et al.(eds.)]. In Climate Change 2021: The Physical Science Basis. Contribution of Working Group I to the Sixth Assessment Report of the Intergovernmental Panel on Climate Change [Masson-Delmotte, V. et al. (eds.)]. Cambridge University Press, Cambridge, United Kingdom and New York, NY, USA, pp. 2205–2214, https://www.ipcc.ch/report/ar6/wg1/downloads/report/IPCC_AR6_WGI_AnnexVI.pdf"
   ]
  }
 ],
 "metadata": {
  "colab": {
   "provenance": [],
   "toc_visible": true
  },
  "kernelspec": {
   "display_name": "Python 3 (ipykernel)",
   "language": "python",
   "name": "python3"
  },
  "language_info": {
   "codemirror_mode": {
    "name": "ipython",
    "version": 3
   },
   "file_extension": ".py",
   "mimetype": "text/x-python",
   "name": "python",
   "nbconvert_exporter": "python",
   "pygments_lexer": "ipython3",
   "version": "3.10.11"
  }
 },
 "nbformat": 4,
 "nbformat_minor": 4
}
