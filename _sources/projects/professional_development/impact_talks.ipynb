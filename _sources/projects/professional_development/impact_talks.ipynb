{
 "cells": [
  {
   "attachments": {},
   "cell_type": "markdown",
   "metadata": {},
   "source": [
    "# Impact Talks"
   ]
  },
  {
   "attachments": {},
   "cell_type": "markdown",
   "metadata": {},
   "source": [
    "How we do research or work on projects can be as important or more than the research and projects themselves. “Impact talks” were created to put an emphasis on the “**how**” and its implications when it comes to Climate Science and the current Climate crisis. \n",
    "\n",
    "In this activity, you will listen to four pre-recorded ~15 minutes talks and interviews with practitioners on selected topics followed by live discussion within student project groups, for a total time of 30 minutes (~15’ videos + ~15’ discussion).\n",
    "\n",
    "These interviews with practitioners in the field are designed to spark reflections and discussions among students about important topics that may not always be on the forefront of everyone's mind when thinking about Climate Science and Climate Change. "
   ]
  },
  {
   "attachments": {},
   "cell_type": "markdown",
   "metadata": {},
   "source": [
    "## Guidance for discussions\n",
    "\n",
    "All talks will be watched in the first or the last half hour of the respective project slots and will be followed by a discussion within the project groups. \n",
    "* These discussions will be an opportunity for students not only to delve deeper into the topics, but also to hone their leadership skills - all/most will get to lead the discussion, whether leading “from the front of from behind” \n",
    "* For each talk, please decide during “pod introduction” who will be the two leaders: \n",
    "    * One student/leader will be tasked with leading the discussion \"from the front\" by \n",
    "        (1) reading out loud and putting on the chat the prompt being addressed, \n",
    "        (2) answering discussion prompts at first until the group warms up and others wish to answer or offer thoughts first, and \n",
    "        (3) encouraging everyone in the group to participate in the best way that suits each person(*). \n",
    "    * One student/leader will be tasked with leading the discussion \"from behind\" by \n",
    "        (1) keeping an eye on who has the microphone and respectfully encouraging all to share it, \n",
    "        (2) asking along the way of answering the prompt if any others wish to contribute thoughts whether speaking or via chat/text (*), and \n",
    "        (3) keeping track of time (**).\n",
    "\n",
    "*Remember that not everyone wishes to contribute to discussions in the same manner. Not all may wish to speak, but we want to provide space such that all have the opportunity to participate as they wish. Consider giving a few minutes to answer prompts individually and then share. Some may wish to draw or text instead of speaking, etc. and ideally both assigned leaders in the group can foster all kinds of participation.\n",
    "\n",
    "**You will have 30 minutes to both watch the video and start engaging in discussion; at least one assigned leader will keep track of time. This doesn’t mean all the prompts will be answered, but rather they can all get group and individual reflections started.\n",
    "\n",
    "Below you will see the title of four (4) themes, corresponding videos and discussion prompts."
   ]
  },
  {
   "attachments": {},
   "cell_type": "markdown",
   "metadata": {},
   "source": [
    "## Climate Justice\n",
    "\n",
    "### What is Climate Justice?\n",
    "\n",
    "Climate justice is about economic equity, security and gender equality and allows us to address climate issues from deeper and more interconnected perspectives.\n",
    "\n",
    "Ideally, we would find a balance between the countries of the Global North that emit more greenhouse gasses and those of the Global South that are more vulnerable to climate change. With this vision in mind, climate justice calls for climate action on three fronts: reduction of greenhouse gas emissions, adaptation to climate change and payment for the losses and damages that it is already producing.\n",
    "\n",
    "It is important to understand that climate justice will only be complete when it encompasses these three items. That is, when there is new and additional support and financing for vulnerable communities, not only for loss and damage, but also for adaptation and mitigation.\n",
    "\n",
    "### About the speaker\n",
    "José’s keywords: mitigation, climate change, human rights, and legal consultant\n",
    "\n",
    "On the web: [José's LinkedIn](https://www.linkedin.com/in/jdrodorue/) & [World's Youth for Climate Justice](https://www.wy4cj.org/latin-america)\n",
    "\n",
    "Recent interviews, talks, & presentation: [Plataforma Boliviana Frente al Cambio Climático: COP27 (Spanish)](https://www.facebook.com/cambioclimaticobolivia/videos/1534658383661019/) & [Escazú Agreement and Biodiversity Goals (Spanish)](https://www.youtube.com/watch?v=IgiiH5_7GA4)"
   ]
  },
  {
   "attachments": {},
   "cell_type": "markdown",
   "metadata": {},
   "source": [
    "### Video featuring José Daniel Rodríguez-Orúe"
   ]
  },
  {
   "cell_type": "code",
   "execution_count": null,
   "metadata": {
    "id": "umnBeSiJeqYo",
    "tags": []
   },
   "outputs": [],
   "source": [
    "# @title featuring José Daniel Rodríguez-Orúe\n",
    "\n",
    "from ipywidgets import widgets\n",
    "from IPython.display import YouTubeVideo\n",
    "from IPython.display import IFrame\n",
    "from IPython.display import display\n",
    "\n",
    "\n",
    "class PlayVideo(IFrame):\n",
    "  def __init__(self, id, source, page=1, width=400, height=300, **kwargs):\n",
    "    self.id = id\n",
    "    if source == 'Bilibili':\n",
    "      src = f'https://player.bilibili.com/player.html?bvid={id}&page={page}'\n",
    "    elif source == 'Osf':\n",
    "      src = f'https://mfr.ca-1.osf.io/render?url=https://osf.io/download/{id}/?direct%26mode=render'\n",
    "    super(PlayVideo, self).__init__(src, width, height, **kwargs)\n",
    "\n",
    "\n",
    "def display_videos(video_ids, W=400, H=300, fs=1):\n",
    "  tab_contents = []\n",
    "  for i, video_id in enumerate(video_ids):\n",
    "    out = widgets.Output()\n",
    "    with out:\n",
    "      if video_ids[i][0] == 'Youtube':\n",
    "        video = YouTubeVideo(id=video_ids[i][1], width=W,\n",
    "                             height=H, fs=fs, rel=0)\n",
    "        print(f'Video available at https://youtube.com/watch?v={video.id}')\n",
    "      else:\n",
    "        video = PlayVideo(id=video_ids[i][1], source=video_ids[i][0], width=W,\n",
    "                          height=H, fs=fs, autoplay=False)\n",
    "        if video_ids[i][0] == 'Bilibili':\n",
    "          print(f'Video available at https://www.bilibili.com/video/{video.id}')\n",
    "        elif video_ids[i][0] == 'Osf':\n",
    "          print(f'Video available at https://osf.io/{video.id}')\n",
    "      display(video)\n",
    "    tab_contents.append(out)\n",
    "  return tab_contents\n",
    "\n",
    "\n",
    "video_ids = [('Youtube', 'JoPEpqUxMBU'), ('Bilibili', 'BV1jW4y1Z7zb')]\n",
    "tab_contents = display_videos(video_ids, W=730, H=410)\n",
    "tabs = widgets.Tab()\n",
    "tabs.children = tab_contents\n",
    "for i in range(len(tab_contents)):\n",
    "  tabs.set_title(i, video_ids[i][0])\n",
    "display(tabs)"
   ]
  },
  {
   "attachments": {},
   "cell_type": "markdown",
   "metadata": {},
   "source": [
    "\n",
    "### Discussion prompts\n",
    "\n",
    "* Veronica starts off the video sharing how she defines Climate justice. How do you view it? What might be advantages or disadvantages of Veronica’s definition?\n",
    "* José talks about how climate change widens and deepens existing inequalities within and outside of political boundaries. Have you observed examples of this wider and deeper gap in your region or community? What are some examples of how to address this. These can be examples you have seen in effect or something that has not yet been done but that you could see helping.\n",
    "* As you can see, climate justice is a scientific, political, socio economic and legal challenge impacting everyone. Sometimes, awareness starts a snowball effect in addressing injustices, sometimes it takes more than that. From the video and discussion in your group, what is one small action you might implement to contribute to climate justice? "
   ]
  },
  {
   "attachments": {},
   "cell_type": "markdown",
   "metadata": {},
   "source": [
    "## Equity in Climate and Climate Science"
   ]
  },
  {
   "attachments": {},
   "cell_type": "markdown",
   "metadata": {},
   "source": [
    "### What is Equity in Climate?\n",
    "\n",
    "Equity is a broad topic that centers on recognizing not all people have the same needs and not all people face the same barriers. Equity is a process, a way of doing, the “how”.\n",
    "\n",
    "“Equity is achieved by eliminating structural barriers resulting from historical and present-day inequities and meeting individuals', groups', and organizations' unique needs. - Lily Zheng , DEI Deconstructed”  \n",
    "\n",
    "### Interview summary & highlights\n",
    "\n",
    "In this short video, speaker Juliana Arbeláez tells us about her experience with equity from the lens of a climate scientist, advocate, and science communicator. She shares her view and definition of “equity” and how it plays a role in her career, professional work and generally in the things she does. She shares about an initiative she leads called “Climatewiki”, which is an incredible platform used to share in Spanish about the impact of climate change, in particular from the latinamerican lens. Additionally, Juliana shares inequities she has found as a climate scientists, steps she hs takin to address this, and how we might take positive action to support communities that have been impacted negatively by bad/inequitable practices such as harassment, sexual harassment, and others that happen in climate science. Lastly, Juliana shares some takeaways and what you could do to support equity in climate science and/or climate solutions from an equity lens.\n",
    "\n",
    "### About the speaker \n",
    "\n",
    "Juliana’s keywords: mitigation, climate change, water, and science inclusivity\n",
    "\n",
    "On the web: [Juliana's Website](http://www.julianaarbelaez.com/) &  [Juliana's Instagram](https://www.instagram.com/climatewiki)\n",
    "\n",
    "Recent interviews, talks, & presentations: [Three concepts of Climate Change (Spanish)](https://www.instagram.com/reel/Cr_ubmGgi4i/?utm_source=ig_web_copy_link&igshid=MzRlODBiNWFlZA==)"
   ]
  },
  {
   "attachments": {},
   "cell_type": "markdown",
   "metadata": {},
   "source": [
    "### Video featuring Juliana Arbeláez "
   ]
  },
  {
   "cell_type": "code",
   "execution_count": null,
   "metadata": {
    "id": "umnBeSiJeqYo",
    "tags": []
   },
   "outputs": [],
   "source": [
    "# @title featuring Juliana Arbeláez \n",
    "\n",
    "from ipywidgets import widgets\n",
    "from IPython.display import YouTubeVideo\n",
    "from IPython.display import IFrame\n",
    "from IPython.display import display\n",
    "\n",
    "\n",
    "class PlayVideo(IFrame):\n",
    "  def __init__(self, id, source, page=1, width=400, height=300, **kwargs):\n",
    "    self.id = id\n",
    "    if source == 'Bilibili':\n",
    "      src = f'https://player.bilibili.com/player.html?bvid={id}&page={page}'\n",
    "    elif source == 'Osf':\n",
    "      src = f'https://mfr.ca-1.osf.io/render?url=https://osf.io/download/{id}/?direct%26mode=render'\n",
    "    super(PlayVideo, self).__init__(src, width, height, **kwargs)\n",
    "\n",
    "\n",
    "def display_videos(video_ids, W=400, H=300, fs=1):\n",
    "  tab_contents = []\n",
    "  for i, video_id in enumerate(video_ids):\n",
    "    out = widgets.Output()\n",
    "    with out:\n",
    "      if video_ids[i][0] == 'Youtube':\n",
    "        video = YouTubeVideo(id=video_ids[i][1], width=W,\n",
    "                             height=H, fs=fs, rel=0)\n",
    "        print(f'Video available at https://youtube.com/watch?v={video.id}')\n",
    "      else:\n",
    "        video = PlayVideo(id=video_ids[i][1], source=video_ids[i][0], width=W,\n",
    "                          height=H, fs=fs, autoplay=False)\n",
    "        if video_ids[i][0] == 'Bilibili':\n",
    "          print(f'Video available at https://www.bilibili.com/video/{video.id}')\n",
    "        elif video_ids[i][0] == 'Osf':\n",
    "          print(f'Video available at https://osf.io/{video.id}')\n",
    "      display(video)\n",
    "    tab_contents.append(out)\n",
    "  return tab_contents\n",
    "\n",
    "\n",
    "video_ids = [('Youtube', 'c5WfuNCnWy4'), ('Bilibili', 'BV11m4y1E72e')]\n",
    "tab_contents = display_videos(video_ids, W=730, H=410)\n",
    "tabs = widgets.Tab()\n",
    "tabs.children = tab_contents\n",
    "for i in range(len(tab_contents)):\n",
    "  tabs.set_title(i, video_ids[i][0])\n",
    "display(tabs)"
   ]
  },
  {
   "attachments": {},
   "cell_type": "markdown",
   "metadata": {},
   "source": [
    "### Discussion prompts\n",
    "\n",
    "\n",
    "* Juliana mentioned how she views equity. How do you view equity? What might be advantages or disadvantages of Juliana’s definition?\n",
    "* What are good ways to bring reliable information to the people who need it?\n",
    "* In many cultures, there are still many expectations regarding which jobs, behaviors, and other life choices are appropriate based on gender, background etc. When you consider your home country and/or the country where you currently live\n",
    "    * Have you observed any of these? \n",
    "    * Do you think they are changing? Is there anyone challenging them in particular? \n",
    "    * Is anything done to challenge them or do you have any ideas what could be done?\n",
    "* Can you think of further examples of traditional/indigenous knowledge that helps or could help with addressing climate change?\n",
    "* As you can see, equity in climate and climate science is a scientific, political, and socio economic challenge impacting everyone. Sometimes, awareness starts a snowball effect in addressing inequities, sometimes it takes more than that. From the video and discussion in your group, what is one small action you might implement to contribute to equity in climate and/or climate science?"
   ]
  },
  {
   "attachments": {},
   "cell_type": "markdown",
   "metadata": {},
   "source": [
    "## Open Climate Science\n",
    "\n",
    "### What is Open Climate Science?\n",
    "\n",
    "Open Climate Science applies the best practices of the open science movement to climate science research. Its main goal is to openly share data, models, and findings in a manner that benefits the scientific community and the public.\n",
    "\n",
    "As Lubia Vinhas from the National Institute for Space Research of Brazil (Instituto Nacional de Pesquisas Espaciais, INPE) notes, \"Open Science is necessary if we want to trust, audit, and reproduce results.\"\n",
    "\n",
    "### Interview summary & highlights\n",
    "\n",
    "Professor Lubia Vinhas is a senior researcher at INPE, the Brazilian Space Research Institute. She has expertise in Remote Sensing, Software Development, and Open Science. Today, she will share her extensive experience as a researcher in Earth Observation and discuss open science, along with the open remote sensing project she contributed to, called [Brazil Data Cube]([http://www.brazildatacube.org/en/home-page-2/](http://www.brazildatacube.org/en/home-page-2/)).\n",
    "\n",
    "Lubia’s keywords: deforestation, monitoring and dissemination, GIS\n",
    "\n",
    "On the web: [Lubia's GitHub](https://github.com/lubiavinhas)\n",
    "\n",
    "Recent interviews, talks, & presentations: [Meet Lúbia Vinhas (Portuguese)](https://youtu.be/UzD8wLdz0Ns)"
   ]
  },
  {
   "attachments": {},
   "cell_type": "markdown",
   "metadata": {},
   "source": [
    "### Video featuring Lubia Vinhas "
   ]
  },
  {
   "cell_type": "code",
   "execution_count": null,
   "metadata": {
    "id": "umnBeSiJeqYo",
    "tags": []
   },
   "outputs": [],
   "source": [
    "# @title featuring Lubia Vinhas \n",
    "\n",
    "from ipywidgets import widgets\n",
    "from IPython.display import YouTubeVideo\n",
    "from IPython.display import IFrame\n",
    "from IPython.display import display\n",
    "\n",
    "\n",
    "class PlayVideo(IFrame):\n",
    "  def __init__(self, id, source, page=1, width=400, height=300, **kwargs):\n",
    "    self.id = id\n",
    "    if source == 'Bilibili':\n",
    "      src = f'https://player.bilibili.com/player.html?bvid={id}&page={page}'\n",
    "    elif source == 'Osf':\n",
    "      src = f'https://mfr.ca-1.osf.io/render?url=https://osf.io/download/{id}/?direct%26mode=render'\n",
    "    super(PlayVideo, self).__init__(src, width, height, **kwargs)\n",
    "\n",
    "\n",
    "def display_videos(video_ids, W=400, H=300, fs=1):\n",
    "  tab_contents = []\n",
    "  for i, video_id in enumerate(video_ids):\n",
    "    out = widgets.Output()\n",
    "    with out:\n",
    "      if video_ids[i][0] == 'Youtube':\n",
    "        video = YouTubeVideo(id=video_ids[i][1], width=W,\n",
    "                             height=H, fs=fs, rel=0)\n",
    "        print(f'Video available at https://youtube.com/watch?v={video.id}')\n",
    "      else:\n",
    "        video = PlayVideo(id=video_ids[i][1], source=video_ids[i][0], width=W,\n",
    "                          height=H, fs=fs, autoplay=False)\n",
    "        if video_ids[i][0] == 'Bilibili':\n",
    "          print(f'Video available at https://www.bilibili.com/video/{video.id}')\n",
    "        elif video_ids[i][0] == 'Osf':\n",
    "          print(f'Video available at https://osf.io/{video.id}')\n",
    "      display(video)\n",
    "    tab_contents.append(out)\n",
    "  return tab_contents\n",
    "\n",
    "\n",
    "video_ids = [('Youtube', 'g2upXZxXlrc'), ('Bilibili', 'BV1hz4y177Fn')]\n",
    "tab_contents = display_videos(video_ids, W=730, H=410)\n",
    "tabs = widgets.Tab()\n",
    "tabs.children = tab_contents\n",
    "for i in range(len(tab_contents)):\n",
    "  tabs.set_title(i, video_ids[i][0])\n",
    "display(tabs)"
   ]
  },
  {
   "attachments": {},
   "cell_type": "markdown",
   "metadata": {},
   "source": [
    "### Discussion prompts\n",
    "\n",
    "* How do you think open science can help your community to fight climate change?\n",
    "* What prevents scientists from openly sharing all research findings?\n",
    "* Open Science and Ethics. What are some examples of how climate data is (or is not) important to the community? How could data be managed to increase both access and accessibility?\n",
    "* As you can see, open climate science is a scientific, political, and socio economic challenge impacting everyone. Sometimes, awareness starts a snowball effect in addressing inequities, sometimes it takes more than that. From the video and discussion in your group, what is one small little action you might implement to contribute to open climate science?"
   ]
  },
  {
   "attachments": {},
   "cell_type": "markdown",
   "metadata": {},
   "source": [
    "## Psychology of the Climate Crisis and Climate Science Communication\n",
    "\n",
    "### What is the Psychology of the Climate Crisis?\n",
    "\n",
    "The climate crisis is the result of human behavior and, therefore, the science of Human Behavior Psychology is central to our understanding of why we are here. It addresses the question of what it is about human thought and behavior and the structures and systems that we have created that have led to the current crisis, why we are not responding as if we're in an emergency, and what we can do to change that. \n",
    "\n",
    "### Talk summary\n",
    "\n",
    "Psychological and behavioral explanations for the climate crisis are often centered on the quirky or flawed ways in which human cognition works. This includes our tendency to prioritize immediate rewards and satisfaction over future rewards, our tendency to be overly optimistic, and our decreased sensitivity to threats that happen far away or far in the future. \n",
    "This narrative is very problematic because it essentially justifies the climate and biodiversity crisis as an inevitable product of universal human nature. A more productive view focuses on how social norms and the perceived belief of others shape human behavior and how effective communication about climate change and our own beliefs and actions can influence the behavior of individuals, communities, industry and policy makers.\n",
    "\n",
    "### About the speaker\n",
    "\n",
    "Professor Clare Kelly is a cognitive neuroscientist, who has been making a push to bring Climate Science into the curriculum of all undergraduate students. Additionally, she has designed a course on the psychology of the climate crisis specifically to help students understand what features of human behavior brought about the climate crisis and what prevents us from addressing this challenge appropriately. \n",
    "\n",
    "Clare's keywords: psychology, collective behavior, communicating climate change\n",
    "\n",
    "On the web: [Clare's research](https://immalab.wordpress.com/clare-kelly/)\n",
    "\n",
    "Recent interviews, talks, & presentation: [How to be a scientist in a world on fire?](https://www.youtube.com/watch?v=c1hDOtG-5mM)\n",
    "\n",
    "Further readings:\n",
    "* [Economic Doughnut](https://en.wikipedia.org/wiki/Doughnut_%28economic_model%29)\n",
    "* [Rethinking academia in a time of climate crisis](https://elifesciences.org/articles/84991)\n",
    "* The Climate Crisis Needs Attention from Cognitive Scientists ([Abridges summary, open access](https://osf.io/t8s4k/), [Full article, closed access](https://www-sciencedirect-com.ezproxy.cul.columbia.edu/science/article/pii/S1364661319302025?via%3Dihub))"
   ]
  },
  {
   "attachments": {},
   "cell_type": "markdown",
   "metadata": {},
   "source": [
    "### Video featuring Clare Kelly "
   ]
  },
  {
   "cell_type": "code",
   "execution_count": null,
   "metadata": {
    "id": "umnBeSiJeqYo",
    "tags": []
   },
   "outputs": [],
   "source": [
    "# @title featuring Clare Kelly\n",
    "\n",
    "from ipywidgets import widgets\n",
    "from IPython.display import YouTubeVideo\n",
    "from IPython.display import IFrame\n",
    "from IPython.display import display\n",
    "\n",
    "\n",
    "class PlayVideo(IFrame):\n",
    "  def __init__(self, id, source, page=1, width=400, height=300, **kwargs):\n",
    "    self.id = id\n",
    "    if source == 'Bilibili':\n",
    "      src = f'https://player.bilibili.com/player.html?bvid={id}&page={page}'\n",
    "    elif source == 'Osf':\n",
    "      src = f'https://mfr.ca-1.osf.io/render?url=https://osf.io/download/{id}/?direct%26mode=render'\n",
    "    super(PlayVideo, self).__init__(src, width, height, **kwargs)\n",
    "\n",
    "\n",
    "def display_videos(video_ids, W=400, H=300, fs=1):\n",
    "  tab_contents = []\n",
    "  for i, video_id in enumerate(video_ids):\n",
    "    out = widgets.Output()\n",
    "    with out:\n",
    "      if video_ids[i][0] == 'Youtube':\n",
    "        video = YouTubeVideo(id=video_ids[i][1], width=W,\n",
    "                             height=H, fs=fs, rel=0)\n",
    "        print(f'Video available at https://youtube.com/watch?v={video.id}')\n",
    "      else:\n",
    "        video = PlayVideo(id=video_ids[i][1], source=video_ids[i][0], width=W,\n",
    "                          height=H, fs=fs, autoplay=False)\n",
    "        if video_ids[i][0] == 'Bilibili':\n",
    "          print(f'Video available at https://www.bilibili.com/video/{video.id}')\n",
    "        elif video_ids[i][0] == 'Osf':\n",
    "          print(f'Video available at https://osf.io/{video.id}')\n",
    "      display(video)\n",
    "    tab_contents.append(out)\n",
    "  return tab_contents\n",
    "\n",
    "\n",
    "video_ids = [('Youtube', 'zeHOBxG61RU'), ('Bilibili', 'BV1Su4y1U7aK')]\n",
    "tab_contents = display_videos(video_ids, W=730, H=410)\n",
    "tabs = widgets.Tab()\n",
    "tabs.children = tab_contents\n",
    "for i in range(len(tab_contents)):\n",
    "  tabs.set_title(i, video_ids[i][0])\n",
    "display(tabs)"
   ]
  },
  {
   "attachments": {},
   "cell_type": "markdown",
   "metadata": {},
   "source": [
    "### Discussion prompts\n",
    "\n",
    "* How did you think human behavior influences the climate crises before you listened to the interview? Did this change after you listened to the interview?\n",
    "* What social groups influence your perception of climate change? Do you agree with their ideas? How do they influence your thoughts and beliefs?\n",
    "* Are there any visual graphics, blogs, songs or other means of non-academic communication that you think are especially good or inspiring?\n",
    "* As you can see, climate science communication and the psychology of it is a scientific, political, and socio economic challenge impacting everyone. Sometimes, awareness starts a snowball effect in addressing inequities, sometimes it takes more than that. From the video and discussion in your group, what is one small little action you might implement to contribute to climate science communication and decrease the stigma of the psychological implications of the climate crisis?"
   ]
  }
 ],
 "metadata": {
  "kernelspec": {
   "display_name": "Python 3 (ipykernel)",
   "language": "python",
   "name": "python3"
},
  "language_info": {
   "codemirror_mode": {
    "name": "ipython",
    "version": 3
   },
   "file_extension": ".py",
   "mimetype": "text/x-python",
   "name": "python",
   "nbconvert_exporter": "python",
   "pygments_lexer": "ipython3",
   "version": "3.10.11"
  }
 },
 "nbformat": 4,
 "nbformat_minor": 4
}
