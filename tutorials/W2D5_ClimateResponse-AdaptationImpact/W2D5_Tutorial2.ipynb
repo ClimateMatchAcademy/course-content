{
 "cells": [
  {
   "cell_type": "markdown",
   "id": "myt07YFyNgmw",
   "metadata": {
    "execution": {},
    "id": "myt07YFyNgmw"
   },
   "source": [
    "# **Tutorial 2:  Regression and Decision Trees on the Dengue Fever Dataset**\n",
    "\n",
    "\n",
    "\n",
    "\n",
    "**Week 2, Day 5: Adaptation and Impact**\n",
    "\n",
    "__Content creators:__ Deepak Mewada, Grace Lindsay\n",
    "\n",
    "__Content reviewers:__ Dionessa Biton, Younkap Nina Duplex, Sloane Garelick, Zahra Khodakaramimaghsoud, Peter Ohue, Jenna Pearson, Derick Temfack, Peizhen Yang, Cheng Zhang, Chi Zhang, Ohad Zivan\n",
    "\n",
    "__Content editors:__ Jenna Pearson, Chi Zhang, Ohad Zivan\n",
    "\n",
    "__Production editors:__ Wesley Banfield, Jenna Pearson, Chi Zhang, Ohad Zivan\n",
    "\n",
    "**Our 2023 Sponsors:** NASA TOPS"
   ]
  },
  {
   "cell_type": "markdown",
   "id": "kDQc1jnoNWcp",
   "metadata": {
    "execution": {},
    "id": "kDQc1jnoNWcp"
   },
   "source": [
    "# **Tutorial Objectives**\n",
    "\n",
    "Welcome to tutorial 2 of a series focused on understanding the role of data science and machine learning in addressing the impact of climate change and adapting to it.\n",
    "\n",
    "In this tutorial, we will explore a dataset that relates weather variables to dengue fever cases. By the end of the tutorial, you will be able to:\n",
    "\n",
    "- Load the data into pandas dataframes and visualize it to see obvious trends.\n",
    "- Apply linear regression to the Dengue dataset: clean the data, implement linear regression using scikit-learn, and evaluate its performance. This will include handling categorical data using dummy variables and using scikit-learn's Poisson GLM method to handle integer-valued data.\n",
    "- Apply additional methods to the Dengue Fever dataset, including implementing Random Forest Regression, discussing and analyzing its performance, and measuring feature importance.\n",
    "\n",
    "This tutorial will provide you with practical experience in working with real-world datasets and implementing different regression techniques.\n"
   ]
  },
  {
   "cell_type": "markdown",
   "id": "Vtq0OyoRNPcc",
   "metadata": {
    "execution": {},
    "id": "Vtq0OyoRNPcc"
   },
   "source": [
    "\n",
    "\n",
    "# **Setup**"
   ]
  },
  {
   "cell_type": "code",
   "execution_count": null,
   "id": "Kwsl6-KNNPcc",
   "metadata": {
    "id": "Kwsl6-KNNPcc",
    "pycharm": {
     "name": "#%%\n"
    }
   },
   "outputs": [],
   "source": [
    "# imports\n",
    "\n",
    "import numpy as np  # import the numpy library as np\n",
    "from sklearn.linear_model import LinearRegression # import the LinearRegression class from the sklearn.linear_model module\n",
    "import matplotlib.pyplot as plt # import the pyplot module from the matplotlib library\n",
    "import pandas as pd #import the pandas library and the drive function from the google.colab module\n",
    "from sklearn.metrics import mean_absolute_error\n",
    "from sklearn.metrics import mean_squared_error\n",
    "from sklearn.ensemble import RandomForestRegressor\n",
    "from sklearn.inspection import permutation_importance\n",
    "from sklearn.linear_model import PoissonRegressor\n",
    "\n",
    "from matplotlib import cm\n",
    "import pooch\n",
    "import os"
   ]
  },
  {
   "cell_type": "code",
   "execution_count": null,
   "id": "2438d815",
   "metadata": {},
   "outputs": [],
   "source": [
    "# @title Figure Settings\n",
    "import ipywidgets as widgets       # interactive display\n",
    "%config InlineBackend.figure_format = 'retina'\n",
    "plt.style.use(\"https://raw.githubusercontent.com/ClimateMatchAcademy/course-content/main/cma.mplstyle\")"
   ]
  },
  {
   "cell_type": "code",
   "execution_count": null,
   "id": "ffe05230-354c-4d4a-86ea-f1c10e3927fb",
   "metadata": {},
   "outputs": [],
   "source": [
    "# @title Video 1: Speaker Introduction\n",
    "#Tech team will add code to format and display the video"
   ]
  },
  {
   "cell_type": "markdown",
   "id": "nULavCfq4o07",
   "metadata": {
    "execution": {},
    "id": "nULavCfq4o07"
   },
   "source": [
    "\n",
    "\n",
    "# **Section 1: Loading and Exploring Dengue Fever Data Set**\n",
    "\n",
    "\n",
    "\n",
    "\n"
   ]
  },
  {
   "cell_type": "markdown",
   "id": "j9n17gXFOIXX",
   "metadata": {
    "execution": {},
    "id": "j9n17gXFOIXX"
   },
   "source": [
    "\n",
    "\n",
    "\n",
    "## **Section 1.1:  Loading the Environmental Data**\n",
    "\n",
    "\n"
   ]
  },
  {
   "cell_type": "markdown",
   "id": "a2c27233",
   "metadata": {
    "execution": {},
    "id": "a2c27233"
   },
   "source": [
    "As discussed in the video, we are working with a [data set](https://www.drivendata.org/competitions/44/dengai-predicting-disease-spread/page/81/) provided by [DrivenData](https://arxiv.org/abs/1606.07781) that centers on the goal of predicting dengue fever cases based on environmental variables.\n",
    "\n",
    "We will use pandas to interface with the data, which is shared in the .csv format. First, let's load the environmental data into a pandas dataframe and print its contents"
   ]
  },
  {
   "cell_type": "code",
   "execution_count": null,
   "id": "hpeaOl-v3Mod",
   "metadata": {
    "execution": {},
    "id": "hpeaOl-v3Mod"
   },
   "outputs": [],
   "source": [
    "# loading a CSV file named 'dengue_features_train(1).csv' into a pandas DataFrame named 'df'\n",
    "url_dengue = \"https://osf.io/wm9un/download/\"\n",
    "df_features = pd.read_csv(pooch.retrieve(url_dengue, known_hash=None))"
   ]
  },
  {
   "cell_type": "markdown",
   "id": "1dOsBX8X6ScK",
   "metadata": {
    "execution": {},
    "id": "1dOsBX8X6ScK"
   },
   "source": [
    "\n",
    "\n",
    "\n",
    "## **Section 1.2:  Explore the Dataset**\n",
    "\n",
    "\n"
   ]
  },
  {
   "cell_type": "code",
   "execution_count": null,
   "id": "Vv82LGM26hiD",
   "metadata": {
    "colab": {
     "base_uri": "https://localhost:8080/",
     "height": 488
    },
    "execution": {},
    "id": "Vv82LGM26hiD",
    "outputId": "cea77f5a-2370-487f-ec5e-5a85e6f91040"
   },
   "outputs": [],
   "source": [
    "# displaying the contents of the DataFrame named 'df'.\n",
    "# this is useful for verifying that the data was read correctly.\n",
    "df_features"
   ]
  },
  {
   "cell_type": "markdown",
   "id": "d2e345ba",
   "metadata": {
    "execution": {},
    "id": "d2e345ba"
   },
   "source": [
    "We can see some of the variables discussed in the video. For full documentation of these features, see the associated description [here](https://www.drivendata.org/competitions/44/dengai-predicting-disease-spread/page/82/). \n",
    "\n",
    "In climate science, visualizing data is an important step in understanding patterns and trends in environmental data. It can also help identify outliers and inconsistencies that need to be addressed before modeling. Therefore, in the next subsection, we will visualize the climate and environmental data to gain insights and identify potential issues.\n"
   ]
  },
  {
   "cell_type": "markdown",
   "id": "98JK1Hy3IN0P",
   "metadata": {
    "execution": {},
    "id": "98JK1Hy3IN0P"
   },
   "source": [
    "\n",
    "## **Section 1.3: Visualize the Data**\n"
   ]
  },
  {
   "cell_type": "markdown",
   "id": "0Q1GTTR8imTs",
   "metadata": {
    "execution": {},
    "id": "0Q1GTTR8imTs"
   },
   "source": [
    "### Coding Exercise 1.1\n",
    "\n",
    "For this exercise, you will visualize the data. Use the provided hints for the function name if needed.\n",
    "\n",
    "1. Use pandas to plot histograms of these features using .hist() function\n",
    "2. Use the .isnull() function to see if there is any missing data. "
   ]
  },
  {
   "cell_type": "code",
   "execution_count": null,
   "id": "lawwAEiC8vZV",
   "metadata": {
    "colab": {
     "base_uri": "https://localhost:8080/",
     "height": 488
    },
    "execution": {},
    "id": "lawwAEiC8vZV",
    "outputId": "8e97b62e-e3e6-4438-bece-6bb3f4d5cfd9"
   },
   "outputs": [],
   "source": [
    "#################################################\n",
    "# Students: Fill in missing code (...) and comment or remove the next line\n",
    "raise NotImplementedError(\"Student exercise: Fill in the code in empty places to remove this error\")\n",
    "#################################################\n",
    "\n",
    "# display a histogram of the Pandas DataFrame 'df'\n",
    "df_features  # hint: invoke hist function here\n",
    "\n",
    "# output the sum of null values for each column in 'df'\n",
    "df_features   # hint: invoke isnull function here and then invoke sum over"
   ]
  },
  {
   "cell_type": "code",
   "execution_count": null,
   "id": "EQuT_FPO4T6P",
   "metadata": {
    "colab": {
     "base_uri": "https://localhost:8080/",
     "height": 1000
    },
    "execution": {},
    "id": "EQuT_FPO4T6P",
    "outputId": "4aa7615d-3d83-4fc5-f56f-b258dee22648"
   },
   "outputs": [],
   "source": [
    "# to_remove solution\n",
    "\n",
    "# display a histogram of the Pandas DataFrame 'df'\n",
    "df_features.hist(figsize=[20,20]) # hint: invoke hist function here\n",
    "\n",
    "# output the sum of null values for each column in 'df'\n",
    "df_features.isnull().sum() # hint: invoke isnull function here and then invoke sum over"
   ]
  },
  {
   "cell_type": "markdown",
   "id": "21bdc6b4",
   "metadata": {
    "execution": {},
    "id": "21bdc6b4"
   },
   "source": [
    "The above histograms show the number of data points that have the value given on the x-axis. As we can see, there is some missing data as well, particularly some of the Normalized Difference Vegetation Index (NDVI) measures. So far we have only been looking at the environmental data. Let's load the corresponding weekly dengue fever cases as well. \n"
   ]
  },
  {
   "cell_type": "markdown",
   "id": "FqcYp2yRhOAc",
   "metadata": {
    "execution": {},
    "id": "FqcYp2yRhOAc"
   },
   "source": [
    "\n",
    "## **Section 1.4: Load and Visualize the Corresponding Weekly Dengue Fever Cases** \n",
    "\n",
    "\n",
    "\n",
    "\n"
   ]
  },
  {
   "cell_type": "code",
   "execution_count": null,
   "id": "9uCmTha48dY-",
   "metadata": {
    "colab": {
     "base_uri": "https://localhost:8080/",
     "height": 424
    },
    "execution": {},
    "id": "9uCmTha48dY-",
    "outputId": "fde37ef5-224e-4913-f5e3-531d9bfb2fca"
   },
   "outputs": [],
   "source": [
    "# reading a CSV file named \"dengue_labels_train.csv\" and saving the data into a pandas DataFrame named \"df_dengue\".\n",
    "url_dengue_labels = \"https://osf.io/6nw9x/download\"\n",
    "df_labels = pd.read_csv(pooch.retrieve(url_dengue_labels, known_hash=None))\n",
    "\n",
    "# displaying the contents of the DataFrame named \"df_dengue\".\n",
    "# This is useful for verifying that the data was read correctly.\n",
    "df_labels"
   ]
  },
  {
   "cell_type": "markdown",
   "id": "f6Dq4k8mI4fO",
   "metadata": {
    "execution": {},
    "id": "f6Dq4k8mI4fO"
   },
   "source": [
    "\n",
    "## **Section 1.5: Visualize the Weekly Dengue Fever Cases** \n"
   ]
  },
  {
   "cell_type": "markdown",
   "id": "1M2cMCvkgyiD",
   "metadata": {
    "execution": {},
    "id": "1M2cMCvkgyiD"
   },
   "source": [
    "### Coding Exercises 1.5\n",
    "\n",
    "For the following exercises visualise the data. You will start with plotting a histogram of the case numbers.\n",
    "  \n",
    "1. Plot a histogram of the case numbers using 30 bins (bins = 30)."
   ]
  },
  {
   "cell_type": "code",
   "execution_count": null,
   "id": "Qr3PaKJKm7yL",
   "metadata": {
    "execution": {},
    "id": "Qr3PaKJKm7yL"
   },
   "outputs": [],
   "source": [
    "#################################################\n",
    "# Students: Fill in missing code (...) and comment or remove the next line\n",
    "raise NotImplementedError(\"Student exercise: Fill in the code to visualize the data.\")\n",
    "#################################################\n",
    "\n",
    "# display a histogram of the 'total_cases' column in the 'df_dengue' DataFrame\n",
    "... "
   ]
  },
  {
   "cell_type": "code",
   "execution_count": null,
   "id": "vGdyLzTOYNsX",
   "metadata": {
    "colab": {
     "base_uri": "https://localhost:8080/",
     "height": 469
    },
    "execution": {},
    "id": "vGdyLzTOYNsX",
    "outputId": "7f84de7b-4534-44df-835d-6ae63340e7f9"
   },
   "outputs": [],
   "source": [
    "# to_remove solution\n",
    "\n",
    "# display a histogram of the 'total_cases' column in the 'df_dengue' DataFrame\n",
    "df_labels.hist(column='total_cases', bins = 30)"
   ]
  },
  {
   "cell_type": "markdown",
   "id": "GQgRG63VkQIM",
   "metadata": {
    "execution": {},
    "id": "GQgRG63VkQIM"
   },
   "source": [
    "2. Plot total cases as a function of year\n",
    "2. Plot total cases as a function of the week of the year\n",
    "3. Plot total cases as two separate histograms, one for each of the cities with 30 bins."
   ]
  },
  {
   "cell_type": "code",
   "execution_count": null,
   "id": "RsdGCbDw-NlG",
   "metadata": {
    "colab": {
     "base_uri": "https://localhost:8080/",
     "height": 449
    },
    "execution": {},
    "id": "RsdGCbDw-NlG",
    "outputId": "45bd7155-b544-4d2e-e733-35202d9004e9"
   },
   "outputs": [],
   "source": [
    "#################################################\n",
    "# Students: Fill in missing code (...) and comment or remove the next line\n",
    "raise NotImplementedError(\"Student exercise: Visualize the data.\")\n",
    "################################################\n",
    "\n",
    "# creating a scatter plot of 'year' vs 'total_cases' in the DataFrame 'df_dengue'.\n",
    "df_labels.plot.scatter('year','total_cases')\n",
    "\n",
    "# creating a scatter plot of 'weekofyear' vs 'total_cases' in the DataFrame 'df_dengue'.\n",
    "df_dengue = ...\n",
    "\n",
    "# creating a new DataFrame named 'new' that contains only the columns 'total_cases' and 'city' from 'df_dengue'.\n",
    "new = ...  # hint:you can use .copy()\n",
    "\n",
    "# creating histograms of the 'total_cases' column in 'new' separated by the values in the 'city' column.\n",
    "new = ..."
   ]
  },
  {
   "cell_type": "code",
   "execution_count": null,
   "id": "aC3XX1S8-Din",
   "metadata": {
    "colab": {
     "base_uri": "https://localhost:8080/",
     "height": 1000
    },
    "execution": {},
    "id": "aC3XX1S8-Din",
    "outputId": "679283b8-0209-4649-e78f-f6b0247bd9c0"
   },
   "outputs": [],
   "source": [
    "# to_remove solution\n",
    "\n",
    "# creating a scatter plot of 'year' vs 'total_cases' in the DataFrame 'df_dengue'.\n",
    "df_labels.plot.scatter('year','total_cases')\n",
    "\n",
    "# creating a scatter plot of 'weekofyear' vs 'total_cases' in the DataFrame 'df_dengue'.\n",
    "df_labels.plot.scatter('weekofyear','total_cases')\n",
    "\n",
    "# creating a new DataFrame named 'new' that contains only the columns 'total_cases' and 'city' from 'df_dengue'.\n",
    "new = df_labels[['total_cases','city']].copy()\n",
    "\n",
    "# creating histograms of the 'total_cases' column in 'new' separated by the values in the 'city' column.\n",
    "new.hist(by=\"city\", bins = 30)"
   ]
  },
  {
   "cell_type": "markdown",
   "id": "ucPP9sGWo0Nc",
   "metadata": {
    "execution": {},
    "id": "ucPP9sGWo0Nc"
   },
   "source": [
    "### Questions 1.5\n",
    "\n",
    "1. Delve deeper into the data. What trends do you observe?\n",
    "Engage in a discussion with your group and see if anyone has noticed a trend that you may have missed.\n"
   ]
  },
  {
   "cell_type": "code",
   "execution_count": null,
   "id": "61f9be1c",
   "metadata": {},
   "outputs": [],
   "source": [
    "# to_remove explanation\n",
    "\"\"\"\n",
    "1. Possible observations: In the top figure there are some years with anomously high weeks of case numbers such as 1994, 1998, and 2006. In the second figure it appears weeks with the high case numbers are consistent across years, with higher numbers appears for week of year greater than 20. In the bottom figure, the cities have comparable distribution shapes however the number of cases per week and frequency in San Juan is much higher than Iquitos.\n",
    "\"\"\";"
   ]
  },
  {
   "cell_type": "markdown",
   "id": "OJfHILMlkRtg",
   "metadata": {
    "id": "OJfHILMlkRtg"
   },
   "source": [
    "\n",
    "# **Section 2 : Regression on Dengue Fever Dataset**\n",
    "\n",
    "In the previous section, we explored the Dengue dataset. In this section, we will apply linear regression to this dataset.\n",
    "\n",
    "\n"
   ]
  },
  {
   "cell_type": "markdown",
   "id": "V2qPY6gYuetd",
   "metadata": {
    "execution": {},
    "id": "V2qPY6gYuetd"
   },
   "source": [
    "Since we have already explored and visualized the dataset we are ready to train a model.\n",
    "\n",
    "We will start by preprocessing the data and defining a model to predict cases of dengue fever.\n",
    "\n",
    "In the case of predicting dengue fever the environmental variables are the independent variables (or regressors), while number of dengue fever cases is the dependent variable that we want to predict."
   ]
  },
  {
   "cell_type": "markdown",
   "id": "erqZu0VckSJc",
   "metadata": {
    "execution": {},
    "id": "erqZu0VckSJc"
   },
   "source": [
    "\n",
    "## **Section 2.1: Data Preprocessing**\n",
    "\n",
    "\n"
   ]
  },
  {
   "cell_type": "markdown",
   "id": "SYvfpa8B8S_D",
   "metadata": {
    "execution": {},
    "id": "SYvfpa8B8S_D"
   },
   "source": [
    "\n",
    "In climate science, data is often incomplete or missing, and it's important to handle such missing values before using the data for prediction or analysis. There are [many ways](https://towardsdatascience.com/7-ways-to-handle-missing-values-in-machine-learning-1a6326adf79e) to do this. In our case, we will remove the missing values as well as columns of data we won't be using in the predictive model.\n",
    "\n"
   ]
  },
  {
   "cell_type": "code",
   "execution_count": null,
   "id": "qCBHC6U78sL3",
   "metadata": {
    "colab": {
     "base_uri": "https://localhost:8080/"
    },
    "execution": {},
    "id": "qCBHC6U78sL3",
    "outputId": "915702a0-bf19-470d-dccf-b0525480c787"
   },
   "outputs": [],
   "source": [
    "# data cleaning\n",
    "\n",
    "# drop columns 'city', 'year', and 'week_start_date' from the 'df' dataframe to create a new dataframe 'df_cleaned'\n",
    "df_cleaned = df_features.drop(['city','year','week_start_date'],axis=1)\n",
    "\n",
    "# check for null and missing values\n",
    "print(\"Null and missing value before cleaning\" , df_cleaned.isnull().sum())\n"
   ]
  },
  {
   "cell_type": "code",
   "execution_count": null,
   "id": "YrRfK2T8MW-m",
   "metadata": {
    "colab": {
     "base_uri": "https://localhost:8080/"
    },
    "id": "YrRfK2T8MW-m",
    "outputId": "af04584d-f8f9-4bf2-a28c-8834d0b8e2b3"
   },
   "outputs": [],
   "source": [
    "# remove missing values (NaN). there are works in the scientific literature on how to fill the missing gaps.\n",
    "# the safest method is to just remove the missing values for now.\n",
    "df_cleaned = df_cleaned.dropna()\n",
    "\n",
    "# check for null and missing values after removing\n",
    "print(df_cleaned.isnull().sum())"
   ]
  },
  {
   "cell_type": "code",
   "execution_count": null,
   "id": "SvS4eEF1f6uL",
   "metadata": {
    "colab": {
     "base_uri": "https://localhost:8080/",
     "height": 488
    },
    "id": "SvS4eEF1f6uL",
    "outputId": "aa7bfa01-e022-47c5-b4cd-b56a6bab1ffd"
   },
   "outputs": [],
   "source": [
    "df_cleaned"
   ]
  },
  {
   "cell_type": "markdown",
   "id": "5c0ce4ad",
   "metadata": {},
   "source": [
    "Notice that the number of rows in the dataset has decreased from 1456 to 1199. We need to ensure that the dataset with dengue cases has the same rows dropped as we just did above."
   ]
  },
  {
   "cell_type": "code",
   "execution_count": null,
   "id": "60870653",
   "metadata": {},
   "outputs": [],
   "source": [
    "# use loc to select the relevant indexes\n",
    "df_labels=df_labels.loc[df_cleaned.index] \n",
    "df_labels"
   ]
  },
  {
   "cell_type": "markdown",
   "id": "Rauj0P6EbNmz",
   "metadata": {
    "execution": {},
    "id": "Rauj0P6EbNmz"
   },
   "source": [
    "To build a model with the climate data, we need to divide it into a training and test set to ensure that the model works well on held-out data. This is important because, as we have seen, evaluating the model on the exact data it was trained on can be misleading."
   ]
  },
  {
   "cell_type": "code",
   "execution_count": null,
   "id": "M0XopmfSu7Ek",
   "metadata": {
    "colab": {
     "base_uri": "https://localhost:8080/"
    },
    "execution": {},
    "id": "M0XopmfSu7Ek",
    "outputId": "46957474-f6ea-4f0c-f56c-b941ea6b44ce"
   },
   "outputs": [],
   "source": [
    "# train-test split\n",
    "\n",
    "# select the 'total_cases' column from the 'df_dengue' dataframe and assign it to the variable 'cases'\n",
    "cases = df_labels['total_cases']\n",
    "\n",
    "# create a boolean mask with random values for each element in 'cases'\n",
    "np.random.seed(145) #setting the random seed ensures we are all using the same train/test split\n",
    "mask = np.random.rand(len(cases)) < 0.8   #this will use 80% of the data to train and 20% to test\n",
    "\n",
    "# create two new dataframes from the 'df_cleaned' dataframe based on the boolean mask\n",
    "df_cleaned_train = df_cleaned[mask]\n",
    "df_cleaned_test = df_cleaned[~mask]\n",
    "\n",
    "# create two new arrays from the 'cases' array based on the boolean mask\n",
    "cases_train = cases[mask]\n",
    "cases_test = cases[~mask]\n",
    "\n",
    "print(\"80% of the data is split into the training set and remaining 20% into the test set.\")\n",
    "\n",
    "# check that this is true\n",
    "print('length of training data: ',df_cleaned_train.shape[0])\n",
    "print('length of test data: ',df_cleaned_test.shape[0])"
   ]
  },
  {
   "cell_type": "markdown",
   "id": "zPeztNPTwRKx",
   "metadata": {
    "execution": {},
    "id": "zPeztNPTwRKx"
   },
   "source": [
    "\n",
    "\n",
    "## **Section 2.2: Fitting Model and Analyzing Results** \n",
    "\n",
    "\n"
   ]
  },
  {
   "cell_type": "markdown",
   "id": "kw987L7PkSJd",
   "metadata": {
    "execution": {},
    "id": "kw987L7PkSJd"
   },
   "source": [
    "### Coding Exercise 2.2: Implement Regression on Dengue Fever Dataset and Evaluate the Performance\n",
    "For this exercise, use what you learned in the previous tutorials to train a linear regression model on the training data and evaluate its performance. Evaluate its performance on the training data and the test data. Look specifically at the difference between predicted values and true values on the test set. \n",
    "\n",
    "1. Train a linear regression model on the training data\n",
    "2. Evaluate the performance of the model on both training and test data.\n",
    "3. Look specifically at the difference between predicted values and true values on the test set."
   ]
  },
  {
   "cell_type": "code",
   "execution_count": null,
   "id": "2boskgTN8REW",
   "metadata": {
    "colab": {
     "base_uri": "https://localhost:8080/",
     "height": 507
    },
    "execution": {},
    "id": "2boskgTN8REW",
    "outputId": "541fce74-325f-4f0d-d243-13c118265b86"
   },
   "outputs": [],
   "source": [
    "#################################################\n",
    "# Students: Fill in missing code (...) and comment or remove the next line\n",
    "raise NotImplementedError(\"Student exercise: Fit a model and analyze the results.\")\n",
    "#################################################\n",
    "\n",
    "\n",
    "# create a new instance of the LinearRegression class\n",
    "reg_model = ... \n",
    "\n",
    "# train the model on the training data i.e on df_cleaned_train,cases_train\n",
    "...  \n",
    "\n",
    "# print the R^2 score of the trained model on the training data\n",
    "print('r^2 on training data is: ')\n",
    "print(reg_model.score(...,...))\n",
    "\n",
    "# print the R^2 score of the trained model on the test data\n",
    "print('r^2 on test data is: ')\n",
    "print(reg_model.score(...,...))\n",
    "\n",
    "# create a scatter plot of the predicted values vs. the actual values for the test data\n",
    "plt.scatter(...,reg_model.predict(df_cleaned_test))\n",
    "\n",
    "# add 1:1 line\n",
    "axes = plt.gca()\n",
    "plt.plot(np.array(axes.get_xlim()), np.array(axes.get_xlim()), 'k-')\n",
    "\n",
    "# add axis labels to the scatter plot\n",
    "plt.xlabel('Actual Number of Dengue Cases')\n",
    "plt.ylabel('Predicted Number of Dengue Cases')"
   ]
  },
  {
   "cell_type": "code",
   "execution_count": null,
   "id": "7a621151",
   "metadata": {
    "colab": {
     "base_uri": "https://localhost:8080/",
     "height": 559
    },
    "execution": {},
    "id": "F4d369IY_nc8",
    "outputId": "8f3dd484-e18c-426e-e6f6-efd90adbce7a"
   },
   "outputs": [],
   "source": [
    "# to_remove solution\n",
    "\n",
    "# create a new instance of the LinearRegression class\n",
    "reg_model = LinearRegression()\n",
    "\n",
    "# train the model on the training data i.e on df_cleaned_train,cases_train\n",
    "reg_model.fit(df_cleaned_train,cases_train)\n",
    "\n",
    "# print the R^2 score of the trained model on the training data\n",
    "print('r^2 on training data is: ')\n",
    "print(reg_model.score(df_cleaned_train,cases_train))\n",
    "\n",
    "# print the R^2 score of the trained model on the test data\n",
    "print('r^2 on test data is: ')\n",
    "print(reg_model.score(df_cleaned_test,cases_test))\n",
    "\n",
    "# create a scatter plot of the predicted values vs. the actual values for the test data\n",
    "plt.scatter(cases_test,reg_model.predict(df_cleaned_test))\n",
    "\n",
    "# add 1:1 line\n",
    "axes = plt.gca()\n",
    "plt.plot(np.array(axes.get_xlim()), np.array(axes.get_xlim()), 'k-')\n",
    "\n",
    "# add axis labels to the scatter plot\n",
    "plt.xlabel('Actual Number of Dengue Cases')\n",
    "plt.ylabel('Predicted Number of Dengue Cases')\n",
    "plt.title('Predicted values vs. the actual values for the test data')"
   ]
  },
  {
   "cell_type": "markdown",
   "id": "eTro7UedNRmk",
   "metadata": {
    "id": "eTro7UedNRmk"
   },
   "source": [
    "<details>\n",
    "<summary> <font color='orangered'>Click here description of plot  </font></summary>\n",
    "\n",
    "This code trains a linear regression model on a dataset and evaluates its performance on both the training and test data.\n",
    "\n",
    "The scatter plot generated at the end of the code shows the predicted values vs. the actual values for the test data. Each point in the scatter plot represents a single data point in the test set. The horizontal axis represents the actual number of dengue cases, while the vertical axis represents the predicted number of dengue cases.\n",
    "\n",
    "If the predicted values are close to the actual values, the scatter plot will show a diagonal line where the points cluster around. On the other hand, if the predicted values are far from the actual values, the scatter plot will be more spread out and may show a more random pattern of points.\n",
    "\n",
    "By visually inspecting the scatter plot and looking at the r^2, we can get an idea of how well the model is performing and how accurate its predictions are. How well does the model do?"
   ]
  },
  {
   "cell_type": "markdown",
   "id": "752f819d",
   "metadata": {},
   "source": [
    "### **Questions 2.2**\n",
    "\n",
    "1. Discuss any surprising features of this plot related to model performance."
   ]
  },
  {
   "cell_type": "code",
   "execution_count": null,
   "id": "eff7b43c",
   "metadata": {},
   "outputs": [],
   "source": [
    "# to_remove explanation\n",
    "\"\"\"\n",
    "1. Possible discussion: The model cannot predict values above 50 cases per week. This is likely due to an imbalance of data. Referencing the data exploration figures from the first section, we see that most of the data falls at or below 50 cases per week. This type of model does not excel at predicting extreme cases, and this is reflected on the plot above. Additionally, note the negative values (up to -10 cases per week) predicted by our model. It is of course not possible to have negative case numbers, however you can see that the linear regression equation does not prevent negative numbers. Later on in the bonus section you will look at a model more suitable for our dataset type that also guarantees non-negative results.\n",
    "\"\"\";"
   ]
  },
  {
   "cell_type": "markdown",
   "id": "22915838",
   "metadata": {},
   "source": [
    "We can also calculate some other metrics to assess model performance."
   ]
  },
  {
   "cell_type": "code",
   "execution_count": null,
   "id": "BR4APm-zqPO9",
   "metadata": {
    "cellView": "form",
    "colab": {
     "base_uri": "https://localhost:8080/"
    },
    "execution": {},
    "id": "BR4APm-zqPO9",
    "outputId": "c82bfcdb-78b0-4583-8ed9-4ed075652d36"
   },
   "outputs": [],
   "source": [
    "# evaluating the performance of the model using metrics such as mean absolute error (MAE) and mean squared error (MSE)\n",
    "\n",
    "y_pred = reg_model.predict(df_cleaned_test)\n",
    "print('MAE:', mean_absolute_error(cases_test, y_pred))\n",
    "print('RMSE:', mean_squared_error(cases_test, y_pred,squared=False))"
   ]
  },
  {
   "cell_type": "markdown",
   "id": "4dKZf17NOWd-",
   "metadata": {
    "id": "4dKZf17NOWd-"
   },
   "source": [
    "<details>\n",
    "<summary> <font color='violet'>What is MAE and MSE   </font></summary>\n",
    "In addition to r^2, Mean Absolute Error (MAE) and Mean Squared Error (MSE) are both metrics used to evaluate the performance of a regression model. They both measure the difference between the predicted values and the actual values of the target variable.\n",
    "\n",
    "The MAE is calculated by taking the average of the absolute differences between the predicted and actual values:\n",
    "\\begin{align}\n",
    "MAE = \\frac{1}{n}\\sum_{i=1}^{n}|y_i - \\hat{y_i}|\n",
    "\\end{align}\n",
    "where $n$ is the number of samples, $y_i$ is the actual value of the target variable for sample $i$, and $\\hat{y}_i$ is the predicted value of the target variable for sample $i$.\n",
    "\n",
    "The RMSE is calculated by taking the square root of the average of the squared differences between the predicted and actual values:\n",
    "\\begin{align}\n",
    " RMSE = \\sqrt{\\frac{1}{n}\\sum_{i=1}^{n}(y_i - \\hat{y_i})^2}\n",
    "\\end{align} \n",
    "The main difference between MAE and RMSE is that RMSE gives more weight to larger errors, because the differences are squared. Therefore, if there are some large errors in the predictions, the RMSE will be higher than the MAE.\n",
    "\n",
    "Both MAE and RMSE have the same unit of measurement as the target variable, and lower values indicate better model performance. However, the choice of which metric to use depends on the specific problem and the goals of the model."
   ]
  },
  {
   "cell_type": "markdown",
   "id": "1LO0O5YkUsZB",
   "metadata": {
    "execution": {},
    "id": "1LO0O5YkUsZB"
   },
   "source": [
    "## **(Bonus) Section 2.3 : Handling Different Scenarios**"
   ]
  },
  {
   "cell_type": "markdown",
   "id": "Y6Pux46LWw7e",
   "metadata": {
    "execution": {},
    "id": "Y6Pux46LWw7e"
   },
   "source": [
    "### **Section 2.3.1: Handling Categorical Regressors** \n"
   ]
  },
  {
   "cell_type": "markdown",
   "id": "RNS2yeHewz7r",
   "metadata": {
    "execution": {},
    "id": "RNS2yeHewz7r"
   },
   "source": [
    "We chose to remove city as a regressor because it is not a numerical value and therefore does not fit as easily into the linear regression framework. However, it is possible to include such categorical data. To do so, you need to turn the string variables representing cities into 'dummy variables', that is, numerical values that stand in for the categories. Here we can simply arbitrarily set one city to the value 0 and the other the value 1. See how including city impacts regression performance"
   ]
  },
  {
   "cell_type": "code",
   "execution_count": null,
   "id": "f86f64c3",
   "metadata": {},
   "outputs": [],
   "source": [
    "df_cleaned_test"
   ]
  },
  {
   "cell_type": "code",
   "execution_count": null,
   "id": "pIVU36FuB1cc",
   "metadata": {
    "colab": {
     "base_uri": "https://localhost:8080/",
     "height": 524
    },
    "execution": {},
    "id": "pIVU36FuB1cc",
    "outputId": "eb4b007e-a80f-4abc-cf38-a872ed88b5fa"
   },
   "outputs": [],
   "source": [
    "# include city as a regressor by creating dummy variables for the 'city' column\n",
    "df_cleaned_city = pd.get_dummies(df_features.dropna()[['city']], drop_first=True)\n",
    "\n",
    "# combine the cleaned data with the city dummy variables\n",
    "df_cleaned_combined = pd.concat([df_cleaned, df_cleaned_city], axis=1)\n",
    "\n",
    "# split the data into training and test sets using a random mask\n",
    "np.random.seed(145)\n",
    "mask = np.random.rand(len(cases)) < 0.8\n",
    "df_cleaned_city_train = df_cleaned_combined[mask]\n",
    "df_cleaned_city_test = df_cleaned_combined[~mask]\n",
    "cases_city_train = cases[mask]\n",
    "cases_city_test = cases[~mask]\n",
    "\n",
    "# train a linear regression model with city as a regressor\n",
    "reg_model_city = LinearRegression()\n",
    "reg_model_city.fit(df_cleaned_city_train, cases_city_train)\n",
    "\n",
    "# print R-squared scores for the train and test sets\n",
    "print('R-squared on training data is: ', reg_model_city.score(df_cleaned_city_train, cases_city_train))\n",
    "print('R-squared on test data is: ', reg_model_city.score(df_cleaned_city_test, cases_city_test))\n",
    "\n",
    "# create a scatter plot of the predicted values vs. the actual values for the test data\n",
    "plt.scatter(cases_city_test, reg_model_city.predict(df_cleaned_city_test))\n",
    "\n",
    "# add 1:1 line\n",
    "axes = plt.gca()\n",
    "plt.plot(np.array(axes.get_xlim()), np.array(axes.get_xlim()), 'k-')\n",
    "\n",
    "plt.xlabel('Actual number of dengue cases')\n",
    "plt.ylabel('Predicted number of dengue cases')\n",
    "plt.title('Predicted vs Actual number of dengue cases (with city as a regressor)')"
   ]
  },
  {
   "cell_type": "markdown",
   "id": "AwjpUDzNTTwN",
   "metadata": {
    "id": "AwjpUDzNTTwN"
   },
   "source": [
    "<details>\n",
    "<summary> <font color='orangered'>Click here description of plot  </font></summary>\n",
    "The plot generated is a scatter plot with the actual total cases on the x-axis and the predicted total cases on the y-axis. Each point on the plot represents a test data point. \n",
    "The accuracy of the model can also be evaluated numerically by computing metrics such as mean absolute error (MAE) and mean squared error (MSE), as well as the R-squared score."
   ]
  },
  {
   "cell_type": "code",
   "execution_count": null,
   "id": "MaxjVAr7qoZe",
   "metadata": {
    "cellView": "form",
    "colab": {
     "base_uri": "https://localhost:8080/"
    },
    "execution": {},
    "id": "MaxjVAr7qoZe",
    "outputId": "6299ed1b-ff7d-42e5-d696-358eed735f9d"
   },
   "outputs": [],
   "source": [
    "# evaluating the performance of the model using metrics such as mean absolute error (MAE) and root mean squared error (RMSE)\n",
    "\n",
    "y_pred_city = reg_model_city.predict(df_cleaned_city_test)\n",
    "print('MAE:', mean_absolute_error(cases_city_test, y_pred_city))\n",
    "print('RMSE:', mean_squared_error(cases_city_test, y_pred_city, squared=False))"
   ]
  },
  {
   "cell_type": "markdown",
   "id": "UJjPu06M-fAG",
   "metadata": {
    "execution": {},
    "id": "UJjPu06M-fAG"
   },
   "source": [
    "###  **Section 2.3.2 : Handling Integer Valued Dependent Variables** "
   ]
  },
  {
   "cell_type": "markdown",
   "id": "7OZbW4DpDtT5",
   "metadata": {
    "execution": {},
    "id": "7OZbW4DpDtT5"
   },
   "source": [
    "In our simulated data from the previous tutorial, the dependent variable was real-valued and followed a normal distribution. Here, the weekly case numbers are integers and are better described by a [Poisson distribution](https://en.wikipedia.org/wiki/Poisson_distribution). Therefore, plain linear regression is not actually the most appropriate approach for this data. Rather, we should use a generalized linear model, or GLM, which is like linear regression, but includes an extra step that makes it more suited to handle Poisson data and prevent negative case numbers. Try to use [scikit-learn's Poisson GLM method](https://scikit-learn.org/stable/modules/generated/sklearn.linear_model.PoissonRegressor.html) on this data. Evaluate the performance of this model using the same metrics as above. "
   ]
  },
  {
   "cell_type": "code",
   "execution_count": null,
   "id": "-Ux5wOt-DZS-",
   "metadata": {
    "colab": {
     "base_uri": "https://localhost:8080/",
     "height": 646
    },
    "execution": {},
    "id": "-Ux5wOt-DZS-",
    "outputId": "4fed96d1-c360-479b-b34b-bc3d7593fc1b"
   },
   "outputs": [],
   "source": [
    "# create PoissonRegressor object\n",
    "poisson_reg = PoissonRegressor()\n",
    "\n",
    "# fit the PoissonRegressor model with training data\n",
    "poisson_reg.fit(df_cleaned_train, cases_train)\n",
    "\n",
    "# calculate r^2 score on training data\n",
    "print('r^2 on training data is: ')\n",
    "print(poisson_reg.score(df_cleaned_train, cases_train))\n",
    "\n",
    "# calculate r^2 score on test data\n",
    "print('r^2 on test data is: ')\n",
    "print(poisson_reg.score(df_cleaned_test, cases_test))\n",
    "\n",
    "# plot predicted values against test data\n",
    "plt.scatter(cases_test, poisson_reg.predict(df_cleaned_test))\n",
    "\n",
    "# add 1:1 line\n",
    "axes = plt.gca()\n",
    "plt.plot(np.array(axes.get_xlim()), np.array(axes.get_xlim()), 'k-')\n",
    "\n",
    "# add plot title and labels\n",
    "plt.title(\"Predicted Cases vs Actual Cases\")\n",
    "plt.xlabel(\"Actual Cases\")\n",
    "plt.ylabel(\"Predicted Cases\")\n",
    "plt.show()"
   ]
  },
  {
   "cell_type": "markdown",
   "id": "ZDS3UirhTVhl",
   "metadata": {
    "id": "ZDS3UirhTVhl"
   },
   "source": [
    "<details>\n",
    "<summary> <font color='orangered'>Click here description of plot  </font></summary>\n",
    "The plot generated is a scatter plot with the actual total cases on the x-axis and the predicted total cases on the y-axis. Each point on the plot represents a test data point."
   ]
  },
  {
   "cell_type": "code",
   "execution_count": null,
   "id": "O2q7OQNzq2he",
   "metadata": {
    "cellView": "form",
    "colab": {
     "base_uri": "https://localhost:8080/"
    },
    "execution": {},
    "id": "O2q7OQNzq2he",
    "outputId": "23e4a415-978b-4370-8d42-7e0b33ca483d"
   },
   "outputs": [],
   "source": [
    "# evaluating the performance of the model using metrics such as mean absolute error (MAE) and root mean squared error (RMSE)\n",
    "\n",
    "y_pred = poisson_reg.predict(df_cleaned_test)\n",
    "print('MAE:', mean_absolute_error(cases_test, y_pred))\n",
    "print('RMSE:', mean_squared_error(cases_test, y_pred, squared=False))"
   ]
  },
  {
   "cell_type": "markdown",
   "id": "C7Jl9oPkCs-P",
   "metadata": {
    "execution": {},
    "id": "C7Jl9oPkCs-P"
   },
   "source": [
    "### **Question 2.3: Performance of the Model**\n",
    "\n",
    "Engage in discussion with your pod to share your observations from the additional changes above.\n",
    "- What did you observe?\n",
    "- Reflect on how different factors may affect the performance of the model.\n",
    "- Brainstorm as a group additional ways to improve the model's performance.\n"
   ]
  },
  {
   "cell_type": "code",
   "execution_count": null,
   "id": "dec3c125",
   "metadata": {},
   "outputs": [],
   "source": [
    "# to_remove explanation\n",
    "\"\"\"\n",
    "Possible discussion: In terms of a 1:1 truth versus prediction, both models still struggle to predict case numbers larger than 50. However R-squared values do increase, especially for the Poisson model, and there is a slight impact on the other error metrics. Note also, as mentioned, the Possion model does not predict negative case values.\n",
    "\"\"\";"
   ]
  },
  {
   "cell_type": "markdown",
   "id": "GjB_Kfmtkhd3",
   "metadata": {
    "id": "GjB_Kfmtkhd3"
   },
   "source": [
    "\n",
    "# **Section 3: Decision Trees** \n"
   ]
  },
  {
   "cell_type": "markdown",
   "id": "ftQG5z97vhix",
   "metadata": {
    "id": "ftQG5z97vhix"
   },
   "source": [
    "In the field of climate science, decision trees and random forests can be powerful tools for making predictions and analyzing complex data.\n",
    "\n",
    "A decision tree is a type of model that is constructed by recursively splitting the data based on the values of the input features. Each internal node in the tree represents a decision based on the value of a feature, and each leaf node represents a prediction. Decision trees are easy to interpret and can capture complex, nonlinear relationships in the data.\n",
    "\n",
    "Random forests are a type of ensemble model that combines multiple decision trees to make predictions. Each tree in the forest is trained on a random subset of the data, and the final prediction is the average of the predictions from all the trees. Random forests are particularly useful in climate science because they can handle high-dimensional data with many features and can capture both linear and nonlinear relationships.\n",
    "\n",
    "By using decision trees and random forests, climate scientists can make accurate predictions about a variety of climate-related variables, such as temperature, precipitation, and sea-level rise. They can also gain insights into the complex relationships between different variables and identify important features that contribute to these relationships."
   ]
  },
  {
   "cell_type": "markdown",
   "id": "6HDz0Wae8BUQ",
   "metadata": {
    "execution": {},
    "id": "6HDz0Wae8BUQ"
   },
   "source": [
    " By training a Random Forest Model in this tutorial, we can better understand the relationship between climate variables and dengue fever cases, and potentially improve our ability to predict and prevent outbreaks."
   ]
  },
  {
   "cell_type": "markdown",
   "id": "UnpSMiiu8BUT",
   "metadata": {
    "execution": {},
    "id": "UnpSMiiu8BUT"
   },
   "source": [
    "\n",
    "## **Section 3.1: Fitting Model and Analyzing Results** \n"
   ]
  },
  {
   "cell_type": "markdown",
   "id": "0C_hBsqj8BUT",
   "metadata": {
    "execution": {},
    "id": "0C_hBsqj8BUT"
   },
   "source": [
    "Next, you will train a random forest regression model using scikit-learn's RandomForestRegressor class, with default hyperparameters. Use the documentation of the method [here](https://scikit-learn.org/stable/modules/generated/sklearn.ensemble.RandomForestRegressor.html) to help you if needed. Evaluate the model's performance on the training and test data and make a scatter plot of predicted vs actual cases for the test data. \n",
    "Use `RandomForestRegressor()` which we already imported."
   ]
  },
  {
   "cell_type": "code",
   "execution_count": null,
   "id": "B37Yys8Y8BUU",
   "metadata": {
    "colab": {
     "base_uri": "https://localhost:8080/"
    },
    "execution": {},
    "id": "B37Yys8Y8BUU",
    "outputId": "5a1ff284-1345-414e-ea46-52bb5b10eb8b",
    "scrolled": true
   },
   "outputs": [],
   "source": [
    "#################################################\n",
    "# Students: Fill in missing code (...) and comment or remove the next line\n",
    "raise NotImplementedError(\"Student exercise: Train and evaluate a random forest model.\")\n",
    "#################################################\n",
    "\n",
    "# train a random forest regression model\n",
    "\n",
    "# use the RandomForestRegressor we imported earlier\n",
    "rf =  ...      \n",
    "\n",
    "# run fit on 'df_cleaned_train' and 'cases_train'\n",
    "rf.fit(..., ...) \n",
    "\n",
    "# evaluate the model's performance on the training and testing data\n",
    "# calculate accuracy by calling rf.score() on 'df_cleaned_train' and 'cases_train'\n",
    "print('R^2 on training data is: ')\n",
    "print(rf.score(...,...)) \n",
    "\n",
    "print('R^2 on test data is: ')\n",
    "print(...) \n",
    "\n",
    "# add 1:1 line\n",
    "axes = plt.gca()\n",
    "plt.plot(np.array(axes.get_xlim()), np.array(axes.get_xlim()), 'k-')\n",
    "\n",
    "# plot the predicted vs. actual total cases on the test data\n",
    "plt.scatter(cases_test, rf.predict(df_cleaned_test))\n",
    "plt.xlabel('Actual Total Cases')\n",
    "plt.ylabel('Predicted Total Cases')\n",
    "plt.title('Random Forest Regression')\n",
    "plt.show()"
   ]
  },
  {
   "cell_type": "code",
   "execution_count": null,
   "id": "uX736VJs8BUU",
   "metadata": {
    "colab": {
     "base_uri": "https://localhost:8080/",
     "height": 541
    },
    "execution": {},
    "id": "uX736VJs8BUU",
    "outputId": "dab280fe-0b7f-4436-8081-3f31a2cdd330"
   },
   "outputs": [],
   "source": [
    "# to_remove solution\n",
    "\n",
    "# train a random forest regression model\n",
    "\n",
    "# use the RandomForestRegressor we imported earlier\n",
    "rf = RandomForestRegressor()\n",
    "\n",
    "# run fit on 'df_cleaned_train' and 'cases_train'\n",
    "rf.fit(df_cleaned_train, cases_train)\n",
    "\n",
    "# evaluate the model's performance on the training and testing data\n",
    "# calculate accuracy by calling rf.score() on 'df_cleaned_train' and 'cases_train'\n",
    "print('R^2 on training data is: ')\n",
    "print(rf.score(df_cleaned_train, cases_train))\n",
    "\n",
    "print('R^2 on test data is: ')\n",
    "print(rf.score(df_cleaned_test, cases_test))\n",
    "\n",
    "# plot the predicted vs. actual total cases on the test data\n",
    "plt.scatter(cases_test, rf.predict(df_cleaned_test))\n",
    "\n",
    "# add 1:1 line\n",
    "axes = plt.gca()\n",
    "plt.plot(np.array(axes.get_xlim()), np.array(axes.get_xlim()), 'k-')\n",
    "\n",
    "\n",
    "plt.xlabel('Actual Total Cases')\n",
    "plt.ylabel('Predicted Total Cases')\n",
    "plt.title('Random Forest Regression')\n",
    "plt.show()"
   ]
  },
  {
   "cell_type": "markdown",
   "id": "N-GIWnvNPwDk",
   "metadata": {
    "id": "N-GIWnvNPwDk"
   },
   "source": [
    "<details>\n",
    "<summary> <font color='orangered'>Click here description of plot  </font></summary>\n",
    "The plot generated is a scatter plot with the actual total cases on the x-axis and the predicted total cases on the y-axis. Each point on the plot represents a test data point. "
   ]
  },
  {
   "cell_type": "code",
   "execution_count": null,
   "id": "StIShdNq8BUV",
   "metadata": {
    "cellView": "form",
    "colab": {
     "base_uri": "https://localhost:8080/"
    },
    "execution": {},
    "id": "StIShdNq8BUV",
    "outputId": "346e9c70-efc4-4721-a743-c0b07cd6f684"
   },
   "outputs": [],
   "source": [
    "# evaluating the performance of the model using metrics such as mean absolute error (MAE) and root mean squared error (MSE)\n",
    "\n",
    "y_pred = rf.predict(df_cleaned_test)\n",
    "print('MAE:', mean_absolute_error(cases_test, y_pred))\n",
    "print('RMSE:', mean_squared_error(cases_test, y_pred, squared=False))"
   ]
  },
  {
   "cell_type": "markdown",
   "id": "xoZ3jPdk8BUV",
   "metadata": {
    "execution": {},
    "id": "xoZ3jPdk8BUV"
   },
   "source": [
    "### Question 3.1: Reflecting on the Performance \n",
    "Please think and discuss the following questions with your pod members:\n",
    "\n",
    "1. How does the performance of the random forest model compare to that of the linear regression model?\n",
    "2. How does the performance on the test data compare to the performance on the training data?\n",
    "3. What could be the reason behind performing well on the training data but poorly on the test data? Hint: Look up 'overfitting'"
   ]
  },
  {
   "cell_type": "code",
   "execution_count": null,
   "id": "fd54734e",
   "metadata": {
    "id": "GCDqyjt18BUV"
   },
   "outputs": [],
   "source": [
    "#  to_remove explanation\n",
    "\"\"\"\n",
    "1. The random forest model generally performs better than the linear regression model as it can capture non-linear relationships between features and target.\n",
    "2. The low performance of the model on the test set might be due to the model learning the noise in the training data instead of the underlying patterns.\n",
    "3. Overfitting is the term for good training performance but poor test performance, where the model fits the training data too closely and fails to generalize to new data.\n",
    "4. Solutions to handle overfitting include reducing model complexity, increasing dataset size, using regularization, or cross-validation. Ensemble models such as random forests also do inherently help control overfitting by averaging many different models\n",
    "\"\"\";"
   ]
  },
  {
   "cell_type": "markdown",
   "id": "VX-uYtUS8BUV",
   "metadata": {
    "execution": {},
    "id": "VX-uYtUS8BUV"
   },
   "source": [
    "\n",
    "## **Section 3.2: Looking at Feature Importance**\n",
    "\n",
    "When we train a model to predict an outcome, it's important to understand which inputs to the model are most important in driving that prediction. This is where 'feature importance' methods come in.\n",
    "\n",
    "One way to measure feature importance is by using the permutation method. This involves randomly shuffling the values of a feature and testing the performance of the model with these permuted values. The amount that the model performance decreases when the feature's values are permuted can provide an indication of how important it is.\n",
    "\n",
    "For climate scientists, understanding feature importance can help identify key variables that contribute to predicting important outcomes, such as temperature or precipitation patterns.\n",
    "\n",
    "Thankfully, Sci-kit learn has a method that implements permutation importance, and outputs a normalized measure of how much each feature impacts performance."
   ]
  },
  {
   "cell_type": "code",
   "execution_count": null,
   "id": "afXyxUfgdM67",
   "metadata": {
    "cellView": "form",
    "execution": {},
    "id": "afXyxUfgdM67"
   },
   "outputs": [],
   "source": [
    "# execute this cell to enable the plotting function to be used for plotting performance of our model in next cell: `plot_feature_importance`\n",
    "\n",
    "def plot_feature_importance(perm_feat_imp):\n",
    "    # increase the size of the plot for better readability\n",
    "    plt.figure(figsize=(12, 8))\n",
    "\n",
    "    # plot the feature importance with error bars in navy blue color\n",
    "    plt.errorbar(np.arange(len(df_cleaned.columns)), perm_feat_imp['importances_mean'], perm_feat_imp['importances_std'], fmt='o', capsize=5, markersize=5, color='navy')\n",
    "\n",
    "    # set the x-axis and y-axis labels and title\n",
    "    plt.xlabel('Features', fontsize=14)\n",
    "    plt.ylabel('Importance', fontsize=14)\n",
    "    plt.title('Feature Importance Plot', fontsize=16)\n",
    "\n",
    "    # rotate the x-axis labels for better readability\n",
    "    plt.xticks(np.arange(len(df_cleaned.columns)), df_cleaned.columns, rotation=45, ha='right', fontsize=12)\n",
    "\n",
    "    # add gridlines for better visualization\n",
    "    plt.grid(True, axis='y', linestyle='--')\n",
    "\n",
    "    # bar plot\n",
    "    plt.bar(np.arange(len(df_cleaned.columns)), perm_feat_imp['importances_mean'], color='navy')\n",
    "\n",
    "    # display the plot\n",
    "    plt.show()"
   ]
  },
  {
   "cell_type": "code",
   "execution_count": null,
   "id": "LuqdCv4FdM68",
   "metadata": {
    "colab": {
     "base_uri": "https://localhost:8080/",
     "height": 951
    },
    "execution": {},
    "id": "LuqdCv4FdM68",
    "outputId": "2f4d288c-e93c-4b66-c276-0af1e977a503"
   },
   "outputs": [],
   "source": [
    "# Plot the feature importance of each input to the model\n",
    "\n",
    "# Use permutation_importance to calculate the feature importances of the trained random forest model\n",
    "# df_cleaned_train contains the preprocessed training dataset, cases_train contains the actual number of dengue fever cases in the training dataset\n",
    "# n_repeats specifies how many times the feature importances are calculated for each feature\n",
    "# random_state is used to seed the random number generator for reproducibility\n",
    "perm_feat_imp = permutation_importance(rf, df_cleaned_train, cases_train,\n",
    "                           n_repeats=10,\n",
    "                           random_state=0)\n",
    "\n",
    "# Create a plot of the feature importances\n",
    "plot_feature_importance(perm_feat_imp)"
   ]
  },
  {
   "cell_type": "markdown",
   "id": "VTbaHX2S8BUW",
   "metadata": {
    "execution": {},
    "id": "VTbaHX2S8BUW"
   },
   "source": [
    "<details>\n",
    "<summary> <font color='orangered'>Click here for description of plot </font></summary>\n",
    "\n",
    "The plot generated is a feature importance plot that provides insights into the importance of different features in predicting the target variable. Let's break down the key elements and address the specific issues raised.\n",
    "\n",
    "1. Feature Importance Representation:\n",
    "- Each bar in the plot represents a feature from the dataset.\n",
    "- The height of each bar represents the relative feature importance value.\n",
    "- Specifically, importance is measured as the decrease in performance that comes from permuting that feature.\n",
    "- Negative values typically indicate that the model performed better if the feature was removed.\n",
    "\n",
    "2. Error Bars and Variability:\n",
    "- The error bars present around each feature's bar represent the variability in importance values.\n",
    "- They indicate the uncertainty or variability in the importance estimates calculated through repeated permutations.\n",
    "- A longer error bar suggests higher variability, meaning the importance value for that feature may change significantly with different permutations.\n",
    "- Conversely, a shorter error bar indicates lower variability, indicating that the importance value is relatively stable and less influenced by random permutations.\n",
    "\n",
    "Understanding the feature importance plot empowers us to identify the most influential factors within our dataset. By recognizing these crucial features, we gain deeper insights into the underlying relationships within climate science data. This knowledge is invaluable for further analysis and informed decision-making processes within our field.\n",
    "\n",
    "It's important to note that the interpretation of feature importance can vary depending on the dataset and modeling technique employed. To gain a comprehensive understanding of feature importance analysis in the context of climate science, it is advisable to consult domain experts and explore additional resources tailored to your specific interests.\n",
    "\n",
    "By delving into the world of feature importance, we unlock the potential to unravel the intricate dynamics of our climate science data and make meaningful contributions to this fascinating field of study.\n",
    "\n",
    " </summary>"
   ]
  },
  {
   "cell_type": "markdown",
   "id": "EJ1y4x4X8BUW",
   "metadata": {
    "execution": {},
    "id": "EJ1y4x4X8BUW"
   },
   "source": [
    "### **Question 3.2: Climate Connection**\n",
    "Please think and discuss the following questions with your pod members:\n",
    "\n",
    "1. Which features were most important? Why do you suspect they would be?\n",
    "2. Which features were not? Are there other variables not included here you think that would be more relevant than those that were deemed 'not important'?"
   ]
  },
  {
   "cell_type": "code",
   "execution_count": null,
   "id": "fb20e272",
   "metadata": {},
   "outputs": [],
   "source": [
    "# to_remove explanation\n",
    "\"\"\"\n",
    "1. The plot above shows that the min_air_temp (minimum air temperature) has the highest importance score, followed by week of year and tdtr (diurnal temperature range). Warmer environments are more conducive to mosquito populations, and the week of year may be important due to the season. \n",
    "2. Surprisingly, these results suggest that some of the precipitation variables were not very helpful. One variable that might be more relevant to mosquito populatoins is an esimate of standing water.\n",
    "\"\"\";"
   ]
  },
  {
   "cell_type": "markdown",
   "id": "IFZVBmzu8BUX",
   "metadata": {
    "execution": {},
    "id": "IFZVBmzu8BUX"
   },
   "source": [
    "\n",
    "## **(Bonus) Section 3.3: Comparing Feature Importance Methods**\n",
    "\n",
    "The Random Forest Regression model also has a built-in estimation of feature importance. This estimation comes directly from how the decision trees are trained; specifically, it is a measure of how useful the feature is at splitting the data averaged across all nodes and trees. We can access these values directly from the trained model.\n",
    "\n",
    "Different methods of estimating feature importance can come to different conclusions and may have different biases. Therefore, it is good to compare estimations across methods. How do these two methods compare? "
   ]
  },
  {
   "cell_type": "code",
   "execution_count": null,
   "id": "i2-RQwIw8BUX",
   "metadata": {
    "colab": {
     "base_uri": "https://localhost:8080/",
     "height": 797
    },
    "execution": {},
    "id": "i2-RQwIw8BUX",
    "outputId": "aaea6391-ebd6-4b7d-f1b8-b61ddc41dea9"
   },
   "outputs": [],
   "source": [
    "# set the figure size for better readability\n",
    "plt.figure(figsize=(10, 6))\n",
    "\n",
    "# create a bar chart of the feature importances returned by the random forest model\n",
    "plt.bar(np.arange(len(rf.feature_importances_)), rf.feature_importances_, color='navy')\n",
    "\n",
    "# set the x-axis and y-axis labels and title\n",
    "plt.xlabel('Features', fontsize=14)\n",
    "plt.ylabel('Importance', fontsize=14)\n",
    "plt.title('Feature Importance Plot', fontsize=16)\n",
    "\n",
    "# rotate the x-axis labels for better readability\n",
    "plt.xticks(np.arange(len(df_cleaned.columns)), df_cleaned.columns, rotation=45, ha='right', fontsize=12)\n",
    "\n",
    "# set the y-axis limit to better visualize the differences in feature importance\n",
    "plt.ylim(0, rf.feature_importances_.max() * 1.1)\n",
    "\n",
    "# add gridlines for better visualization\n",
    "plt.grid(True, axis='y', linestyle='--')\n",
    "\n",
    "# display the plot\n",
    "plt.show()"
   ]
  },
  {
   "cell_type": "markdown",
   "id": "cXiY9CWU8BUX",
   "metadata": {
    "execution": {},
    "id": "cXiY9CWU8BUX"
   },
   "source": [
    "\n",
    "<details>\n",
    "<summary> <font color='orangered'>Click here for description of plot </font></summary>\n",
    "\n",
    "The bar chart displays the feature importances returned by the random forest model. Each bar represents the relative importance of each feature in predicting the number of dengue fever cases in the preprocessed dataset. The y-axis represents the importance of the features, while the x-axis displays the name of the features."
   ]
  },
  {
   "cell_type": "markdown",
   "id": "24d9b28b",
   "metadata": {},
   "source": [
    "### **Question 3.3: Climate Connection**\n",
    "Please think and discuss the following questions with your pod members:\n",
    "\n",
    "1. How does this compare to the feature importance figure calculated using the permuation method above?\n",
    "2. Do the differences agree more or less with your own expectations of which variables would be most important?"
   ]
  },
  {
   "cell_type": "code",
   "execution_count": null,
   "id": "38c24e8f",
   "metadata": {},
   "outputs": [],
   "source": [
    "# to_remove explanation\n",
    "\"\"\"\n",
    "1. Unlike the previous estimate of importance, here week of year, temperature variables and precipitation and humidity are all important. This underpins the importance of using multiple methods for estimating feature importance.\n",
    "2. The important features with the built-in method shown here agree likely more with expectations: hot and humid environments are both supportive of mosquito populations. Note: we have used the training data to evaluate feature importance (this is mandatory for the built-in method); different results may come from using the test data. \n",
    "\"\"\";"
   ]
  },
  {
   "cell_type": "markdown",
   "id": "Rod5BrQakSJf",
   "metadata": {
    "execution": {},
    "id": "Rod5BrQakSJf"
   },
   "source": [
    "# **Summary**\n",
    "\n",
    "In this tutorial, you explored various methods of analyzing the Dengue Fever dataset from a climate science perspective. You started by using pandas to handle the data and visualizing trends and anomalies. Next, you applied linear regression to model the data and handle categorical and integer-valued data. Finally, you applied random forest regression to improve the performance of the model and learned about feature importance. Overall, learners gained practical experience in using different modeling techniques to analyze and make predictions about real-world climate data. \n",
    "\n"
   ]
  },
  {
   "cell_type": "markdown",
   "id": "ytSWAGmQ8BUY",
   "metadata": {
    "execution": {},
    "id": "ytSWAGmQ8BUY"
   },
   "source": [
    "# Extra Exercises or Project Ideas\n",
    "\n",
    "1. Try experimenting with different hyperparameters for the random forest model, such as n_estimators, max_depth, and min_samples_leaf. How do these hyperparameters affect the performance of the model? \n",
    "\n",
    "2. Try using a different machine learning algorithm to predict the number of Dengue fever cases, such as a support vector machine. How does the performance of these algorithms compare to the random forest model?\n",
    "\n",
    "3. Try using a different dataset to predict the number of cases of a different disease or health condition. How does the preprocessing and modeling process differ for this dataset compared to the Dengue fever dataset?\n",
    "\n",
    "4. Try visualizing the decision tree of the random forest model using the plot_tree function of the sklearn package. What insights can you gain from the visualization of the decision tree?\n"
   ]
  },
  {
   "cell_type": "markdown",
   "id": "ad7bd6e6",
   "metadata": {},
   "source": [
    "# **Resources**\n",
    "\n",
    "Data from this tutorial can be accessed [here](https://www.drivendata.org/competitions/44/dengai-predicting-disease-spread/page/81/)."
   ]
  }
 ],
 "metadata": {
  "colab": {
   "include_colab_link": true,
   "provenance": [],
   "toc_visible": true
  },
  "kernel": {
   "display_name": "Python 3",
   "language": "python",
   "name": "python3"
  },
  "kernelspec": {
   "display_name": "climatematch",
   "language": "python",
   "name": "climatematch"
  },
  "language_info": {
   "codemirror_mode": {
    "name": "ipython",
    "version": 3
   },
   "file_extension": ".py",
   "mimetype": "text/x-python",
   "name": "python",
   "nbconvert_exporter": "python",
   "pygments_lexer": "ipython3",
   "version": "3.10.11"
  },
  "widgets": {
   "application/vnd.jupyter.widget-state+json": {
    "15ce72894d9a4c42a921b4bcfa1c8089": {
     "model_module": "@jupyter-widgets/output",
     "model_module_version": "1.0.0",
     "model_name": "OutputModel",
     "state": {
      "_dom_classes": [],
      "_model_module": "@jupyter-widgets/output",
      "_model_module_version": "1.0.0",
      "_model_name": "OutputModel",
      "_view_count": null,
      "_view_module": "@jupyter-widgets/output",
      "_view_module_version": "1.0.0",
      "_view_name": "OutputView",
      "layout": "IPY_MODEL_74bb1e1ee7ee400d9fb0e7866a35b857",
      "msg_id": "",
      "outputs": [
       {
        "name": "stdout",
        "output_type": "stream",
        "text": [
         "Video available at https://www.bilibili.com/video/\n"
        ]
       },
       {
        "data": {
         "text/html": "\n        <iframe\n            width=\"854\"\n            height=\"480\"\n            src=\"https://player.bilibili.com/player.html?bvid=&page=1?fs=1\"\n            frameborder=\"0\"\n            allowfullscreen\n            \n        ></iframe>\n        ",
         "text/plain": "<__main__.BiliVideo at 0x7fd634913010>"
        },
        "metadata": {},
        "output_type": "display_data"
       }
      ]
     }
    },
    "1825953019954ae5b4533e7f0f5e9fb1": {
     "model_module": "@jupyter-widgets/base",
     "model_module_version": "1.2.0",
     "model_name": "LayoutModel",
     "state": {
      "_model_module": "@jupyter-widgets/base",
      "_model_module_version": "1.2.0",
      "_model_name": "LayoutModel",
      "_view_count": null,
      "_view_module": "@jupyter-widgets/base",
      "_view_module_version": "1.2.0",
      "_view_name": "LayoutView",
      "align_content": null,
      "align_items": null,
      "align_self": null,
      "border": null,
      "bottom": null,
      "display": null,
      "flex": null,
      "flex_flow": null,
      "grid_area": null,
      "grid_auto_columns": null,
      "grid_auto_flow": null,
      "grid_auto_rows": null,
      "grid_column": null,
      "grid_gap": null,
      "grid_row": null,
      "grid_template_areas": null,
      "grid_template_columns": null,
      "grid_template_rows": null,
      "height": null,
      "justify_content": null,
      "justify_items": null,
      "left": null,
      "margin": null,
      "max_height": null,
      "max_width": null,
      "min_height": null,
      "min_width": null,
      "object_fit": null,
      "object_position": null,
      "order": null,
      "overflow": null,
      "overflow_x": null,
      "overflow_y": null,
      "padding": null,
      "right": null,
      "top": null,
      "visibility": null,
      "width": null
     }
    },
    "2bc9d95541e946cabe3b277df69ca42e": {
     "model_module": "@jupyter-widgets/base",
     "model_module_version": "1.2.0",
     "model_name": "LayoutModel",
     "state": {
      "_model_module": "@jupyter-widgets/base",
      "_model_module_version": "1.2.0",
      "_model_name": "LayoutModel",
      "_view_count": null,
      "_view_module": "@jupyter-widgets/base",
      "_view_module_version": "1.2.0",
      "_view_name": "LayoutView",
      "align_content": null,
      "align_items": null,
      "align_self": null,
      "border": null,
      "bottom": null,
      "display": null,
      "flex": null,
      "flex_flow": null,
      "grid_area": null,
      "grid_auto_columns": null,
      "grid_auto_flow": null,
      "grid_auto_rows": null,
      "grid_column": null,
      "grid_gap": null,
      "grid_row": null,
      "grid_template_areas": null,
      "grid_template_columns": null,
      "grid_template_rows": null,
      "height": null,
      "justify_content": null,
      "justify_items": null,
      "left": null,
      "margin": null,
      "max_height": null,
      "max_width": null,
      "min_height": null,
      "min_width": null,
      "object_fit": null,
      "object_position": null,
      "order": null,
      "overflow": null,
      "overflow_x": null,
      "overflow_y": null,
      "padding": null,
      "right": null,
      "top": null,
      "visibility": null,
      "width": null
     }
    },
    "3d720b2014d24acfaf3f751ab8dcd38f": {
     "model_module": "@jupyter-widgets/output",
     "model_module_version": "1.0.0",
     "model_name": "OutputModel",
     "state": {
      "_dom_classes": [],
      "_model_module": "@jupyter-widgets/output",
      "_model_module_version": "1.0.0",
      "_model_name": "OutputModel",
      "_view_count": null,
      "_view_module": "@jupyter-widgets/output",
      "_view_module_version": "1.0.0",
      "_view_name": "OutputView",
      "layout": "IPY_MODEL_1825953019954ae5b4533e7f0f5e9fb1",
      "msg_id": "",
      "outputs": [
       {
        "name": "stdout",
        "output_type": "stream",
        "text": [
         "Video available at https://youtube.com/watch?v=\n"
        ]
       },
       {
        "data": {
         "text/html": "\n        <iframe\n            width=\"854\"\n            height=\"480\"\n            src=\"https://www.youtube.com/embed/?fs=1&rel=0\"\n            frameborder=\"0\"\n            allowfullscreen\n            \n        ></iframe>\n        ",
         "text/plain": "<IPython.lib.display.YouTubeVideo at 0x7fd635636830>"
        },
        "metadata": {},
        "output_type": "display_data"
       }
      ]
     }
    },
    "44163de856e3455fab3db293cada1477": {
     "model_module": "@jupyter-widgets/controls",
     "model_module_version": "1.5.0",
     "model_name": "TabModel",
     "state": {
      "_dom_classes": [],
      "_model_module": "@jupyter-widgets/controls",
      "_model_module_version": "1.5.0",
      "_model_name": "TabModel",
      "_titles": {
       "0": "Youtube",
       "1": "Bilibili"
      },
      "_view_count": null,
      "_view_module": "@jupyter-widgets/controls",
      "_view_module_version": "1.5.0",
      "_view_name": "TabView",
      "box_style": "",
      "children": [
       "IPY_MODEL_3d720b2014d24acfaf3f751ab8dcd38f",
       "IPY_MODEL_15ce72894d9a4c42a921b4bcfa1c8089"
      ],
      "layout": "IPY_MODEL_2bc9d95541e946cabe3b277df69ca42e",
      "selected_index": 0
     }
    },
    "74bb1e1ee7ee400d9fb0e7866a35b857": {
     "model_module": "@jupyter-widgets/base",
     "model_module_version": "1.2.0",
     "model_name": "LayoutModel",
     "state": {
      "_model_module": "@jupyter-widgets/base",
      "_model_module_version": "1.2.0",
      "_model_name": "LayoutModel",
      "_view_count": null,
      "_view_module": "@jupyter-widgets/base",
      "_view_module_version": "1.2.0",
      "_view_name": "LayoutView",
      "align_content": null,
      "align_items": null,
      "align_self": null,
      "border": null,
      "bottom": null,
      "display": null,
      "flex": null,
      "flex_flow": null,
      "grid_area": null,
      "grid_auto_columns": null,
      "grid_auto_flow": null,
      "grid_auto_rows": null,
      "grid_column": null,
      "grid_gap": null,
      "grid_row": null,
      "grid_template_areas": null,
      "grid_template_columns": null,
      "grid_template_rows": null,
      "height": null,
      "justify_content": null,
      "justify_items": null,
      "left": null,
      "margin": null,
      "max_height": null,
      "max_width": null,
      "min_height": null,
      "min_width": null,
      "object_fit": null,
      "object_position": null,
      "order": null,
      "overflow": null,
      "overflow_x": null,
      "overflow_y": null,
      "padding": null,
      "right": null,
      "top": null,
      "visibility": null,
      "width": null
     }
    }
   }
  }
 },
 "nbformat": 4,
 "nbformat_minor": 5
}
