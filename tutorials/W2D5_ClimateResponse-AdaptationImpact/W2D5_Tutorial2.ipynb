{
 "cells": [
  {
   "cell_type": "markdown",
   "id": "f52dc563",
   "metadata": {
    "execution": {}
   },
   "source": [
    "[![Open In Colab](https://colab.research.google.com/assets/colab-badge.svg)](https://colab.research.google.com/github/ClimateMatchAcademy/course-content/blob/main/tutorials/W2D5_ClimateResponse-AdaptationImpact/W2D5_Tutorial2.ipynb) &nbsp; <a href=\"https://kaggle.com/kernels/welcome?src=https://raw.githubusercontent.com/{ORG}/course-content/main/tutorials/W2D5_ClimateResponse-AdaptationImpact/W2D5_Tutorial2.ipynb\" target=\"_parent\"><img src=\"https://kaggle.com/static/images/open-in-kaggle.svg\" alt=\"Open in Kaggle\"/></a>"
   ]
  },
  {
   "cell_type": "markdown",
   "id": "myt07YFyNgmw",
   "metadata": {
    "execution": {}
   },
   "source": [
    "# **Tutorial 2:  Regression and Decision Trees on the Dengue Fever Dataset**\n",
    "\n",
    "\n",
    "\n",
    "\n",
    "**Week 2, Day 5: Adaptation and Impact**\n",
    "\n",
    "__Content creators:__ Deepak Mewada, Grace Lindsay\n",
    "\n",
    "__Content reviewers:__ Dionessa Biton, Younkap Nina Duplex, Sloane Garelick, Zahra Khodakaramimaghsoud, Peter Ohue, Jenna Pearson, Derick Temfack, Peizhen Yang, Cheng Zhang, Chi Zhang, Ohad Zivan\n",
    "\n",
    "__Content editors:__ Jenna Pearson, Chi Zhang, Ohad Zivan\n",
    "\n",
    "__Production editors:__ Wesley Banfield, Jenna Pearson, Chi Zhang, Ohad Zivan\n",
    "\n",
    "**Our 2023 Sponsors:** NASA TOPS and Google deepmind"
   ]
  },
  {
   "cell_type": "markdown",
   "id": "kDQc1jnoNWcp",
   "metadata": {
    "execution": {}
   },
   "source": [
    "# **Tutorial Objectives**\n",
    "\n",
    "Welcome to tutorial 2 of a series focused on understanding the role of data science and machine learning in addressing the impact of climate change and adapting to it.\n",
    "\n",
    "In this tutorial, we will explore a dataset that relates weather variables to dengue fever cases. By the end of the tutorial, you will be able to:\n",
    "\n",
    "- Load the data into pandas dataframes and visualize it to see obvious trends.\n",
    "- Apply linear regression to the Dengue dataset: clean the data, implement linear regression using scikit-learn, and evaluate its performance. This will include handling categorical data using dummy variables and using scikit-learn's Poisson GLM method to handle integer-valued data.\n",
    "- Apply additional methods to the Dengue Fever dataset, including implementing Random Forest Regression, discussing and analyzing its performance, and measuring feature importance.\n",
    "\n",
    "This tutorial will provide you with practical experience in working with real-world datasets and implementing different regression techniques.\n"
   ]
  },
  {
   "cell_type": "markdown",
   "id": "Vtq0OyoRNPcc",
   "metadata": {
    "execution": {}
   },
   "source": [
    "\n",
    "\n",
    "# **Setup**"
   ]
  },
  {
   "cell_type": "code",
   "execution_count": 1,
   "id": "Kwsl6-KNNPcc",
   "metadata": {
    "pycharm": {
     "name": "#%%\n"
    },
    "tags": []
   },
   "outputs": [],
   "source": [
    "# imports\n",
    "\n",
    "import numpy as np  # import the numpy library as np\n",
    "from sklearn.linear_model import LinearRegression # import the LinearRegression class from the sklearn.linear_model module\n",
    "import matplotlib.pyplot as plt # import the pyplot module from the matplotlib library\n",
    "import pandas as pd #import the pandas library and the drive function from the google.colab module\n",
    "from sklearn.metrics import mean_absolute_error\n",
    "from sklearn.metrics import mean_squared_error\n",
    "from sklearn.ensemble import RandomForestRegressor\n",
    "from sklearn.inspection import permutation_importance\n",
    "from sklearn.linear_model import PoissonRegressor\n",
    "\n",
    "from matplotlib import cm\n",
    "import pooch\n",
    "import os\n",
    "import tempfile"
   ]
  },
  {
   "cell_type": "code",
   "execution_count": 2,
   "id": "2438d815",
   "metadata": {
    "cellView": "form",
    "tags": []
   },
   "outputs": [],
   "source": [
    "# @title Figure Settings\n",
    "import ipywidgets as widgets       # interactive display\n",
    "plt.style.use(\"https://raw.githubusercontent.com/ClimateMatchAcademy/course-content/main/cma.mplstyle\")\n",
    "%matplotlib inline\n"
   ]
  },
  {
   "cell_type": "code",
   "execution_count": 3,
   "id": "ffe05230-354c-4d4a-86ea-f1c10e3927fb",
   "metadata": {
    "cellView": "form",
    "tags": []
   },
   "outputs": [],
   "source": [
    "# @title Video 1: Speaker Introduction\n",
    "#Tech team will add code to format and display the video"
   ]
  },
  {
   "cell_type": "code",
   "execution_count": 5,
   "id": "c70a09b4-3625-4248-965e-ed5c659b3b93",
   "metadata": {},
   "outputs": [],
   "source": [
    "# helper functions\n",
    "\n",
    "def pooch_load(filelocation=None,filename=None,processor=None):\n",
    "    shared_location='/home/jovyan/shared/Data/tutorials/W2D5_ClimateResponse-AdaptationImpact' # this is different for each day\n",
    "    user_temp_cache=tempfile.gettempdir()\n",
    "    \n",
    "    if os.path.exists(os.path.join(shared_location,filename)):\n",
    "        file = os.path.join(shared_location,filename)\n",
    "    else:\n",
    "        file = pooch.retrieve(filelocation,known_hash=None,fname=os.path.join(user_temp_cache,filename),processor=processor)\n",
    "\n",
    "    return file"
   ]
  },
  {
   "cell_type": "markdown",
   "id": "nULavCfq4o07",
   "metadata": {
    "execution": {}
   },
   "source": [
    "\n",
    "\n",
    "# **Section 1: Loading and Exploring Dengue Fever Data Set**\n",
    "\n",
    "\n",
    "\n",
    "\n"
   ]
  },
  {
   "cell_type": "markdown",
   "id": "j9n17gXFOIXX",
   "metadata": {
    "execution": {}
   },
   "source": [
    "\n",
    "\n",
    "\n",
    "## **Section 1.1:  Loading the Environmental Data**\n",
    "\n",
    "\n"
   ]
  },
  {
   "cell_type": "markdown",
   "id": "a2c27233",
   "metadata": {
    "execution": {}
   },
   "source": [
    "As discussed in the video, we are working with a [data set](https://www.drivendata.org/competitions/44/dengai-predicting-disease-spread/page/81/) provided by [DrivenData](https://arxiv.org/abs/1606.07781) that centers on the goal of predicting dengue fever cases based on environmental variables.\n",
    "\n",
    "We will use pandas to interface with the data, which is shared in the .csv format. First, let's load the environmental data into a pandas dataframe and print its contents"
   ]
  },
  {
   "cell_type": "code",
   "execution_count": 6,
   "id": "hpeaOl-v3Mod",
   "metadata": {
    "tags": []
   },
   "outputs": [
    {
     "name": "stderr",
     "output_type": "stream",
     "text": [
      "Downloading data from 'https://osf.io/wm9un/download/' to file '/tmp/dengue_features_train.csv'.\n",
      "SHA256 hash of downloaded file: 2d983a71d413fadd93a763a8f5928020283cd4d4abe4ca4bd951392034fd657f\n",
      "Use this value as the 'known_hash' argument of 'pooch.retrieve' to ensure that the file hasn't changed if it is downloaded again in the future.\n"
     ]
    }
   ],
   "source": [
    "# loading a CSV file named 'dengue_features_train(1).csv' into a pandas DataFrame named 'df'\n",
    "filename_dengue='dengue_features_train.csv'\n",
    "url_dengue = \"https://osf.io/wm9un/download/\"\n",
    "\n",
    "df_features = pd.read_csv(pooch_load(url_dengue,filename_dengue))"
   ]
  },
  {
   "cell_type": "markdown",
   "id": "1dOsBX8X6ScK",
   "metadata": {
    "execution": {}
   },
   "source": [
    "\n",
    "\n",
    "\n",
    "## **Section 1.2:  Explore the Dataset**\n",
    "\n",
    "\n"
   ]
  },
  {
   "cell_type": "code",
   "execution_count": 7,
   "id": "Vv82LGM26hiD",
   "metadata": {
    "tags": []
   },
   "outputs": [
    {
     "data": {
      "text/html": [
       "<div>\n",
       "<style scoped>\n",
       "    .dataframe tbody tr th:only-of-type {\n",
       "        vertical-align: middle;\n",
       "    }\n",
       "\n",
       "    .dataframe tbody tr th {\n",
       "        vertical-align: top;\n",
       "    }\n",
       "\n",
       "    .dataframe thead th {\n",
       "        text-align: right;\n",
       "    }\n",
       "</style>\n",
       "<table border=\"1\" class=\"dataframe\">\n",
       "  <thead>\n",
       "    <tr style=\"text-align: right;\">\n",
       "      <th></th>\n",
       "      <th>city</th>\n",
       "      <th>year</th>\n",
       "      <th>weekofyear</th>\n",
       "      <th>week_start_date</th>\n",
       "      <th>ndvi_ne</th>\n",
       "      <th>ndvi_nw</th>\n",
       "      <th>ndvi_se</th>\n",
       "      <th>ndvi_sw</th>\n",
       "      <th>precipitation_amt_mm</th>\n",
       "      <th>reanalysis_air_temp_k</th>\n",
       "      <th>...</th>\n",
       "      <th>reanalysis_precip_amt_kg_per_m2</th>\n",
       "      <th>reanalysis_relative_humidity_percent</th>\n",
       "      <th>reanalysis_sat_precip_amt_mm</th>\n",
       "      <th>reanalysis_specific_humidity_g_per_kg</th>\n",
       "      <th>reanalysis_tdtr_k</th>\n",
       "      <th>station_avg_temp_c</th>\n",
       "      <th>station_diur_temp_rng_c</th>\n",
       "      <th>station_max_temp_c</th>\n",
       "      <th>station_min_temp_c</th>\n",
       "      <th>station_precip_mm</th>\n",
       "    </tr>\n",
       "  </thead>\n",
       "  <tbody>\n",
       "    <tr>\n",
       "      <th>0</th>\n",
       "      <td>sj</td>\n",
       "      <td>1990</td>\n",
       "      <td>18</td>\n",
       "      <td>1990-04-30</td>\n",
       "      <td>0.122600</td>\n",
       "      <td>0.103725</td>\n",
       "      <td>0.198483</td>\n",
       "      <td>0.177617</td>\n",
       "      <td>12.42</td>\n",
       "      <td>297.572857</td>\n",
       "      <td>...</td>\n",
       "      <td>32.00</td>\n",
       "      <td>73.365714</td>\n",
       "      <td>12.42</td>\n",
       "      <td>14.012857</td>\n",
       "      <td>2.628571</td>\n",
       "      <td>25.442857</td>\n",
       "      <td>6.900000</td>\n",
       "      <td>29.4</td>\n",
       "      <td>20.0</td>\n",
       "      <td>16.0</td>\n",
       "    </tr>\n",
       "    <tr>\n",
       "      <th>1</th>\n",
       "      <td>sj</td>\n",
       "      <td>1990</td>\n",
       "      <td>19</td>\n",
       "      <td>1990-05-07</td>\n",
       "      <td>0.169900</td>\n",
       "      <td>0.142175</td>\n",
       "      <td>0.162357</td>\n",
       "      <td>0.155486</td>\n",
       "      <td>22.82</td>\n",
       "      <td>298.211429</td>\n",
       "      <td>...</td>\n",
       "      <td>17.94</td>\n",
       "      <td>77.368571</td>\n",
       "      <td>22.82</td>\n",
       "      <td>15.372857</td>\n",
       "      <td>2.371429</td>\n",
       "      <td>26.714286</td>\n",
       "      <td>6.371429</td>\n",
       "      <td>31.7</td>\n",
       "      <td>22.2</td>\n",
       "      <td>8.6</td>\n",
       "    </tr>\n",
       "    <tr>\n",
       "      <th>2</th>\n",
       "      <td>sj</td>\n",
       "      <td>1990</td>\n",
       "      <td>20</td>\n",
       "      <td>1990-05-14</td>\n",
       "      <td>0.032250</td>\n",
       "      <td>0.172967</td>\n",
       "      <td>0.157200</td>\n",
       "      <td>0.170843</td>\n",
       "      <td>34.54</td>\n",
       "      <td>298.781429</td>\n",
       "      <td>...</td>\n",
       "      <td>26.10</td>\n",
       "      <td>82.052857</td>\n",
       "      <td>34.54</td>\n",
       "      <td>16.848571</td>\n",
       "      <td>2.300000</td>\n",
       "      <td>26.714286</td>\n",
       "      <td>6.485714</td>\n",
       "      <td>32.2</td>\n",
       "      <td>22.8</td>\n",
       "      <td>41.4</td>\n",
       "    </tr>\n",
       "    <tr>\n",
       "      <th>3</th>\n",
       "      <td>sj</td>\n",
       "      <td>1990</td>\n",
       "      <td>21</td>\n",
       "      <td>1990-05-21</td>\n",
       "      <td>0.128633</td>\n",
       "      <td>0.245067</td>\n",
       "      <td>0.227557</td>\n",
       "      <td>0.235886</td>\n",
       "      <td>15.36</td>\n",
       "      <td>298.987143</td>\n",
       "      <td>...</td>\n",
       "      <td>13.90</td>\n",
       "      <td>80.337143</td>\n",
       "      <td>15.36</td>\n",
       "      <td>16.672857</td>\n",
       "      <td>2.428571</td>\n",
       "      <td>27.471429</td>\n",
       "      <td>6.771429</td>\n",
       "      <td>33.3</td>\n",
       "      <td>23.3</td>\n",
       "      <td>4.0</td>\n",
       "    </tr>\n",
       "    <tr>\n",
       "      <th>4</th>\n",
       "      <td>sj</td>\n",
       "      <td>1990</td>\n",
       "      <td>22</td>\n",
       "      <td>1990-05-28</td>\n",
       "      <td>0.196200</td>\n",
       "      <td>0.262200</td>\n",
       "      <td>0.251200</td>\n",
       "      <td>0.247340</td>\n",
       "      <td>7.52</td>\n",
       "      <td>299.518571</td>\n",
       "      <td>...</td>\n",
       "      <td>12.20</td>\n",
       "      <td>80.460000</td>\n",
       "      <td>7.52</td>\n",
       "      <td>17.210000</td>\n",
       "      <td>3.014286</td>\n",
       "      <td>28.942857</td>\n",
       "      <td>9.371429</td>\n",
       "      <td>35.0</td>\n",
       "      <td>23.9</td>\n",
       "      <td>5.8</td>\n",
       "    </tr>\n",
       "    <tr>\n",
       "      <th>...</th>\n",
       "      <td>...</td>\n",
       "      <td>...</td>\n",
       "      <td>...</td>\n",
       "      <td>...</td>\n",
       "      <td>...</td>\n",
       "      <td>...</td>\n",
       "      <td>...</td>\n",
       "      <td>...</td>\n",
       "      <td>...</td>\n",
       "      <td>...</td>\n",
       "      <td>...</td>\n",
       "      <td>...</td>\n",
       "      <td>...</td>\n",
       "      <td>...</td>\n",
       "      <td>...</td>\n",
       "      <td>...</td>\n",
       "      <td>...</td>\n",
       "      <td>...</td>\n",
       "      <td>...</td>\n",
       "      <td>...</td>\n",
       "      <td>...</td>\n",
       "    </tr>\n",
       "    <tr>\n",
       "      <th>1451</th>\n",
       "      <td>iq</td>\n",
       "      <td>2010</td>\n",
       "      <td>21</td>\n",
       "      <td>2010-05-28</td>\n",
       "      <td>0.342750</td>\n",
       "      <td>0.318900</td>\n",
       "      <td>0.256343</td>\n",
       "      <td>0.292514</td>\n",
       "      <td>55.30</td>\n",
       "      <td>299.334286</td>\n",
       "      <td>...</td>\n",
       "      <td>45.00</td>\n",
       "      <td>88.765714</td>\n",
       "      <td>55.30</td>\n",
       "      <td>18.485714</td>\n",
       "      <td>9.800000</td>\n",
       "      <td>28.633333</td>\n",
       "      <td>11.933333</td>\n",
       "      <td>35.4</td>\n",
       "      <td>22.4</td>\n",
       "      <td>27.0</td>\n",
       "    </tr>\n",
       "    <tr>\n",
       "      <th>1452</th>\n",
       "      <td>iq</td>\n",
       "      <td>2010</td>\n",
       "      <td>22</td>\n",
       "      <td>2010-06-04</td>\n",
       "      <td>0.160157</td>\n",
       "      <td>0.160371</td>\n",
       "      <td>0.136043</td>\n",
       "      <td>0.225657</td>\n",
       "      <td>86.47</td>\n",
       "      <td>298.330000</td>\n",
       "      <td>...</td>\n",
       "      <td>207.10</td>\n",
       "      <td>91.600000</td>\n",
       "      <td>86.47</td>\n",
       "      <td>18.070000</td>\n",
       "      <td>7.471429</td>\n",
       "      <td>27.433333</td>\n",
       "      <td>10.500000</td>\n",
       "      <td>34.7</td>\n",
       "      <td>21.7</td>\n",
       "      <td>36.6</td>\n",
       "    </tr>\n",
       "    <tr>\n",
       "      <th>1453</th>\n",
       "      <td>iq</td>\n",
       "      <td>2010</td>\n",
       "      <td>23</td>\n",
       "      <td>2010-06-11</td>\n",
       "      <td>0.247057</td>\n",
       "      <td>0.146057</td>\n",
       "      <td>0.250357</td>\n",
       "      <td>0.233714</td>\n",
       "      <td>58.94</td>\n",
       "      <td>296.598571</td>\n",
       "      <td>...</td>\n",
       "      <td>50.60</td>\n",
       "      <td>94.280000</td>\n",
       "      <td>58.94</td>\n",
       "      <td>17.008571</td>\n",
       "      <td>7.500000</td>\n",
       "      <td>24.400000</td>\n",
       "      <td>6.900000</td>\n",
       "      <td>32.2</td>\n",
       "      <td>19.2</td>\n",
       "      <td>7.4</td>\n",
       "    </tr>\n",
       "    <tr>\n",
       "      <th>1454</th>\n",
       "      <td>iq</td>\n",
       "      <td>2010</td>\n",
       "      <td>24</td>\n",
       "      <td>2010-06-18</td>\n",
       "      <td>0.333914</td>\n",
       "      <td>0.245771</td>\n",
       "      <td>0.278886</td>\n",
       "      <td>0.325486</td>\n",
       "      <td>59.67</td>\n",
       "      <td>296.345714</td>\n",
       "      <td>...</td>\n",
       "      <td>62.33</td>\n",
       "      <td>94.660000</td>\n",
       "      <td>59.67</td>\n",
       "      <td>16.815714</td>\n",
       "      <td>7.871429</td>\n",
       "      <td>25.433333</td>\n",
       "      <td>8.733333</td>\n",
       "      <td>31.2</td>\n",
       "      <td>21.0</td>\n",
       "      <td>16.0</td>\n",
       "    </tr>\n",
       "    <tr>\n",
       "      <th>1455</th>\n",
       "      <td>iq</td>\n",
       "      <td>2010</td>\n",
       "      <td>25</td>\n",
       "      <td>2010-06-25</td>\n",
       "      <td>0.298186</td>\n",
       "      <td>0.232971</td>\n",
       "      <td>0.274214</td>\n",
       "      <td>0.315757</td>\n",
       "      <td>63.22</td>\n",
       "      <td>298.097143</td>\n",
       "      <td>...</td>\n",
       "      <td>36.90</td>\n",
       "      <td>89.082857</td>\n",
       "      <td>63.22</td>\n",
       "      <td>17.355714</td>\n",
       "      <td>11.014286</td>\n",
       "      <td>27.475000</td>\n",
       "      <td>9.900000</td>\n",
       "      <td>33.7</td>\n",
       "      <td>22.2</td>\n",
       "      <td>20.4</td>\n",
       "    </tr>\n",
       "  </tbody>\n",
       "</table>\n",
       "<p>1456 rows × 24 columns</p>\n",
       "</div>"
      ],
      "text/plain": [
       "     city  year  weekofyear week_start_date   ndvi_ne   ndvi_nw   ndvi_se  \\\n",
       "0      sj  1990          18      1990-04-30  0.122600  0.103725  0.198483   \n",
       "1      sj  1990          19      1990-05-07  0.169900  0.142175  0.162357   \n",
       "2      sj  1990          20      1990-05-14  0.032250  0.172967  0.157200   \n",
       "3      sj  1990          21      1990-05-21  0.128633  0.245067  0.227557   \n",
       "4      sj  1990          22      1990-05-28  0.196200  0.262200  0.251200   \n",
       "...   ...   ...         ...             ...       ...       ...       ...   \n",
       "1451   iq  2010          21      2010-05-28  0.342750  0.318900  0.256343   \n",
       "1452   iq  2010          22      2010-06-04  0.160157  0.160371  0.136043   \n",
       "1453   iq  2010          23      2010-06-11  0.247057  0.146057  0.250357   \n",
       "1454   iq  2010          24      2010-06-18  0.333914  0.245771  0.278886   \n",
       "1455   iq  2010          25      2010-06-25  0.298186  0.232971  0.274214   \n",
       "\n",
       "       ndvi_sw  precipitation_amt_mm  reanalysis_air_temp_k  ...  \\\n",
       "0     0.177617                 12.42             297.572857  ...   \n",
       "1     0.155486                 22.82             298.211429  ...   \n",
       "2     0.170843                 34.54             298.781429  ...   \n",
       "3     0.235886                 15.36             298.987143  ...   \n",
       "4     0.247340                  7.52             299.518571  ...   \n",
       "...        ...                   ...                    ...  ...   \n",
       "1451  0.292514                 55.30             299.334286  ...   \n",
       "1452  0.225657                 86.47             298.330000  ...   \n",
       "1453  0.233714                 58.94             296.598571  ...   \n",
       "1454  0.325486                 59.67             296.345714  ...   \n",
       "1455  0.315757                 63.22             298.097143  ...   \n",
       "\n",
       "      reanalysis_precip_amt_kg_per_m2  reanalysis_relative_humidity_percent  \\\n",
       "0                               32.00                             73.365714   \n",
       "1                               17.94                             77.368571   \n",
       "2                               26.10                             82.052857   \n",
       "3                               13.90                             80.337143   \n",
       "4                               12.20                             80.460000   \n",
       "...                               ...                                   ...   \n",
       "1451                            45.00                             88.765714   \n",
       "1452                           207.10                             91.600000   \n",
       "1453                            50.60                             94.280000   \n",
       "1454                            62.33                             94.660000   \n",
       "1455                            36.90                             89.082857   \n",
       "\n",
       "      reanalysis_sat_precip_amt_mm  reanalysis_specific_humidity_g_per_kg  \\\n",
       "0                            12.42                              14.012857   \n",
       "1                            22.82                              15.372857   \n",
       "2                            34.54                              16.848571   \n",
       "3                            15.36                              16.672857   \n",
       "4                             7.52                              17.210000   \n",
       "...                            ...                                    ...   \n",
       "1451                         55.30                              18.485714   \n",
       "1452                         86.47                              18.070000   \n",
       "1453                         58.94                              17.008571   \n",
       "1454                         59.67                              16.815714   \n",
       "1455                         63.22                              17.355714   \n",
       "\n",
       "      reanalysis_tdtr_k  station_avg_temp_c  station_diur_temp_rng_c  \\\n",
       "0              2.628571           25.442857                 6.900000   \n",
       "1              2.371429           26.714286                 6.371429   \n",
       "2              2.300000           26.714286                 6.485714   \n",
       "3              2.428571           27.471429                 6.771429   \n",
       "4              3.014286           28.942857                 9.371429   \n",
       "...                 ...                 ...                      ...   \n",
       "1451           9.800000           28.633333                11.933333   \n",
       "1452           7.471429           27.433333                10.500000   \n",
       "1453           7.500000           24.400000                 6.900000   \n",
       "1454           7.871429           25.433333                 8.733333   \n",
       "1455          11.014286           27.475000                 9.900000   \n",
       "\n",
       "      station_max_temp_c  station_min_temp_c  station_precip_mm  \n",
       "0                   29.4                20.0               16.0  \n",
       "1                   31.7                22.2                8.6  \n",
       "2                   32.2                22.8               41.4  \n",
       "3                   33.3                23.3                4.0  \n",
       "4                   35.0                23.9                5.8  \n",
       "...                  ...                 ...                ...  \n",
       "1451                35.4                22.4               27.0  \n",
       "1452                34.7                21.7               36.6  \n",
       "1453                32.2                19.2                7.4  \n",
       "1454                31.2                21.0               16.0  \n",
       "1455                33.7                22.2               20.4  \n",
       "\n",
       "[1456 rows x 24 columns]"
      ]
     },
     "execution_count": 7,
     "metadata": {},
     "output_type": "execute_result"
    }
   ],
   "source": [
    "# displaying the contents of the DataFrame named 'df'.\n",
    "# this is useful for verifying that the data was read correctly.\n",
    "df_features"
   ]
  },
  {
   "cell_type": "markdown",
   "id": "d2e345ba",
   "metadata": {
    "execution": {}
   },
   "source": [
    "We can see some of the variables discussed in the video. For full documentation of these features, see the associated description [here](https://www.drivendata.org/competitions/44/dengai-predicting-disease-spread/page/82/). \n",
    "\n",
    "In climate science, visualizing data is an important step in understanding patterns and trends in environmental data. It can also help identify outliers and inconsistencies that need to be addressed before modeling. Therefore, in the next subsection, we will visualize the climate and environmental data to gain insights and identify potential issues.\n"
   ]
  },
  {
   "cell_type": "markdown",
   "id": "98JK1Hy3IN0P",
   "metadata": {
    "execution": {}
   },
   "source": [
    "\n",
    "## **Section 1.3: Visualize the Data**\n"
   ]
  },
  {
   "cell_type": "markdown",
   "id": "0Q1GTTR8imTs",
   "metadata": {
    "execution": {}
   },
   "source": [
    "### Coding Exercise 1.1\n",
    "\n",
    "For this exercise, you will visualize the data. Use the provided hints for the function name if needed.\n",
    "\n",
    "1. Use pandas to plot histograms of these features using .hist() function\n",
    "2. Use the .isnull() function to see if there is any missing data. "
   ]
  },
  {
   "cell_type": "code",
   "execution_count": 8,
   "id": "lawwAEiC8vZV",
   "metadata": {
    "tags": []
   },
   "outputs": [
    {
     "data": {
      "text/plain": [
       "city                                       0\n",
       "year                                       0\n",
       "weekofyear                                 0\n",
       "week_start_date                            0\n",
       "ndvi_ne                                  194\n",
       "ndvi_nw                                   52\n",
       "ndvi_se                                   22\n",
       "ndvi_sw                                   22\n",
       "precipitation_amt_mm                      13\n",
       "reanalysis_air_temp_k                     10\n",
       "reanalysis_avg_temp_k                     10\n",
       "reanalysis_dew_point_temp_k               10\n",
       "reanalysis_max_air_temp_k                 10\n",
       "reanalysis_min_air_temp_k                 10\n",
       "reanalysis_precip_amt_kg_per_m2           10\n",
       "reanalysis_relative_humidity_percent      10\n",
       "reanalysis_sat_precip_amt_mm              13\n",
       "reanalysis_specific_humidity_g_per_kg     10\n",
       "reanalysis_tdtr_k                         10\n",
       "station_avg_temp_c                        43\n",
       "station_diur_temp_rng_c                   43\n",
       "station_max_temp_c                        20\n",
       "station_min_temp_c                        14\n",
       "station_precip_mm                         22\n",
       "dtype: int64"
      ]
     },
     "execution_count": 8,
     "metadata": {},
     "output_type": "execute_result"
    }
   ],
   "source": [
    "# display a histogram of the Pandas DataFrame 'df'\n",
    "# df_features.hist(...)\n",
    "\n",
    "# output the sum of null values for each column in 'df'\n",
    "df_features.isnull().sum()"
   ]
  },
  {
   "cell_type": "code",
   "execution_count": 9,
   "id": "EQuT_FPO4T6P",
   "metadata": {
    "tags": []
   },
   "outputs": [
    {
     "data": {
      "text/plain": [
       "city                                       0\n",
       "year                                       0\n",
       "weekofyear                                 0\n",
       "week_start_date                            0\n",
       "ndvi_ne                                  194\n",
       "ndvi_nw                                   52\n",
       "ndvi_se                                   22\n",
       "ndvi_sw                                   22\n",
       "precipitation_amt_mm                      13\n",
       "reanalysis_air_temp_k                     10\n",
       "reanalysis_avg_temp_k                     10\n",
       "reanalysis_dew_point_temp_k               10\n",
       "reanalysis_max_air_temp_k                 10\n",
       "reanalysis_min_air_temp_k                 10\n",
       "reanalysis_precip_amt_kg_per_m2           10\n",
       "reanalysis_relative_humidity_percent      10\n",
       "reanalysis_sat_precip_amt_mm              13\n",
       "reanalysis_specific_humidity_g_per_kg     10\n",
       "reanalysis_tdtr_k                         10\n",
       "station_avg_temp_c                        43\n",
       "station_diur_temp_rng_c                   43\n",
       "station_max_temp_c                        20\n",
       "station_min_temp_c                        14\n",
       "station_precip_mm                         22\n",
       "dtype: int64"
      ]
     },
     "execution_count": 9,
     "metadata": {},
     "output_type": "execute_result"
    }
   ],
   "source": [
    "# to_remove solution\n",
    "\n",
    "# display a histogram of the Pandas DataFrame 'df'\n",
    "# df_features.hist(figsize=[20,20])\n",
    "\n",
    "# output the sum of null values for each column in 'df'\n",
    "df_features.isnull().sum()"
   ]
  },
  {
   "cell_type": "markdown",
   "id": "21bdc6b4",
   "metadata": {
    "execution": {}
   },
   "source": [
    "The above histograms show the number of data points that have the value given on the x-axis. As we can see, there is some missing data as well, particularly some of the Normalized Difference Vegetation Index (NDVI) measures. So far we have only been looking at the environmental data. Let's load the corresponding weekly dengue fever cases as well. \n"
   ]
  },
  {
   "cell_type": "markdown",
   "id": "FqcYp2yRhOAc",
   "metadata": {
    "execution": {}
   },
   "source": [
    "\n",
    "## **Section 1.4: Load and Visualize the Corresponding Weekly Dengue Fever Cases** \n",
    "\n",
    "\n",
    "\n",
    "\n"
   ]
  },
  {
   "cell_type": "code",
   "execution_count": 10,
   "id": "9uCmTha48dY-",
   "metadata": {
    "tags": []
   },
   "outputs": [
    {
     "name": "stderr",
     "output_type": "stream",
     "text": [
      "Downloading data from 'https://osf.io/6nw9x/download' to file '/tmp/dengue_labels_train.csv'.\n",
      "SHA256 hash of downloaded file: f70d52b747d46b58ae3778084130529bb07858d65967080ec76e31960e8f2fd2\n",
      "Use this value as the 'known_hash' argument of 'pooch.retrieve' to ensure that the file hasn't changed if it is downloaded again in the future.\n"
     ]
    },
    {
     "data": {
      "text/html": [
       "<div>\n",
       "<style scoped>\n",
       "    .dataframe tbody tr th:only-of-type {\n",
       "        vertical-align: middle;\n",
       "    }\n",
       "\n",
       "    .dataframe tbody tr th {\n",
       "        vertical-align: top;\n",
       "    }\n",
       "\n",
       "    .dataframe thead th {\n",
       "        text-align: right;\n",
       "    }\n",
       "</style>\n",
       "<table border=\"1\" class=\"dataframe\">\n",
       "  <thead>\n",
       "    <tr style=\"text-align: right;\">\n",
       "      <th></th>\n",
       "      <th>city</th>\n",
       "      <th>year</th>\n",
       "      <th>weekofyear</th>\n",
       "      <th>total_cases</th>\n",
       "    </tr>\n",
       "  </thead>\n",
       "  <tbody>\n",
       "    <tr>\n",
       "      <th>0</th>\n",
       "      <td>sj</td>\n",
       "      <td>1990</td>\n",
       "      <td>18</td>\n",
       "      <td>4</td>\n",
       "    </tr>\n",
       "    <tr>\n",
       "      <th>1</th>\n",
       "      <td>sj</td>\n",
       "      <td>1990</td>\n",
       "      <td>19</td>\n",
       "      <td>5</td>\n",
       "    </tr>\n",
       "    <tr>\n",
       "      <th>2</th>\n",
       "      <td>sj</td>\n",
       "      <td>1990</td>\n",
       "      <td>20</td>\n",
       "      <td>4</td>\n",
       "    </tr>\n",
       "    <tr>\n",
       "      <th>3</th>\n",
       "      <td>sj</td>\n",
       "      <td>1990</td>\n",
       "      <td>21</td>\n",
       "      <td>3</td>\n",
       "    </tr>\n",
       "    <tr>\n",
       "      <th>4</th>\n",
       "      <td>sj</td>\n",
       "      <td>1990</td>\n",
       "      <td>22</td>\n",
       "      <td>6</td>\n",
       "    </tr>\n",
       "    <tr>\n",
       "      <th>...</th>\n",
       "      <td>...</td>\n",
       "      <td>...</td>\n",
       "      <td>...</td>\n",
       "      <td>...</td>\n",
       "    </tr>\n",
       "    <tr>\n",
       "      <th>1451</th>\n",
       "      <td>iq</td>\n",
       "      <td>2010</td>\n",
       "      <td>21</td>\n",
       "      <td>5</td>\n",
       "    </tr>\n",
       "    <tr>\n",
       "      <th>1452</th>\n",
       "      <td>iq</td>\n",
       "      <td>2010</td>\n",
       "      <td>22</td>\n",
       "      <td>8</td>\n",
       "    </tr>\n",
       "    <tr>\n",
       "      <th>1453</th>\n",
       "      <td>iq</td>\n",
       "      <td>2010</td>\n",
       "      <td>23</td>\n",
       "      <td>1</td>\n",
       "    </tr>\n",
       "    <tr>\n",
       "      <th>1454</th>\n",
       "      <td>iq</td>\n",
       "      <td>2010</td>\n",
       "      <td>24</td>\n",
       "      <td>1</td>\n",
       "    </tr>\n",
       "    <tr>\n",
       "      <th>1455</th>\n",
       "      <td>iq</td>\n",
       "      <td>2010</td>\n",
       "      <td>25</td>\n",
       "      <td>4</td>\n",
       "    </tr>\n",
       "  </tbody>\n",
       "</table>\n",
       "<p>1456 rows × 4 columns</p>\n",
       "</div>"
      ],
      "text/plain": [
       "     city  year  weekofyear  total_cases\n",
       "0      sj  1990          18            4\n",
       "1      sj  1990          19            5\n",
       "2      sj  1990          20            4\n",
       "3      sj  1990          21            3\n",
       "4      sj  1990          22            6\n",
       "...   ...   ...         ...          ...\n",
       "1451   iq  2010          21            5\n",
       "1452   iq  2010          22            8\n",
       "1453   iq  2010          23            1\n",
       "1454   iq  2010          24            1\n",
       "1455   iq  2010          25            4\n",
       "\n",
       "[1456 rows x 4 columns]"
      ]
     },
     "execution_count": 10,
     "metadata": {},
     "output_type": "execute_result"
    }
   ],
   "source": [
    "# reading a CSV file named \"dengue_labels_train.csv\" and saving the data into a pandas DataFrame named \"df_dengue\".\n",
    "filename_dengue_labels='dengue_labels_train.csv'\n",
    "url_dengue_labels = \"https://osf.io/6nw9x/download\"\n",
    "\n",
    "df_labels = pd.read_csv(pooch_load(url_dengue_labels,filename_dengue_labels))\n",
    "\n",
    "# displaying the contents of the DataFrame named \"df_dengue\".\n",
    "# This is useful for verifying that the data was read correctly.\n",
    "df_labels"
   ]
  },
  {
   "cell_type": "markdown",
   "id": "f6Dq4k8mI4fO",
   "metadata": {
    "execution": {}
   },
   "source": [
    "\n",
    "## **Section 1.5: Visualize the Weekly Dengue Fever Cases** \n"
   ]
  },
  {
   "cell_type": "markdown",
   "id": "1M2cMCvkgyiD",
   "metadata": {
    "execution": {}
   },
   "source": [
    "### Coding Exercises 1.5\n",
    "\n",
    "For the following exercises visualise the data. You will start with plotting a histogram of the case numbers.\n",
    "  \n",
    "1. Plot a histogram of the case numbers using 30 bins (bins = 30)."
   ]
  },
  {
   "cell_type": "code",
   "execution_count": null,
   "id": "Qr3PaKJKm7yL",
   "metadata": {
    "execution": {}
   },
   "outputs": [],
   "source": [
    "# display a histogram of the 'total_cases' column in the 'df_dengue' DataFrame\n",
    "..."
   ]
  },
  {
   "cell_type": "code",
   "execution_count": 11,
   "id": "vGdyLzTOYNsX",
   "metadata": {
    "tags": []
   },
   "outputs": [
    {
     "data": {
      "text/plain": [
       "array([[<Axes: title={'center': 'total_cases'}>]], dtype=object)"
      ]
     },
     "execution_count": 11,
     "metadata": {},
     "output_type": "execute_result"
    },
    {
     "data": {
      "image/png": "[encoded data removed]",
      "text/plain": [
       "<Figure size 800x600 with 1 Axes>"
      ]
     },
     "metadata": {},
     "output_type": "display_data"
    }
   ],
   "source": [
    "# to_remove solution\n",
    "\n",
    "# display a histogram of the 'total_cases' column in the 'df_dengue' DataFrame\n",
    "df_labels.hist(column='total_cases', bins = 30)"
   ]
  },
  {
   "cell_type": "markdown",
   "id": "GQgRG63VkQIM",
   "metadata": {
    "execution": {}
   },
   "source": [
    "2. Plot total cases as a function of year\n",
    "2. Plot total cases as a function of the week of the year\n",
    "3. Plot total cases as two separate histograms, one for each of the cities with 30 bins."
   ]
  },
  {
   "cell_type": "code",
   "execution_count": null,
   "id": "RsdGCbDw-NlG",
   "metadata": {
    "execution": {}
   },
   "outputs": [],
   "source": [
    "# creating a scatter plot of 'year' vs 'total_cases' in the DataFrame 'df_dengue'.\n",
    "...\n",
    "\n",
    "# creating a scatter plot of 'weekofyear' vs 'total_cases' in the DataFrame 'df_dengue'.\n",
    "...\n",
    "\n",
    "# creating a new DataFrame named 'new' that contains only the columns 'total_cases' and 'city' from 'df_dengue'.\n",
    "new = ...\n",
    "\n",
    "# creating histograms of the 'total_cases' column in 'new' separated by the values in the 'city' column.\n",
    "new = ..."
   ]
  },
  {
   "cell_type": "code",
   "execution_count": 12,
   "id": "aC3XX1S8-Din",
   "metadata": {
    "tags": []
   },
   "outputs": [
    {
     "data": {
      "text/plain": [
       "array([<Axes: title={'center': 'iq'}>, <Axes: title={'center': 'sj'}>],\n",
       "      dtype=object)"
      ]
     },
     "execution_count": 12,
     "metadata": {},
     "output_type": "execute_result"
    },
    {
     "data": {
      "image/png": "[encoded data removed]",
      "text/plain": [
       "<Figure size 800x600 with 1 Axes>"
      ]
     },
     "metadata": {},
     "output_type": "display_data"
    },
    {
     "data": {
      "image/png": "[encoded data removed]",
      "text/plain": [
       "<Figure size 800x600 with 1 Axes>"
      ]
     },
     "metadata": {},
     "output_type": "display_data"
    },
    {
     "data": {
      "image/png": "[encoded data removed]",
      "text/plain": [
       "<Figure size 800x600 with 2 Axes>"
      ]
     },
     "metadata": {},
     "output_type": "display_data"
    }
   ],
   "source": [
    "# to_remove solution\n",
    "\n",
    "# creating a scatter plot of 'year' vs 'total_cases' in the DataFrame 'df_dengue'.\n",
    "df_labels.plot.scatter('year','total_cases')\n",
    "\n",
    "# creating a scatter plot of 'weekofyear' vs 'total_cases' in the DataFrame 'df_dengue'.\n",
    "df_labels.plot.scatter('weekofyear','total_cases')\n",
    "\n",
    "# creating a new DataFrame named 'new' that contains only the columns 'total_cases' and 'city' from 'df_dengue'.\n",
    "new = df_labels[['total_cases','city']].copy()\n",
    "\n",
    "# creating histograms of the 'total_cases' column in 'new' separated by the values in the 'city' column.\n",
    "new.hist(by=\"city\", bins = 30)"
   ]
  },
  {
   "cell_type": "markdown",
   "id": "ucPP9sGWo0Nc",
   "metadata": {
    "execution": {}
   },
   "source": [
    "### Questions 1.5\n",
    "\n",
    "1. Delve deeper into the data. What trends do you observe?\n",
    "Engage in a discussion with your group and see if anyone has noticed a trend that you may have missed.\n"
   ]
  },
  {
   "cell_type": "code",
   "execution_count": null,
   "id": "61f9be1c",
   "metadata": {
    "execution": {}
   },
   "outputs": [],
   "source": [
    "# to_remove explanation\n",
    "\"\"\"\n",
    "1. Possible observations: In the top figure there are some years with anomously high weeks of case numbers such as 1994, 1998, and 2006. In the second figure it appears weeks with the high case numbers are consistent across years, with higher numbers appears for week of year greater than 20. In the bottom figure, the cities have comparable distribution shapes however the number of cases per week and frequency in San Juan is much higher than Iquitos.\n",
    "\"\"\";"
   ]
  },
  {
   "cell_type": "markdown",
   "id": "OJfHILMlkRtg",
   "metadata": {
    "execution": {}
   },
   "source": [
    "\n",
    "# **Section 2 : Regression on Dengue Fever Dataset**\n",
    "\n",
    "In the previous section, we explored the Dengue dataset. In this section, we will apply linear regression to this dataset.\n",
    "\n",
    "\n"
   ]
  },
  {
   "cell_type": "markdown",
   "id": "V2qPY6gYuetd",
   "metadata": {
    "execution": {}
   },
   "source": [
    "Since we have already explored and visualized the dataset we are ready to train a model.\n",
    "\n",
    "We will start by preprocessing the data and defining a model to predict cases of dengue fever.\n",
    "\n",
    "In the case of predicting dengue fever the environmental variables are the independent variables (or regressors), while number of dengue fever cases is the dependent variable that we want to predict."
   ]
  },
  {
   "cell_type": "markdown",
   "id": "erqZu0VckSJc",
   "metadata": {
    "execution": {}
   },
   "source": [
    "\n",
    "## **Section 2.1: Data Preprocessing**\n",
    "\n",
    "\n"
   ]
  },
  {
   "cell_type": "markdown",
   "id": "SYvfpa8B8S_D",
   "metadata": {
    "execution": {}
   },
   "source": [
    "\n",
    "In climate science, data is often incomplete or missing, and it's important to handle such missing values before using the data for prediction or analysis. There are [many ways](https://towardsdatascience.com/7-ways-to-handle-missing-values-in-machine-learning-1a6326adf79e) to do this. In our case, we will remove the missing values as well as columns of data we won't be using in the predictive model.\n",
    "\n"
   ]
  },
  {
   "cell_type": "code",
   "execution_count": 13,
   "id": "qCBHC6U78sL3",
   "metadata": {
    "tags": []
   },
   "outputs": [
    {
     "name": "stdout",
     "output_type": "stream",
     "text": [
      "Null and missing value before cleaning weekofyear                                 0\n",
      "ndvi_ne                                  194\n",
      "ndvi_nw                                   52\n",
      "ndvi_se                                   22\n",
      "ndvi_sw                                   22\n",
      "precipitation_amt_mm                      13\n",
      "reanalysis_air_temp_k                     10\n",
      "reanalysis_avg_temp_k                     10\n",
      "reanalysis_dew_point_temp_k               10\n",
      "reanalysis_max_air_temp_k                 10\n",
      "reanalysis_min_air_temp_k                 10\n",
      "reanalysis_precip_amt_kg_per_m2           10\n",
      "reanalysis_relative_humidity_percent      10\n",
      "reanalysis_sat_precip_amt_mm              13\n",
      "reanalysis_specific_humidity_g_per_kg     10\n",
      "reanalysis_tdtr_k                         10\n",
      "station_avg_temp_c                        43\n",
      "station_diur_temp_rng_c                   43\n",
      "station_max_temp_c                        20\n",
      "station_min_temp_c                        14\n",
      "station_precip_mm                         22\n",
      "dtype: int64\n"
     ]
    }
   ],
   "source": [
    "# data cleaning\n",
    "\n",
    "# drop columns 'city', 'year', and 'week_start_date' from the 'df' dataframe to create a new dataframe 'df_cleaned'\n",
    "df_cleaned = df_features.drop(['city','year','week_start_date'],axis=1)\n",
    "\n",
    "# check for null and missing values\n",
    "print(\"Null and missing value before cleaning\" , df_cleaned.isnull().sum())"
   ]
  },
  {
   "cell_type": "code",
   "execution_count": 14,
   "id": "YrRfK2T8MW-m",
   "metadata": {
    "tags": []
   },
   "outputs": [
    {
     "name": "stdout",
     "output_type": "stream",
     "text": [
      "weekofyear                               0\n",
      "ndvi_ne                                  0\n",
      "ndvi_nw                                  0\n",
      "ndvi_se                                  0\n",
      "ndvi_sw                                  0\n",
      "precipitation_amt_mm                     0\n",
      "reanalysis_air_temp_k                    0\n",
      "reanalysis_avg_temp_k                    0\n",
      "reanalysis_dew_point_temp_k              0\n",
      "reanalysis_max_air_temp_k                0\n",
      "reanalysis_min_air_temp_k                0\n",
      "reanalysis_precip_amt_kg_per_m2          0\n",
      "reanalysis_relative_humidity_percent     0\n",
      "reanalysis_sat_precip_amt_mm             0\n",
      "reanalysis_specific_humidity_g_per_kg    0\n",
      "reanalysis_tdtr_k                        0\n",
      "station_avg_temp_c                       0\n",
      "station_diur_temp_rng_c                  0\n",
      "station_max_temp_c                       0\n",
      "station_min_temp_c                       0\n",
      "station_precip_mm                        0\n",
      "dtype: int64\n"
     ]
    }
   ],
   "source": [
    "# remove missing values (NaN). there are works in the scientific literature on how to fill the missing gaps.\n",
    "# the safest method is to just remove the missing values for now.\n",
    "df_cleaned = df_cleaned.dropna()\n",
    "\n",
    "# check for null and missing values after removing\n",
    "print(df_cleaned.isnull().sum())"
   ]
  },
  {
   "cell_type": "code",
   "execution_count": 15,
   "id": "SvS4eEF1f6uL",
   "metadata": {
    "tags": []
   },
   "outputs": [
    {
     "data": {
      "text/html": [
       "<div>\n",
       "<style scoped>\n",
       "    .dataframe tbody tr th:only-of-type {\n",
       "        vertical-align: middle;\n",
       "    }\n",
       "\n",
       "    .dataframe tbody tr th {\n",
       "        vertical-align: top;\n",
       "    }\n",
       "\n",
       "    .dataframe thead th {\n",
       "        text-align: right;\n",
       "    }\n",
       "</style>\n",
       "<table border=\"1\" class=\"dataframe\">\n",
       "  <thead>\n",
       "    <tr style=\"text-align: right;\">\n",
       "      <th></th>\n",
       "      <th>weekofyear</th>\n",
       "      <th>ndvi_ne</th>\n",
       "      <th>ndvi_nw</th>\n",
       "      <th>ndvi_se</th>\n",
       "      <th>ndvi_sw</th>\n",
       "      <th>precipitation_amt_mm</th>\n",
       "      <th>reanalysis_air_temp_k</th>\n",
       "      <th>reanalysis_avg_temp_k</th>\n",
       "      <th>reanalysis_dew_point_temp_k</th>\n",
       "      <th>reanalysis_max_air_temp_k</th>\n",
       "      <th>...</th>\n",
       "      <th>reanalysis_precip_amt_kg_per_m2</th>\n",
       "      <th>reanalysis_relative_humidity_percent</th>\n",
       "      <th>reanalysis_sat_precip_amt_mm</th>\n",
       "      <th>reanalysis_specific_humidity_g_per_kg</th>\n",
       "      <th>reanalysis_tdtr_k</th>\n",
       "      <th>station_avg_temp_c</th>\n",
       "      <th>station_diur_temp_rng_c</th>\n",
       "      <th>station_max_temp_c</th>\n",
       "      <th>station_min_temp_c</th>\n",
       "      <th>station_precip_mm</th>\n",
       "    </tr>\n",
       "  </thead>\n",
       "  <tbody>\n",
       "    <tr>\n",
       "      <th>0</th>\n",
       "      <td>18</td>\n",
       "      <td>0.122600</td>\n",
       "      <td>0.103725</td>\n",
       "      <td>0.198483</td>\n",
       "      <td>0.177617</td>\n",
       "      <td>12.42</td>\n",
       "      <td>297.572857</td>\n",
       "      <td>297.742857</td>\n",
       "      <td>292.414286</td>\n",
       "      <td>299.8</td>\n",
       "      <td>...</td>\n",
       "      <td>32.00</td>\n",
       "      <td>73.365714</td>\n",
       "      <td>12.42</td>\n",
       "      <td>14.012857</td>\n",
       "      <td>2.628571</td>\n",
       "      <td>25.442857</td>\n",
       "      <td>6.900000</td>\n",
       "      <td>29.4</td>\n",
       "      <td>20.0</td>\n",
       "      <td>16.0</td>\n",
       "    </tr>\n",
       "    <tr>\n",
       "      <th>1</th>\n",
       "      <td>19</td>\n",
       "      <td>0.169900</td>\n",
       "      <td>0.142175</td>\n",
       "      <td>0.162357</td>\n",
       "      <td>0.155486</td>\n",
       "      <td>22.82</td>\n",
       "      <td>298.211429</td>\n",
       "      <td>298.442857</td>\n",
       "      <td>293.951429</td>\n",
       "      <td>300.9</td>\n",
       "      <td>...</td>\n",
       "      <td>17.94</td>\n",
       "      <td>77.368571</td>\n",
       "      <td>22.82</td>\n",
       "      <td>15.372857</td>\n",
       "      <td>2.371429</td>\n",
       "      <td>26.714286</td>\n",
       "      <td>6.371429</td>\n",
       "      <td>31.7</td>\n",
       "      <td>22.2</td>\n",
       "      <td>8.6</td>\n",
       "    </tr>\n",
       "    <tr>\n",
       "      <th>2</th>\n",
       "      <td>20</td>\n",
       "      <td>0.032250</td>\n",
       "      <td>0.172967</td>\n",
       "      <td>0.157200</td>\n",
       "      <td>0.170843</td>\n",
       "      <td>34.54</td>\n",
       "      <td>298.781429</td>\n",
       "      <td>298.878571</td>\n",
       "      <td>295.434286</td>\n",
       "      <td>300.5</td>\n",
       "      <td>...</td>\n",
       "      <td>26.10</td>\n",
       "      <td>82.052857</td>\n",
       "      <td>34.54</td>\n",
       "      <td>16.848571</td>\n",
       "      <td>2.300000</td>\n",
       "      <td>26.714286</td>\n",
       "      <td>6.485714</td>\n",
       "      <td>32.2</td>\n",
       "      <td>22.8</td>\n",
       "      <td>41.4</td>\n",
       "    </tr>\n",
       "    <tr>\n",
       "      <th>3</th>\n",
       "      <td>21</td>\n",
       "      <td>0.128633</td>\n",
       "      <td>0.245067</td>\n",
       "      <td>0.227557</td>\n",
       "      <td>0.235886</td>\n",
       "      <td>15.36</td>\n",
       "      <td>298.987143</td>\n",
       "      <td>299.228571</td>\n",
       "      <td>295.310000</td>\n",
       "      <td>301.4</td>\n",
       "      <td>...</td>\n",
       "      <td>13.90</td>\n",
       "      <td>80.337143</td>\n",
       "      <td>15.36</td>\n",
       "      <td>16.672857</td>\n",
       "      <td>2.428571</td>\n",
       "      <td>27.471429</td>\n",
       "      <td>6.771429</td>\n",
       "      <td>33.3</td>\n",
       "      <td>23.3</td>\n",
       "      <td>4.0</td>\n",
       "    </tr>\n",
       "    <tr>\n",
       "      <th>4</th>\n",
       "      <td>22</td>\n",
       "      <td>0.196200</td>\n",
       "      <td>0.262200</td>\n",
       "      <td>0.251200</td>\n",
       "      <td>0.247340</td>\n",
       "      <td>7.52</td>\n",
       "      <td>299.518571</td>\n",
       "      <td>299.664286</td>\n",
       "      <td>295.821429</td>\n",
       "      <td>301.9</td>\n",
       "      <td>...</td>\n",
       "      <td>12.20</td>\n",
       "      <td>80.460000</td>\n",
       "      <td>7.52</td>\n",
       "      <td>17.210000</td>\n",
       "      <td>3.014286</td>\n",
       "      <td>28.942857</td>\n",
       "      <td>9.371429</td>\n",
       "      <td>35.0</td>\n",
       "      <td>23.9</td>\n",
       "      <td>5.8</td>\n",
       "    </tr>\n",
       "    <tr>\n",
       "      <th>...</th>\n",
       "      <td>...</td>\n",
       "      <td>...</td>\n",
       "      <td>...</td>\n",
       "      <td>...</td>\n",
       "      <td>...</td>\n",
       "      <td>...</td>\n",
       "      <td>...</td>\n",
       "      <td>...</td>\n",
       "      <td>...</td>\n",
       "      <td>...</td>\n",
       "      <td>...</td>\n",
       "      <td>...</td>\n",
       "      <td>...</td>\n",
       "      <td>...</td>\n",
       "      <td>...</td>\n",
       "      <td>...</td>\n",
       "      <td>...</td>\n",
       "      <td>...</td>\n",
       "      <td>...</td>\n",
       "      <td>...</td>\n",
       "      <td>...</td>\n",
       "    </tr>\n",
       "    <tr>\n",
       "      <th>1451</th>\n",
       "      <td>21</td>\n",
       "      <td>0.342750</td>\n",
       "      <td>0.318900</td>\n",
       "      <td>0.256343</td>\n",
       "      <td>0.292514</td>\n",
       "      <td>55.30</td>\n",
       "      <td>299.334286</td>\n",
       "      <td>300.771429</td>\n",
       "      <td>296.825714</td>\n",
       "      <td>309.7</td>\n",
       "      <td>...</td>\n",
       "      <td>45.00</td>\n",
       "      <td>88.765714</td>\n",
       "      <td>55.30</td>\n",
       "      <td>18.485714</td>\n",
       "      <td>9.800000</td>\n",
       "      <td>28.633333</td>\n",
       "      <td>11.933333</td>\n",
       "      <td>35.4</td>\n",
       "      <td>22.4</td>\n",
       "      <td>27.0</td>\n",
       "    </tr>\n",
       "    <tr>\n",
       "      <th>1452</th>\n",
       "      <td>22</td>\n",
       "      <td>0.160157</td>\n",
       "      <td>0.160371</td>\n",
       "      <td>0.136043</td>\n",
       "      <td>0.225657</td>\n",
       "      <td>86.47</td>\n",
       "      <td>298.330000</td>\n",
       "      <td>299.392857</td>\n",
       "      <td>296.452857</td>\n",
       "      <td>308.5</td>\n",
       "      <td>...</td>\n",
       "      <td>207.10</td>\n",
       "      <td>91.600000</td>\n",
       "      <td>86.47</td>\n",
       "      <td>18.070000</td>\n",
       "      <td>7.471429</td>\n",
       "      <td>27.433333</td>\n",
       "      <td>10.500000</td>\n",
       "      <td>34.7</td>\n",
       "      <td>21.7</td>\n",
       "      <td>36.6</td>\n",
       "    </tr>\n",
       "    <tr>\n",
       "      <th>1453</th>\n",
       "      <td>23</td>\n",
       "      <td>0.247057</td>\n",
       "      <td>0.146057</td>\n",
       "      <td>0.250357</td>\n",
       "      <td>0.233714</td>\n",
       "      <td>58.94</td>\n",
       "      <td>296.598571</td>\n",
       "      <td>297.592857</td>\n",
       "      <td>295.501429</td>\n",
       "      <td>305.5</td>\n",
       "      <td>...</td>\n",
       "      <td>50.60</td>\n",
       "      <td>94.280000</td>\n",
       "      <td>58.94</td>\n",
       "      <td>17.008571</td>\n",
       "      <td>7.500000</td>\n",
       "      <td>24.400000</td>\n",
       "      <td>6.900000</td>\n",
       "      <td>32.2</td>\n",
       "      <td>19.2</td>\n",
       "      <td>7.4</td>\n",
       "    </tr>\n",
       "    <tr>\n",
       "      <th>1454</th>\n",
       "      <td>24</td>\n",
       "      <td>0.333914</td>\n",
       "      <td>0.245771</td>\n",
       "      <td>0.278886</td>\n",
       "      <td>0.325486</td>\n",
       "      <td>59.67</td>\n",
       "      <td>296.345714</td>\n",
       "      <td>297.521429</td>\n",
       "      <td>295.324286</td>\n",
       "      <td>306.1</td>\n",
       "      <td>...</td>\n",
       "      <td>62.33</td>\n",
       "      <td>94.660000</td>\n",
       "      <td>59.67</td>\n",
       "      <td>16.815714</td>\n",
       "      <td>7.871429</td>\n",
       "      <td>25.433333</td>\n",
       "      <td>8.733333</td>\n",
       "      <td>31.2</td>\n",
       "      <td>21.0</td>\n",
       "      <td>16.0</td>\n",
       "    </tr>\n",
       "    <tr>\n",
       "      <th>1455</th>\n",
       "      <td>25</td>\n",
       "      <td>0.298186</td>\n",
       "      <td>0.232971</td>\n",
       "      <td>0.274214</td>\n",
       "      <td>0.315757</td>\n",
       "      <td>63.22</td>\n",
       "      <td>298.097143</td>\n",
       "      <td>299.835714</td>\n",
       "      <td>295.807143</td>\n",
       "      <td>307.8</td>\n",
       "      <td>...</td>\n",
       "      <td>36.90</td>\n",
       "      <td>89.082857</td>\n",
       "      <td>63.22</td>\n",
       "      <td>17.355714</td>\n",
       "      <td>11.014286</td>\n",
       "      <td>27.475000</td>\n",
       "      <td>9.900000</td>\n",
       "      <td>33.7</td>\n",
       "      <td>22.2</td>\n",
       "      <td>20.4</td>\n",
       "    </tr>\n",
       "  </tbody>\n",
       "</table>\n",
       "<p>1199 rows × 21 columns</p>\n",
       "</div>"
      ],
      "text/plain": [
       "      weekofyear   ndvi_ne   ndvi_nw   ndvi_se   ndvi_sw  \\\n",
       "0             18  0.122600  0.103725  0.198483  0.177617   \n",
       "1             19  0.169900  0.142175  0.162357  0.155486   \n",
       "2             20  0.032250  0.172967  0.157200  0.170843   \n",
       "3             21  0.128633  0.245067  0.227557  0.235886   \n",
       "4             22  0.196200  0.262200  0.251200  0.247340   \n",
       "...          ...       ...       ...       ...       ...   \n",
       "1451          21  0.342750  0.318900  0.256343  0.292514   \n",
       "1452          22  0.160157  0.160371  0.136043  0.225657   \n",
       "1453          23  0.247057  0.146057  0.250357  0.233714   \n",
       "1454          24  0.333914  0.245771  0.278886  0.325486   \n",
       "1455          25  0.298186  0.232971  0.274214  0.315757   \n",
       "\n",
       "      precipitation_amt_mm  reanalysis_air_temp_k  reanalysis_avg_temp_k  \\\n",
       "0                    12.42             297.572857             297.742857   \n",
       "1                    22.82             298.211429             298.442857   \n",
       "2                    34.54             298.781429             298.878571   \n",
       "3                    15.36             298.987143             299.228571   \n",
       "4                     7.52             299.518571             299.664286   \n",
       "...                    ...                    ...                    ...   \n",
       "1451                 55.30             299.334286             300.771429   \n",
       "1452                 86.47             298.330000             299.392857   \n",
       "1453                 58.94             296.598571             297.592857   \n",
       "1454                 59.67             296.345714             297.521429   \n",
       "1455                 63.22             298.097143             299.835714   \n",
       "\n",
       "      reanalysis_dew_point_temp_k  reanalysis_max_air_temp_k  ...  \\\n",
       "0                      292.414286                      299.8  ...   \n",
       "1                      293.951429                      300.9  ...   \n",
       "2                      295.434286                      300.5  ...   \n",
       "3                      295.310000                      301.4  ...   \n",
       "4                      295.821429                      301.9  ...   \n",
       "...                           ...                        ...  ...   \n",
       "1451                   296.825714                      309.7  ...   \n",
       "1452                   296.452857                      308.5  ...   \n",
       "1453                   295.501429                      305.5  ...   \n",
       "1454                   295.324286                      306.1  ...   \n",
       "1455                   295.807143                      307.8  ...   \n",
       "\n",
       "      reanalysis_precip_amt_kg_per_m2  reanalysis_relative_humidity_percent  \\\n",
       "0                               32.00                             73.365714   \n",
       "1                               17.94                             77.368571   \n",
       "2                               26.10                             82.052857   \n",
       "3                               13.90                             80.337143   \n",
       "4                               12.20                             80.460000   \n",
       "...                               ...                                   ...   \n",
       "1451                            45.00                             88.765714   \n",
       "1452                           207.10                             91.600000   \n",
       "1453                            50.60                             94.280000   \n",
       "1454                            62.33                             94.660000   \n",
       "1455                            36.90                             89.082857   \n",
       "\n",
       "      reanalysis_sat_precip_amt_mm  reanalysis_specific_humidity_g_per_kg  \\\n",
       "0                            12.42                              14.012857   \n",
       "1                            22.82                              15.372857   \n",
       "2                            34.54                              16.848571   \n",
       "3                            15.36                              16.672857   \n",
       "4                             7.52                              17.210000   \n",
       "...                            ...                                    ...   \n",
       "1451                         55.30                              18.485714   \n",
       "1452                         86.47                              18.070000   \n",
       "1453                         58.94                              17.008571   \n",
       "1454                         59.67                              16.815714   \n",
       "1455                         63.22                              17.355714   \n",
       "\n",
       "      reanalysis_tdtr_k  station_avg_temp_c  station_diur_temp_rng_c  \\\n",
       "0              2.628571           25.442857                 6.900000   \n",
       "1              2.371429           26.714286                 6.371429   \n",
       "2              2.300000           26.714286                 6.485714   \n",
       "3              2.428571           27.471429                 6.771429   \n",
       "4              3.014286           28.942857                 9.371429   \n",
       "...                 ...                 ...                      ...   \n",
       "1451           9.800000           28.633333                11.933333   \n",
       "1452           7.471429           27.433333                10.500000   \n",
       "1453           7.500000           24.400000                 6.900000   \n",
       "1454           7.871429           25.433333                 8.733333   \n",
       "1455          11.014286           27.475000                 9.900000   \n",
       "\n",
       "      station_max_temp_c  station_min_temp_c  station_precip_mm  \n",
       "0                   29.4                20.0               16.0  \n",
       "1                   31.7                22.2                8.6  \n",
       "2                   32.2                22.8               41.4  \n",
       "3                   33.3                23.3                4.0  \n",
       "4                   35.0                23.9                5.8  \n",
       "...                  ...                 ...                ...  \n",
       "1451                35.4                22.4               27.0  \n",
       "1452                34.7                21.7               36.6  \n",
       "1453                32.2                19.2                7.4  \n",
       "1454                31.2                21.0               16.0  \n",
       "1455                33.7                22.2               20.4  \n",
       "\n",
       "[1199 rows x 21 columns]"
      ]
     },
     "execution_count": 15,
     "metadata": {},
     "output_type": "execute_result"
    }
   ],
   "source": [
    "df_cleaned"
   ]
  },
  {
   "cell_type": "markdown",
   "id": "5c0ce4ad",
   "metadata": {
    "execution": {}
   },
   "source": [
    "Notice that the number of rows in the dataset has decreased from 1456 to 1199. We need to ensure that the dataset with dengue cases has the same rows dropped as we just did above."
   ]
  },
  {
   "cell_type": "code",
   "execution_count": 16,
   "id": "60870653",
   "metadata": {
    "tags": []
   },
   "outputs": [
    {
     "data": {
      "text/html": [
       "<div>\n",
       "<style scoped>\n",
       "    .dataframe tbody tr th:only-of-type {\n",
       "        vertical-align: middle;\n",
       "    }\n",
       "\n",
       "    .dataframe tbody tr th {\n",
       "        vertical-align: top;\n",
       "    }\n",
       "\n",
       "    .dataframe thead th {\n",
       "        text-align: right;\n",
       "    }\n",
       "</style>\n",
       "<table border=\"1\" class=\"dataframe\">\n",
       "  <thead>\n",
       "    <tr style=\"text-align: right;\">\n",
       "      <th></th>\n",
       "      <th>city</th>\n",
       "      <th>year</th>\n",
       "      <th>weekofyear</th>\n",
       "      <th>total_cases</th>\n",
       "    </tr>\n",
       "  </thead>\n",
       "  <tbody>\n",
       "    <tr>\n",
       "      <th>0</th>\n",
       "      <td>sj</td>\n",
       "      <td>1990</td>\n",
       "      <td>18</td>\n",
       "      <td>4</td>\n",
       "    </tr>\n",
       "    <tr>\n",
       "      <th>1</th>\n",
       "      <td>sj</td>\n",
       "      <td>1990</td>\n",
       "      <td>19</td>\n",
       "      <td>5</td>\n",
       "    </tr>\n",
       "    <tr>\n",
       "      <th>2</th>\n",
       "      <td>sj</td>\n",
       "      <td>1990</td>\n",
       "      <td>20</td>\n",
       "      <td>4</td>\n",
       "    </tr>\n",
       "    <tr>\n",
       "      <th>3</th>\n",
       "      <td>sj</td>\n",
       "      <td>1990</td>\n",
       "      <td>21</td>\n",
       "      <td>3</td>\n",
       "    </tr>\n",
       "    <tr>\n",
       "      <th>4</th>\n",
       "      <td>sj</td>\n",
       "      <td>1990</td>\n",
       "      <td>22</td>\n",
       "      <td>6</td>\n",
       "    </tr>\n",
       "    <tr>\n",
       "      <th>...</th>\n",
       "      <td>...</td>\n",
       "      <td>...</td>\n",
       "      <td>...</td>\n",
       "      <td>...</td>\n",
       "    </tr>\n",
       "    <tr>\n",
       "      <th>1451</th>\n",
       "      <td>iq</td>\n",
       "      <td>2010</td>\n",
       "      <td>21</td>\n",
       "      <td>5</td>\n",
       "    </tr>\n",
       "    <tr>\n",
       "      <th>1452</th>\n",
       "      <td>iq</td>\n",
       "      <td>2010</td>\n",
       "      <td>22</td>\n",
       "      <td>8</td>\n",
       "    </tr>\n",
       "    <tr>\n",
       "      <th>1453</th>\n",
       "      <td>iq</td>\n",
       "      <td>2010</td>\n",
       "      <td>23</td>\n",
       "      <td>1</td>\n",
       "    </tr>\n",
       "    <tr>\n",
       "      <th>1454</th>\n",
       "      <td>iq</td>\n",
       "      <td>2010</td>\n",
       "      <td>24</td>\n",
       "      <td>1</td>\n",
       "    </tr>\n",
       "    <tr>\n",
       "      <th>1455</th>\n",
       "      <td>iq</td>\n",
       "      <td>2010</td>\n",
       "      <td>25</td>\n",
       "      <td>4</td>\n",
       "    </tr>\n",
       "  </tbody>\n",
       "</table>\n",
       "<p>1199 rows × 4 columns</p>\n",
       "</div>"
      ],
      "text/plain": [
       "     city  year  weekofyear  total_cases\n",
       "0      sj  1990          18            4\n",
       "1      sj  1990          19            5\n",
       "2      sj  1990          20            4\n",
       "3      sj  1990          21            3\n",
       "4      sj  1990          22            6\n",
       "...   ...   ...         ...          ...\n",
       "1451   iq  2010          21            5\n",
       "1452   iq  2010          22            8\n",
       "1453   iq  2010          23            1\n",
       "1454   iq  2010          24            1\n",
       "1455   iq  2010          25            4\n",
       "\n",
       "[1199 rows x 4 columns]"
      ]
     },
     "execution_count": 16,
     "metadata": {},
     "output_type": "execute_result"
    }
   ],
   "source": [
    "# use loc to select the relevant indexes\n",
    "df_labels=df_labels.loc[df_cleaned.index]\n",
    "df_labels"
   ]
  },
  {
   "cell_type": "markdown",
   "id": "Rauj0P6EbNmz",
   "metadata": {
    "execution": {}
   },
   "source": [
    "To build a model with the climate data, we need to divide it into a training and test set to ensure that the model works well on held-out data. This is important because, as we have seen, evaluating the model on the exact data it was trained on can be misleading."
   ]
  },
  {
   "cell_type": "code",
   "execution_count": 17,
   "id": "M0XopmfSu7Ek",
   "metadata": {
    "tags": []
   },
   "outputs": [
    {
     "name": "stdout",
     "output_type": "stream",
     "text": [
      "80% of the data is split into the training set and remaining 20% into the test set.\n",
      "length of training data:  980\n",
      "length of test data:  219\n"
     ]
    }
   ],
   "source": [
    "# train-test split\n",
    "\n",
    "# select the 'total_cases' column from the 'df_dengue' dataframe and assign it to the variable 'cases'\n",
    "cases = df_labels['total_cases']\n",
    "\n",
    "# create a boolean mask with random values for each element in 'cases'\n",
    "np.random.seed(145) #setting the random seed ensures we are all using the same train/test split\n",
    "mask = np.random.rand(len(cases)) < 0.8   #this will use 80% of the data to train and 20% to test\n",
    "\n",
    "# create two new dataframes from the 'df_cleaned' dataframe based on the boolean mask\n",
    "df_cleaned_train = df_cleaned[mask]\n",
    "df_cleaned_test = df_cleaned[~mask]\n",
    "\n",
    "# create two new arrays from the 'cases' array based on the boolean mask\n",
    "cases_train = cases[mask]\n",
    "cases_test = cases[~mask]\n",
    "\n",
    "print(\"80% of the data is split into the training set and remaining 20% into the test set.\")\n",
    "\n",
    "# check that this is true\n",
    "print('length of training data: ',df_cleaned_train.shape[0])\n",
    "print('length of test data: ',df_cleaned_test.shape[0])"
   ]
  },
  {
   "cell_type": "markdown",
   "id": "zPeztNPTwRKx",
   "metadata": {
    "execution": {}
   },
   "source": [
    "\n",
    "\n",
    "## **Section 2.2: Fitting Model and Analyzing Results** \n",
    "\n",
    "\n"
   ]
  },
  {
   "cell_type": "markdown",
   "id": "kw987L7PkSJd",
   "metadata": {
    "execution": {}
   },
   "source": [
    "### Coding Exercise 2.2: Implement Regression on Dengue Fever Dataset and Evaluate the Performance\n",
    "For this exercise, use what you learned in the previous tutorials to train a linear regression model on the training data and evaluate its performance. Evaluate its performance on the training data and the test data. Look specifically at the difference between predicted values and true values on the test set. \n",
    "\n",
    "1. Train a linear regression model on the training data\n",
    "2. Evaluate the performance of the model on both training and test data.\n",
    "3. Look specifically at the difference between predicted values and true values on the test set."
   ]
  },
  {
   "cell_type": "code",
   "execution_count": null,
   "id": "2boskgTN8REW",
   "metadata": {
    "execution": {}
   },
   "outputs": [],
   "source": [
    "# create a new instance of the LinearRegression class\n",
    "reg_model = LinearRegression()\n",
    "\n",
    "# train the model on the training data i.e on df_cleaned_train,cases_train\n",
    "_ = ...\n",
    "\n",
    "# print the R^2 score of the trained model on the training data\n",
    "print('r^2 on training data is: ')\n",
    "print(...)\n",
    "\n",
    "# print the R^2 score of the trained model on the test data\n",
    "print('r^2 on test data is: ')\n",
    "print(...)\n",
    "\n",
    "fig,ax=plt.subplots()\n",
    "# create a scatter plot of the predicted values vs. the actual values for the test data\n",
    "...\n",
    "\n",
    "# add 1:1 line\n",
    "ax.plot(np.array(ax.get_xlim()), np.array(ax.get_xlim()), 'k-')\n",
    "\n",
    "# add axis labels to the scatter plot\n",
    "ax.set_xlabel('Actual Number of Dengue Cases')\n",
    "ax.set_ylabel('Predicted Number of Dengue Cases')\n",
    "ax.set_title('Predicted values vs. the actual values for the test data')"
   ]
  },
  {
   "cell_type": "code",
   "execution_count": 18,
   "id": "7a621151",
   "metadata": {
    "tags": []
   },
   "outputs": [
    {
     "name": "stdout",
     "output_type": "stream",
     "text": [
      "r^2 on training data is: \n",
      "0.2034827989471253\n",
      "r^2 on test data is: \n",
      "0.23908670414906186\n"
     ]
    },
    {
     "data": {
      "text/plain": [
       "Text(0.5, 1.0, 'Predicted values vs. the actual values for the test data')"
      ]
     },
     "execution_count": 18,
     "metadata": {},
     "output_type": "execute_result"
    },
    {
     "data": {
      "image/png": "[encoded data removed]",
      "text/plain": [
       "<Figure size 800x600 with 1 Axes>"
      ]
     },
     "metadata": {},
     "output_type": "display_data"
    }
   ],
   "source": [
    "# to_remove solution\n",
    "\n",
    "# create a new instance of the LinearRegression class\n",
    "reg_model = LinearRegression()\n",
    "\n",
    "# train the model on the training data i.e on df_cleaned_train,cases_train\n",
    "reg_model.fit(df_cleaned_train, cases_train)\n",
    "\n",
    "# print the R^2 score of the trained model on the training data\n",
    "print('r^2 on training data is: ')\n",
    "print(reg_model.score(df_cleaned_train, cases_train))\n",
    "\n",
    "# print the R^2 score of the trained model on the test data\n",
    "print('r^2 on test data is: ')\n",
    "print(reg_model.score(df_cleaned_test, cases_test))\n",
    "\n",
    "fig,ax=plt.subplots()\n",
    "# create a scatter plot of the predicted values vs. the actual values for the test data\n",
    "ax.scatter(cases_test,reg_model.predict(df_cleaned_test))\n",
    "\n",
    "# add 1:1 line\n",
    "ax.plot(np.array(ax.get_xlim()), np.array(ax.get_xlim()), 'k-')\n",
    "\n",
    "# add axis labels to the scatter plot\n",
    "ax.set_xlabel('Actual Number of Dengue Cases')\n",
    "ax.set_ylabel('Predicted Number of Dengue Cases')\n",
    "ax.set_title('Predicted values vs. the actual values for the test data')"
   ]
  },
  {
   "cell_type": "markdown",
   "id": "eTro7UedNRmk",
   "metadata": {
    "execution": {}
   },
   "source": [
    "<details>\n",
    "<summary> <font color='orangered'>Click here description of plot  </font></summary>\n",
    "\n",
    "This code trains a linear regression model on a dataset and evaluates its performance on both the training and test data.\n",
    "\n",
    "The scatter plot generated at the end of the code shows the predicted values vs. the actual values for the test data. Each point in the scatter plot represents a single data point in the test set. The horizontal axis represents the actual number of dengue cases, while the vertical axis represents the predicted number of dengue cases.\n",
    "\n",
    "If the predicted values are close to the actual values, the scatter plot will show a diagonal line where the points cluster around. On the other hand, if the predicted values are far from the actual values, the scatter plot will be more spread out and may show a more random pattern of points.\n",
    "\n",
    "By visually inspecting the scatter plot and looking at the r^2, we can get an idea of how well the model is performing and how accurate its predictions are. How well does the model do?"
   ]
  },
  {
   "cell_type": "markdown",
   "id": "752f819d",
   "metadata": {
    "execution": {}
   },
   "source": [
    "### **Questions 2.2**\n",
    "\n",
    "1. Discuss any surprising features of this plot related to model performance."
   ]
  },
  {
   "cell_type": "code",
   "execution_count": null,
   "id": "eff7b43c",
   "metadata": {
    "execution": {}
   },
   "outputs": [],
   "source": [
    "# to_remove explanation\n",
    "\"\"\"\n",
    "1. Possible discussion: The model cannot predict values above 50 cases per week. This is likely due to an imbalance of data. Referencing the data exploration figures from the first section, we see that most of the data falls at or below 50 cases per week. This type of model does not excel at predicting extreme cases, and this is reflected on the plot above. Additionally, note the negative values (up to -10 cases per week) predicted by our model. It is of course not possible to have negative case numbers, however you can see that the linear regression equation does not prevent negative numbers. Later on in the bonus section you will look at a model more suitable for our dataset type that also guarantees non-negative results.\n",
    "\"\"\";"
   ]
  },
  {
   "cell_type": "markdown",
   "id": "22915838",
   "metadata": {
    "execution": {}
   },
   "source": [
    "We can also calculate some other metrics to assess model performance."
   ]
  },
  {
   "cell_type": "code",
   "execution_count": 19,
   "id": "BR4APm-zqPO9",
   "metadata": {
    "cellView": "form",
    "tags": []
   },
   "outputs": [
    {
     "name": "stdout",
     "output_type": "stream",
     "text": [
      "MAE: 15.311067947855532\n",
      "RMSE: 26.02975103868102\n"
     ]
    }
   ],
   "source": [
    "# evaluating the performance of the model using metrics such as mean absolute error (MAE) and mean squared error (MSE)\n",
    "\n",
    "y_pred = reg_model.predict(df_cleaned_test)\n",
    "print('MAE:', mean_absolute_error(cases_test, y_pred))\n",
    "print('RMSE:', mean_squared_error(cases_test, y_pred,squared=False))"
   ]
  },
  {
   "cell_type": "markdown",
   "id": "4dKZf17NOWd-",
   "metadata": {
    "execution": {}
   },
   "source": [
    "<details>\n",
    "<summary> <font color='violet'>What is MAE and MSE   </font></summary>\n",
    "In addition to r^2, Mean Absolute Error (MAE) and Mean Squared Error (MSE) are both metrics used to evaluate the performance of a regression model. They both measure the difference between the predicted values and the actual values of the target variable.\n",
    "\n",
    "The MAE is calculated by taking the average of the absolute differences between the predicted and actual values:\n",
    "\\begin{align}\n",
    "MAE = \\frac{1}{n}\\sum_{i=1}^{n}|y_i - \\hat{y_i}|\n",
    "\\end{align}\n",
    "where $n$ is the number of samples, $y_i$ is the actual value of the target variable for sample $i$, and $\\hat{y}_i$ is the predicted value of the target variable for sample $i$.\n",
    "\n",
    "The RMSE is calculated by taking the square root of the average of the squared differences between the predicted and actual values:\n",
    "\\begin{align}\n",
    " RMSE = \\sqrt{\\frac{1}{n}\\sum_{i=1}^{n}(y_i - \\hat{y_i})^2}\n",
    "\\end{align} \n",
    "The main difference between MAE and RMSE is that RMSE gives more weight to larger errors, because the differences are squared. Therefore, if there are some large errors in the predictions, the RMSE will be higher than the MAE.\n",
    "\n",
    "Both MAE and RMSE have the same unit of measurement as the target variable, and lower values indicate better model performance. However, the choice of which metric to use depends on the specific problem and the goals of the model."
   ]
  },
  {
   "cell_type": "markdown",
   "id": "1LO0O5YkUsZB",
   "metadata": {
    "execution": {}
   },
   "source": [
    "## **(Bonus) Section 2.3 : Handling Different Scenarios**"
   ]
  },
  {
   "cell_type": "markdown",
   "id": "Y6Pux46LWw7e",
   "metadata": {
    "execution": {}
   },
   "source": [
    "### **Section 2.3.1: Handling Categorical Regressors** \n"
   ]
  },
  {
   "cell_type": "markdown",
   "id": "RNS2yeHewz7r",
   "metadata": {
    "execution": {}
   },
   "source": [
    "We chose to remove city as a regressor because it is not a numerical value and therefore does not fit as easily into the linear regression framework. However, it is possible to include such categorical data. To do so, you need to turn the string variables representing cities into 'dummy variables', that is, numerical values that stand in for the categories. Here we can simply arbitrarily set one city to the value 0 and the other the value 1. See how including city impacts regression performance"
   ]
  },
  {
   "cell_type": "code",
   "execution_count": 20,
   "id": "f86f64c3",
   "metadata": {
    "tags": []
   },
   "outputs": [
    {
     "data": {
      "text/html": [
       "<div>\n",
       "<style scoped>\n",
       "    .dataframe tbody tr th:only-of-type {\n",
       "        vertical-align: middle;\n",
       "    }\n",
       "\n",
       "    .dataframe tbody tr th {\n",
       "        vertical-align: top;\n",
       "    }\n",
       "\n",
       "    .dataframe thead th {\n",
       "        text-align: right;\n",
       "    }\n",
       "</style>\n",
       "<table border=\"1\" class=\"dataframe\">\n",
       "  <thead>\n",
       "    <tr style=\"text-align: right;\">\n",
       "      <th></th>\n",
       "      <th>weekofyear</th>\n",
       "      <th>ndvi_ne</th>\n",
       "      <th>ndvi_nw</th>\n",
       "      <th>ndvi_se</th>\n",
       "      <th>ndvi_sw</th>\n",
       "      <th>precipitation_amt_mm</th>\n",
       "      <th>reanalysis_air_temp_k</th>\n",
       "      <th>reanalysis_avg_temp_k</th>\n",
       "      <th>reanalysis_dew_point_temp_k</th>\n",
       "      <th>reanalysis_max_air_temp_k</th>\n",
       "      <th>...</th>\n",
       "      <th>reanalysis_precip_amt_kg_per_m2</th>\n",
       "      <th>reanalysis_relative_humidity_percent</th>\n",
       "      <th>reanalysis_sat_precip_amt_mm</th>\n",
       "      <th>reanalysis_specific_humidity_g_per_kg</th>\n",
       "      <th>reanalysis_tdtr_k</th>\n",
       "      <th>station_avg_temp_c</th>\n",
       "      <th>station_diur_temp_rng_c</th>\n",
       "      <th>station_max_temp_c</th>\n",
       "      <th>station_min_temp_c</th>\n",
       "      <th>station_precip_mm</th>\n",
       "    </tr>\n",
       "  </thead>\n",
       "  <tbody>\n",
       "    <tr>\n",
       "      <th>12</th>\n",
       "      <td>30</td>\n",
       "      <td>0.150567</td>\n",
       "      <td>0.171700</td>\n",
       "      <td>0.226900</td>\n",
       "      <td>0.214557</td>\n",
       "      <td>16.48</td>\n",
       "      <td>299.558571</td>\n",
       "      <td>299.635714</td>\n",
       "      <td>295.960000</td>\n",
       "      <td>301.8</td>\n",
       "      <td>...</td>\n",
       "      <td>42.53</td>\n",
       "      <td>80.742857</td>\n",
       "      <td>16.48</td>\n",
       "      <td>17.341429</td>\n",
       "      <td>2.071429</td>\n",
       "      <td>28.114286</td>\n",
       "      <td>6.357143</td>\n",
       "      <td>31.7</td>\n",
       "      <td>22.8</td>\n",
       "      <td>32.6</td>\n",
       "    </tr>\n",
       "    <tr>\n",
       "      <th>20</th>\n",
       "      <td>38</td>\n",
       "      <td>0.196350</td>\n",
       "      <td>0.182433</td>\n",
       "      <td>0.254829</td>\n",
       "      <td>0.305686</td>\n",
       "      <td>143.73</td>\n",
       "      <td>299.857143</td>\n",
       "      <td>299.900000</td>\n",
       "      <td>296.431429</td>\n",
       "      <td>301.7</td>\n",
       "      <td>...</td>\n",
       "      <td>36.60</td>\n",
       "      <td>81.637143</td>\n",
       "      <td>143.73</td>\n",
       "      <td>17.892857</td>\n",
       "      <td>1.742857</td>\n",
       "      <td>28.242857</td>\n",
       "      <td>8.114286</td>\n",
       "      <td>32.8</td>\n",
       "      <td>23.9</td>\n",
       "      <td>3.3</td>\n",
       "    </tr>\n",
       "    <tr>\n",
       "      <th>27</th>\n",
       "      <td>45</td>\n",
       "      <td>0.152600</td>\n",
       "      <td>0.181775</td>\n",
       "      <td>0.178329</td>\n",
       "      <td>0.186629</td>\n",
       "      <td>20.46</td>\n",
       "      <td>299.972857</td>\n",
       "      <td>300.035714</td>\n",
       "      <td>296.564286</td>\n",
       "      <td>302.2</td>\n",
       "      <td>...</td>\n",
       "      <td>14.40</td>\n",
       "      <td>81.715714</td>\n",
       "      <td>20.46</td>\n",
       "      <td>18.074286</td>\n",
       "      <td>2.385714</td>\n",
       "      <td>28.471429</td>\n",
       "      <td>8.428571</td>\n",
       "      <td>33.3</td>\n",
       "      <td>23.9</td>\n",
       "      <td>6.6</td>\n",
       "    </tr>\n",
       "    <tr>\n",
       "      <th>40</th>\n",
       "      <td>6</td>\n",
       "      <td>0.380100</td>\n",
       "      <td>0.228567</td>\n",
       "      <td>0.255043</td>\n",
       "      <td>0.225800</td>\n",
       "      <td>0.00</td>\n",
       "      <td>297.740000</td>\n",
       "      <td>297.928571</td>\n",
       "      <td>293.150000</td>\n",
       "      <td>299.7</td>\n",
       "      <td>...</td>\n",
       "      <td>19.69</td>\n",
       "      <td>75.794286</td>\n",
       "      <td>0.00</td>\n",
       "      <td>14.541429</td>\n",
       "      <td>2.428571</td>\n",
       "      <td>25.057143</td>\n",
       "      <td>6.885714</td>\n",
       "      <td>30.0</td>\n",
       "      <td>20.6</td>\n",
       "      <td>7.3</td>\n",
       "    </tr>\n",
       "    <tr>\n",
       "      <th>43</th>\n",
       "      <td>9</td>\n",
       "      <td>0.170200</td>\n",
       "      <td>0.208600</td>\n",
       "      <td>0.137520</td>\n",
       "      <td>0.191433</td>\n",
       "      <td>31.79</td>\n",
       "      <td>297.505714</td>\n",
       "      <td>297.828571</td>\n",
       "      <td>293.407143</td>\n",
       "      <td>299.8</td>\n",
       "      <td>...</td>\n",
       "      <td>23.80</td>\n",
       "      <td>77.977143</td>\n",
       "      <td>31.79</td>\n",
       "      <td>14.794286</td>\n",
       "      <td>2.114286</td>\n",
       "      <td>25.257143</td>\n",
       "      <td>7.200000</td>\n",
       "      <td>30.6</td>\n",
       "      <td>20.0</td>\n",
       "      <td>30.7</td>\n",
       "    </tr>\n",
       "    <tr>\n",
       "      <th>...</th>\n",
       "      <td>...</td>\n",
       "      <td>...</td>\n",
       "      <td>...</td>\n",
       "      <td>...</td>\n",
       "      <td>...</td>\n",
       "      <td>...</td>\n",
       "      <td>...</td>\n",
       "      <td>...</td>\n",
       "      <td>...</td>\n",
       "      <td>...</td>\n",
       "      <td>...</td>\n",
       "      <td>...</td>\n",
       "      <td>...</td>\n",
       "      <td>...</td>\n",
       "      <td>...</td>\n",
       "      <td>...</td>\n",
       "      <td>...</td>\n",
       "      <td>...</td>\n",
       "      <td>...</td>\n",
       "      <td>...</td>\n",
       "      <td>...</td>\n",
       "    </tr>\n",
       "    <tr>\n",
       "      <th>1442</th>\n",
       "      <td>12</td>\n",
       "      <td>0.266286</td>\n",
       "      <td>0.301233</td>\n",
       "      <td>0.296000</td>\n",
       "      <td>0.295743</td>\n",
       "      <td>51.29</td>\n",
       "      <td>299.004286</td>\n",
       "      <td>300.300000</td>\n",
       "      <td>297.555714</td>\n",
       "      <td>307.9</td>\n",
       "      <td>...</td>\n",
       "      <td>214.90</td>\n",
       "      <td>93.082857</td>\n",
       "      <td>51.29</td>\n",
       "      <td>19.368571</td>\n",
       "      <td>8.028571</td>\n",
       "      <td>27.466667</td>\n",
       "      <td>9.333333</td>\n",
       "      <td>34.5</td>\n",
       "      <td>21.0</td>\n",
       "      <td>20.0</td>\n",
       "    </tr>\n",
       "    <tr>\n",
       "      <th>1445</th>\n",
       "      <td>15</td>\n",
       "      <td>0.157686</td>\n",
       "      <td>0.156614</td>\n",
       "      <td>0.184014</td>\n",
       "      <td>0.135886</td>\n",
       "      <td>17.33</td>\n",
       "      <td>298.305714</td>\n",
       "      <td>299.557143</td>\n",
       "      <td>297.002857</td>\n",
       "      <td>307.3</td>\n",
       "      <td>...</td>\n",
       "      <td>150.80</td>\n",
       "      <td>93.655714</td>\n",
       "      <td>17.33</td>\n",
       "      <td>18.677143</td>\n",
       "      <td>7.228571</td>\n",
       "      <td>27.150000</td>\n",
       "      <td>9.600000</td>\n",
       "      <td>33.0</td>\n",
       "      <td>21.2</td>\n",
       "      <td>18.0</td>\n",
       "    </tr>\n",
       "    <tr>\n",
       "      <th>1446</th>\n",
       "      <td>16</td>\n",
       "      <td>0.231486</td>\n",
       "      <td>0.294686</td>\n",
       "      <td>0.331657</td>\n",
       "      <td>0.244400</td>\n",
       "      <td>86.70</td>\n",
       "      <td>298.438571</td>\n",
       "      <td>299.507143</td>\n",
       "      <td>297.678571</td>\n",
       "      <td>304.7</td>\n",
       "      <td>...</td>\n",
       "      <td>81.40</td>\n",
       "      <td>95.995714</td>\n",
       "      <td>86.70</td>\n",
       "      <td>19.448571</td>\n",
       "      <td>7.757143</td>\n",
       "      <td>27.850000</td>\n",
       "      <td>9.600000</td>\n",
       "      <td>33.5</td>\n",
       "      <td>22.5</td>\n",
       "      <td>51.1</td>\n",
       "    </tr>\n",
       "    <tr>\n",
       "      <th>1447</th>\n",
       "      <td>17</td>\n",
       "      <td>0.239743</td>\n",
       "      <td>0.259271</td>\n",
       "      <td>0.307786</td>\n",
       "      <td>0.307943</td>\n",
       "      <td>26.00</td>\n",
       "      <td>299.048571</td>\n",
       "      <td>300.028571</td>\n",
       "      <td>296.468571</td>\n",
       "      <td>308.4</td>\n",
       "      <td>...</td>\n",
       "      <td>23.60</td>\n",
       "      <td>87.657143</td>\n",
       "      <td>26.00</td>\n",
       "      <td>18.068571</td>\n",
       "      <td>8.257143</td>\n",
       "      <td>28.850000</td>\n",
       "      <td>12.125000</td>\n",
       "      <td>36.2</td>\n",
       "      <td>21.4</td>\n",
       "      <td>35.4</td>\n",
       "    </tr>\n",
       "    <tr>\n",
       "      <th>1455</th>\n",
       "      <td>25</td>\n",
       "      <td>0.298186</td>\n",
       "      <td>0.232971</td>\n",
       "      <td>0.274214</td>\n",
       "      <td>0.315757</td>\n",
       "      <td>63.22</td>\n",
       "      <td>298.097143</td>\n",
       "      <td>299.835714</td>\n",
       "      <td>295.807143</td>\n",
       "      <td>307.8</td>\n",
       "      <td>...</td>\n",
       "      <td>36.90</td>\n",
       "      <td>89.082857</td>\n",
       "      <td>63.22</td>\n",
       "      <td>17.355714</td>\n",
       "      <td>11.014286</td>\n",
       "      <td>27.475000</td>\n",
       "      <td>9.900000</td>\n",
       "      <td>33.7</td>\n",
       "      <td>22.2</td>\n",
       "      <td>20.4</td>\n",
       "    </tr>\n",
       "  </tbody>\n",
       "</table>\n",
       "<p>219 rows × 21 columns</p>\n",
       "</div>"
      ],
      "text/plain": [
       "      weekofyear   ndvi_ne   ndvi_nw   ndvi_se   ndvi_sw  \\\n",
       "12            30  0.150567  0.171700  0.226900  0.214557   \n",
       "20            38  0.196350  0.182433  0.254829  0.305686   \n",
       "27            45  0.152600  0.181775  0.178329  0.186629   \n",
       "40             6  0.380100  0.228567  0.255043  0.225800   \n",
       "43             9  0.170200  0.208600  0.137520  0.191433   \n",
       "...          ...       ...       ...       ...       ...   \n",
       "1442          12  0.266286  0.301233  0.296000  0.295743   \n",
       "1445          15  0.157686  0.156614  0.184014  0.135886   \n",
       "1446          16  0.231486  0.294686  0.331657  0.244400   \n",
       "1447          17  0.239743  0.259271  0.307786  0.307943   \n",
       "1455          25  0.298186  0.232971  0.274214  0.315757   \n",
       "\n",
       "      precipitation_amt_mm  reanalysis_air_temp_k  reanalysis_avg_temp_k  \\\n",
       "12                   16.48             299.558571             299.635714   \n",
       "20                  143.73             299.857143             299.900000   \n",
       "27                   20.46             299.972857             300.035714   \n",
       "40                    0.00             297.740000             297.928571   \n",
       "43                   31.79             297.505714             297.828571   \n",
       "...                    ...                    ...                    ...   \n",
       "1442                 51.29             299.004286             300.300000   \n",
       "1445                 17.33             298.305714             299.557143   \n",
       "1446                 86.70             298.438571             299.507143   \n",
       "1447                 26.00             299.048571             300.028571   \n",
       "1455                 63.22             298.097143             299.835714   \n",
       "\n",
       "      reanalysis_dew_point_temp_k  reanalysis_max_air_temp_k  ...  \\\n",
       "12                     295.960000                      301.8  ...   \n",
       "20                     296.431429                      301.7  ...   \n",
       "27                     296.564286                      302.2  ...   \n",
       "40                     293.150000                      299.7  ...   \n",
       "43                     293.407143                      299.8  ...   \n",
       "...                           ...                        ...  ...   \n",
       "1442                   297.555714                      307.9  ...   \n",
       "1445                   297.002857                      307.3  ...   \n",
       "1446                   297.678571                      304.7  ...   \n",
       "1447                   296.468571                      308.4  ...   \n",
       "1455                   295.807143                      307.8  ...   \n",
       "\n",
       "      reanalysis_precip_amt_kg_per_m2  reanalysis_relative_humidity_percent  \\\n",
       "12                              42.53                             80.742857   \n",
       "20                              36.60                             81.637143   \n",
       "27                              14.40                             81.715714   \n",
       "40                              19.69                             75.794286   \n",
       "43                              23.80                             77.977143   \n",
       "...                               ...                                   ...   \n",
       "1442                           214.90                             93.082857   \n",
       "1445                           150.80                             93.655714   \n",
       "1446                            81.40                             95.995714   \n",
       "1447                            23.60                             87.657143   \n",
       "1455                            36.90                             89.082857   \n",
       "\n",
       "      reanalysis_sat_precip_amt_mm  reanalysis_specific_humidity_g_per_kg  \\\n",
       "12                           16.48                              17.341429   \n",
       "20                          143.73                              17.892857   \n",
       "27                           20.46                              18.074286   \n",
       "40                            0.00                              14.541429   \n",
       "43                           31.79                              14.794286   \n",
       "...                            ...                                    ...   \n",
       "1442                         51.29                              19.368571   \n",
       "1445                         17.33                              18.677143   \n",
       "1446                         86.70                              19.448571   \n",
       "1447                         26.00                              18.068571   \n",
       "1455                         63.22                              17.355714   \n",
       "\n",
       "      reanalysis_tdtr_k  station_avg_temp_c  station_diur_temp_rng_c  \\\n",
       "12             2.071429           28.114286                 6.357143   \n",
       "20             1.742857           28.242857                 8.114286   \n",
       "27             2.385714           28.471429                 8.428571   \n",
       "40             2.428571           25.057143                 6.885714   \n",
       "43             2.114286           25.257143                 7.200000   \n",
       "...                 ...                 ...                      ...   \n",
       "1442           8.028571           27.466667                 9.333333   \n",
       "1445           7.228571           27.150000                 9.600000   \n",
       "1446           7.757143           27.850000                 9.600000   \n",
       "1447           8.257143           28.850000                12.125000   \n",
       "1455          11.014286           27.475000                 9.900000   \n",
       "\n",
       "      station_max_temp_c  station_min_temp_c  station_precip_mm  \n",
       "12                  31.7                22.8               32.6  \n",
       "20                  32.8                23.9                3.3  \n",
       "27                  33.3                23.9                6.6  \n",
       "40                  30.0                20.6                7.3  \n",
       "43                  30.6                20.0               30.7  \n",
       "...                  ...                 ...                ...  \n",
       "1442                34.5                21.0               20.0  \n",
       "1445                33.0                21.2               18.0  \n",
       "1446                33.5                22.5               51.1  \n",
       "1447                36.2                21.4               35.4  \n",
       "1455                33.7                22.2               20.4  \n",
       "\n",
       "[219 rows x 21 columns]"
      ]
     },
     "execution_count": 20,
     "metadata": {},
     "output_type": "execute_result"
    }
   ],
   "source": [
    "df_cleaned_test"
   ]
  },
  {
   "cell_type": "code",
   "execution_count": 21,
   "id": "pIVU36FuB1cc",
   "metadata": {
    "tags": []
   },
   "outputs": [
    {
     "name": "stdout",
     "output_type": "stream",
     "text": [
      "R-squared on training data is:  0.21168850488102653\n",
      "R-squared on test data is:  0.2410518841397259\n"
     ]
    },
    {
     "data": {
      "text/plain": [
       "Text(0.5, 1.0, 'Predicted vs Actual number of dengue cases (with city as a regressor)')"
      ]
     },
     "execution_count": 21,
     "metadata": {},
     "output_type": "execute_result"
    },
    {
     "data": {
      "image/png": "[encoded data removed]",
      "text/plain": [
       "<Figure size 800x600 with 1 Axes>"
      ]
     },
     "metadata": {},
     "output_type": "display_data"
    }
   ],
   "source": [
    "# include city as a regressor by creating dummy variables for the 'city' column\n",
    "df_cleaned_city = pd.get_dummies(df_features.dropna()[['city']], drop_first=True)\n",
    "\n",
    "# combine the cleaned data with the city dummy variables\n",
    "df_cleaned_combined = pd.concat([df_cleaned, df_cleaned_city], axis=1)\n",
    "\n",
    "# split the data into training and test sets using a random mask\n",
    "np.random.seed(145)\n",
    "mask = np.random.rand(len(cases)) < 0.8\n",
    "df_cleaned_city_train = df_cleaned_combined[mask]\n",
    "df_cleaned_city_test = df_cleaned_combined[~mask]\n",
    "cases_city_train = cases[mask]\n",
    "cases_city_test = cases[~mask]\n",
    "\n",
    "# train a linear regression model with city as a regressor\n",
    "reg_model_city = LinearRegression()\n",
    "reg_model_city.fit(df_cleaned_city_train, cases_city_train)\n",
    "\n",
    "# print R-squared scores for the train and test sets\n",
    "print('R-squared on training data is: ', reg_model_city.score(df_cleaned_city_train, cases_city_train))\n",
    "print('R-squared on test data is: ', reg_model_city.score(df_cleaned_city_test, cases_city_test))\n",
    "\n",
    "fig,ax=plt.subplots()\n",
    "# create a scatter plot of the predicted values vs. the actual values for the test data\n",
    "ax.scatter(cases_city_test, reg_model_city.predict(df_cleaned_city_test))\n",
    "\n",
    "# add 1:1 line\n",
    "ax.plot(np.array(ax.get_xlim()), np.array(ax.get_xlim()), 'k-')\n",
    "\n",
    "ax.set_xlabel('Actual number of dengue cases')\n",
    "ax.set_ylabel('Predicted number of dengue cases')\n",
    "ax.set_title('Predicted vs Actual number of dengue cases (with city as a regressor)')"
   ]
  },
  {
   "cell_type": "markdown",
   "id": "AwjpUDzNTTwN",
   "metadata": {
    "execution": {}
   },
   "source": [
    "<details>\n",
    "<summary> <font color='orangered'>Click here description of plot  </font></summary>\n",
    "The plot generated is a scatter plot with the actual total cases on the x-axis and the predicted total cases on the y-axis. Each point on the plot represents a test data point. \n",
    "The accuracy of the model can also be evaluated numerically by computing metrics such as mean absolute error (MAE) and mean squared error (MSE), as well as the R-squared score."
   ]
  },
  {
   "cell_type": "code",
   "execution_count": 22,
   "id": "MaxjVAr7qoZe",
   "metadata": {
    "cellView": "form",
    "tags": []
   },
   "outputs": [
    {
     "name": "stdout",
     "output_type": "stream",
     "text": [
      "MAE: 15.512498624872347\n",
      "RMSE: 25.996116315322112\n"
     ]
    }
   ],
   "source": [
    "# evaluating the performance of the model using metrics such as mean absolute error (MAE) and root mean squared error (RMSE)\n",
    "\n",
    "y_pred_city = reg_model_city.predict(df_cleaned_city_test)\n",
    "print('MAE:', mean_absolute_error(cases_city_test, y_pred_city))\n",
    "print('RMSE:', mean_squared_error(cases_city_test, y_pred_city, squared=False))"
   ]
  },
  {
   "cell_type": "markdown",
   "id": "UJjPu06M-fAG",
   "metadata": {
    "execution": {}
   },
   "source": [
    "###  **Section 2.3.2 : Handling Integer Valued Dependent Variables** "
   ]
  },
  {
   "cell_type": "markdown",
   "id": "7OZbW4DpDtT5",
   "metadata": {
    "execution": {}
   },
   "source": [
    "In our simulated data from the previous tutorial, the dependent variable was real-valued and followed a normal distribution. Here, the weekly case numbers are integers and are better described by a [Poisson distribution](https://en.wikipedia.org/wiki/Poisson_distribution). Therefore, plain linear regression is not actually the most appropriate approach for this data. Rather, we should use a generalized linear model, or GLM, which is like linear regression, but includes an extra step that makes it more suited to handle Poisson data and prevent negative case numbers. Try to use [scikit-learn's Poisson GLM method](https://scikit-learn.org/stable/modules/generated/sklearn.linear_model.PoissonRegressor.html) on this data. Evaluate the performance of this model using the same metrics as above. "
   ]
  },
  {
   "cell_type": "code",
   "execution_count": 23,
   "id": "-Ux5wOt-DZS-",
   "metadata": {
    "tags": []
   },
   "outputs": [
    {
     "name": "stdout",
     "output_type": "stream",
     "text": [
      "r^2 on training data is: \n",
      "0.32673162286972757\n",
      "r^2 on test data is: \n",
      "0.3703581602386913\n"
     ]
    },
    {
     "name": "stderr",
     "output_type": "stream",
     "text": [
      "/srv/conda/envs/notebook/lib/python3.10/site-packages/sklearn/linear_model/_glm/glm.py:282: ConvergenceWarning: lbfgs failed to converge (status=1):\n",
      "STOP: TOTAL NO. of ITERATIONS REACHED LIMIT.\n",
      "\n",
      "Increase the number of iterations (max_iter) or scale the data as shown in:\n",
      "    https://scikit-learn.org/stable/modules/preprocessing.html\n",
      "  self.n_iter_ = _check_optimize_result(\"lbfgs\", opt_res)\n"
     ]
    },
    {
     "data": {
      "text/plain": [
       "Text(0, 0.5, 'Predicted Cases')"
      ]
     },
     "execution_count": 23,
     "metadata": {},
     "output_type": "execute_result"
    },
    {
     "data": {
      "image/png": "[encoded data removed]",
      "text/plain": [
       "<Figure size 800x600 with 1 Axes>"
      ]
     },
     "metadata": {},
     "output_type": "display_data"
    }
   ],
   "source": [
    "# create PoissonRegressor object\n",
    "poisson_reg = PoissonRegressor()\n",
    "\n",
    "# fit the PoissonRegressor model with training data\n",
    "poisson_reg.fit(df_cleaned_train, cases_train)\n",
    "\n",
    "# calculate r^2 score on training data\n",
    "print('r^2 on training data is: ')\n",
    "print(poisson_reg.score(df_cleaned_train, cases_train))\n",
    "\n",
    "# calculate r^2 score on test data\n",
    "print('r^2 on test data is: ')\n",
    "print(poisson_reg.score(df_cleaned_test, cases_test))\n",
    "\n",
    "fig,ax=plt.subplots()\n",
    "# plot predicted values against test data\n",
    "ax.scatter(cases_test, poisson_reg.predict(df_cleaned_test))\n",
    "\n",
    "# add 1:1 line\n",
    "ax.plot(np.array(ax.get_xlim()), np.array(ax.get_xlim()), 'k-')\n",
    "\n",
    "# add plot title and labels\n",
    "ax.set_title(\"Predicted Cases vs Actual Cases\")\n",
    "ax.set_xlabel(\"Actual Cases\")\n",
    "ax.set_ylabel(\"Predicted Cases\")\n"
   ]
  },
  {
   "cell_type": "markdown",
   "id": "ZDS3UirhTVhl",
   "metadata": {
    "execution": {}
   },
   "source": [
    "<details>\n",
    "<summary> <font color='orangered'>Click here description of plot  </font></summary>\n",
    "The plot generated is a scatter plot with the actual total cases on the x-axis and the predicted total cases on the y-axis. Each point on the plot represents a test data point."
   ]
  },
  {
   "cell_type": "code",
   "execution_count": 24,
   "id": "O2q7OQNzq2he",
   "metadata": {
    "cellView": "form",
    "tags": []
   },
   "outputs": [
    {
     "name": "stdout",
     "output_type": "stream",
     "text": [
      "MAE: 14.981738501611318\n",
      "RMSE: 25.98838208958701\n"
     ]
    }
   ],
   "source": [
    "# evaluating the performance of the model using metrics such as mean absolute error (MAE) and root mean squared error (RMSE)\n",
    "\n",
    "y_pred = poisson_reg.predict(df_cleaned_test)\n",
    "print('MAE:', mean_absolute_error(cases_test, y_pred))\n",
    "print('RMSE:', mean_squared_error(cases_test, y_pred, squared=False))"
   ]
  },
  {
   "cell_type": "markdown",
   "id": "C7Jl9oPkCs-P",
   "metadata": {
    "execution": {}
   },
   "source": [
    "### **Question 2.3: Performance of the Model**\n",
    "\n",
    "Engage in discussion with your pod to share your observations from the additional changes above.\n",
    "- What did you observe?\n",
    "- Reflect on how different factors may affect the performance of the model.\n",
    "- Brainstorm as a group additional ways to improve the model's performance.\n"
   ]
  },
  {
   "cell_type": "code",
   "execution_count": null,
   "id": "dec3c125",
   "metadata": {
    "execution": {}
   },
   "outputs": [],
   "source": [
    "# to_remove explanation\n",
    "\"\"\"\n",
    "Possible discussion: In terms of a 1:1 truth versus prediction, both models still struggle to predict case numbers larger than 50. However R-squared values do increase, especially for the Poisson model, and there is a slight impact on the other error metrics. Note also, as mentioned, the Possion model does not predict negative case values.\n",
    "\"\"\";"
   ]
  },
  {
   "cell_type": "markdown",
   "id": "GjB_Kfmtkhd3",
   "metadata": {
    "execution": {}
   },
   "source": [
    "\n",
    "# **Section 3: Decision Trees** \n"
   ]
  },
  {
   "cell_type": "markdown",
   "id": "ftQG5z97vhix",
   "metadata": {
    "execution": {}
   },
   "source": [
    "In the field of climate science, decision trees and random forests can be powerful tools for making predictions and analyzing complex data.\n",
    "\n",
    "A decision tree is a type of model that is constructed by recursively splitting the data based on the values of the input features. Each internal node in the tree represents a decision based on the value of a feature, and each leaf node represents a prediction. Decision trees are easy to interpret and can capture complex, nonlinear relationships in the data.\n",
    "\n",
    "Random forests are a type of ensemble model that combines multiple decision trees to make predictions. Each tree in the forest is trained on a random subset of the data, and the final prediction is the average of the predictions from all the trees. Random forests are particularly useful in climate science because they can handle high-dimensional data with many features and can capture both linear and nonlinear relationships.\n",
    "\n",
    "By using decision trees and random forests, climate scientists can make accurate predictions about a variety of climate-related variables, such as temperature, precipitation, and sea-level rise. They can also gain insights into the complex relationships between different variables and identify important features that contribute to these relationships."
   ]
  },
  {
   "cell_type": "markdown",
   "id": "6HDz0Wae8BUQ",
   "metadata": {
    "execution": {}
   },
   "source": [
    " By training a Random Forest Model in this tutorial, we can better understand the relationship between climate variables and dengue fever cases, and potentially improve our ability to predict and prevent outbreaks."
   ]
  },
  {
   "cell_type": "markdown",
   "id": "UnpSMiiu8BUT",
   "metadata": {
    "execution": {}
   },
   "source": [
    "\n",
    "## **Section 3.1: Fitting Model and Analyzing Results** \n"
   ]
  },
  {
   "cell_type": "markdown",
   "id": "0C_hBsqj8BUT",
   "metadata": {
    "execution": {}
   },
   "source": [
    "Next, you will train a random forest regression model using scikit-learn's RandomForestRegressor class, with default hyperparameters. Use the documentation of the method [here](https://scikit-learn.org/stable/modules/generated/sklearn.ensemble.RandomForestRegressor.html) to help you if needed. Evaluate the model's performance on the training and test data and make a scatter plot of predicted vs actual cases for the test data. \n",
    "Use `RandomForestRegressor()` which we already imported."
   ]
  },
  {
   "cell_type": "code",
   "execution_count": null,
   "id": "B37Yys8Y8BUU",
   "metadata": {
    "execution": {}
   },
   "outputs": [],
   "source": [
    "# train a random forest regression model\n",
    "\n",
    "# use the RandomForestRegressor we imported earlier\n",
    "rf = ...\n",
    "\n",
    "# run fit on 'df_cleaned_train' and 'cases_train'\n",
    "_ = ...\n",
    "\n",
    "# evaluate the model's performance on the training and testing data\n",
    "# calculate accuracy by calling rf.score() on 'df_cleaned_train' and 'cases_train'\n",
    "print('R^2 on training data is: ')\n",
    "print(...)\n",
    "\n",
    "print('R^2 on test data is: ')\n",
    "print(...)\n",
    "\n",
    "fig,ax=plt.subplots()\n",
    "# plot the predicted vs. actual total cases on the test data\n",
    "...\n",
    "\n",
    "# add 1:1 line\n",
    "ax.plot(np.array(ax.get_xlim()), np.array(ax.get_xlim()), 'k-')\n",
    "\n",
    "ax.set_xlabel('Actual Total Cases')\n",
    "ax.set_ylabel('Predicted Total Cases')\n",
    "ax.set_title('Random Forest Regression')\n"
   ]
  },
  {
   "cell_type": "code",
   "execution_count": 27,
   "id": "uX736VJs8BUU",
   "metadata": {
    "tags": []
   },
   "outputs": [
    {
     "name": "stdout",
     "output_type": "stream",
     "text": [
      "R^2 on training data is: \n",
      "0.8943123539693705\n",
      "R^2 on test data is: \n",
      "0.3757169197847854\n"
     ]
    },
    {
     "data": {
      "text/plain": [
       "Text(0.5, 1.0, 'Random Forest Regression')"
      ]
     },
     "execution_count": 27,
     "metadata": {},
     "output_type": "execute_result"
    },
    {
     "data": {
      "image/png": "[encoded data removed]",
      "text/plain": [
       "<Figure size 800x600 with 1 Axes>"
      ]
     },
     "metadata": {},
     "output_type": "display_data"
    }
   ],
   "source": [
    "# to_remove solution\n",
    "\n",
    "# train a random forest regression model\n",
    "\n",
    "# use the RandomForestRegressor we imported earlier\n",
    "rf = RandomForestRegressor()\n",
    "\n",
    "# run fit on 'df_cleaned_train' and 'cases_train'\n",
    "_ = rf.fit(df_cleaned_train, cases_train)\n",
    "\n",
    "# evaluate the model's performance on the training and testing data\n",
    "# calculate accuracy by calling rf.score() on 'df_cleaned_train' and 'cases_train'\n",
    "print('R^2 on training data is: ')\n",
    "print(rf.score(df_cleaned_train, cases_train))\n",
    "\n",
    "print('R^2 on test data is: ')\n",
    "print(rf.score(df_cleaned_test, cases_test))\n",
    "\n",
    "\n",
    "fig,ax=plt.subplots()\n",
    "# plot the predicted vs. actual total cases on the test data\n",
    "ax.scatter(cases_test, rf.predict(df_cleaned_test))\n",
    "\n",
    "# add 1:1 line\n",
    "ax.plot(np.array(ax.get_xlim()), np.array(ax.get_xlim()), 'k-')\n",
    "\n",
    "ax.set_xlabel('Actual Total Cases')\n",
    "ax.set_ylabel('Predicted Total Cases')\n",
    "ax.set_title('Random Forest Regression')\n"
   ]
  },
  {
   "cell_type": "markdown",
   "id": "N-GIWnvNPwDk",
   "metadata": {
    "execution": {}
   },
   "source": [
    "<details>\n",
    "<summary> <font color='orangered'>Click here description of plot  </font></summary>\n",
    "The plot generated is a scatter plot with the actual total cases on the x-axis and the predicted total cases on the y-axis. Each point on the plot represents a test data point. "
   ]
  },
  {
   "cell_type": "code",
   "execution_count": 28,
   "id": "StIShdNq8BUV",
   "metadata": {
    "cellView": "form",
    "tags": []
   },
   "outputs": [
    {
     "name": "stdout",
     "output_type": "stream",
     "text": [
      "MAE: 13.224794520547947\n",
      "RMSE: 23.577253346021156\n"
     ]
    }
   ],
   "source": [
    "# evaluating the performance of the model using metrics such as mean absolute error (MAE) and root mean squared error (MSE)\n",
    "\n",
    "y_pred = rf.predict(df_cleaned_test)\n",
    "print('MAE:', mean_absolute_error(cases_test, y_pred))\n",
    "print('RMSE:', mean_squared_error(cases_test, y_pred, squared=False))"
   ]
  },
  {
   "cell_type": "markdown",
   "id": "xoZ3jPdk8BUV",
   "metadata": {
    "execution": {}
   },
   "source": [
    "### Question 3.1: Reflecting on the Performance \n",
    "Please think and discuss the following questions with your pod members:\n",
    "\n",
    "1. How does the performance of the random forest model compare to that of the linear regression model?\n",
    "2. How does the performance on the test data compare to the performance on the training data?\n",
    "3. What could be the reason behind performing well on the training data but poorly on the test data? Hint: Look up 'overfitting'"
   ]
  },
  {
   "cell_type": "code",
   "execution_count": null,
   "id": "fd54734e",
   "metadata": {
    "execution": {}
   },
   "outputs": [],
   "source": [
    "#  to_remove explanation\n",
    "\"\"\"\n",
    "1. The random forest model generally performs better than the linear regression model as it can capture non-linear relationships between features and target.\n",
    "2. The low performance of the model on the test set might be due to the model learning the noise in the training data instead of the underlying patterns.\n",
    "3. Overfitting is the term for good training performance but poor test performance, where the model fits the training data too closely and fails to generalize to new data.\n",
    "4. Solutions to handle overfitting include reducing model complexity, increasing dataset size, using regularization, or cross-validation. Ensemble models such as random forests also do inherently help control overfitting by averaging many different models\n",
    "\"\"\";"
   ]
  },
  {
   "cell_type": "markdown",
   "id": "VX-uYtUS8BUV",
   "metadata": {
    "execution": {}
   },
   "source": [
    "\n",
    "## **Section 3.2: Looking at Feature Importance**\n",
    "\n",
    "When we train a model to predict an outcome, it's important to understand which inputs to the model are most important in driving that prediction. This is where 'feature importance' methods come in.\n",
    "\n",
    "One way to measure feature importance is by using the permutation method. This involves randomly shuffling the values of a feature and testing the performance of the model with these permuted values. The amount that the model performance decreases when the feature's values are permuted can provide an indication of how important it is.\n",
    "\n",
    "For climate scientists, understanding feature importance can help identify key variables that contribute to predicting important outcomes, such as temperature or precipitation patterns.\n",
    "\n",
    "Thankfully, Sci-kit learn has a method that implements permutation importance, and outputs a normalized measure of how much each feature impacts performance."
   ]
  },
  {
   "cell_type": "code",
   "execution_count": 33,
   "id": "afXyxUfgdM67",
   "metadata": {
    "cellView": "form",
    "tags": []
   },
   "outputs": [],
   "source": [
    "# execute this cell to enable the plotting function to be used for plotting performance of our model in next cell: `plot_feature_importance`\n",
    "\n",
    "def plot_feature_importance(perm_feat_imp):\n",
    "    # increase the size of the plot for better readability\n",
    "    fig,ax=plt.subplots(figsize=(12, 8))\n",
    "\n",
    "    # plot the feature importance with error bars in navy blue color\n",
    "    ax.errorbar(np.arange(len(df_cleaned.columns)), perm_feat_imp['importances_mean'], perm_feat_imp['importances_std'], fmt='o', capsize=5, markersize=5, color='navy')\n",
    "\n",
    "    # set the x-axis and y-axis labels and title\n",
    "    ax.set_xlabel('Features', fontsize=14)\n",
    "    ax.set_ylabel('Importance', fontsize=14)\n",
    "    ax.set_title('Feature Importance Plot', fontsize=16)\n",
    "\n",
    "    # rotate the x-axis labels for better readability\n",
    "    ax.set_xticklabels(ax.get_xticklabels(), rotation=45, ha='right',fontsize=12)\n",
    "\n",
    "    # add gridlines for better visualization\n",
    "    ax.grid(True, axis='y', linestyle='--')\n",
    "\n",
    "    # bar plot\n",
    "    ax.bar(np.arange(len(df_cleaned.columns)), perm_feat_imp['importances_mean'], color='navy')\n"
   ]
  },
  {
   "cell_type": "code",
   "execution_count": 34,
   "id": "LuqdCv4FdM68",
   "metadata": {
    "tags": []
   },
   "outputs": [
    {
     "name": "stderr",
     "output_type": "stream",
     "text": [
      "/tmp/ipykernel_904/2763166810.py:16: UserWarning: FixedFormatter should only be used together with FixedLocator\n",
      "  ax.set_xticklabels(ax.get_xticklabels(), rotation=45, ha='right',fontsize=12)\n"
     ]
    },
    {
     "data": {
      "image/png": "[encoded data removed]",
      "text/plain": [
       "<Figure size 1200x800 with 1 Axes>"
      ]
     },
     "metadata": {},
     "output_type": "display_data"
    }
   ],
   "source": [
    "# Plot the feature importance of each input to the model\n",
    "\n",
    "# Use permutation_importance to calculate the feature importances of the trained random forest model\n",
    "# df_cleaned_train contains the preprocessed training dataset, cases_train contains the actual number of dengue fever cases in the training dataset\n",
    "# n_repeats specifies how many times the feature importances are calculated for each feature\n",
    "# random_state is used to seed the random number generator for reproducibility\n",
    "perm_feat_imp = permutation_importance(rf, df_cleaned_train, cases_train,\n",
    "                           n_repeats=10,\n",
    "                           random_state=0)\n",
    "\n",
    "# Create a plot of the feature importances\n",
    "plot_feature_importance(perm_feat_imp)"
   ]
  },
  {
   "cell_type": "markdown",
   "id": "VTbaHX2S8BUW",
   "metadata": {
    "execution": {}
   },
   "source": [
    "<details>\n",
    "<summary> <font color='orangered'>Click here for description of plot </font></summary>\n",
    "\n",
    "The plot generated is a feature importance plot that provides insights into the importance of different features in predicting the target variable. Let's break down the key elements and address the specific issues raised.\n",
    "\n",
    "1. Feature Importance Representation:\n",
    "- Each bar in the plot represents a feature from the dataset.\n",
    "- The height of each bar represents the relative feature importance value.\n",
    "- Specifically, importance is measured as the decrease in performance that comes from permuting that feature.\n",
    "- Negative values typically indicate that the model performed better if the feature was removed.\n",
    "\n",
    "2. Error Bars and Variability:\n",
    "- The error bars present around each feature's bar represent the variability in importance values.\n",
    "- They indicate the uncertainty or variability in the importance estimates calculated through repeated permutations.\n",
    "- A longer error bar suggests higher variability, meaning the importance value for that feature may change significantly with different permutations.\n",
    "- Conversely, a shorter error bar indicates lower variability, indicating that the importance value is relatively stable and less influenced by random permutations.\n",
    "\n",
    "Understanding the feature importance plot empowers us to identify the most influential factors within our dataset. By recognizing these crucial features, we gain deeper insights into the underlying relationships within climate science data. This knowledge is invaluable for further analysis and informed decision-making processes within our field.\n",
    "\n",
    "It's important to note that the interpretation of feature importance can vary depending on the dataset and modeling technique employed. To gain a comprehensive understanding of feature importance analysis in the context of climate science, it is advisable to consult domain experts and explore additional resources tailored to your specific interests.\n",
    "\n",
    "By delving into the world of feature importance, we unlock the potential to unravel the intricate dynamics of our climate science data and make meaningful contributions to this fascinating field of study.\n",
    "\n",
    " </summary>"
   ]
  },
  {
   "cell_type": "markdown",
   "id": "EJ1y4x4X8BUW",
   "metadata": {
    "execution": {}
   },
   "source": [
    "### **Question 3.2: Climate Connection**\n",
    "Please think and discuss the following questions with your pod members:\n",
    "\n",
    "1. Which features were most important? Why do you suspect they would be?\n",
    "2. Which features were not? Are there other variables not included here you think that would be more relevant than those that were deemed 'not important'?"
   ]
  },
  {
   "cell_type": "code",
   "execution_count": null,
   "id": "fb20e272",
   "metadata": {
    "execution": {}
   },
   "outputs": [],
   "source": [
    "# to_remove explanation\n",
    "\"\"\"\n",
    "1. The plot above shows that the min_air_temp (minimum air temperature) has the highest importance score, followed by week of year and tdtr (diurnal temperature range). Warmer environments are more conducive to mosquito populations, and the week of year may be important due to the season.\n",
    "2. Surprisingly, these results suggest that some of the precipitation variables were not very helpful. One variable that might be more relevant to mosquito populatoins is an esimate of standing water.\n",
    "\"\"\";"
   ]
  },
  {
   "cell_type": "markdown",
   "id": "IFZVBmzu8BUX",
   "metadata": {
    "execution": {}
   },
   "source": [
    "\n",
    "## **(Bonus) Section 3.3: Comparing Feature Importance Methods**\n",
    "\n",
    "The Random Forest Regression model also has a built-in estimation of feature importance. This estimation comes directly from how the decision trees are trained; specifically, it is a measure of how useful the feature is at splitting the data averaged across all nodes and trees. We can access these values directly from the trained model.\n",
    "\n",
    "Different methods of estimating feature importance can come to different conclusions and may have different biases. Therefore, it is good to compare estimations across methods. How do these two methods compare? "
   ]
  },
  {
   "cell_type": "code",
   "execution_count": 35,
   "id": "i2-RQwIw8BUX",
   "metadata": {
    "tags": []
   },
   "outputs": [
    {
     "name": "stderr",
     "output_type": "stream",
     "text": [
      "/tmp/ipykernel_904/2002728510.py:13: UserWarning: FixedFormatter should only be used together with FixedLocator\n",
      "  ax.set_xticklabels(ax.get_xticklabels(), rotation=45, ha='right',fontsize=12)\n"
     ]
    },
    {
     "data": {
      "image/png": "[encoded data removed]",
      "text/plain": [
       "<Figure size 1000x600 with 1 Axes>"
      ]
     },
     "metadata": {},
     "output_type": "display_data"
    }
   ],
   "source": [
    "# set the figure size for better readability\n",
    "fig,ax=plt.subplots(figsize=(10, 6))\n",
    "\n",
    "# create a bar chart of the feature importances returned by the random forest model\n",
    "ax.bar(np.arange(len(rf.feature_importances_)), rf.feature_importances_, color='navy')\n",
    "\n",
    "# set the x-axis and y-axis labels and title\n",
    "ax.set_xlabel('Features', fontsize=14)\n",
    "ax.set_ylabel('Importance', fontsize=14)\n",
    "ax.set_title('Feature Importance Plot', fontsize=16)\n",
    "\n",
    "# rotate the x-axis labels for better readability\n",
    "ax.set_xticklabels(ax.get_xticklabels(), rotation=45, ha='right',fontsize=12)\n",
    "\n",
    "# set the y-axis limit to better visualize the differences in feature importance\n",
    "ax.set_ylim(0, rf.feature_importances_.max() * 1.1)\n",
    "\n",
    "# add gridlines for better visualization\n",
    "ax.grid(True, axis='y', linestyle='--')\n"
   ]
  },
  {
   "cell_type": "markdown",
   "id": "cXiY9CWU8BUX",
   "metadata": {
    "execution": {}
   },
   "source": [
    "\n",
    "<details>\n",
    "<summary> <font color='orangered'>Click here for description of plot </font></summary>\n",
    "\n",
    "The bar chart displays the feature importances returned by the random forest model. Each bar represents the relative importance of each feature in predicting the number of dengue fever cases in the preprocessed dataset. The y-axis represents the importance of the features, while the x-axis displays the name of the features."
   ]
  },
  {
   "cell_type": "markdown",
   "id": "24d9b28b",
   "metadata": {
    "execution": {}
   },
   "source": [
    "### **Question 3.3: Climate Connection**\n",
    "Please think and discuss the following questions with your pod members:\n",
    "\n",
    "1. How does this compare to the feature importance figure calculated using the permuation method above?\n",
    "2. Do the differences agree more or less with your own expectations of which variables would be most important?"
   ]
  },
  {
   "cell_type": "code",
   "execution_count": null,
   "id": "38c24e8f",
   "metadata": {
    "execution": {}
   },
   "outputs": [],
   "source": [
    "# to_remove explanation\n",
    "\"\"\"\n",
    "1. Unlike the previous estimate of importance, here week of year, temperature variables and precipitation and humidity are all important. This underpins the importance of using multiple methods for estimating feature importance.\n",
    "2. The important features with the built-in method shown here agree likely more with expectations: hot and humid environments are both supportive of mosquito populations. Note: we have used the training data to evaluate feature importance (this is mandatory for the built-in method); different results may come from using the test data.\n",
    "\"\"\";"
   ]
  },
  {
   "cell_type": "markdown",
   "id": "Rod5BrQakSJf",
   "metadata": {
    "execution": {}
   },
   "source": [
    "# **Summary**\n",
    "\n",
    "In this tutorial, you explored various methods of analyzing the Dengue Fever dataset from a climate science perspective. You started by using pandas to handle the data and visualizing trends and anomalies. Next, you applied linear regression to model the data and handle categorical and integer-valued data. Finally, you applied random forest regression to improve the performance of the model and learned about feature importance. Overall, learners gained practical experience in using different modeling techniques to analyze and make predictions about real-world climate data. \n",
    "\n"
   ]
  },
  {
   "cell_type": "markdown",
   "id": "ytSWAGmQ8BUY",
   "metadata": {
    "execution": {}
   },
   "source": [
    "# Extra Exercises or Project Ideas\n",
    "\n",
    "1. Try experimenting with different hyperparameters for the random forest model, such as n_estimators, max_depth, and min_samples_leaf. How do these hyperparameters affect the performance of the model? \n",
    "\n",
    "2. Try using a different machine learning algorithm to predict the number of Dengue fever cases, such as a support vector machine. How does the performance of these algorithms compare to the random forest model?\n",
    "\n",
    "3. Try using a different dataset to predict the number of cases of a different disease or health condition. How does the preprocessing and modeling process differ for this dataset compared to the Dengue fever dataset?\n",
    "\n",
    "4. Try visualizing the decision tree of the random forest model using the plot_tree function of the sklearn package. What insights can you gain from the visualization of the decision tree?\n"
   ]
  },
  {
   "cell_type": "markdown",
   "id": "ad7bd6e6",
   "metadata": {
    "execution": {}
   },
   "source": [
    "# **Resources**\n",
    "\n",
    "Data from this tutorial can be accessed [here](https://www.drivendata.org/competitions/44/dengai-predicting-disease-spread/page/81/)."
   ]
  }
 ],
 "metadata": {
  "colab": {
   "collapsed_sections": [],
   "include_colab_link": true,
   "name": "W2D5_Tutorial2",
   "provenance": [],
   "toc_visible": true
  },
  "kernel": {
   "display_name": "Python 3",
   "language": "python",
   "name": "python3"
  },
  "kernelspec": {
   "display_name": "Python 3 (ipykernel)",
   "language": "python",
   "name": "python3"
  },
  "language_info": {
   "codemirror_mode": {
    "name": "ipython",
    "version": 3
   },
   "file_extension": ".py",
   "mimetype": "text/x-python",
   "name": "python",
   "nbconvert_exporter": "python",
   "pygments_lexer": "ipython3",
   "version": "3.10.12"
  }
 },
 "nbformat": 4,
 "nbformat_minor": 5
}
