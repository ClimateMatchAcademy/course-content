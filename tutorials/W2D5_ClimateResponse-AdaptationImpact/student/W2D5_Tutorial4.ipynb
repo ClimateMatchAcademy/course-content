{
 "cells": [
  {
   "cell_type": "markdown",
   "id": "myt07YFyNgmw",
   "metadata": {
    "execution": {}
   },
   "source": [
    "# Tutorial 4:  Dengue Fever Regression\n",
    "\n",
    "\n",
    "\n",
    "\n",
    "**Week 2, Day 5: Climate Response: adaptation and impact**\n",
    "\n",
    "**By Climatematch Academy**\n",
    "\n",
    "__Content creators:__ Deepak Mewada, Grace Lindsay\n",
    "\n",
    "__Content reviewers:__ Ohad Zivan, Name Surname\n",
    "\n",
    "__Content editors:__ Name Surname, Name Surname\n",
    "\n",
    "__Production editors:__ Name Surname, Name Surname"
   ]
  },
  {
   "cell_type": "markdown",
   "id": "kDQc1jnoNWcp",
   "metadata": {
    "execution": {}
   },
   "source": [
    "___\n",
    "# Tutorial Objectives\n",
    "\n",
    "*Estimated timing of tutorial: X minutes* [todo]\n",
    "\n",
    "Welcome to tutorial 4 of a series focused on understanding the role of data science and machine learning in addressing the impact of climate change and adapting to it.\n",
    "\n",
    "In this tutorial we will apply linear regression to the Dengue data set. Specifically, by the end of this tutorial, you will be able to:\n",
    "\n",
    "- Clean the data\n",
    "- Implement linear regression using scikit learn on Dengue Fever Dataset and evaluate its performance\n",
    "- Use 'dummy variables' to handle categorical data\n",
    "- Use scikit-learn's Poisson GLM method to handle integer-valued data \n",
    "\n",
    "---"
   ]
  },
  {
   "cell_type": "markdown",
   "metadata": {},
   "source": [
    "##  Tutorial slides\n"
   ]
  },
  {
   "cell_type": "markdown",
   "metadata": {},
   "source": [
    " These are the slides for the videos in all tutorials today\n"
   ]
  },
  {
   "cell_type": "markdown",
   "metadata": {},
   "source": [
    "###  Tutorial slides\n"
   ]
  },
  {
   "cell_type": "markdown",
   "metadata": {},
   "source": [
    " These are the slides for the videos in all tutorials today\n"
   ]
  },
  {
   "cell_type": "markdown",
   "metadata": {},
   "source": [
    "####  Tutorial slides\n"
   ]
  },
  {
   "cell_type": "markdown",
   "metadata": {},
   "source": [
    " These are the slides for the videos in all tutorials today\n"
   ]
  },
  {
   "cell_type": "markdown",
   "metadata": {},
   "source": [
    "#####  Tutorial slides\n"
   ]
  },
  {
   "cell_type": "markdown",
   "metadata": {},
   "source": [
    " These are the slides for the videos in all tutorials today\n"
   ]
  },
  {
   "cell_type": "markdown",
   "metadata": {},
   "source": [
    "######  Tutorial slides\n"
   ]
  },
  {
   "cell_type": "markdown",
   "metadata": {},
   "source": [
    " These are the slides for the videos in all tutorials today\n"
   ]
  },
  {
   "cell_type": "markdown",
   "metadata": {},
   "source": [
    "#######  Tutorial slides\n"
   ]
  },
  {
   "cell_type": "markdown",
   "metadata": {},
   "source": [
    " These are the slides for the videos in all tutorials today\n"
   ]
  },
  {
   "cell_type": "markdown",
   "metadata": {},
   "source": [
    "########  Tutorial slides\n"
   ]
  },
  {
   "cell_type": "markdown",
   "metadata": {},
   "source": [
    " These are the slides for the videos in all tutorials today\n"
   ]
  },
  {
   "cell_type": "markdown",
   "metadata": {},
   "source": [
    "#########  Tutorial slides\n"
   ]
  },
  {
   "cell_type": "markdown",
   "metadata": {},
   "source": [
    " These are the slides for the videos in all tutorials today\n"
   ]
  },
  {
   "cell_type": "markdown",
   "metadata": {},
   "source": [
    "##########  Tutorial slides\n"
   ]
  },
  {
   "cell_type": "markdown",
   "metadata": {},
   "source": [
    " These are the slides for the videos in all tutorials today\n"
   ]
  },
  {
   "cell_type": "markdown",
   "metadata": {},
   "source": [
    "###########  Tutorial slides\n"
   ]
  },
  {
   "cell_type": "markdown",
   "metadata": {},
   "source": [
    " These are the slides for the videos in all tutorials today\n"
   ]
  },
  {
   "cell_type": "code",
   "execution_count": null,
   "id": "wlndBdbV5iJF",
   "metadata": {
    "cellView": "form",
    "execution": {},
    "executionInfo": {
     "elapsed": 5,
     "status": "ok",
     "timestamp": 1681520607833,
     "user": {
      "displayName": "Deepak Mewada",
      "userId": "10376201445384716451"
     },
     "user_tz": -330
    },
    "tags": [
     "remove-input"
    ]
   },
   "outputs": [],
   "source": [
    "# @title Tutorial slides\n",
    "\n",
    "# @markdown These are the slides for the videos in all tutorials today\n",
    "from IPython.display import IFrame\n",
    "IFrame(src=f\"https://mfr.ca-1.osf.io/render?url=https://osf.io/kaq2x/?direct%26mode=render%26action=download%26mode=render\", width=854, height=480)"
   ]
  },
  {
   "cell_type": "markdown",
   "id": "Vtq0OyoRNPcc",
   "metadata": {
    "execution": {}
   },
   "source": [
    "\n",
    "\n",
    "---\n",
    "# Setup"
   ]
  },
  {
   "cell_type": "markdown",
   "metadata": {},
   "source": [
    "##  Import necessary libraries:\n"
   ]
  },
  {
   "cell_type": "markdown",
   "metadata": {},
   "source": [
    "###  Import necessary libraries:\n"
   ]
  },
  {
   "cell_type": "markdown",
   "metadata": {},
   "source": [
    "####  Import necessary libraries:\n"
   ]
  },
  {
   "cell_type": "markdown",
   "metadata": {},
   "source": [
    "#####  Import necessary libraries:\n"
   ]
  },
  {
   "cell_type": "markdown",
   "metadata": {},
   "source": [
    "######  Import necessary libraries:\n"
   ]
  },
  {
   "cell_type": "markdown",
   "metadata": {},
   "source": [
    "#######  Import necessary libraries:\n"
   ]
  },
  {
   "cell_type": "markdown",
   "metadata": {},
   "source": [
    "########  Import necessary libraries:\n"
   ]
  },
  {
   "cell_type": "markdown",
   "metadata": {},
   "source": [
    "#########  Import necessary libraries:\n"
   ]
  },
  {
   "cell_type": "markdown",
   "metadata": {},
   "source": [
    "##########  Import necessary libraries:\n"
   ]
  },
  {
   "cell_type": "markdown",
   "metadata": {},
   "source": [
    "###########  Import necessary libraries:\n"
   ]
  },
  {
   "cell_type": "code",
   "execution_count": null,
   "id": "Kwsl6-KNNPcc",
   "metadata": {
    "cellView": "form",
    "execution": {},
    "pycharm": {
     "name": "#%%\n"
    },
    "tags": [
     "hide-input"
    ]
   },
   "outputs": [],
   "source": [
    "#@title Import necessary libraries:\n",
    "import numpy as np  # Import the numpy library as np\n",
    "from sklearn.linear_model import LinearRegression # Import the LinearRegression class from the sklearn.linear_model module\n",
    "import matplotlib.pyplot as plt # Import the pyplot module from the matplotlib library\n",
    "import pandas as pd # Import the pandas library and the drive function from the google.colab module\n",
    "from sklearn.metrics import mean_absolute_error, mean_squared_error"
   ]
  },
  {
   "cell_type": "markdown",
   "id": "wNqEz5P8j2Q-",
   "metadata": {
    "execution": {}
   },
   "source": [
    "<details>\n",
    "<summary> <font color='Red'>Click here if you are running on local machine or you encounter any error while importing   </font></summary>\n",
    "**NOTE:** Please note that if you are running this code on a local machine and encounter an error while importing a library, make sure to install the library via pip. For example, if you receive a `\"ModuleNotFoundError: No module named 'google.colab'\" `error while using 'Colab', please run `\"pip install google\"` to install the required module."
   ]
  },
  {
   "cell_type": "markdown",
   "id": "nULavCfq4o07",
   "metadata": {
    "execution": {}
   },
   "source": [
    "---\n",
    "\n",
    "# Section 1: Dengue Fever Regression\n",
    "\n"
   ]
  },
  {
   "cell_type": "markdown",
   "metadata": {},
   "source": [
    "##  Video 1: Video 1 Name\n"
   ]
  },
  {
   "cell_type": "markdown",
   "metadata": {},
   "source": [
    "###  Video 1: Video 1 Name\n"
   ]
  },
  {
   "cell_type": "markdown",
   "metadata": {},
   "source": [
    "####  Video 1: Video 1 Name\n"
   ]
  },
  {
   "cell_type": "markdown",
   "metadata": {},
   "source": [
    "#####  Video 1: Video 1 Name\n"
   ]
  },
  {
   "cell_type": "markdown",
   "metadata": {},
   "source": [
    "######  Video 1: Video 1 Name\n"
   ]
  },
  {
   "cell_type": "markdown",
   "metadata": {},
   "source": [
    "#######  Video 1: Video 1 Name\n"
   ]
  },
  {
   "cell_type": "markdown",
   "metadata": {},
   "source": [
    "########  Video 1: Video 1 Name\n"
   ]
  },
  {
   "cell_type": "markdown",
   "metadata": {},
   "source": [
    "#########  Video 1: Video 1 Name\n"
   ]
  },
  {
   "cell_type": "markdown",
   "metadata": {},
   "source": [
    "##########  Video 1: Video 1 Name\n"
   ]
  },
  {
   "cell_type": "markdown",
   "metadata": {},
   "source": [
    "###########  Video 1: Video 1 Name\n"
   ]
  },
  {
   "cell_type": "code",
   "execution_count": null,
   "id": "ThcPwgvzvV-6",
   "metadata": {
    "cellView": "form",
    "execution": {},
    "executionInfo": {
     "elapsed": 16,
     "status": "ok",
     "timestamp": 1681520637088,
     "user": {
      "displayName": "Deepak Mewada",
      "userId": "10376201445384716451"
     },
     "user_tz": -330
    },
    "tags": [
     "remove-input"
    ]
   },
   "outputs": [],
   "source": [
    "# @title Video 1: Video 1 Name\n",
    "from ipywidgets import widgets\n",
    "from IPython.display import display, IFrame, YouTubeVideo\n",
    "\n",
    "out2 = widgets.Output()\n",
    "with out2:\n",
    "  class BiliVideo(IFrame):\n",
    "    def __init__(self, id, page=1, width=400, height=300, **kwargs):\n",
    "      self.id=id\n",
    "      src = 'https://player.bilibili.com/player.html?bvid={0}&page={1}'.format(id, page)\n",
    "      super(BiliVideo, self).__init__(src, width, height, **kwargs)\n",
    "\n",
    "  video = BiliVideo(id=\"\", width=730, height=410, fs=1)\n",
    "  print(f'Video available at https://www.bilibili.com/video/{video.id}')\n",
    "  display(video)\n",
    "\n",
    "out1 = widgets.Output()\n",
    "with out1:\n",
    "  video = YouTubeVideo(id=\"\", width=730, height=410, fs=1, rel=0)\n",
    "  print(f'Video available at https://youtube.com/watch?v={video.id}')\n",
    "  display(video)\n",
    "\n",
    "out = widgets.Tab([out1, out2])\n",
    "out.set_title(0, 'Youtube')\n",
    "out.set_title(1, 'Bilibili')\n",
    "\n",
    "display(out)"
   ]
  },
  {
   "cell_type": "markdown",
   "id": "1yZZ5_btMtu3",
   "metadata": {
    "id": "1yZZ5_btMtu3"
   },
   "source": [
    "\n",
    "\n",
    "---\n",
    "\n",
    "\n",
    "## Section 1.1:  Loading the Dataset\n",
    "\n",
    "---\n",
    "\n"
   ]
  },
  {
   "cell_type": "code",
   "execution_count": null,
   "id": "9j9XRbRJ4VB7",
   "metadata": {
    "execution": {},
    "executionInfo": {
     "elapsed": 27487,
     "status": "ok",
     "timestamp": 1681551322719,
     "user": {
      "displayName": "Deepak Mewada",
      "userId": "10376201445384716451"
     },
     "user_tz": -330
    }
   },
   "outputs": [],
   "source": [
    "import os, pooch\n",
    "\n",
    "features_fname = 'dengue_features_train(1).csv'\n",
    "if not os.path.exists(features_fname):\n",
    "    url = \"https://osf.io/wm9un/download\"\n",
    "    features_fname = pooch.retrieve(url, known_hash=None)\n",
    "\n",
    "labels_fname = 'dengue_labels_train.csv'\n",
    "if not os.path.exists(labels_fname):\n",
    "    url = \"https://osf.io/6nw9x/download\"\n",
    "    labels_fname = pooch.retrieve(url, known_hash=None)\n",
    "\n",
    "# Load two csv files from the mounted Google Drive into separate Pandas dataframes\n",
    "# `df_features` will hold the features data for our model\n",
    "# `df_labels` will hold the corresponding labels\n",
    "df_features = pd.read_csv(features_fname)\n",
    "df_labels = pd.read_csv(labels_fname)"
   ]
  },
  {
   "cell_type": "markdown",
   "id": "1dOsBX8X6ScK",
   "metadata": {
    "execution": {}
   },
   "source": [
    "\n",
    "\n",
    "---\n",
    "\n",
    "\n",
    "## Section 1.2:  Explore the dataset\n",
    "\n",
    "---\n",
    "\n"
   ]
  },
  {
   "cell_type": "markdown",
   "metadata": {},
   "source": [
    " In this code, we are working with the df_features dataframe. The df_features.head() function call will display the first 5 rows of the dataframe, which is helpful for quickly inspecting the data and getting a sense of its structure.\n"
   ]
  },
  {
   "cell_type": "markdown",
   "metadata": {},
   "source": [
    " In this code, we are working with the df_features dataframe. The df_features.head() function call will display the first 5 rows of the dataframe, which is helpful for quickly inspecting the data and getting a sense of its structure.\n"
   ]
  },
  {
   "cell_type": "markdown",
   "metadata": {},
   "source": [
    " In this code, we are working with the df_features dataframe. The df_features.head() function call will display the first 5 rows of the dataframe, which is helpful for quickly inspecting the data and getting a sense of its structure.\n"
   ]
  },
  {
   "cell_type": "markdown",
   "metadata": {},
   "source": [
    " In this code, we are working with the df_features dataframe. The df_features.head() function call will display the first 5 rows of the dataframe, which is helpful for quickly inspecting the data and getting a sense of its structure.\n"
   ]
  },
  {
   "cell_type": "markdown",
   "metadata": {},
   "source": [
    " In this code, we are working with the df_features dataframe. The df_features.head() function call will display the first 5 rows of the dataframe, which is helpful for quickly inspecting the data and getting a sense of its structure.\n"
   ]
  },
  {
   "cell_type": "markdown",
   "metadata": {},
   "source": [
    " In this code, we are working with the df_features dataframe. The df_features.head() function call will display the first 5 rows of the dataframe, which is helpful for quickly inspecting the data and getting a sense of its structure.\n"
   ]
  },
  {
   "cell_type": "markdown",
   "metadata": {},
   "source": [
    " In this code, we are working with the df_features dataframe. The df_features.head() function call will display the first 5 rows of the dataframe, which is helpful for quickly inspecting the data and getting a sense of its structure.\n"
   ]
  },
  {
   "cell_type": "markdown",
   "metadata": {},
   "source": [
    " In this code, we are working with the df_features dataframe. The df_features.head() function call will display the first 5 rows of the dataframe, which is helpful for quickly inspecting the data and getting a sense of its structure.\n"
   ]
  },
  {
   "cell_type": "markdown",
   "metadata": {},
   "source": [
    " In this code, we are working with the df_features dataframe. The df_features.head() function call will display the first 5 rows of the dataframe, which is helpful for quickly inspecting the data and getting a sense of its structure.\n"
   ]
  },
  {
   "cell_type": "markdown",
   "metadata": {},
   "source": [
    " In this code, we are working with the df_features dataframe. The df_features.head() function call will display the first 5 rows of the dataframe, which is helpful for quickly inspecting the data and getting a sense of its structure.\n"
   ]
  },
  {
   "cell_type": "code",
   "execution_count": null,
   "id": "-fbgiNxA7cGi",
   "metadata": {
    "cellView": "form",
    "execution": {},
    "executionInfo": {
     "elapsed": 423,
     "status": "ok",
     "timestamp": 1681551571960,
     "user": {
      "displayName": "Deepak Mewada",
      "userId": "10376201445384716451"
     },
     "user_tz": -330
    },
    "tags": [
     "hide-input"
    ]
   },
   "outputs": [],
   "source": [
    "#@markdown In this code, we are working with the df_features dataframe. The df_features.head() function call will display the first 5 rows of the dataframe, which is helpful for quickly inspecting the data and getting a sense of its structure.\n",
    "\n",
    "# Display the first 5 rows of the df_features dataframe\n",
    "df_features.head()"
   ]
  },
  {
   "cell_type": "markdown",
   "id": "V2qPY6gYuetd",
   "metadata": {
    "execution": {}
   },
   "source": [
    "Since We have already explored and visualised the dataset enough in the previous tutorial so we are now good to go with next steps.\n",
    "\n",
    "We will start by preprocessing the data and building a model to predict cases of dengue fever.\n",
    "\n",
    "In the case of predicting dengue fever the environmental variables are the independent variables (or regressors), while number of dengue fever cases is the dependent variable that we want to predict."
   ]
  },
  {
   "cell_type": "markdown",
   "id": "j9n17gXFOIXX",
   "metadata": {
    "execution": {}
   },
   "source": [
    "---\n",
    "## Section 1.3:  Data Preprocessing\n",
    "\n",
    "---\n",
    "\n"
   ]
  },
  {
   "cell_type": "markdown",
   "id": "SYvfpa8B8S_D",
   "metadata": {
    "execution": {}
   },
   "source": [
    "As we saw in our data exploration ealier in last tutorial, some data values were missing for certain weeks. Let's start by replacing any missing values with mean values. Let's also remove some columns that we won't use for our prediction now such as city, year, and week start date. \n",
    "\n"
   ]
  },
  {
   "cell_type": "markdown",
   "metadata": {},
   "source": [
    "###  Data Cleaning\n"
   ]
  },
  {
   "cell_type": "markdown",
   "metadata": {},
   "source": [
    "####  Data Cleaning\n"
   ]
  },
  {
   "cell_type": "markdown",
   "metadata": {},
   "source": [
    "#####  Data Cleaning\n"
   ]
  },
  {
   "cell_type": "markdown",
   "metadata": {},
   "source": [
    "######  Data Cleaning\n"
   ]
  },
  {
   "cell_type": "markdown",
   "metadata": {},
   "source": [
    "#######  Data Cleaning\n"
   ]
  },
  {
   "cell_type": "markdown",
   "metadata": {},
   "source": [
    "########  Data Cleaning\n"
   ]
  },
  {
   "cell_type": "markdown",
   "metadata": {},
   "source": [
    "#########  Data Cleaning\n"
   ]
  },
  {
   "cell_type": "markdown",
   "metadata": {},
   "source": [
    "##########  Data Cleaning\n"
   ]
  },
  {
   "cell_type": "markdown",
   "metadata": {},
   "source": [
    "###########  Data Cleaning\n"
   ]
  },
  {
   "cell_type": "markdown",
   "metadata": {},
   "source": [
    "############  Data Cleaning\n"
   ]
  },
  {
   "cell_type": "code",
   "execution_count": null,
   "id": "qCBHC6U78sL3",
   "metadata": {
    "cellView": "form",
    "execution": {},
    "tags": [
     "hide-input"
    ]
   },
   "outputs": [],
   "source": [
    "#@title Data Cleaning\n",
    "\n",
    "# Drop columns 'city', 'year', and 'week_start_date' from the 'df' dataframe to create a new dataframe 'df_cleaned'\n",
    "df_cleaned = df_features.drop(['city','year','week_start_date'],axis=1)\n",
    "\n",
    "# Replace missing values with median\n",
    "df_cleaned = df_cleaned.fillna(df_cleaned.median())\n",
    "\n",
    "# Replace null values in 'df_cleaned' with the mean value of the column\n",
    "#df_cleaned = df_cleaned.fillna(df_cleaned.mean())"
   ]
  },
  {
   "cell_type": "markdown",
   "id": "Rauj0P6EbNmz",
   "metadata": {
    "execution": {}
   },
   "source": [
    "Now we can start to build a model with this data. As in our simulated data, however, we don't want to just evaluate our model on the exact data it was trained on, as this can be misleading. We want to make sure our model works well on held out data too. So let's first divide the data into a training set and a test set."
   ]
  },
  {
   "cell_type": "markdown",
   "metadata": {},
   "source": [
    "###   Train-Test Split\n"
   ]
  },
  {
   "cell_type": "markdown",
   "metadata": {},
   "source": [
    "####   Train-Test Split\n"
   ]
  },
  {
   "cell_type": "markdown",
   "metadata": {},
   "source": [
    "#####   Train-Test Split\n"
   ]
  },
  {
   "cell_type": "markdown",
   "metadata": {},
   "source": [
    "######   Train-Test Split\n"
   ]
  },
  {
   "cell_type": "markdown",
   "metadata": {},
   "source": [
    "#######   Train-Test Split\n"
   ]
  },
  {
   "cell_type": "markdown",
   "metadata": {},
   "source": [
    "########   Train-Test Split\n"
   ]
  },
  {
   "cell_type": "markdown",
   "metadata": {},
   "source": [
    "#########   Train-Test Split\n"
   ]
  },
  {
   "cell_type": "markdown",
   "metadata": {},
   "source": [
    "##########   Train-Test Split\n"
   ]
  },
  {
   "cell_type": "markdown",
   "metadata": {},
   "source": [
    "###########   Train-Test Split\n"
   ]
  },
  {
   "cell_type": "markdown",
   "metadata": {},
   "source": [
    "############   Train-Test Split\n"
   ]
  },
  {
   "cell_type": "code",
   "execution_count": null,
   "id": "M0XopmfSu7Ek",
   "metadata": {
    "cellView": "form",
    "execution": {},
    "tags": [
     "hide-input"
    ]
   },
   "outputs": [],
   "source": [
    "#@title  Train-Test Split\n",
    "\n",
    "# Select the 'total_cases' column from the 'df_dengue' dataframe and assign it to the variable 'cases'\n",
    "cases = df_labels['total_cases']\n",
    "\n",
    "# Create a boolean mask with random values for each element in 'cases'\n",
    "np.random.seed(145) #setting the random seed ensures we are all using the same train/test split\n",
    "mask = np.random.rand(len(cases)) < 0.8   #this will use 80% of the data to train and 20% to test\n",
    "\n",
    "# Create two new dataframes from the 'df_cleaned' dataframe based on the boolean mask\n",
    "df_cleaned_train = df_cleaned[mask]\n",
    "df_cleaned_test = df_cleaned[~mask]\n",
    "\n",
    "# Create two new arrays from the 'cases' array based on the boolean mask\n",
    "cases_train = cases[mask]\n",
    "cases_test = cases[~mask]"
   ]
  },
  {
   "cell_type": "markdown",
   "id": "zPeztNPTwRKx",
   "metadata": {
    "execution": {}
   },
   "source": [
    "\n",
    "\n",
    "---\n",
    "\n",
    "\n",
    "## Section 1.2 Fitting Model and Analyzing Results \n",
    "\n",
    "---\n",
    "\n"
   ]
  },
  {
   "cell_type": "markdown",
   "id": "0Q1GTTR8imTs",
   "metadata": {
    "execution": {}
   },
   "source": [
    "### Coding Exercise 1.1: Implement regression on Dengue Fever dataset and evaluate the performance\n",
    "For this exercise, use what you learned in the previous tutorials to train a linear regression model on the training data and evalute its performance. Evaluate its performance on the training data and the test data. Look specifically at the difference between predicted values and true values on the test set. \n",
    "\n",
    "*Exercise Objextive*:\n",
    "1. Train a linear regression model on the training data\n",
    "2. Evaluate the performance of the model on both training and test data.\n",
    "3. Look specifically at the difference between predicted values and true values on the test set."
   ]
  },
  {
   "cell_type": "code",
   "execution_count": null,
   "id": "2boskgTN8REW",
   "metadata": {
    "execution": {},
    "executionInfo": {
     "elapsed": 12,
     "status": "error",
     "timestamp": 1681520637091,
     "user": {
      "displayName": "Deepak Mewada",
      "userId": "10376201445384716451"
     },
     "user_tz": -330
    }
   },
   "outputs": [],
   "source": [
    "#################################################\n",
    "## TODO for students:\n",
    "# Fill in the code in empty places to remove this error\n",
    "# raise NotImplementedError(\"Student exercise: Fill in the code in empty places to remove this error\")\n",
    "#################################################\n",
    "\n",
    "\n",
    "# Create a new instance of the LinearRegression class\n",
    "reg_model = ... # add code here\n",
    "\n",
    "# Train the model on the training data i.e on df_cleaned_train,cases_train\n",
    "...  # add code here\n",
    "\n",
    "# Print the R^2 score of the trained model on the training data\n",
    "print('r^2 on training data is: ')\n",
    "# print(reg_model.score(...,...))\n",
    "\n",
    "# Print the R^2 score of the trained model on the test data\n",
    "print('r^2 on test data is: ')\n",
    "# print(reg_model.score(...,...))\n",
    "\n",
    "# Create a scatter plot of the predicted values vs. the actual values for the test data\n",
    "# plt.scatter(...,reg_model.predict(df_cleaned_test))\n",
    "\n",
    "\n",
    "# Add axis labels to the scatter plot\n",
    "plt.xlabel('Actual Number of Dengue Cases')\n",
    "plt.ylabel('Predicted Number of Dengue Cases')"
   ]
  },
  {
   "cell_type": "markdown",
   "id": "F4d369IY_nc8",
   "metadata": {
    "colab_type": "text",
    "execution": {},
    "executionInfo": {
     "elapsed": 1021,
     "status": "ok",
     "timestamp": 1681557936580,
     "user": {
      "displayName": "Deepak Mewada",
      "userId": "10376201445384716451"
     },
     "user_tz": -330
    }
   },
   "source": [
    "[*Click for solution*](https://github.com/NeuromatchAcademy/course-content/tree/main//tutorials/W2D5_ClimateResponse-AdaptationImpact/solutions/W2D5_Tutorial4_Solution_0afb0959.py)\n",
    "\n",
    "*Example output:*\n",
    "\n",
    "<img alt='Solution hint' align='left' width=587.0 height=453.0 src=https://raw.githubusercontent.com/NeuromatchAcademy/course-content/main/tutorials/W2D5_ClimateResponse-AdaptationImpact/static/W2D5_Tutorial4_Solution_0afb0959_2.png>\n",
    "\n"
   ]
  },
  {
   "cell_type": "markdown",
   "metadata": {},
   "source": [
    "####  Evaluating the performance of the model using metrics such as mean absolute error (MAE) and mean squared error (MSE)\n"
   ]
  },
  {
   "cell_type": "markdown",
   "metadata": {},
   "source": [
    "#####  Evaluating the performance of the model using metrics such as mean absolute error (MAE) and mean squared error (MSE)\n"
   ]
  },
  {
   "cell_type": "markdown",
   "metadata": {},
   "source": [
    "######  Evaluating the performance of the model using metrics such as mean absolute error (MAE) and mean squared error (MSE)\n"
   ]
  },
  {
   "cell_type": "markdown",
   "metadata": {},
   "source": [
    "#######  Evaluating the performance of the model using metrics such as mean absolute error (MAE) and mean squared error (MSE)\n"
   ]
  },
  {
   "cell_type": "markdown",
   "metadata": {},
   "source": [
    "########  Evaluating the performance of the model using metrics such as mean absolute error (MAE) and mean squared error (MSE)\n"
   ]
  },
  {
   "cell_type": "markdown",
   "metadata": {},
   "source": [
    "#########  Evaluating the performance of the model using metrics such as mean absolute error (MAE) and mean squared error (MSE)\n"
   ]
  },
  {
   "cell_type": "markdown",
   "metadata": {},
   "source": [
    "##########  Evaluating the performance of the model using metrics such as mean absolute error (MAE) and mean squared error (MSE)\n"
   ]
  },
  {
   "cell_type": "markdown",
   "metadata": {},
   "source": [
    "###########  Evaluating the performance of the model using metrics such as mean absolute error (MAE) and mean squared error (MSE)\n"
   ]
  },
  {
   "cell_type": "markdown",
   "metadata": {},
   "source": [
    "############  Evaluating the performance of the model using metrics such as mean absolute error (MAE) and mean squared error (MSE)\n"
   ]
  },
  {
   "cell_type": "markdown",
   "metadata": {},
   "source": [
    "#############  Evaluating the performance of the model using metrics such as mean absolute error (MAE) and mean squared error (MSE)\n"
   ]
  },
  {
   "cell_type": "code",
   "execution_count": null,
   "id": "BR4APm-zqPO9",
   "metadata": {
    "cellView": "form",
    "execution": {},
    "executionInfo": {
     "elapsed": 2,
     "status": "ok",
     "timestamp": 1681557938023,
     "user": {
      "displayName": "Deepak Mewada",
      "userId": "10376201445384716451"
     },
     "user_tz": -330
    },
    "tags": [
     "hide-input"
    ]
   },
   "outputs": [],
   "source": [
    "#@title Evaluating the performance of the model using metrics such as mean absolute error (MAE) and mean squared error (MSE)\n",
    "\n",
    "y_pred = reg_model.predict(df_cleaned_test)\n",
    "print('MAE:', mean_absolute_error(cases_test, y_pred))\n",
    "print('MSE:', mean_squared_error(cases_test, y_pred))"
   ]
  },
  {
   "cell_type": "markdown",
   "id": "ucPP9sGWo0Nc",
   "metadata": {
    "execution": {}
   },
   "source": [
    "### Think! 1.2: What did you observe?\n",
    "\n",
    " Do you think the model performs well enough to be useful in anticipating dengue fever outbreaks? \n",
    "\n"
   ]
  },
  {
   "cell_type": "markdown",
   "id": "1LO0O5YkUsZB",
   "metadata": {
    "execution": {}
   },
   "source": [
    "\n",
    "\n",
    "---\n",
    "\n",
    "\n",
    "#(Bonus) Section 2 : Handling Different Scenarios\n",
    "---\n",
    "\n"
   ]
  },
  {
   "cell_type": "markdown",
   "id": "Y6Pux46LWw7e",
   "metadata": {
    "execution": {}
   },
   "source": [
    "## Section 2.1: Handling Categorical Regressor \n"
   ]
  },
  {
   "cell_type": "markdown",
   "id": "RNS2yeHewz7r",
   "metadata": {
    "execution": {}
   },
   "source": [
    "We chose to remove city as a regressor because it is not a numerical value and therefore does not fit as easily into the linear regression framework. However it is possible to include such categorical data. To do so, you need to turn the string variables representing cities into 'dummy variables', that is, numerical values that stand in for the categories. Here we can simply arbitrarily set one city to the value 0 and the other the value 1. See how including city impacts regression performance"
   ]
  },
  {
   "cell_type": "code",
   "execution_count": null,
   "id": "pIVU36FuB1cc",
   "metadata": {
    "execution": {},
    "executionInfo": {
     "elapsed": 882,
     "status": "ok",
     "timestamp": 1681557989269,
     "user": {
      "displayName": "Deepak Mewada",
      "userId": "10376201445384716451"
     },
     "user_tz": -330
    }
   },
   "outputs": [],
   "source": [
    "# Include city as a regressor by creating dummy variables for the 'city' column\n",
    "df_cleaned_city = pd.get_dummies(df_features[['city']], drop_first=True)\n",
    "df_cleaned_city.reset_index(drop=True, inplace=True)\n",
    "\n",
    "# Combine the cleaned data with the city dummy variables\n",
    "df_cleaned_combined = pd.concat([df_cleaned, df_cleaned_city], axis=1)\n",
    "\n",
    "# Split the data into training and test sets using a random mask\n",
    "np.random.seed(144)\n",
    "mask = np.random.rand(len(cases)) < 0.8\n",
    "df_cleaned_train = df_cleaned_combined[mask]\n",
    "df_cleaned_test = df_cleaned_combined[~mask]\n",
    "cases_train = cases[mask]\n",
    "cases_test = cases[~mask]\n",
    "\n",
    "# Train a linear regression model with city as a regressor\n",
    "reg_model_city = LinearRegression()\n",
    "reg_model_city.fit(df_cleaned_train, cases_train)\n",
    "\n",
    "# Print R-squared scores for the train and test sets\n",
    "print('R-squared on training data is: ', reg_model_city.score(df_cleaned_train, cases_train))\n",
    "print('R-squared on test data is: ', reg_model_city.score(df_cleaned_test, cases_test))\n",
    "\n",
    "# Create a scatter plot of the predicted values vs. the actual values for the test data\n",
    "plt.scatter(cases_test, reg_model_city.predict(df_cleaned_test))\n",
    "plt.xlabel('Actual number of dengue cases')\n",
    "plt.ylabel('Predicted number of dengue cases')\n",
    "plt.title('Predicted vs Actual number of dengue cases (with city as a regressor)')"
   ]
  },
  {
   "cell_type": "markdown",
   "metadata": {},
   "source": [
    "###  Evaluating the performance of the model using metrics such as mean absolute error (MAE) and mean squared error (MSE)\n"
   ]
  },
  {
   "cell_type": "markdown",
   "metadata": {},
   "source": [
    "####  Evaluating the performance of the model using metrics such as mean absolute error (MAE) and mean squared error (MSE)\n"
   ]
  },
  {
   "cell_type": "markdown",
   "metadata": {},
   "source": [
    "#####  Evaluating the performance of the model using metrics such as mean absolute error (MAE) and mean squared error (MSE)\n"
   ]
  },
  {
   "cell_type": "markdown",
   "metadata": {},
   "source": [
    "######  Evaluating the performance of the model using metrics such as mean absolute error (MAE) and mean squared error (MSE)\n"
   ]
  },
  {
   "cell_type": "markdown",
   "metadata": {},
   "source": [
    "#######  Evaluating the performance of the model using metrics such as mean absolute error (MAE) and mean squared error (MSE)\n"
   ]
  },
  {
   "cell_type": "markdown",
   "metadata": {},
   "source": [
    "########  Evaluating the performance of the model using metrics such as mean absolute error (MAE) and mean squared error (MSE)\n"
   ]
  },
  {
   "cell_type": "markdown",
   "metadata": {},
   "source": [
    "#########  Evaluating the performance of the model using metrics such as mean absolute error (MAE) and mean squared error (MSE)\n"
   ]
  },
  {
   "cell_type": "markdown",
   "metadata": {},
   "source": [
    "##########  Evaluating the performance of the model using metrics such as mean absolute error (MAE) and mean squared error (MSE)\n"
   ]
  },
  {
   "cell_type": "markdown",
   "metadata": {},
   "source": [
    "###########  Evaluating the performance of the model using metrics such as mean absolute error (MAE) and mean squared error (MSE)\n"
   ]
  },
  {
   "cell_type": "markdown",
   "metadata": {},
   "source": [
    "############  Evaluating the performance of the model using metrics such as mean absolute error (MAE) and mean squared error (MSE)\n"
   ]
  },
  {
   "cell_type": "code",
   "execution_count": null,
   "id": "MaxjVAr7qoZe",
   "metadata": {
    "cellView": "form",
    "execution": {},
    "executionInfo": {
     "elapsed": 2,
     "status": "ok",
     "timestamp": 1681558019045,
     "user": {
      "displayName": "Deepak Mewada",
      "userId": "10376201445384716451"
     },
     "user_tz": -330
    },
    "tags": [
     "hide-input"
    ]
   },
   "outputs": [],
   "source": [
    "#@title Evaluating the performance of the model using metrics such as mean absolute error (MAE) and mean squared error (MSE)\n",
    "\n",
    "y_pred = reg_model_city.predict(df_cleaned_test)\n",
    "print('MAE:', mean_absolute_error(cases_test, y_pred))\n",
    "print('MSE:', mean_squared_error(cases_test, y_pred))"
   ]
  },
  {
   "cell_type": "markdown",
   "id": "42hJ6JUTCMkG",
   "metadata": {
    "execution": {}
   },
   "source": [
    "Does including the city help the model predict cases?"
   ]
  },
  {
   "cell_type": "markdown",
   "id": "UJjPu06M-fAG",
   "metadata": {
    "execution": {}
   },
   "source": [
    "##  Section 2.2 : Handling Integer Valued Dependent Variable "
   ]
  },
  {
   "cell_type": "markdown",
   "id": "7OZbW4DpDtT5",
   "metadata": {
    "execution": {}
   },
   "source": [
    "In our simulated data, the dependent variable was real-valued and followed a normal distribution. Here, the weekly case numbers are integers and are better described by a [Poisson distribution](https://en.wikipedia.org/wiki/Poisson_distribution). Therefore, plain linear regression is not actually the most appropriate approach for this data. Rather, we should use a generalized linear model, or GLM, which is like linear regression, but includes an extra step that makes it more suited to handle Poisson data. Try to use [scikit-learn's Poisson GLM method](https://scikit-learn.org/stable/modules/generated/sklearn.linear_model.PoissonRegressor.html) on this data. "
   ]
  },
  {
   "cell_type": "code",
   "execution_count": null,
   "id": "-Ux5wOt-DZS-",
   "metadata": {
    "execution": {},
    "executionInfo": {
     "elapsed": 949,
     "status": "ok",
     "timestamp": 1681551631164,
     "user": {
      "displayName": "Deepak Mewada",
      "userId": "10376201445384716451"
     },
     "user_tz": -330
    }
   },
   "outputs": [],
   "source": [
    "# import PoissonRegressor from sklearn.linear_model\n",
    "from sklearn.linear_model import PoissonRegressor\n",
    "\n",
    "# create PoissonRegressor object\n",
    "poisson_reg = PoissonRegressor()\n",
    "\n",
    "# fit the PoissonRegressor model with training data\n",
    "poisson_reg.fit(df_cleaned_train, cases_train)\n",
    "\n",
    "# calculate r^2 score on training data\n",
    "print('r^2 on training data is: ')\n",
    "print(poisson_reg.score(df_cleaned_train, cases_train))\n",
    "\n",
    "# calculate r^2 score on test data\n",
    "print('r^2 on test data is: ')\n",
    "print(poisson_reg.score(df_cleaned_test, cases_test))\n",
    "\n",
    "# plot predicted values against test data\n",
    "plt.scatter(cases_test, poisson_reg.predict(df_cleaned_test))\n",
    "\n",
    "# add plot title and labels\n",
    "plt.title(\"Predicted Cases vs Actual Cases\")\n",
    "plt.xlabel(\"Actual Cases\")\n",
    "plt.ylabel(\"Predicted Cases\")\n",
    "plt.show()"
   ]
  },
  {
   "cell_type": "markdown",
   "metadata": {},
   "source": [
    "###  Evaluating the performance of the model using metrics such as mean absolute error (MAE) and mean squared error (MSE)\n"
   ]
  },
  {
   "cell_type": "markdown",
   "metadata": {},
   "source": [
    "####  Evaluating the performance of the model using metrics such as mean absolute error (MAE) and mean squared error (MSE)\n"
   ]
  },
  {
   "cell_type": "markdown",
   "metadata": {},
   "source": [
    "#####  Evaluating the performance of the model using metrics such as mean absolute error (MAE) and mean squared error (MSE)\n"
   ]
  },
  {
   "cell_type": "markdown",
   "metadata": {},
   "source": [
    "######  Evaluating the performance of the model using metrics such as mean absolute error (MAE) and mean squared error (MSE)\n"
   ]
  },
  {
   "cell_type": "markdown",
   "metadata": {},
   "source": [
    "#######  Evaluating the performance of the model using metrics such as mean absolute error (MAE) and mean squared error (MSE)\n"
   ]
  },
  {
   "cell_type": "markdown",
   "metadata": {},
   "source": [
    "########  Evaluating the performance of the model using metrics such as mean absolute error (MAE) and mean squared error (MSE)\n"
   ]
  },
  {
   "cell_type": "markdown",
   "metadata": {},
   "source": [
    "#########  Evaluating the performance of the model using metrics such as mean absolute error (MAE) and mean squared error (MSE)\n"
   ]
  },
  {
   "cell_type": "markdown",
   "metadata": {},
   "source": [
    "##########  Evaluating the performance of the model using metrics such as mean absolute error (MAE) and mean squared error (MSE)\n"
   ]
  },
  {
   "cell_type": "markdown",
   "metadata": {},
   "source": [
    "###########  Evaluating the performance of the model using metrics such as mean absolute error (MAE) and mean squared error (MSE)\n"
   ]
  },
  {
   "cell_type": "markdown",
   "metadata": {},
   "source": [
    "############  Evaluating the performance of the model using metrics such as mean absolute error (MAE) and mean squared error (MSE)\n"
   ]
  },
  {
   "cell_type": "code",
   "execution_count": null,
   "id": "O2q7OQNzq2he",
   "metadata": {
    "cellView": "form",
    "execution": {},
    "executionInfo": {
     "elapsed": 2,
     "status": "ok",
     "timestamp": 1681558052030,
     "user": {
      "displayName": "Deepak Mewada",
      "userId": "10376201445384716451"
     },
     "user_tz": -330
    },
    "tags": [
     "hide-input"
    ]
   },
   "outputs": [],
   "source": [
    "#@title Evaluating the performance of the model using metrics such as mean absolute error (MAE) and mean squared error (MSE)\n",
    "\n",
    "y_pred = poisson_reg.predict(df_cleaned_test)\n",
    "print('MAE:', mean_absolute_error(cases_test, y_pred))\n",
    "print('MSE:', mean_squared_error(cases_test, y_pred))"
   ]
  },
  {
   "cell_type": "markdown",
   "id": "C7Jl9oPkCs-P",
   "metadata": {
    "execution": {}
   },
   "source": [
    "### Think! 2.2: Performance of model\n",
    "\n",
    "Engage in discussion with your pod to share your observations from the additional changes above.\n",
    "- What did you observe?\n",
    "- Reflect on how different factors may affect the performance of the model.\n",
    "- Brainstorm as a group additional ways to improve the model's performance.\n"
   ]
  },
  {
   "cell_type": "markdown",
   "id": "DiR7mcnycPiB",
   "metadata": {
    "execution": {}
   },
   "source": [
    "\n",
    "\n",
    "---\n",
    "\n",
    "\n",
    "# Summary\n",
    "\n",
    "Estimated timing of tutorial: \n",
    "\n",
    "In this tutorial, we applied linear regression to the Dengue Fever Dataset to demonstrate how to clean and preprocess data, implement linear regression using scikit-learn, and evaluate model performance. Additionally, we used dummy variables to handle categorical data and scikit-learn's Poisson GLM method for integer-valued data. By the end of the tutorial, learners had gained practical experience in applying linear regression techniques to real-world datasets.\n",
    "\n",
    "---\n",
    "\n"
   ]
  }
 ],
 "metadata": {
  "colab": {
   "collapsed_sections": [],
   "include_colab_link": true,
   "name": "W2D5_Tutorial4",
   "provenance": [
    {
     "file_id": "1XlRDWisQoB7g-2aqcLhisDiOlRyelsp7",
     "timestamp": 1679050423457
    }
   ],
   "toc_visible": true
  },
  "kernel": {
   "display_name": "Python 3",
   "language": "python",
   "name": "python3"
  },
  "kernelspec": {
   "display_name": "Python 3 (pangeo)",
   "language": "python",
   "name": "pangeo"
  },
  "language_info": {
   "codemirror_mode": {
    "name": "ipython",
    "version": 3
   },
   "file_extension": ".py",
   "mimetype": "text/x-python",
   "name": "python",
   "nbconvert_exporter": "python",
   "pygments_lexer": "ipython3",
   "version": "3.10.10"
  }
 },
 "nbformat": 4,
 "nbformat_minor": 5
}