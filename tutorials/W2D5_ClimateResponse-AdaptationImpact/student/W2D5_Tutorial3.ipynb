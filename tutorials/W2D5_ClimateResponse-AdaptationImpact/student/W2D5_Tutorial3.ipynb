{
 "cells": [
  {
   "cell_type": "markdown",
   "id": "myt07YFyNgmw",
   "metadata": {
    "execution": {}
   },
   "source": [
    "# Tutorial 3:  Dengue Fever Data Set\n",
    "\n",
    "**Week 2, Day 5: Climate Response: adaptation and impact**\n",
    "\n",
    "**By Climatematch Academy**\n",
    "\n",
    "__Content creators:__ Deepak Mewada, Grace Lindsay\n",
    "\n",
    "__Content reviewers:__ \n",
    "\n",
    "__Content editors:__ Name Surname, Name Surname\n",
    "\n",
    "__Production editors:__ Name Surname, Name Surname"
   ]
  },
  {
   "cell_type": "markdown",
   "id": "kDQc1jnoNWcp",
   "metadata": {
    "execution": {}
   },
   "source": [
    "___\n",
    "# Tutorial Objectives\n",
    "\n",
    "*Estimated timing of tutorial: 15 minutes* \n",
    "\n",
    "Welcome to tutorial 3 of a series focused on understanding the role of data science and machine learning in addressing the impact of climate change and adapting to it.\n",
    "\n",
    "In this tutorial we will get familiarized with a data set relating weather variables to dengue fever cases. Specifically, by the end of this tutorial, you will be able to:\n",
    "\n",
    "- Load data in pandas dataframes\n",
    "- Visualise the data to see obvious trends\n",
    "- Explore the data\n",
    "\n",
    "\n",
    "---"
   ]
  },
  {
   "cell_type": "markdown",
   "metadata": {},
   "source": [
    "##  Tutorial slides\n"
   ]
  },
  {
   "cell_type": "markdown",
   "metadata": {},
   "source": [
    " These are the slides for the videos in all tutorials today\n"
   ]
  },
  {
   "cell_type": "markdown",
   "metadata": {},
   "source": [
    "###  Tutorial slides\n"
   ]
  },
  {
   "cell_type": "markdown",
   "metadata": {},
   "source": [
    " These are the slides for the videos in all tutorials today\n"
   ]
  },
  {
   "cell_type": "markdown",
   "metadata": {},
   "source": [
    "####  Tutorial slides\n"
   ]
  },
  {
   "cell_type": "markdown",
   "metadata": {},
   "source": [
    " These are the slides for the videos in all tutorials today\n"
   ]
  },
  {
   "cell_type": "markdown",
   "metadata": {},
   "source": [
    "#####  Tutorial slides\n"
   ]
  },
  {
   "cell_type": "markdown",
   "metadata": {},
   "source": [
    " These are the slides for the videos in all tutorials today\n"
   ]
  },
  {
   "cell_type": "markdown",
   "metadata": {},
   "source": [
    "######  Tutorial slides\n"
   ]
  },
  {
   "cell_type": "markdown",
   "metadata": {},
   "source": [
    " These are the slides for the videos in all tutorials today\n"
   ]
  },
  {
   "cell_type": "markdown",
   "metadata": {},
   "source": [
    "#######  Tutorial slides\n"
   ]
  },
  {
   "cell_type": "markdown",
   "metadata": {},
   "source": [
    " These are the slides for the videos in all tutorials today\n"
   ]
  },
  {
   "cell_type": "markdown",
   "metadata": {},
   "source": [
    "########  Tutorial slides\n"
   ]
  },
  {
   "cell_type": "markdown",
   "metadata": {},
   "source": [
    " These are the slides for the videos in all tutorials today\n"
   ]
  },
  {
   "cell_type": "markdown",
   "metadata": {},
   "source": [
    "#########  Tutorial slides\n"
   ]
  },
  {
   "cell_type": "markdown",
   "metadata": {},
   "source": [
    " These are the slides for the videos in all tutorials today\n"
   ]
  },
  {
   "cell_type": "markdown",
   "metadata": {},
   "source": [
    "##########  Tutorial slides\n"
   ]
  },
  {
   "cell_type": "markdown",
   "metadata": {},
   "source": [
    " These are the slides for the videos in all tutorials today\n"
   ]
  },
  {
   "cell_type": "markdown",
   "metadata": {},
   "source": [
    "###########  Tutorial slides\n"
   ]
  },
  {
   "cell_type": "markdown",
   "metadata": {},
   "source": [
    " These are the slides for the videos in all tutorials today\n"
   ]
  },
  {
   "cell_type": "code",
   "execution_count": null,
   "id": "wlndBdbV5iJF",
   "metadata": {
    "cellView": "form",
    "execution": {},
    "executionInfo": {
     "elapsed": 10,
     "status": "ok",
     "timestamp": 1681492628403,
     "user": {
      "displayName": "Deepak Mewada",
      "userId": "10376201445384716451"
     },
     "user_tz": -330
    },
    "tags": [
     "remove-input"
    ]
   },
   "outputs": [],
   "source": [
    "# @title Tutorial slides\n",
    "\n",
    "# @markdown These are the slides for the videos in all tutorials today\n",
    "from IPython.display import IFrame\n",
    "IFrame(src=f\"https://mfr.ca-1.osf.io/render?url=https://osf.io/kaq2x/?direct%26mode=render%26action=download%26mode=render\", width=854, height=480)"
   ]
  },
  {
   "cell_type": "markdown",
   "id": "Vtq0OyoRNPcc",
   "metadata": {
    "execution": {}
   },
   "source": [
    "\n",
    "\n",
    "---\n",
    "# Setup"
   ]
  },
  {
   "cell_type": "markdown",
   "metadata": {},
   "source": [
    "##  Import necessary libraries:\n"
   ]
  },
  {
   "cell_type": "markdown",
   "metadata": {},
   "source": [
    "###  Import necessary libraries:\n"
   ]
  },
  {
   "cell_type": "markdown",
   "metadata": {},
   "source": [
    "####  Import necessary libraries:\n"
   ]
  },
  {
   "cell_type": "markdown",
   "metadata": {},
   "source": [
    "#####  Import necessary libraries:\n"
   ]
  },
  {
   "cell_type": "markdown",
   "metadata": {},
   "source": [
    "######  Import necessary libraries:\n"
   ]
  },
  {
   "cell_type": "markdown",
   "metadata": {},
   "source": [
    "#######  Import necessary libraries:\n"
   ]
  },
  {
   "cell_type": "markdown",
   "metadata": {},
   "source": [
    "########  Import necessary libraries:\n"
   ]
  },
  {
   "cell_type": "markdown",
   "metadata": {},
   "source": [
    "#########  Import necessary libraries:\n"
   ]
  },
  {
   "cell_type": "markdown",
   "metadata": {},
   "source": [
    "##########  Import necessary libraries:\n"
   ]
  },
  {
   "cell_type": "markdown",
   "metadata": {},
   "source": [
    "###########  Import necessary libraries:\n"
   ]
  },
  {
   "cell_type": "code",
   "execution_count": null,
   "id": "Kwsl6-KNNPcc",
   "metadata": {
    "cellView": "form",
    "execution": {},
    "executionInfo": {
     "elapsed": 593,
     "status": "ok",
     "timestamp": 1681528440560,
     "user": {
      "displayName": "Deepak Mewada",
      "userId": "10376201445384716451"
     },
     "user_tz": -330
    },
    "pycharm": {
     "name": "#%%\n"
    },
    "tags": [
     "hide-input"
    ]
   },
   "outputs": [],
   "source": [
    "#@title Import necessary libraries:\n",
    "\n",
    "import pandas as pd   # Importing the pandas library with the alias \"pd\"\n",
    "# Pandas is a popular library used for data manipulation and analysis. The alias \"pd\" is commonly used to refer to pandas in code."
   ]
  },
  {
   "cell_type": "markdown",
   "id": "wNqEz5P8j2Q-",
   "metadata": {
    "execution": {}
   },
   "source": [
    "<details>\n",
    "<summary> <font color='Red'>Click here if you are running on local machine or you encounter any error while importing   </font></summary>\n",
    "\n",
    "\n",
    "**NOTE :**  Please note that if you are running this code on a local machine and encounter an error while importing a library, make sure to install the library via pip. For example, if you receive a \"`ModuleNotFoundError: No module named 'library name'`\" error , please run \"`pip install 'library name'`\" to install the required module."
   ]
  },
  {
   "cell_type": "markdown",
   "id": "nULavCfq4o07",
   "metadata": {
    "execution": {}
   },
   "source": [
    "---\n",
    "\n",
    "# Section 1: Dengue Fever Data Set\n",
    "\n"
   ]
  },
  {
   "cell_type": "markdown",
   "metadata": {},
   "source": [
    "##  Video 1: Video 1 Name\n"
   ]
  },
  {
   "cell_type": "markdown",
   "metadata": {},
   "source": [
    "###  Video 1: Video 1 Name\n"
   ]
  },
  {
   "cell_type": "markdown",
   "metadata": {},
   "source": [
    "####  Video 1: Video 1 Name\n"
   ]
  },
  {
   "cell_type": "markdown",
   "metadata": {},
   "source": [
    "#####  Video 1: Video 1 Name\n"
   ]
  },
  {
   "cell_type": "markdown",
   "metadata": {},
   "source": [
    "######  Video 1: Video 1 Name\n"
   ]
  },
  {
   "cell_type": "markdown",
   "metadata": {},
   "source": [
    "#######  Video 1: Video 1 Name\n"
   ]
  },
  {
   "cell_type": "markdown",
   "metadata": {},
   "source": [
    "########  Video 1: Video 1 Name\n"
   ]
  },
  {
   "cell_type": "markdown",
   "metadata": {},
   "source": [
    "#########  Video 1: Video 1 Name\n"
   ]
  },
  {
   "cell_type": "markdown",
   "metadata": {},
   "source": [
    "##########  Video 1: Video 1 Name\n"
   ]
  },
  {
   "cell_type": "markdown",
   "metadata": {},
   "source": [
    "###########  Video 1: Video 1 Name\n"
   ]
  },
  {
   "cell_type": "code",
   "execution_count": null,
   "id": "ThcPwgvzvV-6",
   "metadata": {
    "cellView": "form",
    "execution": {},
    "executionInfo": {
     "elapsed": 8,
     "status": "ok",
     "timestamp": 1681493895899,
     "user": {
      "displayName": "Deepak Mewada",
      "userId": "10376201445384716451"
     },
     "user_tz": -330
    },
    "tags": [
     "remove-input"
    ]
   },
   "outputs": [],
   "source": [
    "# @title Video 1: Video 1 Name\n",
    "from ipywidgets import widgets\n",
    "from IPython.display import display, IFrame, YouTubeVideo\n",
    "\n",
    "out2 = widgets.Output()\n",
    "with out2:\n",
    "  class BiliVideo(IFrame):\n",
    "    def __init__(self, id, page=1, width=400, height=300, **kwargs):\n",
    "      self.id=id\n",
    "      src = 'https://player.bilibili.com/player.html?bvid={0}&page={1}'.format(id, page)\n",
    "      super(BiliVideo, self).__init__(src, width, height, **kwargs)\n",
    "\n",
    "  video = BiliVideo(id=\"\", width=730, height=410, fs=1)\n",
    "  print(f'Video available at https://www.bilibili.com/video/{video.id}')\n",
    "  display(video)\n",
    "\n",
    "out1 = widgets.Output()\n",
    "with out1:\n",
    "  video = YouTubeVideo(id=\"\", width=730, height=410, fs=1, rel=0)\n",
    "  print(f'Video available at https://youtube.com/watch?v={video.id}')\n",
    "  display(video)\n",
    "\n",
    "out = widgets.Tab([out1, out2])\n",
    "out.set_title(0, 'Youtube')\n",
    "out.set_title(1, 'Bilibili')\n",
    "\n",
    "display(out)"
   ]
  },
  {
   "cell_type": "markdown",
   "id": "j9n17gXFOIXX",
   "metadata": {
    "execution": {}
   },
   "source": [
    "\n",
    "\n",
    "---\n",
    "\n",
    "\n",
    "## Section 1.1:  Loading the Environmental data\n",
    "\n",
    "---\n",
    "\n"
   ]
  },
  {
   "cell_type": "markdown",
   "id": "a2c27233",
   "metadata": {
    "execution": {}
   },
   "source": [
    "As discussed in the video, we are working with a [data set](https://www.drivendata.org/competitions/44/dengai-predicting-disease-spread/page/81/) provided by [DataDriven](https://arxiv.org/abs/1606.07781) that centers on the goal of predicting dengue fever cases based on environmental variables.\n",
    "\n",
    "We will use pandas to interface with the data, which is shared in the .csv format. First, let's load the environmental data into a pandas dataframe and print its contents"
   ]
  },
  {
   "cell_type": "code",
   "execution_count": null,
   "id": "hpeaOl-v3Mod",
   "metadata": {
    "execution": {},
    "executionInfo": {
     "elapsed": 3588,
     "status": "ok",
     "timestamp": 1681528584854,
     "user": {
      "displayName": "Deepak Mewada",
      "userId": "10376201445384716451"
     },
     "user_tz": -330
    }
   },
   "outputs": [],
   "source": [
    "import pooch, os\n",
    "fname = \"dengue_features_train(1).csv\"\n",
    "if not os.path.exists(fname):\n",
    "    url = \"https://osf.io/wm9un/download/\"\n",
    "    fname = pooch.retrieve(url, known_hash=None)\n",
    "\n",
    "# Loading a CSV file named 'dengue_features_train(1).csv' into a pandas DataFrame named 'df'\n",
    "# The file path is specified as an absolute path to a Google Drive folder.\n",
    "df = pd.read_csv(fname)"
   ]
  },
  {
   "cell_type": "markdown",
   "id": "1dOsBX8X6ScK",
   "metadata": {
    "execution": {}
   },
   "source": [
    "\n",
    "\n",
    "---\n",
    "\n",
    "\n",
    "## Section 1.2:  Explore the dataset\n",
    "\n",
    "---\n",
    "\n"
   ]
  },
  {
   "cell_type": "code",
   "execution_count": null,
   "id": "Vv82LGM26hiD",
   "metadata": {
    "execution": {},
    "executionInfo": {
     "elapsed": 425,
     "status": "ok",
     "timestamp": 1681528597762,
     "user": {
      "displayName": "Deepak Mewada",
      "userId": "10376201445384716451"
     },
     "user_tz": -330
    }
   },
   "outputs": [],
   "source": [
    "# Displaying the contents of the DataFrame named 'df'.\n",
    "# This is useful for verifying that the data was read correctly.\n",
    "df"
   ]
  },
  {
   "cell_type": "code",
   "execution_count": null,
   "id": "yii5t_1-HMb-",
   "metadata": {
    "execution": {},
    "executionInfo": {
     "elapsed": 421,
     "status": "ok",
     "timestamp": 1681548720427,
     "user": {
      "displayName": "Deepak Mewada",
      "userId": "10376201445384716451"
     },
     "user_tz": -330
    }
   },
   "outputs": [],
   "source": [
    "# Print the first few rows of the DataFrame to inspect the data\n",
    "df.head()"
   ]
  },
  {
   "cell_type": "code",
   "execution_count": null,
   "id": "NXe_0HTl55ny",
   "metadata": {
    "execution": {},
    "executionInfo": {
     "elapsed": 4,
     "status": "ok",
     "timestamp": 1681548761396,
     "user": {
      "displayName": "Deepak Mewada",
      "userId": "10376201445384716451"
     },
     "user_tz": -330
    }
   },
   "outputs": [],
   "source": [
    "# Print summary statistics for each column in the DataFrame\n",
    "df.describe()"
   ]
  },
  {
   "cell_type": "code",
   "execution_count": null,
   "id": "UJ4v6O9zHlEd",
   "metadata": {
    "execution": {},
    "executionInfo": {
     "elapsed": 3,
     "status": "ok",
     "timestamp": 1681548794923,
     "user": {
      "displayName": "Deepak Mewada",
      "userId": "10376201445384716451"
     },
     "user_tz": -330
    }
   },
   "outputs": [],
   "source": [
    "# Print information about the DataFrame, including the column names, non-null counts, and data types\n",
    "print(df.info())"
   ]
  },
  {
   "cell_type": "markdown",
   "id": "d2e345ba",
   "metadata": {
    "execution": {}
   },
   "source": [
    "We can see some of the variables discussed in the video. For full documentation of these features, see the associated description [here](https://www.drivendata.org/competitions/44/dengai-predicting-disease-spread/page/82/). \n",
    "\n",
    "It is always good when working with a new dataset to visualize your data. This will help you see obvious trends and spot any missing data or anomolies that you may need to deal with.\n"
   ]
  },
  {
   "cell_type": "markdown",
   "id": "98JK1Hy3IN0P",
   "metadata": {
    "execution": {}
   },
   "source": [
    "---\n",
    "## Section 1.3 Visualise the Data\n",
    "---"
   ]
  },
  {
   "cell_type": "markdown",
   "id": "0Q1GTTR8imTs",
   "metadata": {
    "execution": {}
   },
   "source": [
    "### Coding Exercise 1.1: Inspect the data\n",
    "\n",
    "For this exercise, you have to visualize the data. Use hint for the function name if you are new to this\n",
    "\n",
    "*Exercise Objextive*: \n",
    "1. Use pandas to plot histograms of these features using .hist() function\n",
    "2. Use the .isnull() function to see if there is any missing data. "
   ]
  },
  {
   "cell_type": "code",
   "execution_count": null,
   "id": "lawwAEiC8vZV",
   "metadata": {
    "execution": {},
    "executionInfo": {
     "elapsed": 9,
     "status": "error",
     "timestamp": 1681493899351,
     "user": {
      "displayName": "Deepak Mewada",
      "userId": "10376201445384716451"
     },
     "user_tz": -330
    }
   },
   "outputs": [],
   "source": [
    "#################################################\n",
    "## TODO for students:\n",
    "# Fill in the code in empty places to remove this erro\n",
    "# raise NotImplementedError(\"Student exercise: Fill in the code in empty places to remove this error\")\n",
    "#################################################\n",
    "\n",
    "# Display a histogram of the Pandas DataFrame 'df'\n",
    "df  # hint: invoke hist function here\n",
    "\n",
    "# Output the sum of null values for each column in 'df'\n",
    "df   # hint: invoke isnull function here"
   ]
  },
  {
   "cell_type": "markdown",
   "id": "EQuT_FPO4T6P",
   "metadata": {
    "colab_type": "text",
    "execution": {},
    "executionInfo": {
     "elapsed": 5744,
     "status": "ok",
     "timestamp": 1681493908964,
     "user": {
      "displayName": "Deepak Mewada",
      "userId": "10376201445384716451"
     },
     "user_tz": -330
    }
   },
   "source": [
    "[*Click for solution*](https://github.com/NeuromatchAcademy/course-content/tree/main//tutorials/W2D5_ClimateResponse-AdaptationImpact/solutions/W2D5_Tutorial3_Solution_1d3956e7.py)\n",
    "\n",
    "*Example output:*\n",
    "\n",
    "<img alt='Solution hint' align='left' width=1613.0 height=1604.0 src=https://raw.githubusercontent.com/NeuromatchAcademy/course-content/main/tutorials/W2D5_ClimateResponse-AdaptationImpact/static/W2D5_Tutorial3_Solution_1d3956e7_1.png>\n",
    "\n"
   ]
  },
  {
   "cell_type": "markdown",
   "id": "21bdc6b4",
   "metadata": {
    "execution": {}
   },
   "source": [
    "So far we have only been looking at the enviornmental data. Let's load the corresponding weekly dengue fever cases as well. \n"
   ]
  },
  {
   "cell_type": "markdown",
   "id": "FqcYp2yRhOAc",
   "metadata": {
    "execution": {}
   },
   "source": [
    "---\n",
    "## Section 2:  Load and Visualise the corresponding weekly dengue fever cases \n",
    "---\n",
    "\n",
    "\n",
    "\n"
   ]
  },
  {
   "cell_type": "code",
   "execution_count": null,
   "id": "9uCmTha48dY-",
   "metadata": {
    "execution": {},
    "executionInfo": {
     "elapsed": 4,
     "status": "ok",
     "timestamp": 1681493909533,
     "user": {
      "displayName": "Deepak Mewada",
      "userId": "10376201445384716451"
     },
     "user_tz": -330
    }
   },
   "outputs": [],
   "source": [
    "# Reading a CSV file named \"dengue_labels_train.csv\" and saving the data into a pandas DataFrame named \"df_dengue\".\n",
    "# The file path is specified as an absolute path to a Google Drive folder.\n",
    "fname = \"dengue_labels_train.csv\"\n",
    "if not os.path.exists(fname):\n",
    "    url = \"https://osf.io/6nw9x/download\"\n",
    "    fname = pooch.retrieve(url, known_hash=None)\n",
    "df_dengue = pd.read_csv(fname)\n",
    "\n",
    "# Displaying the contents of the DataFrame named \"df_dengue\".\n",
    "# This is useful for verifying that the data was read correctly.\n",
    "df_dengue"
   ]
  },
  {
   "cell_type": "markdown",
   "id": "f6Dq4k8mI4fO",
   "metadata": {
    "execution": {}
   },
   "source": [
    "---\n",
    "## Section 2.1 Visualise the weekly dangue fever cases \n",
    "---"
   ]
  },
  {
   "cell_type": "markdown",
   "id": "1M2cMCvkgyiD",
   "metadata": {
    "execution": {}
   },
   "source": [
    "### Coding Exercise 2.1: Visualise weekly dangue fever cases \n",
    "For this exercise, you have to visualise the data you can start with ploting a histogram of the case numbers\n",
    "\n",
    "*Exercise Objextive*:  \n",
    "1. Plot a histogram of the case numbers"
   ]
  },
  {
   "cell_type": "code",
   "execution_count": null,
   "id": "Qr3PaKJKm7yL",
   "metadata": {
    "execution": {},
    "executionInfo": {
     "elapsed": 633,
     "status": "error",
     "timestamp": 1681552583627,
     "user": {
      "displayName": "Deepak Mewada",
      "userId": "10376201445384716451"
     },
     "user_tz": -330
    }
   },
   "outputs": [],
   "source": [
    "#################################################\n",
    "## TODO for students:\n",
    "# Fill in the code in empty places to remove this erro\n",
    "# raise NotImplementedError(\"Student exercise: Fill in the code in empty places to remove this error\")\n",
    "#################################################\n",
    "\n",
    "# Display a histogram of the 'total_cases' column in the 'df_dengue' DataFrame\n",
    "  #todo...        # Write your code here"
   ]
  },
  {
   "cell_type": "markdown",
   "id": "vGdyLzTOYNsX",
   "metadata": {
    "colab_type": "text",
    "execution": {},
    "executionInfo": {
     "elapsed": 683,
     "status": "ok",
     "timestamp": 1681493920890,
     "user": {
      "displayName": "Deepak Mewada",
      "userId": "10376201445384716451"
     },
     "user_tz": -330
    }
   },
   "source": [
    "[*Click for solution*](https://github.com/NeuromatchAcademy/course-content/tree/main//tutorials/W2D5_ClimateResponse-AdaptationImpact/solutions/W2D5_Tutorial3_Solution_f5c2a85a.py)\n",
    "\n",
    "*Example output:*\n",
    "\n",
    "<img alt='Solution hint' align='left' width=561.0 height=433.0 src=https://raw.githubusercontent.com/NeuromatchAcademy/course-content/main/tutorials/W2D5_ClimateResponse-AdaptationImpact/static/W2D5_Tutorial3_Solution_f5c2a85a_1.png>\n",
    "\n"
   ]
  },
  {
   "cell_type": "markdown",
   "id": "bmazJeh6n4HL",
   "metadata": {
    "execution": {}
   },
   "source": [
    "What did you see? In the next exercise we explore the data more and try to find some trends in the data."
   ]
  },
  {
   "cell_type": "markdown",
   "id": "GQgRG63VkQIM",
   "metadata": {
    "execution": {}
   },
   "source": [
    "### Coding Exercise 2.2: Explore this data a little more. \n",
    "In this exercise, you have to explore this data a little more. For your help some objectives are given but you can try out more as well\n",
    "\n",
    "*Exercise Objextive*: \n",
    "1. Plot total cases as a function of year\n",
    "2. Plot total cases as a function of the week of the year\n",
    "3. Plot total cases as two separate histograms, one for each of the cities.\n",
    "\n",
    "Play with data and observe the trend in the data"
   ]
  },
  {
   "cell_type": "code",
   "execution_count": null,
   "id": "RsdGCbDw-NlG",
   "metadata": {
    "execution": {}
   },
   "outputs": [],
   "source": [
    "#################################################\n",
    "## TODO for students:\n",
    "# Fill in the code in empty places to remove this erro\n",
    "# raise NotImplementedError(\"Student exercise: Fill in the code in empty places to remove this error\")\n",
    "################################################\n",
    "\n",
    "# Creating a scatter plot of 'year' vs 'total_cases' in the DataFrame 'df_dengue'.\n",
    "df_dengue.plot.scatter('year','total_cases')\n",
    "\n",
    "# Creating a scatter plot of 'weekofyear' vs 'total_cases' in the DataFrame 'df_dengue'.\n",
    "# df_dengue = ...\n",
    "\n",
    "# Creating a new DataFrame named 'new' that contains only the columns 'total_cases' and 'city' from 'df_dengue'.\n",
    "new = ...  # hint:you can use .copy()\n",
    "\n",
    "# Creating histograms of the 'total_cases' column in 'new' separated by the values in the 'city' column.\n",
    "# new...."
   ]
  },
  {
   "cell_type": "markdown",
   "id": "aC3XX1S8-Din",
   "metadata": {
    "colab_type": "text",
    "execution": {},
    "executionInfo": {
     "elapsed": 2399,
     "status": "ok",
     "timestamp": 1681493926300,
     "user": {
      "displayName": "Deepak Mewada",
      "userId": "10376201445384716451"
     },
     "user_tz": -330
    }
   },
   "source": [
    "[*Click for solution*](https://github.com/NeuromatchAcademy/course-content/tree/main//tutorials/W2D5_ClimateResponse-AdaptationImpact/solutions/W2D5_Tutorial3_Solution_a92746be.py)\n",
    "\n",
    "*Example output:*\n",
    "\n",
    "<img alt='Solution hint' align='left' width=573.0 height=432.0 src=https://raw.githubusercontent.com/NeuromatchAcademy/course-content/main/tutorials/W2D5_ClimateResponse-AdaptationImpact/static/W2D5_Tutorial3_Solution_a92746be_1.png>\n",
    "\n",
    "<img alt='Solution hint' align='left' width=572.0 height=432.0 src=https://raw.githubusercontent.com/NeuromatchAcademy/course-content/main/tutorials/W2D5_ClimateResponse-AdaptationImpact/static/W2D5_Tutorial3_Solution_a92746be_2.png>\n",
    "\n",
    "<img alt='Solution hint' align='left' width=568.0 height=436.0 src=https://raw.githubusercontent.com/NeuromatchAcademy/course-content/main/tutorials/W2D5_ClimateResponse-AdaptationImpact/static/W2D5_Tutorial3_Solution_a92746be_3.png>\n",
    "\n"
   ]
  },
  {
   "cell_type": "markdown",
   "id": "ucPP9sGWo0Nc",
   "metadata": {
    "execution": {}
   },
   "source": [
    "### Think! 2.2: What trends do you see?\n",
    "\n",
    "Let's delve deeper into the data. What trends do you observe?\n",
    "Engage in a discussion with your group and see if anyone has noticed a trend that you may have missed.\n"
   ]
  },
  {
   "cell_type": "markdown",
   "id": "DiR7mcnycPiB",
   "metadata": {
    "execution": {}
   },
   "source": [
    "\n",
    "\n",
    "---\n",
    "\n",
    "\n",
    "# Summary\n",
    "\n",
    "Estimated timing of tutorial: \n",
    "\n",
    "In this tutorial, we learned how to use pandas as an interface with the data shared in .csv format. We visualized and learned about finding obvious trends or anomalies in the Dengue fever dataset.\n",
    "\n",
    "---\n",
    "\n"
   ]
  }
 ],
 "metadata": {
  "colab": {
   "collapsed_sections": [],
   "include_colab_link": true,
   "name": "W2D5_Tutorial3",
   "provenance": [
    {
     "file_id": "1eI_T92dwEaELBAKrEUT-xhQA8aWvBCqb",
     "timestamp": 1679050420804
    }
   ],
   "toc_visible": true
  },
  "kernel": {
   "display_name": "Python 3",
   "language": "python",
   "name": "python3"
  },
  "kernelspec": {
   "display_name": "Python 3 (pangeo)",
   "language": "python",
   "name": "pangeo"
  },
  "language_info": {
   "codemirror_mode": {
    "name": "ipython",
    "version": 3
   },
   "file_extension": ".py",
   "mimetype": "text/x-python",
   "name": "python",
   "nbconvert_exporter": "python",
   "pygments_lexer": "ipython3",
   "version": "3.10.10"
  }
 },
 "nbformat": 4,
 "nbformat_minor": 5
}