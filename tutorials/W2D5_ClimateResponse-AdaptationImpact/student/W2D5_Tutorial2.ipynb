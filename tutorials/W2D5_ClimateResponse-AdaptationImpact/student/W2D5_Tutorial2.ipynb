{
 "cells": [
  {
   "cell_type": "markdown",
   "id": "myt07YFyNgmw",
   "metadata": {
    "execution": {}
   },
   "source": [
    "# **Tutorial 2: Logistic Regression**\n",
    "\n",
    "---\n",
    "\n",
    "\n",
    "\n",
    "**Week 2, Day 5: Climate Response: adaptation and impact**\n",
    "\n",
    "**By Climatematch Academy**\n",
    "\n",
    "__Content creators:__ Deepak Mewada, Grace Lindsay\n",
    "\n",
    "__Content reviewers:__ \n",
    "\n",
    "__Content editors:__ Name Surname, Name Surname\n",
    "\n",
    "__Production editors:__ Name Surname, Name Surname"
   ]
  },
  {
   "cell_type": "markdown",
   "id": "kDQc1jnoNWcp",
   "metadata": {
    "execution": {}
   },
   "source": [
    "___\n",
    "# **Tutorial Objectives**\n",
    "\n",
    "*Estimated timing of tutorial: 10 minutes*\n",
    "\n",
    "Welcome to tutorial 2 of a series focused on understanding the role of data science and machine learning in addressing the impact of climate change and adapting to it.\n",
    "\n",
    "In this tutorial we will learn implement Logistic Regression. Specifically, by the end of this tutorial, you will be able to:\n",
    "\n",
    "- Generate synthetic data\n",
    "- Implement logistic regression to classify using scikit learn\n",
    "- Evaluate the performance of the learned model\n",
    "- Understand the how the learned model behaves on new unseen data with the same and different relationsip\n",
    "\n",
    "\n",
    "---"
   ]
  },
  {
   "cell_type": "markdown",
   "metadata": {},
   "source": [
    "##  Tutorial slides\n"
   ]
  },
  {
   "cell_type": "markdown",
   "metadata": {},
   "source": [
    " These are the slides for the videos in all tutorials today\n"
   ]
  },
  {
   "cell_type": "markdown",
   "metadata": {},
   "source": [
    "###  Tutorial slides\n"
   ]
  },
  {
   "cell_type": "markdown",
   "metadata": {},
   "source": [
    " These are the slides for the videos in all tutorials today\n"
   ]
  },
  {
   "cell_type": "markdown",
   "metadata": {},
   "source": [
    "####  Tutorial slides\n"
   ]
  },
  {
   "cell_type": "markdown",
   "metadata": {},
   "source": [
    " These are the slides for the videos in all tutorials today\n"
   ]
  },
  {
   "cell_type": "markdown",
   "metadata": {},
   "source": [
    "#####  Tutorial slides\n"
   ]
  },
  {
   "cell_type": "markdown",
   "metadata": {},
   "source": [
    " These are the slides for the videos in all tutorials today\n"
   ]
  },
  {
   "cell_type": "markdown",
   "metadata": {},
   "source": [
    "######  Tutorial slides\n"
   ]
  },
  {
   "cell_type": "markdown",
   "metadata": {},
   "source": [
    " These are the slides for the videos in all tutorials today\n"
   ]
  },
  {
   "cell_type": "markdown",
   "metadata": {},
   "source": [
    "#######  Tutorial slides\n"
   ]
  },
  {
   "cell_type": "markdown",
   "metadata": {},
   "source": [
    " These are the slides for the videos in all tutorials today\n"
   ]
  },
  {
   "cell_type": "markdown",
   "metadata": {},
   "source": [
    "########  Tutorial slides\n"
   ]
  },
  {
   "cell_type": "markdown",
   "metadata": {},
   "source": [
    " These are the slides for the videos in all tutorials today\n"
   ]
  },
  {
   "cell_type": "markdown",
   "metadata": {},
   "source": [
    "#########  Tutorial slides\n"
   ]
  },
  {
   "cell_type": "markdown",
   "metadata": {},
   "source": [
    " These are the slides for the videos in all tutorials today\n"
   ]
  },
  {
   "cell_type": "markdown",
   "metadata": {},
   "source": [
    "##########  Tutorial slides\n"
   ]
  },
  {
   "cell_type": "markdown",
   "metadata": {},
   "source": [
    " These are the slides for the videos in all tutorials today\n"
   ]
  },
  {
   "cell_type": "markdown",
   "metadata": {},
   "source": [
    "###########  Tutorial slides\n"
   ]
  },
  {
   "cell_type": "markdown",
   "metadata": {},
   "source": [
    " These are the slides for the videos in all tutorials today\n"
   ]
  },
  {
   "cell_type": "code",
   "execution_count": null,
   "id": "wlndBdbV5iJF",
   "metadata": {
    "cellView": "form",
    "execution": {},
    "executionInfo": {
     "elapsed": 1506,
     "status": "ok",
     "timestamp": 1681491270181,
     "user": {
      "displayName": "Deepak Mewada",
      "userId": "10376201445384716451"
     },
     "user_tz": -330
    },
    "tags": [
     "remove-input"
    ]
   },
   "outputs": [],
   "source": [
    "# @title Tutorial slides\n",
    "\n",
    "# @markdown These are the slides for the videos in all tutorials today\n",
    "from IPython.display import IFrame\n",
    "IFrame(src=f\"https://mfr.ca-1.osf.io/render?url=https://osf.io/kaq2x/?direct%26mode=render%26action=download%26mode=render\", width=854, height=480)"
   ]
  },
  {
   "cell_type": "markdown",
   "id": "Vtq0OyoRNPcc",
   "metadata": {
    "execution": {}
   },
   "source": [
    "\n",
    "\n",
    "---\n",
    "# **Setup**"
   ]
  },
  {
   "cell_type": "markdown",
   "metadata": {},
   "source": [
    "##  Import necessary libraries:\n"
   ]
  },
  {
   "cell_type": "markdown",
   "metadata": {},
   "source": [
    "###  Import necessary libraries:\n"
   ]
  },
  {
   "cell_type": "markdown",
   "metadata": {},
   "source": [
    "####  Import necessary libraries:\n"
   ]
  },
  {
   "cell_type": "markdown",
   "metadata": {},
   "source": [
    "#####  Import necessary libraries:\n"
   ]
  },
  {
   "cell_type": "markdown",
   "metadata": {},
   "source": [
    "######  Import necessary libraries:\n"
   ]
  },
  {
   "cell_type": "markdown",
   "metadata": {},
   "source": [
    "#######  Import necessary libraries:\n"
   ]
  },
  {
   "cell_type": "markdown",
   "metadata": {},
   "source": [
    "########  Import necessary libraries:\n"
   ]
  },
  {
   "cell_type": "markdown",
   "metadata": {},
   "source": [
    "#########  Import necessary libraries:\n"
   ]
  },
  {
   "cell_type": "markdown",
   "metadata": {},
   "source": [
    "##########  Import necessary libraries:\n"
   ]
  },
  {
   "cell_type": "markdown",
   "metadata": {},
   "source": [
    "###########  Import necessary libraries:\n"
   ]
  },
  {
   "cell_type": "code",
   "execution_count": null,
   "id": "Kwsl6-KNNPcc",
   "metadata": {
    "cellView": "form",
    "execution": {},
    "pycharm": {
     "name": "#%%\n"
    },
    "tags": [
     "hide-input"
    ]
   },
   "outputs": [],
   "source": [
    "#@title Import necessary libraries:\n",
    "\n",
    "import numpy as np  # Import the numpy library as np - used for array computing and linear algebra operations\n",
    "from sklearn.linear_model import LogisticRegression  # Import the LogisticRegression class from the scikit-learn linear_model module - used for logistic regression analysis\n",
    "from sklearn.metrics import confusion_matrix  # Import the confusion_matrix function from the scikit-learn metrics module - used for evaluating classification model performance\n",
    "import matplotlib.pyplot as plt  # Import the pyplot module from the matplotlib library - used for data visualization"
   ]
  },
  {
   "cell_type": "markdown",
   "id": "wNqEz5P8j2Q-",
   "metadata": {
    "execution": {}
   },
   "source": [
    "<details>\n",
    "<summary> <font color='Red'>Click here if you are running on local machine or you encounter any error while importing   </font></summary>\n",
    "**NOTE :**  Please note that if you are running this code on a local machine and encounter an error while importing a library, make sure to install the library via pip. For example, if you receive a \"`ModuleNotFoundError: No module named 'library name'`\" error , please run \"`pip install 'library name'`\" to install the required module."
   ]
  },
  {
   "cell_type": "markdown",
   "id": "nULavCfq4o07",
   "metadata": {
    "execution": {}
   },
   "source": [
    "--- \n",
    "# **Section 1: Logistic Regression**\n",
    "---\n",
    "\n",
    "\n",
    "\n"
   ]
  },
  {
   "cell_type": "markdown",
   "metadata": {},
   "source": [
    "##  Video 1: Video 1 Name\n"
   ]
  },
  {
   "cell_type": "markdown",
   "metadata": {},
   "source": [
    "###  Video 1: Video 1 Name\n"
   ]
  },
  {
   "cell_type": "markdown",
   "metadata": {},
   "source": [
    "####  Video 1: Video 1 Name\n"
   ]
  },
  {
   "cell_type": "markdown",
   "metadata": {},
   "source": [
    "#####  Video 1: Video 1 Name\n"
   ]
  },
  {
   "cell_type": "markdown",
   "metadata": {},
   "source": [
    "######  Video 1: Video 1 Name\n"
   ]
  },
  {
   "cell_type": "markdown",
   "metadata": {},
   "source": [
    "#######  Video 1: Video 1 Name\n"
   ]
  },
  {
   "cell_type": "markdown",
   "metadata": {},
   "source": [
    "########  Video 1: Video 1 Name\n"
   ]
  },
  {
   "cell_type": "markdown",
   "metadata": {},
   "source": [
    "#########  Video 1: Video 1 Name\n"
   ]
  },
  {
   "cell_type": "markdown",
   "metadata": {},
   "source": [
    "##########  Video 1: Video 1 Name\n"
   ]
  },
  {
   "cell_type": "markdown",
   "metadata": {},
   "source": [
    "###########  Video 1: Video 1 Name\n"
   ]
  },
  {
   "cell_type": "code",
   "execution_count": null,
   "id": "ThcPwgvzvV-6",
   "metadata": {
    "cellView": "form",
    "execution": {},
    "executionInfo": {
     "elapsed": 19,
     "status": "ok",
     "timestamp": 1681491271656,
     "user": {
      "displayName": "Deepak Mewada",
      "userId": "10376201445384716451"
     },
     "user_tz": -330
    },
    "tags": [
     "remove-input"
    ]
   },
   "outputs": [],
   "source": [
    "# @title Video 1: Video 1 Name\n",
    "from ipywidgets import widgets\n",
    "from IPython.display import display, IFrame, YouTubeVideo\n",
    "\n",
    "out2 = widgets.Output()\n",
    "with out2:\n",
    "  class BiliVideo(IFrame):\n",
    "    def __init__(self, id, page=1, width=400, height=300, **kwargs):\n",
    "      self.id=id\n",
    "      src = 'https://player.bilibili.com/player.html?bvid={0}&page={1}'.format(id, page)\n",
    "      super(BiliVideo, self).__init__(src, width, height, **kwargs)\n",
    "\n",
    "  video = BiliVideo(id=\"\", width=730, height=410, fs=1)\n",
    "  print(f'Video available at https://www.bilibili.com/video/{video.id}')\n",
    "  display(video)\n",
    "\n",
    "out1 = widgets.Output()\n",
    "with out1:\n",
    "  video = YouTubeVideo(id=\"\", width=730, height=410, fs=1, rel=0)\n",
    "  print(f'Video available at https://youtube.com/watch?v={video.id}')\n",
    "  display(video)\n",
    "\n",
    "out = widgets.Tab([out1, out2])\n",
    "out.set_title(0, 'Youtube')\n",
    "out.set_title(1, 'Bilibili')\n",
    "\n",
    "display(out)"
   ]
  },
  {
   "cell_type": "markdown",
   "id": "9480394d",
   "metadata": {
    "execution": {}
   },
   "source": [
    "Logistic regression is built from the same fundamentals as linear regression but can be applied to classification problems instead of just regression. Here we will create synthetic data that represents a binary classification problem: \n",
    "\n",
    "\\begin{align}\n",
    " y = H( \\alpha x_1 + (1-\\alpha) x_2 + \\beta \\epsilon)\n",
    "\\end{align}\n",
    "\n",
    "Here, H represents the Heaviside function, which sets all negative values to 0 and all positive values to 1. By applying this function, each data point will have a label of 0 or 1, indicating which of two categories it belongs to. The goal of the logisitic regression will be to recover this relationship and therefore learn how to correctly classify new inputs. "
   ]
  },
  {
   "cell_type": "markdown",
   "id": "j9n17gXFOIXX",
   "metadata": {
    "execution": {}
   },
   "source": [
    "---\n",
    "## **Section 1.1:  Generating the Synthetic Data**\n",
    "---\n",
    "\n"
   ]
  },
  {
   "cell_type": "markdown",
   "id": "KAJNLpD-2XRy",
   "metadata": {
    "execution": {}
   },
   "source": [
    "As we did in the previous tutorial on linear regression, we will generate synthetic data in a similar way."
   ]
  },
  {
   "cell_type": "markdown",
   "metadata": {},
   "source": [
    "###  Synthetic classification data\n"
   ]
  },
  {
   "cell_type": "markdown",
   "metadata": {},
   "source": [
    "####  Synthetic classification data\n"
   ]
  },
  {
   "cell_type": "markdown",
   "metadata": {},
   "source": [
    "#####  Synthetic classification data\n"
   ]
  },
  {
   "cell_type": "markdown",
   "metadata": {},
   "source": [
    "######  Synthetic classification data\n"
   ]
  },
  {
   "cell_type": "markdown",
   "metadata": {},
   "source": [
    "#######  Synthetic classification data\n"
   ]
  },
  {
   "cell_type": "markdown",
   "metadata": {},
   "source": [
    "########  Synthetic classification data\n"
   ]
  },
  {
   "cell_type": "markdown",
   "metadata": {},
   "source": [
    "#########  Synthetic classification data\n"
   ]
  },
  {
   "cell_type": "markdown",
   "metadata": {},
   "source": [
    "##########  Synthetic classification data\n"
   ]
  },
  {
   "cell_type": "markdown",
   "metadata": {},
   "source": [
    "###########  Synthetic classification data\n"
   ]
  },
  {
   "cell_type": "markdown",
   "metadata": {},
   "source": [
    "############  Synthetic classification data\n"
   ]
  },
  {
   "cell_type": "code",
   "execution_count": null,
   "id": "06e0665e",
   "metadata": {
    "cellView": "form",
    "execution": {},
    "tags": [
     "hide-input"
    ]
   },
   "outputs": [],
   "source": [
    "#@title Synthetic classification data\n",
    "\n",
    "data_points = 100  # Set the number of data points to be generated\n",
    "x_1 = np.random.randn(data_points)  # Generate random values for the first regressor using a normal distribution\n",
    "x_2 = np.random.randn(data_points)  # Generate random values for the second regressor using a normal distribution\n",
    "\n",
    "alpha = .5  # Set a weight for the first regressor\n",
    "beta = .1  # Set a weighting factor for the noise\n",
    "\n",
    "def y_func(weights,regressors,noise):\n",
    "    \"\"\"\n",
    "    This function computes the output values for a synthetic classification problem, given input weights, regressors, and noise.\n",
    "\n",
    "    Parameters:\n",
    "    weights (numpy array): A 1 x r array of weights, where r is the number of regressors\n",
    "    regressors (numpy array): An r x d array of regressors, where d is the number of data points\n",
    "    noise (scalar): A scalar value for the weighting of the noise added to the output values\n",
    "\n",
    "    Returns:\n",
    "    numpy array: A 1 x d array of output values computed using the input weights, regressors, and noise\n",
    "    \"\"\"\n",
    "    return np.heaviside(np.dot(weights,regressors) + noise*np.random.randn(regressors.shape[1]),0)\n",
    "\n",
    "# Generate the output values for the synthetic classification problem using the y_func function\n",
    "y = y_func(np.array([alpha,1-alpha]),np.array([x_1,x_2]),beta)"
   ]
  },
  {
   "cell_type": "markdown",
   "id": "zPeztNPTwRKx",
   "metadata": {
    "execution": {}
   },
   "source": [
    "\n",
    "\n",
    "---\n",
    "\n",
    "\n",
    "## **Section 1.2 Fitting Model and Analyzing Results **\n",
    "\n",
    "---\n",
    "\n"
   ]
  },
  {
   "cell_type": "markdown",
   "id": "gBAOMAJLv0oa",
   "metadata": {
    "execution": {}
   },
   "source": [
    "Just as with linear regression, we will use the sklearn object to build a logistic regression model\n"
   ]
  },
  {
   "cell_type": "markdown",
   "metadata": {},
   "source": [
    "###   Logistic regression model building\n"
   ]
  },
  {
   "cell_type": "markdown",
   "metadata": {},
   "source": [
    "####   Logistic regression model building\n"
   ]
  },
  {
   "cell_type": "markdown",
   "metadata": {},
   "source": [
    "#####   Logistic regression model building\n"
   ]
  },
  {
   "cell_type": "markdown",
   "metadata": {},
   "source": [
    "######   Logistic regression model building\n"
   ]
  },
  {
   "cell_type": "markdown",
   "metadata": {},
   "source": [
    "#######   Logistic regression model building\n"
   ]
  },
  {
   "cell_type": "markdown",
   "metadata": {},
   "source": [
    "########   Logistic regression model building\n"
   ]
  },
  {
   "cell_type": "markdown",
   "metadata": {},
   "source": [
    "#########   Logistic regression model building\n"
   ]
  },
  {
   "cell_type": "markdown",
   "metadata": {},
   "source": [
    "##########   Logistic regression model building\n"
   ]
  },
  {
   "cell_type": "markdown",
   "metadata": {},
   "source": [
    "###########   Logistic regression model building\n"
   ]
  },
  {
   "cell_type": "markdown",
   "metadata": {},
   "source": [
    "############   Logistic regression model building\n"
   ]
  },
  {
   "cell_type": "code",
   "execution_count": null,
   "id": "673ac479",
   "metadata": {
    "cellView": "form",
    "execution": {},
    "executionInfo": {
     "elapsed": 399,
     "status": "ok",
     "timestamp": 1681492254136,
     "user": {
      "displayName": "Deepak Mewada",
      "userId": "10376201445384716451"
     },
     "user_tz": -330
    },
    "tags": [
     "hide-input"
    ]
   },
   "outputs": [],
   "source": [
    "#@title  Logistic regression model building\n",
    "\n",
    "logreg_model = LogisticRegression()  # Initialize the logistic regression model object\n",
    "regressors = np.array([x_1,x_2])  # Create a numpy array called regressors to hold the input variables (x_1 and x_2)\n",
    "logreg_model.fit(regressors.T,y)  # Fit the logistic regression model using the input variables and output variable (y)"
   ]
  },
  {
   "cell_type": "markdown",
   "id": "82979976",
   "metadata": {
    "execution": {}
   },
   "source": [
    "The logistic regression model has now been trained. To evaluate its performance, we cannot rely on the coefficient of determination as we did for linear regression. Instead, we need metrics that are specific to classification problems. First we will plot a confusion matrix, which shows how many data points of a given category are classified as different categories. Then we will look at the overall accuracy (the percentage of data points that are correctly classified). "
   ]
  },
  {
   "cell_type": "markdown",
   "metadata": {},
   "source": [
    "###  Prediction and evaluation of logistic regression model\n"
   ]
  },
  {
   "cell_type": "markdown",
   "metadata": {},
   "source": [
    "####  Prediction and evaluation of logistic regression model\n"
   ]
  },
  {
   "cell_type": "markdown",
   "metadata": {},
   "source": [
    "#####  Prediction and evaluation of logistic regression model\n"
   ]
  },
  {
   "cell_type": "markdown",
   "metadata": {},
   "source": [
    "######  Prediction and evaluation of logistic regression model\n"
   ]
  },
  {
   "cell_type": "markdown",
   "metadata": {},
   "source": [
    "#######  Prediction and evaluation of logistic regression model\n"
   ]
  },
  {
   "cell_type": "markdown",
   "metadata": {},
   "source": [
    "########  Prediction and evaluation of logistic regression model\n"
   ]
  },
  {
   "cell_type": "markdown",
   "metadata": {},
   "source": [
    "#########  Prediction and evaluation of logistic regression model\n"
   ]
  },
  {
   "cell_type": "markdown",
   "metadata": {},
   "source": [
    "##########  Prediction and evaluation of logistic regression model\n"
   ]
  },
  {
   "cell_type": "markdown",
   "metadata": {},
   "source": [
    "###########  Prediction and evaluation of logistic regression model\n"
   ]
  },
  {
   "cell_type": "markdown",
   "metadata": {},
   "source": [
    "############  Prediction and evaluation of logistic regression model\n"
   ]
  },
  {
   "cell_type": "code",
   "execution_count": null,
   "id": "S8oKpgXHwafT",
   "metadata": {
    "cellView": "form",
    "execution": {},
    "executionInfo": {
     "elapsed": 1002,
     "status": "ok",
     "timestamp": 1681492393307,
     "user": {
      "displayName": "Deepak Mewada",
      "userId": "10376201445384716451"
     },
     "user_tz": -330
    },
    "tags": [
     "hide-input"
    ]
   },
   "outputs": [],
   "source": [
    "#@title Prediction and evaluation of logistic regression model\n",
    "\n",
    "preds = logreg_model.predict(regressors.T)  # Predict the output using the logistic regression model and input variables\n",
    "cm = confusion_matrix(y, preds)  # Compute the confusion matrix using the predicted and actual output values\n",
    "plt.imshow(cm); plt.xticks([0,1]); plt.yticks([0,1])  # Plot the confusion matrix using pyplot\n",
    "plt.ylabel('true category'); plt.xlabel('predicted category')  # Add x and y axis labels\n",
    "plt.colorbar()  # Add colorbar to the plot\n",
    "\n",
    "'Percent correct is ' + str(100*logreg_model.score(regressors.T, y))  # Compute the percentage of correct predictions using the logistic regression model and input/output variables"
   ]
  },
  {
   "cell_type": "markdown",
   "id": "RrM0TR19A1x-",
   "metadata": {
    "execution": {}
   },
   "source": [
    "<details>\n",
    "<summary> <font color='yellow'>Click here description of plot  </font></summary>\n",
    "The plot shows a confusion matrix, which is a way of visualizing how well a binary classification model is performing. The rows represent the true class labels, and the columns represent the predicted class labels. The color of each cell indicates the number of instances that fall into that category. The diagonal cells indicate correct predictions, while the off-diagonal cells indicate incorrect predictions. The percentage of correct predictions by the logistic regression model is printed at the end."
   ]
  },
  {
   "cell_type": "markdown",
   "id": "O6jfkuOWlYF9",
   "metadata": {
    "execution": {}
   },
   "source": [
    "As we can see, the model has a high accuracy.  However, this accuracy is based on the same data the model was trained on. How well do you think the model will perform when tested on new, unseen data?\n"
   ]
  },
  {
   "cell_type": "markdown",
   "id": "p3imJoPEcEgi",
   "metadata": {
    "execution": {}
   },
   "source": [
    "\n",
    "\n",
    "---\n",
    "\n",
    "\n",
    "## **Section 1.3 Test the Model on New Unseen x Values**\n",
    "\n",
    "\n",
    "---\n",
    "\n"
   ]
  },
  {
   "cell_type": "markdown",
   "id": "0Q1GTTR8imTs",
   "metadata": {
    "execution": {}
   },
   "source": [
    "### Coding Exercise 1.2: Evaluate the model performance on new unseen data\n",
    "\n",
    "For the first exercise, once again, like with linear regression, evaluate the model on test data it was not trained on. \n",
    "\n",
    "*Exercise Objextive*: Create a new dataset assuming the same relationship but a different sample of x values and test the model's performance."
   ]
  },
  {
   "cell_type": "code",
   "execution_count": null,
   "id": "FFwFItnIoXj7",
   "metadata": {
    "execution": {},
    "executionInfo": {
     "elapsed": 15,
     "status": "error",
     "timestamp": 1681491271658,
     "user": {
      "displayName": "Deepak Mewada",
      "userId": "10376201445384716451"
     },
     "user_tz": -330
    }
   },
   "outputs": [],
   "source": [
    "#################################################\n",
    "## TODO for students\n",
    "# Fill out function and remove\n",
    "# raise NotImplementedError(\"Student exercise 1.1: Fill out the code to evaluate model performance on new unseen data.\")\n",
    "#################################################\n",
    "\n",
    "# Generate 100 numbers from a Gaussian distribution with zero mean\n",
    "x_1_test1 = np.random.randn(data_points)\n",
    "x_2_test1 = np.random.randn(data_points)\n",
    "\n",
    "# Create an array of x values\n",
    "regressors_test1 = np.array([x_1_test1, x_2_test1])\n",
    "\n",
    "#Assuming the same relationship of alpha =.5 and beta = .1 as set above,calculate the true y values:\n",
    "# y_test1 = y_func(np.array([alpha, 1-alpha]),..., beta)\n",
    "\n",
    "# Use the logistic regression model to make predictions on the new x values\n",
    "# preds =  logreg_model.predict(...)\n",
    "\n",
    "# Calculate the confusion matrix for the model's predictions\n",
    "# cm = confusion_matrix(...,...)\n",
    "\n",
    "# Visualize the confusion matrix as an image with labeled ticks\n",
    "# plt.imshow(cm); plt.xticks([0,1]); plt.yticks([0,1])\n",
    "# plt.ylabel('true category'); plt.xlabel('predicted category')\n",
    "# plt.colorbar()\n",
    "\n",
    "# Print the percent of correct predictions by the logistic regression model\n",
    "#'Percent correct is ' + str(100*logreg_model.score(regressors_test1.T,y_test1))"
   ]
  },
  {
   "cell_type": "markdown",
   "id": "ytllXw0UkNEC",
   "metadata": {
    "colab_type": "text",
    "execution": {},
    "executionInfo": {
     "elapsed": 470,
     "status": "ok",
     "timestamp": 1681492426737,
     "user": {
      "displayName": "Deepak Mewada",
      "userId": "10376201445384716451"
     },
     "user_tz": -330
    }
   },
   "source": [
    "[*Click for solution*](https://github.com/NeuromatchAcademy/course-content/tree/main//tutorials/W2D5_ClimateResponse-AdaptationImpact/solutions/W2D5_Tutorial2_Solution_7a30f42e.py)\n",
    "\n",
    "*Example output:*\n",
    "\n",
    "<img alt='Solution hint' align='left' width=498.0 height=432.0 src=https://raw.githubusercontent.com/NeuromatchAcademy/course-content/main/tutorials/W2D5_ClimateResponse-AdaptationImpact/static/W2D5_Tutorial2_Solution_7a30f42e_1.png>\n",
    "\n"
   ]
  },
  {
   "cell_type": "markdown",
   "id": "4w55MAupz-O1",
   "metadata": {
    "execution": {}
   },
   "source": [
    "As the plot and percent correct show, the model does well on this new data!\n",
    "\n",
    "But what if something changed between when we collected data to train the model and when we collected a second data set to test it on? Then the relationship between x and y may have changed. Would the model still work well?"
   ]
  },
  {
   "cell_type": "markdown",
   "id": "9V01RmTRoD9k",
   "metadata": {
    "execution": {}
   },
   "source": [
    "\n",
    "\n",
    "---\n",
    "\n",
    "\n",
    "## Section 1.4: Check the Model on a New Dataset with a Slightly Different Relationship.\n",
    "**bold text**\n",
    "\n",
    "---\n",
    "\n"
   ]
  },
  {
   "cell_type": "markdown",
   "id": "d1Jozp7wzIyF",
   "metadata": {
    "execution": {}
   },
   "source": [
    "### Coding Exercise 1.3: Evaluate the model perfromance on  a new dataset with a slightly different relationship.\n",
    "\n",
    "*Exercise Objective*: Create a new dataset assuming the different relationship and a different sample of x values and then test the model's performance."
   ]
  },
  {
   "cell_type": "code",
   "execution_count": null,
   "id": "pP_SeRWf1KIr",
   "metadata": {
    "execution": {}
   },
   "outputs": [],
   "source": [
    "#################################################\n",
    "## TODO for students\n",
    "# Fill out function and remove\n",
    "# raise NotImplementedError(\"Student exercise 1.1: Fill out the code to evaluate model performance on new unseen data.\")\n",
    "#################################################\n",
    "\n",
    "\n",
    "# Generate 100 numbers from a Gaussian distribution with zero mean\n",
    "x_1_test2 = np.random.randn(data_points)\n",
    "x_2_test2 = np.random.randn(data_points)\n",
    "\n",
    "# Create an array of x values\n",
    "regressors_test2 = np.array([x_1_test2, x_2_test2])\n",
    "\n",
    "#Assuming a different relationship (alpha = .8), we can calculate the true y values:\n",
    "alpha = .8\n",
    "y_test2 = ...\n",
    "\n",
    "# Use the logistic regression model to make predictions on the new x values\n",
    "preds = ...\n",
    "\n",
    "# Calculate the confusion matrix for the model's predictions\n",
    "cm = ...\n",
    "\n",
    "# Visualize the confusion matrix as an image with labeled ticks\n",
    "# plt.imshow(cm); plt.xticks([0,1]); plt.yticks([0,1])\n",
    "# plt.ylabel('true category'); plt.xlabel('predicted category')\n",
    "# plt.colorbar()\n",
    "\n",
    "# Print the percent of correct predictions by the logistic regression model\n",
    "# 'Percent correct is ' + str(100*logreg_model.score(regressors_test2.T,y_test2))"
   ]
  },
  {
   "cell_type": "markdown",
   "id": "o1hLRjskzTfU",
   "metadata": {
    "colab_type": "text",
    "execution": {},
    "executionInfo": {
     "elapsed": 485,
     "status": "ok",
     "timestamp": 1681492431795,
     "user": {
      "displayName": "Deepak Mewada",
      "userId": "10376201445384716451"
     },
     "user_tz": -330
    }
   },
   "source": [
    "[*Click for solution*](https://github.com/NeuromatchAcademy/course-content/tree/main//tutorials/W2D5_ClimateResponse-AdaptationImpact/solutions/W2D5_Tutorial2_Solution_5865b989.py)\n",
    "\n",
    "*Example output:*\n",
    "\n",
    "<img alt='Solution hint' align='left' width=498.0 height=432.0 src=https://raw.githubusercontent.com/NeuromatchAcademy/course-content/main/tutorials/W2D5_ClimateResponse-AdaptationImpact/static/W2D5_Tutorial2_Solution_5865b989_1.png>\n",
    "\n"
   ]
  },
  {
   "cell_type": "markdown",
   "id": "q4jOymgP2DIU",
   "metadata": {
    "execution": {}
   },
   "source": [
    "We can see the accuracy has dropped!\n",
    "\n",
    "What do you conclude from this?"
   ]
  },
  {
   "cell_type": "markdown",
   "id": "DiR7mcnycPiB",
   "metadata": {
    "execution": {}
   },
   "source": [
    "\n",
    "\n",
    "---\n",
    "\n",
    "\n",
    "# **Summary**\n",
    "\n",
    "Estimated timing of tutorial: \n",
    "\n",
    "In this tutorial we implemented logistic regression with scikit learn and anlysed the learned model's performance in different scenario's like seen and unseen data.\n",
    "\n",
    "---\n",
    "\n"
   ]
  }
 ],
 "metadata": {
  "colab": {
   "collapsed_sections": [],
   "include_colab_link": true,
   "name": "W2D5_Tutorial2",
   "provenance": [
    {
     "file_id": "1mXBKClyi7rV-awGHunK98S8xtLuCOFvJ",
     "timestamp": 1679050414221
    }
   ],
   "toc_visible": true
  },
  "kernel": {
   "display_name": "Python 3",
   "language": "python",
   "name": "python3"
  },
  "kernelspec": {
   "display_name": "Python 3 (pangeo)",
   "language": "python",
   "name": "pangeo"
  },
  "language_info": {
   "codemirror_mode": {
    "name": "ipython",
    "version": 3
   },
   "file_extension": ".py",
   "mimetype": "text/x-python",
   "name": "python",
   "nbconvert_exporter": "python",
   "pygments_lexer": "ipython3",
   "version": "3.10.10"
  }
 },
 "nbformat": 4,
 "nbformat_minor": 5
}