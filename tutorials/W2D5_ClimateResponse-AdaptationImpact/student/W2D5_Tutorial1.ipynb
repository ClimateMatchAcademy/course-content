{
 "cells": [
  {
   "attachments": {},
   "cell_type": "markdown",
   "id": "myt07YFyNgmw",
   "metadata": {
    "execution": {}
   },
   "source": [
    "# **Tutorial 1: Linear and Logistic Regression**\n",
    "\n",
    "---\n",
    "\n",
    "\n",
    "\n",
    "\n",
    "**Week 2, Day 5: Climate Response: adaptation and impact**\n",
    "\n",
    "**By Climatematch Academy**\n",
    "\n",
    "__Content creators:__ Deepak Mewada, Grace Lindsay\n",
    "\n",
    "__Content reviewers:__ \n",
    "\n",
    "__Content editors:__ \n",
    "\n",
    "__Production editors:__ "
   ]
  },
  {
   "attachments": {},
   "cell_type": "markdown",
   "id": "kDQc1jnoNWcp",
   "metadata": {
    "execution": {}
   },
   "source": [
    "___\n",
    "# **Tutorial Objectives**\n",
    "\n",
    "*Estimated timing of tutorial: 45 minutes \n",
    "\n",
    "Welcome to the first tutorial in a series that explores the role of data science and machine learning in addressing and adapting to climate change.\n",
    "\n",
    "This tutorial focuses on regression techniques, including linear and logistic regression, and teaches how to use these techniques to model data. By the end of this tutorial, you will be able to:\n",
    "\n",
    "- Understand linear and logistic regression models\n",
    "- Implement regression using scikit-learn in Python\n",
    "- Analyze model performance on synthetic data\n",
    "- Appreciate the importance of cautious assumptions when using models to analyze new data\n",
    "\n",
    "This tutorial serves as a foundation for upcoming tutorials in the series, where we will explore other data modeling techniques and compare their performance on climate and environmental data. Specifically, in the upcoming tutorials, we will:\n",
    "\n",
    "- Learn about decision trees in Tutorial 2 and apply them to the public 'dengue fever dataset', comparing their performance to linear regression.\n",
    "- In Tutorial 3, we will explore the 'Remote sensing crops dataset' and apply - Artificial Neural Networks (ANN) to it, comparing their performance to logistic regression.\n",
    "- Tutorial 4 will cover identifying additional datasets and ideas.\n",
    "\n",
    "---"
   ]
  },
  {
   "cell_type": "markdown",
   "metadata": {},
   "source": [
    "##  Tutorial slides\n"
   ]
  },
  {
   "cell_type": "markdown",
   "metadata": {},
   "source": [
    " These are the slides for the videos in all tutorials today\n"
   ]
  },
  {
   "cell_type": "markdown",
   "metadata": {},
   "source": [
    "###  Tutorial slides\n"
   ]
  },
  {
   "cell_type": "markdown",
   "metadata": {},
   "source": [
    " These are the slides for the videos in all tutorials today\n"
   ]
  },
  {
   "cell_type": "markdown",
   "metadata": {},
   "source": [
    "####  Tutorial slides\n"
   ]
  },
  {
   "cell_type": "markdown",
   "metadata": {},
   "source": [
    " These are the slides for the videos in all tutorials today\n"
   ]
  },
  {
   "cell_type": "markdown",
   "metadata": {},
   "source": [
    "#####  Tutorial slides\n"
   ]
  },
  {
   "cell_type": "markdown",
   "metadata": {},
   "source": [
    " These are the slides for the videos in all tutorials today\n"
   ]
  },
  {
   "cell_type": "markdown",
   "metadata": {},
   "source": [
    "######  Tutorial slides\n"
   ]
  },
  {
   "cell_type": "markdown",
   "metadata": {},
   "source": [
    " These are the slides for the videos in all tutorials today\n"
   ]
  },
  {
   "cell_type": "markdown",
   "metadata": {},
   "source": [
    "#######  Tutorial slides\n"
   ]
  },
  {
   "cell_type": "markdown",
   "metadata": {},
   "source": [
    " These are the slides for the videos in all tutorials today\n"
   ]
  },
  {
   "cell_type": "markdown",
   "metadata": {},
   "source": [
    "########  Tutorial slides\n"
   ]
  },
  {
   "cell_type": "markdown",
   "metadata": {},
   "source": [
    " These are the slides for the videos in all tutorials today\n"
   ]
  },
  {
   "cell_type": "markdown",
   "metadata": {},
   "source": [
    "#########  Tutorial slides\n"
   ]
  },
  {
   "cell_type": "markdown",
   "metadata": {},
   "source": [
    " These are the slides for the videos in all tutorials today\n"
   ]
  },
  {
   "cell_type": "markdown",
   "metadata": {},
   "source": [
    "##########  Tutorial slides\n"
   ]
  },
  {
   "cell_type": "markdown",
   "metadata": {},
   "source": [
    " These are the slides for the videos in all tutorials today\n"
   ]
  },
  {
   "cell_type": "markdown",
   "metadata": {},
   "source": [
    "###########  Tutorial slides\n"
   ]
  },
  {
   "cell_type": "markdown",
   "metadata": {},
   "source": [
    " These are the slides for the videos in all tutorials today\n"
   ]
  },
  {
   "cell_type": "markdown",
   "metadata": {},
   "source": [
    "############  Tutorial slides\n"
   ]
  },
  {
   "cell_type": "markdown",
   "metadata": {},
   "source": [
    " These are the slides for the videos in all tutorials today\n"
   ]
  },
  {
   "cell_type": "markdown",
   "metadata": {},
   "source": [
    "#############  Tutorial slides\n"
   ]
  },
  {
   "cell_type": "markdown",
   "metadata": {},
   "source": [
    " These are the slides for the videos in all tutorials today\n"
   ]
  },
  {
   "cell_type": "code",
   "execution_count": null,
   "id": "wlndBdbV5iJF",
   "metadata": {
    "cellView": "form",
    "execution": {},
    "tags": [
     "remove-input"
    ]
   },
   "outputs": [],
   "source": [
    "# @title Tutorial slides\n",
    "\n",
    "# @markdown These are the slides for the videos in all tutorials today\n",
    "from IPython.display import IFrame\n",
    "IFrame(src=f\"https://mfr.ca-1.osf.io/render?url=https://osf.io/kaq2x/?direct%26mode=render%26action=download%26mode=render\", width=854, height=480)"
   ]
  },
  {
   "attachments": {},
   "cell_type": "markdown",
   "id": "Vtq0OyoRNPcc",
   "metadata": {
    "execution": {}
   },
   "source": [
    "\n",
    "\n",
    "---\n",
    "# **Setup**"
   ]
  },
  {
   "cell_type": "markdown",
   "metadata": {},
   "source": [
    "##  Import necessary libraries:\n"
   ]
  },
  {
   "cell_type": "markdown",
   "metadata": {},
   "source": [
    "###  Import necessary libraries:\n"
   ]
  },
  {
   "cell_type": "markdown",
   "metadata": {},
   "source": [
    "####  Import necessary libraries:\n"
   ]
  },
  {
   "cell_type": "markdown",
   "metadata": {},
   "source": [
    "#####  Import necessary libraries:\n"
   ]
  },
  {
   "cell_type": "markdown",
   "metadata": {},
   "source": [
    "######  Import necessary libraries:\n"
   ]
  },
  {
   "cell_type": "markdown",
   "metadata": {},
   "source": [
    "#######  Import necessary libraries:\n"
   ]
  },
  {
   "cell_type": "markdown",
   "metadata": {},
   "source": [
    "########  Import necessary libraries:\n"
   ]
  },
  {
   "cell_type": "markdown",
   "metadata": {},
   "source": [
    "#########  Import necessary libraries:\n"
   ]
  },
  {
   "cell_type": "markdown",
   "metadata": {},
   "source": [
    "##########  Import necessary libraries:\n"
   ]
  },
  {
   "cell_type": "markdown",
   "metadata": {},
   "source": [
    "###########  Import necessary libraries:\n"
   ]
  },
  {
   "cell_type": "markdown",
   "metadata": {},
   "source": [
    "############  Import necessary libraries:\n"
   ]
  },
  {
   "cell_type": "markdown",
   "metadata": {},
   "source": [
    "#############  Import necessary libraries:\n"
   ]
  },
  {
   "cell_type": "code",
   "execution_count": null,
   "id": "Kwsl6-KNNPcc",
   "metadata": {
    "cellView": "form",
    "execution": {},
    "pycharm": {
     "name": "#%%\n"
    },
    "tags": [
     "hide-input"
    ]
   },
   "outputs": [],
   "source": [
    "#@title Import necessary libraries:\n",
    "\n",
    "import numpy as np  # Import the numpy library as np - used for array computing and linear algebra operations\n",
    "from sklearn.linear_model import LinearRegression  # Import the LinearRegression class from the sklearn.linear_model module - used for performing linear regression analysis\n",
    "import matplotlib.pyplot as plt  # Import the pyplot module from the matplotlib library - used for data visualization\n",
    "from sklearn.linear_model import LogisticRegression  # Import the LogisticRegression class from the scikit-learn linear_model module - used for logistic regression analysis\n",
    "from sklearn.metrics import confusion_matrix  # Import the confusion_matrix function from the scikit-learn metrics module - used for evaluating classification model performance"
   ]
  },
  {
   "attachments": {},
   "cell_type": "markdown",
   "id": "wNqEz5P8j2Q-",
   "metadata": {
    "execution": {}
   },
   "source": [
    "<details>\n",
    "<summary> <font color='Red'>Click here if you are running on local machine or you encounter any error while importing   </font></summary>\n",
    "**NOTE :**  Please note that if you are running this code on a local machine and encounter an error while importing a library, make sure to install the library via pip. For example, if you receive a \"`ModuleNotFoundError: No module named 'library name'`\" error , please run \"`pip install 'library name'`\" to install the required module."
   ]
  },
  {
   "attachments": {},
   "cell_type": "markdown",
   "id": "nULavCfq4o07",
   "metadata": {
    "execution": {}
   },
   "source": [
    "---\n",
    "\n",
    "# **Section 1: Linear Regression**\n",
    "\n",
    "\n",
    "---\n",
    "Regression analysis is a powerful tool used in climate science to model relationships between various environmental factors. In this tutorial, we will cover two types of regression: linear and logistic regression."
   ]
  },
  {
   "cell_type": "markdown",
   "metadata": {},
   "source": [
    "##  Video 1: Video 1 Name\n"
   ]
  },
  {
   "cell_type": "markdown",
   "metadata": {},
   "source": [
    "###  Video 1: Video 1 Name\n"
   ]
  },
  {
   "cell_type": "markdown",
   "metadata": {},
   "source": [
    "####  Video 1: Video 1 Name\n"
   ]
  },
  {
   "cell_type": "markdown",
   "metadata": {},
   "source": [
    "#####  Video 1: Video 1 Name\n"
   ]
  },
  {
   "cell_type": "markdown",
   "metadata": {},
   "source": [
    "######  Video 1: Video 1 Name\n"
   ]
  },
  {
   "cell_type": "markdown",
   "metadata": {},
   "source": [
    "#######  Video 1: Video 1 Name\n"
   ]
  },
  {
   "cell_type": "markdown",
   "metadata": {},
   "source": [
    "########  Video 1: Video 1 Name\n"
   ]
  },
  {
   "cell_type": "markdown",
   "metadata": {},
   "source": [
    "#########  Video 1: Video 1 Name\n"
   ]
  },
  {
   "cell_type": "markdown",
   "metadata": {},
   "source": [
    "##########  Video 1: Video 1 Name\n"
   ]
  },
  {
   "cell_type": "markdown",
   "metadata": {},
   "source": [
    "###########  Video 1: Video 1 Name\n"
   ]
  },
  {
   "cell_type": "markdown",
   "metadata": {},
   "source": [
    "############  Video 1: Video 1 Name\n"
   ]
  },
  {
   "cell_type": "markdown",
   "metadata": {},
   "source": [
    "#############  Video 1: Video 1 Name\n"
   ]
  },
  {
   "cell_type": "code",
   "execution_count": null,
   "id": "ThcPwgvzvV-6",
   "metadata": {
    "cellView": "form",
    "execution": {},
    "tags": [
     "remove-input"
    ]
   },
   "outputs": [],
   "source": [
    "# @title Video 1: Video 1 Name\n",
    "from ipywidgets import widgets\n",
    "from IPython.display import display, IFrame, YouTubeVideo\n",
    "\n",
    "out2 = widgets.Output()\n",
    "with out2:\n",
    "  class BiliVideo(IFrame):\n",
    "    def __init__(self, id, page=1, width=400, height=300, **kwargs):\n",
    "      self.id=id\n",
    "      src = 'https://player.bilibili.com/player.html?bvid={0}&page={1}'.format(id, page)\n",
    "      super(BiliVideo, self).__init__(src, width, height, **kwargs)\n",
    "\n",
    "  video = BiliVideo(id=\"\", width=730, height=410, fs=1)\n",
    "  print(f'Video available at https://www.bilibili.com/video/{video.id}')\n",
    "  display(video)\n",
    "\n",
    "out1 = widgets.Output()\n",
    "with out1:\n",
    "  video = YouTubeVideo(id=\"\", width=730, height=410, fs=1, rel=0)\n",
    "  print(f'Video available at https://youtube.com/watch?v={video.id}')\n",
    "  display(video)\n",
    "\n",
    "out = widgets.Tab([out1, out2])\n",
    "out.set_title(0, 'Youtube')\n",
    "out.set_title(1, 'Bilibili')\n",
    "\n",
    "display(out)"
   ]
  },
  {
   "attachments": {},
   "cell_type": "markdown",
   "id": "8e6687fc",
   "metadata": {
    "execution": {}
   },
   "source": [
    "In a regression problem, we need data features ('regressors', or independent variables) that we will use to predict a dependent variable. For example, we could try to predict the amount of carbon dioxide released into the atmosphere (dependent variable) based on features such as temperature and humidity (regressors). We can use linear regression to model this relationship by fitting a straight line through the data points.\n",
    "\n",
    "To try out linear regression with scikit-learn, we will start with synthetic data. Linear regression assumes there is a linear relationship between the regressors and the predicted value, so we will simulate data that does have such a linear relationship.  Specifically, we will build data with the following relationship:\n",
    "\\begin{align}\n",
    " y = \\beta x_1 + (1-\\beta) x_2 + \\alpha \\epsilon \n",
    "\\end{align}\n",
    "\n",
    "where :\n",
    "* y is the dependent variable\n",
    "* $x_1$ and $x_2$ are regressors \n",
    "* $\\beta$ can range from 0 to 1; it is a weighting variable that controls the relative influence from each regressor (at .5, both regressors contribute equally). \n",
    "* $\\epsilon$ is a noise term that makes $y$ only partially dependent on these regressors. \n",
    "* The strength of the noise is controlled by $\\alpha$.  \n",
    "\n",
    "In climate science, linear regression can be used to model relationships between variables such as temperature and time, or carbon dioxide emissions and temperature. By analyzing the relationship between these variables, we can make predictions and gain a better understanding of the climate system.\n",
    "\n",
    "Before we work with real datat, let's start by creating some synthetic values for the regressors. "
   ]
  },
  {
   "attachments": {},
   "cell_type": "markdown",
   "id": "j9n17gXFOIXX",
   "metadata": {
    "execution": {}
   },
   "source": [
    "\n",
    "\n",
    "---\n",
    "\n",
    "\n",
    "## **Section 1.1:  Generating a Synthetic Dataset**\n",
    "\n",
    "---"
   ]
  },
  {
   "attachments": {},
   "cell_type": "markdown",
   "id": "4uFxL_rZrNKj",
   "metadata": {
    "execution": {}
   },
   "source": [
    "This code generates two arrays of random numbers with mean 0 using the numpy library's random module. The `data_points` variable is used to define the length of the generated arrays, and the `random.randn()` function is used twice to generate the two arrays that we will use as our two regressors. The numpy library was previously imported and given the alias \"np\" for ease of use."
   ]
  },
  {
   "cell_type": "markdown",
   "metadata": {},
   "source": [
    "##  Generating regressors value 'x1' and 'x2' with NumPy\n"
   ]
  },
  {
   "cell_type": "markdown",
   "metadata": {},
   "source": [
    "###  Generating regressors value 'x1' and 'x2' with NumPy\n"
   ]
  },
  {
   "cell_type": "markdown",
   "metadata": {},
   "source": [
    "####  Generating regressors value 'x1' and 'x2' with NumPy\n"
   ]
  },
  {
   "cell_type": "markdown",
   "metadata": {},
   "source": [
    "#####  Generating regressors value 'x1' and 'x2' with NumPy\n"
   ]
  },
  {
   "cell_type": "markdown",
   "metadata": {},
   "source": [
    "######  Generating regressors value 'x1' and 'x2' with NumPy\n"
   ]
  },
  {
   "cell_type": "markdown",
   "metadata": {},
   "source": [
    "#######  Generating regressors value 'x1' and 'x2' with NumPy\n"
   ]
  },
  {
   "cell_type": "markdown",
   "metadata": {},
   "source": [
    "########  Generating regressors value 'x1' and 'x2' with NumPy\n"
   ]
  },
  {
   "cell_type": "markdown",
   "metadata": {},
   "source": [
    "#########  Generating regressors value 'x1' and 'x2' with NumPy\n"
   ]
  },
  {
   "cell_type": "markdown",
   "metadata": {},
   "source": [
    "##########  Generating regressors value 'x1' and 'x2' with NumPy\n"
   ]
  },
  {
   "cell_type": "markdown",
   "metadata": {},
   "source": [
    "###########  Generating regressors value 'x1' and 'x2' with NumPy\n"
   ]
  },
  {
   "cell_type": "markdown",
   "metadata": {},
   "source": [
    "############  Generating regressors value 'x1' and 'x2' with NumPy\n"
   ]
  },
  {
   "cell_type": "markdown",
   "metadata": {},
   "source": [
    "#############  Generating regressors value 'x1' and 'x2' with NumPy\n"
   ]
  },
  {
   "cell_type": "code",
   "execution_count": null,
   "id": "Ov8RM-kOq8Ha",
   "metadata": {
    "cellView": "form",
    "execution": {},
    "tags": [
     "hide-input"
    ]
   },
   "outputs": [],
   "source": [
    "#@title Generating regressors value 'x1' and 'x2' with NumPy\n",
    "\n",
    "# Importing the numpy library with the alias \"np\" earlier in the code\n",
    "# Numpy is a popular library used for numerical computing and mathematical operations in Python\n",
    "\n",
    "data_points = 100   # Defining the number of data points to generate\n",
    "\n",
    "x_1 = np.random.randn(data_points)   # Generating an array of 'data_points' numbers from a normal distribution with zero mean using numpy's 'random.randn()' function, and saving it to 'x_1'\n",
    "# 'random.randn()' function is a part of numpy's random module and generates an array of random numbers from a standard normal distribution (mean = 0, standard deviation = 1)\n",
    "\n",
    "x_2 = np.random.randn(data_points)   # Generating another array of 'data_points' numbers from a normal distribution with zero mean using numpy's 'random.randn()' function, and saving it to 'x_2'\n",
    "# We are again using the 'random.randn()' function from numpy's random module to generate another array of random numbers from a standard normal distribution. This time we are saving it to 'x_2' variable.\n",
    "\n",
    "# By using the numpy library's random module, we can generate random numbers efficiently, which is often useful in many scientific and engineering applications."
   ]
  },
  {
   "attachments": {},
   "cell_type": "markdown",
   "id": "f6656a6f",
   "metadata": {
    "execution": {}
   },
   "source": [
    "Now we can choose some weighting values and calculate the dependent variable:"
   ]
  },
  {
   "cell_type": "markdown",
   "metadata": {},
   "source": [
    "##  Generating dependent variable  'y'\n"
   ]
  },
  {
   "cell_type": "markdown",
   "metadata": {},
   "source": [
    "###  Generating dependent variable  'y'\n"
   ]
  },
  {
   "cell_type": "markdown",
   "metadata": {},
   "source": [
    "####  Generating dependent variable  'y'\n"
   ]
  },
  {
   "cell_type": "markdown",
   "metadata": {},
   "source": [
    "#####  Generating dependent variable  'y'\n"
   ]
  },
  {
   "cell_type": "markdown",
   "metadata": {},
   "source": [
    "######  Generating dependent variable  'y'\n"
   ]
  },
  {
   "cell_type": "markdown",
   "metadata": {},
   "source": [
    "#######  Generating dependent variable  'y'\n"
   ]
  },
  {
   "cell_type": "markdown",
   "metadata": {},
   "source": [
    "########  Generating dependent variable  'y'\n"
   ]
  },
  {
   "cell_type": "markdown",
   "metadata": {},
   "source": [
    "#########  Generating dependent variable  'y'\n"
   ]
  },
  {
   "cell_type": "markdown",
   "metadata": {},
   "source": [
    "##########  Generating dependent variable  'y'\n"
   ]
  },
  {
   "cell_type": "markdown",
   "metadata": {},
   "source": [
    "###########  Generating dependent variable  'y'\n"
   ]
  },
  {
   "cell_type": "markdown",
   "metadata": {},
   "source": [
    "############  Generating dependent variable  'y'\n"
   ]
  },
  {
   "cell_type": "markdown",
   "metadata": {},
   "source": [
    "#############  Generating dependent variable  'y'\n"
   ]
  },
  {
   "cell_type": "code",
   "execution_count": null,
   "id": "YH_7qeJoKeJj",
   "metadata": {
    "cellView": "form",
    "execution": {},
    "tags": [
     "hide-input"
    ]
   },
   "outputs": [],
   "source": [
    "#@title Generating dependent variable  'y'\n",
    "\n",
    "\n",
    "beta = .5   # Defining the weight for the first regressor\n",
    "alpha = .1    # Defining the weight for the noise\n",
    "\n",
    "def y_func(weights, regressors, noise):\n",
    "    \"\"\"\n",
    "    This function takes in three inputs:\n",
    "    - weights: a numpy array of weights (1 x r, where r is number of regressors)\n",
    "    - regressors: a numpy array of regressors (r x d, where d is number of datapoints)\n",
    "    - noise: a scalar value representing the amount of noise to be added to the output.\n",
    "\n",
    "    The function returns the dot product of 'weights' and 'regressors', plus some added noise (controlled by 'noise').\n",
    "    \"\"\"\n",
    "    # The dot product of weights and regressors is calculated using numpy's 'dot' function. Then, noise is added to the result using numpy's 'random.randn()' function.\n",
    "    return np.dot(weights, regressors) + noise * np.random.randn(regressors.shape[1])\n",
    "\n",
    "# Calling the function 'y_func' to generate 'y', using the variables 'alpha', 'beta', and 'x_1', 'x_2' that were previously defined.\n",
    "y = y_func(np.array([beta, 1-beta]), np.array([x_1, x_2]), alpha)\n",
    "print(y)"
   ]
  },
  {
   "attachments": {},
   "cell_type": "markdown",
   "id": "JTXubiDuuTMi",
   "metadata": {
    "execution": {}
   },
   "source": [
    "The code generates a dependent variable 'y' by calling a function 'y_func()'. The function takes in weights, regressors, and noise as inputs, calculates the dot product of weights and regressors using numpy's 'dot' function, adds noise to the result using numpy's 'random.randn()' function, and returns the final result. The 'y_func()' function is called using previously defined variables 'beta', 'alpha', and 'x_1', 'x_2'."
   ]
  },
  {
   "attachments": {},
   "cell_type": "markdown",
   "id": "349c8677",
   "metadata": {
    "execution": {}
   },
   "source": [
    "### **Plotting the data**\n",
    "\n",
    "To fully understand what this function represents, we can plot the relationship between the regressors and y. Change the values of $alpha$ and $beta$ and see how it impacts these plots. "
   ]
  },
  {
   "cell_type": "code",
   "execution_count": null,
   "id": "uINr8aGSvLK5",
   "metadata": {
    "execution": {}
   },
   "outputs": [],
   "source": [
    "# Creating a figure with two subplots\n",
    "plt.subplot(1, 2, 1)         # The first subplot\n",
    "plt.scatter(x_1, y, c='r')   # Creating a scatter plot of x_1 vs. y, with the color 'red'\n",
    "plt.ylabel('y')              # Adding a y-axis label to the plot\n",
    "plt.xlabel('x_1')            # Adding an x-axis label to the plot\n",
    "\n",
    "plt.subplot(1, 2, 2)         # The second subplot\n",
    "plt.scatter(x_2, y, c='b')   # Creating a scatter plot of x_2 vs. y, with the color 'blue'\n",
    "plt.ylabel('y')              # Adding a y-axis label to the plot\n",
    "plt.xlabel('x_2')            # Adding an x-axis label to the plot\n",
    "\n",
    "plt.suptitle('Scatter plots of y against x_1 and x_2', fontsize=14)  # Adding a title to the overall figure\n",
    "plt.show()  # Displaying the plot"
   ]
  },
  {
   "attachments": {},
   "cell_type": "markdown",
   "id": "zPeztNPTwRKx",
   "metadata": {
    "execution": {}
   },
   "source": [
    "\n",
    "\n",
    "---\n",
    "\n",
    "\n",
    "## **Section 1.2 Fitting Model and Analyzing Results**\n",
    "\n",
    "---\n",
    "\n"
   ]
  },
  {
   "attachments": {},
   "cell_type": "markdown",
   "id": "KXeWoc1fwlMB",
   "metadata": {
    "execution": {}
   },
   "source": [
    "Now we can test if linear regression can find these relationships between the regressors and the dependent variable and use it to predict $y$ values from new $x$ values. Let's start by making a dataset with $\\beta=.8$ and $\\alpha=.1$ "
   ]
  },
  {
   "cell_type": "code",
   "execution_count": null,
   "id": "9hnuGKaOK2t6",
   "metadata": {
    "execution": {}
   },
   "outputs": [],
   "source": [
    "beta = .8   # Defining the weight for the first regressor\n",
    "alpha = .1    # Defining the weight for the noise\n",
    "regressors = np.array([x_1, x_2])   # Creating an array of regressors (x_1 and x_2)\n",
    "\n",
    "# Calling the function 'y_func' to generate 'y', using the variables 'alpha', 'beta', and 'regressors' that were previously defined.\n",
    "y = y_func(np.array([beta, 1-beta]), regressors, alpha)"
   ]
  },
  {
   "attachments": {},
   "cell_type": "markdown",
   "id": "-kwM7dzEwoQq",
   "metadata": {
    "execution": {}
   },
   "source": [
    "\n",
    "Then we can train a linear regression model. In scikit-learn, models are objects. So we first define a linear regression object and then train it with our synthetic data. "
   ]
  },
  {
   "cell_type": "code",
   "execution_count": null,
   "id": "U2CJQMRQLFKh",
   "metadata": {
    "execution": {}
   },
   "outputs": [],
   "source": [
    "#here we will use 'LinearRegression' from 'sklearn.linear_model' which we imported earlier\n",
    "\n",
    "reg_model = LinearRegression()   # Creating a new instance of the LinearRegression class and assigning it to the variable 'reg_model'\n",
    "\n",
    "# Training the model using the fit() method of the LinearRegression class\n",
    "reg_model.fit(regressors.T, y)\n",
    "# Note that the regressors are transposed using the .T method to conform to the scikit-learn convention of having datapoints as rows and regressors as columns"
   ]
  },
  {
   "attachments": {},
   "cell_type": "markdown",
   "id": "f9e76208",
   "metadata": {
    "execution": {}
   },
   "source": [
    "The model has now been trained with our synthetic data. But we want to see if it has done a good job finding the relationships between these variables. \n",
    "\n",
    "We will first evaluate the coefficient of determination of the model fit. This is a measure of how much of the variability in the data the model has captured. It is also known as $R^2$ (\"R-squared\"). 1 is the best possible value. \n",
    "\n",
    "We will also look at the coefficients that the model has learned for each regressor."
   ]
  },
  {
   "cell_type": "code",
   "execution_count": null,
   "id": "IPvSJEhiLW2R",
   "metadata": {
    "execution": {}
   },
   "outputs": [],
   "source": [
    "reg_model.score(regressors.T, y)   # Calling the score() method of the LinearRegression class on the trained model 'reg_model' to get the coefficient of determination"
   ]
  },
  {
   "cell_type": "code",
   "execution_count": null,
   "id": "t86gWVPgLavR",
   "metadata": {
    "execution": {}
   },
   "outputs": [],
   "source": [
    "reg_model.coef_   # Accessing the 'coef_' attribute of the trained model 'reg_model' to get the coefficients (or weightings) of each regressor"
   ]
  },
  {
   "attachments": {},
   "cell_type": "markdown",
   "id": "ANJN5fT2Vp_D",
   "metadata": {
    "execution": {}
   },
   "source": [
    "As we can see, the model has a high coefficient of determination and does a good job of recovering the regressor weights (which we had set to .8 and 1 - .8 = .2). You can increase the amount of noise in the data and see how this impacts these results. "
   ]
  },
  {
   "attachments": {},
   "cell_type": "markdown",
   "id": "d61cbf5a",
   "metadata": {
    "execution": {}
   },
   "source": [
    "\n",
    "It is important to evaluate the performance of a model on new data that it hasn't seen before, as this can provide a good indication of how well it can generalize to unseen situations. Here, we can create two new data sets and test how well the trained linear regression model performs on them. In the first set, we can keep the relationship between the input variables and output variable the same, but sample new input values."
   ]
  },
  {
   "attachments": {},
   "cell_type": "markdown",
   "id": "p3imJoPEcEgi",
   "metadata": {
    "execution": {}
   },
   "source": [
    "\n",
    "\n",
    "---\n",
    "\n",
    "\n",
    "## **Section 1.3 Test the model on new unseen x values**\n",
    "\n",
    "\n",
    "---\n",
    "\n"
   ]
  },
  {
   "cell_type": "code",
   "execution_count": null,
   "id": "n_D2EoE4McHB",
   "metadata": {
    "execution": {}
   },
   "outputs": [],
   "source": [
    "x_1_test1 = np.random.randn(data_points)   # Creating a new array of x_1 values using the same normal distribution as before\n",
    "x_2_test1 = np.random.randn(data_points)   # Creating a new array of x_2 values using the same normal distribution as before\n",
    "\n",
    "# Creating a new array of regressors (x_1_test1 and x_2_test1) to test the model's predictions\n",
    "regressors_test1 = np.array([x_1_test1, x_2_test1])\n",
    "\n",
    "# Getting the model's predictions on the new x values by calling the predict() method of the LinearRegression object\n",
    "preds_test1 = reg_model.predict(regressors_test1.T)\n",
    "\n",
    "# Assuming the same relationship of beta=.8 and alpha=.1 as set above, we can calculate the true y values\n",
    "y_test1 = y_func(np.array([beta, 1-beta]), regressors_test1, alpha)\n",
    "\n",
    "# Visualizing how aligned the predicted and true values are by creating a scatter plot\n",
    "plt.scatter(y_test1, preds_test1)\n",
    "plt.xlabel('true'); plt.ylabel('predicted')\n",
    "\n",
    "# Calculating the coefficient of determination (R^2) using the score() method of the LinearRegression object\n",
    "reg_model.score(regressors_test1.T, y_test1)"
   ]
  },
  {
   "attachments": {},
   "cell_type": "markdown",
   "id": "9a96ab74",
   "metadata": {
    "execution": {}
   },
   "source": [
    "As the plot and the coefficient of determination show, the linear regression model performs well on this synthetic classification data. However, in real-world climate science problems, the relationship between input variables and output can change over time due to various factors like climate change, natural disasters, and human activities. Therefore, it is important to carefully consider the potential changes in the relationship between input variables and output when training models and evaluating their performance on new data."
   ]
  },
  {
   "attachments": {},
   "cell_type": "markdown",
   "id": "9V01RmTRoD9k",
   "metadata": {
    "execution": {}
   },
   "source": [
    "\n",
    "\n",
    "---\n",
    "\n",
    "\n",
    "## **Section 1.4: Check the model on a new dataset with a slightly different relationship.**\n",
    "\n",
    "\n",
    "---\n",
    "\n"
   ]
  },
  {
   "cell_type": "code",
   "execution_count": null,
   "id": "J9ogBurMMo2B",
   "metadata": {
    "execution": {}
   },
   "outputs": [],
   "source": [
    "## Section 1.3: Check the model on a new dataset with a slightly different relationship.\n",
    "\n",
    "x_1_test2 = np.random.randn(data_points)\n",
    "x_2_test2 = np.random.randn(data_points)\n",
    "\n",
    "#Get the model's predictions on these new x values\n",
    "regressors_test2 = np.array([x_1_test2, x_2_test2])\n",
    "preds_test2 = reg_model.predict(regressors_test2.T)\n",
    "\n",
    "#Assuming a different relationship (beta = .6), we can calculate the true y values:\n",
    "beta = .6\n",
    "y_test2 = y_func(np.array([beta, 1-beta]), regressors_test2, alpha)\n",
    "\n",
    "plt.scatter(y_test2, preds_test2) #visualizing how aligned the predicted and true values are\n",
    "plt.xlabel('true'); plt.ylabel('predicted')\n",
    "reg_model.score(regressors_test2.T, y_test2) #coef of determination"
   ]
  },
  {
   "attachments": {},
   "cell_type": "markdown",
   "id": "adbea7cd",
   "metadata": {
    "execution": {}
   },
   "source": [
    "Now the model does not perform as well. \n",
    "\n",
    "The concept of a model performing well on the data it was trained on but not generalizing well to new data is a fundamental concept in machine learning. It is particularly important to consider this when applying machine learning to climate science problems. Climate data is complex, and a model that performs well on historical climate data may not necessarily generalize well to future climate conditions. Therefore, it is crucial to be cautious when making claims about the performance and usefulness of machine learning models in different climate scenarios."
   ]
  },
  {
   "attachments": {},
   "cell_type": "markdown",
   "id": "DiR7mcnycPiB",
   "metadata": {
    "execution": {}
   },
   "source": [
    "\n",
    "\n",
    "---\n",
    "\n",
    "\n",
    "<font color='lime'>Congratulations!!!</font>, you have completed the first section of this tutorial where we covered the basics of linear regression. Moving forward, we will dive into another powerful form of regression known as 'Logistic Regression'. Stay tuned and get ready to take your regression analysis to the next level!\n",
    "\n",
    "---\n",
    "\n"
   ]
  },
  {
   "attachments": {},
   "cell_type": "markdown",
   "id": "v9qJrvir-V-T",
   "metadata": {
    "execution": {}
   },
   "source": [
    "--- \n",
    "# **Section 2: Logistic Regression**\n",
    "---\n",
    "In this section, we will learn to implement Logistic Regression. Specifically, by the end of this Section, you will be able to:\n",
    "\n",
    "- Implement logistic regression to classify using scikit learn\n",
    "- Evaluate the performance of the learned model\n",
    "- Understand how the learned model behaves on new unseen data with the same and different relationsip\n",
    "\n",
    "Logistic regression can be useful in climate science for predicting the probability of occurrence of events such as extreme weather conditions or classifying land use changes in satellite data.\n"
   ]
  },
  {
   "attachments": {},
   "cell_type": "markdown",
   "id": "5ALviCYmIvHk",
   "metadata": {
    "execution": {}
   },
   "source": [
    "Logistic regression is a statistical method used to model the probability of a binary outcome (e.g., success/failure, yes/no) as a function of one or more predictor variables. As such, it can be used to model binary outcomes such as whether a particular region will experience drought or not.\n",
    "\n",
    "Logistic regression is built on the same principles as linear regression, but it can be applied to classification problems instead of just regression. The equation for logisitic regression is as follows:\n",
    "\n",
    "\\begin{equation}\n",
    "p = S(\\beta x_1 + \\beta x_2 + \\epsilon)\n",
    "\\end{equation}\n",
    "\n",
    "where:\n",
    "\n",
    "* $p$ represents the probability of an event occurring (e.g., precipitation exceeding a certain threshold).\n",
    "* $S$ is the sigmoid function, which maps any real-valued number to a probability between 0 and 1.\n",
    "* $\\beta$ represents the regression coefficient or weight associated with each predictor variable ($x_1$ and $x_2$) in the model. It indicates the direction and strength of the relationship between the predictor and the outcome variable. For example, a positive $\\beta$ value for $x_1$ means that an increase in $x_1$ is associated with an increase in the probability of the event occurring.\n",
    "* $\\epsilon$ represents the noise or error term, which, like with linear regression, captures the unexplained variation in the outcome variable that is not accounted for by the predictor variables. It includes measurement error and any other factors that are not included in the model.\n",
    "\n",
    "In the context of climate science, logistic regression can be used to model the probability of an extreme weather event (e.g., heatwave, drought, flood) occurring based on various climatic factors (e.g., temperature, precipitation, humidity). By fitting a logistic regression model to the data, we can estimate the impact of each predictor variable on the probability of the event occurring, and use this information to make predictions about future events."
   ]
  },
  {
   "attachments": {},
   "cell_type": "markdown",
   "id": "2FyCJPHg-V-U",
   "metadata": {
    "execution": {}
   },
   "source": [
    "---\n",
    "## **Section 2.1:  Generating the Synthetic Data**\n",
    "---\n",
    "\n"
   ]
  },
  {
   "attachments": {},
   "cell_type": "markdown",
   "id": "KAJNLpD-2XRy",
   "metadata": {
    "execution": {}
   },
   "source": [
    "As we did in the previous tutorial on linear regression, we will generate synthetic data in a similar way."
   ]
  },
  {
   "cell_type": "markdown",
   "metadata": {},
   "source": [
    " Run this cell to generate synthetic classification data\n"
   ]
  },
  {
   "cell_type": "markdown",
   "metadata": {},
   "source": [
    " Run this cell to generate synthetic classification data\n"
   ]
  },
  {
   "cell_type": "markdown",
   "metadata": {},
   "source": [
    " Run this cell to generate synthetic classification data\n"
   ]
  },
  {
   "cell_type": "markdown",
   "metadata": {},
   "source": [
    " Run this cell to generate synthetic classification data\n"
   ]
  },
  {
   "cell_type": "markdown",
   "metadata": {},
   "source": [
    " Run this cell to generate synthetic classification data\n"
   ]
  },
  {
   "cell_type": "markdown",
   "metadata": {},
   "source": [
    " Run this cell to generate synthetic classification data\n"
   ]
  },
  {
   "cell_type": "markdown",
   "metadata": {},
   "source": [
    " Run this cell to generate synthetic classification data\n"
   ]
  },
  {
   "cell_type": "markdown",
   "metadata": {},
   "source": [
    " Run this cell to generate synthetic classification data\n"
   ]
  },
  {
   "cell_type": "markdown",
   "metadata": {},
   "source": [
    " Run this cell to generate synthetic classification data\n"
   ]
  },
  {
   "cell_type": "markdown",
   "metadata": {},
   "source": [
    " Run this cell to generate synthetic classification data\n"
   ]
  },
  {
   "cell_type": "markdown",
   "metadata": {},
   "source": [
    " Run this cell to generate synthetic classification data\n"
   ]
  },
  {
   "cell_type": "markdown",
   "metadata": {},
   "source": [
    " Run this cell to generate synthetic classification data\n"
   ]
  },
  {
   "cell_type": "code",
   "execution_count": null,
   "id": "06e0665e",
   "metadata": {
    "cellView": "form",
    "execution": {},
    "tags": [
     "hide-input"
    ]
   },
   "outputs": [],
   "source": [
    "#@markdown Run this cell to generate synthetic classification data\n",
    "\n",
    "data_points = 100  # Set the number of data points to be generated\n",
    "x_1 = np.random.randn(data_points)  # Generate random values for the first regressor using a normal distribution\n",
    "x_2 = np.random.randn(data_points)  # Generate random values for the second regressor using a normal distribution\n",
    "\n",
    "beta = .5  # Set a weight for the first regressor\n",
    "alpha = .1  # Set a weighting factor for the noise\n",
    "\n",
    "# Define a sigmoid function that takes in an input and returns the output of the sigmoid function.\n",
    "# The sigmoid function is used to transform the input to a value between 0 and 1.\n",
    "def sigmoid(x):\n",
    "    return 1 / (1 + np.exp(-x))\n",
    "\n",
    "# Define a function that computes the output values for a synthetic classification problem, given input weights, regressors, and noise.\n",
    "def y_func(weights,regressors,noise):\n",
    "    \"\"\"\n",
    "    This function computes the output values for a synthetic classification problem, given input weights, regressors, and noise.\n",
    "\n",
    "    Parameters:\n",
    "    weights (numpy array): A 1 x r array of weights, where r is the number of regressors\n",
    "    regressors (numpy array): An r x d array of regressors, where d is the number of data points\n",
    "    noise (scalar): A scalar value for the weighting of the noise added to the output values\n",
    "\n",
    "    Returns:\n",
    "    numpy array: A 1 x d array of output values computed using the input weights, regressors, and noise\n",
    "    \"\"\"\n",
    "    # Compute the dot product of the input weights and regressors and add noise to it.\n",
    "    # Then, apply the sigmoid function to the result to obtain a value between 0 and 1.\n",
    "    # Finally, round the result to the nearest integer to obtain the output class label (0 or 1).\n",
    "    y = sigmoid(np.dot(weights,regressors) + noise*np.random.randn(regressors.shape[1]))\n",
    "    y = (y>0.5).astype(int)\n",
    "    return  y\n",
    "\n",
    "# Generate the output values for the synthetic classification problem using the y_func function.\n",
    "# The input weights and regressors are set to beta and 1-beta for x_1 and x_2, respectively.\n",
    "# The noise term is set to alpha.\n",
    "y = y_func(np.array([beta,1-beta]),np.array([x_1,x_2]),alpha)"
   ]
  },
  {
   "cell_type": "markdown",
   "metadata": {},
   "source": [
    " Run this cell to visualise the data\n"
   ]
  },
  {
   "cell_type": "markdown",
   "metadata": {},
   "source": [
    " Run this cell to visualise the data\n"
   ]
  },
  {
   "cell_type": "markdown",
   "metadata": {},
   "source": [
    " Run this cell to visualise the data\n"
   ]
  },
  {
   "cell_type": "markdown",
   "metadata": {},
   "source": [
    " Run this cell to visualise the data\n"
   ]
  },
  {
   "cell_type": "markdown",
   "metadata": {},
   "source": [
    " Run this cell to visualise the data\n"
   ]
  },
  {
   "cell_type": "markdown",
   "metadata": {},
   "source": [
    " Run this cell to visualise the data\n"
   ]
  },
  {
   "cell_type": "markdown",
   "metadata": {},
   "source": [
    " Run this cell to visualise the data\n"
   ]
  },
  {
   "cell_type": "markdown",
   "metadata": {},
   "source": [
    " Run this cell to visualise the data\n"
   ]
  },
  {
   "cell_type": "markdown",
   "metadata": {},
   "source": [
    " Run this cell to visualise the data\n"
   ]
  },
  {
   "cell_type": "markdown",
   "metadata": {},
   "source": [
    " Run this cell to visualise the data\n"
   ]
  },
  {
   "cell_type": "markdown",
   "metadata": {},
   "source": [
    " Run this cell to visualise the data\n"
   ]
  },
  {
   "cell_type": "markdown",
   "metadata": {},
   "source": [
    " Run this cell to visualise the data\n"
   ]
  },
  {
   "cell_type": "code",
   "execution_count": null,
   "id": "vDpZoeJiS5q7",
   "metadata": {
    "cellView": "form",
    "execution": {},
    "tags": [
     "hide-input"
    ]
   },
   "outputs": [],
   "source": [
    "#@markdown Run this cell to visualise the data\n",
    "from matplotlib.colors import ListedColormap\n",
    "colors = ['#FF0000', '#0000FF']\n",
    "cmap = ListedColormap(colors)\n",
    "\n",
    "# Plot the data points\n",
    "plt.figure(figsize=(12,6))\n",
    "plt.subplot(1, 2, 1)\n",
    "plt.scatter(x_1, x_2, c=y, cmap=cmap)\n",
    "plt.title('Training data points')\n",
    "plt.xlabel('x_1')\n",
    "plt.ylabel('x_2')"
   ]
  },
  {
   "attachments": {},
   "cell_type": "markdown",
   "id": "Ek8Ntza5-V-V",
   "metadata": {
    "execution": {}
   },
   "source": [
    "\n",
    "\n",
    "---\n",
    "\n",
    "\n",
    "## **Section 2.2 Fitting Model and Analyzing Results**\n",
    "\n",
    "---\n",
    "\n"
   ]
  },
  {
   "attachments": {},
   "cell_type": "markdown",
   "id": "gBAOMAJLv0oa",
   "metadata": {
    "execution": {}
   },
   "source": [
    "Just as with linear regression, we will use the sklearn object to build a logistic regression model\n"
   ]
  },
  {
   "cell_type": "markdown",
   "metadata": {},
   "source": [
    "###   Logistic regression model building\n"
   ]
  },
  {
   "cell_type": "markdown",
   "metadata": {},
   "source": [
    "####   Logistic regression model building\n"
   ]
  },
  {
   "cell_type": "markdown",
   "metadata": {},
   "source": [
    "#####   Logistic regression model building\n"
   ]
  },
  {
   "cell_type": "markdown",
   "metadata": {},
   "source": [
    "######   Logistic regression model building\n"
   ]
  },
  {
   "cell_type": "markdown",
   "metadata": {},
   "source": [
    "#######   Logistic regression model building\n"
   ]
  },
  {
   "cell_type": "markdown",
   "metadata": {},
   "source": [
    "########   Logistic regression model building\n"
   ]
  },
  {
   "cell_type": "markdown",
   "metadata": {},
   "source": [
    "#########   Logistic regression model building\n"
   ]
  },
  {
   "cell_type": "markdown",
   "metadata": {},
   "source": [
    "##########   Logistic regression model building\n"
   ]
  },
  {
   "cell_type": "markdown",
   "metadata": {},
   "source": [
    "###########   Logistic regression model building\n"
   ]
  },
  {
   "cell_type": "markdown",
   "metadata": {},
   "source": [
    "############   Logistic regression model building\n"
   ]
  },
  {
   "cell_type": "markdown",
   "metadata": {},
   "source": [
    "#############   Logistic regression model building\n"
   ]
  },
  {
   "cell_type": "markdown",
   "metadata": {},
   "source": [
    "##############   Logistic regression model building\n"
   ]
  },
  {
   "cell_type": "code",
   "execution_count": null,
   "id": "673ac479",
   "metadata": {
    "cellView": "form",
    "execution": {},
    "tags": [
     "hide-input"
    ]
   },
   "outputs": [],
   "source": [
    "#@title  Logistic regression model building\n",
    "\n",
    "logreg_model = LogisticRegression()  # Initialize the logistic regression model object\n",
    "regressors = np.array([x_1,x_2])  # Create a numpy array called regressors to hold the input variables (x_1 and x_2)\n",
    "logreg_model.fit(regressors.T,(y>0.5).astype(int))  # Fit the logistic regression model using the input variables and output variable (y)"
   ]
  },
  {
   "cell_type": "markdown",
   "metadata": {},
   "source": [
    " Run this code cell to visualize the decision boundary before and after applying regression.\n"
   ]
  },
  {
   "cell_type": "markdown",
   "metadata": {},
   "source": [
    " Run this code cell to visualize the decision boundary before and after applying regression.\n"
   ]
  },
  {
   "cell_type": "markdown",
   "metadata": {},
   "source": [
    " Run this code cell to visualize the decision boundary before and after applying regression.\n"
   ]
  },
  {
   "cell_type": "markdown",
   "metadata": {},
   "source": [
    " Run this code cell to visualize the decision boundary before and after applying regression.\n"
   ]
  },
  {
   "cell_type": "markdown",
   "metadata": {},
   "source": [
    " Run this code cell to visualize the decision boundary before and after applying regression.\n"
   ]
  },
  {
   "cell_type": "markdown",
   "metadata": {},
   "source": [
    " Run this code cell to visualize the decision boundary before and after applying regression.\n"
   ]
  },
  {
   "cell_type": "markdown",
   "metadata": {},
   "source": [
    " Run this code cell to visualize the decision boundary before and after applying regression.\n"
   ]
  },
  {
   "cell_type": "markdown",
   "metadata": {},
   "source": [
    " Run this code cell to visualize the decision boundary before and after applying regression.\n"
   ]
  },
  {
   "cell_type": "markdown",
   "metadata": {},
   "source": [
    " Run this code cell to visualize the decision boundary before and after applying regression.\n"
   ]
  },
  {
   "cell_type": "markdown",
   "metadata": {},
   "source": [
    " Run this code cell to visualize the decision boundary before and after applying regression.\n"
   ]
  },
  {
   "cell_type": "markdown",
   "metadata": {},
   "source": [
    " Run this code cell to visualize the decision boundary before and after applying regression.\n"
   ]
  },
  {
   "cell_type": "markdown",
   "metadata": {},
   "source": [
    " Run this code cell to visualize the decision boundary before and after applying regression.\n"
   ]
  },
  {
   "cell_type": "code",
   "execution_count": null,
   "id": "YfS-QQjtS_V0",
   "metadata": {
    "cellView": "form",
    "execution": {},
    "tags": [
     "hide-input"
    ]
   },
   "outputs": [],
   "source": [
    "#@markdown Run this code cell to visualize the decision boundary before and after applying regression.\n",
    "\n",
    "from matplotlib.colors import ListedColormap\n",
    "colors = ['#FF0000', '#0000FF']\n",
    "cmap = ListedColormap(colors)\n",
    "\n",
    "# Plot the data points\n",
    "plt.figure(figsize=(12,6))\n",
    "plt.subplot(1, 2, 1)\n",
    "plt.scatter(x_1, x_2, c=y, cmap=cmap)\n",
    "plt.title('Training data points')\n",
    "plt.xlabel('x_1')\n",
    "plt.ylabel('x_2')\n",
    "\n",
    "# Compute the decision boundary\n",
    "w = logreg_model.coef_[0]\n",
    "a = -w[0] / w[1]\n",
    "xx = np.linspace(-3, 3)\n",
    "yy = a * xx - (logreg_model.intercept_[0]) / w[1]\n",
    "\n",
    "# Plot the data points with the decision boundary\n",
    "plt.subplot(1, 2, 2)\n",
    "plt.scatter(x_1, x_2, c=y, cmap=cmap)\n",
    "plt.plot(xx, yy, 'k-', label='Decision boundary')\n",
    "plt.title('Result of logistic regression')\n",
    "plt.xlabel('x_1')\n",
    "plt.ylabel('x_2')\n",
    "plt.legend()\n",
    "\n",
    "plt.show()"
   ]
  },
  {
   "attachments": {},
   "cell_type": "markdown",
   "id": "82979976",
   "metadata": {
    "execution": {}
   },
   "source": [
    "Once the logistic regression model is trained, its performance can be evaluated using classification-specific metrics. For instance, a **confusion matrix** can be plotted to show the number of data points of each category that are classified as different categories. The overall accuracy of the model can also be calculated to determine the percentage of data points that are correctly classified."
   ]
  },
  {
   "cell_type": "markdown",
   "metadata": {},
   "source": [
    "###  Prediction and evaluation of logistic regression model\n"
   ]
  },
  {
   "cell_type": "markdown",
   "metadata": {},
   "source": [
    "####  Prediction and evaluation of logistic regression model\n"
   ]
  },
  {
   "cell_type": "markdown",
   "metadata": {},
   "source": [
    "#####  Prediction and evaluation of logistic regression model\n"
   ]
  },
  {
   "cell_type": "markdown",
   "metadata": {},
   "source": [
    "######  Prediction and evaluation of logistic regression model\n"
   ]
  },
  {
   "cell_type": "markdown",
   "metadata": {},
   "source": [
    "#######  Prediction and evaluation of logistic regression model\n"
   ]
  },
  {
   "cell_type": "markdown",
   "metadata": {},
   "source": [
    "########  Prediction and evaluation of logistic regression model\n"
   ]
  },
  {
   "cell_type": "markdown",
   "metadata": {},
   "source": [
    "#########  Prediction and evaluation of logistic regression model\n"
   ]
  },
  {
   "cell_type": "markdown",
   "metadata": {},
   "source": [
    "##########  Prediction and evaluation of logistic regression model\n"
   ]
  },
  {
   "cell_type": "markdown",
   "metadata": {},
   "source": [
    "###########  Prediction and evaluation of logistic regression model\n"
   ]
  },
  {
   "cell_type": "markdown",
   "metadata": {},
   "source": [
    "############  Prediction and evaluation of logistic regression model\n"
   ]
  },
  {
   "cell_type": "markdown",
   "metadata": {},
   "source": [
    "#############  Prediction and evaluation of logistic regression model\n"
   ]
  },
  {
   "cell_type": "markdown",
   "metadata": {},
   "source": [
    "##############  Prediction and evaluation of logistic regression model\n"
   ]
  },
  {
   "cell_type": "code",
   "execution_count": null,
   "id": "S8oKpgXHwafT",
   "metadata": {
    "cellView": "form",
    "execution": {},
    "tags": [
     "hide-input"
    ]
   },
   "outputs": [],
   "source": [
    "#@title Prediction and evaluation of logistic regression model\n",
    "\n",
    "preds = logreg_model.predict(regressors.T)  # Predict the output using the logistic regression model and input variables\n",
    "cm = confusion_matrix(y, preds)  # Compute the confusion matrix using the predicted and actual output values\n",
    "plt.imshow(cm); plt.xticks([0,1]); plt.yticks([0,1])  # Plot the confusion matrix using pyplot\n",
    "plt.ylabel('true category'); plt.xlabel('predicted category')  # Add x and y axis labels\n",
    "plt.colorbar()  # Add colorbar to the plot\n",
    "\n",
    "'Percent correct is ' + str(100*logreg_model.score(regressors.T, y))  # Compute the percentage of correct predictions using the logistic regression model and input/output variables"
   ]
  },
  {
   "attachments": {},
   "cell_type": "markdown",
   "id": "RrM0TR19A1x-",
   "metadata": {
    "execution": {}
   },
   "source": [
    "<details>\n",
    "<summary> <font color='orangered'>Click here description of plot  </font></summary>\n",
    "The plot shows a confusion matrix, which is a way of visualizing how well a classification model is performing. The rows represent the true class labels, and the columns represent the predicted class labels. The color of each cell indicates the number of instances that fall into that category. The diagonal cells indicate correct predictions, while the off-diagonal cells indicate incorrect predictions. The percentage of correct predictions by the logistic regression model is printed at the end."
   ]
  },
  {
   "attachments": {},
   "cell_type": "markdown",
   "id": "O6jfkuOWlYF9",
   "metadata": {
    "execution": {}
   },
   "source": [
    "\n",
    "As we can see, the model has a high accuracy. However, in climate science, it is important to test the performance of the model on new and unseen data to ensure its reliability and robustness. Therefore, it is essential to evaluate the model's performance on new data to make sure that it can generalize well and provide accurate predictions on different scenarios.\n"
   ]
  },
  {
   "attachments": {},
   "cell_type": "markdown",
   "id": "gc-QPLSo-V-W",
   "metadata": {
    "execution": {}
   },
   "source": [
    "\n",
    "\n",
    "---\n",
    "\n",
    "\n",
    "## **Section 2.3 Test the Model on New Unseen x Values**\n",
    "\n",
    "\n",
    "---\n",
    "\n"
   ]
  },
  {
   "attachments": {},
   "cell_type": "markdown",
   "id": "0Q1GTTR8imTs",
   "metadata": {
    "execution": {}
   },
   "source": [
    "### Coding Exercise 2.3: Evaluate the model performance on new unseen data\n",
    "\n",
    "For the first exercise, once again, like with linear regression, evaluate the model on test data it was not trained on. \n",
    "\n",
    "*Exercise Objetive*: Create a new dataset assuming the same relationship but a different sample of x values and test the model's performance."
   ]
  },
  {
   "cell_type": "code",
   "execution_count": null,
   "id": "FFwFItnIoXj7",
   "metadata": {
    "execution": {}
   },
   "outputs": [],
   "source": [
    "#################################################\n",
    "## TODO for students\n",
    "# Fill out function and remove\n",
    "# raise NotImplementedError(\"Student exercise 1.1: Fill out the code to evaluate model performance on new unseen data.\")\n",
    "#################################################\n",
    "\n",
    "# Generate 100 numbers from a Gaussian distribution with zero mean\n",
    "x_1_test1 = np.random.randn(data_points)\n",
    "x_2_test1 = np.random.randn(data_points)\n",
    "\n",
    "# Create an array of x values\n",
    "regressors_test1 = np.array([x_1_test1, x_2_test1])\n",
    "\n",
    "#Assuming the same relationship of beta =.5 and alpha = .1 as set above,calculate the true y values:\n",
    "# y_test1 = y_func(np.array([beta, 1-beta]),..., alpha)\n",
    "\n",
    "# Use the logistic regression model to make predictions on the new x values\n",
    "# preds =  logreg_model.predict(...)\n",
    "\n",
    "# Calculate the confusion matrix for the model's predictions\n",
    "# cm = confusion_matrix(...,...)\n",
    "\n",
    "# Visualize the confusion matrix as an image with labeled ticks\n",
    "# plt.imshow(cm); plt.xticks([0,1]); plt.yticks([0,1])\n",
    "# plt.ylabel('true category'); plt.xlabel('predicted category')\n",
    "# plt.colorbar()\n",
    "\n",
    "# Print the percent of correct predictions by the logistic regression model\n",
    "#'Percent correct is ' + str(100*logreg_model.score(regressors_test1.T,y_test1))"
   ]
  },
  {
   "cell_type": "markdown",
   "id": "ytllXw0UkNEC",
   "metadata": {
    "colab_type": "text",
    "execution": {}
   },
   "source": [
    "[*Click for solution*](https://github.com/NeuromatchAcademy/course-content/tree/main//tutorials/W2D5_ClimateResponse-AdaptationImpact/solutions/W2D5_Tutorial1_Solution_f6a55b77.py)\n",
    "\n",
    "*Example output:*\n",
    "\n",
    "<img alt='Solution hint' align='left' width=295.0 height=453.0 src=https://raw.githubusercontent.com/NeuromatchAcademy/course-content/main/tutorials/W2D5_ClimateResponse-AdaptationImpact/static/W2D5_Tutorial1_Solution_f6a55b77_1.png>\n",
    "\n"
   ]
  },
  {
   "attachments": {},
   "cell_type": "markdown",
   "id": "4w55MAupz-O1",
   "metadata": {
    "execution": {}
   },
   "source": [
    "\n",
    "\n",
    "As the plot and percent correct show, the logistic regression model performs well on this synthetic classification problem. However, in the context of climate science, it is important to consider the possibility of changes in the relationship between variables over time. For instance, climate variables such as temperature, precipitation, and atmospheric carbon dioxide concentrations are known to vary over time due to natural and anthropogenic factors.   \n",
    "If such changes occur, it is important to evaluate whether the logistic regression model developed using past data still performs well on new data collected under the changed conditions."
   ]
  },
  {
   "attachments": {},
   "cell_type": "markdown",
   "id": "0Trsak4h-V-X",
   "metadata": {
    "execution": {}
   },
   "source": [
    "\n",
    "\n",
    "---\n",
    "\n",
    "## **Section 2.4: Check the Model on a New Dataset with a Slightly Different Relationship**\n",
    "\n",
    "---\n",
    "\n"
   ]
  },
  {
   "attachments": {},
   "cell_type": "markdown",
   "id": "d1Jozp7wzIyF",
   "metadata": {
    "execution": {}
   },
   "source": [
    "### Coding Exercise 2.4: Evaluate the model perfromance on  a new dataset with a slightly different relationship.\n",
    "\n",
    "*Exercise Objective*: Create a new dataset assuming a different relationship and a different sample of x values and then test the model's performance."
   ]
  },
  {
   "cell_type": "code",
   "execution_count": null,
   "id": "pP_SeRWf1KIr",
   "metadata": {
    "execution": {}
   },
   "outputs": [],
   "source": [
    "#################################################\n",
    "## TODO for students\n",
    "# Fill out function and remove\n",
    "# raise NotImplementedError(\"Student exercise 1.1: Fill out the code to evaluate model performance on new unseen data.\")\n",
    "#################################################\n",
    "\n",
    "\n",
    "# Generate 100 numbers from a Gaussian distribution with zero mean\n",
    "x_1_test2 = np.random.randn(data_points)\n",
    "x_2_test2 = np.random.randn(data_points)\n",
    "\n",
    "# Create an array of x values\n",
    "regressors_test2 = np.array([x_1_test2, x_2_test2])\n",
    "\n",
    "#Assuming a different relationship (beta = .8), we can calculate the true y values:\n",
    "beta = .8\n",
    "y_test2 = ...\n",
    "\n",
    "# Use the logistic regression model to make predictions on the new x values\n",
    "preds = ...\n",
    "\n",
    "# Calculate the confusion matrix for the model's predictions\n",
    "cm = ...\n",
    "\n",
    "# Visualize the confusion matrix as an image with labeled ticks\n",
    "# plt.imshow(cm); plt.xticks([0,1]); plt.yticks([0,1])\n",
    "# plt.ylabel('true category'); plt.xlabel('predicted category')\n",
    "# plt.colorbar()\n",
    "\n",
    "# Print the percent of correct predictions by the logistic regression model\n",
    "# 'Percent correct is ' + str(100*logreg_model.score(regressors_test2.T,y_test2))"
   ]
  },
  {
   "cell_type": "markdown",
   "id": "o1hLRjskzTfU",
   "metadata": {
    "colab_type": "text",
    "execution": {}
   },
   "source": [
    "[*Click for solution*](https://github.com/NeuromatchAcademy/course-content/tree/main//tutorials/W2D5_ClimateResponse-AdaptationImpact/solutions/W2D5_Tutorial1_Solution_01cb4d9c.py)\n",
    "\n",
    "*Example output:*\n",
    "\n",
    "<img alt='Solution hint' align='left' width=498.0 height=432.0 src=https://raw.githubusercontent.com/NeuromatchAcademy/course-content/main/tutorials/W2D5_ClimateResponse-AdaptationImpact/static/W2D5_Tutorial1_Solution_01cb4d9c_1.png>\n",
    "\n"
   ]
  },
  {
   "attachments": {},
   "cell_type": "markdown",
   "id": "q4jOymgP2DIU",
   "metadata": {
    "execution": {}
   },
   "source": [
    "### Think Exercise! 💭\n",
    "We can see the accuracy has dropped!\n",
    "\n",
    "What do you conclude from this?"
   ]
  },
  {
   "cell_type": "markdown",
   "metadata": {},
   "source": [
    " Run this cell to visualize decision boundary relative to this new data. What do you observe?\n"
   ]
  },
  {
   "cell_type": "markdown",
   "metadata": {},
   "source": [
    " Run this cell to visualize decision boundary relative to this new data. What do you observe?\n"
   ]
  },
  {
   "cell_type": "markdown",
   "metadata": {},
   "source": [
    " Run this cell to visualize decision boundary relative to this new data. What do you observe?\n"
   ]
  },
  {
   "cell_type": "markdown",
   "metadata": {},
   "source": [
    " Run this cell to visualize decision boundary relative to this new data. What do you observe?\n"
   ]
  },
  {
   "cell_type": "markdown",
   "metadata": {},
   "source": [
    " Run this cell to visualize decision boundary relative to this new data. What do you observe?\n"
   ]
  },
  {
   "cell_type": "markdown",
   "metadata": {},
   "source": [
    " Run this cell to visualize decision boundary relative to this new data. What do you observe?\n"
   ]
  },
  {
   "cell_type": "markdown",
   "metadata": {},
   "source": [
    " Run this cell to visualize decision boundary relative to this new data. What do you observe?\n"
   ]
  },
  {
   "cell_type": "markdown",
   "metadata": {},
   "source": [
    " Run this cell to visualize decision boundary relative to this new data. What do you observe?\n"
   ]
  },
  {
   "cell_type": "markdown",
   "metadata": {},
   "source": [
    " Run this cell to visualize decision boundary relative to this new data. What do you observe?\n"
   ]
  },
  {
   "cell_type": "markdown",
   "metadata": {},
   "source": [
    " Run this cell to visualize decision boundary relative to this new data. What do you observe?\n"
   ]
  },
  {
   "cell_type": "markdown",
   "metadata": {},
   "source": [
    " Run this cell to visualize decision boundary relative to this new data. What do you observe?\n"
   ]
  },
  {
   "cell_type": "markdown",
   "metadata": {},
   "source": [
    " Run this cell to visualize decision boundary relative to this new data. What do you observe?\n"
   ]
  },
  {
   "cell_type": "code",
   "execution_count": null,
   "id": "P7l0x5jPZARj",
   "metadata": {
    "cellView": "form",
    "execution": {},
    "tags": [
     "hide-input"
    ]
   },
   "outputs": [],
   "source": [
    "#@markdown Run this cell to visualize decision boundary relative to this new data. What do you observe?\n",
    "from matplotlib.colors import ListedColormap\n",
    "colors = ['#FF0000', '#0000FF']\n",
    "cmap = ListedColormap(colors)\n",
    "# Compute the decision boundary\n",
    "w = logreg_model.coef_[0]\n",
    "a = -w[0] / w[1]\n",
    "xx = np.linspace(-3, 3)\n",
    "yy = a * xx - (logreg_model.intercept_[0]) / w[1]\n",
    "\n",
    "# Plot the data points with the decision boundary\n",
    "plt.subplot(1, 2, 2)\n",
    "plt.scatter(x_1_test2, x_2_test2, c=y_test2, cmap=cmap)\n",
    "plt.plot(xx, yy, 'k-', label='Decision boundary')\n",
    "plt.title('Logistic regression')\n",
    "plt.xlabel('x_1')\n",
    "plt.ylabel('x_2')\n",
    "plt.legend()\n",
    "\n",
    "plt.show()"
   ]
  },
  {
   "attachments": {},
   "cell_type": "markdown",
   "id": "48bbuvuv-V-Z",
   "metadata": {
    "execution": {}
   },
   "source": [
    "\n",
    "\n",
    "---\n",
    "\n",
    "\n",
    "# **Summary** \n",
    "\n",
    "This tutorial covers two important regression techniques: linear regression and logistic regression. These techniques are widely used in climate science to analyze and make predictions on data related to weather patterns, climate change, and the impact of climate on ecosystems.   \n",
    "Through generating synthetic datasets and fitting models, the tutorial provides an understanding of how these techniques can be used to analyze and make predictions on data.   \n",
    "It emphasizes the importance of being cautious in making assumptions about the usefulness of models trained on specific data and the need to test models on new data.   \n",
    "The takeaway for the audience is an understanding of the basics of linear and logistic regression and how to apply them to real-world data analysis problems.\n",
    "\n",
    "---\n",
    "\n"
   ]
  },
  {
   "attachments": {},
   "cell_type": "markdown",
   "id": "l6Go7CsMfoAC",
   "metadata": {
    "execution": {}
   },
   "source": [
    "\n",
    "\n",
    "<p align='right'><font color='008000'>Congratulations!</font> 🎉  You have reached the end of Tutorial 1!!</p>"
   ]
  }
 ],
 "metadata": {
  "colab": {
   "collapsed_sections": [],
   "include_colab_link": true,
   "name": "W2D5_Tutorial1",
   "provenance": [],
   "toc_visible": true
  },
  "kernel": {
   "display_name": "Python 3",
   "language": "python",
   "name": "python3"
  },
  "kernelspec": {
   "display_name": "Python 3 (pangeo)",
   "language": "python",
   "name": "pangeo"
  },
  "language_info": {
   "codemirror_mode": {
    "name": "ipython",
    "version": 3
   },
   "file_extension": ".py",
   "mimetype": "text/x-python",
   "name": "python",
   "nbconvert_exporter": "python",
   "pygments_lexer": "ipython3",
   "version": "3.10.12"
  }
 },
 "nbformat": 4,
 "nbformat_minor": 5
}