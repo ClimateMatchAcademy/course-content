{
 "cells": [
  {
   "attachments": {},
   "cell_type": "markdown",
   "metadata": {},
   "source": [
    "# W2D1 Tutorial 3: Extreme value analysis - the GEV distribution\n",
    "\n",
    "#### __Week 2, Day 4, Extremes & Vulnerability__\n",
    "##### __Content creators:__ Matthias Aengenheyster, Joeri Reinders\n",
    "##### __Content reviewers:__ TBD\n",
    "##### __Content editors:__ TBD\n",
    "##### __Production editors:__ TBD\n",
    "##### __Our 2023 Sponsors:__ TBD"
   ]
  },
  {
   "attachments": {},
   "cell_type": "markdown",
   "metadata": {},
   "source": [
    "## Tutorial Objectives:"
   ]
  },
  {
   "attachments": {},
   "cell_type": "markdown",
   "metadata": {},
   "source": [
    "In the previous tutorial we computed \"empirical return levels\". The second method to determine return values is by computing the probability of exceedence from a probability\n",
    "density function that has been fitted to the data. For example the normal distribution pdf that we created in\n",
    "tutorial 1. However we noticed that the normal distribution did not fit well to our precipitation data.\n",
    "\n",
    "By the end of the tutorial you will be able to:\n",
    "- Create the Quantile plot to assess how well a distribution fits the data\n",
    "- Fit a GEV distribution to the data\n",
    "- Understand how the parameters of the GEV distribution control its behavior."
   ]
  },
  {
   "attachments": {},
   "cell_type": "markdown",
   "metadata": {},
   "source": [
    "## Setup"
   ]
  },
  {
   "cell_type": "code",
   "execution_count": null,
   "metadata": {},
   "outputs": [],
   "source": [
    "# Installs"
   ]
  },
  {
   "cell_type": "code",
   "execution_count": null,
   "metadata": {
    "execution": {},
    "tags": [
     "colab"
    ]
   },
   "outputs": [],
   "source": [
    "#install dependencies - taken from <Yosmely Bermúdez> comments for Tutorial 6\n",
    "# We need this to install eigen which is needed for SDFC to install correctly\n",
    "# !pip install -q condacolab\n",
    "# import condacolab\n",
    "# condacolab.install()\n",
    "# !conda install eigen\n",
    "# !pip install -v https://github.com/yrobink/SDFC/archive/master.zip#subdirectory=python\n",
    "# !pip install https://github.com/njleach/mystatsfunctions/archive/master.zip\n",
    "# !pip install numpy\n",
    "# !pip install matplotlib\n",
    "# !pip install seaborn\n",
    "# !pip install pandas\n",
    "# !pip install cartopy\n",
    "# !pip install scipy\n",
    "# !pip install texttable"
   ]
  },
  {
   "cell_type": "code",
   "execution_count": null,
   "metadata": {
    "execution": {},
    "executionInfo": {
     "elapsed": 2336,
     "status": "ok",
     "timestamp": 1681923364409,
     "user": {
      "displayName": "Matthias Aengenheyster",
      "userId": "16322208118439170907"
     },
     "user_tz": -60
    }
   },
   "outputs": [],
   "source": [
    "import numpy as np\n",
    "import matplotlib.pyplot as plt\n",
    "import seaborn as sns\n",
    "import pandas as pd\n",
    "from scipy import stats\n",
    "gev = stats.genextreme"
   ]
  },
  {
   "cell_type": "code",
   "execution_count": null,
   "metadata": {
    "execution": {},
    "executionInfo": {
     "elapsed": 562,
     "status": "ok",
     "timestamp": 1681923408245,
     "user": {
      "displayName": "Matthias Aengenheyster",
      "userId": "16322208118439170907"
     },
     "user_tz": -60
    }
   },
   "outputs": [],
   "source": [
    "import extremes_functions as ef\n",
    "from mystatsfunctions import OLSE, LMoments\n",
    "import SDFC as sd"
   ]
  },
  {
   "attachments": {},
   "cell_type": "markdown",
   "metadata": {},
   "source": [
    "Lets repeat our first steps from tutorials 1 and 2: \n",
    "1) open the precipitation annual block maxima record, \n",
    "2) create a histogram of the data and plot the a normal distribution probability density function."
   ]
  },
  {
   "cell_type": "code",
   "execution_count": null,
   "metadata": {
    "execution": {},
    "executionInfo": {
     "elapsed": 331,
     "status": "ok",
     "timestamp": 1681923455336,
     "user": {
      "displayName": "Matthias Aengenheyster",
      "userId": "16322208118439170907"
     },
     "user_tz": -60
    }
   },
   "outputs": [],
   "source": [
    "import os, pooch\n",
    "\n",
    "fname = 'precipitationGermany_1920-2022.csv'\n",
    "if not os.path.exists(fname):\n",
    "    url = \"https://osf.io/xs7h6/download\"\n",
    "    fname = pooch.retrieve(url, known_hash=None)\n",
    "\n",
    "data = pd.read_csv(fname, index_col=0).set_index('years')\n",
    "data.columns=['precipitation']\n",
    "precipitation = data.precipitation"
   ]
  },
  {
   "cell_type": "code",
   "execution_count": null,
   "metadata": {
    "execution": {},
    "executionInfo": {
     "elapsed": 755,
     "status": "ok",
     "timestamp": 1681923459971,
     "user": {
      "displayName": "Matthias Aengenheyster",
      "userId": "16322208118439170907"
     },
     "user_tz": -60
    }
   },
   "outputs": [],
   "source": [
    "bins=np.arange(0,precipitation.max(),2)\n",
    "sns.histplot(precipitation,bins=bins,stat='density')\n",
    "plt.xlim(bins[0],bins[-1])\n",
    "\n",
    "ylim = plt.ylim()\n",
    "\n",
    "x = np.arange(0,100,1)\n",
    "plt.plot(x,stats.norm.pdf(x,precipitation.mean(),precipitation.std()),c='k',lw=3)"
   ]
  },
  {
   "attachments": {},
   "cell_type": "markdown",
   "metadata": {},
   "source": [
    "Next we create a Quantile plots (QQ plot) from where we judge the fit of the our data to a normal distribution. Recall from the lecture that a QQ plot plots the *actual* percentiles of the data against the *expected* percentiles assuming the distribution is e.g. a normal distribution."
   ]
  },
  {
   "cell_type": "code",
   "execution_count": null,
   "metadata": {
    "execution": {},
    "executionInfo": {
     "elapsed": 245,
     "status": "ok",
     "timestamp": 1681923461802,
     "user": {
      "displayName": "Matthias Aengenheyster",
      "userId": "16322208118439170907"
     },
     "user_tz": -60
    }
   },
   "outputs": [],
   "source": [
    "x = np.linspace(0,1,100)\n",
    "\n",
    "plt.plot(\n",
    "    stats.norm.ppf(x,precipitation.mean(), precipitation.std()),\n",
    "    np.quantile(precipitation,x),\n",
    "    'o')\n",
    "plt.plot([0,100],[0,100],'k')\n",
    "\n",
    "plt.xlim(10,72)\n",
    "plt.ylim(10,72)\n",
    "\n",
    "plt.xlabel('Normal Quantiles')\n",
    "plt.ylabel('Sample Quantiles')\n",
    "\n",
    "plt.grid(True)\n",
    "plt.gca().set_aspect('equal')"
   ]
  },
  {
   "attachments": {},
   "cell_type": "markdown",
   "metadata": {
    "execution": {}
   },
   "source": [
    "Hopefully you agree with me that the fit can be better. Especially the extreme values seem to be under- \n",
    "and overestimated by the normal distribution model.So let’s try something new... because there are many other \n",
    "distributions. For example the General Extreme Value distribution.\n",
    "\n",
    "The GEV distribution has three parameters that define its shape: the location, scale and shape parameter. \n",
    "Just to give you some context, the normal distribution only has two parameters: the mean and the standard \n",
    "deviation. If you increase the mean the distribution will shift to higher values, and if you increase the \n",
    "standard deviation the distribution will become wider. The normal distribution therefore is symmetrical as \n",
    "there is no parameter that affects its skew – this often makes the normal distribution problematic to use. \n",
    "\n",
    "In the GEV distribution the location and scale parameter behave similar to the mean and standard deviation\n",
    "in the normal distribution. The shape-parameter affects the tails of the distribution by making them thinner \n",
    "or thicker. Extreme event distributions often have thick tails meaning that they are slightly skewed. Adjusting\n",
    "the shape-parameter, thus affects the skew (and kurtosis) of your data.\n",
    "\n",
    "To fit the parameters of the GEV distribution we use the SDFC package. The normal distribution has the parameters mean and standard deviation. In contrast, the the GEV \n",
    "distribution has three parameters (location,scale,shape) – these also depend on each other so they cannot be estimated individually.\n",
    "Fitting the parameters to the data is done by the package."
   ]
  },
  {
   "cell_type": "code",
   "execution_count": null,
   "metadata": {
    "execution": {},
    "executionInfo": {
     "elapsed": 170,
     "status": "ok",
     "timestamp": 1681923489030,
     "user": {
      "displayName": "Matthias Aengenheyster",
      "userId": "16322208118439170907"
     },
     "user_tz": -60
    }
   },
   "outputs": [],
   "source": [
    "fit, model = ef.fit_return_levels_sdfc(precipitation.values,times=np.arange(1.1,1000),periods_per_year=1,kind='GEV',N_boot=10,full=True,model=True)"
   ]
  },
  {
   "attachments": {},
   "cell_type": "markdown",
   "metadata": {},
   "source": [
    "The fit functions returns two objects, here called \"fit\" and \"model\". \"fit\" is a data container (an xarray.Dataset) that contains the results of the fitting procedure: the return periods, bootstrapping samples, empirical return periods and levels (called return_period_obs and return_level_obs), and fitting estimates for the GEV parameters and return levels.\n",
    "\n",
    "\"model\" is a Class, that allows us the access various pieces of information. Just running it prints a neat description of the result of the fitting procedure:"
   ]
  },
  {
   "cell_type": "code",
   "execution_count": null,
   "metadata": {
    "execution": {},
    "executionInfo": {
     "elapsed": 275,
     "status": "ok",
     "timestamp": 1681923490675,
     "user": {
      "displayName": "Matthias Aengenheyster",
      "userId": "16322208118439170907"
     },
     "user_tz": -60
    }
   },
   "outputs": [],
   "source": [
    "fit"
   ]
  },
  {
   "cell_type": "code",
   "execution_count": null,
   "metadata": {
    "execution": {},
    "executionInfo": {
     "elapsed": 198,
     "status": "ok",
     "timestamp": 1681923491468,
     "user": {
      "displayName": "Matthias Aengenheyster",
      "userId": "16322208118439170907"
     },
     "user_tz": -60
    }
   },
   "outputs": [],
   "source": [
    "model"
   ]
  },
  {
   "attachments": {},
   "cell_type": "markdown",
   "metadata": {},
   "source": [
    "Let's plot again the histogram of the data, and on top the GEV distribution with the fitted parameters:"
   ]
  },
  {
   "cell_type": "code",
   "execution_count": null,
   "metadata": {},
   "outputs": [],
   "source": [
    "bins=np.arange(0,precipitation.max(),2)\n",
    "sns.histplot(precipitation,bins=bins,stat='density')\n",
    "plt.xlim(bins[0],bins[-1])\n",
    "\n",
    "\n",
    "x = np.arange(80)\n",
    "plt.plot(x,gev.pdf(x, -fit.xi.mean().values, loc=fit.mu.mean().values, scale=fit.sigma.mean().values),'k',lw=3)"
   ]
  },
  {
   "attachments": {},
   "cell_type": "markdown",
   "metadata": {},
   "source": [
    "And also create a QQ-plot:"
   ]
  },
  {
   "cell_type": "code",
   "execution_count": null,
   "metadata": {
    "execution": {},
    "executionInfo": {
     "elapsed": 480,
     "status": "ok",
     "timestamp": 1681923514940,
     "user": {
      "displayName": "Matthias Aengenheyster",
      "userId": "16322208118439170907"
     },
     "user_tz": -60
    }
   },
   "outputs": [],
   "source": [
    "x = np.linspace(0,1,100)\n",
    "\n",
    "plt.plot(\n",
    "    gev.ppf(x, -fit.xi.mean().values, loc=fit.mu.mean().values, scale=fit.sigma.mean().values), \n",
    "    np.quantile(precipitation,x),'o')\n",
    "\n",
    "plt.plot([0,100],[0,100],'k')\n",
    "\n",
    "plt.xlim(10,72)\n",
    "plt.ylim(10,72)\n",
    "\n",
    "plt.xlabel('GEV Quantiles')\n",
    "plt.ylabel('Sample Quantiles')\n",
    "\n",
    "plt.grid(True)\n",
    "plt.gca().set_aspect('equal')"
   ]
  },
  {
   "attachments": {},
   "cell_type": "markdown",
   "metadata": {},
   "source": [
    "This looks much better! Apparently the GEV distribution is a better fit for the data than the Normal distribution"
   ]
  },
  {
   "attachments": {},
   "cell_type": "markdown",
   "metadata": {
    "execution": {}
   },
   "source": [
    "Now create a plot with two panels each one showing a QQplot (one of the normal distribution fit, one of the GEV \n",
    "distribution fit). Similarly create a plot with two panels that show the histogram and pdf (again one with the normal \n",
    "distribution pdf and one with the GEV distribution pdf). \n",
    "\n",
    "Finally, plot both pdf's (normal and GEV) over each other so you can see the differences between them."
   ]
  },
  {
   "cell_type": "code",
   "execution_count": null,
   "metadata": {
    "execution": {},
    "executionInfo": {
     "elapsed": 1173,
     "status": "ok",
     "timestamp": 1681923518659,
     "user": {
      "displayName": "Matthias Aengenheyster",
      "userId": "16322208118439170907"
     },
     "user_tz": -60
    }
   },
   "outputs": [],
   "source": [
    "fig, ax = plt.subplots(1,2,sharey=True,sharex=True,constrained_layout=True)\n",
    "\n",
    "x = np.linspace(0,1,100)\n",
    "\n",
    "# Normal\n",
    "ax[0].plot(\n",
    "    stats.norm.ppf(x,precipitation.mean(), precipitation.std()),\n",
    "    np.quantile(precipitation,x),\n",
    "    'o')\n",
    "ax[0].plot([0,100],[0,100],'k')\n",
    "\n",
    "ax[0].set_xlabel('Standard Normal Quantiles')\n",
    "ax[0].set_ylabel('Sample Quantiles')\n",
    "\n",
    "ax[0].grid(True)\n",
    "\n",
    "# GEV\n",
    "ax[1].plot(\n",
    "    gev.ppf(x, -fit.xi.mean().values, loc=fit.mu.mean().values, scale=fit.sigma.mean().values), \n",
    "    np.quantile(precipitation,x),\n",
    "    'o')\n",
    "\n",
    "ax[1].plot([0,100],[0,100],'k')\n",
    "\n",
    "ax[1].set_xlim(10,72)\n",
    "ax[1].set_ylim(10,72)\n",
    "\n",
    "ax[0].set_aspect('equal')\n",
    "ax[1].set_aspect('equal')\n",
    "\n",
    "ax[1].grid(True)\n",
    "ax[1].set_xlabel('GEV quantiles')\n",
    "\n",
    "ax[0].set_title('Normal distribution fit')\n",
    "ax[1].set_title('GEV distribution fit')"
   ]
  },
  {
   "cell_type": "code",
   "execution_count": null,
   "metadata": {
    "execution": {},
    "executionInfo": {
     "elapsed": 1503,
     "status": "ok",
     "timestamp": 1681923520632,
     "user": {
      "displayName": "Matthias Aengenheyster",
      "userId": "16322208118439170907"
     },
     "user_tz": -60
    }
   },
   "outputs": [],
   "source": [
    "fig, ax = plt.subplots(1,2,sharex=True,sharey=True,constrained_layout=True)\n",
    "sns.histplot(precipitation,ax=ax[0],bins=np.arange(0,80,2),stat='density')\n",
    "sns.histplot(precipitation,ax=ax[1],bins=np.arange(0,80,2),stat='density')\n",
    "\n",
    "x = np.arange(0,100,1)\n",
    "ax[0].plot(x,stats.norm.pdf(x,precipitation.mean(),precipitation.std()),c='k',lw=3)\n",
    "ax[1].plot(x,gev.pdf(x, -fit.xi.mean().values, loc=fit.mu.mean().values, scale=fit.sigma.mean().values),c='k',lw=3)\n",
    "\n",
    "\n",
    "ax[0].set_title('Normal')\n",
    "ax[1].set_title('GEV')"
   ]
  },
  {
   "cell_type": "code",
   "execution_count": null,
   "metadata": {
    "execution": {},
    "executionInfo": {
     "elapsed": 671,
     "status": "ok",
     "timestamp": 1681923521300,
     "user": {
      "displayName": "Matthias Aengenheyster",
      "userId": "16322208118439170907"
     },
     "user_tz": -60
    }
   },
   "outputs": [],
   "source": [
    "plt.plot(x,stats.norm.pdf(x,precipitation.mean(),precipitation.std()),c='C3',lw=3,label='Normal')\n",
    "plt.plot(x,gev.pdf(x, -fit.xi.mean().values, loc=fit.mu.mean().values, scale=fit.sigma.mean().values),c='k',lw=3,label='GEV')\n",
    "plt.legend()\n",
    "plt.xlabel('precipitation (mm/day)')\n",
    "plt.ylabel('Density')"
   ]
  },
  {
   "attachments": {},
   "cell_type": "markdown",
   "metadata": {
    "execution": {}
   },
   "source": [
    "How well do the two fitted distributions reflect the observed data and how do they compare to each other? "
   ]
  },
  {
   "attachments": {},
   "cell_type": "markdown",
   "metadata": {},
   "source": [
    "## Coding excercise: Parameters of the GEV distribution\n",
    "\n",
    "Play a little with the gev.pdf function to get a better sense of how the parameters affect the shape of the pdf (distribution). Plot the distribution against the\n",
    "‘x’ sequence and randomly change the parameters. What does each parameter do? \n",
    "\n",
    "Create three plots. In each, one of the parameters (location, scale, shape) is varied while the other two are held constant. The parameter values and ranges below may be a useful starting point."
   ]
  },
  {
   "cell_type": "code",
   "execution_count": null,
   "metadata": {
    "execution": {},
    "executionInfo": {
     "elapsed": 23,
     "status": "ok",
     "timestamp": 1681923521300,
     "user": {
      "displayName": "Matthias Aengenheyster",
      "userId": "16322208118439170907"
     },
     "user_tz": -60
    }
   },
   "outputs": [],
   "source": [
    "loc = 26\n",
    "scale = 7\n",
    "shape = 0\n",
    "\n",
    "range_loc = np.arange(20,40,4)\n",
    "range_scale = np.arange(4,10,1)\n",
    "range_shape = np.arange(-0.4,0.4+0.1,0.1)\n",
    "\n",
    "# useful variable range for the chosen parameters\n",
    "x = np.linspace(0,80,1000)\n"
   ]
  },
  {
   "attachments": {},
   "cell_type": "markdown",
   "metadata": {},
   "source": [
    "### student"
   ]
  },
  {
   "cell_type": "code",
   "execution_count": null,
   "metadata": {},
   "outputs": [],
   "source": [
    "..."
   ]
  },
  {
   "attachments": {},
   "cell_type": "markdown",
   "metadata": {},
   "source": [
    "### solution"
   ]
  },
  {
   "cell_type": "code",
   "execution_count": null,
   "metadata": {
    "execution": {},
    "executionInfo": {
     "elapsed": 887,
     "status": "ok",
     "timestamp": 1681923522185,
     "user": {
      "displayName": "Matthias Aengenheyster",
      "userId": "16322208118439170907"
     },
     "user_tz": -60
    }
   },
   "outputs": [],
   "source": [
    "fig, ax = plt.subplots()\n",
    "x = np.linspace(0,80,1000)\n",
    "colors = plt.cm.viridis(np.linspace(0,1,range_loc.size))\n",
    "i = 0\n",
    "for loci in range_loc:\n",
    "    p = plt.plot(x,gev.pdf(x, -shape, loc=loci, scale=scale),color=colors[i],label='loc = %i' % loci)\n",
    "    i += 1\n",
    "plt.legend()\n",
    "\n",
    "plt.xlabel('precipitation (mm/day)')\n",
    "plt.ylabel('Density')"
   ]
  },
  {
   "cell_type": "code",
   "execution_count": null,
   "metadata": {
    "execution": {},
    "executionInfo": {
     "elapsed": 1053,
     "status": "ok",
     "timestamp": 1681923523786,
     "user": {
      "displayName": "Matthias Aengenheyster",
      "userId": "16322208118439170907"
     },
     "user_tz": -60
    }
   },
   "outputs": [],
   "source": [
    "fig, ax = plt.subplots()\n",
    "x = np.linspace(0,80,1000)\n",
    "colors = plt.cm.viridis(np.linspace(0,1,range_scale.size))\n",
    "i = 0\n",
    "for scalei in range_scale:\n",
    "    plt.plot(x,gev.pdf(x, -shape, loc=loc, scale=scalei),color=colors[i],label='scale = %.2f' % scalei)\n",
    "    i += 1\n",
    "plt.legend()\n",
    "\n",
    "plt.xlabel('precipitation (mm/day)')\n",
    "plt.ylabel('Density')"
   ]
  },
  {
   "cell_type": "code",
   "execution_count": null,
   "metadata": {
    "execution": {},
    "executionInfo": {
     "elapsed": 5,
     "status": "ok",
     "timestamp": 1681923523786,
     "user": {
      "displayName": "Matthias Aengenheyster",
      "userId": "16322208118439170907"
     },
     "user_tz": -60
    }
   },
   "outputs": [],
   "source": [
    "fig, ax = plt.subplots()\n",
    "x = np.linspace(0,80,1000)\n",
    "colors=plt.cm.viridis(np.linspace(0,1,range_shape.size))\n",
    "i = 0\n",
    "for shapei in range_shape:\n",
    "    plt.plot(x,gev.pdf(x, -shapei, loc=loc, scale=scale),color=colors[i],label='shape = %.2f' % shapei)\n",
    "    i += 1\n",
    "plt.legend()\n",
    "\n",
    "plt.xlabel('precipitation (mm/day)')\n",
    "plt.ylabel('Density')"
   ]
  },
  {
   "attachments": {},
   "cell_type": "markdown",
   "metadata": {},
   "source": [
    "## Question: How do the three parameters impact the shape of the distribution? What can you think of how these parameters affect extreme events?"
   ]
  }
 ],
 "metadata": {
  "colab": {
   "collapsed_sections": [],
   "include_colab_link": true,
   "name": "W2D4_Tutorial3",
   "provenance": [],
   "toc_visible": true
  },
  "kernel": {
   "display_name": "Python 3",
   "language": "python",
   "name": "python3"
  },
  "kernelspec": {
   "display_name": "science39",
   "language": "python",
   "name": "python3"
  },
  "language_info": {
   "codemirror_mode": {
    "name": "ipython",
    "version": 3
   },
   "file_extension": ".py",
   "mimetype": "text/x-python",
   "name": "python",
   "nbconvert_exporter": "python",
   "pygments_lexer": "ipython3",
   "version": "3.9.13"
  }
 },
 "nbformat": 4,
 "nbformat_minor": 0
}
