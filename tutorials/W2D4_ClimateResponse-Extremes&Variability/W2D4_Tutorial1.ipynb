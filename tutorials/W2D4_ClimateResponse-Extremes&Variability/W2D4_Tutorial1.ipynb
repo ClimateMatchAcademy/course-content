{
 "cells": [
  {
   "cell_type": "markdown",
   "metadata": {},
   "source": [
    "# **Tutorial 1: Distributions**\n",
    "\n",
    "**Week 2, Day 4, Extremes & Vulnerability**\n",
    "\n",
    "**Content creators:** Matthias Aengenheyster, Joeri Reinders\n",
    "\n",
    "**Content reviewers:** Younkap Nina Duplex, Sloane Garelick, Zahra Khodakaramimaghsoud, Peter Ohue, Laura Paccini, Jenna Pearson, Agustina Pesce, Derick Temfack, Peizhen Yang, Cheng Zhang, Chi Zhang, Ohad Zivan\n",
    "\n",
    "**Content editors:** Jenna Pearson, Chi Zhang, Ohad Zivan\n",
    "\n",
    "**Production editors:** Wesley Banfield, Jenna Pearson, Chi Zhang, Ohad Zivan\n",
    "\n",
    "**Our 2023 Sponsors:** NASA TOPS"
   ]
  },
  {
   "cell_type": "markdown",
   "metadata": {},
   "source": [
    "# **Tutorial Objectives**"
   ]
  },
  {
   "cell_type": "markdown",
   "metadata": {},
   "source": [
    "In this initial tutorial, your focus will be on examining the distribution of annual extreme precipitation levels in Germany. Your objective is to explore various aspects of the distribution, including the mean, variance, and skewness. By the end of this tutorial, you will be able to:\n",
    "\n",
    "- Visualize an observational record as both a timeseries and a distribution.\n",
    "- Compute the *moments* of a record.\n",
    "- Generate and plot a distribution with predefined *moments*."
   ]
  },
  {
   "cell_type": "markdown",
   "metadata": {},
   "source": [
    "# **Setup**"
   ]
  },
  {
   "cell_type": "code",
   "execution_count": null,
   "metadata": {},
   "outputs": [],
   "source": [
    "# imports\n",
    "import numpy as np\n",
    "import matplotlib.pyplot as plt\n",
    "import seaborn as sns\n",
    "import pandas as pd\n",
    "import os\n",
    "import pooch\n",
    "from scipy import stats"
   ]
  },
  {
   "cell_type": "code",
   "execution_count": null,
   "metadata": {},
   "outputs": [],
   "source": [
    "# @title Figure Settings\n",
    "import ipywidgets as widgets       # interactive display\n",
    "%config InlineBackend.figure_format = 'retina'\n",
    "plt.style.use(\"https://raw.githubusercontent.com/ClimateMatchAcademy/course-content/main/cma.mplstyle\")"
   ]
  },
  {
   "cell_type": "code",
   "execution_count": null,
   "metadata": {},
   "outputs": [],
   "source": [
    "# @title Video 1: Speaker Introduction\n",
    "#Tech team will add code to format and display the video"
   ]
  },
  {
   "cell_type": "markdown",
   "metadata": {},
   "source": [
    "# **Section 1: Inspect a Precipitation Record and Plot it Over Time**"
   ]
  },
  {
   "cell_type": "markdown",
   "metadata": {},
   "source": [
    "The precipication files we will be using are from LINK. This data is the annual average extreme precipitation over the entirety of Germany, where an extreme value is recorded when XXXX. Jenna: WHAT DEFINES EXTREME HERE?\n",
    "\n",
    "First, let us download the precipitation files:"
   ]
  },
  {
   "cell_type": "code",
   "execution_count": null,
   "metadata": {
    "execution": {}
   },
   "outputs": [],
   "source": [
    "# download file: 'precipitationGermany_1920-2022.csv'\n",
    "url_precipitationGermany = \"https://osf.io/xs7h6/download\"\n",
    "\n",
    "\n",
    "data = pd.read_csv(pooch.retrieve(url_precipitationGermany, known_hash=None),\n",
    "                   index_col=0).set_index('years')\n",
    "data.columns=['precipitation']\n",
    "precipitation = data.precipitation"
   ]
  },
  {
   "cell_type": "code",
   "execution_count": null,
   "metadata": {
    "execution": {}
   },
   "outputs": [],
   "source": [
    "precipitation"
   ]
  },
  {
   "cell_type": "markdown",
   "metadata": {},
   "source": [
    "Now we can plot a time series of the data from 1920-2022."
   ]
  },
  {
   "cell_type": "code",
   "execution_count": null,
   "metadata": {
    "execution": {}
   },
   "outputs": [],
   "source": [
    "precipitation.plot()#(x='years',y='rr')\n",
    "plt.ylabel('Annual Mean Extreme Precipitation')"
   ]
  },
  {
   "cell_type": "markdown",
   "metadata": {
    "execution": {}
   },
   "source": [
    "To make this dataset more interperatable, we can plot a histrogram of the data. Recall that we can make a histogram of this data by plotting the y-axis from the previous figure on the x-axis of this new figure versus the count of how many data points fall within a 'bin' on the x-axis. "
   ]
  },
  {
   "cell_type": "code",
   "execution_count": null,
   "metadata": {
    "execution": {}
   },
   "outputs": [],
   "source": [
    "# create the bins (x axis) for the data\n",
    "bins=np.arange(0,precipitation.max(),2)\n",
    "\n",
    "# make the histogram\n",
    "sns.histplot(precipitation,bins=bins)\n",
    "\n",
    "# set limits and labels\n",
    "plt.xlim(bins[0],bins[-1])\n",
    "plt.xlabel('Annual Mean Extreme Precipitation')"
   ]
  },
  {
   "cell_type": "markdown",
   "metadata": {
    "execution": {}
   },
   "source": [
    "Next let's calculate the moments of our dataset. A [moment](https://glossary.ametsoc.org/wiki/Moment) helps us define the center of mass ([mean](https://glossary.ametsoc.org/wiki/Expected_value)), scale ([variance](https://glossary.ametsoc.org/wiki/Variance)), and shape ([skewness](https://glossary.ametsoc.org/wiki/Skewness) and [kurtosis](https://glossary.ametsoc.org/wiki/Kurtosis)) of a distribution. The scale is how the data is stretched or compressed along the x-axis, while the shape parameters help us answer questions about the geometry of the distribution, such as does data lie more frequently to one side of the mean than the other or are our tails 'heavy' (i.e. larger chance of getting extreme values).\n",
    "\n",
    "Let's compute the mean, the variance and the [standard deviation](https://glossary.ametsoc.org/wiki/Standard_deviation) of your precipitation data. Plot the mean as a vertical line on the histogram."
   ]
  },
  {
   "cell_type": "code",
   "execution_count": 1,
   "metadata": {
    "execution": {}
   },
   "outputs": [
    {
     "ename": "NameError",
     "evalue": "name 'precipitation' is not defined",
     "output_type": "error",
     "traceback": [
      "\u001b[0;31m---------------------------------------------------------------------------\u001b[0m",
      "\u001b[0;31mNameError\u001b[0m                                 Traceback (most recent call last)",
      "\u001b[0;32m<ipython-input-1-d859294bf2e5>\u001b[0m in \u001b[0;36m<module>\u001b[0;34m\u001b[0m\n\u001b[0;32m----> 1\u001b[0;31m \u001b[0mmean_pr\u001b[0m \u001b[0;34m=\u001b[0m \u001b[0mprecipitation\u001b[0m\u001b[0;34m.\u001b[0m\u001b[0mmean\u001b[0m\u001b[0;34m(\u001b[0m\u001b[0;34m)\u001b[0m\u001b[0;34m\u001b[0m\u001b[0;34m\u001b[0m\u001b[0m\n\u001b[0m\u001b[1;32m      2\u001b[0m \u001b[0mvar_pr\u001b[0m \u001b[0;34m=\u001b[0m \u001b[0mprecipitation\u001b[0m\u001b[0;34m.\u001b[0m\u001b[0mvar\u001b[0m\u001b[0;34m(\u001b[0m\u001b[0;34m)\u001b[0m\u001b[0;34m\u001b[0m\u001b[0;34m\u001b[0m\u001b[0m\n\u001b[1;32m      3\u001b[0m \u001b[0mstd_pr\u001b[0m \u001b[0;34m=\u001b[0m \u001b[0mprecipitation\u001b[0m\u001b[0;34m.\u001b[0m\u001b[0mstd\u001b[0m\u001b[0;34m(\u001b[0m\u001b[0;34m)\u001b[0m\u001b[0;34m\u001b[0m\u001b[0;34m\u001b[0m\u001b[0m\n",
      "\u001b[0;31mNameError\u001b[0m: name 'precipitation' is not defined"
     ]
    }
   ],
   "source": [
    "# mean\n",
    "mean_pr = precipitation.mean()\n",
    "\n",
    "# variance\n",
    "var_pr = precipitation.var()\n",
    "\n",
    "# standard deviation\n",
    "std_pr = precipitation.std()"
   ]
  },
  {
   "cell_type": "code",
   "execution_count": null,
   "metadata": {
    "execution": {}
   },
   "outputs": [],
   "source": [
    "mean_pr, var_pr, std_pr"
   ]
  },
  {
   "cell_type": "code",
   "execution_count": null,
   "metadata": {
    "execution": {}
   },
   "outputs": [],
   "source": [
    "# re-plot histogram from above\n",
    "bins=np.arange(0,precipitation.max(),2)\n",
    "sns.histplot(precipitation,bins=bins)\n",
    "plt.xlim(bins[0],bins[-1])\n",
    "\n",
    "ylim = plt.ylim()\n",
    "\n",
    "# add in vertical line at mean\n",
    "plt.vlines(mean_pr,ymin=ylim[0],ymax=ylim[1],color='C3',lw=3,label='mean')\n",
    "plt.xlabel('Annual Mean Extreme Precipitation')\n",
    "plt.legend()"
   ]
  },
  {
   "cell_type": "markdown",
   "metadata": {
    "execution": {}
   },
   "source": [
    "As you can observe, the range of values on either side of the mean-line you added earlier is unequal, indicating a potential skewed distribution. To assess the extent of the potential [skewness](https://glossary.ametsoc.org/wiki/Skewness), we will use the [`.skew()`](https://pandas.pydata.org/docs/reference/api/pandas.DataFrame.skew.html#pandas-dataframe-skew) function. We will also generate a set of 100 random values from a normal distribution (mean = 0, standard deviation = 1) and compare its skewness to that of the precipitation data.\n"
   ]
  },
  {
   "cell_type": "code",
   "execution_count": null,
   "metadata": {
    "execution": {}
   },
   "outputs": [],
   "source": [
    "# calculate the skewness of our precip data\n",
    "precipitation.skew()"
   ]
  },
  {
   "cell_type": "code",
   "execution_count": null,
   "metadata": {
    "execution": {}
   },
   "outputs": [],
   "source": [
    "# generate data following an normal distribution (mean = 0, standard deviation = 1)\n",
    "normal_data = np.random.normal(0,1,size=data.index.size)"
   ]
  },
  {
   "cell_type": "code",
   "execution_count": null,
   "metadata": {
    "execution": {}
   },
   "outputs": [],
   "source": [
    "# calculate the skewness of a normal distribution\n",
    "normal_data.skew()"
   ]
  },
  {
   "cell_type": "markdown",
   "metadata": {
    "execution": {}
   },
   "source": [
    "Note that a higher positive value of skewness means the tail on the right is longer/heavier and extends more towards the positive values and vice versa for larger negative skewness. A dataset with no skewness would be 0 (as in the normal distribution case).\n",
    "\n",
    "By comparing the precipitation data to the skewness of the normal distribution, we can see that our data is positively skewed, meaning that the right tail of the distribution contains more data than the left. This is in keeping with our finding from the histogram.\n",
    "\n",
    "To delve deeper into this observation, let's try fiting a normal distribution to our precipitation data. This entails computing the mean and standard deviation of the 'precipitation' variable, which serve as the two parameters for a normal distribution. \n",
    "\n",
    "By utilizing the `scipy` function `norm.pdf`, we can generate a probability density function (pdf) that accompanies our histogram. The pdf provides insight into the probability of encountering various levels of precipitation based on the available data. As expected, the mean value exhibits the highest probability."
   ]
  },
  {
   "cell_type": "code",
   "execution_count": 2,
   "metadata": {
    "execution": {}
   },
   "outputs": [
    {
     "ename": "NameError",
     "evalue": "name 'np' is not defined",
     "output_type": "error",
     "traceback": [
      "\u001b[0;31m---------------------------------------------------------------------------\u001b[0m",
      "\u001b[0;31mNameError\u001b[0m                                 Traceback (most recent call last)",
      "\u001b[0;32m<ipython-input-2-b954d9d3eb30>\u001b[0m in \u001b[0;36m<module>\u001b[0;34m\u001b[0m\n\u001b[0;32m----> 1\u001b[0;31m \u001b[0mbins\u001b[0m\u001b[0;34m=\u001b[0m\u001b[0mnp\u001b[0m\u001b[0;34m.\u001b[0m\u001b[0marange\u001b[0m\u001b[0;34m(\u001b[0m\u001b[0;36m0\u001b[0m\u001b[0;34m,\u001b[0m\u001b[0mprecipitation\u001b[0m\u001b[0;34m.\u001b[0m\u001b[0mmax\u001b[0m\u001b[0;34m(\u001b[0m\u001b[0;34m)\u001b[0m\u001b[0;34m,\u001b[0m\u001b[0;36m2\u001b[0m\u001b[0;34m)\u001b[0m\u001b[0;34m\u001b[0m\u001b[0;34m\u001b[0m\u001b[0m\n\u001b[0m\u001b[1;32m      2\u001b[0m \u001b[0msns\u001b[0m\u001b[0;34m.\u001b[0m\u001b[0mhistplot\u001b[0m\u001b[0;34m(\u001b[0m\u001b[0mprecipitation\u001b[0m\u001b[0;34m,\u001b[0m\u001b[0mbins\u001b[0m\u001b[0;34m=\u001b[0m\u001b[0mbins\u001b[0m\u001b[0;34m,\u001b[0m\u001b[0mstat\u001b[0m\u001b[0;34m=\u001b[0m\u001b[0;34m'density'\u001b[0m\u001b[0;34m)\u001b[0m\u001b[0;34m\u001b[0m\u001b[0;34m\u001b[0m\u001b[0m\n\u001b[1;32m      3\u001b[0m \u001b[0mplt\u001b[0m\u001b[0;34m.\u001b[0m\u001b[0mxlim\u001b[0m\u001b[0;34m(\u001b[0m\u001b[0mbins\u001b[0m\u001b[0;34m[\u001b[0m\u001b[0;36m0\u001b[0m\u001b[0;34m]\u001b[0m\u001b[0;34m,\u001b[0m\u001b[0mbins\u001b[0m\u001b[0;34m[\u001b[0m\u001b[0;34m-\u001b[0m\u001b[0;36m1\u001b[0m\u001b[0;34m]\u001b[0m\u001b[0;34m)\u001b[0m\u001b[0;34m\u001b[0m\u001b[0;34m\u001b[0m\u001b[0m\n\u001b[1;32m      4\u001b[0m \u001b[0;34m\u001b[0m\u001b[0m\n\u001b[1;32m      5\u001b[0m \u001b[0mylim\u001b[0m \u001b[0;34m=\u001b[0m \u001b[0mplt\u001b[0m\u001b[0;34m.\u001b[0m\u001b[0mylim\u001b[0m\u001b[0;34m(\u001b[0m\u001b[0;34m)\u001b[0m\u001b[0;34m\u001b[0m\u001b[0;34m\u001b[0m\u001b[0m\n",
      "\u001b[0;31mNameError\u001b[0m: name 'np' is not defined"
     ]
    }
   ],
   "source": [
    "bins=np.arange(0,precipitation.max(),2)\n",
    "sns.histplot(precipitation,bins=bins,stat='density')\n",
    "plt.xlim(bins[0],bins[-1])\n",
    "\n",
    "ylim = plt.ylim()\n",
    "\n",
    "plt.vlines(mean_pr,ymin=ylim[0],ymax=ylim[1],color='C3',lw=3)\n",
    "\n",
    "x = np.arange(0,100,1)\n",
    "plt.plot(x,stats.norm.pdf(x,mean_pr,std_pr),c='k',lw=3)"
   ]
  },
  {
   "cell_type": "markdown",
   "metadata": {
    "execution": {}
   },
   "source": [
    "## Coding Exercises 1\n",
    "\n",
    "Add uncertainty bands to the distribution.\n",
    "\n",
    "1. Create 1000 records of 100 samples each that are drawn from a normal distribution with the mean and standard deviation of the precipitation record.\n",
    "2. Compute the 5-th and 95-th percentiles across the 1000-member ensemble and add them to the figure above to get an idea of the uncertainty."
   ]
  },
  {
   "cell_type": "markdown",
   "metadata": {},
   "source": [
    "Hint: you can use the function `np.random.normal` to draw from a normal distribution. Call `np.random.normal` or `help(np.random.normal)` to understand how to use it. `np.quantile` is useful for computing quantiles. "
   ]
  },
  {
   "cell_type": "code",
   "execution_count": null,
   "metadata": {},
   "outputs": [],
   "source": [
    "#################################################\n",
    "# Students: Fill in missing code (...) and comment or remove the next line\n",
    "raise NotImplementedError(\"Student exercise: Create 1000 records of 100 samples each that are drawn from a normal distribution with the mean and standard deviation of the precipitation record.\")\n",
    "#################################################\n",
    "\n",
    "# take 1000 records of 100 samples\n",
    "random_samples = np.random.normal(mean_pr,std_pr,size=[...])\n",
    "\n",
    "# create placeholder for pdfs\n",
    "pdfs = np.zeros([x.size,1000])\n",
    "\n",
    "# loop through all 1000 records and create a pdf of each sample\n",
    "for i in range(1000):\n",
    "    # find pdfs\n",
    "    pdfi = stats.norm.pdf(...)\n",
    "    \n",
    "    # add to array\n",
    "    pdfs[:,i] = ..."
   ]
  },
  {
   "cell_type": "code",
   "execution_count": 37,
   "metadata": {},
   "outputs": [
    {
     "data": {
      "text/plain": [
       "array([[9.51743358e-04, 4.68089739e-04, 4.82485828e-04, ...,\n",
       "        3.41810148e-04, 5.59788229e-04, 1.72059918e-04],\n",
       "       [1.20808347e-03, 6.25117306e-04, 6.45803296e-04, ...,\n",
       "        4.59268790e-04, 7.23277131e-04, 2.47670922e-04],\n",
       "       [1.52109150e-03, 8.26714361e-04, 8.55833999e-04, ...,\n",
       "        6.11248130e-04, 9.26940176e-04, 3.52130226e-04],\n",
       "       ...,\n",
       "       [4.39001993e-10, 1.32582168e-11, 6.62831035e-12, ...,\n",
       "        5.51405314e-11, 1.22454513e-09, 3.90621564e-14],\n",
       "       [2.53939603e-10, 6.87050439e-12, 3.37563858e-12, ...,\n",
       "        2.94448864e-11, 7.18551304e-10, 1.69570421e-14],\n",
       "       [1.45705413e-10, 3.52576763e-12, 1.70209043e-12, ...,\n",
       "        1.55746196e-11, 4.18221899e-10, 7.27071221e-15]])"
      ]
     },
     "execution_count": 37,
     "metadata": {},
     "output_type": "execute_result"
    }
   ],
   "source": [
    "# to_remove solution\n",
    "\n",
    "# take 1000 records of 100 samples\n",
    "random_samples = np.random.normal(mean_pr,std_pr,size=[100,1000])\n",
    "\n",
    "# create placeholder for pdfs\n",
    "pdfs = np.zeros([x.size,1000])\n",
    "\n",
    "# loop through all 1000 records and create a pdf of each sample\n",
    "for i in range(1000):\n",
    "    # find pdfs\n",
    "    pdfi = stats.norm.pdf(x,random_samples[:,i].mean(),random_samples[:,i].std())\n",
    "    \n",
    "    # add to array\n",
    "    pdfs[:,i] = pdfi"
   ]
  },
  {
   "cell_type": "code",
   "execution_count": null,
   "metadata": {},
   "outputs": [],
   "source": [
    "#################################################\n",
    "# Students: Fill in missing code (...) and comment or remove the next line\n",
    "raise NotImplementedError(\"Student exercise: Compute the 5-th and 95-th percentiles across the 1000-member ensemble and add them to the figure above to get an idea of the uncertainty.\")\n",
    "#################################################\n",
    "\n",
    "# generate bins\n",
    "...\n",
    "\n",
    "# make histogram\n",
    "...\n",
    "\n",
    "# set x limits\n",
    "...\n",
    "\n",
    "# get y lims for plotting mean line\n",
    "...\n",
    "\n",
    "# add vertical line with mean\n",
    "...\n",
    "# generate an x axis for the pdf\n",
    "x = ...\n",
    "\n",
    "# plot pdf\n",
    "plt.plot(...)\n",
    "\n",
    "# plot 95th percentile\n",
    "plt.plot(...)\n",
    "\n",
    "# plot 5th percentile\n",
    "plt.plot(...)"
   ]
  },
  {
   "cell_type": "code",
   "execution_count": 38,
   "metadata": {},
   "outputs": [
    {
     "data": {
      "text/plain": [
       "[<matplotlib.lines.Line2D at 0x1ac75b84e50>]"
      ]
     },
     "execution_count": 38,
     "metadata": {},
     "output_type": "execute_result"
    },
    {
     "data": {
      "image/png": "[encoded data removed]",
      "text/plain": [
       "<Figure size 640x480 with 1 Axes>"
      ]
     },
     "metadata": {},
     "output_type": "display_data"
    }
   ],
   "source": [
    "# to_remove solution\n",
    "\n",
    "# generate bins\n",
    "bins=np.arange(0,precipitation.max(),2)\n",
    "\n",
    "# make histogram\n",
    "sns.histplot(precipitation,bins=bins,stat='density')\n",
    "\n",
    "# set x limits\n",
    "plt.xlim(bins[0],bins[-1])\n",
    "\n",
    "# get y lims for plotting mean line\n",
    "ylim = plt.ylim()\n",
    "\n",
    "# add vertical line with mean\n",
    "plt.vlines(mean_pr,ymin=ylim[0],ymax=ylim[1],color='C3',lw=3)\n",
    "\n",
    "# generate an x axis for the pdf\n",
    "x = np.arange(0,100,1)\n",
    "\n",
    "# plot pdf\n",
    "plt.plot(x,stats.norm.pdf(x,mean_pr,std_pr),c='k',lw=3)\n",
    "\n",
    "# plot 95th percentile\n",
    "plt.plot(x, np.quantile(pdfs,0.95,axis=1),'--',lw=2,color='k')\n",
    "\n",
    "# plot 5th percentile\n",
    "plt.plot(x, np.quantile(pdfs,0.05,axis=1),'--',lw=2,color='k')"
   ]
  },
  {
   "cell_type": "markdown",
   "metadata": {
    "execution": {}
   },
   "source": [
    "## Questions 1\n",
    "1. Based on the current plot, does a normal distribution accurately describe your model? Why or why not? "
   ]
  },
  {
   "cell_type": "code",
   "execution_count": 3,
   "metadata": {},
   "outputs": [],
   "source": [
    "# to_remove explanation\n",
    "\"\"\"\n",
    "1.As presented in the figure above, the data falls largely outside of the percentiles you calculated. That, paired with the skewness calculated earlier suggests a different distribution may fit the data better. For example, log-normal distributions tend to be be better suited for describing skewed datasets such as this.\n",
    "\"\"\";"
   ]
  },
  {
   "cell_type": "markdown",
   "metadata": {},
   "source": [
    "# **Summary**\n",
    "In this tutorial, you focused on the analysis of annual extreme precipitation levels in Germany. You started by visualizing the observational record as both a timeseries and a distribution. This led you to compute the moments of the record, specifically, the mean, variance, and standard deviation. By plotting the mean on a histogram, you noticed a potential skewed distribution. To explore this, you compared the skewness of the precipitation data to a normally distributed set of values. Finally you assessed the fit of a normal distribution to your dataset."
   ]
  },
  {
   "cell_type": "markdown",
   "metadata": {},
   "source": [
    "# Resources\n",
    "\n",
    "Data from this tutorial can be found here. NEED TO ADD LINK"
   ]
  }
 ],
 "metadata": {
  "colab": {
   "collapsed_sections": [],
   "include_colab_link": true,
   "name": "W2D4_Tutorial1",
   "provenance": [],
   "toc_visible": true
  },
  "kernel": {
   "display_name": "Python 3",
   "language": "python",
   "name": "python3"
  },
  "kernelspec": {
   "display_name": "Python 3",
   "language": "python",
   "name": "python3"
  },
  "language_info": {
   "codemirror_mode": {
    "name": "ipython",
    "version": 3
   },
   "file_extension": ".py",
   "mimetype": "text/x-python",
   "name": "python",
   "nbconvert_exporter": "python",
   "pygments_lexer": "ipython3",
   "version": "3.7.3"
  }
 },
 "nbformat": 4,
 "nbformat_minor": 4
}
