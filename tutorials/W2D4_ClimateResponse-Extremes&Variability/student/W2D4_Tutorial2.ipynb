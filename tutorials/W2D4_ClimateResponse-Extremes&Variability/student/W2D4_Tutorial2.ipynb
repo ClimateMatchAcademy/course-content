{
 "cells": [
  {
   "cell_type": "markdown",
   "metadata": {
    "execution": {}
   },
   "source": [
    "In this second tutorial we will try to compute the precipitation levels associated with th 50, 100 and 500-year event The 100-year event is an precipitation level that we expect to see only once every 100 years, or in other words... a storm event with a 1% chance of happening every year. Subsequently the 2-year event has a 50% change of happening every year.  The return-periods as we call them are often used by policymakers to design policy and infrastructure around. For example, a bridge should be able to withhold a 100-year flood event; and evacuation plan is designed for an 50-year earthquake, and a nuclear powe plant should not collapse during a 10,000-year storm.  There are two ways in which we can compute the return levels associated with a specific return period: 1) empirically and 2) through the pdf of a distribution. Here we will first compute them empirically. First open the precipitation record and plot it over time: "
   ]
  },
  {
   "cell_type": "code",
   "execution_count": null,
   "metadata": {
    "execution": {},
    "tags": [
     "colab"
    ]
   },
   "outputs": [],
   "source": [
    "# Agustina comments\n",
    "# =====================\n",
    "# Need to install cartopy\n",
    "\n",
    "# !pip install cartopy"
   ]
  },
  {
   "cell_type": "code",
   "execution_count": null,
   "metadata": {
    "execution": {},
    "executionInfo": {
     "elapsed": 2068,
     "status": "ok",
     "timestamp": 1681923641610,
     "user": {
      "displayName": "Matthias Aengenheyster",
      "userId": "16322208118439170907"
     },
     "user_tz": -60
    }
   },
   "outputs": [],
   "source": [
    "import numpy as np\n",
    "import matplotlib.pyplot as plt\n",
    "import seaborn as sns\n",
    "import pandas as pd\n",
    "# import cartopy.crs as ccrs\n",
    "from scipy import stats"
   ]
  },
  {
   "cell_type": "code",
   "execution_count": null,
   "metadata": {
    "execution": {},
    "executionInfo": {
     "elapsed": 26698,
     "status": "ok",
     "timestamp": 1681923676549,
     "user": {
      "displayName": "Matthias Aengenheyster",
      "userId": "16322208118439170907"
     },
     "user_tz": -60
    }
   },
   "outputs": [],
   "source": [
    "import os, pooch\n",
    "\n",
    "fname = 'precipitationGermany_1920-2022.csv'\n",
    "if not os.path.exists(fname):\n",
    "    url = \"https://osf.io/xs7h6/download\"\n",
    "    fname = pooch.retrieve(url, known_hash=None)\n",
    "\n",
    "data = pd.read_csv(fname, index_col=0).set_index('years')\n",
    "\n",
    "data.columns=['precipitation']\n",
    "precipitation = data.precipitation"
   ]
  },
  {
   "cell_type": "markdown",
   "metadata": {
    "execution": {}
   },
   "source": [
    "# Data investigation"
   ]
  },
  {
   "cell_type": "code",
   "execution_count": null,
   "metadata": {
    "execution": {},
    "executionInfo": {
     "elapsed": 12,
     "status": "ok",
     "timestamp": 1681923683775,
     "user": {
      "displayName": "Matthias Aengenheyster",
      "userId": "16322208118439170907"
     },
     "user_tz": -60
    }
   },
   "outputs": [],
   "source": [
    "precipitation.plot()"
   ]
  },
  {
   "cell_type": "markdown",
   "metadata": {
    "execution": {}
   },
   "source": [
    "In this tutorial we will compute the return period for each event in the dataset (each maximum precipitation value for that year). To do this we first need to rank the precipitation levels from\n",
    "high to low with the sort function. Save the sorted data in the first column of a matrix called \n",
    "\"precip\" with four columns and as many rows as there are data entries.\n",
    "\n",
    "In the second column you store the ranks of each value (highest = 1; lowest = 103) \n"
   ]
  },
  {
   "cell_type": "code",
   "execution_count": null,
   "metadata": {
    "execution": {},
    "executionInfo": {
     "elapsed": 3,
     "status": "ok",
     "timestamp": 1681923686323,
     "user": {
      "displayName": "Matthias Aengenheyster",
      "userId": "16322208118439170907"
     },
     "user_tz": -60
    }
   },
   "outputs": [],
   "source": [
    "precip_df = pd.DataFrame(index=np.arange(data.precipitation.size))"
   ]
  },
  {
   "cell_type": "code",
   "execution_count": null,
   "metadata": {
    "execution": {},
    "executionInfo": {
     "elapsed": 2,
     "status": "ok",
     "timestamp": 1681923686323,
     "user": {
      "displayName": "Matthias Aengenheyster",
      "userId": "16322208118439170907"
     },
     "user_tz": -60
    }
   },
   "outputs": [],
   "source": [
    "precip_df['sorted'] = np.sort(data.precipitation)[::-1]"
   ]
  },
  {
   "cell_type": "code",
   "execution_count": null,
   "metadata": {
    "execution": {},
    "executionInfo": {
     "elapsed": 5,
     "status": "ok",
     "timestamp": 1681923686680,
     "user": {
      "displayName": "Matthias Aengenheyster",
      "userId": "16322208118439170907"
     },
     "user_tz": -60
    }
   },
   "outputs": [],
   "source": [
    "precip_df['ranks'] = np.arange(data.precipitation.size)"
   ]
  },
  {
   "cell_type": "markdown",
   "metadata": {
    "execution": {}
   },
   "source": [
    "As you might have noticed there are some precipitation values that appear twice. These should have\n",
    "the same rank so we want to fix that first... we can instead use the scipy function rankdata to find the \n",
    "rank of each value - this function will give similar values the same rank. Of course the ranks also\n",
    "have to be sorted before putting them in our matrix.\n"
   ]
  },
  {
   "cell_type": "code",
   "execution_count": null,
   "metadata": {
    "execution": {},
    "executionInfo": {
     "elapsed": 9,
     "status": "ok",
     "timestamp": 1681923688272,
     "user": {
      "displayName": "Matthias Aengenheyster",
      "userId": "16322208118439170907"
     },
     "user_tz": -60
    }
   },
   "outputs": [],
   "source": [
    "precip_df['ranks_sp'] = np.sort(stats.rankdata(-data.precipitation))"
   ]
  },
  {
   "cell_type": "markdown",
   "metadata": {
    "execution": {}
   },
   "source": [
    "We can compute the empirical probability of exceedance by dividing the rank (r) by the total\n",
    "amount of values (n) plus 1.\n"
   ]
  },
  {
   "cell_type": "code",
   "execution_count": null,
   "metadata": {
    "execution": {},
    "executionInfo": {
     "elapsed": 4,
     "status": "ok",
     "timestamp": 1681923688272,
     "user": {
      "displayName": "Matthias Aengenheyster",
      "userId": "16322208118439170907"
     },
     "user_tz": -60
    }
   },
   "outputs": [],
   "source": [
    "n = data.precipitation.size\n",
    "P = precip_df['ranks_sp']/(n+1)\n",
    "precip_df['exceedance'] = P"
   ]
  },
  {
   "cell_type": "markdown",
   "metadata": {
    "execution": {}
   },
   "source": [
    "The return period and the chance of exceedence are related through through T = 1/P"
   ]
  },
  {
   "cell_type": "code",
   "execution_count": null,
   "metadata": {
    "execution": {},
    "executionInfo": {
     "elapsed": 6,
     "status": "ok",
     "timestamp": 1681923689933,
     "user": {
      "displayName": "Matthias Aengenheyster",
      "userId": "16322208118439170907"
     },
     "user_tz": -60
    }
   },
   "outputs": [],
   "source": [
    "precip_df['period'] = 1 / precip_df['exceedance']"
   ]
  },
  {
   "cell_type": "code",
   "execution_count": null,
   "metadata": {
    "execution": {},
    "executionInfo": {
     "elapsed": 5,
     "status": "ok",
     "timestamp": 1681923689933,
     "user": {
      "displayName": "Matthias Aengenheyster",
      "userId": "16322208118439170907"
     },
     "user_tz": -60
    }
   },
   "outputs": [],
   "source": [
    "precip_df"
   ]
  },
  {
   "cell_type": "markdown",
   "metadata": {
    "execution": {}
   },
   "source": [
    "Now that we know the return periods of each annual maximum precipitation level we can create\n",
    "a return level plot - a plot of return levels against return periods:"
   ]
  },
  {
   "cell_type": "code",
   "execution_count": null,
   "metadata": {
    "execution": {},
    "executionInfo": {
     "elapsed": 373,
     "status": "ok",
     "timestamp": 1681923690608,
     "user": {
      "displayName": "Matthias Aengenheyster",
      "userId": "16322208118439170907"
     },
     "user_tz": -60
    }
   },
   "outputs": [],
   "source": [
    "plt.plot(precip_df['period'],precip_df['sorted'],'o')\n",
    "plt.xlabel('Return period (years)')\n",
    "plt.ylabel('Return level')"
   ]
  }
 ],
 "metadata": {
  "colab": {
   "collapsed_sections": [],
   "include_colab_link": true,
   "name": "W2D4_Tutorial2",
   "provenance": [],
   "toc_visible": true
  },
  "kernel": {
   "display_name": "Python 3",
   "language": "python",
   "name": "python3"
  },
  "kernelspec": {
   "display_name": "Python 3 (pangeo)",
   "language": "python",
   "name": "pangeo"
  },
  "language_info": {
   "codemirror_mode": {
    "name": "ipython",
    "version": 3
   },
   "file_extension": ".py",
   "mimetype": "text/x-python",
   "name": "python",
   "nbconvert_exporter": "python",
   "pygments_lexer": "ipython3",
   "version": "3.10.10"
  }
 },
 "nbformat": 4,
 "nbformat_minor": 0
}