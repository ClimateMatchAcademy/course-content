{
 "cells": [
  {
   "cell_type": "markdown",
   "id": "bd5c437e",
   "metadata": {},
   "source": [
    "# Day Summary"
   ]
  },
  {
   "cell_type": "markdown",
   "id": "2ac4b2f5",
   "metadata": {},
   "source": [
    "This day introduced students to the mathematical framework used by researchers to study extreme events and their variability: Extreme Value Theory (EVT). We started by presenting the “climate” as distribution of probabilities that a certain value of a climate variable is observed. The Generalised Extreme Value (GEV) distribution provided an effective model to describe the statistical behavior of extreme climatic events. By fitting observational data to a GEV distribution you computed the return periods associated with extreme events. To account for changes in the distribution parameters — as a result of climate change —  we explained how to incorporate non-stationarity concepts in our models. We closed with a consideration of the importance of thresholds."
   ]
  }
 ],
 "metadata": {
  "kernelspec": {
   "display_name": "Python 3 (ipykernel)",
   "language": "python",
   "name": "python3"
  },
  "language_info": {
   "codemirror_mode": {
    "name": "ipython",
    "version": 3
   },
   "file_extension": ".py",
   "mimetype": "text/x-python",
   "name": "python",
   "nbconvert_exporter": "python",
   "pygments_lexer": "ipython3",
   "version": "3.10.8"
  }
 },
 "nbformat": 4,
 "nbformat_minor": 5
}
