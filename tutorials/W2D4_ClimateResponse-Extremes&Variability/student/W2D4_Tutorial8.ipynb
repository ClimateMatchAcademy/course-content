{
 "cells": [
  {
   "cell_type": "markdown",
   "metadata": {
    "execution": {}
   },
   "source": [
    "For this 8th tutorial we try to include non-stationary into our GEV parameters to\n",
    "get a better fit to our sea level heights. First open the data set, and fit a stationary\n",
    "GEV model to the data by estimating parameters with a MLE method.\n",
    "\n",
    "Import the data using read.csv() and create a plot of the recorded data. "
   ]
  },
  {
   "cell_type": "code",
   "execution_count": null,
   "metadata": {
    "execution": {}
   },
   "outputs": [],
   "source": [
    "import numpy as np\n",
    "import matplotlib.pyplot as plt\n",
    "import seaborn as sns\n",
    "import pandas as pd\n",
    "import cartopy.crs as ccrs\n",
    "from scipy import stats"
   ]
  },
  {
   "cell_type": "code",
   "execution_count": null,
   "metadata": {
    "execution": {}
   },
   "outputs": [],
   "source": [
    "import extremes_functions as ef\n",
    "from mystatsfunctions import OLSE,LMoments\n",
    "import SDFC as sd"
   ]
  },
  {
   "cell_type": "code",
   "execution_count": null,
   "metadata": {
    "execution": {}
   },
   "outputs": [],
   "source": [
    "gev = stats.genextreme"
   ]
  },
  {
   "cell_type": "code",
   "execution_count": null,
   "metadata": {
    "execution": {}
   },
   "outputs": [],
   "source": [
    "def estimate_return_level(quantile,model):\n",
    "    loc, scale, shape = model.coef_\n",
    "    level = loc - scale / shape * (1 - (-np.log(quantile))**(-shape))\n",
    "    # level = stats.genextreme.ppf(quantile,-shape,loc=loc,scale=scale)\n",
    "    return level"
   ]
  },
  {
   "cell_type": "code",
   "execution_count": null,
   "metadata": {
    "execution": {}
   },
   "outputs": [],
   "source": [
    "def estimate_return_level2(quantile,model):\n",
    "    loc, scale, shape = model.loc, model.scale, model.shape\n",
    "    level = loc - scale / shape * (1 - (-np.log(quantile))**(-shape))\n",
    "    # level = stats.genextreme.ppf(quantile,-shape,loc=loc,scale=scale)\n",
    "    return level"
   ]
  },
  {
   "cell_type": "code",
   "execution_count": null,
   "metadata": {
    "execution": {}
   },
   "outputs": [],
   "source": [
    "import os, pooch\n",
    "\n",
    "fname = 'WashingtonDCSSH1930-2022.csv'\n",
    "if not os.path.exists(fname):\n",
    "    url = \"https://osf.io/4zynp/download\"\n",
    "    fname = pooch.retrieve(url, known_hash=None)\n",
    "\n",
    "data = pd.read_csv(fname, index_col=0).set_index('years')"
   ]
  },
  {
   "cell_type": "code",
   "execution_count": null,
   "metadata": {
    "execution": {}
   },
   "outputs": [],
   "source": [
    "data.ssh.plot(linestyle='-',marker='.')\n",
    "plt.ylabel('sea surface height')"
   ]
  },
  {
   "cell_type": "code",
   "execution_count": null,
   "metadata": {
    "execution": {}
   },
   "outputs": [],
   "source": [
    "fit, model = ef.fit_return_levels_sdfc(data.ssh.values,times=np.arange(1.1,1000),periods_per_year=1,kind='GEV',N_boot=1000,full=True,model=True)"
   ]
  },
  {
   "cell_type": "code",
   "execution_count": null,
   "metadata": {
    "execution": {}
   },
   "outputs": [],
   "source": [
    "fig, axs = plt.subplots(2,2,constrained_layout=True)\n",
    "ax = axs.flatten()\n",
    "\n",
    "x = np.linspace(0,1,100)\n",
    "ax[0].plot(gev.ppf(x, -fit.xi.mean().values, loc=fit.mu.mean().values, scale=fit.sigma.mean().values), np.quantile(data.ssh,x),'o')\n",
    "xlim = ax[0].get_xlim()\n",
    "ylim = ax[0].get_ylim()\n",
    "ax[0].plot([min(xlim[0],ylim[0]),max(xlim[1],ylim[1])],[min(xlim[0],ylim[0]),max(xlim[1],ylim[1])],'k')\n",
    "\n",
    "ax[0].set_xlim(xlim)\n",
    "ax[0].set_ylim(ylim)\n",
    "\n",
    "\n",
    "x = np.linspace(data.ssh.min()-200, data.ssh.max()+200, 1000)\n",
    "ax[2].plot(x,gev.pdf(x, -fit.xi.mean().values, loc=fit.mu.mean().values, scale=fit.sigma.mean().values), label='Modeled')\n",
    "sns.kdeplot(data.ssh,ax=ax[2],label='Empirical')\n",
    "\n",
    "ef.plot_levels_from_obj(fit,alpha=0.95,ax=ax[3])\n",
    "ax[3].set_xlim(1.5,1000)\n",
    "ax[3].set_ylim(0,None)\n",
    "\n",
    "ax[0].set_title('QQ-plot')\n",
    "ax[2].set_title('PDF')\n",
    "ax[3].set_title('Return levels')\n",
    "\n",
    "ax[1].remove()"
   ]
  },
  {
   "cell_type": "code",
   "execution_count": null,
   "metadata": {
    "execution": {}
   },
   "outputs": [],
   "source": [
    "ef.plot_levels_from_obj(fit,alpha=0.95)\n",
    "plt.xlim(1.5,1000)\n",
    "plt.ylim(0,None)"
   ]
  },
  {
   "cell_type": "code",
   "execution_count": null,
   "metadata": {
    "execution": {}
   },
   "outputs": [],
   "source": [
    "print('100-year return level: %.2f' % estimate_return_level(1-1/100,model))"
   ]
  },
  {
   "cell_type": "markdown",
   "metadata": {
    "execution": {}
   },
   "source": [
    "we can make our GEV model non-stationary adding a time component to the GEV parameters. \n",
    "\n",
    "That means that our parameters change as time changes… Or... we could make them dependent on global air \n",
    "temperature for example. The simplest version of a non-stationary GEV model is by adding a linear time\n",
    "component to the location parameter. Instead of our location parameter being (for example) “100” it would\n",
    "be a linear function time ( time*1.05+80” ). The location parameter now becomes larger as time increases.\n",
    "We can easily incorporate this into our fevd() function through the option of location.fun: \n"
   ]
  },
  {
   "cell_type": "code",
   "execution_count": null,
   "metadata": {
    "execution": {}
   },
   "outputs": [],
   "source": [
    "law_ns = sd.GEV()\n",
    "law_ns.fit(data.ssh.values, c_loc = np.arange(data.index.size))"
   ]
  },
  {
   "cell_type": "code",
   "execution_count": null,
   "metadata": {
    "execution": {}
   },
   "outputs": [],
   "source": [
    "data.ssh.plot(c='k')\n",
    "plt.plot(data.index,estimate_return_level2(1-1/2,law_ns),label='2-year return level')\n",
    "plt.plot(data.index,estimate_return_level2(1-1/10,law_ns),label='10-year return level')\n",
    "plt.plot(data.index,estimate_return_level2(1-1/50,law_ns),label='50-year return level')\n",
    "plt.plot(data.index,estimate_return_level2(1-1/100,law_ns),label='100-year return level')\n",
    "plt.plot(data.index,estimate_return_level2(1-1/500,law_ns),label='500-year return level')\n",
    "plt.legend()\n",
    "plt.grid(True)"
   ]
  },
  {
   "cell_type": "code",
   "execution_count": null,
   "metadata": {
    "execution": {}
   },
   "outputs": [],
   "source": [
    "model"
   ]
  },
  {
   "cell_type": "code",
   "execution_count": null,
   "metadata": {
    "execution": {}
   },
   "outputs": [],
   "source": [
    "law_ns"
   ]
  },
  {
   "cell_type": "markdown",
   "metadata": {
    "execution": {}
   },
   "source": [
    "As you can see we related the location parameter (relate = ~ ) by a vector which is just 1,2,3,4,5,6 etc.\n",
    "When instead of using 1,2,3,4,etc.; we would use 1,2,4,8,16, etc (exponential growth) we would create a \n",
    "location parameter that looks like this: “80*exp(1.05*t)”. You can use all sorts of relations AND you can\n",
    "apply it to all the parameters (or multiple) through scale.fun and shape.fun. You could also, for example,\n",
    "related it to CO2 levels instead (if you have those)… which would probably make the fit even better. \n",
    "\n",
    "Also… you can assess the fit of your model by looking at the AIC level of your fevd() run. If you run the\n",
    "fevd() object (in this case fevd or fevd_ns) it should be one of the last lines. The lower the AIC number\n",
    "the better the fit. Additionally try to make the scale or shape parameter dependent on time by using the \n",
    "shape.fun and scale.fun option - or maybe a combination of all."
   ]
  },
  {
   "cell_type": "code",
   "execution_count": null,
   "metadata": {
    "execution": {}
   },
   "outputs": [],
   "source": [
    "def compute_aic(model):\n",
    "    return 2 * len(model.coef_) + 2 * model.info.optim_result.fun"
   ]
  },
  {
   "cell_type": "code",
   "execution_count": null,
   "metadata": {
    "execution": {}
   },
   "outputs": [],
   "source": [
    "compute_aic(model)"
   ]
  },
  {
   "cell_type": "code",
   "execution_count": null,
   "metadata": {
    "execution": {}
   },
   "outputs": [],
   "source": [
    "compute_aic(law_ns)"
   ]
  },
  {
   "attachments": {},
   "cell_type": "markdown",
   "metadata": {
    "execution": {}
   },
   "source": [
    "### scale as function of time"
   ]
  },
  {
   "cell_type": "code",
   "execution_count": null,
   "metadata": {
    "execution": {}
   },
   "outputs": [],
   "source": [
    "law_ns_scale = sd.GEV()\n",
    "law_ns_scale.fit(data.ssh.values, c_scale = np.arange(data.index.size))"
   ]
  },
  {
   "cell_type": "code",
   "execution_count": null,
   "metadata": {
    "execution": {}
   },
   "outputs": [],
   "source": [
    "\n",
    "data.ssh.plot(c='k')\n",
    "plt.plot(data.index,estimate_return_level2(1-1/2,law_ns_scale),label='2-year return level')\n",
    "plt.plot(data.index,estimate_return_level2(1-1/10,law_ns_scale),label='10-year return level')\n",
    "plt.plot(data.index,estimate_return_level2(1-1/50,law_ns_scale),label='50-year return level')\n",
    "plt.plot(data.index,estimate_return_level2(1-1/100,law_ns_scale),label='100-year return level')\n",
    "plt.plot(data.index,estimate_return_level2(1-1/500,law_ns_scale),label='500-year return level')\n",
    "plt.legend()\n",
    "plt.grid(True)\n",
    "plt.title('Scale as function of time')"
   ]
  },
  {
   "attachments": {},
   "cell_type": "markdown",
   "metadata": {
    "execution": {}
   },
   "source": [
    "### scale as function of time"
   ]
  },
  {
   "cell_type": "code",
   "execution_count": null,
   "metadata": {
    "execution": {}
   },
   "outputs": [],
   "source": [
    "law_ns_shape = sd.GEV()\n",
    "law_ns_shape.fit(data.ssh.values, c_shape = np.arange(data.index.size))"
   ]
  },
  {
   "cell_type": "code",
   "execution_count": null,
   "metadata": {
    "execution": {}
   },
   "outputs": [],
   "source": [
    "data.ssh.plot(c='k')\n",
    "plt.plot(data.index,estimate_return_level2(1-1/2,law_ns_shape),label='2-year return level')\n",
    "plt.plot(data.index,estimate_return_level2(1-1/10,law_ns_shape),label='10-year return level')\n",
    "plt.plot(data.index,estimate_return_level2(1-1/50,law_ns_shape),label='50-year return level')\n",
    "plt.plot(data.index,estimate_return_level2(1-1/100,law_ns_shape),label='100-year return level')\n",
    "plt.plot(data.index,estimate_return_level2(1-1/500,law_ns_shape),label='500-year return level')\n",
    "plt.legend()\n",
    "plt.grid(True)\n",
    "plt.title('Shape as function of time')"
   ]
  },
  {
   "attachments": {},
   "cell_type": "markdown",
   "metadata": {
    "execution": {}
   },
   "source": [
    "### location and scale as function of time"
   ]
  },
  {
   "cell_type": "code",
   "execution_count": null,
   "metadata": {
    "execution": {}
   },
   "outputs": [],
   "source": [
    "law_ns_loc_scale = sd.GEV()\n",
    "law_ns_loc_scale.fit(data.ssh.values, c_loc = np.arange(data.index.size), c_scale = np.arange(data.index.size))"
   ]
  },
  {
   "cell_type": "code",
   "execution_count": null,
   "metadata": {
    "execution": {}
   },
   "outputs": [],
   "source": [
    "data.ssh.plot(c='k')\n",
    "plt.plot(data.index,estimate_return_level2(1-1/2,law_ns_loc_scale),label='2-year return level')\n",
    "plt.plot(data.index,estimate_return_level2(1-1/10,law_ns_loc_scale),label='10-year return level')\n",
    "plt.plot(data.index,estimate_return_level2(1-1/50,law_ns_loc_scale),label='50-year return level')\n",
    "plt.plot(data.index,estimate_return_level2(1-1/100,law_ns_loc_scale),label='100-year return level')\n",
    "plt.plot(data.index,estimate_return_level2(1-1/500,law_ns_loc_scale),label='500-year return level')\n",
    "plt.legend()\n",
    "plt.grid(True)\n",
    "plt.title('Location and scale as function of time')"
   ]
  },
  {
   "cell_type": "code",
   "execution_count": null,
   "metadata": {
    "execution": {}
   },
   "outputs": [],
   "source": [
    "aics = pd.Series(\n",
    "    index = ['Location','Scale','Shape','Location and Scale'],\n",
    "    data  = [compute_aic(law_ns), compute_aic(law_ns_scale), compute_aic(law_ns_shape), compute_aic(law_ns_loc_scale)]\n",
    "    )\n",
    "\n",
    "aics"
   ]
  },
  {
   "attachments": {},
   "cell_type": "markdown",
   "metadata": {
    "execution": {}
   },
   "source": [
    "Since the location parameter is not dependent on time we cannot construct a return level/return period\n",
    "plot like we did last class… As there are now 93 different plots, one for each year. What we can however\n",
    "do, which is also visually attractive, is compute the level of the 100-year event over time and plot that\n",
    "onto our SSH record. We call\n",
    "this the “effective return levels”. \n"
   ]
  },
  {
   "cell_type": "code",
   "execution_count": null,
   "metadata": {
    "execution": {}
   },
   "outputs": [],
   "source": [
    "data.ssh.plot(c='k')\n",
    "# plt.plot(data.index,estimate_return_level2(1-1/2,law),label='2-year return level')\n",
    "# plt.plot(data.index,estimate_return_level2(1-1/10,law),label='10-year return level')\n",
    "# plt.plot(data.index,estimate_return_level2(1-1/50,law),label='50-year return level')\n",
    "plt.plot(data.index,estimate_return_level2(1-1/100,law_ns),label='100-year return level')\n",
    "# plt.plot(data.index,estimate_return_level2(1-1/500,law),label='500-year return level')\n",
    "\n",
    "# plt.plot(data.index,estimate_return_level2(1-1/100,model),'--',c='grey',label='100-year return level in stationary model')\n",
    "\n",
    "plt.legend()\n",
    "plt.grid(True)"
   ]
  }
 ],
 "metadata": {
  "colab": {
   "collapsed_sections": [],
   "include_colab_link": true,
   "name": "W2D4_Tutorial8",
   "toc_visible": true
  },
  "kernel": {
   "display_name": "Python 3",
   "language": "python",
   "name": "python3"
  },
  "kernelspec": {
   "display_name": "Python 3 (pangeo)",
   "language": "python",
   "name": "pangeo"
  },
  "language_info": {
   "codemirror_mode": {
    "name": "ipython",
    "version": 3
   },
   "file_extension": ".py",
   "mimetype": "text/x-python",
   "name": "python",
   "nbconvert_exporter": "python",
   "pygments_lexer": "ipython3",
   "version": "3.10.10"
  }
 },
 "nbformat": 4,
 "nbformat_minor": 2
}