{
 "cells": [
  {
   "cell_type": "markdown",
   "metadata": {
    "execution": {}
   },
   "source": [
    "Now that we know how to create pdf for the GEV distribution we can use it to compute return values \n",
    "based on a GEV distribution.\n",
    "\n",
    "We  compute return levels from a pdf by using the cumulative distribution function (CDF), which tells us\n",
    "the chance that a randomly drawn variable from our distribution will be less than some value X (for our \n",
    "variable). Rare extreme values thus have a high chance (as most random draws will be smaller – small storms).\n",
    "Again, say that there is a 99% chance that we will see a storm of 80mm or higher… than there is a 1% change\n",
    "we will see a storm of at least 80mm – and given what we said above it means the 100-year storm will bring \n",
    "80mm of rain. Formally the return level is the inverse of the CDF – for here all you need to know is that \n",
    "you can compute return-levels using the function qgev(x,location,scale,shape). In this case x is the chance\n",
    "a random value from our distribution is lower – so for the 100-year storm this would be 0.99; and for the\n",
    "1000-year storm 0.999.  \n",
    "\n",
    "First repeat the steps from the previous tutorials and open the precipitation data... and fit a GEV distribution\n",
    "to it."
   ]
  },
  {
   "cell_type": "code",
   "execution_count": null,
   "metadata": {
    "execution": {},
    "tags": [
     "colab"
    ]
   },
   "outputs": [],
   "source": [
    "# # <Yosmely Bermúdez> comments\n",
    "# #install dependencies\n",
    "# # We need this to install eigen which is needed for SDFC to install correctly\n",
    "# !pip install -q condacolab\n",
    "# import condacolab\n",
    "# condacolab.install()\n",
    "# !conda install eigen\n",
    "# !pip install -v https://github.com/yrobink/SDFC/archive/master.zip#subdirectory=python\n",
    "# !pip install https://github.com/njleach/mystatsfunctions/archive/master.zip\n",
    "# !pip install numpy\n",
    "# !pip install matplotlib\n",
    "# !pip install seaborn\n",
    "# !pip install pandas\n",
    "# !pip install cartopy\n",
    "# !pip install scipy\n",
    "# !pip install texttable"
   ]
  },
  {
   "cell_type": "code",
   "execution_count": null,
   "metadata": {
    "execution": {},
    "executionInfo": {
     "elapsed": 2204,
     "status": "ok",
     "timestamp": 1681924180496,
     "user": {
      "displayName": "Matthias Aengenheyster",
      "userId": "16322208118439170907"
     },
     "user_tz": -60
    }
   },
   "outputs": [],
   "source": [
    "import numpy as np\n",
    "import matplotlib.pyplot as plt\n",
    "import seaborn as sns\n",
    "import pandas as pd\n",
    "\n",
    "from scipy import stats\n",
    "\n",
    "import extremes_functions as ef\n",
    "from mystatsfunctions import OLSE,LMoments\n",
    "import SDFC as sd"
   ]
  },
  {
   "cell_type": "code",
   "execution_count": null,
   "metadata": {
    "execution": {},
    "executionInfo": {
     "elapsed": 530,
     "status": "ok",
     "timestamp": 1681924181024,
     "user": {
      "displayName": "Matthias Aengenheyster",
      "userId": "16322208118439170907"
     },
     "user_tz": -60
    }
   },
   "outputs": [],
   "source": [
    "import os, pooch\n",
    "\n",
    "fname = 'precipitationGermany_1920-2022.csv'\n",
    "if not os.path.exists(fname):\n",
    "    url = \"https://osf.io/xs7h6/download\"\n",
    "    fname = pooch.retrieve(url, known_hash=None)\n",
    "\n",
    "data = pd.read_csv(fname, index_col=0).set_index('years')\n",
    "\n",
    "data.columns=['precipitation']\n",
    "precipitation = data.precipitation"
   ]
  },
  {
   "cell_type": "code",
   "execution_count": null,
   "metadata": {
    "execution": {},
    "executionInfo": {
     "elapsed": 267,
     "status": "ok",
     "timestamp": 1681924238489,
     "user": {
      "displayName": "Matthias Aengenheyster",
      "userId": "16322208118439170907"
     },
     "user_tz": -60
    }
   },
   "outputs": [],
   "source": [
    "fit, model = ef.fit_return_levels_sdfc(precipitation.values,times=np.arange(1.1,1000),periods_per_year=1,kind='GEV',N_boot=10,full=True,model=True)"
   ]
  },
  {
   "cell_type": "code",
   "execution_count": null,
   "metadata": {
    "execution": {},
    "executionInfo": {
     "elapsed": 2,
     "status": "ok",
     "timestamp": 1681924239851,
     "user": {
      "displayName": "Matthias Aengenheyster",
      "userId": "16322208118439170907"
     },
     "user_tz": -60
    }
   },
   "outputs": [],
   "source": [
    "def estimate_return_level(quantile,model):\n",
    "    loc, scale, shape = model.coef_\n",
    "    level = loc - scale / shape * (1 - (-np.log(quantile))**(-shape))\n",
    "    # level = stats.genextreme.ppf(quantile,-shape,loc=loc,scale=scale)\n",
    "    return level"
   ]
  },
  {
   "cell_type": "markdown",
   "metadata": {
    "execution": {}
   },
   "source": [
    "Now try to compute the 2-year storm level... the level of precipitation we expect with a 50% chance each year. For \n",
    "you will need to use the function qgev(x, location, scale, shape) which gives you variable value for any quantile\n",
    "For example 90th quantile (0.9) would give the 10-year precipitation value (10% change of seeing it every year)."
   ]
  },
  {
   "cell_type": "code",
   "execution_count": null,
   "metadata": {
    "execution": {},
    "executionInfo": {
     "elapsed": 7,
     "status": "ok",
     "timestamp": 1681924241704,
     "user": {
      "displayName": "Matthias Aengenheyster",
      "userId": "16322208118439170907"
     },
     "user_tz": -60
    }
   },
   "outputs": [],
   "source": [
    "estimate_return_level(0.5,model)"
   ]
  },
  {
   "cell_type": "code",
   "execution_count": null,
   "metadata": {
    "execution": {},
    "executionInfo": {
     "elapsed": 467,
     "status": "ok",
     "timestamp": 1681924243311,
     "user": {
      "displayName": "Matthias Aengenheyster",
      "userId": "16322208118439170907"
     },
     "user_tz": -60
    }
   },
   "outputs": [],
   "source": [
    "stats.genextreme.ppf(0.5,-model.shape.mean(),loc=model.loc.mean(),scale=model.scale.mean())"
   ]
  },
  {
   "cell_type": "markdown",
   "metadata": {
    "execution": {}
   },
   "source": [
    "It is probably easier to replace x with a variable called “rp” (= return period). You can use the formula 1-(1/return period)\n",
    "to compute rp. So a 100-year storm would be 1-(1/100) = 0.99. Compute the 100- and 1000-year storm. "
   ]
  },
  {
   "cell_type": "code",
   "execution_count": null,
   "metadata": {
    "execution": {},
    "executionInfo": {
     "elapsed": 188,
     "status": "ok",
     "timestamp": 1681924244959,
     "user": {
      "displayName": "Matthias Aengenheyster",
      "userId": "16322208118439170907"
     },
     "user_tz": -60
    }
   },
   "outputs": [],
   "source": [
    "estimate_return_level(1-1/80,model)"
   ]
  },
  {
   "cell_type": "code",
   "execution_count": null,
   "metadata": {
    "execution": {},
    "executionInfo": {
     "elapsed": 2,
     "status": "ok",
     "timestamp": 1681924245377,
     "user": {
      "displayName": "Matthias Aengenheyster",
      "userId": "16322208118439170907"
     },
     "user_tz": -60
    }
   },
   "outputs": [],
   "source": [
    "estimate_return_level(1-1/1000,model)"
   ]
  },
  {
   "cell_type": "markdown",
   "metadata": {
    "execution": {}
   },
   "source": [
    "Now we will make a figure in which we plot return-levels against return-periods:\n",
    "1. Create vector “periods” which is a sequence of 2 to a 1000-years (in steps of 2).\n",
    "2. Create a vector “levels” which is the associated return-levels for those return periods.\n",
    "3. Plot them against each other. Typically the return periods go on the x-axis at a log-scale.\n"
   ]
  },
  {
   "cell_type": "code",
   "execution_count": null,
   "metadata": {
    "execution": {},
    "executionInfo": {
     "elapsed": 784,
     "status": "ok",
     "timestamp": 1681924247138,
     "user": {
      "displayName": "Matthias Aengenheyster",
      "userId": "16322208118439170907"
     },
     "user_tz": -60
    }
   },
   "outputs": [],
   "source": [
    "periods = np.arange(2,1000,2)\n",
    "quantiles = 1-1/periods\n",
    "levels = estimate_return_level(quantiles,model)\n",
    "# plt.plot(x,estimate_return_level(x,model))\n",
    "plt.plot(periods,levels)\n",
    "plt.xlabel('Return Period (years)')\n",
    "plt.ylabel('Return level')\n",
    "\n",
    "plt.semilogx()"
   ]
  },
  {
   "cell_type": "markdown",
   "metadata": {
    "execution": {}
   },
   "source": [
    "Finally it would be interesting to compare the return levels from a normal and GEV distribution. Compute the \n",
    "50-,100-,500- and 1000-year based on a normal distribution (use qnorm() ) and based on the GEV distribution\n",
    "like above."
   ]
  },
  {
   "cell_type": "code",
   "execution_count": null,
   "metadata": {
    "execution": {},
    "executionInfo": {
     "elapsed": 6,
     "status": "ok",
     "timestamp": 1681924248446,
     "user": {
      "displayName": "Matthias Aengenheyster",
      "userId": "16322208118439170907"
     },
     "user_tz": -60
    }
   },
   "outputs": [],
   "source": [
    "years = np.array([50,100,500,1000])\n",
    "quantiles = 1-1/years\n",
    "\n",
    "df = pd.DataFrame(index=years)\n",
    "df['Normal Distribution'] = stats.norm.ppf(quantiles,loc=precipitation.mean(), scale=precipitation.std())\n",
    "df['GEV'] = stats.genextreme.ppf(quantiles,-model.shape.mean(),loc=model.loc.mean(),scale=model.scale.mean())"
   ]
  },
  {
   "cell_type": "code",
   "execution_count": null,
   "metadata": {
    "execution": {},
    "executionInfo": {
     "elapsed": 399,
     "status": "ok",
     "timestamp": 1681924248840,
     "user": {
      "displayName": "Matthias Aengenheyster",
      "userId": "16322208118439170907"
     },
     "user_tz": -60
    }
   },
   "outputs": [],
   "source": [
    "df"
   ]
  },
  {
   "cell_type": "code",
   "execution_count": null,
   "metadata": {
    "execution": {},
    "executionInfo": {
     "elapsed": 357,
     "status": "ok",
     "timestamp": 1681924249195,
     "user": {
      "displayName": "Matthias Aengenheyster",
      "userId": "16322208118439170907"
     },
     "user_tz": -60
    }
   },
   "outputs": [],
   "source": [
    "fit.return_level_obs.plot.line('.')\n",
    "years = np.arange(1.1,100,0.1)\n",
    "plt.plot(years,stats.norm.ppf(1-1/years,loc=precipitation.mean(), scale=precipitation.std()))\n",
    "plt.plot(years,stats.genextreme.ppf(1-1/years,-model.shape.mean(),loc=model.loc.mean(),scale=model.scale.mean()))\n",
    "\n",
    "plt.semilogx()\n",
    "\n",
    "plt.legend(['empirical','normal','GEV'])"
   ]
  },
  {
   "cell_type": "markdown",
   "metadata": {
    "execution": {}
   },
   "source": [
    "How do your answers compare?"
   ]
  }
 ],
 "metadata": {
  "colab": {
   "collapsed_sections": [],
   "include_colab_link": true,
   "name": "W2D4_Tutorial4",
   "toc_visible": true,
   "version": ""
  },
  "kernel": {
   "display_name": "Python 3",
   "language": "python",
   "name": "python3"
  },
  "kernelspec": {
   "display_name": "Python 3 (pangeo)",
   "language": "python",
   "name": "pangeo"
  },
  "language_info": {
   "codemirror_mode": {
    "name": "ipython",
    "version": 3
   },
   "file_extension": ".py",
   "mimetype": "text/x-python",
   "name": "python",
   "nbconvert_exporter": "python",
   "pygments_lexer": "ipython3",
   "version": "3.10.10"
  }
 },
 "nbformat": 4,
 "nbformat_minor": 0
}