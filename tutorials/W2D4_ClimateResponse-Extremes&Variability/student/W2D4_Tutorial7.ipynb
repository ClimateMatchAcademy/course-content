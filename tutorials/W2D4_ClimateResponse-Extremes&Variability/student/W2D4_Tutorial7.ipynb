{
 "cells": [
  {
   "cell_type": "markdown",
   "metadata": {
    "execution": {}
   },
   "source": [
    "For this 7th tutorial we will study climate model output for different cities in the world, and look at how extreme temperature and precipitation changes over time and depending on emission scenarios"
   ]
  },
  {
   "cell_type": "code",
   "execution_count": null,
   "metadata": {
    "execution": {},
    "executionInfo": {
     "elapsed": 53833,
     "status": "ok",
     "timestamp": 1682613170286,
     "user": {
      "displayName": "Matthias Aengenheyster",
      "userId": "16322208118439170907"
     },
     "user_tz": -120
    },
    "tags": [
     "colab"
    ]
   },
   "outputs": [],
   "source": [
    "# #install dependencies - taken from <Yosmely Bermúdez> comments for Tutorial 6\n",
    "# # We need this to install eigen which is needed for SDFC to install correctly\n",
    "# !pip install -q condacolab\n",
    "# import condacolab\n",
    "# condacolab.install()\n",
    "# !conda install eigen\n",
    "# !pip install -v https://github.com/yrobink/SDFC/archive/master.zip#subdirectory=python\n",
    "# !pip install https://github.com/njleach/mystatsfunctions/archive/master.zip\n",
    "# !pip install numpy\n",
    "# !pip install matplotlib\n",
    "# !pip install seaborn\n",
    "# !pip install pandas\n",
    "# !pip install cartopy\n",
    "# !pip install scipy\n",
    "# !pip install texttable"
   ]
  },
  {
   "cell_type": "code",
   "execution_count": null,
   "metadata": {
    "execution": {},
    "executionInfo": {
     "elapsed": 2435,
     "status": "ok",
     "timestamp": 1682613172712,
     "user": {
      "displayName": "Matthias Aengenheyster",
      "userId": "16322208118439170907"
     },
     "user_tz": -120
    }
   },
   "outputs": [],
   "source": [
    "import xarray as xr\n",
    "import numpy as np\n",
    "import matplotlib.pyplot as plt\n",
    "import seaborn as sns\n",
    "import pandas as pd\n",
    "import cartopy.crs as ccrs\n",
    "from scipy import stats"
   ]
  },
  {
   "cell_type": "code",
   "execution_count": null,
   "metadata": {
    "execution": {},
    "executionInfo": {
     "elapsed": 3,
     "status": "ok",
     "timestamp": 1682613172712,
     "user": {
      "displayName": "Matthias Aengenheyster",
      "userId": "16322208118439170907"
     },
     "user_tz": -120
    }
   },
   "outputs": [],
   "source": [
    "import extremes_functions as ef\n",
    "from mystatsfunctions import OLSE,LMoments\n",
    "import SDFC as sd"
   ]
  },
  {
   "cell_type": "code",
   "execution_count": null,
   "metadata": {
    "execution": {},
    "executionInfo": {
     "elapsed": 3,
     "status": "ok",
     "timestamp": 1682613172712,
     "user": {
      "displayName": "Matthias Aengenheyster",
      "userId": "16322208118439170907"
     },
     "user_tz": -120
    }
   },
   "outputs": [],
   "source": [
    "gev = stats.genextreme"
   ]
  },
  {
   "cell_type": "code",
   "execution_count": null,
   "metadata": {
    "execution": {},
    "executionInfo": {
     "elapsed": 3,
     "status": "ok",
     "timestamp": 1682613172713,
     "user": {
      "displayName": "Matthias Aengenheyster",
      "userId": "16322208118439170907"
     },
     "user_tz": -120
    }
   },
   "outputs": [],
   "source": [
    "def estimate_return_level(quantile,model):\n",
    "    loc, scale, shape = model.coef_\n",
    "    level = loc - scale / shape * (1 - (-np.log(quantile))**(-shape))\n",
    "    # level = stats.genextreme.ppf(quantile,-shape,loc=loc,scale=scale)\n",
    "    return level"
   ]
  },
  {
   "cell_type": "markdown",
   "metadata": {
    "execution": {}
   },
   "source": [
    "## Load CMIP6 data"
   ]
  },
  {
   "cell_type": "markdown",
   "metadata": {
    "execution": {}
   },
   "source": [
    "## Shortcut"
   ]
  },
  {
   "cell_type": "code",
   "execution_count": null,
   "metadata": {
    "execution": {},
    "executionInfo": {
     "elapsed": 3553,
     "status": "ok",
     "timestamp": 1682613176263,
     "user": {
      "displayName": "Matthias Aengenheyster",
      "userId": "16322208118439170907"
     },
     "user_tz": -120
    }
   },
   "outputs": [],
   "source": [
    "import os, pooch\n",
    "fname = 'cmip6_data_city_daily_scenarios_tasmax_pr_models.nc'\n",
    "if not os.path.exists(fname):\n",
    "    url = \"https://osf.io/ngafk/download\"\n",
    "    fname = pooch.retrieve(url, known_hash=None)\n",
    "\n",
    "# data = xr.open_dataset('cmip6_data_city_daily_scenarios.nc')\n",
    "data = xr.open_dataset(fname)"
   ]
  },
  {
   "cell_type": "markdown",
   "metadata": {
    "execution": {}
   },
   "source": [
    "## Through pangeo"
   ]
  },
  {
   "cell_type": "markdown",
   "metadata": {
    "execution": {}
   },
   "source": [
    "The code below recreates the data loaded in the previous line.\n",
    "\n",
    "In this way you can access large amounts of climate model output that has been stored in the cloud. This is very useful to get easy access to such information. Feel free to modify the code to access different data and address your own questions."
   ]
  },
  {
   "cell_type": "code",
   "execution_count": null,
   "metadata": {
    "execution": {}
   },
   "outputs": [],
   "source": [
    "import intake\n",
    "\n",
    "from xmip.preprocessing import combined_preprocessing\n",
    "from xarrayutils.plotting import shaded_line_plot\n",
    "\n",
    "from xmip.utils import google_cmip_col\n",
    "# we could do all of this with pure pandas on the underlying csv file\n",
    "col = google_cmip_col()"
   ]
  },
  {
   "cell_type": "code",
   "execution_count": null,
   "metadata": {
    "execution": {}
   },
   "outputs": [],
   "source": [
    "cat = col.search(\n",
    "    # source_id=['IPSL-CM6A-LR', 'GFDL-ESM4', 'ACCESS-CM2', 'MPI-ESM1-2-LR', 'TaiESM1'],\n",
    "    # source_id=['CESM2','MPI-ESM1-2-HR'],\n",
    "    source_id='MPI-ESM1-2-HR',\n",
    "    variable_id=['pr','tas'],\n",
    "    member_id='r1i1p1f1', #\n",
    "    table_id='day',\n",
    "    grid_label='gn',\n",
    "    experiment_id = ['historical','ssp126', 'ssp245', 'ssp585'],\n",
    "    # experiment_id = ['historical', 'ssp126', 'ssp585'],\n",
    "    # require_all_on = ['source_id']\n",
    ")\n",
    "kwargs = dict(preprocess=combined_preprocessing, xarray_open_kwargs=dict(use_cftime=True))\n",
    "ds_dict = cat.to_dataset_dict(zarr_kwargs={'consolidated': True})"
   ]
  },
  {
   "cell_type": "markdown",
   "metadata": {
    "execution": {}
   },
   "source": [
    "Define one or more locations"
   ]
  },
  {
   "cell_type": "code",
   "execution_count": null,
   "metadata": {
    "execution": {}
   },
   "outputs": [],
   "source": [
    "sel_Hamburg = dict(lon=10,lat=53.5)\n",
    "sel_Madrid = dict(lon=360-42,lat=40.5)\n",
    "sel_Delhi = dict(lon=77,lat=28.5)\n",
    "sel_Kinshasa = dict(lon=15,lat=-4)\n",
    "sel_Phoenix = dict(lon=360-112,lat=33.5)\n",
    "sel_Sydney = dict(lon=151,lat=-33.85)\n",
    "\n",
    "sels = dict(\n",
    "    Hamburg = sel_Hamburg,\n",
    "    Madrid = sel_Madrid,\n",
    "    Delhi = sel_Delhi,\n",
    "    Kinshasa = sel_Kinshasa,\n",
    "    Phoenix = sel_Phoenix,\n",
    "    Sydney = sel_Sydney\n",
    ")"
   ]
  },
  {
   "cell_type": "markdown",
   "metadata": {
    "execution": {}
   },
   "source": [
    "Assemble your data"
   ]
  },
  {
   "cell_type": "code",
   "execution_count": null,
   "metadata": {
    "execution": {}
   },
   "outputs": [],
   "source": [
    "ds_dict.keys()"
   ]
  },
  {
   "cell_type": "code",
   "execution_count": null,
   "metadata": {
    "execution": {}
   },
   "outputs": [],
   "source": [
    "model = 'MPI-ESM1-2-HR'\n",
    "scenarios = ['ssp126','ssp245','ssp585']\n",
    "outs = []\n",
    "for city in sels.keys():\n",
    "    outis = []\n",
    "    for scenario in scenarios:\n",
    "        timeseries = xr.concat(\n",
    "                    [\n",
    "                        ds_dict['CMIP.MPI-M.%s.%s.day.gn' % (model, 'historical')].sel(sels[city],method='nearest').sel(time=slice('2014')),\n",
    "                        ds_dict['ScenarioMIP.DKRZ.%s.%s.day.gn' % (model, scenario)].sel(sels[city],method='nearest')\n",
    "                    ],'time'\n",
    "                    )\n",
    "        timeseries = timeseries.assign_coords(city=city,scenario=scenario).squeeze()\n",
    "        outis.append(timeseries)\n",
    "        # outis.append(ds_dict[key].sel(sels[city],method='nearest').assign_coords(city=city,scenario=key).squeeze())\n",
    "    outs.append(xr.concat(outis,'scenario'))\n",
    "data = xr.concat(outs,'city')"
   ]
  },
  {
   "cell_type": "code",
   "execution_count": null,
   "metadata": {
    "execution": {}
   },
   "outputs": [],
   "source": [
    "print(f'The data has {data.nbytes / 1e6:.3f} MB')"
   ]
  },
  {
   "cell_type": "code",
   "execution_count": null,
   "metadata": {
    "execution": {}
   },
   "outputs": [],
   "source": [
    "# data.load()"
   ]
  },
  {
   "cell_type": "markdown",
   "metadata": {
    "execution": {}
   },
   "source": [
    "## Processing"
   ]
  },
  {
   "cell_type": "markdown",
   "metadata": {
    "execution": {}
   },
   "source": [
    "Look at the data for one selected city, for one climate model"
   ]
  },
  {
   "cell_type": "code",
   "execution_count": null,
   "metadata": {
    "execution": {},
    "executionInfo": {
     "elapsed": 6,
     "status": "ok",
     "timestamp": 1682613208291,
     "user": {
      "displayName": "Matthias Aengenheyster",
      "userId": "16322208118439170907"
     },
     "user_tz": -120
    }
   },
   "outputs": [],
   "source": [
    "city = 'Madrid'"
   ]
  },
  {
   "cell_type": "code",
   "execution_count": null,
   "metadata": {
    "execution": {},
    "executionInfo": {
     "elapsed": 5,
     "status": "ok",
     "timestamp": 1682613210106,
     "user": {
      "displayName": "Matthias Aengenheyster",
      "userId": "16322208118439170907"
     },
     "user_tz": -120
    }
   },
   "outputs": [],
   "source": [
    "# data_city = data.sel(city=city,model='MPI-ESM1-2-HR')"
   ]
  },
  {
   "cell_type": "code",
   "execution_count": null,
   "metadata": {
    "execution": {},
    "executionInfo": {
     "elapsed": 393,
     "status": "ok",
     "timestamp": 1682613210726,
     "user": {
      "displayName": "Matthias Aengenheyster",
      "userId": "16322208118439170907"
     },
     "user_tz": -120
    }
   },
   "outputs": [],
   "source": [
    "# data_city"
   ]
  },
  {
   "cell_type": "markdown",
   "metadata": {
    "execution": {}
   },
   "source": [
    "The data is has daily resolution, for three climate scenarios - those start in 2014, so until 2014 they are the same and then diverge"
   ]
  },
  {
   "cell_type": "code",
   "execution_count": null,
   "metadata": {
    "execution": {},
    "executionInfo": {
     "elapsed": 9719,
     "status": "ok",
     "timestamp": 1682613222660,
     "user": {
      "displayName": "Matthias Aengenheyster",
      "userId": "16322208118439170907"
     },
     "user_tz": -120
    }
   },
   "outputs": [],
   "source": [
    "# fig, ax = plt.subplots(2,sharex=True,figsize=(10,3),constrained_layout=True)\n",
    "# data_city['tasmax'].plot(hue='scenario',ax=ax[0])\n",
    "# data_city['pr'].plot(hue='scenario',ax=ax[1])\n",
    "\n",
    "# ax[0].set_title('Daily maximum surface air temperature')\n",
    "# ax[1].set_title('Precipitation')"
   ]
  },
  {
   "cell_type": "markdown",
   "metadata": {
    "execution": {}
   },
   "source": [
    "Do the same with a 30-year rolling mean"
   ]
  },
  {
   "cell_type": "code",
   "execution_count": null,
   "metadata": {
    "execution": {},
    "executionInfo": {
     "elapsed": 20629,
     "status": "ok",
     "timestamp": 1682613243285,
     "user": {
      "displayName": "Matthias Aengenheyster",
      "userId": "16322208118439170907"
     },
     "user_tz": -120
    }
   },
   "outputs": [],
   "source": [
    "# fig, ax = plt.subplots(2,sharex=True,figsize=(10,3),constrained_layout=True)\n",
    "# data_city['tasmax'].rolling(time=30*365).mean().plot(hue='scenario',ax=ax[0])\n",
    "# data_city['pr'].rolling(time=30*365).mean().plot(hue='scenario',ax=ax[1],add_legend=False)\n",
    "\n",
    "# ax[0].set_title('Daily maximum surface air temperature')\n",
    "# ax[1].set_title('Precipitation')"
   ]
  },
  {
   "cell_type": "markdown",
   "metadata": {
    "execution": {}
   },
   "source": [
    "In the previous tutorials we have been operating on annual maxima data. That is want to take the day in each year with the highest temperature or the largest amount of rainfall"
   ]
  },
  {
   "cell_type": "markdown",
   "metadata": {
    "execution": {}
   },
   "source": [
    "Let's focus on precipitation for now, and compute the maximum for each year"
   ]
  },
  {
   "cell_type": "code",
   "execution_count": null,
   "metadata": {
    "execution": {},
    "executionInfo": {
     "elapsed": 737,
     "status": "error",
     "timestamp": 1682613244016,
     "user": {
      "displayName": "Matthias Aengenheyster",
      "userId": "16322208118439170907"
     },
     "user_tz": -120
    }
   },
   "outputs": [],
   "source": [
    "import xarray as xr\n",
    "xr.DataArray(\n",
    "     np.linspace(0, 11, num=12),\n",
    "     coords=[\n",
    "         pd.date_range(\n",
    "             \"1999-12-15\",\n",
    "             periods=12,\n",
    "             freq=pd.DateOffset(months=1),\n",
    "         )\n",
    "     ],\n",
    "     dims=\"time\",\n",
    ").resample(time=\"QS-DEC\").mean()"
   ]
  },
  {
   "cell_type": "code",
   "execution_count": null,
   "metadata": {
    "execution": {},
    "executionInfo": {
     "elapsed": 10,
     "status": "error",
     "timestamp": 1681920139984,
     "user": {
      "displayName": "Matthias Aengenheyster",
      "userId": "16322208118439170907"
     },
     "user_tz": -60
    }
   },
   "outputs": [],
   "source": [
    "# pr_city = data_city['pr']\n",
    "# pr_city_max= pr_city.resample(time='1Y').max()"
   ]
  },
  {
   "cell_type": "code",
   "execution_count": null,
   "metadata": {
    "execution": {},
    "executionInfo": {
     "elapsed": 831,
     "status": "ok",
     "timestamp": 1681922076501,
     "user": {
      "displayName": "Matthias Aengenheyster",
      "userId": "16322208118439170907"
     },
     "user_tz": -60
    }
   },
   "outputs": [],
   "source": [
    "# pr_city.groupby('time.year').max()"
   ]
  },
  {
   "cell_type": "code",
   "execution_count": null,
   "metadata": {
    "execution": {}
   },
   "outputs": [],
   "source": [
    "# fig, ax = plt.subplots()\n",
    "# pr_city_max.plot(hue='scenario',ax=ax)\n",
    "\n",
    "# ax.set_title('Annual maximum precipitation')"
   ]
  },
  {
   "cell_type": "markdown",
   "metadata": {
    "execution": {}
   },
   "source": [
    "Repeat the previous analysis: take the historical run (1850-2014), look at three 30-year periods, and compute Extreme Values. Change the periods because the historical run ends in 2014. Therefore just select one of the scenarios."
   ]
  },
  {
   "cell_type": "code",
   "execution_count": null,
   "metadata": {
    "execution": {}
   },
   "outputs": [],
   "source": [
    "# data_period1 = pr_city_max.sel(scenario='ssp245',time=slice('2014')).sel(time=slice('1925','1954')).to_pandas()\n",
    "# data_period2 = pr_city_max.sel(scenario='ssp245',time=slice('2014')).sel(time=slice('1955','1984')).to_pandas()\n",
    "# data_period3 = pr_city_max.sel(scenario='ssp245',time=slice('2014')).sel(time=slice('1985','2015')).to_pandas()"
   ]
  },
  {
   "cell_type": "code",
   "execution_count": null,
   "metadata": {
    "execution": {}
   },
   "outputs": [],
   "source": [
    "# sns.histplot(data_period1,bins=np.arange(20,90,5),color='C0',element='step',alpha=0.5,kde=True,label='1931-1960')\n",
    "# sns.histplot(data_period2,bins=np.arange(20,90,5),color='C1',element='step',alpha=0.5,kde=True,label='1961-1990')\n",
    "# sns.histplot(data_period3,bins=np.arange(20,90,5),color='C2',element='step',alpha=0.5,kde=True,label='1991-2020')\n",
    "# plt.legend()"
   ]
  },
  {
   "cell_type": "code",
   "execution_count": null,
   "metadata": {
    "execution": {}
   },
   "outputs": [],
   "source": [
    "# periods_stats = pd.DataFrame(index=['Mean','Standard Deviation','Skew'])\n",
    "# periods_stats['1931-1960'] = [data_period1.mean(), data_period1.std(), data_period1.skew()]\n",
    "# periods_stats['1961-1990'] = [data_period2.mean(), data_period2.std(), data_period2.skew()]\n",
    "# periods_stats['1991-2020'] = [data_period3.mean(), data_period3.std(), data_period3.skew()]\n",
    "\n",
    "# periods_stats = periods_stats.T\n",
    "# periods_stats"
   ]
  },
  {
   "cell_type": "code",
   "execution_count": null,
   "metadata": {
    "execution": {}
   },
   "outputs": [],
   "source": [
    "# fit_period1, model_period1 = ef.fit_return_levels_sdfc(data_period1.values,times=np.arange(1.1,1000),periods_per_year=1,kind='GEV',N_boot=1000,full=True,model=True)\n",
    "# fit_period2, model_period2 = ef.fit_return_levels_sdfc(data_period2.values,times=np.arange(1.1,1000),periods_per_year=1,kind='GEV',N_boot=1000,full=True,model=True)\n",
    "# fit_period3, model_period3 = ef.fit_return_levels_sdfc(data_period3.values,times=np.arange(1.1,1000),periods_per_year=1,kind='GEV',N_boot=1000,full=True,model=True)"
   ]
  },
  {
   "cell_type": "code",
   "execution_count": null,
   "metadata": {
    "execution": {}
   },
   "outputs": [],
   "source": [
    "# fig, ax = plt.subplots()\n",
    "# x = np.linspace(20,90,1000)\n",
    "# ax.plot(x,gev.pdf(\n",
    "#     x,\n",
    "#     -model_period1.shape.mean(),\n",
    "#     loc=model_period1.loc.mean(),\n",
    "#     scale=model_period1.scale.mean()\n",
    "#     ),\n",
    "#     c='C0',lw=3,label='1931-1960')\n",
    "# ax.plot(x,gev.pdf(\n",
    "#     x,\n",
    "#     -model_period2.shape.mean(),\n",
    "#     loc=model_period2.loc.mean(),\n",
    "#     scale=model_period2.scale.mean()\n",
    "#     ),\n",
    "#     c='C1',lw=3,label='1961-1990')\n",
    "# ax.plot(x,gev.pdf(\n",
    "#     x,\n",
    "#     -model_period3.shape.mean(),\n",
    "#     loc=model_period3.loc.mean(),\n",
    "#     scale=model_period3.scale.mean()\n",
    "#     ),\n",
    "#     c='C2',lw=3,label='1991-2020')\n",
    "# ax.legend()\n",
    "# ax.set_xlabel('annual maximum precipitation (mm/day)')\n",
    "# ax.set_ylabel('Density')"
   ]
  },
  {
   "cell_type": "code",
   "execution_count": null,
   "metadata": {
    "execution": {}
   },
   "outputs": [],
   "source": [
    "# parameters = pd.DataFrame(index=['Location', 'Scale', 'Shape'])\n",
    "# parameters['1931-1960'] = [model_period1.loc.mean(), model_period1.scale.mean(), model_period1.shape.mean()]\n",
    "# parameters['1961-1990'] = [model_period2.loc.mean(), model_period2.scale.mean(), model_period2.shape.mean()]\n",
    "# parameters['1991-2020'] = [model_period3.loc.mean(), model_period3.scale.mean(), model_period3.shape.mean()]\n",
    "\n",
    "# parameters = parameters.T\n",
    "# parameters.round(4)#.astype('%.2f')"
   ]
  },
  {
   "cell_type": "markdown",
   "metadata": {
    "execution": {}
   },
   "source": [
    "# Scenarios"
   ]
  },
  {
   "cell_type": "markdown",
   "metadata": {
    "execution": {}
   },
   "source": [
    "Now let's look at hot days in possible climate futures: the years 2050-2080"
   ]
  },
  {
   "cell_type": "code",
   "execution_count": null,
   "metadata": {
    "execution": {}
   },
   "outputs": [],
   "source": [
    "# data"
   ]
  },
  {
   "cell_type": "code",
   "execution_count": null,
   "metadata": {
    "execution": {}
   },
   "outputs": [],
   "source": [
    "# data_city = data.sel(city=city,model='MPI-ESM1-2-HR')"
   ]
  },
  {
   "cell_type": "code",
   "execution_count": null,
   "metadata": {
    "execution": {}
   },
   "outputs": [],
   "source": [
    "# tasmax_city_fut = data_city['tasmax'].sel(time=slice('2050','2079')).resample(time='1Y').max()"
   ]
  },
  {
   "cell_type": "code",
   "execution_count": null,
   "metadata": {
    "execution": {}
   },
   "outputs": [],
   "source": [
    "# sns.histplot(data=tasmax_city_fut.to_dataframe()['tasmax'].reset_index(),x='tasmax',hue='scenario',kde=True,bins=np.arange(294,302,0.5))#.plot.hist(hue='scenario')"
   ]
  },
  {
   "cell_type": "code",
   "execution_count": null,
   "metadata": {
    "execution": {}
   },
   "outputs": [],
   "source": [
    "# data_period1 = tasmax_city_fut.sel(scenario='ssp126').to_pandas()\n",
    "# data_period2 = tasmax_city_fut.sel(scenario='ssp245').to_pandas()\n",
    "# data_period3 = tasmax_city_fut.sel(scenario='ssp585').to_pandas()"
   ]
  },
  {
   "cell_type": "code",
   "execution_count": null,
   "metadata": {
    "execution": {}
   },
   "outputs": [],
   "source": [
    "# sns.histplot(data_period1,bins=np.arange(294,302,0.5),color='C0',element='step',alpha=0.5,kde=True,label='1931-1960')\n",
    "# sns.histplot(data_period2,bins=np.arange(294,302,0.5),color='C1',element='step',alpha=0.5,kde=True,label='1961-1990')\n",
    "# sns.histplot(data_period3,bins=np.arange(294,302,0.5),color='C2',element='step',alpha=0.5,kde=True,label='1991-2020')\n",
    "# plt.legend()"
   ]
  },
  {
   "cell_type": "code",
   "execution_count": null,
   "metadata": {
    "execution": {}
   },
   "outputs": [],
   "source": [
    "# periods_stats = pd.DataFrame(index=['Mean','Standard Deviation','Skew'])\n",
    "# periods_stats['1931-1960'] = [data_period1.mean(), data_period1.std(), data_period1.skew()]\n",
    "# periods_stats['1961-1990'] = [data_period2.mean(), data_period2.std(), data_period2.skew()]\n",
    "# periods_stats['1991-2020'] = [data_period3.mean(), data_period3.std(), data_period3.skew()]\n",
    "\n",
    "# periods_stats = periods_stats.T\n",
    "# periods_stats"
   ]
  },
  {
   "cell_type": "code",
   "execution_count": null,
   "metadata": {
    "execution": {}
   },
   "outputs": [],
   "source": [
    "# fit_period1, model_period1 = ef.fit_return_levels_sdfc(data_period1.values,times=np.arange(1.1,1000),periods_per_year=1,kind='GEV',N_boot=1000,full=True,model=True)\n",
    "# fit_period2, model_period2 = ef.fit_return_levels_sdfc(data_period2.values,times=np.arange(1.1,1000),periods_per_year=1,kind='GEV',N_boot=1000,full=True,model=True)\n",
    "# fit_period3, model_period3 = ef.fit_return_levels_sdfc(data_period3.values,times=np.arange(1.1,1000),periods_per_year=1,kind='GEV',N_boot=1000,full=True,model=True)"
   ]
  },
  {
   "cell_type": "code",
   "execution_count": null,
   "metadata": {
    "execution": {}
   },
   "outputs": [],
   "source": [
    "# fig, ax = plt.subplots()\n",
    "# x = np.linspace(293,302,1000)\n",
    "# ax.plot(x,gev.pdf(\n",
    "#     x,\n",
    "#     -model_period1.shape.mean(),\n",
    "#     loc=model_period1.loc.mean(),\n",
    "#     scale=model_period1.scale.mean()\n",
    "#     ),\n",
    "#     c='C0',lw=3,label='1931-1960')\n",
    "# ax.plot(x,gev.pdf(\n",
    "#     x,\n",
    "#     -model_period2.shape.mean(),\n",
    "#     loc=model_period2.loc.mean(),\n",
    "#     scale=model_period2.scale.mean()\n",
    "#     ),\n",
    "#     c='C1',lw=3,label='1961-1990')\n",
    "# ax.plot(x,gev.pdf(\n",
    "#     x,\n",
    "#     -model_period3.shape.mean(),\n",
    "#     loc=model_period3.loc.mean(),\n",
    "#     scale=model_period3.scale.mean()\n",
    "#     ),\n",
    "#     c='C2',lw=3,label='1991-2020')\n",
    "# ax.legend()\n",
    "# ax.set_xlabel('annual maximum daily maximum temperature (K)')\n",
    "# ax.set_ylabel('Density')"
   ]
  },
  {
   "cell_type": "code",
   "execution_count": null,
   "metadata": {
    "execution": {}
   },
   "outputs": [],
   "source": [
    "# parameters = pd.DataFrame(index=['Location', 'Scale', 'Shape'])\n",
    "# parameters['1931-1960'] = [model_period1.loc.mean(), model_period1.scale.mean(), model_period1.shape.mean()]\n",
    "# parameters['1961-1990'] = [model_period2.loc.mean(), model_period2.scale.mean(), model_period2.shape.mean()]\n",
    "# parameters['1991-2020'] = [model_period3.loc.mean(), model_period3.scale.mean(), model_period3.shape.mean()]\n",
    "\n",
    "# parameters = parameters.T\n",
    "# parameters.round(4)#.astype('%.2f')"
   ]
  },
  {
   "cell_type": "code",
   "execution_count": null,
   "metadata": {
    "execution": {}
   },
   "outputs": [],
   "source": [
    "# ef.plot_levels_from_obj(fit_period1,alpha=0.95)\n",
    "# ef.plot_levels_from_obj(fit_period2,alpha=0.95,ax=plt.gca(),c='C1')\n",
    "# ef.plot_levels_from_obj(fit_period3,alpha=0.95,ax=plt.gca(),c='C2')\n",
    "# # plt.xlim(1.5,1000)\n",
    "# # plt.ylim(0,None)\n",
    "# # plt.semilogx()"
   ]
  },
  {
   "cell_type": "markdown",
   "metadata": {
    "execution": {}
   },
   "source": [
    "# Potential add-on: spatial analysis"
   ]
  },
  {
   "cell_type": "markdown",
   "metadata": {
    "execution": {}
   },
   "source": [
    "TBD"
   ]
  }
 ],
 "metadata": {
  "colab": {
   "collapsed_sections": [],
   "include_colab_link": true,
   "name": "W2D4_Tutorial7",
   "provenance": [],
   "toc_visible": true
  },
  "kernel": {
   "display_name": "Python 3",
   "language": "python",
   "name": "python3"
  },
  "kernelspec": {
   "display_name": "Python 3 (pangeo)",
   "language": "python",
   "name": "pangeo"
  },
  "language_info": {
   "codemirror_mode": {
    "name": "ipython",
    "version": 3
   },
   "file_extension": ".py",
   "mimetype": "text/x-python",
   "name": "python",
   "nbconvert_exporter": "python",
   "pygments_lexer": "ipython3",
   "version": "3.10.10"
  }
 },
 "nbformat": 4,
 "nbformat_minor": 0
}