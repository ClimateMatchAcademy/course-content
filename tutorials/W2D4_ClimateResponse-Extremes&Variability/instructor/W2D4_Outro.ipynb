{
 "cells": [
  {
   "cell_type": "markdown",
   "id": "084bf941",
   "metadata": {
    "execution": {}
   },
   "source": [
    "# Outro"
   ]
  },
  {
   "cell_type": "markdown",
   "id": "b1ebf297",
   "metadata": {
    "execution": {}
   },
   "source": [
    "Yesterday covered the socio-economic basis of climate change, that is the origin of climate change and the possible future scenarios of the human impact on climate. Today is concerned which the reverse causality, by looking at one of the most important impacts of climate and climate change on humanity: extreme events. Due to human impact on climate covered yesterday, thus changes in (future) extreme events are also one of the most important consequences of past, present and future human behavior.\n"
   ]
  }
 ],
 "metadata": {
  "colab": {
   "collapsed_sections": [],
   "include_colab_link": true,
   "name": "W2D4_Outro",
   "toc_visible": true
  },
  "kernel": {
   "display_name": "Python 3",
   "language": "python",
   "name": "python3"
  },
  "kernelspec": {
   "display_name": "Python 3 (ipykernel)",
   "language": "python",
   "name": "python3"
  },
  "language_info": {
   "codemirror_mode": {
    "name": "ipython",
    "version": 3
   },
   "file_extension": ".py",
   "mimetype": "text/x-python",
   "name": "python",
   "nbconvert_exporter": "python",
   "pygments_lexer": "ipython3",
   "version": "3.10.12"
  }
 },
 "nbformat": 4,
 "nbformat_minor": 5
}
