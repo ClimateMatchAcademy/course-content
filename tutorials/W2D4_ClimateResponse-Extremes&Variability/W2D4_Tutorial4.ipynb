{
 "cells": [
  {
   "cell_type": "markdown",
   "metadata": {},
   "source": [
    "# **Tutorial 4: Return Levels Using Normal and GEV Distributions**\n",
    "\n",
    "**Week 2, Day 4, Extremes & Vulnerability**\n",
    "\n",
    "**Content creators:** Matthias Aengenheyster, Joeri Reinders\n",
    "\n",
    "**Content reviewers:** Younkap Nina Duplex, Sloane Garelick, Zahra Khodakaramimaghsoud, Peter Ohue, Laura Paccini, Jenna Pearson, Agustina Pesce, Derick Temfack, Peizhen Yang, Cheng Zhang, Chi Zhang, Ohad Zivan\n",
    "\n",
    "**Content editors:** Jenna Pearson, Chi Zhang, Ohad Zivan\n",
    "\n",
    "**Production editors:** Wesley Banfield, Jenna Pearson, Chi Zhang, Ohad Zivan\n",
    "\n",
    "**Our 2023 Sponsors:** NASA TOPS"
   ]
  },
  {
   "cell_type": "markdown",
   "metadata": {},
   "source": [
    "# **Tutorial Objectives**"
   ]
  },
  {
   "cell_type": "markdown",
   "metadata": {},
   "source": [
    "Now that we have learned how to create a PDF for the GEV distribution, we can utilize it to calculate return values based on this distribution.\n",
    "\n",
    "Return levels are computed from a PDF using the cumulative distribution function (CDF), which provides the probability that a randomly drawn variable from our distribution will be less than a certain value X (for our specific variable). In the case of extreme events, rare values have a higher probability since most random draws tend to be smaller, such as in the case of small storms. For example, if there is a 99% chance of observing a storm with 80mm of rainfall or higher, it means that there is a 1% chance of observing a storm with at least 80mm of rainfall. This implies that the 100-year storm would bring 80mm of rain. In simple terms, the return level is the inverse of the CDF.\n",
    "\n",
    "To compute return levels, you can use the function estimate_return_level_from_params(x, location, scale, shape). In this case, x represents the probability of a random value from our distribution being lower. For example, for the 100-year storm, x would be 0.99, and for the 1000-year storm, it would be 0.999.\n",
    "\n",
    "By the end of this tutorial, you will be able to:\n",
    "\n",
    "- Estimate return levels using a given quantile and the parameters of a GEV distribution.\n",
    "- Compare return level plots for GEV and normal distributions."
   ]
  },
  {
   "cell_type": "markdown",
   "metadata": {},
   "source": [
    "# **Setup**"
   ]
  },
  {
   "cell_type": "code",
   "execution_count": 4,
   "metadata": {},
   "outputs": [
    {
     "name": "stdout",
     "output_type": "stream",
     "text": [
      "Using pip 23.1.2 from C:\\ProgramData\\Anaconda3\\envs\\climatematch_test\\lib\\site-packages\\pip (python 3.10)\n",
      "Defaulting to user installation because normal site-packages is not writeable\n",
      "Collecting https://github.com/yrobink/SDFC/archive/master.zip#subdirectory=python\n",
      "  Using cached https://github.com/yrobink/SDFC/archive/master.zip\n",
      "  Preparing metadata (setup.py): started\n",
      "  Preparing metadata (setup.py): finished with status 'done'\n",
      "Requirement already satisfied: pybind11>=2.2 in c:\\programdata\\anaconda3\\envs\\climatematch_test\\lib\\site-packages (from SDFC==0.5.0) (2.10.4)\n",
      "Building wheels for collected packages: SDFC\n",
      "  Building wheel for SDFC (setup.py): started\n",
      "  Building wheel for SDFC (setup.py): finished with status 'error'\n",
      "  Running setup.py clean for SDFC\n",
      "Failed to build SDFC\n"
     ]
    },
    {
     "name": "stderr",
     "output_type": "stream",
     "text": [
      "  Running command python setup.py egg_info\n",
      "  running egg_info\n",
      "  creating C:\\Users\\ohadz\\AppData\\Local\\Temp\\pip-pip-egg-info-l8a79yyq\\SDFC.egg-info\n",
      "  writing C:\\Users\\ohadz\\AppData\\Local\\Temp\\pip-pip-egg-info-l8a79yyq\\SDFC.egg-info\\PKG-INFO\n",
      "  writing dependency_links to C:\\Users\\ohadz\\AppData\\Local\\Temp\\pip-pip-egg-info-l8a79yyq\\SDFC.egg-info\\dependency_links.txt\n",
      "  writing requirements to C:\\Users\\ohadz\\AppData\\Local\\Temp\\pip-pip-egg-info-l8a79yyq\\SDFC.egg-info\\requires.txt\n",
      "  writing top-level names to C:\\Users\\ohadz\\AppData\\Local\\Temp\\pip-pip-egg-info-l8a79yyq\\SDFC.egg-info\\top_level.txt\n",
      "  writing manifest file 'C:\\Users\\ohadz\\AppData\\Local\\Temp\\pip-pip-egg-info-l8a79yyq\\SDFC.egg-info\\SOURCES.txt'\n",
      "  reading manifest file 'C:\\Users\\ohadz\\AppData\\Local\\Temp\\pip-pip-egg-info-l8a79yyq\\SDFC.egg-info\\SOURCES.txt'\n",
      "  adding license file 'LICENSE_EN'\n",
      "  adding license file 'LICENSE_FR'\n",
      "  writing manifest file 'C:\\Users\\ohadz\\AppData\\Local\\Temp\\pip-pip-egg-info-l8a79yyq\\SDFC.egg-info\\SOURCES.txt'\n",
      "  Running command python setup.py bdist_wheel\n",
      "  running bdist_wheel\n",
      "  running build\n",
      "  running build_py\n",
      "  creating build\n",
      "  creating build\\lib.win-amd64-cpython-310\n",
      "  creating build\\lib.win-amd64-cpython-310\\SDFC\n",
      "  copying SDFC\\__AbstractLaw.py -> build\\lib.win-amd64-cpython-310\\SDFC\n",
      "  copying SDFC\\__Exponential.py -> build\\lib.win-amd64-cpython-310\\SDFC\n",
      "  copying SDFC\\__Gamma.py -> build\\lib.win-amd64-cpython-310\\SDFC\n",
      "  copying SDFC\\__GEV.py -> build\\lib.win-amd64-cpython-310\\SDFC\n",
      "  copying SDFC\\__GPD.py -> build\\lib.win-amd64-cpython-310\\SDFC\n",
      "  copying SDFC\\__init__.py -> build\\lib.win-amd64-cpython-310\\SDFC\n",
      "  copying SDFC\\__Normal.py -> build\\lib.win-amd64-cpython-310\\SDFC\n",
      "  creating build\\lib.win-amd64-cpython-310\\SDFC\\tools\n",
      "  copying SDFC\\tools\\__dataset.py -> build\\lib.win-amd64-cpython-310\\SDFC\\tools\n",
      "  copying SDFC\\tools\\__init__.py -> build\\lib.win-amd64-cpython-310\\SDFC\\tools\n",
      "  copying SDFC\\tools\\__LawParams.py -> build\\lib.win-amd64-cpython-310\\SDFC\\tools\n",
      "  copying SDFC\\tools\\__Link.py -> build\\lib.win-amd64-cpython-310\\SDFC\\tools\n",
      "  copying SDFC\\tools\\__plot_confidences_intervals.py -> build\\lib.win-amd64-cpython-310\\SDFC\\tools\n",
      "  creating build\\lib.win-amd64-cpython-310\\SDFC\\NonParametric\n",
      "  copying SDFC\\NonParametric\\__cov.py -> build\\lib.win-amd64-cpython-310\\SDFC\\NonParametric\n",
      "  copying SDFC\\NonParametric\\__init__.py -> build\\lib.win-amd64-cpython-310\\SDFC\\NonParametric\n",
      "  copying SDFC\\NonParametric\\__lmoments.py -> build\\lib.win-amd64-cpython-310\\SDFC\\NonParametric\n",
      "  copying SDFC\\NonParametric\\__mean.py -> build\\lib.win-amd64-cpython-310\\SDFC\\NonParametric\n",
      "  copying SDFC\\NonParametric\\__median.py -> build\\lib.win-amd64-cpython-310\\SDFC\\NonParametric\n",
      "  copying SDFC\\NonParametric\\__quantile.py -> build\\lib.win-amd64-cpython-310\\SDFC\\NonParametric\n",
      "  copying SDFC\\NonParametric\\__std.py -> build\\lib.win-amd64-cpython-310\\SDFC\\NonParametric\n",
      "  copying SDFC\\NonParametric\\__var.py -> build\\lib.win-amd64-cpython-310\\SDFC\\NonParametric\n",
      "  running build_ext\n",
      "  building 'SDFC.NonParametric.__NonParametric_cpp' extension\n",
      "  creating build\\temp.win-amd64-cpython-310\n",
      "  creating build\\temp.win-amd64-cpython-310\\Release\n",
      "  creating build\\temp.win-amd64-cpython-310\\Release\\SDFC\n",
      "  creating build\\temp.win-amd64-cpython-310\\Release\\SDFC\\src\n",
      "  \"C:\\Program Files (x86)\\Microsoft Visual Studio\\2022\\BuildTools\\VC\\Tools\\MSVC\\14.32.31326\\bin\\HostX86\\x64\\cl.exe\" /c /nologo /O2 /W3 /GL /DNDEBUG /MD -I -IC:\\ProgramData\\Anaconda3\\envs\\climatematch_test\\lib\\site-packages\\pybind11\\include -IC:\\ProgramData\\Anaconda3\\envs\\climatematch_test\\lib\\site-packages\\pybind11\\include -IC:\\ProgramData\\Anaconda3\\envs\\climatematch_test\\include -IC:\\ProgramData\\Anaconda3\\envs\\climatematch_test\\Include \"-IC:\\Program Files (x86)\\Microsoft Visual Studio\\2022\\BuildTools\\VC\\Tools\\MSVC\\14.32.31326\\include\" \"-IC:\\Program Files (x86)\\Windows Kits\\10\\include\\10.0.19041.0\\ucrt\" \"-IC:\\Program Files (x86)\\Windows Kits\\10\\\\include\\10.0.19041.0\\\\shared\" \"-IC:\\Program Files (x86)\\Windows Kits\\10\\\\include\\10.0.19041.0\\\\um\" \"-IC:\\Program Files (x86)\\Windows Kits\\10\\\\include\\10.0.19041.0\\\\winrt\" \"-IC:\\Program Files (x86)\\Windows Kits\\10\\\\include\\10.0.19041.0\\\\cppwinrt\" /EHsc /TpSDFC/src/NonParametric.cpp /Fobuild\\temp.win-amd64-cpython-310\\Release\\SDFC/src/NonParametric.obj /EHsc -O3 /DVERSION_INFO=\\\\\\\"0.5.0\\\\\\\"\n",
      "  cl : Command line warning D9002 : ignoring unknown option '-O3'\n",
      "  NonParametric.cpp\n",
      "  C:\\ProgramData\\Anaconda3\\envs\\climatematch_test\\lib\\site-packages\\pybind11\\include\\pybind11\\eigen/matrix.h(26): fatal error C1083: Cannot open include file: 'Eigen/Core': No such file or directory\n",
      "  error: command 'C:\\\\Program Files (x86)\\\\Microsoft Visual Studio\\\\2022\\\\BuildTools\\\\VC\\\\Tools\\\\MSVC\\\\14.32.31326\\\\bin\\\\HostX86\\\\x64\\\\cl.exe' failed with exit code 2\n",
      "  error: subprocess-exited-with-error\n",
      "  \n",
      "  python setup.py bdist_wheel did not run successfully.\n",
      "  exit code: 1\n",
      "  \n",
      "  See above for output.\n",
      "  \n",
      "  note: This error originates from a subprocess, and is likely not a problem with pip.\n",
      "  full command: 'C:\\ProgramData\\Anaconda3\\envs\\climatematch_test\\python.exe' -u -c '\n",
      "  exec(compile('\"'\"''\"'\"''\"'\"'\n",
      "  # This is <pip-setuptools-caller> -- a caller that pip uses to run setup.py\n",
      "  #\n",
      "  # - It imports setuptools before invoking setup.py, to enable projects that directly\n",
      "  #   import from `distutils.core` to work with newer packaging standards.\n",
      "  # - It provides a clear error message when setuptools is not installed.\n",
      "  # - It sets `sys.argv[0]` to the underlying `setup.py`, when invoking `setup.py` so\n",
      "  #   setuptools doesn'\"'\"'t think the script is `-c`. This avoids the following warning:\n",
      "  #     manifest_maker: standard file '\"'\"'-c'\"'\"' not found\".\n",
      "  # - It generates a shim setup.py, for handling setup.cfg-only projects.\n",
      "  import os, sys, tokenize\n",
      "  \n",
      "  try:\n",
      "      import setuptools\n",
      "  except ImportError as error:\n",
      "      print(\n",
      "          \"ERROR: Can not execute `setup.py` since setuptools is not available in \"\n",
      "          \"the build environment.\",\n",
      "          file=sys.stderr,\n",
      "      )\n",
      "      sys.exit(1)\n",
      "  \n",
      "  __file__ = %r\n",
      "  sys.argv[0] = __file__\n",
      "  \n",
      "  if os.path.exists(__file__):\n",
      "      filename = __file__\n",
      "      with tokenize.open(__file__) as f:\n",
      "          setup_py_code = f.read()\n",
      "  else:\n",
      "      filename = \"<auto-generated setuptools caller>\"\n",
      "      setup_py_code = \"from setuptools import setup; setup()\"\n",
      "  \n",
      "  exec(compile(setup_py_code, filename, \"exec\"))\n",
      "  '\"'\"''\"'\"''\"'\"' % ('\"'\"'C:\\\\Users\\\\ohadz\\\\AppData\\\\Local\\\\Temp\\\\pip-req-build-zixlszwx\\\\python\\\\setup.py'\"'\"',), \"<pip-setuptools-caller>\", \"exec\"))' bdist_wheel -d 'C:\\Users\\ohadz\\AppData\\Local\\Temp\\pip-wheel-3u3228le'\n",
      "  cwd: C:\\Users\\ohadz\\AppData\\Local\\Temp\\pip-req-build-zixlszwx\\python\n",
      "  ERROR: Failed building wheel for SDFC\n",
      "  Running command python setup.py clean\n",
      "  running clean\n",
      "  'build\\lib.win-amd64-cpython-310' does not exist -- can't clean it\n",
      "  'build\\bdist.win-amd64' does not exist -- can't clean it\n",
      "  'build\\scripts-3.10' does not exist -- can't clean it\n",
      "ERROR: Could not build wheels for SDFC, which is required to install pyproject.toml-based projects\n"
     ]
    }
   ],
   "source": [
    "# Installs\n",
    "!pip install -v https://github.com/yrobink/SDFC/archive/master.zip#subdirectory=python\n"
   ]
  },
  {
   "cell_type": "code",
   "execution_count": 1,
   "metadata": {
    "execution": {},
    "tags": [
     "colab"
    ]
   },
   "outputs": [
    {
     "name": "stdout",
     "output_type": "stream",
     "text": [
      "Defaulting to user installation because normal site-packages is not writeable\n",
      "Collecting eigen\n",
      "  Downloading eigen-0.0.1-py3-none-any.whl (1.2 kB)\n",
      "Installing collected packages: eigen\n",
      "Successfully installed eigen-0.0.1\n",
      "Using pip 23.1.2 from C:\\ProgramData\\Anaconda3\\envs\\climatematch_test\\lib\\site-packages\\pip (python 3.10)\n",
      "Defaulting to user installation because normal site-packages is not writeable\n",
      "Collecting https://github.com/yrobink/SDFC/archive/master.zip#subdirectory=python\n",
      "  Using cached https://github.com/yrobink/SDFC/archive/master.zip\n",
      "  Preparing metadata (setup.py): started\n",
      "  Preparing metadata (setup.py): finished with status 'done'\n",
      "Requirement already satisfied: pybind11>=2.2 in c:\\programdata\\anaconda3\\envs\\climatematch_test\\lib\\site-packages (from SDFC==0.5.0) (2.10.4)\n",
      "Building wheels for collected packages: SDFC\n",
      "  Building wheel for SDFC (setup.py): started\n",
      "  Building wheel for SDFC (setup.py): finished with status 'error'\n",
      "  Running setup.py clean for SDFC\n",
      "Failed to build SDFC\n"
     ]
    },
    {
     "name": "stderr",
     "output_type": "stream",
     "text": [
      "  Running command python setup.py egg_info\n",
      "  running egg_info\n",
      "  creating C:\\Users\\ohadz\\AppData\\Local\\Temp\\pip-pip-egg-info-sp4gy044\\SDFC.egg-info\n",
      "  writing C:\\Users\\ohadz\\AppData\\Local\\Temp\\pip-pip-egg-info-sp4gy044\\SDFC.egg-info\\PKG-INFO\n",
      "  writing dependency_links to C:\\Users\\ohadz\\AppData\\Local\\Temp\\pip-pip-egg-info-sp4gy044\\SDFC.egg-info\\dependency_links.txt\n",
      "  writing requirements to C:\\Users\\ohadz\\AppData\\Local\\Temp\\pip-pip-egg-info-sp4gy044\\SDFC.egg-info\\requires.txt\n",
      "  writing top-level names to C:\\Users\\ohadz\\AppData\\Local\\Temp\\pip-pip-egg-info-sp4gy044\\SDFC.egg-info\\top_level.txt\n",
      "  writing manifest file 'C:\\Users\\ohadz\\AppData\\Local\\Temp\\pip-pip-egg-info-sp4gy044\\SDFC.egg-info\\SOURCES.txt'\n",
      "  reading manifest file 'C:\\Users\\ohadz\\AppData\\Local\\Temp\\pip-pip-egg-info-sp4gy044\\SDFC.egg-info\\SOURCES.txt'\n",
      "  adding license file 'LICENSE_EN'\n",
      "  adding license file 'LICENSE_FR'\n",
      "  writing manifest file 'C:\\Users\\ohadz\\AppData\\Local\\Temp\\pip-pip-egg-info-sp4gy044\\SDFC.egg-info\\SOURCES.txt'\n",
      "  Running command python setup.py bdist_wheel\n",
      "  running bdist_wheel\n",
      "  running build\n",
      "  running build_py\n",
      "  creating build\n",
      "  creating build\\lib.win-amd64-cpython-310\n",
      "  creating build\\lib.win-amd64-cpython-310\\SDFC\n",
      "  copying SDFC\\__AbstractLaw.py -> build\\lib.win-amd64-cpython-310\\SDFC\n",
      "  copying SDFC\\__Exponential.py -> build\\lib.win-amd64-cpython-310\\SDFC\n",
      "  copying SDFC\\__Gamma.py -> build\\lib.win-amd64-cpython-310\\SDFC\n",
      "  copying SDFC\\__GEV.py -> build\\lib.win-amd64-cpython-310\\SDFC\n",
      "  copying SDFC\\__GPD.py -> build\\lib.win-amd64-cpython-310\\SDFC\n",
      "  copying SDFC\\__init__.py -> build\\lib.win-amd64-cpython-310\\SDFC\n",
      "  copying SDFC\\__Normal.py -> build\\lib.win-amd64-cpython-310\\SDFC\n",
      "  creating build\\lib.win-amd64-cpython-310\\SDFC\\tools\n",
      "  copying SDFC\\tools\\__dataset.py -> build\\lib.win-amd64-cpython-310\\SDFC\\tools\n",
      "  copying SDFC\\tools\\__init__.py -> build\\lib.win-amd64-cpython-310\\SDFC\\tools\n",
      "  copying SDFC\\tools\\__LawParams.py -> build\\lib.win-amd64-cpython-310\\SDFC\\tools\n",
      "  copying SDFC\\tools\\__Link.py -> build\\lib.win-amd64-cpython-310\\SDFC\\tools\n",
      "  copying SDFC\\tools\\__plot_confidences_intervals.py -> build\\lib.win-amd64-cpython-310\\SDFC\\tools\n",
      "  creating build\\lib.win-amd64-cpython-310\\SDFC\\NonParametric\n",
      "  copying SDFC\\NonParametric\\__cov.py -> build\\lib.win-amd64-cpython-310\\SDFC\\NonParametric\n",
      "  copying SDFC\\NonParametric\\__init__.py -> build\\lib.win-amd64-cpython-310\\SDFC\\NonParametric\n",
      "  copying SDFC\\NonParametric\\__lmoments.py -> build\\lib.win-amd64-cpython-310\\SDFC\\NonParametric\n",
      "  copying SDFC\\NonParametric\\__mean.py -> build\\lib.win-amd64-cpython-310\\SDFC\\NonParametric\n",
      "  copying SDFC\\NonParametric\\__median.py -> build\\lib.win-amd64-cpython-310\\SDFC\\NonParametric\n",
      "  copying SDFC\\NonParametric\\__quantile.py -> build\\lib.win-amd64-cpython-310\\SDFC\\NonParametric\n",
      "  copying SDFC\\NonParametric\\__std.py -> build\\lib.win-amd64-cpython-310\\SDFC\\NonParametric\n",
      "  copying SDFC\\NonParametric\\__var.py -> build\\lib.win-amd64-cpython-310\\SDFC\\NonParametric\n",
      "  running build_ext\n",
      "  building 'SDFC.NonParametric.__NonParametric_cpp' extension\n",
      "  creating build\\temp.win-amd64-cpython-310\n",
      "  creating build\\temp.win-amd64-cpython-310\\Release\n",
      "  creating build\\temp.win-amd64-cpython-310\\Release\\SDFC\n",
      "  creating build\\temp.win-amd64-cpython-310\\Release\\SDFC\\src\n",
      "  \"C:\\Program Files (x86)\\Microsoft Visual Studio\\2022\\BuildTools\\VC\\Tools\\MSVC\\14.32.31326\\bin\\HostX86\\x64\\cl.exe\" /c /nologo /O2 /W3 /GL /DNDEBUG /MD -I -IC:\\ProgramData\\Anaconda3\\envs\\climatematch_test\\lib\\site-packages\\pybind11\\include -IC:\\ProgramData\\Anaconda3\\envs\\climatematch_test\\lib\\site-packages\\pybind11\\include -IC:\\ProgramData\\Anaconda3\\envs\\climatematch_test\\include -IC:\\ProgramData\\Anaconda3\\envs\\climatematch_test\\Include \"-IC:\\Program Files (x86)\\Microsoft Visual Studio\\2022\\BuildTools\\VC\\Tools\\MSVC\\14.32.31326\\include\" \"-IC:\\Program Files (x86)\\Windows Kits\\10\\include\\10.0.19041.0\\ucrt\" \"-IC:\\Program Files (x86)\\Windows Kits\\10\\\\include\\10.0.19041.0\\\\shared\" \"-IC:\\Program Files (x86)\\Windows Kits\\10\\\\include\\10.0.19041.0\\\\um\" \"-IC:\\Program Files (x86)\\Windows Kits\\10\\\\include\\10.0.19041.0\\\\winrt\" \"-IC:\\Program Files (x86)\\Windows Kits\\10\\\\include\\10.0.19041.0\\\\cppwinrt\" /EHsc /TpSDFC/src/NonParametric.cpp /Fobuild\\temp.win-amd64-cpython-310\\Release\\SDFC/src/NonParametric.obj /EHsc -O3 /DVERSION_INFO=\\\\\\\"0.5.0\\\\\\\"\n",
      "  cl : Command line warning D9002 : ignoring unknown option '-O3'\n",
      "  NonParametric.cpp\n",
      "  C:\\ProgramData\\Anaconda3\\envs\\climatematch_test\\lib\\site-packages\\pybind11\\include\\pybind11\\eigen/matrix.h(26): fatal error C1083: Cannot open include file: 'Eigen/Core': No such file or directory\n",
      "  error: command 'C:\\\\Program Files (x86)\\\\Microsoft Visual Studio\\\\2022\\\\BuildTools\\\\VC\\\\Tools\\\\MSVC\\\\14.32.31326\\\\bin\\\\HostX86\\\\x64\\\\cl.exe' failed with exit code 2\n",
      "  error: subprocess-exited-with-error\n",
      "  \n",
      "  python setup.py bdist_wheel did not run successfully.\n",
      "  exit code: 1\n",
      "  \n",
      "  See above for output.\n",
      "  \n",
      "  note: This error originates from a subprocess, and is likely not a problem with pip.\n",
      "  full command: 'C:\\ProgramData\\Anaconda3\\envs\\climatematch_test\\python.exe' -u -c '\n",
      "  exec(compile('\"'\"''\"'\"''\"'\"'\n",
      "  # This is <pip-setuptools-caller> -- a caller that pip uses to run setup.py\n",
      "  #\n",
      "  # - It imports setuptools before invoking setup.py, to enable projects that directly\n",
      "  #   import from `distutils.core` to work with newer packaging standards.\n",
      "  # - It provides a clear error message when setuptools is not installed.\n",
      "  # - It sets `sys.argv[0]` to the underlying `setup.py`, when invoking `setup.py` so\n",
      "  #   setuptools doesn'\"'\"'t think the script is `-c`. This avoids the following warning:\n",
      "  #     manifest_maker: standard file '\"'\"'-c'\"'\"' not found\".\n",
      "  # - It generates a shim setup.py, for handling setup.cfg-only projects.\n",
      "  import os, sys, tokenize\n",
      "  \n",
      "  try:\n",
      "      import setuptools\n",
      "  except ImportError as error:\n",
      "      print(\n",
      "          \"ERROR: Can not execute `setup.py` since setuptools is not available in \"\n",
      "          \"the build environment.\",\n",
      "          file=sys.stderr,\n",
      "      )\n",
      "      sys.exit(1)\n",
      "  \n",
      "  __file__ = %r\n",
      "  sys.argv[0] = __file__\n",
      "  \n",
      "  if os.path.exists(__file__):\n",
      "      filename = __file__\n",
      "      with tokenize.open(__file__) as f:\n",
      "          setup_py_code = f.read()\n",
      "  else:\n",
      "      filename = \"<auto-generated setuptools caller>\"\n",
      "      setup_py_code = \"from setuptools import setup; setup()\"\n",
      "  \n",
      "  exec(compile(setup_py_code, filename, \"exec\"))\n",
      "  '\"'\"''\"'\"''\"'\"' % ('\"'\"'C:\\\\Users\\\\ohadz\\\\AppData\\\\Local\\\\Temp\\\\pip-req-build-wivszb_o\\\\python\\\\setup.py'\"'\"',), \"<pip-setuptools-caller>\", \"exec\"))' bdist_wheel -d 'C:\\Users\\ohadz\\AppData\\Local\\Temp\\pip-wheel-3xazk6kn'\n",
      "  cwd: C:\\Users\\ohadz\\AppData\\Local\\Temp\\pip-req-build-wivszb_o\\python\n",
      "  ERROR: Failed building wheel for SDFC\n",
      "  Running command python setup.py clean\n",
      "  running clean\n",
      "  'build\\lib.win-amd64-cpython-310' does not exist -- can't clean it\n",
      "  'build\\bdist.win-amd64' does not exist -- can't clean it\n",
      "  'build\\scripts-3.10' does not exist -- can't clean it\n",
      "ERROR: Could not build wheels for SDFC, which is required to install pyproject.toml-based projects\n"
     ]
    },
    {
     "name": "stdout",
     "output_type": "stream",
     "text": [
      "Defaulting to user installation because normal site-packages is not writeable\n",
      "Collecting https://github.com/njleach/mystatsfunctions/archive/master.zip\n",
      "  Using cached https://github.com/njleach/mystatsfunctions/archive/master.zip\n",
      "  Preparing metadata (setup.py): started\n",
      "  Preparing metadata (setup.py): finished with status 'done'\n",
      "Requirement already satisfied: numpy in c:\\users\\ohadz\\appdata\\roaming\\python\\python310\\site-packages (from mystatsfunctions==1.0) (1.23.5)\n",
      "Requirement already satisfied: scipy in c:\\programdata\\anaconda3\\envs\\climatematch_test\\lib\\site-packages (from mystatsfunctions==1.0) (1.10.1)\n"
     ]
    }
   ],
   "source": [
    "# # <Yosmely Bermúdez> comments\n",
    "# #install dependencies\n",
    "# # We need this to install eigen which is needed for SDFC to install correctly\n",
    "# !pip install -q condacolab\n",
    "# import condacolab\n",
    "# condacolab.install()\n",
    "!pip install eigen\n",
    "!pip install -v https://github.com/yrobink/SDFC/archive/master.zip#subdirectory=python\n",
    "!pip install https://github.com/njleach/mystatsfunctions/archive/master.zip\n",
    "# !pip install numpy\n",
    "# !pip install matplotlib\n",
    "# !pip install seaborn\n",
    "# !pip install pandas\n",
    "# !pip install cartopy\n",
    "# !pip install scipy\n",
    "# !pip install texttable"
   ]
  },
  {
   "cell_type": "code",
   "execution_count": 1,
   "metadata": {
    "execution": {},
    "executionInfo": {
     "elapsed": 2204,
     "status": "ok",
     "timestamp": 1681924180496,
     "user": {
      "displayName": "Matthias Aengenheyster",
      "userId": "16322208118439170907"
     },
     "user_tz": -60
    }
   },
   "outputs": [
    {
     "ename": "ModuleNotFoundError",
     "evalue": "No module named 'SDFC'",
     "output_type": "error",
     "traceback": [
      "\u001b[1;31m---------------------------------------------------------------------------\u001b[0m",
      "\u001b[1;31mModuleNotFoundError\u001b[0m                       Traceback (most recent call last)",
      "Input \u001b[1;32mIn [1]\u001b[0m, in \u001b[0;36m<cell line: 9>\u001b[1;34m()\u001b[0m\n\u001b[0;32m      6\u001b[0m \u001b[38;5;28;01mfrom\u001b[39;00m \u001b[38;5;21;01mscipy\u001b[39;00m \u001b[38;5;28;01mimport\u001b[39;00m stats\n\u001b[0;32m      7\u001b[0m gev \u001b[38;5;241m=\u001b[39m stats\u001b[38;5;241m.\u001b[39mgenextreme\n\u001b[1;32m----> 9\u001b[0m \u001b[38;5;28;01mimport\u001b[39;00m \u001b[38;5;21;01mextremes_functions\u001b[39;00m \u001b[38;5;28;01mas\u001b[39;00m \u001b[38;5;21;01mef\u001b[39;00m\n\u001b[0;32m     10\u001b[0m \u001b[38;5;28;01mfrom\u001b[39;00m \u001b[38;5;21;01mmystatsfunctions\u001b[39;00m \u001b[38;5;28;01mimport\u001b[39;00m OLSE,LMoments\n\u001b[0;32m     11\u001b[0m \u001b[38;5;28;01mimport\u001b[39;00m \u001b[38;5;21;01mSDFC\u001b[39;00m \u001b[38;5;28;01mas\u001b[39;00m \u001b[38;5;21;01msd\u001b[39;00m\n",
      "File \u001b[1;32m~\\Desktop\\CMA stuff\\Python\\course-content\\tutorials\\W2D4_ClimateResponse-Extremes&Variability\\extremes_functions.py:2\u001b[0m, in \u001b[0;36m<module>\u001b[1;34m\u001b[0m\n\u001b[0;32m      1\u001b[0m \u001b[38;5;28;01mimport\u001b[39;00m \u001b[38;5;21;01mnumpy\u001b[39;00m \u001b[38;5;28;01mas\u001b[39;00m \u001b[38;5;21;01mnp\u001b[39;00m\n\u001b[1;32m----> 2\u001b[0m \u001b[38;5;28;01mimport\u001b[39;00m \u001b[38;5;21;01mSDFC\u001b[39;00m \u001b[38;5;28;01mas\u001b[39;00m \u001b[38;5;21;01msd\u001b[39;00m\n\u001b[0;32m      3\u001b[0m \u001b[38;5;28;01mimport\u001b[39;00m \u001b[38;5;21;01mxarray\u001b[39;00m \u001b[38;5;28;01mas\u001b[39;00m \u001b[38;5;21;01mxr\u001b[39;00m\n\u001b[0;32m      4\u001b[0m \u001b[38;5;28;01mimport\u001b[39;00m \u001b[38;5;21;01mmatplotlib\u001b[39;00m\u001b[38;5;21;01m.\u001b[39;00m\u001b[38;5;21;01mpyplot\u001b[39;00m \u001b[38;5;28;01mas\u001b[39;00m \u001b[38;5;21;01mplt\u001b[39;00m\n",
      "\u001b[1;31mModuleNotFoundError\u001b[0m: No module named 'SDFC'"
     ]
    }
   ],
   "source": [
    "import numpy as np\n",
    "import matplotlib.pyplot as plt\n",
    "import seaborn as sns\n",
    "import pandas as pd\n",
    "\n",
    "from scipy import stats\n",
    "gev = stats.genextreme\n",
    "\n",
    "import extremes_functions as ef\n",
    "from mystatsfunctions import OLSE,LMoments\n",
    "import SDFC as sd"
   ]
  },
  {
   "cell_type": "code",
   "execution_count": null,
   "metadata": {},
   "outputs": [],
   "source": [
    "# @title Video 1: Speaker Introduction\n",
    "#Tech team will add code to format and display the video"
   ]
  },
  {
   "cell_type": "code",
   "execution_count": null,
   "metadata": {},
   "outputs": [],
   "source": [
    "# @title Figure Settings\n",
    "import ipywidgets as widgets       # interactive display\n",
    "%config InlineBackend.figure_format = 'retina'\n",
    "plt.style.use(\"https://raw.githubusercontent.com/ClimateMatchAcademy/course-content/main/cma.mplstyle\")"
   ]
  },
  {
   "cell_type": "markdown",
   "metadata": {},
   "source": [
    "# **Section 1**"
   ]
  },
  {
   "cell_type": "code",
   "execution_count": 9,
   "metadata": {
    "execution": {},
    "executionInfo": {
     "elapsed": 530,
     "status": "ok",
     "timestamp": 1681924181024,
     "user": {
      "displayName": "Matthias Aengenheyster",
      "userId": "16322208118439170907"
     },
     "user_tz": -60
    }
   },
   "outputs": [],
   "source": [
    "import os, pooch\n",
    "\n",
    "fname = 'precipitationGermany_1920-2022.csv'\n",
    "if not os.path.exists(fname):\n",
    "    url = \"https://osf.io/xs7h6/download\"\n",
    "    fname = pooch.retrieve(url, known_hash=None)\n",
    "\n",
    "data = pd.read_csv(fname, index_col=0).set_index('years')\n",
    "\n",
    "data.columns=['precipitation']\n",
    "precipitation = data.precipitation"
   ]
  },
  {
   "cell_type": "code",
   "execution_count": 10,
   "metadata": {
    "execution": {},
    "executionInfo": {
     "elapsed": 267,
     "status": "ok",
     "timestamp": 1681924238489,
     "user": {
      "displayName": "Matthias Aengenheyster",
      "userId": "16322208118439170907"
     },
     "user_tz": -60
    }
   },
   "outputs": [],
   "source": [
    "fit, model = ef.fit_return_levels_sdfc(precipitation.values,times=np.arange(1.1,1000),periods_per_year=1,kind='GEV',N_boot=10,full=True,model=True)"
   ]
  },
  {
   "cell_type": "code",
   "execution_count": 11,
   "metadata": {},
   "outputs": [
    {
     "data": {
      "text/html": [
       "<div><svg style=\"position: absolute; width: 0; height: 0; overflow: hidden\">\n",
       "<defs>\n",
       "<symbol id=\"icon-database\" viewBox=\"0 0 32 32\">\n",
       "<path d=\"M16 0c-8.837 0-16 2.239-16 5v4c0 2.761 7.163 5 16 5s16-2.239 16-5v-4c0-2.761-7.163-5-16-5z\"></path>\n",
       "<path d=\"M16 17c-8.837 0-16-2.239-16-5v6c0 2.761 7.163 5 16 5s16-2.239 16-5v-6c0 2.761-7.163 5-16 5z\"></path>\n",
       "<path d=\"M16 26c-8.837 0-16-2.239-16-5v6c0 2.761 7.163 5 16 5s16-2.239 16-5v-6c0 2.761-7.163 5-16 5z\"></path>\n",
       "</symbol>\n",
       "<symbol id=\"icon-file-text2\" viewBox=\"0 0 32 32\">\n",
       "<path d=\"M28.681 7.159c-0.694-0.947-1.662-2.053-2.724-3.116s-2.169-2.030-3.116-2.724c-1.612-1.182-2.393-1.319-2.841-1.319h-15.5c-1.378 0-2.5 1.121-2.5 2.5v27c0 1.378 1.122 2.5 2.5 2.5h23c1.378 0 2.5-1.122 2.5-2.5v-19.5c0-0.448-0.137-1.23-1.319-2.841zM24.543 5.457c0.959 0.959 1.712 1.825 2.268 2.543h-4.811v-4.811c0.718 0.556 1.584 1.309 2.543 2.268zM28 29.5c0 0.271-0.229 0.5-0.5 0.5h-23c-0.271 0-0.5-0.229-0.5-0.5v-27c0-0.271 0.229-0.5 0.5-0.5 0 0 15.499-0 15.5 0v7c0 0.552 0.448 1 1 1h7v19.5z\"></path>\n",
       "<path d=\"M23 26h-14c-0.552 0-1-0.448-1-1s0.448-1 1-1h14c0.552 0 1 0.448 1 1s-0.448 1-1 1z\"></path>\n",
       "<path d=\"M23 22h-14c-0.552 0-1-0.448-1-1s0.448-1 1-1h14c0.552 0 1 0.448 1 1s-0.448 1-1 1z\"></path>\n",
       "<path d=\"M23 18h-14c-0.552 0-1-0.448-1-1s0.448-1 1-1h14c0.552 0 1 0.448 1 1s-0.448 1-1 1z\"></path>\n",
       "</symbol>\n",
       "</defs>\n",
       "</svg>\n",
       "<style>/* CSS stylesheet for displaying xarray objects in jupyterlab.\n",
       " *\n",
       " */\n",
       "\n",
       ":root {\n",
       "  --xr-font-color0: var(--jp-content-font-color0, rgba(0, 0, 0, 1));\n",
       "  --xr-font-color2: var(--jp-content-font-color2, rgba(0, 0, 0, 0.54));\n",
       "  --xr-font-color3: var(--jp-content-font-color3, rgba(0, 0, 0, 0.38));\n",
       "  --xr-border-color: var(--jp-border-color2, #e0e0e0);\n",
       "  --xr-disabled-color: var(--jp-layout-color3, #bdbdbd);\n",
       "  --xr-background-color: var(--jp-layout-color0, white);\n",
       "  --xr-background-color-row-even: var(--jp-layout-color1, white);\n",
       "  --xr-background-color-row-odd: var(--jp-layout-color2, #eeeeee);\n",
       "}\n",
       "\n",
       "html[theme=dark],\n",
       "body[data-theme=dark],\n",
       "body.vscode-dark {\n",
       "  --xr-font-color0: rgba(255, 255, 255, 1);\n",
       "  --xr-font-color2: rgba(255, 255, 255, 0.54);\n",
       "  --xr-font-color3: rgba(255, 255, 255, 0.38);\n",
       "  --xr-border-color: #1F1F1F;\n",
       "  --xr-disabled-color: #515151;\n",
       "  --xr-background-color: #111111;\n",
       "  --xr-background-color-row-even: #111111;\n",
       "  --xr-background-color-row-odd: #313131;\n",
       "}\n",
       "\n",
       ".xr-wrap {\n",
       "  display: block !important;\n",
       "  min-width: 300px;\n",
       "  max-width: 700px;\n",
       "}\n",
       "\n",
       ".xr-text-repr-fallback {\n",
       "  /* fallback to plain text repr when CSS is not injected (untrusted notebook) */\n",
       "  display: none;\n",
       "}\n",
       "\n",
       ".xr-header {\n",
       "  padding-top: 6px;\n",
       "  padding-bottom: 6px;\n",
       "  margin-bottom: 4px;\n",
       "  border-bottom: solid 1px var(--xr-border-color);\n",
       "}\n",
       "\n",
       ".xr-header > div,\n",
       ".xr-header > ul {\n",
       "  display: inline;\n",
       "  margin-top: 0;\n",
       "  margin-bottom: 0;\n",
       "}\n",
       "\n",
       ".xr-obj-type,\n",
       ".xr-array-name {\n",
       "  margin-left: 2px;\n",
       "  margin-right: 10px;\n",
       "}\n",
       "\n",
       ".xr-obj-type {\n",
       "  color: var(--xr-font-color2);\n",
       "}\n",
       "\n",
       ".xr-sections {\n",
       "  padding-left: 0 !important;\n",
       "  display: grid;\n",
       "  grid-template-columns: 150px auto auto 1fr 20px 20px;\n",
       "}\n",
       "\n",
       ".xr-section-item {\n",
       "  display: contents;\n",
       "}\n",
       "\n",
       ".xr-section-item input {\n",
       "  display: none;\n",
       "}\n",
       "\n",
       ".xr-section-item input + label {\n",
       "  color: var(--xr-disabled-color);\n",
       "}\n",
       "\n",
       ".xr-section-item input:enabled + label {\n",
       "  cursor: pointer;\n",
       "  color: var(--xr-font-color2);\n",
       "}\n",
       "\n",
       ".xr-section-item input:enabled + label:hover {\n",
       "  color: var(--xr-font-color0);\n",
       "}\n",
       "\n",
       ".xr-section-summary {\n",
       "  grid-column: 1;\n",
       "  color: var(--xr-font-color2);\n",
       "  font-weight: 500;\n",
       "}\n",
       "\n",
       ".xr-section-summary > span {\n",
       "  display: inline-block;\n",
       "  padding-left: 0.5em;\n",
       "}\n",
       "\n",
       ".xr-section-summary-in:disabled + label {\n",
       "  color: var(--xr-font-color2);\n",
       "}\n",
       "\n",
       ".xr-section-summary-in + label:before {\n",
       "  display: inline-block;\n",
       "  content: '►';\n",
       "  font-size: 11px;\n",
       "  width: 15px;\n",
       "  text-align: center;\n",
       "}\n",
       "\n",
       ".xr-section-summary-in:disabled + label:before {\n",
       "  color: var(--xr-disabled-color);\n",
       "}\n",
       "\n",
       ".xr-section-summary-in:checked + label:before {\n",
       "  content: '▼';\n",
       "}\n",
       "\n",
       ".xr-section-summary-in:checked + label > span {\n",
       "  display: none;\n",
       "}\n",
       "\n",
       ".xr-section-summary,\n",
       ".xr-section-inline-details {\n",
       "  padding-top: 4px;\n",
       "  padding-bottom: 4px;\n",
       "}\n",
       "\n",
       ".xr-section-inline-details {\n",
       "  grid-column: 2 / -1;\n",
       "}\n",
       "\n",
       ".xr-section-details {\n",
       "  display: none;\n",
       "  grid-column: 1 / -1;\n",
       "  margin-bottom: 5px;\n",
       "}\n",
       "\n",
       ".xr-section-summary-in:checked ~ .xr-section-details {\n",
       "  display: contents;\n",
       "}\n",
       "\n",
       ".xr-array-wrap {\n",
       "  grid-column: 1 / -1;\n",
       "  display: grid;\n",
       "  grid-template-columns: 20px auto;\n",
       "}\n",
       "\n",
       ".xr-array-wrap > label {\n",
       "  grid-column: 1;\n",
       "  vertical-align: top;\n",
       "}\n",
       "\n",
       ".xr-preview {\n",
       "  color: var(--xr-font-color3);\n",
       "}\n",
       "\n",
       ".xr-array-preview,\n",
       ".xr-array-data {\n",
       "  padding: 0 5px !important;\n",
       "  grid-column: 2;\n",
       "}\n",
       "\n",
       ".xr-array-data,\n",
       ".xr-array-in:checked ~ .xr-array-preview {\n",
       "  display: none;\n",
       "}\n",
       "\n",
       ".xr-array-in:checked ~ .xr-array-data,\n",
       ".xr-array-preview {\n",
       "  display: inline-block;\n",
       "}\n",
       "\n",
       ".xr-dim-list {\n",
       "  display: inline-block !important;\n",
       "  list-style: none;\n",
       "  padding: 0 !important;\n",
       "  margin: 0;\n",
       "}\n",
       "\n",
       ".xr-dim-list li {\n",
       "  display: inline-block;\n",
       "  padding: 0;\n",
       "  margin: 0;\n",
       "}\n",
       "\n",
       ".xr-dim-list:before {\n",
       "  content: '(';\n",
       "}\n",
       "\n",
       ".xr-dim-list:after {\n",
       "  content: ')';\n",
       "}\n",
       "\n",
       ".xr-dim-list li:not(:last-child):after {\n",
       "  content: ',';\n",
       "  padding-right: 5px;\n",
       "}\n",
       "\n",
       ".xr-has-index {\n",
       "  font-weight: bold;\n",
       "}\n",
       "\n",
       ".xr-var-list,\n",
       ".xr-var-item {\n",
       "  display: contents;\n",
       "}\n",
       "\n",
       ".xr-var-item > div,\n",
       ".xr-var-item label,\n",
       ".xr-var-item > .xr-var-name span {\n",
       "  background-color: var(--xr-background-color-row-even);\n",
       "  margin-bottom: 0;\n",
       "}\n",
       "\n",
       ".xr-var-item > .xr-var-name:hover span {\n",
       "  padding-right: 5px;\n",
       "}\n",
       "\n",
       ".xr-var-list > li:nth-child(odd) > div,\n",
       ".xr-var-list > li:nth-child(odd) > label,\n",
       ".xr-var-list > li:nth-child(odd) > .xr-var-name span {\n",
       "  background-color: var(--xr-background-color-row-odd);\n",
       "}\n",
       "\n",
       ".xr-var-name {\n",
       "  grid-column: 1;\n",
       "}\n",
       "\n",
       ".xr-var-dims {\n",
       "  grid-column: 2;\n",
       "}\n",
       "\n",
       ".xr-var-dtype {\n",
       "  grid-column: 3;\n",
       "  text-align: right;\n",
       "  color: var(--xr-font-color2);\n",
       "}\n",
       "\n",
       ".xr-var-preview {\n",
       "  grid-column: 4;\n",
       "}\n",
       "\n",
       ".xr-var-name,\n",
       ".xr-var-dims,\n",
       ".xr-var-dtype,\n",
       ".xr-preview,\n",
       ".xr-attrs dt {\n",
       "  white-space: nowrap;\n",
       "  overflow: hidden;\n",
       "  text-overflow: ellipsis;\n",
       "  padding-right: 10px;\n",
       "}\n",
       "\n",
       ".xr-var-name:hover,\n",
       ".xr-var-dims:hover,\n",
       ".xr-var-dtype:hover,\n",
       ".xr-attrs dt:hover {\n",
       "  overflow: visible;\n",
       "  width: auto;\n",
       "  z-index: 1;\n",
       "}\n",
       "\n",
       ".xr-var-attrs,\n",
       ".xr-var-data {\n",
       "  display: none;\n",
       "  background-color: var(--xr-background-color) !important;\n",
       "  padding-bottom: 5px !important;\n",
       "}\n",
       "\n",
       ".xr-var-attrs-in:checked ~ .xr-var-attrs,\n",
       ".xr-var-data-in:checked ~ .xr-var-data {\n",
       "  display: block;\n",
       "}\n",
       "\n",
       ".xr-var-data > table {\n",
       "  float: right;\n",
       "}\n",
       "\n",
       ".xr-var-name span,\n",
       ".xr-var-data,\n",
       ".xr-attrs {\n",
       "  padding-left: 25px !important;\n",
       "}\n",
       "\n",
       ".xr-attrs,\n",
       ".xr-var-attrs,\n",
       ".xr-var-data {\n",
       "  grid-column: 1 / -1;\n",
       "}\n",
       "\n",
       "dl.xr-attrs {\n",
       "  padding: 0;\n",
       "  margin: 0;\n",
       "  display: grid;\n",
       "  grid-template-columns: 125px auto;\n",
       "}\n",
       "\n",
       ".xr-attrs dt,\n",
       ".xr-attrs dd {\n",
       "  padding: 0;\n",
       "  margin: 0;\n",
       "  float: left;\n",
       "  padding-right: 10px;\n",
       "  width: auto;\n",
       "}\n",
       "\n",
       ".xr-attrs dt {\n",
       "  font-weight: normal;\n",
       "  grid-column: 1;\n",
       "}\n",
       "\n",
       ".xr-attrs dt:hover span {\n",
       "  display: inline-block;\n",
       "  background: var(--xr-background-color);\n",
       "  padding-right: 10px;\n",
       "}\n",
       "\n",
       ".xr-attrs dd {\n",
       "  grid-column: 2;\n",
       "  white-space: pre-wrap;\n",
       "  word-break: break-all;\n",
       "}\n",
       "\n",
       ".xr-icon-database,\n",
       ".xr-icon-file-text2 {\n",
       "  display: inline-block;\n",
       "  vertical-align: middle;\n",
       "  width: 1em;\n",
       "  height: 1.5em !important;\n",
       "  stroke-width: 0;\n",
       "  stroke: currentColor;\n",
       "  fill: currentColor;\n",
       "}\n",
       "</style><pre class='xr-text-repr-fallback'>&lt;xarray.Dataset&gt;\n",
       "Dimensions:            (return period: 999, N: 10, return_period_obs: 103)\n",
       "Coordinates:\n",
       "  * return period      (return period) float64 1.1 2.1 3.1 ... 997.1 998.1 999.1\n",
       "  * N                  (N) int64 0 1 2 3 4 5 6 7 8 9\n",
       "  * return_period_obs  (return_period_obs) float64 1.01 1.02 1.03 ... 52.0 104.0\n",
       "Data variables:\n",
       "    return level       (return period, N) float64 19.29 21.15 ... 94.04 71.68\n",
       "    mu                 (N) float64 25.29 26.72 26.94 28.0 ... 28.33 26.23 25.02\n",
       "    sigma              (N) float64 7.052 6.609 7.854 8.102 ... 7.966 7.918 7.302\n",
       "    xi                 (N) float64 0.06169 0.08785 0.05762 ... 0.06022 -0.02277\n",
       "    return_level_obs   (return_period_obs) float64 15.6 16.2 16.9 ... 59.9 69.5</pre><div class='xr-wrap' style='display:none'><div class='xr-header'><div class='xr-obj-type'>xarray.Dataset</div></div><ul class='xr-sections'><li class='xr-section-item'><input id='section-2375cd34-f372-4595-b4de-318b60f0881f' class='xr-section-summary-in' type='checkbox' disabled ><label for='section-2375cd34-f372-4595-b4de-318b60f0881f' class='xr-section-summary'  title='Expand/collapse section'>Dimensions:</label><div class='xr-section-inline-details'><ul class='xr-dim-list'><li><span class='xr-has-index'>return period</span>: 999</li><li><span class='xr-has-index'>N</span>: 10</li><li><span class='xr-has-index'>return_period_obs</span>: 103</li></ul></div><div class='xr-section-details'></div></li><li class='xr-section-item'><input id='section-1ee46dd7-49e5-4693-9067-11122ea1b7ff' class='xr-section-summary-in' type='checkbox'  checked><label for='section-1ee46dd7-49e5-4693-9067-11122ea1b7ff' class='xr-section-summary' >Coordinates: <span>(3)</span></label><div class='xr-section-inline-details'></div><div class='xr-section-details'><ul class='xr-var-list'><li class='xr-var-item'><div class='xr-var-name'><span class='xr-has-index'>return period</span></div><div class='xr-var-dims'>(return period)</div><div class='xr-var-dtype'>float64</div><div class='xr-var-preview xr-preview'>1.1 2.1 3.1 ... 997.1 998.1 999.1</div><input id='attrs-e89d2c22-391b-4624-8acb-d413a4e6b90b' class='xr-var-attrs-in' type='checkbox' ><label for='attrs-e89d2c22-391b-4624-8acb-d413a4e6b90b' title='Show/Hide attributes'><svg class='icon xr-icon-file-text2'><use xlink:href='#icon-file-text2'></use></svg></label><input id='data-296a763d-35ce-4fc6-9f02-4893d662de53' class='xr-var-data-in' type='checkbox'><label for='data-296a763d-35ce-4fc6-9f02-4893d662de53' title='Show/Hide data repr'><svg class='icon xr-icon-database'><use xlink:href='#icon-database'></use></svg></label><div class='xr-var-attrs'><dl class='xr-attrs'><dt><span>units :</span></dt><dd>year</dd></dl></div><div class='xr-var-data'><pre>array([  1.1,   2.1,   3.1, ..., 997.1, 998.1, 999.1])</pre></div></li><li class='xr-var-item'><div class='xr-var-name'><span class='xr-has-index'>N</span></div><div class='xr-var-dims'>(N)</div><div class='xr-var-dtype'>int64</div><div class='xr-var-preview xr-preview'>0 1 2 3 4 5 6 7 8 9</div><input id='attrs-4896155c-cf1d-4cbb-b9f0-51fd2cc4ace2' class='xr-var-attrs-in' type='checkbox' disabled><label for='attrs-4896155c-cf1d-4cbb-b9f0-51fd2cc4ace2' title='Show/Hide attributes'><svg class='icon xr-icon-file-text2'><use xlink:href='#icon-file-text2'></use></svg></label><input id='data-53918385-a11c-4f89-986d-603985fcd7d5' class='xr-var-data-in' type='checkbox'><label for='data-53918385-a11c-4f89-986d-603985fcd7d5' title='Show/Hide data repr'><svg class='icon xr-icon-database'><use xlink:href='#icon-database'></use></svg></label><div class='xr-var-attrs'><dl class='xr-attrs'></dl></div><div class='xr-var-data'><pre>array([0, 1, 2, 3, 4, 5, 6, 7, 8, 9])</pre></div></li><li class='xr-var-item'><div class='xr-var-name'><span class='xr-has-index'>return_period_obs</span></div><div class='xr-var-dims'>(return_period_obs)</div><div class='xr-var-dtype'>float64</div><div class='xr-var-preview xr-preview'>1.01 1.02 1.03 ... 34.67 52.0 104.0</div><input id='attrs-a4c322c7-f305-4573-91c5-876db938c2d5' class='xr-var-attrs-in' type='checkbox' ><label for='attrs-a4c322c7-f305-4573-91c5-876db938c2d5' title='Show/Hide attributes'><svg class='icon xr-icon-file-text2'><use xlink:href='#icon-file-text2'></use></svg></label><input id='data-1b79788e-a5e3-484e-8b72-3cbf6683e08e' class='xr-var-data-in' type='checkbox'><label for='data-1b79788e-a5e3-484e-8b72-3cbf6683e08e' title='Show/Hide data repr'><svg class='icon xr-icon-database'><use xlink:href='#icon-database'></use></svg></label><div class='xr-var-attrs'><dl class='xr-attrs'><dt><span>units :</span></dt><dd>year</dd></dl></div><div class='xr-var-data'><pre>array([  1.009709,   1.019608,   1.029703,   1.04    ,   1.050505,   1.061224,\n",
       "         1.072165,   1.083333,   1.094737,   1.106383,   1.11828 ,   1.130435,\n",
       "         1.142857,   1.155556,   1.168539,   1.181818,   1.195402,   1.209302,\n",
       "         1.223529,   1.238095,   1.253012,   1.268293,   1.283951,   1.3     ,\n",
       "         1.316456,   1.333333,   1.350649,   1.368421,   1.386667,   1.405405,\n",
       "         1.424658,   1.444444,   1.464789,   1.485714,   1.507246,   1.529412,\n",
       "         1.552239,   1.575758,   1.6     ,   1.625   ,   1.650794,   1.677419,\n",
       "         1.704918,   1.733333,   1.762712,   1.793103,   1.824561,   1.857143,\n",
       "         1.890909,   1.925926,   1.962264,   2.      ,   2.039216,   2.08    ,\n",
       "         2.122449,   2.166667,   2.212766,   2.26087 ,   2.311111,   2.363636,\n",
       "         2.418605,   2.47619 ,   2.536585,   2.6     ,   2.666667,   2.736842,\n",
       "         2.810811,   2.888889,   2.971429,   3.058824,   3.151515,   3.25    ,\n",
       "         3.354839,   3.466667,   3.586207,   3.714286,   3.851852,   4.      ,\n",
       "         4.16    ,   4.333333,   4.521739,   4.727273,   4.952381,   5.2     ,\n",
       "         5.473684,   5.777778,   6.117647,   6.5     ,   6.933333,   7.428571,\n",
       "         8.      ,   8.666667,   9.454545,  10.4     ,  11.555556,  13.      ,\n",
       "        14.857143,  17.333333,  20.8     ,  26.      ,  34.666667,  52.      ,\n",
       "       104.      ])</pre></div></li></ul></div></li><li class='xr-section-item'><input id='section-26277090-0c70-4630-a0d8-deaf20392140' class='xr-section-summary-in' type='checkbox'  checked><label for='section-26277090-0c70-4630-a0d8-deaf20392140' class='xr-section-summary' >Data variables: <span>(5)</span></label><div class='xr-section-inline-details'></div><div class='xr-section-details'><ul class='xr-var-list'><li class='xr-var-item'><div class='xr-var-name'><span>return level</span></div><div class='xr-var-dims'>(return period, N)</div><div class='xr-var-dtype'>float64</div><div class='xr-var-preview xr-preview'>19.29 21.15 20.24 ... 94.04 71.68</div><input id='attrs-6edbd199-0dcc-4d4b-bed0-d57801d1e49d' class='xr-var-attrs-in' type='checkbox' ><label for='attrs-6edbd199-0dcc-4d4b-bed0-d57801d1e49d' title='Show/Hide attributes'><svg class='icon xr-icon-file-text2'><use xlink:href='#icon-file-text2'></use></svg></label><input id='data-504065c8-7ace-4057-b9b7-089f9f51f073' class='xr-var-data-in' type='checkbox'><label for='data-504065c8-7ace-4057-b9b7-089f9f51f073' title='Show/Hide data repr'><svg class='icon xr-icon-database'><use xlink:href='#icon-database'></use></svg></label><div class='xr-var-attrs'><dl class='xr-attrs'><dt><span>units :</span></dt><dd></dd><dt><span>kind :</span></dt><dd>GEV</dd><dt><span>method :</span></dt><dd>mle</dd></dl></div><div class='xr-var-data'><pre>array([[19.2875667 , 21.15306012, 20.2417953 , ..., 21.08046217,\n",
       "        19.48266821, 18.57004387],\n",
       "       [28.40828669, 29.65354433, 30.4079342 , ..., 31.73655659,\n",
       "        29.72584748, 28.18799951],\n",
       "       [32.13924453, 33.21357782, 34.55130874, ..., 35.5298993 ,\n",
       "        33.91039729, 31.83239933],\n",
       "       ...,\n",
       "       [85.99631214, 89.460749  , 93.5377533 , ..., 69.17115604,\n",
       "        94.01190436, 71.67248278],\n",
       "       [86.00714116, 89.47290533, 93.54947909, ..., 69.17541903,\n",
       "        94.02393913, 71.67874065],\n",
       "       [86.01795999, 89.48505054, 93.56119381, ..., 69.17967736,\n",
       "        94.03596256, 71.68499211]])</pre></div></li><li class='xr-var-item'><div class='xr-var-name'><span>mu</span></div><div class='xr-var-dims'>(N)</div><div class='xr-var-dtype'>float64</div><div class='xr-var-preview xr-preview'>25.29 26.72 26.94 ... 26.23 25.02</div><input id='attrs-76b2f41a-2068-4694-9d73-c49afa2c76dd' class='xr-var-attrs-in' type='checkbox' disabled><label for='attrs-76b2f41a-2068-4694-9d73-c49afa2c76dd' title='Show/Hide attributes'><svg class='icon xr-icon-file-text2'><use xlink:href='#icon-file-text2'></use></svg></label><input id='data-0936fe6a-f6b0-4e9c-91b2-5759c074dc38' class='xr-var-data-in' type='checkbox'><label for='data-0936fe6a-f6b0-4e9c-91b2-5759c074dc38' title='Show/Hide data repr'><svg class='icon xr-icon-database'><use xlink:href='#icon-database'></use></svg></label><div class='xr-var-attrs'><dl class='xr-attrs'></dl></div><div class='xr-var-data'><pre>array([25.29190984, 26.71641215, 26.94042541, 28.00104996, 25.71562435,\n",
       "       25.96723761, 27.369281  , 28.33165646, 26.22816374, 25.02022535])</pre></div></li><li class='xr-var-item'><div class='xr-var-name'><span>sigma</span></div><div class='xr-var-dims'>(N)</div><div class='xr-var-dtype'>float64</div><div class='xr-var-preview xr-preview'>7.052 6.609 7.854 ... 7.918 7.302</div><input id='attrs-4247a589-fc0e-47f0-a7d5-8943dc43aa80' class='xr-var-attrs-in' type='checkbox' disabled><label for='attrs-4247a589-fc0e-47f0-a7d5-8943dc43aa80' title='Show/Hide attributes'><svg class='icon xr-icon-file-text2'><use xlink:href='#icon-file-text2'></use></svg></label><input id='data-292b79b4-392b-40df-ac23-462086b454b5' class='xr-var-data-in' type='checkbox'><label for='data-292b79b4-392b-40df-ac23-462086b454b5' title='Show/Hide data repr'><svg class='icon xr-icon-database'><use xlink:href='#icon-database'></use></svg></label><div class='xr-var-attrs'><dl class='xr-attrs'></dl></div><div class='xr-var-data'><pre>array([7.05219314, 6.60858034, 7.85377902, 8.10233509, 6.30964233,\n",
       "       7.8664203 , 8.68335905, 7.96554214, 7.91762613, 7.30189958])</pre></div></li><li class='xr-var-item'><div class='xr-var-name'><span>xi</span></div><div class='xr-var-dims'>(N)</div><div class='xr-var-dtype'>float64</div><div class='xr-var-preview xr-preview'>0.06169 0.08785 ... -0.02277</div><input id='attrs-71c6edc7-288c-49f4-bfed-1dc8df251ad2' class='xr-var-attrs-in' type='checkbox' disabled><label for='attrs-71c6edc7-288c-49f4-bfed-1dc8df251ad2' title='Show/Hide attributes'><svg class='icon xr-icon-file-text2'><use xlink:href='#icon-file-text2'></use></svg></label><input id='data-28f7422f-da8c-472f-9569-8fb0b182ddbd' class='xr-var-data-in' type='checkbox'><label for='data-28f7422f-da8c-472f-9569-8fb0b182ddbd' title='Show/Hide data repr'><svg class='icon xr-icon-database'><use xlink:href='#icon-database'></use></svg></label><div class='xr-var-attrs'><dl class='xr-attrs'></dl></div><div class='xr-var-data'><pre>array([ 0.06169372,  0.08784788,  0.05762488, -0.11100564,  0.12220832,\n",
       "        0.03151846,  0.109793  , -0.09095904,  0.06021911, -0.02276654])</pre></div></li><li class='xr-var-item'><div class='xr-var-name'><span>return_level_obs</span></div><div class='xr-var-dims'>(return_period_obs)</div><div class='xr-var-dtype'>float64</div><div class='xr-var-preview xr-preview'>15.6 16.2 16.9 ... 57.4 59.9 69.5</div><input id='attrs-66ddbe71-fa3c-49f4-96c9-e2755a29897d' class='xr-var-attrs-in' type='checkbox' disabled><label for='attrs-66ddbe71-fa3c-49f4-96c9-e2755a29897d' title='Show/Hide attributes'><svg class='icon xr-icon-file-text2'><use xlink:href='#icon-file-text2'></use></svg></label><input id='data-d9866c30-8386-48c4-b157-96fe210cbe9e' class='xr-var-data-in' type='checkbox'><label for='data-d9866c30-8386-48c4-b157-96fe210cbe9e' title='Show/Hide data repr'><svg class='icon xr-icon-database'><use xlink:href='#icon-database'></use></svg></label><div class='xr-var-attrs'><dl class='xr-attrs'></dl></div><div class='xr-var-data'><pre>array([15.6, 16.2, 16.9, 17.9, 18.1, 18.7, 19.6, 19.7, 20.1, 20.3, 20.6,\n",
       "       20.8, 20.9, 21. , 21. , 21.2, 21.2, 21.2, 21.3, 21.9, 22. , 22.4,\n",
       "       22.4, 22.7, 22.7, 23.2, 23.4, 23.5, 23.5, 23.8, 24.5, 24.5, 24.7,\n",
       "       24.9, 25.4, 25.4, 25.6, 26.1, 26.2, 26.2, 26.3, 26.7, 27.4, 27.7,\n",
       "       27.8, 28.8, 28.9, 29.4, 29.6, 29.9, 30.2, 30.3, 30.9, 31.1, 31.2,\n",
       "       31.2, 31.3, 31.4, 31.4, 31.6, 32.4, 32.4, 32.4, 32.5, 32.6, 33. ,\n",
       "       33.3, 33.6, 34.2, 34.6, 34.7, 34.7, 34.8, 35. , 35.3, 35.8, 35.9,\n",
       "       36.2, 36.4, 36.4, 36.5, 36.6, 37.3, 37.4, 37.4, 37.5, 38.6, 39.6,\n",
       "       40.2, 40.6, 40.7, 41.9, 44. , 44.4, 45.4, 46.5, 48. , 49. , 49.8,\n",
       "       55.3, 57.4, 59.9, 69.5])</pre></div></li></ul></div></li><li class='xr-section-item'><input id='section-9d8bb589-63d1-4a7b-85e9-c861c55c3d83' class='xr-section-summary-in' type='checkbox' disabled ><label for='section-9d8bb589-63d1-4a7b-85e9-c861c55c3d83' class='xr-section-summary'  title='Expand/collapse section'>Attributes: <span>(0)</span></label><div class='xr-section-inline-details'></div><div class='xr-section-details'><dl class='xr-attrs'></dl></div></li></ul></div></div>"
      ],
      "text/plain": [
       "<xarray.Dataset>\n",
       "Dimensions:            (return period: 999, N: 10, return_period_obs: 103)\n",
       "Coordinates:\n",
       "  * return period      (return period) float64 1.1 2.1 3.1 ... 997.1 998.1 999.1\n",
       "  * N                  (N) int64 0 1 2 3 4 5 6 7 8 9\n",
       "  * return_period_obs  (return_period_obs) float64 1.01 1.02 1.03 ... 52.0 104.0\n",
       "Data variables:\n",
       "    return level       (return period, N) float64 19.29 21.15 ... 94.04 71.68\n",
       "    mu                 (N) float64 25.29 26.72 26.94 28.0 ... 28.33 26.23 25.02\n",
       "    sigma              (N) float64 7.052 6.609 7.854 8.102 ... 7.966 7.918 7.302\n",
       "    xi                 (N) float64 0.06169 0.08785 0.05762 ... 0.06022 -0.02277\n",
       "    return_level_obs   (return_period_obs) float64 15.6 16.2 16.9 ... 59.9 69.5"
      ]
     },
     "execution_count": 11,
     "metadata": {},
     "output_type": "execute_result"
    }
   ],
   "source": [
    "fit"
   ]
  },
  {
   "cell_type": "code",
   "execution_count": 12,
   "metadata": {},
   "outputs": [
    {
     "data": {
      "text/plain": [
       "+-----------+--------+------------+--------+----------------+----------------+\n",
       "| GEV (mle) |  Link  |    Type    |  coef  | Quantile 0.025 | Quantile 0.975 |\n",
       "+===========+========+============+========+================+================+\n",
       "| loc       | IdLink | Stationary | 26.354 | 25.081         | 28.257         |\n",
       "+-----------+--------+------------+--------+----------------+----------------+\n",
       "| scale     | IdLink | Stationary | 7.369  | 6.377          | 8.553          |\n",
       "+-----------+--------+------------+--------+----------------+----------------+\n",
       "| shape     | IdLink | Stationary | 0.047  | -0.106         | 0.119          |\n",
       "+-----------+--------+------------+--------+----------------+----------------+"
      ]
     },
     "execution_count": 12,
     "metadata": {},
     "output_type": "execute_result"
    }
   ],
   "source": [
    "model"
   ]
  },
  {
   "cell_type": "markdown",
   "metadata": {},
   "source": [
    "This utility function takes a given *quantile* and a fitted *model* and computes the corresponding return level"
   ]
  },
  {
   "cell_type": "code",
   "execution_count": 13,
   "metadata": {
    "execution": {},
    "executionInfo": {
     "elapsed": 2,
     "status": "ok",
     "timestamp": 1681924239851,
     "user": {
      "displayName": "Matthias Aengenheyster",
      "userId": "16322208118439170907"
     },
     "user_tz": -60
    }
   },
   "outputs": [],
   "source": [
    "def estimate_return_level(quantile,model):\n",
    "    loc, scale, shape = model.coef_\n",
    "    level = loc - scale / shape * (1 - (-np.log(quantile))**(-shape))\n",
    "    # level = stats.genextreme.ppf(quantile,-shape,loc=loc,scale=scale)\n",
    "    return level\n",
    "\n",
    "def estimate_return_level_from_params(quantile,loc,scale,shape):\n",
    "    level = loc - scale / shape * (1 - (-np.log(quantile))**(-shape))\n",
    "    return level"
   ]
  },
  {
   "cell_type": "markdown",
   "metadata": {
    "execution": {}
   },
   "source": [
    "Now, let's utilize this function to calculate the 2-year level, which represents the precipitation level we anticipate with a 50% chance in each year. The function requires the quantile value 'x' and three parameters related to GEV (Generalized Extreme Value) distribution: location, scale, and shape. The function will provide the return level corresponding to the given quantile.\n",
    "For instance, the 90th quantile (x=0.9) would yield the precipitation value expected once every 10 years (with a 10% chance of observing it each year)."
   ]
  },
  {
   "cell_type": "code",
   "execution_count": 14,
   "metadata": {
    "execution": {},
    "executionInfo": {
     "elapsed": 7,
     "status": "ok",
     "timestamp": 1681924241704,
     "user": {
      "displayName": "Matthias Aengenheyster",
      "userId": "16322208118439170907"
     },
     "user_tz": -60
    }
   },
   "outputs": [
    {
     "data": {
      "text/plain": [
       "29.07804011079915"
      ]
     },
     "execution_count": 14,
     "metadata": {},
     "output_type": "execute_result"
    }
   ],
   "source": [
    "estimate_return_level(0.5,model)"
   ]
  },
  {
   "cell_type": "code",
   "execution_count": 15,
   "metadata": {
    "execution": {},
    "executionInfo": {
     "elapsed": 467,
     "status": "ok",
     "timestamp": 1681924243311,
     "user": {
      "displayName": "Matthias Aengenheyster",
      "userId": "16322208118439170907"
     },
     "user_tz": -60
    }
   },
   "outputs": [
    {
     "data": {
      "text/plain": [
       "29.078040110799137"
      ]
     },
     "execution_count": 15,
     "metadata": {},
     "output_type": "execute_result"
    }
   ],
   "source": [
    "stats.genextreme.ppf(0.5,-model.shape.mean(),loc=model.loc.mean(),scale=model.scale.mean())"
   ]
  },
  {
   "cell_type": "markdown",
   "metadata": {
    "execution": {}
   },
   "source": [
    "It is probably easier to replace x with a variable called “rp” (= return period). You can use the formula 1-(1/return period)\n",
    "to compute rp. So a 100-year storm would be 1-(1/100) = 0.99. Compute the 100- and 1000-year storm. "
   ]
  },
  {
   "cell_type": "code",
   "execution_count": 16,
   "metadata": {
    "execution": {},
    "executionInfo": {
     "elapsed": 188,
     "status": "ok",
     "timestamp": 1681924244959,
     "user": {
      "displayName": "Matthias Aengenheyster",
      "userId": "16322208118439170907"
     },
     "user_tz": -60
    }
   },
   "outputs": [
    {
     "data": {
      "text/plain": [
       "62.16649374058934"
      ]
     },
     "execution_count": 16,
     "metadata": {},
     "output_type": "execute_result"
    }
   ],
   "source": [
    "estimate_return_level(1-1/80,model)"
   ]
  },
  {
   "cell_type": "code",
   "execution_count": 17,
   "metadata": {
    "execution": {},
    "executionInfo": {
     "elapsed": 2,
     "status": "ok",
     "timestamp": 1681924245377,
     "user": {
      "displayName": "Matthias Aengenheyster",
      "userId": "16322208118439170907"
     },
     "user_tz": -60
    }
   },
   "outputs": [
    {
     "data": {
      "text/plain": [
       "86.51930945981249"
      ]
     },
     "execution_count": 17,
     "metadata": {},
     "output_type": "execute_result"
    }
   ],
   "source": [
    "estimate_return_level(1-1/1000,model)"
   ]
  },
  {
   "cell_type": "markdown",
   "metadata": {
    "execution": {}
   },
   "source": [
    "Now we will make a figure in which we plot return-levels against return-periods:\n",
    "1. Create vector “periods” which is a sequence of 2 to a 1000-years (in two steps).\n",
    "2. Create a vector “levels” which is the associated return-levels for those return periods.\n",
    "3. Plot the return levels against the return periods. Typically, the return periods go on the x-axis at a log-scale.\n"
   ]
  },
  {
   "cell_type": "code",
   "execution_count": 18,
   "metadata": {
    "execution": {},
    "executionInfo": {
     "elapsed": 784,
     "status": "ok",
     "timestamp": 1681924247138,
     "user": {
      "displayName": "Matthias Aengenheyster",
      "userId": "16322208118439170907"
     },
     "user_tz": -60
    }
   },
   "outputs": [
    {
     "data": {
      "text/plain": [
       "[]"
      ]
     },
     "execution_count": 18,
     "metadata": {},
     "output_type": "execute_result"
    },
    {
     "data": {
      "image/png": "[encoded data removed]",
      "text/plain": [
       "<Figure size 640x480 with 1 Axes>"
      ]
     },
     "metadata": {},
     "output_type": "display_data"
    }
   ],
   "source": [
    "periods = np.arange(2,1000,2)\n",
    "quantiles = 1-1/periods\n",
    "levels = estimate_return_level(quantiles,model)\n",
    "# plt.plot(x,estimate_return_level(x,model))\n",
    "plt.plot(periods,levels,'.-')\n",
    "plt.xlabel('Return Period (years)')\n",
    "plt.ylabel('Return level')\n",
    "\n",
    "plt.semilogx()"
   ]
  },
  {
   "cell_type": "markdown",
   "metadata": {},
   "source": [
    "It would be interesting to compare the return levels from a normal and GEV distribution. Compute the \n",
    "50-,100-,500- and 1000-year based on a normal distribution and based on the GEV distribution\n",
    "like above. "
   ]
  },
  {
   "cell_type": "markdown",
   "metadata": {},
   "source": [
    "You can use the `stats.norm.ppf` and `stats.genextreme.ppf` functions: The \"Percent point function\" (ppf) is the inverse of the CDF function: It takes the quantiles (and the distribution parameters) and returns the values. \n",
    "For the normal distribution, the mean and standard deviation are required inputs. \n",
    "For the GEV distribution, the shape, location, and scale parameters are necessary. It's important to note that there are two sign conventions for the shape parameter. In this case, you will need to multiply the shape obtained from the fit above by -1."
   ]
  },
  {
   "cell_type": "code",
   "execution_count": 19,
   "metadata": {},
   "outputs": [],
   "source": [
    "years = np.array([50,100,500,1000])\n",
    "quantiles = 1-1/years\n",
    "\n",
    "df = pd.DataFrame(index=years)\n",
    "df['Normal Distribution'] = stats.norm.ppf(quantiles,loc=precipitation.mean(), scale=precipitation.std())\n",
    "df['GEV'] = stats.genextreme.ppf(quantiles,-model.shape.mean(),loc=model.loc.mean(),scale=model.scale.mean())"
   ]
  },
  {
   "cell_type": "code",
   "execution_count": 20,
   "metadata": {},
   "outputs": [
    {
     "data": {
      "text/html": [
       "<div>\n",
       "<style scoped>\n",
       "    .dataframe tbody tr th:only-of-type {\n",
       "        vertical-align: middle;\n",
       "    }\n",
       "\n",
       "    .dataframe tbody tr th {\n",
       "        vertical-align: top;\n",
       "    }\n",
       "\n",
       "    .dataframe thead th {\n",
       "        text-align: right;\n",
       "    }\n",
       "</style>\n",
       "<table border=\"1\" class=\"dataframe\">\n",
       "  <thead>\n",
       "    <tr style=\"text-align: right;\">\n",
       "      <th></th>\n",
       "      <th>Normal Distribution</th>\n",
       "      <th>GEV</th>\n",
       "    </tr>\n",
       "  </thead>\n",
       "  <tbody>\n",
       "    <tr>\n",
       "      <th>50</th>\n",
       "      <td>51.359942</td>\n",
       "      <td>57.922623</td>\n",
       "    </tr>\n",
       "    <tr>\n",
       "      <th>100</th>\n",
       "      <td>54.066103</td>\n",
       "      <td>64.209805</td>\n",
       "    </tr>\n",
       "    <tr>\n",
       "      <th>500</th>\n",
       "      <td>59.544102</td>\n",
       "      <td>79.554969</td>\n",
       "    </tr>\n",
       "    <tr>\n",
       "      <th>1000</th>\n",
       "      <td>61.649382</td>\n",
       "      <td>86.519309</td>\n",
       "    </tr>\n",
       "  </tbody>\n",
       "</table>\n",
       "</div>"
      ],
      "text/plain": [
       "      Normal Distribution        GEV\n",
       "50              51.359942  57.922623\n",
       "100             54.066103  64.209805\n",
       "500             59.544102  79.554969\n",
       "1000            61.649382  86.519309"
      ]
     },
     "execution_count": 20,
     "metadata": {},
     "output_type": "execute_result"
    }
   ],
   "source": [
    "df"
   ]
  },
  {
   "cell_type": "markdown",
   "metadata": {
    "execution": {}
   },
   "source": [
    "## Coding Exercise\n",
    "\n",
    "Plot and compare return levels for Normal and GEV distributions.\n",
    "Create a return time plot that plots\n",
    "1. the empirical return level\n",
    "2. the estimate based on a normal distribution\n",
    "3. the estimate based on a GEV distribution\n",
    "\n",
    "Question: What can you say about the plot and how the distributions describe the data? How do the distributions differ? At short/long return periods? What will happen at even longer return periods?\n",
    "\n",
    "*Note that the empirical return level is contained in the \"return_level_obs\" variable of the \"fit\" dataset:*"
   ]
  },
  {
   "cell_type": "code",
   "execution_count": 21,
   "metadata": {},
   "outputs": [
    {
     "data": {
      "text/html": [
       "<div><svg style=\"position: absolute; width: 0; height: 0; overflow: hidden\">\n",
       "<defs>\n",
       "<symbol id=\"icon-database\" viewBox=\"0 0 32 32\">\n",
       "<path d=\"M16 0c-8.837 0-16 2.239-16 5v4c0 2.761 7.163 5 16 5s16-2.239 16-5v-4c0-2.761-7.163-5-16-5z\"></path>\n",
       "<path d=\"M16 17c-8.837 0-16-2.239-16-5v6c0 2.761 7.163 5 16 5s16-2.239 16-5v-6c0 2.761-7.163 5-16 5z\"></path>\n",
       "<path d=\"M16 26c-8.837 0-16-2.239-16-5v6c0 2.761 7.163 5 16 5s16-2.239 16-5v-6c0 2.761-7.163 5-16 5z\"></path>\n",
       "</symbol>\n",
       "<symbol id=\"icon-file-text2\" viewBox=\"0 0 32 32\">\n",
       "<path d=\"M28.681 7.159c-0.694-0.947-1.662-2.053-2.724-3.116s-2.169-2.030-3.116-2.724c-1.612-1.182-2.393-1.319-2.841-1.319h-15.5c-1.378 0-2.5 1.121-2.5 2.5v27c0 1.378 1.122 2.5 2.5 2.5h23c1.378 0 2.5-1.122 2.5-2.5v-19.5c0-0.448-0.137-1.23-1.319-2.841zM24.543 5.457c0.959 0.959 1.712 1.825 2.268 2.543h-4.811v-4.811c0.718 0.556 1.584 1.309 2.543 2.268zM28 29.5c0 0.271-0.229 0.5-0.5 0.5h-23c-0.271 0-0.5-0.229-0.5-0.5v-27c0-0.271 0.229-0.5 0.5-0.5 0 0 15.499-0 15.5 0v7c0 0.552 0.448 1 1 1h7v19.5z\"></path>\n",
       "<path d=\"M23 26h-14c-0.552 0-1-0.448-1-1s0.448-1 1-1h14c0.552 0 1 0.448 1 1s-0.448 1-1 1z\"></path>\n",
       "<path d=\"M23 22h-14c-0.552 0-1-0.448-1-1s0.448-1 1-1h14c0.552 0 1 0.448 1 1s-0.448 1-1 1z\"></path>\n",
       "<path d=\"M23 18h-14c-0.552 0-1-0.448-1-1s0.448-1 1-1h14c0.552 0 1 0.448 1 1s-0.448 1-1 1z\"></path>\n",
       "</symbol>\n",
       "</defs>\n",
       "</svg>\n",
       "<style>/* CSS stylesheet for displaying xarray objects in jupyterlab.\n",
       " *\n",
       " */\n",
       "\n",
       ":root {\n",
       "  --xr-font-color0: var(--jp-content-font-color0, rgba(0, 0, 0, 1));\n",
       "  --xr-font-color2: var(--jp-content-font-color2, rgba(0, 0, 0, 0.54));\n",
       "  --xr-font-color3: var(--jp-content-font-color3, rgba(0, 0, 0, 0.38));\n",
       "  --xr-border-color: var(--jp-border-color2, #e0e0e0);\n",
       "  --xr-disabled-color: var(--jp-layout-color3, #bdbdbd);\n",
       "  --xr-background-color: var(--jp-layout-color0, white);\n",
       "  --xr-background-color-row-even: var(--jp-layout-color1, white);\n",
       "  --xr-background-color-row-odd: var(--jp-layout-color2, #eeeeee);\n",
       "}\n",
       "\n",
       "html[theme=dark],\n",
       "body[data-theme=dark],\n",
       "body.vscode-dark {\n",
       "  --xr-font-color0: rgba(255, 255, 255, 1);\n",
       "  --xr-font-color2: rgba(255, 255, 255, 0.54);\n",
       "  --xr-font-color3: rgba(255, 255, 255, 0.38);\n",
       "  --xr-border-color: #1F1F1F;\n",
       "  --xr-disabled-color: #515151;\n",
       "  --xr-background-color: #111111;\n",
       "  --xr-background-color-row-even: #111111;\n",
       "  --xr-background-color-row-odd: #313131;\n",
       "}\n",
       "\n",
       ".xr-wrap {\n",
       "  display: block !important;\n",
       "  min-width: 300px;\n",
       "  max-width: 700px;\n",
       "}\n",
       "\n",
       ".xr-text-repr-fallback {\n",
       "  /* fallback to plain text repr when CSS is not injected (untrusted notebook) */\n",
       "  display: none;\n",
       "}\n",
       "\n",
       ".xr-header {\n",
       "  padding-top: 6px;\n",
       "  padding-bottom: 6px;\n",
       "  margin-bottom: 4px;\n",
       "  border-bottom: solid 1px var(--xr-border-color);\n",
       "}\n",
       "\n",
       ".xr-header > div,\n",
       ".xr-header > ul {\n",
       "  display: inline;\n",
       "  margin-top: 0;\n",
       "  margin-bottom: 0;\n",
       "}\n",
       "\n",
       ".xr-obj-type,\n",
       ".xr-array-name {\n",
       "  margin-left: 2px;\n",
       "  margin-right: 10px;\n",
       "}\n",
       "\n",
       ".xr-obj-type {\n",
       "  color: var(--xr-font-color2);\n",
       "}\n",
       "\n",
       ".xr-sections {\n",
       "  padding-left: 0 !important;\n",
       "  display: grid;\n",
       "  grid-template-columns: 150px auto auto 1fr 20px 20px;\n",
       "}\n",
       "\n",
       ".xr-section-item {\n",
       "  display: contents;\n",
       "}\n",
       "\n",
       ".xr-section-item input {\n",
       "  display: none;\n",
       "}\n",
       "\n",
       ".xr-section-item input + label {\n",
       "  color: var(--xr-disabled-color);\n",
       "}\n",
       "\n",
       ".xr-section-item input:enabled + label {\n",
       "  cursor: pointer;\n",
       "  color: var(--xr-font-color2);\n",
       "}\n",
       "\n",
       ".xr-section-item input:enabled + label:hover {\n",
       "  color: var(--xr-font-color0);\n",
       "}\n",
       "\n",
       ".xr-section-summary {\n",
       "  grid-column: 1;\n",
       "  color: var(--xr-font-color2);\n",
       "  font-weight: 500;\n",
       "}\n",
       "\n",
       ".xr-section-summary > span {\n",
       "  display: inline-block;\n",
       "  padding-left: 0.5em;\n",
       "}\n",
       "\n",
       ".xr-section-summary-in:disabled + label {\n",
       "  color: var(--xr-font-color2);\n",
       "}\n",
       "\n",
       ".xr-section-summary-in + label:before {\n",
       "  display: inline-block;\n",
       "  content: '►';\n",
       "  font-size: 11px;\n",
       "  width: 15px;\n",
       "  text-align: center;\n",
       "}\n",
       "\n",
       ".xr-section-summary-in:disabled + label:before {\n",
       "  color: var(--xr-disabled-color);\n",
       "}\n",
       "\n",
       ".xr-section-summary-in:checked + label:before {\n",
       "  content: '▼';\n",
       "}\n",
       "\n",
       ".xr-section-summary-in:checked + label > span {\n",
       "  display: none;\n",
       "}\n",
       "\n",
       ".xr-section-summary,\n",
       ".xr-section-inline-details {\n",
       "  padding-top: 4px;\n",
       "  padding-bottom: 4px;\n",
       "}\n",
       "\n",
       ".xr-section-inline-details {\n",
       "  grid-column: 2 / -1;\n",
       "}\n",
       "\n",
       ".xr-section-details {\n",
       "  display: none;\n",
       "  grid-column: 1 / -1;\n",
       "  margin-bottom: 5px;\n",
       "}\n",
       "\n",
       ".xr-section-summary-in:checked ~ .xr-section-details {\n",
       "  display: contents;\n",
       "}\n",
       "\n",
       ".xr-array-wrap {\n",
       "  grid-column: 1 / -1;\n",
       "  display: grid;\n",
       "  grid-template-columns: 20px auto;\n",
       "}\n",
       "\n",
       ".xr-array-wrap > label {\n",
       "  grid-column: 1;\n",
       "  vertical-align: top;\n",
       "}\n",
       "\n",
       ".xr-preview {\n",
       "  color: var(--xr-font-color3);\n",
       "}\n",
       "\n",
       ".xr-array-preview,\n",
       ".xr-array-data {\n",
       "  padding: 0 5px !important;\n",
       "  grid-column: 2;\n",
       "}\n",
       "\n",
       ".xr-array-data,\n",
       ".xr-array-in:checked ~ .xr-array-preview {\n",
       "  display: none;\n",
       "}\n",
       "\n",
       ".xr-array-in:checked ~ .xr-array-data,\n",
       ".xr-array-preview {\n",
       "  display: inline-block;\n",
       "}\n",
       "\n",
       ".xr-dim-list {\n",
       "  display: inline-block !important;\n",
       "  list-style: none;\n",
       "  padding: 0 !important;\n",
       "  margin: 0;\n",
       "}\n",
       "\n",
       ".xr-dim-list li {\n",
       "  display: inline-block;\n",
       "  padding: 0;\n",
       "  margin: 0;\n",
       "}\n",
       "\n",
       ".xr-dim-list:before {\n",
       "  content: '(';\n",
       "}\n",
       "\n",
       ".xr-dim-list:after {\n",
       "  content: ')';\n",
       "}\n",
       "\n",
       ".xr-dim-list li:not(:last-child):after {\n",
       "  content: ',';\n",
       "  padding-right: 5px;\n",
       "}\n",
       "\n",
       ".xr-has-index {\n",
       "  font-weight: bold;\n",
       "}\n",
       "\n",
       ".xr-var-list,\n",
       ".xr-var-item {\n",
       "  display: contents;\n",
       "}\n",
       "\n",
       ".xr-var-item > div,\n",
       ".xr-var-item label,\n",
       ".xr-var-item > .xr-var-name span {\n",
       "  background-color: var(--xr-background-color-row-even);\n",
       "  margin-bottom: 0;\n",
       "}\n",
       "\n",
       ".xr-var-item > .xr-var-name:hover span {\n",
       "  padding-right: 5px;\n",
       "}\n",
       "\n",
       ".xr-var-list > li:nth-child(odd) > div,\n",
       ".xr-var-list > li:nth-child(odd) > label,\n",
       ".xr-var-list > li:nth-child(odd) > .xr-var-name span {\n",
       "  background-color: var(--xr-background-color-row-odd);\n",
       "}\n",
       "\n",
       ".xr-var-name {\n",
       "  grid-column: 1;\n",
       "}\n",
       "\n",
       ".xr-var-dims {\n",
       "  grid-column: 2;\n",
       "}\n",
       "\n",
       ".xr-var-dtype {\n",
       "  grid-column: 3;\n",
       "  text-align: right;\n",
       "  color: var(--xr-font-color2);\n",
       "}\n",
       "\n",
       ".xr-var-preview {\n",
       "  grid-column: 4;\n",
       "}\n",
       "\n",
       ".xr-var-name,\n",
       ".xr-var-dims,\n",
       ".xr-var-dtype,\n",
       ".xr-preview,\n",
       ".xr-attrs dt {\n",
       "  white-space: nowrap;\n",
       "  overflow: hidden;\n",
       "  text-overflow: ellipsis;\n",
       "  padding-right: 10px;\n",
       "}\n",
       "\n",
       ".xr-var-name:hover,\n",
       ".xr-var-dims:hover,\n",
       ".xr-var-dtype:hover,\n",
       ".xr-attrs dt:hover {\n",
       "  overflow: visible;\n",
       "  width: auto;\n",
       "  z-index: 1;\n",
       "}\n",
       "\n",
       ".xr-var-attrs,\n",
       ".xr-var-data {\n",
       "  display: none;\n",
       "  background-color: var(--xr-background-color) !important;\n",
       "  padding-bottom: 5px !important;\n",
       "}\n",
       "\n",
       ".xr-var-attrs-in:checked ~ .xr-var-attrs,\n",
       ".xr-var-data-in:checked ~ .xr-var-data {\n",
       "  display: block;\n",
       "}\n",
       "\n",
       ".xr-var-data > table {\n",
       "  float: right;\n",
       "}\n",
       "\n",
       ".xr-var-name span,\n",
       ".xr-var-data,\n",
       ".xr-attrs {\n",
       "  padding-left: 25px !important;\n",
       "}\n",
       "\n",
       ".xr-attrs,\n",
       ".xr-var-attrs,\n",
       ".xr-var-data {\n",
       "  grid-column: 1 / -1;\n",
       "}\n",
       "\n",
       "dl.xr-attrs {\n",
       "  padding: 0;\n",
       "  margin: 0;\n",
       "  display: grid;\n",
       "  grid-template-columns: 125px auto;\n",
       "}\n",
       "\n",
       ".xr-attrs dt,\n",
       ".xr-attrs dd {\n",
       "  padding: 0;\n",
       "  margin: 0;\n",
       "  float: left;\n",
       "  padding-right: 10px;\n",
       "  width: auto;\n",
       "}\n",
       "\n",
       ".xr-attrs dt {\n",
       "  font-weight: normal;\n",
       "  grid-column: 1;\n",
       "}\n",
       "\n",
       ".xr-attrs dt:hover span {\n",
       "  display: inline-block;\n",
       "  background: var(--xr-background-color);\n",
       "  padding-right: 10px;\n",
       "}\n",
       "\n",
       ".xr-attrs dd {\n",
       "  grid-column: 2;\n",
       "  white-space: pre-wrap;\n",
       "  word-break: break-all;\n",
       "}\n",
       "\n",
       ".xr-icon-database,\n",
       ".xr-icon-file-text2 {\n",
       "  display: inline-block;\n",
       "  vertical-align: middle;\n",
       "  width: 1em;\n",
       "  height: 1.5em !important;\n",
       "  stroke-width: 0;\n",
       "  stroke: currentColor;\n",
       "  fill: currentColor;\n",
       "}\n",
       "</style><pre class='xr-text-repr-fallback'>&lt;xarray.DataArray &#x27;return_level_obs&#x27; (return_period_obs: 103)&gt;\n",
       "array([15.6, 16.2, 16.9, 17.9, 18.1, 18.7, 19.6, 19.7, 20.1, 20.3, 20.6,\n",
       "       20.8, 20.9, 21. , 21. , 21.2, 21.2, 21.2, 21.3, 21.9, 22. , 22.4,\n",
       "       22.4, 22.7, 22.7, 23.2, 23.4, 23.5, 23.5, 23.8, 24.5, 24.5, 24.7,\n",
       "       24.9, 25.4, 25.4, 25.6, 26.1, 26.2, 26.2, 26.3, 26.7, 27.4, 27.7,\n",
       "       27.8, 28.8, 28.9, 29.4, 29.6, 29.9, 30.2, 30.3, 30.9, 31.1, 31.2,\n",
       "       31.2, 31.3, 31.4, 31.4, 31.6, 32.4, 32.4, 32.4, 32.5, 32.6, 33. ,\n",
       "       33.3, 33.6, 34.2, 34.6, 34.7, 34.7, 34.8, 35. , 35.3, 35.8, 35.9,\n",
       "       36.2, 36.4, 36.4, 36.5, 36.6, 37.3, 37.4, 37.4, 37.5, 38.6, 39.6,\n",
       "       40.2, 40.6, 40.7, 41.9, 44. , 44.4, 45.4, 46.5, 48. , 49. , 49.8,\n",
       "       55.3, 57.4, 59.9, 69.5])\n",
       "Coordinates:\n",
       "  * return_period_obs  (return_period_obs) float64 1.01 1.02 1.03 ... 52.0 104.0</pre><div class='xr-wrap' style='display:none'><div class='xr-header'><div class='xr-obj-type'>xarray.DataArray</div><div class='xr-array-name'>'return_level_obs'</div><ul class='xr-dim-list'><li><span class='xr-has-index'>return_period_obs</span>: 103</li></ul></div><ul class='xr-sections'><li class='xr-section-item'><div class='xr-array-wrap'><input id='section-64b1b675-7962-442b-9552-531418dcd86d' class='xr-array-in' type='checkbox' checked><label for='section-64b1b675-7962-442b-9552-531418dcd86d' title='Show/hide data repr'><svg class='icon xr-icon-database'><use xlink:href='#icon-database'></use></svg></label><div class='xr-array-preview xr-preview'><span>15.6 16.2 16.9 17.9 18.1 18.7 19.6 ... 49.0 49.8 55.3 57.4 59.9 69.5</span></div><div class='xr-array-data'><pre>array([15.6, 16.2, 16.9, 17.9, 18.1, 18.7, 19.6, 19.7, 20.1, 20.3, 20.6,\n",
       "       20.8, 20.9, 21. , 21. , 21.2, 21.2, 21.2, 21.3, 21.9, 22. , 22.4,\n",
       "       22.4, 22.7, 22.7, 23.2, 23.4, 23.5, 23.5, 23.8, 24.5, 24.5, 24.7,\n",
       "       24.9, 25.4, 25.4, 25.6, 26.1, 26.2, 26.2, 26.3, 26.7, 27.4, 27.7,\n",
       "       27.8, 28.8, 28.9, 29.4, 29.6, 29.9, 30.2, 30.3, 30.9, 31.1, 31.2,\n",
       "       31.2, 31.3, 31.4, 31.4, 31.6, 32.4, 32.4, 32.4, 32.5, 32.6, 33. ,\n",
       "       33.3, 33.6, 34.2, 34.6, 34.7, 34.7, 34.8, 35. , 35.3, 35.8, 35.9,\n",
       "       36.2, 36.4, 36.4, 36.5, 36.6, 37.3, 37.4, 37.4, 37.5, 38.6, 39.6,\n",
       "       40.2, 40.6, 40.7, 41.9, 44. , 44.4, 45.4, 46.5, 48. , 49. , 49.8,\n",
       "       55.3, 57.4, 59.9, 69.5])</pre></div></div></li><li class='xr-section-item'><input id='section-5a55c056-bcbc-41e9-aa65-052192917aba' class='xr-section-summary-in' type='checkbox'  checked><label for='section-5a55c056-bcbc-41e9-aa65-052192917aba' class='xr-section-summary' >Coordinates: <span>(1)</span></label><div class='xr-section-inline-details'></div><div class='xr-section-details'><ul class='xr-var-list'><li class='xr-var-item'><div class='xr-var-name'><span class='xr-has-index'>return_period_obs</span></div><div class='xr-var-dims'>(return_period_obs)</div><div class='xr-var-dtype'>float64</div><div class='xr-var-preview xr-preview'>1.01 1.02 1.03 ... 34.67 52.0 104.0</div><input id='attrs-152e0170-5cc0-48ab-bf60-4e56786222fc' class='xr-var-attrs-in' type='checkbox' ><label for='attrs-152e0170-5cc0-48ab-bf60-4e56786222fc' title='Show/Hide attributes'><svg class='icon xr-icon-file-text2'><use xlink:href='#icon-file-text2'></use></svg></label><input id='data-42775cff-ad6e-4779-b4dd-3bbd99e49891' class='xr-var-data-in' type='checkbox'><label for='data-42775cff-ad6e-4779-b4dd-3bbd99e49891' title='Show/Hide data repr'><svg class='icon xr-icon-database'><use xlink:href='#icon-database'></use></svg></label><div class='xr-var-attrs'><dl class='xr-attrs'><dt><span>units :</span></dt><dd>year</dd></dl></div><div class='xr-var-data'><pre>array([  1.009709,   1.019608,   1.029703,   1.04    ,   1.050505,   1.061224,\n",
       "         1.072165,   1.083333,   1.094737,   1.106383,   1.11828 ,   1.130435,\n",
       "         1.142857,   1.155556,   1.168539,   1.181818,   1.195402,   1.209302,\n",
       "         1.223529,   1.238095,   1.253012,   1.268293,   1.283951,   1.3     ,\n",
       "         1.316456,   1.333333,   1.350649,   1.368421,   1.386667,   1.405405,\n",
       "         1.424658,   1.444444,   1.464789,   1.485714,   1.507246,   1.529412,\n",
       "         1.552239,   1.575758,   1.6     ,   1.625   ,   1.650794,   1.677419,\n",
       "         1.704918,   1.733333,   1.762712,   1.793103,   1.824561,   1.857143,\n",
       "         1.890909,   1.925926,   1.962264,   2.      ,   2.039216,   2.08    ,\n",
       "         2.122449,   2.166667,   2.212766,   2.26087 ,   2.311111,   2.363636,\n",
       "         2.418605,   2.47619 ,   2.536585,   2.6     ,   2.666667,   2.736842,\n",
       "         2.810811,   2.888889,   2.971429,   3.058824,   3.151515,   3.25    ,\n",
       "         3.354839,   3.466667,   3.586207,   3.714286,   3.851852,   4.      ,\n",
       "         4.16    ,   4.333333,   4.521739,   4.727273,   4.952381,   5.2     ,\n",
       "         5.473684,   5.777778,   6.117647,   6.5     ,   6.933333,   7.428571,\n",
       "         8.      ,   8.666667,   9.454545,  10.4     ,  11.555556,  13.      ,\n",
       "        14.857143,  17.333333,  20.8     ,  26.      ,  34.666667,  52.      ,\n",
       "       104.      ])</pre></div></li></ul></div></li><li class='xr-section-item'><input id='section-d8a1ef03-765d-4fba-9c38-fccc0b226aee' class='xr-section-summary-in' type='checkbox' disabled ><label for='section-d8a1ef03-765d-4fba-9c38-fccc0b226aee' class='xr-section-summary'  title='Expand/collapse section'>Attributes: <span>(0)</span></label><div class='xr-section-inline-details'></div><div class='xr-section-details'><dl class='xr-attrs'></dl></div></li></ul></div></div>"
      ],
      "text/plain": [
       "<xarray.DataArray 'return_level_obs' (return_period_obs: 103)>\n",
       "array([15.6, 16.2, 16.9, 17.9, 18.1, 18.7, 19.6, 19.7, 20.1, 20.3, 20.6,\n",
       "       20.8, 20.9, 21. , 21. , 21.2, 21.2, 21.2, 21.3, 21.9, 22. , 22.4,\n",
       "       22.4, 22.7, 22.7, 23.2, 23.4, 23.5, 23.5, 23.8, 24.5, 24.5, 24.7,\n",
       "       24.9, 25.4, 25.4, 25.6, 26.1, 26.2, 26.2, 26.3, 26.7, 27.4, 27.7,\n",
       "       27.8, 28.8, 28.9, 29.4, 29.6, 29.9, 30.2, 30.3, 30.9, 31.1, 31.2,\n",
       "       31.2, 31.3, 31.4, 31.4, 31.6, 32.4, 32.4, 32.4, 32.5, 32.6, 33. ,\n",
       "       33.3, 33.6, 34.2, 34.6, 34.7, 34.7, 34.8, 35. , 35.3, 35.8, 35.9,\n",
       "       36.2, 36.4, 36.4, 36.5, 36.6, 37.3, 37.4, 37.4, 37.5, 38.6, 39.6,\n",
       "       40.2, 40.6, 40.7, 41.9, 44. , 44.4, 45.4, 46.5, 48. , 49. , 49.8,\n",
       "       55.3, 57.4, 59.9, 69.5])\n",
       "Coordinates:\n",
       "  * return_period_obs  (return_period_obs) float64 1.01 1.02 1.03 ... 52.0 104.0"
      ]
     },
     "execution_count": 21,
     "metadata": {},
     "output_type": "execute_result"
    }
   ],
   "source": [
    "fit.return_level_obs"
   ]
  },
  {
   "cell_type": "code",
   "execution_count": 22,
   "metadata": {},
   "outputs": [
    {
     "data": {
      "text/plain": [
       "Ellipsis"
      ]
     },
     "execution_count": 22,
     "metadata": {},
     "output_type": "execute_result"
    }
   ],
   "source": [
    "..."
   ]
  },
  {
   "cell_type": "code",
   "execution_count": 23,
   "metadata": {
    "execution": {},
    "executionInfo": {
     "elapsed": 357,
     "status": "ok",
     "timestamp": 1681924249195,
     "user": {
      "displayName": "Matthias Aengenheyster",
      "userId": "16322208118439170907"
     },
     "user_tz": -60
    }
   },
   "outputs": [
    {
     "data": {
      "text/plain": [
       "<matplotlib.legend.Legend at 0x7f8b9b8c0730>"
      ]
     },
     "execution_count": 23,
     "metadata": {},
     "output_type": "execute_result"
    },
    {
     "data": {
      "image/png": "[encoded data removed]",
      "text/plain": [
       "<Figure size 640x480 with 1 Axes>"
      ]
     },
     "metadata": {},
     "output_type": "display_data"
    }
   ],
   "source": [
    "# to_remove solution\n",
    "\n",
    "fit.return_level_obs.plot.line('.')\n",
    "years = np.arange(1.1,100,0.1)\n",
    "plt.plot(years,stats.norm.ppf(1-1/years,loc=precipitation.mean(), scale=precipitation.std()))\n",
    "plt.plot(years,stats.genextreme.ppf(1-1/years,-model.shape.mean(),loc=model.loc.mean(),scale=model.scale.mean()))\n",
    "\n",
    "plt.semilogx()\n",
    "\n",
    "plt.legend(['empirical','normal','GEV'])"
   ]
  },
  {
   "cell_type": "code",
   "execution_count": 2,
   "metadata": {},
   "outputs": [
    {
     "data": {
      "text/plain": [
       "'\\nPut your observations here. GEV distribution describes the data better than the normal distribution. However, they are similar for shorter return periods. This suggests that for common, less extreme events (short return periods), both the Normal and GEV distributions provide a similar representation of the data. This similarity is likely due to the fact that for less extreme events, the tail of the distribution (which captures extreme events) is less relevant. When we move toards longer return periods (which correspond to more extreme events), the two curves start to diverge.\\n'"
      ]
     },
     "execution_count": 2,
     "metadata": {},
     "output_type": "execute_result"
    }
   ],
   "source": [
    "# to_remove explanation\n",
    "\"\"\"\n",
    "Put your observations here. GEV distribution describes the data better than the normal distribution. However, they are similar for shorter return periods. This suggests that for common, less extreme events (short return periods), both the Normal and GEV distributions provide a similar representation of the data. This similarity is likely due to the fact that for less extreme events, the tail of the distribution (which captures extreme events) is less relevant. When we move toards longer return periods (which correspond to more extreme events), the two curves start to diverge.\n",
    "\"\"\""
   ]
  },
  {
   "cell_type": "code",
   "execution_count": null,
   "metadata": {},
   "outputs": [],
   "source": []
  },
  {
   "cell_type": "markdown",
   "metadata": {},
   "source": [
    "## **Bonus: Implement your own bootstrapping algorithm**\n",
    "\n",
    "We utilized the pre-written function `ef.fit_return_levels_sdfc` to fit the GEV distribution to the data, calculate confidence intervals, and perform similar tasks. To gain a deeper understanding, you may find it beneficial to attempt implementing such an algorithm from scratch. One possible approach could involve the following steps:\n",
    "\n",
    "1. Begin with the 'gev' function (`scipy.stats.genextreme`), which can be employed to fit GEV parameters using `stats.genextreme.fit(data)`. This function returns the three parameters, taking note of a sign change in the shape parameter (as different conventions exist).\n",
    "2. Determine the number of observations in the data, denoted as N.\n",
    "3. Perform resampling by randomly drawing N samples from the data with replacement. This process generates an artificial ensemble that differs from the true data due to resampling.\n",
    "4. Estimate the parameters for each resampling.\n",
    "5. Utilize the `stats.genextreme.ppf` function for each parameter set to compute the return level.\n",
    "6. Visualize the resulting uncertainty bands by plotting multiple lines or calculating confidence intervals using `np.quantile`."
   ]
  },
  {
   "cell_type": "code",
   "execution_count": 1,
   "metadata": {},
   "outputs": [
    {
     "ename": "NameError",
     "evalue": "name 'gev' is not defined",
     "output_type": "error",
     "traceback": [
      "\u001b[0;31m---------------------------------------------------------------------------\u001b[0m",
      "\u001b[0;31mNameError\u001b[0m                                 Traceback (most recent call last)",
      "Cell \u001b[0;32mIn[1], line 3\u001b[0m\n\u001b[1;32m      1\u001b[0m params \u001b[38;5;241m=\u001b[39m []\n\u001b[1;32m      2\u001b[0m \u001b[38;5;28;01mfor\u001b[39;00m i \u001b[38;5;129;01min\u001b[39;00m \u001b[38;5;28mrange\u001b[39m(\u001b[38;5;241m1000\u001b[39m):\n\u001b[0;32m----> 3\u001b[0m     params\u001b[38;5;241m.\u001b[39mappend(\u001b[43mgev\u001b[49m\u001b[38;5;241m.\u001b[39mfit(np\u001b[38;5;241m.\u001b[39mrandom\u001b[38;5;241m.\u001b[39mchoice(precipitation,size\u001b[38;5;241m=\u001b[39mprecipitation\u001b[38;5;241m.\u001b[39msize,replace\u001b[38;5;241m=\u001b[39m\u001b[38;5;28;01mTrue\u001b[39;00m)))\n",
      "\u001b[0;31mNameError\u001b[0m: name 'gev' is not defined"
     ]
    }
   ],
   "source": [
    "# to_remove solution\n",
    "\n",
    "params = []\n",
    "for i in range(1000):\n",
    "    params.append(gev.fit(np.random.choice(precipitation,size=precipitation.size,replace=True)))"
   ]
  },
  {
   "cell_type": "code",
   "execution_count": 25,
   "metadata": {},
   "outputs": [
    {
     "name": "stdout",
     "output_type": "stream",
     "text": [
      "Mean estimate and 95% confidence intervals\n"
     ]
    },
    {
     "data": {
      "text/plain": [
       "[array([-0.03880629, 26.46145569,  7.3105464 ]),\n",
       " array([[-0.21382168, 24.72881586,  6.19726218],\n",
       "        [ 0.12307466, 28.27553679,  8.42557413]])]"
      ]
     },
     "execution_count": 25,
     "metadata": {},
     "output_type": "execute_result"
    }
   ],
   "source": [
    "print('Mean estimate and 95% confidence intervals')\n",
    "[\n",
    "    np.mean(np.array(params),axis=0),\n",
    "    np.quantile(np.array(params),[0.025,0.975],axis=0)\n",
    "]"
   ]
  },
  {
   "cell_type": "code",
   "execution_count": 26,
   "metadata": {},
   "outputs": [],
   "source": [
    "years = np.arange(1.1,1000,0.1)\n",
    "levels = []\n",
    "for i in range(1000):\n",
    "    levels.append(gev.ppf(1-1/years,*params[i]))\n",
    "levels = np.array(levels)"
   ]
  },
  {
   "cell_type": "code",
   "execution_count": 28,
   "metadata": {},
   "outputs": [
    {
     "data": {
      "text/plain": [
       "Text(0, 0.5, 'return level (mm/day)')"
      ]
     },
     "execution_count": 28,
     "metadata": {},
     "output_type": "execute_result"
    },
    {
     "data": {
      "image/png": "[encoded data removed]",
      "text/plain": [
       "<Figure size 640x480 with 1 Axes>"
      ]
     },
     "metadata": {},
     "output_type": "display_data"
    }
   ],
   "source": [
    "plt.plot(years,levels.mean(axis=0))\n",
    "plt.plot(years,np.quantile(levels,[0.025,0.975],axis=0).T,'k--')\n",
    "plt.semilogx()\n",
    "plt.xlim(1.5,1000)\n",
    "plt.ylim(20,110)\n",
    "plt.xlabel('return period (years)')\n",
    "plt.ylabel('return level (mm/day)')"
   ]
  },
  {
   "cell_type": "markdown",
   "metadata": {},
   "source": [
    "# **Summary**\n",
    "In this tutorial, we learned how to calculate return values based on the Generalized Extreme Value (GEV) distribution. We first understood the concept of return levels and how they are derived from the Probability Density Function (PDF) via the cumulative distribution function (CDF). We then learned to compute these return levels using given quantile and GEV parameters and how to create a figure to plot return-levels against return-periods using a log-scale on the x-axis. Finally, we compared the return levels derived from normal and GEV distributions using the \"Percent point function\" (ppf), leading to observations about how the distributions describe the data and differ at short/long return periods."
   ]
  }
 ],
 "metadata": {
  "colab": {
   "collapsed_sections": [],
   "include_colab_link": true,
   "name": "W2D4_Tutorial4",
   "toc_visible": true,
   "version": ""
  },
  "kernel": {
   "display_name": "Python 3",
   "language": "python",
   "name": "python3"
  },
  "kernelspec": {
   "display_name": "Python 3",
   "language": "python",
   "name": "python3"
  },
  "language_info": {
   "codemirror_mode": {
    "name": "ipython",
    "version": 3
   },
   "file_extension": ".py",
   "mimetype": "text/x-python",
   "name": "python",
   "nbconvert_exporter": "python",
   "pygments_lexer": "ipython3",
   "version": "3.7.3"
  }
 },
 "nbformat": 4,
 "nbformat_minor": 4
}
