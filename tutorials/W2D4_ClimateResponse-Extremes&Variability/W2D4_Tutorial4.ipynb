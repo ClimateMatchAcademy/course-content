{
 "cells": [
  {
   "attachments": {},
   "cell_type": "markdown",
   "metadata": {},
   "source": [
    "# W2D1 Tutorial 4: Return levels using Normal and GEV distributions\n",
    "\n",
    "#### __Week 2, Day 4, Extremes & Vulnerability__\n",
    "##### __Content creators:__ Matthias Aengenheyster, Joeri Reinders\n",
    "##### __Content reviewers:__ TBD\n",
    "##### __Content editors:__ TBD\n",
    "##### __Production editors:__ TBD\n",
    "##### __Our 2023 Sponsors:__ TBD"
   ]
  },
  {
   "attachments": {},
   "cell_type": "markdown",
   "metadata": {},
   "source": [
    "## Tutorial Objectives:"
   ]
  },
  {
   "attachments": {},
   "cell_type": "markdown",
   "metadata": {},
   "source": [
    "Now that we know how to create pdf for the GEV distribution we can use it to compute return values \n",
    "based on a GEV distribution.\n",
    "\n",
    "We  compute return levels from a pdf by using the cumulative distribution function (CDF), which tells us\n",
    "the chance that a randomly drawn variable from our distribution will be less than some value X (for our \n",
    "variable). Rare extreme values thus have a high chance (as most random draws will be smaller – small storms).\n",
    "Again, say that there is a 99% chance that we will see a storm of 80mm or higher… than there is a 1% change\n",
    "we will see a storm of at least 80mm – and given what we said above it means the 100-year storm will bring \n",
    "80mm of rain. Formally the return level is the inverse of the CDF – for here all you need to know is that \n",
    "you can compute return-levels using the function estimate_return_level_from_params(x,location,scale,shape). In this case x is the chance\n",
    "a random value from our distribution is lower – so for the 100-year storm this would be 0.99; and for the\n",
    "1000-year storm 0.999.  \n",
    "\n",
    "By the end of the tutorial you will be able to:\n",
    "- Estimate return levels given a quantile and the parameters of a GEV distribution\n",
    "- Compare return levels plots for GEV and normal distributions"
   ]
  },
  {
   "attachments": {},
   "cell_type": "markdown",
   "metadata": {},
   "source": [
    "## Setup"
   ]
  },
  {
   "cell_type": "code",
   "execution_count": null,
   "metadata": {},
   "outputs": [],
   "source": [
    "# Installs"
   ]
  },
  {
   "cell_type": "code",
   "execution_count": null,
   "metadata": {
    "execution": {},
    "tags": [
     "colab"
    ]
   },
   "outputs": [],
   "source": [
    "# # <Yosmely Bermúdez> comments\n",
    "# #install dependencies\n",
    "# # We need this to install eigen which is needed for SDFC to install correctly\n",
    "# !pip install -q condacolab\n",
    "# import condacolab\n",
    "# condacolab.install()\n",
    "# !conda install eigen\n",
    "# !pip install -v https://github.com/yrobink/SDFC/archive/master.zip#subdirectory=python\n",
    "# !pip install https://github.com/njleach/mystatsfunctions/archive/master.zip\n",
    "# !pip install numpy\n",
    "# !pip install matplotlib\n",
    "# !pip install seaborn\n",
    "# !pip install pandas\n",
    "# !pip install cartopy\n",
    "# !pip install scipy\n",
    "# !pip install texttable"
   ]
  },
  {
   "cell_type": "code",
   "execution_count": null,
   "metadata": {
    "execution": {},
    "executionInfo": {
     "elapsed": 2204,
     "status": "ok",
     "timestamp": 1681924180496,
     "user": {
      "displayName": "Matthias Aengenheyster",
      "userId": "16322208118439170907"
     },
     "user_tz": -60
    }
   },
   "outputs": [],
   "source": [
    "import numpy as np\n",
    "import matplotlib.pyplot as plt\n",
    "import seaborn as sns\n",
    "import pandas as pd\n",
    "\n",
    "from scipy import stats\n",
    "gev = stats.genextreme\n",
    "\n",
    "import extremes_functions as ef\n",
    "from mystatsfunctions import OLSE,LMoments\n",
    "import SDFC as sd"
   ]
  },
  {
   "cell_type": "code",
   "execution_count": null,
   "metadata": {
    "execution": {},
    "executionInfo": {
     "elapsed": 530,
     "status": "ok",
     "timestamp": 1681924181024,
     "user": {
      "displayName": "Matthias Aengenheyster",
      "userId": "16322208118439170907"
     },
     "user_tz": -60
    }
   },
   "outputs": [],
   "source": [
    "import os, pooch\n",
    "\n",
    "fname = 'precipitationGermany_1920-2022.csv'\n",
    "if not os.path.exists(fname):\n",
    "    url = \"https://osf.io/xs7h6/download\"\n",
    "    fname = pooch.retrieve(url, known_hash=None)\n",
    "\n",
    "data = pd.read_csv(fname, index_col=0).set_index('years')\n",
    "\n",
    "data.columns=['precipitation']\n",
    "precipitation = data.precipitation"
   ]
  },
  {
   "cell_type": "code",
   "execution_count": null,
   "metadata": {
    "execution": {},
    "executionInfo": {
     "elapsed": 267,
     "status": "ok",
     "timestamp": 1681924238489,
     "user": {
      "displayName": "Matthias Aengenheyster",
      "userId": "16322208118439170907"
     },
     "user_tz": -60
    }
   },
   "outputs": [],
   "source": [
    "fit, model = ef.fit_return_levels_sdfc(precipitation.values,times=np.arange(1.1,1000),periods_per_year=1,kind='GEV',N_boot=10,full=True,model=True)"
   ]
  },
  {
   "cell_type": "code",
   "execution_count": null,
   "metadata": {},
   "outputs": [],
   "source": [
    "fit"
   ]
  },
  {
   "cell_type": "code",
   "execution_count": null,
   "metadata": {},
   "outputs": [],
   "source": [
    "model"
   ]
  },
  {
   "attachments": {},
   "cell_type": "markdown",
   "metadata": {},
   "source": [
    "This utility function takes a given *quantile* and a fitted *model* and computes the corresponding return level"
   ]
  },
  {
   "cell_type": "code",
   "execution_count": null,
   "metadata": {
    "execution": {},
    "executionInfo": {
     "elapsed": 2,
     "status": "ok",
     "timestamp": 1681924239851,
     "user": {
      "displayName": "Matthias Aengenheyster",
      "userId": "16322208118439170907"
     },
     "user_tz": -60
    }
   },
   "outputs": [],
   "source": [
    "def estimate_return_level(quantile,model):\n",
    "    loc, scale, shape = model.coef_\n",
    "    level = loc - scale / shape * (1 - (-np.log(quantile))**(-shape))\n",
    "    # level = stats.genextreme.ppf(quantile,-shape,loc=loc,scale=scale)\n",
    "    return level\n",
    "\n",
    "def estimate_return_level_from_params(quantile,loc,scale,shape):\n",
    "    level = loc - scale / shape * (1 - (-np.log(quantile))**(-shape))\n",
    "    return level"
   ]
  },
  {
   "attachments": {},
   "cell_type": "markdown",
   "metadata": {
    "execution": {}
   },
   "source": [
    "Now let's use this function to compute the 2-year level, which is the level of precipitation we expect with a 50% chance each year. The function needs a quantile x, and the three GEV parameters: location, scale, and shape. The output of the function is the return level at that quantile. \n",
    "For example the 90th quantile (x=0.9) would give the 10-year precipitation value (10% change of seeing it every year)."
   ]
  },
  {
   "cell_type": "code",
   "execution_count": null,
   "metadata": {
    "execution": {},
    "executionInfo": {
     "elapsed": 7,
     "status": "ok",
     "timestamp": 1681924241704,
     "user": {
      "displayName": "Matthias Aengenheyster",
      "userId": "16322208118439170907"
     },
     "user_tz": -60
    }
   },
   "outputs": [],
   "source": [
    "estimate_return_level(0.5,model)"
   ]
  },
  {
   "cell_type": "code",
   "execution_count": null,
   "metadata": {
    "execution": {},
    "executionInfo": {
     "elapsed": 467,
     "status": "ok",
     "timestamp": 1681924243311,
     "user": {
      "displayName": "Matthias Aengenheyster",
      "userId": "16322208118439170907"
     },
     "user_tz": -60
    }
   },
   "outputs": [],
   "source": [
    "stats.genextreme.ppf(0.5,-model.shape.mean(),loc=model.loc.mean(),scale=model.scale.mean())"
   ]
  },
  {
   "attachments": {},
   "cell_type": "markdown",
   "metadata": {
    "execution": {}
   },
   "source": [
    "It is probably easier to replace x with a variable called “rp” (= return period). You can use the formula 1-(1/return period)\n",
    "to compute rp. So a 100-year storm would be 1-(1/100) = 0.99. Compute the 100- and 1000-year storm. "
   ]
  },
  {
   "cell_type": "code",
   "execution_count": null,
   "metadata": {
    "execution": {},
    "executionInfo": {
     "elapsed": 188,
     "status": "ok",
     "timestamp": 1681924244959,
     "user": {
      "displayName": "Matthias Aengenheyster",
      "userId": "16322208118439170907"
     },
     "user_tz": -60
    }
   },
   "outputs": [],
   "source": [
    "estimate_return_level(1-1/80,model)"
   ]
  },
  {
   "cell_type": "code",
   "execution_count": null,
   "metadata": {
    "execution": {},
    "executionInfo": {
     "elapsed": 2,
     "status": "ok",
     "timestamp": 1681924245377,
     "user": {
      "displayName": "Matthias Aengenheyster",
      "userId": "16322208118439170907"
     },
     "user_tz": -60
    }
   },
   "outputs": [],
   "source": [
    "estimate_return_level(1-1/1000,model)"
   ]
  },
  {
   "attachments": {},
   "cell_type": "markdown",
   "metadata": {
    "execution": {}
   },
   "source": [
    "Now we will make a figure in which we plot return-levels against return-periods:\n",
    "1. Create vector “periods” which is a sequence of 2 to a 1000-years (in steps of 2).\n",
    "2. Create a vector “levels” which is the associated return-levels for those return periods.\n",
    "3. Plot them against each other. Typically the return periods go on the x-axis at a log-scale.\n"
   ]
  },
  {
   "cell_type": "code",
   "execution_count": null,
   "metadata": {
    "execution": {},
    "executionInfo": {
     "elapsed": 784,
     "status": "ok",
     "timestamp": 1681924247138,
     "user": {
      "displayName": "Matthias Aengenheyster",
      "userId": "16322208118439170907"
     },
     "user_tz": -60
    }
   },
   "outputs": [],
   "source": [
    "periods = np.arange(2,1000,2)\n",
    "quantiles = 1-1/periods\n",
    "levels = estimate_return_level(quantiles,model)\n",
    "# plt.plot(x,estimate_return_level(x,model))\n",
    "plt.plot(periods,levels,'.-')\n",
    "plt.xlabel('Return Period (years)')\n",
    "plt.ylabel('Return level')\n",
    "\n",
    "plt.semilogx()"
   ]
  },
  {
   "attachments": {},
   "cell_type": "markdown",
   "metadata": {},
   "source": [
    "It would be interesting to compare the return levels from a normal and GEV distribution. Compute the \n",
    "50-,100-,500- and 1000-year based on a normal distribution and based on the GEV distribution\n",
    "like above. "
   ]
  },
  {
   "attachments": {},
   "cell_type": "markdown",
   "metadata": {},
   "source": [
    "You can use the stats.norm.ppf and stats.genextreme.ppf functions: The \"Percent point function\" (ppf) is the inverse of the CDF function: It takes the quantiles (and the distribution parameters) and returns the values. \n",
    "For the normal distribution, you need mean and standard deviation. \n",
    "For the GEV distribution, you need shape, location, and scale. Note that there are two sign conventions for the shape parameter - You will have to multiply the shape from the fit above by -1."
   ]
  },
  {
   "cell_type": "code",
   "execution_count": null,
   "metadata": {},
   "outputs": [],
   "source": [
    "years = np.array([50,100,500,1000])\n",
    "quantiles = 1-1/years\n",
    "\n",
    "df = pd.DataFrame(index=years)\n",
    "df['Normal Distribution'] = stats.norm.ppf(quantiles,loc=precipitation.mean(), scale=precipitation.std())\n",
    "df['GEV'] = stats.genextreme.ppf(quantiles,-model.shape.mean(),loc=model.loc.mean(),scale=model.scale.mean())"
   ]
  },
  {
   "cell_type": "code",
   "execution_count": null,
   "metadata": {},
   "outputs": [],
   "source": [
    "df"
   ]
  },
  {
   "attachments": {},
   "cell_type": "markdown",
   "metadata": {
    "execution": {}
   },
   "source": [
    "## Excercise: Plot and compare return levels for Normal and GEV distributions\n",
    "Create a return time plot that plots\n",
    "1. the empirical return level\n",
    "2. the estimate based on a normal distribution\n",
    "3. the estimate based on a GEV distribution\n",
    "\n",
    "Note that the empirical return level is contained in the \"return_level_obs\" variable of the \"fit\" dataset:"
   ]
  },
  {
   "cell_type": "code",
   "execution_count": null,
   "metadata": {},
   "outputs": [],
   "source": [
    "fit.return_level_obs"
   ]
  },
  {
   "attachments": {},
   "cell_type": "markdown",
   "metadata": {},
   "source": [
    "### student"
   ]
  },
  {
   "cell_type": "code",
   "execution_count": null,
   "metadata": {},
   "outputs": [],
   "source": [
    "..."
   ]
  },
  {
   "attachments": {},
   "cell_type": "markdown",
   "metadata": {},
   "source": [
    "### solution"
   ]
  },
  {
   "cell_type": "code",
   "execution_count": null,
   "metadata": {
    "execution": {},
    "executionInfo": {
     "elapsed": 357,
     "status": "ok",
     "timestamp": 1681924249195,
     "user": {
      "displayName": "Matthias Aengenheyster",
      "userId": "16322208118439170907"
     },
     "user_tz": -60
    }
   },
   "outputs": [],
   "source": [
    "fit.return_level_obs.plot.line('.')\n",
    "years = np.arange(1.1,100,0.1)\n",
    "plt.plot(years,stats.norm.ppf(1-1/years,loc=precipitation.mean(), scale=precipitation.std()))\n",
    "plt.plot(years,stats.genextreme.ppf(1-1/years,-model.shape.mean(),loc=model.loc.mean(),scale=model.scale.mean()))\n",
    "\n",
    "plt.semilogx()\n",
    "\n",
    "plt.legend(['empirical','normal','GEV'])"
   ]
  },
  {
   "attachments": {},
   "cell_type": "markdown",
   "metadata": {
    "execution": {}
   },
   "source": [
    "### What can you say about the plot and how the distributions describe the data? How do the distributions differ? At short/long return periods? What will happen at even longer return periods?"
   ]
  },
  {
   "cell_type": "code",
   "execution_count": null,
   "metadata": {},
   "outputs": [],
   "source": []
  },
  {
   "attachments": {},
   "cell_type": "markdown",
   "metadata": {},
   "source": [
    "## Optional extra task: Implement your own bootstrapping algorithm\n",
    "We have used the pre-written function ef.fit_return_levels_sdfc to fit the GEV distribution to the data, compute confidence intervals and the like. You may find it instructive to try and implement such an algorithm from scratch. \n",
    "One pathway would be the following:\n",
    "1. Start from the 'gev' function (scipy.stats.genextreme). It can be used to fit by GEV parameters by stats.genextreme.fit(data), and returns the three parameters (note a sign change in the shape parameter - different conventions exist!)\n",
    "2. Check how many observations there are in the data, let's call this number N.\n",
    "3. Resample the data by drawing N samples out of the data, with replacing - this creates an artificial ensemble, different from the true data due to the resampling.\n",
    "4. Estimate the parameters for each resampling.\n",
    "5. Use the stats.genextreme.ppf for each parameter set to compute the return level for each one.\n",
    "6. Visualize the resulting uncertainty bands, e.g. by plotting many lines or computing confidence intervals using np.quantile.\n"
   ]
  },
  {
   "attachments": {},
   "cell_type": "markdown",
   "metadata": {},
   "source": [
    "### solution"
   ]
  },
  {
   "cell_type": "code",
   "execution_count": null,
   "metadata": {},
   "outputs": [],
   "source": [
    "params = []\n",
    "for i in range(1000):\n",
    "    params.append(gev.fit(np.random.choice(precipitation,size=precipitation.size,replace=True)))"
   ]
  },
  {
   "cell_type": "code",
   "execution_count": null,
   "metadata": {},
   "outputs": [],
   "source": [
    "print('Mean estimate and 95% confidence intervals')\n",
    "[\n",
    "    np.mean(np.array(params),axis=0),\n",
    "    np.quantile(np.array(params),[0.025,0.975],axis=0)\n",
    "]"
   ]
  },
  {
   "cell_type": "code",
   "execution_count": null,
   "metadata": {},
   "outputs": [],
   "source": [
    "years = np.arange(1.1,1000,0.1)\n",
    "levels = []\n",
    "for i in range(1000):\n",
    "    levels.append(gev.ppf(1-1/years,*params[i]))\n",
    "levels = np.array(levels)"
   ]
  },
  {
   "cell_type": "code",
   "execution_count": null,
   "metadata": {},
   "outputs": [],
   "source": [
    "plt.plot(years,levels.mean(axis=0))\n",
    "plt.plot(years,np.quantile(levels,[0.025,0.975],axis=0).T,'k--')\n",
    "plt.semilogx()\n",
    "plt.xlim(1.5,1000)\n",
    "plt.ylim(20,110)\n",
    "plt.xlabel('return period (years)')\n",
    "plt.ylabel('return level (mm/day)')"
   ]
  }
 ],
 "metadata": {
  "colab": {
   "collapsed_sections": [],
   "include_colab_link": true,
   "name": "W2D4_Tutorial4",
   "toc_visible": true,
   "version": ""
  },
  "kernel": {
   "display_name": "Python 3",
   "language": "python",
   "name": "python3"
  },
  "kernelspec": {
   "display_name": "science39",
   "language": "python",
   "name": "python3"
  },
  "language_info": {
   "codemirror_mode": {
    "name": "ipython",
    "version": 3
   },
   "file_extension": ".py",
   "mimetype": "text/x-python",
   "name": "python",
   "nbconvert_exporter": "python",
   "pygments_lexer": "ipython3",
   "version": "3.10.12"
  }
 },
 "nbformat": 4,
 "nbformat_minor": 0
}
