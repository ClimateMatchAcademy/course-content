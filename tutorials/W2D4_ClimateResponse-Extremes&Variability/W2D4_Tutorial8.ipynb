{
 "cells": [
  {
   "attachments": {},
   "cell_type": "markdown",
   "metadata": {},
   "source": [
    "# W2D1 Tutorial 8: Non-Stationarity in the EVT-framework\n",
    "\n",
    "#### __Week 2, Day 4, Extremes & Vulnerability__\n",
    "##### __Content creators:__ Matthias Aengenheyster, Joeri Reinders\n",
    "##### __Content reviewers:__ TBD\n",
    "##### __Content editors:__ TBD\n",
    "##### __Production editors:__ TBD\n",
    "##### __Our 2023 Sponsors:__ TBD"
   ]
  },
  {
   "attachments": {},
   "cell_type": "markdown",
   "metadata": {},
   "source": [
    "## Tutorial Objectives:"
   ]
  },
  {
   "attachments": {},
   "cell_type": "markdown",
   "metadata": {},
   "source": [
    "In the 8th tutorial we include non-stationary into our GEV parameters to get a better model fit to our sea level heights from Washington DC.\n",
    "\n",
    "By the end of the tutorial you will be able to:\n",
    "1. Fit a GEV distribution to a non-stationary record by including a time-dependent parameter.\n",
    "2. Examine the different fits for models with different time-dependent parameters (e.g. location, scale or shape).\n",
    "3. Compute effective return levels from our non-stationary GEV model."
   ]
  },
  {
   "attachments": {},
   "cell_type": "markdown",
   "metadata": {},
   "source": [
    "## Setup"
   ]
  },
  {
   "cell_type": "code",
   "execution_count": null,
   "metadata": {},
   "outputs": [],
   "source": [
    "# Installs"
   ]
  },
  {
   "cell_type": "code",
   "execution_count": null,
   "metadata": {},
   "outputs": [],
   "source": [
    "# !pip install -q condacolab\n",
    "# import condacolab\n",
    "# condacolab.install()"
   ]
  },
  {
   "cell_type": "code",
   "execution_count": null,
   "metadata": {},
   "outputs": [],
   "source": [
    "# #install dependencies - taken from <Yosmely Bermúdez> comments for Tutorial 6\n",
    "# # We need this to install eigen which is needed for SDFC to install correctly\n",
    "# !mamba install eigen numpy matplotlib seaborn pandas cartopy scipy texttable intake xarrayutils xmip cf_xarray intake-esm\n",
    "# !pip install -v https://github.com/yrobink/SDFC/archive/master.zip#subdirectory=python\n",
    "# !pip install https://github.com/njleach/mystatsfunctions/archive/master.zip\n"
   ]
  },
  {
   "cell_type": "code",
   "execution_count": null,
   "metadata": {
    "execution": {}
   },
   "outputs": [],
   "source": [
    "import numpy as np\n",
    "import matplotlib.pyplot as plt\n",
    "import seaborn as sns\n",
    "import pandas as pd\n",
    "from scipy import stats\n",
    "\n",
    "import extremes_functions as ef\n",
    "from mystatsfunctions import OLSE,LMoments\n",
    "import SDFC as sd\n",
    "\n",
    "gev = stats.genextreme"
   ]
  },
  {
   "cell_type": "code",
   "execution_count": null,
   "metadata": {
    "execution": {}
   },
   "outputs": [],
   "source": [
    "def estimate_return_level(quantile,model):\n",
    "    loc, scale, shape = model.loc, model.scale, model.shape\n",
    "    level = loc - scale / shape * (1 - (-np.log(quantile))**(-shape))\n",
    "    return level"
   ]
  },
  {
   "cell_type": "code",
   "execution_count": null,
   "metadata": {
    "execution": {}
   },
   "outputs": [],
   "source": [
    "import os, pooch\n",
    "\n",
    "fname = 'WashingtonDCSSH1930-2022.csv'\n",
    "if not os.path.exists(fname):\n",
    "    url = \"https://osf.io/4zynp/download\"\n",
    "    fname = pooch.retrieve(url, known_hash=None)\n",
    "\n",
    "data = pd.read_csv(fname, index_col=0).set_index('years')"
   ]
  },
  {
   "attachments": {},
   "cell_type": "markdown",
   "metadata": {},
   "source": [
    "As before, start by visually inspecting the data: Create a plot of the recorded data over time."
   ]
  },
  {
   "cell_type": "code",
   "execution_count": null,
   "metadata": {
    "execution": {}
   },
   "outputs": [],
   "source": [
    "data.ssh.plot(linestyle='-',marker='.')\n",
    "plt.ylabel('sea surface height')"
   ]
  },
  {
   "attachments": {},
   "cell_type": "markdown",
   "metadata": {},
   "source": [
    "Also, fit a stationary GEV distribution to the data and print the resulting fit:"
   ]
  },
  {
   "cell_type": "code",
   "execution_count": null,
   "metadata": {
    "execution": {}
   },
   "outputs": [],
   "source": [
    "fit, model = ef.fit_return_levels_sdfc(data.ssh.values,times=np.arange(1.1,1000),periods_per_year=1,kind='GEV',N_boot=10,full=True,model=True)"
   ]
  },
  {
   "cell_type": "code",
   "execution_count": null,
   "metadata": {},
   "outputs": [],
   "source": [
    "model"
   ]
  },
  {
   "attachments": {},
   "cell_type": "markdown",
   "metadata": {},
   "source": [
    "The following figure combines the QQ-plot (recall previous tutorials), the comparison of modelled and empirical probability density functions, and the fitted return level plot."
   ]
  },
  {
   "cell_type": "code",
   "execution_count": null,
   "metadata": {
    "execution": {}
   },
   "outputs": [],
   "source": [
    "fig, axs = plt.subplots(2,2,constrained_layout=True)\n",
    "ax = axs.flatten()\n",
    "\n",
    "x = np.linspace(0,1,100)\n",
    "ax[0].plot(\n",
    "    gev.ppf(x, -fit.xi.mean().values, loc=fit.mu.mean().values, scale=fit.sigma.mean().values), \n",
    "    np.quantile(data.ssh,x),\n",
    "    'o')\n",
    "xlim = ax[0].get_xlim()\n",
    "ylim = ax[0].get_ylim()\n",
    "ax[0].plot([min(xlim[0],ylim[0]),max(xlim[1],ylim[1])],[min(xlim[0],ylim[0]),max(xlim[1],ylim[1])],'k')\n",
    "\n",
    "ax[0].set_xlim(xlim)\n",
    "ax[0].set_ylim(ylim)\n",
    "\n",
    "\n",
    "x = np.linspace(data.ssh.min()-200, data.ssh.max()+200, 1000)\n",
    "ax[2].plot(x,gev.pdf(x, -fit.xi.mean().values, loc=fit.mu.mean().values, scale=fit.sigma.mean().values), label='Modeled')\n",
    "sns.kdeplot(data.ssh,ax=ax[2],label='Empirical')\n",
    "ax[2].legend()\n",
    "\n",
    "ef.plot_levels_from_obj(fit,alpha=0.95,ax=ax[3])\n",
    "ax[3].set_xlim(1.5,1000)\n",
    "ax[3].set_ylim(0,None)\n",
    "\n",
    "ax[0].set_title('QQ-plot')\n",
    "ax[2].set_title('PDF')\n",
    "ax[3].set_title('Return levels')\n",
    "\n",
    "ax[1].remove()"
   ]
  },
  {
   "attachments": {},
   "cell_type": "markdown",
   "metadata": {},
   "source": [
    "Use the function estimate_return_level to compute the 100-year return level:"
   ]
  },
  {
   "cell_type": "code",
   "execution_count": null,
   "metadata": {},
   "outputs": [],
   "source": [
    "print('100-year return level: %.2f' % estimate_return_level(1-1/100,model).mean())"
   ]
  },
  {
   "attachments": {},
   "cell_type": "markdown",
   "metadata": {
    "execution": {}
   },
   "source": [
    "we can make our GEV model non-stationary adding a time component to the GEV parameters. \n",
    "\n",
    "That means that our parameters change as time changes… Or... we could make them dependent on global air \n",
    "temperature for example. The simplest version of a non-stationary GEV model is by adding a linear time\n",
    "component to the location parameter. Instead of our location parameter being (for example) “100” it would\n",
    "be a linear function time ( time*1.05+80” ). The location parameter now becomes larger as time increases.\n",
    "We can incorporate this into our fit through the option of c_loc.\n",
    "\n",
    "We cannot use the function ef.fit_return_levels_sdfc anymore because it does not support non-stationary parameters. However, under the hood it uses the SDFC functionality, which we now use directly"
   ]
  },
  {
   "cell_type": "code",
   "execution_count": null,
   "metadata": {
    "execution": {}
   },
   "outputs": [],
   "source": [
    "# initialize a GEV distribution:\n",
    "law_ns = sd.GEV(n_bootstrap=10)\n",
    "# fit the GEV to the data, while specifying that the location parameter ('loc') is meant to be a covariate ('_c') of the time axis (data.index)\n",
    "law_ns.fit(data.ssh.values, c_loc = np.arange(data.index.size))"
   ]
  },
  {
   "cell_type": "code",
   "execution_count": null,
   "metadata": {},
   "outputs": [],
   "source": [
    "law_ns"
   ]
  },
  {
   "attachments": {},
   "cell_type": "markdown",
   "metadata": {},
   "source": [
    "Now the location parameter is of type \"Covariate\" (that is, it *covaries* with the array we provided to c_loc), and it now consists of *two* coefficients (intercept and slope) of the linear relationship between the location parameter and the provided array."
   ]
  },
  {
   "attachments": {},
   "cell_type": "markdown",
   "metadata": {},
   "source": [
    "As you can see we related the location parameter to an array which is just 1,2,3,4,5,6 etc. - that is a *linear relationship*.\n",
    "When instead we would have used provided an exponential function of time (such as 1,2,4,8,16, by setting c_loc = np.exp(np.arange(data.index.size)/data.index.size)) etc (exponential growth) we would create an *exponential relationship*.\n",
    "\n",
    "If we had squared it (c_loc = np.arange(data.index.size)**2) we would have created a *quadratic relationship*\n",
    "\n",
    "You can use all sorts of relations AND you can\n",
    "apply it to all the parameters (or multiple) through c_scale and c_shape. You could also, for example,\n",
    "related it to the global mean CO2 concentration (rather than simply time), which might make the fit even better. "
   ]
  },
  {
   "attachments": {},
   "cell_type": "markdown",
   "metadata": {},
   "source": [
    "Since the location parameter is not dependent on time we cannot construct a return level/return period\n",
    "plot like we did last class… As there are now 93 different plots, one for each year. What we can however\n",
    "do, which is also visually attractive, is compute the level of the 100-year event over time and plot that\n",
    "onto our SSH record. We call\n",
    "this the “effective return levels”. \n"
   ]
  },
  {
   "cell_type": "code",
   "execution_count": null,
   "metadata": {
    "execution": {}
   },
   "outputs": [],
   "source": [
    "data.ssh.plot(c='k',label='sea level anomaly')\n",
    "plt.plot(data.index,estimate_return_level(1-1/2,law_ns),label='2-year return level')\n",
    "plt.plot(data.index,estimate_return_level(1-1/10,law_ns),label='10-year return level')\n",
    "plt.plot(data.index,estimate_return_level(1-1/50,law_ns),label='50-year return level')\n",
    "plt.plot(data.index,estimate_return_level(1-1/100,law_ns),label='100-year return level')\n",
    "plt.plot(data.index,estimate_return_level(1-1/500,law_ns),label='500-year return level')\n",
    "plt.legend()\n",
    "plt.grid(True)\n",
    "plt.ylabel('annual maximum sea level anomaly (mm)')"
   ]
  },
  {
   "attachments": {},
   "cell_type": "markdown",
   "metadata": {},
   "source": [
    "You can assess the fit of your model by looking at the AIC level of your model fit. \n",
    "The Akaike Information Criterion (AIC), https://en.wikipedia.org/wiki/Akaike_information_criterion is useful to estimate how well the model fits the data, while preferring simpler models with fewer free parameters. The lower the AIC number the better the fit. Below a simple function is defined that computes the AIC for a given fitted *model*."
   ]
  },
  {
   "cell_type": "code",
   "execution_count": null,
   "metadata": {},
   "outputs": [],
   "source": [
    "def compute_aic(model):\n",
    "    return 2 * len(model.coef_) + 2 * model.info.optim_result.fun"
   ]
  },
  {
   "cell_type": "code",
   "execution_count": null,
   "metadata": {
    "execution": {}
   },
   "outputs": [],
   "source": [
    "compute_aic(model)"
   ]
  },
  {
   "cell_type": "code",
   "execution_count": null,
   "metadata": {
    "execution": {}
   },
   "outputs": [],
   "source": [
    "compute_aic(law_ns)"
   ]
  },
  {
   "attachments": {},
   "cell_type": "markdown",
   "metadata": {},
   "source": [
    "You can see that AIC is lower for the model that has the location parameter as a *covariate* - this suggest this model fits the data better"
   ]
  },
  {
   "attachments": {},
   "cell_type": "markdown",
   "metadata": {
    "execution": {}
   },
   "source": [
    "## Exercise: Scale and/or shape as function of time\n",
    "You have seen above how to make the location parameter a function of time, by providing the keyword c_loc keyword to the fit() function.\n",
    "1. Now repeat this procedure, making scale, shape or both a function of time. You need to initialize a new GEV instance, call it e.g. law_ns_scale = sd.GEV() and then call the .fit() function similarly to above, by replacing c_loc with c_scale and/or c_shape.\n",
    "2. Plot the effective return levels by providing your fitted model to the function estimate_return_level (as above). Does the model fit the data better? the same? worse?\n",
    "3. Compute the AIC for your new fits. Is your expectation from (2) met?"
   ]
  },
  {
   "attachments": {},
   "cell_type": "markdown",
   "metadata": {},
   "source": [
    "### student"
   ]
  },
  {
   "cell_type": "code",
   "execution_count": null,
   "metadata": {},
   "outputs": [],
   "source": [
    "..."
   ]
  },
  {
   "attachments": {},
   "cell_type": "markdown",
   "metadata": {},
   "source": [
    "### solution"
   ]
  },
  {
   "cell_type": "code",
   "execution_count": null,
   "metadata": {
    "execution": {}
   },
   "outputs": [],
   "source": [
    "law_ns_scale = sd.GEV()\n",
    "law_ns_scale.fit(data.ssh.values, c_scale = np.arange(data.index.size))"
   ]
  },
  {
   "cell_type": "code",
   "execution_count": null,
   "metadata": {
    "execution": {}
   },
   "outputs": [],
   "source": [
    "\n",
    "data.ssh.plot(c='k')\n",
    "plt.plot(data.index,estimate_return_level(1-1/2,law_ns_scale),label='2-year return level')\n",
    "plt.plot(data.index,estimate_return_level(1-1/10,law_ns_scale),label='10-year return level')\n",
    "plt.plot(data.index,estimate_return_level(1-1/50,law_ns_scale),label='50-year return level')\n",
    "plt.plot(data.index,estimate_return_level(1-1/100,law_ns_scale),label='100-year return level')\n",
    "plt.plot(data.index,estimate_return_level(1-1/500,law_ns_scale),label='500-year return level')\n",
    "plt.legend()\n",
    "plt.grid(True)\n",
    "plt.title('Scale as function of time')"
   ]
  },
  {
   "attachments": {},
   "cell_type": "markdown",
   "metadata": {
    "execution": {}
   },
   "source": [
    "### scale as function of time"
   ]
  },
  {
   "cell_type": "code",
   "execution_count": null,
   "metadata": {
    "execution": {}
   },
   "outputs": [],
   "source": [
    "law_ns_shape = sd.GEV()\n",
    "law_ns_shape.fit(data.ssh.values, c_shape = np.arange(data.index.size))"
   ]
  },
  {
   "cell_type": "code",
   "execution_count": null,
   "metadata": {
    "execution": {}
   },
   "outputs": [],
   "source": [
    "data.ssh.plot(c='k')\n",
    "plt.plot(data.index,estimate_return_level(1-1/2,law_ns_shape),label='2-year return level')\n",
    "plt.plot(data.index,estimate_return_level(1-1/10,law_ns_shape),label='10-year return level')\n",
    "plt.plot(data.index,estimate_return_level(1-1/50,law_ns_shape),label='50-year return level')\n",
    "plt.plot(data.index,estimate_return_level(1-1/100,law_ns_shape),label='100-year return level')\n",
    "plt.plot(data.index,estimate_return_level(1-1/500,law_ns_shape),label='500-year return level')\n",
    "plt.legend()\n",
    "plt.grid(True)\n",
    "plt.title('Shape as function of time')"
   ]
  },
  {
   "attachments": {},
   "cell_type": "markdown",
   "metadata": {
    "execution": {}
   },
   "source": [
    "### location and scale as function of time"
   ]
  },
  {
   "cell_type": "code",
   "execution_count": null,
   "metadata": {
    "execution": {}
   },
   "outputs": [],
   "source": [
    "law_ns_loc_scale = sd.GEV()\n",
    "law_ns_loc_scale.fit(data.ssh.values, c_loc = np.arange(data.index.size), c_scale = np.arange(data.index.size))"
   ]
  },
  {
   "cell_type": "code",
   "execution_count": null,
   "metadata": {
    "execution": {}
   },
   "outputs": [],
   "source": [
    "data.ssh.plot(c='k')\n",
    "plt.plot(data.index,estimate_return_level(1-1/2,law_ns_loc_scale),label='2-year return level')\n",
    "plt.plot(data.index,estimate_return_level(1-1/10,law_ns_loc_scale),label='10-year return level')\n",
    "plt.plot(data.index,estimate_return_level(1-1/50,law_ns_loc_scale),label='50-year return level')\n",
    "plt.plot(data.index,estimate_return_level(1-1/100,law_ns_loc_scale),label='100-year return level')\n",
    "plt.plot(data.index,estimate_return_level(1-1/500,law_ns_loc_scale),label='500-year return level')\n",
    "plt.legend()\n",
    "plt.grid(True)\n",
    "plt.title('Location and scale as function of time')"
   ]
  },
  {
   "cell_type": "code",
   "execution_count": null,
   "metadata": {
    "execution": {}
   },
   "outputs": [],
   "source": [
    "aics = pd.Series(\n",
    "    index = ['Location','Scale','Shape','Location and Scale'],\n",
    "    data  = [compute_aic(law_ns), compute_aic(law_ns_scale), compute_aic(law_ns_shape), compute_aic(law_ns_loc_scale)]\n",
    "    )\n",
    "\n",
    "aics"
   ]
  },
  {
   "cell_type": "code",
   "execution_count": null,
   "metadata": {},
   "outputs": [],
   "source": []
  }
 ],
 "metadata": {
  "colab": {
   "collapsed_sections": [],
   "include_colab_link": true,
   "name": "W2D4_Tutorial8",
   "toc_visible": true
  },
  "kernel": {
   "display_name": "Python 3",
   "language": "python",
   "name": "python3"
  },
  "kernelspec": {
   "display_name": "science39",
   "language": "python",
   "name": "python3"
  },
  "language_info": {
   "codemirror_mode": {
    "name": "ipython",
    "version": 3
   },
   "file_extension": ".py",
   "mimetype": "text/x-python",
   "name": "python",
   "nbconvert_exporter": "python",
   "pygments_lexer": "ipython3",
   "version": "3.9.13"
  }
 },
 "nbformat": 4,
 "nbformat_minor": 2
}
