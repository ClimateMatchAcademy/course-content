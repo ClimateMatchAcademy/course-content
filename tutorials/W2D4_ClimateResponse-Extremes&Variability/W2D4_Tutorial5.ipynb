{
 "cells": [
  {
   "attachments": {},
   "cell_type": "markdown",
   "metadata": {},
   "source": [
    "# W2D1 Tutorial 5: Estimate model parameters - maximum likelihood, Moments, Bayesian\n",
    "\n",
    "#### __Week 2, Day 4, Extremes & Vulnerability__\n",
    "##### __Content creators:__ Matthias Aengenheyster, Joeri Reinders\n",
    "##### __Content reviewers:__ TBD\n",
    "##### __Content editors:__ TBD\n",
    "##### __Production editors:__ TBD\n",
    "##### __Our 2023 Sponsors:__ TBD"
   ]
  },
  {
   "attachments": {},
   "cell_type": "markdown",
   "metadata": {},
   "source": [
    "## Tutorial Objectives:"
   ]
  },
  {
   "attachments": {},
   "cell_type": "markdown",
   "metadata": {},
   "source": [
    "In the previous tutorials we have fitted GEV distributions to our observational data.\n",
    "\n",
    "For this next tutorial we will dive  more into how this fitting is performed, that is how the model parameters are estimated. \n",
    "As you might remember from the previous tutorials the GEV distribution has three variables: the location,\n",
    "scale, and shape parameter. By default the ef.fit_return_levels_sdfc function uses a 'maximum likelihood estimation' (MLE).\n",
    "\n",
    "A MLE is an estimator, a function of your data that gives you an approximation of the parameters. In a \n",
    "MLE we compute the likelihood that a given set of parameters would return the observed data. The likelihood\n",
    "is given by the earlier discussed probability density function that results from a set of parameters. \n",
    "\n",
    "We thus made two very important assumptions in our previous tutorials:\n",
    "1. We assumed we were working with the GEV distribution\n",
    "2. We assumed the MLE method would give us the best parameter estimation. \n",
    "\n",
    "In this tutorial we will test these assumptions by using different parameter estimation\n",
    "methods to see if our parameter values signficiantly change. Next we show you how you can use different \n",
    "models.\n",
    "\n",
    "By the end of the tutorial, you will be able to:\n",
    "1. Explain different parameter estimation methods\n",
    "2. Compute the different parameter values fitted by different parameter estimation methods."
   ]
  },
  {
   "attachments": {},
   "cell_type": "markdown",
   "metadata": {},
   "source": [
    "## Setup"
   ]
  },
  {
   "cell_type": "code",
   "execution_count": null,
   "metadata": {},
   "outputs": [],
   "source": [
    "# Installs"
   ]
  },
  {
   "cell_type": "code",
   "execution_count": null,
   "metadata": {
    "execution": {},
    "executionInfo": {
     "elapsed": 2016,
     "status": "ok",
     "timestamp": 1682615024111,
     "user": {
      "displayName": "Matthias Aengenheyster",
      "userId": "16322208118439170907"
     },
     "user_tz": -120
    },
    "tags": [
     "colab"
    ]
   },
   "outputs": [],
   "source": [
    "# !pip install -q condacolab\n",
    "# import condacolab\n",
    "# condacolab.install()\n",
    "# #install dependencies - taken from <Yosmely Bermúdez> comments for Tutorial 6\n",
    "# # We need this to install eigen which is needed for SDFC to install correctly\n",
    "# !mamba install eigen numpy matplotlib seaborn pandas cartopy scipy texttable intake xarrayutils xmip cf_xarray intake-esm\n",
    "# !pip install -v https://github.com/yrobink/SDFC/archive/master.zip#subdirectory=python\n",
    "# !pip install https://github.com/njleach/mystatsfunctions/archive/master.zip"
   ]
  },
  {
   "attachments": {},
   "cell_type": "markdown",
   "metadata": {},
   "source": [
    "## Imports and function definitions"
   ]
  },
  {
   "cell_type": "code",
   "execution_count": null,
   "metadata": {
    "execution": {},
    "executionInfo": {
     "elapsed": 2113,
     "status": "ok",
     "timestamp": 1682615034418,
     "user": {
      "displayName": "Matthias Aengenheyster",
      "userId": "16322208118439170907"
     },
     "user_tz": -120
    }
   },
   "outputs": [],
   "source": [
    "import numpy as np\n",
    "import matplotlib.pyplot as plt\n",
    "import seaborn as sns\n",
    "import pandas as pd\n",
    "from scipy import stats\n",
    "\n",
    "import extremes_functions as ef\n",
    "from mystatsfunctions import OLSE,LMoments\n",
    "import SDFC as sd"
   ]
  },
  {
   "cell_type": "code",
   "execution_count": null,
   "metadata": {
    "execution": {},
    "executionInfo": {
     "elapsed": 3,
     "status": "aborted",
     "timestamp": 1682615034652,
     "user": {
      "displayName": "Matthias Aengenheyster",
      "userId": "16322208118439170907"
     },
     "user_tz": -120
    }
   },
   "outputs": [],
   "source": [
    "def estimate_return_level(quantile,model):\n",
    "    loc, scale, shape = model.coef_\n",
    "    level = loc - scale / shape * (1 - (-np.log(quantile))**(-shape))\n",
    "    # level = stats.genextreme.ppf(quantile,-shape,loc=loc,scale=scale)\n",
    "    return level"
   ]
  },
  {
   "attachments": {},
   "cell_type": "markdown",
   "metadata": {},
   "source": [
    "We start by opening again the precipitation data from Germany once more, and fit a GEV distribution to it using\n",
    "the MLE method, you can do this by adding \"method = MLE\" to the fit function. Have a look at the parameter\n",
    "values."
   ]
  },
  {
   "cell_type": "code",
   "execution_count": null,
   "metadata": {
    "execution": {},
    "executionInfo": {
     "elapsed": 2,
     "status": "aborted",
     "timestamp": 1682615034985,
     "user": {
      "displayName": "Matthias Aengenheyster",
      "userId": "16322208118439170907"
     },
     "user_tz": -120
    }
   },
   "outputs": [],
   "source": [
    "import os, pooch\n",
    "\n",
    "fname = 'precipitationGermany_1920-2022.csv'\n",
    "if not os.path.exists(fname):\n",
    "    url = \"https://osf.io/xs7h6/download\"\n",
    "    fname = pooch.retrieve(url, known_hash=None)\n",
    "\n",
    "data = pd.read_csv(fname, index_col=0).set_index('years')\n",
    "\n",
    "data.columns=['precipitation']\n",
    "precipitation = data.precipitation"
   ]
  },
  {
   "cell_type": "code",
   "execution_count": null,
   "metadata": {
    "execution": {},
    "executionInfo": {
     "elapsed": 3,
     "status": "aborted",
     "timestamp": 1682615034986,
     "user": {
      "displayName": "Matthias Aengenheyster",
      "userId": "16322208118439170907"
     },
     "user_tz": -120
    }
   },
   "outputs": [],
   "source": [
    "fit, model = ef.fit_return_levels_sdfc(precipitation.values,times=np.arange(1.1,1000),periods_per_year=1,kind='GEV',N_boot=10,full=True,model=True,method='mle')"
   ]
  },
  {
   "cell_type": "code",
   "execution_count": null,
   "metadata": {},
   "outputs": [],
   "source": [
    "model"
   ]
  },
  {
   "attachments": {},
   "cell_type": "markdown",
   "metadata": {
    "execution": {}
   },
   "source": [
    "There are two other parameter estimation methods that we will explore and compare with the MLE: the\n",
    "L-moments method, and a Baseyian method. The L-moments describe the shape of a probability distribution,\n",
    "just like regular moments, and are a linear combination of the order statistics (L stands for linear).\n",
    "The GEV-distribution parameters can be computed through a set of equations based from these L-moments.\n",
    "\n",
    "The Bayesian technique on the other hand, [explain]\n",
    "\n",
    "Estimate the GEV parameters based on these two method by changing the 'method' to either \"Lmoments\" and \n",
    "\"Bayesian\". After that compute the 100-year flood for all three parameter sets (MLE, Lmoments and Bayesian)"
   ]
  },
  {
   "cell_type": "code",
   "execution_count": null,
   "metadata": {
    "execution": {}
   },
   "outputs": [],
   "source": [
    "fit_moments, model_moments = ef.fit_return_levels_sdfc(precipitation.values,times=np.arange(1.1,1000),periods_per_year=1,kind='GEV',N_boot=10,full=True,model=True,method='moments')"
   ]
  },
  {
   "cell_type": "code",
   "execution_count": null,
   "metadata": {
    "execution": {}
   },
   "outputs": [],
   "source": [
    "fit_moments"
   ]
  },
  {
   "cell_type": "code",
   "execution_count": null,
   "metadata": {
    "execution": {}
   },
   "outputs": [],
   "source": [
    "model_moments"
   ]
  },
  {
   "cell_type": "code",
   "execution_count": null,
   "metadata": {
    "execution": {}
   },
   "outputs": [],
   "source": [
    "prior = stats.multivariate_normal(mean= model.coef_, cov = np.cov(model.coefs_bootstrap.T), allow_singular=True)"
   ]
  },
  {
   "cell_type": "code",
   "execution_count": null,
   "metadata": {
    "execution": {}
   },
   "outputs": [],
   "source": [
    "fit_bayes, model_bayes = ef.fit_return_levels_sdfc(precipitation.values,times=np.arange(1.1,1000),periods_per_year=1,kind='GEV',N_boot=10,full=True,model=True,method='bayesian',prior=prior,mcmc_init=model.coef_)"
   ]
  },
  {
   "cell_type": "code",
   "execution_count": null,
   "metadata": {
    "execution": {}
   },
   "outputs": [],
   "source": [
    "fit_bayes"
   ]
  },
  {
   "cell_type": "code",
   "execution_count": null,
   "metadata": {
    "execution": {}
   },
   "outputs": [],
   "source": [
    "model_bayes"
   ]
  },
  {
   "cell_type": "code",
   "execution_count": null,
   "metadata": {
    "execution": {}
   },
   "outputs": [],
   "source": [
    "period = 100\n",
    "quantile = 1-1/period\n",
    "\n",
    "print('MLE: %.2f' % estimate_return_level(quantile,model))\n",
    "print('Moments: %.2f' % estimate_return_level(quantile,model_moments))\n",
    "print('Bayes: %.2f' % estimate_return_level(quantile,model_bayes))"
   ]
  },
  {
   "cell_type": "code",
   "execution_count": null,
   "metadata": {
    "execution": {}
   },
   "outputs": [],
   "source": [
    "period = 50\n",
    "quantile = 1-1/period\n",
    "\n",
    "print('MLE: %.2f' % estimate_return_level(quantile,model))\n",
    "print('Moments: %.2f' % estimate_return_level(quantile,model_moments))\n",
    "print('Bayes: %.2f' % estimate_return_level(quantile,model_bayes))"
   ]
  },
  {
   "cell_type": "code",
   "execution_count": null,
   "metadata": {
    "execution": {}
   },
   "outputs": [],
   "source": [
    "period = 500\n",
    "quantile = 1-1/period\n",
    "\n",
    "print('MLE: %.2f' % estimate_return_level(quantile,model))\n",
    "print('Moments: %.2f' % estimate_return_level(quantile,model_moments))\n",
    "print('Bayes: %.2f' % estimate_return_level(quantile,model_bayes))"
   ]
  },
  {
   "cell_type": "code",
   "execution_count": null,
   "metadata": {
    "execution": {}
   },
   "outputs": [],
   "source": [
    "gev = LMoments.gev()\n",
    "gev.fit(precipitation.values)\n",
    "gev.X, gev.a, gev.k"
   ]
  },
  {
   "attachments": {},
   "cell_type": "markdown",
   "metadata": {},
   "source": [
    "## Exercise: What can you say about the parameters estimated by the different methods? "
   ]
  }
 ],
 "metadata": {
  "colab": {
   "collapsed_sections": [],
   "include_colab_link": true,
   "name": "W2D4_Tutorial5",
   "provenance": [],
   "toc_visible": true
  },
  "kernel": {
   "display_name": "Python 3",
   "language": "python",
   "name": "python3"
  },
  "kernelspec": {
   "display_name": "science39",
   "language": "python",
   "name": "python3"
  },
  "language_info": {
   "codemirror_mode": {
    "name": "ipython",
    "version": 3
   },
   "file_extension": ".py",
   "mimetype": "text/x-python",
   "name": "python",
   "nbconvert_exporter": "python",
   "pygments_lexer": "ipython3",
   "version": "3.9.13"
  }
 },
 "nbformat": 4,
 "nbformat_minor": 0
}
