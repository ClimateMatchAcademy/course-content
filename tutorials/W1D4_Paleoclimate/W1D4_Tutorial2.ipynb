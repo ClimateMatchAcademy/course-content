{
 "cells": [
  {
   "cell_type": "markdown",
   "metadata": {
    "execution": {}
   },
   "source": [
    "# **Tutorial 2: Reconstructing Past Changes in Ocean Climate**\n",
    "**Week 1, Day 4, Paleoclimate**\n",
    "\n",
    "**Content creators:** Sloane Garelick\n",
    "\n",
    "**Content reviewers:** Yosmely Bermúdez, Dionessa Biton, Katrina Dobson, Maria Gonzalez, Will Gregory, Nahid Hasan, Sherry Mi, Beatriz Cosenza Muralles, Brodie Pearson, Jenna Pearson, Chi Zhang, Ohad Zivan \n",
    "\n",
    "**Content editors:** Yosmely Bermúdez, Zahra Khodakaramimaghsoud, Jenna Pearson, Agustina Pesce, Chi Zhang, Ohad Zivan\n",
    "\n",
    "**Production editors:** Wesley Banfield, Jenna Pearson, Chi Zhang, Ohad Zivan\n",
    "\n",
    "**Our 2023 Sponsors:** NASA TOPS"
   ]
  },
  {
   "cell_type": "markdown",
   "metadata": {
    "execution": {}
   },
   "source": [
    "# **Tutorial Objectives**\n",
    "\n",
    "In the previous days, you learned about the El Niño–Southern Oscillation (ENSO), and have explored how satellite data can be employed to track this phenomenon during the instrumental period. In this tutorial, you will explore how oxygen isotopes of corals can record changes in temperature associated with the phase of ENSO even further back in time.\n",
    "\n",
    "By the end of this tutorial you will be able to:\n",
    "\n",
    "*   Understand the types of marine proxies that are used to reconstruct past climate\n",
    "*   Create a stacked plot and warming stripe to visualize ENSO temperature reconstructions\n"
   ]
  },
  {
   "cell_type": "markdown",
   "metadata": {
    "execution": {}
   },
   "source": [
    "# **Setup**\n"
   ]
  },
  {
   "cell_type": "code",
   "execution_count": 1,
   "metadata": {
    "executionInfo": {
     "elapsed": 23151,
     "status": "ok",
     "timestamp": 1681584513283,
     "user": {
      "displayName": "Sloane Garelick",
      "userId": "04706287370408131987"
     },
     "user_tz": 240
    },
    "tags": [
     "colab"
    ]
   },
   "outputs": [],
   "source": [
    "# !pip install Pandas\n",
    "# !pip install pooch\n",
    "# !pip install cartopy\n",
    "# !pip install pyleoclim"
   ]
  },
  {
   "cell_type": "code",
   "execution_count": 2,
   "metadata": {},
   "outputs": [],
   "source": [
    "# imports\n",
    "import pandas as pd\n",
    "import numpy as np\n",
    "import pooch\n",
    "import cartopy\n",
    "import pyleoclim as pyleo"
   ]
  },
  {
   "cell_type": "code",
   "execution_count": null,
   "metadata": {},
   "outputs": [],
   "source": [
    "# @title Video 1: Speaker Introduction\n",
    "#Tech team will add code to format and display the video"
   ]
  },
  {
   "cell_type": "markdown",
   "metadata": {
    "execution": {}
   },
   "source": [
    "# Section 1: Assessing El Niño Variability Using Pyleoclim Series\n",
    "\n",
    "As explained in previous days, ENSO is a recurring climate pattern involving changes in SST in the central and eastern tropical Pacific Ocean.  The paleoclimate proxy records we'll be using to learn about ENSO are oxygen isotope records from corals. Long-lived corals are well-suited for studying paleo-ENSO variability because they store decades to centuries of sub-annually resolved proxy information in the tropical Pacific. \n",
    "\n",
    "As we learned in the video, the oxygen isotopes of corals record changes in sea-surface temperature (SST), with with positive values of Delta-O-18 corresponding to colder SSTs, and vice-versa.\n",
    "\n",
    "The two coral records we'll look at are from [Palmyra Atoll](https://en.wikipedia.org/wiki/Palmyra_Atoll) and [Line Islands](https://en.wikipedia.org/wiki/Line_Islands), both of which are in the tropical central Pacific Ocean.\n",
    "\n",
    "To analyze and visualize paleoclimate proxy time series, we will be using [Pyleoclim](https://pyleoclim-util.readthedocs.io/en/latest/). Pycleoclim is specifically designed for the analysis of paleoclimate data. The package is designed around object-oriented `Series`, which can be directly manipulated for plotting and time series-appropriate analysis and operation. \n",
    "\n",
    "The `Series` object describes the fundamentals of a time series. To create a Pyleoclim `Series`, we first need to load the data set, and then specify values for its various properties:\n",
    "\n",
    "*   `time`: Time values for the time series\n",
    "*   `value`: Paleo values for the time series\n",
    "*   `time_name` (optional): Name of the time vector, (e.g., 'Time', 'Age'). This is used to label the x-axis on plots\n",
    "*   `time_unit` (optional): The units of the time axis (e.g., 'years')\n",
    "*   `value_name` (optional): The name of the paleo variable (e.g., 'Temperature')\n",
    "*   `value_unit` (optional): The units of the paleo variable (e.g., 'deg C')\n",
    "*   `label` (optional): Name of the time series (e.g., 'Nino 3.4')\n",
    "*   `clean_ts` (optional): If True (default), remove NaNs and set an increasing time axis\n"
   ]
  },
  {
   "cell_type": "markdown",
   "metadata": {
    "execution": {}
   },
   "source": [
    "## Section 1.1: Load coral oxygen isotope proxy reconstructions\n",
    "\n",
    "Proxy-based reconstructions of temperature can also be used to understand ENSO variability. As we learned in the introductory video, oxygen isotopes of corals are a commonly used proxy for reconstructing changes in tropical Pacific SST and ENSO. The SST proxy reconstructions that we will be using are from [Cobb et al.(2003)](https://www.nature.com/articles/nature01779) (downloaded from the [NOAA Paleoclimate Database](https://www.ncei.noaa.gov/pub/data/paleo/coral/east_pacific/palmyra_2003.txt)) and [Cobb et al.(2013)](https://www.science.org/doi/10.1126/science.1228246) (downloaded from the [NOAA Paleoclimate Database](https://www.ncei.noaa.gov/pub/data/paleo/coral/east_pacific/cobb2013-fan-modsplice-noaa.txt)).\n"
   ]
  },
  {
   "cell_type": "markdown",
   "metadata": {
    "execution": {}
   },
   "source": [
    "A common data format for datasets downloaded from the NOAA Paleoclimate Database is a templated text file, which contains helpful data and metadata. \n",
    "\n",
    "Take a look at our two datasets [here](https://www.ncei.noaa.gov/pub/data/paleo/coral/east_pacific/palmyra_2003.txt) and [here](https://www.ncei.noaa.gov/pub/data/paleo/coral/east_pacific/cobb2013-fan-modsplice-noaa.txt).\n",
    "\n",
    "The functionality in python allows us to ignore all of the information at the beginning of the text files, and we can load the data directly into a `pandas.DataFrame` using `.read_csv()`.\n",
    "\n",
    "### Section 1.1.1: Load Palmyra coral data"
   ]
  },
  {
   "cell_type": "code",
   "execution_count": 3,
   "metadata": {
    "executionInfo": {
     "elapsed": 1031,
     "status": "ok",
     "timestamp": 1681584691666,
     "user": {
      "displayName": "Sloane Garelick",
      "userId": "04706287370408131987"
     },
     "user_tz": 240
    },
    "scrolled": true
   },
   "outputs": [
    {
     "data": {
      "text/html": [
       "<div>\n",
       "<style scoped>\n",
       "    .dataframe tbody tr th:only-of-type {\n",
       "        vertical-align: middle;\n",
       "    }\n",
       "\n",
       "    .dataframe tbody tr th {\n",
       "        vertical-align: top;\n",
       "    }\n",
       "\n",
       "    .dataframe thead th {\n",
       "        text-align: right;\n",
       "    }\n",
       "</style>\n",
       "<table border=\"1\" class=\"dataframe\">\n",
       "  <thead>\n",
       "    <tr style=\"text-align: right;\">\n",
       "      <th></th>\n",
       "      <th>CalendarDate</th>\n",
       "      <th>d180</th>\n",
       "    </tr>\n",
       "  </thead>\n",
       "  <tbody>\n",
       "    <tr>\n",
       "      <th>0</th>\n",
       "      <td>1886.13</td>\n",
       "      <td>-4.79</td>\n",
       "    </tr>\n",
       "    <tr>\n",
       "      <th>1</th>\n",
       "      <td>1886.21</td>\n",
       "      <td>-4.89</td>\n",
       "    </tr>\n",
       "    <tr>\n",
       "      <th>2</th>\n",
       "      <td>1886.29</td>\n",
       "      <td>-4.81</td>\n",
       "    </tr>\n",
       "    <tr>\n",
       "      <th>3</th>\n",
       "      <td>1886.38</td>\n",
       "      <td>-4.84</td>\n",
       "    </tr>\n",
       "    <tr>\n",
       "      <th>4</th>\n",
       "      <td>1886.46</td>\n",
       "      <td>-4.85</td>\n",
       "    </tr>\n",
       "  </tbody>\n",
       "</table>\n",
       "</div>"
      ],
      "text/plain": [
       "   CalendarDate  d180\n",
       "0       1886.13 -4.79\n",
       "1       1886.21 -4.89\n",
       "2       1886.29 -4.81\n",
       "3       1886.38 -4.84\n",
       "4       1886.46 -4.85"
      ]
     },
     "execution_count": 3,
     "metadata": {},
     "output_type": "execute_result"
    }
   ],
   "source": [
    "# download the data using the url\n",
    "data_path = pooch.retrieve(\n",
    "    url='https://www.ncei.noaa.gov/pub/data/paleo/coral/east_pacific/palmyra_2003.txt',\n",
    "    known_hash=None\n",
    ")\n",
    "\n",
    "# from the data set, we only want the data related to Modern Living Coral.\n",
    "# this data is between row 6190 and 7539 of the dataset\n",
    "rows = [int(row) for row in np.linspace(6190, 7539, 7539 - 6190 + 1)]\n",
    "\n",
    "# use pandas to read in the csv file\n",
    "palmyra = pd.read_csv(\n",
    "    data_path,\n",
    "    skiprows=lambda x: x not in rows, # number of rows to skip based on definition of rows above\n",
    "    sep='\\s+',                        # how the data values are seperated (delimited) : '\\s+' = space\n",
    "    encoding = 'ISO-8859-1',\n",
    "    names=['CalendarDate', 'd180'],\n",
    "    header=None,\n",
    ")\n",
    "\n",
    "palmyra.head()"
   ]
  },
  {
   "cell_type": "markdown",
   "metadata": {
    "execution": {}
   },
   "source": [
    "Now that we have the data in a dataframe, we can pull the relevant columns of this datframe into a `Series` object in Pyleoclim, which will allow us to organize the relevant metadata so that we can get a well-labeled, publication-quality plot:"
   ]
  },
  {
   "cell_type": "code",
   "execution_count": 5,
   "metadata": {},
   "outputs": [
    {
     "name": "stdout",
     "output_type": "stream",
     "text": [
      "Time axis values sorted in ascending order\n"
     ]
    }
   ],
   "source": [
    "ts_palmyra = pyleo.Series(\n",
    "    time=palmyra['CalendarDate'],\n",
    "    value=palmyra['d180'],\n",
    "    time_name='Calendar date',\n",
    "    time_unit='Years',\n",
    "    value_name = r'$d18O$',\n",
    "    value_unit='per mille',\n",
    "    label='Palmyra Coral'\n",
    ")"
   ]
  },
  {
   "cell_type": "markdown",
   "metadata": {
    "execution": {}
   },
   "source": [
    "Since we want to compare two SST datasets based on different measurements (observations and proxies), it's helpful to standardize the data by removing it's estimated mean and dividing by its estimated standard deviation. Thankfully Pyleoclim has a [function](https://pyleoclim-util.readthedocs.io/en/v0.7.4/core/ui.html#pyleoclim.core.ui.Series.standardize) to that for us."
   ]
  },
  {
   "cell_type": "code",
   "execution_count": 8,
   "metadata": {},
   "outputs": [
    {
     "name": "stdout",
     "output_type": "stream",
     "text": [
      "{'label': 'Palmyra Coral'}\n"
     ]
    },
    {
     "data": {
      "text/plain": [
       "None\n",
       "Calendar date [Years]\n",
       "1886.13    0.554248\n",
       "1886.21    0.109927\n",
       "1886.29    0.465384\n",
       "1886.38    0.332088\n",
       "1886.46    0.287655\n",
       "             ...   \n",
       "1998.04   -2.289410\n",
       "1998.13   -2.556003\n",
       "1998.21   -2.467139\n",
       "1998.29   -2.200546\n",
       "1998.38   -1.534064\n",
       "Name: $d18O$ [per mille], Length: 1348, dtype: float64"
      ]
     },
     "execution_count": 8,
     "metadata": {},
     "output_type": "execute_result"
    }
   ],
   "source": [
    "palmyra_stnd = ts_palmyra.standardize()\n",
    "palmyra_stnd"
   ]
  },
  {
   "cell_type": "markdown",
   "metadata": {},
   "source": [
    "### Section 1.1.2: Load Line Island coral data\n",
    "\n",
    "We will repeat these steps for the other dataset."
   ]
  },
  {
   "cell_type": "code",
   "execution_count": 9,
   "metadata": {},
   "outputs": [
    {
     "data": {
      "text/html": [
       "<div>\n",
       "<style scoped>\n",
       "    .dataframe tbody tr th:only-of-type {\n",
       "        vertical-align: middle;\n",
       "    }\n",
       "\n",
       "    .dataframe tbody tr th {\n",
       "        vertical-align: top;\n",
       "    }\n",
       "\n",
       "    .dataframe thead th {\n",
       "        text-align: right;\n",
       "    }\n",
       "</style>\n",
       "<table border=\"1\" class=\"dataframe\">\n",
       "  <thead>\n",
       "    <tr style=\"text-align: right;\">\n",
       "      <th></th>\n",
       "      <th>age</th>\n",
       "      <th>d18O</th>\n",
       "    </tr>\n",
       "  </thead>\n",
       "  <tbody>\n",
       "    <tr>\n",
       "      <th>0</th>\n",
       "      <td>1949.54</td>\n",
       "      <td>-4.62</td>\n",
       "    </tr>\n",
       "    <tr>\n",
       "      <th>1</th>\n",
       "      <td>1949.63</td>\n",
       "      <td>-4.76</td>\n",
       "    </tr>\n",
       "    <tr>\n",
       "      <th>2</th>\n",
       "      <td>1949.71</td>\n",
       "      <td>-4.73</td>\n",
       "    </tr>\n",
       "    <tr>\n",
       "      <th>3</th>\n",
       "      <td>1949.79</td>\n",
       "      <td>-4.66</td>\n",
       "    </tr>\n",
       "    <tr>\n",
       "      <th>4</th>\n",
       "      <td>1949.88</td>\n",
       "      <td>-4.60</td>\n",
       "    </tr>\n",
       "  </tbody>\n",
       "</table>\n",
       "</div>"
      ],
      "text/plain": [
       "       age  d18O\n",
       "0  1949.54 -4.62\n",
       "1  1949.63 -4.76\n",
       "2  1949.71 -4.73\n",
       "3  1949.79 -4.66\n",
       "4  1949.88 -4.60"
      ]
     },
     "execution_count": 9,
     "metadata": {},
     "output_type": "execute_result"
    }
   ],
   "source": [
    "# Download the data using the url\n",
    "data_path2 = pooch.retrieve(\n",
    "    url='https://www.ncei.noaa.gov/pub/data/paleo/coral/east_pacific/cobb2013-fan-modsplice-noaa.txt',\n",
    "    known_hash=None\n",
    ")\n",
    "# From the data set, we only want the data related to Modern Living Coral.\n",
    "# So this data is between row 6190 and 7539 of the dataset\n",
    "rows = [int(row) for row in np.linspace(127, 800, 800 - 127 + 1)]\n",
    "line = pd.read_csv(\n",
    "    data_path2, \n",
    "    skiprows=lambda x: x not in rows, \n",
    "    sep='\\s+',\n",
    "    encoding = 'ISO-8859-1',\n",
    "    names=['age', 'd18O'],\n",
    "    header=None,\n",
    ")\n",
    "\n",
    "line.head()"
   ]
  },
  {
   "cell_type": "code",
   "execution_count": 10,
   "metadata": {},
   "outputs": [
    {
     "name": "stdout",
     "output_type": "stream",
     "text": [
      "Time axis values sorted in ascending order\n"
     ]
    }
   ],
   "source": [
    "ts_line = pyleo.Series(\n",
    "    time=line['age'],\n",
    "    value=line['d18O'],\n",
    "    time_name='Calendar date',\n",
    "    time_unit='Years',\n",
    "    value_name = r'$d18O$',\n",
    "    value_unit='per mille',\n",
    "    label='Line Island Coral'\n",
    ")"
   ]
  },
  {
   "cell_type": "code",
   "execution_count": 12,
   "metadata": {},
   "outputs": [
    {
     "name": "stdout",
     "output_type": "stream",
     "text": [
      "{'label': 'Line Island Coral'}\n"
     ]
    },
    {
     "data": {
      "text/plain": [
       "None\n",
       "Calendar date [Years]\n",
       "1949.54    1.754839\n",
       "1949.63    1.161645\n",
       "1949.71    1.288758\n",
       "1949.79    1.585355\n",
       "1949.88    1.839581\n",
       "             ...   \n",
       "2005.21   -0.660308\n",
       "2005.29   -0.872162\n",
       "2005.38    0.017628\n",
       "2005.46    0.059999\n",
       "2005.54   -0.448453\n",
       "Name: $d18O$ [per mille], Length: 673, dtype: float64"
      ]
     },
     "execution_count": 12,
     "metadata": {},
     "output_type": "execute_result"
    }
   ],
   "source": [
    "line_stnd = ts_line.standardize()\n",
    "line_stnd"
   ]
  },
  {
   "cell_type": "markdown",
   "metadata": {
    "execution": {}
   },
   "source": [
    "# Section 2: Plot the Data Using Multiseries\n",
    "\n",
    "We will utilize the built in features of a [multiseries](https://pyleoclim-util.readthedocs.io/en/v0.7.4/core/ui.html#pyleoclim.core.ui.MultipleSeries) object to plot our coral proxy data side by side. To create a `pyleo.MultipleSeries`, we first create a list with our `pyleo.Series` objects and then pass this into a `pyleo.MultipleSeries`."
   ]
  },
  {
   "cell_type": "code",
   "execution_count": 14,
   "metadata": {},
   "outputs": [],
   "source": [
    "# combine into a list\n",
    "nino_comparison = [palmyra_stnd, line_stnd]"
   ]
  },
  {
   "cell_type": "code",
   "execution_count": 21,
   "metadata": {},
   "outputs": [
    {
     "name": "stderr",
     "output_type": "stream",
     "text": [
      "/var/folders/k2/707t_q4135v27q7hpn6490nh0000gp/T/ipykernel_27864/1158577361.py:2: DeprecationWarning: `name` is a deprecated property, which will be removed in future releases, Please use `label` instead\n",
      "  nino = pyleo.MultipleSeries(nino_comparison, name='El Nino Comparison')\n"
     ]
    }
   ],
   "source": [
    "# create multiseries\n",
    "nino = pyleo.MultipleSeries(nino_comparison, name='El Nino Comparison')"
   ]
  },
  {
   "cell_type": "code",
   "execution_count": 24,
   "metadata": {
    "executionInfo": {
     "elapsed": 942,
     "status": "ok",
     "timestamp": 1681584722114,
     "user": {
      "displayName": "Sloane Garelick",
      "userId": "04706287370408131987"
     },
     "user_tz": 240
    }
   },
   "outputs": [
    {
     "data": {
      "image/png": "[encoded data removed]",
      "text/plain": [
       "<Figure size 640x480 with 3 Axes>"
      ]
     },
     "metadata": {},
     "output_type": "display_data"
    }
   ],
   "source": [
    "# plot the time series of both datasets\n",
    "fig, ax = nino.stackplot(time_unit=\"year\",xlim=[1960,1990], colors = ['b','g'])"
   ]
  },
  {
   "cell_type": "markdown",
   "metadata": {},
   "source": [
    "![](https://climatedataguide.ucar.edu/sites/default/files/styles/extra_large/public/2022-03/indices_oni_2_2_lg.png?itok=Zew3VK_4)"
   ]
  },
  {
   "cell_type": "markdown",
   "metadata": {
    "execution": {}
   },
   "source": [
    "Recall that when SST is colder, Delta-O-18 is positive, and vice versa. Thus \n",
    "\n",
    "We can also make a warming stripe for this `Series`, where darker red stripes indicate a warmer eastern Pacific and El Niño phase, and darker blue stripes indicate a cooler eastern Pacific and La Niña phase."
   ]
  },
  {
   "cell_type": "code",
   "execution_count": 13,
   "metadata": {
    "executionInfo": {
     "elapsed": 409,
     "status": "ok",
     "timestamp": 1681584728212,
     "user": {
      "displayName": "Sloane Garelick",
      "userId": "04706287370408131987"
     },
     "user_tz": 240
    }
   },
   "outputs": [
    {
     "data": {
      "image/png": "[encoded data removed]",
      "text/plain": [
       "<Figure size 640x480 with 2 Axes>"
      ]
     },
     "metadata": {},
     "output_type": "display_data"
    }
   ],
   "source": [
    "fig, ax = nino.stripes(ref_period=(1960,1990), time_unit=\"year\")"
   ]
  },
  {
   "cell_type": "markdown",
   "metadata": {
    "execution": {}
   },
   "source": [
    "## Questions 2:\n",
    "Based on the time series and warming stripe, what do you notice about the changes in SST?\n",
    "\n",
    "1. When were the strongest El Niño and La Niña during this time period?\n",
    "2. One what timescale does the ENSO phase vary?\n",
    "3. Based on the warming stripes between the two records, do you think these corals are from a similar or different region of the Pacific Ocean?\n"
   ]
  },
  {
   "cell_type": "markdown",
   "metadata": {},
   "source": [
    "# to_remove explanation  \n",
    "\n",
    "\"\"\"\n",
    "When d18O values are low, it corresponds to El Niño phase, while high d18O values correspond to La Niña phase. Put your observations here. We observed similar warming strip patterns in Palmyra Coral and Line Island Coral, indicating they are from the same region.\n",
    "\"\")"
   ]
  },
  {
   "cell_type": "markdown",
   "metadata": {},
   "source": [
    "# **Summary**\n",
    "In this tutorial, we expanded our exploration of the ENSO by shifting our focus to the past. We discovered how oxygen isotopes within corals serve as an invaluable archive, recording changes in temperature associated with ENSO phases.\n",
    "\n",
    "During our explorations, \n",
    "- We ventured into the study of proxy-based coral SST records, gaining insights into the rich historical climate data encapsulated within these marine structures.\n",
    "- We probed into the changes in the ENSO over the past 120 years, offering us a glimpse into the dynamic nature of this influential climate phenomenon."
   ]
  },
  {
   "cell_type": "markdown",
   "metadata": {},
   "source": [
    "# **Resources**\n",
    "\n",
    "Code for this tutorial is based on existing notebooks from LinkedEarth that uses the `Pyleoclim` package to [assess variability in the El Nino](https://github.com/LinkedEarth/PyleoTutorials/blob/main/notebooks/L0_a_quickstart.ipynb). \n",
    "\n",
    "Data from the following sources are used in this tutorial:\n",
    "\n",
    "\n",
    "* Cobb,K., et al., Highly Variable El Niño–Southern Oscillation Throughout the Holocene.Science 339, 67-70(2013). https://doi.org/10.1126/science.1228246 accessible [here]( https://www.ncei.noaa.gov/pub/data/paleo/coral/east_pacific/palmyra_2003.txt)\n",
    "\n",
    "* Cobb, K., Charles, C., Cheng, H. et al. El Niño/Southern Oscillation and tropical Pacific climate during the last millennium. Nature 424, 271–276 (2003). https://doi.org/10.1038/nature01779 accessible [here]( https://www.ncei.noaa.gov/pub/data/paleo/coral/east_pacific/cobb2013-fan-modsplice-noaa.txt)"
   ]
  },
  {
   "cell_type": "code",
   "execution_count": null,
   "metadata": {},
   "outputs": [],
   "source": []
  }
 ],
 "metadata": {
  "colab": {
   "collapsed_sections": [
    "WFp2yBJuVoRr",
    "DZbqRlQKXhnc"
   ],
   "include_colab_link": true,
   "name": "W1D4_Tutorial2",
   "provenance": [
    {
     "file_id": "1lHuVrVtAW4fQzc0dFdlZuwY0i71KWw_t",
     "timestamp": 1677637469824
    }
   ],
   "toc_visible": true
  },
  "kernel": {
   "display_name": "Python 3",
   "language": "python",
   "name": "python3"
  },
  "kernelspec": {
   "display_name": "Python 3 (ipykernel)",
   "language": "python",
   "name": "python3"
  },
  "language_info": {
   "codemirror_mode": {
    "name": "ipython",
    "version": 3
   },
   "file_extension": ".py",
   "mimetype": "text/x-python",
   "name": "python",
   "nbconvert_exporter": "python",
   "pygments_lexer": "ipython3",
   "version": "3.10.8"
  }
 },
 "nbformat": 4,
 "nbformat_minor": 4
}
