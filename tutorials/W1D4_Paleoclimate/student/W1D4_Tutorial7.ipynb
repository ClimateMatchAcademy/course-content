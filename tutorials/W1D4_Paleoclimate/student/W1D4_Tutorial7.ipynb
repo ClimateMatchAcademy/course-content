{
 "cells": [
  {
   "cell_type": "markdown",
   "metadata": {
    "execution": {}
   },
   "source": [
    "# **Tutorial 7: Assessing Climate Forcings**\n",
    "**Week 1, Day 4, Paleoclimate**\n",
    "\n",
    "**Content creators:** Sloane Garelick\n",
    "\n",
    "**Content reviewers:** Brodie Pearson\n",
    "\n",
    "**Content editors:** Mauro Tripaldi, Agustina Pesce, Zahra Khodakaramimaghsoud\n",
    "\n",
    "**Production editors:** TBD\n",
    "\n",
    "**Our 2023 Sponsors:** TBD"
   ]
  },
  {
   "cell_type": "markdown",
   "metadata": {
    "execution": {}
   },
   "source": [
    "###**Code and Data Sources**\n",
    "\n",
    "Code for this tutorial is based on an existing notebook from LinkedEarth that explore [forcing and responses in paleoclimate data](https://github.com/LinkedEarth/paleoHackathon/blob/main/notebooks/PaleoHack-nb04_Forcing%26Response.ipynb).\n",
    "\n",
    "Data from the following sources are used in this tutorial:\n",
    "\n",
    "*   Cheng, H., Edwards, R., Sinha, A. et al. The Asian monsoon over the past 640,000 years and ice age terminations. Nature 534, 640–646 (2016). https://doi.org/10.1038/nature18591\n",
    "\n",
    "\n",
    "\n",
    "\n",
    "\n",
    "\n",
    "\n",
    "\n",
    "\n",
    "\n",
    "\n",
    "\n",
    "\n",
    "\n",
    "\n"
   ]
  },
  {
   "cell_type": "markdown",
   "metadata": {
    "execution": {}
   },
   "source": [
    "#**Tutorial 7 Objectives**\n",
    "\n",
    "In this tutorial, you will use some data analysis tool and climate concepts that we've learned so far today and on previous days to assess the forcings of climate variations observed in paleoclimate records. \n",
    "\n",
    "\n",
    "By the end of this tutorial you will be able to:\n",
    "\n",
    "*   Plot and interpret temperature reconstructions from speleothem oxygen isotopes\n",
    "*   Generate and plot time series of solar insolation\n",
    "*   Assess the orbital forcings on monsoon intensity over the past 400,000 years using spectral analysis\n",
    "\n",
    "\n"
   ]
  },
  {
   "cell_type": "code",
   "execution_count": null,
   "metadata": {
    "execution": {},
    "executionInfo": {
     "elapsed": 33860,
     "status": "ok",
     "timestamp": 1681252203589,
     "user": {
      "displayName": "Brodie Pearson",
      "userId": "05269028596972519847"
     },
     "user_tz": 420
    },
    "tags": [
     "colab"
    ]
   },
   "outputs": [],
   "source": [
    "# # Install libraries\n",
    "# !pip install pandas\n",
    "# !pip install numpy\n",
    "# !pip install pooch\n",
    "# !pip install matplotlib\n",
    "# !pip install cartopy\n",
    "# !pip install pyleoclim\n",
    "# !pip install climlab"
   ]
  },
  {
   "cell_type": "code",
   "execution_count": null,
   "metadata": {
    "execution": {},
    "executionInfo": {
     "elapsed": 7892,
     "status": "ok",
     "timestamp": 1681252345527,
     "user": {
      "displayName": "Brodie Pearson",
      "userId": "05269028596972519847"
     },
     "user_tz": 420
    }
   },
   "outputs": [],
   "source": [
    "# Import libraries\n",
    "import pooch\n",
    "import pandas as pd\n",
    "import numpy as np\n",
    "import matplotlib.pyplot as plt\n",
    "\n",
    "import cartopy.crs\n",
    "import pyleoclim as pyleo\n",
    "\n",
    "from climlab import constants as const\n",
    "from climlab.solar.orbital import OrbitalTable\n",
    "from climlab.solar.insolation import daily_insolation"
   ]
  },
  {
   "cell_type": "markdown",
   "metadata": {
    "execution": {}
   },
   "source": [
    "## Understanding climate forcings\n",
    "\n",
    "A common task in paleoclimatology is to relate a proxy record (or several of them) to the particular forcing(s) that is thought to dominate that particular record (e.g., based on the proxy, location etc.). For example, δ18O records from speleothems in Chinese caves are broadly interpreted to reflect continental-scale monsoon circulations. In this notebook we'll plot and analyze a composite of three Chinese speleothem records (Sanbao, Hulu, and Dongge caves) from [Cheng et al. (2016)](https://hwww.nature.com/articles/nature18591) and the relationship between this climate signal to solar insolation."
   ]
  },
  {
   "cell_type": "markdown",
   "metadata": {
    "execution": {}
   },
   "source": [
    "First, we can download and plot the speleothem oxygen isotope data:"
   ]
  },
  {
   "cell_type": "code",
   "execution_count": null,
   "metadata": {
    "execution": {},
    "executionInfo": {
     "elapsed": 927,
     "status": "ok",
     "timestamp": 1681252746094,
     "user": {
      "displayName": "Brodie Pearson",
      "userId": "05269028596972519847"
     },
     "user_tz": 420
    }
   },
   "outputs": [],
   "source": [
    "# Download the data from the url\n",
    "data_path = pooch.retrieve(\n",
    "    'https://raw.githubusercontent.com/LinkedEarth/paleoHackathon/main/data/Orbital_records/Sanbao_composite.csv',\n",
    "    known_hash=None\n",
    ")\n",
    "data = pd.read_csv(data_path)\n",
    "\n",
    "# Create a pyleo.Series\n",
    "d18O_data = pyleo.Series(\n",
    "    time=data['age']/1000,\n",
    "    time_name='Age',\n",
    "    time_unit='kyr BP',\n",
    "    value=-data['d18O'],\n",
    "    value_name=r'$\\delta^{18}$O',\n",
    "    value_unit=u'\\u2030'\n",
    ")\n",
    "d18O_data.plot()"
   ]
  },
  {
   "cell_type": "markdown",
   "metadata": {
    "execution": {}
   },
   "source": [
    "You may notice that in the figure we just made, the d18O values on the y-axis is plotted with more positive values up, whereas in previous tutorials, we've plotted isotopic data with more negative values up (since more negative/\"depleted\" suggests warmer temperatures or increased rainfall). However, the pre-processed d18O data that we're using in this tutorial was multipled by -1, so now a more positive/\"enriched\" value suggests warmer temepratures or increased rainfall. In other words, in this figure, upward on the y-axis is increased monsoon intensity and downward on the y-axis is decreased monsoon intensity."
   ]
  },
  {
   "cell_type": "markdown",
   "metadata": {
    "execution": {}
   },
   "source": [
    "Let's apply what we learned in the previous tutorial to perform spectral analysis on the speleothem oxygen isotope data. Recall from the previous tutorial that spectral analysis can help us identify dominant cyclicities in the data, which can be useful for assessing potential climate forcings.\n",
    "\n",
    "We'll use the Weighted Wavelet Z-Transform (WWZ) method:"
   ]
  },
  {
   "cell_type": "code",
   "execution_count": null,
   "metadata": {
    "execution": {}
   },
   "outputs": [],
   "source": [
    "#Standardize the data\n",
    "d18O_stnd = d18O_data.interp(step=0.5).standardize() # save it for future use"
   ]
  },
  {
   "cell_type": "code",
   "execution_count": null,
   "metadata": {
    "execution": {}
   },
   "outputs": [],
   "source": [
    "#Calculate the WWZ spectral analysis\n",
    "d18O_wwz = d18O_stnd.spectral(method='wwz')"
   ]
  },
  {
   "cell_type": "code",
   "execution_count": null,
   "metadata": {
    "execution": {},
    "executionInfo": {
     "elapsed": 1575,
     "status": "ok",
     "timestamp": 1681252948290,
     "user": {
      "displayName": "Brodie Pearson",
      "userId": "05269028596972519847"
     },
     "user_tz": 420
    }
   },
   "outputs": [],
   "source": [
    "#Plot WWZ results\n",
    "d18O_wwz.plot()\n",
    "plt.xlim([100, 5])\n",
    "plt.ylim([0.001, 1000])"
   ]
  },
  {
   "cell_type": "markdown",
   "metadata": {
    "execution": {}
   },
   "source": [
    "The dominant spectral power is at ~21,000 years. What climate forcing varies on this timescale?\n",
    "\n",
    "This suggests a link between monsoon intensity and orbital precession! To further explore and confirm this relationship, let's take a look at insolation data and compare this to the speleothem d18O records."
   ]
  },
  {
   "cell_type": "markdown",
   "metadata": {
    "execution": {}
   },
   "source": [
    "\n",
    "##Constructing insolation curves\n",
    "\n",
    "Speleothem records from Asia are often compared to summertime insolation. Recall that insolation is controlled by variations in Earth's orbital cycles (eccentricity, obliquity, precession), so by comparing the d18O record to insolation, we can assess the influence of orbital variations on d18O and monsoon intensity. \n",
    "\n",
    "To compute solar insolation, we can use the package [`climlab`](https://climlab.readthedocs.io/en/latest/index.html) by Brian Rose. Let's create a time series over the past 400,000 years of changes in summer insolation at 31.67ºN, which is the latitude of Sanbao, the cave from which the speleothem records were produced.\n"
   ]
  },
  {
   "cell_type": "code",
   "execution_count": null,
   "metadata": {
    "execution": {}
   },
   "outputs": [],
   "source": [
    "# Specify time interval and units\n",
    "kyears = np.linspace(-400, 0, 1001 )\n",
    "# Subset of orbital parameters for specified time\n",
    "orb = OrbitalTable.interp(kyear=kyears)\n",
    "days = np.linspace(0, const.days_per_year, 365)\n",
    "# Generate insolation at Sanbao latitude (31.67)\n",
    "Qsb = daily_insolation(31.67, days, orb)\n",
    "# Julian days 152-243 are JJA\n",
    "Qsb_jja = np.mean(Qsb[:,151:243], axis=1)"
   ]
  },
  {
   "cell_type": "markdown",
   "metadata": {
    "execution": {}
   },
   "source": [
    "Now we can store this data as a `Series` in Pyleoclim and plot the data versus time:"
   ]
  },
  {
   "cell_type": "code",
   "execution_count": null,
   "metadata": {
    "execution": {},
    "executionInfo": {
     "elapsed": 540,
     "status": "ok",
     "timestamp": 1681253008796,
     "user": {
      "displayName": "Brodie Pearson",
      "userId": "05269028596972519847"
     },
     "user_tz": 420
    }
   },
   "outputs": [],
   "source": [
    "ts_qsb = pyleo.Series(\n",
    "    time=-kyears,\n",
    "    time_name='Age',\n",
    "    time_unit='ky BP',\n",
    "    value=Qsb_jja,\n",
    "    value_name='JJA Insolation',\n",
    "    value_unit=r'$W.m^{-2}$'\n",
    ")\n",
    "\n",
    "ts_qsb.plot()"
   ]
  },
  {
   "cell_type": "markdown",
   "metadata": {
    "execution": {}
   },
   "source": [
    "Next, let's plot and compare the speleothem d18O data and the solar insolation data:"
   ]
  },
  {
   "cell_type": "code",
   "execution_count": null,
   "metadata": {
    "execution": {},
    "executionInfo": {
     "elapsed": 819,
     "status": "ok",
     "timestamp": 1681253013959,
     "user": {
      "displayName": "Brodie Pearson",
      "userId": "05269028596972519847"
     },
     "user_tz": 420
    }
   },
   "outputs": [],
   "source": [
    "#Standardize the insolation data\n",
    "ts_qsb_stnd = ts_qsb.standardize()\n",
    "\n",
    "#Create a MultipleSeries of the speleothem d18O record and insolation data\n",
    "compare = [d18O_stnd, ts_qsb_stnd]\n",
    "ms_compare = pyleo.MultipleSeries(compare, time_unit='kyr BP', name=None)\n",
    "\n",
    "#Create a stackplot to compare the data\n",
    "ms_compare.stackplot()"
   ]
  },
  {
   "cell_type": "markdown",
   "metadata": {
    "execution": {}
   },
   "source": [
    "By visually comparing the time series of the two records, we can see similarites at orbital scales. To confirm this, we can use spectral analysis to determine the dominant spectral power of the insolation data:"
   ]
  },
  {
   "cell_type": "code",
   "execution_count": null,
   "metadata": {
    "execution": {}
   },
   "outputs": [],
   "source": [
    "# Standardize the data\n",
    "ts_qsb_stnd = ts_qsb.standardize()"
   ]
  },
  {
   "cell_type": "code",
   "execution_count": null,
   "metadata": {
    "execution": {}
   },
   "outputs": [],
   "source": [
    "#Calculate the WWZ spectral analysis\n",
    "psd_wwz = ts_qsb_stnd.spectral(method='wwz')"
   ]
  },
  {
   "cell_type": "code",
   "execution_count": null,
   "metadata": {
    "execution": {},
    "executionInfo": {
     "elapsed": 602,
     "status": "ok",
     "timestamp": 1681253046710,
     "user": {
      "displayName": "Brodie Pearson",
      "userId": "05269028596972519847"
     },
     "user_tz": 420
    }
   },
   "outputs": [],
   "source": [
    "psd_wwz.plot()"
   ]
  },
  {
   "cell_type": "markdown",
   "metadata": {
    "execution": {}
   },
   "source": [
    "Consider the following questions to assess the relationship between solar insolation and monsoon intensity as recorded by the speleothem oxygen isotopes:\n",
    "\n",
    "\n",
    "*   What is the dominant spectral power in summer insolation at 31ºN latitude? \n",
    "*   Is this similar to or different from the dominant spectral power observed in the speleothem d18O record?\n",
    "*   What might these similarities or differences suggest about the climate forcings driving monsoon intensity in this region?\n",
    "*   Why might there be a relationship between solar insolation and monsoon intensity? (*Hint: think back to what we learned on W1D1!*).\n",
    "\n",
    "\n",
    "\n",
    "\n",
    "\n",
    "Similar to the speleothem oxygen isotopes data, the dominant spectral power in summer insolation 31ºN latitude is also ~20,000 years. This confirms the interpretation from the time series comparisons, and suggests a link between monsoon intensity and orbital precession. "
   ]
  }
 ],
 "metadata": {
  "colab": {
   "collapsed_sections": [],
   "include_colab_link": true,
   "name": "W1D4_Tutorial7",
   "provenance": [],
   "toc_visible": true
  },
  "kernel": {
   "display_name": "Python 3",
   "language": "python",
   "name": "python3"
  },
  "kernelspec": {
   "display_name": "Python 3",
   "name": "python3"
  },
  "language_info": {
   "codemirror_mode": {
    "name": "ipython",
    "version": 3
   },
   "file_extension": ".py",
   "mimetype": "text/x-python",
   "name": "python",
   "nbconvert_exporter": "python",
   "pygments_lexer": "ipython3",
   "version": "3.10.10"
  }
 },
 "nbformat": 4,
 "nbformat_minor": 0
}