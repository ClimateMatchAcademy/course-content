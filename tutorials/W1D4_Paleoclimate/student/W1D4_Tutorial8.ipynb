{
 "cells": [
  {
   "cell_type": "markdown",
   "metadata": {
    "execution": {}
   },
   "source": [
    "# **Tutorial 8: Paleoclimate Models**\n",
    "**Week 1, Day 4, Paleoclimate**\n",
    "\n",
    "**Content creators:** Sloane Garelick\n",
    "\n",
    "**Content reviewers:** Brodie Pearson\n",
    "\n",
    "**Content editors:** Rieke Schäfer, Agustina Pesce, Zahra Khodakaramimaghsoud\n",
    "\n",
    "**Production editors:** TBD\n",
    "\n",
    "**Our 2023 Sponsors:** TBD"
   ]
  },
  {
   "cell_type": "markdown",
   "metadata": {
    "execution": {}
   },
   "source": [
    "###**Code and Data Sources**\n",
    "\n",
    "Code for this tutorial is based on existing notebooks from LinkedEarth that explore [paleoclimate model-data comparisons](https://github.com/LinkedEarth/paleoHackathon/blob/main/notebooks/PaleoHack-nb08_Model-DataConfrontationInTimeDomain.ipynb) using [PMIP3 model simulations](https://github.com/LinkedEarth/paleoHackathon/blob/main/notebooks/PaleoHack-nb07_Model-DataConfrontationInFrequencyDomain.ipynb).\n",
    "\n",
    "Data from the following sources are used in this tutorial:\n",
    "\n",
    "*   Braconnot, P., Harrison, S., Kageyama, M. et al. Evaluation of climate models using palaeoclimatic data. Nature Clim Change 2, 417–424 (2012). https://doi.org/10.1038/nclimate1456\n",
    "*   Tierney, J., Mayes, M., Meyer, N. et al. Late-twentieth-century warming in Lake Tanganyika unprecedented since AD 500. Nature Geosci 3, 422–425 (2010). https://doi.org/10.1038/ngeo865\n",
    "\n",
    "\n",
    "\n",
    "\n",
    "\n",
    "\n",
    "\n",
    "\n",
    "\n",
    "\n",
    "\n",
    "\n",
    "\n",
    "\n",
    "\n",
    "\n",
    "\n"
   ]
  },
  {
   "cell_type": "markdown",
   "metadata": {
    "execution": {}
   },
   "source": [
    "#**Tutorial 8 Objectives**\n",
    "\n",
    "So far today, we've been focusing on how proxy-based reconstructions can be used to understand past variations in Earth's climate sytem. However, another useful tool in paleoclimate is the use of climate models.  \n",
    "\n",
    "In this tutorial, you'll explore data from the [Paleoclimate Modelling Intercomparison Project 3 (PMIP3)](https://www.nature.com/articles/nclimate1456). More specifically, you'll be analyzing global mean surface temperature (GMST) data from  simulations for the past 1,000 years. \n",
    "\n",
    "You'll also compare the PMIP3 GMST data to a proxy-based reconstruction of temperature from Lake Tanganyika in East Africa [(Tierney et al., 2010)](https://www.nature.com/articles/ngeo865). Through this proxy-model comparison, you'll be able to assess the differences and similarities between the two datasets. \n",
    "\n",
    "\n",
    "By the end of this tutorial you will be able to:\n",
    "\n",
    "*   Plot time series of paleoclimate model simulations\n",
    "*   Compare and interpret proxy-based reconstructions of climate to paleoclimate model simulations of climate\n",
    "\n",
    "\n"
   ]
  },
  {
   "cell_type": "code",
   "execution_count": null,
   "metadata": {
    "execution": {},
    "executionInfo": {
     "elapsed": 70828,
     "status": "ok",
     "timestamp": 1681254174617,
     "user": {
      "displayName": "Brodie Pearson",
      "userId": "05269028596972519847"
     },
     "user_tz": 420
    },
    "tags": [
     "colab"
    ]
   },
   "outputs": [],
   "source": [
    "# !pip install cartopy\n",
    "# !pip install pyleoclim\n",
    "# !pip install pandas\n",
    "# !pip install numpy\n",
    "# !pip install xarray"
   ]
  },
  {
   "cell_type": "code",
   "execution_count": null,
   "metadata": {
    "execution": {}
   },
   "outputs": [],
   "source": [
    "import pandas as pd\n",
    "import numpy as np\n",
    "\n",
    "import cartopy\n",
    "import pyleoclim as pyleo\n",
    "\n",
    "import xarray as xr"
   ]
  },
  {
   "cell_type": "markdown",
   "metadata": {
    "execution": {}
   },
   "source": [
    "\n",
    "##Load proxy-based temperature reconstructions\n",
    "\n",
    "The proxy record we'll be analyzing in this tutorial is a 1,000 year-long lake surface temperature reconstruction from [Tierney et al., 2010](https://https://doi.org/10.1038/ngeo865). This record is from Lake Taganyika in equatorial East Africa and is based on the TEX86 ratio, which is a temperature proxy derived from the distribution of the isoprenoid glycerol dialkyl glycerol tetraether (iGDGT) of archaeal membrane lipids. The organisms producing these iGDGT compounds alter the structure of the compound in response to changes in temperature, so by measure changes in the ratio of the different compounds, we can infer past changes in temperature.   \n",
    "\n",
    "Let's start by loading the proxy data, saving it as a `Series` in Pyleoclim, and plotting a time series. \n"
   ]
  },
  {
   "cell_type": "code",
   "execution_count": null,
   "metadata": {
    "execution": {}
   },
   "outputs": [],
   "source": [
    "# fname = 'tang_sst.csv'\n",
    "import pooch\n",
    "\n",
    "data_path = pooch.retrieve(\n",
    "    \"https://osf.io/p8tx3/download\",\n",
    "    known_hash=None\n",
    ")\n",
    "\n",
    "proxy_temp = pd.read_csv(data_path)"
   ]
  },
  {
   "cell_type": "code",
   "execution_count": null,
   "metadata": {
    "execution": {},
    "executionInfo": {
     "elapsed": 181,
     "status": "ok",
     "timestamp": 1681255523459,
     "user": {
      "displayName": "Brodie Pearson",
      "userId": "05269028596972519847"
     },
     "user_tz": 420
    }
   },
   "outputs": [],
   "source": [
    "proxy_temp.head()"
   ]
  },
  {
   "cell_type": "code",
   "execution_count": null,
   "metadata": {
    "execution": {},
    "executionInfo": {
     "elapsed": 696,
     "status": "ok",
     "timestamp": 1681255526502,
     "user": {
      "displayName": "Brodie Pearson",
      "userId": "05269028596972519847"
     },
     "user_tz": 420
    }
   },
   "outputs": [],
   "source": [
    "proxy_t = pyleo.Series(\n",
    "    time=proxy_temp['Year'],\n",
    "    value= proxy_temp['LST'],\n",
    "    time_name='Age',\n",
    "    time_unit='years AD',\n",
    "    value_name='Surface Temperature',\n",
    "    value_unit='ºC',\n",
    "    label='Lake Tanganyika Surface Temperature'\n",
    ")\n",
    "\n",
    "proxy_t.plot(color='C1')"
   ]
  },
  {
   "cell_type": "markdown",
   "metadata": {
    "execution": {}
   },
   "source": [
    "Let's make some initial observations about the data:\n",
    "\n",
    "\n",
    "*   What is the overall temperature trend over the past 1,000 years?\n",
    "*   Where are the major increases or decrease in temperature? What could be the cause of these shifts in surface temperature? \n",
    "\n"
   ]
  },
  {
   "cell_type": "markdown",
   "metadata": {
    "execution": {}
   },
   "source": [
    "##Last Millenium PMIP3 GMST Data\n",
    "\n",
    "We can now load GMST data from the PMIP3 simulations for the past 1,000 years [(Braconnot et al. 2012 )](https://https://doi.org/10.1038/nclimate1456). \n"
   ]
  },
  {
   "cell_type": "code",
   "execution_count": null,
   "metadata": {
    "execution": {},
    "executionInfo": {
     "elapsed": 437,
     "status": "ok",
     "timestamp": 1681255552933,
     "user": {
      "displayName": "Brodie Pearson",
      "userId": "05269028596972519847"
     },
     "user_tz": 420
    }
   },
   "outputs": [],
   "source": [
    "# load the raw data\n",
    "fname = 'PMIP3_GMST.txt'\n",
    "data_path = pooch.retrieve(\n",
    "    \"https://osf.io/gw2m5/download\",\n",
    "    known_hash=None\n",
    ")\n",
    "df = pd.read_table(data_path)\n",
    "\n",
    "# display the raw data\n",
    "df"
   ]
  },
  {
   "cell_type": "markdown",
   "metadata": {
    "execution": {}
   },
   "source": [
    "Note that the data file includes several ensemble members for Community Earth System Model (CESM) and Goddard Institute for Space Studies (GISS) simulations. Ensembles are essentially groups of climate model simulations used for climate projections, or in this case, reconstructions. You will learn about this in much more detail on W2D1: Climate Modeling.\n",
    "\n",
    "For now, we can replace these with their ensemble mean series.\n"
   ]
  },
  {
   "cell_type": "code",
   "execution_count": null,
   "metadata": {
    "execution": {}
   },
   "outputs": [],
   "source": [
    "# Create a new pandas.DataFrame to store the processed data\n",
    "df_new = df.copy()\n",
    "\n",
    "# Remove the data columns for CESM and GISS ensemble members\n",
    "for i in range(10):\n",
    "    df_new = df_new.drop([f'CESM_member_{i+1}'], axis=1)\n",
    "\n",
    "df_new = df_new.drop(['GISS-E2-R_r1i1p127.1'], axis=1)\n",
    "df_new = df_new.drop(['GISS-E2-R_r1i1p127'], axis=1)\n",
    "df_new = df_new.drop(['GISS-E2-R_r1i1p121'], axis=1)\n",
    "\n",
    "# calculate the ensemble mean for CESM and GISS, and add the results into the table\n",
    "df_new['CESM'] = df[[\n",
    "    'CESM_member_1',\n",
    "    'CESM_member_2',\n",
    "    'CESM_member_3',\n",
    "    'CESM_member_4',\n",
    "    'CESM_member_5',\n",
    "    'CESM_member_6',\n",
    "    'CESM_member_7',\n",
    "    'CESM_member_8',\n",
    "    'CESM_member_9',\n",
    "    'CESM_member_10',\n",
    "]].mean(axis=1)\n",
    "\n",
    "df_new['GISS'] = df[[\n",
    "    'GISS-E2-R_r1i1p127.1',\n",
    "    'GISS-E2-R_r1i1p127',\n",
    "    'GISS-E2-R_r1i1p121',\n",
    "]].mean(axis=1)"
   ]
  },
  {
   "cell_type": "code",
   "execution_count": null,
   "metadata": {
    "execution": {},
    "executionInfo": {
     "elapsed": 257,
     "status": "ok",
     "timestamp": 1681255705870,
     "user": {
      "displayName": "Brodie Pearson",
      "userId": "05269028596972519847"
     },
     "user_tz": 420
    }
   },
   "outputs": [],
   "source": [
    "# display the processed data\n",
    "df_new"
   ]
  },
  {
   "cell_type": "markdown",
   "metadata": {
    "execution": {}
   },
   "source": [
    "In our new dataframe, you can now see that the ensemble members for CESM and GISS are now replaced with one ensemble mean for each model simulation.\n",
    "\n",
    "\n",
    "\n",
    "Now we can create a Pyleoclim `Series` object for each simulated GMST time series, which will allow us to easily plot the time series for each simulation and perform data analysis using various built-in tools."
   ]
  },
  {
   "cell_type": "code",
   "execution_count": null,
   "metadata": {
    "execution": {}
   },
   "outputs": [],
   "source": [
    "# store each pyleoclim.Series() object into a dictionary\n",
    "ts_dict = {}\n",
    "for name in df_new.columns[1:]:\n",
    "    ts_dict[name] = pyleo.Series(\n",
    "        time=df_new['Year'].values,  # the time axis\n",
    "        value=df_new[name].values,   # the value axis\n",
    "        label=name,                  # optional metadata: the nickname of the series\n",
    "        time_name='Time',            # optional metadata: the name of the time axis\n",
    "        time_unit='yrs',             # optional metadata: the unit of the time axis\n",
    "        value_name='GMST anom.',     # optional metadata: the name of the value axis\n",
    "        value_unit='K',              # optional metadata: the unit of the value axis\n",
    "    )"
   ]
  },
  {
   "cell_type": "markdown",
   "metadata": {
    "execution": {}
   },
   "source": [
    "We can now plot each simulation. For example, let's plot the CCSM4 GMST:"
   ]
  },
  {
   "cell_type": "code",
   "execution_count": null,
   "metadata": {
    "execution": {},
    "executionInfo": {
     "elapsed": 616,
     "status": "ok",
     "timestamp": 1681255723006,
     "user": {
      "displayName": "Brodie Pearson",
      "userId": "05269028596972519847"
     },
     "user_tz": 420
    }
   },
   "outputs": [],
   "source": [
    "fig, ax = ts_dict['CCSM4'].plot()"
   ]
  },
  {
   "cell_type": "markdown",
   "metadata": {
    "execution": {}
   },
   "source": [
    "You can try plotting GMST data from different simulations by calling a different model name in the cell abov, e.g., `fig, ax = ts_dict['HadCM3'].plot()`.\n",
    "\n",
    "But what if we wanted to plot all of the PMIP3 time series at once? We can do that using the `MultipleSeries` object in Pyleoclim, which takes a list of `Series` objects as input. To do so, we have to convert the dictionary of `Series` into a list and then create a `MultipleSeries` object."
   ]
  },
  {
   "cell_type": "code",
   "execution_count": null,
   "metadata": {
    "execution": {}
   },
   "outputs": [],
   "source": [
    "ts_list = [v for k, v in ts_dict.items()]  # a pythonic way to convert the pyleo.Series items in the dictionary to a list\n",
    "ms_pmip = pyleo.MultipleSeries(ts_list)"
   ]
  },
  {
   "cell_type": "markdown",
   "metadata": {
    "execution": {}
   },
   "source": [
    "We can now plot all PMIP3 simulation time series at once:"
   ]
  },
  {
   "cell_type": "code",
   "execution_count": null,
   "metadata": {
    "execution": {},
    "executionInfo": {
     "elapsed": 928,
     "status": "ok",
     "timestamp": 1681255736092,
     "user": {
      "displayName": "Brodie Pearson",
      "userId": "05269028596972519847"
     },
     "user_tz": 420
    }
   },
   "outputs": [],
   "source": [
    "fig, ax = ms_pmip.plot(\n",
    "    lgd_kwargs={\n",
    "        'bbox_to_anchor': (1.25, 1),  # move the legend to the right side\n",
    "    }\n",
    ")"
   ]
  },
  {
   "cell_type": "markdown",
   "metadata": {
    "execution": {}
   },
   "source": [
    "The GMST reconstructions from all of the PMIP3 simulations follow the same overall trend of relatively stable, long-term temperature from 800-1800 AD, followed by an increase in temperature over the past 200 years. What do you think is driving this recent warming trend?\n",
    "\n",
    "Despite the long-term similarities, there are also noticeable differences between the GMST time series from each simulation.  \n",
    "\n",
    "*   What do you observe about the various time series?\n",
    "*   How are the GMST reconstructions from each simulation different?\n",
    "*   What could be causing these differences?\n",
    "*   How do we know which simulation is the most accurate and reliable?\n",
    "\n",
    "\n",
    "\n",
    "One approach to trying to constrain climate model simulations as assess their ability to simulate past climate is to compare model data to comparable proxy data."
   ]
  },
  {
   "cell_type": "markdown",
   "metadata": {
    "execution": {}
   },
   "source": [
    "##Proxy-Model Comparisons\n",
    "\n",
    "Proxy-based reconstructions of climate variables in the past can provide direct measurements of temperature, precipitation, greenhouse gas concentration, etc. Comparing proxy paleoclimate records with paleoclimate model simulations can help to clarify the interpretation of the proxy record and also help to improve the ability of climate models to simulate past variations in climate.\n",
    "\n",
    "Here, we'll compare the proxy-based Lake Tanganyika surface temperature reconstruction we downloaded and plotted at the beginning of the tutorial, with the GMST PMIP3 simulations."
   ]
  },
  {
   "cell_type": "code",
   "execution_count": null,
   "metadata": {
    "execution": {}
   },
   "outputs": [],
   "source": [
    "#Standardize the proxy data\n",
    "proxy_stnd = proxy_t.standardize()"
   ]
  },
  {
   "cell_type": "code",
   "execution_count": null,
   "metadata": {
    "execution": {},
    "executionInfo": {
     "elapsed": 1414,
     "status": "ok",
     "timestamp": 1681255872349,
     "user": {
      "displayName": "Brodie Pearson",
      "userId": "05269028596972519847"
     },
     "user_tz": 420
    }
   },
   "outputs": [],
   "source": [
    "fig, ax = ms_pmip.plot(\n",
    "    lgd_kwargs={\n",
    "        'bbox_to_anchor': (1.25, 1),  # move the legend to the right side\n",
    "    }\n",
    ")\n",
    "\n",
    "ax.set_ylabel('GMST anom.')\n",
    "ax1 = ax.twinx()  # instantiate a second axes that shares the same x-axis\n",
    "ax1.set_ylabel('Tanganyika LST')  # we already handled the x-label with ax1\n",
    "\n",
    "proxy_stnd.plot(ax=ax1,color='black')\n",
    "ax.set_xlim(xmin=850,xmax=2000)\n",
    "ax.set_ylim(ymin=-4,ymax=2)\n",
    "ax1.set_ylim(ymin=-4,ymax=2)"
   ]
  },
  {
   "cell_type": "markdown",
   "metadata": {
    "execution": {}
   },
   "source": [
    "How do the model simulated GMST and proxy-based surface temperature compare?\n",
    "\n",
    "\n",
    "*   Are the long term trends over the last millenium similar or different?\n",
    "*   Is there more variability in the proxy or model temperatures? What might be causing this? \n",
    "*   How does the timing of temperature change compare?"
   ]
  },
  {
   "cell_type": "markdown",
   "metadata": {
    "execution": {}
   },
   "source": [
    "This is just one simplified example of a proxy-model comparison. Larger-scale proxy-model comparisons can help to identify spatial patterns of temperature change and assess forcing mechanisms of paleoclimate variations. In W2D1, you'll spend more time exploring climate models.\n",
    "\n",
    "In the next and final tutorial for today, you'll explore another tool for assessing past climate variability using both proxies and models."
   ]
  },
  {
   "cell_type": "code",
   "execution_count": null,
   "metadata": {
    "execution": {}
   },
   "outputs": [],
   "source": [
    "# Rieke Schäfer comments\n",
    "# ======================\n",
    "\n",
    "# Installations run well (maybe remove the comments for packages not needed?)\n",
    "# for importing the path needs to be adapted, because it is set absolute not relative (but I have no idea in which context the particpants will get it, so might be fine)\n",
    "# there seems to be some text missing under the objectives\n",
    "# from the \"model simulations\" on there are many helpful comments in the code :)\n",
    "# some text explaining the objective last plot would be nice\n",
    "# the last cell does a spurious printing of the last setting (\"(-4.0, 2.0)\" in this case). Maybe someone with more experience with pyleoclim can figure out how to avoid that, I couldn't find it."
   ]
  }
 ],
 "metadata": {
  "colab": {
   "collapsed_sections": [],
   "include_colab_link": true,
   "name": "W1D4_Tutorial8",
   "provenance": [
    {
     "file_id": "1wFhubLDgjU4HN94QSHyc9zBzHAzgN2Cw",
     "timestamp": 1679502090432
    }
   ],
   "toc_visible": true
  },
  "kernel": {
   "display_name": "Python 3",
   "language": "python",
   "name": "python3"
  },
  "kernelspec": {
   "display_name": "Python 3",
   "name": "python3"
  },
  "language_info": {
   "codemirror_mode": {
    "name": "ipython",
    "version": 3
   },
   "file_extension": ".py",
   "mimetype": "text/x-python",
   "name": "python",
   "nbconvert_exporter": "python",
   "pygments_lexer": "ipython3",
   "version": "3.10.10"
  }
 },
 "nbformat": 4,
 "nbformat_minor": 0
}