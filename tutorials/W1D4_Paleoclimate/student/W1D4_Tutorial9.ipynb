{
 "cells": [
  {
   "cell_type": "markdown",
   "metadata": {
    "execution": {}
   },
   "source": [
    "# **Tutorial 9: Paleoclimate Data Assimilation**\n",
    "**Week 1, Day 4, Paleoclimate**\n",
    "\n",
    "**Content creators:** Sloane Garelick\n",
    "\n",
    "**Content reviewers:** Brodie Pearson\n",
    "\n",
    "**Content editors:** Agustina Pesce\n",
    "\n",
    "**Production editors:** TBD\n",
    "\n",
    "**Our 2023 Sponsors:** TBD"
   ]
  },
  {
   "cell_type": "markdown",
   "metadata": {
    "execution": {}
   },
   "source": [
    "###**Code and Data Sources**\n",
    "\n",
    "The code for this notebook is based on [code available from Erb et al. (2022)](https://github.com/Holocene-Reconstruction/Holocene-code) and workflow presented during the [Paleoclimate Data Assimilation Workshop 2022](https://github.com/michaelerb/da-workshop).\n",
    "\n",
    "Data from the following sources are used in this tutorial:\n",
    "\n",
    "*   Matthew B. Osman, Jessica E. Tierney, Jiang Zhu, Robert Tardif, Gregory J. Hakim, Jonathan King, Christopher J. Poulsen. 2021. Globally resolved surface temperatures since the Last Glacial Maximum. Nature, 599, 239-244. doi: 10.1038/s41586-021-03984-4\n",
    "*   King, J. M., Tierney, J., Osman, M., Judd, E. J., & Anchukaitis, K. J. (2023). DASH: A MATLAB Toolbox for Paleoclimate Data Assimilation. Geoscientific Model Development, (in review).\n",
    "\n",
    "\n",
    "\n",
    "\n",
    "\n",
    "\n",
    "\n",
    "\n",
    "\n",
    "\n",
    "\n",
    "\n",
    "\n",
    "\n",
    "\n",
    "\n",
    "\n"
   ]
  },
  {
   "cell_type": "markdown",
   "metadata": {
    "execution": {}
   },
   "source": [
    "#**Tutorial 9 Objectives**\n",
    "\n",
    "As we just discussed in the introductory video, proxies and models both have advantages and limitations for reconstructing past changes in earth's climate system. One approach for combining the strengths of both paleoclimate proxies and models is data assimilation. In this tutorial, we'll look at paleoclimate reconstructions that were made with data assimilation. The specific reconstruction we'll be analyzing is the Last Glacial Maximum reanalysis (LGMR) from [Osman et al. (2021)](https://www.nature.com/articles/s41586-021-03984-4), which contains temperature and d18O data for the past 24,000 years.\n",
    "\n",
    "\n",
    "By the end of this tutorial you will be able to:\n",
    "\n",
    "*   Understand how data assimilation works\n",
    "*   Exisiting paleoclimate data assimilation datasets\n",
    "*   Why data assimilation is useful\n",
    "*   How to create time series and maps of data assimilation results \n",
    "\n",
    "\n",
    "\n",
    "\n"
   ]
  },
  {
   "cell_type": "code",
   "execution_count": null,
   "metadata": {
    "execution": {},
    "executionInfo": {
     "elapsed": 104330,
     "status": "ok",
     "timestamp": 1681256668074,
     "user": {
      "displayName": "Brodie Pearson",
      "userId": "05269028596972519847"
     },
     "user_tz": 420
    },
    "tags": [
     "colab"
    ]
   },
   "outputs": [],
   "source": [
    "# # Install libraries\n",
    "# !pip install --no-binary shapely shapely --force # Add this to use cartopy. in this way it doesn't crush\n",
    "# !pip install cartopy\n",
    "# !pip install pooch\n",
    "# !pip install xarray"
   ]
  },
  {
   "cell_type": "code",
   "execution_count": null,
   "metadata": {
    "execution": {}
   },
   "outputs": [],
   "source": [
    "# Import libraries\n",
    "import pooch\n",
    "import numpy as np\n",
    "import xarray as xr\n",
    "import matplotlib.pyplot as plt\n",
    "\n",
    "import cartopy.crs as ccrs\n",
    "import cartopy.util as cutil"
   ]
  },
  {
   "cell_type": "markdown",
   "metadata": {
    "execution": {}
   },
   "source": [
    "##Load the LGMR paleoclimate data assimilation reconstruction\n",
    "\n",
    "This dataset contains reconstructions of surface air temperature (SAT), d18O, and global mean surface temperature (GMST). Let's download the paleoclimate reconstruction for SAT. "
   ]
  },
  {
   "cell_type": "code",
   "execution_count": null,
   "metadata": {
    "execution": {},
    "executionInfo": {
     "elapsed": 1997,
     "status": "ok",
     "timestamp": 1681256682525,
     "user": {
      "displayName": "Brodie Pearson",
      "userId": "05269028596972519847"
     },
     "user_tz": 420
    }
   },
   "outputs": [],
   "source": [
    "data_path= pooch.retrieve(\n",
    "  url=\"https://www.ncei.noaa.gov/pub/data/paleo/reconstructions/osman2021/LGMR_SAT_climo.nc\",\n",
    "  known_hash=None,\n",
    ")\n",
    "\n",
    "dataset = xr.open_dataset(data_path)"
   ]
  },
  {
   "cell_type": "markdown",
   "metadata": {
    "execution": {}
   },
   "source": [
    "To see what's in the file you loaded, we can print the xarray:"
   ]
  },
  {
   "cell_type": "code",
   "execution_count": null,
   "metadata": {
    "execution": {},
    "executionInfo": {
     "elapsed": 1523,
     "status": "ok",
     "timestamp": 1681256694510,
     "user": {
      "displayName": "Brodie Pearson",
      "userId": "05269028596972519847"
     },
     "user_tz": 420
    }
   },
   "outputs": [],
   "source": [
    "# Variables in the file\n",
    "dataset"
   ]
  },
  {
   "cell_type": "code",
   "execution_count": null,
   "metadata": {
    "execution": {},
    "executionInfo": {
     "elapsed": 341,
     "status": "ok",
     "timestamp": 1681256697894,
     "user": {
      "displayName": "Brodie Pearson",
      "userId": "05269028596972519847"
     },
     "user_tz": 420
    }
   },
   "outputs": [],
   "source": [
    "print('\\n=== Notes about extracted variables ===')\n",
    "print('Shape of \"tas_mean\":', dataset['sat'].shape)\n",
    "print('Range of \"ages\":', dataset['age'].min().values, dataset['age'].max().values)\n",
    "print('Range of \"lat\":', dataset['lat'].min().values, dataset['lat'].max().values)\n",
    "print('Range of \"lon\":', dataset['lon'].min().values, dataset['lon'].max().values)"
   ]
  },
  {
   "cell_type": "markdown",
   "metadata": {
    "execution": {}
   },
   "source": [
    "## Plotting a **time series** of the paleoclimate data assimilation\n",
    "\n",
    "Now that the data is loaded, we can plot a time series of the temperature data to beginning to assess global changes.\n",
    "\n",
    "However, the `tas_mean` variable is a 3D array with dimensions of age-lat-lon, so we first need to calculate a global mean. The function below calculates the mean temperature value over a specified region. In this case, we'll be looking at the global mean."
   ]
  },
  {
   "cell_type": "code",
   "execution_count": null,
   "metadata": {
    "execution": {}
   },
   "outputs": [],
   "source": [
    "def spatial_mean(dataset, variable, region):\n",
    "  \"\"\"A function to compute a regional-mean from a time-lat-lon variable\"\"\"\n",
    "  i_selected = np.where((dataset.lon >= region[0]) & (dataset.lon <= region[1]))[0]\n",
    "  j_selected = np.where((dataset.lat >= region[2]) & (dataset.lat <= region[3]))[0]\n",
    "  print(\n",
    "    'Computing spatial mean.',\n",
    "    f'lats: {dataset.lat.values[j_selected[0]]} - {dataset.lat.values[j_selected[-1]]}',\n",
    "    f'lons: {dataset.lon.values[i_selected[0]]} - {dataset.lon.values[i_selected[-1]]}.',\n",
    "    'Points are inclusive.'\n",
    "  )\n",
    "  lat_weights = np.cos(np.radians(dataset.lat))\n",
    "  variable_zonal = np.nanmean(dataset[variable].values[:, :, i_selected], axis=2)\n",
    "  variable_mean = np.average(\n",
    "      variable_zonal[:, j_selected],\n",
    "      axis=1,\n",
    "      weights=lat_weights[j_selected]\n",
    "  )\n",
    "\n",
    "  return variable_mean"
   ]
  },
  {
   "cell_type": "code",
   "execution_count": null,
   "metadata": {
    "execution": {},
    "executionInfo": {
     "elapsed": 134,
     "status": "ok",
     "timestamp": 1681256735526,
     "user": {
      "displayName": "Brodie Pearson",
      "userId": "05269028596972519847"
     },
     "user_tz": 420
    }
   },
   "outputs": [],
   "source": [
    "print('Temperature:', dataset['sat'][:,40,40].values)"
   ]
  },
  {
   "cell_type": "markdown",
   "metadata": {
    "execution": {}
   },
   "source": [
    "Call the function above, `spatial_mean`, to compute a global mean surface temperature."
   ]
  },
  {
   "cell_type": "code",
   "execution_count": null,
   "metadata": {
    "execution": {},
    "executionInfo": {
     "elapsed": 143,
     "status": "ok",
     "timestamp": 1681256741486,
     "user": {
      "displayName": "Brodie Pearson",
      "userId": "05269028596972519847"
     },
     "user_tz": 420
    }
   },
   "outputs": [],
   "source": [
    "# Calculate the global mean surface temperature\n",
    "region = [0,360,-90,90]\n",
    "tas_global_mean = spatial_mean(dataset, 'sat', region)"
   ]
  },
  {
   "cell_type": "markdown",
   "metadata": {
    "execution": {}
   },
   "source": [
    "Now that we calculated our global mean, we can plot the results as a time series to assess changes in temperature over the past 24,000 years:"
   ]
  },
  {
   "cell_type": "code",
   "execution_count": null,
   "metadata": {
    "execution": {},
    "executionInfo": {
     "elapsed": 559,
     "status": "ok",
     "timestamp": 1681256745162,
     "user": {
      "displayName": "Brodie Pearson",
      "userId": "05269028596972519847"
     },
     "user_tz": 420
    }
   },
   "outputs": [],
   "source": [
    "# Plot the global mean surface temperature\n",
    "f,ax1 = plt.subplots(1, 1, figsize=(12,6))\n",
    "ax1.plot(dataset['age'], tas_global_mean, linewidth=3)\n",
    "\n",
    "ax1.set_xlim(dataset['age'].max().values, dataset['age'].min().values)\n",
    "ax1.set_ylabel('$\\Delta$T ($^\\circ$C)', fontsize=16)\n",
    "ax1.set_xlabel('Age (yr BP)', fontsize=16)\n",
    "ax1.set_title(\n",
    "  f'Mean $\\Delta$T ($^\\circ$C) for LGMR, region: {region}',\n",
    "  fontsize=18,\n",
    "  loc='center'\n",
    ")\n",
    "plt.show()"
   ]
  },
  {
   "cell_type": "markdown",
   "metadata": {
    "execution": {}
   },
   "source": [
    "Consider the following questions:\n",
    "\n",
    "\n",
    "*   How has global temperature varied over the past 24,000 years?\n",
    "*   What climate forcings may have contributed to the increase in temperature ~17,000 years ago? \n",
    "\n"
   ]
  },
  {
   "cell_type": "markdown",
   "metadata": {
    "execution": {}
   },
   "source": [
    "## Plotting a **temperature anomaly map** of the paleoclimate data assimilation\n",
    "\n",
    "Data assimilation creates spatial reconstructions, so we can also make figures showing spatial temperature anomalies for different time periods. The function below makes two figures: one that shows a map of reconstructed temperature, and the other that shows a zonal mean figure of temperature differences."
   ]
  },
  {
   "cell_type": "code",
   "execution_count": null,
   "metadata": {
    "execution": {}
   },
   "outputs": [],
   "source": [
    "# A function to make a map of differences between two time periods\n",
    "def map_temp_anom(dataset, variable_name, ages_anom,ages_ref):\n",
    "    # Compute the difference between the periods specified above.\n",
    "    ind_anom = np.where((dataset.age >= ages_anom[0]) & (dataset.age <= ages_anom[1]))[0]\n",
    "    ind_ref  = np.where((dataset.age >= ages_ref[0])  & (dataset.age <= ages_ref[1]))[0]\n",
    "\n",
    "    tas_change = np.mean(dataset[variable_name][ind_anom, :, :], axis=0) - np.mean(dataset[variable_name][ind_ref, :, :], axis=0)\n",
    "    tas_change_zonal = np.mean(tas_change, axis=1)\n",
    "\n",
    "    # Make a map of changes\n",
    "    plt.figure(figsize=(12,8))\n",
    "    ax = plt.axes(projection=ccrs.Robinson())\n",
    "    ax.set_global()\n",
    "    tas_change.plot(\n",
    "        ax=ax,\n",
    "        transform=ccrs.PlateCarree(), x=\"lon\", y=\"lat\",\n",
    "        cbar_kwargs={'orientation': 'horizontal', 'label':'$\\Delta$T ($^\\circ$C)'}\n",
    "    )\n",
    "    ax.coastlines()\n",
    "    ax.set_title(\n",
    "        f'$\\Delta$T ($^\\circ$C) for LGMR, ages: anom = {ages_anom}, ref = {ages_ref}',\n",
    "        loc='center',\n",
    "        fontsize=16\n",
    "    )\n",
    "    ax.gridlines(color='k',linewidth=1,linestyle=(0,(1,5)))\n",
    "    ax.spines['geo'].set_edgecolor('black')\n",
    "    plt.show()\n",
    "\n",
    "    # Make a zonal mean figure of the changes\n",
    "    fig, ax1 = plt.subplots(1, 1)\n",
    "    tas_change_zonal.plot(linewidth=3, y=\"lat\")\n",
    "    ax1.axvline(x=0,color='gray',alpha=1,linestyle=':',linewidth=2)\n",
    "    ax1.set_ylim(-90, 90)\n",
    "    ax1.set_xlabel('$\\Delta$T ($^\\circ$C)')\n",
    "    ax1.set_ylabel('Latitude ($^\\circ$)')\n",
    "    ax1.set_title(\n",
    "        f'Zonal-mean $\\Delta$T ($^\\circ$C), ages: anom = {ages_anom}, ref = {ages_ref}',\n",
    "        loc='center',\n",
    "    )\n",
    "    plt.show()"
   ]
  },
  {
   "cell_type": "markdown",
   "metadata": {
    "execution": {}
   },
   "source": [
    "Before making the figures, double-check the ages in your dataset by printing the beginning and end of the age variable."
   ]
  },
  {
   "cell_type": "code",
   "execution_count": null,
   "metadata": {
    "execution": {},
    "executionInfo": {
     "elapsed": 159,
     "status": "ok",
     "timestamp": 1681256769348,
     "user": {
      "displayName": "Brodie Pearson",
      "userId": "05269028596972519847"
     },
     "user_tz": 420
    }
   },
   "outputs": [],
   "source": [
    "print('First 5 ages:', dataset.age[:5].values)\n",
    "print('Last 5 ages:', dataset.age[-5:].values)"
   ]
  },
  {
   "cell_type": "markdown",
   "metadata": {
    "execution": {}
   },
   "source": [
    "The code below will make a figure that shows the temperature anomaly temperature anomaly of 21,000 years ago relative to today."
   ]
  },
  {
   "cell_type": "code",
   "execution_count": null,
   "metadata": {
    "execution": {},
    "executionInfo": {
     "elapsed": 4940,
     "status": "ok",
     "timestamp": 1681256777341,
     "user": {
      "displayName": "Brodie Pearson",
      "userId": "05269028596972519847"
     },
     "user_tz": 420
    }
   },
   "outputs": [],
   "source": [
    "# Make a map of differences between ages\n",
    "ages_anom = [20500,21500]; ages_ref = [0,1000]  # 21 ka vs 0 ka\n",
    "\n",
    "map_temp_anom(dataset, 'sat', ages_anom, ages_ref)"
   ]
  },
  {
   "cell_type": "markdown",
   "metadata": {
    "execution": {}
   },
   "source": [
    "What do you notice about the spatial differences in the LGM to present temperature anomalies?\n",
    "\n",
    "\n",
    "*   How does the temperature anomaly vary with latitude?\n",
    "*   Where was the largest temperature change? Why might this region region have undergone the largest temperature change during this time?\n",
    "\n",
    "If you'd like, you can take a look at temperature anomalies during other time periods as well by changing the `ages_anom` and `ages_ref` values."
   ]
  }
 ],
 "metadata": {
  "colab": {
   "collapsed_sections": [],
   "include_colab_link": true,
   "name": "W1D4_Tutorial9",
   "provenance": [],
   "toc_visible": true
  },
  "kernel": {
   "display_name": "Python 3",
   "language": "python",
   "name": "python3"
  },
  "kernelspec": {
   "display_name": "Python 3",
   "name": "python3"
  },
  "language_info": {
   "codemirror_mode": {
    "name": "ipython",
    "version": 3
   },
   "file_extension": ".py",
   "mimetype": "text/x-python",
   "name": "python",
   "nbconvert_exporter": "python",
   "pygments_lexer": "ipython3",
   "version": "3.10.10"
  }
 },
 "nbformat": 4,
 "nbformat_minor": 0
}