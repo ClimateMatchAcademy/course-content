{
 "cells": [
  {
   "cell_type": "markdown",
   "metadata": {
    "execution": {}
   },
   "source": [
    "# **Tutorial 6: Spectral Analysis of Paleoclimate Data**\n",
    "**Week 1, Day 4, Paleoclimate**\n",
    "\n",
    "**Content creators:** Sloane Garelick\n",
    "\n",
    "**Content reviewers:** Brodie Pearson\n",
    "\n",
    "**Content editors:** Yosmely Bermúdez, Agustina Pesce\n",
    "\n",
    "**Production editors:** TBD\n",
    "\n",
    "**Our 2023 Sponsors:** TBD"
   ]
  },
  {
   "cell_type": "markdown",
   "metadata": {
    "execution": {}
   },
   "source": [
    "###**Code and Data Sources**\n",
    "\n",
    "Code for this tutorial is based on existing notebooks from LinkedEarth for [spectral analysis](https://github.com/LinkedEarth/PyleoTutorials/blob/main/notebooks/L2_spectral_analysis.ipynb) and [wavelet analysis](https://github.com/LinkedEarth/PyleoTutorials/blob/main/notebooks/L2_wavelet_analysis.ipynb).\n",
    "\n",
    "Data from the following sources are used in this tutorial:\n",
    "\n",
    "*   Lisiecki, L. E., and Raymo, M. E. (2005), A Pliocene-Pleistocene stack of 57 globally distributed benthic δ18O records, Paleoceanography, 20, PA1003, https://doi:10.1029/2004PA001071.\n",
    "\n",
    "\n",
    "\n",
    "\n",
    "\n",
    "\n",
    "\n",
    "\n",
    "\n",
    "\n",
    "\n",
    "\n",
    "\n",
    "\n",
    "\n"
   ]
  },
  {
   "cell_type": "markdown",
   "metadata": {
    "execution": {}
   },
   "source": [
    "#**Tutorial 6 Objectives**\n",
    "\n",
    "In this tutorial, you will manipulate paleoclimate proxy datasets using previously learned computational tools, and apply spectral analysis to further interpret the data.\n",
    "\n",
    "\n",
    "By the end of this tutorial you will be able to:\n",
    "\n",
    "*   Interpret the LR04 benthic δ18O curve and how it records temperature\n",
    "*   Perform various spectral analysis methods to assess dominant spectral powers in the LR04 data\n",
    "*   Interpret variations in glacial-interglacial cycles recorded by the LR04 δ18O record\n",
    "\n",
    "\n"
   ]
  },
  {
   "cell_type": "code",
   "execution_count": null,
   "metadata": {
    "execution": {},
    "executionInfo": {
     "elapsed": 89296,
     "status": "ok",
     "timestamp": 1681085425044,
     "user": {
      "displayName": "Sloane Garelick",
      "userId": "04706287370408131987"
     },
     "user_tz": 240
    },
    "tags": [
     "colab"
    ]
   },
   "outputs": [],
   "source": [
    "# # Install libraries\n",
    "# !pip install pooch\n",
    "# !pip install pandas\n",
    "# !pip install matplotlib\n",
    "\n",
    "# !pip install cartopy\n",
    "# !pip install pyleoclim"
   ]
  },
  {
   "cell_type": "code",
   "execution_count": null,
   "metadata": {
    "execution": {}
   },
   "outputs": [],
   "source": [
    "import pooch\n",
    "import pandas as pd\n",
    "import numpy as np\n",
    "import matplotlib.pyplot as plt\n",
    "\n",
    "import cartopy\n",
    "import pyleoclim as pyleo"
   ]
  },
  {
   "cell_type": "markdown",
   "metadata": {
    "execution": {}
   },
   "source": [
    "## Plotting the LR04 δ18O benthic stack\n",
    "\n",
    "We will be analyzing a δ18O data from [Lisiecki, L. E., and Raymo, M. E. (2005)](https://agupubs.onlinelibrary.wiley.com/doi/full/10.1029/2004PA001071), A Pliocene-Pleistocene stack of 57 globally distributed records of δ18O from benthic foraminifera. As we learned from the introductory video, δ18O of foraminifera records temperature due to difference in the isotopic composition of the ocean during glacial and interglacial periods. The δ18O of the ocean (and forams) is more depleted during interglacials and more enriched during glacials."
   ]
  },
  {
   "cell_type": "markdown",
   "metadata": {
    "execution": {}
   },
   "source": [
    "Let's start by importing the data:"
   ]
  },
  {
   "cell_type": "code",
   "execution_count": null,
   "metadata": {
    "execution": {},
    "executionInfo": {
     "elapsed": 388,
     "status": "ok",
     "timestamp": 1681085788186,
     "user": {
      "displayName": "Sloane Garelick",
      "userId": "04706287370408131987"
     },
     "user_tz": 240
    }
   },
   "outputs": [],
   "source": [
    "# Donwload the data\n",
    "data_path = pooch.retrieve(\n",
    "    'https://raw.githubusercontent.com/LinkedEarth/PyleoTutorials/main/data/LR04.csv',\n",
    "    known_hash=None\n",
    ")\n",
    "lr04_data = pd.read_csv(data_path, skiprows=4)\n",
    "lr04_data.head()"
   ]
  },
  {
   "cell_type": "markdown",
   "metadata": {
    "execution": {}
   },
   "source": [
    "We can now create a `Series` object containing the data:"
   ]
  },
  {
   "cell_type": "code",
   "execution_count": null,
   "metadata": {
    "execution": {}
   },
   "outputs": [],
   "source": [
    "ts_lr04 = pyleo.Series(\n",
    "    time=lr04_data['Time (ka)'],\n",
    "    value=lr04_data['Benthic d18O (per mil)  '],\n",
    "    time_name='Age',\n",
    "    time_unit='kyr BP',\n",
    "    value_name='Benthic d18O (per mil)',\n",
    "    value_unit=u'\\u2030',\n",
    "    label='LR04'\n",
    ")"
   ]
  },
  {
   "cell_type": "markdown",
   "metadata": {
    "execution": {}
   },
   "source": [
    "This record spans the past 5 million years (5,000 kyr), but we're going to focus in on the past 1 million years (1,000 kyr), so let's create a time slice of just this time period, and plot the time series."
   ]
  },
  {
   "cell_type": "code",
   "execution_count": null,
   "metadata": {
    "execution": {},
    "executionInfo": {
     "elapsed": 1136,
     "status": "ok",
     "timestamp": 1681085794552,
     "user": {
      "displayName": "Sloane Garelick",
      "userId": "04706287370408131987"
     },
     "user_tz": 240
    }
   },
   "outputs": [],
   "source": [
    "lr04_slice = ts_lr04.slice([0,1000])\n",
    "fig, ax = lr04_slice.plot(legend=False, invert_yaxis=True)"
   ]
  },
  {
   "cell_type": "markdown",
   "metadata": {
    "execution": {}
   },
   "source": [
    "What patterns do you observe in the record? \n",
    "\n",
    "\n",
    "*   Does the amplitude of the glacial-interglacial cycles vary over time?\n",
    "*   At what frequency do these glacial-interglacial cycles occur?\n",
    "\n",
    "We can visually assess the duration of each cycle by just looking at the time series but to better assess the dominant temporal patterns in this record, we can use spectral analysis. As we learned in the introductory video, spectral analysis is a useful data analysis tool in paleoclimate because it allows us to discover underlying periodicities in time series data and can help to establish quantitative relationships between forcing and climate change.\n",
    "\n",
    "Let's explore various spectral analysis methods and apply them to the LR04 record to interpret changes in the frequency of glacial-interglacial cycles."
   ]
  },
  {
   "cell_type": "markdown",
   "metadata": {
    "execution": {}
   },
   "source": [
    "\n",
    "##Spectral analysis of the LRO4 δ18O benthic stack\n",
    "\n",
    "Pyleoclim enables five spectral analysis methods:\n",
    "\n",
    "\n",
    "*   **Basic Periodogram**, which uses a Fourier transform. The method has various windowing available to reduce variance.\n",
    "*  **Welch's periodogram**, a variant of the basic periodogram, which uses Welch's method of overlapping segments. The periodogram is computed on each segment and averaged together\n",
    "*   **Multi-taper method (MTM)**, which attempts to reduce the variance of spectral estimates by using a small set of tapers rather than the unique data taper or spectral window\n",
    "*   **Lomb-Scargle periodogram**, an inverse approach designed for unevenly-spaced datasets. Several windows are available and Welch's segmentation can also be used with this method.\n",
    "*   **Weighted wavelet Z-transform**, a wavelet-based method also made for unevenly-spaced datasets.\n",
    "\n",
    "\n",
    "All of these methods are available through Series.spectral by changing the method argument. In this tutorial, we'll focus on Lomb-Scargle and Weighted wavelet Z-transform in more detail. For additional information on the other methods, refer to this notebook from [Pyleoclim](https://https://github.com/LinkedEarth/PyleoTutorials/blob/main/notebooks/L2_spectral_analysis.ipynb).\n",
    "\n",
    "\n",
    "\n"
   ]
  },
  {
   "cell_type": "code",
   "execution_count": null,
   "metadata": {
    "execution": {}
   },
   "outputs": [],
   "source": [
    "#Standardize and interpolate the data\n",
    "lr04_stnd = lr04_slice.interp(step=0.5).standardize() # save it for future use"
   ]
  },
  {
   "cell_type": "code",
   "execution_count": null,
   "metadata": {
    "execution": {}
   },
   "outputs": [],
   "source": [
    "#Calculate the Lomb-Scargle spectral analysis\n",
    "lr04_ls = lr04_stnd.spectral(method='lomb_scargle', freq_method='lomb_scargle')"
   ]
  },
  {
   "cell_type": "code",
   "execution_count": null,
   "metadata": {
    "execution": {},
    "executionInfo": {
     "elapsed": 1084,
     "status": "ok",
     "timestamp": 1681085815106,
     "user": {
      "displayName": "Sloane Garelick",
      "userId": "04706287370408131987"
     },
     "user_tz": 240
    }
   },
   "outputs": [],
   "source": [
    "#Plot Lomb-Scargle results\n",
    "lr04_ls.plot()\n",
    "plt.xlim([1000, 5])\n",
    "plt.ylim([0.001, 1000])"
   ]
  },
  {
   "cell_type": "code",
   "execution_count": null,
   "metadata": {
    "execution": {}
   },
   "outputs": [],
   "source": [
    "#Calculate the Weighted wavelet Z-transform spectral analysis\n",
    "lr04_wwz = lr04_stnd.spectral(method='wwz')"
   ]
  },
  {
   "cell_type": "code",
   "execution_count": null,
   "metadata": {
    "execution": {},
    "executionInfo": {
     "elapsed": 1937,
     "status": "ok",
     "timestamp": 1680893305173,
     "user": {
      "displayName": "Sloane Garelick",
      "userId": "04706287370408131987"
     },
     "user_tz": 240
    }
   },
   "outputs": [],
   "source": [
    "#Plot Weighted wavelet Z-transform results\n",
    "lr04_wwz.plot()\n",
    "plt.xlim([200, 5])\n",
    "plt.ylim([0.001, 1000])"
   ]
  },
  {
   "cell_type": "markdown",
   "metadata": {
    "execution": {}
   },
   "source": [
    "Performing both spectral analysis methods involved three commands: \n",
    "\n",
    "\n",
    "1.   Standardizing and intrpolating the data \n",
    "2.   Computing the spectrum\n",
    "3.   Storing this output in a variable and plot the results\n",
    "\n",
    "\n",
    "There are few peak that seem more dominant than others, but which of these peaks are significant? To figure that out, we can use the method `signif_test`. The test with `number=50`, the code would take ~20 minutes to run, so just as an example, we will use `number=5`, which should only take ~2 minutes to run."
   ]
  },
  {
   "cell_type": "code",
   "execution_count": null,
   "metadata": {
    "execution": {},
    "executionInfo": {
     "elapsed": 81823,
     "status": "ok",
     "timestamp": 1680893282423,
     "user": {
      "displayName": "Sloane Garelick",
      "userId": "04706287370408131987"
     },
     "user_tz": 240
    }
   },
   "outputs": [],
   "source": [
    "lr04_wwz_sig = lr04_wwz.signif_test(number=5)"
   ]
  },
  {
   "cell_type": "code",
   "execution_count": null,
   "metadata": {
    "execution": {},
    "executionInfo": {
     "elapsed": 175,
     "status": "ok",
     "timestamp": 1680893288630,
     "user": {
      "displayName": "Sloane Garelick",
      "userId": "04706287370408131987"
     },
     "user_tz": 240
    }
   },
   "outputs": [],
   "source": [
    "lr04_wwz_sig.plot()\n",
    "plt.xlabel('Period [kyrs]')"
   ]
  },
  {
   "cell_type": "markdown",
   "metadata": {
    "execution": {}
   },
   "source": [
    "The peaks above the 95% treshold (the red dashed line) are significant. If we were to use `number=50` instead, the AR(1) simulations and 95% threshold would be more precise. Rather than running this code with `number=50`, we can download the results from a previously run `signif_test` with `number=50`: "
   ]
  },
  {
   "cell_type": "code",
   "execution_count": null,
   "metadata": {
    "execution": {}
   },
   "outputs": [],
   "source": [
    "fname = 'lr04_wwz_sig.csv'\n",
    "import os, requests\n",
    "url = \"https://osf.io/wm6p8/download/\"\n",
    "if not os.path.isfile(fname):\n",
    "  try:\n",
    "    r = requests.get(url)\n",
    "  except requests.ConnectionError:\n",
    "    print(\"!!! Failed to download data !!!\")\n",
    "  else:\n",
    "    if r.status_code != requests.codes.ok:\n",
    "      print(\"!!! Failed to download data !!!\")\n",
    "    else:\n",
    "      print(f\"Downloading {fname}...\")\n",
    "      with open(fname, \"wb\") as fid:\n",
    "        fid.write(r.content)\n",
    "      print(f\"Download {fname} completed!\")\n",
    "\n",
    "lr04_wwz_sig_results = pd.read_csv(fname)"
   ]
  },
  {
   "cell_type": "markdown",
   "metadata": {
    "execution": {}
   },
   "source": [
    "The data we just downloaded and stored in the variable `lr04_wwz_sig_results` contains the significant values of the spectral analysis of the LR04 data. We can now create the same plot of spectral power, but with only the significant values. \n",
    "\n",
    "NOTE: For this figure, we will plot that the x-axis a bit differently. In the previous plot, the x-axis was the \"period\" but this time the x-axis will be \"frequency\", which is the inverse of the period. Both period and frequency represent the same time intervals, just in different units."
   ]
  },
  {
   "cell_type": "code",
   "execution_count": null,
   "metadata": {
    "execution": {},
    "executionInfo": {
     "elapsed": 722,
     "status": "ok",
     "timestamp": 1680891379240,
     "user": {
      "displayName": "Sloane Garelick",
      "userId": "04706287370408131987"
     },
     "user_tz": 240
    }
   },
   "outputs": [],
   "source": [
    "plt.plot(lr04_wwz_sig_results['Frequency'],lr04_wwz_sig_results['Amplitude'])\n",
    "plt.xlim([0.005, 0.07])\n",
    "plt.ylim([0, 100])\n",
    "plt.xlabel('Frequency [1/kyr]')\n",
    "plt.ylabel('Spectra Amplitude')"
   ]
  },
  {
   "cell_type": "markdown",
   "metadata": {
    "execution": {}
   },
   "source": [
    "The largest spectral powers in the data occur at a frequencies of ~0.01 and ~0.025, as well as a smaller peak at ~0.042, which correspond to 100 kyr, 23 kyr, and 40 kyr, respectively. Do those periodicities sound familiar? \n",
    "\n",
    "These are the cycles of eccentricity, obliquity and precession, which control variations in solar insolation and the glacial-interglacial cycles! The presence of spectral powers in the LR04 data at the eccentricity, obliquity and precession frequencies highlight the influence of orbital forcings on glacial-interglacial cycles."
   ]
  },
  {
   "cell_type": "markdown",
   "metadata": {
    "execution": {}
   },
   "source": [
    "\n",
    "##Wavelet Analysis\n",
    "\n",
    "Another related tool we can use to learn more about the climate variations recorded is the data is wavelet analysis. This method allows us to  \"unfold\" a spectrum and look at its evolution over time. In other words, wavelet analysis can help us determine changes in the spectral power over time. \n",
    "\n",
    "There are several ways to access that functionality in Pyleoclim, but here we use summary_plot, which stacks together the timeseries itself, its scalogram (a plot of the magnitude of the wavelet power), and the power spectral density (PSD) obtained from summing the wavelet coefficients over time.\n"
   ]
  },
  {
   "cell_type": "code",
   "execution_count": null,
   "metadata": {
    "execution": {}
   },
   "outputs": [],
   "source": [
    "scal = lr04_stnd.wavelet()"
   ]
  },
  {
   "cell_type": "code",
   "execution_count": null,
   "metadata": {
    "execution": {},
    "executionInfo": {
     "elapsed": 1623,
     "status": "ok",
     "timestamp": 1680893485411,
     "user": {
      "displayName": "Sloane Garelick",
      "userId": "04706287370408131987"
     },
     "user_tz": 240
    }
   },
   "outputs": [],
   "source": [
    "lr04_stnd.summary_plot(psd=lr04_wwz_sig,scalogram=scal,time_lim=[0,1000],psd_label='Amplitude')\n",
    "#plt.xlim([0,3000])"
   ]
  },
  {
   "cell_type": "markdown",
   "metadata": {
    "execution": {}
   },
   "source": [
    "In this wavelet spectrum, the age of the record is on the x-axis, the period is on the y-axis, and the color represents the amplitude of that power spectrum, with yellow indicating a stronger power spectrum and purple indicating a weaker power spectrum. The time series on top is the original LR04 d18O data, and the time series on the right is the spectral analysis and significant test figure we looked at earlier.\n",
    "\n",
    "As we saw in the spectral analysis above, the 100 kyr and 40 kyr period are the most dominant. Here, we further see that over the past 1 million years, the 100 kyr cycle is the strongest (as seen by the yellow color at the 100 kyr scale), followed by the 40 kyr cycle (as seen by the light purple color at the 40 kyr scale). You may notice an absence of much color at the 23 kyr scale. What does this suggest about the influence of precession on glacial-interglacial cycles on this timescale?"
   ]
  }
 ],
 "metadata": {
  "colab": {
   "collapsed_sections": [],
   "include_colab_link": true,
   "name": "W1D4_Tutorial6",
   "provenance": [
    {
     "file_id": "1lHxPiW5pAZnz1G_A4X6vods12ol89pRP",
     "timestamp": 1680556755464
    },
    {
     "file_id": "1lHuVrVtAW4fQzc0dFdlZuwY0i71KWw_t",
     "timestamp": 1677637469824
    }
   ],
   "toc_visible": true
  },
  "kernel": {
   "display_name": "Python 3",
   "language": "python",
   "name": "python3"
  },
  "kernelspec": {
   "display_name": "Python 3",
   "name": "python3"
  },
  "language_info": {
   "codemirror_mode": {
    "name": "ipython",
    "version": 3
   },
   "file_extension": ".py",
   "mimetype": "text/x-python",
   "name": "python",
   "nbconvert_exporter": "python",
   "pygments_lexer": "ipython3",
   "version": "3.10.10"
  }
 },
 "nbformat": 4,
 "nbformat_minor": 0
}