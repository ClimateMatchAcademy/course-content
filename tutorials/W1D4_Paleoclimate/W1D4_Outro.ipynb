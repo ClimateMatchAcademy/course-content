{
 "cells": [
  {
   "cell_type": "markdown",
   "id": "7a9918b3",
   "metadata": {},
   "source": [
    "# Outro"
   ]
  },
  {
   "cell_type": "markdown",
   "id": "17107c4e",
   "metadata": {},
   "source": [
    "As you learned through these tutorials, past climate states can serve as analogs for future warming on Earth and can help to assess future changes in the climate system. Paleoclimate proxies and models can help us understand these past variations in Earth’s climate. In the next tutorial, you’ll learn more about climate models, but in the context of modern and future climate change.\n"
   ]
  }
 ],
 "metadata": {
  "kernelspec": {
   "display_name": "climatematch",
   "language": "python",
   "name": "climatematch"
  },
  "language_info": {
   "codemirror_mode": {
    "name": "ipython",
    "version": 3
   },
   "file_extension": ".py",
   "mimetype": "text/x-python",
   "name": "python",
   "nbconvert_exporter": "python",
   "pygments_lexer": "ipython3",
   "version": "3.10.11"
  }
 },
 "nbformat": 4,
 "nbformat_minor": 5
}
