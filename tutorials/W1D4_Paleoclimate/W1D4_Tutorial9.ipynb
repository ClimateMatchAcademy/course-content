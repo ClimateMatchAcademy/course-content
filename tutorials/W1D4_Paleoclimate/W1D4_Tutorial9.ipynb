{
 "cells": [
  {
   "cell_type": "markdown",
   "metadata": {
    "execution": {}
   },
   "source": [
    "# **Tutorial 9: Paleoclimate Data Assimilation**\n",
    "**Week 1, Day 4, Paleoclimate**\n",
    "\n",
    "**Content creators:** Sloane Garelick\n",
    "\n",
    "**Content reviewers:** Brodie Pearson\n",
    "\n",
    "**Content editors:** Agustina Pesce\n",
    "\n",
    "**Production editors:** TBD\n",
    "\n",
    "**Our 2023 Sponsors:** TBD"
   ]
  },
  {
   "attachments": {},
   "cell_type": "markdown",
   "metadata": {
    "execution": {}
   },
   "source": [
    "### **Code and Data Sources**\n",
    "\n",
    "The code for this notebook is based on [code available from Erb et al. (2022)](https://github.com/Holocene-Reconstruction/Holocene-code) and workflow presented during the [Paleoclimate Data Assimilation Workshop 2022](https://github.com/michaelerb/da-workshop).\n",
    "\n",
    "Data from the following sources are used in this tutorial:\n",
    "\n",
    "*   Matthew B. Osman, Jessica E. Tierney, Jiang Zhu, Robert Tardif, Gregory J. Hakim, Jonathan King, Christopher J. Poulsen. 2021. Globally resolved surface temperatures since the Last Glacial Maximum. Nature, 599, 239-244. http://doi.org/10.1038/s41586-021-03984-4.\n",
    "*   King, J. M., Tierney, J., Osman, M., Judd, E. J., & Anchukaitis, K. J. (2023). DASH: A MATLAB Toolbox for Paleoclimate Data Assimilation. Geoscientific Model Development, preprint. https://doi.org/10.5194/egusphere-2023-68.\n",
    "\n",
    "\n",
    "\n",
    "\n",
    "\n",
    "\n",
    "\n",
    "\n",
    "\n",
    "\n",
    "\n",
    "\n",
    "\n",
    "\n",
    "\n",
    "\n",
    "\n"
   ]
  },
  {
   "attachments": {},
   "cell_type": "markdown",
   "metadata": {
    "execution": {}
   },
   "source": [
    "# **Tutorial 9 Objectives**\n",
    "\n",
    "As we discussed in the video, proxies and models both have advantages and limitations for reconstructing past changes in earth's climate system. One approach for combining the strengths of both paleoclimate proxies and models is data assimilation. In this tutorial, we'll look at paleoclimate reconstructions that were made with data assimilation. The specific reconstruction we'll be analyzing is the Last Glacial Maximum reanalysis (LGMR) from [Osman et al. (2021)](https://www.nature.com/articles/s41586-021-03984-4), which contains temperature and δ<sup>18</sup>O data for the past 24,000 years.\n",
    "\n",
    "\n",
    "During this tutorial you will:\n",
    "\n",
    "*   Plot a time series of a paleoclimate data assimilation reconstruction\n",
    "*   Create global maps and zonal mean plots of temperature anomalies \n",
    "*   Assess how and why LGM to present temperature anomalies vary with latitude\n",
    "\n",
    "\n",
    "\n",
    "\n"
   ]
  },
  {
   "cell_type": "code",
   "execution_count": null,
   "metadata": {
    "execution": {},
    "executionInfo": {
     "elapsed": 104330,
     "status": "ok",
     "timestamp": 1681256668074,
     "user": {
      "displayName": "Brodie Pearson",
      "userId": "05269028596972519847"
     },
     "user_tz": 420
    },
    "tags": [
     "colab"
    ]
   },
   "outputs": [],
   "source": [
    "# # Install libraries\n",
    "# !pip install --no-binary shapely shapely --force #this allows us to load cartopy\n",
    "# !pip install cartopy\n",
    "# !pip install pooch\n",
    "# !pip install xarray"
   ]
  },
  {
   "cell_type": "code",
   "execution_count": null,
   "metadata": {
    "execution": {}
   },
   "outputs": [],
   "source": [
    "# Import libraries\n",
    "import pooch\n",
    "import numpy as np\n",
    "import xarray as xr\n",
    "import matplotlib.pyplot as plt\n",
    "\n",
    "import cartopy.crs as ccrs\n",
    "import cartopy.util as cutil"
   ]
  },
  {
   "attachments": {},
   "cell_type": "markdown",
   "metadata": {
    "execution": {}
   },
   "source": [
    "### Load the LGMR paleoclimate data assimilation reconstruction\n",
    "\n",
    "This dataset contains reconstructions of surface air temperature (SAT), δ<sup>18</sup>O, and global mean surface temperature (GMST). This data spans the past 24,000 years. The period of time from ~24,000 to 19,000 years ago is referred to as the Last Glacial Maximum (LGM). The LGM was the most recent glacial period in Earth's history. During this time, northern hemisphere ice sheets were larger, global sea level was lower, atmospheric CO<sub>2</sub> was lower and global temperature were cooler. \n",
    "\n",
    "\n",
    "We will calculate the LGM to present global mean temperature from a paleoclimate data assimilation to asses how Earth's climate varied over the past 24,000 uyear.\n",
    "\n",
    "First let's download the paleoclimate data assimilation reconstruction for surface air temperature (SAT). "
   ]
  },
  {
   "cell_type": "code",
   "execution_count": null,
   "metadata": {
    "execution": {},
    "executionInfo": {
     "elapsed": 1997,
     "status": "ok",
     "timestamp": 1681256682525,
     "user": {
      "displayName": "Brodie Pearson",
      "userId": "05269028596972519847"
     },
     "user_tz": 420
    }
   },
   "outputs": [],
   "source": [
    "data_path= pooch.retrieve(\n",
    "  url=\"https://www.ncei.noaa.gov/pub/data/paleo/reconstructions/osman2021/LGMR_SAT_climo.nc\",\n",
    "  known_hash=None,\n",
    ")\n",
    "\n",
    "dataset = xr.open_dataset(data_path)"
   ]
  },
  {
   "attachments": {},
   "cell_type": "markdown",
   "metadata": {
    "execution": {}
   },
   "source": [
    "### Plotting a **time series** of the paleoclimate data assimilation\n",
    "\n",
    "Now that the data is loaded, we can plot a time series of the temperature data to beginning to assess global changes. However, the dimensions of the `sat_mean` variable are age-lat-lon, so we first need to calculate a global mean."
   ]
  },
  {
   "cell_type": "code",
   "execution_count": null,
   "metadata": {
    "execution": {},
    "executionInfo": {
     "elapsed": 143,
     "status": "ok",
     "timestamp": 1681256741486,
     "user": {
      "displayName": "Brodie Pearson",
      "userId": "05269028596972519847"
     },
     "user_tz": 420
    }
   },
   "outputs": [],
   "source": [
    "# Calculate the global mean surface temperature\n",
    "tas_global_mean = dataset.sat.mean(dim=['lat', 'lon'])\n",
    "tas_global_mean"
   ]
  },
  {
   "attachments": {},
   "cell_type": "markdown",
   "metadata": {
    "execution": {}
   },
   "source": [
    "Now that we calculated our global mean, we can plot the results as a time series to assess global changes in temperature over the past 24,000 years:"
   ]
  },
  {
   "cell_type": "code",
   "execution_count": null,
   "metadata": {
    "execution": {},
    "executionInfo": {
     "elapsed": 559,
     "status": "ok",
     "timestamp": 1681256745162,
     "user": {
      "displayName": "Brodie Pearson",
      "userId": "05269028596972519847"
     },
     "user_tz": 420
    }
   },
   "outputs": [],
   "source": [
    "# Plot the global mean surface temperature since the LGM\n",
    "f,ax1 = plt.subplots(1, 1, figsize=(12,6))\n",
    "ax1.plot(dataset['age'], tas_global_mean, linewidth=3)\n",
    "\n",
    "ax1.set_xlim(dataset['age'].max().values, dataset['age'].min().values)\n",
    "ax1.set_ylabel('$\\Delta$T ($^\\circ$C)', fontsize=16)\n",
    "ax1.set_xlabel('Age (yr BP)', fontsize=16)\n",
    "ax1.set_title(\n",
    "  f'Mean $\\Delta$T ($^\\circ$C) for LGMR, region: {region}',\n",
    "  fontsize=18,\n",
    "  loc='center'\n",
    ")\n",
    "plt.show()"
   ]
  },
  {
   "cell_type": "markdown",
   "metadata": {
    "execution": {}
   },
   "source": [
    "Consider the following questions:\n",
    "\n",
    "\n",
    "*   How has global temperature varied over the past 24,000 years?\n",
    "*   What climate forcings may have contributed to the increase in temperature ~17,000 years ago? \n",
    "\n"
   ]
  },
  {
   "attachments": {},
   "cell_type": "markdown",
   "metadata": {
    "execution": {}
   },
   "source": [
    "### Plotting a **temperature anomaly map** of the paleoclimate data assimilation\n",
    "\n",
    "Data assimilation creates spatial reconstructions, so we can also make figures showing spatial temperature anomalies for different time periods (i.e., the change in temperature between two specified times). The anomaly that we'll interpret is the difference between global temperature from 20,5000 to 21,500 years ago (i.e. \"LGM\") and 0 to 1,000 years ago (i.e. \"modern\") . First, we'll calculate the average temperatures for each time period."
   ]
  },
  {
   "cell_type": "code",
   "execution_count": null,
   "metadata": {},
   "outputs": [],
   "source": [
    "#Calculate the LGM (21,500-20,500 year) mean temperature\n",
    "lgm = dataset.sel(\n",
    "    age=slice('20500', '21500'),lon=slice(0, 357.5), lat=slice(-90, 90)\n",
    ")\n",
    "lgm_mean = lgm.mean(dim='age')\n",
    "\n",
    "#Calculate the \"modern\" (0-1000 year) mean temperature\n",
    "modern = dataset.sel(\n",
    "    age=slice('0', '1000'),lon=slice(0, 357.5), lat=slice(-90, 90)\n",
    ")\n",
    "modern_mean = modern.mean(dim='age')"
   ]
  },
  {
   "attachments": {},
   "cell_type": "markdown",
   "metadata": {},
   "source": [
    "Now we can calculate the anomaly and create a map to visualized the change in temperature from the LGM to present in different parts on Earth."
   ]
  },
  {
   "cell_type": "code",
   "execution_count": null,
   "metadata": {},
   "outputs": [],
   "source": [
    "sat_change = lgm_mean-modern_mean"
   ]
  },
  {
   "cell_type": "code",
   "execution_count": null,
   "metadata": {},
   "outputs": [],
   "source": [
    "# Make a map of changes\n",
    "plt.figure(figsize=(12,8))\n",
    "ax = plt.axes(projection=ccrs.Robinson())\n",
    "ax.set_global()\n",
    "sat_change.sat.plot(\n",
    "    ax=ax,\n",
    "    transform=ccrs.PlateCarree(), x=\"lon\", y=\"lat\", \n",
    "    cbar_kwargs={'orientation': 'horizontal', 'label':'$\\Delta$T ($^\\circ$C)'}\n",
    ")\n",
    "ax.coastlines()\n",
    "ax.set_title(\n",
    "    f'$\\Delta$T ($^\\circ$C) for LGMR, ages: anom = {ages_anom}, ref = {ages_ref}',\n",
    "    loc='center',\n",
    "    fontsize=16\n",
    ")\n",
    "ax.gridlines(color='k',linewidth=1,linestyle=(0,(1,5)))\n",
    "ax.spines['geo'].set_edgecolor('black')\n",
    "plt.show()"
   ]
  },
  {
   "attachments": {},
   "cell_type": "markdown",
   "metadata": {},
   "source": [
    "Before we interpret this data, another useful way to visualize this data is through a plot of zonal mean temperature (the average temperature for all locations at a single latitude). Once we calculate this zonal mean, we can create a plot of LGM to present temperature anomalies versus latitude."
   ]
  },
  {
   "cell_type": "code",
   "execution_count": null,
   "metadata": {},
   "outputs": [],
   "source": [
    "zonal_mean = sat_change.sat.mean(dim='lon')\n",
    "latitude = dataset.lat"
   ]
  },
  {
   "cell_type": "code",
   "execution_count": null,
   "metadata": {},
   "outputs": [],
   "source": [
    "# Make a zonal mean figure of the changes\n",
    "fig, ax1 = plt.subplots(1, 1)\n",
    "plt.plot(zonal_mean,latitude)\n",
    "ax1.axvline(x=0,color='gray',alpha=1,linestyle=':',linewidth=2)\n",
    "ax1.set_ylim(-90, 90)\n",
    "ax1.set_xlabel('$\\Delta$T ($^\\circ$C)')\n",
    "ax1.set_ylabel('Latitude ($^\\circ$)')\n",
    "ax1.set_title(\n",
    "    f'Zonal-mean $\\Delta$T ($^\\circ$C), ages: anom = {ages_anom}, ref = {ages_ref}',\n",
    "    loc='center',\n",
    "    )\n",
    "plt.show()"
   ]
  },
  {
   "attachments": {},
   "cell_type": "markdown",
   "metadata": {
    "execution": {}
   },
   "source": [
    "Looking at both the map and zonal mean plot, consider the following questions: \n",
    "\n",
    "*   How does the temperature anomaly vary with latitude?\n",
    "*   What forcings and processes may cause the spatial patterns in temperature change since the LGM?\n",
    "*   Where was the largest temperature change? Why might this region region have undergone the largest temperature change during this time?"
   ]
  }
 ],
 "metadata": {
  "colab": {
   "collapsed_sections": [],
   "include_colab_link": true,
   "name": "W1D4_Tutorial9",
   "provenance": [],
   "toc_visible": true
  },
  "kernel": {
   "display_name": "Python 3",
   "language": "python",
   "name": "python3"
  },
  "kernelspec": {
   "display_name": "Python 3",
   "name": "python3"
  },
  "language_info": {
   "codemirror_mode": {
    "name": "ipython",
    "version": 3
   },
   "file_extension": ".py",
   "mimetype": "text/x-python",
   "name": "python",
   "nbconvert_exporter": "python",
   "pygments_lexer": "ipython3",
   "version": "3.10.10"
  }
 },
 "nbformat": 4,
 "nbformat_minor": 0
}
