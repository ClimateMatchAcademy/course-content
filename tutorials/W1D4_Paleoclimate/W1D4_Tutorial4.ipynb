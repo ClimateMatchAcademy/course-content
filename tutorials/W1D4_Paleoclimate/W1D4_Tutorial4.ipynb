{
 "cells": [
  {
   "cell_type": "markdown",
   "metadata": {
    "execution": {}
   },
   "source": [
    "# **Tutorial 4: Reconstructing Past Changes in Atmospheric Climate**\n",
    "**Week 1, Day 4, Paleoclimate**\n",
    "\n",
    "**Content creators:** Sloane Garelick\n",
    "\n",
    "**Content reviewers:** Brodie Pearson\n",
    "\n",
    "**Content editors:** Yosmely Bermúdez\n",
    "\n",
    "**Production editors:** TBD\n",
    "\n",
    "**Our 2023 Sponsors:** TBD"
   ]
  },
  {
   "attachments": {},
   "cell_type": "markdown",
   "metadata": {
    "execution": {}
   },
   "source": [
    "## **Code and Data Sources**\n",
    "\n",
    "Code for this tutorial is based on an existing notebook from LinkedEarth that [explores EPICA Dome C paleoclimate records](https://github.com/LinkedEarth/PaleoBooks/blob/master/notebooks/EpicaDomeC_explore.ipynb). \n",
    "\n",
    "Data from the following sources are used in this tutorial:\n",
    "\n",
    "*   Jouzel, J., et al. Orbital and Millennial Antarctic Climate Variability over the Past 800,000 Years, Science (2007). https://doi.org/10.1126/science.1141038. \n",
    "*   Lüthi, D., Le Floch, M., Bereiter, B. et al. High-resolution carbon dioxide concentration record 650,000–800,000 years before present. Nature 453, 379–382 (2008). https://doi.org/10.1038/nature06949.\n",
    "*   Bereiter, B. et al., Revision of the EPICA Dome C CO<sub>2</sub> record from 800 to 600 kyr before present, Geoph. Res. Let. (2014).  https://doi.org/10.1002/2014GL061957. \n",
    "\n",
    "\n",
    "\n",
    "\n",
    "\n",
    "\n",
    "\n",
    "\n",
    "\n",
    "\n",
    "\n",
    "\n",
    "\n"
   ]
  },
  {
   "attachments": {},
   "cell_type": "markdown",
   "metadata": {
    "execution": {}
   },
   "source": [
    "# **Tutorial 4 Objectives**\n",
    "\n",
    "In this tutorial, we’ll analyze δD and atmospheric CO<sub>2</sub> data from the EPICA Dome C ice core. Recall from the video that δD and δ<sup>18</sup>O measurements on ice cores records past changes in temperature, and that measurements of CO<sub>2</sub> trapped in ice cores can be used to reconstruction past changes in Earth's atmospheric composition.\n",
    "\n",
    "\n",
    "By the end of this tutorial you will be able to:\n",
    "\n",
    "*   Plot δD and CO<sub>2</sub> records from the EPICA Dome C ice core\n",
    "*   Assess changes in temperature and atmospheric greenhouse gas concentration over the past 800,000 years \n",
    "\n",
    "\n"
   ]
  },
  {
   "cell_type": "code",
   "execution_count": null,
   "metadata": {
    "execution": {},
    "executionInfo": {
     "elapsed": 75010,
     "status": "ok",
     "timestamp": 1680728852965,
     "user": {
      "displayName": "Brodie Pearson",
      "userId": "05269028596972519847"
     },
     "user_tz": 420
    },
    "tags": [
     "colab"
    ]
   },
   "outputs": [],
   "source": [
    "# # Install libraries\n",
    "# !pip install pandas\n",
    "# !pip install pooch\n",
    "\n",
    "# !pip install cartopy\n",
    "# !pip install Pyleoclim"
   ]
  },
  {
   "cell_type": "code",
   "execution_count": null,
   "metadata": {
    "execution": {}
   },
   "outputs": [],
   "source": [
    "# Import libraries\n",
    "import pandas as pd\n",
    "import pooch\n",
    "import pyleoclim as pyleo"
   ]
  },
  {
   "attachments": {},
   "cell_type": "markdown",
   "metadata": {
    "execution": {}
   },
   "source": [
    "## Exploring past variations in atmospheric CO<sub>2</sub>\n",
    "\n",
    "As we learned in the video, paleoclimatologists can reconstruct past changes in atmospheric composition by measuring gases trapped in layers of ice from ice cores retrieved from polar regions and high elevation mountain glaciers. We'll specifically be focusing on paleoclimate records produced from the EPICA Dome C ice core from Antarctica.\n",
    "\n",
    "Let's start by downloading the data for the composite CO<sub>2</sub> record for EPICA Dome C in Antarctica:"
   ]
  },
  {
   "cell_type": "code",
   "execution_count": null,
   "metadata": {
    "execution": {},
    "executionInfo": {
     "elapsed": 853,
     "status": "ok",
     "timestamp": 1680729021239,
     "user": {
      "displayName": "Brodie Pearson",
      "userId": "05269028596972519847"
     },
     "user_tz": 420
    }
   },
   "outputs": [],
   "source": [
    "# Donwload the data using the url\n",
    "data_path = pooch.retrieve(\n",
    "    url='https://www.ncei.noaa.gov/pub/data/paleo/icecore/antarctica/antarctica2015co2composite.txt',\n",
    "    known_hash=None\n",
    ")\n",
    "co2df = pd.read_csv(data_path, skiprows=137, sep='\\t')\n",
    "\n",
    "co2df.head()"
   ]
  },
  {
   "cell_type": "markdown",
   "metadata": {
    "execution": {}
   },
   "source": [
    "Next, we can store this data as a `Series` in Pyleoclim:"
   ]
  },
  {
   "cell_type": "code",
   "execution_count": null,
   "metadata": {
    "execution": {}
   },
   "outputs": [],
   "source": [
    "ts_co2 = pyleo.Series(\n",
    "    time=co2df['age_gas_calBP']/1000,\n",
    "    value=co2df['co2_ppm'],\n",
    "    time_name='Age',\n",
    "    time_unit='kyr BP',\n",
    "    value_name = r'$CO_2$',\n",
    "    value_unit='ppm',\n",
    "    label='EPICA Dome C CO2'\n",
    ")"
   ]
  },
  {
   "attachments": {},
   "cell_type": "markdown",
   "metadata": {
    "execution": {}
   },
   "source": [
    "We can now plot age vs. CO<sub>2</sub> from EPICA Dome C:"
   ]
  },
  {
   "cell_type": "code",
   "execution_count": null,
   "metadata": {
    "execution": {},
    "executionInfo": {
     "elapsed": 800,
     "status": "ok",
     "timestamp": 1680729048261,
     "user": {
      "displayName": "Brodie Pearson",
      "userId": "05269028596972519847"
     },
     "user_tz": 420
    }
   },
   "outputs": [],
   "source": [
    "ts_co2.plot(color='C1')"
   ]
  },
  {
   "attachments": {},
   "cell_type": "markdown",
   "metadata": {
    "execution": {}
   },
   "source": [
    "Notice that the x-axis is plotted with present-day (0 kyr) on the left and the past (800 kyr) on the right. This is a common practice when plotting paleoclimate time series data.\n",
    "\n",
    "What do you observe about the changes in CO<sub>2</sub> over the past 800,000 years? \n",
    "\n",
    "*   What might be causing this pattern?\n",
    "*   Why is there a rapid increase in CO<sub>2</sub> in the very recent past (i.e., the past ~1,000 years)? "
   ]
  },
  {
   "attachments": {},
   "cell_type": "markdown",
   "metadata": {
    "execution": {}
   },
   "source": [
    "## Exploring the relationship between δD and atmospheric CO<sub>2</sub>\n",
    "\n",
    "These changes in CO<sub>2</sub> are tracking glacial-interglacial cycles (Ice Ages) over the past 800,000 years. Recall that these Ice Ages occur as a result of changes in the orbital cycles of Earth: eccentricity (100,000 year cycle), obliquity (40,000 year cycle) and precession (21,000 year cycle)."
   ]
  },
  {
   "attachments": {},
   "cell_type": "markdown",
   "metadata": {
    "execution": {}
   },
   "source": [
    "\n",
    "To further investigate the relationship between glacial cycles, atmospheric CO<sub>2</sub> and temperature, we can compare CO<sub>2</sub> to a hydrogen isotopic values (δD) of ice cores, which is a proxy for temperature in this case. Remember, when interpreting isotopic measurements of ice cores, a more depleted δD value indicates cooler temperatures, and a more enriched δD value indicates warmer temperatures.\n",
    "\n",
    "Let's download the EPICA Dome C δD data, store is as a `Series`, and plot the data:"
   ]
  },
  {
   "cell_type": "code",
   "execution_count": null,
   "metadata": {
    "execution": {},
    "executionInfo": {
     "elapsed": 1120,
     "status": "ok",
     "timestamp": 1680729854978,
     "user": {
      "displayName": "Brodie Pearson",
      "userId": "05269028596972519847"
     },
     "user_tz": 420
    }
   },
   "outputs": [],
   "source": [
    "# Donwload the data using the url\n",
    "data_path = pooch.retrieve(\n",
    "    'https://www.ncei.noaa.gov/pub/data/paleo/icecore/antarctica/epica_domec/edc3deuttemp2007.txt',\n",
    "    known_hash=None\n",
    ")\n",
    "dDdf = pd.read_csv(\n",
    "    data_path,\n",
    "    skiprows=91,\n",
    "    encoding='unicode_escape',\n",
    "    sep=\"\\s+\"\n",
    ")\n",
    "# Remove nan values\n",
    "dDdf.dropna(inplace=True)\n",
    "\n",
    "dDdf.head()"
   ]
  },
  {
   "cell_type": "code",
   "execution_count": null,
   "metadata": {
    "execution": {}
   },
   "outputs": [],
   "source": [
    "dDts = pyleo.Series(\n",
    "    time=dDdf['Age']/1000,\n",
    "    value=dDdf['Deuterium'],\n",
    "    time_name='Age',\n",
    "    time_unit='kyr BP',\n",
    "    value_name=r'$\\delta D$',\n",
    "    value_unit=u'\\u2030',\n",
    "    label=r'EPICA Dome C $\\delta D$'\n",
    ")"
   ]
  },
  {
   "cell_type": "code",
   "execution_count": null,
   "metadata": {
    "execution": {},
    "executionInfo": {
     "elapsed": 588,
     "status": "ok",
     "timestamp": 1680729931069,
     "user": {
      "displayName": "Brodie Pearson",
      "userId": "05269028596972519847"
     },
     "user_tz": 420
    }
   },
   "outputs": [],
   "source": [
    "dDts.plot()"
   ]
  },
  {
   "attachments": {},
   "cell_type": "markdown",
   "metadata": {
    "execution": {}
   },
   "source": [
    "When we observe the δD data, we see very similar patterns as in the atmospheric CO<sub>2</sub> data. To more easily compare the two records, we can plot the two series side by side by putting them into a `MultipleSeries` object. Since the δD and CO<sub>2</sub> values have different units, we can first standardize the series and then plot the data. "
   ]
  },
  {
   "cell_type": "code",
   "execution_count": null,
   "metadata": {
    "execution": {},
    "executionInfo": {
     "elapsed": 690,
     "status": "ok",
     "timestamp": 1680730119909,
     "user": {
      "displayName": "Brodie Pearson",
      "userId": "05269028596972519847"
     },
     "user_tz": 420
    }
   },
   "outputs": [],
   "source": [
    "ms = pyleo.MultipleSeries([dDts,ts_co2])\n",
    "ms.standardize().plot()"
   ]
  },
  {
   "attachments": {},
   "cell_type": "markdown",
   "metadata": {
    "execution": {}
   },
   "source": [
    "Now we can more easily compare the timing and magnitude of changes in CO<sub>2</sub>  and δD at EPICA Dome C over the past 800,000 years. During glacial periods, δD was more depleted (cooler temperatures) and atmospheric CO<sub>2</sub>  was lower. During interglacial periods, δD was more enriched (warmer temperatures) and atmospheric CO<sub>2</sub>  was higher. Consider the following questions to further interpret this data:\n",
    "\n",
    "*   Why do δD, CO<sub>2</sub> and glacial cycles covary so closely?\n",
    "*   Can you identify glacial and interglacial periods? Today, are we in an interglacial or glacial period?\n",
    "*   Do the cooling and warming periods of the cycles happen at the same rate?\n",
    "*   How are the glacial cycles varied over this time?\n",
    "*   What climate forcings do you think are driving these cycles?\n",
    "\n"
   ]
  }
 ],
 "metadata": {
  "colab": {
   "collapsed_sections": [],
   "include_colab_link": true,
   "name": "W1D4_Tutorial4",
   "provenance": [
    {
     "file_id": "1MbCIbSJ0zMd-fjaWsarE_hpKOo770sz-",
     "timestamp": 1680541609255
    },
    {
     "file_id": "1lHuVrVtAW4fQzc0dFdlZuwY0i71KWw_t",
     "timestamp": 1677637469824
    }
   ],
   "toc_visible": true
  },
  "kernel": {
   "display_name": "Python 3",
   "language": "python",
   "name": "python3"
  },
  "kernelspec": {
   "display_name": "Python 3",
   "name": "python3"
  },
  "language_info": {
   "codemirror_mode": {
    "name": "ipython",
    "version": 3
   },
   "file_extension": ".py",
   "mimetype": "text/x-python",
   "name": "python",
   "nbconvert_exporter": "python",
   "pygments_lexer": "ipython3",
   "version": "3.10.10"
  }
 },
 "nbformat": 4,
 "nbformat_minor": 0
}
