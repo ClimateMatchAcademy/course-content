{
 "cells": [
  {
   "cell_type": "markdown",
   "metadata": {
    "execution": {}
   },
   "source": [
    "# **Tutorial 2 : Energy Balance**\n",
    "\n",
    "\n",
    "**Week 1, Day 5, Climate Modeling**\n",
    "\n",
    "**Content creators:** Jenna Pearson\n",
    "\n",
    "**Content reviewers:** Draco Xu, Will Gregory, Ohad Zivan, Chi Zhang\n",
    "\n",
    "**Content editors:** Brodie Pearson, Abigail Bodner, Ohad Zivan, Chi Zhang\n",
    "\n",
    "**Production editors:** TBD\n",
    "\n",
    "**Our 2023 Sponsors:** TBD"
   ]
  },
  {
   "cell_type": "markdown",
   "metadata": {
    "execution": {}
   },
   "source": [
    "# **Tutorial Objectives**\n",
    "\n",
    "In this tutorial students will learn about the components that define energy balance, including insolation and albedo.\n",
    "\n",
    "By the end of this tutorial students will be able to:\n",
    "* Calculate the albedo of Earth based on observations.\n",
    "* Define and find the equilibrium temperature under the assumption of energy balance.\n",
    "* Understand the relationship between transmissivity and equilibrium temperature."
   ]
  },
  {
   "cell_type": "markdown",
   "metadata": {
    "execution": {}
   },
   "source": [
    "# Setup"
   ]
  },
  {
   "cell_type": "code",
   "execution_count": 4,
   "metadata": {
    "execution": {}
   },
   "outputs": [],
   "source": [
    "import xarray as xr                     # used to manipulate data and open datasets\n",
    "import numpy as np                      # used for algebra and array operations\n",
    "import matplotlib.pyplot as plt         # used for plotting"
   ]
  },
  {
   "cell_type": "code",
   "execution_count": 5,
   "metadata": {
    "execution": {}
   },
   "outputs": [],
   "source": [
    "# @title Figure Settings\n",
    "import ipywidgets as widgets       # interactive display\n",
    "%config InlineBackend.figure_format = 'retina'\n",
    "plt.style.use(\"https://raw.githubusercontent.com/ClimateMatchAcademy/course-content/main/cma.mplstyle\")"
   ]
  },
  {
   "cell_type": "code",
   "execution_count": 6,
   "metadata": {},
   "outputs": [],
   "source": [
    "# @title Video 1: Energy Balance\n",
    "#Tech team will add code to format and display the video"
   ]
  },
  {
   "cell_type": "markdown",
   "metadata": {
    "execution": {}
   },
   "source": [
    "# Section 1 : A Radiating Sun"
   ]
  },
  {
   "cell_type": "markdown",
   "metadata": {},
   "source": [
    "## Section 1.1: Incoming Solar Radiation (Insolation) and Albedo ($\\alpha$)"
   ]
  },
  {
   "cell_type": "markdown",
   "metadata": {
    "execution": {}
   },
   "source": [
    "Just as Earth emits radiation, so does the sun. The incoming solar radiation, called **[insolation](https://glossary.ametsoc.org/wiki/Insolation)**. From the 'All Sky' Energy budget shown below, this is observed to be $Q = 340 W m^{-2}$. \n",
    "\n",
    "Some of this radiation is reflected back to space (for example off of ice and snow or clouds). \n",
    "\n",
    "From the 'All Sky' energy budget below, the amount reflected back is $F_{ref} = 100 W m^{-2}$. \n",
    "\n",
    "\n",
    "![Global Mean Energy Budget](https://www.ipcc.ch/report/ar6/wg1/downloads/figures/IPCC_AR6_WGI_Figure_7_2.png)\n",
    "Figure 7.2 | Schematic representation of the global mean energy budget of the Earth (upper panel), and its equivalent without considerations of cloud effects (lower panel). Numbers indicate best estimates for the magnitudes of the globally averaged energy balance components in W m–2 together with their uncertainty ranges in parentheses (5–95% confidence range), representing climate conditions at the beginning of the 21st century. Note that the cloud-free energy budget shown in the lower panel is not the one that Earth would achieve in equilibrium when no clouds could form. It rather represents the global mean fluxes as determined solely by removing the clouds but otherwise retaining the entire atmospheric structure. This enables the quantification of the effects of clouds on the Earth energy budget and corresponds to the way clear-sky fluxes are calculated in climate models. Thus, the cloud-free energy budget is not closed and therefore the sensible and latent heat fluxes are not quantified in the lower panel. Figure adapted from Wild et al. (2015, 2019). (Credit: [IPCC AR6 Report](https://www.ipcc.ch/report/ar6/wg1/downloads/figures/IPCC_AR6_WGI_Figure_7_2.png))"
   ]
  },
  {
   "cell_type": "markdown",
   "metadata": {},
   "source": [
    "The *fraction* of reflected radiation is captured by the **albedo (**$\\mathbf{\\alpha}$**)**\n",
    "\n",
    "\\begin{align}\n",
    "\\alpha = \\frac{F_{ref}}{Q}\n",
    "\\end{align}\n",
    "\n",
    "Albedo is a unitless number between 0 and 1. We can use this formula and python to find the albedo of Earth."
   ]
  },
  {
   "cell_type": "code",
   "execution_count": 8,
   "metadata": {
    "execution": {},
    "executionInfo": {
     "elapsed": 17,
     "status": "ok",
     "timestamp": 1681355999731,
     "user": {
      "displayName": "Jenna Pearson",
      "userId": "05648130581702734913"
     },
     "user_tz": 420
    }
   },
   "outputs": [
    {
     "name": "stdout",
     "output_type": "stream",
     "text": [
      "Albedo:  0.29411764705882354\n"
     ]
    }
   ],
   "source": [
    "# define the observed insolation based on observations from the IPCC AR6 Figure 7.2\n",
    "Q = 340 # W m^-2\n",
    "\n",
    "# define the observed reflected radiation based on observations from the IPCC AR6 Figure 7.2\n",
    "F_ref = 100 # W m^-2\n",
    "\n",
    "# plug into equation\n",
    "alpha = (F_ref/Q) # unitless number between 0 and 1\n",
    "\n",
    "# display answer\n",
    "print('Albedo: ',alpha)"
   ]
  },
  {
   "cell_type": "markdown",
   "metadata": {
    "execution": {}
   },
   "source": [
    "### Questions 1.1"
   ]
  },
  {
   "cell_type": "markdown",
   "metadata": {
    "execution": {}
   },
   "source": [
    "1. Taking insolation ($Q$) to be constant, what does a low albedo imply? What about a high albedo?\n",
    "2. There are two components to albedo, the reflected radiation in the numerator and the insolation in the denomenator. Do you think one or both of these have changed over Earth's history?"
   ]
  },
  {
   "cell_type": "code",
   "execution_count": 9,
   "metadata": {},
   "outputs": [
    {
     "data": {
      "text/plain": [
       "'\\n1. If the insolation does not vary, a low albedo implies that Earth is less reflective (e.g less cloud, snow or ice cover) and vice versa for high albedo.\\n2. Both. the reflected radiation is a function of land surface changes (e.g. glaciations and vegetation changes) and clouds (water vapor changes) as well as the radiation from the sun has also varied over time, which you will go into more detail in tutorial 4.\\n'"
      ]
     },
     "execution_count": 9,
     "metadata": {},
     "output_type": "execute_result"
    }
   ],
   "source": [
    "# to_remove explanation\n",
    "\n",
    "\"\"\"\n",
    "1. If the insolation does not vary, a low albedo implies that Earth is less reflective (e.g less cloud, snow or ice cover) and vice versa for high albedo.\n",
    "2. Both. the reflected radiation is a function of land surface changes (e.g. glaciations and vegetation changes) and clouds (water vapor changes) as well as the radiation from the sun has also varied over time, which you will go into more detail in tutorial 4.\n",
    "\"\"\""
   ]
  },
  {
   "cell_type": "markdown",
   "metadata": {},
   "source": [
    "## Section 1.2 : Absorbed Shortwave Radiation (ASR)"
   ]
  },
  {
   "cell_type": "markdown",
   "metadata": {},
   "source": [
    "The **absorbed shortwave radiation (ASR)** is the amount of this isolation that is *not* reflected, and actually makes it to Earth's surface. Thus,\n",
    "\n",
    "\\begin{align}\n",
    "ASR = Q-F_{ref} = (1-\\alpha)Q\n",
    "\\end{align}\n",
    "\n",
    "Using observations and python we can esimate the absorbed shortwave radiation."
   ]
  },
  {
   "cell_type": "code",
   "execution_count": 10,
   "metadata": {},
   "outputs": [
    {
     "name": "stdout",
     "output_type": "stream",
     "text": [
      "Absorbed Shortwave Radiation:  239.99999999999997  W m^-2\n"
     ]
    }
   ],
   "source": [
    "# define the observed insolation based on observations from the IPCC AR6 Figure 7.2\n",
    "Q = 340 # W m^-2\n",
    "\n",
    "# define the observed reflected radiation based on observations from the IPCC AR6 Figure 7.2\n",
    "F_ref = 100 # W m^-2\n",
    "\n",
    "# plug into equation\n",
    "alpha = (F_ref/Q) # unitless number between 0 and 1\n",
    "\n",
    "# plug into equation\n",
    "ASR = (1-alpha)*Q\n",
    "\n",
    "# display answer\n",
    "print('Absorbed Shortwave Radiation: ',ASR,' W m^-2')"
   ]
  },
  {
   "cell_type": "markdown",
   "metadata": {},
   "source": [
    "### Questions 1.2\n",
    "\n",
    "1. Compare the value of ASR to the observed OLR of $239 W m^{-2}$. Is it more or less? What do you think this means?\n",
    "2. Does this model take into account any effects of gases in that atmosphere on the incoming shortwave radiation that makes it to Earth's surface? Are there any greenhouse gases you think are important and should be included in more complex models?"
   ]
  },
  {
   "cell_type": "code",
   "execution_count": 11,
   "metadata": {},
   "outputs": [
    {
     "data": {
      "text/plain": [
       "'\\n1. It is slightly more. This means that Earth is absorbing more energy than it is losing. This is just to get you thinking about energy balance that will be discussed in the remainder of the tutorial.\\n2. It does not take these into account. For example, ozone is a notable greenhouse gas that absorbs in the UV range.\\n'"
      ]
     },
     "execution_count": 11,
     "metadata": {},
     "output_type": "execute_result"
    }
   ],
   "source": [
    "# to_remove explanation\n",
    "\n",
    "\"\"\"\n",
    "1. It is slightly more. This means that Earth is absorbing more energy than it is losing. This is just to get you thinking about energy balance that will be discussed in the remainder of the tutorial.\n",
    "2. It does not take these into account. For example, ozone is a notable greenhouse gas that absorbs in the UV range.\n",
    "\"\"\""
   ]
  },
  {
   "cell_type": "markdown",
   "metadata": {
    "execution": {}
   },
   "source": [
    "# Section 2 : Energy Balance"
   ]
  },
  {
   "cell_type": "markdown",
   "metadata": {},
   "source": [
    "## Section 2.1: Equilibrium Temperature"
   ]
  },
  {
   "cell_type": "markdown",
   "metadata": {
    "execution": {}
   },
   "source": [
    "Energy Balance is achieved when radiation absorbed by Earth's surface (ASR) is equal to longwave radiation going out to space (OLR). That is \n",
    "\n",
    "\\begin{align}\n",
    "ASR = OLR\n",
    "\\end{align}\n",
    "\n",
    "By substituting in the equations from previous sections, we can find the surface temperature of Earth needed to maintain this balance. This is called the **equilibrium temperature (** $\\mathbf{T_{eq}}$ **)**.\n",
    "\n",
    "Recall $OLR = \\tau\\sigma T^4$ and $ASR = (1-\\alpha)Q$. The **equilibrium temperature** is the temperature the system would have if energy balance was perfectly reached. Assuming energy balance, we will call the emission temperature denoted previously the equilibrium temperature ($T_{eq}$) instead. Thus,\n",
    "\n",
    "\\begin{align}\n",
    "(1-\\alpha)Q = ASR = OLR = \\tau\\sigma T_{eq}^4\n",
    "\\end{align}\n",
    "\n",
    "Solving for $T_{eq}$ we find\n",
    "\n",
    "\\begin{align}\n",
    "T_{eq} = \\sqrt[4]{\\frac{(1-\\alpha)Q}{\\tau\\sigma}}\n",
    "\\end{align}\n",
    "\n",
    "We can implement this equation in python to find the numeric value."
   ]
  },
  {
   "cell_type": "code",
   "execution_count": 12,
   "metadata": {
    "execution": {},
    "executionInfo": {
     "elapsed": 236,
     "status": "ok",
     "timestamp": 1681356054176,
     "user": {
      "displayName": "Jenna Pearson",
      "userId": "05648130581702734913"
     },
     "user_tz": 420
    }
   },
   "outputs": [
    {
     "name": "stdout",
     "output_type": "stream",
     "text": [
      "Equilibrium Temperature:  288.300287595812 K or 15.300287595811994 C\n"
     ]
    }
   ],
   "source": [
    "# define the observed insolation based on observations from the IPCC AR6 Figure 7.2\n",
    "Q = 340 # W m^-2\n",
    "\n",
    "# define the observed reflected radiation based on observations from the IPCC AR6 Figure 7.2\n",
    "F_ref = 100 # W m^-2\n",
    "\n",
    "# define albedo\n",
    "alpha = (F_ref/Q) # unitless number between 0 and 1\n",
    "\n",
    "# define the Stefan-Boltzmann Constant, noting we are using 'e' for scientific notation\n",
    "sigma = 5.67e-8 # W m^-2 K^-4\n",
    "\n",
    "# define transmissivity (calculated previously from observations in tutorial 1)\n",
    "tau = 0.6127 # unitless number between 0 and 1\n",
    "\n",
    "# plug into equation\n",
    "T_eq = (((1-alpha)*Q)/(tau * sigma))**(1/4)\n",
    "\n",
    "# display answer\n",
    "print('Equilibrium Temperature: ',T_eq,'K or',T_eq - 273, 'C')"
   ]
  },
  {
   "cell_type": "markdown",
   "metadata": {},
   "source": [
    "## Questions 2.1"
   ]
  },
  {
   "cell_type": "markdown",
   "metadata": {
    "execution": {}
   },
   "source": [
    "1.  Is the calculated equilibrium temperature warmer or cooler than the observed surface temperature of $288 K$?\n",
    "2.  What do you think is responsible for the difference? Refer to previous sections if needed."
   ]
  },
  {
   "cell_type": "code",
   "execution_count": 13,
   "metadata": {},
   "outputs": [
    {
     "data": {
      "text/plain": [
       "'\\n1. It is warmer.\\n2. From the previous set of questions, Earth is absorbing more energy than it is releasing, and so the Earth system is warming.\\n'"
      ]
     },
     "execution_count": 13,
     "metadata": {},
     "output_type": "execute_result"
    }
   ],
   "source": [
    "# to_remove explanation\n",
    "\n",
    "\"\"\"\n",
    "1. It is warmer.\n",
    "2. From the previous set of questions, Earth is absorbing more energy than it is releasing, and so the Earth system is warming.\n",
    "\"\"\""
   ]
  },
  {
   "cell_type": "markdown",
   "metadata": {
    "execution": {}
   },
   "source": [
    "# Section 3 : Climate Change Scenario"
   ]
  },
  {
   "cell_type": "markdown",
   "metadata": {},
   "source": [
    "## Section 3.1: Increasing Greenhouse Gas Concentrations"
   ]
  },
  {
   "cell_type": "markdown",
   "metadata": {
    "execution": {}
   },
   "source": [
    "Assume due to the increasing presence of greenhouse gases in the the atmosphere, that $\\tau$ decreases to $0.57$. \n",
    "\n",
    "We can then use our climate model and python to find the new equilibrium temperature."
   ]
  },
  {
   "cell_type": "code",
   "execution_count": 14,
   "metadata": {
    "execution": {},
    "executionInfo": {
     "elapsed": 4,
     "status": "ok",
     "timestamp": 1681356085750,
     "user": {
      "displayName": "Jenna Pearson",
      "userId": "05648130581702734913"
     },
     "user_tz": 420
    }
   },
   "outputs": [
    {
     "name": "stdout",
     "output_type": "stream",
     "text": [
      "New Equilibrium Temperature:  293.5542225759401 K or 20.554222575940116 C\n"
     ]
    }
   ],
   "source": [
    "# define the observed insolation based on observations from the IPCC AR6 Figure 7.2\n",
    "Q = 340 # W m^-2\n",
    "\n",
    "# define the observed reflected radiation based on observations from the IPCC AR6 Figure 7.2\n",
    "F_ref = 100 # W m^-2\n",
    "\n",
    "# define albedo\n",
    "alpha = (F_ref/Q) # unitless number between 0 and 1\n",
    "\n",
    "# define the Stefan-Boltzmann Constant, noting we are using 'e' for scientific notation\n",
    "sigma = 5.67e-8 # W m^-2 K^-4\n",
    "\n",
    "# define transmissivity (assupmtion in this case)\n",
    "tau = 0.57 # unitless number between 0 and 1\n",
    "\n",
    "# plug into equation\n",
    "T_eq = (((1-alpha)*Q)/(tau * sigma))**(1/4)\n",
    "\n",
    "# display answer\n",
    "print('New Equilibrium Temperature: ',T_eq,'K or',T_eq - 273, 'C')"
   ]
  },
  {
   "cell_type": "markdown",
   "metadata": {
    "execution": {}
   },
   "source": [
    "### Questions 3.1"
   ]
  },
  {
   "cell_type": "markdown",
   "metadata": {},
   "source": [
    "1.  Does a reduction in the transmissivity, $\\tau$, imply a decrease or increase in OLR?\n",
    "2.  How does the new equilibrium temperature compare to that calculated previously? Why do you think this is?"
   ]
  },
  {
   "cell_type": "code",
   "execution_count": 17,
   "metadata": {},
   "outputs": [
    {
     "data": {
      "text/plain": [
       "'\\n1. A decrease. A lower transmissivity means the atmosphere is less transparent, and therefore less radiation escapes to space.\\n2. It is much higher because the greenhouse effect is stronger and trapping more heat.\\n'"
      ]
     },
     "execution_count": 17,
     "metadata": {},
     "output_type": "execute_result"
    }
   ],
   "source": [
    "# to_remove explanation\n",
    "\n",
    "\"\"\"\n",
    "1. A decrease. A lower transmissivity means the atmosphere is less transparent, and therefore less radiation escapes to space.\n",
    "2. It is much higher because the greenhouse effect is stronger and trapping more heat.\n",
    "\"\"\""
   ]
  },
  {
   "cell_type": "markdown",
   "metadata": {
    "execution": {}
   },
   "source": [
    "### Coding Exercises 3.1"
   ]
  },
  {
   "cell_type": "markdown",
   "metadata": {
    "execution": {}
   },
   "source": [
    "1. Plot the equilibrium temperature as a function of $\\tau$, for $\\tau$ ranging from zero to one."
   ]
  },
  {
   "cell_type": "code",
   "execution_count": 16,
   "metadata": {
    "execution": {}
   },
   "outputs": [
    {
     "ename": "NotImplementedError",
     "evalue": "Plot the equilibrium temperature as a function of tau, for tau ranging from zero to one.",
     "output_type": "error",
     "traceback": [
      "\u001b[0;31m---------------------------------------------------------------------------\u001b[0m",
      "\u001b[0;31mNotImplementedError\u001b[0m                       Traceback (most recent call last)",
      "Cell \u001b[0;32mIn[16], line 3\u001b[0m\n\u001b[1;32m      1\u001b[0m \u001b[38;5;66;03m#################################################\u001b[39;00m\n\u001b[1;32m      2\u001b[0m \u001b[38;5;66;03m# Students: Fill in missing code (...) and comment or remove the next line\u001b[39;00m\n\u001b[0;32m----> 3\u001b[0m \u001b[38;5;28;01mraise\u001b[39;00m \u001b[38;5;167;01mNotImplementedError\u001b[39;00m(\u001b[38;5;124m\"\u001b[39m\u001b[38;5;124mPlot the equilibrium temperature as a function of tau, for tau ranging from zero to one.\u001b[39m\u001b[38;5;124m\"\u001b[39m)\n\u001b[1;32m      4\u001b[0m \u001b[38;5;66;03m#################################################\u001b[39;00m\n\u001b[1;32m      5\u001b[0m \n\u001b[1;32m      6\u001b[0m \u001b[38;5;66;03m# define the observed insolation based on observations from the IPCC AR6 Figure 7.2\u001b[39;00m\n\u001b[1;32m      7\u001b[0m \u001b[38;5;241m.\u001b[39m\u001b[38;5;241m.\u001b[39m\u001b[38;5;241m.\u001b[39m\n",
      "\u001b[0;31mNotImplementedError\u001b[0m: Plot the equilibrium temperature as a function of tau, for tau ranging from zero to one."
     ]
    }
   ],
   "source": [
    "#################################################\n",
    "# Students: Fill in missing code (...) and comment or remove the next line\n",
    "raise NotImplementedError(\"Plot the equilibrium temperature as a function of tau, for tau ranging from zero to one.\")\n",
    "#################################################\n",
    "\n",
    "# define the observed insolation based on observations from the IPCC AR6 Figure 7.2\n",
    "...\n",
    "\n",
    "# define the observed reflected radiation based on observations from the IPCC AR6 Figure 7.2\n",
    "...\n",
    "\n",
    "# define albedo\n",
    "...\n",
    "\n",
    "# define the Stefan-Boltzmann Constant, noting we are using 'e' for scientific notation\n",
    "...\n",
    "\n",
    "# define a function that returns the equilibrium temperature and takes argument tau\n",
    "def get_eqT(tau):\n",
    "  ...\n",
    "\n",
    "# define tau as an array extending from 0 to 1 with spacing interval 0.01\n",
    "...\n",
    "\n",
    "# use list comprehension to obtain the equilibrium temperature as a function of tau\n",
    "...\n",
    "\n",
    "\n",
    "plt.plot(...)\n",
    "plt.xlabel(...)\n",
    "plt.ylabel(...)"
   ]
  },
  {
   "cell_type": "code",
   "execution_count": 15,
   "metadata": {
    "execution": {},
    "executionInfo": {
     "elapsed": 5,
     "status": "ok",
     "timestamp": 1681356100692,
     "user": {
      "displayName": "Jenna Pearson",
      "userId": "05648130581702734913"
     },
     "user_tz": 420
    }
   },
   "outputs": [
    {
     "name": "stderr",
     "output_type": "stream",
     "text": [
      "/var/folders/k2/707t_q4135v27q7hpn6490nh0000gp/T/ipykernel_13902/995960779.py:17: RuntimeWarning: divide by zero encountered in double_scalars\n",
      "  return (((1-alpha)*Q)/(tau * sigma))**(1/4)\n",
      "findfont: Font family 'xkcd' not found.\n",
      "findfont: Font family 'xkcd Script' not found.\n",
      "findfont: Font family 'Humor Sans' not found.\n",
      "findfont: Font family 'Comic Neue' not found.\n",
      "findfont: Font family 'xkcd' not found.\n",
      "findfont: Font family 'xkcd Script' not found.\n",
      "findfont: Font family 'Humor Sans' not found.\n",
      "findfont: Font family 'Comic Neue' not found.\n",
      "findfont: Font family 'xkcd' not found.\n",
      "findfont: Font family 'xkcd Script' not found.\n",
      "findfont: Font family 'Humor Sans' not found.\n",
      "findfont: Font family 'Comic Neue' not found.\n",
      "findfont: Font family 'xkcd' not found.\n",
      "findfont: Font family 'xkcd Script' not found.\n",
      "findfont: Font family 'Humor Sans' not found.\n",
      "findfont: Font family 'Comic Neue' not found.\n",
      "findfont: Font family 'xkcd' not found.\n",
      "findfont: Font family 'xkcd Script' not found.\n",
      "findfont: Font family 'Humor Sans' not found.\n",
      "findfont: Font family 'Comic Neue' not found.\n",
      "findfont: Font family 'xkcd' not found.\n",
      "findfont: Font family 'xkcd Script' not found.\n",
      "findfont: Font family 'Humor Sans' not found.\n",
      "findfont: Font family 'Comic Neue' not found.\n",
      "findfont: Font family 'xkcd' not found.\n",
      "findfont: Font family 'xkcd Script' not found.\n",
      "findfont: Font family 'Humor Sans' not found.\n",
      "findfont: Font family 'Comic Neue' not found.\n",
      "findfont: Font family 'xkcd' not found.\n",
      "findfont: Font family 'xkcd Script' not found.\n",
      "findfont: Font family 'Humor Sans' not found.\n",
      "findfont: Font family 'Comic Neue' not found.\n",
      "findfont: Font family 'xkcd' not found.\n",
      "findfont: Font family 'xkcd Script' not found.\n",
      "findfont: Font family 'Humor Sans' not found.\n",
      "findfont: Font family 'Comic Neue' not found.\n",
      "findfont: Font family 'xkcd' not found.\n",
      "findfont: Font family 'xkcd Script' not found.\n",
      "findfont: Font family 'Humor Sans' not found.\n",
      "findfont: Font family 'Comic Neue' not found.\n",
      "findfont: Font family 'xkcd' not found.\n",
      "findfont: Font family 'xkcd Script' not found.\n",
      "findfont: Font family 'Humor Sans' not found.\n",
      "findfont: Font family 'Comic Neue' not found.\n",
      "findfont: Font family 'xkcd' not found.\n",
      "findfont: Font family 'xkcd Script' not found.\n",
      "findfont: Font family 'Humor Sans' not found.\n",
      "findfont: Font family 'Comic Neue' not found.\n",
      "findfont: Font family 'xkcd' not found.\n",
      "findfont: Font family 'xkcd Script' not found.\n",
      "findfont: Font family 'Humor Sans' not found.\n",
      "findfont: Font family 'Comic Neue' not found.\n",
      "findfont: Font family 'xkcd' not found.\n",
      "findfont: Font family 'xkcd Script' not found.\n",
      "findfont: Font family 'Humor Sans' not found.\n",
      "findfont: Font family 'Comic Neue' not found.\n",
      "findfont: Font family 'xkcd' not found.\n",
      "findfont: Font family 'xkcd Script' not found.\n",
      "findfont: Font family 'Humor Sans' not found.\n",
      "findfont: Font family 'Comic Neue' not found.\n",
      "findfont: Font family 'xkcd' not found.\n",
      "findfont: Font family 'xkcd Script' not found.\n",
      "findfont: Font family 'Humor Sans' not found.\n",
      "findfont: Font family 'Comic Neue' not found.\n",
      "findfont: Font family 'xkcd' not found.\n",
      "findfont: Font family 'xkcd Script' not found.\n",
      "findfont: Font family 'Humor Sans' not found.\n",
      "findfont: Font family 'Comic Neue' not found.\n",
      "findfont: Font family 'xkcd' not found.\n",
      "findfont: Font family 'xkcd Script' not found.\n",
      "findfont: Font family 'Humor Sans' not found.\n",
      "findfont: Font family 'Comic Neue' not found.\n",
      "findfont: Font family 'xkcd' not found.\n",
      "findfont: Font family 'xkcd Script' not found.\n",
      "findfont: Font family 'Humor Sans' not found.\n",
      "findfont: Font family 'Comic Neue' not found.\n",
      "findfont: Font family 'xkcd' not found.\n",
      "findfont: Font family 'xkcd Script' not found.\n",
      "findfont: Font family 'Humor Sans' not found.\n",
      "findfont: Font family 'Comic Neue' not found.\n",
      "findfont: Font family 'xkcd' not found.\n",
      "findfont: Font family 'xkcd Script' not found.\n",
      "findfont: Font family 'Humor Sans' not found.\n",
      "findfont: Font family 'Comic Neue' not found.\n",
      "findfont: Font family 'xkcd' not found.\n",
      "findfont: Font family 'xkcd Script' not found.\n",
      "findfont: Font family 'Humor Sans' not found.\n",
      "findfont: Font family 'Comic Neue' not found.\n",
      "findfont: Font family 'xkcd' not found.\n",
      "findfont: Font family 'xkcd Script' not found.\n",
      "findfont: Font family 'Humor Sans' not found.\n",
      "findfont: Font family 'Comic Neue' not found.\n",
      "findfont: Font family 'xkcd' not found.\n",
      "findfont: Font family 'xkcd Script' not found.\n",
      "findfont: Font family 'Humor Sans' not found.\n",
      "findfont: Font family 'Comic Neue' not found.\n",
      "findfont: Font family 'xkcd' not found.\n",
      "findfont: Font family 'xkcd Script' not found.\n",
      "findfont: Font family 'Humor Sans' not found.\n",
      "findfont: Font family 'Comic Neue' not found.\n",
      "findfont: Font family 'xkcd' not found.\n",
      "findfont: Font family 'xkcd Script' not found.\n",
      "findfont: Font family 'Humor Sans' not found.\n",
      "findfont: Font family 'Comic Neue' not found.\n",
      "findfont: Font family 'xkcd' not found.\n",
      "findfont: Font family 'xkcd Script' not found.\n",
      "findfont: Font family 'Humor Sans' not found.\n",
      "findfont: Font family 'Comic Neue' not found.\n",
      "findfont: Font family 'xkcd' not found.\n",
      "findfont: Font family 'xkcd Script' not found.\n",
      "findfont: Font family 'Humor Sans' not found.\n",
      "findfont: Font family 'Comic Neue' not found.\n",
      "findfont: Font family 'xkcd' not found.\n",
      "findfont: Font family 'xkcd Script' not found.\n",
      "findfont: Font family 'Humor Sans' not found.\n",
      "findfont: Font family 'Comic Neue' not found.\n",
      "findfont: Font family 'xkcd' not found.\n",
      "findfont: Font family 'xkcd Script' not found.\n",
      "findfont: Font family 'Humor Sans' not found.\n",
      "findfont: Font family 'Comic Neue' not found.\n",
      "findfont: Font family 'xkcd' not found.\n",
      "findfont: Font family 'xkcd Script' not found.\n",
      "findfont: Font family 'Humor Sans' not found.\n",
      "findfont: Font family 'Comic Neue' not found.\n",
      "findfont: Font family 'xkcd' not found.\n",
      "findfont: Font family 'xkcd Script' not found.\n",
      "findfont: Font family 'Humor Sans' not found.\n",
      "findfont: Font family 'Comic Neue' not found.\n",
      "findfont: Font family 'xkcd' not found.\n",
      "findfont: Font family 'xkcd Script' not found.\n",
      "findfont: Font family 'Humor Sans' not found.\n",
      "findfont: Font family 'Comic Neue' not found.\n",
      "findfont: Font family 'xkcd' not found.\n",
      "findfont: Font family 'xkcd Script' not found.\n",
      "findfont: Font family 'Humor Sans' not found.\n",
      "findfont: Font family 'Comic Neue' not found.\n",
      "findfont: Font family 'xkcd' not found.\n",
      "findfont: Font family 'xkcd Script' not found.\n",
      "findfont: Font family 'Humor Sans' not found.\n",
      "findfont: Font family 'Comic Neue' not found.\n",
      "findfont: Font family 'xkcd' not found.\n",
      "findfont: Font family 'xkcd Script' not found.\n",
      "findfont: Font family 'Humor Sans' not found.\n",
      "findfont: Font family 'Comic Neue' not found.\n",
      "findfont: Font family 'xkcd' not found.\n",
      "findfont: Font family 'xkcd Script' not found.\n",
      "findfont: Font family 'Humor Sans' not found.\n",
      "findfont: Font family 'Comic Neue' not found.\n",
      "findfont: Font family 'xkcd' not found.\n",
      "findfont: Font family 'xkcd Script' not found.\n",
      "findfont: Font family 'Humor Sans' not found.\n",
      "findfont: Font family 'Comic Neue' not found.\n",
      "findfont: Font family 'xkcd' not found.\n",
      "findfont: Font family 'xkcd Script' not found.\n",
      "findfont: Font family 'Humor Sans' not found.\n",
      "findfont: Font family 'Comic Neue' not found.\n",
      "findfont: Font family 'xkcd' not found.\n",
      "findfont: Font family 'xkcd Script' not found.\n",
      "findfont: Font family 'Humor Sans' not found.\n",
      "findfont: Font family 'Comic Neue' not found.\n",
      "findfont: Font family 'xkcd' not found.\n",
      "findfont: Font family 'xkcd Script' not found.\n",
      "findfont: Font family 'Humor Sans' not found.\n",
      "findfont: Font family 'Comic Neue' not found.\n",
      "findfont: Font family 'xkcd' not found.\n",
      "findfont: Font family 'xkcd Script' not found.\n",
      "findfont: Font family 'Humor Sans' not found.\n",
      "findfont: Font family 'Comic Neue' not found.\n",
      "findfont: Font family 'xkcd' not found.\n",
      "findfont: Font family 'xkcd Script' not found.\n",
      "findfont: Font family 'Humor Sans' not found.\n",
      "findfont: Font family 'Comic Neue' not found.\n",
      "findfont: Font family 'xkcd' not found.\n",
      "findfont: Font family 'xkcd Script' not found.\n",
      "findfont: Font family 'Humor Sans' not found.\n",
      "findfont: Font family 'Comic Neue' not found.\n",
      "findfont: Font family 'xkcd' not found.\n",
      "findfont: Font family 'xkcd Script' not found.\n",
      "findfont: Font family 'Humor Sans' not found.\n"
     ]
    },
    {
     "name": "stderr",
     "output_type": "stream",
     "text": [
      "findfont: Font family 'Comic Neue' not found.\n",
      "findfont: Font family 'xkcd' not found.\n",
      "findfont: Font family 'xkcd Script' not found.\n",
      "findfont: Font family 'Humor Sans' not found.\n",
      "findfont: Font family 'Comic Neue' not found.\n",
      "findfont: Font family 'xkcd' not found.\n",
      "findfont: Font family 'xkcd Script' not found.\n",
      "findfont: Font family 'Humor Sans' not found.\n",
      "findfont: Font family 'Comic Neue' not found.\n",
      "findfont: Font family 'xkcd' not found.\n",
      "findfont: Font family 'xkcd Script' not found.\n",
      "findfont: Font family 'Humor Sans' not found.\n",
      "findfont: Font family 'Comic Neue' not found.\n",
      "findfont: Font family 'xkcd' not found.\n",
      "findfont: Font family 'xkcd Script' not found.\n",
      "findfont: Font family 'Humor Sans' not found.\n",
      "findfont: Font family 'Comic Neue' not found.\n",
      "findfont: Font family 'xkcd' not found.\n",
      "findfont: Font family 'xkcd Script' not found.\n",
      "findfont: Font family 'Humor Sans' not found.\n",
      "findfont: Font family 'Comic Neue' not found.\n",
      "findfont: Font family 'xkcd' not found.\n",
      "findfont: Font family 'xkcd Script' not found.\n",
      "findfont: Font family 'Humor Sans' not found.\n",
      "findfont: Font family 'Comic Neue' not found.\n",
      "findfont: Font family 'xkcd' not found.\n",
      "findfont: Font family 'xkcd Script' not found.\n",
      "findfont: Font family 'Humor Sans' not found.\n",
      "findfont: Font family 'Comic Neue' not found.\n",
      "findfont: Font family 'xkcd' not found.\n",
      "findfont: Font family 'xkcd Script' not found.\n",
      "findfont: Font family 'Humor Sans' not found.\n",
      "findfont: Font family 'Comic Neue' not found.\n",
      "findfont: Font family 'xkcd' not found.\n",
      "findfont: Font family 'xkcd Script' not found.\n",
      "findfont: Font family 'Humor Sans' not found.\n",
      "findfont: Font family 'Comic Neue' not found.\n",
      "findfont: Font family 'xkcd' not found.\n",
      "findfont: Font family 'xkcd Script' not found.\n",
      "findfont: Font family 'Humor Sans' not found.\n",
      "findfont: Font family 'Comic Neue' not found.\n",
      "findfont: Font family 'xkcd' not found.\n",
      "findfont: Font family 'xkcd Script' not found.\n",
      "findfont: Font family 'Humor Sans' not found.\n",
      "findfont: Font family 'Comic Neue' not found.\n",
      "findfont: Font family 'xkcd' not found.\n",
      "findfont: Font family 'xkcd Script' not found.\n",
      "findfont: Font family 'Humor Sans' not found.\n",
      "findfont: Font family 'Comic Neue' not found.\n",
      "findfont: Font family 'xkcd' not found.\n",
      "findfont: Font family 'xkcd Script' not found.\n",
      "findfont: Font family 'Humor Sans' not found.\n",
      "findfont: Font family 'Comic Neue' not found.\n",
      "findfont: Font family 'xkcd' not found.\n",
      "findfont: Font family 'xkcd Script' not found.\n",
      "findfont: Font family 'Humor Sans' not found.\n",
      "findfont: Font family 'Comic Neue' not found.\n",
      "findfont: Font family 'xkcd' not found.\n",
      "findfont: Font family 'xkcd Script' not found.\n",
      "findfont: Font family 'Humor Sans' not found.\n",
      "findfont: Font family 'Comic Neue' not found.\n"
     ]
    },
    {
     "data": {
      "image/png": "[encoded data removed]",
      "text/plain": [
       "<Figure size 800x600 with 1 Axes>"
      ]
     },
     "metadata": {
      "image/png": {
       "height": 575,
       "width": 775
      }
     },
     "output_type": "display_data"
    }
   ],
   "source": [
    "# to_remove solution\n",
    "\n",
    "# define the observed insolation based on observations from the IPCC AR6 Figure 7.2\n",
    "Q = 340 # W m^-2\n",
    "\n",
    "# define the observed reflected radiation based on observations from the IPCC AR6 Figure 7.2\n",
    "F_ref = 100 # W m^-2\n",
    "\n",
    "# define albedo\n",
    "alpha = (F_ref/Q) # unitless number between 0 and 1\n",
    "\n",
    "# define the Stefan-Boltzmann Constant, noting we are using 'e' for scientific notation\n",
    "sigma = 5.67e-8 # W m^-2 K^-4\n",
    "\n",
    "# define a function that returns the equilibrium temperature and takes argument tau\n",
    "def get_eqT(tau):\n",
    "  return (((1-alpha)*Q)/(tau * sigma))**(1/4)\n",
    "\n",
    "# define tau as an array extending from 0 to 1 with spacing interval 0.01\n",
    "tau = np.arange(0,1.01,.01)\n",
    "\n",
    "# use list comprehension to obtain the equilibrium temperature as a function of tau\n",
    "eqT = [get_eqT(t) for t in tau]\n",
    "\n",
    "with plt.xkcd():\n",
    "  plt.plot(tau,eqT, lw = 3)\n",
    "  plt.xlabel('Transmissivity')\n",
    "  plt.ylabel('Equilibrium Temperature')"
   ]
  },
  {
   "cell_type": "code",
   "execution_count": null,
   "metadata": {},
   "outputs": [],
   "source": []
  }
 ],
 "metadata": {
  "colab": {
   "collapsed_sections": [],
   "include_colab_link": true,
   "name": "W1D5_Tutorial2",
   "provenance": [],
   "toc_visible": true
  },
  "kernel": {
   "display_name": "Python 3",
   "language": "python",
   "name": "python3"
  },
  "kernelspec": {
   "display_name": "Python 3 (ipykernel)",
   "language": "python",
   "name": "python3"
  },
  "language_info": {
   "codemirror_mode": {
    "name": "ipython",
    "version": 3
   },
   "file_extension": ".py",
   "mimetype": "text/x-python",
   "name": "python",
   "nbconvert_exporter": "python",
   "pygments_lexer": "ipython3",
   "version": "3.10.9"
  }
 },
 "nbformat": 4,
 "nbformat_minor": 1
}
