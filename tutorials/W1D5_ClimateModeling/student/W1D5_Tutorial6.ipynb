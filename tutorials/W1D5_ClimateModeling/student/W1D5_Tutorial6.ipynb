{
 "cells": [
  {
   "cell_type": "markdown",
   "metadata": {
    "execution": {}
   },
   "source": [
    "#**Tutorail # 6 : Introduction to Earth System Models**\n",
    "\n",
    "\n",
    "**Week 1, Day 5, Climate Modeling**\n",
    "\n",
    "**Content creators:** Jenna Pearson, Brodie Pearson, Julius Busecke, and Abigail Bodner\n",
    "\n",
    "**Content reviewers:** TBD\n",
    "\n",
    "**Content editors:** TBD\n",
    "\n",
    "**Production editors:** TBD\n",
    "\n",
    "**Our 2023 Sponsors:** TBD\n",
    "\n"
   ]
  },
  {
   "cell_type": "markdown",
   "metadata": {
    "execution": {}
   },
   "source": [
    "#**Tutorial Objectives**\n",
    "\n",
    "In this tutorial students will learn about ..\n",
    "\n",
    "By the end of this tutorial students will be able to:\n",
    "* Load data from the Community Earth System Model\n",
    "* Analyze the surface energy budget of a realistic climate model"
   ]
  },
  {
   "cell_type": "markdown",
   "metadata": {
    "execution": {}
   },
   "source": [
    "# Setup"
   ]
  },
  {
   "cell_type": "markdown",
   "metadata": {
    "execution": {}
   },
   "source": [
    "## Package Imports"
   ]
  },
  {
   "cell_type": "code",
   "execution_count": null,
   "metadata": {
    "execution": {},
    "executionInfo": {
     "elapsed": 148771,
     "status": "ok",
     "timestamp": 1682000677034,
     "user": {
      "displayName": "Wesley Banfield",
      "userId": "15738596203150760123"
     },
     "user_tz": -120
    },
    "tags": [
     "colab"
    ]
   },
   "outputs": [],
   "source": [
    "# note this installation takes a lonnnng time.\n",
    "# !pip install condacolab &> /dev/null\n",
    "# import condacolab\n",
    "# condacolab.install()\n",
    "\n",
    "# !conda install -c conda-forge xarray-datatree &> /dev/null\n",
    "# !conda install -c conda-forge intake &> /dev/null\n",
    "# !conda install -c conda-forge intake-esm &> /dev/null\n",
    "# !conda install -c conda-forge gcsfs &> /dev/null\n",
    "# !conda install -c conda-forge xmip &> /dev/null\n",
    "# !conda install -c conda-forge aiohttp &> /dev/null\n",
    "# !conda install -c conda-forge cartopy &> /dev/null\n",
    "# !conda install -c conda-forge nc-time-axis &> /dev/null\n",
    "# !conda install -c conda-forge cf_xarray &> /dev/null\n",
    "# !conda install -c conda-forge xarrayutils &> /dev/null\n",
    "# !conda install -c conda-forge xesmf &> /dev/null\n",
    "\n",
    "\n",
    "# jb: trying to install all packages in one call (+ use mamba instead of conda)\n",
    "# hopefully this improves speed\n",
    "# !mamba install xarray-datatree intake-esm gcsfs xmip aiohttp cartopy nc-time-axis cf_xarray xarrayutils &> /dev/null"
   ]
  },
  {
   "cell_type": "code",
   "execution_count": null,
   "metadata": {
    "execution": {},
    "executionInfo": {
     "elapsed": 521,
     "status": "error",
     "timestamp": 1682000677547,
     "user": {
      "displayName": "Wesley Banfield",
      "userId": "15738596203150760123"
     },
     "user_tz": -120
    }
   },
   "outputs": [],
   "source": [
    "import intake\n",
    "import numpy as np\n",
    "import matplotlib.pyplot as plt\n",
    "# The xarray import will crash the first time you run this cell in Colab.\n",
    "# Once it crashes, comment out all the conda and pip commands above, and then re-run this cell\n",
    "import xarray as xr\n",
    "\n",
    "from xmip.preprocessing import combined_preprocessing\n",
    "from xarrayutils.plotting import shaded_line_plot\n",
    "from xmip.utils import google_cmip_col\n",
    "\n",
    "from datatree import DataTree\n",
    "from xmip.postprocessing import _parse_metric\n",
    "\n",
    "import cartopy.crs as ccrs"
   ]
  },
  {
   "cell_type": "markdown",
   "metadata": {
    "execution": {}
   },
   "source": [
    "## Figure Settings"
   ]
  },
  {
   "cell_type": "code",
   "execution_count": null,
   "metadata": {
    "execution": {}
   },
   "outputs": [],
   "source": [
    "import ipywidgets as widgets       # interactive display\n",
    "%config InlineBackend.figure_format = 'retina'\n",
    "plt.style.use(\"https://raw.githubusercontent.com/ClimateMatchAcademy/course-content/main/cma.mplstyle\")"
   ]
  },
  {
   "cell_type": "markdown",
   "metadata": {
    "execution": {}
   },
   "source": [
    "# Section 1 : The Community Earth System Model (CESM)"
   ]
  },
  {
   "cell_type": "markdown",
   "metadata": {
    "execution": {}
   },
   "source": [
    "The complexity of our models has increased throughout this tutorial, and we end on Earth System Models (ESMs), which are the most complex of all climate models. These types of model include the physical processes typical of General Circulation Models (GCMs), but also include chemical and biological changes within the climate system (e.g. changes in vegetation, biomes, atmospheric CO2).\n",
    "\n",
    "The [Community Earth System Model](httpshttps://www.cesm.ucar.edu/models/cesm2://) is one specific ESM we will analyze here in prepartion for next lesson when you will look at many climate models simultaneously. We will be analyzing the **historical simulation**, which covers the period 1850 to 2015 using the historicallly observed forcing of the climate system.\n",
    "\n",
    "\n",
    "\n"
   ]
  },
  {
   "cell_type": "markdown",
   "metadata": {
    "execution": {}
   },
   "source": [
    "##**Section 1.1: Finding & opening CMIP6 data with xarray**\n",
    "\n",
    "Massive projects like CMIP6 can contain millions of datasets. For most practical applications we only need a subset of the data. To do this, we need to specify exactly which data sets we need. The naming convections of CMIP6 data sets are standardized across all models and experiments, which allows us to load multiple related data sets with efficient code.\n",
    "\n",
    "In order to load a CMIP6 dataset the following information must be specified:\n",
    "1. ***variable_id***: The variable(s) of interest  \n",
    "  * in CMIP6 SST is called *tos*\n",
    "2. ***source_id***: The CMIP6 model(s) that we want data from \n",
    "3. ***table_id***: The origin system and output frequency desired of the variable(s) \n",
    "  * We use *Omon* - data from the ocean model at monthly resolution\n",
    "4. ***grid_id***: The grid that we want the data to be on\n",
    "  * We use *gn*  which is data on the model's *native* grid, some models also provide *gr* (*regridded* data) and other grid options\n",
    "5. ***experiment_id***: The CMIP6 experiments that we want to analyze\n",
    "  * We will load three experiments: *historical*, *ssp126* and *ssp585*. We'll discuss these more in the next few tutorials\n",
    "6. ***member_id***: this distinguishes simulations if the same model is run repeatedly for an experiment\n",
    "  * We use *r1i1p1f1* for now, but will explore this in a later tutorial\n",
    "\n",
    "Each of these terms is called a *facet* in CMIP vocabulary.\n",
    "\n",
    "Once you have defined the facets of interest you need to somehow search and retrieve the datasets that contain these facets. \n",
    "\n",
    "There are many ways to do this, but here we will show a workflow using an [intake-esm](https://intake-esm.readthedocs.io/en/stable/) catalog object based on a CSV file that is maintained by the pangeo community.\n",
    "\n",
    "\n"
   ]
  },
  {
   "cell_type": "code",
   "execution_count": null,
   "metadata": {
    "execution": {}
   },
   "outputs": [],
   "source": [
    "col = intake.open_esm_datastore(\"https://storage.googleapis.com/cmip6/pangeo-cmip6.json\") # open an intake catalog containing the Pangeo CMIP cloud data"
   ]
  },
  {
   "cell_type": "markdown",
   "metadata": {
    "execution": {}
   },
   "source": [
    "We just loaded the full collection of Pangeo cloud datasets into an intake catalog, and defined a list of 5 example models ('source_ids') for this demonstration\n",
    "\n",
    "> There are many more to test out! Try running `col.df['source_id'].unique()` in a new cell to get a list of all available models\n",
    "\n",
    "Now we will create then creates a subset according to the provided facets using the `.search()` method, and finally opens the [zarr stores]() in the cloud into xarray datasets. \n",
    "\n",
    "> The data returned are xarray datasets which contain [dask arrays](https://docs.dask.org/en/stable/array.html). These are 'lazy', meaning the actual data will only be loaded when a computation is performed. What is loaded here is only the metadata, which enables us to inspect e.g. the dimensionality/variable units etc without loading in GBs or TBs of data!\n",
    "\n",
    "A subtle but important step in the opening stage is the use of a preprocessing function! By passing `preprocess=combined_preprocessing` we apply crowdsourced fixes from the [xMIP](https://github.com/jbusecke/xmip) package to each dataset. This ensures consistent naming of dimensions (and other convienient things - see [here](https://cmip6-preprocessing.readthedocs.io/en/latest/tutorial.html) for more)."
   ]
  },
  {
   "cell_type": "code",
   "execution_count": null,
   "metadata": {
    "execution": {},
    "executionInfo": {
     "elapsed": 8712,
     "status": "ok",
     "timestamp": 1681772839862,
     "user": {
      "displayName": "Brodie Pearson",
      "userId": "05269028596972519847"
     },
     "user_tz": 420
    }
   },
   "outputs": [],
   "source": [
    "# from the full `col` object, create a subset using facet search\n",
    "cat = col.search(\n",
    "    source_id='CESM2',\n",
    "    variable_id=['hfls', 'hfss', 'rlds', 'rlus', 'rsds', 'rsus', 'tas', 'rsdt', 'rsut', 'rlut'],\n",
    "    member_id='r1i1p1f1',\n",
    "    table_id='Amon',\n",
    "    grid_label='gn',\n",
    "    experiment_id = ['historical','hist-nat'],\n",
    "    require_all_on = ['source_id'] #make sure that we only get models which have all of the above experiments\n",
    ")\n",
    "\n",
    "# convert the sub-catalog into a datatree object, by opening each dataset into an xarray.Dataset (without loading the data)\n",
    "kwargs = dict(\n",
    "    preprocess=combined_preprocessing, #apply xMIP fixes to each dataset\n",
    "    xarray_open_kwargs=dict(use_cftime=True), #ensure all datasets use the same time index\n",
    "    storage_options={'token':'anon'} #anonymous/public authentication to google cloud storage\n",
    ")\n",
    "\n",
    "cat.esmcat.aggregation_control.groupby_attrs = ['source_id', 'experiment_id']\n",
    "dt = cat.to_datatree(**kwargs)"
   ]
  },
  {
   "cell_type": "markdown",
   "metadata": {
    "execution": {}
   },
   "source": [
    "##**Section 1.2: Checking the CMIP6 datasets**\n",
    "\n",
    "We now have a \"datatree\" containing the data we searched for. A datatree is a high-level container of xarray data, useful for organizing many related datasets together. You can think of a single `DataTree` object as being like a (nested) dictionary of `xarray.Dataset` objects. Each dataset in the tree is known as a \"node\" or \"group\", and we can also have empty nodes. You can explore the nodes of the tree and its contents interactively in a similar way to how you can explore the contents of an `xarray.Dataset`:"
   ]
  },
  {
   "cell_type": "code",
   "execution_count": null,
   "metadata": {
    "execution": {},
    "executionInfo": {
     "elapsed": 1263,
     "status": "ok",
     "timestamp": 1681700860145,
     "user": {
      "displayName": "Brodie Pearson",
      "userId": "05269028596972519847"
     },
     "user_tz": 420
    }
   },
   "outputs": [],
   "source": [
    "dt"
   ]
  },
  {
   "cell_type": "markdown",
   "metadata": {
    "execution": {}
   },
   "source": [
    "Each group in the tree is stored under a corresponding `name`, and we can select nodes via their name. The real usefulness of a datatree comes from having many groups at different depths, analogous to how one might store files in nested directories (e.g. `day1/experiment1/data.txt`, `day1/experiment2/data.txt` etc.). \n",
    "\n",
    "In our case our particular datatree object has different CMIP models and different experiments stored at distinct levels of the tree. This is useful because we can select just one experiment for one model, or all experiments for one model, or all experiments for all models!\n",
    "\n",
    "We can also apply xarray operations (e.g. taking the average using the `.mean()` method) over all the data in a tree at once, just by calling that same method on the `DataTree` object. We can even map custom functions over all nodes in the tree using `dt.map_over_subtree(my_function)`.\n",
    "\n",
    "All the operations below can be accomplished without using datatrees, but it saves us many lines of code as we don't have to use `for` loops over all our the different datasets. For more information about datatree see the [documentation here](https://xarray-datatree.readthedocs.io/en/latest/index.html).\n",
    "\n",
    "Now, let's pull out relevant CESM2 datasets from the datatree; the *historical* simulation (human & natural forcing) and the *hist-nat* simulation (natural forcing only)."
   ]
  },
  {
   "cell_type": "code",
   "execution_count": null,
   "metadata": {
    "execution": {},
    "executionInfo": {
     "elapsed": 9,
     "status": "ok",
     "timestamp": 1681701678408,
     "user": {
      "displayName": "Brodie Pearson",
      "userId": "05269028596972519847"
     },
     "user_tz": 420
    }
   },
   "outputs": [],
   "source": [
    "# the historical including anthropogenic forcing\n",
    "hist =  dt['CESM2']['historical']\n",
    "hist"
   ]
  },
  {
   "cell_type": "code",
   "execution_count": null,
   "metadata": {
    "execution": {},
    "executionInfo": {
     "elapsed": 209,
     "status": "ok",
     "timestamp": 1681701679742,
     "user": {
      "displayName": "Brodie Pearson",
      "userId": "05269028596972519847"
     },
     "user_tz": 420
    }
   },
   "outputs": [],
   "source": [
    "# the historical run without anthropogenic forcing\n",
    "hist_nat = dt['CESM2']['hist-nat']\n",
    "hist_nat"
   ]
  },
  {
   "cell_type": "markdown",
   "metadata": {
    "execution": {}
   },
   "source": [
    "# Section 2 :  Surface Energy Balance"
   ]
  },
  {
   "cell_type": "markdown",
   "metadata": {
    "execution": {}
   },
   "source": [
    "\n",
    "Up until this point we have been analyzing budgets at the top of the atmopshere. Now we will move to Earth's surface, where we will run into both familiar and unfamiliar terminology. \n",
    "\n",
    "The first two terms we will analyze define the radiative component of the surface energy budget: shortwave and longwave radiation. For each of these terms, there is an upwelling and downwelling component. This is because, for example, some of the shortwave radiation is reflected due to the surface albedo, and some longwave radiation from Earth is directed back to Earth's surface from the atmopshere. The net is given as \n",
    "\n",
    "\\begin{align}\n",
    "R_{net} = [R_{\\uparrow S} - R_{\\downarrow S}] + [R_{\\uparrow L} - R_{\\downarrow L}]\n",
    "\\end{align}\n",
    "\n",
    "where the arrows indicate up(down)welling and the S and L are shortwave and longwave. Note that in keeping with the rest of the variables we will look at, the net radiation is defined with a positive value to be a flux from the ocean or land to the atmosphere. That is, positive indicates an heat transport away from the surface (upward).\n",
    "\n",
    "We will also be looking at latent and sensible heat. **[Sensible heat](https://glossary.ametsoc.org/wiki/Sensible_heat://)** is the heat transfered due to a temperature difference between touching materials, for example between the air and the land or ocean surface. In this case, if the surface air is warmer than the land/ocean then heat is transferred from the air to the land/ocean (which is a downward or negative sensible heat flux), with an opposite-direction transfer if the air was colder than the land/ocean.\n",
    "\n",
    "**[Latent heat](https:https://glossary.ametsoc.org/wiki/Latent_heat//)** is due to evaporation and condensation of water, as these phase changes absorb and release heat respectively. Here 'latent' means hidden, in that the energy is stored in molecules and there is no temperature change sensed through a thermometer even though a heat transfer takes place.\n",
    "\n",
    "While these are not the only terms that comprise the surface energy budget (i.e. geothermal heating, latent heat of fusion for melting ice or snow, biological processes) these are typically the dominant terms that set the global patterns.\n",
    "\n",
    "Let's take a look at the 'long names' of some of the variables we just downloaded.\n"
   ]
  },
  {
   "cell_type": "code",
   "execution_count": null,
   "metadata": {
    "execution": {},
    "executionInfo": {
     "elapsed": 353,
     "status": "ok",
     "timestamp": 1681701687079,
     "user": {
      "displayName": "Brodie Pearson",
      "userId": "05269028596972519847"
     },
     "user_tz": 420
    }
   },
   "outputs": [],
   "source": [
    "hist.hfls.long_name,hist.hfss.long_name,hist.rlds.long_name,hist.rlus.long_name,hist.rsds.long_name,hist.rsus.long_name"
   ]
  },
  {
   "cell_type": "code",
   "execution_count": null,
   "metadata": {
    "execution": {}
   },
   "outputs": [],
   "source": [
    "%matplotlib inline"
   ]
  },
  {
   "cell_type": "code",
   "execution_count": null,
   "metadata": {
    "execution": {}
   },
   "outputs": [],
   "source": [
    "# predefine heat fluxes for each experiement, take annual means\n",
    "\n",
    "# model output variables (.squeeze() removes singleton dimensions)\n",
    "hist_am_latent_heat_flux = hist.ds.hfls.mean(dim='time').squeeze()\n",
    "hist_am_sensible_heat_flux = hist.ds.hfss.mean(dim='time').squeeze()\n",
    "hist_am_downwelling_longwave_flux = hist.ds.rlds.mean(dim='time').squeeze()\n",
    "hist_am_upwelling_longwave_flux = hist.ds.rlus.mean(dim='time').squeeze()\n",
    "hist_am_downwelling_shortwave_flux = hist.ds.rsds.mean(dim='time').squeeze()\n",
    "hist_am_upwelling_shortwave_flux = hist.ds.rsus.mean(dim='time').squeeze()\n",
    "\n",
    "# derived ariables\n",
    "hist_am_net_shortwave_heat_flux = hist_am_upwelling_shortwave_flux - hist_am_downwelling_shortwave_flux\n",
    "hist_am_net_longwave_heat_flux = hist_am_upwelling_longwave_flux - hist_am_downwelling_longwave_flux\n",
    "hist_am_net_heat_flux = hist_am_net_shortwave_heat_flux + hist_am_net_longwave_heat_flux + hist_am_latent_heat_flux + hist_am_sensible_heat_flux"
   ]
  },
  {
   "cell_type": "markdown",
   "metadata": {
    "execution": {}
   },
   "source": [
    "Now we will plot the annual mean over the historical time period 1850-2015."
   ]
  },
  {
   "cell_type": "code",
   "execution_count": null,
   "metadata": {
    "execution": {},
    "executionInfo": {
     "elapsed": 99914,
     "status": "ok",
     "timestamp": 1681701792787,
     "user": {
      "displayName": "Brodie Pearson",
      "userId": "05269028596972519847"
     },
     "user_tz": 420
    }
   },
   "outputs": [],
   "source": [
    "fig, ([ax_latent, ax_shortwave], [ax_sensible, ax_longwave]) = plt.subplots(\n",
    "    ncols=2, nrows=2,\n",
    "    figsize=[12,6],\n",
    "    subplot_kw={'projection':ccrs.Robinson()}\n",
    ")\n",
    "\n",
    "# plot surface latent heat flux the first month of the historical period\n",
    "hist_am_latent_heat_flux.plot(ax=ax_latent, x='lon', y='lat', transform=ccrs.PlateCarree(), vmin=-300, vmax=300, cmap='coolwarm', robust=True,\n",
    "                  cbar_kwargs={'label': '$W/m^2$'})\n",
    "ax_latent.coastlines()\n",
    "ax_latent.set_title('Latent Heat Flux')\n",
    "\n",
    "# Repeat for sensible heat flux\n",
    "hist_am_sensible_heat_flux.plot(ax=ax_sensible, x='lon', y='lat', transform=ccrs.PlateCarree(), vmin=-150, vmax=150, cmap='coolwarm', robust=True,\n",
    "                  cbar_kwargs={'label': '$W/m^2$'})\n",
    "ax_sensible.coastlines()\n",
    "ax_sensible.set_title('Sensible Heat Flux')\n",
    "\n",
    "# Repeat for net shortwave radiative heat flux\n",
    "hist_am_net_shortwave_heat_flux.plot(ax=ax_shortwave, x='lon', y='lat', transform=ccrs.PlateCarree(), vmin=-300, vmax=300, cmap='coolwarm', robust=True,\n",
    "                  cbar_kwargs={'label': '$W/m^2$'})\n",
    "ax_shortwave.coastlines()\n",
    "ax_shortwave.set_title('Net Upward Shortwave Flux')\n",
    "\n",
    "# Repeat for net longwave radiative heat flux\n",
    "hist_am_net_longwave_heat_flux.plot(ax=ax_longwave, x='lon', y='lat', transform=ccrs.PlateCarree(), vmin=-150, vmax=150, cmap='coolwarm', robust=True,\n",
    "                  cbar_kwargs={'label': '$W/m^2$'})\n",
    "ax_longwave.coastlines()\n",
    "ax_longwave.set_title('Net Upward Longwave Flux')"
   ]
  },
  {
   "cell_type": "markdown",
   "metadata": {
    "execution": {}
   },
   "source": [
    "## Questions"
   ]
  },
  {
   "cell_type": "markdown",
   "metadata": {
    "execution": {}
   },
   "source": [
    "1. What do you think could cause the stark spatial variations of the sensible heat flux between strong positive, weak, and strong negative fluxes? Discuss ocean, land and ice in your answer.\n",
    "2. Describe the zonal and meridional patterns of longwave radiation. Can you think of what atmospheric processes might be related?"
   ]
  },
  {
   "cell_type": "markdown",
   "metadata": {
    "execution": {}
   },
   "source": [
    "# Section 3: Surface Energy Budget by Latitude"
   ]
  },
  {
   "cell_type": "markdown",
   "metadata": {
    "execution": {}
   },
   "source": [
    "We can also calculate a *zonal average* which allows us to comapare the contributions of each of these fluxes to the net heat flux by latitude (similar to the plot in the last lecture that considered the RCE model prediction as a function of latitude).\n",
    "\n",
    "Abbie and Brodie: Comment on how we can average (without cell area concerns) in CESM or no? Also double check that we can please."
   ]
  },
  {
   "cell_type": "code",
   "execution_count": null,
   "metadata": {
    "execution": {}
   },
   "outputs": [],
   "source": [
    "# find the zonal means (.squeeze() removes singleton dimensions)\n",
    "hist_azm_latent_heat_flux = hist_am_latent_heat_flux.mean(dim='x').squeeze()\n",
    "hist_azm_sensible_heat_flux = hist_am_sensible_heat_flux.mean(dim='x').squeeze()\n",
    "hist_azm_net_shortwave_flux = hist_am_net_shortwave_heat_flux.mean(dim='x').squeeze()\n",
    "hist_azm_net_longwave_flux = hist_am_net_longwave_heat_flux.mean(dim='x').squeeze()\n",
    "hist_azm_net_heat_flux = hist_am_net_heat_flux.mean(dim='x').squeeze()"
   ]
  },
  {
   "cell_type": "code",
   "execution_count": null,
   "metadata": {
    "execution": {},
    "executionInfo": {
     "elapsed": 34008,
     "status": "ok",
     "timestamp": 1681701864340,
     "user": {
      "displayName": "Brodie Pearson",
      "userId": "05269028596972519847"
     },
     "user_tz": 420
    }
   },
   "outputs": [],
   "source": [
    "lat = hist_am_latent_heat_flux.lat[0,:]\n",
    "\n",
    "fig = plt.figure(figsize=(8,5))\n",
    "\n",
    "plt.plot(lat, hist_azm_latent_heat_flux, label = 'Latent Heat')\n",
    "plt.plot(lat, hist_azm_sensible_heat_flux, label = 'Sensible Heat')\n",
    "plt.plot(lat, hist_azm_net_shortwave_flux, label = 'Shortwave')\n",
    "plt.plot(lat, hist_azm_net_longwave_flux, label = 'Longwave')\n",
    "plt.plot(lat, hist_azm_net_heat_flux, label = 'Net')\n",
    "plt.plot(lat, 0*lat, color = 'black')\n",
    "\n",
    "plt.title('Components of Annual Surface Energy Budget (+ up)')\n",
    "plt.legend()"
   ]
  },
  {
   "cell_type": "markdown",
   "metadata": {
    "execution": {}
   },
   "source": [
    "## Questions"
   ]
  },
  {
   "cell_type": "markdown",
   "metadata": {
    "execution": {}
   },
   "source": [
    "1.  Describe the dominant balance in the tropics (30S to 30N)\n",
    "2.  What about for the polar regions (above 60N and 60S).\n",
    "3.  What do you think the dip in latent heat is around the equator?\n",
    "4.  Is there symmetry in the longwave radiation in the high southern and northern latitudes? What about for sensible heat?\n",
    "\n",
    "*BONUS QUESTION:*\n",
    "\n",
    "5. Hypothetically, imagine this plot showed that the net heat flux was:\n",
    "  - -100 $W m^{-2}$ between 45$^oN$ to 45$^oS$ (i.e., 90 degrees of latitude centered on the Equator) and,\n",
    "  - +100 $W m^{-2}$ between 45$^oN$ to 90$^oN$ and also between 45$^oS$ to 90$^oS$\n",
    "\n",
    "  Would you expect Earth to warm, cool, or remain the same temperature? Why? \n",
    "  \n",
    "  *BONUS BONUS QUESTION: Can you suggest adjusted latitude ranges for these two fluxes that would create the other two Earth trajectories?*"
   ]
  },
  {
   "cell_type": "code",
   "execution_count": null,
   "metadata": {
    "execution": {},
    "executionInfo": {
     "elapsed": 167,
     "status": "ok",
     "timestamp": 1680721111796,
     "user": {
      "displayName": "Brodie Pearson",
      "userId": "05269028596972519847"
     },
     "user_tz": 420
    }
   },
   "outputs": [],
   "source": [
    "print(hist_am_latent_heat_flux.lat[:,-50:-1].sum(dim='y'))"
   ]
  },
  {
   "cell_type": "code",
   "execution_count": null,
   "metadata": {
    "execution": {},
    "executionInfo": {
     "elapsed": 908,
     "status": "ok",
     "timestamp": 1680721148129,
     "user": {
      "displayName": "Brodie Pearson",
      "userId": "05269028596972519847"
     },
     "user_tz": 420
    }
   },
   "outputs": [],
   "source": [
    "print(hist_am_latent_heat_flux.lon[-50:-1,:].sum(dim='x'))"
   ]
  }
 ],
 "metadata": {
  "colab": {
   "collapsed_sections": [],
   "include_colab_link": true,
   "name": "W1D5_Tutorial6",
   "provenance": [],
   "toc_visible": true
  },
  "kernel": {
   "display_name": "Python 3",
   "language": "python",
   "name": "python3"
  },
  "kernelspec": {
   "display_name": "Python 3 (pangeo)",
   "language": "python",
   "name": "pangeo"
  },
  "language_info": {
   "codemirror_mode": {
    "name": "ipython",
    "version": 3
   },
   "file_extension": ".py",
   "mimetype": "text/x-python",
   "name": "python",
   "nbconvert_exporter": "python",
   "pygments_lexer": "ipython3",
   "version": "3.10.10"
  }
 },
 "nbformat": 4,
 "nbformat_minor": 0
}