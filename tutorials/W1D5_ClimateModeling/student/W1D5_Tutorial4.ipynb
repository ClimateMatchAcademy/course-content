{
 "cells": [
  {
   "cell_type": "markdown",
   "metadata": {
    "execution": {}
   },
   "source": [
    "#**Tutorial # 4 : Ice-Albedo Feedback**\n",
    "\n",
    "\n",
    "**Week 1, Day 5, Climate Modeling**\n",
    "\n",
    "**Content creators:** Jenna Pearson, Brodie Pearson, and Abigail Bodner\n",
    "\n",
    "**Content reviewers:** Draco Xu\n",
    "\n",
    "**Content editors:** TBD\n",
    "\n",
    "**Production editors:** TBD\n",
    "\n",
    "**Our 2023 Sponsors:** TBD\n",
    "\n",
    "\n",
    "Link to paleo climate and also to brodie's speaker slides on tipping points.\n",
    "\n",
    "add colorbar to last plots\n",
    "\n",
    "fill in objectives\n",
    "\n"
   ]
  },
  {
   "cell_type": "markdown",
   "metadata": {
    "execution": {}
   },
   "source": [
    "#**Tutorial Objectives**\n",
    "\n",
    "In this tutorial students will learn about the temperature dependent albedo, and how changing the insolation affects the equilibrium temperature.\n",
    "\n",
    "By the end of this tutorial students will be able to:\n",
    "* Apply a function of temeperature dependent albedo to their existing climate model.\n",
    "* Understand the impact of insolation on the equilibrium temperature, and how this relates to snowball and hothouse Earth."
   ]
  },
  {
   "cell_type": "markdown",
   "metadata": {
    "execution": {}
   },
   "source": [
    "# Setup"
   ]
  },
  {
   "cell_type": "markdown",
   "metadata": {
    "execution": {}
   },
   "source": [
    "## Package Imports"
   ]
  },
  {
   "cell_type": "code",
   "execution_count": null,
   "metadata": {
    "execution": {},
    "executionInfo": {
     "elapsed": 1179,
     "status": "ok",
     "timestamp": 1682069447180,
     "user": {
      "displayName": "Ohad Zivan",
      "userId": "06528534325719580785"
     },
     "user_tz": -120
    }
   },
   "outputs": [],
   "source": [
    "import xarray as xr                     # used to manipulate data and open datasets\n",
    "import numpy as np                      # used for algeba and array operations\n",
    "import matplotlib.pyplot as plt         # used for plotting\n",
    "from scipy.optimize import brentq       # used for numerical root-finding to get the equilibria"
   ]
  },
  {
   "cell_type": "markdown",
   "metadata": {
    "execution": {}
   },
   "source": [
    "## Figure Settings"
   ]
  },
  {
   "cell_type": "code",
   "execution_count": null,
   "metadata": {
    "execution": {},
    "executionInfo": {
     "elapsed": 517,
     "status": "ok",
     "timestamp": 1682069448933,
     "user": {
      "displayName": "Ohad Zivan",
      "userId": "06528534325719580785"
     },
     "user_tz": -120
    }
   },
   "outputs": [],
   "source": [
    "import ipywidgets as widgets       # interactive display\n",
    "%config InlineBackend.figure_format = 'retina'\n",
    "plt.style.use(\"https://raw.githubusercontent.com/ClimateMatchAcademy/course-content/main/cma.mplstyle\")"
   ]
  },
  {
   "cell_type": "markdown",
   "metadata": {
    "execution": {}
   },
   "source": [
    "# Section 1 : Temperature Dependent Albedo"
   ]
  },
  {
   "cell_type": "markdown",
   "metadata": {
    "execution": {}
   },
   "source": [
    "When earth's surface warms, snow and ice melt. This decreases the amount of solar radiation that is reflected off Earth's surface, and lowers the **albedo (**$\\mathbf{\\alpha}$**)**. This in turn warms the climate and more snow and ice melt. This is referred to as a **postive feedback**. Positive feedbacks amplify the changes that are already occurring. This particular feedback is referred to as the **ice-albedo feedback**.\n",
    "\n",
    "A simple introduction of this feature is through a temperature dependent albedo defined by a ramp function (see lecture slides).\n",
    "\n",
    "\\begin{align}\n",
    "\\alpha = \\left\\{\n",
    "        \\begin{array}{cl}\n",
    "        0.3 & T \\gt 280 K \\\\\n",
    "        0.3 + m \\cdot (280-T) & 250 \\le T \\le 280 \\\\\n",
    "        0.7 & T \\lt 250\n",
    "        \\end{array}\n",
    "        \\right.\n",
    "\\end{align}\n",
    "\n",
    "where $m = (0.7-0.3)/(280-250) = 0.013$.\n",
    "\n",
    "With the new albedo definition, we can plot the graphs of ASR and OLR. Notice how ASR has a similar ramp shape to the albedo, as it is proportional to it."
   ]
  },
  {
   "cell_type": "code",
   "execution_count": null,
   "metadata": {
    "execution": {},
    "executionInfo": {
     "elapsed": 912,
     "status": "ok",
     "timestamp": 1681699458086,
     "user": {
      "displayName": "Jenna Pearson",
      "userId": "05648130581702734913"
     },
     "user_tz": 420
    }
   },
   "outputs": [],
   "source": [
    "# create a array ot temperatures to evaluates the ASR and OLR at\n",
    "T = np.arange(220,320,2)\n",
    "\n",
    "#create empty arrays to fill with values later\n",
    "ASR = np.zeros_like(T)\n",
    "OLR = np.zeros_like(T)\n",
    "\n",
    "# define the slope of the ramp function\n",
    "m = (0.7-0.3)/(280-250)\n",
    "\n",
    "# define the observed insolation based on observations from the IPCC AR6 Figure 7.2\n",
    "Q = 340 # W m^-2\n",
    "\n",
    "# define transmissivity (calculated previously from observations in tutorial 1)\n",
    "tau = 0.6127 # unitless number between 0 and 1\n",
    "\n",
    "# define the Stefan-Boltzmann Constant, noting we are using 'e' for scientific notation\n",
    "sigma = 5.67e-8 # W m^-2 K^-4\n",
    "\n",
    "# calculate ASR and OLR for different values of T\n",
    "for tt, temp in enumerate(T):\n",
    "\n",
    "    # define the ramp function for albedo\n",
    "    if temp > 280:\n",
    "        alpha=0.3\n",
    "    elif temp>=250:\n",
    "        alpha=0.3+m*(280-temp)\n",
    "    else:\n",
    "        alpha=0.7\n",
    "\n",
    "    ASR[tt] = (1-alpha)*Q\n",
    "    OLR[tt] = tau * sigma * temp**4\n",
    "\n",
    "# make plots\n",
    "plt.plot(T,ASR, label = 'ASR')\n",
    "plt.plot(T,OLR, label = 'OLR')\n",
    "\n",
    "plt.title('', fontsize=16)\n",
    "plt.xlabel('Temperature (K)', fontsize=14)\n",
    "plt.ylabel('Radiative Flux',fontsize=14)\n",
    "plt.legend()"
   ]
  },
  {
   "cell_type": "markdown",
   "metadata": {
    "execution": {}
   },
   "source": [
    "## Questions"
   ]
  },
  {
   "cell_type": "markdown",
   "metadata": {
    "execution": {}
   },
   "source": [
    "1.  How many times do the graphs of ASR and OLR intersect?"
   ]
  },
  {
   "cell_type": "markdown",
   "metadata": {
    "execution": {}
   },
   "source": [
    "# Section 2 : Multiple Equilibria From Graphs"
   ]
  },
  {
   "cell_type": "markdown",
   "metadata": {
    "execution": {}
   },
   "source": [
    "\n",
    "**Equilibria** are solutions to the model equation when the rate of change of tempearture is zero. Graphically, equilibria represent the long-term behavior of the temperature curves.\n",
    "\n",
    "A *stable equilibrium* temperature is what the model converges to (moves towards) after a long time. An *unstable equilibrium* temperature is a solution to the equation that the model diverges (moves away) from over time. \n",
    " \n",
    "We can now include this temperature dependent albedo into the time dependent model we created in Tutorial # 3 and investigate the long-term behavior of our temperature curves."
   ]
  },
  {
   "cell_type": "code",
   "execution_count": null,
   "metadata": {
    "execution": {},
    "executionInfo": {
     "elapsed": 2,
     "status": "ok",
     "timestamp": 1682069593068,
     "user": {
      "displayName": "Ohad Zivan",
      "userId": "06528534325719580785"
     },
     "user_tz": -120
    }
   },
   "outputs": [],
   "source": [
    "# define transmissivity (calculated previously from observations in tutorial 1)\n",
    "tau = 0.6127 # unitless number between 0 and 1\n",
    "\n",
    "# define the observed insolation based on observations from the IPCC AR6 Figure 7.2\n",
    "Q = 340 # W m^-2\n",
    "\n",
    "# create a function to find the new tempeature based on the previous using Euler's method.\n",
    "def step_forward(T,tau,Q):\n",
    "\n",
    "    # define the heat capacity (previous calcuated)\n",
    "    C = 286471954.64 # J m^-2K^-2\n",
    "\n",
    "    # define the slope of the ramp function\n",
    "    m = (0.7-0.3)/(280-250)\n",
    "\n",
    "    # define the ramp function for albedo\n",
    "    if T > 280:\n",
    "        alpha=0.3\n",
    "    elif T>=250:\n",
    "        alpha=0.3+m*(280-T)\n",
    "    else:\n",
    "        alpha=0.7\n",
    "\n",
    "    # define the Stefan-Boltzmann Constant, noting we are using 'e' for scientific notation\n",
    "    sigma = 5.67e-8 # W m^-2 K^-4\n",
    "\n",
    "    ASR = (1-alpha)*Q\n",
    "    OLR = tau * sigma * T**4\n",
    "\n",
    "    T_new = T + dt / C * ( ASR - OLR )\n",
    "\n",
    "    return T_new"
   ]
  },
  {
   "cell_type": "markdown",
   "metadata": {
    "execution": {}
   },
   "source": [
    "Let us explore how our model behaves under a variety of intial temperatures. We can use a for loop to help us use our model funtion interatively."
   ]
  },
  {
   "cell_type": "code",
   "execution_count": null,
   "metadata": {
    "execution": {},
    "executionInfo": {
     "elapsed": 249,
     "status": "ok",
     "timestamp": 1681699458330,
     "user": {
      "displayName": "Jenna Pearson",
      "userId": "05648130581702734913"
     },
     "user_tz": 420
    }
   },
   "outputs": [],
   "source": [
    "# these are the intial tempeartures we will use\n",
    "np.linspace(220,300,49)"
   ]
  },
  {
   "cell_type": "code",
   "execution_count": null,
   "metadata": {
    "execution": {},
    "executionInfo": {
     "elapsed": 1690,
     "status": "ok",
     "timestamp": 1682069718713,
     "user": {
      "displayName": "Ohad Zivan",
      "userId": "06528534325719580785"
     },
     "user_tz": -120
    }
   },
   "outputs": [],
   "source": [
    "# dt = 60. * 60. * 24. * 365.   # time interval, one year expressed in seconds\n",
    "\n",
    "# for init_temp in np.linspace(220,300,49):  # suite of intial temperatures in K\n",
    "#   numtsteps = 40     #  number of years to run the model\n",
    "\n",
    "#   # for converting number of seconds in a year\n",
    "#   sec_2_yr = 3.154e7\n",
    "\n",
    "#   # define empty arrays to store the time series of temperature and the corresponding years\n",
    "#   T_series = np.zeros((numtsteps+1))\n",
    "#   t_series = np.zeros((numtsteps+1))\n",
    "\n",
    "#   # define the intial temperature\n",
    "#   T_series[0] = init_temp\n",
    "\n",
    "#   # run the model\n",
    "#   for n in range(numtsteps):\n",
    "#       t_series[n+1] = (n+1)*dt/sec_2_yr\n",
    "#       T_series[n+1] = step_forward( T_series[n],tau, Q )\n",
    "\n",
    "#   # make plot\n",
    "#   plt.plot(t_series,T_series)\n",
    "\n",
    "\n",
    "# Ohad \"cleaner\" version:\n",
    "dt = 60. * 60. * 24. * 365.   # time interval, one year expressed in seconds\n",
    "for init_temp in range(220,300,2):\n",
    "  numyears=40\n",
    "  T_series=[init_temp]\n",
    "  for n in range(numyears):\n",
    "    T_series.append(step_forward( T_series[n],tau, Q ))\n",
    "  plt.plot(range(numyears+1),T_series)\n",
    "\n",
    "plt.title('Time Evolution of Temperature', fontsize=16)\n",
    "plt.xlabel('Time (years)', fontsize=14)\n",
    "plt.ylabel('Temperature (C)',fontsize=14)"
   ]
  },
  {
   "cell_type": "markdown",
   "metadata": {
    "execution": {}
   },
   "source": [
    "## Questions\n",
    "\n",
    "1. How many stable equilibria can you find on the figure above? Estimate their values.\n",
    "2. Can you spot the single unstable equilibria? Estimate it's value.\n",
    "3. What do these values represent on the figure you made from Part 1?"
   ]
  },
  {
   "cell_type": "markdown",
   "metadata": {
    "execution": {}
   },
   "source": [
    "# Section 3: Finding Equilibria Numerically, Determining Convergence or Divergence"
   ]
  },
  {
   "cell_type": "markdown",
   "metadata": {
    "execution": {}
   },
   "source": [
    "To verify the equilibria identified graphically in the previous section, we can use python to find the solutions to the equation when the rate of change in temeparture is zero. That is find the solution to \n",
    "\n",
    "\\begin{align}\n",
    "0 = ASR-OLR\n",
    "\\end{align}\n",
    "\n",
    "To aid us, we will use a 'root-finding function' from the scipy package."
   ]
  },
  {
   "cell_type": "code",
   "execution_count": null,
   "metadata": {
    "execution": {},
    "executionInfo": {
     "elapsed": 2,
     "status": "ok",
     "timestamp": 1682069900203,
     "user": {
      "displayName": "Ohad Zivan",
      "userId": "06528534325719580785"
     },
     "user_tz": -120
    }
   },
   "outputs": [],
   "source": [
    "### below we have modified things a bit to use a root solver\n",
    "def ASR(T, S=341.3):\n",
    "    # define the slope of the ramp function\n",
    "    m = (0.7-0.3)/(280-250)\n",
    "\n",
    "    # define the ramp function\n",
    "    if T > 280:\n",
    "        alpha=0.3\n",
    "    elif T>=250:\n",
    "        alpha=0.3+m*(280-T)\n",
    "    else:\n",
    "        alpha=0.7\n",
    "\n",
    "    return S * (1-alpha)\n",
    "\n",
    "def OLR(T, sigma=5.67E-8, tau=0.6127):\n",
    "    return tau * sigma * T**4\n",
    "\n",
    "def Ftoa(T):\n",
    "    return ASR(T) - OLR(T)\n",
    "\n",
    "#  it requires a function and two end-points be input as arguments\n",
    "#  it will look for a zero of the function between those end-points\n",
    "Teq1 = brentq(Ftoa, 200., 260.) # these ranges are from the intersections of the graphs of ASR and OLR\n",
    "Teq2 = brentq(Ftoa, 260., 280.)\n",
    "Teq3 = brentq(Ftoa, 280., 300.)\n",
    "\n",
    "print( Teq1, Teq2, Teq3)"
   ]
  },
  {
   "cell_type": "markdown",
   "metadata": {
    "execution": {}
   },
   "source": [
    "To asess the stability of these equilibria, we can plot the difference in ASR and OSR. This is the same function we used the brentq package on to find the temperatures at which the energy difference was zero. Thus, when the graph here is zero, those are the equilibrium values."
   ]
  },
  {
   "cell_type": "code",
   "execution_count": null,
   "metadata": {
    "execution": {},
    "executionInfo": {
     "elapsed": 1877,
     "status": "ok",
     "timestamp": 1681699462185,
     "user": {
      "displayName": "Jenna Pearson",
      "userId": "05648130581702734913"
     },
     "user_tz": 420
    }
   },
   "outputs": [],
   "source": [
    "T = np.arange(220,320,2)\n",
    "ASR = np.zeros_like(T)\n",
    "OLR = np.zeros_like(T)\n",
    "\n",
    "# define the slope of the ramp function\n",
    "m = (0.7-0.3)/(280-250)\n",
    "\n",
    "# define the observed insolation based on observations from the IPCC AR6 Figure 7.2\n",
    "Q = 340 # W m^-2\n",
    "\n",
    "# define transmissivity (calculated previously from observations in tutorial 1)\n",
    "tau = 0.6127 # unitless number between 0 and 1\n",
    "\n",
    "# define the Stefan-Boltzmann Constant, noting we are using 'e' for scientific notation\n",
    "sigma = 5.67e-8 # W m^-2 K^-4\n",
    "\n",
    "for tt, temp in enumerate(T):\n",
    "\n",
    "    # define the ramp function\n",
    "    if temp > 280:\n",
    "        alpha=0.3\n",
    "    elif temp>=250:\n",
    "        alpha=0.3+m*(280-temp)\n",
    "    else:\n",
    "        alpha=0.7\n",
    "\n",
    "    ASR[tt] = (1-alpha)*Q\n",
    "    OLR[tt] = tau * sigma * temp**4\n",
    "\n",
    "F = ASR-OLR\n",
    "plt.plot(T,F, color = 'k', linewidth = 3)\n",
    "\n",
    "# find positive values and fill with red\n",
    "pos_ind1 = T<=Teq1\n",
    "plt.fill_between(T[pos_ind1], 0, F[pos_ind1], color='red')\n",
    "\n",
    "pos_ind2 = (T>=Teq2) & (T<=Teq3)\n",
    "plt.fill_between(T[pos_ind2], 0, F[pos_ind2], color='red')\n",
    "\n",
    "# find negative values and fill with red\n",
    "neg_ind1 = (T>=Teq1) & (T<=Teq2)\n",
    "plt.fill_between(T[neg_ind1], 0, F[neg_ind1], color='blue')\n",
    "\n",
    "neg_ind2 = T>=Teq3\n",
    "plt.fill_between(T[neg_ind2], 0, F[neg_ind2], color='blue')\n",
    "\n",
    "plt.title('ASR-OLR', fontsize=16)\n",
    "plt.xlabel('Temperature (K)', fontsize=14)\n",
    "plt.ylabel('Radiative Flux',fontsize=14)"
   ]
  },
  {
   "cell_type": "markdown",
   "metadata": {
    "execution": {}
   },
   "source": [
    "The red regions represent when incoming energy is greater than that released to space from Earth's surface. Thus, the temperature is increasing. The blue regions represent temperatures where the outgoing radiation is larger than the incoming radiation, and so Earth is cooling.\n",
    "\n",
    "If for example, starting from an initial temperature below $T_{eq1}$ (which is in a red region), it will move to the right on the X axis, towards this equilibrium point. Conversely if starting between $T_{eq1}$ and $T_{eq1}$, (which is a blue region), the temperature is dropping and it will move to the left on the x axis towards $T_{eq1}$. Thus $T_{eq1}$ is a convergent, or stable equilibrium and the temperature curves will tend to this point after a long time."
   ]
  },
  {
   "cell_type": "markdown",
   "metadata": {
    "execution": {}
   },
   "source": [
    "## Questions"
   ]
  },
  {
   "cell_type": "markdown",
   "metadata": {
    "execution": {}
   },
   "source": [
    "1. Identify the stable and unstable equilibria from this graph. Do these agree with the figure you made in Part 2?"
   ]
  },
  {
   "cell_type": "markdown",
   "metadata": {
    "execution": {}
   },
   "source": [
    "# Section 4 : Changing Insolation"
   ]
  },
  {
   "cell_type": "markdown",
   "metadata": {
    "execution": {}
   },
   "source": [
    "Insolation (the amount of radiation Earth receives from the sun) is a fluctuating value. Sometimes it is lower, and sometimes it is higher than the currently observed $340 W m^{-2}$.\n",
    "\n",
    "We can use our model to look at the long term temperature behavior, or equilibria, when insolation varies. "
   ]
  },
  {
   "cell_type": "code",
   "execution_count": null,
   "metadata": {
    "execution": {},
    "executionInfo": {
     "elapsed": 1740,
     "status": "ok",
     "timestamp": 1681699463921,
     "user": {
      "displayName": "Jenna Pearson",
      "userId": "05648130581702734913"
     },
     "user_tz": 420
    }
   },
   "outputs": [],
   "source": [
    "# these are the values of insolation we will use\n",
    "insolation_vals = np.arange(280,500,3)\n",
    "\n",
    "#initial temperature we will use\n",
    "init_temp = 220 # K\n",
    "\n",
    "for i,insolation in enumerate(insolation_vals):  # suite of intial temperatures in K\n",
    "\n",
    "  numtsteps = 100     #  number of years to run the model\n",
    "\n",
    "  # for converting number of seconds in a year\n",
    "  sec_2_yr = 3.154e7\n",
    "\n",
    "  # define empty arrays to store the time series of temperature and the corresponding years\n",
    "  T_series = np.zeros((numtsteps+1))\n",
    "  t_series = np.zeros((numtsteps+1))\n",
    "\n",
    "  # define the intial temperature\n",
    "  T_series[0] = init_temp\n",
    "\n",
    "  # run the model\n",
    "  for n in range(numtsteps):\n",
    "      t_series[n+1] = (n+1)*dt/sec_2_yr\n",
    "      T_series[n+1] = step_forward( T_series[n],tau, Q=insolation )\n",
    "\n",
    "  # make plot\n",
    "  colors = plt.cm.coolwarm(np.linspace(0,1,insolation_vals.shape[0]))\n",
    "  plt.plot(t_series,T_series,color = colors[i])\n",
    "plt.ylabel('Temperature (K)', fontsize=14)\n",
    "plt.xlabel('Years',fontsize=14)"
   ]
  },
  {
   "cell_type": "markdown",
   "metadata": {
    "execution": {}
   },
   "source": [
    "Now let's try starting at a higher intial temperature"
   ]
  },
  {
   "cell_type": "code",
   "execution_count": null,
   "metadata": {
    "execution": {},
    "executionInfo": {
     "elapsed": 1200,
     "status": "ok",
     "timestamp": 1681699465117,
     "user": {
      "displayName": "Jenna Pearson",
      "userId": "05648130581702734913"
     },
     "user_tz": 420
    }
   },
   "outputs": [],
   "source": [
    "# these are the values of insolation we will use\n",
    "insolation_vals = np.arange(280,500,3)\n",
    "\n",
    "#initial temperature we will use\n",
    "init_temp = 320 # K\n",
    "\n",
    "for i,insolation in enumerate(insolation_vals):  # suite of intial temperatures in K\n",
    "\n",
    "  numtsteps = 100     #  number of years to run the model\n",
    "\n",
    "  # for converting number of seconds in a year\n",
    "  sec_2_yr = 3.154e7\n",
    "\n",
    "  # define empty arrays to store the time series of temperature and the corresponding years\n",
    "  T_series = np.zeros((numtsteps+1))\n",
    "  t_series = np.zeros((numtsteps+1))\n",
    "\n",
    "  # define the intial temperature\n",
    "  T_series[0] = init_temp\n",
    "\n",
    "  # run the model\n",
    "  for n in range(numtsteps):\n",
    "      t_series[n+1] = (n+1)*dt/sec_2_yr\n",
    "      T_series[n+1] = step_forward( T_series[n],tau, Q=insolation )\n",
    "\n",
    "  # make plot\n",
    "  colors = plt.cm.coolwarm(np.linspace(0,1,insolation_vals.shape[0]))\n",
    "  plt.plot(t_series,T_series,color = colors[i])\n",
    "plt.ylabel('Temperature (K)', fontsize=14)\n",
    "plt.xlabel('Years',fontsize=14)"
   ]
  },
  {
   "cell_type": "markdown",
   "metadata": {
    "execution": {}
   },
   "source": [
    "## Questions"
   ]
  },
  {
   "cell_type": "markdown",
   "metadata": {
    "execution": {}
   },
   "source": [
    "1. Does the insolation affect the number and value of the equilibrium solutions?\n",
    "2. What does the big gap in equilibrium solutions mean as the solar constant varies over time?\n",
    "3. At what temperatures do you note the rapid transitions from cold to warm in the first figure and warm to cold states in the second figure? How do these compare to your equation for albedo?\n",
    "4. How do you think this relates to snowball and hothouse paleoclimates?\n"
   ]
  },
  {
   "cell_type": "markdown",
   "metadata": {
    "execution": {}
   },
   "source": [
    "## Coding Exercises"
   ]
  },
  {
   "cell_type": "markdown",
   "metadata": {
    "execution": {}
   },
   "source": [
    "1. Using a for loop, plot the graph of $ASR-OLR$ for $Q=305, 340, 450, 500$. Make sure to label the lines as you plot them."
   ]
  },
  {
   "cell_type": "code",
   "execution_count": null,
   "metadata": {
    "execution": {}
   },
   "outputs": [],
   "source": [
    "# insert code here"
   ]
  },
  {
   "cell_type": "markdown",
   "metadata": {
    "colab_type": "text",
    "execution": {},
    "executionInfo": {
     "elapsed": 2072,
     "status": "ok",
     "timestamp": 1681699467182,
     "user": {
      "displayName": "Jenna Pearson",
      "userId": "05648130581702734913"
     },
     "user_tz": 420
    }
   },
   "source": [
    "[*Click for solution*](https://github.com/NeuromatchAcademy/course-content/tree/main//tutorials/W1D5_ClimateModeling/solutions/W1D5_Tutorial4_Solution_6f02e793.py)\n",
    "\n"
   ]
  }
 ],
 "metadata": {
  "colab": {
   "collapsed_sections": [],
   "include_colab_link": true,
   "name": "W1D5_Tutorial4",
   "provenance": [],
   "toc_visible": true
  },
  "kernel": {
   "display_name": "Python 3",
   "language": "python",
   "name": "python3"
  },
  "kernelspec": {
   "display_name": "Python 3 (pangeo)",
   "language": "python",
   "name": "pangeo"
  },
  "language_info": {
   "codemirror_mode": {
    "name": "ipython",
    "version": 3
   },
   "file_extension": ".py",
   "mimetype": "text/x-python",
   "name": "python",
   "nbconvert_exporter": "python",
   "pygments_lexer": "ipython3",
   "version": "3.10.10"
  }
 },
 "nbformat": 4,
 "nbformat_minor": 0
}