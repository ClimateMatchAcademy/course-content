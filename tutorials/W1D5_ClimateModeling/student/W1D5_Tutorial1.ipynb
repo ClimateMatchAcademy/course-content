{
 "cells": [
  {
   "cell_type": "markdown",
   "metadata": {
    "execution": {}
   },
   "source": [
    "#**Tutorial # 1 : A Simple Greenhouse Model**\n",
    "\n",
    "\n",
    "**Week 1, Day 5, Climate Modeling**\n",
    "\n",
    "**Content creators:** Jenna Pearson, Brodie Pearson, and Abigail Bodner\n",
    "\n",
    "**Content reviewers:** TBD\n",
    "\n",
    "**Content editors:** TBD\n",
    "\n",
    "**Production editors:** TBD\n",
    "\n",
    "**Our 2023 Sponsors:** TBD\n",
    "\n",
    "\n"
   ]
  },
  {
   "cell_type": "markdown",
   "metadata": {
    "execution": {}
   },
   "source": [
    "#**Tutorial Objectives**\n",
    "\n",
    "In this tutorial students will learn about the blackbody and greenhouse radiation models for energy emitted from Earth. \n",
    "\n",
    "By the end of this tutorial students will be able to:\n",
    "* Understand what an emission temperature is, and how to find it given observed outgoing longwave radiation.\n",
    "* Modify the blackbody radiation model to include the greenhouse effect."
   ]
  },
  {
   "cell_type": "markdown",
   "metadata": {
    "execution": {}
   },
   "source": [
    "# Setup"
   ]
  },
  {
   "cell_type": "markdown",
   "metadata": {
    "execution": {}
   },
   "source": [
    "## Package Imports"
   ]
  },
  {
   "cell_type": "code",
   "execution_count": null,
   "metadata": {
    "execution": {}
   },
   "outputs": [],
   "source": [
    "import xarray as xr                     # used to manipulate data and open datasets\n",
    "import numpy as np                      # used for algebra and array operations\n",
    "import matplotlib.pyplot as plt         # used for plotting"
   ]
  },
  {
   "cell_type": "markdown",
   "metadata": {
    "execution": {}
   },
   "source": [
    "## Figure Settings"
   ]
  },
  {
   "cell_type": "code",
   "execution_count": null,
   "metadata": {
    "execution": {}
   },
   "outputs": [],
   "source": [
    "import ipywidgets as widgets       # interactive display\n",
    "%config InlineBackend.figure_format = 'retina'\n",
    "plt.style.use(\"https://raw.githubusercontent.com/ClimateMatchAcademy/course-content/main/cma.mplstyle\")"
   ]
  },
  {
   "cell_type": "markdown",
   "metadata": {
    "execution": {}
   },
   "source": [
    "# Lecture"
   ]
  },
  {
   "cell_type": "code",
   "execution_count": null,
   "metadata": {
    "execution": {}
   },
   "outputs": [],
   "source": [
    "#Tech team will add code to format and display the video"
   ]
  },
  {
   "cell_type": "markdown",
   "metadata": {
    "execution": {}
   },
   "source": [
    "# Section 1 : Blackbody Radiation"
   ]
  },
  {
   "cell_type": "markdown",
   "metadata": {
    "execution": {}
   },
   "source": [
    "Suppose Earth behaves as a perfect blackbody radiatior, emitting **outgoing longwave radiation (OLR)** for a given **emission temperature** ($\\mathbf{T}$) following the Stefan-Boltzmann law.\n",
    "\n",
    "\\begin{align}\n",
    "OLR = \\sigma T^4\n",
    "\\end{align}\n",
    "\n",
    "Where the Stefan-Boltzmann constant $\\sigma = 5.67 \\times 10^{-8} W m^{-2} K^{-4}$.\n",
    "\n",
    "Rearranging the equation above, we can solve for the emission temperature of Earth, $T$.\n",
    "\n",
    "\\begin{align}\n",
    "T = \\sqrt[4]{\\frac{OLR}{\\sigma}}\n",
    "\\end{align}\n",
    "\n",
    "Using $OLR = 239 W m^{-2}$, python allows us to calculate this.\n"
   ]
  },
  {
   "cell_type": "code",
   "execution_count": null,
   "metadata": {
    "execution": {},
    "executionInfo": {
     "elapsed": 33,
     "status": "ok",
     "timestamp": 1681268100158,
     "user": {
      "displayName": "Jenna Pearson",
      "userId": "05648130581702734913"
     },
     "user_tz": 420
    }
   },
   "outputs": [],
   "source": [
    "# define the Stefan-Boltzmann Constant, noting we are using 'e' for scientific notation\n",
    "sigma = 5.67e-8 # W m^-2 K^-4\n",
    "\n",
    "# define the outgoing longwave radiation based on observations from the IPCC AR6 Figure 7.2\n",
    "OLR = 239 # W m^-2\n",
    "\n",
    "# plug into equation\n",
    "T = (OLR/sigma)**(1/4)\n",
    "\n",
    "# display answer\n",
    "print('Emission Temperature: ' ,T, 'K or',T - 273, 'C')"
   ]
  },
  {
   "cell_type": "markdown",
   "metadata": {
    "execution": {}
   },
   "source": [
    "## Questions"
   ]
  },
  {
   "cell_type": "markdown",
   "metadata": {
    "execution": {}
   },
   "source": [
    "1.   How does this compare to the actual global mean surface temperature of ~288 $K$ / 15 $C$?\n",
    "2.   Using $T = 288 K$ would you expect the corresponding outgoing longwave radiation to be higher or lower than the observed 239 $W m^{-2}$?\n",
    "2.   Is blackbody radiation a *good* model for Earth's radiation emission to space?\n",
    "3.   What could be taken account of in this model to make it more realistic?"
   ]
  },
  {
   "cell_type": "markdown",
   "metadata": {
    "execution": {}
   },
   "source": [
    "## Coding Exercises"
   ]
  },
  {
   "cell_type": "markdown",
   "metadata": {
    "execution": {}
   },
   "source": [
    "1.   By modifying the code above and solving for OLR, find the outgoing longwave radiation expected for the observed surface temperature of $288 K$."
   ]
  },
  {
   "cell_type": "code",
   "execution_count": null,
   "metadata": {
    "execution": {},
    "executionInfo": {
     "elapsed": 31,
     "status": "ok",
     "timestamp": 1681268100161,
     "user": {
      "displayName": "Jenna Pearson",
      "userId": "05648130581702734913"
     },
     "user_tz": 420
    }
   },
   "outputs": [],
   "source": [
    "# insert your solution here, replacing the ellipses (...) with code.\n",
    "\n",
    "# define the Stefan-Boltzmann Constant, noting we are using 'e' for scientific notation\n",
    "sigma = ... # W m^-2 K^-4\n",
    "\n",
    "# define the global mean surface temperature based on observations\n",
    "T = ... # K\n",
    "\n",
    "# plug into equation\n",
    "OLR = ...\n",
    "\n",
    "# display answer\n",
    "print('OLR: ' ,OLR, 'W m^2')"
   ]
  },
  {
   "cell_type": "markdown",
   "metadata": {
    "colab_type": "text",
    "execution": {},
    "executionInfo": {
     "elapsed": 27,
     "status": "ok",
     "timestamp": 1681268100162,
     "user": {
      "displayName": "Jenna Pearson",
      "userId": "05648130581702734913"
     },
     "user_tz": 420
    }
   },
   "source": [
    "[*Click for solution*](https://github.com/NeuromatchAcademy/course-content/tree/main//tutorials/W1D5_ClimateModeling/solutions/W1D5_Tutorial1_Solution_d28abbfc.py)\n",
    "\n"
   ]
  },
  {
   "cell_type": "markdown",
   "metadata": {
    "execution": {}
   },
   "source": [
    "# Section 2 : The Greenhouse Effect"
   ]
  },
  {
   "cell_type": "markdown",
   "metadata": {
    "execution": {}
   },
   "source": [
    "The expected surface temperature using blackbody radiation was much colder than we observe it to be. Using the blackbody radiation model, we assume that there is nothing that lies between Earth's surface and space that interacts with Earth's emitted radiation. From the initial lecture on the global energy budget we know this is not true. Earth has an atmosphere, and within it are many gases and that changes the picture of pure blackbody radiation we used before. The effect of these gases on radiation, called the **greenhouse effect**, is what warms earth to a habitable temperture.\n",
    "\n",
    "A first approach is to model the greenhouse effect on outgoing longwave radiation (OLR) to space by adding a transmissivity coefficient. The **transmissivity coeficient (**$\\mathbf{\\tau}$**)** represents the fraction of the radiation emitted from Earth that actually makes it to space. This coefficient is a number that lies between 0 and 1, and represents the *effects* of all the greenhouse gases on radiation, rather than including them explicity in the model. This is called a **parametrization**, and it will be discussed in more detail in tomorrows lecture.\n",
    "\n",
    "Applying this to the original model for blackbody radiation, we find the modified model to be\n",
    "\n",
    "\\begin{align}\n",
    "OLR = \\tau \\sigma T^4\n",
    "\\end{align}\n",
    "\n",
    "Using  $OLR = 239 W m^{-2}$ and $T = 288 K$, estimate $\\tau$."
   ]
  },
  {
   "cell_type": "code",
   "execution_count": null,
   "metadata": {
    "execution": {},
    "executionInfo": {
     "elapsed": 22,
     "status": "ok",
     "timestamp": 1681268100163,
     "user": {
      "displayName": "Jenna Pearson",
      "userId": "05648130581702734913"
     },
     "user_tz": 420
    }
   },
   "outputs": [],
   "source": [
    "# define the Stefan-Boltzmann Constant, noting we are using 'e' for scientific notation\n",
    "sigma = 5.67e-8 # W m^-2 K^-4\n",
    "\n",
    "# define the outgoing longwave radiation based on observations from the IPCC AR6 Figure 7.2\n",
    "OLR = 239 # W m^-2\n",
    "\n",
    "# define the emission temperature based on observtions of global mean surface temperature\n",
    "T = 288 # K\n",
    "\n",
    "# plug into equation\n",
    "tau = (OLR/(sigma * T**4)) # unitless number between 0 and 1\n",
    "\n",
    "# display answer\n",
    "print('Transmissivity Coefficient: ' ,tau)"
   ]
  },
  {
   "cell_type": "markdown",
   "metadata": {
    "execution": {}
   },
   "source": [
    "## Questions"
   ]
  },
  {
   "cell_type": "markdown",
   "metadata": {
    "execution": {}
   },
   "source": [
    "1.  For a generic planet, what would it mean for OLR when $\\tau$ is close to 1? Close to 0?\n",
    "2.  For a generic planet, what could be said about the planet's atmopshere when $\\tau$ is close to 1? Close to 0?\n",
    "3.  In terms of energy received from the sun, what does only modifying the OLR to account for the greenhouse effect imply? Are there any greenhouse gases you think would make this implication problematic?"
   ]
  },
  {
   "cell_type": "markdown",
   "metadata": {
    "execution": {}
   },
   "source": [
    "## Coding Exercises"
   ]
  },
  {
   "cell_type": "markdown",
   "metadata": {
    "execution": {}
   },
   "source": [
    "1. By using a for loop, calculate and print the OLR for three values of $\\tau = 0.2,0.6114,0.8$."
   ]
  },
  {
   "cell_type": "code",
   "execution_count": null,
   "metadata": {
    "execution": {},
    "executionInfo": {
     "elapsed": 401,
     "status": "ok",
     "timestamp": 1681268104208,
     "user": {
      "displayName": "Jenna Pearson",
      "userId": "05648130581702734913"
     },
     "user_tz": 420
    }
   },
   "outputs": [],
   "source": [
    "# define the Stefan-Boltzmann Constant, noting we are using 'e' for scientific notation\n",
    "sigma = ... # W m^-2 K^-4\n",
    "\n",
    "# define the emission temperature based on observtions of global mean surface temperature\n",
    "T = ... # K\n",
    "\n",
    "# loop through values of tau\n",
    "for tau in [...]:\n",
    "\n",
    "  # plug into equation\n",
    "  OLR = ...\n",
    "\n",
    "  # display answer\n",
    "  print('Transmissivity:',tau,',     ' 'OLR: ' ,OLR, 'W m^2')"
   ]
  },
  {
   "cell_type": "markdown",
   "metadata": {
    "colab_type": "text",
    "execution": {},
    "executionInfo": {
     "elapsed": 5,
     "status": "ok",
     "timestamp": 1681268133545,
     "user": {
      "displayName": "Jenna Pearson",
      "userId": "05648130581702734913"
     },
     "user_tz": 420
    }
   },
   "source": [
    "[*Click for solution*](https://github.com/NeuromatchAcademy/course-content/tree/main//tutorials/W1D5_ClimateModeling/solutions/W1D5_Tutorial1_Solution_aec552c3.py)\n",
    "\n"
   ]
  }
 ],
 "metadata": {
  "colab": {
   "collapsed_sections": [],
   "include_colab_link": true,
   "name": "W1D5_Tutorial1",
   "provenance": [],
   "toc_visible": true
  },
  "kernel": {
   "display_name": "Python 3",
   "language": "python",
   "name": "python3"
  },
  "kernelspec": {
   "display_name": "Python 3 (pangeo)",
   "language": "python",
   "name": "pangeo"
  },
  "language_info": {
   "codemirror_mode": {
    "name": "ipython",
    "version": 3
   },
   "file_extension": ".py",
   "mimetype": "text/x-python",
   "name": "python",
   "nbconvert_exporter": "python",
   "pygments_lexer": "ipython3",
   "version": "3.10.10"
  }
 },
 "nbformat": 4,
 "nbformat_minor": 0
}