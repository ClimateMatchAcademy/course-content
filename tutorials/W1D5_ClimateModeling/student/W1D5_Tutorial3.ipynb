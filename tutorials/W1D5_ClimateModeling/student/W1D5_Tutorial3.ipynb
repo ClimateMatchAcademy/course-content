{
 "cells": [
  {
   "cell_type": "markdown",
   "metadata": {
    "execution": {}
   },
   "source": [
    "#**Tutorial # 3 : A Zero-Dimensional Energy Balance Model**\n",
    "\n",
    "\n",
    "**Week 1, Day 5, Climate Modeling**\n",
    "\n",
    "**Content creators:** Jenna Pearson, Brodie Pearson, and Abigail Bodner\n",
    "\n",
    "**Content reviewers:** Draco Xu\n",
    "\n",
    "**Content editors:** TBD\n",
    "\n",
    "**Production editors:** TBD\n",
    "\n",
    "**Our 2023 Sponsors:** TBD"
   ]
  },
  {
   "cell_type": "markdown",
   "metadata": {
    "execution": {}
   },
   "source": [
    "#**Tutorial Objectives**\n",
    "\n",
    "In this tutorial students will learn about the heat capacity of the atmosphere and oceans, how this related to temperature changes over time, and set up their first climate model.\n",
    "\n",
    "By the end of this tutorial students will be able to:\n",
    "* Calculate the heat capacity of the ocean and atmospehre.\n",
    "* Create and run a time-dependent model of the change in global mean surfact temperture.\n",
    "* Describe the influence of transmissivity and albedo on the equilibrium temperature from this model."
   ]
  },
  {
   "cell_type": "markdown",
   "metadata": {
    "execution": {}
   },
   "source": [
    "# Setup"
   ]
  },
  {
   "cell_type": "markdown",
   "metadata": {
    "execution": {}
   },
   "source": [
    "## Package Imports"
   ]
  },
  {
   "cell_type": "code",
   "execution_count": null,
   "metadata": {
    "execution": {}
   },
   "outputs": [],
   "source": [
    "import xarray as xr                     # used to manipulate data and open datasets\n",
    "import numpy as np                      # used for algeba and array operations\n",
    "import matplotlib.pyplot as plt         # used for plotting"
   ]
  },
  {
   "cell_type": "markdown",
   "metadata": {
    "execution": {}
   },
   "source": [
    "## Figure Settings"
   ]
  },
  {
   "cell_type": "code",
   "execution_count": null,
   "metadata": {
    "execution": {}
   },
   "outputs": [],
   "source": [
    "import ipywidgets as widgets       # interactive display\n",
    "%config InlineBackend.figure_format = 'retina'\n",
    "plt.style.use(\"https://raw.githubusercontent.com/ClimateMatchAcademy/course-content/main/cma.mplstyle\")"
   ]
  },
  {
   "cell_type": "markdown",
   "metadata": {
    "execution": {}
   },
   "source": [
    "# Section 1 : Heat Capacity"
   ]
  },
  {
   "cell_type": "markdown",
   "metadata": {
    "execution": {}
   },
   "source": [
    "One of the crucial things missing from the simple model we have looked at so far is it's ability to change with time. As the composition of the atmosphere (among other things) changes with time, in response, so does the energy balance and global mean surface temperature. \n",
    "\n",
    "We can represent the change in temperature over time as the net heat input or loss from radiation ($ASR-OLR$) multiplied by the heat capacity of the Earth system.\n",
    "\n",
    "The heat capacity of a medium is it's ability to increase in temperture given an input of heat. Not all components of the Earth system (for example land, ocean, atmosphere) have the same heat capacity.\n",
    "\n",
    "Mathematically the rate of change of global mean surface temperature ($T$) over time is given as\n",
    "\n",
    "\\begin{align}\n",
    "\\text{rate of change of }T = \\frac{1}{\\text{heat capacity}}\\cdot (\\text{energy flux in - energy flux out}) = \\frac{1}{C} \\cdot ASR - OLR\n",
    "\\end{align}\n",
    "\n",
    "where $C$ is the heat capacity of the Earth system. Note here that when $ASR > OLR$, then the system is gaining heat. Conversly when $ASR < OLR$, then the system is losing heat over time.\n",
    "\n",
    "To calculate the heat capacity for the Earth system, we will assume the it is a combination of atmophere and ocean only, that is $C = C_{oc} + C_{atmo}$. \n",
    "\n",
    "Generally, the heat capacity of a medium is the specific heat of that medium times the total mass.\n",
    "\n",
    "For the atmosphere we have $C_{atm} = c_{atm} \\cdot \\frac{W_{atm}}{g} $ where $c_{atm}$ is the specific heat of the atmosphere, $W_{atm}$ is the weight of a column of air, and $g$ is the acceleration due to gravity.\n",
    "\n",
    "For the ocean we have $C_{oc} = c_{oc} \\cdot \\rho_{oc} \\cdot d_{oc}$ where $c_{oc}$ is the specific heat of the ocean, $\\rho_{oc}$ is the density of seawater, and $d_{oc}$ is a representive depth of the ocean. \n",
    "\n",
    "We will use this definition to find the heat capactities of the atmosphere and ocean."
   ]
  },
  {
   "cell_type": "code",
   "execution_count": null,
   "metadata": {
    "execution": {},
    "executionInfo": {
     "elapsed": 563,
     "status": "ok",
     "timestamp": 1681356185526,
     "user": {
      "displayName": "Jenna Pearson",
      "userId": "05648130581702734913"
     },
     "user_tz": 420
    }
   },
   "outputs": [],
   "source": [
    "# heat capacity of the ocean\n",
    "c_oc = 3850                       #  specific heat of seawater in J/kg/K\n",
    "rho_oc = 1025                     #  average density of seawater in kg/m3\n",
    "d_oc = 70                         #  depth of water in m (here representative of the mized layer)\n",
    "C_oc = c_oc * rho_oc * d_oc       #  heat capacity of the ocean\n",
    "\n",
    "# heat capacity of the atmosphere\n",
    "c_atm = 1004                       #  specific heat of the atmosphere at constant pressure in J/kg/K\n",
    "W_atm = 100000                     #  weight (pressure) of atmospheric column in Pa\n",
    "g = 9.81                           #  acceleration due to gravity in m/s^2\n",
    "C_atm = c_atm * (W_atm / g)        #  heat capacity of the atmosphere\n",
    "\n",
    "# total heat capacity\n",
    "C = C_oc + C_atm\n",
    "\n",
    "#print results.\n",
    "\n",
    "print('Ocean Heat Capactiy:      ', C_oc,' J m^-2K^-2')\n",
    "print('Atmosphere Heat Capacity: ', C_atm,'   J m^-2K^-2')\n",
    "print('Total Heat Capactiy:      ', C,' J m^-2K^-2')"
   ]
  },
  {
   "cell_type": "markdown",
   "metadata": {
    "execution": {}
   },
   "source": [
    "## Questions"
   ]
  },
  {
   "cell_type": "markdown",
   "metadata": {
    "execution": {}
   },
   "source": [
    "1.  Does the ocean or atmosphere have a higher heat capacity?\n",
    "2.  For an equivalent heat input, will the ocean or atmosphere warm more?\n",
    "3. What do you think this means for warming of the climate system?"
   ]
  },
  {
   "cell_type": "markdown",
   "metadata": {
    "execution": {}
   },
   "source": [
    "## Coding Exercises"
   ]
  },
  {
   "cell_type": "markdown",
   "metadata": {
    "execution": {}
   },
   "source": [
    "1.  Calculate the depth of the ocean needed for the ocean to have the same heat capacity at the atmosphere."
   ]
  },
  {
   "cell_type": "code",
   "execution_count": null,
   "metadata": {
    "execution": {},
    "executionInfo": {
     "elapsed": 308,
     "status": "ok",
     "timestamp": 1681356188649,
     "user": {
      "displayName": "Jenna Pearson",
      "userId": "05648130581702734913"
     },
     "user_tz": 420
    }
   },
   "outputs": [],
   "source": [
    "# heat capacity of the atmosphere\n",
    "c_atm = 1004                       #  specific heat of the atmosphere at constant pressure in J/kg/K\n",
    "W_atm = 100000                     #  weight (pressure) of atmospheric column in Pa\n",
    "g = 9.81                           #  height of atmosphere in m (representative of )\n",
    "C_atm = c_atm * (W_atm / g)        #  heat capacity of the atmosphere\n",
    "\n",
    "# find the depth of the ocean for equivalent atmospheric heat capacity\n",
    "c_oc = 3850                       #  specific heat of seawater in J/kg/K\n",
    "rho_oc = 1025                     #  average density of seawater in kg/m3\n",
    "\n",
    "d_oc  = ...\n",
    "d_oc"
   ]
  },
  {
   "cell_type": "markdown",
   "metadata": {
    "colab_type": "text",
    "execution": {},
    "executionInfo": {
     "elapsed": 310,
     "status": "ok",
     "timestamp": 1681356188952,
     "user": {
      "displayName": "Jenna Pearson",
      "userId": "05648130581702734913"
     },
     "user_tz": 420
    }
   },
   "source": [
    "[*Click for solution*](https://github.com/NeuromatchAcademy/course-content/tree/main//tutorials/W1D5_ClimateModeling/solutions/W1D5_Tutorial3_Solution_2dfdf179.py)\n",
    "\n"
   ]
  },
  {
   "cell_type": "markdown",
   "metadata": {
    "execution": {}
   },
   "source": [
    "# Section 2 : Add Time Dependency to the Model"
   ]
  },
  {
   "cell_type": "markdown",
   "metadata": {
    "execution": {}
   },
   "source": [
    "Knowing the heat capacity, and the descriptions of $OLR$ and $ASR$ from previous tutorials, we can write the equation\n",
    "\n",
    "\\begin{align}\n",
    "\\text{rate of change }T = \\frac{\\text{change in }T}{\\text{change in time}}=\\frac{dT}{dt}= \\frac{1}{C}(ASR - OLR)\n",
    "\\end{align}\n",
    "\n",
    "Numerically, we can use this equation to compute the global mean surface temprature after a small interval of time by adding on the amount of energy gained or lost multiplied by the time interval itself. \n",
    "\n",
    "The particular method of numerically defining the time and temperature intervals (changes) is called **discretization**, and the way we have chosen to do this is called the **Euler method**.The exact details of this method are beyond the scope of this tutorial, and we will use the method without further elaboration.\n",
    "\n",
    "The Euler method assumes we can use $\\text{change in }T = T_{n+1} - T_{n}$ and $\\text{change in t} = t_{n+1} - t_{n}$ where $t$ is time. Thus, if we know the time interval and the current temperature ($T_n$), we can predict the temperature at the end of our time interval, ($T_{n+1}$)."
   ]
  },
  {
   "cell_type": "code",
   "execution_count": null,
   "metadata": {
    "execution": {}
   },
   "outputs": [],
   "source": [
    "# define albedo\n",
    "alpha = 0.2941 # unitless number between 0 and 1 (calculated previously from observations in tutorial 2)\n",
    "\n",
    "# define transmissivity (calculated previously from observations in tutorial 1)\n",
    "tau = 0.6127 # unitless number between 0 and 1\n",
    "\n",
    "# create a function to find the new tempeature based on the previous using Euler's method.\n",
    "def step_forward(T,alpha,tau):\n",
    "\n",
    "    # define the observed insolation based on observations from the IPCC AR6 Figure 7.2\n",
    "    Q = 340 # W m^-2\n",
    "\n",
    "    # define the Stefan-Boltzmann Constant, noting we are using 'e' for scientific notation\n",
    "    sigma = 5.67e-8 # W m^-2 K^-4\n",
    "\n",
    "    ASR = (1-alpha)*Q\n",
    "    OLR = tau * sigma * T**4\n",
    "\n",
    "    T_new = T + dt / C * ( ASR - OLR )\n",
    "\n",
    "    return T_new"
   ]
  },
  {
   "cell_type": "markdown",
   "metadata": {
    "execution": {}
   },
   "source": [
    "We can now use a loop to apply this function many times over by specifying an initial temperature and a time interval. "
   ]
  },
  {
   "cell_type": "code",
   "execution_count": null,
   "metadata": {
    "execution": {},
    "executionInfo": {
     "elapsed": 6,
     "status": "ok",
     "timestamp": 1681356197368,
     "user": {
      "displayName": "Jenna Pearson",
      "userId": "05648130581702734913"
     },
     "user_tz": 420
    }
   },
   "outputs": [],
   "source": [
    "# define the time interval, one year expressed in seconds\n",
    "dt = 60. * 60. * 24. * 365.\n",
    "\n",
    "# define the number of timesteps (years) to run the model\n",
    "numtsteps = 15\n",
    "\n",
    "# for converting number of seconds in a year\n",
    "sec_2_yr = 3.154e7\n",
    "\n",
    "# define empty arrays to store the time series of temperature and the corresponding years\n",
    "T_series = np.zeros((numtsteps+1))\n",
    "t_series = np.zeros((numtsteps+1))\n",
    "\n",
    "# define the intial temperature\n",
    "T_series[0] = 288.\n",
    "\n",
    "# run the model\n",
    "for n in range(numtsteps):\n",
    "    t_series[n+1] = (n+1)*dt/sec_2_yr\n",
    "    T_series[n+1] = step_forward( T_series[n], alpha = alpha, tau = tau )\n",
    "\n",
    "# display the temeprature time series\n",
    "print(T_series)"
   ]
  },
  {
   "cell_type": "code",
   "execution_count": null,
   "metadata": {
    "execution": {},
    "executionInfo": {
     "elapsed": 177,
     "status": "ok",
     "timestamp": 1681356200832,
     "user": {
      "displayName": "Jenna Pearson",
      "userId": "05648130581702734913"
     },
     "user_tz": 420
    }
   },
   "outputs": [],
   "source": [
    "print(t_series)"
   ]
  },
  {
   "cell_type": "code",
   "execution_count": null,
   "metadata": {
    "execution": {},
    "executionInfo": {
     "elapsed": 921,
     "status": "ok",
     "timestamp": 1681356201977,
     "user": {
      "displayName": "Jenna Pearson",
      "userId": "05648130581702734913"
     },
     "user_tz": 420
    }
   },
   "outputs": [],
   "source": [
    "# plot the results\n",
    "plt.plot(t_series, T_series)\n",
    "plt.xlabel('Years')\n",
    "plt.ylabel('Global mean temperature (K)');"
   ]
  },
  {
   "cell_type": "markdown",
   "metadata": {
    "execution": {}
   },
   "source": [
    "## Questions"
   ]
  },
  {
   "cell_type": "markdown",
   "metadata": {
    "execution": {}
   },
   "source": [
    "1. What impact do you think the time interval ($dt$) has on the accuracy of the model results?\n",
    "2. Do you think a smaller or larger time interval than one year would provide more accurate results?"
   ]
  },
  {
   "cell_type": "markdown",
   "metadata": {
    "execution": {}
   },
   "source": [
    "## Coding Exercises"
   ]
  },
  {
   "cell_type": "markdown",
   "metadata": {
    "execution": {}
   },
   "source": [
    "1.  Using a for loop, run the model for 200 years with two different three intervals ($dt$) of a half year, 1 year and 5 years and plot the results."
   ]
  },
  {
   "cell_type": "code",
   "execution_count": null,
   "metadata": {
    "execution": {},
    "executionInfo": {
     "elapsed": 165,
     "status": "error",
     "timestamp": 1681356207569,
     "user": {
      "displayName": "Jenna Pearson",
      "userId": "05648130581702734913"
     },
     "user_tz": 420
    }
   },
   "outputs": [],
   "source": [
    "# # one year expressed in seconds\n",
    "# one_yr = 60. * 60. * 24. * 365.\n",
    "\n",
    "# # legend labels\n",
    "# labels = ['dt = half-year','dt = one year','dt = five years']\n",
    "\n",
    "# # define the number of timesteps (years) to run the model\n",
    "# numtsteps = np.array([10,5,1])*3\n",
    "\n",
    "#  # for converting number of seconds in a year\n",
    "# sec_2_yr = 3.154e7\n",
    "\n",
    "# # loop through each choice of time step\n",
    "# for dd,dt ...\n",
    "\n",
    "#   # define empty arrays to store the time series of temperature and the corresponding years\n",
    "#   T_series = np.zeros((numtsteps[dd]+1))\n",
    "#   t_series = np.zeros((numtsteps[dd]+1))\n",
    "\n",
    "#   # define the intial temperature\n",
    "#   T_series[0] = 288.\n",
    "\n",
    "#   # run the model\n",
    "#   for n in range(numtsteps[dd]):\n",
    "#       t_series[n+1] = (n+1)*dt/sec_2_yr\n",
    "#       T_series[n+1] = step_forward( T_series[n], alpha = alpha, tau = tau )\n",
    "\n",
    "#   plt.plot(t_series, T_series, label = labels[dd])\n",
    "\n",
    "# plt.xlabel('Years')\n",
    "# plt.ylabel('Global mean temperature (K)');\n",
    "# plt.legend()"
   ]
  },
  {
   "cell_type": "markdown",
   "metadata": {
    "colab_type": "text",
    "execution": {},
    "executionInfo": {
     "elapsed": 1096,
     "status": "ok",
     "timestamp": 1681356209279,
     "user": {
      "displayName": "Jenna Pearson",
      "userId": "05648130581702734913"
     },
     "user_tz": 420
    }
   },
   "source": [
    "[*Click for solution*](https://github.com/NeuromatchAcademy/course-content/tree/main//tutorials/W1D5_ClimateModeling/solutions/W1D5_Tutorial3_Solution_e46a8b27.py)\n",
    "\n"
   ]
  },
  {
   "cell_type": "markdown",
   "metadata": {
    "execution": {}
   },
   "source": [
    "# Section 3 : Revisiting the Climate Change Scenario from Tutorial 2"
   ]
  },
  {
   "cell_type": "markdown",
   "metadata": {
    "execution": {}
   },
   "source": [
    "In tutorial 2 we looked at how changing the transmissivity ($\\tau$) affected the equilibrium temperature. Now we can use our time-dependent model to investigate this more fully. Reuse the model, this time setting $\\tau=0.57$"
   ]
  },
  {
   "cell_type": "code",
   "execution_count": null,
   "metadata": {
    "execution": {},
    "executionInfo": {
     "elapsed": 942,
     "status": "ok",
     "timestamp": 1681356214169,
     "user": {
      "displayName": "Jenna Pearson",
      "userId": "05648130581702734913"
     },
     "user_tz": 420
    }
   },
   "outputs": [],
   "source": [
    "# define albedo\n",
    "alpha = 0.2941 # unitless number between 0 and 1 (calculated previously from observations in tutorial 2)\n",
    "\n",
    "# define transmissivity (calculated previously from observations)\n",
    "tau = 0.57 # unitless number between 0 and 1\n",
    "\n",
    "# define the time interval, one year expressed in seconds\n",
    "dt = 60. * 60. * 24. * 365.\n",
    "\n",
    "# define the number of timesteps (years) to run the model\n",
    "numtsteps = 15\n",
    "\n",
    "# for converting number of seconds in a year\n",
    "sec_2_yr = 3.154e7\n",
    "\n",
    "# define empty arrays to store the time series of temperature and the corresponding years\n",
    "T_series = np.zeros((numtsteps+1))\n",
    "t_series = np.zeros((numtsteps+1))\n",
    "\n",
    "# define the intial temperature\n",
    "T_series[0] = 288.\n",
    "\n",
    "# run the model\n",
    "for n in range(numtsteps):\n",
    "    t_series[n+1] = (n+1)*dt/sec_2_yr\n",
    "    T_series[n+1] = step_forward( T_series[n], alpha = alpha, tau = tau )\n",
    "\n",
    "plt.plot(t_series, T_series)\n",
    "\n",
    "plt.xlabel('Years')\n",
    "plt.ylabel('Global mean temperature (K)');"
   ]
  },
  {
   "cell_type": "markdown",
   "metadata": {
    "execution": {}
   },
   "source": [
    "## Questions"
   ]
  },
  {
   "cell_type": "markdown",
   "metadata": {
    "execution": {}
   },
   "source": [
    "1.  How does the long-term temperature here compare to the value you found from tutorial 2?\n"
   ]
  },
  {
   "cell_type": "markdown",
   "metadata": {
    "execution": {}
   },
   "source": [
    "## Coding Exercises"
   ]
  },
  {
   "cell_type": "markdown",
   "metadata": {
    "execution": {}
   },
   "source": [
    "1. Run the model again keeping the original $\\tau=0.6114$ but now change $\\alpha=0.2$."
   ]
  },
  {
   "cell_type": "code",
   "execution_count": null,
   "metadata": {
    "execution": {}
   },
   "outputs": [],
   "source": [
    "#insert code"
   ]
  },
  {
   "cell_type": "markdown",
   "metadata": {
    "colab_type": "text",
    "execution": {},
    "executionInfo": {
     "elapsed": 1168,
     "status": "ok",
     "timestamp": 1681356219658,
     "user": {
      "displayName": "Jenna Pearson",
      "userId": "05648130581702734913"
     },
     "user_tz": 420
    }
   },
   "source": [
    "[*Click for solution*](https://github.com/NeuromatchAcademy/course-content/tree/main//tutorials/W1D5_ClimateModeling/solutions/W1D5_Tutorial3_Solution_d6319fd3.py)\n",
    "\n"
   ]
  }
 ],
 "metadata": {
  "colab": {
   "collapsed_sections": [],
   "include_colab_link": true,
   "name": "W1D5_Tutorial3",
   "provenance": [],
   "toc_visible": true
  },
  "kernel": {
   "display_name": "Python 3",
   "language": "python",
   "name": "python3"
  },
  "kernelspec": {
   "display_name": "Python 3 (pangeo)",
   "language": "python",
   "name": "pangeo"
  },
  "language_info": {
   "codemirror_mode": {
    "name": "ipython",
    "version": 3
   },
   "file_extension": ".py",
   "mimetype": "text/x-python",
   "name": "python",
   "nbconvert_exporter": "python",
   "pygments_lexer": "ipython3",
   "version": "3.10.10"
  }
 },
 "nbformat": 4,
 "nbformat_minor": 0
}