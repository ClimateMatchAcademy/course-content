{
 "cells": [
  {
   "attachments": {},
   "cell_type": "markdown",
   "metadata": {
    "execution": {}
   },
   "source": [
    "#**Tutorial # 5 : Radiative Convective Equilibrium**\n",
    "\n",
    "\n",
    "**Week 1, Day 5, Climate Modeling**\n",
    "\n",
    "**Content creators:** Jenna Pearson, Brodie Pearson, and Abigail Bodner\n",
    "\n",
    "**Content reviewers:** TBD\n",
    "\n",
    "**Content editors:** TBD\n",
    "\n",
    "**Production editors:** TBD\n",
    "\n",
    "**Our 2023 Sponsors:** TBD\n",
    "\n"
   ]
  },
  {
   "attachments": {},
   "cell_type": "markdown",
   "metadata": {
    "execution": {}
   },
   "source": [
    "#**Tutorial Objectives**\n",
    "\n",
    "In this tutorial students will learn about radiative-equilibrium and radiative-convective-equilibrium. Much of the code shown here was taken from [The Climate Labratory](https://brian-rose.github.io/ClimateLaboratoryBook/home.html) by Brian Rose. Students are encouraged to visit this website for more tutorials and background on these models.\n",
    "\n",
    "By the end of this tutorial students will be able to:\n",
    "* Implement both of these types of models using the python package climlab\n",
    "* Understand how these models build off of the energy balance model of the previous tutorials."
   ]
  },
  {
   "attachments": {},
   "cell_type": "markdown",
   "metadata": {
    "execution": {}
   },
   "source": [
    "# Setup"
   ]
  },
  {
   "attachments": {},
   "cell_type": "markdown",
   "metadata": {
    "execution": {}
   },
   "source": [
    "## Package Installations\n"
   ]
  },
  {
   "cell_type": "code",
   "execution_count": null,
   "metadata": {
    "execution": {},
    "executionInfo": {
     "elapsed": 161558,
     "status": "ok",
     "timestamp": 1682124783292,
     "user": {
      "displayName": "Jenna Pearson",
      "userId": "05648130581702734913"
     },
     "user_tz": 420
    },
    "tags": [
     "colab"
    ]
   },
   "outputs": [],
   "source": [
    "# # note the conda install takes quite a while, but conda is REQUIRED to properly download the dependencies (that are not just python packages)\n",
    "# !pip install condacolab &> /dev/null           # need to use conda installation of climlab, pip won't work. condacolab is a workaround\n",
    "# import condacolab\n",
    "# condacolab.install()\n",
    "# !mamba install -c anaconda cftime xarray numpy &> /dev/null    # for decoding time variables when opening datasets\n",
    "# !mamba install -c conda-forge metpy climlab &> /dev/null"
   ]
  },
  {
   "attachments": {},
   "cell_type": "markdown",
   "metadata": {
    "execution": {}
   },
   "source": [
    "## Package Imports"
   ]
  },
  {
   "cell_type": "code",
   "execution_count": null,
   "metadata": {
    "execution": {},
    "executionInfo": {
     "elapsed": 10496,
     "status": "ok",
     "timestamp": 1682124802202,
     "user": {
      "displayName": "Jenna Pearson",
      "userId": "05648130581702734913"
     },
     "user_tz": 420
    }
   },
   "outputs": [],
   "source": [
    "# I have to run this twice to get it to work...not idea why\n",
    "\n",
    "import xarray as xr                     # used to manipulate data and open datasets\n",
    "import numpy as np                      # used for algebra/arrays\n",
    "import urllib.request                   # used to download data from the internet\n",
    "import climlab                          # one of the models we are using\n",
    "import matplotlib.pyplot as plt         # used for plotting\n",
    "import metpy                            # used to make Skew T Plots of temperature and pressure\n",
    "from metpy.plots import SkewT           # plotting function used widely in climate science"
   ]
  },
  {
   "attachments": {},
   "cell_type": "markdown",
   "metadata": {
    "execution": {}
   },
   "source": [
    "## Helper Functions"
   ]
  },
  {
   "cell_type": "code",
   "execution_count": null,
   "metadata": {
    "execution": {},
    "executionInfo": {
     "elapsed": 5,
     "status": "ok",
     "timestamp": 1682124802203,
     "user": {
      "displayName": "Jenna Pearson",
      "userId": "05648130581702734913"
     },
     "user_tz": 420
    }
   },
   "outputs": [],
   "source": [
    "#  Some imports needed to make and display animations in Part 4\n",
    "from IPython.display import HTML\n",
    "from matplotlib import animation\n",
    "\n",
    "# these three functions are used to make videos at the end of the tutorial\n",
    "\n",
    "def initial_figure(model):\n",
    "    fig = plt.figure(figsize=(6,6))\n",
    "    lines = []\n",
    "\n",
    "    skew = SkewT(fig,rotation=30)\n",
    "    #  plot the observations\n",
    "    skew.plot(Tglobal.level, Tglobal, color='black', linestyle='-', linewidth=2, label='Observations')\n",
    "    lines.append(skew.plot(model.lev, model.Tatm - climlab.constants.tempCtoK,\n",
    "              linestyle='-', linewidth=2, color='C0', label='RC model (all gases)')[0])\n",
    "    skew.ax.legend()\n",
    "    skew.ax.set_ylim(1050, 10)\n",
    "    skew.ax.set_xlim(-60, 75)\n",
    "    # Add the relevant special lines\n",
    "    skew.plot_dry_adiabats(linewidth=1.5, label = 'dry adiabats')\n",
    "    # skew.plot_moist_adiabats(linewidth=1.5, label = 'moist adiabats')\n",
    "    skew.ax.set_xlabel('Temperature ($^\\circ$C)', fontsize=14)\n",
    "    skew.ax.set_ylabel('Pressure (hPa)', fontsize=14)\n",
    "    lines.append(skew.plot(1000, model.Ts - climlab.constants.tempCtoK, 'o',\n",
    "                  markersize=8, color='C0', )[0])\n",
    "    return fig, lines\n",
    "\n",
    "def animate(day, model, lines):\n",
    "    lines[0].set_xdata(np.array(model.Tatm)-climlab.constants.tempCtoK)\n",
    "    lines[1].set_xdata(np.array(model.Ts)-climlab.constants.tempCtoK)\n",
    "    #lines[2].set_xdata(np.array(model.q)*1E3)\n",
    "    # lines[-1].set_text('Day {}'.format(int(model.time['days_elapsed'])))\n",
    "    # This is kind of a hack, but without it the initial frame doesn't appear\n",
    "    if day != 0:\n",
    "        model.step_forward()\n",
    "    return lines"
   ]
  },
  {
   "attachments": {},
   "cell_type": "markdown",
   "metadata": {
    "execution": {}
   },
   "source": [
    "## Figure Settings"
   ]
  },
  {
   "cell_type": "code",
   "execution_count": null,
   "metadata": {
    "execution": {},
    "executionInfo": {
     "elapsed": 418,
     "status": "ok",
     "timestamp": 1682124802617,
     "user": {
      "displayName": "Jenna Pearson",
      "userId": "05648130581702734913"
     },
     "user_tz": 420
    }
   },
   "outputs": [],
   "source": [
    "import ipywidgets as widgets       # interactive display\n",
    "%config InlineBackend.figure_format = 'retina'\n",
    "plt.style.use(\"https://raw.githubusercontent.com/ClimateMatchAcademy/course-content/main/cma.mplstyle\")"
   ]
  },
  {
   "attachments": {},
   "cell_type": "markdown",
   "metadata": {
    "execution": {}
   },
   "source": [
    "# Lecture"
   ]
  },
  {
   "cell_type": "code",
   "execution_count": null,
   "metadata": {
    "execution": {},
    "executionInfo": {
     "elapsed": 382,
     "status": "ok",
     "timestamp": 1682124802996,
     "user": {
      "displayName": "Jenna Pearson",
      "userId": "05648130581702734913"
     },
     "user_tz": 420
    }
   },
   "outputs": [],
   "source": [
    "# tech will add video later"
   ]
  },
  {
   "attachments": {},
   "cell_type": "markdown",
   "metadata": {
    "execution": {}
   },
   "source": [
    "# Section 1: Setting up a Radiative Equilibrium Model Using Climlab"
   ]
  },
  {
   "attachments": {},
   "cell_type": "markdown",
   "metadata": {
    "execution": {}
   },
   "source": [
    "\n",
    "\n",
    "The energy balance model we have used so far is zero dimensional, yielding only a global mean surface temperature. We might then ask, is it possible to construct a model for an *atmospheric column*, and see the influence on the temperature *profile*. Additionally, can we explicity include individual gases in this model, rather than just parametrizing their collective effects through $\\tau$? The answer is yes we can! \n",
    "\n",
    " We are not going to construct this model from scratch as we did in the previous tutorials but will use a model already available from the python package [climlab](https://climlab.readthedocs.io/en/latest/intro.html). \n",
    " \n",
    "**Radiative equilibrium models** consider different layers of the atmosphere. These all interact with each other and the model is able to directly calculate the radiation budget as energy is transfered between atmospheric layers and Earth's surface. **Radiative equilibrium** is reached when all the layers gain and lose energy at the same rate. Analyzing the temeprature profile once the model has reached equilibrium will be our task throughout this tutorial.\n",
    "\n",
    "To set up this model, we will need some information about the mean properties of the atmosphere. We are going to download water vapor data from the Community Earth System Model, a global climate model that we will go into detail on in the next tutorial, to use a variable called [specific humidity](https://glossary.ametsoc.org/wiki/Specific_humidity). **Specific humidity** is the mass of water vapor per mass of a unit block of air, and gives us information about water vapor, an important greenhouse gas.\n",
    "\n",
    "Two ways to do this, manually downloading data and accessing from drive, or accessing via the internet.\n"
   ]
  },
  {
   "cell_type": "code",
   "execution_count": null,
   "metadata": {
    "execution": {},
    "executionInfo": {
     "elapsed": 121302,
     "status": "ok",
     "timestamp": 1682124999876,
     "user": {
      "displayName": "Jenna Pearson",
      "userId": "05648130581702734913"
     },
     "user_tz": 420
    }
   },
   "outputs": [],
   "source": [
    "# use xarray to open the dataset - this can take a long time!\n",
    "import pooch, os\n",
    "\n",
    "fname = \"cpl_1850_f19-Q-gw-only.cam.h0.nc\"\n",
    "if not os.path.exists(fname):\n",
    "    url = \"https://osf.io/c6q4j/download/\"\n",
    "    fname = pooch.retrieve(\n",
    "        url,\n",
    "        known_hash=None\n",
    "    )\n",
    "ds = xr.open_dataset(fname) # ds = dataset\n",
    "\n",
    "\n",
    "# the specific humidity is stored in the variable called Q\n",
    "ds.Q"
   ]
  },
  {
   "cell_type": "code",
   "execution_count": null,
   "metadata": {
    "execution": {},
    "executionInfo": {
     "elapsed": 202353,
     "status": "ok",
     "timestamp": 1682021525349,
     "user": {
      "displayName": "Jenna Pearson",
      "userId": "05648130581702734913"
     },
     "user_tz": 420
    }
   },
   "outputs": [],
   "source": [
    "# # download from the internet\n",
    "# # note it takes a few minutes to download the file.\n",
    "\n",
    "# # define website name\n",
    "# url = f'http://thredds.atmos.albany.edu:8080/thredds/fileServer/CESMA/cpl_1850_f19/concatenated/cpl_1850_f19.cam.h0.nc'\n",
    "\n",
    "# # take just the last part of the website name after the last '/' as the filename\n",
    "# savename = url.split('/')[-1]\n",
    "\n",
    "# # get the file\n",
    "# urllib.request.urlretrieve(url,savename)\n",
    "\n",
    "# # use xarray to open the dataset\n",
    "# ds = xr.open_dataset(savename) # ds = dataset\n",
    "\n",
    "# # the specific humidity is stored in the variable called Q\n",
    "# ds.Q"
   ]
  },
  {
   "attachments": {},
   "cell_type": "markdown",
   "metadata": {
    "execution": {}
   },
   "source": [
    "We need to use python to convert this 3-dimensional field into a global, annual average profile."
   ]
  },
  {
   "cell_type": "code",
   "execution_count": null,
   "metadata": {
    "execution": {},
    "executionInfo": {
     "elapsed": 5500,
     "status": "ok",
     "timestamp": 1680830700022,
     "user": {
      "displayName": "Abigail Bodner",
      "userId": "16617086768288510233"
     },
     "user_tz": 240
    }
   },
   "outputs": [],
   "source": [
    "# take global, annual average\n",
    "weight_factor = ds.gw / ds.gw.mean(dim='lat')\n",
    "Qglobal = (ds.Q * weight_factor).mean(dim=('lat','lon','time'))\n",
    "# print specific humidity profile\n",
    "Qglobal"
   ]
  },
  {
   "attachments": {},
   "cell_type": "markdown",
   "metadata": {
    "execution": {}
   },
   "source": [
    "Now that we have this data, we can define a model that has the same vertical levels as this data does."
   ]
  },
  {
   "cell_type": "code",
   "execution_count": null,
   "metadata": {
    "execution": {},
    "executionInfo": {
     "elapsed": 148,
     "status": "ok",
     "timestamp": 1680831446236,
     "user": {
      "displayName": "Abigail Bodner",
      "userId": "16617086768288510233"
     },
     "user_tz": 240
    }
   },
   "outputs": [],
   "source": [
    "# use 'lev=Qglobal.lev' to create an identical vertical grid to water vapor data\n",
    "mystate = climlab.column_state(lev=Qglobal.lev, water_depth=2.5)\n",
    "mystate"
   ]
  },
  {
   "attachments": {},
   "cell_type": "markdown",
   "metadata": {
    "execution": {}
   },
   "source": [
    "The specific radiation model we are choosing is the **[Rapid Radiative Transfer Model](https://climlab.readthedocs.io/en/latest/api/climlab.radiation.RRTMG.html)**. This is given by the 'RRTMG'. Below, we will initialize our model."
   ]
  },
  {
   "cell_type": "code",
   "execution_count": null,
   "metadata": {
    "execution": {},
    "executionInfo": {
     "elapsed": 3619,
     "status": "ok",
     "timestamp": 1680831453423,
     "user": {
      "displayName": "Abigail Bodner",
      "userId": "16617086768288510233"
     },
     "user_tz": 240
    }
   },
   "outputs": [],
   "source": [
    "radmodel = climlab.radiation.RRTMG(name='Radiation (all gases)',  # give our model a name!\n",
    "                              state=mystate,   # give our model an initial condition!\n",
    "                              specific_humidity=Qglobal.values,  # tell the model how much water vapor there is\n",
    "                              albedo = 0.25,  # this the SURFACE shortwave albedo\n",
    "                              timestep = climlab.constants.seconds_per_day,  # set the timestep to one day (measured in seconds)\n",
    "                             )\n",
    "radmodel"
   ]
  },
  {
   "attachments": {},
   "cell_type": "markdown",
   "metadata": {
    "execution": {}
   },
   "source": [
    "Let's explore this initial state. Here $T_s$ is the initial global mean surface temperature, and $T_{atm}$ is the initial global mean air temperature profile."
   ]
  },
  {
   "cell_type": "code",
   "execution_count": null,
   "metadata": {
    "execution": {},
    "executionInfo": {
     "elapsed": 115,
     "status": "ok",
     "timestamp": 1680831456021,
     "user": {
      "displayName": "Abigail Bodner",
      "userId": "16617086768288510233"
     },
     "user_tz": 240
    }
   },
   "outputs": [],
   "source": [
    "radmodel.state"
   ]
  },
  {
   "attachments": {},
   "cell_type": "markdown",
   "metadata": {
    "execution": {}
   },
   "source": [
    "One of the perks of using this model is it's ability to incorporate the spectral effects of individual greenhouse gases, rather than a bulk reduction in transmission of outgoing longwave radiation in our previous model.\n",
    "\n",
    "Displaying 'absorber_vmr' gives the **volume mixing ratio**'s stored in our model for each included gas. The volume mixing ratio is percentage of molecules in the atmosphere that are a given gas . For example, $21\\%$ of air is oxygen and so it's volumn mixing ratio is 0.21."
   ]
  },
  {
   "cell_type": "code",
   "execution_count": null,
   "metadata": {
    "execution": {},
    "executionInfo": {
     "elapsed": 158,
     "status": "ok",
     "timestamp": 1680831467961,
     "user": {
      "displayName": "Abigail Bodner",
      "userId": "16617086768288510233"
     },
     "user_tz": 240
    }
   },
   "outputs": [],
   "source": [
    "radmodel.absorber_vmr"
   ]
  },
  {
   "attachments": {},
   "cell_type": "markdown",
   "metadata": {
    "execution": {}
   },
   "source": [
    "To look at CO2 in a more familiar unit, parts per million (by volume), we can convert and print the new value."
   ]
  },
  {
   "cell_type": "code",
   "execution_count": null,
   "metadata": {
    "execution": {},
    "executionInfo": {
     "elapsed": 125,
     "status": "ok",
     "timestamp": 1680831471172,
     "user": {
      "displayName": "Abigail Bodner",
      "userId": "16617086768288510233"
     },
     "user_tz": 240
    }
   },
   "outputs": [],
   "source": [
    "radmodel.absorber_vmr['CO2'] * 1E6"
   ]
  },
  {
   "attachments": {},
   "cell_type": "markdown",
   "metadata": {
    "execution": {}
   },
   "source": [
    "We can also look at all the available diagnostics of our model:"
   ]
  },
  {
   "cell_type": "code",
   "execution_count": null,
   "metadata": {
    "execution": {},
    "executionInfo": {
     "elapsed": 287,
     "status": "ok",
     "timestamp": 1680831473662,
     "user": {
      "displayName": "Abigail Bodner",
      "userId": "16617086768288510233"
     },
     "user_tz": 240
    }
   },
   "outputs": [],
   "source": [
    "climlab.to_xarray(radmodel.diagnostics)"
   ]
  },
  {
   "attachments": {},
   "cell_type": "markdown",
   "metadata": {
    "execution": {}
   },
   "source": [
    "For example to look at OLR,"
   ]
  },
  {
   "cell_type": "code",
   "execution_count": null,
   "metadata": {
    "execution": {},
    "executionInfo": {
     "elapsed": 158,
     "status": "ok",
     "timestamp": 1680831477856,
     "user": {
      "displayName": "Abigail Bodner",
      "userId": "16617086768288510233"
     },
     "user_tz": 240
    }
   },
   "outputs": [],
   "source": [
    "radmodel.OLR"
   ]
  },
  {
   "attachments": {},
   "cell_type": "markdown",
   "metadata": {
    "execution": {}
   },
   "source": [
    "Note it is currently set to 0 as we have no ran the model forward in time yet."
   ]
  },
  {
   "attachments": {},
   "cell_type": "markdown",
   "metadata": {
    "execution": {}
   },
   "source": [
    "## Questions"
   ]
  },
  {
   "attachments": {},
   "cell_type": "markdown",
   "metadata": {
    "execution": {}
   },
   "source": [
    "1.  Why do you think all gases except ozone and water vapor are single values?"
   ]
  },
  {
   "attachments": {},
   "cell_type": "markdown",
   "metadata": {
    "execution": {}
   },
   "source": [
    "## Coding Exercises"
   ]
  },
  {
   "attachments": {},
   "cell_type": "markdown",
   "metadata": {
    "execution": {}
   },
   "source": [
    "1.  On the same graph, plot the annual mean specific humidty profile and ozone profiles."
   ]
  },
  {
   "cell_type": "code",
   "execution_count": null,
   "metadata": {
    "execution": {}
   },
   "outputs": [],
   "source": [
    "# fig, ax = plt.subplots()\n",
    "# #  multiply Qglobal by 1000 to put in units of grams water vapor per kg of air\n",
    "# ax.plot(..., ..., label=...)\n",
    "\n",
    "# # pressure decreases logarithmically with heigh in the atmosphere\n",
    "# # invert the axis so the largest value of pressure is lowest\n",
    "# ax.invert_yaxis()\n",
    "# # set y axis to a log scale\n",
    "# plt.yscale('log')\n",
    "\n",
    "# ax.set_ylabel('Pressure (hPa)')\n",
    "# ax.set_xlabel('Specific humidity (g/kg)')\n",
    "\n",
    "# # turn on the grid lines\n",
    "# ax.grid()"
   ]
  },
  {
   "cell_type": "markdown",
   "metadata": {
    "colab_type": "text",
    "execution": {},
    "executionInfo": {
     "elapsed": 2400,
     "status": "ok",
     "timestamp": 1680831485188,
     "user": {
      "displayName": "Abigail Bodner",
      "userId": "16617086768288510233"
     },
     "user_tz": 240
    }
   },
   "source": [
    "[*Click for solution*](https://github.com/NeuromatchAcademy/course-content/tree/main//tutorials/W1D5_ClimateModeling/solutions/W1D5_Tutorial5_Solution_08277006.py)\n",
    "\n"
   ]
  },
  {
   "attachments": {},
   "cell_type": "markdown",
   "metadata": {
    "execution": {}
   },
   "source": [
    "# Section 2: Getting Data to Compare to the Model"
   ]
  },
  {
   "attachments": {},
   "cell_type": "markdown",
   "metadata": {
    "execution": {}
   },
   "source": [
    "Before we run our model forward, we will download a reanalysis product from NCEP to get a sense of what the global mean atmospheric tempaerture profile looks like. We will compare this profile to our model runs later."
   ]
  },
  {
   "cell_type": "code",
   "execution_count": null,
   "metadata": {
    "execution": {},
    "executionInfo": {
     "elapsed": 979,
     "status": "ok",
     "timestamp": 1682125086037,
     "user": {
      "displayName": "Jenna Pearson",
      "userId": "05648130581702734913"
     },
     "user_tz": 420
    }
   },
   "outputs": [],
   "source": [
    "# use xarray to open the dataset - this can take a long time!\n",
    "# fname = 'air.mon.1981-2010.ltm.nc'\n",
    "url = \"https://osf.io/w6cd5/download/\"\n",
    "data_path = pooch.retrieve(\n",
    "    url,\n",
    "    known_hash=None\n",
    ")\n",
    "ncep_air = xr.open_dataset(data_path) # ds = dataset\n",
    "\n",
    "# this is the long term monthly means\n",
    "ncep_air.air"
   ]
  },
  {
   "cell_type": "code",
   "execution_count": null,
   "metadata": {
    "execution": {},
    "executionInfo": {
     "elapsed": 405,
     "status": "ok",
     "timestamp": 1680662820550,
     "user": {
      "displayName": "Jenna Pearson",
      "userId": "05648130581702734913"
     },
     "user_tz": 420
    }
   },
   "outputs": [],
   "source": [
    "# # download the data from the internet\n",
    "# url = f'https://downloads.psl.noaa.gov/Datasets/ncep.reanalysis/Monthlies/pressure/air.mon.1981-2010.ltm.nc'\n",
    "# savename = url.split('/')[-1]\n",
    "# urllib.request.urlretrieve(url,savename)\n",
    "# ncep_air = xr.open_dataset(savename) # ds = dataset\n",
    "\n",
    "# # this is the long term monthly means\n",
    "# ncep_air.air"
   ]
  },
  {
   "cell_type": "code",
   "execution_count": null,
   "metadata": {
    "execution": {},
    "executionInfo": {
     "elapsed": 7,
     "status": "ok",
     "timestamp": 1680662820551,
     "user": {
      "displayName": "Jenna Pearson",
      "userId": "05648130581702734913"
     },
     "user_tz": 420
    }
   },
   "outputs": [],
   "source": [
    "# need to take the average over space and time\n",
    "# the grid cells are not the same size moving towards the poles, so we weight by the cosine of latitude to compensate for this\n",
    "coslat = np.cos(np.deg2rad(ncep_air.lat))\n",
    "weight = coslat / coslat.mean(dim='lat')\n",
    "\n",
    "Tglobal = (ncep_air.air * weight).mean(dim=('lat','lon','time'))\n",
    "Tglobal"
   ]
  },
  {
   "attachments": {},
   "cell_type": "markdown",
   "metadata": {
    "execution": {}
   },
   "source": [
    "Below we will define two helper funcitons to visualize the profiles output from our model with a 'SkewT' plot. This is common way to plot atmospheric temperture in climate science, and the metpy package has a built in function to make this easier.\n",
    "\n"
   ]
  },
  {
   "cell_type": "code",
   "execution_count": null,
   "metadata": {
    "execution": {}
   },
   "outputs": [],
   "source": [
    "# to setup the skewT and plot observations\n",
    "def make_skewT():\n",
    "    fig = plt.figure(figsize=(9, 9))\n",
    "    skew = SkewT(fig, rotation=30)\n",
    "    skew.plot(Tglobal.level, Tglobal, color='black', linestyle='-', linewidth=2, label='Observations')\n",
    "    skew.ax.set_ylim(1050, 10)\n",
    "    skew.ax.set_xlim(-90, 45)\n",
    "    # Add the relevant special lines\n",
    "    # skew.plot_dry_adiabats(linewidth=1.5, label = 'dry adiabats')\n",
    "    # skew.plot_moist_adiabats(linewidth=1.5, label = 'moist adiabats')\n",
    "    #skew.plot_mixing_lines()\n",
    "    skew.ax.legend()\n",
    "    skew.ax.set_xlabel('Temperature (degC)', fontsize=14)\n",
    "    skew.ax.set_ylabel('Pressure (hPa)', fontsize=14)\n",
    "    return skew"
   ]
  },
  {
   "cell_type": "code",
   "execution_count": null,
   "metadata": {
    "execution": {}
   },
   "outputs": [],
   "source": [
    "# to add a model derived profile to the skewT figure\n",
    "def add_profile(skew, model, linestyle='-', color=None):\n",
    "    line = skew.plot(model.lev, model.Tatm - climlab.constants.tempCtoK,\n",
    "             label=model.name, linewidth=2)[0]\n",
    "    skew.plot(1000, model.Ts - climlab.constants.tempCtoK, 'o',\n",
    "              markersize=8, color=line.get_color())\n",
    "    skew.ax.legend()"
   ]
  },
  {
   "cell_type": "code",
   "execution_count": null,
   "metadata": {
    "execution": {},
    "executionInfo": {
     "elapsed": 2544,
     "status": "ok",
     "timestamp": 1680662823964,
     "user": {
      "displayName": "Jenna Pearson",
      "userId": "05648130581702734913"
     },
     "user_tz": 420
    }
   },
   "outputs": [],
   "source": [
    "skew = make_skewT()\n",
    "skew.ax.set_title('Pure radiative equilibrium', fontsize=18);"
   ]
  },
  {
   "attachments": {},
   "cell_type": "markdown",
   "metadata": {
    "execution": {}
   },
   "source": [
    "SkewT (also known as SkewT-logP) plots are generally used for much [more complex reasons](https://www.weather.gov/source/zhu/ZHU_Training_Page/convective_parameters/skewt/skewtinfo.html) than we will use here. However, one of the niceties of this plot that we will take advantage of is the fact that pressure decreases approximately logarithmically with height. This with a 'logP' axis, we are showing information that is linear in height and more sensible to intuit. "
   ]
  },
  {
   "attachments": {},
   "cell_type": "markdown",
   "metadata": {
    "execution": {}
   },
   "source": [
    "# Section 3 : Running the Radiative Equilibrium Model Forward in Time"
   ]
  },
  {
   "attachments": {},
   "cell_type": "markdown",
   "metadata": {
    "execution": {}
   },
   "source": [
    "Just as with the simple greenhouse model, we wish to run this model over many time steps and examine the behavior of the temperature column after a long time. \n",
    "\n",
    "There is no need to write out a function to step our model forward - climlab already has this feature. We will use this function to run our model to equilibrium, that is when OLR is balanced by ASR."
   ]
  },
  {
   "cell_type": "code",
   "execution_count": null,
   "metadata": {
    "execution": {}
   },
   "outputs": [],
   "source": [
    "# take a single step forward to the diagnostics are updated and there is some energy imbalance\n",
    "radmodel.step_forward()\n",
    "\n",
    "# run the model to equilibrium (the difference between ASR and OLR is a very small number)\n",
    "while np.abs(radmodel.ASR - radmodel.OLR) > 0.01:\n",
    "    radmodel.step_forward()"
   ]
  },
  {
   "cell_type": "code",
   "execution_count": null,
   "metadata": {
    "execution": {},
    "executionInfo": {
     "elapsed": 7,
     "status": "ok",
     "timestamp": 1680662825783,
     "user": {
      "displayName": "Jenna Pearson",
      "userId": "05648130581702734913"
     },
     "user_tz": 420
    }
   },
   "outputs": [],
   "source": [
    "#  check the energy budget to make sure we are really at equilibrium\n",
    "radmodel.ASR - radmodel.OLR"
   ]
  },
  {
   "attachments": {},
   "cell_type": "markdown",
   "metadata": {
    "execution": {}
   },
   "source": [
    "Now we can compare this to observations."
   ]
  },
  {
   "cell_type": "code",
   "execution_count": null,
   "metadata": {
    "execution": {},
    "executionInfo": {
     "elapsed": 2330,
     "status": "ok",
     "timestamp": 1680662828107,
     "user": {
      "displayName": "Jenna Pearson",
      "userId": "05648130581702734913"
     },
     "user_tz": 420
    }
   },
   "outputs": [],
   "source": [
    "skew = make_skewT()\n",
    "add_profile(skew, radmodel)\n",
    "skew.ax.set_title('Pure radiative equilibrium', fontsize=18);"
   ]
  },
  {
   "attachments": {},
   "cell_type": "markdown",
   "metadata": {
    "execution": {}
   },
   "source": [
    "\n",
    "\n",
    "\n",
    "\n",
    "\n",
    "\n",
    "\n",
    "\n",
    "\n",
    "\n",
    "\n",
    "\n",
    "\n",
    "\n",
    "\n",
    "## Questions"
   ]
  },
  {
   "attachments": {},
   "cell_type": "markdown",
   "metadata": {
    "execution": {}
   },
   "source": [
    "1. What effect do you think the individual gases play in determining this profile and why?\n",
    "2. The profile from our model does not match observations well. Can you think of one component we might be missing?"
   ]
  },
  {
   "attachments": {},
   "cell_type": "markdown",
   "metadata": {
    "execution": {}
   },
   "source": [
    "## Coding Exercises"
   ]
  },
  {
   "attachments": {},
   "cell_type": "markdown",
   "metadata": {
    "execution": {}
   },
   "source": [
    "1. Create a second model called 'Radiation (no H20)' that lacks water vapor. Then re-create the plot above, but add on this extra profile without water vapor."
   ]
  },
  {
   "cell_type": "markdown",
   "metadata": {
    "colab_type": "text",
    "execution": {},
    "executionInfo": {
     "elapsed": 5291,
     "status": "ok",
     "timestamp": 1680662833394,
     "user": {
      "displayName": "Jenna Pearson",
      "userId": "05648130581702734913"
     },
     "user_tz": 420
    }
   },
   "source": [
    "[*Click for solution*](https://github.com/NeuromatchAcademy/course-content/tree/main//tutorials/W1D5_ClimateModeling/solutions/W1D5_Tutorial5_Solution_ee46ddff.py)\n",
    "\n"
   ]
  },
  {
   "attachments": {},
   "cell_type": "markdown",
   "metadata": {
    "execution": {}
   },
   "source": [
    "# Section 4 : Radiative-Convective Equilibrium"
   ]
  },
  {
   "attachments": {},
   "cell_type": "markdown",
   "metadata": {
    "execution": {}
   },
   "source": [
    "From the plot you just made, one of the largest differences between the observations and (all gases) pure radiation model lies in the lower atmosphere, where the surface air temperature is 20 degrees too warm and the 200 hPa pressure surface is 40 degrees too cold. What could be the issue?\n",
    "\n",
    "One thing we have not included in our model yet is physics (motion of the air). The model's tempearture profile is what's known as **statically unstable** (note this definition of stability is different than that used in the previous tutorials).\n",
    "\n",
    "Here **static** means not due to wind or other motion, and **unstable** means the air column is prone to turbulence. Turbulence mixes air, and is heavily present throughout the **troposphere**, which is roughly the first 10km of the atmosphere. This is unsurprising, as 'tropo' means 'turning', and as expected most of the weather we experience lies in this sphere. \n",
    "\n",
    "The type of turbulence temperature profiles like this generate is called **convective turbulence**. Think about boiling water, and the convective circulation introduced from heating water from below. \n",
    "\n",
    "When air is lifted [adiabatically](httphttps://forecast.weather.gov/glossary.php?word=adiabatics://), it expands and cools from the lower pressure it experiences as it rises in the atmosphere.  The *rate* of cooling depends on whether the air is saturated or not. When air is unsaturated, it cools following the dry adiabats for a given inital temperature. If the air saturates, it cools at a lesser rate, and then follows the moist adiabats. \n",
    "\n",
    "To identify the unstable atmopshere layers, let's take another look at the SkewT plot, but this time we will plot the dry adiabats. We can then compare the rates of cooling of our model to these adiabats."
   ]
  },
  {
   "cell_type": "code",
   "execution_count": null,
   "metadata": {
    "execution": {}
   },
   "outputs": [],
   "source": [
    "# to setup the skewT and plot observations\n",
    "def make_skewT():\n",
    "    fig = plt.figure(figsize=(9, 9))\n",
    "    skew = SkewT(fig, rotation=30)\n",
    "    skew.plot(Tglobal.level, Tglobal, color='black', linestyle='-', linewidth=2, label='Observations')\n",
    "    skew.ax.set_ylim(1050, 10)\n",
    "    skew.ax.set_xlim(-90, 45)\n",
    "    # Add the relevant special lines\n",
    "    skew.plot_dry_adiabats(linewidth=1.5, label = 'dry adiabats')\n",
    "    # skew.plot_moist_adiabats(linewidth=1.5, label = 'moist adiabats')\n",
    "    #skew.plot_mixing_lines()\n",
    "    skew.ax.legend()\n",
    "    skew.ax.set_xlabel('Temperature (degC)', fontsize=14)\n",
    "    skew.ax.set_ylabel('Pressure (hPa)', fontsize=14)\n",
    "    return skew"
   ]
  },
  {
   "cell_type": "code",
   "execution_count": null,
   "metadata": {
    "execution": {},
    "executionInfo": {
     "elapsed": 1707,
     "status": "ok",
     "timestamp": 1680662835097,
     "user": {
      "displayName": "Jenna Pearson",
      "userId": "05648130581702734913"
     },
     "user_tz": 420
    }
   },
   "outputs": [],
   "source": [
    "skew = make_skewT()\n",
    "add_profile(skew, radmodel)\n",
    "skew.ax.set_title('Pure radiative equilibrium', fontsize=18);"
   ]
  },
  {
   "attachments": {},
   "cell_type": "markdown",
   "metadata": {
    "execution": {}
   },
   "source": [
    "\n",
    "\n",
    "Near the surface, the observed temperature profile is steeper than the dry adiabats. In these layers vertical motion is inhibited, and the layer is considered stable. The model profile is shallower than the dry adiabats however. Here vertical motion is favored, and the layer is unstable. Thus, including physics in our model can reduce the instability seen here and bring us closer to the reanalysis tempearture profile.\n",
    "\n",
    "\n",
    "To build a radiative-convective model we can take the radiative model we have already made and couple it to a convective model. Here the term **couple** implies there is communication between the models such that their effects are both incorporated into the final product, which in our case is the temperature profile."
   ]
  },
  {
   "cell_type": "code",
   "execution_count": null,
   "metadata": {
    "execution": {}
   },
   "outputs": [],
   "source": [
    "# restate the model here for ease of coding\n",
    "\n",
    "# make a model on same vertical domain as the water vapor data\n",
    "mystate = climlab.column_state(lev=Qglobal.lev, water_depth=2.5)\n",
    "\n",
    "# create the radiation model\n",
    "rad = climlab.radiation.RRTMG(name='Radiation (net)',\n",
    "                              state=mystate,\n",
    "                              specific_humidity=Qglobal.values,\n",
    "                              timestep = climlab.constants.seconds_per_day,\n",
    "                              albedo = 0.25,  # surface albedo, tuned to give reasonable ASR for reference cloud-free model\n",
    "                             )\n",
    "\n",
    "# create the convection model\n",
    "conv = climlab.convection.ConvectiveAdjustment(name='Convection',\n",
    "                                               state=mystate,\n",
    "                                               adj_lapse_rate=6.5,     # the adiabatic lapse rate of the atmopshere\n",
    "                                               timestep=rad.timestep,  # same timestep as radiation model\n",
    "                                              )\n",
    "# couple the two components\n",
    "rcm = climlab.couple([rad, conv], name='Radiative-Convective Model')"
   ]
  },
  {
   "attachments": {},
   "cell_type": "markdown",
   "metadata": {
    "execution": {}
   },
   "source": [
    "Now let's run just the radiation part to equilibrium (this should give us the same profile as in the previous section) and then turn on the physics (convection) and run to equilibrium again."
   ]
  },
  {
   "cell_type": "code",
   "execution_count": null,
   "metadata": {
    "execution": {},
    "executionInfo": {
     "elapsed": 8446,
     "status": "ok",
     "timestamp": 1680662843889,
     "user": {
      "displayName": "Jenna Pearson",
      "userId": "05648130581702734913"
     },
     "user_tz": 420
    }
   },
   "outputs": [],
   "source": [
    "# run JUST the radiative component to equilibrium\n",
    "for n in range(1000):\n",
    "    rcm.subprocess['Radiation (net)'].step_forward()\n",
    "\n",
    "# compute diagnostics\n",
    "rcm.compute_diagnostics()\n",
    "\n",
    "#  plot the resulting profile (our initial condition once we turn on the physics)\n",
    "fig, lines = initial_figure(rcm)"
   ]
  },
  {
   "cell_type": "code",
   "execution_count": null,
   "metadata": {
    "execution": {},
    "executionInfo": {
     "elapsed": 76217,
     "status": "ok",
     "timestamp": 1680662920102,
     "user": {
      "displayName": "Jenna Pearson",
      "userId": "05648130581702734913"
     },
     "user_tz": 420
    }
   },
   "outputs": [],
   "source": [
    "# this animation can take a while\n",
    "ani = animation.FuncAnimation(fig, animate, 100, fargs=(rcm, lines))\n",
    "HTML(ani.to_html5_video())"
   ]
  },
  {
   "attachments": {},
   "cell_type": "markdown",
   "metadata": {
    "execution": {}
   },
   "source": [
    "## Questions"
   ]
  },
  {
   "attachments": {},
   "cell_type": "markdown",
   "metadata": {
    "execution": {}
   },
   "source": [
    "1. The instability was removed in the first time step! What does this mean about the time scales that convection and radiation act on? Which one is faster than the other?\n",
    "2. Do you think the equilibrium temperature profile depends on the intial temperature profile?\n",
    "3. What do you think the next step would be to move towards a more realistic climate model?"
   ]
  },
  {
   "attachments": {},
   "cell_type": "markdown",
   "metadata": {
    "execution": {}
   },
   "source": [
    "## Coding Exercises"
   ]
  },
  {
   "attachments": {},
   "cell_type": "markdown",
   "metadata": {
    "execution": {}
   },
   "source": [
    "1. Recreate the video above except using an isothermal atmosphere (uniform temperature profile) set to the surface temprature."
   ]
  },
  {
   "cell_type": "code",
   "execution_count": null,
   "metadata": {
    "execution": {},
    "executionInfo": {
     "elapsed": 16,
     "status": "ok",
     "timestamp": 1680662920103,
     "user": {
      "displayName": "Jenna Pearson",
      "userId": "05648130581702734913"
     },
     "user_tz": 420
    }
   },
   "outputs": [],
   "source": [
    "# set initial temperature profile to be the surface temperature (isothermal)\n",
    "rcm.state.Tatm[:] = ...\n",
    "\n",
    "# compute diagnostics\n",
    "rcm...\n",
    "\n",
    "#  plot initial data\n",
    "fig, lines = ..."
   ]
  },
  {
   "cell_type": "markdown",
   "metadata": {
    "colab_type": "text",
    "execution": {},
    "executionInfo": {
     "elapsed": 2089,
     "status": "ok",
     "timestamp": 1680662922186,
     "user": {
      "displayName": "Jenna Pearson",
      "userId": "05648130581702734913"
     },
     "user_tz": 420
    }
   },
   "source": [
    "[*Click for solution*](https://github.com/NeuromatchAcademy/course-content/tree/main//tutorials/W1D5_ClimateModeling/solutions/W1D5_Tutorial5_Solution_e12c1598.py)\n",
    "\n"
   ]
  },
  {
   "cell_type": "code",
   "execution_count": null,
   "metadata": {
    "execution": {}
   },
   "outputs": [],
   "source": [
    "# make animation\n",
    "ani = ...\n",
    "HTML(ani.to_html5_video())"
   ]
  },
  {
   "cell_type": "markdown",
   "metadata": {
    "colab_type": "text",
    "execution": {},
    "executionInfo": {
     "elapsed": 110030,
     "status": "ok",
     "timestamp": 1680663032212,
     "user": {
      "displayName": "Jenna Pearson",
      "userId": "05648130581702734913"
     },
     "user_tz": 420
    }
   },
   "source": [
    "[*Click for solution*](https://github.com/NeuromatchAcademy/course-content/tree/main//tutorials/W1D5_ClimateModeling/solutions/W1D5_Tutorial5_Solution_0a5de6ab.py)\n",
    "\n"
   ]
  }
 ],
 "metadata": {
  "colab": {
   "collapsed_sections": [],
   "include_colab_link": true,
   "name": "W1D5_Tutorial5",
   "provenance": [],
   "toc_visible": true
  },
  "kernel": {
   "display_name": "Python 3",
   "language": "python",
   "name": "python3"
  },
  "kernelspec": {
   "display_name": "Python 3 (pangeo)",
   "language": "python",
   "name": "pangeo"
  },
  "language_info": {
   "codemirror_mode": {
    "name": "ipython",
    "version": 3
   },
   "file_extension": ".py",
   "mimetype": "text/x-python",
   "name": "python",
   "nbconvert_exporter": "python",
   "pygments_lexer": "ipython3",
   "version": "3.10.10"
  }
 },
 "nbformat": 4,
 "nbformat_minor": 0
}