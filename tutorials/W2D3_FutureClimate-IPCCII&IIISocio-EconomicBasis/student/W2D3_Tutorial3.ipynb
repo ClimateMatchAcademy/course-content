{
 "cells": [
  {
   "cell_type": "code",
   "execution_count": null,
   "id": "e54e4de1",
   "metadata": {
    "execution": {}
   },
   "outputs": [],
   "source": [
    "import IPython\n",
    "IPython.display.HTML(\"<style>.container { width:100% !important;}</style>\");"
   ]
  },
  {
   "cell_type": "code",
   "execution_count": null,
   "id": "27636b92",
   "metadata": {
    "execution": {}
   },
   "outputs": [],
   "source": [
    "src = 'https://margo.plutojl.org/W2D3_Tutorial3.html'\n",
    "IPython.display.IFrame(src, width=\"100%\", height=\"5000px\")"
   ]
  }
 ],
 "metadata": {
  "colab": {
   "collapsed_sections": [],
   "include_colab_link": true,
   "name": "W2D3_Tutorial3",
   "toc_visible": true
  },
  "kernel": {
   "display_name": "Python 3",
   "language": "python",
   "name": "python3"
  },
  "kernelspec": {
   "display_name": "Python 3 (ipykernel)",
   "language": "python",
   "name": "python3"
  },
  "language_info": {
   "codemirror_mode": {
    "name": "ipython",
    "version": 3
   },
   "file_extension": ".py",
   "mimetype": "text/x-python",
   "name": "python",
   "nbconvert_exporter": "python",
   "pygments_lexer": "ipython3",
   "version": "3.10.12"
  }
 },
 "nbformat": 4,
 "nbformat_minor": 5
}
