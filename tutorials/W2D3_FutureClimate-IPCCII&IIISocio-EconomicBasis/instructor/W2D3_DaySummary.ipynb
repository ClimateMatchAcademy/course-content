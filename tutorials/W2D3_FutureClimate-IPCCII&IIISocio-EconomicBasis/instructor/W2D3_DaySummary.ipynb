{
 "cells": [
  {
   "cell_type": "markdown",
   "id": "3b83976b",
   "metadata": {},
   "source": [
    "# Day Summary"
   ]
  },
  {
   "cell_type": "markdown",
   "id": "f2b474b6",
   "metadata": {},
   "source": [
    "This day's tutorials focused on the socioeconomic projections regarding the future of the climate emergency. The content centered around the shared socioeconomic pathways framework used by the IPCC and is more knowledge-based than skills-based compared with other days.\n",
    "\n",
    "The day began with a tutorial that summarizes the socio-economic history of growth & limits to physical growth as a parent problem within which the climate emergency arises. You explored the consequences of resource limitations in the computational part of this tutorial through the world3 model.\n",
    "\n",
    "The next tutorial dove into a formulation of the economics of climate change beginning with goal setting and then the main concepts and methods to finding optimal economic plans. You learned about the economic models used in the SSP framework, integrated assessment models (IAMs), and the modeling practice that uses them to make projections. The computational part of the tutorial first walked you through some graphical exercises that illustrate basic economic concepts before running a simple IAM (the RICE model) under various parameter settings.\n",
    "\n",
    "The third tutorial presented the SSP framework in which IAMs are used. You learned how the five SSP narratives were constructed and integrated with physical modeling efforts to define the full set of SSP pathways. You then got a glimpse of what an IAM used in this project consists of and saw the results through important metrics like energy use and greenhouse gas emissions. The computational part of the tutorial took off from a critique of the SSP framework to motivate playing with MARGO, a simple model with more, and more dynamic mitigation controls.\n",
    "\n",
    "Finally, the fourth tutorial on public opinion focussed on climate action psychology and values-based communication. The computational exercise had you analyze public sentiment through analysis of a large dataset of Twitter messages."
   ]
  }
 ],
 "metadata": {
  "kernelspec": {
   "display_name": "Python 3 (ipykernel)",
   "language": "python",
   "name": "python3"
  },
  "language_info": {
   "codemirror_mode": {
    "name": "ipython",
    "version": 3
   },
   "file_extension": ".py",
   "mimetype": "text/x-python",
   "name": "python",
   "nbconvert_exporter": "python",
   "pygments_lexer": "ipython3",
   "version": "3.10.8"
  }
 },
 "nbformat": 4,
 "nbformat_minor": 5
}
