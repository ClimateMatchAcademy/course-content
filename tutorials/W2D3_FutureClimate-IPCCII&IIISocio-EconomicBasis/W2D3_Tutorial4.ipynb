{
 "cells": [
  {
   "attachments": {},
   "cell_type": "markdown",
   "id": "rmt_vWoCB1Qc",
   "metadata": {
    "id": "rmt_vWoCB1Qc"
   },
   "source": [
    "# **Tutorial 4 - Public opinion on the climate emergency & why it matters**\n",
    "## **Text analysis of COP tweets**\n",
    "\n",
    "**Week 2, Day 3: IPCC Socio-economic Basis**\n",
    "\n",
    "**Content creators:** Maximilian Puelma Touzel\n",
    "\n",
    "**Content reviewers:** Peter Ohue, Derick Temfack, Zahra Khodakaramimaghsoud, Peizhen Yang, Younkap Nina DuplexLaura Paccini, Sloane Garelick, Abigail Bodner, Manisha Sinha, Agustina Pesce, Dionessa Biton, Cheng Zhang, Jenna Pearson, Chi Zhang, Ohad Zivan\n",
    "\n",
    "**Content editors:** Jenna Pearson, Chi Zhang, Ohad Zivan\n",
    "\n",
    "**Production editors:** Wesley Banfield, Jenna Pearson, Chi Zhang, Ohad Zivan\n",
    "\n",
    "**Our 2023 Sponsors:** NASA TOPS"
   ]
  },
  {
   "cell_type": "markdown",
   "id": "aea4f3f2-e034-4ced-9be3-a44830488f2d",
   "metadata": {},
   "source": [
    "# **Tutorial Objectives** \n",
    "In this tutorial, we will explore a dataset derived from Twitter, focusing on public sentiment surrounding the [Conference of Parties (COP) climate change conferences](https://unfccc.int/process/bodies/supreme-bodies/conference-of-the-parties-cop). We will use data from a published study by [Falkenberg et al. *Nature Clim. Chg.* 2022](https://www.nature.com/articles/s41558-022-01527-x). This dataset encompasses tweets mentioning the COP conferences, which bring together world governments, NGOs, and businesses to discuss and negotiate on climate change progress. Our main objective is to understand public sentiment about climate change and how it has evolved over time through an analysis of changing word usage on social media. In the process, we will also learn how to manage and analyze large quantities of text data.\n",
    "\n",
    "The tutorial is divided into sections, where we first delve into loading and inspecting the data, examining the timing and languages of the tweets, and analyzing sentiments associated with specific words, including those indicating 'hypocrisy'. We'll also look at sentiments regarding institutions within these tweets and compare the sentiment of tweets containing 'hypocrisy'-related words versus those without. This analysis is supplemented with visualization techniques like word clouds and distribution plots.\n",
    "\n",
    "By the end of this tutorial, you will have developed a nuanced understanding of how text analysis can be used to study public sentiment on climate change and other environmental issues, helping us to navigate the intricate and evolving landscape of climate communication and advocacy."
   ]
  },
  {
   "attachments": {},
   "cell_type": "markdown",
   "id": "fc651270",
   "metadata": {},
   "source": [
    "\n",
    "# **Setup**\n",
    "\n",
    "Import libraries"
   ]
  },
  {
   "cell_type": "code",
   "execution_count": 6,
   "id": "0faa3cdf",
   "metadata": {
    "tags": [
     "colab"
    ]
   },
   "outputs": [
    {
     "name": "stdout",
     "output_type": "stream",
     "text": [
      "Requirement already satisfied: afinn in /Users/chi/miniconda3/lib/python3.10/site-packages (0.1)\n",
      "Requirement already satisfied: wordcloud in /Users/chi/miniconda3/lib/python3.10/site-packages (1.9.2)\n",
      "Requirement already satisfied: numpy>=1.6.1 in /Users/chi/miniconda3/lib/python3.10/site-packages (from wordcloud) (1.23.5)\n",
      "Requirement already satisfied: pillow in /Users/chi/miniconda3/lib/python3.10/site-packages (from wordcloud) (9.5.0)\n",
      "Requirement already satisfied: matplotlib in /Users/chi/miniconda3/lib/python3.10/site-packages (from wordcloud) (3.7.1)\n",
      "Requirement already satisfied: packaging>=20.0 in /Users/chi/miniconda3/lib/python3.10/site-packages (from matplotlib->wordcloud) (23.0)\n",
      "Requirement already satisfied: contourpy>=1.0.1 in /Users/chi/miniconda3/lib/python3.10/site-packages (from matplotlib->wordcloud) (1.0.7)\n",
      "Requirement already satisfied: pyparsing>=2.3.1 in /Users/chi/miniconda3/lib/python3.10/site-packages (from matplotlib->wordcloud) (3.0.9)\n",
      "Requirement already satisfied: kiwisolver>=1.0.1 in /Users/chi/miniconda3/lib/python3.10/site-packages (from matplotlib->wordcloud) (1.4.4)\n",
      "Requirement already satisfied: fonttools>=4.22.0 in /Users/chi/miniconda3/lib/python3.10/site-packages (from matplotlib->wordcloud) (4.39.4)\n",
      "Requirement already satisfied: python-dateutil>=2.7 in /Users/chi/miniconda3/lib/python3.10/site-packages (from matplotlib->wordcloud) (2.8.2)\n",
      "Requirement already satisfied: cycler>=0.10 in /Users/chi/miniconda3/lib/python3.10/site-packages (from matplotlib->wordcloud) (0.11.0)\n",
      "Requirement already satisfied: six>=1.5 in /Users/chi/miniconda3/lib/python3.10/site-packages (from python-dateutil>=2.7->matplotlib->wordcloud) (1.16.0)\n",
      "Collecting nltk\n",
      "  Downloading nltk-3.8.1-py3-none-any.whl (1.5 MB)\n",
      "\u001b[2K     \u001b[90m━━━━━━━━━━━━━━━━━━━━━━━━━━━━━━━━━━━━━━━━\u001b[0m \u001b[32m1.5/1.5 MB\u001b[0m \u001b[31m13.7 MB/s\u001b[0m eta \u001b[36m0:00:00\u001b[0ma \u001b[36m0:00:01\u001b[0m\n",
      "\u001b[?25hRequirement already satisfied: click in /Users/chi/miniconda3/lib/python3.10/site-packages (from nltk) (8.1.3)\n",
      "Requirement already satisfied: tqdm in /Users/chi/miniconda3/lib/python3.10/site-packages (from nltk) (4.65.0)\n",
      "Requirement already satisfied: joblib in /Users/chi/miniconda3/lib/python3.10/site-packages (from nltk) (1.2.0)\n",
      "Collecting regex>=2021.8.3\n",
      "  Downloading regex-2023.6.3-cp310-cp310-macosx_11_0_arm64.whl (288 kB)\n",
      "\u001b[2K     \u001b[90m━━━━━━━━━━━━━━━━━━━━━━━━━━━━━━━━━━━━━━\u001b[0m \u001b[32m289.0/289.0 kB\u001b[0m \u001b[31m11.5 MB/s\u001b[0m eta \u001b[36m0:00:00\u001b[0m\n",
      "\u001b[?25hInstalling collected packages: regex, nltk\n",
      "Successfully installed nltk-3.8.1 regex-2023.6.3\n"
     ]
    }
   ],
   "source": [
    "!pip install afinn\n",
    "!pip install wordcloud\n",
    "!pip install nltk"
   ]
  },
  {
   "cell_type": "code",
   "execution_count": 7,
   "id": "AM-4KSggB_xR",
   "metadata": {
    "colab": {
     "base_uri": "https://localhost:8080/",
     "height": 52
    },
    "executionInfo": {
     "elapsed": 27541,
     "status": "ok",
     "timestamp": 1682441197348,
     "user": {
      "displayName": "Maximilian Puelma Touzel",
      "userId": "09308600515315501700"
     },
     "user_tz": 240
    },
    "id": "AM-4KSggB_xR",
    "outputId": "c43a7b2a-2082-4d08-9bd4-fb0a3aa44843"
   },
   "outputs": [],
   "source": [
    "%matplotlib inline\n",
    "import numpy as np\n",
    "import pandas as pd\n",
    "import matplotlib.pyplot as pl\n",
    "import seaborn as sns\n",
    "from wordcloud import WordCloud\n",
    "from sklearn.feature_extraction.text import TfidfVectorizer\n",
    "from sklearn.feature_extraction.text import CountVectorizer\n",
    "#notebook config\n",
    "from IPython.display import display, HTML\n",
    "import datetime\n",
    "import re\n",
    "import nltk\n",
    "from nltk.corpus import stopwords\n",
    "from mpl_toolkits.axes_grid1.inset_locator import inset_axes\n",
    "import urllib.request  # the lib that handles the url stuff\n",
    "from afinn import Afinn\n",
    "import pooch"
   ]
  },
  {
   "cell_type": "code",
   "execution_count": null,
   "id": "e922e0dc-3a05-4a2f-a359-39a6a18e50c6",
   "metadata": {},
   "outputs": [],
   "source": [
    "# @title Figure settings\n",
    "import ipywidgets as widgets       # interactive display\n",
    "%config InlineBackend.figure_format = 'retina'\n",
    "plt.style.use(\"https://raw.githubusercontent.com/ClimateMatchAcademy/course-content/main/cma.mplstyle\")"
   ]
  },
  {
   "cell_type": "code",
   "execution_count": null,
   "id": "e3438b0b-03f3-4fff-b1e1-2e4c688fb60f",
   "metadata": {},
   "outputs": [],
   "source": [
    "# @title Video 2: A Simple Greenhouse Model\n",
    "#Tech team will add code to format and display the video"
   ]
  },
  {
   "cell_type": "code",
   "execution_count": null,
   "id": "k5Q3hmUQC1AH",
   "metadata": {
    "colab": {
     "base_uri": "https://localhost:8080/"
    },
    "executionInfo": {
     "elapsed": 869,
     "status": "ok",
     "timestamp": 1682441198210,
     "user": {
      "displayName": "Maximilian Puelma Touzel",
      "userId": "09308600515315501700"
     },
     "user_tz": 240
    },
    "id": "k5Q3hmUQC1AH",
    "outputId": "9525c0f9-4ef6-45e8-d94c-493a9482e4d4"
   },
   "outputs": [],
   "source": [
    "sns.set_style(\"ticks\", {'axes.grid' : False})\n",
    "display(HTML(\"<style>.container { width:100% !important; }</style>\"))"
   ]
  },
  {
   "attachments": {},
   "cell_type": "markdown",
   "id": "4b726e00",
   "metadata": {
    "id": "4b726e00"
   },
   "source": [
    "# **Section 1: Data preprocessing**"
   ]
  },
  {
   "attachments": {},
   "cell_type": "markdown",
   "id": "25ecfd31",
   "metadata": {
    "id": "25ecfd31"
   },
   "source": [
    "We have performed the following preprocessing steps for you (simply follow along; there is no need to execute any commands in this section):"
   ]
  },
  {
   "attachments": {},
   "cell_type": "markdown",
   "id": "d4b7ffe1",
   "metadata": {
    "id": "d4b7ffe1"
   },
   "source": [
    "Every Twitter messages (hereon called *tweets*) has an ID. IDs of all tweets mentioning `COPx` (x=20-26) used in Falkenberg et al. (2022) were placed by the authors in an [osf archive](https://osf.io/nu75j). Download the 7 .csv files (one for each COP) [here](https://osf.io/download/pr29x/) "
   ]
  },
  {
   "attachments": {},
   "cell_type": "markdown",
   "id": "1c20cf26",
   "metadata": {
    "id": "1c20cf26"
   },
   "source": [
    "The `twarc2` program serves as an interface with the Twitter API, allowing users to retrieve full tweet content and metadata by providing the tweet ID. Similar to GitHub, you need to create a Twitter API account and configure `twarc` on your local machine by providing your account authentication keys. To rehydrate a set of tweets using their IDs, you can use the following command: `twarc2 hydrate source_file.txt store_file.jsonl`. In this command, each line of the `source_file.txt` represents a Twitter ID, and the hydrated tweets will be stored in the `store_file.jsonl`.\n"
   ]
  },
  {
   "attachments": {},
   "cell_type": "markdown",
   "id": "14f124e1",
   "metadata": {
    "id": "14f124e1"
   },
   "source": [
    "- First format the downloaded IDs and split them into separate files (*batches*) to make hydration calls to the API more time manageable (hours versus days - this is slow because of an API-imposed limit of 100 tweets/min.). "
   ]
  },
  {
   "cell_type": "code",
   "execution_count": null,
   "id": "7ceb30ff",
   "metadata": {
    "executionInfo": {
     "elapsed": 9,
     "status": "ok",
     "timestamp": 1682441198212,
     "user": {
      "displayName": "Maximilian Puelma Touzel",
      "userId": "09308600515315501700"
     },
     "user_tz": 240
    },
    "id": "7ceb30ff"
   },
   "outputs": [],
   "source": [
    "# import os\n",
    "# dir_name='Falkenberg2022_data/'\n",
    "# if not os.path.exists(dir_name):\n",
    "#     os.mkdir(dir_name)\n",
    "# batch_size = int(1e5)\n",
    "# download_pathname=''#~/projects/ClimateMatch/SocioEconDay/Polarization/COP_Twitter_IDs/\n",
    "# for copid in range(20,27):\n",
    "#     df_tweetids=pd.read_csv(download_pathname+'tweet_ids_cop'+str(copid)+'.csv')    \n",
    "#     for batch_id,break_id in enumerate(range(0,len(df_tweetids),batch_size)):\n",
    "#         file_name=\"tweetids_COP\"+str(copid)+\"_b\"+str(batch_id)+\".txt\"\n",
    "#         df_tweetids.loc[break_id:break_id+batch_size,'id'].to_csv(dir_name+file_name,index=False,header=False)"
   ]
  },
  {
   "attachments": {},
   "cell_type": "markdown",
   "id": "63f668a3",
   "metadata": {
    "id": "63f668a3"
   },
   "source": [
    "- Make the hydration calls for COP26 (this took 4 days to download 50GB of data for COP26)."
   ]
  },
  {
   "cell_type": "code",
   "execution_count": null,
   "id": "3e4f4026",
   "metadata": {
    "executionInfo": {
     "elapsed": 314,
     "status": "ok",
     "timestamp": 1682441198517,
     "user": {
      "displayName": "Maximilian Puelma Touzel",
      "userId": "09308600515315501700"
     },
     "user_tz": 240
    },
    "id": "3e4f4026"
   },
   "outputs": [],
   "source": [
    "# import glob\n",
    "# import time\n",
    "# copid=26\n",
    "# filename_list = glob.glob('Falkenberg2022_data/'+\"tweetids_COP\"+str(copid)+\"*\")\n",
    "# dir_name='tweet_data/'\n",
    "# if not os.path.exists(dir_name):\n",
    "#     os.mkdir(dir_name)\n",
    "# file_name=\"tweetids_COP\"+str(copid)+\"_b\"+str(batch_id)+\".txt\"\n",
    "# for itt,tweet_id_batch_filename in enumerate(filename_list):\n",
    "#     strvars=tweet_id_batch_filename.split('/')[1].split('.')[0].split('_')\n",
    "#     tweet_store_filename = dir_name+'tweets_'+strvars[1]+'_'+strvars[2]+'.json'\n",
    "#     if not os.path.exists(tweet_store_filename):\n",
    "#         st=time.time()\n",
    "#         os.system('twarc2 hydrate '+tweet_id_batch_filename+' '+tweet_store_filename)\n",
    "#         print(str(itt)+' '+str(strvars[2])+\" \"+str(time.time()-st))"
   ]
  },
  {
   "attachments": {},
   "cell_type": "markdown",
   "id": "c0ef1f97",
   "metadata": {
    "id": "c0ef1f97"
   },
   "source": [
    "- Load data"
   ]
  },
  {
   "attachments": {},
   "cell_type": "markdown",
   "id": "1ade1f98",
   "metadata": {
    "id": "1ade1f98"
   },
   "source": [
    "Inspect and pick a chunk size. Note, by default, there are 100 tweets per line in the `.json` files returned by the API. Given we asked for 1e5 tweets/batch, there should be 1e3 lines in these files."
   ]
  },
  {
   "cell_type": "code",
   "execution_count": null,
   "id": "bdc599db",
   "metadata": {
    "executionInfo": {
     "elapsed": 10,
     "status": "ok",
     "timestamp": 1682441198518,
     "user": {
      "displayName": "Maximilian Puelma Touzel",
      "userId": "09308600515315501700"
     },
     "user_tz": 240
    },
    "id": "bdc599db"
   },
   "outputs": [],
   "source": [
    "# copid=26\n",
    "# batch_id = 0\n",
    "# tweet_store_filename = 'tweet_data/tweets_COP'+str(copid)+'_b'+str(batch_id)+'.json'\n",
    "# num_lines = sum(1 for line in open(tweet_store_filename))\n",
    "# num_lines"
   ]
  },
  {
   "attachments": {},
   "cell_type": "markdown",
   "id": "8985e74d",
   "metadata": {
    "id": "8985e74d"
   },
   "source": [
    "Now we read in the data, iterating over chunks in each batch and only store the needed data in a dataframe (takes 10-20 minutes to run). Let's look at when the tweets were posted, what language they are in, and the tweet text:"
   ]
  },
  {
   "cell_type": "code",
   "execution_count": null,
   "id": "b3c5364c",
   "metadata": {
    "executionInfo": {
     "elapsed": 10,
     "status": "ok",
     "timestamp": 1682441198519,
     "user": {
      "displayName": "Maximilian Puelma Touzel",
      "userId": "09308600515315501700"
     },
     "user_tz": 240
    },
    "id": "b3c5364c"
   },
   "outputs": [],
   "source": [
    "# selected_columns = ['created_at','lang','text']"
   ]
  },
  {
   "cell_type": "code",
   "execution_count": null,
   "id": "5194e171",
   "metadata": {
    "executionInfo": {
     "elapsed": 11,
     "status": "ok",
     "timestamp": 1682441198520,
     "user": {
      "displayName": "Maximilian Puelma Touzel",
      "userId": "09308600515315501700"
     },
     "user_tz": 240
    },
    "id": "5194e171",
    "scrolled": true
   },
   "outputs": [],
   "source": [
    "# st=time.time()\n",
    "# filename_list = glob.glob('tweet_data/'+\"tweets_COP\"+str(copid)+\"*\")\n",
    "# df=[]\n",
    "# for tweet_batch_filename in filename_list[:-1]:\n",
    "#     reader = pd.read_json(tweet_batch_filename, lines=True,chunksize=1)\n",
    "# #     df.append(pd.DataFrame([item[selected_columns] for sublist in reader.data.values.tolist()[:-1] for item in sublist] )[selected_columns])\n",
    "#     dfs=[]\n",
    "#     for chunk in reader:\n",
    "#         if 'data' in chunk.columns:\n",
    "#             dfs.append(pd.DataFrame(list(chunk.data.values)[0])[selected_columns])\n",
    "#     df.append(pd.concat(dfs,ignore_index=True))\n",
    "# #     df.append(pd.DataFrame(list(reader.data)[0])[selected_columns])\n",
    "# df=pd.concat(df,ignore_index=True)\n",
    "# df.created_at=pd.to_datetime(df.created_at)\n",
    "# print(str(len(df))+' tweets took '+str(time.time()-st))\n",
    "# df.head()"
   ]
  },
  {
   "attachments": {},
   "cell_type": "markdown",
   "id": "05c4a70a",
   "metadata": {
    "id": "05c4a70a"
   },
   "source": [
    "- finally, store the data in the efficiently compressed feather format"
   ]
  },
  {
   "cell_type": "code",
   "execution_count": null,
   "id": "5c092c48",
   "metadata": {
    "executionInfo": {
     "elapsed": 10,
     "status": "ok",
     "timestamp": 1682441198520,
     "user": {
      "displayName": "Maximilian Puelma Touzel",
      "userId": "09308600515315501700"
     },
     "user_tz": 240
    },
    "id": "5c092c48"
   },
   "outputs": [],
   "source": [
    "# df.to_feather('stored_tweets') "
   ]
  },
  {
   "attachments": {},
   "cell_type": "markdown",
   "id": "a2c5e425",
   "metadata": {
    "id": "a2c5e425"
   },
   "source": [
    "(run notebook from here)"
   ]
  },
  {
   "attachments": {},
   "cell_type": "markdown",
   "id": "0xYALOlVOIaq",
   "metadata": {
    "id": "0xYALOlVOIaq"
   },
   "source": [
    "# **Section 2: Load and inspect data**"
   ]
  },
  {
   "attachments": {},
   "cell_type": "markdown",
   "id": "b60c41ba",
   "metadata": {
    "id": "b60c41ba"
   },
   "source": [
    "Load the preprocessed data"
   ]
  },
  {
   "cell_type": "code",
   "execution_count": null,
   "id": "0fa12333",
   "metadata": {
    "executionInfo": {
     "elapsed": 24315,
     "status": "ok",
     "timestamp": 1682441222825,
     "user": {
      "displayName": "Maximilian Puelma Touzel",
      "userId": "09308600515315501700"
     },
     "user_tz": 240
    },
    "id": "0fa12333"
   },
   "outputs": [],
   "source": [
    "path = pooch.retrieve(\"https://osf.io/download/8p52x/\",known_hash=None)\n",
    "df=pd.read_feather(path) #takes a couple minutes to download"
   ]
  },
  {
   "attachments": {},
   "cell_type": "markdown",
   "id": "4739ce10",
   "metadata": {
    "id": "4739ce10"
   },
   "source": [
    "Let's check the timing of the tweets relative to the COP26 event (duration shaded in blue) to see how the tweets are spread over time."
   ]
  },
  {
   "cell_type": "code",
   "execution_count": null,
   "id": "4c9f8eb0",
   "metadata": {
    "colab": {
     "base_uri": "https://localhost:8080/",
     "height": 350
    },
    "executionInfo": {
     "elapsed": 13946,
     "status": "ok",
     "timestamp": 1682441236740,
     "user": {
      "displayName": "Maximilian Puelma Touzel",
      "userId": "09308600515315501700"
     },
     "user_tz": 240
    },
    "id": "4c9f8eb0",
    "outputId": "9ac65767-6dab-44b5-e074-01a5a67ad184"
   },
   "outputs": [],
   "source": [
    "total_tweetCounts=df.created_at.groupby(df.created_at.apply(lambda x: x.date)).count().rename('counts')\n",
    "total_tweetCounts.reset_index().plot(x='created_at',y='counts',figsize=(20,5),style='.-') \n",
    "pl.xticks(rotation=45,ha='right');\n",
    "pl.gca().set_yscale('log')\n",
    "COPdates=[datetime.datetime(2021,10,31), datetime.datetime(2021,11,12)] #shade the duration of the COP26 to guide the eye\n",
    "pl.gca().axvspan(*COPdates, alpha=0.3); #gray region"
   ]
  },
  {
   "attachments": {},
   "cell_type": "markdown",
   "id": "f4284f8e",
   "metadata": {
    "id": "f4284f8e"
   },
   "source": [
    "Who is tweeting about this COP? Look at how many tweets were posted in various languages:"
   ]
  },
  {
   "cell_type": "code",
   "execution_count": null,
   "id": "ea608af6",
   "metadata": {
    "executionInfo": {
     "elapsed": 4,
     "status": "ok",
     "timestamp": 1682441237444,
     "user": {
      "displayName": "Maximilian Puelma Touzel",
      "userId": "09308600515315501700"
     },
     "user_tz": 240
    },
    "id": "ea608af6",
    "scrolled": true
   },
   "outputs": [],
   "source": [
    "counts=df.lang.value_counts().reset_index()"
   ]
  },
  {
   "attachments": {},
   "cell_type": "markdown",
   "id": "9a3c8365",
   "metadata": {
    "id": "9a3c8365"
   },
   "source": [
    "The stored language name of the tweet is stored as a code name. Pull a language code dictionary from the web and use it to translate the language code to the language name."
   ]
  },
  {
   "cell_type": "code",
   "execution_count": null,
   "id": "ddcf6f0d",
   "metadata": {
    "colab": {
     "base_uri": "https://localhost:8080/",
     "height": 424
    },
    "executionInfo": {
     "elapsed": 172,
     "status": "ok",
     "timestamp": 1682441237888,
     "user": {
      "displayName": "Maximilian Puelma Touzel",
      "userId": "09308600515315501700"
     },
     "user_tz": 240
    },
    "id": "ddcf6f0d",
    "outputId": "f4356a91-472c-45ef-a521-5ce9b8412975"
   },
   "outputs": [],
   "source": [
    "target_url='https://gist.githubusercontent.com/carlopires/1262033/raw/c52ef0f7ce4f58108619508308372edd8d0bd518/gistfile1.txt'\n",
    "exec(urllib.request.urlopen(target_url).read())\n",
    "lang_code_dict=dict(iso_639_choices)\n",
    "counts=counts.replace({'index':lang_code_dict})\n",
    "counts"
   ]
  },
  {
   "attachments": {},
   "cell_type": "markdown",
   "id": "714e60db",
   "metadata": {
    "id": "714e60db"
   },
   "source": [
    "### **Coding Exercise 2.1**\n",
    "Find your native language code in the dictionary printed below and use it to select the COP tweets that were written in your language!"
   ]
  },
  {
   "cell_type": "code",
   "execution_count": null,
   "id": "70a69dc4",
   "metadata": {
    "colab": {
     "base_uri": "https://localhost:8080/"
    },
    "executionInfo": {
     "elapsed": 13,
     "status": "ok",
     "timestamp": 1682441237889,
     "user": {
      "displayName": "Maximilian Puelma Touzel",
      "userId": "09308600515315501700"
     },
     "user_tz": 240
    },
    "id": "70a69dc4",
    "outputId": "f5756e1c-ce87-47d2-ca70-169d0a899006"
   },
   "outputs": [],
   "source": [
    "lang_code_dict"
   ]
  },
  {
   "attachments": {},
   "cell_type": "markdown",
   "id": "7b9723df",
   "metadata": {
    "id": "7b9723df"
   },
   "source": [
    "Select tweets of a given language"
   ]
  },
  {
   "cell_type": "code",
   "execution_count": null,
   "id": "caf4eb4b",
   "metadata": {
    "colab": {
     "base_uri": "https://localhost:8080/",
     "height": 1000
    },
    "executionInfo": {
     "elapsed": 6907,
     "status": "ok",
     "timestamp": 1682441245325,
     "user": {
      "displayName": "Maximilian Puelma Touzel",
      "userId": "09308600515315501700"
     },
     "user_tz": 240
    },
    "id": "caf4eb4b",
    "outputId": "69b3bcbf-5e5d-4b81-e616-e21464e2f0fc"
   },
   "outputs": [],
   "source": [
    "language_code = 'en'\n",
    "df=df.loc[df.lang==language_code,:].reset_index(drop=True)\n",
    "pd.options.display.max_rows=100 #see up to 100 entries\n",
    "pd.options.display.max_colwidth=250 #widen how much text is presented of each tweet\n",
    "df.sample(100)"
   ]
  },
  {
   "attachments": {},
   "cell_type": "markdown",
   "id": "fc20327d",
   "metadata": {
    "id": "fc20327d"
   },
   "source": [
    "# **Section 3: Word set prevalence**"
   ]
  },
  {
   "attachments": {},
   "cell_type": "markdown",
   "id": "69245b35",
   "metadata": {
    "id": "69245b35"
   },
   "source": [
    "[Falkenberg et al.](https://www.nature.com/articles/s41558-022-01533-z) investigated the hypothesis that *public sentiment* around the COP conferences has increasingly framed them as hypocritical (\"political hypocrisy as a topic of cross-ideological appeal\"). The authors operationalized hypocrisy language as any tweet containing any of the following words:"
   ]
  },
  {
   "cell_type": "code",
   "execution_count": null,
   "id": "bd4a7f67",
   "metadata": {
    "executionInfo": {
     "elapsed": 6,
     "status": "ok",
     "timestamp": 1682441245326,
     "user": {
      "displayName": "Maximilian Puelma Touzel",
      "userId": "09308600515315501700"
     },
     "user_tz": 240
    },
    "id": "bd4a7f67"
   },
   "outputs": [],
   "source": [
    "selected_words = ['hypocrisy', 'hypocrite', 'hypocritical', 'greenwash','green wash', 'blah'] #the last 3 words don't add much. Greta Thurnberg's 'blah, blah blah' speech on Sept. 28th 2021."
   ]
  },
  {
   "attachments": {},
   "cell_type": "markdown",
   "id": "c299519a",
   "metadata": {
    "id": "DC-Q_Irg9B6O"
   },
   "source": [
    "### **Questions 3.1**\n",
    "How might this matching procedure be limited in its ability to capture this sentiment?"
   ]
  },
  {
   "cell_type": "code",
   "execution_count": null,
   "id": "9eec90f5-589a-416a-9905-dbc0da4d65bb",
   "metadata": {},
   "outputs": [],
   "source": [
    "# to_remove explanation\n",
    "\n",
    "\"\"\"\n",
    "Our approach is based on a predetermined dictionary, which might have several limitations in accurately capturing sentiment. Contextual ignorance (e.g., the word \"not\" can reverse the sentiment of the following word, but this isn't captured in a simple matching procedure) and language and cultural differences cannot be well captured.\n",
    "\"\"\""
   ]
  },
  {
   "attachments": {},
   "cell_type": "markdown",
   "id": "16c8c539",
   "metadata": {
    "id": "16c8c539"
   },
   "source": [
    "The authors then searched for these words within a distinct dataset across all COP conferences (this dataset was not made openly accessible; result: the figure using that data is here: https://www.nature.com/articles/s41558-022-01527-x/figures/7). They found that hypocrisy has been mentioned more in recent COP conferences.\n",
    "\n",
    "\n",
    "Here, we will instead focus on their acessible COP26 dataset and assess the nature of comments about specific topics, like political hypocrisy."
   ]
  },
  {
   "cell_type": "code",
   "execution_count": null,
   "id": "fcf08c45",
   "metadata": {
    "executionInfo": {
     "elapsed": 52374,
     "status": "ok",
     "timestamp": 1682441297695,
     "user": {
      "displayName": "Maximilian Puelma Touzel",
      "userId": "09308600515315501700"
     },
     "user_tz": 240
    },
    "id": "fcf08c45"
   },
   "outputs": [],
   "source": [
    "selectwords_detector = re.compile(r'\\b(?:{0})\\b'.format('|'.join(selected_words))) #to make a word detector for a wordlist faster to run, compile it!\n",
    "df['select_talk']=df.text.apply(lambda x: selectwords_detector.search(x,re.IGNORECASE)) # look through whole dataset, flagging tweets with select_talk (computes in under a minute)"
   ]
  },
  {
   "attachments": {},
   "cell_type": "markdown",
   "id": "39cbd30c",
   "metadata": {
    "id": "39cbd30c"
   },
   "source": [
    "Let's pull these tweets out and look at thier occurence statistics relative to those of the whole dataset computed above"
   ]
  },
  {
   "cell_type": "code",
   "execution_count": null,
   "id": "c3de0fe0",
   "metadata": {
    "executionInfo": {
     "elapsed": 1465,
     "status": "ok",
     "timestamp": 1682441299132,
     "user": {
      "displayName": "Maximilian Puelma Touzel",
      "userId": "09308600515315501700"
     },
     "user_tz": 240
    },
    "id": "c3de0fe0"
   },
   "outputs": [],
   "source": [
    "selected_tweets=df.loc[~df.select_talk.isnull(),:]\n",
    "selected_tweet_counts=selected_tweets.created_at.groupby(selected_tweets.created_at.apply(lambda x: x.date)).count().rename('counts')\n",
    "selected_tweet_fraction=selected_tweet_counts/total_tweetCounts"
   ]
  },
  {
   "cell_type": "code",
   "execution_count": null,
   "id": "dynnBOoavDSX",
   "metadata": {
    "colab": {
     "base_uri": "https://localhost:8080/",
     "height": 362
    },
    "executionInfo": {
     "elapsed": 1097,
     "status": "ok",
     "timestamp": 1682441300224,
     "user": {
      "displayName": "Maximilian Puelma Touzel",
      "userId": "09308600515315501700"
     },
     "user_tz": 240
    },
    "id": "dynnBOoavDSX",
    "outputId": "746a74ad-34a2-49b0-8d12-48df01bc287d"
   },
   "outputs": [],
   "source": [
    "selected_tweet_fraction.reset_index().plot(x='created_at',y='counts',figsize=(20,5),style=['.-']) #this doesn't \n",
    "pl.xticks(rotation=45,ha='right');\n",
    "pl.gca().axvspan(*COPdates, alpha=0.3) #gray region\n",
    "pl.gca().set_ylabel('fraction talking about hypocrisy')"
   ]
  },
  {
   "attachments": {},
   "cell_type": "markdown",
   "id": "abf23da0",
   "metadata": {
    "id": "abf23da0"
   },
   "source": [
    "Note these are normalized so larger fractions closer to the COP26 dates correspond to significantly more absolute number of tweets. \n",
    "\n",
    "Let's look at what these tweets say. Take 100 randomly sampled."
   ]
  },
  {
   "cell_type": "code",
   "execution_count": null,
   "id": "07a6dc14",
   "metadata": {
    "colab": {
     "base_uri": "https://localhost:8080/"
    },
    "executionInfo": {
     "elapsed": 12,
     "status": "ok",
     "timestamp": 1682441300225,
     "user": {
      "displayName": "Maximilian Puelma Touzel",
      "userId": "09308600515315501700"
     },
     "user_tz": 240
    },
    "id": "07a6dc14",
    "outputId": "f4388dd7-779b-43a4-9469-8fb827baecb2"
   },
   "outputs": [],
   "source": [
    "selected_tweets.text.sample(50).values"
   ]
  },
  {
   "attachments": {},
   "cell_type": "markdown",
   "id": "a8aa791c",
   "metadata": {
    "id": "a8aa791c"
   },
   "source": [
    "*Exercise*: Pick another topic, propose a list of topic words, and run the same analysis. (Example topic: \"renewable technology\")"
   ]
  },
  {
   "cell_type": "code",
   "execution_count": null,
   "id": "b2e9a3f1",
   "metadata": {},
   "outputs": [],
   "source": [
    "#copy code here "
   ]
  },
  {
   "attachments": {},
   "cell_type": "markdown",
   "id": "30352a60",
   "metadata": {
    "id": "30352a60"
   },
   "source": [
    "## Section 3: Sentiment analysis"
   ]
  },
  {
   "attachments": {},
   "cell_type": "markdown",
   "id": "e8ade89e",
   "metadata": {
    "id": "e8ade89e"
   },
   "source": [
    "The hypocrisy displayed above seems charged against international organizations central to globalization (e.g. G7). Let's assess that hypothesis by analyzing the sentiment of the subset of these hypocrisy tweets that mention these institutions. "
   ]
  },
  {
   "attachments": {},
   "cell_type": "markdown",
   "id": "73f87f57",
   "metadata": {
    "id": "73f87f57"
   },
   "source": [
    "(part of the computation flow in what follows was taken from Caren Neal's tutorial: https://nealcaren.org/lessons/wordlists/)"
   ]
  },
  {
   "attachments": {},
   "cell_type": "markdown",
   "id": "11be60bb",
   "metadata": {
    "id": "11be60bb"
   },
   "source": [
    "We'll match words in tweets to sentiment scores using a dictionary method. The particular dictionary we will use is compiled in the AFINN package and reflects a scoring between -5 and 5 in which words were rated for valence. Let's initialize it for the language we've chosen."
   ]
  },
  {
   "cell_type": "code",
   "execution_count": null,
   "id": "a7262921",
   "metadata": {
    "executionInfo": {
     "elapsed": 7,
     "status": "ok",
     "timestamp": 1682441300225,
     "user": {
      "displayName": "Maximilian Puelma Touzel",
      "userId": "09308600515315501700"
     },
     "user_tz": 240
    },
    "id": "a7262921"
   },
   "outputs": [],
   "source": [
    "afinn = Afinn(language=language_code)"
   ]
  },
  {
   "attachments": {},
   "cell_type": "markdown",
   "id": "5e4b56d8",
   "metadata": {
    "id": "5e4b56d8"
   },
   "source": [
    "Load the dictionary"
   ]
  },
  {
   "cell_type": "code",
   "execution_count": null,
   "id": "fdadf1b6",
   "metadata": {
    "colab": {
     "base_uri": "https://localhost:8080/",
     "height": 363
    },
    "executionInfo": {
     "elapsed": 194,
     "status": "ok",
     "timestamp": 1682441300413,
     "user": {
      "displayName": "Maximilian Puelma Touzel",
      "userId": "09308600515315501700"
     },
     "user_tz": 240
    },
    "id": "fdadf1b6",
    "outputId": "13eb95d4-0cdb-4f86-f70a-1c821fd850d9"
   },
   "outputs": [],
   "source": [
    "afinn_wl_url = ('https://raw.githubusercontent.com'\n",
    "                '/fnielsen/afinn/master/afinn/data/AFINN-111.txt')\n",
    "afinn_wl_df = pd.read_csv(afinn_wl_url,\n",
    "                          header=None, # no column names\n",
    "                          sep='\\t',  # tab sepeated\n",
    "                          names=['term', 'value']) #new column names\n",
    "seed = 808 # seed for sample so results are stable\n",
    "afinn_wl_df.sample(10, random_state = seed)"
   ]
  },
  {
   "attachments": {},
   "cell_type": "markdown",
   "id": "665cf434",
   "metadata": {
    "id": "665cf434"
   },
   "source": [
    "let's look at the distribution of scores over all words in the dictionary"
   ]
  },
  {
   "cell_type": "code",
   "execution_count": null,
   "id": "bf0134fb",
   "metadata": {
    "colab": {
     "base_uri": "https://localhost:8080/",
     "height": 466
    },
    "executionInfo": {
     "elapsed": 758,
     "status": "ok",
     "timestamp": 1682441301158,
     "user": {
      "displayName": "Maximilian Puelma Touzel",
      "userId": "09308600515315501700"
     },
     "user_tz": 240
    },
    "id": "bf0134fb",
    "outputId": "2160e888-335f-4a35-9228-d87d98425468"
   },
   "outputs": [],
   "source": [
    "afinn_wl_df.value.value_counts().sort_index().plot.bar()\n",
    "pl.gca().set_xlabel('Finn score')\n",
    "pl.gca().set_ylabel('dictionary counts')"
   ]
  },
  {
   "attachments": {},
   "cell_type": "markdown",
   "id": "5ecebdb4",
   "metadata": {
    "id": "5ecebdb4"
   },
   "source": [
    "These scores were assigned to words based on labeled tweets ([validation paper](http://www2.imm.dtu.dk/pubdb/edoc/imm6006.pdf)).  \n",
    "\n",
    "Before focussing on sentiments about institutions within the hypocrisy tweets, let's look at the hypocrisy tweets in comparison to non-hypocrisy tweets. This will take some more intensive computation, so let's only perform it on a 1% subsample of the dataset"
   ]
  },
  {
   "cell_type": "code",
   "execution_count": null,
   "id": "AKou3UjdVrxi",
   "metadata": {
    "executionInfo": {
     "elapsed": 470,
     "status": "ok",
     "timestamp": 1682441301624,
     "user": {
      "displayName": "Maximilian Puelma Touzel",
      "userId": "09308600515315501700"
     },
     "user_tz": 240
    },
    "id": "AKou3UjdVrxi"
   },
   "outputs": [],
   "source": [
    "smalldf=df.sample(frac=0.01)"
   ]
  },
  {
   "cell_type": "code",
   "execution_count": null,
   "id": "0a0c8e54",
   "metadata": {
    "executionInfo": {
     "elapsed": 82839,
     "status": "ok",
     "timestamp": 1682441384459,
     "user": {
      "displayName": "Maximilian Puelma Touzel",
      "userId": "09308600515315501700"
     },
     "user_tz": 240
    },
    "id": "0a0c8e54"
   },
   "outputs": [],
   "source": [
    "smalldf['afinn_score'] = smalldf.text.apply(afinn.score) #intensive computation! We have reduced the data set to frac=0.01 it's size so it takes ~1 min. (the full dataset takes 1hrs 50 min.)"
   ]
  },
  {
   "cell_type": "code",
   "execution_count": null,
   "id": "614c3c61",
   "metadata": {
    "colab": {
     "base_uri": "https://localhost:8080/"
    },
    "executionInfo": {
     "elapsed": 34,
     "status": "ok",
     "timestamp": 1682441384460,
     "user": {
      "displayName": "Maximilian Puelma Touzel",
      "userId": "09308600515315501700"
     },
     "user_tz": 240
    },
    "id": "614c3c61",
    "outputId": "4f0429ff-12ea-4966-f0c6-0f8c482cde99"
   },
   "outputs": [],
   "source": [
    "smalldf['afinn_score'].describe()"
   ]
  },
  {
   "attachments": {},
   "cell_type": "markdown",
   "id": "cdb68c87",
   "metadata": {
    "id": "cdb68c87"
   },
   "source": [
    "The score is a sum over all dictionary words in the tweet so is larger for longer tweets. \n",
    "\n",
    "A rough approach to making scores comparable across tweets of different length is convert to a per-word score by normalizing each tweet's score by its word count (note this is not a per-dictionary word score and so this rough approach introduces a bias dependent on how much of each tweet is formed by dictionary words). Let's call this normalized score *afinn_adjusted*."
   ]
  },
  {
   "cell_type": "code",
   "execution_count": null,
   "id": "276d045e",
   "metadata": {
    "executionInfo": {
     "elapsed": 328,
     "status": "ok",
     "timestamp": 1682441384757,
     "user": {
      "displayName": "Maximilian Puelma Touzel",
      "userId": "09308600515315501700"
     },
     "user_tz": 240
    },
    "id": "276d045e"
   },
   "outputs": [],
   "source": [
    "def word_count(text_string):\n",
    "    '''Calculate the number of words in a string'''\n",
    "    return len(text_string.split())\n",
    "smalldf['word_count']=smalldf.text.apply(word_count)\n",
    "smalldf['afinn_adjusted'] = smalldf['afinn_score'] / smalldf['word_count'] #note this isn't a percentage"
   ]
  },
  {
   "cell_type": "code",
   "execution_count": null,
   "id": "cf46a307",
   "metadata": {
    "colab": {
     "base_uri": "https://localhost:8080/"
    },
    "executionInfo": {
     "elapsed": 5,
     "status": "ok",
     "timestamp": 1682441384757,
     "user": {
      "displayName": "Maximilian Puelma Touzel",
      "userId": "09308600515315501700"
     },
     "user_tz": 240
    },
    "id": "cf46a307",
    "outputId": "31eaeae2-7dbd-4b70-99bc-d925e30c9140"
   },
   "outputs": [],
   "source": [
    "smalldf['afinn_adjusted'].describe()"
   ]
  },
  {
   "attachments": {},
   "cell_type": "markdown",
   "id": "c30f2ef3",
   "metadata": {
    "id": "c30f2ef3"
   },
   "source": [
    "Now let's look at the sentiment of tweets with hypocrisy words versus those without those words. We'll first plot for some other possibly negative words for reference."
   ]
  },
  {
   "cell_type": "code",
   "execution_count": null,
   "id": "4c0f1052",
   "metadata": {
    "executionInfo": {
     "elapsed": 1841,
     "status": "ok",
     "timestamp": 1682441386595,
     "user": {
      "displayName": "Maximilian Puelma Touzel",
      "userId": "09308600515315501700"
     },
     "user_tz": 240
    },
    "id": "4c0f1052"
   },
   "outputs": [],
   "source": [
    "for sel_words in [['Fossil'],['G7'],['Boris'],['Davos'],selected_words]:\n",
    "    sel_name = sel_words[0] if len(sel_words)==1 else 'select_talk'\n",
    "    selectwords_detector = re.compile(r'\\b(?:{0})\\b'.format('|'.join(sel_words))) #compile for speed!\n",
    "    smalldf[sel_name] = smalldf.text.apply(lambda x: selectwords_detector.search(x,re.IGNORECASE) is not None) #flag if tweet has word(s)"
   ]
  },
  {
   "attachments": {},
   "cell_type": "markdown",
   "id": "PfhXOVpUPbKb",
   "metadata": {
    "id": "PfhXOVpUPbKb"
   },
   "source": [
    "make cumulative distribtion plots of score distributions"
   ]
  },
  {
   "cell_type": "code",
   "execution_count": null,
   "id": "403538c4",
   "metadata": {
    "colab": {
     "base_uri": "https://localhost:8080/",
     "height": 1000
    },
    "executionInfo": {
     "elapsed": 2180,
     "status": "ok",
     "timestamp": 1682441388771,
     "user": {
      "displayName": "Maximilian Puelma Touzel",
      "userId": "09308600515315501700"
     },
     "user_tz": 240
    },
    "id": "403538c4",
    "outputId": "03bea54b-3580-4dde-9681-8b72eb0f83df"
   },
   "outputs": [],
   "source": [
    "for sel_words in [['Fossil'],['G7'],['Boris'],['Davos'],selected_words]:\n",
    "    sel_name =sel_words[0] if len(sel_words)==1 else 'select_talk'\n",
    "    fig,ax=pl.subplots()\n",
    "    pl.gca().set_xlim(-1,1)\n",
    "    pl.gca().set_xlabel('adjusted Finn score')\n",
    "    pl.gca().set_ylabel('probabilty')\n",
    "    counts,bins=np.histogram(smalldf.loc[smalldf[sel_name],'afinn_adjusted'],bins=np.linspace(-1,1,101),density=True)\n",
    "    pl.plot(bins[:-1],np.cumsum(counts),color='C0',label=sel_name+' tweets')\n",
    "    counts,bins=np.histogram(smalldf.loc[~smalldf[sel_name],'afinn_adjusted'],bins=np.linspace(-1,1,101),density=True)\n",
    "    pl.plot(bins[:-1],np.cumsum(counts),color='C1',label='non-'+sel_name+' tweets')\n",
    "    pl.gca().axvline(0,color=[0.7]*3,zorder=1)\n",
    "    pl.legend()\n",
    "    pl.title('cumulative Finn score distribution for '+sel_name+ ' occurence')"
   ]
  },
  {
   "attachments": {},
   "cell_type": "markdown",
   "id": "d138d86d",
   "metadata": {
    "id": "d138d86d"
   },
   "source": [
    "Observe that tweets containing the selected *hypocrisy*-associated words set are scored much more negative than all of these. So what is the content of these selected tweets?"
   ]
  },
  {
   "attachments": {},
   "cell_type": "markdown",
   "id": "fa7c32ee",
   "metadata": {
    "id": "fa7c32ee"
   },
   "source": [
    "## Section 4: word clouds\n",
    "\n",
    "To analyze word usage, let's first vectorize the text data. Vectorization here means giving each word in the vocabulary an index and transforming each word sequence in each to its vector representation whose sequence of elements are the sequence of the corresponding word indices (e.g. the response `['I','love','icecream']` maps to something like `[34823,5937,79345]`). \n",
    "\n",
    "We'll use and compare two methods: term-frequency (tf) and term-frequency inverse document frequency (tfidf). In the next cell you can see their definition."
   ]
  },
  {
   "attachments": {},
   "cell_type": "markdown",
   "id": "d075fd62",
   "metadata": {},
   "source": [
    "Let's write down what they compute by denoting the index, $d$, over the $D$ documents and the index, $w$, over the $W$ words in the vocabulary (the list of all the words found in all the tweets, which we'll call documents): \n",
    "- term frequency, $\\mathrm{tf}(w,d)$. The frequency of a word $w$ in a document $d$ is $$\\mathrm{tf}(w,d):=\\frac{n(w,d)}{n(d)},$$ where $n(w,d)$ is the number of times term $w$ is in document $d$ and $n(d)=\\sum_{w=1}^W n(w,d)$ is the total number of words in document $d$. The term frequency over all the documents is then, $$\\mathrm{tf}(w):=\\frac{\\sum_{d=1}^D n(d)\\mathrm{tf}(w,d)}{N},$$ where the denominator $N=\\sum_{d=1}^D n(d)$ is just the total word count across all documents.\n",
    "- term frequency-inverse document frequency, $\\mathrm{Tfidf}(w,d):=\\mathrm{tf}(w,d)\\mathrm{idf}(w)$. Here, $$\\mathrm{idf}(w)=\\frac{\\log(D+1)}{\\log(n(w)+1)+1},$$ where $n(w)$ is the number of documents in which term $t$ appears, i.e. $n(w,d)>0$. Idf is like an inverse document frequency. The `sklearn` package then uses $$\\mathrm{Tfidf}(w)=\\frac{1}{D}\\sum_{d=1}^D \\frac{\\mathrm{Tfidf}(w,d)}{||\\mathrm{Tfidf}(\\cdot,d)||},$$ where $||\\vec{x}||=\\sqrt{\\sum_{i=1}^Nx^2_i}$ is the Euclidean norm.\n",
    "\n",
    "$\\mathrm{Tfidf}$ aims to add more discriminability to frequency as a word relevance metric by downweighting words that appear in many documents since these common words are less discriminative."
   ]
  },
  {
   "attachments": {},
   "cell_type": "markdown",
   "id": "6c053030",
   "metadata": {
    "id": "6c053030"
   },
   "source": [
    "Let's run both these methods and store the vectorized data in a dictionary"
   ]
  },
  {
   "cell_type": "code",
   "execution_count": null,
   "id": "6dcffa1c",
   "metadata": {
    "executionInfo": {
     "elapsed": 241,
     "status": "ok",
     "timestamp": 1682444744215,
     "user": {
      "displayName": "Maximilian Puelma Touzel",
      "userId": "09308600515315501700"
     },
     "user_tz": 240
    },
    "id": "6dcffa1c"
   },
   "outputs": [],
   "source": [
    "vectypes=['counts','Tfidf']\n",
    "def vectorize(doc_data,ngram_range=(1,1),remove_words=[],min_doc_freq=1):\n",
    "\n",
    "    vectorized_data_dict={}\n",
    "    for vectorizer_type in vectypes:\n",
    "        if vectorizer_type=='counts':\n",
    "            vectorizer = CountVectorizer(stop_words=remove_words,min_df=min_doc_freq,ngram_range=ngram_range) \n",
    "        elif vectorizer_type=='Tfidf':\n",
    "            vectorizer = TfidfVectorizer(stop_words=remove_words,min_df=min_doc_freq,ngram_range=ngram_range) \n",
    "\n",
    "        vectorized_doc_list = vectorizer.fit_transform(data).todense().tolist()\n",
    "        feature_names = vectorizer.get_feature_names_out() # or  get_feature_names() depending on scikit learn version\n",
    "        print('vocabulary size:'+str(len(feature_names)))\n",
    "        wdf = pd.DataFrame(vectorized_doc_list, columns=feature_names)\n",
    "        vectorized_data_dict[vectorizer_type]=wdf\n",
    "    return vectorized_data_dict,feature_names\n",
    "\n",
    "def plot_wordcloud_and_freqdist(wdf,title_str,feature_names):\n",
    "    '''\n",
    "    Plots a word cloud\n",
    "    '''\n",
    "    pixel_size=600\n",
    "    x,y =np.ogrid[:pixel_size,:pixel_size]\n",
    "    mask = (x -pixel_size/2)**2+(y-pixel_size/2)**2>(pixel_size/2-20)**2\n",
    "    mask=255*mask.astype(int)\n",
    "    wc=WordCloud(background_color=\"rgba(255, 255, 255, 0)\", mode=\"RGBA\", mask=mask, max_words=50)#,relative_scaling=1)\n",
    "    wordfreqs=wdf.T.sum(axis=1)\n",
    "    num_show=50\n",
    "    sorted_ids=np.argsort(wordfreqs)[::-1]\n",
    "\n",
    "    fig,ax=pl.subplots(figsize=(10,5))\n",
    "    ax.bar(x=range(num_show),height=wordfreqs[sorted_ids][:num_show])\n",
    "    ax.set_xticks(range(num_show))\n",
    "    ax.set_xticklabels(feature_names[sorted_ids][:num_show],rotation=45,fontsize=8,ha='right');\n",
    "    ax.set_ylabel('total frequency')\n",
    "    ax.set_title(title_str+' vectorizer')\n",
    "    ax.set_ylim(0,10*wordfreqs[sorted_ids][int(num_show/2)])\n",
    "    \n",
    "    ax_wc = inset_axes(ax,width='90%',height='90%')\n",
    "    wc.generate_from_frequencies(wordfreqs)\n",
    "    ax_wc.imshow(wc,interpolation='bilinear')\n",
    "    ax_wc.axis('off')\n",
    "    \n",
    "nltk.download('stopwords') #downloads basic stop words, i.e. words with little semantic value  (e.g. \"the\"), to be used as words to be removed\n",
    "remove_words = stopwords.words(\"english\") "
   ]
  },
  {
   "attachments": {},
   "cell_type": "markdown",
   "id": "9b007814",
   "metadata": {
    "id": "9b007814"
   },
   "source": [
    "Okay so let's vectorize and look at the wordclouds for single word statistics. Let's explicitly exclude some words and implicity exclude ones that appear in fewer than some threshold number of documents"
   ]
  },
  {
   "cell_type": "code",
   "execution_count": null,
   "id": "DAgLmKhVf6YH",
   "metadata": {
    "colab": {
     "base_uri": "https://localhost:8080/"
    },
    "executionInfo": {
     "elapsed": 7,
     "status": "ok",
     "timestamp": 1682444734903,
     "user": {
      "displayName": "Maximilian Puelma Touzel",
      "userId": "09308600515315501700"
     },
     "user_tz": 240
    },
    "id": "DAgLmKhVf6YH",
    "outputId": "6226d1a8-b295-48bd-c218-7ea757826102"
   },
   "outputs": [],
   "source": [
    "data=selected_tweets['text'].sample(frac=0.1).values #reduce size since the vectorization computation transforms the corpus into an array of large size (vocabulary size x number of tweets)\n",
    "#let's add some more words that we don't want to track (you can generate this kind of list iteratively by looking at the results and adding to this list):\n",
    "remove_words += ['cop26','http','https','30','000','je','rt','climate','limacop20','un_climatetalks','climatechange','via','ht','talks','unfccc','peru','peruvian','lima','co']\n",
    "print(str(len(data))+\" tweets\")\n",
    "min_doc_freq=5/len(data)"
   ]
  },
  {
   "cell_type": "code",
   "execution_count": null,
   "id": "f1884136",
   "metadata": {
    "colab": {
     "base_uri": "https://localhost:8080/",
     "height": 1000
    },
    "executionInfo": {
     "elapsed": 12260,
     "status": "ok",
     "timestamp": 1682444758286,
     "user": {
      "displayName": "Maximilian Puelma Touzel",
      "userId": "09308600515315501700"
     },
     "user_tz": 240
    },
    "id": "f1884136",
    "outputId": "f880e707-1d31-406a-eaf2-fd0b95e72560"
   },
   "outputs": [],
   "source": [
    "ngram_range=(1,1) #start and end number of words\n",
    "vectorized_data_dict,feature_names=vectorize(selected_tweets,ngram_range=ngram_range,remove_words=remove_words,min_doc_freq=min_doc_freq)\n",
    "for vectorizer_type in vectypes:\n",
    "    plot_wordcloud_and_freqdist(vectorized_data_dict[vectorizer_type],vectorizer_type,feature_names)"
   ]
  },
  {
   "attachments": {},
   "cell_type": "markdown",
   "id": "cd3d679a",
   "metadata": {
    "id": "cd3d679a"
   },
   "source": [
    "Note in the histograms how the TFidf vectorizer has scaled down the hypocrisy words such that they are less outlyingly prevalent relative to the count vectorizer. \n",
    "\n",
    "There are some words here  (e.g. `private` and `jet`) that look like they likely would appear in pairs. Let's tell the vectorizer to also look for high frequency *pairs* of words."
   ]
  },
  {
   "cell_type": "code",
   "execution_count": null,
   "id": "fde8ddf7",
   "metadata": {
    "colab": {
     "base_uri": "https://localhost:8080/",
     "height": 1000
    },
    "executionInfo": {
     "elapsed": 30399,
     "status": "ok",
     "timestamp": 1682444823790,
     "user": {
      "displayName": "Maximilian Puelma Touzel",
      "userId": "09308600515315501700"
     },
     "user_tz": 240
    },
    "id": "fde8ddf7",
    "outputId": "1712d8c9-9190-4039-8cfd-2fece6360466"
   },
   "outputs": [],
   "source": [
    "ngram_range= (1,2)#start and end number of words\n",
    "vectorized_data_dict,feature_names=vectorize(selected_tweets,ngram_range=ngram_range,remove_words=remove_words,min_doc_freq=min_doc_freq)\n",
    "for vectorizer_type in vectypes:\n",
    "    plot_wordcloud_and_freqdist(vectorized_data_dict[vectorizer_type],vectorizer_type,feature_names)"
   ]
  },
  {
   "attachments": {},
   "cell_type": "markdown",
   "id": "cb4fe0fb",
   "metadata": {
    "id": "cb4fe0fb"
   },
   "source": [
    "The hypocrisy words take up so much frequency it is hard to see what the remaining words are. To clear this list a bit more, let's also remove the hypocrisy words altogether."
   ]
  },
  {
   "cell_type": "code",
   "execution_count": null,
   "id": "MX9q2k-WiM1D",
   "metadata": {
    "executionInfo": {
     "elapsed": 153,
     "status": "ok",
     "timestamp": 1682444966342,
     "user": {
      "displayName": "Maximilian Puelma Touzel",
      "userId": "09308600515315501700"
     },
     "user_tz": 240
    },
    "id": "MX9q2k-WiM1D"
   },
   "outputs": [],
   "source": [
    "remove_words += selected_words"
   ]
  },
  {
   "cell_type": "code",
   "execution_count": null,
   "id": "ZyAs5RMXiADq",
   "metadata": {
    "colab": {
     "base_uri": "https://localhost:8080/",
     "height": 1000
    },
    "executionInfo": {
     "elapsed": 25360,
     "status": "ok",
     "timestamp": 1682444992874,
     "user": {
      "displayName": "Maximilian Puelma Touzel",
      "userId": "09308600515315501700"
     },
     "user_tz": 240
    },
    "id": "ZyAs5RMXiADq",
    "outputId": "4e4a4baf-a759-4d14-80f9-9cf32ae7637f"
   },
   "outputs": [],
   "source": [
    "ngram_range= (1,2)#start and end number of words\n",
    "vectorized_data_dict,feature_names=vectorize(selected_tweets,ngram_range=ngram_range,remove_words=remove_words,min_doc_freq=min_doc_freq)\n",
    "for vectorizer_type in vectypes:\n",
    "    plot_wordcloud_and_freqdist(vectorized_data_dict[vectorizer_type],vectorizer_type,feature_names)"
   ]
  },
  {
   "attachments": {},
   "cell_type": "markdown",
   "id": "fsgxp-SWh_iO",
   "metadata": {
    "id": "fsgxp-SWh_iO"
   },
   "source": [
    "Observe terms that we might have expected are associated to hypocrisy, e.g. \"flying\". Even when allowing for pairs, the semantics are hard to extract from this analysis that ignores the correlations in usage among multiple words. \n",
    "\n",
    "To futher assess statistics, one approach is use a generative model with latent structure.\n",
    "\n",
    "Topic models (the [structural topic model](https://www.structuraltopicmodel.com/) in particular) are a nice modelling framework to start analyzing those correlations.\n",
    "\n",
    "For a modern introduction to text analysis in the social sciences, I recommend the textbook:\n",
    "\n",
    "    Text as Data: A New Framework for Machine Learning and the Social Sciences (2022) by Justin Grimmer, Margaret E. Roberts, and Brandon M. Stewart"
   ]
  },
  {
   "cell_type": "markdown",
   "id": "0301dbf0-b0f5-4d7e-98b9-761480aad846",
   "metadata": {
    "executionInfo": {
     "elapsed": 8,
     "status": "ok",
     "timestamp": 1682441415561,
     "user": {
      "displayName": "Maximilian Puelma Touzel",
      "userId": "09308600515315501700"
     },
     "user_tz": 240
    },
    "id": "55f40994"
   },
   "source": [
    "# **Summary**\n",
    "In this tutorial, you've learned how to analyze large amounts of text data from social media to understand public sentiment about climate change. You've been introduced to the process of loading and examining Twitter data, specifically relating to the COP climate change conferences. You've also gained insights into identifying and analyzing sentiments associated with specific words, with a focus on those indicating 'hypocrisy'.\n",
    "\n",
    "We used techniques to normalize sentiment scores and to compare sentiment among different categories of tweets. You have also learned about text vectorization methods, term-frequency (tf) and term-frequency inverse document frequency (tfidf), and their applications in word usage analysis. This tutorial provided you a valuable stepping stone to further delve into text analysis, which could help deeper our understanding of public sentiment on climate change. Such analysis helps us track how global perceptions and narratives about climate change evolve over time, which is crucial for policy planning and climate communication strategies.\n",
    "\n",
    "This tutorial therefore not only provided you with valuable tools for text analysis but also demonstrated their potential in contributing to our understanding of climate change perceptions, a key factor in driving climate action."
   ]
  }
 ],
 "metadata": {
  "colab": {
   "provenance": []
  },
  "kernelspec": {
   "display_name": "Python 3 (ipykernel)",
   "language": "python",
   "name": "python3"
  },
  "language_info": {
   "codemirror_mode": {
    "name": "ipython",
    "version": 3
   },
   "file_extension": ".py",
   "mimetype": "text/x-python",
   "name": "python",
   "nbconvert_exporter": "python",
   "pygments_lexer": "ipython3",
   "version": "3.10.11"
  }
 },
 "nbformat": 4,
 "nbformat_minor": 5
}
