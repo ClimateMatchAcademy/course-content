{
 "cells": [
  {
   "cell_type": "markdown",
   "metadata": {
    "id": "avjFjFXwWqyW"
   },
   "source": [
    "# **Tutorial 1: Creating Maps of CMIP6 Earth System Model (ESM) Projections**\n",
    "\n",
    "**Week 2, Day 1, Future Climate: The Physical Basis**\n",
    "\n",
    "**Content creators:** Brodie Pearson, Julius Busecke, Tom Nicholas\n",
    "\n",
    "**Content reviewers:** Younkap Nina Duplex, Zahra Khodakaramimaghsoud, Sloane Garelick, Peter Ohue, Jenna Pearson, Agustina Pesce, Derick Temfack, Peizhen Yang, Cheng Zhang, Chi Zhang, Ohad Zivan\n",
    "\n",
    "**Content editors:** Jenna Pearson, Ohad Zivan, Chi Zhang\n",
    "\n",
    "**Production editors:** Wesley Banfield, Jenna Pearson, Chi Zhang, Ohad Zivan\n",
    "\n",
    "**Our 2023 Sponsors:** NASA TOPS"
   ]
  },
  {
   "cell_type": "markdown",
   "metadata": {},
   "source": [
    "# **Tutorial Objectives**\n",
    "Earth System Models (ESMs) provide physically-based projections of how Earth's climate could change in the coming years, decades, and centuries at both global and local scales. In the following tutorial you will:\n",
    "\n",
    "- Revisit how to load ESM data from the CMIP6 experiments, and \n",
    "- Create maps showing projected future changes in sea surface temperature (SST)."
   ]
  },
  {
   "cell_type": "markdown",
   "metadata": {
    "id": "-uS_n9-3YJrZ"
   },
   "source": [
    "# **Setup**\n"
   ]
  },
  {
   "cell_type": "code",
   "execution_count": 1,
   "metadata": {
    "tags": [
     "colab"
    ]
   },
   "outputs": [],
   "source": [
    "# !pip install condacolab &> /dev/null\n",
    "# import condacolab\n",
    "# condacolab.install()\n",
    "\n",
    "# # Install all packages in one call (+ use mamba instead of conda), this must in one line or code will fail\n",
    "# !mamba install xarray-datatree intake-esm gcsfs xmip aiohttp cartopy nc-time-axis cf_xarray xarrayutils \"esmf<=8.3.1\" xesmf &> /dev/null\n",
    "# # For xesmf install we need to pin \"esmf<=8.3.1\". More context here: https://github.com/pangeo-data/xESMF/issues/246"
   ]
  },
  {
   "cell_type": "code",
   "execution_count": 2,
   "metadata": {
    "colab": {
     "background_save": true
    },
    "executionInfo": {
     "elapsed": 2,
     "status": "ok",
     "timestamp": 1683928271799,
     "user": {
      "displayName": "Brodie Pearson",
      "userId": "05269028596972519847"
     },
     "user_tz": 420
    },
    "id": "m-vTWXVmM2NK",
    "outputId": "fe6fdbe3-0512-42ea-bdea-44bf72149a4c",
    "tags": []
   },
   "outputs": [
    {
     "ename": "ModuleNotFoundError",
     "evalue": "No module named 'xesmf'",
     "output_type": "error",
     "traceback": [
      "\u001b[0;31m---------------------------------------------------------------------------\u001b[0m",
      "\u001b[0;31mModuleNotFoundError\u001b[0m                       Traceback (most recent call last)",
      "Cell \u001b[0;32mIn[2], line 9\u001b[0m\n\u001b[1;32m      7\u001b[0m \u001b[38;5;28;01mimport\u001b[39;00m \u001b[38;5;21;01mmatplotlib\u001b[39;00m\u001b[38;5;21;01m.\u001b[39;00m\u001b[38;5;21;01mpyplot\u001b[39;00m \u001b[38;5;28;01mas\u001b[39;00m \u001b[38;5;21;01mplt\u001b[39;00m\n\u001b[1;32m      8\u001b[0m \u001b[38;5;28;01mimport\u001b[39;00m \u001b[38;5;21;01mxarray\u001b[39;00m \u001b[38;5;28;01mas\u001b[39;00m \u001b[38;5;21;01mxr\u001b[39;00m\n\u001b[0;32m----> 9\u001b[0m \u001b[38;5;28;01mimport\u001b[39;00m \u001b[38;5;21;01mxesmf\u001b[39;00m \u001b[38;5;28;01mas\u001b[39;00m \u001b[38;5;21;01mxe\u001b[39;00m\n\u001b[1;32m     11\u001b[0m \u001b[38;5;28;01mfrom\u001b[39;00m \u001b[38;5;21;01mxmip\u001b[39;00m\u001b[38;5;21;01m.\u001b[39;00m\u001b[38;5;21;01mpreprocessing\u001b[39;00m \u001b[38;5;28;01mimport\u001b[39;00m combined_preprocessing\n\u001b[1;32m     12\u001b[0m \u001b[38;5;28;01mfrom\u001b[39;00m \u001b[38;5;21;01mxarrayutils\u001b[39;00m\u001b[38;5;21;01m.\u001b[39;00m\u001b[38;5;21;01mplotting\u001b[39;00m \u001b[38;5;28;01mimport\u001b[39;00m shaded_line_plot\n",
      "\u001b[0;31mModuleNotFoundError\u001b[0m: No module named 'xesmf'"
     ]
    }
   ],
   "source": [
    "# imports \n",
    "import time\n",
    "tic = time.time()\n",
    "\n",
    "import intake\n",
    "import numpy as np\n",
    "import matplotlib.pyplot as plt\n",
    "import xarray as xr\n",
    "import xesmf as xe\n",
    "\n",
    "from xmip.preprocessing import combined_preprocessing\n",
    "from xarrayutils.plotting import shaded_line_plot\n",
    "\n",
    "from datatree import DataTree\n",
    "from xmip.postprocessing import _parse_metric\n",
    "\n",
    "import cartopy.crs as ccrs"
   ]
  },
  {
   "cell_type": "code",
   "execution_count": 3,
   "metadata": {},
   "outputs": [
    {
     "name": "stdout",
     "output_type": "stream",
     "text": [
      "# packages in environment at /Users/jennapearson/anaconda3:\r\n",
      "#\r\n",
      "# Name                    Version                   Build  Channel\r\n",
      "aiohttp                   3.8.4                    pypi_0    pypi\r\n",
      "aiosignal                 1.3.1                    pypi_0    pypi\r\n",
      "alabaster                 0.7.12             pyhd3eb1b0_0  \r\n",
      "anaconda-client           1.11.1          py310hecd8cb5_0  \r\n",
      "anaconda-navigator        2.4.0           py310hecd8cb5_0  \r\n",
      "anaconda-project          0.11.1          py310hecd8cb5_0  \r\n",
      "anyio                     3.5.0           py310hecd8cb5_0  \r\n",
      "appdirs                   1.4.4              pyhd3eb1b0_0  \r\n",
      "applaunchservices         0.3.0           py310hecd8cb5_0  \r\n",
      "appnope                   0.1.2           py310hecd8cb5_1001  \r\n",
      "appscript                 1.1.2           py310hca72f7f_0  \r\n",
      "argon2-cffi               21.3.0             pyhd3eb1b0_0  \r\n",
      "argon2-cffi-bindings      21.2.0          py310hca72f7f_0  \r\n",
      "arrow                     1.2.3           py310hecd8cb5_1  \r\n",
      "asciitree                 0.3.3                    pypi_0    pypi\r\n",
      "astroid                   2.14.2          py310hecd8cb5_0  \r\n",
      "astropy                   5.1             py310h4e76f89_0  \r\n",
      "asttokens                 2.0.5              pyhd3eb1b0_0  \r\n",
      "async-timeout             4.0.2                    pypi_0    pypi\r\n",
      "atomicwrites              1.4.0                      py_0  \r\n",
      "attrs                     22.1.0          py310hecd8cb5_0  \r\n",
      "automat                   20.2.0                     py_0  \r\n",
      "autopep8                  1.6.0              pyhd3eb1b0_1  \r\n",
      "babel                     2.11.0          py310hecd8cb5_0  \r\n",
      "backcall                  0.2.0              pyhd3eb1b0_0  \r\n",
      "backports                 1.1                pyhd3eb1b0_0  \r\n",
      "backports.functools_lru_cache 1.6.4              pyhd3eb1b0_0  \r\n",
      "backports.tempfile        1.0                pyhd3eb1b0_1  \r\n",
      "backports.weakref         1.0.post1                  py_1  \r\n",
      "bcrypt                    3.2.0           py310hca72f7f_1  \r\n",
      "beautifulsoup4            4.11.1          py310hecd8cb5_0  \r\n",
      "binaryornot               0.4.4              pyhd3eb1b0_1  \r\n",
      "black                     22.6.0          py310hecd8cb5_0  \r\n",
      "blas                      1.0                    openblas  \r\n",
      "bleach                    4.1.0              pyhd3eb1b0_0  \r\n",
      "blosc                     1.21.3               hcec6c5f_0  \r\n",
      "bokeh                     2.4.3           py310hecd8cb5_0  \r\n",
      "bottleneck                1.3.5           py310h4e76f89_0  \r\n",
      "brotli                    1.0.9                hca72f7f_7  \r\n",
      "brotli-bin                1.0.9                hca72f7f_7  \r\n",
      "brotlipy                  0.7.0           py310hca72f7f_1002  \r\n",
      "brunsli                   0.1                  h23ab428_0  \r\n",
      "bzip2                     1.0.8                h1de35cc_0  \r\n",
      "c-ares                    1.18.1               hca72f7f_0  \r\n",
      "ca-certificates           2023.01.10           hecd8cb5_0  \r\n",
      "cachetools                5.3.0                    pypi_0    pypi\r\n",
      "cartopy                   0.21.1                   pypi_0    pypi\r\n",
      "cctools                   949.0.1             h9abeeb2_25  \r\n",
      "cctools_osx-64            949.0.1             hc7db93f_25  \r\n",
      "certifi                   2022.12.7       py310hecd8cb5_0  \r\n",
      "cf-xarray                 0.8.0                    pypi_0    pypi\r\n",
      "cffi                      1.15.1          py310h6c40b1e_3  \r\n",
      "cfitsio                   3.470                hbd21bf8_7  \r\n",
      "cftime                    1.6.2                    pypi_0    pypi\r\n",
      "chardet                   4.0.0           py310hecd8cb5_1003  \r\n",
      "charls                    2.2.0                h23ab428_0  \r\n",
      "charset-normalizer        2.0.4              pyhd3eb1b0_0  \r\n",
      "click                     8.0.4           py310hecd8cb5_0  \r\n",
      "cloudpickle               2.0.0              pyhd3eb1b0_0  \r\n",
      "clyent                    1.2.2           py310hecd8cb5_1  \r\n",
      "colorama                  0.4.6           py310hecd8cb5_0  \r\n",
      "colorcet                  3.0.1           py310hecd8cb5_0  \r\n",
      "comm                      0.1.2           py310hecd8cb5_0  \r\n",
      "conda                     23.1.0          py310hecd8cb5_0  \r\n",
      "conda-build               3.23.3          py310hecd8cb5_0  \r\n",
      "conda-content-trust       0.1.3           py310hecd8cb5_0  \r\n",
      "conda-pack                0.6.0              pyhd3eb1b0_0  \r\n",
      "conda-package-handling    2.0.2           py310hecd8cb5_0  \r\n",
      "conda-package-streaming   0.7.0           py310hecd8cb5_0  \r\n",
      "conda-repo-cli            1.0.27          py310hecd8cb5_0  \r\n",
      "conda-token               0.4.0              pyhd3eb1b0_0  \r\n",
      "conda-verify              3.4.2                      py_1  \r\n",
      "constantly                15.1.0          py310hecd8cb5_0  \r\n",
      "contourpy                 1.0.5           py310haf03e11_0  \r\n",
      "cookiecutter              1.7.3              pyhd3eb1b0_0  \r\n",
      "cryptography              39.0.1          py310hf6deb26_0  \r\n",
      "cssselect                 1.1.0              pyhd3eb1b0_0  \r\n",
      "curl                      7.87.0               h6c40b1e_0  \r\n",
      "cycler                    0.11.0             pyhd3eb1b0_0  \r\n",
      "cytoolz                   0.12.0          py310hca72f7f_0  \r",
      "\r\n",
      "dask                      2022.7.0        py310hecd8cb5_0  \r\n",
      "dask-core                 2022.7.0        py310hecd8cb5_0  \r\n",
      "datashader                0.14.4          py310hecd8cb5_0  \r\n",
      "datashape                 0.5.4           py310hecd8cb5_1  \r\n",
      "debugpy                   1.5.1           py310he9d5cce_0  \r\n",
      "decorator                 5.1.1              pyhd3eb1b0_0  \r\n",
      "defusedxml                0.7.1              pyhd3eb1b0_0  \r\n",
      "diff-match-patch          20200713           pyhd3eb1b0_0  \r\n",
      "dill                      0.3.6           py310hecd8cb5_0  \r\n",
      "distributed               2022.7.0        py310hecd8cb5_0  \r\n",
      "docstring-to-markdown     0.11            py310hecd8cb5_0  \r\n",
      "docutils                  0.18.1          py310hecd8cb5_3  \r\n",
      "entrypoints               0.4             py310hecd8cb5_0  \r\n",
      "et_xmlfile                1.1.0           py310hecd8cb5_0  \r\n",
      "executing                 0.8.3              pyhd3eb1b0_0  \r\n",
      "fasteners                 0.18                     pypi_0    pypi\r\n",
      "fastprogress              1.0.3                    pypi_0    pypi\r\n",
      "filelock                  3.9.0           py310hecd8cb5_0  \r\n",
      "flake8                    6.0.0           py310hecd8cb5_0  \r\n",
      "flask                     2.2.2           py310hecd8cb5_0  \r\n",
      "flit-core                 3.6.0              pyhd3eb1b0_0  \r\n",
      "fonttools                 4.25.0             pyhd3eb1b0_0  \r\n",
      "freetype                  2.12.1               hd8bbffd_0  \r\n",
      "frozenlist                1.3.3                    pypi_0    pypi\r\n",
      "fsspec                    2023.3.0                 pypi_0    pypi\r\n",
      "future                    0.18.3          py310hecd8cb5_0  \r\n",
      "gcsfs                     2023.3.0                 pypi_0    pypi\r\n",
      "gensim                    4.3.0           py310h3ea8b11_0  \r\n",
      "gettext                   0.21.0               h7535e17_0  \r\n",
      "giflib                    5.2.1                h6c40b1e_3  \r\n",
      "glib                      2.69.1               hfff2838_2  \r\n",
      "glob2                     0.7                pyhd3eb1b0_0  \r\n",
      "gmp                       6.2.1                he9d5cce_3  \r\n",
      "gmpy2                     2.1.2           py310hd5de756_0  \r\n",
      "google-api-core           2.11.0                   pypi_0    pypi\r\n",
      "google-auth               2.16.3                   pypi_0    pypi\r\n",
      "google-auth-oauthlib      1.0.0                    pypi_0    pypi\r\n",
      "google-cloud-core         2.3.2                    pypi_0    pypi\r\n",
      "google-cloud-storage      2.7.0                    pypi_0    pypi\r\n",
      "google-crc32c             1.5.0                    pypi_0    pypi\r\n",
      "google-resumable-media    2.4.1                    pypi_0    pypi\r\n",
      "googleapis-common-protos  1.59.0                   pypi_0    pypi\r\n",
      "greenlet                  2.0.1           py310hcec6c5f_0  \r\n",
      "gst-plugins-base          1.14.1               hcec6c5f_1  \r\n",
      "gstreamer                 1.14.1               h6c40b1e_1  \r\n",
      "h5py                      3.7.0           py310h6c517f8_0  \r\n",
      "hdf5                      1.10.6               h10fe05b_1  \r\n",
      "heapdict                  1.0.1              pyhd3eb1b0_0  \r\n",
      "holoviews                 1.15.4          py310hecd8cb5_0  \r\n",
      "huggingface_hub           0.10.1          py310hecd8cb5_0  \r\n",
      "hvplot                    0.8.2           py310hecd8cb5_0  \r\n",
      "hyperlink                 21.0.0             pyhd3eb1b0_0  \r\n",
      "icu                       58.2                 h0a44026_3  \r\n",
      "idna                      3.4             py310hecd8cb5_0  \r\n",
      "imagecodecs               2021.8.26       py310hf5cf8d7_2  \r\n",
      "imageio                   2.26.0          py310hecd8cb5_0  \r\n",
      "imagesize                 1.4.1           py310hecd8cb5_0  \r\n",
      "imbalanced-learn          0.10.1          py310hecd8cb5_0  \r\n",
      "importlib-metadata        4.11.3          py310hecd8cb5_0  \r\n",
      "importlib_metadata        4.11.3               hd3eb1b0_0  \r\n",
      "incremental               21.3.0             pyhd3eb1b0_0  \r\n",
      "inflection                0.5.1           py310hecd8cb5_0  \r\n",
      "iniconfig                 1.1.1              pyhd3eb1b0_0  \r\n",
      "intake                    0.6.7           py310hecd8cb5_0  \r\n",
      "intake-esm                2022.9.18                pypi_0    pypi\r\n",
      "intervaltree              3.1.0              pyhd3eb1b0_0  \r\n",
      "ipykernel                 6.19.2          py310h20db666_0  \r\n",
      "ipython                   8.10.0          py310hecd8cb5_0  \r\n",
      "ipython_genutils          0.2.0              pyhd3eb1b0_1  \r\n",
      "ipywidgets                7.6.5              pyhd3eb1b0_1  \r\n",
      "isort                     5.9.3              pyhd3eb1b0_0  \r\n",
      "itemadapter               0.3.0              pyhd3eb1b0_0  \r\n",
      "itemloaders               1.0.4              pyhd3eb1b0_1  \r\n",
      "itsdangerous              2.0.1              pyhd3eb1b0_0  \r\n",
      "jedi                      0.18.1          py310hecd8cb5_1  \r\n",
      "jellyfish                 0.9.0           py310hca72f7f_0  \r\n",
      "jinja2                    3.1.2           py310hecd8cb5_0  \r\n",
      "jinja2-time               0.2.0              pyhd3eb1b0_3  \r\n",
      "jmespath                  0.10.0             pyhd3eb1b0_0  \r\n",
      "joblib                    1.1.1           py310hecd8cb5_0  \r\n",
      "jpeg                      9e                   h6c40b1e_1  \r\n",
      "jq                        1.6               h9ed2024_1000  \r\n",
      "json5                     0.9.6              pyhd3eb1b0_0  \r\n",
      "jsonschema                4.17.3          py310hecd8cb5_0  \r\n",
      "jupyter                   1.0.0           py310hecd8cb5_8  \r\n",
      "jupyter_client            7.3.4           py310hecd8cb5_0  \r\n",
      "jupyter_console           6.6.2           py310hecd8cb5_0  \r\n",
      "jupyter_core              5.2.0           py310hecd8cb5_0  \r\n",
      "jupyter_server            1.23.4          py310hecd8cb5_0  \r\n",
      "jupyterlab                3.5.3           py310hecd8cb5_0  \r\n",
      "jupyterlab_pygments       0.1.2                      py_0  \r\n",
      "jupyterlab_server         2.19.0          py310hecd8cb5_0  \r\n",
      "jupyterlab_widgets        1.0.0              pyhd3eb1b0_1  \r\n",
      "jxrlib                    1.1                  haf1e3a3_2  \r\n",
      "keyring                   23.4.0          py310hecd8cb5_0  \r\n",
      "kiwisolver                1.4.4           py310hcec6c5f_0  \r\n",
      "krb5                      1.19.4               hdba6334_0  \r\n",
      "lazy-object-proxy         1.6.0           py310hca72f7f_0  \r\n",
      "lcms2                     2.12                 hf1fd2bf_0  \r\n",
      "ld64                      530                 h20443b4_25  \r\n",
      "ld64_osx-64               530                 h70f3046_25  \r\n",
      "ldid                      2.1.2                h2d21305_2  \r\n",
      "lerc                      3.0                  he9d5cce_0  \r\n",
      "libaec                    1.0.4                hb1e8313_1  \r\n",
      "libarchive                3.6.2                h65c5294_0  \r\n",
      "libbrotlicommon           1.0.9                hca72f7f_7  \r\n",
      "libbrotlidec              1.0.9                hca72f7f_7  \r\n",
      "libbrotlienc              1.0.9                hca72f7f_7  \r\n",
      "libclang                  12.0.0          default_hbc2896b_2  \r\n",
      "libcurl                   7.87.0               ha585b31_0  \r\n",
      "libcxx                    14.0.6               h9765a3e_0  \r\n",
      "libdeflate                1.17                 hb664fd8_0  \r\n",
      "libedit                   3.1.20221030         h6c40b1e_0  \r\n",
      "libev                     4.33                 h9ed2024_1  \r\n",
      "libffi                    3.4.2                hecd8cb5_6  \r\n",
      "libgfortran               5.0.0           11_3_0_hecd8cb5_28  \r\n",
      "libgfortran5              11.3.0              h9dfd629_28  \r\n",
      "libiconv                  1.16                 hca72f7f_2  \r\n",
      "liblief                   0.12.3               hcec6c5f_0  \r\n",
      "libllvm11                 11.1.0               h46f1229_6  \r\n",
      "libllvm12                 12.0.0               h9b2ccf5_3  \r\n",
      "libllvm14                 14.0.6               h91fad77_1  \r\n",
      "libnghttp2                1.46.0               ha29bfda_0  \r\n",
      "libopenblas               0.3.21               h54e7dc3_0  \r\n",
      "libpng                    1.6.39               h6c40b1e_0  \r\n",
      "libpq                     12.9                 h1c9f633_3  \r\n",
      "libprotobuf               3.20.3               hfff2838_0  \r\n",
      "libsodium                 1.0.18               h1de35cc_0  \r\n",
      "libspatialindex           1.9.3                h23ab428_0  \r\n",
      "libssh2                   1.10.0               h0a4fc7d_0  \r\n",
      "libtiff                   4.5.0                hcec6c5f_2  \r\n",
      "libuv                     1.44.2               h6c40b1e_0  \r\n",
      "libwebp                   1.2.4                hf6ce154_1  \r\n",
      "libwebp-base              1.2.4                h6c40b1e_1  \r\n",
      "libxml2                   2.9.14               hbf8cd5e_0  \r\n",
      "libxslt                   1.1.35               h5b33f42_0  \r\n",
      "libzopfli                 1.0.3                hb1e8313_0  \r\n",
      "llvm-openmp               14.0.6               h0dcd299_0  \r\n",
      "llvmlite                  0.39.1          py310h8346a28_0  \r\n",
      "locket                    1.0.0           py310hecd8cb5_0  \r\n",
      "lxml                      4.9.1           py310h65b224f_0  \r\n",
      "lz4                       3.1.3           py310hca72f7f_0  \r\n",
      "lz4-c                     1.9.4                hcec6c5f_0  \r\n",
      "lzo                       2.10                 haf1e3a3_2  \r\n",
      "markdown                  3.4.1           py310hecd8cb5_0  \r\n",
      "markupsafe                2.1.1           py310hca72f7f_0  \r\n",
      "matplotlib                3.7.0           py310hecd8cb5_0  \r\n",
      "matplotlib-base           3.7.0           py310ha533b9c_0  \r\n",
      "matplotlib-inline         0.1.6           py310hecd8cb5_0  \r\n",
      "mccabe                    0.7.0              pyhd3eb1b0_0  \r\n",
      "mistune                   0.8.4           py310hca72f7f_1000  \r\n",
      "mock                      4.0.3              pyhd3eb1b0_0  \r\n",
      "mpc                       1.1.0                h6ef4df4_1  \r\n",
      "mpfr                      4.0.2                h9066e36_1  \r\n",
      "mpmath                    1.2.1                    pypi_0    pypi\r\n",
      "msgpack-python            1.0.3           py310haf03e11_0  \r\n",
      "multidict                 6.0.4                    pypi_0    pypi\r\n",
      "multipledispatch          0.6.0           py310hecd8cb5_0  \r\n",
      "munkres                   1.1.4                      py_0  \r\n",
      "mypy_extensions           0.4.3           py310hecd8cb5_1  \r\n",
      "navigator-updater         0.3.0           py310hecd8cb5_0  \r\n",
      "nbclassic                 0.5.2           py310hecd8cb5_0  \r\n",
      "nbclient                  0.5.13          py310hecd8cb5_0  \r\n",
      "nbconvert                 6.5.4           py310hecd8cb5_0  \r\n",
      "nbformat                  5.7.0           py310hecd8cb5_0  \r\n",
      "nc-time-axis              1.4.1                    pypi_0    pypi\r\n",
      "ncurses                   6.4                  hcec6c5f_0  \r\n",
      "nest-asyncio              1.5.6           py310hecd8cb5_0  \r\n",
      "netcdf4                   1.6.3                    pypi_0    pypi\r\n",
      "networkx                  2.8.4           py310hecd8cb5_0  \r\n",
      "ninja                     1.10.2               hecd8cb5_5  \r\n",
      "ninja-base                1.10.2               haf03e11_5  \r\n",
      "nltk                      3.7                pyhd3eb1b0_0  \r\n",
      "notebook                  6.5.2           py310hecd8cb5_0  \r\n",
      "notebook-shim             0.2.2           py310hecd8cb5_0  \r\n",
      "nspr                      4.33                 he9d5cce_0  \r\n",
      "nss                       3.74                 h47edf6a_0  \r\n",
      "numba                     0.56.4          py310h3ea8b11_0  \r\n",
      "numcodecs                 0.11.0                   pypi_0    pypi\r\n",
      "numexpr                   2.8.4           py310he50c29a_0  \r\n",
      "numpy                     1.23.5          py310he50c29a_0  \r\n",
      "numpy-base                1.23.5          py310h992e150_0  \r\n",
      "numpydoc                  1.5.0           py310hecd8cb5_0  \r\n",
      "oauthlib                  3.2.2                    pypi_0    pypi\r\n",
      "oniguruma                 6.9.7.1              h9ed2024_0  \r\n",
      "openjpeg                  2.4.0                h66ea3da_0  \r\n",
      "openpyxl                  3.0.10          py310hca72f7f_0  \r\n",
      "openssl                   1.1.1t               hca72f7f_0  \r\n",
      "packaging                 22.0            py310hecd8cb5_0  \r\n",
      "pandas                    1.5.3           py310h3ea8b11_0  \r\n",
      "pandocfilters             1.5.0              pyhd3eb1b0_0  \r\n",
      "panel                     0.14.3          py310hecd8cb5_0  \r\n",
      "param                     1.12.3          py310hecd8cb5_0  \r\n",
      "parsel                    1.6.0           py310hecd8cb5_0  \r\n",
      "parso                     0.8.3              pyhd3eb1b0_0  \r\n",
      "partd                     1.2.0              pyhd3eb1b0_1  \r\n",
      "patch                     2.7.6             h1de35cc_1001  \r\n",
      "pathlib                   1.0.1              pyhd3eb1b0_1  \r\n",
      "pathspec                  0.10.3          py310hecd8cb5_0  \r\n",
      "patsy                     0.5.3           py310hecd8cb5_0  \r\n",
      "pcre                      8.45                 h23ab428_0  \r\n",
      "pep8                      1.7.1           py310hecd8cb5_1  \r\n",
      "pexpect                   4.8.0              pyhd3eb1b0_3  \r\n",
      "pickleshare               0.7.5           pyhd3eb1b0_1003  \r\n",
      "pillow                    9.4.0           py310hcec6c5f_0  \r\n",
      "pint                      0.20.1                   pypi_0    pypi\r\n",
      "pint-xarray               0.3                      pypi_0    pypi\r\n",
      "pip                       22.3.1          py310hecd8cb5_0  \r\n",
      "pkginfo                   1.8.3           py310hecd8cb5_0  \r\n",
      "platformdirs              2.5.2           py310hecd8cb5_0  \r\n",
      "plotly                    5.9.0           py310hecd8cb5_0  \r\n",
      "pluggy                    1.0.0           py310hecd8cb5_1  \r\n",
      "ply                       3.11            py310hecd8cb5_0  \r\n",
      "pooch                     1.4.0              pyhd3eb1b0_0  \r\n",
      "poyo                      0.5.0              pyhd3eb1b0_0  \r\n",
      "prometheus_client         0.14.1          py310hecd8cb5_0  \r\n",
      "prompt-toolkit            3.0.36          py310hecd8cb5_0  \r\n",
      "prompt_toolkit            3.0.36               hd3eb1b0_0  \r\n",
      "protego                   0.1.16                     py_0  \r\n",
      "protobuf                  4.22.1                   pypi_0    pypi\r\n",
      "psutil                    5.9.0           py310hca72f7f_0  \r\n",
      "ptyprocess                0.7.0              pyhd3eb1b0_2  \r\n",
      "pure_eval                 0.2.2              pyhd3eb1b0_0  \r\n",
      "py                        1.11.0             pyhd3eb1b0_0  \r\n",
      "py-lief                   0.12.3          py310hcec6c5f_0  \r\n",
      "pyasn1                    0.4.8              pyhd3eb1b0_0  \r\n",
      "pyasn1-modules            0.2.8                      py_0  \r\n",
      "pycodestyle               2.10.0          py310hecd8cb5_0  \r\n",
      "pycosat                   0.6.4           py310hca72f7f_0  \r\n",
      "pycparser                 2.21               pyhd3eb1b0_0  \r\n",
      "pyct                      0.5.0           py310hecd8cb5_0  \r\n",
      "pycurl                    7.45.1                   pypi_0    pypi\r\n",
      "pydantic                  1.10.7                   pypi_0    pypi\r\n",
      "pydispatcher              2.0.5           py310hecd8cb5_2  \r\n",
      "pydocstyle                6.3.0           py310hecd8cb5_0  \r\n",
      "pyerfa                    2.0.0           py310hca72f7f_0  \r\n",
      "pyflakes                  3.0.1           py310hecd8cb5_0  \r\n",
      "pygments                  2.11.2             pyhd3eb1b0_0  \r\n",
      "pyhamcrest                2.0.2              pyhd3eb1b0_2  \r\n",
      "pyjwt                     2.4.0           py310hecd8cb5_0  \r\n",
      "pylint                    2.16.2          py310hecd8cb5_0  \r\n",
      "pylint-venv               2.3.0           py310hecd8cb5_0  \r\n",
      "pyls-spyder               0.4.0              pyhd3eb1b0_0  \r\n",
      "pyobjc-core               9.0             py310h9205ec4_1  \r\n",
      "pyobjc-framework-cocoa    9.0             py310h9205ec4_0  \r\n",
      "pyobjc-framework-coreservices 9.0             py310h46256e1_0  \r\n",
      "pyobjc-framework-fsevents 9.0             py310hecd8cb5_0  \r\n",
      "pyodbc                    4.0.34          py310he9d5cce_0  \r\n",
      "pyopenssl                 23.0.0          py310hecd8cb5_0  \r\n",
      "pyparsing                 3.0.9           py310hecd8cb5_0  \r\n",
      "pyproj                    3.4.1                    pypi_0    pypi\r\n",
      "pyqt                      5.15.7          py310he9d5cce_0  \r\n",
      "pyqt5-sip                 12.11.0                  pypi_0    pypi\r\n",
      "pyqtwebengine             5.15.7          py310he9d5cce_0  \r\n",
      "pyrsistent                0.18.0          py310hca72f7f_0  \r\n",
      "pyshp                     2.3.1                    pypi_0    pypi\r\n",
      "pysocks                   1.7.1           py310hecd8cb5_0  \r\n",
      "pytables                  3.7.0           py310h59775c6_1  \r\n",
      "pytest                    7.1.2           py310hecd8cb5_0  \r\n",
      "python                    3.10.9               h218abb5_1  \r\n",
      "python-dateutil           2.8.2              pyhd3eb1b0_0  \r\n",
      "python-fastjsonschema     2.16.2          py310hecd8cb5_0  \r\n",
      "python-libarchive-c       2.9                pyhd3eb1b0_1  \r\n",
      "python-lsp-black          1.2.1           py310hecd8cb5_0  \r\n",
      "python-lsp-jsonrpc        1.0.0              pyhd3eb1b0_0  \r\n",
      "python-lsp-server         1.7.1           py310hecd8cb5_0  \r\n",
      "python-slugify            5.0.2              pyhd3eb1b0_0  \r\n",
      "python-snappy             0.6.1           py310hcec6c5f_0  \r\n",
      "python.app                3               py310hca72f7f_0  \r\n",
      "pytoolconfig              1.2.5           py310hecd8cb5_1  \r\n",
      "pytorch                   1.12.1          cpu_py310h64f2f56_1  \r\n",
      "pytz                      2022.7          py310hecd8cb5_0  \r\n",
      "pyviz_comms               2.0.2              pyhd3eb1b0_0  \r\n",
      "pywavelets                1.4.1           py310h6c40b1e_0  \r\n",
      "pyyaml                    6.0             py310h6c40b1e_1  \r\n",
      "pyzmq                     23.2.0          py310he9d5cce_0  \r\n",
      "qdarkstyle                3.0.2              pyhd3eb1b0_0  \r\n",
      "qstylizer                 0.2.2           py310hecd8cb5_0  \r\n",
      "qt-main                   5.15.2               h719ae48_7  \r\n",
      "qt-webengine              5.15.9               h90a370e_4  \r\n",
      "qtawesome                 1.2.2           py310hecd8cb5_0  \r\n",
      "qtconsole                 5.4.0           py310hecd8cb5_0  \r\n",
      "qtpy                      2.2.0           py310hecd8cb5_0  \r\n",
      "qtwebkit                  5.212                h24dc246_4  \r\n",
      "queuelib                  1.5.0           py310hecd8cb5_0  \r\n",
      "readline                  8.2                  hca72f7f_0  \r\n",
      "regex                     2022.7.9        py310hca72f7f_0  \r\n",
      "requests                  2.28.1          py310hecd8cb5_0  \r\n",
      "requests-file             1.5.1              pyhd3eb1b0_0  \r\n",
      "requests-oauthlib         1.3.1                    pypi_0    pypi\r\n",
      "ripgrep                   13.0.0               hc2228c6_0  \r\n",
      "rope                      1.7.0           py310hecd8cb5_0  \r\n",
      "rsa                       4.9                      pypi_0    pypi\r\n",
      "rtree                     1.0.1           py310hecd8cb5_0  \r\n",
      "ruamel.yaml               0.17.21         py310hca72f7f_0  \r\n",
      "ruamel.yaml.clib          0.2.6           py310hca72f7f_1  \r\n",
      "ruamel_yaml               0.17.21         py310hca72f7f_0  \r\n",
      "scikit-image              0.19.3          py310hcec6c5f_1  \r\n",
      "scikit-learn              1.2.1           py310hcec6c5f_0  \r\n",
      "scipy                     1.10.0          py310ha516a68_1  \r\n",
      "scrapy                    2.8.0           py310hecd8cb5_0  \r\n",
      "seaborn                   0.12.2          py310hecd8cb5_0  \r\n",
      "send2trash                1.8.0              pyhd3eb1b0_1  \r\n",
      "service_identity          18.1.0             pyhd3eb1b0_1  \r\n",
      "setuptools                65.6.3          py310hecd8cb5_0  \r\n",
      "shapely                   2.0.1                    pypi_0    pypi\r\n",
      "sip                       6.6.2           py310he9d5cce_0  \r\n",
      "six                       1.16.0             pyhd3eb1b0_1  \r\n",
      "smart_open                5.2.1           py310hecd8cb5_0  \r\n",
      "snappy                    1.1.9                he9d5cce_0  \r\n",
      "sniffio                   1.2.0           py310hecd8cb5_1  \r\n",
      "snowballstemmer           2.2.0              pyhd3eb1b0_0  \r\n",
      "sortedcontainers          2.4.0              pyhd3eb1b0_0  \r\n",
      "soupsieve                 2.3.2.post1     py310hecd8cb5_0  \r\n",
      "sphinx                    5.0.2           py310hecd8cb5_0  \r\n",
      "sphinxcontrib-applehelp   1.0.2              pyhd3eb1b0_0  \r\n",
      "sphinxcontrib-devhelp     1.0.2              pyhd3eb1b0_0  \r\n",
      "sphinxcontrib-htmlhelp    2.0.0              pyhd3eb1b0_0  \r\n",
      "sphinxcontrib-jsmath      1.0.1              pyhd3eb1b0_0  \r\n",
      "sphinxcontrib-qthelp      1.0.3              pyhd3eb1b0_0  \r\n",
      "sphinxcontrib-serializinghtml 1.1.5              pyhd3eb1b0_0  \r\n",
      "spyder                    5.4.1           py310hecd8cb5_0  \r\n",
      "spyder-kernels            2.4.1           py310hecd8cb5_0  \r\n",
      "sqlalchemy                1.4.39          py310hca72f7f_0  \r\n",
      "sqlite                    3.40.1               h880c91c_0  \r\n",
      "stack_data                0.2.0              pyhd3eb1b0_0  \r\n",
      "statsmodels               0.13.5          py310h7b7cdfe_1  \r\n",
      "sympy                     1.11.1          py310hecd8cb5_0  \r\n",
      "tabulate                  0.8.10          py310hecd8cb5_0  \r\n",
      "tapi                      1000.10.8            ha1b3eb9_0  \r\n",
      "tbb                       2021.7.0             ha357a0b_0  \r\n",
      "tbb4py                    2021.7.0        py310ha357a0b_0  \r\n",
      "tblib                     1.7.0              pyhd3eb1b0_0  \r\n",
      "tenacity                  8.0.1           py310hecd8cb5_1  \r\n",
      "terminado                 0.17.1          py310hecd8cb5_0  \r\n",
      "text-unidecode            1.3                pyhd3eb1b0_0  \r\n",
      "textdistance              4.2.1              pyhd3eb1b0_0  \r\n",
      "threadpoolctl             2.2.0              pyh0d69192_0  \r\n",
      "three-merge               0.1.1              pyhd3eb1b0_0  \r\n",
      "tifffile                  2021.7.2           pyhd3eb1b0_2  \r\n",
      "tinycss2                  1.2.1           py310hecd8cb5_0  \r\n",
      "tk                        8.6.12               h5d9f67b_0  \r\n",
      "tldextract                3.2.0              pyhd3eb1b0_0  \r\n",
      "tokenizers                0.11.4          py310h8776b5c_1  \r\n",
      "toml                      0.10.2             pyhd3eb1b0_0  \r\n",
      "tomli                     2.0.1           py310hecd8cb5_0  \r\n",
      "tomlkit                   0.11.1          py310hecd8cb5_0  \r\n",
      "toolz                     0.12.0          py310hecd8cb5_0  \r\n",
      "tornado                   6.1             py310hca72f7f_0  \r\n",
      "tqdm                      4.64.1          py310hecd8cb5_0  \r\n",
      "traitlets                 5.7.1           py310hecd8cb5_0  \r\n",
      "transformers              4.24.0          py310hecd8cb5_0  \r\n",
      "twisted                   22.2.0          py310hca72f7f_1  \r\n",
      "typing-extensions         4.4.0           py310hecd8cb5_0  \r\n",
      "typing_extensions         4.4.0           py310hecd8cb5_0  \r\n",
      "tzdata                    2022g                h04d1e81_0  \r\n",
      "ujson                     5.4.0           py310he9d5cce_0  \r\n",
      "unidecode                 1.2.0              pyhd3eb1b0_0  \r\n",
      "unixodbc                  2.3.11               hb456775_0  \r\n",
      "urllib3                   1.26.14         py310hecd8cb5_0  \r\n",
      "w3lib                     1.21.0             pyhd3eb1b0_0  \r\n",
      "watchdog                  2.1.6           py310h999c104_0  \r\n",
      "wcwidth                   0.2.5              pyhd3eb1b0_0  \r\n",
      "webencodings              0.5.1           py310hecd8cb5_1  \r\n",
      "websocket-client          0.58.0          py310hecd8cb5_4  \r\n",
      "werkzeug                  2.2.2           py310hecd8cb5_0  \r\n",
      "whatthepatch              1.0.2           py310hecd8cb5_0  \r\n",
      "wheel                     0.38.4          py310hecd8cb5_0  \r\n",
      "widgetsnbextension        3.5.2           py310hecd8cb5_0  \r\n",
      "wrapt                     1.14.1          py310hca72f7f_0  \r\n",
      "wurlitzer                 3.0.2           py310hecd8cb5_0  \r\n",
      "xarray                    2022.11.0       py310hecd8cb5_0  \r\n",
      "xarray-datatree           0.0.12                   pypi_0    pypi\r\n",
      "xarrayutils               1.1.1                    pypi_0    pypi\r\n",
      "xgcm                      0.6.1                    pypi_0    pypi\r\n",
      "xlwings                   0.29.1          py310hecd8cb5_0  \r\n",
      "xmip                      0.7.1                    pypi_0    pypi\r\n",
      "xz                        5.2.10               h6c40b1e_1  \r\n",
      "yaml                      0.2.5                haf1e3a3_0  \r\n",
      "yapf                      0.31.0             pyhd3eb1b0_0  \r\n",
      "yarl                      1.8.2                    pypi_0    pypi\r\n",
      "zarr                      2.14.2                   pypi_0    pypi\r\n",
      "zeromq                    4.3.4                h23ab428_0  \r\n",
      "zfp                       0.5.5                he9d5cce_6  \r\n",
      "zict                      2.1.0           py310hecd8cb5_0  \r\n",
      "zipp                      3.11.0          py310hecd8cb5_0  \r\n",
      "zlib                      1.2.13               h4dc903c_0  \r\n",
      "zope                      1.0             py310hecd8cb5_1  \r\n",
      "zope.interface            5.4.0           py310hca72f7f_0  \r\n",
      "zstandard                 0.19.0          py310h6c40b1e_0  \r\n",
      "zstd                      1.5.2                hcb37349_0  \r\n"
     ]
    },
    {
     "name": "stdout",
     "output_type": "stream",
     "text": [
      "\n",
      "Note: you may need to restart the kernel to use updated packages.\n"
     ]
    }
   ],
   "source": [
    "conda list"
   ]
  },
  {
   "cell_type": "code",
   "execution_count": null,
   "metadata": {
    "id": "U5EJSalqg_Nd",
    "tags": []
   },
   "outputs": [],
   "source": [
    "# @title Figure settings\n",
    "import ipywidgets as widgets       # interactive display\n",
    "%config InlineBackend.figure_format = 'retina'\n",
    "plt.style.use(\"https://raw.githubusercontent.com/ClimateMatchAcademy/course-content/main/cma.mplstyle\")"
   ]
  },
  {
   "cell_type": "code",
   "execution_count": null,
   "metadata": {
    "id": "qMeLfaYchgjZ",
    "tags": []
   },
   "outputs": [],
   "source": [
    "# @title Video 1: Recap of Earth System Models\n",
    "#Tech team will add code to format and display the video"
   ]
  },
  {
   "cell_type": "markdown",
   "metadata": {
    "id": "W43m6TQBZrpe",
    "tags": []
   },
   "source": [
    "# **Section 1: Loading CMIP6 SST Data with `xarray`**\n",
    "\n",
    "As a reminder, these ESMs simulate several systems (ocean, atmosphere, cryosphere, land) that are coupled to each other, and each system has its own variables, physics, and discretizations (grid & timestep).\n",
    "\n",
    "<img src=\"https://upload.wikimedia.org/wikipedia/commons/7/73/AtmosphericModelSchematic.png\" alt= “EarthSystemModel” width=\"420\" height=\"400\">\n",
    "\n",
    "Atmospheric Model Schematic (Credit: [Wikipedia](https://upload.wikimedia.org/wikipedia/commons/7/73/AtmosphericModelSchematic.png))\n",
    "\n",
    "Let's repeat the CMIP6 loading method that we learned in Tutorial 6 on last week's Climate Modelling day (Day 5).\n",
    "\n",
    " **Although we will only work with monthly SST (ocean) data today, the methods introduced can easily be applied/extended to load and analyze other CMIP6 variables, including from other components of the Earth system.**\n",
    "\n",
    "As a reminder, the *facets* that have to be specified for CMIP6 are:\n",
    "1. **variable_id**: *tos* = sea surface temperature\n",
    "2. **source_id**: The CMIP6 model(s) that we want data from \n",
    "3. **table_id**: *Omon* (ocean monthly output)\n",
    "4. **grid_id**: *gn* = data on the model's *native* grid\n",
    "5. **experiment_id**: *historical*, *ssp126* and *ssp585*. We'll discuss these 3 experiments later today\n",
    "6. **member_id**: *r1i1p1f1* for now\n",
    "\n",
    "Now, let's repeat our CMIP6 loading method from the previous tutorial.\n",
    "\n",
    "$^*$Note: in later tutorials you will work with 5 different CMIP6 models (*source_ids*), but in the first two tutorials you will only use one model, **TaiESM1**, which stand for *Taiwan Earth System Model version 1*. This model was developed using the Community Earth System Model version 1.2.2 as a basis, and includes different parameterizations (i.e., phsyics)\n"
   ]
  },
  {
   "cell_type": "code",
   "execution_count": null,
   "metadata": {
    "colab": {
     "base_uri": "https://localhost:8080/",
     "height": 91
    },
    "executionInfo": {
     "elapsed": 6561,
     "status": "ok",
     "timestamp": 1683910891406,
     "user": {
      "displayName": "Brodie Pearson",
      "userId": "05269028596972519847"
     },
     "user_tz": 420
    },
    "id": "bj8cN3IEDj2S",
    "outputId": "52ade942-0998-436f-badd-dc6ddee863e1",
    "tags": []
   },
   "outputs": [],
   "source": [
    "# open an intake catalog containing the Pangeo CMIP cloud data\n",
    "col = intake.open_esm_datastore(\"https://storage.googleapis.com/cmip6/pangeo-cmip6.json\")\n",
    "\n",
    "# from the full `col` object, create a subset using facet search\n",
    "cat = col.search(\n",
    "    source_id='TaiESM1',\n",
    "    variable_id='tos',\n",
    "    member_id='r1i1p1f1',\n",
    "    table_id='Omon',\n",
    "    grid_label='gn',\n",
    "    experiment_id = 'ssp585',\n",
    "    require_all_on = ['source_id'] #make sure that we only get models which have all of the above experiments\n",
    ")\n",
    "\n",
    "# convert the sub-catalog into a datatree object, by opening each dataset into an xarray.Dataset (without loading the data)\n",
    "kwargs = dict(\n",
    "    preprocess=combined_preprocessing, #apply xMIP fixes to each dataset\n",
    "    xarray_open_kwargs=dict(use_cftime=True), #ensure all datasets use the same time index\n",
    "    storage_options={'token':'anon'} #anonymous/public authentication to google cloud storage\n",
    ")\n",
    "\n",
    "cat.esmcat.aggregation_control.groupby_attrs = ['source_id', 'experiment_id']\n",
    "dt = cat.to_datatree(**kwargs)"
   ]
  },
  {
   "cell_type": "markdown",
   "metadata": {
    "id": "niK2L4NjVyov"
   },
   "source": [
    "We now have a \"datatree\" containing the data we searched for. A datatree is a high-level container of xarray data, useful for organizing many related datasets together. You can think of a single `DataTree` object as being like a (nested) dictionary of `xarray.Dataset` objects. Each dataset in the tree is known as a \"node\" or \"group\", and we can also have empty nodes. You can explore the nodes of the tree and its contents interactively in a similar way to how you can explore the contents of an `xarray.Dataset`:"
   ]
  },
  {
   "cell_type": "code",
   "execution_count": null,
   "metadata": {
    "colab": {
     "base_uri": "https://localhost:8080/",
     "height": 186
    },
    "executionInfo": {
     "elapsed": 1011,
     "status": "ok",
     "timestamp": 1683910899038,
     "user": {
      "displayName": "Brodie Pearson",
      "userId": "05269028596972519847"
     },
     "user_tz": 420
    },
    "id": "qlXwzW2FVyBs",
    "outputId": "45d33bab-a70e-4d69-b362-10e3a8b4d4c3",
    "tags": []
   },
   "outputs": [],
   "source": [
    "dt"
   ]
  },
  {
   "cell_type": "markdown",
   "metadata": {
    "id": "Iz900vkh3ua8"
   },
   "source": [
    "Now that we have the model datasets organized within thie datatree (`dt`) we can plot the datasets. Let's start by plotting a map of SST from one particular CMIP6 model (`TaiESM1`) in July 2023. \n",
    "\n",
    "**Note that CMIP6 experiments were run several years ago, so the cut-off between *past* (observed forcing) and *future* (scenario-based/projected forcing) was at the start of 2015. This means that July 2023 is about 8 years into the CMIP6 *future* and is unlikely to look exactly like Earth's current SST state.*"
   ]
  },
  {
   "cell_type": "code",
   "execution_count": null,
   "metadata": {
    "colab": {
     "base_uri": "https://localhost:8080/",
     "height": 451
    },
    "executionInfo": {
     "elapsed": 11488,
     "status": "ok",
     "timestamp": 1683910911990,
     "user": {
      "displayName": "Brodie Pearson",
      "userId": "05269028596972519847"
     },
     "user_tz": 420
    },
    "id": "V8fx6BPl2uIx",
    "outputId": "af07b786-3c2e-4fdb-9457-74cb13f390a8",
    "tags": []
   },
   "outputs": [],
   "source": [
    "%matplotlib inline\n",
    "\n",
    "# select just a single model (TaiESM1) and experiment (ssp585) to plot\n",
    "sst_ssp585 = dt['TaiESM1']['ssp585'].ds.tos\n",
    "\n",
    "fig, (ax_present) = plt.subplots(\n",
    "    ncols=1, nrows=1,\n",
    "    figsize=[8,4],\n",
    "    subplot_kw={'projection':ccrs.Robinson()}\n",
    ")\n",
    "\n",
    "# select the model data for July 2023\n",
    "sst_present = sst_ssp585.sel(time='2023-07').squeeze()\n",
    "\n",
    "# plot the model data\n",
    "sst_present.plot(ax=ax_present, x='lon', y='lat', transform=ccrs.PlateCarree(), vmin=-10, vmax=30, cmap='magma', robust=True)\n",
    "ax_present.coastlines()\n",
    "ax_present.set_title('July 2023')"
   ]
  },
  {
   "cell_type": "markdown",
   "metadata": {
    "id": "9UbbKMMQbI0C"
   },
   "source": [
    "### **Coding Exercise 1.1: Mapping Projected Changes in SST**\n",
    "\n",
    "Now that we can plot maps of CMIP6 data, let's look at some projected future changes using this data!\n",
    "\n",
    "In this coding exercise your goals are to: \n",
    "1. Create a map of the projected sea surface temperature in July 2100 under a high-emissions scenario (we'll discuss scenarios in the next mini-lecture) using data from a single model (called *TaiESM1*).\n",
    "2. Create a map showing how this sea surface temperature projection is different from the current (July 2023) sea surface temperature in the same model\n",
    "3. Plot a similar map that shows how *January* 2100 is different from *January* 2023\n",
    "\n",
    "To get you started, we have provided code to load the required data set into a variable called *sst_ssp585*, and we have plotted the current (July 2023) sea surface temperature from this data set.\n",
    "\n",
    "$^*$Note: these differences between two snapshots of SST are not the same as the ***anomalies*** *that you encountered earlier in the course, which were the difference relative to the average during a reference period."
   ]
  },
  {
   "cell_type": "code",
   "execution_count": null,
   "metadata": {
    "colab": {
     "base_uri": "https://localhost:8080/",
     "height": 312
    },
    "executionInfo": {
     "elapsed": 163,
     "status": "error",
     "timestamp": 1683910918443,
     "user": {
      "displayName": "Brodie Pearson",
      "userId": "05269028596972519847"
     },
     "user_tz": 420
    },
    "id": "cZZS37rlurCl",
    "outputId": "7de301fe-2a2b-48a2-8073-88cb403be882"
   },
   "outputs": [],
   "source": [
    "# %matplotlib inline\n",
    "\n",
    "#################################################\n",
    "# Students: Fill in missing code (...) and comment or remove the next line\n",
    "raise NotImplementedError(\"Student exercise: Create a map of the projected sea surface temperature in July 2100 under a high-emissions scenario (ssp585) using data from the TaiESM1 model. Also create maps showing the difference between July 2100 and 2023, and another showing the difference for January of the same years.\")\n",
    "#################################################\n",
    "\n",
    "# select just a single model and experiment\n",
    "sst_ssp585 = dt['TaiESM1']['ssp585'].ds.tos\n",
    "\n",
    "fig, ([ax_present, ax_future], [ax_diff_july, ax_diff_jan]) = plt.subplots(\n",
    "    ncols=2, nrows=2,\n",
    "    figsize=[12,6],\n",
    "    subplot_kw={'projection':ccrs.Robinson()}\n",
    ")\n",
    "\n",
    "# plot a timestep for 2023\n",
    "sst_present = sst_ssp585.sel(time='2023-07').squeeze()\n",
    "sst_present.plot(ax=ax_present, x='lon', y='lat', transform=ccrs.PlateCarree(), vmin=-10, vmax=30, cmap='magma', robust=True)\n",
    "ax_present.coastlines()\n",
    "ax_present.set_title('July 2023')\n",
    "\n",
    "# repeat for 2100\n",
    "# complete the following line to extract data for July 2100\n",
    "sst_future = ...\n",
    "sst_future.plot(ax=ax_future, x='lon', y='lat', transform=ccrs.PlateCarree(), vmin=-10, vmax=30, cmap='magma', robust=True)\n",
    "ax_future.coastlines()\n",
    "ax_future.set_title('July 2100')\n",
    "\n",
    "# now find the difference between July 2100 and July 2023\n",
    "# complete the following line to extract the July difference\n",
    "sst_difference_july = ...\n",
    "sst_difference_july.plot(ax=ax_diff_july, x='lon', y='lat', transform=ccrs.PlateCarree(), vmin=-7.5, vmax=7.5, cmap='coolwarm')\n",
    "ax_diff_july.coastlines()\n",
    "ax_diff_july.set_title('2100 vs. 2023 Difference (July)')\n",
    "\n",
    "# finally, find the difference between January of the two years used above\n",
    "# complete the following line to extract the January difference\n",
    "sst_difference_jan = ...\n",
    "sst_difference_jan.plot(ax=ax_diff_jan, x='lon', y='lat', transform=ccrs.PlateCarree(), vmin=-7.5, vmax=7.5, cmap='coolwarm')\n",
    "ax_diff_jan.coastlines()\n",
    "ax_diff_jan.set_title('2100 vs. 2023 Difference (January)')\n",
    "\n",
    "plt.show()"
   ]
  },
  {
   "cell_type": "code",
   "execution_count": null,
   "metadata": {
    "colab": {
     "base_uri": "https://localhost:8080/",
     "height": 1000
    },
    "executionInfo": {
     "elapsed": 36973,
     "status": "ok",
     "timestamp": 1683910956791,
     "user": {
      "displayName": "Brodie Pearson",
      "userId": "05269028596972519847"
     },
     "user_tz": 420
    },
    "id": "6an6xf10rIDG",
    "outputId": "e58b9cd2-c4c1-4e36-98e0-6eac2ccee115",
    "tags": []
   },
   "outputs": [],
   "source": [
    "# to_remove solution\n",
    "# %matplotlib inline\n",
    "\n",
    "# select just a single model and experiment\n",
    "sst_ssp585 = dt['TaiESM1']['ssp585'].ds.tos\n",
    "\n",
    "fig, ([ax_present, ax_future], [ax_diff_july, ax_diff_jan]) = plt.subplots(\n",
    "  ncols=2, nrows=2,\n",
    "  figsize=[12,6],\n",
    "  subplot_kw={'projection':ccrs.Robinson()}\n",
    ")\n",
    "\n",
    "# plot a timestep for 2023\n",
    "sst_present = sst_ssp585.sel(time='2023-07').squeeze()\n",
    "sst_present.plot(ax=ax_present, x='lon', y='lat', transform=ccrs.PlateCarree(), vmin=-10, vmax=30, cmap='magma', robust=True)\n",
    "ax_present.coastlines()\n",
    "ax_present.set_title('July 2023')\n",
    "\n",
    "# repeat for 2100\n",
    "# complete the following line to extract data for July 2100\n",
    "sst_future = sst_ssp585.sel(time='2100-07').squeeze()\n",
    "sst_future.plot(ax=ax_future, x='lon', y='lat', transform=ccrs.PlateCarree(), vmin=-10, vmax=30, cmap='magma', robust=True)\n",
    "ax_future.coastlines()\n",
    "ax_future.set_title('July 2100')\n",
    "\n",
    "# now find the difference between July 2100 and July 2023\n",
    "# complete the following line to extract the July difference\n",
    "sst_difference_july = sst_future - sst_present\n",
    "sst_difference_july.plot(ax=ax_diff_july, x='lon', y='lat', transform=ccrs.PlateCarree(), vmin=-7.5, vmax=7.5, cmap='coolwarm')\n",
    "ax_diff_july.coastlines()\n",
    "ax_diff_july.set_title('2100 vs. 2023 Difference (July)')\n",
    "\n",
    "# finally, find the difference between January of the two years used above\n",
    "# complete the following line to extract the January difference\n",
    "sst_difference_jan = sst_ssp585.sel(time='2100-01').squeeze() - sst_ssp585.sel(time='2023-01').squeeze()\n",
    "sst_difference_jan.plot(ax=ax_diff_jan, x='lon', y='lat', transform=ccrs.PlateCarree(), vmin=-7.5, vmax=7.5, cmap='coolwarm')\n",
    "ax_diff_jan.coastlines()\n",
    "ax_diff_jan.set_title('2100 vs. 2023 Difference (January)')"
   ]
  },
  {
   "cell_type": "markdown",
   "metadata": {
    "id": "Nqc7P0tzJQF1",
    "tags": []
   },
   "source": [
    "## **Questions 1.1: Climate Connection**\n",
    "\n",
    "1.   *Comparing only the top two panels*, how is the July SST projected to change in this particular model simulation? Do these changes agree with the map of July change that you plotted in the bottom left, and are these changes easier to see in this bottom map?\n",
    "2.   In what ways are the July and January maps similar or dissimilar, and can you think of any physical explanations for these (dis)similarities?\n",
    "3. Why do you think the color bar axes vary? (i.e., the top panels say \"*Sea Surface Temperature [$^oC$]*\" while the bottom panels say \"*tos*\")\n",
    "\n",
    "Many of the changes seen in the maps are a result of a changing climate under this high-emissions scenarios. But, keep in mind that these are differences between two months that are almost 80 years apart, so some of the changes are due to weather/synoptic differences between these particular months.\n"
   ]
  },
  {
   "cell_type": "code",
   "execution_count": null,
   "metadata": {
    "tags": []
   },
   "outputs": [],
   "source": [
    "# to_remove explanation\n",
    "\n",
    "\"\"\"\n",
    "1. Based on the top maps, it looks like the Equator and low latitudes warm significantly, and the higher latitudes also warm. The northern hemisphere warms more than the southern hemisphere. These changes agree qualitatively with the \"change map\" (bottom left), although the change map makes it clear that the Arctic surface waters are warming faster than the rest of the planet and that the warming is not spatially uniform anywhere (in fact parts of the North Atlantic cool slightly!). The warming in the low latitudes and Southern hemisphere is still significant, and shows interesting spatial patterns.\n",
    "2. There are various things you might notice. For example, the January maps show more warming in the Southern hemisphere than the July maps, consistent with the Southern hemisphere summer creating a warmer baseline and more potential for extreme heat. We also see warming in the Equatorial Pacific region for January, which was not present for July, which could be due different ENSO phases across the two months and the two years. A final example is that the North Atlantic shows even stronger cooling in January than in July, this is a common signal in many climate models. This cooling can result from melting ice sheets and glaciers creating colder, fresher surface water, which increases stratification. This can reduce the amount of deep convection in the North Atlantic region (by trapping fresh cold water at the surface),weakening the thermohaline circulation.\n",
    "3. The metadata of the CMIP6 dataset we are using in the first two plots contains a long-name for the variable and its units, which are automatically used for the axis labels. When we perform a mathematical operation (subtraction) on the dataset to create a new DataArray, the long-name metadata is not transferred to the new array to avoid confusion in case the operation creates a new variable (that could also have different units). This leads to the plot using the variable name (tos) for the x-axis instead of the long name.\n",
    "\"\"\";"
   ]
  },
  {
   "cell_type": "markdown",
   "metadata": {
    "id": "BJlD6EY5FX6t"
   },
   "source": [
    "# **Section 2: Horizontal Regridding**\n",
    "\n",
    "Many CMIP6 models use distinct spatial grids, we call this the model's *native grid*. \n",
    "\n",
    "You are likely familiar with the *regular latitude-longitude* grid where we separate the planet into boxes that have a fixed latitude and longitude span like this image we saw in the tutorial:\n",
    "\n",
    "<img src=\"https://upload.wikimedia.org/wikipedia/commons/4/4c/Azimutalprojektion-schief_kl-cropped.png\" alt= \"Lat_Lon_Grid\" width=\"250\" height=\"250\">\n",
    "\n",
    "Let's look at the grid used for the ocean component of the CMIP6 model, TaiESM1:\n"
   ]
  },
  {
   "cell_type": "code",
   "execution_count": null,
   "metadata": {
    "colab": {
     "base_uri": "https://localhost:8080/",
     "height": 610
    },
    "executionInfo": {
     "elapsed": 1822,
     "status": "ok",
     "timestamp": 1683910973589,
     "user": {
      "displayName": "Brodie Pearson",
      "userId": "05269028596972519847"
     },
     "user_tz": 420
    },
    "id": "W_v_YuhMGwqv",
    "outputId": "c7bd5a68-8eee-4fac-d510-da547abe56be",
    "tags": []
   },
   "outputs": [],
   "source": [
    "# create a scatter plot with a symbol at the center of each ocean grid cell in TaiESM1\n",
    "plt.scatter(x=sst_ssp585.lon, y=sst_ssp585.lat, s=0.1)\n",
    "plt.ylabel('Latitude')\n",
    "plt.xlabel('Longitude')\n",
    "plt.title('Grid cell locations in TaiESM1')"
   ]
  },
  {
   "cell_type": "markdown",
   "metadata": {
    "id": "ht4e8uQxG-i8"
   },
   "source": [
    "## **Questions 1.2**\n",
    "\n",
    "1. How would this plot look for a *regular latitude-longitude* grid like the globe image shown above and in the slides? In what ways is the TaiESM1 grid different from this regular grid?\n",
    "2. Can you think of a reason the Northern and Southern hemisphere ocean grids differ?*\n",
    "\n",
    "**Hint: from an oceanographic context, how are the North and South poles different from each other?*"
   ]
  },
  {
   "cell_type": "code",
   "execution_count": null,
   "metadata": {
    "tags": []
   },
   "outputs": [],
   "source": [
    "# to_remove explanation\n",
    "\n",
    "\"\"\"\n",
    "1. For a regular latitude-longitude grid the plot should consist of straight lines from top to bottom, and straight lines from left to right, that are evenly spaced in each of those directions. The grid of TaiESM1 looks like a regular latitude-longitude grid in the Southern hemisphere, but is quite different in the Northern hemisphere, with the grid cells getting small (converging) at a \"grid North pole\" which is actually placed at ~75 degrees North and 40 degrees West. a large part of this \"grid North pole\" doesn't contain any grid points (the white hole).\n",
    "2. On a regular latitude-longitude grid, the grid cells rapidly get very small as you approach the pole which causes numerical issues for ocean model. For example, the time step has to be reduced to physically capture the movement between the smallest cells, leading to many more computations required to evolve the model. This is not a problem for ocean models at the South Pole because the pole is on land! In the Northern hemisphere, it is common to move the \"grid North pole\" of ocean models to occur in a land region (e.g., Asian and/or North American continents), and sometimes there are poles in both these land masses!\n",
    "\"\"\";"
   ]
  },
  {
   "cell_type": "markdown",
   "metadata": {
    "id": "qrRu7hr3FIB-"
   },
   "source": [
    "If you want to compare spatial maps from different models/observations, e.g. plot a map averaged over several models or the bias of this map relative to observations, you must first ensure the data from all the models (and observations) is on the same spatial grid. This is where regridding becomes essential!\n",
    "\n",
    "> Regridding is applied lazily, but it is still taking time to compute *when* it is applied. So if you want to compare for example the mean over time of several models it is often much quicker to compute the mean in time over the native grid and then regrid the result of that, instead of regridding each timestep and then calculating the mean!"
   ]
  },
  {
   "cell_type": "code",
   "execution_count": null,
   "metadata": {
    "colab": {
     "base_uri": "https://localhost:8080/",
     "height": 228
    },
    "executionInfo": {
     "elapsed": 190,
     "status": "ok",
     "timestamp": 1683912424678,
     "user": {
      "displayName": "Brodie Pearson",
      "userId": "05269028596972519847"
     },
     "user_tz": 420
    },
    "id": "61BRSkuDFbjX",
    "outputId": "ad6f40a6-5f9f-4334-ed00-59321d7f12ab",
    "tags": []
   },
   "outputs": [],
   "source": [
    "# define a 'target' grid. This is simply a regular lon/lat grid that we will interpolate our data on\n",
    "ds_target = xr.Dataset(\n",
    "    {\n",
    "        \"lat\": ([\"lat\"], np.arange(-90, 90, 1.0), {\"units\": \"degrees_north\"}),\n",
    "        \"lon\": ([\"lon\"], np.arange(0, 360, 1.0), {\"units\": \"degrees_east\"}),\n",
    "    }\n",
    ") # you can try to modify the parameters above to e.g. just regrid onto a region or make the resolution coarser etc\n",
    "ds_target"
   ]
  },
  {
   "cell_type": "code",
   "execution_count": null,
   "metadata": {
    "colab": {
     "base_uri": "https://localhost:8080/"
    },
    "executionInfo": {
     "elapsed": 9588,
     "status": "ok",
     "timestamp": 1683912434512,
     "user": {
      "displayName": "Brodie Pearson",
      "userId": "05269028596972519847"
     },
     "user_tz": 420
    },
    "id": "V9aKo6VLGLKq",
    "outputId": "f99c8457-51c4-40fc-f4d1-8703aab34cb2",
    "tags": []
   },
   "outputs": [],
   "source": [
    "# define the regridder object (from our source dataarray to the target)\n",
    "regridder = xe.Regridder(sst_ssp585, ds_target, 'bilinear', periodic=True) # this takes some time to calculate a weight matrix for the regridding\n",
    "regridder"
   ]
  },
  {
   "cell_type": "code",
   "execution_count": null,
   "metadata": {
    "colab": {
     "base_uri": "https://localhost:8080/",
     "height": 429
    },
    "executionInfo": {
     "elapsed": 3184,
     "status": "ok",
     "timestamp": 1683912437684,
     "user": {
      "displayName": "Brodie Pearson",
      "userId": "05269028596972519847"
     },
     "user_tz": 420
    },
    "id": "0G_vfwbWGjCL",
    "outputId": "e79b55a8-5efc-4717-8247-55e54892d7f7",
    "tags": []
   },
   "outputs": [],
   "source": [
    "# now we can apply the regridder to our data\n",
    "sst_ssp585_regridded = regridder(sst_ssp585) # this is a lazy operation! \n",
    "  # so it does not slow us down significantly to apply it to the full data!\n",
    "  # we can work with this array just like before and the regridding will only be\n",
    "  # applied to the parts that we later load into memory or plot. \n",
    "sst_ssp585_regridded"
   ]
  },
  {
   "cell_type": "code",
   "execution_count": null,
   "metadata": {
    "colab": {
     "base_uri": "https://localhost:8080/",
     "height": 631
    },
    "executionInfo": {
     "elapsed": 191,
     "status": "ok",
     "timestamp": 1683912440448,
     "user": {
      "displayName": "Brodie Pearson",
      "userId": "05269028596972519847"
     },
     "user_tz": 420
    },
    "id": "MXTOOnlXHE9A",
    "outputId": "6664c08d-e4ee-489c-bf5a-217e6eb43ba7",
    "tags": []
   },
   "outputs": [],
   "source": [
    "# compare the shape to the original array\n",
    "sst_ssp585"
   ]
  },
  {
   "cell_type": "markdown",
   "metadata": {
    "id": "8CCZbGtuHVIS"
   },
   "source": [
    "# **Section 3: Mapping Projected Changes in SST**\n",
    "\n",
    "Let's use the code from above to plot a map of the model data on its original (*native*) grid, and a map of the model data after it is regridded."
   ]
  },
  {
   "cell_type": "code",
   "execution_count": null,
   "metadata": {
    "colab": {
     "base_uri": "https://localhost:8080/",
     "height": 318
    },
    "executionInfo": {
     "elapsed": 21337,
     "status": "ok",
     "timestamp": 1683912463177,
     "user": {
      "displayName": "Brodie Pearson",
      "userId": "05269028596972519847"
     },
     "user_tz": 420
    },
    "id": "Wd3jMIbKIDMT",
    "outputId": "9a571323-b04f-4e2a-a111-effe3215290b",
    "tags": []
   },
   "outputs": [],
   "source": [
    "\n",
    "fig, ([ax_regridded, ax_native]) = plt.subplots(\n",
    "    ncols=2,\n",
    "    figsize=[12,3],\n",
    "    subplot_kw={'projection':ccrs.Robinson()}\n",
    ")\n",
    "\n",
    "# Native grid data\n",
    "sst_future = sst_ssp585.sel(time='2100-07').squeeze()\n",
    "sst_future.plot(ax=ax_native, x='lon', y='lat', transform=ccrs.PlateCarree(), vmin=-10, vmax=30, cmap='magma', robust=True)\n",
    "ax_native.coastlines()\n",
    "ax_native.set_title('July 2100 Native Grid')\n",
    "\n",
    "# Regridded data\n",
    "sst_future_regridded = sst_ssp585_regridded.sel(time='2100-07').squeeze()\n",
    "sst_future_regridded.plot(ax=ax_regridded, x='lon', y='lat', transform=ccrs.PlateCarree(), vmin=-10, vmax=30, cmap='magma', robust=True)\n",
    "ax_regridded.coastlines()\n",
    "ax_regridded.set_title('July 2100 Regridded')\n",
    "\n"
   ]
  },
  {
   "cell_type": "markdown",
   "metadata": {
    "id": "9Bq-6L3PxRcV"
   },
   "source": [
    "## **Questions 1.3**\n",
    "\n",
    "1. Is this what you expected to see after regridding the data?"
   ]
  },
  {
   "cell_type": "code",
   "execution_count": null,
   "metadata": {
    "tags": []
   },
   "outputs": [],
   "source": [
    "# to_remove explanation\n",
    "\n",
    "\"\"\"\n",
    "1. They look pretty similar, which is what we expect from the regridding operation. It should not significantly change the underlying spatial information (i.e., the data), it should just adjust the locations at which that information is provided.\n",
    "\"\"\";"
   ]
  },
  {
   "cell_type": "markdown",
   "metadata": {
    "id": "O0JSkA9tjZrC"
   },
   "source": [
    "# **Summary**\n",
    "\n",
    "In Tutorial 1 you have: \n",
    "\n",
    "*   Loaded and manipulated data from various CMIP6 models and experiments\n",
    "*   Created maps of future projected changes in the Earth system using CMIP6 data\n",
    "*   Converted/regridded CMIP6 model data onto a desired grid. This is a critical processing step that allows us to directly compare data from different models and/or observations \n"
   ]
  }
 ],
 "metadata": {
  "colab": {
   "machine_shape": "hm",
   "provenance": [
    {
     "file_id": "1WfT8oN22xywtecNriLptqi1SuGUSoIlc",
     "timestamp": 1680298239014
    }
   ]
  },
  "gpuClass": "standard",
  "kernelspec": {
   "display_name": "Python 3 (ipykernel)",
   "language": "python",
   "name": "python3"
  },
  "language_info": {
   "codemirror_mode": {
    "name": "ipython",
    "version": 3
   },
   "file_extension": ".py",
   "mimetype": "text/x-python",
   "name": "python",
   "nbconvert_exporter": "python",
   "pygments_lexer": "ipython3",
   "version": "3.10.9"
  }
 },
 "nbformat": 4,
 "nbformat_minor": 4
}
