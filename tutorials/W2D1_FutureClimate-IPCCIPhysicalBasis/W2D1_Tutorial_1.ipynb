{
 "cells": [
  {
   "cell_type": "markdown",
   "metadata": {
    "id": "avjFjFXwWqyW"
   },
   "source": [
    "# **W2D1 Tutorial 1: Creating maps of CMIP6 Earth System Model projections**\n",
    "\n",
    "\n",
    "> Indented block\n",
    "\n",
    "> Indented block\n",
    "\n",
    "\n",
    "\n",
    "\n",
    "**Week 2, Day 1, Future Climate: The Physical Basis**\n",
    "\n",
    "**Content creators:** Brodie Pearson, Julius Busecke, Tom Nicholas\n",
    "\n",
    "**Content reviewers:** Younkap Nina Duplex, Zahra Khodakaramimaghsoud, Sloane Garelick, Peter Ohue, Jenna Pearson, Agustina Pesce, Derick Temfack, Peizhen Yang, Cheng Zhang, Chi Zhang, Ohad Zivan\n",
    "\n",
    "**Content editors:** Jenna Pearson, Ohad Zivan, Chi Zhang\n",
    "\n",
    "**Production editors:** Wesley Banfield, Jenna Pearson, Chi Zhang, Ohad Zivan\n",
    "\n",
    "**Our 2023 Sponsors:** NASA TOPS"
   ]
  },
  {
   "cell_type": "markdown",
   "metadata": {},
   "source": [
    "# **Tutorial Objectives**\n",
    "Earth System Models (ESMs) provide physically-based projections of how Earth's climate could change in the coming years, decades, and centuries at both global and local scales. In the following tutorial you will:\n",
    "\n",
    "- Revisit how to load ESM data from the CMIP6 experiments, and \n",
    "- Create maps showing projected future changes in sea surface temperature (SST)."
   ]
  },
  {
   "cell_type": "markdown",
   "metadata": {
    "id": "-uS_n9-3YJrZ"
   },
   "source": [
    "# **Setup**\n"
   ]
  },
  {
   "cell_type": "code",
   "execution_count": null,
   "metadata": {},
   "outputs": [],
   "source": [
    "# #Imports\n",
    "\n",
    "# !pip install condacolab &> /dev/null\n",
    "# import condacolab\n",
    "# condacolab.install()\n",
    "\n",
    "# # Install all packages in one call (+ use mamba instead of conda)\n",
    "# # hopefully this improves speed\n",
    "# !mamba install xarray-datatree intake-esm gcsfs xmip aiohttp cartopy nc-time-axis cf_xarray xarrayutils \"esmf<=8.3.1\" xesmf &> /dev/null\n",
    "# # For xesmf install we need to pin \"esmf<=8.3.1\". More context here: https://github.com/pangeo-data/xESMF/issues/246"
   ]
  },
  {
   "cell_type": "code",
   "execution_count": null,
   "metadata": {
    "colab": {
     "background_save": true
    },
    "executionInfo": {
     "elapsed": 2,
     "status": "ok",
     "timestamp": 1683928271799,
     "user": {
      "displayName": "Brodie Pearson",
      "userId": "05269028596972519847"
     },
     "user_tz": 420
    },
    "id": "m-vTWXVmM2NK",
    "outputId": "fe6fdbe3-0512-42ea-bdea-44bf72149a4c"
   },
   "outputs": [],
   "source": [
    "import time\n",
    "tic = time.time()\n",
    "\n",
    "import intake\n",
    "import numpy as np\n",
    "import matplotlib.pyplot as plt\n",
    "import xarray as xr\n",
    "import xesmf as xe\n",
    "\n",
    "from xmip.preprocessing import combined_preprocessing\n",
    "from xarrayutils.plotting import shaded_line_plot\n",
    "\n",
    "from datatree import DataTree\n",
    "from xmip.postprocessing import _parse_metric\n",
    "\n",
    "import cartopy.crs as ccrs"
   ]
  },
  {
   "cell_type": "code",
   "execution_count": null,
   "metadata": {
    "id": "U5EJSalqg_Nd"
   },
   "outputs": [],
   "source": [
    "# @title Figure settings\n",
    "import ipywidgets as widgets       # interactive display\n",
    "%config InlineBackend.figure_format = 'retina'\n",
    "plt.style.use(\"https://raw.githubusercontent.com/ClimateMatchAcademy/course-content/main/cma.mplstyle\")\n",
    "# model_colors = {k:f\"C{ki}\" for ki, k in enumerate(source_ids)}\n"
   ]
  },
  {
   "cell_type": "code",
   "execution_count": null,
   "metadata": {
    "id": "MEsIwODMhB5z"
   },
   "outputs": [],
   "source": [
    "# @title Plotting functions\n",
    "\n",
    "# You may have functions that plot results that aren't \n",
    "# particularly interesting. You can add these here to hide them. \n",
    "\n",
    "def plotting_z(z):\n",
    "  \"\"\"This function multiplies every element in an array by a provided value\n",
    "\n",
    "  Args:\n",
    "    z (ndarray): neural activity over time, shape (T, ) where T is number of timesteps\n",
    "  \n",
    "   \"\"\"\n",
    "\n",
    "  fig, ax = plt.subplots()\n",
    "\n",
    "  ax.plot(z)\n",
    "  ax.set(\n",
    "      xlabel='Time (s)',\n",
    "      ylabel='Z',\n",
    "      title='Neural activity over time'\n",
    "      )\n",
    "\n"
   ]
  },
  {
   "cell_type": "code",
   "execution_count": null,
   "metadata": {
    "cellView": "form",
    "id": "OaBXEW2BY5C-"
   },
   "outputs": [],
   "source": [
    "# @title Helper functions\n",
    "\n",
    "# If any helper functions you want to hide for clarity (that has been seen before\n",
    "# or is simple/uniformative), add here\n",
    "# If helper code depends on libraries that aren't used elsewhere,\n",
    "# import those libaries here, rather than in the main import cell\n"
   ]
  },
  {
   "cell_type": "code",
   "execution_count": null,
   "metadata": {
    "id": "qMeLfaYchgjZ"
   },
   "outputs": [],
   "source": [
    "# @title Video 1: Recap of Earth System Models\n",
    "#Tech team will add code to format and display the video"
   ]
  },
  {
   "cell_type": "markdown",
   "metadata": {
    "id": "x7UoFGkrhfvt"
   },
   "source": [
    "As a reminder, these ESMs simulate several systems (ocean, atmosphere, cryosphere, land) that are coupled to each other, and each system has its own variables, physics, and discretizations (grid & timestep).\n",
    "\n",
    "<img src=\"https://upload.wikimedia.org/wikipedia/commons/7/73/AtmosphericModelSchematic.png\" alt= “EarthSystemModel” width=\"420\" height=\"400\">\n",
    "\n",
    "Atmospheric Model Schematic (Credit: [Wikipedia](https://upload.wikimedia.org/wikipedia/commons/7/73/AtmosphericModelSchematic.png))"
   ]
  },
  {
   "cell_type": "markdown",
   "metadata": {
    "id": "W43m6TQBZrpe",
    "tags": []
   },
   "source": [
    "# **Section 1: Loading CMIP6 SST data with xarray**\n",
    "Let's repeat the CMIP6 loading method that we learned in Tutorial 6 on last week's Climate Modelling day (Day 5).\n",
    "\n",
    " **Although we will only work with monthly SST (ocean) data today, the methods introduced can easily be applied/extended to load and analyze other CMIP6 variables, including from other components of the Earth system.**\n",
    "\n",
    "As a reminder, the *facets* that have to be specified for CMIP6 are:\n",
    "1. **variable_id**: *tos* = sea surface temperature\n",
    "2. **source_id**: The CMIP6 model(s) that we want data from \n",
    "3. **table_id**: *Omon* (ocean monthly output)\n",
    "4. **grid_id**: *gn* = data on the model's *native* grid\n",
    "5. **experiment_id**: *historical*, *ssp126* and *ssp585*. We'll discuss these 3 experiments later today\n",
    "6. **member_id**: *r1i1p1f1* for now\n",
    "\n",
    "Now, let's repeat our CMIP6 loading method from the previous tutorial.\n",
    "\n",
    "*Note: we are going to load datasets from 5 different models (*source_ids*) which you will use throughout today, but in the first two tutorials you will only use one model, **TaiESM1**, which is developed on the basis of the Community Earth System Model version 1.2.2 by implementing several improvements in the parameterization schemes in the atmospheric component of CESM1.2.2.*\n"
   ]
  },
  {
   "cell_type": "markdown",
   "metadata": {
    "id": "N6Jo25dox9nP"
   },
   "source": [
    "**If the following cell crashes, run the cell a second time**"
   ]
  },
  {
   "cell_type": "code",
   "execution_count": null,
   "metadata": {
    "colab": {
     "base_uri": "https://localhost:8080/",
     "height": 91
    },
    "executionInfo": {
     "elapsed": 6561,
     "status": "ok",
     "timestamp": 1683910891406,
     "user": {
      "displayName": "Brodie Pearson",
      "userId": "05269028596972519847"
     },
     "user_tz": 420
    },
    "id": "bj8cN3IEDj2S",
    "outputId": "52ade942-0998-436f-badd-dc6ddee863e1"
   },
   "outputs": [],
   "source": [
    "# open an intake catalog containing the Pangeo CMIP cloud data\n",
    "col = intake.open_esm_datastore(\"https://storage.googleapis.com/cmip6/pangeo-cmip6.json\")\n",
    "\n",
    "# from the full `col` object, create a subset using facet search\n",
    "cat = col.search(\n",
    "    source_id='TaiESM1',\n",
    "    variable_id='tos',\n",
    "    member_id='r1i1p1f1',\n",
    "    table_id='Omon',\n",
    "    grid_label='gn',\n",
    "    experiment_id = 'ssp585',\n",
    "    require_all_on = ['source_id'] #make sure that we only get models which have all of the above experiments\n",
    ")\n",
    "\n",
    "# convert the sub-catalog into a datatree object, by opening each dataset into an xarray.Dataset (without loading the data)\n",
    "kwargs = dict(\n",
    "    preprocess=combined_preprocessing, #apply xMIP fixes to each dataset\n",
    "    xarray_open_kwargs=dict(use_cftime=True), #ensure all datasets use the same time index\n",
    "    storage_options={'token':'anon'} #anonymous/public authentication to google cloud storage\n",
    ")\n",
    "# hopefully we can implement https://github.com/intake/intake-esm/issues/562 before the \n",
    "# actual tutorial, so this would be a lot cleaner\n",
    "cat.esmcat.aggregation_control.groupby_attrs = ['source_id', 'experiment_id']\n",
    "dt = cat.to_datatree(**kwargs)"
   ]
  },
  {
   "cell_type": "markdown",
   "metadata": {
    "id": "niK2L4NjVyov"
   },
   "source": [
    "We now have a \"datatree\" containing the data we searched for. A datatree is a high-level container of xarray data, useful for organizing many related datasets together. You can think of a single `DataTree` object as being like a (nested) dictionary of `xarray.Dataset` objects. Each dataset in the tree is known as a \"node\" or \"group\", and we can also have empty nodes. You can explore the nodes of the tree and its contents interactively in a similar way to how you can explore the contents of an `xarray.Dataset`:"
   ]
  },
  {
   "cell_type": "code",
   "execution_count": null,
   "metadata": {
    "colab": {
     "base_uri": "https://localhost:8080/",
     "height": 186
    },
    "executionInfo": {
     "elapsed": 1011,
     "status": "ok",
     "timestamp": 1683910899038,
     "user": {
      "displayName": "Brodie Pearson",
      "userId": "05269028596972519847"
     },
     "user_tz": 420
    },
    "id": "qlXwzW2FVyBs",
    "outputId": "45d33bab-a70e-4d69-b362-10e3a8b4d4c3"
   },
   "outputs": [],
   "source": [
    "dt"
   ]
  },
  {
   "cell_type": "markdown",
   "metadata": {
    "id": "Iz900vkh3ua8"
   },
   "source": [
    "Now that we have the model datasets organized within thie datatree (`dt`) we can plot the datasets. Let's start by plotting a map of SST from one particular CMIP6 model (`TaiESM`) in July 2023. \n",
    "\n",
    "**Note that CMIP6 experiments were run several years ago, so the cut-off between *past* (observed forcing) and *future* (scenario-based/projected forcing) was at the start of 2015. This means that July 2023 is about 8 years into the CMIP6 *future* and is unlikely to look exactly like Earth's current SST state.*"
   ]
  },
  {
   "cell_type": "code",
   "execution_count": null,
   "metadata": {
    "colab": {
     "base_uri": "https://localhost:8080/",
     "height": 451
    },
    "executionInfo": {
     "elapsed": 11488,
     "status": "ok",
     "timestamp": 1683910911990,
     "user": {
      "displayName": "Brodie Pearson",
      "userId": "05269028596972519847"
     },
     "user_tz": 420
    },
    "id": "V8fx6BPl2uIx",
    "outputId": "af07b786-3c2e-4fdb-9457-74cb13f390a8"
   },
   "outputs": [],
   "source": [
    "%matplotlib inline\n",
    "\n",
    "# select just a single model (TaiESM1) and experiment (ssp585) to plot\n",
    "sst_ssp585 = dt['TaiESM1']['ssp585'].ds.tos\n",
    "\n",
    "fig, (ax_present) = plt.subplots(\n",
    "    ncols=1, nrows=1,\n",
    "    figsize=[8,4],\n",
    "    subplot_kw={'projection':ccrs.Robinson()}\n",
    ")\n",
    "\n",
    "# Select the model data for July 2023\n",
    "sst_present = sst_ssp585.sel(time='2023-07').squeeze()\n",
    "# Plot the model data\n",
    "sst_present.plot(ax=ax_present, x='lon', y='lat', transform=ccrs.PlateCarree(), vmin=-10, vmax=30, cmap='magma', robust=True)\n",
    "ax_present.coastlines()\n",
    "ax_present.set_title('July 2023')\n",
    "\n",
    "plt.show()"
   ]
  },
  {
   "cell_type": "markdown",
   "metadata": {
    "id": "9UbbKMMQbI0C"
   },
   "source": [
    "### **Coding Exercise 1.1: Mapping projected changes in SST**\n",
    "\n",
    "Now that we can plot maps of CMIP6 data, let's look at some projected future changes using this data!\n",
    "\n",
    "In this coding exercise your goals are to: \n",
    "1. Create a map of the projected sea surface temperature in July 2100 under a high-emissions scenario (we'll discuss scenarios in the next mini-lecture) using data from a single model (called *TaiESM1*).\n",
    "2. Create a map showing how this sea surface temperature projection is different from the current (July 2023) sea surface temperature in the same model\n",
    "3. Plot a similar map that shows how *January* 2100 is different from *January* 2023\n",
    "\n",
    "To get you started, we have provided code to load the required data set into a variable called *sst_ssp585*, and we have plotted the current (July 2023) sea surface temperature from this data set.\n",
    "\n",
    "**Note: these differences between two snapshots of SST are not the same as the* ***anomalies*** *that you encountered earlier in the course, which were the difference relative to the average during a reference period.*"
   ]
  },
  {
   "cell_type": "code",
   "execution_count": null,
   "metadata": {
    "colab": {
     "base_uri": "https://localhost:8080/",
     "height": 312
    },
    "executionInfo": {
     "elapsed": 163,
     "status": "error",
     "timestamp": 1683910918443,
     "user": {
      "displayName": "Brodie Pearson",
      "userId": "05269028596972519847"
     },
     "user_tz": 420
    },
    "id": "cZZS37rlurCl",
    "outputId": "7de301fe-2a2b-48a2-8073-88cb403be882"
   },
   "outputs": [],
   "source": [
    "%matplotlib inline\n",
    "\n",
    "#################################################\n",
    "## TODO for students: details of what they should do ##\n",
    "# Fill out function and remove\n",
    "raise NotImplementedError(\"Student exercise: Create a map of the projected sea surface temperature in July 2100 under a high-emissions scenario (ssp585) using data from the TaiESM1 model. Also create maps showing the difference between July 2100 and 2023, and another showing the difference for January of the same years.\")\n",
    "#################################################\n",
    "\n",
    "# select just a single model and experiment\n",
    "sst_ssp585 = dt['TaiESM1']['ssp585'].ds.tos\n",
    "\n",
    "fig, ([ax_present, ax_future], [ax_diff_july, ax_diff_jan]) = plt.subplots(\n",
    "    ncols=2, nrows=2,\n",
    "    figsize=[12,6],\n",
    "    subplot_kw={'projection':ccrs.Robinson()}\n",
    ")\n",
    "\n",
    "# plot a timestep for 2023\n",
    "sst_present = sst_ssp585.sel(time='2023-07').squeeze()\n",
    "sst_present.plot(ax=ax_present, x='lon', y='lat', transform=ccrs.PlateCarree(), vmin=-10, vmax=30, cmap='magma', robust=True)\n",
    "ax_present.coastlines()\n",
    "ax_present.set_title('July 2023')\n",
    "\n",
    "# Repeat for 2100\n",
    "# Complete the following line to extract data for July 2100\n",
    "sst_future = ...\n",
    "sst_future.plot(ax=ax_future, x='lon', y='lat', transform=ccrs.PlateCarree(), vmin=-10, vmax=30, cmap='magma', robust=True)\n",
    "ax_future.coastlines()\n",
    "ax_future.set_title('July 2100')\n",
    "\n",
    "# Now find the difference between July 2100 and July 2023\n",
    "# Complete the following line to extract the July difference\n",
    "sst_difference_july = ...\n",
    "sst_difference_july.plot(ax=ax_diff_july, x='lon', y='lat', transform=ccrs.PlateCarree(), vmin=-7.5, vmax=7.5, cmap='coolwarm')\n",
    "ax_diff_july.coastlines()\n",
    "ax_diff_july.set_title('2100 vs. 2023 Difference (July)')\n",
    "\n",
    "# Finally, find the difference between January of the two years used above\n",
    "# Complete the following line to extract the January difference\n",
    "sst_difference_jan = ...\n",
    "sst_difference_jan.plot(ax=ax_diff_jan, x='lon', y='lat', transform=ccrs.PlateCarree(), vmin=-7.5, vmax=7.5, cmap='coolwarm')\n",
    "ax_diff_jan.coastlines()\n",
    "ax_diff_jan.set_title('2100 vs. 2023 Difference (January)')\n",
    "\n",
    "plt.show()"
   ]
  },
  {
   "cell_type": "code",
   "execution_count": null,
   "metadata": {
    "colab": {
     "base_uri": "https://localhost:8080/",
     "height": 1000
    },
    "executionInfo": {
     "elapsed": 36973,
     "status": "ok",
     "timestamp": 1683910956791,
     "user": {
      "displayName": "Brodie Pearson",
      "userId": "05269028596972519847"
     },
     "user_tz": 420
    },
    "id": "6an6xf10rIDG",
    "outputId": "e58b9cd2-c4c1-4e36-98e0-6eac2ccee115"
   },
   "outputs": [],
   "source": [
    "# to_remove solution\n",
    "%matplotlib inline\n",
    "\n",
    "# select just a single model and experiment\n",
    "sst_ssp585 = dt['TaiESM1']['ssp585'].ds.tos\n",
    "\n",
    "with plt.xkcd():\n",
    "  fig, ([ax_present, ax_future], [ax_diff_july, ax_diff_jan]) = plt.subplots(\n",
    "      ncols=2, nrows=2,\n",
    "      figsize=[12,6],\n",
    "      subplot_kw={'projection':ccrs.Robinson()}\n",
    "  )\n",
    "\n",
    "  # plot a timestep for 2023\n",
    "  sst_present = sst_ssp585.sel(time='2023-07').squeeze()\n",
    "  sst_present.plot(ax=ax_present, x='lon', y='lat', transform=ccrs.PlateCarree(), vmin=-10, vmax=30, cmap='magma', robust=True)\n",
    "  ax_present.coastlines()\n",
    "  ax_present.set_title('July 2023')\n",
    "\n",
    "  # Repeat for 2100\n",
    "  # Complete the following line to extract data for July 2100\n",
    "  sst_future = sst_ssp585.sel(time='2100-07').squeeze()\n",
    "  sst_future.plot(ax=ax_future, x='lon', y='lat', transform=ccrs.PlateCarree(), vmin=-10, vmax=30, cmap='magma', robust=True)\n",
    "  ax_future.coastlines()\n",
    "  ax_future.set_title('July 2100')\n",
    "\n",
    "  # Now find the difference between July 2100 and July 2023\n",
    "  # Complete the following line to extract the July difference\n",
    "  sst_difference_july = sst_future - sst_present\n",
    "  sst_difference_july.plot(ax=ax_diff_july, x='lon', y='lat', transform=ccrs.PlateCarree(), vmin=-7.5, vmax=7.5, cmap='coolwarm')\n",
    "  ax_diff_july.coastlines()\n",
    "  ax_diff_july.set_title('2100 vs. 2023 Difference (July)')\n",
    "\n",
    "  # Finally, find the difference between January of the two years used above\n",
    "  # Complete the following line to extract the January difference\n",
    "  sst_difference_jan = sst_ssp585.sel(time='2100-01').squeeze() - sst_ssp585.sel(time='2023-01').squeeze()\n",
    "  sst_difference_jan.plot(ax=ax_diff_jan, x='lon', y='lat', transform=ccrs.PlateCarree(), vmin=-7.5, vmax=7.5, cmap='coolwarm')\n",
    "  ax_diff_jan.coastlines()\n",
    "  ax_diff_jan.set_title('2100 vs. 2023 Difference (January)')\n",
    "\n",
    "  plt.show()"
   ]
  },
  {
   "cell_type": "markdown",
   "metadata": {
    "id": "Nqc7P0tzJQF1",
    "tags": []
   },
   "source": [
    "## Questions 1.1\n",
    "\n",
    "1.   *Comparing only the top two panels*, how is the July SST projected to change in this particular model simulation? Do these changes agree with the map of July change that you plotted in the bottom left, and are these changes easier to see in this bottom map?\n",
    "2.   In what ways are the July and January maps similar or dissimilar, and can you think of any physical explanations for these (dis)similarities?\n",
    "3. Why do you think the color bar axes vary? (i.e., the top panels say \"*Sea Surface Temperature [$^oC$]*\" while the bottom panels say \"*tos*\")\n",
    "\n",
    "Many of the changes seen in the maps are a result of a changing climate under this high-emissions scenarios. But, keep in mind that these are differences between two months that are almost 80 years apart, so some of the changes are due to weather/synoptic differences between these particular months.\n"
   ]
  },
  {
   "cell_type": "code",
   "execution_count": null,
   "metadata": {
    "tags": []
   },
   "outputs": [],
   "source": [
    "# to_remove explanation\n",
    "\n",
    "\"\"\"\n",
    "1. Based on the top maps, it looks like the Equator and low latitudes warm significantly, and the higher latitudes also warm. The northern hemisphere warms more than the southern hemisphere. These changes agree qualitatively with the \"change map\" (bottom left), although the change map makes it clear that the Arctic surface waters are warming faster than the rest of the planet and that the warming is not spatially uniform anywhere (in fact parts of the North Atlantic cool slightly!). The warming in the low latitudes and Southern hemisphere is still significant, and shows interesting spatial patterns.\n",
    "2. There are various things you might notice. For example, the January maps show more warming in the Southern hemisphere than the July maps, consistent with the Southern hemisphere summer creating a warmer baseline and more potential for extreme heat. We also see warming in the Equatorial Pacific region for January, which was not present for July, which could be due different ENSO phases across the two months and the two years. A final example is that the North Atlantic shows even stronger cooling in January than in July, this is a common signal in many climate models. This cooling can result from melting ice sheets and glaciers creating colder, fresher surface water, which increases stratification. This can reduce the amount of deep convection in the North Atlantic region (by trapping fresh cold water at the surface),weakening the thermohaline circulation.\n",
    "3. The metadata of the CMIP6 dataset we are using in the first two plots contains a long-name for the variable and its units, which are automatically used for the axis labels. When we perform a mathematical operation (subtraction) on the dataset to create a new DataArray, the long-name metadata is not transferred to the new array to avoid confusion in case the operation creates a new variable (that could also have different units). This leads to the plot using the variable name (tos) for the x-axis instead of the long name.\n",
    "\"\"\""
   ]
  },
  {
   "cell_type": "markdown",
   "metadata": {
    "id": "BJlD6EY5FX6t"
   },
   "source": [
    "# **Section 2: Horizontal regridding**\n",
    "\n",
    "Many CMIP6 models use distinct spatial grids, we call this the model's *native grid*. \n",
    "\n",
    "You are likely familiar with the *regular latitude-longitude* grid where we separate the planet into boxes that have a fixed latitude and longitude span like this image we saw in the tutorial:\n",
    "\n",
    "<img src=\"https://upload.wikimedia.org/wikipedia/commons/4/4c/Azimutalprojektion-schief_kl-cropped.png\" alt= \"Lat_Lon_Grid\" width=\"250\" height=\"250\">\n",
    "\n",
    "Let's look at the grid used for the ocean component of the CMIP6 model, TaiESM1:\n"
   ]
  },
  {
   "cell_type": "code",
   "execution_count": null,
   "metadata": {
    "colab": {
     "base_uri": "https://localhost:8080/",
     "height": 610
    },
    "executionInfo": {
     "elapsed": 1822,
     "status": "ok",
     "timestamp": 1683910973589,
     "user": {
      "displayName": "Brodie Pearson",
      "userId": "05269028596972519847"
     },
     "user_tz": 420
    },
    "id": "W_v_YuhMGwqv",
    "outputId": "c7bd5a68-8eee-4fac-d510-da547abe56be"
   },
   "outputs": [],
   "source": [
    "# Create a scatter plot with a symbol at the center of each ocean grid cell in TaiESM1\n",
    "plt.scatter(x=sst_ssp585.lon, y=sst_ssp585.lat, s=0.1)\n",
    "plt.ylabel('Latitude')\n",
    "plt.xlabel('Longitude')\n",
    "plt.title('Grid cell locations in TaiESM1')"
   ]
  },
  {
   "cell_type": "markdown",
   "metadata": {
    "id": "ht4e8uQxG-i8"
   },
   "source": [
    "## Questions 1.2\n",
    "\n",
    "1. How would this plot look for a *regular latitude-longitude* grid like the globe image shown above and in the slides? In what ways is the TaiESM1 grid different from this regular grid?\n",
    "2. Can you think of a reason the Northern and Southern hemisphere ocean grids differ?*\n",
    "\n",
    "**Hint: from an oceanographic context, how are the North and South poles different from each other?*"
   ]
  },
  {
   "cell_type": "code",
   "execution_count": null,
   "metadata": {
    "tags": []
   },
   "outputs": [],
   "source": [
    "# to_remove explanation\n",
    "\n",
    "\"\"\"\n",
    "1. For a regular latitude-longitude grid the plot should consist of straight lines from top to bottom, and straight lines from left to right, that are evenly spaced in each of those directions. The grid of TaiESM1 looks like a regular latitude-longitude grid in the Southern hemisphere, but is quite different in the Northern hemisphere, with the grid cells getting small (converging) at a \"grid North pole\" which is actually placed at ~75 degrees North and 40 degrees West. a large part of this \"grid North pole\" doesn't contain any grid points (the white hole).\n",
    "2. On a regular latitude-longitude grid, the grid cells rapidly get very small as you approach the pole which causes numerical issues for ocean model. For example, the time step has to be reduced to physically capture the movement between the smallest cells, leading to many more computations required to evolve the model. This is not a problem for ocean models at the South Pole because the pole is on land! In the Northern hemisphere, it is common to move the \"grid North pole\" of ocean models to occur in a land region (e.g., Asian and/or North American continents), and sometimes there are poles in both these land masses!\n",
    "\"\"\""
   ]
  },
  {
   "cell_type": "markdown",
   "metadata": {
    "id": "qrRu7hr3FIB-"
   },
   "source": [
    "If you want to compare spatial maps from different models/observations, e.g. plot a map averaged over several models or the bias of this map relative to observations, you must first ensure the data from all the models (and observations) is on the same spatial grid. This is where regridding becomes essential!\n",
    "\n",
    "> Regridding is applied lazily, but it is still taking time to compute *when* it is applied. So if you want to compare for example the mean over time of several models it is often much quicker to compute the mean in time over the native grid and then regrid the result of that, instead of regridding each timestep and then calculating the mean!"
   ]
  },
  {
   "cell_type": "code",
   "execution_count": null,
   "metadata": {
    "colab": {
     "base_uri": "https://localhost:8080/",
     "height": 228
    },
    "executionInfo": {
     "elapsed": 190,
     "status": "ok",
     "timestamp": 1683912424678,
     "user": {
      "displayName": "Brodie Pearson",
      "userId": "05269028596972519847"
     },
     "user_tz": 420
    },
    "id": "61BRSkuDFbjX",
    "outputId": "ad6f40a6-5f9f-4334-ed00-59321d7f12ab"
   },
   "outputs": [],
   "source": [
    "# define a 'target' grid. This is simply a regular lon/lat grid that we will interpolate our data on\n",
    "ds_target = xr.Dataset(\n",
    "    {\n",
    "        \"lat\": ([\"lat\"], np.arange(-90, 90, 1.0), {\"units\": \"degrees_north\"}),\n",
    "        \"lon\": ([\"lon\"], np.arange(0, 360, 1.0), {\"units\": \"degrees_east\"}),\n",
    "    }\n",
    ") # you can try to modify the parameters above to e.g. just regrid onto a region or make the resolution coarser etc\n",
    "ds_target"
   ]
  },
  {
   "cell_type": "code",
   "execution_count": null,
   "metadata": {
    "colab": {
     "base_uri": "https://localhost:8080/"
    },
    "executionInfo": {
     "elapsed": 9588,
     "status": "ok",
     "timestamp": 1683912434512,
     "user": {
      "displayName": "Brodie Pearson",
      "userId": "05269028596972519847"
     },
     "user_tz": 420
    },
    "id": "V9aKo6VLGLKq",
    "outputId": "f99c8457-51c4-40fc-f4d1-8703aab34cb2"
   },
   "outputs": [],
   "source": [
    "# define the regridder object (from our source dataarray to the target)\n",
    "regridder = xe.Regridder(sst_ssp585, ds_target, 'bilinear', periodic=True) # this takes some time to calculate a weight matrix for the regridding\n",
    "regridder"
   ]
  },
  {
   "cell_type": "code",
   "execution_count": null,
   "metadata": {
    "colab": {
     "base_uri": "https://localhost:8080/",
     "height": 429
    },
    "executionInfo": {
     "elapsed": 3184,
     "status": "ok",
     "timestamp": 1683912437684,
     "user": {
      "displayName": "Brodie Pearson",
      "userId": "05269028596972519847"
     },
     "user_tz": 420
    },
    "id": "0G_vfwbWGjCL",
    "outputId": "e79b55a8-5efc-4717-8247-55e54892d7f7"
   },
   "outputs": [],
   "source": [
    "# now we can apply the regridder to our data\n",
    "sst_ssp585_regridded = regridder(sst_ssp585) # this is a lazy operation! \n",
    "  # So it does not slow us down significantly to apply it to the full data!\n",
    "  # we can work with this array just like before and the regridding will only be\n",
    "  # applied to the parts that we later load into memory or plot. \n",
    "sst_ssp585_regridded"
   ]
  },
  {
   "cell_type": "code",
   "execution_count": null,
   "metadata": {
    "colab": {
     "base_uri": "https://localhost:8080/",
     "height": 631
    },
    "executionInfo": {
     "elapsed": 191,
     "status": "ok",
     "timestamp": 1683912440448,
     "user": {
      "displayName": "Brodie Pearson",
      "userId": "05269028596972519847"
     },
     "user_tz": 420
    },
    "id": "MXTOOnlXHE9A",
    "outputId": "6664c08d-e4ee-489c-bf5a-217e6eb43ba7"
   },
   "outputs": [],
   "source": [
    "# compare the shape to the original array\n",
    "sst_ssp585"
   ]
  },
  {
   "cell_type": "markdown",
   "metadata": {
    "id": "8CCZbGtuHVIS"
   },
   "source": [
    "# **Section 3: Mapping projected changes in SST**\n",
    "\n",
    "Let's use the code from above to plot a map of the model data on its original (*native*) grid, and a map of the model data after it is regridded."
   ]
  },
  {
   "cell_type": "code",
   "execution_count": null,
   "metadata": {
    "colab": {
     "base_uri": "https://localhost:8080/",
     "height": 318
    },
    "executionInfo": {
     "elapsed": 21337,
     "status": "ok",
     "timestamp": 1683912463177,
     "user": {
      "displayName": "Brodie Pearson",
      "userId": "05269028596972519847"
     },
     "user_tz": 420
    },
    "id": "Wd3jMIbKIDMT",
    "outputId": "9a571323-b04f-4e2a-a111-effe3215290b"
   },
   "outputs": [],
   "source": [
    "\n",
    "fig, ([ax_regridded, ax_native]) = plt.subplots(\n",
    "    ncols=2,\n",
    "    figsize=[12,3],\n",
    "    subplot_kw={'projection':ccrs.Robinson()}\n",
    ")\n",
    "\n",
    "# Native grid data\n",
    "sst_future = sst_ssp585.sel(time='2100-07').squeeze()\n",
    "sst_future.plot(ax=ax_native, x='lon', y='lat', transform=ccrs.PlateCarree(), vmin=-10, vmax=30, cmap='magma', robust=True)\n",
    "ax_native.coastlines()\n",
    "ax_native.set_title('July 2100 Native Grid')\n",
    "\n",
    "# Regridded data\n",
    "sst_future_regridded = sst_ssp585_regridded.sel(time='2100-07').squeeze()\n",
    "sst_future_regridded.plot(ax=ax_regridded, x='lon', y='lat', transform=ccrs.PlateCarree(), vmin=-10, vmax=30, cmap='magma', robust=True)\n",
    "ax_regridded.coastlines()\n",
    "ax_regridded.set_title('July 2100 Regridded')\n",
    "\n"
   ]
  },
  {
   "cell_type": "markdown",
   "metadata": {
    "id": "9Bq-6L3PxRcV"
   },
   "source": [
    "## Questions 1.3\n",
    "\n",
    "1. Is this what you expected to see after regridding the data?"
   ]
  },
  {
   "cell_type": "code",
   "execution_count": null,
   "metadata": {
    "tags": []
   },
   "outputs": [],
   "source": [
    "# to_remove explanation\n",
    "\n",
    "\"\"\"\n",
    "1. They look pretty similar, which is what we expect from the regridding operation. It should not significantly change the underlying spatial information (i.e., the data), it should just adjust the locations at which that information is provided.\n",
    "\"\"\""
   ]
  },
  {
   "cell_type": "markdown",
   "metadata": {
    "id": "O0JSkA9tjZrC"
   },
   "source": [
    "# **Summary**\n",
    "\n",
    "In Tutorial 1 you have: \n",
    "\n",
    "*   Loaded and manipulated data from various CMIP6 models and experiments\n",
    "*   Created maps of future projected changes in the Earth system using CMIP6 data\n",
    "*   Converted/regridded CMIP6 model data onto a desired grid. This is a critical processing step that allows us to directly compare data from different models and/or observations \n"
   ]
  }
 ],
 "metadata": {
  "colab": {
   "machine_shape": "hm",
   "provenance": [
    {
     "file_id": "1WfT8oN22xywtecNriLptqi1SuGUSoIlc",
     "timestamp": 1680298239014
    }
   ]
  },
  "gpuClass": "standard",
  "kernelspec": {
   "display_name": "Python 3 (ipykernel)",
   "language": "python",
   "name": "python3"
  },
  "language_info": {
   "codemirror_mode": {
    "name": "ipython",
    "version": 3
   },
   "file_extension": ".py",
   "mimetype": "text/x-python",
   "name": "python",
   "nbconvert_exporter": "python",
   "pygments_lexer": "ipython3",
   "version": "3.10.11"
  }
 },
 "nbformat": 4,
 "nbformat_minor": 4
}
