{
 "cells": [
  {
   "cell_type": "markdown",
   "metadata": {
    "id": "avjFjFXwWqyW"
   },
   "source": [
    "# **Tutorial 3: Multi-model Ensembles**\n",
    "\n",
    "**Week 2, Day 1, Future Climate: The Physical Basis**\n",
    "\n",
    "**Content creators:** Brodie Pearson, Julius Busecke, Tom Nicholas\n",
    "\n",
    "**Content reviewers:** Younkap Nina Duplex, Zahra Khodakaramimaghsoud, Sloane Garelick, Peter Ohue, Jenna Pearson, Derick Temfack, Peizhen Yang, Cheng Zhang, Chi Zhang, Ohad Zivan\n",
    "\n",
    "**Content editors:** Jenna Pearson, Ohad Zivan, Chi Zhang\n",
    "\n",
    "**Production editors:** Wesley Banfield, Jenna Pearson, Chi Zhang, Ohad Zivan\n",
    "\n",
    "**Our 2023 Sponsors:** NASA TOPS"
   ]
  },
  {
   "cell_type": "markdown",
   "metadata": {},
   "source": [
    "# **Tutorial Objectives**\n",
    "In this tutorial, we will analyze datafrom five different CMIP6 models developed by various institutions around the world, focusing on their *historical* simulations and low-emission projections (*SSP1-2.6*). By the end of this tutorial, you will be able to \n",
    "- Load CMIP6 Sea Surface Temperature (SST) data from multiple models;\n",
    "- Calculate the SST anomalies, and recall the concept of temperature anomaly in relation to a base period"
   ]
  },
  {
   "cell_type": "markdown",
   "metadata": {
    "id": "-uS_n9-3YJrZ"
   },
   "source": [
    "# **Setup**\n",
    "\n",
    "    \n",
    "\n"
   ]
  },
  {
   "cell_type": "code",
   "execution_count": null,
   "metadata": {
    "colab": {
     "base_uri": "https://localhost:8080/"
    },
    "executionInfo": {
     "elapsed": 100078,
     "status": "ok",
     "timestamp": 1683926800928,
     "user": {
      "displayName": "Brodie Pearson",
      "userId": "05269028596972519847"
     },
     "user_tz": 420
    },
    "id": "9nDg6MeVY1CX",
    "outputId": "83277666-ef33-46be-9faf-f4a481aec66f",
    "tags": [
     "colab"
    ]
   },
   "outputs": [],
   "source": [
    "# !pip install condacolab &> /dev/null        \n",
    "# import condacolab\n",
    "# condacolab.install()\n",
    "\n",
    "# # Install all packages in one call (+ use mamba instead of conda), this must in one line or code will fail\n",
    "# !mamba install xarray-datatree intake-esm gcsfs xmip aiohttp nc-time-axis cf_xarray xarrayutils &> /dev/null"
   ]
  },
  {
   "cell_type": "code",
   "execution_count": null,
   "metadata": {
    "executionInfo": {
     "elapsed": 4018,
     "status": "ok",
     "timestamp": 1683926879380,
     "user": {
      "displayName": "Brodie Pearson",
      "userId": "05269028596972519847"
     },
     "user_tz": 420
    },
    "id": "m-vTWXVmM2NK",
    "tags": []
   },
   "outputs": [],
   "source": [
    "# imports\n",
    "import time\n",
    "tic = time.time()\n",
    "\n",
    "import intake\n",
    "import numpy as np\n",
    "import matplotlib.pyplot as plt\n",
    "import xarray as xr\n",
    "\n",
    "from xmip.preprocessing import combined_preprocessing\n",
    "from xarrayutils.plotting import shaded_line_plot\n",
    "\n",
    "from datatree import DataTree\n",
    "from xmip.postprocessing import _parse_metric\n"
   ]
  },
  {
   "cell_type": "code",
   "execution_count": null,
   "metadata": {
    "id": "U5EJSalqg_Nd",
    "tags": []
   },
   "outputs": [],
   "source": [
    "# @title Figure settings\n",
    "import ipywidgets as widgets       # interactive display\n",
    "%config InlineBackend.figure_format = 'retina'\n",
    "plt.style.use(\"https://raw.githubusercontent.com/ClimateMatchAcademy/course-content/main/cma.mplstyle\")\n",
    "# model_colors = {k:f\"C{ki}\" for ki, k in enumerate(source_ids)}\n",
    "%matplotlib inline\n"
   ]
  },
  {
   "cell_type": "code",
   "execution_count": null,
   "metadata": {
    "id": "OaBXEW2BY5C-",
    "tags": []
   },
   "outputs": [],
   "source": [
    "# @title Helper functions\n",
    "\n",
    "def global_mean(ds:xr.Dataset) -> xr.Dataset:\n",
    "    \"\"\"Global average, weighted by the cell area\"\"\"\n",
    "    return ds.weighted(ds.areacello.fillna(0)).mean(['x', 'y'], keep_attrs=True) \n"
   ]
  },
  {
   "cell_type": "code",
   "execution_count": null,
   "metadata": {
    "id": "qMeLfaYchgjZ",
    "tags": []
   },
   "outputs": [],
   "source": [
    "# @title Video 3: Why so many Earth System Models? \n",
    "#Tech team will add code to format and display the video"
   ]
  },
  {
   "cell_type": "markdown",
   "metadata": {
    "id": "W43m6TQBZrpe"
   },
   "source": [
    "# **Section 1: Load CMIP6 SST Data from Five Models and Three Experiments**\n",
    "In the previous section, you compared how a single CMIP6 model (*TaiESM1*) simulated past temperature, and how it projected temperature would change under a low-emissions scenario and a high-emissions scenario (*historical*, *SSP1-2.6* and *SSP5-8.5* experiments respectively). \n",
    "\n",
    "Now we will start to analyze a **multi-model ensemble** that consists of data from multiple CMIP6 models. For now, we will focus on just the historical simulation and the low-emissions projection.\n",
    "\n",
    "Your multi-model ensemble will consist of:\n",
    "\n",
    "*  **Five** different CMIP6 models developed by institutions from a variety of countries: \n",
    "  * *TaiESM1* (Research Center for Environmental Changes, Taiwan),\n",
    "  * *IPSL-CM6A-LR* (Institut Pierre Simon Laplace, France),\n",
    "  * *GFDL-ESM4* (NOAA Geophysical Fluid Dynamics Laboratory, USA), \n",
    "  * *ACCESS-CM2* (CSIRO and ARCCSS, Australia), and \n",
    "  * *MPI-ESM1-2-LR* (Max Planck Institute, Germany). \n",
    "\n",
    "Note that these are only a subset of the dozens of models, institutes, countries, and experiments that contribute to CMIP6, as discussed in the previous W2D1 Tutorial 2 video. Some of the abbreviations in the model names refer to institutes (*MPI/GFDL*), while some refer to the complexity and version of the model (e.g., Earth System or Climate Model [*ESM/CM*] and low- or high-resolution [*LR/HR*]). There are often several models from a single institute with each having a distinct level of complexity."
   ]
  },
  {
   "cell_type": "code",
   "execution_count": null,
   "metadata": {
    "id": "uc0uqByyEBIn",
    "tags": []
   },
   "outputs": [],
   "source": [
    "col = intake.open_esm_datastore(\"https://storage.googleapis.com/cmip6/pangeo-cmip6.json\") # open an intake catalog containing the Pangeo CMIP cloud data\n",
    "\n",
    "# pick our five models and three experiments\n",
    "# there are many more to test out! Try executing `col.df['source_id'].unique()` to get a list of all available models\n",
    "source_ids = ['IPSL-CM6A-LR', 'GFDL-ESM4', 'ACCESS-CM2', 'MPI-ESM1-2-LR', 'TaiESM1']\n",
    "experiment_ids = ['historical', 'ssp126', 'ssp585']"
   ]
  },
  {
   "cell_type": "code",
   "execution_count": null,
   "metadata": {
    "colab": {
     "base_uri": "https://localhost:8080/",
     "height": 92
    },
    "executionInfo": {
     "elapsed": 11206,
     "status": "ok",
     "timestamp": 1683162582065,
     "user": {
      "displayName": "Sloane Garelick",
      "userId": "04706287370408131987"
     },
     "user_tz": 240
    },
    "id": "bj8cN3IEDj2S",
    "outputId": "20188fac-2e83-46bb-84b2-5f2738290d8f",
    "tags": []
   },
   "outputs": [],
   "source": [
    "# from the full `col` object, create a subset using facet search\n",
    "cat = col.search(\n",
    "    source_id=source_ids,\n",
    "    variable_id='tos',\n",
    "    member_id='r1i1p1f1',\n",
    "    table_id='Omon',\n",
    "    grid_label='gn',\n",
    "    experiment_id = experiment_ids,\n",
    "    require_all_on = ['source_id'] #make sure that we only get models which have all of the above experiments\n",
    ")\n",
    "\n",
    "# convert the sub-catalog into a datatree object, by opening each dataset into an xarray.Dataset (without loading the data)\n",
    "kwargs = dict(\n",
    "    preprocess=combined_preprocessing, #apply xMIP fixes to each dataset\n",
    "    xarray_open_kwargs=dict(use_cftime=True), #ensure all datasets use the same time index\n",
    "    storage_options={'token':'anon'} #anonymous/public authentication to google cloud storage\n",
    ")\n",
    "\n",
    "cat.esmcat.aggregation_control.groupby_attrs = ['source_id', 'experiment_id']\n",
    "dt = cat.to_datatree(**kwargs)"
   ]
  },
  {
   "cell_type": "code",
   "execution_count": null,
   "metadata": {
    "colab": {
     "base_uri": "https://localhost:8080/",
     "height": 92
    },
    "executionInfo": {
     "elapsed": 4341,
     "status": "ok",
     "timestamp": 1683162592002,
     "user": {
      "displayName": "Sloane Garelick",
      "userId": "04706287370408131987"
     },
     "user_tz": 240
    },
    "id": "1_SCWnD0DqGN",
    "outputId": "20244a2d-4217-42ab-fdb9-bf7bad418f9f",
    "tags": []
   },
   "outputs": [],
   "source": [
    "cat_area = col.search(\n",
    "    source_id=source_ids,\n",
    "    variable_id='areacello', # for the coding exercise, ellipses will go after the equals on this line\n",
    "    member_id='r1i1p1f1',\n",
    "    table_id='Ofx', # for the coding exercise, ellipses will go after the equals on this line\n",
    "    grid_label='gn',\n",
    "    experiment_id = ['historical'], # for the coding exercise, ellipses will go after the equals on this line\n",
    "    require_all_on = ['source_id']\n",
    ")\n",
    "\n",
    "cat_area.esmcat.aggregation_control.groupby_attrs = ['source_id', 'experiment_id']\n",
    "dt_area = cat_area.to_datatree(**kwargs)\n",
    "\n",
    "dt_with_area = DataTree()\n",
    "\n",
    "for model,subtree in dt.items():\n",
    "    metric = dt_area[model]['historical'].ds['areacello']\n",
    "    dt_with_area[model] = subtree.map_over_subtree(_parse_metric,metric)"
   ]
  },
  {
   "cell_type": "markdown",
   "metadata": {
    "id": "GlnGKoa95fkz"
   },
   "source": [
    "Let's first reproduce the previous tutorial's timeseries of Global Mean SST from *TaiESM1* through the historical experiment and two future emissions scenarios"
   ]
  },
  {
   "cell_type": "code",
   "execution_count": null,
   "metadata": {
    "colab": {
     "base_uri": "https://localhost:8080/",
     "height": 592
    },
    "executionInfo": {
     "elapsed": 23501,
     "status": "ok",
     "timestamp": 1683162622054,
     "user": {
      "displayName": "Sloane Garelick",
      "userId": "04706287370408131987"
     },
     "user_tz": 240
    },
    "id": "vY-CX2O9F0kc",
    "outputId": "14d172e3-f70a-4ad9-ebb5-25af75c0de2d",
    "tags": []
   },
   "outputs": [],
   "source": [
    "# average every dataset in the tree globally\n",
    "dt_gm = dt_with_area.map_over_subtree(global_mean)\n",
    "\n",
    "for experiment in ['historical', 'ssp126', 'ssp585']:\n",
    "    da = dt_gm['TaiESM1'][experiment].ds.tos\n",
    "    da.plot(label=experiment)\n",
    "plt.title('Global Mean SST from TaiESM1')\n",
    "plt.ylabel('Global Mean SST [$^\\circ$C]')\n",
    "plt.xlabel('Year')\n",
    "plt.legend()\n"
   ]
  },
  {
   "cell_type": "markdown",
   "metadata": {
    "id": "xrhRxvgJ2XoK"
   },
   "source": [
    "### **Coding Exercise 1.1: Combine Past Data and Future Data, and Remove Seasonal Oscillations, and plot all 5 of the CMIP6 models we just loaded**\n",
    "\n",
    "* The historical and projected data are separate time series. Complete the `xr.concat` function to combine the historical and projected data into a single continuous time series for each model.\n",
    "* The previous timeseries oscillated very rapidly due to Earth's seasonal cycles. Finish the `xarray` `resample` function so that it smooths the monthly data with a one-year running mean. This will make it easier to distinguish the long-term changes in sea surface temperature.\n",
    "* Note: this code is already set up to use all 5 of the CMIP6 models you just loaded, as it loops through and plots each model in the DataTree [`dt.keys()`]"
   ]
  },
  {
   "cell_type": "code",
   "execution_count": null,
   "metadata": {
    "colab": {
     "base_uri": "https://localhost:8080/",
     "height": 253
    },
    "executionInfo": {
     "elapsed": 169,
     "status": "error",
     "timestamp": 1682723761601,
     "user": {
      "displayName": "Brodie Pearson",
      "userId": "05269028596972519847"
     },
     "user_tz": 420
    },
    "id": "FiOvNRp-7wnE",
    "outputId": "86a1d1ef-f102-4d20-fec6-0e38a3af71ce",
    "tags": []
   },
   "outputs": [],
   "source": [
    "#################################################\n",
    "# Students: Fill in missing code (...) and comment or remove the next line\n",
    "raise NotImplementedError(\"Student exercise: Combine historical & future (ssp126) data from the same model and smooth with a 1-year running mean\")\n",
    "#################################################\n",
    "\n",
    "def plot_historical_ssp126_combined(dt):\n",
    "    for model in dt.keys():\n",
    "        datasets = []\n",
    "        for experiment in ['historical', 'ssp126']:\n",
    "            datasets.append(dt[model][experiment].ds.tos)\n",
    "\n",
    "        # for each of the models, concatenate its historical and future data\n",
    "        da_combined = xr.concat(...)\n",
    "        # plot annual averages\n",
    "        da_combined.coarsen(...).mean().plot(label=model) \n",
    "    \n",
    "plot_historical_ssp126_combined(dt_gm)\n",
    "\n",
    "plt.title('Global Mean SST from five CMIP6 models (annually smoothed)')\n",
    "plt.ylabel('Global Mean SST [$^\\circ$C]')\n",
    "plt.xlabel('Year')\n",
    "plt.legend()"
   ]
  },
  {
   "cell_type": "code",
   "execution_count": null,
   "metadata": {
    "colab": {
     "base_uri": "https://localhost:8080/",
     "height": 1000
    },
    "executionInfo": {
     "elapsed": 81780,
     "status": "ok",
     "timestamp": 1683162775542,
     "user": {
      "displayName": "Sloane Garelick",
      "userId": "04706287370408131987"
     },
     "user_tz": 240
    },
    "id": "mZOA2b1AGA6T",
    "outputId": "2c6f18ca-f609-4426-a2c1-8c6db832757c",
    "tags": []
   },
   "outputs": [],
   "source": [
    "# to_remove solution\n",
    "\n",
    "def plot_historical_ssp126_combined(dt):\n",
    "    for model in dt.keys():\n",
    "        datasets = []\n",
    "        for experiment in ['historical', 'ssp126']:\n",
    "            datasets.append(dt[model][experiment].tos)\n",
    "\n",
    "        # for each of the models, concatenate its historical and future data\n",
    "        da_combined = xr.concat(datasets, dim='time')\n",
    "        # plot annual averages\n",
    "        da_combined.ds.coarsen(time=12).mean().plot(label=model) \n",
    "\n",
    "plot_historical_ssp126_combined(dt_gm)\n",
    "\n",
    "plt.title('Global Mean SST from five CMIP6 models (annually smoothed)')\n",
    "plt.ylabel('Global Mean SST [$^\\circ$C]')\n",
    "plt.xlabel('Year')\n",
    "plt.legend() "
   ]
  },
  {
   "cell_type": "markdown",
   "metadata": {
    "id": "MhGBQUpBGFCv"
   },
   "source": [
    "### **Question 1.1**\n",
    "\n",
    "1.   Why do you think the global mean temperature varies so much between models?* \n",
    "\n",
    "**If you get stuck here, reflect on the videos from earlier today and the tutorials/videos from the Climate Modelling day for inspiration.*"
   ]
  },
  {
   "cell_type": "code",
   "execution_count": null,
   "metadata": {
    "tags": []
   },
   "outputs": [],
   "source": [
    "# to_remove explanation\n",
    "\n",
    "\"\"\"\n",
    "1. Each of these models has slightly different physics, numerics, and discretization. During the Cliamte Modeling, day you showed that Earth's theoretical equilibrium temperature under fixed insolation changes as more details/complexity of the real Earth system are included. Similarly, the small differences between models result in each model having a slightly different equilibrium temperature for a given insolation, which also manifests in these long-term these simulations.\n",
    "\"\"\";"
   ]
  },
  {
   "cell_type": "markdown",
   "metadata": {
    "id": "GKZRdknl2Uvf"
   },
   "source": [
    "### **Coding Exercise 1.2**\n",
    "\n",
    "As you just saw, the global mean SST varies between climate models. This is not surprising given the slight differences in physics, numerics, and discretization between each model.\n",
    "\n",
    "When we are looking at future projections, we care about how the model's *change* relative to their equilibrium/previous state. To do this, we typically subtract a historical reference period from the timeseries, which creates a new timeseries which we call the temperature *anomaly* relative to that period. **Recall that you already calculated and used *anomalies* earlier in the course (e.g., on W1D1).**\n",
    "\n",
    "**Modify the following code to recreate the previous multi-model figure, but now instead plot the global mean sea surface temperature (GMSST) *anomaly* relative the 1950-1980 base period (i.e., subtract the 1950-1980 mean GMSST of each model from that model's timeseries)**\n",
    "\n",
    "*Hint: you will need to use `ds.sel` to select data during the base period ([see here](https://docs.xarray.dev/en/stable/user-guide/indexing.html#indexing-with-dimension-names) under \"Indexing with dimension names\" for a helpful example) along with the averaging operator, `mean()`.*"
   ]
  },
  {
   "cell_type": "code",
   "execution_count": null,
   "metadata": {
    "colab": {
     "base_uri": "https://localhost:8080/",
     "height": 270
    },
    "executionInfo": {
     "elapsed": 130,
     "status": "error",
     "timestamp": 1682723868376,
     "user": {
      "displayName": "Brodie Pearson",
      "userId": "05269028596972519847"
     },
     "user_tz": 420
    },
    "id": "rucglb0997Tp",
    "outputId": "a938e9fc-da29-48c1-f497-482d2de68217"
   },
   "outputs": [],
   "source": [
    "#################################################\n",
    "# Students: Fill in missing code (...) and comment or remove the next line\n",
    "raise NotImplementedError(\"Student exercise: Adapt the previous figure to plot the anomaly of global mean sea surface temperature relative to the 1950-1980 period\")\n",
    "#################################################\n",
    "\n",
    "# calculate anomaly to reference period\n",
    "def datatree_anomaly(dt):\n",
    "    dt_out = DataTree()\n",
    "    for model, subtree in dt.items():\n",
    "        # find the temporal average over the desired reference period\n",
    "        ref = ...\n",
    "        dt_out[model] = subtree - ref\n",
    "    return dt_out\n",
    "\n",
    "dt_gm_anomaly = datatree_anomaly(dt_gm)\n",
    "\n",
    "plot_historical_ssp126_combined(dt_gm_anomaly)\n",
    "\n",
    "plt.title('Global Mean SST Anomaly from five CMIP6 models (base period: 1950 to 1980)')\n",
    "plt.ylabel('Global Mean SST Anomaly [$^\\circ$C]')\n",
    "plt.xlabel('Year')\n",
    "plt.legend()"
   ]
  },
  {
   "cell_type": "code",
   "execution_count": null,
   "metadata": {
    "colab": {
     "base_uri": "https://localhost:8080/",
     "height": 1000
    },
    "executionInfo": {
     "elapsed": 72588,
     "status": "ok",
     "timestamp": 1683163084117,
     "user": {
      "displayName": "Sloane Garelick",
      "userId": "04706287370408131987"
     },
     "user_tz": 240
    },
    "id": "7QEcpSjdGKjX",
    "outputId": "65e4ef44-728c-496c-a169-4b192d33c24e",
    "tags": []
   },
   "outputs": [],
   "source": [
    "# to_remove solution\n",
    "\n",
    "# calculate anomaly to reference period\n",
    "def datatree_anomaly(dt):\n",
    "    dt_out = DataTree()\n",
    "    for model, subtree in dt.items():\n",
    "        # find the temporal average over the desired reference period\n",
    "        ref = dt[model]['historical'].ds.sel(time=slice('1950', '1980')).mean() \n",
    "        dt_out[model] = subtree - ref\n",
    "    return dt_out\n",
    "\n",
    "dt_gm_anomaly = datatree_anomaly(dt_gm)\n",
    "\n",
    "plot_historical_ssp126_combined(dt_gm_anomaly)\n",
    "\n",
    "plt.title('Global Mean SST Anomaly from five CMIP6 models (base period: 1950 to 1980)')\n",
    "plt.ylabel('Global Mean SST Anomaly [$^\\circ$C]')\n",
    "plt.xlabel('Year')\n",
    "plt.legend()"
   ]
  },
  {
   "cell_type": "markdown",
   "metadata": {
    "id": "UYSuNDHE5qRr"
   },
   "source": [
    "### **Questions 1.2: Climate Connection**\n",
    "\n",
    "1.  How does this figure compare to the previous one where the reference period was not subtracted?\n",
    "2.  This figure uses the reference period of 1950-1980 for its anomaly calculation. How does the variability across models 100 years before the base period (1850) compare to the variability 100 years after the base period (2080)? Why do you think this is?\n"
   ]
  },
  {
   "cell_type": "code",
   "execution_count": null,
   "metadata": {
    "tags": []
   },
   "outputs": [],
   "source": [
    "# to_remove explanation\n",
    "\n",
    "\"\"\"\n",
    "1. The models agree much better across this time period, particularly in the reference period and during the rapid warming phase projected in the near future.\n",
    "2. There is variability at both ends of the scale, but the future (2080) period has more inter-model variability than the past (1850) period. This is likely because each of these models has a simulates a unique climate system, as we found in the last question, which leads to different responses to the rapid  changes in effective radiative forcing that are projected in the near future. \n",
    "\"\"\";"
   ]
  },
  {
   "cell_type": "markdown",
   "metadata": {
    "id": "O0JSkA9tjZrC"
   },
   "source": [
    "# **Summary**\n",
    "\n",
    "In this tutorial, we expanded on the previous examination of a single CMIP6 model (*TaiESM1*), to instead work with multi-model ensemble comprising five different CMIP6 models (*TaiESM1*, *IPSL-CM6A-LR*, *GFDL-ESM4*, *ACCESS-CM2*, and *MPI-ESM1-2-LR*) developed by institutions around the world. We demonstrated the importance of anomalizing each of these models relative to a base period when calculating changes in the simulated Earth system. If variables are not anomalized, these absolute values can differ significantly between models due to the diversity of models (i.e., their distinct physics, numerics and discretization)."
   ]
  },
  {
   "cell_type": "markdown",
   "metadata": {},
   "source": [
    "# **Resources**\n",
    "\n",
    "Data for this tutorial can be accessed [here](https://gallery.pangeo.io/repos/pangeo-gallery/cmip6/index.html)."
   ]
  }
 ],
 "metadata": {
  "colab": {
   "machine_shape": "hm",
   "provenance": [
    {
     "file_id": "1WfT8oN22xywtecNriLptqi1SuGUSoIlc",
     "timestamp": 1680298239014
    }
   ]
  },
  "gpuClass": "standard",
  "kernelspec": {
   "display_name": "Python 3 (ipykernel)",
   "language": "python",
   "name": "python3"
  },
  "language_info": {
   "codemirror_mode": {
    "name": "ipython",
    "version": 3
   },
   "file_extension": ".py",
   "mimetype": "text/x-python",
   "name": "python",
   "nbconvert_exporter": "python",
   "pygments_lexer": "ipython3",
   "version": "3.10.8"
  }
 },
 "nbformat": 4,
 "nbformat_minor": 4
}
