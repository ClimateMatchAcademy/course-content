{
 "cells": [
  {
   "cell_type": "markdown",
   "metadata": {
    "id": "avjFjFXwWqyW"
   },
   "source": [
    "# **Tutorial 5: Internal Climate Variability**\n",
    "\n",
    "**Week 2, Day 1, Future Climate: The Physical Basis**\n",
    "\n",
    "**Content creators:** Brodie Pearson, Julius Busecke, Tom Nicholas\n",
    "\n",
    "**Content reviewers:** Younkap Nina Duplex, Zahra Khodakaramimaghsoud, Sloane Garelick, Peter Ohue, Jenna Pearson, Derick Temfack, Peizhen Yang, Cheng Zhang, Chi Zhang, Ohad Zivan\n",
    "\n",
    "**Content editors:** Jenna Pearson, Ohad Zivan, Chi Zhang\n",
    "\n",
    "**Production editors:** Wesley Banfield, Jenna Pearson, Chi Zhang, Ohad Zivan\n",
    "\n",
    "**Our 2023 Sponsors:** NASA TOPS\n"
   ]
  },
  {
   "cell_type": "markdown",
   "metadata": {
    "id": "DZbqRlQKXhnc"
   },
   "source": [
    "# **Tutorial Objectives**\n",
    "In this tutorial, we will learn about the concept of internal climate variability, how it influences the predictability of climate phenomena and how it contributes to uncertainty in climate models. We will work with a single-model ensemble, which utilizes the MPI-ESM1-2-LR model from CMIP6, to isolate and quantify internal climate variability. \n",
    "\n",
    "By the end of this tutorial, you would be able to:\n",
    "- Understand the importance of internal climate variability and its role in climate prediction and model uncertainty.\n",
    "- Create a single-model ensemble data with IPCC uncertainty bands, providing a visual representation of model uncertainty.\n",
    "- Compare the uncertainty due to internal variability to the uncertainty from multi-model ensembles (which include internal variability *and* the impacts of human/coding choices)."
   ]
  },
  {
   "cell_type": "markdown",
   "metadata": {
    "id": "-uS_n9-3YJrZ"
   },
   "source": [
    "# **Setup**\n",
    "\n",
    "    \n",
    "\n"
   ]
  },
  {
   "cell_type": "code",
   "execution_count": 1,
   "metadata": {
    "colab": {
     "base_uri": "https://localhost:8080/"
    },
    "executionInfo": {
     "elapsed": 93464,
     "status": "ok",
     "timestamp": 1683413540687,
     "user": {
      "displayName": "Sloane Garelick",
      "userId": "04706287370408131987"
     },
     "user_tz": 240
    },
    "id": "9nDg6MeVY1CX",
    "outputId": "b42ec039-d2ac-49c8-952e-171678aae238",
    "tags": [
     "colab"
    ]
   },
   "outputs": [],
   "source": [
    "# !pip install condacolab &> /dev/null        \n",
    "# import condacolab\n",
    "# condacolab.install()\n",
    "\n",
    "# # Install all packages in one call (+ use mamba instead of conda), this must in one line or code will fail\n",
    "# !mamba install xarray-datatree intake-esm gcsfs xmip aiohttp nc-time-axis cf_xarray xarrayutils &> /dev/null"
   ]
  },
  {
   "cell_type": "code",
   "execution_count": 2,
   "metadata": {
    "id": "m-vTWXVmM2NK",
    "tags": []
   },
   "outputs": [],
   "source": [
    "# imports\n",
    "import time\n",
    "tic = time.time()\n",
    "\n",
    "import intake\n",
    "import numpy as np\n",
    "import matplotlib.pyplot as plt\n",
    "import xarray as xr\n",
    "\n",
    "from xmip.preprocessing import combined_preprocessing\n",
    "from xarrayutils.plotting import shaded_line_plot\n",
    "\n",
    "from datatree import DataTree\n",
    "from xmip.postprocessing import _parse_metric\n"
   ]
  },
  {
   "cell_type": "code",
   "execution_count": 3,
   "metadata": {
    "cellView": "form",
    "id": "U5EJSalqg_Nd",
    "tags": []
   },
   "outputs": [],
   "source": [
    "# @title Figure settings\n",
    "import ipywidgets as widgets       # interactive display\n",
    "%config InlineBackend.figure_format = 'retina'\n",
    "plt.style.use(\"https://raw.githubusercontent.com/ClimateMatchAcademy/course-content/main/cma.mplstyle\")\n",
    "# model_colors = {k:f\"C{ki}\" for ki, k in enumerate(source_ids)}\n",
    "%matplotlib inline\n"
   ]
  },
  {
   "cell_type": "code",
   "execution_count": 5,
   "metadata": {
    "id": "OaBXEW2BY5C-",
    "tags": []
   },
   "outputs": [],
   "source": [
    "# @title Helper functions\n",
    "\n",
    "# If any helper functions you want to hide for clarity (that has been seen before\n",
    "# or is simple/uniformative), add here\n",
    "# If helper code depends on libraries that aren't used elsewhere,\n",
    "# import those libaries here, rather than in the main import cell\n",
    "\n",
    "def global_mean(ds:xr.Dataset) -> xr.Dataset:\n",
    "    \"\"\"Global average, weighted by the cell area\"\"\"\n",
    "    return ds.weighted(ds.areacello.fillna(0)).mean(['x', 'y'], keep_attrs=True) \n",
    "\n",
    "# Calculate anomaly to reference period\n",
    "def datatree_anomaly(dt):\n",
    "    dt_out = DataTree()\n",
    "    for model, subtree in dt.items():\n",
    "        # for the coding exercise, ellipses will go after sel on the following line\n",
    "        ref = dt[model]['historical'].ds.sel(time=slice('1950', '1980')).mean() \n",
    "        dt_out[model] = subtree - ref\n",
    "    return dt_out\n",
    "\n",
    "\n",
    "def plot_historical_ssp126_combined(dt):\n",
    "    for model in dt.keys():\n",
    "        datasets = []\n",
    "        for experiment in ['historical', 'ssp126']:\n",
    "            datasets.append(dt[model][experiment].ds.tos)\n",
    "\n",
    "        da_combined = xr.concat(datasets, dim='time')"
   ]
  },
  {
   "cell_type": "code",
   "execution_count": 6,
   "metadata": {
    "id": "qMeLfaYchgjZ",
    "tags": []
   },
   "outputs": [],
   "source": [
    "# @title Video 5: Internal Climate Variability \n",
    "#Tech team will add code to format and display the video"
   ]
  },
  {
   "cell_type": "markdown",
   "metadata": {
    "id": "E0wlI4k0GYDP"
   },
   "source": [
    "# **Section 1: Internal Climate Variability & Single-model Ensembles**\n",
    "\n",
    "One of the CMIP6 models we are using in today's tutorials, *MPI-ESM1-2-LR* is part of single-model ensemble, where its modelling center carried out multiple simulations of the model for many CMIP6 experiments.\n",
    "\n",
    "Let's take advantage of this single-model ensemble to quantify the internal variability of this model's simulated climate, and compare the uncertainty due to this variability to the multi-model uncertainty we diagnosed in the previous tutorial."
   ]
  },
  {
   "cell_type": "markdown",
   "metadata": {
    "id": "SgXTQFaf9GDI"
   },
   "source": [
    "### **Coding Exercise 1.1: Load and Plot Timeseries of a 5-simulation Single-model Ensemble for the Historical Period and the SSP1-2.6 Projection**\n",
    "\n",
    "Complete the following code to:\n",
    "\n",
    "\n",
    "1.   Load 5 different *realizations* of the *MPI-ESM1-2-LR* experiments(*r1i1p1f1* through *r5i1p1f1*). This means they were each initialized using a different time-snapshot of the base/spin-up simulation.\n",
    "2.   Plot the *historical* and *SSP1-2.6* experiment data for each realization, using a distinct color for each realization, but keeping that color the same across the historical and future period for a given realization.\n"
   ]
  },
  {
   "cell_type": "code",
   "execution_count": 7,
   "metadata": {
    "colab": {
     "base_uri": "https://localhost:8080/",
     "height": 261
    },
    "executionInfo": {
     "elapsed": 420,
     "status": "error",
     "timestamp": 1683413710306,
     "user": {
      "displayName": "Sloane Garelick",
      "userId": "04706287370408131987"
     },
     "user_tz": 240
    },
    "id": "0WYOGgrCGnzF",
    "outputId": "b1a728a4-bb66-4c24-ffd1-80252d93feae",
    "tags": []
   },
   "outputs": [
    {
     "ename": "NotImplementedError",
     "evalue": "Student exercise: Load single-model ensemble datasets and plot hisotorical/ssp126 timeseries for each ensemble member",
     "output_type": "error",
     "traceback": [
      "\u001b[0;31m---------------------------------------------------------------------------\u001b[0m",
      "\u001b[0;31mNotImplementedError\u001b[0m                       Traceback (most recent call last)",
      "Cell \u001b[0;32mIn[7], line 4\u001b[0m\n\u001b[1;32m      1\u001b[0m \u001b[38;5;66;03m#################################################\u001b[39;00m\n\u001b[1;32m      2\u001b[0m \u001b[38;5;66;03m## TODO for students: details of what they should do ##\u001b[39;00m\n\u001b[1;32m      3\u001b[0m \u001b[38;5;66;03m# Fill out function and remove\u001b[39;00m\n\u001b[0;32m----> 4\u001b[0m \u001b[38;5;28;01mraise\u001b[39;00m \u001b[38;5;167;01mNotImplementedError\u001b[39;00m(\u001b[38;5;124m\"\u001b[39m\u001b[38;5;124mStudent exercise: Load single-model ensemble datasets and plot hisotorical/ssp126 timeseries for each ensemble member\u001b[39m\u001b[38;5;124m\"\u001b[39m)\n\u001b[1;32m      5\u001b[0m \u001b[38;5;66;03m#################################################\u001b[39;00m\n\u001b[1;32m      7\u001b[0m col \u001b[38;5;241m=\u001b[39m intake\u001b[38;5;241m.\u001b[39mopen_esm_datastore(\u001b[38;5;124m\"\u001b[39m\u001b[38;5;124mhttps://storage.googleapis.com/cmip6/pangeo-cmip6.json\u001b[39m\u001b[38;5;124m\"\u001b[39m) \u001b[38;5;66;03m# open an intake catalog containing the Pangeo CMIP cloud data\u001b[39;00m\n",
      "\u001b[0;31mNotImplementedError\u001b[0m: Student exercise: Load single-model ensemble datasets and plot hisotorical/ssp126 timeseries for each ensemble member"
     ]
    }
   ],
   "source": [
    "#################################################\n",
    "# Students: Fill in missing code (...) and comment or remove the next line\n",
    "raise NotImplementedError(\"Student exercise: Load single-model ensemble datasets and plot hisotorical/ssp126 timeseries for each ensemble member\")\n",
    "#################################################\n",
    "\n",
    "col = intake.open_esm_datastore(\"https://storage.googleapis.com/cmip6/pangeo-cmip6.json\") # open an intake catalog containing the Pangeo CMIP cloud data\n",
    "\n",
    "cat_ensemble = col.search(\n",
    "    source_id='MPI-ESM1-2-LR',\n",
    "    variable_id='tos',\n",
    "    table_id='Omon',\n",
    "    # select the 5 ensemble members described above\n",
    "    member_id=..., \n",
    "    grid_label='gn',\n",
    "    experiment_id = ['historical', 'ssp126', 'ssp585'],\n",
    "    require_all_on = ['source_id', 'member_id']\n",
    ")\n",
    "\n",
    "# convert the sub-catalog into a datatree object, by opening each dataset into an xarray.Dataset (without loading the data)\n",
    "kwargs = dict(\n",
    "    preprocess=combined_preprocessing, #apply xMIP fixes to each dataset\n",
    "    xarray_open_kwargs=dict(use_cftime=True), #ensure all datasets use the same time index\n",
    "    storage_options={'token':'anon'} #anonymous/public authentication to google cloud storage\n",
    ")\n",
    "# hopefully we can implement https://github.com/intake/intake-esm/issues/562 before the \n",
    "# actual tutorial, so this would be a lot cleaner\n",
    "cat_ensemble.esmcat.aggregation_control.groupby_attrs = ['source_id', 'experiment_id']\n",
    "dt_ensemble = cat_ensemble.to_datatree(**kwargs)\n",
    "\n",
    "# add the area (we can reuse the area from before, since for a given model the horizontal are does not vary between members)\n",
    "dt_ensemble_with_area = DataTree()\n",
    "for model,subtree in dt_ensemble.items():\n",
    "    metric = dt_area['MPI-ESM1-2-LR']['historical'].ds['areacello'].squeeze()\n",
    "    dt_ensemble_with_area[model] = subtree.map_over_subtree(_parse_metric,metric)\n",
    "    \n",
    "# global average\n",
    "# average every dataset in the tree globally\n",
    "dt_ensemble_gm = dt_ensemble_with_area.map_over_subtree(global_mean)\n",
    "\n",
    "# calculate anomaly\n",
    "dt_ensemble_gm_anomaly = datatree_anomaly(dt_ensemble_gm)\n",
    "    \n",
    "def plot_historical_ssp126_ensemble_combined(dt):\n",
    "    for model in dt.keys():\n",
    "        datasets = []\n",
    "        for experiment in ['historical', 'ssp126']:\n",
    "            datasets.append(dt[model][experiment].ds.coarsen(time=12).mean().tos)\n",
    "\n",
    "        # concatenate the historical and ssp126 timeseries for each ensemble member\n",
    "        da_combined = ...\n",
    "        # plot annual averages\n",
    "        da_combined.plot(hue='member_id')\n",
    "\n",
    "plt.figure()\n",
    "plot_historical_ssp126_ensemble_combined(dt_ensemble_gm_anomaly)\n",
    "\n",
    "plt.title('Global Mean SST Anomaly in SSP1-2.6 from a 5-member single-model ensemble')\n",
    "plt.ylabel('Global Mean SST Anomaly [$^\\circ$C]')\n",
    "plt.xlabel('Year')\n",
    "plt.legend()"
   ]
  },
  {
   "cell_type": "code",
   "execution_count": null,
   "metadata": {
    "colab": {
     "base_uri": "https://localhost:8080/",
     "height": 1000
    },
    "executionInfo": {
     "elapsed": 183867,
     "status": "ok",
     "timestamp": 1683413898135,
     "user": {
      "displayName": "Sloane Garelick",
      "userId": "04706287370408131987"
     },
     "user_tz": 240
    },
    "id": "mKYKGBaYtQlb",
    "outputId": "e28b4042-ecfb-4ac6-c463-5b22d53b61fa",
    "tags": []
   },
   "outputs": [],
   "source": [
    "# to_remove solution\n",
    "col = intake.open_esm_datastore(\"https://storage.googleapis.com/cmip6/pangeo-cmip6.json\") # open an intake catalog containing the Pangeo CMIP cloud data\n",
    "\n",
    "cat_ensemble = col.search(\n",
    "    source_id='MPI-ESM1-2-LR',\n",
    "    variable_id='tos',\n",
    "    table_id='Omon',\n",
    "    # select the 5 ensemble members described above\n",
    "    member_id=['r1i1p1f1', 'r2i1p1f1', 'r3i1p1f1', 'r4i1p1f1', 'r5i1p1f1'],\n",
    "    grid_label='gn',\n",
    "    experiment_id = ['historical', 'ssp126', 'ssp585'],\n",
    "    require_all_on = ['source_id', 'member_id']\n",
    ")\n",
    "\n",
    "# convert the sub-catalog into a datatree object, by opening each dataset into an xarray.Dataset (without loading the data)\n",
    "kwargs = dict(\n",
    "    preprocess=combined_preprocessing, #apply xMIP fixes to each dataset\n",
    "    xarray_open_kwargs=dict(use_cftime=True), #ensure all datasets use the same time index\n",
    "    storage_options={'token':'anon'} #anonymous/public authentication to google cloud storage\n",
    ")\n",
    "# hopefully we can implement https://github.com/intake/intake-esm/issues/562 before the \n",
    "# actual tutorial, so this would be a lot cleaner\n",
    "cat_ensemble.esmcat.aggregation_control.groupby_attrs = ['source_id', 'experiment_id']\n",
    "dt_ensemble = cat_ensemble.to_datatree(**kwargs)\n",
    "\n",
    "cat_area = col.search(\n",
    "    source_id=['MPI-ESM1-2-LR'],\n",
    "    variable_id='areacello', # for the coding exercise, ellipses will go after the equals on this line\n",
    "    member_id='r1i1p1f1',\n",
    "    table_id='Ofx', # for the coding exercise, ellipses will go after the equals on this line\n",
    "    grid_label='gn',\n",
    "    experiment_id = ['historical'], # for the coding exercise, ellipses will go after the equals on this line\n",
    "    require_all_on = ['source_id']\n",
    ")\n",
    "# hopefully we can implement https://github.com/intake/intake-esm/issues/562 before the \n",
    "# actual tutorial, so this would be a lot cleaner\n",
    "cat_area.esmcat.aggregation_control.groupby_attrs = ['source_id', 'experiment_id']\n",
    "dt_area = cat_area.to_datatree(**kwargs)\n",
    "\n",
    "# add the area (we can reuse the area from before, since for a given model the horizontal are does not vary between members)\n",
    "dt_ensemble_with_area = DataTree()\n",
    "for model,subtree in dt_ensemble.items():\n",
    "    metric = dt_area['MPI-ESM1-2-LR']['historical'].ds['areacello'].squeeze()\n",
    "    dt_ensemble_with_area[model] = subtree.map_over_subtree(_parse_metric,metric)\n",
    "    \n",
    "# global average\n",
    "# average every dataset in the tree globally\n",
    "dt_ensemble_gm = dt_ensemble_with_area.map_over_subtree(global_mean)\n",
    "\n",
    "# calculate anomaly\n",
    "dt_ensemble_gm_anomaly = datatree_anomaly(dt_ensemble_gm)\n",
    "    \n",
    "def plot_historical_ssp126_ensemble_combined(dt):\n",
    "    for model in dt.keys():\n",
    "        datasets = []\n",
    "        for experiment in ['historical', 'ssp126']:\n",
    "            datasets.append(dt[model][experiment].ds.coarsen(time=12).mean().tos)\n",
    "\n",
    "        # concatenate the historical and ssp126 timeseries for each ensemble member\n",
    "        da_combined = xr.concat(datasets, dim='time')\n",
    "        # plot annual averages\n",
    "        da_combined.plot(hue='member_id')\n",
    "\n",
    "plt.figure()\n",
    "plot_historical_ssp126_ensemble_combined(dt_ensemble_gm_anomaly)\n",
    "\n",
    "plt.title('Global Mean SST Anomaly in SSP1-2.6 from a 5-member single-model ensemble')\n",
    "plt.ylabel('Global Mean SST Anomaly [$^\\circ$C]')\n",
    "plt.xlabel('Year')\n",
    "plt.legend()"
   ]
  },
  {
   "cell_type": "markdown",
   "metadata": {
    "id": "1CAXFSbJGsHq"
   },
   "source": [
    "### **Coding Exercise 1.2: Create a single-model ensemble data with IPCC uncertainty bands**\n",
    "\n",
    "Complete the following code to:\n",
    "\n",
    "\n",
    "1.   Repeat the final figure of the last tutorial, except now display means and uncertainty bands of the single-model ensemble that you just loaded, rather than the multi-model ensemble analyzed in the previous tutorial"
   ]
  },
  {
   "cell_type": "code",
   "execution_count": null,
   "metadata": {
    "colab": {
     "base_uri": "https://localhost:8080/",
     "height": 236
    },
    "executionInfo": {
     "elapsed": 313,
     "status": "error",
     "timestamp": 1682795255008,
     "user": {
      "displayName": "Brodie Pearson",
      "userId": "05269028596972519847"
     },
     "user_tz": 420
    },
    "id": "BLqAj58IG8Hz",
    "outputId": "9f8d704a-df5f-4710-8491-b4d78d5352ae"
   },
   "outputs": [],
   "source": [
    "#################################################\n",
    "# Students: Fill in missing code (...) and comment or remove the next line\n",
    "raise NotImplementedError(\"Student exercise: Repeat the prevous figure but now showing uncertainty bands rather than indivudal timeseries\")\n",
    "#################################################\n",
    "\n",
    "for experiment, color in zip(['historical', 'ssp126', 'ssp585'], ['C0', 'C1', 'C2']):\n",
    "    da = dt_ensemble_gm_anomaly['MPI-ESM1-2-LR'][experiment].ds.tos.coarsen(time=12).mean().load()\n",
    "    \n",
    "    # shading representing spread between members \n",
    "    x = da.time.data\n",
    "    # diagnose the lower range of the likely bounds\n",
    "    da_lower = ...\n",
    "    # diagnose the upper range of the likely bounds\n",
    "    da_upper = ...\n",
    "    plt.fill_between(x, da_lower, da_upper,  alpha=0.5, color=color) \n",
    "    \n",
    "    # calculate the mean across ensemble members\n",
    "    da.mean(...).plot(color=color, label=experiment,)\n",
    "plt.title('Global Mean SST Anomaly in SSP1-2.6 from a 5-member single-model ensemble')\n",
    "plt.ylabel('Global Mean SST Anomaly [$^\\circ$C]')\n",
    "plt.xlabel('Year')\n",
    "plt.legend()"
   ]
  },
  {
   "cell_type": "code",
   "execution_count": null,
   "metadata": {
    "colab": {
     "base_uri": "https://localhost:8080/",
     "height": 1000
    },
    "executionInfo": {
     "elapsed": 206089,
     "status": "ok",
     "timestamp": 1683414257178,
     "user": {
      "displayName": "Sloane Garelick",
      "userId": "04706287370408131987"
     },
     "user_tz": 240
    },
    "id": "nkfaCNYyucmx",
    "outputId": "19c04a1b-e6ac-47a1-ee86-e223ffc3e33f",
    "tags": []
   },
   "outputs": [],
   "source": [
    "# to_remove solution\n",
    "\n",
    "for experiment, color in zip(['historical', 'ssp126', 'ssp585'], ['C0', 'C1', 'C2']):\n",
    "    da = dt_ensemble_gm_anomaly['MPI-ESM1-2-LR'][experiment].ds.tos.coarsen(time=12).mean().load()\n",
    "\n",
    "    # shading representing spread between members \n",
    "    x = da.time.data\n",
    "    # diagnose the lower range of the likely bounds\n",
    "    da_lower = da.squeeze().quantile(0.17, dim='member_id')\n",
    "    # diagnose the upper range of the likely bounds\n",
    "    da_upper = da.squeeze().quantile(0.83, dim='member_id')\n",
    "    plt.fill_between(x, da_lower, da_upper,  alpha=0.5, color=color) \n",
    "\n",
    "    # calculate the mean across ensemble members\n",
    "    da.mean('member_id').plot(color=color, label=experiment,)\n",
    "plt.title('Global Mean SST Anomaly in SSP1-2.6 from a 5-member single-model ensemble')\n",
    "plt.ylabel('Global Mean SST Anomaly [$^\\circ$C]')\n",
    "plt.xlabel('Year')\n",
    "plt.legend()"
   ]
  },
  {
   "cell_type": "markdown",
   "metadata": {
    "id": "ZHkokcHf_nj9"
   },
   "source": [
    "### **Questions 1.2**\n",
    "\n",
    "1. How does this figure compare to the multi-model ensemble figure from the previous tutorial (included below)? Can you interpret differences using the science we have discussed today?\n",
    "\n",
    "![tutorial 4 solution](./img/W2D1_Tutorial_5_Insert_Figure.png)"
   ]
  },
  {
   "cell_type": "code",
   "execution_count": 1,
   "metadata": {},
   "outputs": [],
   "source": [
    "# to_remove explanation\n",
    "\n",
    "\"\"\"\n",
    "1. The uncertainty of the single-model ensemble is much smaller than the uncertainty of the multi-model ensemble. The single-model ensemble variations are driven only by internal climate variability, whereas the multi-model ensemble includes inter-model differences (numerics, physics, discretization) in addition to internal climate variability. Comparing the two plots suggests that most of our uncertainty in future projections of global mean SST come from inter-model differences. Internal climate variability is a relatively small contributor to this uncertainty.\n",
    "\"\"\";"
   ]
  },
  {
   "cell_type": "markdown",
   "metadata": {},
   "source": [
    "# **Summary**\n",
    "In this tutorial, we explored the internal climate variability and its implications for climate modeling and prediction. We discussed the role of single-model ensembles in isolating the effects of internal variability by running repeated simulations with identical physics, numerics, and discretization. We learned how to quantify the internal variability of *MPI-ESM1-2-LR* model's simulated climate and compare it to the uncertainty introduced by multi-model ensembles. Through this tutorial, we better understand the boundaries of climate prediction and the sources of uncertainty in CMIP6 models."
   ]
  },
  {
   "cell_type": "code",
   "execution_count": null,
   "metadata": {},
   "outputs": [],
   "source": []
  }
 ],
 "metadata": {
  "colab": {
   "machine_shape": "hm",
   "provenance": [
    {
     "file_id": "1WfT8oN22xywtecNriLptqi1SuGUSoIlc",
     "timestamp": 1680298239014
    }
   ]
  },
  "gpuClass": "standard",
  "kernelspec": {
   "display_name": "Python 3 (ipykernel)",
   "language": "python",
   "name": "python3"
  },
  "language_info": {
   "codemirror_mode": {
    "name": "ipython",
    "version": 3
   },
   "file_extension": ".py",
   "mimetype": "text/x-python",
   "name": "python",
   "nbconvert_exporter": "python",
   "pygments_lexer": "ipython3",
   "version": "3.10.9"
  }
 },
 "nbformat": 4,
 "nbformat_minor": 4
}
