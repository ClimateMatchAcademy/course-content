{
 "cells": [
  {
   "cell_type": "markdown",
   "metadata": {
    "execution": {}
   },
   "source": [
    "#**Tutorial 3: Identifying the Basic Ingredients**\n",
    "\n",
    "> Indented block\n",
    "\n",
    "> Indented block\n",
    "\n",
    "\n",
    "\n",
    "\n",
    "**Week 1, Day 1, Good Research Practices**\n",
    "\n",
    "**Content creators:** Marguerite Brown, Yuxin Zhou\n",
    "\n",
    "**Content reviewers:** TBD\n",
    "\n",
    "**Content editors:** TBD\n",
    "\n",
    "**Production editors:** TBD\n",
    "\n",
    "**Our 2023 Sponsors:** TBD"
   ]
  },
  {
   "cell_type": "markdown",
   "metadata": {},
   "source": [
    "##  Video 3: Identifying the Basic Ingredients\n"
   ]
  },
  {
   "cell_type": "markdown",
   "metadata": {},
   "source": [
    "###  Video 3: Identifying the Basic Ingredients\n"
   ]
  },
  {
   "cell_type": "markdown",
   "metadata": {},
   "source": [
    "####  Video 3: Identifying the Basic Ingredients\n"
   ]
  },
  {
   "cell_type": "markdown",
   "metadata": {},
   "source": [
    "#####  Video 3: Identifying the Basic Ingredients\n"
   ]
  },
  {
   "cell_type": "markdown",
   "metadata": {},
   "source": [
    "######  Video 3: Identifying the Basic Ingredients\n"
   ]
  },
  {
   "cell_type": "markdown",
   "metadata": {},
   "source": [
    "#######  Video 3: Identifying the Basic Ingredients\n"
   ]
  },
  {
   "cell_type": "markdown",
   "metadata": {},
   "source": [
    "########  Video 3: Identifying the Basic Ingredients\n"
   ]
  },
  {
   "cell_type": "markdown",
   "metadata": {},
   "source": [
    "#########  Video 3: Identifying the Basic Ingredients\n"
   ]
  },
  {
   "cell_type": "markdown",
   "metadata": {},
   "source": [
    "##########  Video 3: Identifying the Basic Ingredients\n"
   ]
  },
  {
   "cell_type": "markdown",
   "metadata": {},
   "source": [
    "###########  Video 3: Identifying the Basic Ingredients\n"
   ]
  },
  {
   "cell_type": "markdown",
   "metadata": {},
   "source": [
    "############  Video 3: Identifying the Basic Ingredients\n"
   ]
  },
  {
   "cell_type": "markdown",
   "metadata": {},
   "source": [
    "#############  Video 3: Identifying the Basic Ingredients\n"
   ]
  },
  {
   "cell_type": "markdown",
   "metadata": {},
   "source": [
    "##############  Video 3: Identifying the Basic Ingredients\n"
   ]
  },
  {
   "cell_type": "markdown",
   "metadata": {},
   "source": [
    "###############  Video 3: Identifying the Basic Ingredients\n"
   ]
  },
  {
   "cell_type": "markdown",
   "metadata": {},
   "source": [
    "################  Video 3: Identifying the Basic Ingredients\n"
   ]
  },
  {
   "cell_type": "markdown",
   "metadata": {},
   "source": [
    "#################  Video 3: Identifying the Basic Ingredients\n"
   ]
  },
  {
   "cell_type": "markdown",
   "metadata": {},
   "source": [
    "##################  Video 3: Identifying the Basic Ingredients\n"
   ]
  },
  {
   "cell_type": "markdown",
   "metadata": {},
   "source": [
    "###################  Video 3: Identifying the Basic Ingredients\n"
   ]
  },
  {
   "cell_type": "markdown",
   "metadata": {},
   "source": [
    "####################  Video 3: Identifying the Basic Ingredients\n"
   ]
  },
  {
   "cell_type": "markdown",
   "metadata": {},
   "source": [
    "#####################  Video 3: Identifying the Basic Ingredients\n"
   ]
  },
  {
   "cell_type": "markdown",
   "metadata": {},
   "source": [
    "######################  Video 3: Identifying the Basic Ingredients\n"
   ]
  },
  {
   "cell_type": "markdown",
   "metadata": {},
   "source": [
    "#######################  Video 3: Identifying the Basic Ingredients\n"
   ]
  },
  {
   "cell_type": "markdown",
   "metadata": {},
   "source": [
    "########################  Video 3: Identifying the Basic Ingredients\n"
   ]
  },
  {
   "cell_type": "markdown",
   "metadata": {},
   "source": [
    "#########################  Video 3: Identifying the Basic Ingredients\n"
   ]
  },
  {
   "cell_type": "markdown",
   "metadata": {},
   "source": [
    "##########################  Video 3: Identifying the Basic Ingredients\n"
   ]
  },
  {
   "cell_type": "code",
   "execution_count": null,
   "metadata": {
    "cellView": "form",
    "execution": {},
    "tags": [
     "hide-input"
    ]
   },
   "outputs": [],
   "source": [
    "# @title Video 3: Identifying the Basic Ingredients\n",
    "#Tech team will add code to format and display the video"
   ]
  },
  {
   "cell_type": "markdown",
   "metadata": {
    "execution": {}
   },
   "source": [
    "##**Activity: Identifying Basic Ingredients**\n",
    "\n",
    "Take 10 minutes to discuss the advantages and disadvantages of the following basic ingredients to explore our research question:\n",
    "\n",
    "\n",
    "*   Ice core data for CO$_2$\n",
    "*   Deep sea sediment data for sea surface temperature\n",
    "\n",
    "Can you think of alternatives that might work well?"
   ]
  },
  {
   "cell_type": "markdown",
   "metadata": {
    "execution": {}
   },
   "source": [
    "**Data types and how to choose**\n",
    "<details>\n",
    "<summary>Click here for some pointers on choosing the data you use</summary>\n",
    "\n",
    "Here are some questions to ask yourself when choosing the data to use:\n",
    "\n",
    "What is necessary for describing the phenomenon?\n",
    "<ul>\n",
    "  <li>You don't want an approach that contains less than the bare minimum. For some phenomena, we know what the bare minimum is. For others, more research is needed...</li>\n",
    "  </ul>\n",
    "\n",
    "What restrictions do I have for computational resources?\n",
    "<ul>\n",
    "  <li>If you do not have access to large computational resources, you can still do research using smaller datasets or idealized models</li>\n",
    "  </ul>\n",
    "\n",
    "Am I interested in looking at a particular time period or a specific physical location?\n",
    "<ul>\n",
    "  <li>Reanalysis can be used for time periods after roughly the 1940s</li>\n",
    "  <li>Proxy data can be used for a wider historical and prehistorical data</li>\n",
    "  <li>Both reanalysis and proxy data can provide specific location information</li>\n",
    "  <li>Models can be designed to mimic the conditions of the location or time, for example:</li><ul>\n",
    "  <li>GCMs (General Circulation Models or Global Climate Models) can be set according to parameters that resemble the time period</li>\n",
    "  <li>Energy balance models can capture some aspects of average temperature in other time periods</li>\n",
    "  <li>Radiative-convective equilibrium models can capture some phenomena in the tropics</li>\n",
    "  <li>Quasi-geostrophic models can capture some phenomena in the mid-latitudes (between ~30-60 degrees)</li>\n",
    "  <li>And many more!</li>\n",
    "  </ul>\n",
    "  </ul>\n",
    "\n",
    "Am I interested in studying a feature of the phenomenon in isolation or interactions between multiple features?\n",
    "\n",
    "<ul>\n",
    "  <li>If you want to isolate a single aspect of the phenomenon, an idealized model may be more appropriate</li>\n",
    "  <li>If you want to study interactions between multiple features, either observational data or a more complex model may be appropriate</li>\n",
    "  </ul>\n",
    "\n",
    "Am I trying to...\n",
    "<ul> \n",
    "<li>explain the theory behind the phenomenon? an idealized model may be appropriate</li>\n",
    "<li>provide evidence to support or challenge a pre-existing hypothesis? observational data or a more complex model may be appropriate</li>\n",
    "<li> document the features of the phenomenon? observational data may be appropriate</li>\n",
    "</ul>\n",
    "\n",
    "For more information on observational data: \n",
    "*     NCAR's climate data guide: https://climatedataguide.ucar.edu/climate-data\n",
    "*     NCAR's guide on real-time weather data: https://weather.rap.ucar.edu/ \n",
    "*     USGS's guide on paleoclimate proxies: https://www.usgs.gov/programs/climate-research-and-development-program/science/paleoclimate-proxies\n",
    "*     [Pangeo](https://pangeo.io/) hosts a few open-access datasets\n",
    "\n",
    "For more information on numerical modeling: \n",
    "\n",
    "*    Atmospheric Model Hierarchies: Maher, P., Gerber, E. P., Medeiros, B., Merlis, T. M., Sherwood, S., Sheshadri, A., et al. (2019). Model hierarchies for understanding atmospheric circulation, Reviews of Geophysics, 57, 250– 280. https://doi.org/10.1029/2018RG000607\n",
    "*    Ocean Model Hierarchies:  Hsu, T.-Y., Primeau, F., & Magnusdottir, G. (2022). A hierarchy of global ocean models coupled to CESM1. Journal of Advances in Modeling Earth Systems, 14, e2021MS002979. https://doi.org/10.1029/2021MS002979 "
   ]
  }
 ],
 "metadata": {
  "colab": {
   "collapsed_sections": [],
   "include_colab_link": true,
   "name": "W2D2_Tutorial3",
   "provenance": [
    {
     "file_id": "1WfT8oN22xywtecNriLptqi1SuGUSoIlc",
     "timestamp": 1680037587733
    }
   ],
   "toc_visible": true
  },
  "kernel": {
   "display_name": "Python 3",
   "language": "python",
   "name": "python3"
  },
  "kernelspec": {
   "display_name": "Python 3 (pangeo)",
   "language": "python",
   "name": "pangeo"
  },
  "language_info": {
   "codemirror_mode": {
    "name": "ipython",
    "version": 3
   },
   "file_extension": ".py",
   "mimetype": "text/x-python",
   "name": "python",
   "nbconvert_exporter": "python",
   "pygments_lexer": "ipython3",
   "version": "3.10.10"
  }
 },
 "nbformat": 4,
 "nbformat_minor": 0
}