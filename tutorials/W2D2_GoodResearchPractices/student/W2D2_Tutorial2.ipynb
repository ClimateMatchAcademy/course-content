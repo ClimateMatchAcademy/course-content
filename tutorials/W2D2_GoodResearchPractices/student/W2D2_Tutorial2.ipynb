{
 "cells": [
  {
   "cell_type": "markdown",
   "metadata": {
    "execution": {}
   },
   "source": [
    "#**Tutorial 2: Doing a Literature Review** \n",
    "\n",
    "> Indented block\n",
    "\n",
    "> Indented block\n",
    "\n",
    "\n",
    "\n",
    "\n",
    "**Week 1, Day 1, Good Research Practices**\n",
    "\n",
    "**Content creators:** Marguerite Brown, Yuxin Zhou\n",
    "\n",
    "**Content reviewers:** TBD\n",
    "\n",
    "**Content editors:** TBD\n",
    "\n",
    "**Production editors:** TBD\n",
    "\n",
    "**Our 2023 Sponsors:** TBD"
   ]
  },
  {
   "cell_type": "markdown",
   "metadata": {},
   "source": [
    "##  Video 2: Doing a Literature Review\n"
   ]
  },
  {
   "cell_type": "markdown",
   "metadata": {},
   "source": [
    "###  Video 2: Doing a Literature Review\n"
   ]
  },
  {
   "cell_type": "markdown",
   "metadata": {},
   "source": [
    "####  Video 2: Doing a Literature Review\n"
   ]
  },
  {
   "cell_type": "markdown",
   "metadata": {},
   "source": [
    "#####  Video 2: Doing a Literature Review\n"
   ]
  },
  {
   "cell_type": "markdown",
   "metadata": {},
   "source": [
    "######  Video 2: Doing a Literature Review\n"
   ]
  },
  {
   "cell_type": "markdown",
   "metadata": {},
   "source": [
    "#######  Video 2: Doing a Literature Review\n"
   ]
  },
  {
   "cell_type": "markdown",
   "metadata": {},
   "source": [
    "########  Video 2: Doing a Literature Review\n"
   ]
  },
  {
   "cell_type": "markdown",
   "metadata": {},
   "source": [
    "#########  Video 2: Doing a Literature Review\n"
   ]
  },
  {
   "cell_type": "markdown",
   "metadata": {},
   "source": [
    "##########  Video 2: Doing a Literature Review\n"
   ]
  },
  {
   "cell_type": "markdown",
   "metadata": {},
   "source": [
    "###########  Video 2: Doing a Literature Review\n"
   ]
  },
  {
   "cell_type": "markdown",
   "metadata": {},
   "source": [
    "############  Video 2: Doing a Literature Review\n"
   ]
  },
  {
   "cell_type": "markdown",
   "metadata": {},
   "source": [
    "#############  Video 2: Doing a Literature Review\n"
   ]
  },
  {
   "cell_type": "markdown",
   "metadata": {},
   "source": [
    "##############  Video 2: Doing a Literature Review\n"
   ]
  },
  {
   "cell_type": "markdown",
   "metadata": {},
   "source": [
    "###############  Video 2: Doing a Literature Review\n"
   ]
  },
  {
   "cell_type": "markdown",
   "metadata": {},
   "source": [
    "################  Video 2: Doing a Literature Review\n"
   ]
  },
  {
   "cell_type": "markdown",
   "metadata": {},
   "source": [
    "#################  Video 2: Doing a Literature Review\n"
   ]
  },
  {
   "cell_type": "markdown",
   "metadata": {},
   "source": [
    "##################  Video 2: Doing a Literature Review\n"
   ]
  },
  {
   "cell_type": "markdown",
   "metadata": {},
   "source": [
    "###################  Video 2: Doing a Literature Review\n"
   ]
  },
  {
   "cell_type": "markdown",
   "metadata": {},
   "source": [
    "####################  Video 2: Doing a Literature Review\n"
   ]
  },
  {
   "cell_type": "markdown",
   "metadata": {},
   "source": [
    "#####################  Video 2: Doing a Literature Review\n"
   ]
  },
  {
   "cell_type": "markdown",
   "metadata": {},
   "source": [
    "######################  Video 2: Doing a Literature Review\n"
   ]
  },
  {
   "cell_type": "markdown",
   "metadata": {},
   "source": [
    "#######################  Video 2: Doing a Literature Review\n"
   ]
  },
  {
   "cell_type": "markdown",
   "metadata": {},
   "source": [
    "########################  Video 2: Doing a Literature Review\n"
   ]
  },
  {
   "cell_type": "markdown",
   "metadata": {},
   "source": [
    "#########################  Video 2: Doing a Literature Review\n"
   ]
  },
  {
   "cell_type": "markdown",
   "metadata": {},
   "source": [
    "##########################  Video 2: Doing a Literature Review\n"
   ]
  },
  {
   "cell_type": "code",
   "execution_count": null,
   "metadata": {
    "cellView": "form",
    "execution": {},
    "tags": [
     "hide-input"
    ]
   },
   "outputs": [],
   "source": [
    "# @title Video 2: Doing a Literature Review\n",
    "#Tech team will add code to format and display the video"
   ]
  },
  {
   "cell_type": "markdown",
   "metadata": {
    "execution": {}
   },
   "source": [
    "##**Activity: Some Literature on Surface Temperature and CO$_2$**\n",
    "\n",
    "A proper literature review can take months or years. You will do a short literature review on the topic of your Project Template in two days. For now, rather than asking you to review the literature on our sample research topic, we will provide some additional data:\n",
    "\n"
   ]
  },
  {
   "cell_type": "markdown",
   "metadata": {
    "execution": {}
   },
   "source": [
    "**Equity in Literature Review**\n",
    "<details>\n",
    "<summary>Click here for some points to consider when doing your literature review</summary>\n",
    "\n",
    "The choices we make as a collective have an impact on who is included and who is excluded in the scientific process. While there is no perfect solution to inequity in the sciences, we can help by being open to the ongoing conversation and feedback on our impact. Here are some points to consider:\n",
    "\n",
    "*    Which papers are you reading? Which papers are you citing? Are there good results that are being overlooked?\n",
    "*    Does your work connect to a phenomenon that impacts a specific community? Have members of that community observed and documented the phenomenon?\n",
    "*    Has your own experience informed you of equity concerns in the knowledge base that you are in a good position to address?\n",
    "\n",
    "Remember: the goal is not perfection. There are unintended consequences to every choice we make. By keeping equity in mind, we can stay open to constructive feedback and notice where we can make an impact.\n",
    "\n",
    "Here are some resources that may help you incorporate knowledge and understanding from underrepresented groups:\n",
    "*   [Global South Climate Database](https://www.carbonbrief.org/global-south-climate-database/ ) is made by scientists from the Global South, who make up only 10% of citations in Climate Science\n",
    "*   [Local Environmental Observer (LEO) network](https://www.leonetwork.org) contains observations of many weather events from Indigenous groups\n",
    "*   [Alaska Native Knowledge Network](http://www.ankn.uaf.edu/) and [Alaska Native Science Commission](http://www.nativescience.org/) are dedicated to Alaskan Native Knowledge\n",
    "*   [HSHK Knowledge Well](https://cdm16093.contentdm.oclc.org/digital/collection/p16093coll9) contains Native Hawaiian knowledge of local weather events\n",
    "\n",
    "Here is some reading relating to Arrhenius and his racism: \n",
    "\n",
    "College Chemistry Textbooks Aid and Abet Racial Disparity. Mona L. Becker and Melanie R. Nilsson. Journal of Chemical Education 2022 99 (5), 1847-1854. DOI: 10.1021/acs.jchemed.1c00968 \n"
   ]
  },
  {
   "cell_type": "markdown",
   "metadata": {
    "execution": {}
   },
   "source": [
    "**Tips for Efficiency**\n",
    "<details>\n",
    "<summary>Click here for some pointers on reviewing literature efficiently</summary>\n",
    "\n",
    "There are many different strategies for reviewing literature efficiently. [Here](https://www.science.org/content/article/how-seriously-read-scientific-paper) are some descriptions of the processes that different researchers use. If you are new to a topic, we recommend you start by looking for a review paper, which will summarize the results of multiple studies and direct you to other papers worth reading.\n",
    "\n",
    "Here is one option for reading papers efficiently:\n",
    "\n",
    "*   Start with the abstract and conclusions section. This will tell you whether the results of the paper are relevant to you\n",
    "*   Do a \"quick pass\" of the paper\n",
    "<ul>\n",
    "  <li>Look through the figures of the paper</li>\n",
    "  <li>Find where the figures are referenced in the text and read the surrounding discussion</li>\n",
    "  <li>Make note of what parts of the figures and discussion you don't understand</li>\n",
    "  </ul>\n",
    "*   Look for information to address the parts of the figures that you don't understand. Possible sources include:\n",
    "<ul>\n",
    "  <li>Previous sections of the paper describing the methods and analysis</li>\n",
    "  <li>Other papers that cite or are cited by the paper you are looking at</li>\n",
    "  <li>Textbooks, etc on the subject</li>\n",
    "  <li>Professors, peers in your field, etc</li>\n",
    "  </ul>\n",
    "*   If the paper seems extremely important, or if you have been asked to present the paper to a group, read through it in its entirety. To get the most out of it, try\n",
    "<ul>\n",
    "  <li>Summarizing the message of each paragraph in 1 sentence or less</li>\n",
    "  <li>Sketching written descriptions of phenomenon</li>\n",
    "  <li>Identifying the physical meaning and effect of terms in equations</li>\n",
    "  </ul>"
   ]
  }
 ],
 "metadata": {
  "colab": {
   "collapsed_sections": [],
   "include_colab_link": true,
   "name": "W2D2_Tutorial2",
   "provenance": [
    {
     "file_id": "1WfT8oN22xywtecNriLptqi1SuGUSoIlc",
     "timestamp": 1680037587733
    }
   ],
   "toc_visible": true
  },
  "kernel": {
   "display_name": "Python 3",
   "language": "python",
   "name": "python3"
  },
  "kernelspec": {
   "display_name": "Python 3 (pangeo)",
   "language": "python",
   "name": "pangeo"
  },
  "language_info": {
   "codemirror_mode": {
    "name": "ipython",
    "version": 3
   },
   "file_extension": ".py",
   "mimetype": "text/x-python",
   "name": "python",
   "nbconvert_exporter": "python",
   "pygments_lexer": "ipython3",
   "version": "3.10.10"
  }
 },
 "nbformat": 4,
 "nbformat_minor": 0
}