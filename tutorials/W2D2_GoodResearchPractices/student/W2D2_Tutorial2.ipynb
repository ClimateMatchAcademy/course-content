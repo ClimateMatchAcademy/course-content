{
 "cells": [
  {
   "cell_type": "markdown",
   "metadata": {
    "execution": {}
   },
   "source": [
    "# **Tutorial 2: Doing a Literature Review** \n",
    "\n",
    "**Good Research Practices**\n",
    "\n",
    "**Content creators:** Marguerite Brown, Yuxin Zhou\n",
    "\n",
    "**Content reviewers:** Sherry Mi, Maria Gonzalez, Nahid Hasan, Beatriz Cosenza Muralles, Katrina Dobson, Sloane Garelick, Cheng Zhang\n",
    "\n",
    "**Content editors:** Jenna Pearson, Chi Zhang, Ohad Zivan\n",
    "\n",
    "**Production editors:** Wesley Banfield, Jenna Pearson, Chi Zhang, Ohad Zivan\n",
    "\n",
    "**Our 2023 Sponsors:** NASA TOPS"
   ]
  },
  {
   "cell_type": "markdown",
   "metadata": {},
   "source": [
    "##  Video 2: Doing a Literature Review\n"
   ]
  },
  {
   "cell_type": "markdown",
   "metadata": {},
   "source": [
    "###  Video 2: Doing a Literature Review\n"
   ]
  },
  {
   "cell_type": "markdown",
   "metadata": {},
   "source": [
    "####  Video 2: Doing a Literature Review\n"
   ]
  },
  {
   "cell_type": "markdown",
   "metadata": {},
   "source": [
    "#####  Video 2: Doing a Literature Review\n"
   ]
  },
  {
   "cell_type": "markdown",
   "metadata": {},
   "source": [
    "######  Video 2: Doing a Literature Review\n"
   ]
  },
  {
   "cell_type": "markdown",
   "metadata": {},
   "source": [
    "#######  Video 2: Doing a Literature Review\n"
   ]
  },
  {
   "cell_type": "markdown",
   "metadata": {},
   "source": [
    "########  Video 2: Doing a Literature Review\n"
   ]
  },
  {
   "cell_type": "markdown",
   "metadata": {},
   "source": [
    "#########  Video 2: Doing a Literature Review\n"
   ]
  },
  {
   "cell_type": "markdown",
   "metadata": {},
   "source": [
    "##########  Video 2: Doing a Literature Review\n"
   ]
  },
  {
   "cell_type": "markdown",
   "metadata": {},
   "source": [
    "###########  Video 2: Doing a Literature Review\n"
   ]
  },
  {
   "cell_type": "markdown",
   "metadata": {},
   "source": [
    "############  Video 2: Doing a Literature Review\n"
   ]
  },
  {
   "cell_type": "markdown",
   "metadata": {},
   "source": [
    "#############  Video 2: Doing a Literature Review\n"
   ]
  },
  {
   "cell_type": "markdown",
   "metadata": {},
   "source": [
    "##############  Video 2: Doing a Literature Review\n"
   ]
  },
  {
   "cell_type": "markdown",
   "metadata": {},
   "source": [
    "###############  Video 2: Doing a Literature Review\n"
   ]
  },
  {
   "cell_type": "markdown",
   "metadata": {},
   "source": [
    "################  Video 2: Doing a Literature Review\n"
   ]
  },
  {
   "cell_type": "markdown",
   "metadata": {},
   "source": [
    "#################  Video 2: Doing a Literature Review\n"
   ]
  },
  {
   "cell_type": "code",
   "execution_count": null,
   "metadata": {
    "cellView": "form",
    "execution": {},
    "tags": [
     "hide-input"
    ]
   },
   "outputs": [],
   "source": [
    "# @title Video 2: Doing a Literature Review\n",
    "#Tech team will add code to format and display the video"
   ]
  },
  {
   "cell_type": "markdown",
   "metadata": {
    "execution": {}
   },
   "source": [
    "# **Tutorial Objectives**\n",
    "\n",
    "In Tutorials 1-4, you will learn about the process of research design. This includes how to\n",
    "\n",
    "1.   Identify a phenomenon and formulate a research question surrounding it\n",
    "2.   Efficiently review existing literature and knowledge about the phenomenon\n",
    "3.   Identify what is needed to study the phenomenon\n",
    "4.   Formulate a testable hypothesis regarding the phenomenon\n",
    "\n",
    "By the end of these tutorials you will be able to:\n",
    "\n",
    "*   Understand the principles of good research practices\n",
    "*   Learn to view a scientific data set or question through the lens of equity: Who is represented by this data and who is not? Who has access to this information? Who is in a position to use it?"
   ]
  },
  {
   "cell_type": "markdown",
   "metadata": {
    "execution": {}
   },
   "source": [
    "# **Activity: Understanding the Literature Review Process**\n",
    "\n",
    "While a comprehensive literature review typically requires an extensive timeframe spanning months or even years, in the context of your Project Template, we will conduct a condensed literature review within two days. Instead of tasking you with reviewing the literature on our sample research topic, we will provide additional guidance on the process of conducting a literature review.\n",
    "\n",
    "During this timeframe, you will be introduced to the fundamental aspects and techniques of performing a literature review, enabling you to gain insights into the necessary steps and best practices. Although the review will be concise, it will equip you with the essential skills to navigate the literature effectively and lay the foundation for future in-depth literature reviews.\n",
    "\n"
   ]
  },
  {
   "cell_type": "markdown",
   "metadata": {
    "execution": {}
   },
   "source": [
    "## **Equity in Literature Review**\n",
    "<details>\n",
    "<summary>Click here for some points to consider when doing your literature review</summary>\n",
    "\n",
    "The choices we make as a collective have an impact on who is included and who is excluded in the scientific process. While there is no perfect solution to addressing inequity in the sciences, we can contribute by engaging in an ongoing conversation and being receptive to feedback regarding our impact. Here are some points to consider:\n",
    "\n",
    "*    Which papers are you selecting for your review? Which papers are you citing? Are there overlooked studies with valuable results?\n",
    "*    Does your work relate to a phenomenon that affects a specific community? Have members of that community made observations or documented the phenomenon?\n",
    "*    Has your own experience informed you of equity concerns in the knowledge base that you are in a good position to address?\n",
    "\n",
    "Remember, perfection is not the goal. Every choice we make carries unintended consequences. By keeping equity in mind, we can remain open to constructive feedback and identify areas where we can make a positive impact. \n",
    "\n",
    "Here are some resources that may help you incorporate knowledge and understanding from underrepresented groups:\n",
    "*   [Global South Climate Database](https://www.carbonbrief.org/global-south-climate-database/) is made by scientists from the Global South, who make up only 10% of citations in Climate Science\n",
    "*   [Local Environmental Observer (LEO) network](https://www.leonetwork.org) contains observations of many weather events from Indigenous groups\n",
    "*   [Alaska Native Knowledge Network](https://uaf.edu/ankn/) is dedicated to Alaskan Native Knowledge\n",
    "*   [HSHK Knowledge Well](https://cdm16093.contentdm.oclc.org/digital/collection/p16093coll9) contains Native Hawaiian knowledge of local weather events\n",
    "\n",
    "Here is some reading relating to Arrhenius and his racism: \n",
    "\n",
    "College Chemistry Textbooks Aid and Abet Racial Disparity. Mona L. Becker and Melanie R. Nilsson. Journal of Chemical Education 2022 99 (5), 1847-1854. DOI: https://doi.org/10.1021/acs.jchemed.1c00968"
   ]
  },
  {
   "cell_type": "markdown",
   "metadata": {
    "execution": {}
   },
   "source": [
    "## **Tips for Efficiency**\n",
    "<details>\n",
    "<summary>Click here for some pointers on reviewing literature efficiently</summary>\n",
    "\n",
    "There are many different strategies for reviewing literature efficiently. **[Here](https://www.science.org/content/article/how-seriously-read-scientific-paper)** are some descriptions of the processes that different researchers use. If you are new to a topic, we recommend you start by looking for a review paper, which will summarize the results of multiple studies and direct you to other papers worth reading.\n",
    "\n",
    "Here is one option for reading papers efficiently:\n",
    "\n",
    "*   Start by reviewing the abstract and conclusions sections. This will help you determine the relevance of the paper's results to your research.\n",
    "*   Conduct a \"quick pass\" of the paper\n",
    "<ul>\n",
    "  <li>Scan through the figures and diagrams.</li>\n",
    "  <li>Identify the references to these figures in the text and read the surrounding discussion.</li>\n",
    "  <li>Take note of any parts of the figures or discussion that you find difficult to understand.</li>\n",
    "  </ul>\n",
    "*   Seek additional information to address the areas that you found challenging:\n",
    "<ul>\n",
    "  <li>Refer to previous sections of the paper that describe the methods and analysis.</li>\n",
    "  <li>Explore other papers that cite or are cited by the paper you are reading.</li>\n",
    "  <li>Consult relevant textbooks or resources on the subject.</li>\n",
    "  <li>Seek guidance from professors or peers in your field.</li>\n",
    "  </ul>\n",
    "*   If the paper seems extremely important, or if you are tasked with presenting it to a group, consider reading it in its entirety. To maximize your comprehension, you can\n",
    "<ul>\n",
    "  <li>Summarize the main message of each paragraph in one sentence or less.</li>\n",
    "  <li>Create written descriptions or sketches of the phenomena discussed.</li>\n",
    "  <li>Identify the physical meaning and implications of terms and equations.</li>\n",
    "  </ul>"
   ]
  }
 ],
 "metadata": {
  "colab": {
   "collapsed_sections": [],
   "include_colab_link": true,
   "name": "W2D2_Tutorial2",
   "provenance": [
    {
     "file_id": "1WfT8oN22xywtecNriLptqi1SuGUSoIlc",
     "timestamp": 1680037587733
    }
   ],
   "toc_visible": true
  },
  "kernel": {
   "display_name": "Python 3",
   "language": "python",
   "name": "python3"
  },
  "kernelspec": {
   "display_name": "Python 3 (ipykernel)",
   "language": "python",
   "name": "python3"
  },
  "language_info": {
   "codemirror_mode": {
    "name": "ipython",
    "version": 3
   },
   "file_extension": ".py",
   "mimetype": "text/x-python",
   "name": "python",
   "nbconvert_exporter": "python",
   "pygments_lexer": "ipython3",
   "version": "3.10.12"
  }
 },
 "nbformat": 4,
 "nbformat_minor": 4
}