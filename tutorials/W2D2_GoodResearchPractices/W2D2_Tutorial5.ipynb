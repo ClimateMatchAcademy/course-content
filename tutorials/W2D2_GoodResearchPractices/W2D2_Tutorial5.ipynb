{
 "cells": [
  {
   "cell_type": "markdown",
   "metadata": {
    "execution": {}
   },
   "source": [
        "#**Tutorials 5-8 Objectives**\n",
        "\n",
        "In Tutorials 5-8, you will learn about the research process. This includes how to\n",
        "\n",
        "5.   Draft analyses of data to test a hypothesis\n",
        "6.   Implement analysis of data\n",
        "7.   Interpret results in the context of existing knowledge\n",
        "8.   Communicate your results and conclusions\n",
        "\n",
        "By the end of these tutorials you will be able to:\n",
        "\n",
        "*   Understand the principles of designing analysis and understanding the results.\n",
        "*   Learn to view a scientific data set or question through the lens of equity: Who is represented by this data and who is not? Who has access to this information? Who is in a position to use it?\n"
      ],
      "metadata": {
        "id": "DZbqRlQKXhnc"
      }
    },
    {
      "cell_type": "markdown",
      "source": [
        "###**Code and Data Sources**\n",
        "\n",
        "Code for this tutorial is originally produced by Yuxin Zhou."
      ],
      "metadata": {
        "id": "WFp2yBJuVoRr"
      }
    },
    {
      "cell_type": "code",
      "source": [
        "#Imports\n",
        "\n",
        "# Import only the libraries/objects that you use in this tutorial. \n",
        "\n",
        "# If any external library has to be installed, !pip install library --quiet\n",
        "# follow this order: numpy>matplotlib. \n",
        "# import widgets in hidden Figure settings cell\n",
        "\n",
        "import matplotlib.pyplot as plt\n",
        "import pandas as pd\n",
        "import seaborn as sns\n",
        "import numpy as np\n",
        "from scipy import interpolate\n",
        "import statsmodels.api as sm"
      ],
      "metadata": {
        "id": "9nDg6MeVY1CX"
      },
      "execution_count": null,
      "outputs": []
    },
    {
      "cell_type": "code",
      "source": [
        "# @title Video 6: Drafting the Analysis \n",
        "#Tech team will add code to format and display the video"
      ],
      "metadata": {
        "id": "zQ1C6lEGlH2I"
      },
      "execution_count": null,
      "outputs": []
    },
    {
      "cell_type": "code",
      "source": [
        "from google.colab import drive\n",
        "drive.mount('/content/drive/')"
      ],
      "metadata": {
        "colab": {
          "base_uri": "https://localhost:8080/"
        },
        "id": "IZox7G8fMkyg",
        "outputId": "365d429a-521f-4638-abaa-ee488915c120"
      },
      "execution_count": null,
      "outputs": [
        {
          "output_type": "stream",
          "name": "stdout",
          "text": [
            "Mounted at /content/drive/\n"
          ]
        }
      ]
    },
    {
      "cell_type": "markdown",
      "source": [
        "###**Coding Exercise 1.1: fitting a linear regression model**\n",
        "\n",
        "To explore the relationship between CO<sub>2</sub> and temperature, we may want to make a scatter plot of the two variables, where the x-axis represents CO<sub>2</sub> and the y-axis represents temperature. Then we can see if a linear regression model fits the scatter well.\n",
        "\n",
        "Before we do that, let's read some code that make a scatter plot on randomly generated data points and fitting them through the linear regression model.\n",
        "\n",
        "If you aren't familiar with a linear regression model, it is simply a way of finding a relationship bewteen two variables (e.g. x and y). For example, each giraffe might have different running speeds. It is likely that taller giraffes run faster than shorter ones. How do we describe the relationship between a giraffe's height and its running speed? A linear regression model will be able to provide us a mathematical equation:\n",
        "\n",
        "`speed = a * height +  b`\n",
        "\n",
        "where a and b are the slope and intercept of the equation, respectively. Such an equation allows us to predict an unknown giraffe's running speed by simply plugging its height into the equation. Not all giraffes will fit the relationship and other factors might influence their speeds, such as health, diet, age, etc. However, because of its simplicity, linear regression models are usually first attempted by scientists to quantify the relationship bewteen variables.\n",
        "\n",
        "For more information on linear regression models, see the Wikipedia page, especially the first figure on that page: https://en.wikipedia.org/wiki/Linear_regression"
      ],
      "metadata": {
        "id": "9UbbKMMQbI0C"
      }
    },
    {
      "cell_type": "code",
      "source": [
        "# set up a random number generator\n",
        "rng = np.random.default_rng()\n",
        "# x is one hundred random numbers between 0 and 1\n",
        "x = rng.random(100)\n",
        "# y is one hundred random numbers according to the relationship y = 1.6x + 0.5\n",
        "y = 1.6*x + rng.random(100)\n",
        "\n",
        "#%% plot\n",
        "plt.scatter(x, y, color='gray')\n",
        "\n",
        "#%% regression\n",
        "x = sm.add_constant(x)  # let's add an intercept (b in y=mx+b) to our model\n",
        "mod = sm.OLS(y, x)    # ordinary least sqaure\n",
        "res = mod.fit()       # Fit model\n",
        "# print(res.summary())   # Summarize model\n",
        "# res.params[1] returns the slope of the fit line and res.params[0] is the\n",
        "# intercept\n",
        "plt.plot(x, x*res.params[1]+res.params[0], color='k')\n",
        "plt.xlabel('x')\n",
        "plt.ylabel('y')"
      ],
      "metadata": {
        "colab": {
          "base_uri": "https://localhost:8080/",
          "height": 466
        },
        "outputId": "7aa0a6ae-98f4-41d9-a9e4-fb0988476f3b",
        "id": "uqoNmPrJ8c0y"
      },
      "execution_count": null,
      "outputs": [
        {
          "output_type": "execute_result",
          "data": {
            "text/plain": [
              "Text(0, 0.5, 'y')"
            ]
          },
          "metadata": {},
          "execution_count": 5
        },
        {
          "output_type": "display_data",
          "data": {
            "text/plain": [
              "<Figure size 640x480 with 1 Axes>"
            ],
            "image/png": "[encoded data removed]"
          },
          "metadata": {}
        }
      ]
    },
    {
      "cell_type": "markdown",
      "source": [
        "Now that we know how to write codes to analyze the linear relationship between two variables, we're ready to move on to real world data!"
      ]
  }
 ],
 "metadata": {
  "colab": {
   "collapsed_sections": [],
   "include_colab_link": true,
   "name": "W2D2_Tutorial5",
   "provenance": [
    {
     "file_id": "108RRAFBnnKvDTfEDC0Fm5qHZez32HB69",
     "timestamp": 1680091091012
    },
    {
     "file_id": "1WfT8oN22xywtecNriLptqi1SuGUSoIlc",
     "timestamp": 1680037587733
    }
   ],
   "toc_visible": true
  },
  "kernel": {
   "display_name": "Python 3",
   "language": "python",
   "name": "python3"
  },
  "kernelspec": {
   "display_name": "Python 3 (pangeo)",
   "language": "python",
   "name": "pangeo"
  },
  "language_info": {
   "codemirror_mode": {
    "name": "ipython",
    "version": 3
   },
   "file_extension": ".py",
   "mimetype": "text/x-python",
   "name": "python",
   "nbconvert_exporter": "python",
   "pygments_lexer": "ipython3",
   "version": "3.10.10"
  }
 },
 "nbformat": 4,
 "nbformat_minor": 0
}
