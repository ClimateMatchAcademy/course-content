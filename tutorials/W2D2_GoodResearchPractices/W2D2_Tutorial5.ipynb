{
 "cells": [
  {
   "cell_type": "markdown",
   "metadata": {
    "execution": {}
   },
   "source": [
    "[![Open In Colab](https://colab.research.google.com/assets/colab-badge.svg)](https://colab.research.google.com/github/ClimateMatchAcademy/course-content/blob/main/tutorials/W2D2_GoodResearchPractices/W2D2_Tutorial5.ipynb) &nbsp; <a href=\"https://kaggle.com/kernels/welcome?src=https://raw.githubusercontent.com/{ORG}/course-content/main/tutorials/W2D2_GoodResearchPractices/W2D2_Tutorial5.ipynb\" target=\"_parent\"><img src=\"https://kaggle.com/static/images/open-in-kaggle.svg\" alt=\"Open in Kaggle\"/></a>"
   ]
  },
  {
   "cell_type": "markdown",
   "metadata": {
    "execution": {}
   },
   "source": [
    "# **Tutorial 5: Drafting the Analysis**\n",
    "\n",
    "**Good Research Practices**\n",
    "\n",
    "**Content creators:** Marguerite Brown, Yuxin Zhou\n",
    "\n",
    "**Content reviewers:** Sherry Mi, Maria Gonzalez, Nahid Hasan, Beatriz Cosenza Muralles, Katrina Dobson, Sloane Garelick, Cheng Zhang\n",
    "\n",
    "**Content editors:** Jenna Pearson, Chi Zhang, Ohad Zivan\n",
    "\n",
    "**Production editors:** Wesley Banfield, Jenna Pearson, Chi Zhang, Ohad Zivan\n",
    "\n",
    "**Our 2023 Sponsors:** NASA TOPS and Google DeepMind"
   ]
  },
  {
   "cell_type": "markdown",
   "metadata": {
    "execution": {}
   },
   "source": [
    "# **Tutorials Objectives**\n",
    "\n",
    "In Tutorials 5-8, you will learn about the research process. This includes how to\n",
    "\n",
    "5.   Draft analyses of data to test a hypothesis\n",
    "6.   Implement analysis of data\n",
    "7.   Interpret results in the context of existing knowledge\n",
    "8.   Communicate your results and conclusions\n",
    "\n",
    "By the end of these tutorials you will be able to:\n",
    "\n",
    "*   Understand the principles of good research practices\n",
    "*   Learn to view a scientific data set or question through the lens of equity: Who is represented by this data and who is not? Who has access to this information? Who is in a position to use it?\n"
   ]
  },
  {
   "cell_type": "code",
   "execution_count": 2,
   "metadata": {
    "tags": []
   },
   "outputs": [],
   "source": [
    "# imports\n",
    "\n",
    "import matplotlib.pyplot as plt\n",
    "import pandas as pd\n",
    "import seaborn as sns\n",
    "import numpy as np\n",
    "from scipy import interpolate\n",
    "from scipy import stats"
   ]
  },
  {
   "cell_type": "code",
   "execution_count": 3,
   "metadata": {
    "cellView": "form",
    "tags": []
   },
   "outputs": [],
   "source": [
    "# @title Video 6: Drafting the Analysis\n",
    "#Tech team will add code to format and display the video"
   ]
  },
  {
   "cell_type": "markdown",
   "metadata": {
    "execution": {}
   },
   "source": [
    "# **Coding Exercise 1**\n",
    "\n",
    "To explore the relationship between CO<sub>2</sub> and temperature, you may want to make a scatter plot of the two variables, where the x-axis represents CO<sub>2</sub> and the y-axis represents temperature. Then you can see if a linear regression model fits the data well.\n",
    "\n",
    "Before you do that, let's learn how to apply a linear regression model using generated data.\n",
    "\n",
    "If you aren't familiar with a linear regression model, it is simply a way of isolating a relationship between two variables (e.g. x and y). For example, each giraffe might have different running speeds. You might wonder if taller giraffes run faster than shorter ones. How do we describe the relationship between a giraffe's height and its running speed? A linear regression model will be able to provide us a mathematical equation:\n",
    "\n",
    "`speed = a * height +  b`\n",
    "\n",
    "where a and b are the slope and intercept of the equation, respectively. Such an equation allows us to predict an unknown giraffe's running speed by simply plugging its height into the equation. Not all giraffes will fit the relationship and other factors might influence their speeds, such as health, diet, age, etc. However, because of its simplicity, linear regression models are usually first attempted by scientists to quantify the relationship between variables.\n",
    "\n",
    "For more information on linear regression models, see the [Wikipedia page](https://en.wikipedia.org/wiki/Linear_regression), especially the first figure on that page: "
   ]
  },
  {
   "cell_type": "code",
   "execution_count": 4,
   "metadata": {
    "executionInfo": {
     "elapsed": 614,
     "status": "ok",
     "timestamp": 1681841571307,
     "user": {
      "displayName": "Sloane Garelick",
      "userId": "04706287370408131987"
     },
     "user_tz": 240
    },
    "tags": []
   },
   "outputs": [
    {
     "data": {
      "text/plain": [
       "Text(0, 0.5, 'y')"
      ]
     },
     "execution_count": 4,
     "metadata": {},
     "output_type": "execute_result"
    },
    {
     "data": {
      "image/png": "[encoded data removed]",
      "text/plain": [
       "<Figure size 640x480 with 1 Axes>"
      ]
     },
     "metadata": {},
     "output_type": "display_data"
    }
   ],
   "source": [
    "# set up a random number generator\n",
    "rng = np.random.default_rng()\n",
    "# x is one hundred random numbers between 0 and 1\n",
    "x = rng.random(100)\n",
    "# y is one hundred random numbers according to the relationship y = 1.6x + 0.5\n",
    "y = 1.6*x + rng.random(100)\n",
    "\n",
    "# plot\n",
    "fig,ax=plt.subplots()\n",
    "ax.scatter(x, y, color='gray')\n",
    "\n",
    "# regression\n",
    "res = stats.linregress(x,y)    # ordinary least sqaure\n",
    "\n",
    "ax.plot(x, x*res.slope+res.intercept, color='k')\n",
    "ax.set_xlabel('x')\n",
    "ax.set_ylabel('y')"
   ]
  },
  {
   "cell_type": "markdown",
   "metadata": {
    "execution": {}
   },
   "source": [
    "To get a sense of how our model fits the data, you can look at the regression results. "
   ]
  },
  {
   "cell_type": "code",
   "execution_count": 5,
   "metadata": {
    "tags": []
   },
   "outputs": [
    {
     "name": "stdout",
     "output_type": "stream",
     "text": [
      "pearson (r^2) value: 0.73 \n",
      "with a p-value of: 1.30e-29\n"
     ]
    }
   ],
   "source": [
    " # summarize model\n",
    "\n",
    "print('pearson (r^2) value: ' +'{:.2f}'.format(res.rvalue**2)+' \\nwith a p-value of: '+'{:.2e}'.format(res.pvalue))"
   ]
  },
  {
   "cell_type": "markdown",
   "metadata": {
    "execution": {}
   },
   "source": [
    "Now that we know how to write codes to analyze the linear relationship between two variables, we're ready to move on to real world data!"
   ]
  }
 ],
 "metadata": {
  "colab": {
   "collapsed_sections": [],
   "include_colab_link": true,
   "name": "W2D2_Tutorial5",
   "provenance": [
    {
     "file_id": "108RRAFBnnKvDTfEDC0Fm5qHZez32HB69",
     "timestamp": 1680091091012
    },
    {
     "file_id": "1WfT8oN22xywtecNriLptqi1SuGUSoIlc",
     "timestamp": 1680037587733
    }
   ],
   "toc_visible": true
  },
  "kernel": {
   "display_name": "Python 3",
   "language": "python",
   "name": "python3"
  },
  "kernelspec": {
   "display_name": "Python 3 (ipykernel)",
   "language": "python",
   "name": "python3"
  },
  "language_info": {
   "codemirror_mode": {
    "name": "ipython",
    "version": 3
   },
   "file_extension": ".py",
   "mimetype": "text/x-python",
   "name": "python",
   "nbconvert_exporter": "python",
   "pygments_lexer": "ipython3",
   "version": "3.10.11"
  }
 },
 "nbformat": 4,
 "nbformat_minor": 4
}
