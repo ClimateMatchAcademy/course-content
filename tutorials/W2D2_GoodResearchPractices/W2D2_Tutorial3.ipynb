{
  "nbformat": 4,
  "nbformat_minor": 0,
  "metadata": {
    "colab": {
      "provenance": [],
      "toc_visible": true,
      "include_colab_link": true
    },
    "kernelspec": {
      "name": "python3",
      "display_name": "Python 3"
    },
    "language_info": {
      "name": "python"
    }
  },
  "cells": [
    {
      "cell_type": "markdown",
      "metadata": {
        "id": "view-in-github",
        "colab_type": "text"
      },
      "source": [
        "<a href=\"https://colab.research.google.com/github/margueriti/crispy-invention/blob/main/Good_Research_Practices_Tutorial_3.ipynb\" target=\"_parent\"><img src=\"https://colab.research.google.com/assets/colab-badge.svg\" alt=\"Open In Colab\"/></a>"
      ]
    },
    {
      "cell_type": "markdown",
      "source": [
        "#**Tutorial 3: Identifying the Basic Ingredients**\n",
        "\n",
        "> Indented block\n",
        "\n",
        "> Indented block\n",
        "\n",
        "\n",
        "\n",
        "\n",
        "**Week 1, Day 1, Good Research Practices**\n",
        "\n",
        "**Content creators:** Marguerite Brown, Yuxin Zhou\n",
        "\n",
        "**Content reviewers:** TBD\n",
        "\n",
        "**Content editors:** TBD\n",
        "\n",
        "**Production editors:** TBD\n",
        "\n",
        "**Our 2023 Sponsors:** TBD"
      ],
      "metadata": {
        "id": "avjFjFXwWqyW"
      }
    },
    {
      "cell_type": "code",
      "source": [
        "# @title Video 3: Identifying the Basic Ingredients \n",
        "#Tech team will add code to format and display the video"
      ],
      "metadata": {
        "id": "0TX7i8MMou1d"
      },
      "execution_count": null,
      "outputs": []
    },
    {
      "cell_type": "markdown",
      "source": [
        "##**Activity: Identifying Basic Ingredients**\n",
        "\n",
        "Take 10 minutes to discuss the advantages and disadvantages of the following basic ingredients to explore the research question from Video 1:\n",
        "\n",
        "\n",
        "*   Ice core data for CO<sub>2</sub>\n",
        "\n",
        "*   Deep sea sediment data for sea surface temperature\n",
        "\n",
        "Can you think of alternatives that might work well?\n",
        "\n",
        "<details>\n",
        "<summary>Click here for some additional information on the datasets mentioned above</summary>\n",
        "\n",
        "Bereiter, B., Eggleston, S., Schmitt, J., Nehrbass-Ahles, C., Stocker, T.F., Fischer, H., Kipfstuhl, S., Chappellaz, J., 2015. Revision of the EPICA Dome C CO2 record from 800 to 600 kyr before present. Geophysical Research Letters 42, 542–549. https://doi.org/10.1002/2014GL061957\n",
        "\n",
        "Shakun, J.D., Lea, D.W., Lisiecki, L.E., Raymo, M.E., 2015. An 800-kyr record of global surface ocean δ18O and implications for ice volume-temperature coupling. Earth and Planetary Science Letters 426, 58–68. https://doi.org/10.1016/j.epsl.2015.05.042"
      ],
      "metadata": {
        "id": "pm4dn3v9JqSJ"
      }
    },
    {
      "cell_type": "markdown",
      "metadata": {
        "execution": {},
        "id": "VKlCmwCT5Ij1"
      },
      "source": [
        "**Choosing your Data**\n",
        "<details>\n",
        "<summary>Click here for some pointers on how to choose your data</summary>\n",
        "\n",
        "Here are some questions to ask yourself when choosing the data to use:\n",
        "\n",
        "What physical processes must be included?\n",
        "<ul>\n",
        "  <li>You don't want an approach that contains less than the bare minimum. For some phenomena, we know what the bare minimum is. For others, more research is needed...</li>\n",
        "  <li>If you are unsure about what physical processes are needed, check the literature!</li></ul>\n",
        "\n",
        "What spatial and temporal resolution is necessary to capture the phenomenon?\n",
        "<ul>\n",
        "<li>GCMs can typically have a spatial resolution around 1000km and time resolution of several hours.</li>\n",
        "<li> For phenomena that require higher resolution, you can either </li>\n",
        "<ul><li>Use a more idealized model that resolves smaller scales</li><li>Implement a parameterization of the sub-gridscale features within the GCM.</li>\n",
        "  </ul></ul>\n",
        "\n",
        "What restrictions do I have for computational resources?\n",
        "<ul>\n",
        "  <li>If you do not have access to large computational resources, you can still do research using smaller datasets or idealized models</li>\n",
        "  </ul>\n",
        "\n",
        "Am I interested in looking at a particular time period or a specific physical location?\n",
        "<ul>\n",
        "  <li>Reanalysis can be used for time periods after roughly the 1940s</li>\n",
        "  <li>Proxy data can be used for a wider historical and prehistorical data</li>\n",
        "  <li>Both reanalysis and proxy data can provide specific location information</li>\n",
        "  <li>Models can be designed to mimic the conditions of the location or time, for example:</li><ul>\n",
        "  <li>GCMs (General Circulation Models or Global Climate Models) can be set according to parameters that resemble the time period</li>\n",
        "  <li>Energy balance models can capture some aspects of average temperature in other time periods</li>\n",
        "  <li>Radiative-convective equilibrium models can capture some phenomena in the tropics</li>\n",
        "  <li>Quasi-geostrophic models can capture some phenomena in the mid-latitudes (between ~30-60 degrees)</li>\n",
        "  <li>And many more!</li>\n",
        "  </ul>\n",
        "  </ul>\n",
        "\n",
        "Am I interested in studying a feature of the phenomenon in isolation or interactions between multiple features?\n",
        "\n",
        "<ul>\n",
        "  <li>If you want to isolate a single aspect of the phenomenon, an idealized model may be more appropriate</li>\n",
        "  <li>If you want to study interactions between multiple features, either observational data or a more complex model may be appropriate</li>\n",
        "  </ul>\n",
        "\n",
        "Am I trying to...\n",
        "<ul> \n",
        "<li>explain the theory behind the phenomenon? an idealized model may be appropriate</li>\n",
        "<li>provide evidence to support or challenge a pre-existing hypothesis? observational data or a more complex model may be appropriate</li>\n",
        "<li> document the features of the phenomenon? observational data may be appropriate</li>\n",
        "</ul>\n",
        "\n",
        "For more information on observational data:  \n",
        "*     [NCAR's climate data guide](https://climatedataguide.ucar.edu/climate-data)\n",
        "*     [NCAR's guide on real-time weather data](https://weather.rap.ucar.edu/)\n",
        "*     [NOAA's guide on hydrological survey data](https://nauticalcharts.noaa.gov/data/hydrographic-survey-data.html)\n",
        "*     [USGS's guide on paleoclimate proxies](https://www.usgs.gov/programs/climate-research-and-development-program/science/paleoclimate-proxies)\n",
        "*     [Pangeo](https://pangeo.io/) hosts a few open-access datasets\n",
        "\n",
        "For more information on numerical modeling: \n",
        "\n",
        "*    Atmospheric Model Hierarchies: Maher, P., Gerber, E. P., Medeiros, B., Merlis, T. M., Sherwood, S., Sheshadri, A., et al. (2019). Model hierarchies for understanding atmospheric circulation, Reviews of Geophysics, 57, 250– 280. https://doi.org/10.1029/2018RG000607\n",
        "*    Ocean Model Hierarchies:  Hsu, T.-Y., Primeau, F., & Magnusdottir, G. (2022). A hierarchy of global ocean models coupled to CESM1. Journal of Advances in Modeling Earth Systems, 14, e2021MS002979. https://doi.org/10.1029/2021MS002979 "
      ]
    }
  ]
}
