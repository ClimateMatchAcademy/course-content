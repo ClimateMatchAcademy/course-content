{
 "cells": [
  {
   "cell_type": "markdown",
   "metadata": {
    "execution": {}
   },
   "source": [
    "# **Tutorial 2: Explore Satellite Climate Data Records**\n",
    "\n",
    "**Week 1, Day 3, Remote Sensing**\n",
    "\n",
    "**Content creators:** Douglas Rao\n",
    "\n",
    "**Content reviewers:** Katrina Dobson, Younkap Nina Duplex, Danika Gupta, Maria Gonzalez, Will Gregory, Nahid Hasan, Sherry Mi, Beatriz Cosenza Muralles, \n",
    "\n",
    "**Content editors:** Younkap Nina Duplex\n",
    "\n",
    "**Production editors:** Wesley Banfield, Jenna Pearson, Chi Zhang, Ohad Zivan\n",
    "\n",
    "**Our 2023 Sponsors:** NASA TOPS"
   ]
  },
  {
   "cell_type": "markdown",
   "metadata": {
    "execution": {}
   },
   "source": [
    "# **Tutorial Objectives**\n",
    "\n",
    "In this tutorial, our objectives are to enhance your understanding of several key concepts and tools that are crucial in the field of satellite remote sensing for climate applications. Specifically, by the end of this session, you should be able to:\n",
    "\n",
    "- Grasp the principle of inter-satellite calibration, a critical step in creating reliable climate data records;\n",
    "- Familiarize yourself with an array of long-term satellite remote sensing datasets that are tailored for climate applications, brought to you by three leading data providers: NOAA, NASA, and ESA;\n",
    "- Navigate and utilize these datasets in your own climate-related studies or projects.\n",
    "\n",
    "In this way, this tutorial aims to equip you with a solid foundation in leveraging satellite remote sensing data for climate analysis and applications."
   ]
  },
  {
   "cell_type": "markdown",
   "metadata": {
    "execution": {}
   },
   "source": [
    "# **Setup**\n",
    "\n",
    "\n",
    "\n",
    "In this section, we have:\n",
    "\n",
    "\n",
    "1.   **Import cell:** imports all libraries you use in the tutorial.\n",
    "2.   **Hidden Figure settings cell:** sets up the plotting style (copy exactly)\n",
    "1.   **Hidden Plotting functions cell:** contains all functions used to create plots throughout the tutorial (so students don't waste time looking at boilerplate matplotlib but can here if they wish to). Please use only matplotlib for plotting for consistency.\n",
    "2.   **Hidden Helper functions cell:** This should contain functions that students have previously used or that are very simple. Any helper functions that are being used for the first time and are important should be placed directly above the relevant text or exercise (see Section 1.1 for an example).\n",
    "    \n",
    "\n"
   ]
  },
  {
   "cell_type": "markdown",
   "metadata": {
    "execution": {}
   },
   "source": [
    "# **Section 1: Satellite Climate Data Records**\n",
    "\n",
    "You have already seen some use cases and examples of how satellite remote sensing data can be used for climate research and applications. But are all satellite data \"created equal\" for climate research and applications? There are a lot of considerations need to be taken into account when using satellite data for climate sciences, particularly if you want to use satellite data to monitor the long term change of different components of the Earth system.\n",
    "\n"
   ]
  },
  {
   "cell_type": "code",
   "execution_count": null,
   "metadata": {
    "cellView": "form",
    "execution": {}
   },
   "outputs": [],
   "source": [
    "# @title Video 1: Video 1 Name\n",
    "#Tech team will add code to format and display the video"
   ]
  },
  {
   "cell_type": "markdown",
   "metadata": {
    "execution": {}
   },
   "source": [
    "**Satellite Climate Data Records**\n",
    "\n",
    "In 2004, a committee convened by the US National Research Council defined a [***Climate Data Record (CDR)***](https://www.ncei.noaa.gov/products/climate-data-records) is \"a time series of measurements of sufficient length, consistency and continuity to determine climate variability and change.\" Although there are no specific number to determine the \"sufficient length\", the typical climate length is considered to be at least 30 years. To achieve a stable, consistent, and reliable satellite CDR, we need to carefully calibrate the raw satellite data. "
   ]
  },
  {
   "cell_type": "markdown",
   "metadata": {
    "execution": {}
   },
   "source": [
    "## **Section 1.1: Satellite Missions for Environmental Monitoring**\n",
    "\n",
    "When it comes to monitoring environmental and climate changes in a region using weather stations, we can have confidence in the data quality due to regular inspections and maintenance of these stations and instruments. In North America and Europe, for instance, there are numerous weather stations that have been operating for over a century, providing reliable long-term data.\n",
    "\n",
    "In contrast, a single satellite mission has a **designed operational lifespan of 5-8 years**, and over time, the sensors on these satellites can deteriorate. While some satellites like Terra and Aqua have exceeded their designed lifespan and continue to operate successfully for more than 20 years, **relying on a single satellite for climate monitoring and applications is exceedingly challenging**, if not impossible.\n",
    "\n",
    "Thankfully, we have a range of satellite platforms at our disposal that operate continuously and carry similar remote sensors, making it feasible to utilize multiple satellites together for climate-related purposes. Since the 1970s, dozens of satellites, including both polar-orbiting and geostationary satellites, have been designed for weather and environmental monitoring. While not originally intended for climate studies, researchers have developed methods to merge data from various satellite platforms, enabling the creation of robust long-term time series of satellite data. Moreover, future satellite missions are being carefully designed to extend these data records further.\n",
    "\n",
    "The image below illustrates a timeline showcasing a selection of polar-orbiting satellite missions whose data are commonly employed to generate satellite Climate Data Records (CDRs). \n",
    "\n",
    "![satellite_timeline](./asset/img/t2_satellite_timeline.png)"
   ]
  },
  {
   "cell_type": "markdown",
   "metadata": {
    "execution": {}
   },
   "source": [
    "The above figure shows the variety of satellite lifespan - you can find some satellites only operated 3-5 years while there are a handful of satellite missions operated more than 15 years. Most importantly, we usually have at least two satellite missions operating during the same time period.\n",
    "\n",
    "The overlapping among satellite missions is critical for generating satellite CDRs as we can compare the data during the overlapping time period and account for the systematic differences between satellite missions.\n",
    "\n",
    "Meanwhile, there are significant technology advancement in remote sensors aboard different satellite missions. These different generations of remote sensors aboard satellite missions are identified by the solid grey lines in the figure. As indicated in the figure above, we have seen three major upgrades in sensor technologies. **These sensor changes also need to be accounted for when creating satellite CDRs.**"
   ]
  },
  {
   "cell_type": "markdown",
   "metadata": {
    "execution": {}
   },
   "source": [
    "## **Section 1.2: Inter-satellite Calibration**\n",
    "\n",
    "As noted in the previous section, the change of satellite missions and remote sensors make it hard to use remotely sensed data \"as it is\" for climate applications. These changes can offten cause systematic differences in raw satellite data (see image below).\n",
    "\n",
    "The figure is exagerating the possible systematic differences between raw data collected by different satellite missions. Nonetheless, **these systematic differences can often cause large uncertainty for climate science when not addressed properly.**\n",
    "\n",
    "![t2_calibration](./asset/img/t2_calibration_pt1.png)"
   ]
  },
  {
   "cell_type": "markdown",
   "metadata": {
    "execution": {}
   },
   "source": [
    "To address the differences that are caused by sensor and satellite change, we often perform **inter-satellite calibration** - adjusting the raw data collected by different satellite to a pre-defined reference to remove or minimize the systematic difference between data collected by different satellites/sensors. This pre-defined reference is usually determined using data during satellite overlapping time period (see image below). But we can also use other high quality reference data like surface observations, theoretical basis, or other ancillary data. Click [here](https://www.eumetsat.int/inter-calibration) for more information on **inter-satellite calibration**.\n",
    "\n",
    "![t2_calibration_pt2](./asset/img/t2_calibration_pt2.png)"
   ]
  },
  {
   "cell_type": "markdown",
   "metadata": {
    "execution": {}
   },
   "source": [
    "A **well-calibrated multi-satellite date record** is often assessed by examining the differences between satellite data during the overlapping time period. Once we are confident that the differences are minimal or within an accepted range, the long term time series based on multiple satellites can be used for climate applications.\n",
    "\n",
    "The inter-satellite calibration step is the key to ensure that climate signals can be accurately reflected in the satellite data and not affected by the noise caused by change in satellite platforms and sensors. Therefore, when you are choosing satellite data for climate applications, you should be asking yourself a few questions:\n",
    "\n",
    "* Are the data that you are planning to use collected by the same sensor and satellite?\n",
    "* If the data are from multiple satellites/sensors, are there steps to ensure the data are consistent across difference satellites/sensors?\n",
    "* Can you find out how the inter-satellite calibration is done and what is the level of difference between satellites/sensors?\n",
    "\n",
    "These questions will help you determine if the remotely sensed data is appropriate for climate applications that you are interested in.\n",
    "\n",
    "![t2_calibration_pt3](./asset/img/t2_calibration_pt3.png)"
   ]
  },
  {
   "cell_type": "markdown",
   "metadata": {
    "execution": {}
   },
   "source": [
    "## **Exercise 1: Is this the right data?**\n",
    "\n",
    "Assuming that you are interested in using remote sensing data to understand how the rainfall amount and frequency have changed for the region that you are in since 1990. There are three different satellite data that you can choose from:\n",
    "\n",
    "* _Option A_: Data from the most recent satellite missions designed to monitor global precipitation. The satellite has the most accurate sensor and the satellite was launched in 2014. \n",
    "* _Option B_: Data from three different satellite missions that carry similar sensors (first satellite: 1985-1994; second satellite: 1992-2006; third satellite: 2003-present).\n",
    "* _Option C_: Data from the three different satellite missions described in _Option B_ that has been calibrated using long term surface measurements of rainfall in your region. \n",
    "\n",
    "Can you choose the best data for your application? Why would you make this choice? Do you need more information to make the decision?\n",
    "\n"
   ]
  },
  {
   "cell_type": "code",
   "execution_count": null,
   "metadata": {
    "execution": {}
   },
   "outputs": [
    {
     "data": {
      "text/plain": [
       "'\\n\\n\\n\\n'"
      ]
     },
     "execution_count": 2,
     "metadata": {},
     "output_type": "execute_result"
    }
   ],
   "source": [
    "# Please describe your answers below and you can discuss your answers with others in your pod\n",
    "\"\"\"\n",
    "\n",
    "\n",
    "\n",
    "\"\"\""
   ]
  },
  {
   "cell_type": "markdown",
   "metadata": {
    "execution": {}
   },
   "source": [
    "# **Section 2: Finding Satellite Climate Data Records**\n",
    "\n",
    "Finding the right satellite Climate Data Records (CDRs) for your climate science and applications can be a challenge. In this section, we will explore satellite data provided by three major remote sensing data providers: NOAA, NASA, and the European Space Agency (ESA). While we won't cover the code to analyze the data in this tutorial, you will learn how to do that in the upcoming tutorials.\n"
   ]
  },
  {
   "cell_type": "markdown",
   "metadata": {
    "execution": {}
   },
   "source": [
    "## **Section 2.1: NOAA Climate Data Records**\n",
    "\n",
    "NOAA implemented the recommendation from the US National Research Council to develop satellite-based climate data records in 2000s and have maintained a suite of operational CDRs that can be used to study different aspects of the changing climate system since then.\n",
    "\n",
    "All NOAA CDR data are available freely to the public via [NOAA National Centers for Environmental Information](https://www.ncei.noaa.gov/products/climate-data-records). Recently, [NOAA Open Data Dissemination Program](https://www.noaa.gov/information-technology/open-data-dissemination) also makes all NOAA CDRs available on three major commercial cloud service providers (i.e., Amazon Web Service, Google Cloud, and Microsoft Azure). The NOAA Climate Data Records (CDRs) are available to anyone interested in accessing the data. The data can be obtained through the [National Centers for Environmental Information (NCEI)](https://www.ncei.noaa.gov/) or through various cloud service providers, and they are typically provided free of charge.\n",
    "\n",
    "NOAA CDRs have two different categories with different purposes:\n",
    "\n",
    "* _Fundamental CDR (FCDR)_: This category consists of high-quality, low-level processed satellite sensor data, such as reflectance and brightness temperature. The FCDR datasets are carefully calibrated between satellites and sensors to ensure accuracy and consistency. These datasets are primarily used to assess and improve Earth system models and can also be further processed to derive physical properties for climate applications.\n",
    "* _Thematic CDR_: The thematic CDR category includes satellite CDRs that have been processed to study specific components of the climate system. This category is often further divided into terrestrial, atmospheric, and ocean themes, focusing on different aspects of Earth's climate. Thematic CDRs provide valuable information for understanding climate processes and changes in various domains.\n",
    "\n",
    "The table below lists a selection of thematic CDRs operates by NOAA. You can find out more about all NOAA CDRs by visiting the specific webpage of each CDR categories:\n",
    "\n",
    "* [Fundamental CDR](https://www.ncei.noaa.gov/products/climate-data-records/fundamental) - 16 datasets\n",
    "* [Thematic CDR: Terrestrial](https://www.ncei.noaa.gov/products/climate-data-records/terrestrial) - 4 datasets\n",
    "* [Thematic CDR: Atmospheric](https://www.ncei.noaa.gov/products/climate-data-records/atmospheric) - 18 datasets\n",
    "* [Thematic CDR: Oceanic](https://www.ncei.noaa.gov/products/climate-data-records/oceanic) - 5 datasets"
   ]
  },
  {
   "cell_type": "markdown",
   "metadata": {
    "execution": {}
   },
   "source": [
    "| Dataset | Category | Start Year | Frequency | Spatial Resolution | Example Application Areas |\n",
    "|:--|:--:|:--:|:--:|:--:|:--|\n",
    "|Leaf Area Index and FAPAR|Terrestrial|1981|Daily|0.05°| Vegetation status monitoring; Agriculture monitoring; Crop yield/food security|\n",
    "|Normalized Difference Vegetation Index (NDVI)|Terrestrial|1981|Daily|0.05°|Vegetation status monitoring; Vegetation phenology study|\n",
    "|Snow Cover Extent (Northern Hemisphere)|Terrestrial|1966|Weekly (prior 1999-06) <br><br> Daily (post 1999-06)|~190 km| Hydrology; Water resources; Snow-climate feedback|\n",
    "|Aerosol Optical Thickness|Atmospheric|1981|Daily & Monthly|0.1°|Air quality; Aerosol-climate feedback|\n",
    "|PATMOS-x Cloud Properties|Atmospheric|1979|Daily|0.1°|Cloud process; Cloud-climate feedback|\n",
    "|Precipitation - PERSIANN|Atmospheric|1982|Daily|0.25° <br><br> (60°S–60°N)|Hydrology; Water resources; Extreme events|\n",
    "|Sea Surface Temperature - Optimum Interpolation|Oceanic|1981|Daily|0.25°|Climate variability; Marine heatwave; Marine ecosystem|\n",
    "|Sea Ice Concentration|Oceanic|1978|Daily & Monthly|25 km|Crosphere study; Wildlife conservation; Ocean/climate modeling|"
   ]
  },
  {
   "cell_type": "markdown",
   "metadata": {
    "execution": {}
   },
   "source": [
    "## **Section 2.2: ESA Climate Change Initiative**\n",
    "\n",
    "European Space Agency initiated a similar effort to develop consistent satellite-based long term records to support the mission of climate monitoring for societal benefits in late 2010s. [ESA Climate Change Initiative (CCI)](https://climate.esa.int/en/esa-climate/esa-cci/) has established more than 26 projects to develop satellite-based CDRs and directly engage with downstream users.\n",
    "\n",
    "As CCI is established more recently, there is very strong emphasis on the applications to support the monitoring of [**essential climate variables** (ECVs) defined by Global Climate Observing System (GCOS)](https://public.wmo.int/en/programmes/global-climate-observing-system/essential-climate-variables). An ECV is defined as \"a physical, chemical or biological variable or a group of linked variables that critically contributes to the characterization of Earth’ s climate.\"\n",
    "\n",
    "The table below lists a selection of ESA CCI datasets and their example application areas."
   ]
  },
  {
   "cell_type": "markdown",
   "metadata": {
    "execution": {}
   },
   "source": [
    "| Dataset | Category | Duration | Frequency | Spatial Resolution | Example Application Areas |\n",
    "|:--|:--:|:--:|:--:|:--:|:--|\n",
    "|Sea Level|Oceanic|1992-2015|Monthly|0.25°|Sea level rise; Ocean modeling|\n",
    "|Water Vapor|Atmospheric|1985-2019|Monthly|5°|Water vapor-climate feedback; Hydrology|\n",
    "|Fire|Terrestrial|1981-2020|Monthly|0.05° (pixel dataset) <br><br> 0.25° (grid dataset)|Ecosystem disturbance; Extreme events; Social impact|\n",
    "|Land Cover|Terrestrial|1992-2020|Yearly|300 m|Terrestrial modeling|\n",
    "|Soil Moisture|Terrestrial|1978-2021|Daily|0.25°|Hydrology; Ecosystem impacts; Extreme events|"
   ]
  },
  {
   "cell_type": "markdown",
   "metadata": {
    "execution": {}
   },
   "source": [
    "You may observe that some datasets do not span the typical duration necessary for climate studies (for instance, 30 years). This occurrence is influenced by a variety of factors such as:\n",
    "\n",
    "- Legacy sensors were not designed or capable of accurately capturing the ECVs of interest.\n",
    "- The CCI project is executed in stages, initiating with the most recent satellite missions/sensors. However, plans are underway to incorporate older data from heritage satellite missions/sensors.\n",
    "\n",
    "Moreover, each ESA CCI project frequently offers different versions of ECV variables, each designed for specific applications. The specifications of these ECV variables might deviate from the table above if they represent a subset of the time period, utilizing data from the latest sensors. The table primarily provides information on the longest time record for each CCI.\n",
    "\n",
    "All ESA CCI data are openly accessible and free of charge to users without any restrictions. All these resources can be accessed via the [**ESA CCI Open Data Portal**](https://climate.esa.int/en/odp/#/dashboard).\n",
    "\n",
    "To further assist users in accessing and analyzing the CCI data, ESA has also developed the [**CCI Analysis Toolbox (Cate)**](https://climate.esa.int/en/explore/analyse-climate-data/). It is described as a \"cloud-enabled computing environment geared for scientists who need to analyze, process, and visualize ESA’s climate data and other spatiotemporal data.\"\n"
   ]
  },
  {
   "cell_type": "markdown",
   "metadata": {
    "execution": {}
   },
   "source": [
    "## **Section 2.3: NASA Earth System Data Records**\n",
    "\n",
    "Similar to other two satellite data providers, NASA also produces and distribute a variety of long-term satellite-based data records that may be suitable for different applications. NASA [Earth System Data Records (ESDRs)](https://www.earthdata.nasa.gov/esds/competitive-programs/measures?page=0) is defined as \"as a unified and coherent set of observations of a given parameter of the Earth system, which is optimized to meet specific requirements in addressing science questions.\"\n",
    "\n",
    "While NASA's ESDR does not specifically target climate, these records are often created to monitor and study various components of the climate systems. For instance, surface temperature, global forest coverage change, atmospheric compositions, and ice sheet velocity are all areas of focus.\n",
    "\n",
    "The table below showcases a selection of NASA ESDRs datasets that nicely complement the satellite Climate Data Records (CDRs) offered by NOAA and ESA."
   ]
  },
  {
   "cell_type": "markdown",
   "metadata": {
    "execution": {}
   },
   "source": [
    "| Dataset | Category | Duration | Frequency | Spatial Resolution | Example Application Areas |\n",
    "|:--|:--:|:--:|:--:|:--:|:--|\n",
    "|[Sulfur Dioxide](https://www.earthdata.nasa.gov/esds/competitive-programs/measures/multi-decadal-sulfur-dioxide)|Atmospheric|1978-2022|Daily|50 km|Atmospheric modeling; Air quality|\n",
    "|[Ozone](https://disc.gsfc.nasa.gov/datasets/MSO3L3zm5_1/summary)|Atmospheric|1970-2013|Monthly|5°|Ozone monitoring; Air quality|\n",
    "|[Sea Surface Height](https://podaac.jpl.nasa.gov/dataset/SEA_SURFACE_HEIGHT_ALT_GRIDS_L4_2SATS_5DAY_6THDEG_V_JPL2205)|Oceanic|1992-ongoing|5-Day|1/6°|Sea level rise; Ocean modeling|\n",
    "|[GPCP Satellite-Gauge Combined Precipitation Data](https://disc.gsfc.nasa.gov/datasets/GPCPMON_3.2/summary)|Atmospheric|1983-2020|Daily & Monthly|0.5°|Hydrology; Extreme events|"
   ]
  },
  {
   "cell_type": "markdown",
   "metadata": {
    "execution": {}
   },
   "source": [
    "If you've visited the linked NASA ESDR page above, you may have noticed that it appears less structured compared to the NOAA CDR program and the ESA CCI open data portal. This is partly because NASA operates different data centers for distinct application areas (e.g., atmosphere, snow/ice, land, etc.). However, you can always visit [**NASA's Earth Data Search**](https://search.earthdata.nasa.gov/search) – a comprehensive portal for accessing datasets provided by NASA's Earth science data system. To access the data, you'll be required to create a user account. Rest assured, registration for the NASA Earthdata system is free and open to anyone."
   ]
  },
  {
   "cell_type": "markdown",
   "metadata": {
    "execution": {}
   },
   "source": [
    "## **Exercise 2: Explore Satellite CDR for Specific Applications**\n",
    "\n",
    "Now that you have been introduced to three major sources of remote sensing data for climate applications, it's time to identify the dataset that best suits your requirements. In this exercise, you can choose one or more data providers (NASA, NOAA, ESA) and explore their satellite data to determine which one aligns best with your application needs."
   ]
  },
  {
   "cell_type": "code",
   "execution_count": 3,
   "metadata": {
    "execution": {}
   },
   "outputs": [
    {
     "data": {
      "text/plain": [
       "'\\n\\n'"
      ]
     },
     "execution_count": 3,
     "metadata": {},
     "output_type": "execute_result"
    }
   ],
   "source": [
    "### Step 1: Describe your application interest. Be as specific as you can, this\n",
    "### will help you narrow down your search for the data\n",
    "\"\"\"\n",
    "\n",
    "\"\"\"\n",
    "### Step 2: Identify an ideal spatial and temporal resolution for your application\n",
    "### (e.g., daiyl/weekly/monthly, 500 m/5 km/25 km/...?)\n",
    "\"\"\"\n",
    "\n",
    "\"\"\"\n",
    "### Step 3: Explore the data from one of the data providers to see if there is\n",
    "### any data that can fit your application need and explain why\n",
    "\"\"\"\n",
    "\n",
    "\"\"\""
   ]
  },
  {
   "cell_type": "markdown",
   "metadata": {
    "execution": {}
   },
   "source": [
    "# **Summary**\n",
    "\n",
    "In this tutorial, we learned about \n",
    "\n",
    "*   **Inter-satellite calibration** is a critical step to produce a consistent remote sensing dataset for climate applications, since it is often needed to use data from different satellites and sensors.\n",
    "*   **Major collections of satellite-based datasets** for climate applications, including NOAA Climate Data Records, ESA Climate Change Initiative, and NASA Earth System Data Records.\n",
    "\n",
    "In the upcoming tutorial, we will be transitioning towards exploring how to utilize computational tools to access publicly available remote sensing data for climate applications.\n"
   ]
  }
 ],
 "metadata": {
  "colab": {
   "collapsed_sections": [],
   "include_colab_link": true,
   "name": "W1D3_Tutorial2",
   "provenance": [],
   "toc_visible": true
  },
  "kernel": {
   "display_name": "Python 3",
   "language": "python",
   "name": "python3"
  },
  "kernelspec": {
   "display_name": "Python 3 (ipykernel)",
   "language": "python",
   "name": "python3"
  },
  "language_info": {
   "codemirror_mode": {
    "name": "ipython",
    "version": 3
   },
   "file_extension": ".py",
   "mimetype": "text/x-python",
   "name": "python",
   "nbconvert_exporter": "python",
   "pygments_lexer": "ipython3",
   "version": "3.10.10"
  }
 },
 "nbformat": 4,
 "nbformat_minor": 4
}
