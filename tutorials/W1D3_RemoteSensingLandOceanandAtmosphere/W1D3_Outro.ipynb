{
 "cells": [
  {
   "cell_type": "markdown",
   "id": "1a4babe0",
   "metadata": {},
   "source": [
    "# Outro"
   ]
  },
  {
   "cell_type": "markdown",
   "id": "efa01eb3",
   "metadata": {},
   "source": [
    "Now you understand what is satellite remote sensing and can access and analyze modern satellite data for climate applications. These skills and tools can be helpful in your project time if you are working on projects using satellite datasets. During next day, you will learn something quite different - paleoclimate, a critical component of the history of our climate system."
   ]
  }
 ],
 "metadata": {
  "kernelspec": {
   "display_name": "climatematch",
   "language": "python",
   "name": "climatematch"
  },
  "language_info": {
   "codemirror_mode": {
    "name": "ipython",
    "version": 3
   },
   "file_extension": ".py",
   "mimetype": "text/x-python",
   "name": "python",
   "nbconvert_exporter": "python",
   "pygments_lexer": "ipython3",
   "version": "3.10.11"
  }
 },
 "nbformat": 4,
 "nbformat_minor": 5
}
