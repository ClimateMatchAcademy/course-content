{
 "cells": [
  {
   "cell_type": "markdown",
   "metadata": {
    "execution": {}
   },
   "source": [
    "#**Tutorial 6: Large Scale Climate Variability - ENSO**\n",
    "\n",
    "> Indented block\n",
    "\n",
    "> Indented block\n",
    "\n",
    "\n",
    "\n",
    "\n",
    "**Week 1, Day 3, Remote Sensing**\n",
    "\n",
    "**Content creators:** Douglas Rao\n",
    "\n",
    "**Content reviewers:** TBD\n",
    "\n",
    "**Content editors:** TBD\n",
    "\n",
    "**Production editors:** TBD\n",
    "\n",
    "**Our 2023 Sponsors:** TBD"
   ]
  },
  {
   "cell_type": "markdown",
   "metadata": {
    "execution": {}
   },
   "source": [
    "#**Tutorial Objectives**\n",
    "\n",
    "In this tutorial, you will learn the basics of the El Nino-Southern Oscillation (ENSO) - one of the most influencial large-scale climate variability that affects weather and climate.\n",
    "\n",
    "By the end of this tutorial you will be able to:\n",
    "\n",
    "* Understand the concept of ENSO and three different phases of the ENSO\n",
    "* Use satellite based sea surface temperature data to calculate index for ENSO monitoring\n"
   ]
  },
  {
   "cell_type": "markdown",
   "metadata": {
    "execution": {}
   },
   "source": [
    "#**Setup**\n",
    "\n",
    "\n",
    "\n",
    "In this section, we have:\n",
    "\n",
    "\n",
    "1.   **Import cell:** imports all libraries you use in the tutorial.\n",
    "2.   **Hidden Figure settings cell:** sets up the plotting style (copy exactly)\n",
    "1.   **Hidden Plotting functions cell:** contains all functions used to create plots throughout the tutorial (so students don't waste time looking at boilerplate matplotlib but can here if they wish to). Please use only matplotlib for plotting for consistency.\n",
    "2.   **Hidden Helper functions cell:** This should contain functions that students have previously used or that are very simple. Any helper functions that are being used for the first time and are important should be placed directly above the relevant text or exercise (see Section 1.1 for an example).\n",
    "    \n",
    "\n"
   ]
  },
  {
   "cell_type": "code",
   "execution_count": null,
   "metadata": {
    "execution": {},
    "tags": [
     "colab"
    ]
   },
   "outputs": [],
   "source": [
    "#Imports\n",
    "\n",
    "# Import only the libraries/objects that you use in this tutorial.\n",
    "\n",
    "# If any external library has to be installed, !pip install library --quiet\n",
    "# follow this order: numpy>matplotlib.\n",
    "# import widgets in hidden Figure settings cell\n",
    "\n",
    "# Properly install cartopy in colab to avoid session crash\n",
    "# !apt-get install libproj-dev proj-data proj-bin --quiet\n",
    "# !apt-get install libgeos-dev --quiet\n",
    "# !pip install cython --quiet\n",
    "# !pip install cartopy --quiet\n",
    "\n",
    "# !apt-get -qq install python-cartopy python3-cartopy  --quiet\n",
    "# !pip uninstall -y shapely  --quiet\n",
    "# !pip install shapely --no-binary shapely  --quiet"
   ]
  },
  {
   "cell_type": "code",
   "execution_count": null,
   "metadata": {
    "execution": {}
   },
   "outputs": [],
   "source": [
    "import xarray as xr\n",
    "import numpy as np\n",
    "import matplotlib.pyplot as plt\n",
    "import cartopy, cartopy.crs as ccrs"
   ]
  },
  {
   "cell_type": "markdown",
   "metadata": {},
   "source": [
    "##  Figure settings\n"
   ]
  },
  {
   "cell_type": "markdown",
   "metadata": {},
   "source": [
    "###  Figure settings\n"
   ]
  },
  {
   "cell_type": "markdown",
   "metadata": {},
   "source": [
    "####  Figure settings\n"
   ]
  },
  {
   "cell_type": "markdown",
   "metadata": {},
   "source": [
    "#####  Figure settings\n"
   ]
  },
  {
   "cell_type": "markdown",
   "metadata": {},
   "source": [
    "######  Figure settings\n"
   ]
  },
  {
   "cell_type": "markdown",
   "metadata": {},
   "source": [
    "#######  Figure settings\n"
   ]
  },
  {
   "cell_type": "markdown",
   "metadata": {},
   "source": [
    "########  Figure settings\n"
   ]
  },
  {
   "cell_type": "markdown",
   "metadata": {},
   "source": [
    "#########  Figure settings\n"
   ]
  },
  {
   "cell_type": "markdown",
   "metadata": {},
   "source": [
    "##########  Figure settings\n"
   ]
  },
  {
   "cell_type": "markdown",
   "metadata": {},
   "source": [
    "###########  Figure settings\n"
   ]
  },
  {
   "cell_type": "markdown",
   "metadata": {},
   "source": [
    "############  Figure settings\n"
   ]
  },
  {
   "cell_type": "markdown",
   "metadata": {},
   "source": [
    "#############  Figure settings\n"
   ]
  },
  {
   "cell_type": "markdown",
   "metadata": {},
   "source": [
    "##############  Figure settings\n"
   ]
  },
  {
   "cell_type": "markdown",
   "metadata": {},
   "source": [
    "###############  Figure settings\n"
   ]
  },
  {
   "cell_type": "markdown",
   "metadata": {},
   "source": [
    "################  Figure settings\n"
   ]
  },
  {
   "cell_type": "markdown",
   "metadata": {},
   "source": [
    "#################  Figure settings\n"
   ]
  },
  {
   "cell_type": "markdown",
   "metadata": {},
   "source": [
    "##################  Figure settings\n"
   ]
  },
  {
   "cell_type": "markdown",
   "metadata": {},
   "source": [
    "###################  Figure settings\n"
   ]
  },
  {
   "cell_type": "markdown",
   "metadata": {},
   "source": [
    "####################  Figure settings\n"
   ]
  },
  {
   "cell_type": "markdown",
   "metadata": {},
   "source": [
    "#####################  Figure settings\n"
   ]
  },
  {
   "cell_type": "markdown",
   "metadata": {},
   "source": [
    "######################  Figure settings\n"
   ]
  },
  {
   "cell_type": "markdown",
   "metadata": {},
   "source": [
    "#######################  Figure settings\n"
   ]
  },
  {
   "cell_type": "markdown",
   "metadata": {},
   "source": [
    "########################  Figure settings\n"
   ]
  },
  {
   "cell_type": "markdown",
   "metadata": {},
   "source": [
    "#########################  Figure settings\n"
   ]
  },
  {
   "cell_type": "markdown",
   "metadata": {},
   "source": [
    "##########################  Figure settings\n"
   ]
  },
  {
   "cell_type": "markdown",
   "metadata": {},
   "source": [
    "###########################  Figure settings\n"
   ]
  },
  {
   "cell_type": "markdown",
   "metadata": {},
   "source": [
    "############################  Figure settings\n"
   ]
  },
  {
   "cell_type": "markdown",
   "metadata": {},
   "source": [
    "#############################  Figure settings\n"
   ]
  },
  {
   "cell_type": "markdown",
   "metadata": {},
   "source": [
    "##############################  Figure settings\n"
   ]
  },
  {
   "cell_type": "markdown",
   "metadata": {},
   "source": [
    "###############################  Figure settings\n"
   ]
  },
  {
   "cell_type": "markdown",
   "metadata": {},
   "source": [
    "################################  Figure settings\n"
   ]
  },
  {
   "cell_type": "markdown",
   "metadata": {},
   "source": [
    "#################################  Figure settings\n"
   ]
  },
  {
   "cell_type": "markdown",
   "metadata": {},
   "source": [
    "##################################  Figure settings\n"
   ]
  },
  {
   "cell_type": "code",
   "execution_count": null,
   "metadata": {
    "cellView": "form",
    "execution": {},
    "tags": [
     "hide-input"
    ]
   },
   "outputs": [],
   "source": [
    "# @title Figure settings\n",
    "import ipywidgets as widgets       # interactive display\n",
    "%config InlineBackend.figure_format = 'retina'\n",
    "plt.style.use(\"https://raw.githubusercontent.com/ClimateMatchAcademy/course-content/main/cma.mplstyle\")"
   ]
  },
  {
   "cell_type": "markdown",
   "metadata": {
    "execution": {}
   },
   "source": [
    "# **Section 1: El Niño-Southern Oscillation (ENSO)**\n"
   ]
  },
  {
   "cell_type": "markdown",
   "metadata": {},
   "source": [
    "##  Video 1: Video 1 Name\n"
   ]
  },
  {
   "cell_type": "markdown",
   "metadata": {},
   "source": [
    "###  Video 1: Video 1 Name\n"
   ]
  },
  {
   "cell_type": "markdown",
   "metadata": {},
   "source": [
    "####  Video 1: Video 1 Name\n"
   ]
  },
  {
   "cell_type": "markdown",
   "metadata": {},
   "source": [
    "#####  Video 1: Video 1 Name\n"
   ]
  },
  {
   "cell_type": "markdown",
   "metadata": {},
   "source": [
    "######  Video 1: Video 1 Name\n"
   ]
  },
  {
   "cell_type": "markdown",
   "metadata": {},
   "source": [
    "#######  Video 1: Video 1 Name\n"
   ]
  },
  {
   "cell_type": "markdown",
   "metadata": {},
   "source": [
    "########  Video 1: Video 1 Name\n"
   ]
  },
  {
   "cell_type": "markdown",
   "metadata": {},
   "source": [
    "#########  Video 1: Video 1 Name\n"
   ]
  },
  {
   "cell_type": "markdown",
   "metadata": {},
   "source": [
    "##########  Video 1: Video 1 Name\n"
   ]
  },
  {
   "cell_type": "markdown",
   "metadata": {},
   "source": [
    "###########  Video 1: Video 1 Name\n"
   ]
  },
  {
   "cell_type": "markdown",
   "metadata": {},
   "source": [
    "############  Video 1: Video 1 Name\n"
   ]
  },
  {
   "cell_type": "markdown",
   "metadata": {},
   "source": [
    "#############  Video 1: Video 1 Name\n"
   ]
  },
  {
   "cell_type": "markdown",
   "metadata": {},
   "source": [
    "##############  Video 1: Video 1 Name\n"
   ]
  },
  {
   "cell_type": "markdown",
   "metadata": {},
   "source": [
    "###############  Video 1: Video 1 Name\n"
   ]
  },
  {
   "cell_type": "markdown",
   "metadata": {},
   "source": [
    "################  Video 1: Video 1 Name\n"
   ]
  },
  {
   "cell_type": "markdown",
   "metadata": {},
   "source": [
    "#################  Video 1: Video 1 Name\n"
   ]
  },
  {
   "cell_type": "markdown",
   "metadata": {},
   "source": [
    "##################  Video 1: Video 1 Name\n"
   ]
  },
  {
   "cell_type": "markdown",
   "metadata": {},
   "source": [
    "###################  Video 1: Video 1 Name\n"
   ]
  },
  {
   "cell_type": "markdown",
   "metadata": {},
   "source": [
    "####################  Video 1: Video 1 Name\n"
   ]
  },
  {
   "cell_type": "markdown",
   "metadata": {},
   "source": [
    "#####################  Video 1: Video 1 Name\n"
   ]
  },
  {
   "cell_type": "markdown",
   "metadata": {},
   "source": [
    "######################  Video 1: Video 1 Name\n"
   ]
  },
  {
   "cell_type": "markdown",
   "metadata": {},
   "source": [
    "#######################  Video 1: Video 1 Name\n"
   ]
  },
  {
   "cell_type": "markdown",
   "metadata": {},
   "source": [
    "########################  Video 1: Video 1 Name\n"
   ]
  },
  {
   "cell_type": "markdown",
   "metadata": {},
   "source": [
    "#########################  Video 1: Video 1 Name\n"
   ]
  },
  {
   "cell_type": "markdown",
   "metadata": {},
   "source": [
    "##########################  Video 1: Video 1 Name\n"
   ]
  },
  {
   "cell_type": "markdown",
   "metadata": {},
   "source": [
    "###########################  Video 1: Video 1 Name\n"
   ]
  },
  {
   "cell_type": "markdown",
   "metadata": {},
   "source": [
    "############################  Video 1: Video 1 Name\n"
   ]
  },
  {
   "cell_type": "markdown",
   "metadata": {},
   "source": [
    "#############################  Video 1: Video 1 Name\n"
   ]
  },
  {
   "cell_type": "markdown",
   "metadata": {},
   "source": [
    "##############################  Video 1: Video 1 Name\n"
   ]
  },
  {
   "cell_type": "markdown",
   "metadata": {},
   "source": [
    "###############################  Video 1: Video 1 Name\n"
   ]
  },
  {
   "cell_type": "markdown",
   "metadata": {},
   "source": [
    "################################  Video 1: Video 1 Name\n"
   ]
  },
  {
   "cell_type": "markdown",
   "metadata": {},
   "source": [
    "#################################  Video 1: Video 1 Name\n"
   ]
  },
  {
   "cell_type": "markdown",
   "metadata": {},
   "source": [
    "##################################  Video 1: Video 1 Name\n"
   ]
  },
  {
   "cell_type": "code",
   "execution_count": null,
   "metadata": {
    "cellView": "form",
    "execution": {},
    "tags": [
     "hide-input"
    ]
   },
   "outputs": [],
   "source": [
    "# @title Video 1: Video 1 Name\n",
    "#Tech team will add code to format and display the video"
   ]
  },
  {
   "cell_type": "markdown",
   "metadata": {
    "execution": {}
   },
   "source": [
    "One of the most commonly discussed large scale climate variability is El Niño-Southern Oscillation (ENSO). \n",
    "\n",
    "ENSO is one of the most important climate phenomena on Earth due to its ability to change the global atmospheric circulation, which in turn, influences temperature and precipitation across the globe. \n",
    "\n",
    "Though ENSO is a single climate phenomenon, it has three states, or phases, it can be in.  \n",
    "\n",
    "- El Niño: A warming of the ocean surface, or above-average sea surface temperatures, in the central and eastern tropical Pacific Ocean.\n",
    "- La Niña: A cooling of the ocean surface, or below-average sea surface temperatures, in the central and eastern tropical Pacific Ocean.\n",
    "- Neutral: Neither El Niño or La Niña. Often tropical Pacific SSTs are generally close to average. \n",
    "\n",
    "In other words, we need to use sea surface temperature to study the ENSO. In this tutorial, we will use the Optimum Interpolated Sea Surface Temperature (OISST) CDR data from NOAA to calculate ENSO and reproduce the famous ENSO figure. \n"
   ]
  },
  {
   "cell_type": "markdown",
   "metadata": {
    "execution": {}
   },
   "source": [
    "##**Section 1.1: Calculate SST Anomaly**\n",
    "\n",
    "OISST data is originally produced at daily and 1/4° spatial resolution. To avoid the large amount of data processing, we use the monthly aggregated OISST SST data provided by NOAA Physical Systems Laboratory. "
   ]
  },
  {
   "cell_type": "code",
   "execution_count": null,
   "metadata": {
    "execution": {}
   },
   "outputs": [],
   "source": [
    "# Option 1: Download data\n",
    "# Download the monthly sea surface temperature data from NOAA Physical System\n",
    "# Laboratory. The data is processed using the OISST SST Climate Data Records\n",
    "# from NOAA CDR program.\n",
    "# The data downloading may take 2-3 minutes to complete.\n",
    "import os, requests, tarfile\n",
    "fname = 'sst.mon.mean.nc'\n",
    "url = \"https://osf.io/6pgc2/download/\"\n",
    "if not os.path.isfile(fname):\n",
    "  try:\n",
    "    r = requests.get(url)\n",
    "  except requests.ConnectionError:\n",
    "    print(\"!!! Failed to download data !!!\")\n",
    "  else:\n",
    "    if r.status_code != requests.codes.ok:\n",
    "      print(\"!!! Failed to download data !!!\")\n",
    "    else:\n",
    "      print(f\"Downloading {fname}...\")\n",
    "      with open(fname, \"wb\") as fid:\n",
    "        fid.write(r.content)\n",
    "      print(f\"Download {fname} completed!\")\n",
    "\n",
    "## Option 2: Use the data stored in the workspace\n",
    "#url = 'asset/data/sst.mon.mean.nc'"
   ]
  },
  {
   "cell_type": "code",
   "execution_count": null,
   "metadata": {
    "execution": {}
   },
   "outputs": [],
   "source": [
    "ds = xr.open_dataset(fname)\n",
    "ds"
   ]
  },
  {
   "cell_type": "markdown",
   "metadata": {
    "execution": {}
   },
   "source": [
    "The monthly OISST data is available starting from September of 1981. The ENSO is often identified using monthly SST anomaly over a defined regions. There are various different regions used to monitor and study ENSO:\n",
    "\n",
    "- Niño 1+2 (0-10S, 90W-80W)\n",
    "- Niño 3 (5N-5S, 150W-90W)\n",
    "- Niño 3.4 (5N-5S, 170W-120W)\n",
    "- Niño 4 (5N-5S, 160E-150W)\n",
    "\n",
    "These regions are identified in the map below provided by NOAA Climate portal.\n",
    "\n",
    "![Location of four different nino regions (Credit: NOAA)](https://www.climate.gov/sites/default/files/Fig3_ENSOindices_SST_large.png)\n",
    "\n",
    "The Niño 3.4 (5N-5S, 170W-120W) region is the most commonly used region for ENSO monitoring.\n",
    "\n",
    "To calculate ENSO index, we will first get the monthly anomaly of the SST data."
   ]
  },
  {
   "cell_type": "code",
   "execution_count": null,
   "metadata": {
    "execution": {}
   },
   "outputs": [],
   "source": [
    "# Get 30-year climatology from 1982-2011\n",
    "sst_30yr = ds.sst.sel(time=slice('1982-01-01', '2011-12-01'))\n",
    "# Calculate monthly climatology\n",
    "sst_clim = sst_30yr.groupby('time.month').mean()\n",
    "sst_clim"
   ]
  },
  {
   "cell_type": "code",
   "execution_count": null,
   "metadata": {
    "execution": {}
   },
   "outputs": [],
   "source": [
    "# Calculate monthly anomaly\n",
    "sst_anom = ds.sst.groupby('time.month') - sst_clim\n",
    "sst_anom"
   ]
  },
  {
   "cell_type": "markdown",
   "metadata": {
    "execution": {}
   },
   "source": [
    "Now, we can take a look at the SST anomaly of a given month. We use January of 1998 to show the specific change of SST during that time period."
   ]
  },
  {
   "cell_type": "code",
   "execution_count": null,
   "metadata": {
    "execution": {}
   },
   "outputs": [],
   "source": [
    "sst = sst_anom.sel(time='1998-01-01')\n",
    "# Initate plot\n",
    "fig = plt.figure(figsize=(9,6))\n",
    "# Focus on the ocean with the central_longitude=180\n",
    "ax = plt.axes(projection=ccrs.Robinson(central_longitude=180))\n",
    "ax.coastlines()\n",
    "ax.gridlines()\n",
    "sst.plot(ax=ax, transform=ccrs.PlateCarree(),\n",
    "         vmin = -3, vmax = 3, cmap='RdBu_r',\n",
    "         cbar_kwargs=dict(shrink=0.5, label='OISST Anomaly (degC)'))"
   ]
  },
  {
   "cell_type": "markdown",
   "metadata": {
    "execution": {}
   },
   "source": [
    "## **Section 1.2: Monitoring ENSO with Oceanic Niño Index**\n",
    "\n",
    "Oceanic Niño Index (ONI) is a common index used to monitor ENSO. It is calculated using the same region with Niño 3.4 (5N-5S, 170W-120W) with a 3-month rolling mean."
   ]
  },
  {
   "cell_type": "markdown",
   "metadata": {
    "execution": {}
   },
   "source": [
    "You may have noticed that the `lon` for the SST data from PSL is organized between 0°–360°E. This is different from how we typically use `longitude` (-180°–180°). How do we covert the value of longitude between two systems (0-360° v.s. -180°–180°).\n",
    "\n",
    "The longitude of 0°-360° can be viewed as the equivalent of (0–180°, -180°–0°). So the Niño 3.4 region should be (-5°–5°, 190–240°)"
   ]
  },
  {
   "cell_type": "code",
   "execution_count": null,
   "metadata": {
    "execution": {}
   },
   "outputs": [],
   "source": [
    "## Extract SST data for the Nino 3.4 regions\n",
    "sst_nino34 = sst_anom.sel(lat=slice(-5,5), lon=slice(190,240))\n",
    "sst_nino34"
   ]
  },
  {
   "cell_type": "code",
   "execution_count": null,
   "metadata": {
    "execution": {}
   },
   "outputs": [],
   "source": [
    "# Calculate the mean values for the Nino 3.4 region\n",
    "fig=plt.figure(figsize=(12,6))\n",
    "nino34 = sst_nino34.mean(dim=['lat', 'lon'])\n",
    "nino34.plot()\n",
    "plt.ylabel('Nino3.4 Anomaly (degC)')\n",
    "plt.axhline(y=0, color='k', linestyle='dashed')"
   ]
  },
  {
   "cell_type": "markdown",
   "metadata": {
    "execution": {}
   },
   "source": [
    "The Oceanic Nino Index (ONI) is defined as the 3-month rolling mean of the monthly regional average of the SST anomaly for the Nino 3.4 region. We can use `.rolling()` to calculate the ONI value for each month from the OISST monthly anomaly."
   ]
  },
  {
   "cell_type": "code",
   "execution_count": null,
   "metadata": {
    "execution": {}
   },
   "outputs": [],
   "source": [
    "# Calculate 3-month rolling mean of Nino 3.4 anomaly for the ONI\n",
    "fig=plt.figure(figsize=(12,6))\n",
    "oni = nino34.rolling(time=3, center=True).mean()\n",
    "oni.plot()\n",
    "plt.ylabel('Ocean Nino Index')\n",
    "plt.axhline(y=0, color='k', linestyle='dashed')"
   ]
  },
  {
   "cell_type": "markdown",
   "metadata": {
    "execution": {}
   },
   "source": [
    "Often the different phases of ENSO is defined based on a threshold of 0.5 with ONI index. \n",
    "\n",
    "- El Niño: ONI values higher than 0.5 - which means surface waters in the east-central tropical Pacific are 0.5 degrees Celsius or more warmer than normal.\n",
    "- La Niña: ONI values lower than -0.5 - which indicates the region is 0.5 degrees Celsius or more cooler than normal.\n",
    "\n",
    "The neutral phase is when ONI values are in between these two thresholds. We can make the ONI plot that is similarly used by NOAA and other organizations to monitor ENSO phases."
   ]
  },
  {
   "cell_type": "code",
   "execution_count": null,
   "metadata": {
    "execution": {}
   },
   "outputs": [],
   "source": [
    "# Set up the plot size\n",
    "fig = plt.figure(figsize=(12, 6))\n",
    "# Create the filled area when ONI values are above 0.5 for El Nino\n",
    "plt.fill_between(\n",
    "    oni.time.data,\n",
    "    oni.where(\n",
    "        oni >= 0.5\n",
    "    ).data, 0.5,\n",
    "    color='red',\n",
    "    alpha=0.9,\n",
    ")\n",
    "# Create the filled area when ONI values are below -0.5 for La Nina\n",
    "plt.fill_between(\n",
    "    oni.time.data,\n",
    "    oni.where(\n",
    "        oni <= -0.5\n",
    "    ).data, -0.5,\n",
    "    color='blue',\n",
    "    alpha=0.9,\n",
    ")\n",
    "# Create the time series of ONI\n",
    "oni.plot(color='black')\n",
    "# Add the threshold lines on the plot\n",
    "plt.axhline(0, color='black', lw=0.5)\n",
    "plt.axhline(0.5, color='red', linewidth=0.5, linestyle='dotted')\n",
    "plt.axhline(-0.5, color='blue', linewidth=0.5, linestyle='dotted')\n",
    "plt.title('Oceanic Niño Index')"
   ]
  },
  {
   "cell_type": "markdown",
   "metadata": {
    "execution": {}
   },
   "source": [
    "From the plot, we can see the historical ENSO phases swing from El Nino to La Nina events. The major ENSO events like 1997-1998 shows up very clearly on the ONI plot. \n",
    "\n",
    "We will use the ONI data to perform analysis to understand the impact of ENSO on precipitation. So we export the ONI time series here into a netCDF file for future use via `.to_netcdf()`."
   ]
  },
  {
   "cell_type": "code",
   "execution_count": null,
   "metadata": {
    "execution": {}
   },
   "outputs": [],
   "source": [
    "oni.to_netcdf('t6_oceanic-nino-index.nc')"
   ]
  },
  {
   "cell_type": "markdown",
   "metadata": {
    "execution": {}
   },
   "source": [
    "### **Exercise: What is the difference when using different climatology period?**\n",
    "\n",
    "As we learned here, ENSO is monitored using the anomaly of SST data for a specific region (e.g., Nino 3.4). Will the change of climatology period affect the ENSO phases significantly? You can explore it in this exercise.\n",
    "\n",
    "Please compare the ONI time series calculated using two different climatology period (1982-2011 v.s. 1991-2020). \n",
    "\n"
   ]
  },
  {
   "cell_type": "code",
   "execution_count": null,
   "metadata": {
    "execution": {}
   },
   "outputs": [],
   "source": [
    "################################################################################\n",
    "# Exercise: Compare ONI time series using two different climatology period.    #\n",
    "################################################################################\n",
    "\n",
    "# Step 1: Calculate climatology of 1982-2010.\n",
    "\n",
    "# Step 2: Calculate climatology of 1991-2020.\n",
    "\n",
    "# Step 3: Calculate anomaly against two different climatology period.\n",
    "\n",
    "# Step 4: Calculate ONI values using rolling mean for Nino 3.4 region.\n",
    "\n",
    "# Step 5: Compare the two ONI time series and visualize the difference as a\n",
    "#         time series plot\n",
    "\n",
    "\n",
    "\n",
    "'''\n",
    "\n",
    "Please describe the difference between two ONI time series using different\n",
    "climatology time period:\n",
    "\n",
    "'''"
   ]
  },
  {
   "cell_type": "markdown",
   "metadata": {
    "execution": {}
   },
   "source": [
    "#**Summary**\n",
    "\n",
    "In this tutorial, we learned the basic concepts of ENSO and how satellite data can be used to monitor it.\n",
    "\n",
    "* ENSO is one of the most influencial climate phenomena on Earth due to its ability to change the global atmospheric circulation. \n",
    "* The three phases of ENSO can be monitored using SST data from satellite through SST anomaly for select regions.\n",
    "* The Oceanic Nino Index is used to produce the historical image for past El Nino and La Nina events.\n",
    "\n",
    "In the next tutorial, we will use the ONI calculated here to assess the impact of ENSO on precipitation for select regions.\n"
   ]
  }
 ],
 "metadata": {
  "colab": {
   "collapsed_sections": [],
   "include_colab_link": true,
   "name": "W1D3_Tutorial6",
   "provenance": [],
   "toc_visible": true
  },
  "kernel": {
   "display_name": "Python 3",
   "language": "python",
   "name": "python3"
  },
  "kernelspec": {
   "display_name": "Python 3 (pangeo)",
   "language": "python",
   "name": "pangeo"
  },
  "language_info": {
   "codemirror_mode": {
    "name": "ipython",
    "version": 3
   },
   "file_extension": ".py",
   "mimetype": "text/x-python",
   "name": "python",
   "nbconvert_exporter": "python",
   "pygments_lexer": "ipython3",
   "version": "3.10.10"
  }
 },
 "nbformat": 4,
 "nbformat_minor": 0
}