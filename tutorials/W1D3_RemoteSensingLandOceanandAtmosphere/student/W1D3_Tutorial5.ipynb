{
 "cells": [
  {
   "cell_type": "markdown",
   "metadata": {
    "execution": {}
   },
   "source": [
    "#**Tutorial 5: Calculating Anomaly - Precipitation**\n",
    "\n",
    "> Indented block\n",
    "\n",
    "> Indented block\n",
    "\n",
    "\n",
    "\n",
    "\n",
    "**Week #, Day #, Name of the day**\n",
    "\n",
    "**Content creators:** Douglas Rao\n",
    "\n",
    "**Content reviewers:** TBD\n",
    "\n",
    "**Content editors:** TBD\n",
    "\n",
    "**Production editors:** TBD\n",
    "\n",
    "**Our 2023 Sponsors:** TBD"
   ]
  },
  {
   "cell_type": "markdown",
   "metadata": {
    "execution": {}
   },
   "source": [
    "#**Tutorial Objectives**\n",
    "\n",
    "In this tutorial, you will learn how to calculate anomaly using satellite climate data records for climate applications.\n",
    "\n",
    "By the end of this tutorial you will be able to:\n",
    "\n",
    "* Calculate the anomaly data against a specific climatology\n",
    "* Calculate rolling mean of the anomaly data to smooth the time series and extract long-term signals/patterns\n"
   ]
  },
  {
   "cell_type": "markdown",
   "metadata": {
    "execution": {}
   },
   "source": [
    "#**Setup**\n",
    "\n",
    "\n",
    "\n",
    "In this section, we have:\n",
    "\n",
    "\n",
    "1.   **Import cell:** imports all libraries you use in the tutorial.\n",
    "2.   **Hidden Figure settings cell:** sets up the plotting style (copy exactly)\n",
    "1.   **Hidden Plotting functions cell:** contains all functions used to create plots throughout the tutorial (so students don't waste time looking at boilerplate matplotlib but can here if they wish to). Please use only matplotlib for plotting for consistency.\n",
    "2.   **Hidden Helper functions cell:** This should contain functions that students have previously used or that are very simple. Any helper functions that are being used for the first time and are important should be placed directly above the relevant text or exercise (see Section 1.1 for an example).\n",
    "    \n",
    "\n"
   ]
  },
  {
   "cell_type": "code",
   "execution_count": null,
   "metadata": {
    "execution": {},
    "tags": [
     "colab"
    ]
   },
   "outputs": [],
   "source": [
    "#Imports\n",
    "\n",
    "# Import only the libraries/objects that you use in this tutorial.\n",
    "\n",
    "# If any external library has to be installed, !pip install library --quiet\n",
    "# follow this order: numpy>matplotlib.\n",
    "# import widgets in hidden Figure settings cell\n",
    "\n",
    "# !pip install s3fs --quiet\n",
    "\n",
    "# Properly install cartopy in colab to avoid session crash\n",
    "# !apt-get install libproj-dev proj-data proj-bin --quiet\n",
    "# !apt-get install libgeos-dev --quiet\n",
    "# !pip install cython --quiet\n",
    "# !pip install cartopy --quiet\n",
    "\n",
    "# !apt-get -qq install python-cartopy python3-cartopy  --quiet\n",
    "# !pip uninstall -y shapely  --quiet\n",
    "# !pip install shapely --no-binary shapely  --quiet"
   ]
  },
  {
   "cell_type": "code",
   "execution_count": null,
   "metadata": {
    "execution": {}
   },
   "outputs": [],
   "source": [
    "import s3fs\n",
    "import xarray as xr\n",
    "import numpy as np\n",
    "import matplotlib.pyplot as plt\n",
    "import cartopy, cartopy.crs as ccrs"
   ]
  },
  {
   "cell_type": "markdown",
   "metadata": {},
   "source": [
    "##  Figure settings\n"
   ]
  },
  {
   "cell_type": "markdown",
   "metadata": {},
   "source": [
    "###  Figure settings\n"
   ]
  },
  {
   "cell_type": "markdown",
   "metadata": {},
   "source": [
    "####  Figure settings\n"
   ]
  },
  {
   "cell_type": "markdown",
   "metadata": {},
   "source": [
    "#####  Figure settings\n"
   ]
  },
  {
   "cell_type": "markdown",
   "metadata": {},
   "source": [
    "######  Figure settings\n"
   ]
  },
  {
   "cell_type": "markdown",
   "metadata": {},
   "source": [
    "#######  Figure settings\n"
   ]
  },
  {
   "cell_type": "markdown",
   "metadata": {},
   "source": [
    "########  Figure settings\n"
   ]
  },
  {
   "cell_type": "markdown",
   "metadata": {},
   "source": [
    "#########  Figure settings\n"
   ]
  },
  {
   "cell_type": "markdown",
   "metadata": {},
   "source": [
    "##########  Figure settings\n"
   ]
  },
  {
   "cell_type": "markdown",
   "metadata": {},
   "source": [
    "###########  Figure settings\n"
   ]
  },
  {
   "cell_type": "markdown",
   "metadata": {},
   "source": [
    "############  Figure settings\n"
   ]
  },
  {
   "cell_type": "markdown",
   "metadata": {},
   "source": [
    "#############  Figure settings\n"
   ]
  },
  {
   "cell_type": "markdown",
   "metadata": {},
   "source": [
    "##############  Figure settings\n"
   ]
  },
  {
   "cell_type": "markdown",
   "metadata": {},
   "source": [
    "###############  Figure settings\n"
   ]
  },
  {
   "cell_type": "markdown",
   "metadata": {},
   "source": [
    "################  Figure settings\n"
   ]
  },
  {
   "cell_type": "markdown",
   "metadata": {},
   "source": [
    "#################  Figure settings\n"
   ]
  },
  {
   "cell_type": "markdown",
   "metadata": {},
   "source": [
    "##################  Figure settings\n"
   ]
  },
  {
   "cell_type": "code",
   "execution_count": null,
   "metadata": {
    "cellView": "form",
    "execution": {},
    "tags": [
     "hide-input"
    ]
   },
   "outputs": [],
   "source": [
    "# @title Figure settings\n",
    "import ipywidgets as widgets       # interactive display\n",
    "%config InlineBackend.figure_format = 'retina'\n",
    "plt.style.use(\"https://raw.githubusercontent.com/ClimateMatchAcademy/course-content/main/cma.mplstyle\")"
   ]
  },
  {
   "cell_type": "markdown",
   "metadata": {
    "execution": {}
   },
   "source": [
    "#**Section 1: From Climatology to Anomaly**\n",
    "\n",
    "The above section header should be a description of what the section covers.\n",
    "\n"
   ]
  },
  {
   "cell_type": "markdown",
   "metadata": {},
   "source": [
    "##  Video 1: Video 1 Name\n"
   ]
  },
  {
   "cell_type": "markdown",
   "metadata": {},
   "source": [
    "###  Video 1: Video 1 Name\n"
   ]
  },
  {
   "cell_type": "markdown",
   "metadata": {},
   "source": [
    "####  Video 1: Video 1 Name\n"
   ]
  },
  {
   "cell_type": "markdown",
   "metadata": {},
   "source": [
    "#####  Video 1: Video 1 Name\n"
   ]
  },
  {
   "cell_type": "markdown",
   "metadata": {},
   "source": [
    "######  Video 1: Video 1 Name\n"
   ]
  },
  {
   "cell_type": "markdown",
   "metadata": {},
   "source": [
    "#######  Video 1: Video 1 Name\n"
   ]
  },
  {
   "cell_type": "markdown",
   "metadata": {},
   "source": [
    "########  Video 1: Video 1 Name\n"
   ]
  },
  {
   "cell_type": "markdown",
   "metadata": {},
   "source": [
    "#########  Video 1: Video 1 Name\n"
   ]
  },
  {
   "cell_type": "markdown",
   "metadata": {},
   "source": [
    "##########  Video 1: Video 1 Name\n"
   ]
  },
  {
   "cell_type": "markdown",
   "metadata": {},
   "source": [
    "###########  Video 1: Video 1 Name\n"
   ]
  },
  {
   "cell_type": "markdown",
   "metadata": {},
   "source": [
    "############  Video 1: Video 1 Name\n"
   ]
  },
  {
   "cell_type": "markdown",
   "metadata": {},
   "source": [
    "#############  Video 1: Video 1 Name\n"
   ]
  },
  {
   "cell_type": "markdown",
   "metadata": {},
   "source": [
    "##############  Video 1: Video 1 Name\n"
   ]
  },
  {
   "cell_type": "markdown",
   "metadata": {},
   "source": [
    "###############  Video 1: Video 1 Name\n"
   ]
  },
  {
   "cell_type": "markdown",
   "metadata": {},
   "source": [
    "################  Video 1: Video 1 Name\n"
   ]
  },
  {
   "cell_type": "markdown",
   "metadata": {},
   "source": [
    "#################  Video 1: Video 1 Name\n"
   ]
  },
  {
   "cell_type": "markdown",
   "metadata": {},
   "source": [
    "##################  Video 1: Video 1 Name\n"
   ]
  },
  {
   "cell_type": "code",
   "execution_count": null,
   "metadata": {
    "cellView": "form",
    "execution": {},
    "tags": [
     "hide-input"
    ]
   },
   "outputs": [],
   "source": [
    "# @title Video 1: Video 1 Name\n",
    "#Tech team will add code to format and display the video"
   ]
  },
  {
   "cell_type": "markdown",
   "metadata": {
    "execution": {}
   },
   "source": [
    "Anomaly describes the departure of the current weather condition away from the normal condition (i.e., climatology) of this time. For example, if the normal January temperature of the city that you live in is 10 °C and the January temperature of this year is 15 °C. We usually say the temperature anomaly of January this year is 5 °C above normal/climatology. \n",
    "\n",
    "Now let's calculate the anomaly of monthly precipitation using GPCP CDR data and the skills we learned from last tutorial for calculating climatology."
   ]
  },
  {
   "cell_type": "markdown",
   "metadata": {
    "execution": {}
   },
   "source": [
    "##**Section 1.1: Calculating Monthly Anomaly**\n",
    "\n",
    "To calculate anomaly, we first need to calculate the monthly climatology. Since we already learned it during last tutorial, we will fast forward this step. "
   ]
  },
  {
   "cell_type": "code",
   "execution_count": null,
   "metadata": {
    "execution": {}
   },
   "outputs": [],
   "source": [
    "# Connect to the AWS S3 bucket for the GPCP Monthly Precipitation CDR data\n",
    "fs = s3fs.S3FileSystem(anon=True)\n",
    "\n",
    "# Get the list of all data files in the AWS S3 bucket\n",
    "file_pattern = 'noaa-cdr-precip-gpcp-monthly-pds/data/*/gpcp_v02r03_monthly_*.nc'\n",
    "file_location = fs.glob(file_pattern)\n",
    "\n",
    "# Open connection to all data files\n",
    "file_ob = [fs.open(file) for file in file_location]\n",
    "# Open all the monthly data files and concatenate them along the time dimension.\n",
    "# This process will take ~ 1 minute to complete due to the number of data files.\n",
    "ds = xr.open_mfdataset(file_ob, combine='nested', concat_dim='time')"
   ]
  },
  {
   "cell_type": "code",
   "execution_count": null,
   "metadata": {
    "execution": {}
   },
   "outputs": [],
   "source": [
    "# Calculate climatology using `.sel()` and `.groupby()` directly.\n",
    "precip_clim = ds.precip.sel(time=slice('1981-01-01', '2010-12-01')).groupby('time.month').mean(dim='time')\n",
    "precip_clim"
   ]
  },
  {
   "cell_type": "markdown",
   "metadata": {
    "execution": {}
   },
   "source": [
    "Now we have the monthly precipitation climatology. How can we calculate the monthly anomaly?\n",
    "\n",
    "The answer is straight forward - let's use `.groupby()` from `xarray`. We can split the entire time period based on the month of the year and then subtract the climatology of that specific month from the monthly value and recombine the value together."
   ]
  },
  {
   "cell_type": "code",
   "execution_count": null,
   "metadata": {
    "execution": {}
   },
   "outputs": [],
   "source": [
    "# Use `.groupby()` to calculate the monthly climatology\n",
    "precip_anom = ds.precip.groupby('time.month') - precip_clim\n",
    "precip_anom"
   ]
  },
  {
   "cell_type": "markdown",
   "metadata": {
    "execution": {}
   },
   "source": [
    "You may have noticed that there is an additional coordinate in the anomaly dataset. The additional coordinate is `month` which is a direct outcome because of the `.groupby()` action we just performed.\n",
    "\n",
    "Since we will use the anomaly data again in the next tutorial, let's write the data out to a netCDF file to skip the calculation of it in the future. You can simply export a data array into a netCDF file using `.to_netcdf()`. It will automatically carry all the coordinates, dimensions, and relevant information into the netCDF file."
   ]
  },
  {
   "cell_type": "code",
   "execution_count": null,
   "metadata": {
    "execution": {}
   },
   "outputs": [],
   "source": [
    "# Export the GPCP monthly anomaly data comparing to the climatology period of 1981-2010.\n",
    "precip_anom.to_netcdf('t5_gpcp-monthly-anomaly_1981-2010.nc')"
   ]
  },
  {
   "cell_type": "markdown",
   "metadata": {
    "execution": {}
   },
   "source": [
    "## **Section 1.2: Examine Anomaly**\n",
    "\n",
    "First, let's take a look at the geospatial pattern of the monthly anomaly of a selected month – January of 1979."
   ]
  },
  {
   "cell_type": "code",
   "execution_count": null,
   "metadata": {
    "execution": {}
   },
   "outputs": [],
   "source": [
    "# Initate plot\n",
    "fig = plt.figure(figsize=(9,6))\n",
    "# Set map projection\n",
    "ax = plt.axes(projection=ccrs.Robinson())\n",
    "# Add coastal lines to indicate land/ocean\n",
    "ax.coastlines()\n",
    "# Add grid lines for latitude and longitute\n",
    "ax.gridlines()\n",
    "# Add the precipitation data for\n",
    "precip_anom.sel(time='1979-01-01').plot(ax=ax, transform=ccrs.PlateCarree(),\n",
    "                                        vmin=-8, vmax=8, cmap='BrBG',\n",
    "                                        cbar_kwargs=dict(shrink=0.5, label='Monthly Anomaly \\n(mm/day)'))"
   ]
  },
  {
   "cell_type": "markdown",
   "metadata": {
    "execution": {}
   },
   "source": [
    "From the map of this monthly anomaly, we can see the spatial pattern of how precipitation for the January of 1979 has departed from the 30-year normal. Part of Amazon saw notable increase of precipitation that month as well as the northeast coast of the United States. "
   ]
  },
  {
   "cell_type": "markdown",
   "metadata": {
    "execution": {}
   },
   "source": [
    "We can also take a look at the time series of a selected grid. We will use the same point (0°N, 0°E) that we used before as an example to look at the monthly time series of the precipitation anomaly."
   ]
  },
  {
   "cell_type": "code",
   "execution_count": null,
   "metadata": {
    "execution": {}
   },
   "outputs": [],
   "source": [
    "# Set up two subplots that share the x-axis to compare monthly precipitation and\n",
    "# monthly anomaly\n",
    "fig, axs = plt.subplots(2, sharex=True)\n",
    "fig.suptitle('GPCP Monthly Precipitaion v.s. Monthly Anomaly')\n",
    "axs[0].plot(ds.precip.sel(latitude=0, longitude=0, method='nearest'))\n",
    "axs[0].set_ylabel('Precip (mm/day)')\n",
    "axs[1].plot(precip_anom.sel(latitude=0, longitude=0, method='nearest'))\n",
    "axs[1].set_ylabel('Anomaly (mm/day)')\n",
    "# Add horizontal line of y=0 for the anomaly subplot\n",
    "axs[1].axhline(y=0, color='k', linestyle='-')"
   ]
  },
  {
   "cell_type": "markdown",
   "metadata": {
    "execution": {}
   },
   "source": [
    "The monthly anomaly time series (lower subplot) does not seem to have obvious seasonal cycle that presented in the monthly precipitation data (upper subplot). This is one of the advantage of using anomaly data for climate analysis - we can remove the repeating pattern caused by seasonality or other stable factors. This will allow us to better focus on the signal in the data that we are interested in, e.g., climate variability or climate trend. "
   ]
  },
  {
   "cell_type": "markdown",
   "metadata": {
    "execution": {}
   },
   "source": [
    "## **Section 2: Anomaly Analysis**\n",
    "\n",
    "In this section, we are going to explor a few different analysis on the anamoly data: \n",
    "\n",
    "- Calculating rolling mean\n",
    "- Calculating global mean\n",
    "- Calculating zonal mean"
   ]
  },
  {
   "cell_type": "markdown",
   "metadata": {
    "execution": {}
   },
   "source": [
    "## **Section 2.1: Rolling Mean**\n",
    "\n",
    "Often the monthly anomaly time series will contain noisy data that can hide the pattern caused by large-scale climate variability. We can use rolling mean to smooth the monthly time series data using `.rolling()`."
   ]
  },
  {
   "cell_type": "code",
   "execution_count": null,
   "metadata": {
    "execution": {}
   },
   "outputs": [],
   "source": [
    "# Calculate 12-month rolling mean for the selected location\n",
    "grid_month = precip_anom.sel(latitude=0, longitude=0, method='nearest')\n",
    "grid_rolling = grid_month.rolling(time=12, center=True).mean()"
   ]
  },
  {
   "cell_type": "code",
   "execution_count": null,
   "metadata": {
    "execution": {}
   },
   "outputs": [],
   "source": [
    "# Create the time series plot of monthly anomaly\n",
    "fig = plt.figure(figsize=(12,6))\n",
    "grid_month.plot(label='Monthly anomaly')\n",
    "grid_rolling.plot(color='k', label='12-mon rolling mean')\n",
    "plt.axhline(y=0, color='y', linestyle='-')\n",
    "plt.legend()"
   ]
  },
  {
   "cell_type": "markdown",
   "metadata": {
    "execution": {}
   },
   "source": [
    "As you can see, the 12-month rolling mean removed the high frequency change of monthly precipitation anomaly data while demonstrate the slow-moving change of the precipitation.\n",
    "\n",
    "### **Exercise 2.1: 24-month rolling mean**\n",
    "\n",
    "Can you caculate the 24-month rolling mean for the same grid and compare the three different time series (monthly anomaly, 12-month rolling mean, 24-month rolling mean)?"
   ]
  },
  {
   "cell_type": "code",
   "execution_count": null,
   "metadata": {
    "execution": {}
   },
   "outputs": [],
   "source": [
    "################################################################################\n",
    "# Exercise: Compare monthly anomaly with 12-month and 24-month rolling mean.   #\n",
    "################################################################################\n",
    "\n",
    "# Step 1: Extract the grid time series\n",
    "\n",
    "# Step 2: Calculate 12-month rolling mean\n",
    "\n",
    "# Step 3: Calculate 24-month rolling mean\n",
    "\n",
    "# Step 4: Plot all three time series together with different colors\n",
    "\n",
    "'''\n",
    "\n",
    "Please describe the comparison between 12-month and 24-month rolling mean:\n",
    "\n",
    "'''"
   ]
  },
  {
   "cell_type": "markdown",
   "metadata": {
    "execution": {}
   },
   "source": [
    "## **Section 2.2: Global Mean**\n",
    "\n",
    "When you want to understand the change at global scale, global mean values can be aggregated from all grids. Although each grid have same resolution of `2.5°×2.5°`, they represent different spatial areas - the same grid represent large spatial areas in the tropics than the polar region. So we want to weight the values based on its spatial areas, which is often calculated as the cosine of the latitude."
   ]
  },
  {
   "cell_type": "code",
   "execution_count": null,
   "metadata": {
    "execution": {}
   },
   "outputs": [],
   "source": [
    "# Calculate the weights using the latitude coordinates\n",
    "weights = np.cos(np.deg2rad(precip_anom.latitude))\n",
    "weights.name = \"weights\"\n",
    "weights"
   ]
  },
  {
   "cell_type": "code",
   "execution_count": null,
   "metadata": {
    "execution": {}
   },
   "outputs": [],
   "source": [
    "# Calculate weighted global monthly mean\n",
    "anom_weighted = precip_anom.weighted(weights)\n",
    "global_weighted_mean = anom_weighted.mean(('latitude', 'longitude'))\n",
    "global_weighted_mean"
   ]
  },
  {
   "cell_type": "code",
   "execution_count": null,
   "metadata": {
    "execution": {}
   },
   "outputs": [],
   "source": [
    "# Create the time series plot of global weighted monthly anomaly\n",
    "fig = plt.figure(figsize=(12,6))\n",
    "global_weighted_mean.plot(label='Monthly anomaly')\n",
    "global_weighted_mean.rolling(time=12, center=True).mean(('latitude', 'longitude')).plot(color='k', label='12-mon rolling mean')\n",
    "plt.axhline(y=0, color='y', linestyle='-')\n",
    "plt.legend()"
   ]
  },
  {
   "cell_type": "markdown",
   "metadata": {
    "execution": {}
   },
   "source": [
    "### **Exercise 2.2: Weighted mean or unweighted global mean?**\n",
    "\n",
    "We calculated the weighted global mean earlier. Now, you can try to explore the difference between the global weighted and unweighted mean time series. "
   ]
  },
  {
   "cell_type": "code",
   "execution_count": null,
   "metadata": {
    "execution": {}
   },
   "outputs": [],
   "source": [
    "################################################################################\n",
    "# Exercise: Compare global weighted and unweighted mean time series.           #\n",
    "################################################################################\n",
    "\n",
    "# Step 1: Calculate unweighted global mean\n",
    "\n",
    "# Step 2: Calculate different between weighted and unweighted global mean\n",
    "\n",
    "# Step 3: Plot the time serise of the difference\n",
    "\n",
    "'''\n",
    "\n",
    "Please describe the difference between weighted and unweighted global mean:\n",
    "\n",
    "'''"
   ]
  },
  {
   "cell_type": "markdown",
   "metadata": {
    "execution": {}
   },
   "source": [
    "#**Summary**\n",
    "\n",
    "In this tutorial, we learned how to calculate anomaly comparing to a climatology time period. This is the basis for climate monitoring and many climate applications.\n",
    "\n",
    "* Anomaly allows us to look at the signals that may be covered by the seasonal cycle pattern (e.g., temperature/precipitation seasonal cycle).\n",
    "* Anomaly data can be further smoothed using rolling mean to reveal longer-term signals at annual or decade time scale.\n",
    "\n",
    "We will use the anomaly concept to study climate variability in the next tutorial.\n"
   ]
  }
 ],
 "metadata": {
  "colab": {
   "collapsed_sections": [],
   "include_colab_link": true,
   "name": "W1D3_Tutorial5",
   "provenance": [],
   "toc_visible": true
  },
  "kernel": {
   "display_name": "Python 3",
   "language": "python",
   "name": "python3"
  },
  "kernelspec": {
   "display_name": "Python 3 (pangeo)",
   "language": "python",
   "name": "pangeo"
  },
  "language_info": {
   "codemirror_mode": {
    "name": "ipython",
    "version": 3
   },
   "file_extension": ".py",
   "mimetype": "text/x-python",
   "name": "python",
   "nbconvert_exporter": "python",
   "pygments_lexer": "ipython3",
   "version": "3.10.10"
  }
 },
 "nbformat": 4,
 "nbformat_minor": 0
}