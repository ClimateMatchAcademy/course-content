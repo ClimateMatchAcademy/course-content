{
 "cells": [
  {
   "cell_type": "markdown",
   "metadata": {
    "execution": {}
   },
   "source": [
    "#**Tutorial 7: Impact of Climate Variability - Precipitation**\n",
    "\n",
    "> Indented block\n",
    "\n",
    "> Indented block\n",
    "\n",
    "\n",
    "\n",
    "\n",
    "**Week 1, Day 3, Remote Sensing**\n",
    "\n",
    "**Content creators:** Douglas Rao\n",
    "\n",
    "**Content reviewers:** TBD\n",
    "\n",
    "**Content editors:** TBD\n",
    "\n",
    "**Production editors:** TBD\n",
    "\n",
    "**Our 2023 Sponsors:** TBD"
   ]
  },
  {
   "cell_type": "markdown",
   "metadata": {
    "execution": {}
   },
   "source": [
    "#**Tutorial Objectives**\n",
    "\n",
    "In this tutorial, you will learn how to use satellite data to research the impact of large scale climate variability on precipitation.\n",
    "\n",
    "By the end of this tutorial you will be able to:\n",
    "\n",
    "* Understand the impact of ENSO on precipitation and its spatial pattern.\n",
    "* Calculate Pearson's correlation coefficient between two time series.\n"
   ]
  },
  {
   "cell_type": "markdown",
   "metadata": {
    "execution": {}
   },
   "source": [
    "#**Setup**\n",
    "\n",
    "\n",
    "\n",
    "In this section, we have:\n",
    "\n",
    "\n",
    "1.   **Import cell:** imports all libraries you use in the tutorial.\n",
    "2.   **Hidden Figure settings cell:** sets up the plotting style (copy exactly)\n",
    "1.   **Hidden Plotting functions cell:** contains all functions used to create plots throughout the tutorial (so students don't waste time looking at boilerplate matplotlib but can here if they wish to). Please use only matplotlib for plotting for consistency.\n",
    "2.   **Hidden Helper functions cell:** This should contain functions that students have previously used or that are very simple. Any helper functions that are being used for the first time and are important should be placed directly above the relevant text or exercise (see Section 1.1 for an example).\n",
    "    \n",
    "\n"
   ]
  },
  {
   "cell_type": "code",
   "execution_count": null,
   "metadata": {
    "execution": {},
    "tags": [
     "colab"
    ]
   },
   "outputs": [],
   "source": [
    "#Imports\n",
    "\n",
    "# Import only the libraries/objects that you use in this tutorial.\n",
    "\n",
    "# If any external library has to be installed, !pip install library --quiet\n",
    "# follow this order: numpy>matplotlib.\n",
    "# import widgets in hidden Figure settings cell\n",
    "\n",
    "# Properly install cartopy in colab to avoid session crash\n",
    "# !apt-get install libproj-dev proj-data proj-bin --quiet\n",
    "# !apt-get install libgeos-dev --quiet\n",
    "# !pip install cython --quiet\n",
    "# !pip install cartopy --quiet\n",
    "\n",
    "# !apt-get -qq install python-cartopy python3-cartopy  --quiet\n",
    "# !pip uninstall -y shapely  --quiet\n",
    "# !pip install shapely --no-binary shapely  --quiet"
   ]
  },
  {
   "cell_type": "code",
   "execution_count": null,
   "metadata": {
    "execution": {}
   },
   "outputs": [],
   "source": [
    "import xarray as xr\n",
    "import numpy as np\n",
    "import matplotlib.pyplot as plt\n",
    "import cartopy, cartopy.crs as ccrs"
   ]
  },
  {
   "cell_type": "markdown",
   "metadata": {},
   "source": [
    "##  Figure settings\n"
   ]
  },
  {
   "cell_type": "markdown",
   "metadata": {},
   "source": [
    "###  Figure settings\n"
   ]
  },
  {
   "cell_type": "markdown",
   "metadata": {},
   "source": [
    "####  Figure settings\n"
   ]
  },
  {
   "cell_type": "markdown",
   "metadata": {},
   "source": [
    "#####  Figure settings\n"
   ]
  },
  {
   "cell_type": "markdown",
   "metadata": {},
   "source": [
    "######  Figure settings\n"
   ]
  },
  {
   "cell_type": "markdown",
   "metadata": {},
   "source": [
    "#######  Figure settings\n"
   ]
  },
  {
   "cell_type": "markdown",
   "metadata": {},
   "source": [
    "########  Figure settings\n"
   ]
  },
  {
   "cell_type": "markdown",
   "metadata": {},
   "source": [
    "#########  Figure settings\n"
   ]
  },
  {
   "cell_type": "markdown",
   "metadata": {},
   "source": [
    "##########  Figure settings\n"
   ]
  },
  {
   "cell_type": "markdown",
   "metadata": {},
   "source": [
    "###########  Figure settings\n"
   ]
  },
  {
   "cell_type": "markdown",
   "metadata": {},
   "source": [
    "############  Figure settings\n"
   ]
  },
  {
   "cell_type": "markdown",
   "metadata": {},
   "source": [
    "#############  Figure settings\n"
   ]
  },
  {
   "cell_type": "markdown",
   "metadata": {},
   "source": [
    "##############  Figure settings\n"
   ]
  },
  {
   "cell_type": "markdown",
   "metadata": {},
   "source": [
    "###############  Figure settings\n"
   ]
  },
  {
   "cell_type": "markdown",
   "metadata": {},
   "source": [
    "################  Figure settings\n"
   ]
  },
  {
   "cell_type": "markdown",
   "metadata": {},
   "source": [
    "#################  Figure settings\n"
   ]
  },
  {
   "cell_type": "markdown",
   "metadata": {},
   "source": [
    "##################  Figure settings\n"
   ]
  },
  {
   "cell_type": "markdown",
   "metadata": {},
   "source": [
    "###################  Figure settings\n"
   ]
  },
  {
   "cell_type": "markdown",
   "metadata": {},
   "source": [
    "####################  Figure settings\n"
   ]
  },
  {
   "cell_type": "markdown",
   "metadata": {},
   "source": [
    "#####################  Figure settings\n"
   ]
  },
  {
   "cell_type": "markdown",
   "metadata": {},
   "source": [
    "######################  Figure settings\n"
   ]
  },
  {
   "cell_type": "markdown",
   "metadata": {},
   "source": [
    "#######################  Figure settings\n"
   ]
  },
  {
   "cell_type": "markdown",
   "metadata": {},
   "source": [
    "########################  Figure settings\n"
   ]
  },
  {
   "cell_type": "markdown",
   "metadata": {},
   "source": [
    "#########################  Figure settings\n"
   ]
  },
  {
   "cell_type": "markdown",
   "metadata": {},
   "source": [
    "##########################  Figure settings\n"
   ]
  },
  {
   "cell_type": "markdown",
   "metadata": {},
   "source": [
    "###########################  Figure settings\n"
   ]
  },
  {
   "cell_type": "markdown",
   "metadata": {},
   "source": [
    "############################  Figure settings\n"
   ]
  },
  {
   "cell_type": "markdown",
   "metadata": {},
   "source": [
    "#############################  Figure settings\n"
   ]
  },
  {
   "cell_type": "markdown",
   "metadata": {},
   "source": [
    "##############################  Figure settings\n"
   ]
  },
  {
   "cell_type": "markdown",
   "metadata": {},
   "source": [
    "###############################  Figure settings\n"
   ]
  },
  {
   "cell_type": "markdown",
   "metadata": {},
   "source": [
    "################################  Figure settings\n"
   ]
  },
  {
   "cell_type": "markdown",
   "metadata": {},
   "source": [
    "#################################  Figure settings\n"
   ]
  },
  {
   "cell_type": "markdown",
   "metadata": {},
   "source": [
    "##################################  Figure settings\n"
   ]
  },
  {
   "cell_type": "code",
   "execution_count": null,
   "metadata": {
    "cellView": "form",
    "execution": {},
    "tags": [
     "hide-input"
    ]
   },
   "outputs": [],
   "source": [
    "# @title Figure settings\n",
    "import ipywidgets as widgets       # interactive display\n",
    "%config InlineBackend.figure_format = 'retina'\n",
    "plt.style.use(\"https://raw.githubusercontent.com/ClimateMatchAcademy/course-content/main/cma.mplstyle\")"
   ]
  },
  {
   "cell_type": "markdown",
   "metadata": {
    "execution": {}
   },
   "source": [
    "#**Section 1: ENSO and precipitation**"
   ]
  },
  {
   "cell_type": "markdown",
   "metadata": {},
   "source": [
    "##  Video 1: Video 1 Name\n"
   ]
  },
  {
   "cell_type": "markdown",
   "metadata": {},
   "source": [
    "###  Video 1: Video 1 Name\n"
   ]
  },
  {
   "cell_type": "markdown",
   "metadata": {},
   "source": [
    "####  Video 1: Video 1 Name\n"
   ]
  },
  {
   "cell_type": "markdown",
   "metadata": {},
   "source": [
    "#####  Video 1: Video 1 Name\n"
   ]
  },
  {
   "cell_type": "markdown",
   "metadata": {},
   "source": [
    "######  Video 1: Video 1 Name\n"
   ]
  },
  {
   "cell_type": "markdown",
   "metadata": {},
   "source": [
    "#######  Video 1: Video 1 Name\n"
   ]
  },
  {
   "cell_type": "markdown",
   "metadata": {},
   "source": [
    "########  Video 1: Video 1 Name\n"
   ]
  },
  {
   "cell_type": "markdown",
   "metadata": {},
   "source": [
    "#########  Video 1: Video 1 Name\n"
   ]
  },
  {
   "cell_type": "markdown",
   "metadata": {},
   "source": [
    "##########  Video 1: Video 1 Name\n"
   ]
  },
  {
   "cell_type": "markdown",
   "metadata": {},
   "source": [
    "###########  Video 1: Video 1 Name\n"
   ]
  },
  {
   "cell_type": "markdown",
   "metadata": {},
   "source": [
    "############  Video 1: Video 1 Name\n"
   ]
  },
  {
   "cell_type": "markdown",
   "metadata": {},
   "source": [
    "#############  Video 1: Video 1 Name\n"
   ]
  },
  {
   "cell_type": "markdown",
   "metadata": {},
   "source": [
    "##############  Video 1: Video 1 Name\n"
   ]
  },
  {
   "cell_type": "markdown",
   "metadata": {},
   "source": [
    "###############  Video 1: Video 1 Name\n"
   ]
  },
  {
   "cell_type": "markdown",
   "metadata": {},
   "source": [
    "################  Video 1: Video 1 Name\n"
   ]
  },
  {
   "cell_type": "markdown",
   "metadata": {},
   "source": [
    "#################  Video 1: Video 1 Name\n"
   ]
  },
  {
   "cell_type": "markdown",
   "metadata": {},
   "source": [
    "##################  Video 1: Video 1 Name\n"
   ]
  },
  {
   "cell_type": "markdown",
   "metadata": {},
   "source": [
    "###################  Video 1: Video 1 Name\n"
   ]
  },
  {
   "cell_type": "markdown",
   "metadata": {},
   "source": [
    "####################  Video 1: Video 1 Name\n"
   ]
  },
  {
   "cell_type": "markdown",
   "metadata": {},
   "source": [
    "#####################  Video 1: Video 1 Name\n"
   ]
  },
  {
   "cell_type": "markdown",
   "metadata": {},
   "source": [
    "######################  Video 1: Video 1 Name\n"
   ]
  },
  {
   "cell_type": "markdown",
   "metadata": {},
   "source": [
    "#######################  Video 1: Video 1 Name\n"
   ]
  },
  {
   "cell_type": "markdown",
   "metadata": {},
   "source": [
    "########################  Video 1: Video 1 Name\n"
   ]
  },
  {
   "cell_type": "markdown",
   "metadata": {},
   "source": [
    "#########################  Video 1: Video 1 Name\n"
   ]
  },
  {
   "cell_type": "markdown",
   "metadata": {},
   "source": [
    "##########################  Video 1: Video 1 Name\n"
   ]
  },
  {
   "cell_type": "markdown",
   "metadata": {},
   "source": [
    "###########################  Video 1: Video 1 Name\n"
   ]
  },
  {
   "cell_type": "markdown",
   "metadata": {},
   "source": [
    "############################  Video 1: Video 1 Name\n"
   ]
  },
  {
   "cell_type": "markdown",
   "metadata": {},
   "source": [
    "#############################  Video 1: Video 1 Name\n"
   ]
  },
  {
   "cell_type": "markdown",
   "metadata": {},
   "source": [
    "##############################  Video 1: Video 1 Name\n"
   ]
  },
  {
   "cell_type": "markdown",
   "metadata": {},
   "source": [
    "###############################  Video 1: Video 1 Name\n"
   ]
  },
  {
   "cell_type": "markdown",
   "metadata": {},
   "source": [
    "################################  Video 1: Video 1 Name\n"
   ]
  },
  {
   "cell_type": "markdown",
   "metadata": {},
   "source": [
    "#################################  Video 1: Video 1 Name\n"
   ]
  },
  {
   "cell_type": "markdown",
   "metadata": {},
   "source": [
    "##################################  Video 1: Video 1 Name\n"
   ]
  },
  {
   "cell_type": "code",
   "execution_count": null,
   "metadata": {
    "cellView": "form",
    "execution": {},
    "tags": [
     "hide-input"
    ]
   },
   "outputs": [],
   "source": [
    "# @title Video 1: Video 1 Name\n",
    "#Tech team will add code to format and display the video"
   ]
  },
  {
   "cell_type": "markdown",
   "metadata": {
    "execution": {}
   },
   "source": [
    "As a large scale climate variability, ENSO pattern shifts back and forth between El Nino and La Nina phases irregularly every two to seven years. These shifts between two different phases often bring predictable changes in ocean surface temperature and disrupting the wind and rainfall patterns across the tropics. These changes have a cascade of global side effects.\n",
    "\n",
    "Here, we are using satellite data to examine the impact of ENSO on precipitation data."
   ]
  },
  {
   "cell_type": "markdown",
   "metadata": {
    "execution": {}
   },
   "source": [
    "##**Section 1.1: Get ENSO Index (ONI)**\n",
    "\n",
    "In last tutorial, we generated the Oceanic Nino Index using the OISST Climate Data Records. Now we just read the ONI value using the climatology of 1982-2011.\n"
   ]
  },
  {
   "cell_type": "code",
   "execution_count": null,
   "metadata": {
    "execution": {}
   },
   "outputs": [],
   "source": [
    "import os, requests\n",
    "fname = 't6_oceanic-nino-index.nc'\n",
    "url = \"https://osf.io/8rwxb/download/\"\n",
    "if not os.path.isfile(fname):\n",
    "  try:\n",
    "    r = requests.get(url)\n",
    "  except requests.ConnectionError:\n",
    "    print(\"!!! Failed to download data !!!\")\n",
    "  else:\n",
    "    if r.status_code != requests.codes.ok:\n",
    "      print(\"!!! Failed to download data !!!\")\n",
    "    else:\n",
    "      print(f\"Downloading {fname}...\")\n",
    "      with open(fname, \"wb\") as fid:\n",
    "        fid.write(r.content)\n",
    "      print(f\"Download {fname} completed!\")"
   ]
  },
  {
   "cell_type": "code",
   "execution_count": null,
   "metadata": {
    "execution": {}
   },
   "outputs": [],
   "source": [
    "oni = xr.open_dataset(fname)\n",
    "oni"
   ]
  },
  {
   "cell_type": "code",
   "execution_count": null,
   "metadata": {
    "execution": {}
   },
   "outputs": [],
   "source": [
    "fig=plt.figure(figsize=(12,6))\n",
    "oni.sst.plot()\n",
    "plt.ylabel('Ocean Nino Index')\n",
    "plt.axhline(y=0, linestyle='dashed', color='k')\n",
    "plt.axhline(y=0.5, linestyle='dotted', color='r')\n",
    "plt.axhline(y=-0.5, linestyle='dotted', color='b')"
   ]
  },
  {
   "cell_type": "markdown",
   "metadata": {
    "execution": {}
   },
   "source": [
    "## **Section 1.2: Get Precipitation Anomaly Data**\n",
    "\n",
    "In tutorial 5, we created the monthly anomaly data of precipitation globally using the GPCP Monthly Precipitation Climate Data Records. Here, we read in the anomaly data and look at one specific month (e.g., 1998-01-01)."
   ]
  },
  {
   "cell_type": "code",
   "execution_count": null,
   "metadata": {
    "execution": {}
   },
   "outputs": [],
   "source": [
    "import os, requests\n",
    "fname = 't5_gpcp-monthly-anomaly_1981-2010.nc'\n",
    "url = \"https://osf.io/vhdcg/download/\"\n",
    "if not os.path.isfile(fname):\n",
    "  try:\n",
    "    r = requests.get(url)\n",
    "  except requests.ConnectionError:\n",
    "    print(\"!!! Failed to download data !!!\")\n",
    "  else:\n",
    "    if r.status_code != requests.codes.ok:\n",
    "      print(\"!!! Failed to download data !!!\")\n",
    "    else:\n",
    "      print(f\"Downloading {fname}...\")\n",
    "      with open(fname, \"wb\") as fid:\n",
    "        fid.write(r.content)\n",
    "      print(f\"Download {fname} completed!\")"
   ]
  },
  {
   "cell_type": "code",
   "execution_count": null,
   "metadata": {
    "execution": {}
   },
   "outputs": [],
   "source": [
    "precip = xr.open_dataset(fname)\n",
    "precip"
   ]
  },
  {
   "cell_type": "code",
   "execution_count": null,
   "metadata": {
    "execution": {}
   },
   "outputs": [],
   "source": [
    "data=precip.sel(time='1998-01-01')\n",
    "# Initate plot\n",
    "fig = plt.figure(figsize=(9,6))\n",
    "ax = plt.axes(projection=ccrs.Robinson(central_longitude=180))\n",
    "ax.coastlines()\n",
    "ax.gridlines()\n",
    "data.precip.plot(ax=ax, transform=ccrs.PlateCarree(),\n",
    "         vmin = -10, vmax = 10, cmap='BrBG',\n",
    "         cbar_kwargs=dict(shrink=0.5, label='Precip Anomaly (mm/day)'))"
   ]
  },
  {
   "cell_type": "markdown",
   "metadata": {
    "execution": {}
   },
   "source": [
    "## **Section 1.3: Spatial Pattern**\n",
    "\n",
    "Let's look at one specific ENSO phase - El Nino in 1997/1998 and see how the spatial pattern of the precipitation evolves. The 1997/1998 is one of the most significant ENSO events started around May 1997 and ended April 1998.\n",
    "\n",
    "For nearly one year, let's examine the precipitation anomaly pattern every season."
   ]
  },
  {
   "cell_type": "code",
   "execution_count": null,
   "metadata": {
    "execution": {}
   },
   "outputs": [],
   "source": [
    "# Define the figure and each axis for the 2 rows and 2 columns\n",
    "fig, axs = plt.subplots(nrows=2,ncols=2,\n",
    "                        subplot_kw={'projection': ccrs.Robinson(central_longitude=180)},\n",
    "                        figsize=(12,7.5), sharex=True, sharey=True)\n",
    "\n",
    "# axs is a 2 dimensional array of `GeoAxes`.  We will flatten it into a 1-D array\n",
    "axs=axs.flatten()\n",
    "\n",
    "#Loop over selected months (Jan, Apr, Jul, Oct)\n",
    "for i,month in enumerate(['1997-07-01','1997-10-01','1998-01-01','1998-04-01']):\n",
    "\n",
    "        # Draw the coastines and major gridline for each subplot\n",
    "        axs[i].coastlines()\n",
    "        axs[i].gridlines()\n",
    "\n",
    "        # Draw the precipitation anomaly data\n",
    "        precip.precip.sel(time=month).plot(ax=axs[i], transform=ccrs.PlateCarree(),\n",
    "                   vmin = -10, vmax = 10, # use the same range of max and min value\n",
    "                   cmap = 'BrBG',\n",
    "                   cbar_kwargs=dict(shrink=0.4, label='Precip anomaly\\n(mm/day)'))"
   ]
  },
  {
   "cell_type": "markdown",
   "metadata": {
    "execution": {}
   },
   "source": [
    "In this set of four monthly maps, we can clearly see the precipitation pattern change over the tropics and other regions on land. \n",
    "\n",
    "The most direct changes are the increae and decrease of precipitation over the topical ocean where ENSO is monitored. The warmer SST in the Nino 3.4 regions (i.e., El Nino phase) directly correlates of the increase of the rainfall in the region as El Nino intensified.\n",
    "\n",
    "We can also see the change of rainfall pattern in other parts of the tropics and North and South America (e.g., the Amazon)."
   ]
  },
  {
   "cell_type": "markdown",
   "metadata": {
    "execution": {}
   },
   "source": [
    "## **Section 2: Correlation Analysis**\n",
    "\n",
    "Beyond visual inspection, we can also quantify the correlation between the ENSO (ONI) and the precipitation anomaly for the region of our interest.\n",
    "\n",
    "Let's use Nino 3.4 region as an example to calculate the coorelation berween precipitation and ONI."
   ]
  },
  {
   "cell_type": "code",
   "execution_count": null,
   "metadata": {
    "execution": {}
   },
   "outputs": [],
   "source": [
    "# Extract precipitation data for the Nino 3.4 region & the same time period with ONI data\n",
    "precip_nino34 = precip.sel(latitude=slice(-5,5),\n",
    "                           longitude=slice(190,240),\n",
    "                           time=slice('1981-09-01', '2022-12-01'))\n",
    "precip_nino34"
   ]
  },
  {
   "cell_type": "code",
   "execution_count": null,
   "metadata": {
    "execution": {}
   },
   "outputs": [],
   "source": [
    "# Calculate regional mean of the precipitation anomaly\n",
    "precip_nino34_mean = precip_nino34.mean(('latitude', 'longitude'))\n",
    "# Extract ONI value for the common period (ending at 2022-12-01)\n",
    "nino34 = oni.sel(time=slice('1981-09-01', '2022-12-01'))"
   ]
  },
  {
   "cell_type": "code",
   "execution_count": null,
   "metadata": {
    "execution": {}
   },
   "outputs": [],
   "source": [
    "# Set up two subplots that share the x-axis to compare precipitation anomaly and\n",
    "# ONI index\n",
    "fig, axs = plt.subplots(2, sharex=True)\n",
    "fig.suptitle('GPCP Precipitaion Anomaly v.s. Oceanic Nino Index')\n",
    "axs[0].plot(precip_nino34_mean.time, precip_nino34_mean.precip)\n",
    "axs[0].set_ylabel('Precip (mm/day)')\n",
    "axs[0].axhline(y=0, color='k', linestyle='dashed')\n",
    "axs[1].plot(nino34.time, nino34.sst)\n",
    "axs[1].set_ylabel('ONI (degC)')\n",
    "axs[1].axhline(y=0, color='k', linestyle='dashed')"
   ]
  },
  {
   "cell_type": "markdown",
   "metadata": {
    "execution": {}
   },
   "source": [
    "From the pattern of these two time series, we can see a clear pattern of synchronized change of precipitation anomaly and the ONI value for ENSO. Now, we can generate a scatter plot to further examine the pattern."
   ]
  },
  {
   "cell_type": "code",
   "execution_count": null,
   "metadata": {
    "execution": {}
   },
   "outputs": [],
   "source": [
    "# Set up two subplots that share the x-axis to compare precipitation anomaly and\n",
    "# ONI index\n",
    "fig = plt.figure(figsize=(7,7))\n",
    "fig.suptitle('GPCP Precipitaion Anomaly v.s. Oceanic Nino Index')\n",
    "plt.scatter(nino34.sst, precip_nino34_mean.precip, alpha=0.6)\n",
    "# Add horizontal and vertical lines of 0 values\n",
    "plt.axhline(y=0, linestyle='dashed', color='k', alpha=0.6)\n",
    "plt.axvline(x=0, linestyle='dashed', color='k', alpha=0.6)\n",
    "plt.axvline(x=0.5, linestyle='dashed', color='r', alpha=0.6) #El Nino threshold\n",
    "plt.axvline(x=-0.5, linestyle='dashed', color='b', alpha=0.6) #La Nina threshold"
   ]
  },
  {
   "cell_type": "markdown",
   "metadata": {
    "execution": {}
   },
   "source": [
    "We can observe a notable correlation between the regionally averaged precipitation anomaly with the ONI values.\n",
    "\n",
    "We will now calculate the Pearson's Correlation between the precipitation anomaly and ONI values using `.corr()` from `xarray`."
   ]
  },
  {
   "cell_type": "code",
   "execution_count": null,
   "metadata": {
    "execution": {}
   },
   "outputs": [],
   "source": [
    "# Calculate the pearson's correlation using `.corr()`\n",
    "xr.corr(nino34.sst, precip_nino34_mean.precip)"
   ]
  },
  {
   "cell_type": "markdown",
   "metadata": {
    "execution": {}
   },
   "source": [
    "The correlation coefficient of 0.72 indicates that the two variables are highly correlated, which confirms our observation based on the time series.\n",
    "\n",
    "Now can you take a look at other regions such as Amazon rainforest to see if ENSO affects the rainfall pattern there?"
   ]
  },
  {
   "cell_type": "markdown",
   "metadata": {
    "execution": {}
   },
   "source": [
    "### **Exercise 2.1: Examine rainfall anomaly and ONI relationship**\n",
    "\n",
    "You can choose a region of your interest to examine the relationship between ENSO (using ONI data) and precipitation anomaly globally. "
   ]
  },
  {
   "cell_type": "code",
   "execution_count": null,
   "metadata": {
    "execution": {}
   },
   "outputs": [],
   "source": [
    "################################################################################\n",
    "# Exercise: Examine relationship between ENSO and precipitation anomaly.       #\n",
    "################################################################################\n",
    "\n",
    "# Step 1: Define region of interest for the precipitation anomaly\n",
    "\n",
    "# Step 2: Calculate regional mean time series\n",
    "\n",
    "# Step 3: Plot the time serise of precipitation anomaly and ONI for the same\n",
    "#         time period using two subplots\n",
    "\n",
    "# Step 4: Plot scatter plot between precipitation and ONI\n",
    "\n",
    "# Step 5: Calculate correlation coefficient\n",
    "\n",
    "# Step 6: Create maps to examine the spatial pattern of a significant ENSO phase\n",
    "#         (e.g., 1997/1998 El Nino or 1988/1989 La Nina)\n",
    "\n",
    "'''\n",
    "\n",
    "Please describe the relationship between the ENSO and the regional precipitation\n",
    "pattern:\n",
    "\n",
    "'''"
   ]
  },
  {
   "cell_type": "markdown",
   "metadata": {
    "execution": {}
   },
   "source": [
    "#**Summary**\n",
    "\n",
    "In this tutorial, we learned how to assess the relationship between precipitation and large-scale climate variability.\n",
    "\n",
    "* ENSO has a notable impact on the precipitation pattern in the tropics and the impact will propogate to other regions of the globe.\n",
    "* Pearson's correlation coefficient can be used to study the potential correlation. But correlation need to be further examined with physical explanations to make sure the signal is meaningful information rather than a coincidence.\n"
   ]
  }
 ],
 "metadata": {
  "colab": {
   "collapsed_sections": [],
   "include_colab_link": true,
   "name": "W1D3_Tutorial7",
   "provenance": [],
   "toc_visible": true
  },
  "kernel": {
   "display_name": "Python 3",
   "language": "python",
   "name": "python3"
  },
  "kernelspec": {
   "display_name": "Python 3",
   "name": "python3"
  },
  "language_info": {
   "codemirror_mode": {
    "name": "ipython",
    "version": 3
   },
   "file_extension": ".py",
   "mimetype": "text/x-python",
   "name": "python",
   "nbconvert_exporter": "python",
   "pygments_lexer": "ipython3",
   "version": "3.10.10"
  }
 },
 "nbformat": 4,
 "nbformat_minor": 0
}