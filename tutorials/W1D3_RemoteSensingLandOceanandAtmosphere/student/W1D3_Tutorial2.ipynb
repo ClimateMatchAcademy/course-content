{
 "cells": [
  {
   "cell_type": "markdown",
   "metadata": {
    "execution": {}
   },
   "source": [
    "#**Tutorial 2: Explore Satellite Climate Data Records**\n",
    "\n",
    "> Indented block\n",
    "\n",
    "> Indented block\n",
    "\n",
    "\n",
    "\n",
    "\n",
    "**Week 1, Day 3, Remote Sensing**\n",
    "\n",
    "**Content creators:** Douglas Rao\n",
    "\n",
    "**Content reviewers:** TBD\n",
    "\n",
    "**Content editors:** TBD\n",
    "\n",
    "**Production editors:** TBD\n",
    "\n",
    "**Our 2023 Sponsors:** TBD"
   ]
  },
  {
   "cell_type": "markdown",
   "metadata": {
    "execution": {}
   },
   "source": [
    "#**Tutorial Objectives**\n",
    "\n",
    "In this tutorial, you will learn the theory and available satellite remote sensing data for climate applications. By the end of this tutorial, you will be able to:\n",
    "\n",
    "*   Understand the concept of inter-satellite calibration;\n",
    "*   Explore long term satellite remote sensing data for climate applications from three major data providers - NOAA, NASA, and ESA.\n"
   ]
  },
  {
   "cell_type": "markdown",
   "metadata": {
    "execution": {}
   },
   "source": [
    "#**Setup**\n",
    "\n",
    "\n",
    "\n",
    "In this section, we have:\n",
    "\n",
    "\n",
    "1.   **Import cell:** imports all libraries you use in the tutorial.\n",
    "2.   **Hidden Figure settings cell:** sets up the plotting style (copy exactly)\n",
    "1.   **Hidden Plotting functions cell:** contains all functions used to create plots throughout the tutorial (so students don't waste time looking at boilerplate matplotlib but can here if they wish to). Please use only matplotlib for plotting for consistency.\n",
    "2.   **Hidden Helper functions cell:** This should contain functions that students have previously used or that are very simple. Any helper functions that are being used for the first time and are important should be placed directly above the relevant text or exercise (see Section 1.1 for an example).\n",
    "    \n",
    "\n"
   ]
  },
  {
   "cell_type": "code",
   "execution_count": null,
   "metadata": {
    "execution": {}
   },
   "outputs": [],
   "source": [
    "#Imports\n",
    "\n",
    "# Import only the libraries/objects that you use in this tutorial.\n",
    "\n",
    "# If any external library has to be installed, !pip install library --quiet\n",
    "# follow this order: numpy>matplotlib.\n",
    "# import widgets in hidden Figure settings cell\n",
    "from IPython.display import Image\n",
    "import matplotlib.pyplot as plt"
   ]
  },
  {
   "cell_type": "markdown",
   "metadata": {},
   "source": [
    "##  Figure settings\n"
   ]
  },
  {
   "cell_type": "markdown",
   "metadata": {},
   "source": [
    "###  Figure settings\n"
   ]
  },
  {
   "cell_type": "markdown",
   "metadata": {},
   "source": [
    "####  Figure settings\n"
   ]
  },
  {
   "cell_type": "markdown",
   "metadata": {},
   "source": [
    "#####  Figure settings\n"
   ]
  },
  {
   "cell_type": "markdown",
   "metadata": {},
   "source": [
    "######  Figure settings\n"
   ]
  },
  {
   "cell_type": "markdown",
   "metadata": {},
   "source": [
    "#######  Figure settings\n"
   ]
  },
  {
   "cell_type": "markdown",
   "metadata": {},
   "source": [
    "########  Figure settings\n"
   ]
  },
  {
   "cell_type": "markdown",
   "metadata": {},
   "source": [
    "#########  Figure settings\n"
   ]
  },
  {
   "cell_type": "markdown",
   "metadata": {},
   "source": [
    "##########  Figure settings\n"
   ]
  },
  {
   "cell_type": "markdown",
   "metadata": {},
   "source": [
    "###########  Figure settings\n"
   ]
  },
  {
   "cell_type": "markdown",
   "metadata": {},
   "source": [
    "############  Figure settings\n"
   ]
  },
  {
   "cell_type": "markdown",
   "metadata": {},
   "source": [
    "#############  Figure settings\n"
   ]
  },
  {
   "cell_type": "markdown",
   "metadata": {},
   "source": [
    "##############  Figure settings\n"
   ]
  },
  {
   "cell_type": "markdown",
   "metadata": {},
   "source": [
    "###############  Figure settings\n"
   ]
  },
  {
   "cell_type": "markdown",
   "metadata": {},
   "source": [
    "################  Figure settings\n"
   ]
  },
  {
   "cell_type": "markdown",
   "metadata": {},
   "source": [
    "#################  Figure settings\n"
   ]
  },
  {
   "cell_type": "markdown",
   "metadata": {},
   "source": [
    "##################  Figure settings\n"
   ]
  },
  {
   "cell_type": "code",
   "execution_count": null,
   "metadata": {
    "cellView": "form",
    "execution": {},
    "tags": [
     "hide-input"
    ]
   },
   "outputs": [],
   "source": [
    "# @title Figure settings\n",
    "import ipywidgets as widgets       # interactive display\n",
    "%config InlineBackend.figure_format = 'retina'\n",
    "plt.style.use(\"https://raw.githubusercontent.com/ClimateMatchAcademy/course-content/main/cma.mplstyle\")"
   ]
  },
  {
   "cell_type": "markdown",
   "metadata": {
    "execution": {}
   },
   "source": [
    "#**Section 1: Satellite Climate Data Records**\n",
    "\n",
    "You have already seen some use cases and examples of how satellite remote sensing data can be used for climate research and applications. But are all satellite data \"created equal\" for climate research and applications? There are a lot of considerations need to be taken into account when using satellite data for climate sciences, particularly if you want to use satellite data to monitor the long term change of different components of the Earth system.\n",
    "\n"
   ]
  },
  {
   "cell_type": "markdown",
   "metadata": {},
   "source": [
    "##  Video 1: Video 1 Name\n"
   ]
  },
  {
   "cell_type": "markdown",
   "metadata": {},
   "source": [
    "###  Video 1: Video 1 Name\n"
   ]
  },
  {
   "cell_type": "markdown",
   "metadata": {},
   "source": [
    "####  Video 1: Video 1 Name\n"
   ]
  },
  {
   "cell_type": "markdown",
   "metadata": {},
   "source": [
    "#####  Video 1: Video 1 Name\n"
   ]
  },
  {
   "cell_type": "markdown",
   "metadata": {},
   "source": [
    "######  Video 1: Video 1 Name\n"
   ]
  },
  {
   "cell_type": "markdown",
   "metadata": {},
   "source": [
    "#######  Video 1: Video 1 Name\n"
   ]
  },
  {
   "cell_type": "markdown",
   "metadata": {},
   "source": [
    "########  Video 1: Video 1 Name\n"
   ]
  },
  {
   "cell_type": "markdown",
   "metadata": {},
   "source": [
    "#########  Video 1: Video 1 Name\n"
   ]
  },
  {
   "cell_type": "markdown",
   "metadata": {},
   "source": [
    "##########  Video 1: Video 1 Name\n"
   ]
  },
  {
   "cell_type": "markdown",
   "metadata": {},
   "source": [
    "###########  Video 1: Video 1 Name\n"
   ]
  },
  {
   "cell_type": "markdown",
   "metadata": {},
   "source": [
    "############  Video 1: Video 1 Name\n"
   ]
  },
  {
   "cell_type": "markdown",
   "metadata": {},
   "source": [
    "#############  Video 1: Video 1 Name\n"
   ]
  },
  {
   "cell_type": "markdown",
   "metadata": {},
   "source": [
    "##############  Video 1: Video 1 Name\n"
   ]
  },
  {
   "cell_type": "markdown",
   "metadata": {},
   "source": [
    "###############  Video 1: Video 1 Name\n"
   ]
  },
  {
   "cell_type": "markdown",
   "metadata": {},
   "source": [
    "################  Video 1: Video 1 Name\n"
   ]
  },
  {
   "cell_type": "markdown",
   "metadata": {},
   "source": [
    "#################  Video 1: Video 1 Name\n"
   ]
  },
  {
   "cell_type": "markdown",
   "metadata": {},
   "source": [
    "##################  Video 1: Video 1 Name\n"
   ]
  },
  {
   "cell_type": "code",
   "execution_count": null,
   "metadata": {
    "cellView": "form",
    "execution": {},
    "tags": [
     "hide-input"
    ]
   },
   "outputs": [],
   "source": [
    "# @title Video 1: Video 1 Name\n",
    "#Tech team will add code to format and display the video"
   ]
  },
  {
   "cell_type": "markdown",
   "metadata": {
    "execution": {}
   },
   "source": [
    "**Satellite Climate Data Records**\n",
    "\n",
    "In 2004, a committee convened by the US National Research Council defined a *Climate Data Record (CDR)* is \"a time series of measurements of sufficient length, consistency and continuity to determine climate variability and change.\" Although there are no specific number to determine the \"sufficient length\", the typical climate length is considered to be at least 30 years. To achieve a stable, consistent, and reliable satellite CDR, we need to carefully calibrate the raw satellite data. "
   ]
  },
  {
   "cell_type": "markdown",
   "metadata": {
    "execution": {}
   },
   "source": [
    "##**Section 1.1: Satellite Missions for Environmental Monitoring**\n",
    "\n",
    "When we try to use weather station to monitor environmental and climate change of a region, we have confidence in the data quality as we can regularly inspect and maintain the stations and instruments used. For example, we have many weather stations that have been in operation for more than 100 years in North America and Europe. \n",
    "\n",
    "On the other hand, a satellite mission has a designed lifetime span of 5-8 years in operation. Some satellites have exceptionally long lifetime once they reached the operational orbit (e.g., Terra and Aqua both have been in operation for more than 20 years). Ultimately, satellites and sensors aboard satellites deteriorate as time goes by. So it is very challenging, if not impossible, to use single satellite for climate monitoring and applications. Fortunately, we have a suite of satellite platforms that operate continuously and carry similar remote sensors that can be used together for climate purpose.\n",
    "\n",
    "There are dozens of satellites (both polar-orbiting and geostationary satellites) that were designed for weather and environmental monitoring since 1970s. Although they were not originally designed for climate studies, researchers are able to develop methods to stich together robust long term time series of satellite data from existing satellite platforms while carefully design future satellite missions to further extend the data records.\n",
    "\n",
    "The image below show the timeline of a selection of polar-orbiting satellite missions whose data are commonly used to produce satellite CDRs."
   ]
  },
  {
   "cell_type": "code",
   "execution_count": null,
   "metadata": {
    "execution": {}
   },
   "outputs": [],
   "source": [
    "## This code cell can be hidden from students\n",
    "Image('./asset/img/t2_satellite_timeline.png')"
   ]
  },
  {
   "cell_type": "markdown",
   "metadata": {
    "execution": {}
   },
   "source": [
    "The above figure shows the variety of satellite lifespan - you can find some satellites only operated 3-5 years while there are a handful of satellite missions operated more than 15 years. Most importantly, we usually have at least two satellite missions operating during the same time period. The overlapping among satellite missions is critical for generating satellite CDRs as we can compare the data during the overlapping time period and account for the systematic differences between satellite missions.\n",
    "\n",
    "Meanwhile, there are significant technology advancement in remote sensors aboard different satellite missions. These different generations of remote sensors aboard satellite missions are identified by the solid grey lines in the figure. As indicated in the figure above, we seen three major upgrades in sensor technologies. These sensor changes also need to be accounted for when creating satellite CDRs."
   ]
  },
  {
   "cell_type": "markdown",
   "metadata": {
    "execution": {}
   },
   "source": [
    "##**Section 1.2: Inter-satellite Calibration**\n",
    "\n",
    "As noted in the previous section, the change of satellite missions and remote sensors make it hard to use remotely sensed data \"as it is\" for climate applications. These changes can offten cause systematic differences in raw satellite data (see image below).\n",
    "\n",
    "The figure is exagerating the possible systematic differences between raw data collected by different satellite missions. Nonetheless, these systematic differences can often cause large uncertainty for climate science when not addressed properly."
   ]
  },
  {
   "cell_type": "code",
   "execution_count": null,
   "metadata": {
    "execution": {}
   },
   "outputs": [],
   "source": [
    "Image('./asset/img/t2_calibration_pt1.png')"
   ]
  },
  {
   "cell_type": "markdown",
   "metadata": {
    "execution": {}
   },
   "source": [
    "To address the differences that are caused by sensor and satellite change, we often perform inter-satellite calibration - adjusting the raw data collected by different satellite to a pre-defined reference to remove or minimize the systematic difference between data collected by different satellites/sensors. This pre-defined reference is usually determined using data during satellite overlapping time period (see image below). But we can also use other high quality reference data like surface observations, theoretical basis, or other ancilarly data."
   ]
  },
  {
   "cell_type": "code",
   "execution_count": null,
   "metadata": {
    "execution": {}
   },
   "outputs": [],
   "source": [
    "Image('./asset/img/t2_calibration_pt2.png')"
   ]
  },
  {
   "cell_type": "markdown",
   "metadata": {
    "execution": {}
   },
   "source": [
    "A well-calibrated multi-satellite date record is often assessed by examine the differences between satellite data during the overlapping time period. Once we are confident that the differences are minimal or within an accepted range, the long term time series based on multiple satellites can be used for climate applications.\n",
    "\n",
    "The inter-satellite calibration step is the key to ensure that climate signals can be accurately reflected in the satellite data and not affected by the noise caused by change in satellite platforms and sensors. Therefore, when you are choosing satellite data for climate applications, you should be asking yourself a few questions:\n",
    "\n",
    "* Are the data that you are planning to use collected by the same sensor and satellite?\n",
    "* If the data are from multiple satellites/sensors, are there steps to ensure the data are consistent across difference satellites/sensors?\n",
    "* Can you find out how the inter-satellite calibration is done and what is the level of difference between satellites/sensors?\n",
    "\n",
    "These questions will help you determine if the remotely sensed data is appropriate for climate applications that you are interested in."
   ]
  },
  {
   "cell_type": "code",
   "execution_count": null,
   "metadata": {
    "execution": {}
   },
   "outputs": [],
   "source": [
    "Image('./asset/img/t2_calibration_pt3.png')"
   ]
  },
  {
   "cell_type": "markdown",
   "metadata": {
    "execution": {}
   },
   "source": [
    "###**Exercise 1.1: Is this the right data?**\n",
    "\n",
    "Assuming that you are interested in using remote sensing data to understand how the rainfall amount and frequency have changed for the region that you are in since 1990. There are three different satellite data that you can choose from:\n",
    "\n",
    "* _Option A_: Data from the most recent satellite missions designed to monitor global precipitation. The satellite has the most accurate sensor and the satellite was launched in 2014. \n",
    "* _Option B_: Data from three different satellite missions that carry similar sensors (first satellite: 1985-1994; second satellite: 1992-2006; third satellite: 2003-present).\n",
    "* _Option C_: Data from the three different satellite missions described in _Option B_ that has been calibrated using long term surface measurements of rainfall in your region. \n",
    "\n",
    "Can you choose the best data for your application? Why would you make this choice? Do you need more information to make the decision?\n",
    "\n"
   ]
  },
  {
   "cell_type": "code",
   "execution_count": null,
   "metadata": {
    "execution": {}
   },
   "outputs": [],
   "source": [
    "# Please describe your answers below and you can discuss your answers with others in your pod\n",
    "\"\"\"\n",
    "\n",
    "\n",
    "\n",
    "\"\"\""
   ]
  },
  {
   "cell_type": "markdown",
   "metadata": {
    "execution": {}
   },
   "source": [
    "#**Section 2: Finding Satellite Climate Data Records**\n",
    "\n",
    "One of the main challenge of using remote sensing data is finding the right data for your applications. In this section, you will have the opportunity to explore different satellite data that is designed for climate science and applications from three major remote sensing data providers – NOAA, NASA, and European Space Agency (ESA).\n",
    "\n",
    "Although you will not learn the code to analyze the data right now, you will learn how to do that in the next six tutorials.\n",
    "\n"
   ]
  },
  {
   "cell_type": "markdown",
   "metadata": {
    "execution": {}
   },
   "source": [
    "##**Section 2.1: NOAA Climate Data Records**\n",
    "\n",
    "NOAA implemented the recommendation from the US National Research Council to develop satellite-based climate data records in 2000s and have maintained a suite of operational CDRs that can be used to study different aspects of the changing climate system since then.\n",
    "\n",
    "All NOAA CDR data are available freely to the public via [NOAA National Centers for Environmental Information](https://www.ncei.noaa.gov/products/climate-data-records). Recently, [NOAA Open Data Dissemination Program](https://www.noaa.gov/information-technology/open-data-dissemination) also makes all NOAA CDRs available on three major commercial cloud service providers (i.e., Amazon Web Service, Google Cloud, and Microsoft Azure). Anyone who want to use these datasets can access the data either through NCEI or any of the cloud service providers for free.\n",
    "\n",
    "NOAA CDRs have two different categories with different purposes:\n",
    "\n",
    "* _Fundamental CDR (FCDR)_: This category describe the high-quality low processing level satellite sensor data (i.e., reflectance and brightness temperature) that are calibrated between satellites/sensors. These datasets can be used to assess and improve Earth system model and be used to further process to derive physical properties for climate applications.\n",
    "* _Thematic CDR_: This category includes satellite CDRs that are processed to study specific components of the climate system. It is often separated into terrestrial, atmospheric, and ocean.\n",
    "\n",
    "The table below lists a selection of thematic CDRs operates by NOAA. You can find out more about all NOAA CDRs by visiting the specific webpage of each CDR categories:\n",
    "\n",
    "* [Fundamental CDR](https://www.ncei.noaa.gov/products/climate-data-records/fundamental) - 16 datasets\n",
    "* [Thematic CDR: Terrestrial](https://www.ncei.noaa.gov/products/climate-data-records/terrestrial) - 4 datasets\n",
    "* [Thematic CDR: Atmospheric](https://www.ncei.noaa.gov/products/climate-data-records/atmospheric) - 18 datasets\n",
    "* [Thematic CDR: Oceanic](https://www.ncei.noaa.gov/products/climate-data-records/oceanic) - 5 datasets"
   ]
  },
  {
   "cell_type": "markdown",
   "metadata": {
    "execution": {}
   },
   "source": [
    "| Dataset | Category | Start Year | Frequency | Spatial Resolution | Example Application Areas |\n",
    "|:--|:--:|:--:|:--:|:--:|:--|\n",
    "|Leaf Area Index and FAPAR|Terrestrial|1981|Daily|0.05°| Vegetation status monitoring; Agriculture monitoring; Crop yield/food security|\n",
    "|Normalized Difference Vegetation Index (NDVI)|Terrestrial|1981|Daily|0.05°|Vegetation status monitoring; Vegetation phenology study|\n",
    "|Snow Cover Extent (Northern Hemisphere)|Terrestrial|1966|Weekly (prior 1999-06) <br><br> Daily (post 1999-06)|~190 km| Hydrology; Water resources; Snow-climate feedback|\n",
    "|Aerosol Optical Thickness|Atmospheric|1981|Daily & Monthly|0.1°|Air quality; Aerosol-climate feedback|\n",
    "|PATMOS-x Cloud Properties|Atmospheric|1979|Daily|0.1°|Cloud process; Cloud-climate feedback|\n",
    "|Precipitation - PERSIANN|Atmospheric|1982|Daily|0.25° <br><br> (60°S–60°N)|Hydrology; Water resources; Extreme events|\n",
    "|Sea Surface Temperature - Optimum Interpolation|Oceanic|1981|Daily|0.25°|Climate variability; Marine heatwave; Marine ecosystem|\n",
    "|Sea Ice Concentration|Oceanic|1978|Daily & Monthly|25 km|Crosphere study; Wildlife conservation; Ocean/climate modeling|"
   ]
  },
  {
   "cell_type": "markdown",
   "metadata": {
    "execution": {}
   },
   "source": [
    "##**Section 2.2: ESA Climate Change Initiative**\n",
    "\n",
    "European Space Agency initiated a similar effort to develop consistent satellite-based long term records to support the mission of climate monitoring for societal benefits in late 2010s. [ESA Climate Change Initiative](https://climate.esa.int/en/esa-climate/esa-cci/) has established more than 26 projects to develop satellite-based CDRs and directly engage with downstream users.\n",
    "\n",
    "As CCI is established more recently, there is very strong emphasis on the applications to support the monitoring of [**essential climate variables** (ECVs) defined by Global Climate Observing System (GCOS)](https://public.wmo.int/en/programmes/global-climate-observing-system/essential-climate-variables). An ECV is defined as \"a physical, chemical or biological variable or a group of linked variables that critically contributes to the characterization of Earth’ s climate.\"\n",
    "\n",
    "The table below lists a selection of ESA CCI datasets and their example application areas."
   ]
  },
  {
   "cell_type": "markdown",
   "metadata": {
    "execution": {}
   },
   "source": [
    "| Dataset | Category | Duration | Frequency | Spatial Resolution | Example Application Areas |\n",
    "|:--|:--:|:--:|:--:|:--:|:--|\n",
    "|Sea Level|Oceanic|1992-2015|Monthly|0.25°|Sea level rise; Ocean modeling|\n",
    "|Water Vapor|Atmospheric|1985-2019|Monthly|5°|Water vapor-climate feedback; Hydrology|\n",
    "|Fire|Terrestrial|1981-2020|Monthly|0.05° (pixel dataset) <br><br> 0.25° (grid dataset)|Ecosystem disturbance; Extreme events; Social impact|\n",
    "|Land Cover|Terrestrial|1992-2020|Yearly|300 m|Terrestrial modeling|\n",
    "|Soil Moisture|Terrestrial|1978-2021|Daily|0.25°|Hydrology; Ecosystem impacts; Extreme events|"
   ]
  },
  {
   "cell_type": "markdown",
   "metadata": {
    "execution": {}
   },
   "source": [
    "You might notice that some datasets do not currently cover the typical length for climate studies (e.g., 30 years). This is due to a combination of factors like:\n",
    "\n",
    "* Historical sensors cannot effectively retrieve the ECV of interests.\n",
    "* The CCI project is implemented in phases starting with the most recent satellite missions/sensors. But there is the plan to expand to earlier data from heritage satellite missions/sensors.\n",
    "\n",
    "Also each ESA CCI projects often provide different versions of the ECV variables derived for different purposes. Some of the specification for these ECV variables might be different from the table above if they produced a subset of the time period using data from most recent sensors. The table only lists the information of the longest time record of each CCI.\n",
    "\n",
    "All ESA CCI data are open and freely available to users with no restrictions. They can all be accessed via [**ESA CCI Open Data Portal**](https://climate.esa.int/en/odp/#/dashboard).\n",
    "\n",
    "To better help users to access and analyze the CCI data, ESA also developed [**CCI Analysis Toolbox (Cate)**](https://climate.esa.int/en/explore/analyse-climate-data/). It is \"a cloud-enabled computing environment geared for scientists who need to analyse, process, and visualise ESA’s climate data and other spatiotemporal data.\" "
   ]
  },
  {
   "cell_type": "markdown",
   "metadata": {
    "execution": {}
   },
   "source": [
    "##**Section 2.3: NASA Earth System Data Records**\n",
    "\n",
    "Similar to other two satellite data providers, NASA also produces and distribute a variety of long-term satellite-based data records that may be suitable for different applications. NASA [Earth System Data Records (ESDRs)](https://www.earthdata.nasa.gov/esds/competitive-programs/measures?page=0) is defined as \"as a unified and coherent set of observations of a given parameter of the Earth system, which is optimized to meet specific requirements in addressing science questions.\"\n",
    "\n",
    "Although NASA ESDR does not spefically mention climate, ESDRs are often produced to monitor and study different components of the climate systems, such as, surface temperature, global forest coverage change, atmopsheric compositions, and icesheet velocity.\n",
    "\n",
    "The table below listed a selection of NASA ESDRs datasets that are complementary to the satellite CDRs from NOAA and ESA."
   ]
  },
  {
   "cell_type": "markdown",
   "metadata": {
    "execution": {}
   },
   "source": [
    "| Dataset | Category | Duration | Frequency | Spatial Resolution | Example Application Areas |\n",
    "|:--|:--:|:--:|:--:|:--:|:--|\n",
    "|[Sulfur Dioxide](https://www.earthdata.nasa.gov/esds/competitive-programs/measures/multi-decadal-sulfur-dioxide)|Atmospheric|1978-2022|Daily|50 km|Atmospheric modeling; Air quality|\n",
    "|[Ozone](https://disc.gsfc.nasa.gov/datasets/MSO3L3zm5_1/summary)|Atmospheric|1970-2013|Monthly|5°|Ozone monitoring; Air quality|\n",
    "|[Sea Surface Height](https://podaac.jpl.nasa.gov/dataset/SEA_SURFACE_HEIGHT_ALT_GRIDS_L4_2SATS_5DAY_6THDEG_V_JPL2205)|Oceanic|1992-ongoing|5-Day|1/6°|Sea level rise; Ocean modeling|\n",
    "|[GPCP Satellite-Gauge Combined Precipitation Data](https://disc.gsfc.nasa.gov/datasets/GPCPMON_3.2/summary)|Atmospheric|1983-2020|Daily & Monthly|0.5°|Hydrology; Extreme events|\n",
    "|[Goestationary land surface temperature (Americas)](https://lpdaac.usgs.gov/products/geolst4khrv002/)|Terrestrial|2000-2017|Hourly|4 km|Heatwave; Ecosystem impact|"
   ]
  },
  {
   "cell_type": "markdown",
   "metadata": {
    "execution": {}
   },
   "source": [
    "If you clicked on the link of the NASA ESDR provided above, you may find that they appear to be less organized than the NOAA CDR program and ESA CCI open data portal. That's partly because NASA has different data centers to distribute data products for different application areas (e.g., atmosphere, snow/ice, land, etc.). But you can always go to [NASA's Earth Data Search](https://search.earthdata.nasa.gov/search)–the one stop shop for datasets that are provided for NASA Earth science data. You will be required to provide a user account in order to access the data. The user account to NASA Earthdata system is free to anyone who register for it. "
   ]
  },
  {
   "cell_type": "markdown",
   "metadata": {
    "execution": {}
   },
   "source": [
    "##**Exercise 2: Explore Satellite CDR for Specific Applications**\n",
    "\n",
    "Now you have been introduced to three major source of remote sensing data for climate applications. Can you find the dataset that best suit for your applications? In this exercise, you can choose one or more of the data providers (NASA, NOAA, ESA) and explore different satellite data to see whcih one best fit your application needs."
   ]
  },
  {
   "cell_type": "code",
   "execution_count": null,
   "metadata": {
    "execution": {}
   },
   "outputs": [],
   "source": [
    "### Step 1: Describe your application interest. Be as specific as you can, this\n",
    "### will help you narrow down your search for the data\n",
    "\"\"\"\n",
    "\n",
    "\"\"\"\n",
    "### Step 2: Identify an ideal spatial and temporal resolution for your application\n",
    "### (e.g., daiyl/weekly/monthly, 500 m/5 km/25 km/...?)\n",
    "\"\"\"\n",
    "\n",
    "\"\"\"\n",
    "### Step 3: Explore the data from one of the data providers to see if there is\n",
    "### any data that can fit your application need and explain why\n",
    "\"\"\"\n",
    "\n",
    "\"\"\""
   ]
  },
  {
   "cell_type": "markdown",
   "metadata": {
    "execution": {}
   },
   "source": [
    "#**Summary**\n",
    "\n",
    "In this tutorial, we learned about \n",
    "\n",
    "*   **Inter-satellite calibration** is a critical step to produce a consistent remote sensing dataset for climate applications since it is often needed to use data from different satellites and sensors.\n",
    "*   **Major collections of satellite-based datasets** for climate applications, including NOAA Climate Data Records, ESA Climate Change Initiative, and NASA Earth System Data Records.\n",
    "\n",
    "In next tutorial, we will start to learn how to use computational tools to access publicly available remote sensing data for climate applications.\n"
   ]
  }
 ],
 "metadata": {
  "colab": {
   "collapsed_sections": [],
   "include_colab_link": true,
   "name": "W1D3_Tutorial2",
   "provenance": [],
   "toc_visible": true
  },
  "kernel": {
   "display_name": "Python 3",
   "language": "python",
   "name": "python3"
  },
  "kernelspec": {
   "display_name": "Python 3",
   "name": "python3"
  },
  "language_info": {
   "codemirror_mode": {
    "name": "ipython",
    "version": 3
   },
   "file_extension": ".py",
   "mimetype": "text/x-python",
   "name": "python",
   "nbconvert_exporter": "python",
   "pygments_lexer": "ipython3",
   "version": "3.10.10"
  }
 },
 "nbformat": 4,
 "nbformat_minor": 0
}