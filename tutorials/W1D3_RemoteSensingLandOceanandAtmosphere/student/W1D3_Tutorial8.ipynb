{
 "cells": [
  {
   "cell_type": "markdown",
   "metadata": {
    "execution": {}
   },
   "source": [
    "#**Tutorial 8: Comparing Satellite Products with in situ-Based Data**\n",
    "\n",
    "> Indented block\n",
    "\n",
    "> Indented block\n",
    "\n",
    "\n",
    "\n",
    "\n",
    "**Week 1, Day 3, Remote Sensing**\n",
    "\n",
    "**Content creators:** Douglas Rao\n",
    "\n",
    "**Content reviewers:** TBD\n",
    "\n",
    "**Content editors:** TBD\n",
    "\n",
    "**Production editors:** TBD\n",
    "\n",
    "**Our 2023 Sponsors:** TBD"
   ]
  },
  {
   "cell_type": "markdown",
   "metadata": {
    "execution": {}
   },
   "source": [
    "#**Tutorial Objectives**\n",
    "\n",
    "In this tutorial, you will learn how to use observations from stations over land to evaluate satellite climate data. \n",
    "\n",
    "*  Learn how to access the gridded climate data derived from station observations from AWS.\n",
    "*  Learn how to convert monthly total values to daily rate.\n",
    "*  Learn how to correctly compare satellite and observation-based data for evalution.\n"
   ]
  },
  {
   "cell_type": "markdown",
   "metadata": {
    "execution": {}
   },
   "source": [
    "#**Setup**\n",
    "\n",
    "\n",
    "\n",
    "In this section, we have:\n",
    "\n",
    "\n",
    "1.   **Import cell:** imports all libraries you use in the tutorial.\n",
    "2.   **Hidden Figure settings cell:** sets up the plotting style (copy exactly)\n",
    "1.   **Hidden Plotting functions cell:** contains all functions used to create plots throughout the tutorial (so students don't waste time looking at boilerplate matplotlib but can here if they wish to). Please use only matplotlib for plotting for consistency.\n",
    "2.   **Hidden Helper functions cell:** This should contain functions that students have previously used or that are very simple. Any helper functions that are being used for the first time and are important should be placed directly above the relevant text or exercise (see Section 1.1 for an example).\n",
    "    \n",
    "\n"
   ]
  },
  {
   "cell_type": "code",
   "execution_count": null,
   "metadata": {
    "execution": {},
    "tags": [
     "colab"
    ]
   },
   "outputs": [],
   "source": [
    "# Import only the libraries/objects that you use in this tutorial.\n",
    "\n",
    "# If any external library has to be installed, !pip install library --quiet\n",
    "# follow this order: numpy>matplotlib.\n",
    "# import widgets in hidden Figure settings cell\n",
    "\n",
    "# !pip install s3fs --quiet\n",
    "\n",
    "# # Properly install cartopy in colab to avoid session crash\n",
    "# !apt-get install libproj-dev proj-data proj-bin --quiet\n",
    "# !apt-get install libgeos-dev --quiet\n",
    "# !pip install cython --quiet\n",
    "# !pip install cartopy --quiet\n",
    "\n",
    "# !apt-get -qq install python-cartopy python3-cartopy  --quiet\n",
    "# !pip uninstall -y shapely  --quiet\n",
    "# !pip install shapely --no-binary shapely  --quiet"
   ]
  },
  {
   "cell_type": "code",
   "execution_count": null,
   "metadata": {
    "execution": {},
    "executionInfo": {
     "elapsed": 128816,
     "status": "ok",
     "timestamp": 1681872600523,
     "user": {
      "displayName": "Yuhan (Douglas) Rao",
      "userId": "14858740632129213276"
     },
     "user_tz": 240
    }
   },
   "outputs": [],
   "source": [
    "#Imports\n",
    "import s3fs\n",
    "import xarray as xr\n",
    "import numpy as np\n",
    "import matplotlib.pyplot as plt\n",
    "import cartopy, cartopy.crs as ccrs"
   ]
  },
  {
   "cell_type": "markdown",
   "metadata": {},
   "source": [
    "##  Figure settings\n"
   ]
  },
  {
   "cell_type": "markdown",
   "metadata": {},
   "source": [
    "###  Figure settings\n"
   ]
  },
  {
   "cell_type": "markdown",
   "metadata": {},
   "source": [
    "####  Figure settings\n"
   ]
  },
  {
   "cell_type": "markdown",
   "metadata": {},
   "source": [
    "#####  Figure settings\n"
   ]
  },
  {
   "cell_type": "markdown",
   "metadata": {},
   "source": [
    "######  Figure settings\n"
   ]
  },
  {
   "cell_type": "markdown",
   "metadata": {},
   "source": [
    "#######  Figure settings\n"
   ]
  },
  {
   "cell_type": "markdown",
   "metadata": {},
   "source": [
    "########  Figure settings\n"
   ]
  },
  {
   "cell_type": "markdown",
   "metadata": {},
   "source": [
    "#########  Figure settings\n"
   ]
  },
  {
   "cell_type": "markdown",
   "metadata": {},
   "source": [
    "##########  Figure settings\n"
   ]
  },
  {
   "cell_type": "markdown",
   "metadata": {},
   "source": [
    "###########  Figure settings\n"
   ]
  },
  {
   "cell_type": "markdown",
   "metadata": {},
   "source": [
    "############  Figure settings\n"
   ]
  },
  {
   "cell_type": "markdown",
   "metadata": {},
   "source": [
    "#############  Figure settings\n"
   ]
  },
  {
   "cell_type": "markdown",
   "metadata": {},
   "source": [
    "##############  Figure settings\n"
   ]
  },
  {
   "cell_type": "markdown",
   "metadata": {},
   "source": [
    "###############  Figure settings\n"
   ]
  },
  {
   "cell_type": "markdown",
   "metadata": {},
   "source": [
    "################  Figure settings\n"
   ]
  },
  {
   "cell_type": "markdown",
   "metadata": {},
   "source": [
    "#################  Figure settings\n"
   ]
  },
  {
   "cell_type": "markdown",
   "metadata": {},
   "source": [
    "##################  Figure settings\n"
   ]
  },
  {
   "cell_type": "markdown",
   "metadata": {},
   "source": [
    "###################  Figure settings\n"
   ]
  },
  {
   "cell_type": "markdown",
   "metadata": {},
   "source": [
    "####################  Figure settings\n"
   ]
  },
  {
   "cell_type": "markdown",
   "metadata": {},
   "source": [
    "#####################  Figure settings\n"
   ]
  },
  {
   "cell_type": "markdown",
   "metadata": {},
   "source": [
    "######################  Figure settings\n"
   ]
  },
  {
   "cell_type": "markdown",
   "metadata": {},
   "source": [
    "#######################  Figure settings\n"
   ]
  },
  {
   "cell_type": "markdown",
   "metadata": {},
   "source": [
    "########################  Figure settings\n"
   ]
  },
  {
   "cell_type": "markdown",
   "metadata": {},
   "source": [
    "#########################  Figure settings\n"
   ]
  },
  {
   "cell_type": "markdown",
   "metadata": {},
   "source": [
    "##########################  Figure settings\n"
   ]
  },
  {
   "cell_type": "markdown",
   "metadata": {},
   "source": [
    "###########################  Figure settings\n"
   ]
  },
  {
   "cell_type": "markdown",
   "metadata": {},
   "source": [
    "############################  Figure settings\n"
   ]
  },
  {
   "cell_type": "markdown",
   "metadata": {},
   "source": [
    "#############################  Figure settings\n"
   ]
  },
  {
   "cell_type": "markdown",
   "metadata": {},
   "source": [
    "##############################  Figure settings\n"
   ]
  },
  {
   "cell_type": "markdown",
   "metadata": {},
   "source": [
    "###############################  Figure settings\n"
   ]
  },
  {
   "cell_type": "markdown",
   "metadata": {},
   "source": [
    "################################  Figure settings\n"
   ]
  },
  {
   "cell_type": "markdown",
   "metadata": {},
   "source": [
    "#################################  Figure settings\n"
   ]
  },
  {
   "cell_type": "code",
   "execution_count": null,
   "metadata": {
    "cellView": "form",
    "execution": {},
    "executionInfo": {
     "elapsed": 325,
     "status": "ok",
     "timestamp": 1681872600844,
     "user": {
      "displayName": "Yuhan (Douglas) Rao",
      "userId": "14858740632129213276"
     },
     "user_tz": 240
    },
    "tags": [
     "hide-input"
    ]
   },
   "outputs": [],
   "source": [
    "# @title Figure settings\n",
    "import ipywidgets as widgets       # interactive display\n",
    "%config InlineBackend.figure_format = 'retina'\n",
    "plt.style.use(\"https://raw.githubusercontent.com/ClimateMatchAcademy/course-content/main/cma.mplstyle\")"
   ]
  },
  {
   "cell_type": "markdown",
   "metadata": {
    "execution": {}
   },
   "source": [
    "#**Section 1: Evaluating Satellite Data with Observations**\n",
    "\n"
   ]
  },
  {
   "cell_type": "markdown",
   "metadata": {},
   "source": [
    "##  Video 1: Video 1 Name\n"
   ]
  },
  {
   "cell_type": "markdown",
   "metadata": {},
   "source": [
    "###  Video 1: Video 1 Name\n"
   ]
  },
  {
   "cell_type": "markdown",
   "metadata": {},
   "source": [
    "####  Video 1: Video 1 Name\n"
   ]
  },
  {
   "cell_type": "markdown",
   "metadata": {},
   "source": [
    "#####  Video 1: Video 1 Name\n"
   ]
  },
  {
   "cell_type": "markdown",
   "metadata": {},
   "source": [
    "######  Video 1: Video 1 Name\n"
   ]
  },
  {
   "cell_type": "markdown",
   "metadata": {},
   "source": [
    "#######  Video 1: Video 1 Name\n"
   ]
  },
  {
   "cell_type": "markdown",
   "metadata": {},
   "source": [
    "########  Video 1: Video 1 Name\n"
   ]
  },
  {
   "cell_type": "markdown",
   "metadata": {},
   "source": [
    "#########  Video 1: Video 1 Name\n"
   ]
  },
  {
   "cell_type": "markdown",
   "metadata": {},
   "source": [
    "##########  Video 1: Video 1 Name\n"
   ]
  },
  {
   "cell_type": "markdown",
   "metadata": {},
   "source": [
    "###########  Video 1: Video 1 Name\n"
   ]
  },
  {
   "cell_type": "markdown",
   "metadata": {},
   "source": [
    "############  Video 1: Video 1 Name\n"
   ]
  },
  {
   "cell_type": "markdown",
   "metadata": {},
   "source": [
    "#############  Video 1: Video 1 Name\n"
   ]
  },
  {
   "cell_type": "markdown",
   "metadata": {},
   "source": [
    "##############  Video 1: Video 1 Name\n"
   ]
  },
  {
   "cell_type": "markdown",
   "metadata": {},
   "source": [
    "###############  Video 1: Video 1 Name\n"
   ]
  },
  {
   "cell_type": "markdown",
   "metadata": {},
   "source": [
    "################  Video 1: Video 1 Name\n"
   ]
  },
  {
   "cell_type": "markdown",
   "metadata": {},
   "source": [
    "#################  Video 1: Video 1 Name\n"
   ]
  },
  {
   "cell_type": "markdown",
   "metadata": {},
   "source": [
    "##################  Video 1: Video 1 Name\n"
   ]
  },
  {
   "cell_type": "markdown",
   "metadata": {},
   "source": [
    "###################  Video 1: Video 1 Name\n"
   ]
  },
  {
   "cell_type": "markdown",
   "metadata": {},
   "source": [
    "####################  Video 1: Video 1 Name\n"
   ]
  },
  {
   "cell_type": "markdown",
   "metadata": {},
   "source": [
    "#####################  Video 1: Video 1 Name\n"
   ]
  },
  {
   "cell_type": "markdown",
   "metadata": {},
   "source": [
    "######################  Video 1: Video 1 Name\n"
   ]
  },
  {
   "cell_type": "markdown",
   "metadata": {},
   "source": [
    "#######################  Video 1: Video 1 Name\n"
   ]
  },
  {
   "cell_type": "markdown",
   "metadata": {},
   "source": [
    "########################  Video 1: Video 1 Name\n"
   ]
  },
  {
   "cell_type": "markdown",
   "metadata": {},
   "source": [
    "#########################  Video 1: Video 1 Name\n"
   ]
  },
  {
   "cell_type": "markdown",
   "metadata": {},
   "source": [
    "##########################  Video 1: Video 1 Name\n"
   ]
  },
  {
   "cell_type": "markdown",
   "metadata": {},
   "source": [
    "###########################  Video 1: Video 1 Name\n"
   ]
  },
  {
   "cell_type": "markdown",
   "metadata": {},
   "source": [
    "############################  Video 1: Video 1 Name\n"
   ]
  },
  {
   "cell_type": "markdown",
   "metadata": {},
   "source": [
    "#############################  Video 1: Video 1 Name\n"
   ]
  },
  {
   "cell_type": "markdown",
   "metadata": {},
   "source": [
    "##############################  Video 1: Video 1 Name\n"
   ]
  },
  {
   "cell_type": "markdown",
   "metadata": {},
   "source": [
    "###############################  Video 1: Video 1 Name\n"
   ]
  },
  {
   "cell_type": "markdown",
   "metadata": {},
   "source": [
    "################################  Video 1: Video 1 Name\n"
   ]
  },
  {
   "cell_type": "markdown",
   "metadata": {},
   "source": [
    "#################################  Video 1: Video 1 Name\n"
   ]
  },
  {
   "cell_type": "code",
   "execution_count": null,
   "metadata": {
    "cellView": "form",
    "execution": {},
    "tags": [
     "hide-input"
    ]
   },
   "outputs": [],
   "source": [
    "# @title Video 1: Video 1 Name\n",
    "#Tech team will add code to format and display the video"
   ]
  },
  {
   "cell_type": "markdown",
   "metadata": {
    "execution": {}
   },
   "source": [
    "Satellite data is often evaluated against the observations that are considered reliable to assess its quality. Station-based observations and derived data are often considered good reference. For ocean data, we often use measurements made by ships, buoys, drifters, or gliders as the reference to assess the quality of satellite data.\n",
    "\n",
    "In this tutorial, we uses nClimGrid data, a gridded climate dataset produced by NOAA that provides daily and monthly temperature and precipitation data using all available station observations. This dataset is only available for the United States. We choose this dataset because it is available publicly on the AWS. You can explore other station data to evaluate the satellite data in the project."
   ]
  },
  {
   "cell_type": "markdown",
   "metadata": {
    "execution": {}
   },
   "source": [
    "## **Section 1.1: Accesing nClimGrid - a station based gridded climate data**\n",
    "\n",
    "The nClimGrid-monthly dataset is a gridded dataset derived from spatially interpolating data from the Global Historical Climatology Network (GHCN). The dataset includes monthly precipitation, monthly temperature average, monthly temperature maximum and monthly temperature minimum.  The dataset provides monthly values in a approximate 5x5 km lat/lon grid for the Continental United States. Data is available from 1895 to the present via NOAA NCEI or AWS. We will be accessing the data via AWS directly.\n"
   ]
  },
  {
   "cell_type": "code",
   "execution_count": null,
   "metadata": {
    "execution": {},
    "executionInfo": {
     "elapsed": 4091,
     "status": "ok",
     "timestamp": 1681872604932,
     "user": {
      "displayName": "Yuhan (Douglas) Rao",
      "userId": "14858740632129213276"
     },
     "user_tz": 240
    }
   },
   "outputs": [],
   "source": [
    "# Connect to the AWS S3 bucket for the nClimGrid Monthly Precipitation data\n",
    "fs = s3fs.S3FileSystem(anon=True)\n",
    "# Read in the monthly precipitation data from nClimGrid on AWS\n",
    "url = 's3://noaa-nclimgrid-monthly-pds/nclimgrid_prcp.nc'\n",
    "file_ob = fs.open(url)\n",
    "ds = xr.open_dataset(file_ob)\n",
    "ds"
   ]
  },
  {
   "cell_type": "markdown",
   "metadata": {
    "execution": {}
   },
   "source": [
    "We can see that the nClimGrid dataset is available from `1895-01-01` until present. Since our GPCP data is only available between `1979-01-01` and `2022-12-01`. We extract only the data for that time period from the nClimGrid monthly data."
   ]
  },
  {
   "cell_type": "code",
   "execution_count": null,
   "metadata": {
    "execution": {},
    "executionInfo": {
     "elapsed": 16,
     "status": "ok",
     "timestamp": 1681872604932,
     "user": {
      "displayName": "Yuhan (Douglas) Rao",
      "userId": "14858740632129213276"
     },
     "user_tz": 240
    }
   },
   "outputs": [],
   "source": [
    "prcp_obs = ds.sel(time=slice('1979-01-01', '2022-12-31'))\n",
    "prcp_obs"
   ]
  },
  {
   "cell_type": "markdown",
   "metadata": {
    "execution": {}
   },
   "source": [
    "From the information about the precipitation data from nClimGird monthly dataset, we know it is the monthly total precipitation, which is the total amount of rainfall that a location receives for the entire month with the unit of `millimeter`."
   ]
  },
  {
   "cell_type": "code",
   "execution_count": null,
   "metadata": {
    "execution": {},
    "executionInfo": {
     "elapsed": 461,
     "status": "ok",
     "timestamp": 1681872605381,
     "user": {
      "displayName": "Yuhan (Douglas) Rao",
      "userId": "14858740632129213276"
     },
     "user_tz": 240
    }
   },
   "outputs": [],
   "source": [
    "prcp_obs.prcp"
   ]
  },
  {
   "cell_type": "markdown",
   "metadata": {
    "execution": {}
   },
   "source": [
    "For the GPCP precipitation data, it is the daily precipitation rate with the unit of `mm/day`. That quantifies on average in the month the amount of precipitation in a day for a given location. So we need to do some conversion for the precipitation amount from nClimGrid.\n",
    "\n",
    "To convert total amount to precipitation rate, we just need to divide the amount by the number of days within a month (e.g., 31 days for January). We can use `.days_in_month` to achieve that."
   ]
  },
  {
   "cell_type": "code",
   "execution_count": null,
   "metadata": {
    "execution": {},
    "executionInfo": {
     "elapsed": 64910,
     "status": "ok",
     "timestamp": 1681872670287,
     "user": {
      "displayName": "Yuhan (Douglas) Rao",
      "userId": "14858740632129213276"
     },
     "user_tz": 240
    }
   },
   "outputs": [],
   "source": [
    "# Calculate precipitation rate from nClimGrid\n",
    "obs_rate = prcp_obs.prcp/prcp_obs.time.dt.days_in_month\n",
    "obs_rate"
   ]
  },
  {
   "cell_type": "code",
   "execution_count": null,
   "metadata": {
    "execution": {},
    "executionInfo": {
     "elapsed": 4538,
     "status": "ok",
     "timestamp": 1681872674818,
     "user": {
      "displayName": "Yuhan (Douglas) Rao",
      "userId": "14858740632129213276"
     },
     "user_tz": 240
    }
   },
   "outputs": [],
   "source": [
    "# Generate the map of precipitation rate from nClimGrid monthly data\n",
    "obs_rate[0].plot()"
   ]
  },
  {
   "cell_type": "markdown",
   "metadata": {
    "execution": {}
   },
   "source": [
    "In this quick map, we can see the value range of the precipitation rate appears to be on par (reasonably) comparing to the GPCP motnhly precipitation CDR data (0-20 mm/day). This is the basis for our comparison - make sure the satellite data and observations are describing the same quantity."
   ]
  },
  {
   "cell_type": "markdown",
   "metadata": {
    "execution": {}
   },
   "source": [
    "## **Section 1.2: Read GPCP Monthly Precipitation Data**\n",
    "\n",
    "In this comparison, let's read in the monthly GPCP data again from AWS public data catalog."
   ]
  },
  {
   "cell_type": "code",
   "execution_count": null,
   "metadata": {
    "execution": {},
    "executionInfo": {
     "elapsed": 186915,
     "status": "ok",
     "timestamp": 1681872861713,
     "user": {
      "displayName": "Yuhan (Douglas) Rao",
      "userId": "14858740632129213276"
     },
     "user_tz": 240
    }
   },
   "outputs": [],
   "source": [
    "# Get the list of all data files in the AWS S3 bucket\n",
    "file_pattern = 'noaa-cdr-precip-gpcp-monthly-pds/data/*/gpcp_v02r03_monthly_*.nc'\n",
    "file_location = fs.glob(file_pattern)\n",
    "\n",
    "# Open connection to all data files\n",
    "file_ob = [fs.open(file) for file in file_location]\n",
    "# Open all the monthly data files and concatenate them along the time dimension.\n",
    "# This process will take ~ 1 minute to complete due to the number of data files.\n",
    "ds_gpcp = xr.open_mfdataset(file_ob, combine='nested', concat_dim='time')"
   ]
  },
  {
   "cell_type": "code",
   "execution_count": null,
   "metadata": {
    "execution": {},
    "executionInfo": {
     "elapsed": 18,
     "status": "ok",
     "timestamp": 1681872861715,
     "user": {
      "displayName": "Yuhan (Douglas) Rao",
      "userId": "14858740632129213276"
     },
     "user_tz": 240
    }
   },
   "outputs": [],
   "source": [
    "# Get the GPCP precipitation rate\n",
    "prcp_sat = ds_gpcp.precip\n",
    "prcp_sat"
   ]
  },
  {
   "cell_type": "markdown",
   "metadata": {
    "execution": {}
   },
   "source": [
    "## **Section 1.3: Spatial Pattern**\n",
    "\n",
    "Now, let's take a quick look at the spatial pattern between these two datasets for a selected month (e.g., 1979-01-01)."
   ]
  },
  {
   "cell_type": "code",
   "execution_count": null,
   "metadata": {
    "execution": {},
    "executionInfo": {
     "elapsed": 10612,
     "status": "ok",
     "timestamp": 1681872872311,
     "user": {
      "displayName": "Yuhan (Douglas) Rao",
      "userId": "14858740632129213276"
     },
     "user_tz": 240
    }
   },
   "outputs": [],
   "source": [
    "# Set up the geographical region for continental US\n",
    "central_lat = 37.5\n",
    "central_lon = -96\n",
    "extent = [-120, -70, 21, 50]\n",
    "central_lon = np.mean(extent[:2])\n",
    "central_lat = np.mean(extent[2:])\n",
    "\n",
    "# Extract sat and obs data for the month of 1979-01-01\n",
    "sat = prcp_sat.sel(time='1979-01-01')\n",
    "obs = obs_rate.sel(time='1979-01-01')\n",
    "\n",
    "# Initate plot for North America using two suplots\n",
    "fig,axs = plt.subplots(2, subplot_kw={'projection': ccrs.AlbersEqualArea(central_lon, central_lat)},\n",
    "                       figsize=(9,12), sharex=True, sharey=True)\n",
    "axs[0].set_extent(extent)\n",
    "axs[0].coastlines()\n",
    "axs[0].set_title('GPCP Monthly')\n",
    "sat.plot(ax=axs[0], transform=ccrs.PlateCarree(),\n",
    "         vmin = 0, vmax = 15,\n",
    "         cbar_kwargs=dict(shrink=0.5, label='GPCP Precipitation (mm/day)'))\n",
    "axs[1].set_extent(extent)\n",
    "axs[1].coastlines()\n",
    "axs[1].set_title('nClimGrid Monthly')\n",
    "obs.plot(ax=axs[1], transform=ccrs.PlateCarree(),\n",
    "         vmin = 0, vmax = 15,\n",
    "         cbar_kwargs=dict(shrink=0.5, label='nClimGrid Precipitation (mm/day)'))"
   ]
  },
  {
   "cell_type": "markdown",
   "metadata": {
    "execution": {}
   },
   "source": [
    "Overall, we have a similar spatial pattern but with widely different spatial resolution (e.g., 5km v.s. 2.5°). "
   ]
  },
  {
   "cell_type": "markdown",
   "metadata": {
    "execution": {}
   },
   "source": [
    "## **Section 1.4: Time series comparison**\n",
    "\n",
    "Let's use New York City as an example, we can examine the time series of the satellite and observation-based dataset to evaluate the performance.\n",
    "\n",
    "The latitute and longitute of NYC is `(40.71°N, 74.01°W)`. We will use it to extract the time series from GPCP and nClimGrid."
   ]
  },
  {
   "cell_type": "code",
   "execution_count": null,
   "metadata": {
    "execution": {},
    "executionInfo": {
     "elapsed": 19,
     "status": "ok",
     "timestamp": 1681872872312,
     "user": {
      "displayName": "Yuhan (Douglas) Rao",
      "userId": "14858740632129213276"
     },
     "user_tz": 240
    }
   },
   "outputs": [],
   "source": [
    "# Note that GPCP data is stored as 0-360 degree for the longitude, so the longitude should be using (360 - lon)\n",
    "sat = prcp_sat.sel(longitude=285.99, latitude=40.71, method='nearest')\n",
    "obs = obs_rate.sel(lon=-74.01, lat=40.71, method='nearest') #precipitation rate\n",
    "obs_total = prcp_obs.sel(lon=-74.01, lat=40.71, method='nearest') #total amount"
   ]
  },
  {
   "cell_type": "code",
   "execution_count": null,
   "metadata": {
    "execution": {},
    "executionInfo": {
     "elapsed": 62727,
     "status": "ok",
     "timestamp": 1681872935021,
     "user": {
      "displayName": "Yuhan (Douglas) Rao",
      "userId": "14858740632129213276"
     },
     "user_tz": 240
    }
   },
   "outputs": [],
   "source": [
    "# Let's first look at the comparison between the total amount from nClimGrid\n",
    "fig = plt.figure(figsize=(12,6))\n",
    "obs_total.prcp.plot(label='nClimGrid Monthly Total Precipitation')\n",
    "sat.plot(color='k', label='GPCP Monthly Precipitation Rate')\n",
    "plt.ylabel('nClimGrid v.s. GPCP (New York City)')\n",
    "plt.legend()"
   ]
  },
  {
   "cell_type": "markdown",
   "metadata": {
    "execution": {}
   },
   "source": [
    "We clearly see the systematic shift between the total precipitation amount from nClimGrid data and the precipitation rate from GPCP. Now, let's see if the nClimGrid rate will be any better for the evaluation."
   ]
  },
  {
   "cell_type": "code",
   "execution_count": null,
   "metadata": {
    "execution": {},
    "executionInfo": {
     "elapsed": 7721,
     "status": "ok",
     "timestamp": 1681872942720,
     "user": {
      "displayName": "Yuhan (Douglas) Rao",
      "userId": "14858740632129213276"
     },
     "user_tz": 240
    }
   },
   "outputs": [],
   "source": [
    "# Let's look at the comparison between the precipitation rate from nClimGrid\n",
    "fig = plt.figure(figsize=(12,6))\n",
    "obs.plot(label='nClimGrid Monthly Precipitation Rate')\n",
    "sat.plot(color='k', alpha=0.6, label='GPCP Monthly Precipitation Rate')\n",
    "plt.ylabel('nClimGrid v.s. GPCP (New York City) (mm/day)')\n",
    "plt.legend()"
   ]
  },
  {
   "cell_type": "markdown",
   "metadata": {
    "execution": {}
   },
   "source": [
    "The plot show much improvement between the two datasets because now we are looking at the same quantity of the precipitation rate. We are going to zoom in to a few years to see how the data compares."
   ]
  },
  {
   "cell_type": "code",
   "execution_count": null,
   "metadata": {
    "execution": {},
    "executionInfo": {
     "elapsed": 1508,
     "status": "ok",
     "timestamp": 1681872944214,
     "user": {
      "displayName": "Yuhan (Douglas) Rao",
      "userId": "14858740632129213276"
     },
     "user_tz": 240
    }
   },
   "outputs": [],
   "source": [
    "fig = plt.figure(figsize=(12, 6))\n",
    "obs.sel(time=slice('2011-01-01', '2015-12-01')).plot(label='nClimGrid')\n",
    "sat.sel(time=slice('2011-01-01', '2015-12-01')).plot(marker='o', label='GPCP Monthly')\n",
    "plt.legend()"
   ]
  },
  {
   "cell_type": "markdown",
   "metadata": {
    "execution": {}
   },
   "source": [
    "We see a great alignment in the precipitation rate between the nClimGrid and GPCP data when we look at the details in a small time window."
   ]
  },
  {
   "cell_type": "markdown",
   "metadata": {
    "execution": {}
   },
   "source": [
    "## **Section 1.5: Quantify the Difference**\n",
    "\n",
    "We are not looking at the quantitative evaluation of the satellite data with observations. In the scatter plot, we would love to see it go along the 1:1 line in the plot since ideally we want the values to be exactly the same."
   ]
  },
  {
   "cell_type": "code",
   "execution_count": null,
   "metadata": {
    "execution": {},
    "executionInfo": {
     "elapsed": 5,
     "status": "ok",
     "timestamp": 1681872944214,
     "user": {
      "displayName": "Yuhan (Douglas) Rao",
      "userId": "14858740632129213276"
     },
     "user_tz": 240
    }
   },
   "outputs": [],
   "source": [
    "# Make sure that both observation and satellite data are for the samte time period\n",
    "sat = sat.sel(time=slice('1979-01-01','2022-12-01'))\n",
    "obs = obs.sel(time=slice('1979-01-01','2022-12-01'))"
   ]
  },
  {
   "cell_type": "code",
   "execution_count": null,
   "metadata": {
    "execution": {},
    "executionInfo": {
     "elapsed": 20565,
     "status": "ok",
     "timestamp": 1681872964775,
     "user": {
      "displayName": "Yuhan (Douglas) Rao",
      "userId": "14858740632129213276"
     },
     "user_tz": 240
    }
   },
   "outputs": [],
   "source": [
    "# Plot the scatter plot between nClimGrid and GPCP monthly precipitation CDR\n",
    "fig = plt.figure(figsize=(7,7))\n",
    "fig.suptitle('GPCP Precipitaion v.s. nClimGrid')\n",
    "plt.scatter(sat, obs, alpha=0.6)\n",
    "# Add 1:1 line\n",
    "y_lim = (0,15)\n",
    "x_lim = (0,15)\n",
    "plt.plot((0,15), (0,15), 'k-', color = 'r')\n",
    "plt.ylim(y_lim)\n",
    "plt.xlim(x_lim)\n",
    "plt.xlabel('GPCP Precipitation (mm/day)')\n",
    "plt.ylabel('nClimGrid (mm/day)')\n",
    "plt.show()"
   ]
  },
  {
   "cell_type": "markdown",
   "metadata": {
    "execution": {}
   },
   "source": [
    "We see a strong correlation between the satellite data and the observations for NYC. We now can also calculate the correlation between these two time series."
   ]
  },
  {
   "cell_type": "markdown",
   "metadata": {
    "execution": {}
   },
   "source": [
    "### **Exercise: Compare the anomaly**\n",
    "\n",
    "For climate applications, sometimes we are more interested in the difference among the anomaly data to study the trend. So can you compare the anomaly for the time series of the NYC? "
   ]
  },
  {
   "cell_type": "code",
   "execution_count": null,
   "metadata": {
    "execution": {}
   },
   "outputs": [],
   "source": [
    "################################################################################\n",
    "# Exercise: Compare the anomaly of precipitation rate for NYC.                 #\n",
    "################################################################################\n",
    "\n",
    "# Step 1: Extract time series of NYC for both GPCP and nClimGrid precipitation rate\n",
    "\n",
    "# Step 2: Calculate climatology for the 1981-2010 period for both GPCP and\n",
    "#         nClimGrid\n",
    "\n",
    "# Step 3: Calculate anomaly of the NYC time series for both GPCP and nClimGrid\n",
    "\n",
    "# Step 4: Plot time series and scatter plot between two time series\n",
    "\n",
    "# Step 5: Calculate correlation coefficient & mean differences\n",
    "\n",
    "\n",
    "'''\n",
    "\n",
    "Please describe the relationship between the anomaly time series between two data:\n",
    "\n",
    "'''"
   ]
  },
  {
   "cell_type": "markdown",
   "metadata": {
    "execution": {}
   },
   "source": [
    "#**Summary**\n",
    "\n",
    "In this tutorial, we learned how to use the station based observations in the U.S. to evalutate the satellite precipitation data. Although it is not a global comparison, the method can be applied to other station or observations that you may want to use. \n",
    "\n",
    "- Make sure the satellite and the observations are describing the same quantity (e.g., total precipitation amount v.s. precipitation rate).\n",
    "- Comparison should be done for the same geolocation (or very close) and the same time period.\n",
    "- There might be some spatial scale effect since satellite data is measuring a large area while observations maybe very narrowly focused for things that have large spatial variability. This can cause large uncertainty in the satellite data.\n"
   ]
  }
 ],
 "metadata": {
  "colab": {
   "collapsed_sections": [],
   "include_colab_link": true,
   "name": "W1D3_Tutorial8",
   "provenance": [],
   "toc_visible": true
  },
  "kernel": {
   "display_name": "Python 3",
   "language": "python",
   "name": "python3"
  },
  "kernelspec": {
   "display_name": "Python 3",
   "name": "python3"
  },
  "language_info": {
   "codemirror_mode": {
    "name": "ipython",
    "version": 3
   },
   "file_extension": ".py",
   "mimetype": "text/x-python",
   "name": "python",
   "nbconvert_exporter": "python",
   "pygments_lexer": "ipython3",
   "version": "3.10.10"
  }
 },
 "nbformat": 4,
 "nbformat_minor": 0
}