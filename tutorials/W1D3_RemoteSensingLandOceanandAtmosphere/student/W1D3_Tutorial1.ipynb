{
 "cells": [
  {
   "cell_type": "markdown",
   "metadata": {
    "execution": {}
   },
   "source": [
    "#**Tutorial 1: Introduction to Remote Sensing Data**\n",
    "\n",
    "> Indented block\n",
    "\n",
    "> Indented block\n",
    "\n",
    "\n",
    "\n",
    "\n",
    "**Week 1, Day 3, Remote Sesning**\n",
    "\n",
    "**Content creators:** Douglas Rao\n",
    "\n",
    "**Content reviewers:** YOUNKAP NINA Duplex\n",
    "\n",
    "**Content editors:** TBD\n",
    "\n",
    "**Production editors:** TBD\n",
    "\n",
    "**Our 2023 Sponsors:** TBD"
   ]
  },
  {
   "cell_type": "markdown",
   "metadata": {
    "execution": {}
   },
   "source": [
    "#**Tutorial Objectives**\n",
    "\n",
    "In this introductory tutorial, you will learn about the basic concepts of remote sensing technologies and remote sensing data. This tutorial will not involve active coding but you will look at some sample use cases of how remote sensing data can be used to monitor the environment and different aspects of our society. \n",
    "\n",
    "By the end of this tutorial you will be able to:\n",
    "\n",
    "*   Understand key concepts of satellite remote sensing\n",
    "*   Understand the value and benefits of satellite remote sensing"
   ]
  },
  {
   "cell_type": "markdown",
   "metadata": {
    "execution": {}
   },
   "source": [
    "#**Section 1: What is Remote Sensing?**\n",
    "\n",
    "Remote sensing is the technique of getting information from a distance by definition. In our daily life, photography is a very common format of remote sensing. In Earth and environmental science, we often use sensors onboard satellites in the space or aircrafts in the sky to acquire information of interests, such as, agriculture, disaster response, air pollution. \n",
    "\n",
    "Many organizations, including government agencies (e.g., NASA, NOAA), private companies (e.g., Planet, Maxar), and universities, design and launch remote sensors on satellites and aircrafts to observe the natural and human environment.\n",
    "\n",
    "Remote sensors, which provide a unique perspective and a wealth of data about Earth systems, enable data-informed decision making based on the current and future state of our planet. Below is the very first global image captured on November 28, 2011 by the remote sensor – VIIRS (Visible Infrared Imager Radiometer Suite) – onboard the Suomi-NPP satellite launched in 2011. \n",
    "\n",
    "![The first global composite of data captured by VIIRS on November 28, 2011](https://eoimages.gsfc.nasa.gov/images/imagerecords/76000/76674/global_vir_2011328_lrg.jpg)\n",
    "The first global composite of data captured by VIIRS on November 28, 2011. (Credit: NASA Earth Observatory)"
   ]
  },
  {
   "cell_type": "markdown",
   "metadata": {},
   "source": [
    "##  Video 1: What is Remote Sensing\n"
   ]
  },
  {
   "cell_type": "markdown",
   "metadata": {},
   "source": [
    "###  Video 1: What is Remote Sensing\n"
   ]
  },
  {
   "cell_type": "markdown",
   "metadata": {},
   "source": [
    "####  Video 1: What is Remote Sensing\n"
   ]
  },
  {
   "cell_type": "markdown",
   "metadata": {},
   "source": [
    "#####  Video 1: What is Remote Sensing\n"
   ]
  },
  {
   "cell_type": "markdown",
   "metadata": {},
   "source": [
    "######  Video 1: What is Remote Sensing\n"
   ]
  },
  {
   "cell_type": "markdown",
   "metadata": {},
   "source": [
    "#######  Video 1: What is Remote Sensing\n"
   ]
  },
  {
   "cell_type": "markdown",
   "metadata": {},
   "source": [
    "########  Video 1: What is Remote Sensing\n"
   ]
  },
  {
   "cell_type": "markdown",
   "metadata": {},
   "source": [
    "#########  Video 1: What is Remote Sensing\n"
   ]
  },
  {
   "cell_type": "markdown",
   "metadata": {},
   "source": [
    "##########  Video 1: What is Remote Sensing\n"
   ]
  },
  {
   "cell_type": "markdown",
   "metadata": {},
   "source": [
    "###########  Video 1: What is Remote Sensing\n"
   ]
  },
  {
   "cell_type": "markdown",
   "metadata": {},
   "source": [
    "############  Video 1: What is Remote Sensing\n"
   ]
  },
  {
   "cell_type": "markdown",
   "metadata": {},
   "source": [
    "#############  Video 1: What is Remote Sensing\n"
   ]
  },
  {
   "cell_type": "markdown",
   "metadata": {},
   "source": [
    "##############  Video 1: What is Remote Sensing\n"
   ]
  },
  {
   "cell_type": "markdown",
   "metadata": {},
   "source": [
    "###############  Video 1: What is Remote Sensing\n"
   ]
  },
  {
   "cell_type": "markdown",
   "metadata": {},
   "source": [
    "################  Video 1: What is Remote Sensing\n"
   ]
  },
  {
   "cell_type": "code",
   "execution_count": null,
   "metadata": {
    "cellView": "form",
    "execution": {},
    "tags": [
     "hide-input"
    ]
   },
   "outputs": [],
   "source": [
    "# @title Video 1: What is Remote Sensing\n",
    "#Tech team will add code to format and display the video"
   ]
  },
  {
   "cell_type": "markdown",
   "metadata": {
    "execution": {}
   },
   "source": [
    "##**Section 1.1: Electromagnetic Spectrum**\n",
    "\n",
    "The concept of electromagetic spectrum is at the core of remote sensing. \n",
    "\n",
    "\n",
    "* **Electromagnetic energy**, emitted or reflected by objects travels in the form of waves through the atmosphere and the vacuum of space. These waves have different wavelengths (the distance from wave crest to wave crest) and frequencies; a shorter wavelength means a higher frequency. Some, like radio, microwave, and infrared waves, have a longer wavelength, while others, such as ultraviolet, x-rays, and gamma rays, have a much shorter wavelength. \n",
    "* Human vision can only see visible light which sits in the middle of that range of long to shortwave radiation.\n",
    "* But we can design sensors to detect all other forms of electromagnetic energy emitted or reflected by components of the Earth system to monitor and study the Earth system\n",
    "\n",
    "![Diagram of the Electromagnetic Spectrum](https://www.earthdata.nasa.gov/s3fs-public/imported/EMS-Introduction_0.jpeg?VersionId=rSEKLCj0F2zuFCQ6hRTw6zaBBipH.UWY)\n",
    "Diagram of the Electromagnetic Spectrum. (Credit: NASA Science)\n"
   ]
  },
  {
   "cell_type": "markdown",
   "metadata": {
    "execution": {}
   },
   "source": [
    "What does this electromagnetic spectrum have to do with studying and monitoring Earth? \n",
    "\n",
    "All components of the Earth system reflect, absorb, or transmit energy, the amount of which varies by wavelength. The energies reflected and transmitted by these components can be captured by carefully designed remote sensors and used to study them.\n",
    "\n",
    "For example,\n",
    "* Snow has a very high albedo and reflects up to 90% of incoming solar radiation at the visible light wavelengtt. That's why snow is often bright and white to human eyes. \n",
    "* In contrast, the ocean reflects only about 6% of incoming solar radiation and absorbs the rest. So it often looks dark but that can be affected by other property of the ocean (e.g., surface waves, phytoplankton, water quality). \n",
    "* Meanwhile, when the solar energy is absorbed, it is re-emitted, usually at longer wavelengths (e.g., infrared and thermal infrared). Hence, ocean often re-emits the absorbed solar energy as infrared radiation, which is used to monitor the temperature of ocean. \n",
    "\n",
    "You may not think about it in your daily life, but you are experiencing these processes all the time. Can you find out the answer why most leaves are green, why the sky is blue, and why flowers have different colors?\n",
    "\n",
    "These answers help scientists design sensors that can monitor the health of vegetation, air quality, water quality, detect wildfires, and many other applications. "
   ]
  },
  {
   "cell_type": "markdown",
   "metadata": {
    "execution": {}
   },
   "source": [
    "*Want to learn more about electromagnetic spectrum? Take a [tour of the electromagnetic spectrum with NASA Science](https://science.nasa.gov/ems/)!*"
   ]
  },
  {
   "cell_type": "markdown",
   "metadata": {
    "execution": {}
   },
   "source": [
    "##**Section 1.2: Satellite Orbits**\n",
    "\n",
    "Satellites can be placed in several types of orbits around Earth. The three common classes of orbits are:\n",
    "\n",
    "* Low-Earth orbit (approximately 160 to 2,000 km above Earth): this is the typical orbit for many Earth-observing satellites, including polar-orbiting satellites (e.g., Terra, Aqua, CloudSat, CALOPSO, see the image below of a list of NASA's polar orbiting satellites). Polar orbiting satellites travel from pole to pole as Earth rotates. This enables sensors aboard the satellite to acquire data for the entire globe rapidly, including the polar regions.\n",
    "\n",
    "  ![Illustration of the A-train polar-orbiting satellites operated by NASA and partner organizations.](https://earthobservatory.nasa.gov/ContentFeature/OrbitsManeuver/images/atrain.jpg)  \n",
    "  Illustration of the A-train polar-orbiting satellites operated by NASA. (Credit: NASA)\n",
    "* Medium-Earth orbit (approximately 2,000 to 35,500 km above Earth): this type of orbit is often used by the Global Positioning System (GPS) satellites.  \n",
    "* High-Earth orbit (above 35,500 km above Earth): this type of orbit is often used by geostationary satellites which enables a satellite to maintain its position directly over the same place on Earth’s surface. For example, NOAA operates two geostationary satellites to provide observations of the west Hemisphere every five minutes and targetted observations of severe weathers every 30 seconds. \n",
    "    ![Satellite images of NOAA's GOES-West (on the left) and GOES-East (on the right) full disk data on the day of summer solitice of 2022.](https://live.staticflickr.com/65535/48127127191_911a25f659_b.jpg)  \n",
    "    Satellite images of NOAA's GOES-West (on the left) and GOES-East (on the right) full disk data on the day of summer solitice of 2022. (Credit: NOAA)\n"
   ]
  },
  {
   "cell_type": "markdown",
   "metadata": {
    "execution": {}
   },
   "source": [
    "##**Section 1.3: Resolutions**\n",
    "\n",
    "Resolution plays a role in how data from a sensor can be used. Resolution can vary depending on the satellite’s orbit and sensor design. There are four types of resolution to consider for any dataset—radiometric, spatial, spectral, and temporal.\n",
    "\n",
    "\n",
    "**Spatial resolution** is defined as the area on Earth's surface represended by each pixel within a remotely sensed image. The smaller area a pixel represent usually indicate higher spatial resolution. The finer the resolution (the lower the number), the more detail you can see. In the image below, you can see the difference in pixelation between a 30 m/pixel image (left image), a 100 m/pixel image (center image), and a 300 m/pixel image (right image). (Image credit: NASA Earth Observatory).\n",
    "\n",
    "![](https://www.earthdata.nasa.gov/s3fs-public/2022-02/spatial_resolution.jpg?VersionId=CqYOXFpvK326WrJYS_34WAr8cIRuH9Mm)\n",
    "\n",
    "Therefore, the spatial resolution of remotely sensed data will limit what type of applications the data can be used for. For example, it is probably not appropriate to use the right image above to map local roads but the left image may suit for such application.\n",
    "\n",
    "**Temporal resolution**, also often referred to revisiting frequency, is defined as the time it takes for a satellite to complete an orbit and revisit the same observation area. This often depends on the orbit, the sensor’s characteristics, and how wide the sensor can see from the space. \n",
    "\n",
    "* For polar-orbiting satellite, temporal resolution can vary from 1 day to 16 days. Moderate Resolution Imaging Spectroradiometer (MODIS, spatial resolution ranging from 250 m/pixel to 1 km/pixel depending on wavelength) flying onboard NASA's Terra and Aqua satellite since 2000 has a temporal resolution of 1-2 days. On the other hand, Operational Land Imager (OLI, 30 meter/pixel spatial resolution) on Landsat-8, a satellite jointly operated by NASA/USGS, has a narrower swath width and a temporal resolution of 16 days.\n",
    "\n",
    "* For geostationary satellites, they match the rate at which Earth is rotating, hence remotely sensed data from geostationary orbit usually have the temporal resolution of sub-hourly. For instance, the current generation of geostationary satellites has the temporal resolution of 5-15 minutes, while earlier geostationary satellites has the temporal resolution of 0.5-3 hours.\n",
    "\n",
    "**Spectral resolution** refers to the ability of a remote sensor to discern finer wavelengths, that is, having more and narrower bands. Imagining that you have a camera that can take pictures at the wavelenght of thermal infrared sensors and x-ray, that will allow you to see the objects in a much more details and different purposes. Typically, **multispectral** remote sensors have 3-10 spectral bands while **hyperspectral** sensors have hundreds of spectral bands that allow us to look at objects on Earth's in enhanced details. \n",
    "\n",
    "For example, the Airborne Visible/Infrared Imaging Spectrometer (AVIRIS) captures information in 224 spectral channels (see image below, credit: NASA JPL). The sensors allow us to seperate rock and mineral types, vegetation types, water quality, and other features.\n",
    "\n",
    "![Sample image of AVIRIS over a lake and evaporation pond.](https://www.earthdata.nasa.gov/s3fs-public/imported/avcubebig.gif?VersionId=vB8vyHe0veiLvzKN37vSwnXUpe4WpOHa)\n",
    "\n",
    "**Radiometric resolution** quantifies how much information is contained in each pixel, often expressed as the number of bits representing the energy recorded. Each bit records an exponent of power 2. For example, an 8 bit resolution is $2^8$, which indicates that the sensor has 256 potential digital values (0-255) to store information. The image below from NASA Earth Observatory demonstrate the impact of radiometric resolutions on the details that we can see from the remotely sensed data. \n",
    "\n",
    "![Illustration of the impact of radiometric resoultion on remotely sensed data.](https://www.earthdata.nasa.gov/s3fs-public/2022-02/radiometric_resolution.png?VersionId=SUfbvvyRgjUqC1C5CoB2Br52GvwKq9iZ)\n",
    "\n",
    "As illustrated in the image above, the higher the radiometric resolution (right image), the more values are available to store information, providing better discrimination between even the slightest differences in energy.\n",
    "\n",
    "\n",
    "_**\"Why can't we have the sensor with the best resolution of all four categories?\"**_\n",
    "\n",
    "This is a great question! Due to technology limitations, it is very difficulte to have the \"perfect sensor\". For example, if you want to have high spatial resolution, there are only very limited energy in an ara for that pixel. This means you will need longer exposure to capture enough energy to get meaningful information for an area. The longer exposure means that you won't be able to revisit the same place as frequent as you want. But we can use a constellation of satellites with the same sensors to reduce the gaps between revisits, such as European Space Agency's Sentinel-2 satellite pairs.\n",
    "\n",
    "\n",
    "\n",
    "  \n"
   ]
  },
  {
   "cell_type": "markdown",
   "metadata": {
    "execution": {}
   },
   "source": [
    "#**Exercise**\n",
    "\n",
    "Now you have learned about four different types of resolutions. Thinking about something you want to study/monitor, let it be monitoring crop health or studying the impact of landslide to a city. Can you describe what type of remotely sensed data do you need? Be specific - how frequent do you need the data (e.g., minutes, daily, or weekly, etc.)? what is the ideal spatial resolution? \n",
    "\n",
    "*Hint*: You can look at NASA's [Earthdata Data Pathfinders](https://www.earthdata.nasa.gov/learn/pathfinders) to see if you can find some inspirations."
   ]
  },
  {
   "cell_type": "markdown",
   "metadata": {
    "execution": {}
   },
   "source": [
    "##**Section 2: Example Use Cases**\n",
    "\n",
    "Now you just went through the crash course of the satellite remote sensing to understand some basic concepts. You may ask how can satellite data be used to answer some of your climate questions. \n",
    "\n",
    "You will see six different examples of long-term satellite remotely sensed data to monitor the dynamics of our land, ocean, and atmosphere. These animations are produced using monthly aggregated satellite data to show the dynamics of different components. You will learn computational skills later to generate animations like this on your own.\n",
    "\n",
    "These animations are all generated by [NASA Earth Observatory](https://earthobservatory.nasa.gov/global-maps) using NASA satellite products. You can explore the dynamics of different components of the Earth system.\n",
    "\n",
    "\n"
   ]
  },
  {
   "cell_type": "markdown",
   "metadata": {
    "execution": {}
   },
   "source": [
    "##**Section 2.1: Land/Cryosphere – Snow Coverage**\n",
    "\n",
    "One of the most direct effect of a warming planet is the reduction of snow coverage. With long term satellite data, we can quantify exactly how the cryosphere has changed in response to the changing temperature.\n",
    "\n",
    "For exmaple, we can answer the questions like:\n",
    "* Are there less days that a region is covered by snow in the winter ?\n",
    "* Has the first day of snow coverage changed for a region?\n",
    "* Is there any change of the maximum snow coverage for a region?\n",
    "\n",
    "These questions are all very important for local water availability, thus leading to other important impacts like agriculture, wildlife conservation, and energy consumption. "
   ]
  },
  {
   "cell_type": "code",
   "execution_count": null,
   "metadata": {
    "execution": {}
   },
   "outputs": [],
   "source": [
    "## This code can be hidden from the students.\n",
    "from IPython.display import Image\n",
    "Image(open('./asset/img/t1_modis_snow.gif','rb').read())"
   ]
  },
  {
   "cell_type": "markdown",
   "metadata": {
    "execution": {}
   },
   "source": [
    "##**Section 2.2: Land/Terrestrial Ecology – Vegetation Health**\n",
    "\n",
    "Gloabl terrestrial ecosystem is highly regulated by the climate conditions of different geographical regions. Long term satellite data records allow us to map the vegetation dynamics at relatively high spatial resolution (i.e., 1-5 km) frequently (i.e., daily to monthly). This large amount of data can help us answer a lot of questions about climate impact on ecosystems, both natural (e.g., forest and grassland) and human-modified (e.g., cropland).\n",
    "\n",
    "With the data, we can answer the questions like:\n",
    "* Has the growing season of different ecosystems changed (e.g., lengthened or shortend) due to climate change?\n",
    "* What's the impact of extreme events like drought, heatwave, wildfire, and flooding on different ecosystems?\n",
    "* How much carbon does the ecosystem store?\n",
    "\n",
    "These applications have strong implications on the society and different communities as it relates to food security, culture activities, and other economic activities. "
   ]
  },
  {
   "cell_type": "code",
   "execution_count": null,
   "metadata": {
    "execution": {}
   },
   "outputs": [],
   "source": [
    "## This code can be hidden from the students.\n",
    "from IPython.display import Image\n",
    "Image(open('./asset/img/t1_modis_ndvi.gif','rb').read())"
   ]
  },
  {
   "cell_type": "markdown",
   "metadata": {
    "execution": {}
   },
   "source": [
    "##**Section 2.3: Atmosphere – Cloud Coverage**\n",
    "\n",
    "Cloud is one of the critical and complex process of the atmospheric system. With long term satellite data, we can study different aspects of this critical component of the climate system. \n",
    "\n",
    "To study the cloud process, remotely sensed data can provide information about: \n",
    "* when and where does cloud exist in the atmosphere\n",
    "* physical properties of the cloud (e.g., cloud height, cloud depth, cloud top temperature)\n",
    "* microphysical properties of the cloud (e.g., cloud partical sizes)\n",
    "\n",
    "These cloud properties are not only results of human activities and climate change but also further regulate and affect the climate change. In fact, cloud is one of the major source of uncertainty in future climate projection. Therefore, satellite data can help us better understand cloud process to improve our future climate projection."
   ]
  },
  {
   "cell_type": "code",
   "execution_count": null,
   "metadata": {
    "execution": {}
   },
   "outputs": [],
   "source": [
    "## This code can be hidden from the students.\n",
    "from IPython.display import Image\n",
    "Image(open('./asset/img/t1_modis_cloud.gif','rb').read())"
   ]
  },
  {
   "cell_type": "markdown",
   "metadata": {
    "execution": {}
   },
   "source": [
    "##**Section 2.4: Atmosphere – Rainfall**\n",
    "\n",
    "In addition to temperature change, rainfall is another important aspects of climate change which has notable imact on the society and natural systems, such as drought and flooding.\n",
    "\n",
    "We can use remote sensing data to:\n",
    "* Quantify the change of rainfall rate over the years for different regions. This can support the water resource planning to support local communities.\n",
    "* Study the frequency and potential causes of extreme rainfall events and their impacts on the society and natural systems (e.g., hurricans, extreme rainfall).\n"
   ]
  },
  {
   "cell_type": "code",
   "execution_count": null,
   "metadata": {
    "execution": {}
   },
   "outputs": [],
   "source": [
    "## This code can be hidden from the students.\n",
    "from IPython.display import Image\n",
    "Image(open('./asset/img/t1_gpm_imerg_rainfall.gif','rb').read())"
   ]
  },
  {
   "cell_type": "markdown",
   "metadata": {
    "execution": {}
   },
   "source": [
    "##**Section 2.5: Ocean – Sea Surface Temperature**\n",
    "\n",
    "As more than 70% of Earth is covered by the ocean, ocean plays a critical role in the entire Earth system. With remotely sensed data, we can study the change of the physcial ocean system and understand its impact on other systems. \n",
    "\n",
    "* Sea surface temperature (SST) is a key indicator for the global surface temperature change.\n",
    "* SST is also critical to monitor large scale circulation and climate variability like El Nino -southern oscillation (ENSO).  \n",
    "* SST also plays an important role in the study and prediction of tropical cyclones."
   ]
  },
  {
   "cell_type": "code",
   "execution_count": null,
   "metadata": {
    "execution": {}
   },
   "outputs": [],
   "source": [
    "## This code can be hidden from the students.\n",
    "from IPython.display import Image\n",
    "Image(open('./asset/img/t1_modis_sst.gif','rb').read())"
   ]
  },
  {
   "cell_type": "markdown",
   "metadata": {
    "execution": {}
   },
   "source": [
    "##**Section 2.6: Ocean/Marine Ecosystem – Chlorophyll**\n",
    "\n",
    "Similar to terrestrial ecosystems, remotely sensed data can also be used to monitor and study the marine ecosystems. Phytoplanktans, a large group of micro-organisms, play a critical role in marine food web thus affecting marine ecosystems and many human activities (e.g., fisheries). \n",
    "\n",
    "Satellite data can monitor the change of concerntration of chlorophyll, a measure that can be used as a proxy value of the abundance of phytoplanktans. This data can be used to explore questions like:\n",
    "* How has the phytoplanktans changed in response to the changing sea surface temperature in different ocean basins?\n",
    "* If we can combine the phytoplantan data with other socioeconomic data, can we understand how the changing climate affects the fisheries industry and communities who rely on fishery industries?"
   ]
  },
  {
   "cell_type": "code",
   "execution_count": null,
   "metadata": {
    "execution": {}
   },
   "outputs": [],
   "source": [
    "## This code can be hidden from the students.\n",
    "from IPython.display import Image\n",
    "Image(open('./asset/img/t1_modis_chl.gif','rb').read())"
   ]
  },
  {
   "cell_type": "markdown",
   "metadata": {
    "execution": {}
   },
   "source": [
    "#**Summary**\n",
    "\n",
    "In this tutorial, we learned about the basic concepts in satellite remote sensing that will help you choose proper remote sensing data for your climate applications (e.g., spatial resolution, revisiting frequency).\n",
    "\n",
    "You also see the potential of different use cases of satellite remote sensing for climate applications in land, ocean, and atmosphere.\n"
   ]
  }
 ],
 "metadata": {
  "colab": {
   "collapsed_sections": [],
   "include_colab_link": true,
   "name": "W1D3_Tutorial1",
   "provenance": [],
   "toc_visible": true
  },
  "kernel": {
   "display_name": "Python 3",
   "language": "python",
   "name": "python3"
  },
  "kernelspec": {
   "display_name": "pangeo",
   "language": "python",
   "name": "python3"
  },
  "language_info": {
   "codemirror_mode": {
    "name": "ipython",
    "version": 3
   },
   "file_extension": ".py",
   "mimetype": "text/x-python",
   "name": "python",
   "nbconvert_exporter": "python",
   "pygments_lexer": "ipython3",
   "version": "3.10.10"
  }
 },
 "nbformat": 4,
 "nbformat_minor": 0
}