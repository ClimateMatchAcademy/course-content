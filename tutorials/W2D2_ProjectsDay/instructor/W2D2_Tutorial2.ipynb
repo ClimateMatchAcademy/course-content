{
 "cells": [
  {
   "cell_type": "markdown",
   "metadata": {
    "execution": {}
   },
   "source": [
    "#**Tutorial 2: Research Project Implementation**\n",
    "\n",
    "> Indented block\n",
    "\n",
    "> Indented block\n",
    "\n",
    "\n",
    "\n",
    "\n",
    "**Week 1, Day 1, Good Research Practices**\n",
    "\n",
    "**Content creators:** Marguerite Brown, Yuxin Zhou\n",
    "\n",
    "**Content reviewers:** TBD\n",
    "\n",
    "**Content editors:** TBD\n",
    "\n",
    "**Production editors:** TBD\n",
    "\n",
    "**Our 2023 Sponsors:** TBD"
   ]
  },
  {
   "cell_type": "markdown",
   "metadata": {
    "execution": {}
   },
   "source": [
    "###**Code and Data Sources**\n",
    "\n",
    "Code for this tutorial is based on TBD\n",
    "\n",
    "Data from the following sources are used in this tutorial:\n",
    "\n",
    "\n",
    "\n",
    "\n"
   ]
  },
  {
   "cell_type": "markdown",
   "metadata": {
    "execution": {}
   },
   "source": [
    "#**Tutorial Objectives**\n",
    "\n",
    "In this tutorial, you will learn about the research process. This includes how to\n",
    "\n",
    "5.   Draft analyses of data to test a hypothesis\n",
    "6.   Implement analysis of data\n",
    "7.   Interpret results in the context of existing knowledge\n",
    "8.   Communicate your results and conclusions\n",
    "\n",
    "By the end of this tutorial you will be able to:\n",
    "\n",
    "*   Understand the principles of good research practices\n",
    "*   Learn to view a scientific data set or question through the lens of equity: Who is represented by this data and who is not? Who has access to this information? Who is in a position to use it?\n",
    "\n",
    "### Demos"
   ]
  },
  {
   "cell_type": "code",
   "execution_count": null,
   "metadata": {
    "execution": {},
    "executionInfo": {
     "elapsed": 3806,
     "status": "ok",
     "timestamp": 1681841517920,
     "user": {
      "displayName": "Sloane Garelick",
      "userId": "04706287370408131987"
     },
     "user_tz": 240
    }
   },
   "outputs": [],
   "source": [
    "#Imports\n",
    "\n",
    "# Import only the libraries/objects that you use in this tutorial.\n",
    "\n",
    "# If any external library has to be installed, !pip install library --quiet\n",
    "# follow this order: numpy>matplotlib.\n",
    "# import widgets in hidden Figure settings cell\n",
    "\n",
    "import matplotlib.pyplot as plt\n",
    "import pandas as pd\n",
    "import seaborn as sns\n",
    "import numpy as np\n",
    "from scipy import interpolate\n",
    "import statsmodels.api as sm"
   ]
  },
  {
   "cell_type": "markdown",
   "metadata": {
    "execution": {}
   },
   "source": [
    "#**Step 5: Drafting the Analysis**\n",
    "\n"
   ]
  },
  {
   "cell_type": "code",
   "execution_count": null,
   "metadata": {
    "cellView": "form",
    "execution": {}
   },
   "outputs": [],
   "source": [
    "# @title Video 6: Drafting the Analysis\n",
    "#Tech team will add code to format and display the video"
   ]
  },
  {
   "cell_type": "code",
   "execution_count": null,
   "metadata": {
    "execution": {},
    "executionInfo": {
     "elapsed": 19231,
     "status": "ok",
     "timestamp": 1681841554227,
     "user": {
      "displayName": "Sloane Garelick",
      "userId": "04706287370408131987"
     },
     "user_tz": 240
    }
   },
   "outputs": [],
   "source": [
    "from google.colab import drive\n",
    "drive.mount('/content/drive/')"
   ]
  },
  {
   "cell_type": "markdown",
   "metadata": {
    "execution": {}
   },
   "source": [
    "###**Coding Exercise 1.1: fitting a linear regression model**\n",
    "\n",
    "To explore the relationship between CO<sub>2</sub> and temperature, we may want to make a scatter plot of the two variables, where the x-axis represents CO<sub>2</sub> and the y-axis represents temperature. Then we can see if a linear regression model fits the scatter well.\n",
    "\n",
    "Before we do that, let's try our hands at making a scatter plot on randomly generated data points and fitting them through the linear regression model!"
   ]
  },
  {
   "cell_type": "markdown",
   "metadata": {
    "colab_type": "text",
    "execution": {},
    "executionInfo": {
     "elapsed": 614,
     "status": "ok",
     "timestamp": 1681841571307,
     "user": {
      "displayName": "Sloane Garelick",
      "userId": "04706287370408131987"
     },
     "user_tz": 240
    }
   },
   "source": [
    "```python\n",
    "# set up a random number generator\n",
    "rng = np.random.default_rng()\n",
    "# x is one hundred random numbers between 0 and 1\n",
    "x = rng.random(100)\n",
    "# y is one hundred random numbers according to the relationship y = 1.6x + 0.5\n",
    "y = 1.6*x + rng.random(100)\n",
    "\n",
    "#################################################\n",
    "## TODO for students: write a line of code to make a scatter plot of x and y ##\n",
    "#################################################\n",
    "\n",
    "\n",
    "\n",
    "#%% regression\n",
    "x = sm.add_constant(x)  # let's add an intercept (b in y=mx+b) to our model\n",
    "mod = sm.OLS(y, x)    # ordinary least sqaure\n",
    "res = mod.fit()       # Fit model\n",
    "print(res.summary())   # Summarize model\n",
    "\n",
    "#################################################\n",
    "## TODO for students: write a line of code to plot the calculated regression line\n",
    "#################################################\n",
    "\n",
    "```"
   ]
  },
  {
   "cell_type": "code",
   "execution_count": null,
   "metadata": {
    "execution": {},
    "executionInfo": {
     "elapsed": 624,
     "status": "ok",
     "timestamp": 1681841576308,
     "user": {
      "displayName": "Sloane Garelick",
      "userId": "04706287370408131987"
     },
     "user_tz": 240
    }
   },
   "outputs": [],
   "source": [
    "# to_remove solution\n",
    "# set up a random number generator\n",
    "rng = np.random.default_rng()\n",
    "# x is one hundred random numbers between 0 and 1\n",
    "x = rng.random(100)\n",
    "# y is one hundred random numbers according to the relationship y = 1.6x + 0.5\n",
    "y = 1.6*x + rng.random(100)\n",
    "\n",
    "#%% plot\n",
    "plt.scatter(x, y, color='gray')\n",
    "\n",
    "#%% regression\n",
    "x = sm.add_constant(x)  # let's add an intercept (b in y=mx+b) to our model\n",
    "mod = sm.OLS(y, x)    # ordinary least sqaure\n",
    "res = mod.fit()       # Fit model\n",
    "print(res.summary())   # Summarize model\n",
    "plt.plot(x, x*res.params[1]+res.params[0], color='k')"
   ]
  },
  {
   "cell_type": "markdown",
   "metadata": {
    "execution": {}
   },
   "source": [
    "Now that we know how to write codes to analysze the linear relationship between two variables, we're ready to move on to real world data!"
   ]
  },
  {
   "cell_type": "markdown",
   "metadata": {
    "execution": {}
   },
   "source": [
    "#**Step 6: Implementing the Analysis**"
   ]
  },
  {
   "cell_type": "markdown",
   "metadata": {
    "execution": {}
   },
   "source": [
    "##**Activity: Implement the Analysis**\n",
    "\n",
    "Over the next 45 minutes, you will be implementing a linear regression model as outlined in Step 5 on real-world CO<sub>2</sub> and temperature records.\n",
    "\n",
    "The CO<sub>2</sub> and temperature records we will be analyzing are both examples of paleoclimate data (for more information, refer back to Step 3). The CO<sub>2</sub> record (Bereiter et al., 2015) was generated by measureing the CO<sub>2</sub> concentration in ancient air bubbles trapped inside ice from multiple ice cores retrieved from Antarctica. The temperature record (Shakun et al., 2015) is based on chemical analysis done on the shells of planktic foraminifera. The foraminifera shells were identified and picked from deep-sea sediments, and the temperature record combined multiple sea-surface temperature records from a range of sites globally.\n",
    "\n",
    "Why are we focusing on these two records specifically? The CO<sub>2</sub> record from Antarctic ice core is the gold standard of air CO<sub>2</sub> variabilility on glacial-interglacial time scales, and it has a temporal resolution unmatched by any other reconstruction methods. The temperature record comes from sediment cores all over the global ocean, and therefore is likely representative of the global surface ocean temperature variability. Polar air temperature records are also available from ice core studies, but such records may represent an exaggerated view of the global temperature because of polar amplification.\n",
    "\n",
    "If you would like to learn more, the data sources are:\n",
    "\n",
    "CO<sub>2</sub>: Bereiter, B., Eggleston, S., Schmitt, J., Nehrbass-Ahles, C., Stocker, T.F., Fischer, H., Kipfstuhl, S., Chappellaz, J., 2015. Revision of the EPICA Dome C CO2 record from 800 to 600 kyr before present. Geophysical Research Letters 42, 542–549. https://doi.org/10.1002/2014GL061957\n",
    "\n",
    "Temperature: Shakun, J.D., Lea, D.W., Lisiecki, L.E., Raymo, M.E., 2015. An 800-kyr record of global surface ocean δ18O and implications for ice volume-temperature coupling. Earth and Planetary Science Letters 426, 58–68. https://doi.org/10.1016/j.epsl.2015.05.042\n",
    "\n",
    "As a first step, let's plot the two records on their respective age scale. An incomplete code is included below. Modify the code as necessary and run the analysis.\n",
    "\n"
   ]
  },
  {
   "cell_type": "markdown",
   "metadata": {
    "colab_type": "text",
    "execution": {},
    "executionInfo": {
     "elapsed": 4772,
     "status": "ok",
     "timestamp": 1681841605683,
     "user": {
      "displayName": "Sloane Garelick",
      "userId": "04706287370408131987"
     },
     "user_tz": 240
    }
   },
   "source": [
    "```python\n",
    "# This code block will plot the CO2 and temperature data as two\n",
    "# time series\n",
    "\n",
    "# read SST data\n",
    "SST = pd.read_table('/content/drive/Shareddrives/Academy/Courses/Climate/Climatematch/02-Curriculum/Climatematch Content Folder/W2D2 - Projects Day /Shakun2015_SST.txt')\n",
    "SST.set_index('Age', inplace=True)\n",
    "\n",
    "# read CO2 data\n",
    "CO2 = pd.read_table('/content/drive/Shareddrives/Academy/Courses/Climate/Climatematch/02-Curriculum/Climatematch Content Folder/W2D2 - Projects Day /antarctica2015co2composite_cleaned.txt')\n",
    "CO2.set_index('age_gas_calBP', inplace=True)\n",
    "\n",
    "#%% plot\n",
    "# set up two subplots in a grid of 2 rows and 1 column\n",
    "# also make sure the two plots share the same x(time) axis\n",
    "fig, axes = plt.subplots(2, 1, sharex=True)\n",
    "# move the two subplots closer to each other\n",
    "fig.subplots_adjust(hspace=-0.5)\n",
    "#################################################\n",
    "## TODO for students: plot the CO2 with the first panel (axes[0])\n",
    "## and plot the temperature data with the second panel (axes[1])\n",
    "#################################################\n",
    "\n",
    "#%% beautification\n",
    "# since sharex=True in plt.subplots(), this sets the x axis limit for both panels\n",
    "axes[1].set_xlim((0, 805))\n",
    "# axis labels\n",
    "axes[1].set_xlabel('Age (ka BP)')\n",
    "axes[0].set_ylabel(r'Sea Surface Temperature'\n",
    "                   '\\n'\n",
    "                   'detrended (°C)',\n",
    "                   color='C4')\n",
    "axes[1].set_ylabel(r'CO${}_\\mathrm{2}$ (ppm)',\n",
    "                   color='C1')\n",
    "# despine makes the plots look cleaner\n",
    "sns.despine(ax=axes[0], top=True, right=False, bottom=True, left=True)\n",
    "sns.despine(ax=axes[1], top=True, right=True, bottom=False, left=False)\n",
    "# clean up top panel x axis ticks\n",
    "axes[0].xaxis.set_ticks_position('none')\n",
    "# move top panel xlabel to the right side\n",
    "axes[0].yaxis.set_label_position('right')\n",
    "# the following code ensures the subplots don't overlap\n",
    "for ax in axes:\n",
    "    ax.set_zorder(10)\n",
    "    ax.set_facecolor('none')\n",
    "# color the axis\n",
    "axes[0].spines['right'].set_color('C4')\n",
    "axes[1].spines['left'].set_color('C1')\n",
    "axes[0].tick_params(axis='y', colors='C4')\n",
    "axes[1].tick_params(axis='y', colors='C1')\n",
    "\n",
    "```"
   ]
  },
  {
   "cell_type": "code",
   "execution_count": null,
   "metadata": {
    "execution": {},
    "executionInfo": {
     "elapsed": 1364,
     "status": "ok",
     "timestamp": 1681841645463,
     "user": {
      "displayName": "Sloane Garelick",
      "userId": "04706287370408131987"
     },
     "user_tz": 240
    }
   },
   "outputs": [],
   "source": [
    "# to_remove solution\n",
    "# This code block will plot the CO2 and temperature data as two\n",
    "# time series\n",
    "# read SST data\n",
    "SST = pd.read_table('/content/drive/Shareddrives/Academy/Courses/Climate/Climatematch/02-Curriculum/Climatematch Content Folder/W2D2 - Projects Day /Shakun2015_SST.txt')\n",
    "SST.set_index('Age', inplace=True)\n",
    "\n",
    "# read CO2 data\n",
    "CO2 = pd.read_table('/content/drive/Shareddrives/Academy/Courses/Climate/Climatematch/02-Curriculum/Climatematch Content Folder/W2D2 - Projects Day /antarctica2015co2composite_cleaned.txt')\n",
    "CO2.set_index('age_gas_calBP', inplace=True)\n",
    "\n",
    "#%% plot\n",
    "# set up two subplots in a grid of 2 rows and 1 column\n",
    "# also make sure the two plots share the same x(time) axis\n",
    "fig, axes = plt.subplots(2, 1, sharex=True)\n",
    "# move the two subplots closer to each other\n",
    "fig.subplots_adjust(hspace=-0.5)\n",
    "axes[0].plot(SST.index, SST['SST stack'], color='C4')\n",
    "axes[1].plot(CO2.index/1000, CO2['co2_ppm'], color='C1')\n",
    "\n",
    "#%% beautification\n",
    "# since sharex=True in plt.subplots(), this sets the x axis limit for both panels\n",
    "axes[1].set_xlim((0, 805))\n",
    "# axis labels\n",
    "axes[1].set_xlabel('Age (ka BP)')\n",
    "axes[0].set_ylabel(r'Sea Surface Temperature'\n",
    "                   '\\n'\n",
    "                   'detrended (°C)',\n",
    "                   color='C4')\n",
    "axes[1].set_ylabel(r'CO${}_\\mathrm{2}$ (ppm)',\n",
    "                   color='C1')\n",
    "# despine makes the plots look cleaner\n",
    "sns.despine(ax=axes[0], top=True, right=False, bottom=True, left=True)\n",
    "sns.despine(ax=axes[1], top=True, right=True, bottom=False, left=False)\n",
    "# clean up top panel x axis ticks\n",
    "axes[0].xaxis.set_ticks_position('none')\n",
    "# move top panel xlabel to the right side\n",
    "axes[0].yaxis.set_label_position('right')\n",
    "# the following code ensures the subplots don't overlap\n",
    "for ax in axes:\n",
    "    ax.set_zorder(10)\n",
    "    ax.set_facecolor('none')\n",
    "# color the axis\n",
    "axes[0].spines['right'].set_color('C4')\n",
    "axes[1].spines['left'].set_color('C1')\n",
    "axes[0].tick_params(axis='y', colors='C4')\n",
    "axes[1].tick_params(axis='y', colors='C1')"
   ]
  },
  {
   "cell_type": "markdown",
   "metadata": {
    "execution": {}
   },
   "source": [
    "Now that we've taken a look at the two time series, let's make a scatter plot between them and fit a linear regression model through the data."
   ]
  },
  {
   "cell_type": "markdown",
   "metadata": {
    "colab_type": "text",
    "execution": {},
    "executionInfo": {
     "elapsed": 354,
     "status": "error",
     "timestamp": 1681841668815,
     "user": {
      "displayName": "Sloane Garelick",
      "userId": "04706287370408131987"
     },
     "user_tz": 240
    }
   },
   "source": [
    "```python\n",
    "# In this code block, we will make a scatter plot of CO2 and temperature\n",
    "# and fit a linear regression model through the data\n",
    "\n",
    "def age_model_interp(CO2_age, CO2, SST_age):\n",
    "  '''\n",
    "  This helper function linearly interpolates CO2 data, which\n",
    "  have a very high temporal resolution, to temperature data,\n",
    "  which have a relatively low resolution\n",
    "  '''\n",
    "  f = interpolate.interp1d(CO2_age, CO2, fill_value='extrapolate')\n",
    "  all_ages = f(SST_age)\n",
    "  return all_ages\n",
    "\n",
    "# read SST data\n",
    "SST = pd.read_table('/content/drive/Shareddrives/Academy/Courses/Climate/Climatematch/02-Curriculum/Climatematch Content Folder/W2D2 - Projects Day /Shakun2015_SST.txt')\n",
    "SST.set_index('Age', inplace=True)\n",
    "\n",
    "# read CO2 data\n",
    "CO2 = pd.read_table('/content/drive/Shareddrives/Academy/Courses/Climate/Climatematch/02-Curriculum/Climatematch Content Folder/W2D2 - Projects Day /antarctica2015co2composite_cleaned.txt')\n",
    "CO2.set_index('age_gas_calBP', inplace=True)\n",
    "\n",
    "# interpolate CO2 data to SST age. Fill in the input parameters.\n",
    "CO2_interpolated = age_model_interp(..., ..., ...)\n",
    "\n",
    "#%% plot\n",
    "# set up two subplots in a grid of 2 rows and 1 column\n",
    "# also make sure the two plots share the same x(time) axis\n",
    "fig, ax = plt.subplots(1, 1, sharex=True)\n",
    "\n",
    "# Fill in the input parameters to make a scatter plot where the x-axis is CO2\n",
    "# and the y-axis is temperature\n",
    "ax.scatter(..., ..., color='gray')\n",
    "\n",
    "#################################################\n",
    "## TODO for students: Refer back to Coding Exercise 1.1\n",
    "## And fit the CO2 and temperature data through a linear regression model\n",
    "## and then plot the model on top of the scatter data\n",
    "#################################################\n",
    "\n",
    "#%% beautification\n",
    "# axis labels\n",
    "ax.set_xlabel(r'CO${}_\\mathrm{2}$ (ppm)')\n",
    "ax.set_ylabel(r'Sea Surface Temperature'\n",
    "                    '\\n'\n",
    "                    'detrended (°C)')\n",
    "\n",
    "```"
   ]
  },
  {
   "cell_type": "code",
   "execution_count": null,
   "metadata": {
    "execution": {},
    "executionInfo": {
     "elapsed": 1006,
     "status": "ok",
     "timestamp": 1681841676662,
     "user": {
      "displayName": "Sloane Garelick",
      "userId": "04706287370408131987"
     },
     "user_tz": 240
    }
   },
   "outputs": [],
   "source": [
    "# to_remove solution\n",
    "# In this code block, we will make a scatter plot of CO2 and temperature\n",
    "# and fit a linear regression model through the data\n",
    "\n",
    "def age_model_interp(CO2_age, CO2, SST_age):\n",
    "  '''\n",
    "  This helper function linearly interpolates CO2 data, which\n",
    "  have a very high temporal resolution, to temperature data,\n",
    "  which have a relatively low resolution\n",
    "  '''\n",
    "  f = interpolate.interp1d(CO2_age, CO2, fill_value='extrapolate')\n",
    "  all_ages = f(SST_age)\n",
    "  return all_ages\n",
    "\n",
    "# read SST data\n",
    "SST = pd.read_table('/content/drive/Shareddrives/Academy/Courses/Climate/Climatematch/02-Curriculum/Climatematch Content Folder/W2D2 - Projects Day /Shakun2015_SST.txt')\n",
    "SST.set_index('Age', inplace=True)\n",
    "\n",
    "# read CO2 data\n",
    "CO2 = pd.read_table('/content/drive/Shareddrives/Academy/Courses/Climate/Climatematch/02-Curriculum/Climatematch Content Folder/W2D2 - Projects Day /antarctica2015co2composite_cleaned.txt')\n",
    "CO2.set_index('age_gas_calBP', inplace=True)\n",
    "\n",
    "# interpolate CO2 data to SST age\n",
    "CO2_interpolated = age_model_interp(CO2.index/1000, CO2['co2_ppm'], SST.index)\n",
    "\n",
    "#%% plot\n",
    "# set up two subplots in a grid of 2 rows and 1 column\n",
    "# also make sure the two plots share the same x(time) axis\n",
    "fig, ax = plt.subplots(1, 1, sharex=True)\n",
    "\n",
    "ax.scatter(CO2_interpolated, SST['SST stack'], color='gray')\n",
    "\n",
    "#%% regression\n",
    "X = CO2_interpolated\n",
    "X = sm.add_constant(X)  # let's add an intercept (beta_0) to our model\n",
    "y = SST['SST stack']\n",
    "mod = sm.OLS(y, X)    # ordinary least sqaure\n",
    "res = mod.fit()       # Fit model\n",
    "print(res.summary())   # Summarize model\n",
    "x_fit = np.arange(180, 280)\n",
    "y_fit = x_fit * res.params[1] + res.params[0]  # ordinary least square\n",
    "ax.plot(x_fit, y_fit, color='k')\n",
    "\n",
    "#%% beautification\n",
    "# axis labels\n",
    "ax.set_xlabel(r'CO${}_\\mathrm{2}$ (ppm)')\n",
    "ax.set_ylabel(r'Sea Surface Temperature'\n",
    "                    '\\n'\n",
    "                    'detrended (°C)')"
   ]
  },
  {
   "cell_type": "markdown",
   "metadata": {
    "execution": {}
   },
   "source": [
    "**Figure making through the equity lense**\n",
    "<details>\n",
    "<summary>Click here for some information</summary>\n",
    "Are the colors in your figure distinguishable for people with color-vision deficiencies?\n",
    "\n",
    "More readings on this topic:\n",
    "\n",
    "Contrast checker: https://color.adobe.com/create/color-contrast-analyzer&sa=D&source=editors&ust=1681780909587373&usg=AOvVaw1x42nZz5OhbL5KZYJc89Gs\n",
    "\n",
    "Coloring for color blindness: https://davidmathlogic.com/colorblind\n",
    "\n",
    "Python-specific color palettes that are friendly to those with color-vision deficiency: https://seaborn.pydata.org/tutorial/color_palettes.html"
   ]
  },
  {
   "cell_type": "markdown",
   "metadata": {
    "execution": {}
   },
   "source": [
    "#**Step 7: Interpreting the Results**\n",
    "\n"
   ]
  },
  {
   "cell_type": "code",
   "execution_count": null,
   "metadata": {
    "cellView": "form",
    "execution": {}
   },
   "outputs": [],
   "source": [
    "# @title Video 1: Interpreting the Results\n",
    "#Tech team will add code to format and display the video"
   ]
  },
  {
   "cell_type": "markdown",
   "metadata": {
    "execution": {}
   },
   "source": [
    "**Quantifying the uncertainty**\n",
    "<details>\n",
    "<summary>Click here for some information</summary>\n",
    "Look up \"linear regression model R squared\" and how it measures the uncertainty of a linear regression model. In the \"OLS Regression Results\" printout, can you find where R-squared is? What does it say about how confident you can be about a linear relationship bewteen CO<sub>2</sub> and temperature?"
   ]
  },
  {
   "cell_type": "markdown",
   "metadata": {
    "execution": {}
   },
   "source": [
    "##**Activity: Interpreting the Results through the lens of equity**\n",
    "For the next 10 minutes, discuss what the results capture well in terms of the relationship between CO<sub>2</sub> and tempearture. Who is represented by this data, specifically the compiled temperature record, and who is not? Who generated these data? Who has access to this information? Who is in a position to use it?"
   ]
  },
  {
   "cell_type": "markdown",
   "metadata": {
    "execution": {}
   },
   "source": [
    "**Further readings**\n",
    "<details>\n",
    "<summary>Click here for more readings on Interpreting the Results through the lens of equity</summary>\n",
    "\n",
    "Donovan, R. (2023), Climate journalism needs voices from the Global South, Eos, 104, https://doi.org/10.1029/2023EO230085\n",
    "\n",
    "Tandon, A. (2021), Analysis: The lack of diversity in climate-science research, Carbon Brief, https://www.carbonbrief.org/analysis-the-lack-of-diversity-in-climate-science-research/"
   ]
  },
  {
   "cell_type": "markdown",
   "metadata": {
    "execution": {}
   },
   "source": [
    "#**Step 8: Communicating Your Conclusions**\n",
    "\n"
   ]
  },
  {
   "cell_type": "code",
   "execution_count": null,
   "metadata": {
    "cellView": "form",
    "execution": {}
   },
   "outputs": [],
   "source": [
    "# @title Video 1: Communicating Your Conclusions\n",
    "#Tech team will add code to format and display the video"
   ]
  },
  {
   "cell_type": "markdown",
   "metadata": {
    "execution": {}
   },
   "source": [
    "##**Activity: Communicating Your Conclusions**\n",
    "\n",
    "For the next 20 minutes, break out into groups of 2 or 3 and pick one presentation format and discuss:\n",
    "\n",
    "*   Who is the target audience of this format?\n",
    "*   What information is important to include?\n",
    "\n",
    "After this, come back together as a whole pod and discuss everyone's suggestions.\n"
   ]
  },
  {
   "cell_type": "markdown",
   "metadata": {
    "execution": {}
   },
   "source": [
    "**Equity in the Science Publishing**\n",
    "<details>\n",
    "<summary>Click here for some information about equity and publishing</summary>\n",
    "\n",
    "There are aspects of our current research culture that perpetuate inequity in the publishing process. Academic institutions and funding agencies often place importance on publishing in peer-reviewed journals. However, they have some drawbacks, including\n",
    "\n",
    "*    Accessibility\n",
    "<ul><li>Papers in these journals are often kept behind a paywall, making them less accessible to people without the backing of either a university or a company.</li>\n",
    "<li>More and more journals offer the option of publishing open access, but at expense to the submitting authors: fees can often exceed 1000 USD.</li>\n",
    "<li>\n",
    "If you want to ensure accessibility, consider also releasing your results in other formats as well. For instance,\n",
    "<ul><li>Blog posts</li>\n",
    "<li>Podcasts</li>\n",
    "<li>Social media posts</li>\n",
    "<li>Conferences</li> </ul>\n",
    "<li>If you know that your research contains results that are relevant to specific populations, it is valuable to find ways to communicate your results to them.</li></ul>\n",
    "*    Peer Review as Gatekeeping\n",
    "<ul><li>At its best, the peer review process enforces scientific rigor.</li>\n",
    "<li>At its worst, it can become a tool for enforcing pre-existing norms, including the biases of its reviewers.</li>\n",
    "<li>REMEMBER: Bad experiences with reviewers and rejections does not mean that your research is bad. There are papers which went on to win Nobel prizes that experienced resistance and rejection during the peer review process BECAUSE they were introducing important new ideas.</li>\n",
    "<li>Further Reading:</li>\n",
    "<ul><li>Campanario, J. M. (2009). Rejecting and resisting Nobel class discoveries: Accounts by Nobel Laureates. Scientometrics, 81(2), 549–565.</li>\n",
    "<li>Bancroft, S. F., Ryoo, K., & Miles, M. (2022). Promoting equity in the peer review process of journal publication. Science Education, 106, 1232– 1248.  https://doi.org/10.1002/sce.21733</li></ul> </ul>"
   ]
  },
  {
   "cell_type": "markdown",
   "metadata": {
    "execution": {}
   },
   "source": [
    "#**Summary**\n",
    "\n",
    "In this tutorial, we worked through how to analyze and present research.\n",
    "\n",
    "*   We learned how to draft an analysis (Step 5)\n",
    "*   We implemented the analysis that we drafted (Step 6)\n",
    "*   We learned how to interpret the results of the analysis (Step 7)\n",
    "*   We learned about how to communicate the conclusions of our research (Step 8)\n"
   ]
  },
  {
   "cell_type": "markdown",
   "metadata": {
    "execution": {}
   },
   "source": [
    "#**Suggested Further Reading**"
   ]
  }
 ],
 "metadata": {
  "colab": {
   "collapsed_sections": [],
   "include_colab_link": true,
   "name": "W2D2_Tutorial2",
   "provenance": [
    {
     "file_id": "108RRAFBnnKvDTfEDC0Fm5qHZez32HB69",
     "timestamp": 1680091091012
    },
    {
     "file_id": "1WfT8oN22xywtecNriLptqi1SuGUSoIlc",
     "timestamp": 1680037587733
    }
   ],
   "toc_visible": true
  },
  "kernel": {
   "display_name": "Python 3",
   "language": "python",
   "name": "python3"
  },
  "kernelspec": {
   "display_name": "Python 3",
   "name": "python3"
  },
  "language_info": {
   "name": "python"
  }
 },
 "nbformat": 4,
 "nbformat_minor": 0
}
