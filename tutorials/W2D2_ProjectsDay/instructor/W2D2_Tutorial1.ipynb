{
 "cells": [
  {
   "cell_type": "markdown",
   "metadata": {
    "execution": {}
   },
   "source": [
    "#**Tutorial 1: Research Project Design**\n",
    "\n",
    "> Indented block\n",
    "\n",
    "> Indented block\n",
    "\n",
    "\n",
    "\n",
    "\n",
    "**Week 1, Day 1, Good Research Practices**\n",
    "\n",
    "**Content creators:** Marguerite Brown, Yuxin Zhou\n",
    "\n",
    "**Content reviewers:** TBD\n",
    "\n",
    "**Content editors:** TBD\n",
    "\n",
    "**Production editors:** TBD\n",
    "\n",
    "**Our 2023 Sponsors:** TBD"
   ]
  },
  {
   "cell_type": "markdown",
   "metadata": {
    "execution": {}
   },
   "source": [
    "###**Code and Data Sources**\n",
    "\n",
    "Code for this tutorial is based on TBD\n",
    "\n",
    "Data from the following sources are used in this tutorial:\n",
    "\n",
    "\n",
    "*   \n",
    "\n",
    "\n",
    "\n",
    "\n",
    "\n",
    "\n"
   ]
  },
  {
   "cell_type": "markdown",
   "metadata": {
    "execution": {}
   },
   "source": [
    "#**Tutorial Objectives**\n",
    "\n",
    "In this tutorial, you will learn about the process of research design. This includes how to\n",
    "\n",
    "1.   Identify a phenomenon and formulate a research question surrounding it\n",
    "2.   Efficiently review existing literature and knowledge about the phenomenon\n",
    "3.   Identify what is needed to study the phenomenon\n",
    "4.   Formulate a testable hypothesis regarding the phenomenon\n",
    "\n",
    "By the end of this tutorial you will be able to:\n",
    "\n",
    "*   Understand the principles of good research practices\n",
    "*   Learn to view a scientific data set or question through the lens of equity: Who is represented by this data and who is not? Who has access to this information? Who is in a position to use it?\n",
    "\n",
    "### Demos\n",
    "\n",
    "In order to illustrate the process, we will use a sample research question about how the surface temperature of the earth depends on the CO$_2$ content of the atmosphere."
   ]
  },
  {
   "cell_type": "markdown",
   "metadata": {
    "execution": {}
   },
   "source": [
    "#**Step 1: Finding a phenomenon and asking a question about it**\n",
    "\n"
   ]
  },
  {
   "cell_type": "code",
   "execution_count": null,
   "metadata": {
    "cellView": "form",
    "execution": {}
   },
   "outputs": [],
   "source": [
    "# @title Video 1: Identifying a Question\n",
    "#Tech team will add code to format and display the video"
   ]
  },
  {
   "cell_type": "markdown",
   "metadata": {
    "execution": {}
   },
   "source": [
    "##**Activity: Asking your own question**\n",
    "\n",
    "Take 5 minutes to construct a question that you are interested in involving what you know so far about climate. Discuss amongst your group to improve the question. For some inspiration:\n",
    "\n",
    "*   Are there other aspects of the planet that may influence the average surface temperature?\n",
    "*   Are there other features of the planet that may be impacted by changes in the average surface temperature?"
   ]
  },
  {
   "cell_type": "markdown",
   "metadata": {
    "execution": {}
   },
   "source": [
    "**Make sure to avoid the pitfalls!**\n",
    "<details>\n",
    "<summary>Click here for a recap on pitfalls</summary>\n",
    "\n",
    "Question is too broad\n",
    "<ul>\n",
    "  <li>Science advances one small step at a time. Narrowing the scope will help clarify your next steps</li>\n",
    "  </ul>\n",
    "\n",
    "Question does not identify a precise aspect of the phenomenon\n",
    "  <ul>\n",
    "  <li>Clarity will help identify next steps in your research</li>\n",
    "  <li>If you are struggling to identify a precise aspect, you might need to learn more about the phenomenon. Look to the literature (Step 2)!</li>\n",
    "  </ul>\n",
    "\n",
    "Question is about an analysis method\n",
    "  <ul>\n",
    "  <li>An analysis method is a tool, not the big picture</li>\n",
    "  </ul>\n",
    "\n",
    "</details>"
   ]
  },
  {
   "cell_type": "markdown",
   "metadata": {
    "execution": {}
   },
   "source": [
    "#**Step 2: Doing a Literature Review**\n",
    "\n"
   ]
  },
  {
   "cell_type": "code",
   "execution_count": null,
   "metadata": {
    "cellView": "form",
    "execution": {}
   },
   "outputs": [],
   "source": [
    "# @title Video 2: Doing a Literature Review\n",
    "#Tech team will add code to format and display the video"
   ]
  },
  {
   "cell_type": "markdown",
   "metadata": {
    "execution": {}
   },
   "source": [
    "##**Activity: Some Literature on Surface Temperature and CO$_2$**\n",
    "\n",
    "A proper literature review can take months or years. You will do a short literature review on the topic of your Project Template in two days. For now, rather than asking you to review the literature on our sample research topic, we will provide some additional data:\n",
    "\n"
   ]
  },
  {
   "cell_type": "markdown",
   "metadata": {
    "execution": {}
   },
   "source": [
    "**Equity in Literature Review**\n",
    "<details>\n",
    "<summary>Click here for some points to consider when doing your literature review</summary>\n",
    "\n",
    "The choices we make as a collective have an impact on who is included and who is excluded in the scientific process. While there is no perfect solution to inequity in the sciences, we can help by being open to the ongoing conversation and feedback on our impact. Here are some points to consider:\n",
    "\n",
    "*    Which papers are you reading? Which papers are you citing? Are there good results that are being overlooked?\n",
    "*    Does your work connect to a phenomenon that impacts a specific community? Have members of that community observed and documented the phenomenon?\n",
    "*    Has your own experience informed you of equity concerns in the knowledge base that you are in a good position to address?\n",
    "\n",
    "Remember: the goal is not perfection. There are unintended consequences to every choice we make. By keeping equity in mind, we can stay open to constructive feedback and notice where we can make an impact.\n",
    "\n",
    "Here are some resources that may help you incorporate knowledge and understanding from underrepresented groups:\n",
    "*   [Global South Climate Database](https://www.carbonbrief.org/global-south-climate-database/ ) is made by scientists from the Global South, who make up only 10% of citations in Climate Science\n",
    "*   [Local Environmental Observer (LEO) network](https://www.leonetwork.org) contains observations of many weather events from Indigenous groups\n",
    "*   [Alaska Native Knowledge Network](http://www.ankn.uaf.edu/) and [Alaska Native Science Commission](http://www.nativescience.org/) are dedicated to Alaskan Native Knowledge\n",
    "*   [HSHK Knowledge Well](https://cdm16093.contentdm.oclc.org/digital/collection/p16093coll9) contains Native Hawaiian knowledge of local weather events\n",
    "\n",
    "Here is some reading relating to Arrhenius and his racism: \n",
    "\n",
    "College Chemistry Textbooks Aid and Abet Racial Disparity. Mona L. Becker and Melanie R. Nilsson. Journal of Chemical Education 2022 99 (5), 1847-1854. DOI: 10.1021/acs.jchemed.1c00968 \n"
   ]
  },
  {
   "cell_type": "markdown",
   "metadata": {
    "execution": {}
   },
   "source": [
    "**Tips for Efficiency**\n",
    "<details>\n",
    "<summary>Click here for some pointers on reviewing literature efficiently</summary>\n",
    "\n",
    "There are many different strategies for reviewing literature efficiently. [Here](https://www.science.org/content/article/how-seriously-read-scientific-paper) are some descriptions of the processes that different researchers use. If you are new to a topic, we recommend you start by looking for a review paper, which will summarize the results of multiple studies and direct you to other papers worth reading.\n",
    "\n",
    "Here is one option for reading papers efficiently:\n",
    "\n",
    "*   Start with the abstract and conclusions section. This will tell you whether the results of the paper are relevant to you\n",
    "*   Do a \"quick pass\" of the paper\n",
    "<ul>\n",
    "  <li>Look through the figures of the paper</li>\n",
    "  <li>Find where the figures are referenced in the text and read the surrounding discussion</li>\n",
    "  <li>Make note of what parts of the figures and discussion you don't understand</li>\n",
    "  </ul>\n",
    "*   Look for information to address the parts of the figures that you don't understand. Possible sources include:\n",
    "<ul>\n",
    "  <li>Previous sections of the paper describing the methods and analysis</li>\n",
    "  <li>Other papers that cite or are cited by the paper you are looking at</li>\n",
    "  <li>Textbooks, etc on the subject</li>\n",
    "  <li>Professors, peers in your field, etc</li>\n",
    "  </ul>\n",
    "*   If the paper seems extremely important, or if you have been asked to present the paper to a group, read through it in its entirety. To get the most out of it, try\n",
    "<ul>\n",
    "  <li>Summarizing the message of each paragraph in 1 sentence or less</li>\n",
    "  <li>Sketching written descriptions of phenomenon</li>\n",
    "  <li>Identifying the physical meaning and effect of terms in equations</li>\n",
    "  </ul>"
   ]
  },
  {
   "cell_type": "markdown",
   "metadata": {
    "execution": {}
   },
   "source": [
    "#**Step 3: Identifying the Basic Ingredients**\n"
   ]
  },
  {
   "cell_type": "code",
   "execution_count": null,
   "metadata": {
    "cellView": "form",
    "execution": {}
   },
   "outputs": [],
   "source": [
    "# @title Video 3: Identifying the Basic Ingredients\n",
    "#Tech team will add code to format and display the video"
   ]
  },
  {
   "cell_type": "markdown",
   "metadata": {
    "execution": {}
   },
   "source": [
    "##**Activity: Identifying Basic Ingredients**\n",
    "\n",
    "Take 10 minutes to discuss the advantages and disadvantages of the following basic ingredients to explore our research question:\n",
    "\n",
    "\n",
    "*   Ice core data for CO$_2$\n",
    "*   Deep sea sediment data for sea surface temperature\n",
    "\n",
    "Can you think of alternatives that might work well?"
   ]
  },
  {
   "cell_type": "markdown",
   "metadata": {
    "execution": {}
   },
   "source": [
    "**Data types and how to choose**\n",
    "<details>\n",
    "<summary>Click here for some pointers on choosing the data you use</summary>\n",
    "\n",
    "Here are some questions to ask yourself when choosing the data to use:\n",
    "\n",
    "What is necessary for describing the phenomenon?\n",
    "<ul>\n",
    "  <li>You don't want an approach that contains less than the bare minimum. For some phenomena, we know what the bare minimum is. For others, more research is needed...</li>\n",
    "  </ul>\n",
    "\n",
    "What restrictions do I have for computational resources?\n",
    "<ul>\n",
    "  <li>If you do not have access to large computational resources, you can still do research using smaller datasets or idealized models</li>\n",
    "  </ul>\n",
    "\n",
    "Am I interested in looking at a particular time period or a specific physical location?\n",
    "<ul>\n",
    "  <li>Reanalysis can be used for time periods after roughly the 1940s</li>\n",
    "  <li>Proxy data can be used for a wider historical and prehistorical data</li>\n",
    "  <li>Both reanalysis and proxy data can provide specific location information</li>\n",
    "  <li>Models can be designed to mimic the conditions of the location or time, for example:</li><ul>\n",
    "  <li>GCMs (General Circulation Models or Global Climate Models) can be set according to parameters that resemble the time period</li>\n",
    "  <li>Energy balance models can capture some aspects of average temperature in other time periods</li>\n",
    "  <li>Radiative-convective equilibrium models can capture some phenomena in the tropics</li>\n",
    "  <li>Quasi-geostrophic models can capture some phenomena in the mid-latitudes (between ~30-60 degrees)</li>\n",
    "  <li>And many more!</li>\n",
    "  </ul>\n",
    "  </ul>\n",
    "\n",
    "Am I interested in studying a feature of the phenomenon in isolation or interactions between multiple features?\n",
    "\n",
    "<ul>\n",
    "  <li>If you want to isolate a single aspect of the phenomenon, an idealized model may be more appropriate</li>\n",
    "  <li>If you want to study interactions between multiple features, either observational data or a more complex model may be appropriate</li>\n",
    "  </ul>\n",
    "\n",
    "Am I trying to...\n",
    "<ul> \n",
    "<li>explain the theory behind the phenomenon? an idealized model may be appropriate</li>\n",
    "<li>provide evidence to support or challenge a pre-existing hypothesis? observational data or a more complex model may be appropriate</li>\n",
    "<li> document the features of the phenomenon? observational data may be appropriate</li>\n",
    "</ul>\n",
    "\n",
    "For more information on observational data: \n",
    "*     NCAR's climate data guide: https://climatedataguide.ucar.edu/climate-data\n",
    "*     NCAR's guide on real-time weather data: https://weather.rap.ucar.edu/ \n",
    "*     USGS's guide on paleoclimate proxies: https://www.usgs.gov/programs/climate-research-and-development-program/science/paleoclimate-proxies\n",
    "*     [Pangeo](https://pangeo.io/) hosts a few open-access datasets\n",
    "\n",
    "For more information on numerical modeling: \n",
    "\n",
    "*    Atmospheric Model Hierarchies: Maher, P., Gerber, E. P., Medeiros, B., Merlis, T. M., Sherwood, S., Sheshadri, A., et al. (2019). Model hierarchies for understanding atmospheric circulation, Reviews of Geophysics, 57, 250– 280. https://doi.org/10.1029/2018RG000607\n",
    "*    Ocean Model Hierarchies:  Hsu, T.-Y., Primeau, F., & Magnusdottir, G. (2022). A hierarchy of global ocean models coupled to CESM1. Journal of Advances in Modeling Earth Systems, 14, e2021MS002979. https://doi.org/10.1029/2021MS002979 "
   ]
  },
  {
   "cell_type": "markdown",
   "metadata": {
    "execution": {}
   },
   "source": [
    "#**Step 4: Formulating a Hypothesis**\n",
    "\n"
   ]
  },
  {
   "cell_type": "code",
   "execution_count": null,
   "metadata": {
    "cellView": "form",
    "execution": {}
   },
   "outputs": [],
   "source": [
    "# @title Video 4: Formulating a Hypothesis\n",
    "#Tech team will add code to format and display the video"
   ]
  },
  {
   "cell_type": "markdown",
   "metadata": {
    "execution": {}
   },
   "source": [
    "##**Activity: Understanding Hypothesis**\n",
    "\n",
    "Take 5 minutes to discuss how a hypothesis differs from a research question."
   ]
  },
  {
   "cell_type": "markdown",
   "metadata": {
    "execution": {}
   },
   "source": [
    "**Make sure to avoid the pitfalls!**\n",
    "<details>\n",
    "<summary>Click here for a recap on pitfalls</summary>\n",
    "\n",
    "I don’t need a hypothesis, I will just play around with the model/data\n",
    "  <ul>\n",
    "  <li>A hypothesis will help to clarify your goals when presenting research. After all, \"I just played around with this model a lot\" isn't a very satisfying scientific result...</li>\n",
    "  <li>However, we encourage you to play around with the model and the data! This can help develop intuition.</li>\n",
    "  <li>Hypothesis formation is often an iterative process involving both the literature review and playing around with your model and data.</li>\n",
    "  </ul>\n",
    "\n",
    "My hypothesis doesn’t match my question (or vice versa)\n",
    "  <ul>\n",
    "  <li>This is a normal part of the process!</li>\n",
    "  <li>You can return to Step 1 and update your question / phenomenon / goals</li>\n",
    "  </ul>\n",
    "\n",
    "I can’t write down a hypothesis\n",
    "  <ul>\n",
    "  <li>Often that means you lack ingredients and/or clarity on the hypothesis. Try returning to Step 2 to further your literature review, or playing around with your model or data.</li>\n",
    "  </ul>\n",
    "</details>"
   ]
  },
  {
   "cell_type": "markdown",
   "metadata": {
    "execution": {}
   },
   "source": [
    "#**Summary**\n",
    "\n",
    "In this tutorial, we worked through the preliminary steps of starting a research project.\n",
    "\n",
    "*   We identified a phenomenon and formulated a question (Step 1)\n",
    "*   We did a review of the literature and determine what has already been studied about the phenomenon (Step 2)\n",
    "*   We determined what basic ingredients we need to investigate the phenomenon (Step 3)\n",
    "*   We used all of the above to formulate a testable hypothesis (Step 4)\n"
   ]
  },
  {
   "cell_type": "markdown",
   "metadata": {
    "execution": {}
   },
   "source": [
    "#**Next Steps**\n",
    "\n",
    "A second notebook will illustrate the steps involved in data analysis, interpreting your results, and communicating your results to an audience. As you do your own research, feel free to return to this tutorial as a guide."
   ]
  },
  {
   "cell_type": "markdown",
   "metadata": {
    "execution": {}
   },
   "source": [
    "#**Suggested Further Reading**\n",
    "\n",
    " "
   ]
  }
 ],
 "metadata": {
  "colab": {
   "collapsed_sections": [],
   "include_colab_link": true,
   "name": "W2D2_Tutorial1",
   "provenance": [
    {
     "file_id": "1WfT8oN22xywtecNriLptqi1SuGUSoIlc",
     "timestamp": 1680037587733
    }
   ],
   "toc_visible": true
  },
  "kernel": {
   "display_name": "Python 3",
   "language": "python",
   "name": "python3"
  },
  "kernelspec": {
   "display_name": "Python 3",
   "name": "python3"
  },
  "language_info": {
   "name": "python"
  }
 },
 "nbformat": 4,
 "nbformat_minor": 0
}
