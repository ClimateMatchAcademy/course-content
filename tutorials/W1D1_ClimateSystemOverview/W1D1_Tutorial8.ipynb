{
 "cells": [
  {
   "attachments": {},
   "cell_type": "markdown",
   "id": "mVZDbCNcJlom",
   "metadata": {
    "execution": {}
   },
   "source": [
    "# **Tutorial 8: Masking with One Condition**\n",
    "\n",
    "**Week 1, Day 1, Introduction to the Climate System**\n",
    "\n",
    "**Content creators:** Sloane Garelick, Julia Kent\n",
    "\n",
    "**Content reviewers:** Danika Gupta, Younkap Nina Duplex \n",
    "\n",
    "**Content editors:** Agustina Pesce\n",
    "\n",
    "**Production editors:** TBD\n",
    "\n",
    "**Our 2023 Sponsors:** TBD\n",
    "\n"
   ]
  },
  {
   "attachments": {},
   "cell_type": "markdown",
   "id": "rQfHqoUveZyM",
   "metadata": {
    "execution": {}
   },
   "source": [
    "###**Code and Data Sources**\n",
    "\n",
    "Code and data for this tutorial is based on existing content from [Project Pythia](https://foundations.projectpythia.org/core/xarray/computation-masking.html)."
   ]
  },
  {
   "attachments": {},
   "cell_type": "markdown",
   "id": "tfnrWLSylttw",
   "metadata": {
    "execution": {}
   },
   "source": [
    "## **Tutorial 8 Objectives**\n",
    "\n",
    "One useful tool for assessing climate data is to masking, which allows you to filter elements of a dataset according to a specific condition and create a \"masked array\" in which the elements not fulfilling the condition will not be shown. This tool is helpful if you wish to, for example, only look at data greater or less than a certain value, or from a specific temporal or spatial range. For instance, when analyzing a map of global precipitation, we could mask regions that contain a value of mean annual precipitation above or below a specific value or range of values in order to assess wet and dry seasons. \n",
    "\n",
    "In this tutorial we will learn how to mask data with one condition, and will apply this to our map of global SST to assess the impacts of the ice-albedo feedback on polar SST."
   ]
  },
  {
   "attachments": {},
   "cell_type": "markdown",
   "id": "0af7bee1-3de3-453a-8ae8-bcd7910b4266",
   "metadata": {
    "execution": {},
    "tags": []
   },
   "source": [
    "## Imports\n"
   ]
  },
  {
   "cell_type": "code",
   "execution_count": null,
   "id": "xSOYBeS04qhx",
   "metadata": {
    "execution": {},
    "executionInfo": {
     "elapsed": 34639,
     "status": "ok",
     "timestamp": 1681573585972,
     "user": {
      "displayName": "Sloane Garelick",
      "userId": "04706287370408131987"
     },
     "user_tz": 240
    },
    "tags": [
     "colab"
    ]
   },
   "outputs": [],
   "source": [
    "# !pip install matplotlib.pyplot\n",
    "# !pip install numpy\n",
    "# !pip install xarray\n",
    "# !pip install pythia_datasets\n",
    "# !pip install pandas"
   ]
  },
  {
   "cell_type": "code",
   "execution_count": null,
   "id": "06073287-7bdb-45b5-9cec-8cdf123adb49",
   "metadata": {
    "execution": {},
    "executionInfo": {
     "elapsed": 1691,
     "status": "ok",
     "timestamp": 1681573592149,
     "user": {
      "displayName": "Sloane Garelick",
      "userId": "04706287370408131987"
     },
     "user_tz": 240
    }
   },
   "outputs": [],
   "source": [
    "import matplotlib.pyplot as plt\n",
    "import numpy as np\n",
    "import xarray as xr\n",
    "from pythia_datasets import DATASETS\n",
    "import pandas as pd"
   ]
  },
  {
   "attachments": {},
   "cell_type": "markdown",
   "id": "da76db37-e833-42c5-a740-5dcf0877b43c",
   "metadata": {
    "execution": {},
    "tags": []
   },
   "source": [
    "## Masking Data\n"
   ]
  },
  {
   "attachments": {},
   "cell_type": "markdown",
   "id": "8a657ca8-fa2d-409c-9aaf-580828671018",
   "metadata": {
    "execution": {},
    "tags": []
   },
   "source": [
    "Using the `xr.where()` or `.where()` method, elements of an xarray Dataset or xarray DataArray that satisfy a given condition or multiple conditions can be replaced/masked. To demonstrate this, we are going to use the `.where()` method on the `tos` DataArray that we've been using in the past few tutorials. "
   ]
  },
  {
   "attachments": {},
   "cell_type": "markdown",
   "id": "59a59bef-b08c-4e0f-a48a-894565a962e7",
   "metadata": {
    "execution": {}
   },
   "source": [
    "Let's load the same data that we used in the previous tutorial (monthly SST data from CESM2):"
   ]
  },
  {
   "cell_type": "code",
   "execution_count": null,
   "id": "7837f8bd-da89-4718-ab02-d5107576d2d6",
   "metadata": {
    "execution": {},
    "executionInfo": {
     "elapsed": 4386,
     "status": "ok",
     "timestamp": 1681573597967,
     "user": {
      "displayName": "Sloane Garelick",
      "userId": "04706287370408131987"
     },
     "user_tz": 240
    }
   },
   "outputs": [],
   "source": [
    "filepath = DATASETS.fetch('CESM2_sst_data.nc')\n",
    "ds = xr.open_dataset(filepath,decode_times=False)\n",
    "new_time = pd.date_range(start='2000-01-15', end='2014-12-15', periods=180)\n",
    "ds = ds.assign(time=new_time)\n",
    "ds"
   ]
  },
  {
   "attachments": {},
   "cell_type": "markdown",
   "id": "386c7a1b-1a47-4f52-a42d-27fa997427d3",
   "metadata": {
    "execution": {}
   },
   "source": [
    "### Using `where` with one condition"
   ]
  },
  {
   "attachments": {},
   "cell_type": "markdown",
   "id": "a8d48b6b-a40e-469f-861f-83d943d70f03",
   "metadata": {
    "execution": {}
   },
   "source": [
    "Let's say we want to analyze SST just from the last time in the dataset (2014-12-15). We can isolate this time using `.isel()`:"
   ]
  },
  {
   "cell_type": "code",
   "execution_count": null,
   "id": "ac3e42eb-1852-4580-9c52-e7237135ed01",
   "metadata": {
    "execution": {},
    "executionInfo": {
     "elapsed": 166,
     "status": "ok",
     "timestamp": 1681573604936,
     "user": {
      "displayName": "Sloane Garelick",
      "userId": "04706287370408131987"
     },
     "user_tz": 240
    }
   },
   "outputs": [],
   "source": [
    "sample = ds.tos.isel(time=-1)\n",
    "sample"
   ]
  },
  {
   "attachments": {},
   "cell_type": "markdown",
   "id": "ccdd1fa6-93fd-490d-8b05-c222ddcf953a",
   "metadata": {
    "execution": {}
   },
   "source": [
    "Now that we have our DataArray of the desired time period, we can use another function, `.where()` to filter elements according to a condition. The conditional expression in `.where()` can be a DataArray, a Dataset or a function. Indexing methods on xarray objects generally return a subset of the original data. However, it is sometimes useful to select an object with the same shape as the original data, but with some elements masked. Unlike `.isel()` and `.sel()` that change the shape of the returned results, `.where()` preserves the shape of the original data. It accomplishes this by returning values from the original DataArray or Dataset if the `condition` is `True`, and fills in values (by default `nan`) wherever the `condition` is `False`. Additional information can be found in the [`.where()` documentation](http://xarray.pydata.org/en/stable/generated/xarray.DataArray.where.html). \n",
    "\n",
    "Let's use `.where()` to mask locations with temperature values greater than `0`:"
   ]
  },
  {
   "cell_type": "code",
   "execution_count": null,
   "id": "61abc5b3-aadf-4a96-98a2-c9c36094a863",
   "metadata": {
    "execution": {},
    "executionInfo": {
     "elapsed": 159,
     "status": "ok",
     "timestamp": 1681573607537,
     "user": {
      "displayName": "Sloane Garelick",
      "userId": "04706287370408131987"
     },
     "user_tz": 240
    }
   },
   "outputs": [],
   "source": [
    "masked_sample = sample.where(sample < 0.0)\n",
    "masked_sample"
   ]
  },
  {
   "attachments": {},
   "cell_type": "markdown",
   "id": "09aeeee1-3924-4ccd-9b69-1be396c496b9",
   "metadata": {
    "execution": {}
   },
   "source": [
    "Let's plot both our original sample, and the masked sample:"
   ]
  },
  {
   "cell_type": "code",
   "execution_count": null,
   "id": "91457518-fc38-42e2-8b96-c5786e36f33f",
   "metadata": {
    "execution": {},
    "executionInfo": {
     "elapsed": 1272,
     "status": "ok",
     "timestamp": 1681573611080,
     "user": {
      "displayName": "Sloane Garelick",
      "userId": "04706287370408131987"
     },
     "user_tz": 240
    }
   },
   "outputs": [],
   "source": [
    "fig, axes = plt.subplots(ncols=2, figsize=(19, 6))\n",
    "sample.plot(ax=axes[0])\n",
    "masked_sample.plot(ax=axes[1]);"
   ]
  },
  {
   "attachments": {},
   "cell_type": "markdown",
   "id": "9770c1cb",
   "metadata": {},
   "source": [
    "Notice how only the SST from the areas where SST is below 0ºC is shown and the other areas are white since these are now NaN values. Now let's assess how polar SST has changed over the time period recorded by this dataset. To do so, we can run the same code but focus on the time 2000-03-15: "
   ]
  },
  {
   "cell_type": "code",
   "execution_count": null,
   "id": "eced16af",
   "metadata": {},
   "outputs": [],
   "source": [
    "sample_2 = ds.tos.isel(time=2) #2000-03-15\n",
    "masked_sample_2 = sample_2.where(sample_2 < 0.0)\n",
    "fig, axes = plt.subplots(ncols=2, figsize=(19, 6))\n",
    "masked_sample.plot(ax=axes[0])\n",
    "masked_sample_2.plot(ax=axes[1]);"
   ]
  },
  {
   "attachments": {},
   "cell_type": "markdown",
   "id": "20f73eb0",
   "metadata": {},
   "source": [
    "- What is similar and different between the SST maps from these two time periods?\n",
    "- How do the SST values compare?\n",
    "- How does the masked area compare? Is there less area masked (i.e., more areas warmer than 0ºC) during one time period than the other?\n",
    "- How might changes in the ice-albedo feedback be playing a role in what you observe?"
   ]
  }
 ],
 "metadata": {
  "colab": {
   "collapsed_sections": [],
   "include_colab_link": true,
   "name": "W1D1_Tutorial8",
   "provenance": [],
   "toc_visible": true
  },
  "kernel": {
   "display_name": "Python 3",
   "language": "python",
   "name": "python3"
  },
  "kernelspec": {
   "display_name": "Python 3 (ipykernel)",
   "language": "python",
   "name": "python3"
  },
  "language_info": {
   "codemirror_mode": {
    "name": "ipython",
    "version": 3
   },
   "file_extension": ".py",
   "mimetype": "text/x-python",
   "name": "python",
   "nbconvert_exporter": "python",
   "pygments_lexer": "ipython3",
   "version": "3.10.10"
  }
 },
 "nbformat": 4,
 "nbformat_minor": 5
}
