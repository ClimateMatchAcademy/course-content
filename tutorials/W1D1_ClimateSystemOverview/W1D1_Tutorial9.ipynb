{
 "cells": [
  {
   "cell_type": "markdown",
   "id": "GJtN30QLJnet",
   "metadata": {
    "execution": {}
   },
   "source": [
    "# **Tutorial 9: Masking with Multiple Conditions**\n",
    "\n",
    "**Week 1, Day 1, Introduction to the Climate System**\n",
    "\n",
    "**Content creators:** Sloane Garelick, Julia Kent\n",
    "\n",
    "**Content reviewers:** Danika Gupta, Younkap Nina Duplex \n",
    "\n",
    "**Content editors:** Agustina Pesce\n",
    "\n",
    "**Production editors:** TBD\n",
    "\n",
    "**Our 2023 Sponsors:** TBD\n",
    "\n"
   ]
  },
  {
   "cell_type": "markdown",
   "id": "rQfHqoUveZyM",
   "metadata": {
    "execution": {}
   },
   "source": [
    "###**Code and Data Sources**\n",
    "\n",
    "Code and data for this tutorial is based on existing content from [Project Pythia](https://foundations.projectpythia.org/core/xarray/computation-masking.html)."
   ]
  },
  {
   "attachments": {},
   "cell_type": "markdown",
   "id": "0KwcJyrEmsww",
   "metadata": {
    "execution": {}
   },
   "source": [
    "## **Tutorial 9 Objectives**\n",
    "\n",
    "In the previous tutorial, we masked data using one condition (areas where SST was above 0ºC). We can also mask data using multiple conditions. For example, we can mask data from regions outside a certain spatial area by providing constraints on the latitude and longitude. \n",
    "\n",
    "In this tutorial, we will practice masking data using multiple conditions in order to interpret SST in the tropical Pacific Ocean and begin to assess changes in the El Nino Southern Oscillation (ENSO)."
   ]
  },
  {
   "cell_type": "markdown",
   "id": "0af7bee1-3de3-453a-8ae8-bcd7910b4266",
   "metadata": {
    "execution": {},
    "tags": []
   },
   "source": [
    "## Imports\n"
   ]
  },
  {
   "cell_type": "code",
   "execution_count": null,
   "id": "06073287-7bdb-45b5-9cec-8cdf123adb49",
   "metadata": {
    "execution": {},
    "executionInfo": {
     "elapsed": 521,
     "status": "ok",
     "timestamp": 1681573817272,
     "user": {
      "displayName": "Sloane Garelick",
      "userId": "04706287370408131987"
     },
     "user_tz": 240
    }
   },
   "outputs": [],
   "source": [
    "import matplotlib.pyplot as plt\n",
    "import numpy as np\n",
    "import xarray as xr\n",
    "from pythia_datasets import DATASETS\n",
    "import pandas as pd"
   ]
  },
  {
   "cell_type": "markdown",
   "id": "9719db5b-e645-4815-b8df-d454fa7703e7",
   "metadata": {
    "execution": {}
   },
   "source": [
    "Let's load the same data that we used in the previous tutorial (monthly SST data from CESM2):"
   ]
  },
  {
   "cell_type": "code",
   "execution_count": null,
   "id": "7837f8bd-da89-4718-ab02-d5107576d2d6",
   "metadata": {
    "execution": {},
    "executionInfo": {
     "elapsed": 4331,
     "status": "ok",
     "timestamp": 1681573823172,
     "user": {
      "displayName": "Sloane Garelick",
      "userId": "04706287370408131987"
     },
     "user_tz": 240
    }
   },
   "outputs": [],
   "source": [
    "filepath = DATASETS.fetch('CESM2_sst_data.nc')\n",
    "ds = xr.open_dataset(filepath,decode_times=False)\n",
    "new_time = pd.date_range(start='2000-01-15', end='2014-12-15', periods=180)\n",
    "ds = ds.assign(time=new_time)"
   ]
  },
  {
   "cell_type": "markdown",
   "id": "4dd6b000-b079-461c-9a0e-8fd2bced814b",
   "metadata": {
    "execution": {},
    "tags": []
   },
   "source": [
    "### Using `where` with multiple conditions"
   ]
  },
  {
   "cell_type": "markdown",
   "id": "538bd497-3059-4f6e-9c48-5104958f8528",
   "metadata": {
    "execution": {}
   },
   "source": [
    "`.where()` allows providing multiple conditions. To do this, we need to make sure each conditional expression is enclosed in `()`. To combine conditions, we use the `bit-wise and` (`&`) operator and/or the `bit-wise or` (`|`). Let's use `.where()` to mask locations with temperature values less than 25 and greater than 30:"
   ]
  },
  {
   "cell_type": "code",
   "execution_count": null,
   "id": "c9bf1c46-e7ed-43c1-8a45-e03d22295da1",
   "metadata": {
    "execution": {},
    "executionInfo": {
     "elapsed": 624,
     "status": "ok",
     "timestamp": 1681573874480,
     "user": {
      "displayName": "Sloane Garelick",
      "userId": "04706287370408131987"
     },
     "user_tz": 240
    }
   },
   "outputs": [],
   "source": [
    "sample = ds.tos.isel(time=-1) #\n",
    "sample.where((sample > 25) & (sample < 30)).plot(size=6);"
   ]
  },
  {
   "attachments": {},
   "cell_type": "markdown",
   "id": "e1047138",
   "metadata": {},
   "source": [
    "### Using `where` with a custom fill value"
   ]
  },
  {
   "attachments": {},
   "cell_type": "markdown",
   "id": "74960d46",
   "metadata": {},
   "source": [
    "`.where()` can take a second argument, which, if supplied, defines a fill value for the masked region. Below we fill masked regions with a constant `0`:"
   ]
  },
  {
   "cell_type": "code",
   "execution_count": null,
   "id": "505bbd2d",
   "metadata": {},
   "outputs": [],
   "source": [
    "sample.where((sample > 25) & (sample < 30), 0).plot(size=6);"
   ]
  },
  {
   "attachments": {},
   "cell_type": "markdown",
   "id": "d016a386",
   "metadata": {},
   "source": [
    "### Using `where` with specific coordinates"
   ]
  },
  {
   "attachments": {},
   "cell_type": "markdown",
   "id": "d1796fc8-039b-4c40-a6f4-b3a00c130770",
   "metadata": {
    "execution": {}
   },
   "source": [
    "We can use coordinates to apply a mask as well. For example, we can use a mask to assess tropical Pacific SST associated with the El Nino Southern Oscillation (ENSO). As we learned in the video, ENSO is a climate phenomena that originates in the tropical Pacific ocean but has global impacts on atmospheric circulation, temperature and precipitation. The two phases of ENSO are El Niño (warmer than average SSTs in the central and eastern tropical Pacific Ocean) and La Niña (cooler than average SSTs in the central and eastern tropical Pacific Ocean). The Niño 3.4 region is an area in the centeral and eastern Pacific Ocean that is often used for determining the phase of ENSO. Below, we will use the `latitude` and `longitude` coordinates to mask everywhere outside of the [Niño 3.4 region](https://www.ncdc.noaa.gov/teleconnections/enso/indicators/sst/):\n",
    "\n",
    "![](https://www.ncdc.noaa.gov/monitoring-content/teleconnections/nino-regions.gif)\n",
    "\n"
   ]
  },
  {
   "cell_type": "code",
   "execution_count": null,
   "id": "090f1997-8dea-4eed-aa55-ab3a180ecdd5",
   "metadata": {
    "execution": {},
    "executionInfo": {
     "elapsed": 728,
     "status": "ok",
     "timestamp": 1681573881072,
     "user": {
      "displayName": "Sloane Garelick",
      "userId": "04706287370408131987"
     },
     "user_tz": 240
    }
   },
   "outputs": [],
   "source": [
    "sample.where(\n",
    "    (sample.lat < 5) & (sample.lat > -5) & (sample.lon > 190) & (sample.lon < 240)\n",
    ").plot(size=6);"
   ]
  },
  {
   "attachments": {},
   "cell_type": "markdown",
   "id": "b3dab758",
   "metadata": {},
   "source": [
    "- What do you observe about the SST in this region?\n",
    "- Do you think this was an El Nino year or a La Nina year?\n",
    "\n",
    "Now let's look at a time series of the data from this masked region. Rather than specifying a certain time period, we can mask all areas outside of the Nino 3.4 region and then take the spatial mean to assess changes in Nino 3.4 SST over this time period."
   ]
  },
  {
   "cell_type": "code",
   "execution_count": null,
   "id": "3e846a66",
   "metadata": {},
   "outputs": [],
   "source": [
    "nino = ds.tos.where(\n",
    "    (sample.lat < 5) & (sample.lat > -5) & (sample.lon > 190) & (sample.lon < 240)\n",
    ") \n",
    "\n",
    "nino_mean = ds.tos.mean(dim=['lat', 'lon'])\n",
    "nino_mean"
   ]
  },
  {
   "cell_type": "code",
   "execution_count": null,
   "id": "64fe5a2b",
   "metadata": {},
   "outputs": [],
   "source": [
    "nino_mean.plot()"
   ]
  },
  {
   "attachments": {},
   "cell_type": "markdown",
   "id": "c2468980",
   "metadata": {},
   "source": [
    "- What patterns do you observe in this SST time series for the Nino 3.4 region?\n",
    "- What might be causing the short-term annual variability?\n",
    "- What might be causing the long-term overall trend?\n",
    "\n",
    "Tomorrow and later this week, we'll learn more about ENSO and how modern climate change is impacting this climate phenomenon."
   ]
  }
 ],
 "metadata": {
  "colab": {
   "collapsed_sections": [],
   "include_colab_link": true,
   "name": "W1D1_Tutorial9",
   "provenance": [],
   "toc_visible": true
  },
  "kernel": {
   "display_name": "Python 3",
   "language": "python",
   "name": "python3"
  },
  "kernelspec": {
   "display_name": "Python 3 (pangeo)",
   "language": "python",
   "name": "pangeo"
  },
  "language_info": {
   "codemirror_mode": {
    "name": "ipython",
    "version": 3
   },
   "file_extension": ".py",
   "mimetype": "text/x-python",
   "name": "python",
   "nbconvert_exporter": "python",
   "pygments_lexer": "ipython3",
   "version": "3.10.10"
  }
 },
 "nbformat": 4,
 "nbformat_minor": 5
}
