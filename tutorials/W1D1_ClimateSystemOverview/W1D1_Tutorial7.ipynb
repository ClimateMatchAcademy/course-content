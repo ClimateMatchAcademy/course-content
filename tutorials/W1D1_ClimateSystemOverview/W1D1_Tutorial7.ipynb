{
 "cells": [
  {
   "attachments": {},
   "cell_type": "markdown",
   "id": "5yJKHFT3Dnmu",
   "metadata": {
    "execution": {}
   },
   "source": [
    "# **Tutorial 7: Other Computational Tools in Xarray**\n",
    "\n",
    "**Week 1, Day 1, Introduction to the Climate System**\n",
    "\n",
    "**Content creators:** Sloane Garelick, Julia Kent\n",
    "\n",
    "**Content reviewers:** Danika Gupta, Younkap Nina Duplex \n",
    "\n",
    "**Content editors:** Agustina Pesce\n",
    "\n",
    "**Production editors:** TBD\n",
    "\n",
    "**Our 2023 Sponsors:** TBD\n",
    "\n",
    "\n",
    "\n"
   ]
  },
  {
   "attachments": {},
   "cell_type": "markdown",
   "id": "rQfHqoUveZyM",
   "metadata": {
    "execution": {}
   },
   "source": [
    "###**Code and Data Sources**\n",
    "\n",
    "Code and data for this tutorial is based on existing content from [Project Pythia](https://foundations.projectpythia.org/core/xarray/computation-masking.html)."
   ]
  },
  {
   "attachments": {},
   "cell_type": "markdown",
   "id": "y8yIi1WBkwHB",
   "metadata": {
    "execution": {}
   },
   "source": [
    "## **Tutorial 7 Objectives**\n",
    "Thus far, we've learned about various climate processes in the videos, and we've explored tools in Xarray that are useful for analyzing and interpretting climate data. \n",
    "\n",
    "In this tutorial we'll continue using the SST data from CESM2 and we'll practice using some additional computational tools in Xarray to interpret climate data. Specifically, we will learn three tools that allow us to resample our data, which can help will data comparison and analysis.\n",
    "\n",
    "- `resample`: Groupby-like functionality specifically for time dimensions. Can be used for temporal upsampling and downsampling. Additional information about resampling in Xarray can be found [here].(https://xarray.pydata.org/en/stable/user-guide/time-series.html#resampling-and-grouped-operations)\n",
    "- `rolling`: Useful for computing aggregations on moving windows of your dataset e.g. computing moving averages. Additional information about resampling in Xarray can be found [here].(https://xarray.pydata.org/en/stable/user-guide/computation.html#rolling-window-operations)\n",
    "- `coarsen`: Generic functionality for downsampling data. Additional information about resampling in Xarray can be found [here].(https://xarray.pydata.org/en/stable/user-guide/computation.html#coarsen-large-arrays)"
   ]
  },
  {
   "attachments": {},
   "cell_type": "markdown",
   "id": "0af7bee1-3de3-453a-8ae8-bcd7910b4266",
   "metadata": {
    "execution": {},
    "tags": []
   },
   "source": [
    "## Imports\n"
   ]
  },
  {
   "cell_type": "code",
   "execution_count": null,
   "id": "xSOYBeS04qhx",
   "metadata": {
    "execution": {},
    "executionInfo": {
     "elapsed": 38311,
     "status": "ok",
     "timestamp": 1681565912490,
     "user": {
      "displayName": "Sloane Garelick",
      "userId": "04706287370408131987"
     },
     "user_tz": 240
    },
    "tags": [
     "colab"
    ]
   },
   "outputs": [],
   "source": [
    "# !pip install matplotlib.pyplot\n",
    "# !pip install numpy\n",
    "# !pip install xarray\n",
    "# !pip install pythia_datasets\n",
    "# !pip install pandas"
   ]
  },
  {
   "cell_type": "code",
   "execution_count": null,
   "id": "06073287-7bdb-45b5-9cec-8cdf123adb49",
   "metadata": {
    "execution": {}
   },
   "outputs": [],
   "source": [
    "import matplotlib.pyplot as plt\n",
    "import numpy as np\n",
    "import xarray as xr\n",
    "from pythia_datasets import DATASETS\n",
    "import pandas as pd"
   ]
  },
  {
   "attachments": {},
   "cell_type": "markdown",
   "id": "9719db5b-e645-4815-b8df-d454fa7703e7",
   "metadata": {
    "execution": {}
   },
   "source": [
    "Let's load the same data that we used in the previous tutorial (monthly SST data from CESM2):"
   ]
  },
  {
   "cell_type": "code",
   "execution_count": null,
   "id": "7837f8bd-da89-4718-ab02-d5107576d2d6",
   "metadata": {
    "execution": {}
   },
   "outputs": [],
   "source": [
    "filepath = DATASETS.fetch('CESM2_sst_data.nc')\n",
    "ds = xr.open_dataset(filepath,decode_times=False)\n",
    "new_time = pd.date_range(start='2000-01-15', end='2014-12-15', periods=180)\n",
    "ds = ds.assign(time=new_time)"
   ]
  },
  {
   "attachments": {},
   "cell_type": "markdown",
   "id": "eaf4dc7d-dfac-419e-a875-fc0c70fcd08c",
   "metadata": {
    "execution": {}
   },
   "source": [
    "### Resampling data\n",
    "\n",
    "For upsampling or downsampling temporal resolutions, we can use the `resample()` method in Xarray.  For example, you can use this function to downsample a dataset from hourly to 6-hourly resolution.\n",
    "\n",
    "Our original SST data is monthly resolution. Let's use `resample()` to downsample to annual frequency:"
   ]
  },
  {
   "cell_type": "code",
   "execution_count": null,
   "id": "a9cfb76b-c4ab-441e-a474-c66b7af944ad",
   "metadata": {
    "execution": {},
    "executionInfo": {
     "elapsed": 499,
     "status": "ok",
     "timestamp": 1681569618680,
     "user": {
      "displayName": "Sloane Garelick",
      "userId": "04706287370408131987"
     },
     "user_tz": 240
    }
   },
   "outputs": [],
   "source": [
    "#Resample to an annual frequency\n",
    "r = ds.tos.resample(time='AS')\n",
    "r"
   ]
  },
  {
   "cell_type": "code",
   "execution_count": null,
   "id": "6927f5be-d313-4d03-bab8-d22b3cb13899",
   "metadata": {
    "execution": {},
    "executionInfo": {
     "elapsed": 312,
     "status": "ok",
     "timestamp": 1681569621935,
     "user": {
      "displayName": "Sloane Garelick",
      "userId": "04706287370408131987"
     },
     "user_tz": 240
    }
   },
   "outputs": [],
   "source": [
    "#Calculate the global mean of the resampled data\n",
    "annual_mean = r.mean()\n",
    "annual_mean_global = annual_mean.mean(dim=['lat', 'lon'])\n",
    "annual_mean_global.plot()"
   ]
  },
  {
   "attachments": {},
   "cell_type": "markdown",
   "id": "a373cb9e",
   "metadata": {},
   "source": [
    "### Moving average\n",
    "\n",
    "The `rolling()` method allows for a rolling window aggregation and is applied along one dimension using the name of the dimension as a key (e.g. time) and the window size as the value (e.g. 6).\n",
    "\n",
    "Let's use the `rolling()` function to compute a 6-month moving average of our SST data:"
   ]
  },
  {
   "cell_type": "code",
   "execution_count": null,
   "id": "342acbf1-4eee-4d0d-bb52-b394ffcd556d",
   "metadata": {
    "execution": {},
    "executionInfo": {
     "elapsed": 791,
     "status": "ok",
     "timestamp": 1681569626067,
     "user": {
      "displayName": "Sloane Garelick",
      "userId": "04706287370408131987"
     },
     "user_tz": 240
    }
   },
   "outputs": [],
   "source": [
    "#Calculate the running mean\n",
    "m_avg = ds.tos.rolling(time=6, center=True).mean()\n",
    "m_avg"
   ]
  },
  {
   "cell_type": "code",
   "execution_count": null,
   "id": "0eb0cc4e-661a-4ab1-96ad-e096917ef104",
   "metadata": {
    "execution": {},
    "executionInfo": {
     "elapsed": 1333,
     "status": "ok",
     "timestamp": 1681569630104,
     "user": {
      "displayName": "Sloane Garelick",
      "userId": "04706287370408131987"
     },
     "user_tz": 240
    }
   },
   "outputs": [],
   "source": [
    "#Calculate the global average of the running mean\n",
    "m_avg_global = m_avg.mean(dim=['lat','lon'])\n",
    "m_avg_global.plot()"
   ]
  },
  {
   "attachments": {},
   "cell_type": "markdown",
   "id": "0c719e22",
   "metadata": {},
   "source": [
    "### Coarsening the data\n",
    "\n",
    "The `coarsen()` function allows for block aggregation along multiple dimensions. For example, you could take a block mean for every 7 days along time dimension and every 2 points along x dimension.\n",
    "\n",
    "Let's use the `coarsen()` function to take a block mean for every 4 months and globally (i.e., 180 points along the latitude dimension and 360 points along the longitude dimension):"
   ]
  },
  {
   "cell_type": "code",
   "execution_count": null,
   "id": "118df2c7",
   "metadata": {},
   "outputs": [],
   "source": [
    "#Coarsen the data\n",
    "coarse_data = ds.coarsen(time=4,lat=180,lon=360).mean()\n",
    "coarse_data"
   ]
  },
  {
   "cell_type": "code",
   "execution_count": null,
   "id": "f0b9ef33",
   "metadata": {},
   "outputs": [],
   "source": [
    "coarse_data.tos.plot()"
   ]
  },
  {
   "attachments": {},
   "cell_type": "markdown",
   "id": "6f93092b",
   "metadata": {},
   "source": [
    "### Compare the resampling methods\n",
    "\n",
    "Now that we've tried multiple resampling methods on different temporal resolutions, we can compare the resampled datasets to the original."
   ]
  },
  {
   "cell_type": "code",
   "execution_count": null,
   "id": "1517017a",
   "metadata": {},
   "outputs": [],
   "source": [
    "original_global = ds.mean(dim=['lat', 'lon'])"
   ]
  },
  {
   "cell_type": "code",
   "execution_count": null,
   "id": "daf709a8",
   "metadata": {},
   "outputs": [],
   "source": [
    "original_global.tos.plot(size=6)\n",
    "coarse_data_global.tos.plot()\n",
    "m_avg_global.plot()\n",
    "annual_mean_global.plot()\n",
    "\n",
    "\n",
    "plt.legend(['original data (monthly)','coarsened (4 months)','moving average (6 months)', 'annually resampled (12 months)']);"
   ]
  },
  {
   "attachments": {},
   "cell_type": "markdown",
   "id": "fbbb74f6",
   "metadata": {},
   "source": [
    "- What type of information can you obtain from each time series?\n",
    "- In what scenarios would you use different temporal resolutions?\n",
    "- What conclusions about the monthly, annual and decadal variability in global SST can you draw from this plot?"
   ]
  }
 ],
 "metadata": {
  "colab": {
   "collapsed_sections": [],
   "include_colab_link": true,
   "name": "W1D1_Tutorial7",
   "provenance": [],
   "toc_visible": true
  },
  "kernel": {
   "display_name": "Python 3",
   "language": "python",
   "name": "python3"
  },
  "kernelspec": {
   "display_name": "Python 3 (ipykernel)",
   "language": "python",
   "name": "python3"
  },
  "language_info": {
   "codemirror_mode": {
    "name": "ipython",
    "version": 3
   },
   "file_extension": ".py",
   "mimetype": "text/x-python",
   "name": "python",
   "nbconvert_exporter": "python",
   "pygments_lexer": "ipython3",
   "version": "3.10.10"
  }
 },
 "nbformat": 4,
 "nbformat_minor": 5
}
