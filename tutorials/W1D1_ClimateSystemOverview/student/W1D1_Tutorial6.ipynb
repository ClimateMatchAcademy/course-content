{
 "cells": [
  {
   "cell_type": "markdown",
   "id": "s2ACfZ9jIXrv",
   "metadata": {
    "execution": {}
   },
   "source": [
    "# **Tutorial 6: Compute and Plot Temperature Anomalies**\n",
    "\n",
    "**Week 1, Day 1, Introduction to the Climate System**\n",
    "\n",
    "**Content creators:** Sloane Garelick, Julia Kent\n",
    "\n",
    "**Content reviewers:** Danika Gupta, Younkap Nina Duplex \n",
    "\n",
    "**Content editors:** Agustina Pesce\n",
    "\n",
    "**Production editors:** TBD\n",
    "\n",
    "**Our 2023 Sponsors:** TBD\n",
    "\n",
    "\n"
   ]
  },
  {
   "cell_type": "markdown",
   "id": "rQfHqoUveZyM",
   "metadata": {
    "execution": {}
   },
   "source": [
    "###**Code and Data Sources**\n",
    "\n",
    "Code and data for this tutorial is based on existing content from [Project Pythia](https://foundations.projectpythia.org/core/xarray/computation-masking.html)."
   ]
  },
  {
   "cell_type": "markdown",
   "id": "LZmCPoGUjyUv",
   "metadata": {
    "execution": {}
   },
   "source": [
    "## **Tutorial 6 Objectives**\n",
    "Recent and future temperature change is often presented as an anomaly relative to a past climate state or historical period. For example, past and future temperature changes relative to pre-industrial average temperature is a common comparison. In this tutorial, we’ll compute and plot the global temperature anomaly over the past 20 years."
   ]
  },
  {
   "cell_type": "markdown",
   "id": "0af7bee1-3de3-453a-8ae8-bcd7910b4266",
   "metadata": {
    "execution": {},
    "tags": []
   },
   "source": [
    "## Imports\n"
   ]
  },
  {
   "cell_type": "code",
   "execution_count": null,
   "id": "xSOYBeS04qhx",
   "metadata": {
    "execution": {},
    "executionInfo": {
     "elapsed": 38311,
     "status": "ok",
     "timestamp": 1681565912490,
     "user": {
      "displayName": "Sloane Garelick",
      "userId": "04706287370408131987"
     },
     "user_tz": 240
    }
   },
   "outputs": [],
   "source": [
    "!pip install matplotlib.pyplot\n",
    "!pip install numpy\n",
    "!pip install xarray\n",
    "!pip install pythia_datasets\n",
    "!pip install pandas"
   ]
  },
  {
   "cell_type": "code",
   "execution_count": null,
   "id": "06073287-7bdb-45b5-9cec-8cdf123adb49",
   "metadata": {
    "execution": {}
   },
   "outputs": [],
   "source": [
    "import matplotlib.pyplot as plt\n",
    "import numpy as np\n",
    "import xarray as xr\n",
    "from pythia_datasets import DATASETS\n",
    "import pandas as pd"
   ]
  },
  {
   "cell_type": "markdown",
   "id": "9719db5b-e645-4815-b8df-d454fa7703e7",
   "metadata": {
    "execution": {}
   },
   "source": [
    "Let's load the same data that we used in the previous tutorial (monthly SST data from CESM2):"
   ]
  },
  {
   "cell_type": "code",
   "execution_count": null,
   "id": "7837f8bd-da89-4718-ab02-d5107576d2d6",
   "metadata": {
    "execution": {},
    "executionInfo": {
     "elapsed": 303,
     "status": "ok",
     "timestamp": 1681569406112,
     "user": {
      "displayName": "Sloane Garelick",
      "userId": "04706287370408131987"
     },
     "user_tz": 240
    }
   },
   "outputs": [],
   "source": [
    "filepath = DATASETS.fetch('CESM2_sst_data.nc')\n",
    "ds = xr.open_dataset(filepath,decode_times=False)\n",
    "new_time = pd.date_range(start='2000-01-15', end='2014-12-15', periods=180)\n",
    "ds = ds.assign(time=new_time)"
   ]
  },
  {
   "cell_type": "markdown",
   "id": "266b8130-ca7d-4aec-a9a2-d7281ad64425",
   "metadata": {
    "execution": {}
   },
   "source": [
    "#### Compute anomaly\n",
    "\n",
    "Now let's combine the previous steps to compute climatology and use xarray's `groupby` arithmetic to remove this climatology from our original data:"
   ]
  },
  {
   "cell_type": "code",
   "execution_count": null,
   "id": "4c9940df-5174-49bf-9117-eef1e14abec0",
   "metadata": {
    "execution": {},
    "executionInfo": {
     "elapsed": 303,
     "status": "ok",
     "timestamp": 1681569588942,
     "user": {
      "displayName": "Sloane Garelick",
      "userId": "04706287370408131987"
     },
     "user_tz": 240
    }
   },
   "outputs": [],
   "source": [
    "gb = ds.tos.groupby('time.month')\n",
    "tos_anom = gb - gb.mean(dim='time')\n",
    "tos_anom"
   ]
  },
  {
   "cell_type": "code",
   "execution_count": null,
   "id": "35fc2054-df48-4ea2-8433-632ba8755c61",
   "metadata": {
    "execution": {},
    "executionInfo": {
     "elapsed": 970,
     "status": "ok",
     "timestamp": 1681569593750,
     "user": {
      "displayName": "Sloane Garelick",
      "userId": "04706287370408131987"
     },
     "user_tz": 240
    }
   },
   "outputs": [],
   "source": [
    "tos_anom.sel(lon=310, lat=50, method='nearest').plot();"
   ]
  },
  {
   "cell_type": "markdown",
   "id": "c3c087dc-966d-48a0-bb99-ca63cf20ff05",
   "metadata": {
    "execution": {}
   },
   "source": [
    "Let's compute and visualize the mean global anomaly over time. We need to specify both `lat` and `lon` dimensions in the `dim` argument to `mean()`:"
   ]
  },
  {
   "cell_type": "code",
   "execution_count": null,
   "id": "5d3abf06-a341-45ac-a3f2-76131016c0b3",
   "metadata": {
    "execution": {},
    "executionInfo": {
     "elapsed": 661,
     "status": "ok",
     "timestamp": 1681569602365,
     "user": {
      "displayName": "Sloane Garelick",
      "userId": "04706287370408131987"
     },
     "user_tz": 240
    }
   },
   "outputs": [],
   "source": [
    "unweighted_mean_global_anom = tos_anom.mean(dim=['lat', 'lon'])\n",
    "unweighted_mean_global_anom.plot();"
   ]
  },
  {
   "cell_type": "markdown",
   "id": "d9f768be-a960-4417-bb1e-9785ca9ca4ea",
   "metadata": {
    "execution": {}
   },
   "source": [
    "<div class=\"admonition alert alert-warning\">\n",
    "   \n",
    "\n",
    "An operation which combines grid cells of different size is not scientifically valid unless each cell is weighted by the size of the grid cell. Xarray has a convenient [`.weighted()`](https://xarray.pydata.org/en/stable/user-guide/computation.html#weighted-array-reductions) method to accomplish this\n",
    "\n",
    "</div>\n"
   ]
  },
  {
   "cell_type": "markdown",
   "id": "908bcc38-bf93-478c-99e4-8bbafeec1f21",
   "metadata": {
    "execution": {}
   },
   "source": [
    "Let's first load the cell area data from another CESM2 dataset that contains the weights for the grid cells:"
   ]
  },
  {
   "cell_type": "code",
   "execution_count": null,
   "id": "a5878de6-f3ab-43e0-8f0d-12ab51631450",
   "metadata": {
    "execution": {},
    "executionInfo": {
     "elapsed": 1450,
     "status": "ok",
     "timestamp": 1681569607108,
     "user": {
      "displayName": "Sloane Garelick",
      "userId": "04706287370408131987"
     },
     "user_tz": 240
    }
   },
   "outputs": [],
   "source": [
    "filepath2 = DATASETS.fetch('CESM2_grid_variables.nc')\n",
    "areacello = xr.open_dataset(filepath2).areacello\n",
    "areacello"
   ]
  },
  {
   "cell_type": "markdown",
   "id": "8a73a748-46b4-4350-b167-32725eebaec8",
   "metadata": {
    "execution": {}
   },
   "source": [
    "As before, let's calculate area-weighted mean global anomaly:"
   ]
  },
  {
   "cell_type": "code",
   "execution_count": null,
   "id": "b8f7e3a5-0748-4395-95b0-0e31d0a5d4d1",
   "metadata": {
    "execution": {}
   },
   "outputs": [],
   "source": [
    "weighted_mean_global_anom = tos_anom.weighted(areacello).mean(dim=['lat', 'lon'])"
   ]
  },
  {
   "cell_type": "markdown",
   "id": "17da2e3a-3ca6-41f4-892e-b26021c492e6",
   "metadata": {
    "execution": {}
   },
   "source": [
    "Let's plot both unweighted and weighted means:"
   ]
  },
  {
   "cell_type": "code",
   "execution_count": null,
   "id": "802c5e99-7223-49b5-a867-91d943075d52",
   "metadata": {
    "execution": {},
    "executionInfo": {
     "elapsed": 985,
     "status": "ok",
     "timestamp": 1681569614744,
     "user": {
      "displayName": "Sloane Garelick",
      "userId": "04706287370408131987"
     },
     "user_tz": 240
    }
   },
   "outputs": [],
   "source": [
    "unweighted_mean_global_anom.plot(size=7)\n",
    "weighted_mean_global_anom.plot()\n",
    "plt.legend(['unweighted', 'weighted']);"
   ]
  }
 ],
 "metadata": {
  "colab": {
   "collapsed_sections": [],
   "include_colab_link": true,
   "name": "W1D1_Tutorial6",
   "provenance": [],
   "toc_visible": true
  },
  "kernel": {
   "display_name": "Python 3",
   "language": "python",
   "name": "python3"
  },
  "kernelspec": {
   "display_name": "Python 3 (ipykernel)",
   "language": "python",
   "name": "python3"
  },
  "language_info": {
   "codemirror_mode": {
    "name": "ipython",
    "version": 3
   },
   "file_extension": ".py",
   "mimetype": "text/x-python",
   "name": "python",
   "nbconvert_exporter": "python",
   "pygments_lexer": "ipython3",
   "version": "3.10.10"
  }
 },
 "nbformat": 4,
 "nbformat_minor": 5
}