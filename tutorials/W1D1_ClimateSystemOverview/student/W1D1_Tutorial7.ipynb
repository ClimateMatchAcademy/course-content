{
 "cells": [
  {
   "cell_type": "markdown",
   "id": "5yJKHFT3Dnmu",
   "metadata": {
    "execution": {}
   },
   "source": [
    "# **Tutorial 7: Other Computational Tools in Xarray**\n",
    "\n",
    "**Week 1, Day 1, Introduction to the Climate System**\n",
    "\n",
    "**Content creators:** Sloane Garelick, Julia Kent\n",
    "\n",
    "**Content reviewers:** Danika Gupta, Younkap Nina Duplex \n",
    "\n",
    "**Content editors:** Agustina Pesce\n",
    "\n",
    "**Production editors:** TBD\n",
    "\n",
    "**Our 2023 Sponsors:** TBD\n",
    "\n",
    "\n",
    "\n"
   ]
  },
  {
   "cell_type": "markdown",
   "id": "rQfHqoUveZyM",
   "metadata": {
    "execution": {}
   },
   "source": [
    "###**Code and Data Sources**\n",
    "\n",
    "Code and data for this tutorial is based on existing content from [Project Pythia](https://foundations.projectpythia.org/core/xarray/computation-masking.html)."
   ]
  },
  {
   "cell_type": "markdown",
   "id": "y8yIi1WBkwHB",
   "metadata": {
    "execution": {}
   },
   "source": [
    "## **Tutorial 7 Objectives**\n",
    "Thus far, we've looked at various types of climate data both in the coding exercises and in the introductory videos. Climate data can sometimes be noisy and variable, making it difficult to compare to other datasets and interpret long-term trends. In this tutorial we will practice using additional computational tools in Xarray (e.g., calculating a running average) to interpret climate data."
   ]
  },
  {
   "cell_type": "markdown",
   "id": "0af7bee1-3de3-453a-8ae8-bcd7910b4266",
   "metadata": {
    "execution": {},
    "tags": []
   },
   "source": [
    "## Imports\n"
   ]
  },
  {
   "cell_type": "code",
   "execution_count": null,
   "id": "xSOYBeS04qhx",
   "metadata": {
    "execution": {},
    "executionInfo": {
     "elapsed": 38311,
     "status": "ok",
     "timestamp": 1681565912490,
     "user": {
      "displayName": "Sloane Garelick",
      "userId": "04706287370408131987"
     },
     "user_tz": 240
    }
   },
   "outputs": [],
   "source": [
    "!pip install matplotlib.pyplot\n",
    "!pip install numpy\n",
    "!pip install xarray\n",
    "!pip install pythia_datasets\n",
    "!pip install pandas"
   ]
  },
  {
   "cell_type": "code",
   "execution_count": null,
   "id": "06073287-7bdb-45b5-9cec-8cdf123adb49",
   "metadata": {
    "execution": {}
   },
   "outputs": [],
   "source": [
    "import matplotlib.pyplot as plt\n",
    "import numpy as np\n",
    "import xarray as xr\n",
    "from pythia_datasets import DATASETS\n",
    "import pandas as pd"
   ]
  },
  {
   "cell_type": "markdown",
   "id": "9719db5b-e645-4815-b8df-d454fa7703e7",
   "metadata": {
    "execution": {}
   },
   "source": [
    "Let's load the same data that we used in the previous tutorial (monthly SST data from CESM2):"
   ]
  },
  {
   "cell_type": "code",
   "execution_count": null,
   "id": "7837f8bd-da89-4718-ab02-d5107576d2d6",
   "metadata": {
    "execution": {}
   },
   "outputs": [],
   "source": [
    "filepath = DATASETS.fetch('CESM2_sst_data.nc')\n",
    "ds = xr.open_dataset(filepath,decode_times=False)\n",
    "new_time = pd.date_range(start='2000-01-15', end='2014-12-15', periods=180)\n",
    "ds = ds.assign(time=new_time)"
   ]
  },
  {
   "cell_type": "markdown",
   "id": "3045c67e-21cd-4ef9-a49f-e12ae7db23cf",
   "metadata": {
    "execution": {},
    "tags": []
   },
   "source": [
    "## Other high level computation functionality\n",
    "\n",
    "- `resample`: [Groupby-like functionality specifialized for time dimensions. Can be used for temporal upsampling and downsampling](https://xarray.pydata.org/en/stable/user-guide/time-series.html#resampling-and-grouped-operations)\n",
    "- `rolling`: [Useful for computing aggregations on moving windows of your dataset e.g. computing moving averages](https://xarray.pydata.org/en/stable/user-guide/computation.html#rolling-window-operations)\n",
    "- `coarsen`: [Generic functionality for downsampling data](https://xarray.pydata.org/en/stable/user-guide/computation.html#coarsen-large-arrays)\n",
    "\n"
   ]
  },
  {
   "cell_type": "markdown",
   "id": "eaf4dc7d-dfac-419e-a875-fc0c70fcd08c",
   "metadata": {
    "execution": {}
   },
   "source": [
    "For example, resample to annual frequency:"
   ]
  },
  {
   "cell_type": "code",
   "execution_count": null,
   "id": "a9cfb76b-c4ab-441e-a474-c66b7af944ad",
   "metadata": {
    "execution": {},
    "executionInfo": {
     "elapsed": 499,
     "status": "ok",
     "timestamp": 1681569618680,
     "user": {
      "displayName": "Sloane Garelick",
      "userId": "04706287370408131987"
     },
     "user_tz": 240
    }
   },
   "outputs": [],
   "source": [
    "r = ds.tos.resample(time='AS')\n",
    "r"
   ]
  },
  {
   "cell_type": "code",
   "execution_count": null,
   "id": "6927f5be-d313-4d03-bab8-d22b3cb13899",
   "metadata": {
    "execution": {},
    "executionInfo": {
     "elapsed": 312,
     "status": "ok",
     "timestamp": 1681569621935,
     "user": {
      "displayName": "Sloane Garelick",
      "userId": "04706287370408131987"
     },
     "user_tz": 240
    }
   },
   "outputs": [],
   "source": [
    "r.mean()"
   ]
  },
  {
   "cell_type": "markdown",
   "id": "32370e4f-a1c4-4163-a926-b9e3a8d6d5c2",
   "metadata": {
    "execution": {}
   },
   "source": [
    "Compute a 5-month moving average:"
   ]
  },
  {
   "cell_type": "code",
   "execution_count": null,
   "id": "342acbf1-4eee-4d0d-bb52-b394ffcd556d",
   "metadata": {
    "execution": {},
    "executionInfo": {
     "elapsed": 791,
     "status": "ok",
     "timestamp": 1681569626067,
     "user": {
      "displayName": "Sloane Garelick",
      "userId": "04706287370408131987"
     },
     "user_tz": 240
    }
   },
   "outputs": [],
   "source": [
    "m_avg = ds.tos.rolling(time=5, center=True).mean()\n",
    "m_avg"
   ]
  },
  {
   "cell_type": "code",
   "execution_count": null,
   "id": "0eb0cc4e-661a-4ab1-96ad-e096917ef104",
   "metadata": {
    "execution": {},
    "executionInfo": {
     "elapsed": 1333,
     "status": "ok",
     "timestamp": 1681569630104,
     "user": {
      "displayName": "Sloane Garelick",
      "userId": "04706287370408131987"
     },
     "user_tz": 240
    }
   },
   "outputs": [],
   "source": [
    "lat = 50\n",
    "lon = 310\n",
    "\n",
    "m_avg.isel(lat=lat, lon=lon).plot(size=6)\n",
    "ds.tos.isel(lat=lat, lon=lon).plot()\n",
    "plt.legend(['5-month moving average', 'monthly data']);"
   ]
  }
 ],
 "metadata": {
  "colab": {
   "collapsed_sections": [],
   "include_colab_link": true,
   "name": "W1D1_Tutorial7",
   "provenance": [],
   "toc_visible": true
  },
  "kernel": {
   "display_name": "Python 3",
   "language": "python",
   "name": "python3"
  },
  "kernelspec": {
   "display_name": "Python 3 (ipykernel)",
   "language": "python",
   "name": "python3"
  },
  "language_info": {
   "codemirror_mode": {
    "name": "ipython",
    "version": 3
   },
   "file_extension": ".py",
   "mimetype": "text/x-python",
   "name": "python",
   "nbconvert_exporter": "python",
   "pygments_lexer": "ipython3",
   "version": "3.10.10"
  }
 },
 "nbformat": 4,
 "nbformat_minor": 5
}