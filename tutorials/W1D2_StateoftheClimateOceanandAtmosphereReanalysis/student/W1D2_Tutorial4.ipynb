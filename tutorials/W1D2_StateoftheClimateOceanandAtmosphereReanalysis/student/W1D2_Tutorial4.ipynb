{
 "cells": [
  {
   "cell_type": "markdown",
   "metadata": {
    "execution": {}
   },
   "source": [
    "- brief slides on large-scale atmospheric dynamics (&lt;5min slides)\n",
    "-----------------------------------"
   ]
  },
  {
   "cell_type": "markdown",
   "metadata": {
    "execution": {},
    "tags": []
   },
   "source": [
    "# Tutorial 4: Ocean wind driven circulation\n",
    "\n",
    "**Week 1, Day 2: State of the Climate - Ocean and Atmospheric Reanalysis**\n",
    "**By Neuromatch Academy**\n",
    "\n",
    "__Content creators:__   Abigail Bodner,   Day Lead's Name\n",
    "\n",
    "__Content reviewers:__  Name Surname, Name Surname\n",
    "\n",
    "__Content editors:__   Jenna Pearson, Brodie Pearson\n",
    "\n",
    "__Production editors:__ Name Surname, Name Surname"
   ]
  },
  {
   "cell_type": "markdown",
   "metadata": {
    "execution": {}
   },
   "source": [
    "**Our 2023 Sponsors**\n",
    "\n",
    "<!-- <p align='center'><img src='https://github.com/NeuromatchAcademy/widgets/blob/master/sponsors.png?raw=True'/></p> -->"
   ]
  },
  {
   "cell_type": "markdown",
   "metadata": {
    "execution": {}
   },
   "source": [
    "### Tutorial Objectives\n",
    "\n",
    "The ocean's motion is driven by radiation from the sun, winds, and various sources of fresh water  (precipitation, rivers, melting and freezing ice). This tutorial focuses on global atmospheric wind patterns and how these drive the \"*wind driven circulation*\" component of large-scale ocean currents. The wind driven circulation is important for coastal communities and climate. It impacts the ocean temperature and upwelling systems along many coast lines and influences weather on many timescales. At the end of this tutorial you will be able to \n",
    "\n",
    "a) access and select ocean reanalysis data data \n",
    "\n",
    "b) plot average surface currents \n",
    "\n",
    "c) compare with global winds from a previous tutorial\n",
    "\n",
    "\n",
    "For this tutorial we will use the *Estimating the Circulation and Climate of the Ocean (ECCO)* dataset, which makes the best possible estimates of ocean circulation and its role in climate (https://www.ecco-group.org/)."
   ]
  },
  {
   "cell_type": "markdown",
   "metadata": {},
   "source": [
    "####  Tutorial slides\n"
   ]
  },
  {
   "cell_type": "markdown",
   "metadata": {},
   "source": [
    " These are the slides for the videos in all tutorials today\n"
   ]
  },
  {
   "cell_type": "markdown",
   "metadata": {},
   "source": [
    "#####  Tutorial slides\n"
   ]
  },
  {
   "cell_type": "markdown",
   "metadata": {},
   "source": [
    " These are the slides for the videos in all tutorials today\n"
   ]
  },
  {
   "cell_type": "markdown",
   "metadata": {},
   "source": [
    "######  Tutorial slides\n"
   ]
  },
  {
   "cell_type": "markdown",
   "metadata": {},
   "source": [
    " These are the slides for the videos in all tutorials today\n"
   ]
  },
  {
   "cell_type": "markdown",
   "metadata": {},
   "source": [
    "#######  Tutorial slides\n"
   ]
  },
  {
   "cell_type": "markdown",
   "metadata": {},
   "source": [
    " These are the slides for the videos in all tutorials today\n"
   ]
  },
  {
   "cell_type": "markdown",
   "metadata": {},
   "source": [
    "########  Tutorial slides\n"
   ]
  },
  {
   "cell_type": "markdown",
   "metadata": {},
   "source": [
    " These are the slides for the videos in all tutorials today\n"
   ]
  },
  {
   "cell_type": "markdown",
   "metadata": {},
   "source": [
    "#########  Tutorial slides\n"
   ]
  },
  {
   "cell_type": "markdown",
   "metadata": {},
   "source": [
    " These are the slides for the videos in all tutorials today\n"
   ]
  },
  {
   "cell_type": "markdown",
   "metadata": {},
   "source": [
    "##########  Tutorial slides\n"
   ]
  },
  {
   "cell_type": "markdown",
   "metadata": {},
   "source": [
    " These are the slides for the videos in all tutorials today\n"
   ]
  },
  {
   "cell_type": "markdown",
   "metadata": {},
   "source": [
    "###########  Tutorial slides\n"
   ]
  },
  {
   "cell_type": "markdown",
   "metadata": {},
   "source": [
    " These are the slides for the videos in all tutorials today\n"
   ]
  },
  {
   "cell_type": "markdown",
   "metadata": {},
   "source": [
    "############  Tutorial slides\n"
   ]
  },
  {
   "cell_type": "markdown",
   "metadata": {},
   "source": [
    " These are the slides for the videos in all tutorials today\n"
   ]
  },
  {
   "cell_type": "markdown",
   "metadata": {},
   "source": [
    "#############  Tutorial slides\n"
   ]
  },
  {
   "cell_type": "markdown",
   "metadata": {},
   "source": [
    " These are the slides for the videos in all tutorials today\n"
   ]
  },
  {
   "cell_type": "markdown",
   "metadata": {},
   "source": [
    "##############  Tutorial slides\n"
   ]
  },
  {
   "cell_type": "markdown",
   "metadata": {},
   "source": [
    " These are the slides for the videos in all tutorials today\n"
   ]
  },
  {
   "cell_type": "markdown",
   "metadata": {},
   "source": [
    "###############  Tutorial slides\n"
   ]
  },
  {
   "cell_type": "markdown",
   "metadata": {},
   "source": [
    " These are the slides for the videos in all tutorials today\n"
   ]
  },
  {
   "cell_type": "markdown",
   "metadata": {},
   "source": [
    "################  Tutorial slides\n"
   ]
  },
  {
   "cell_type": "markdown",
   "metadata": {},
   "source": [
    " These are the slides for the videos in all tutorials today\n"
   ]
  },
  {
   "cell_type": "markdown",
   "metadata": {},
   "source": [
    "#################  Tutorial slides\n"
   ]
  },
  {
   "cell_type": "markdown",
   "metadata": {},
   "source": [
    " These are the slides for the videos in all tutorials today\n"
   ]
  },
  {
   "cell_type": "markdown",
   "metadata": {},
   "source": [
    "##################  Tutorial slides\n"
   ]
  },
  {
   "cell_type": "markdown",
   "metadata": {},
   "source": [
    " These are the slides for the videos in all tutorials today\n"
   ]
  },
  {
   "cell_type": "markdown",
   "metadata": {},
   "source": [
    "###################  Tutorial slides\n"
   ]
  },
  {
   "cell_type": "markdown",
   "metadata": {},
   "source": [
    " These are the slides for the videos in all tutorials today\n"
   ]
  },
  {
   "cell_type": "markdown",
   "metadata": {},
   "source": [
    "####################  Tutorial slides\n"
   ]
  },
  {
   "cell_type": "markdown",
   "metadata": {},
   "source": [
    " These are the slides for the videos in all tutorials today\n"
   ]
  },
  {
   "cell_type": "code",
   "execution_count": null,
   "metadata": {
    "cellView": "form",
    "execution": {},
    "executionInfo": {
     "elapsed": 92,
     "status": "ok",
     "timestamp": 1682815037880,
     "user": {
      "displayName": "Abigail Bodner",
      "userId": "16617086768288510233"
     },
     "user_tz": 240
    },
    "tags": [
     "remove-input"
    ]
   },
   "outputs": [],
   "source": [
    "# @title Tutorial slides\n",
    "\n",
    "# @markdown These are the slides for the videos in all tutorials today\n",
    "from IPython.display import IFrame\n",
    "#IFrame(src=f\"path-to-video\", width=854, height=480)"
   ]
  },
  {
   "cell_type": "code",
   "execution_count": null,
   "metadata": {
    "execution": {},
    "executionInfo": {
     "elapsed": 4812,
     "status": "ok",
     "timestamp": 1682815069377,
     "user": {
      "displayName": "Abigail Bodner",
      "userId": "16617086768288510233"
     },
     "user_tz": 240
    }
   },
   "outputs": [],
   "source": [
    "#from intake import open_catalog\n",
    "import matplotlib.pyplot as plt\n",
    "import matplotlib\n",
    "\n",
    "import numpy as np\n",
    "import xarray as xr\n",
    "import warnings\n",
    "from cartopy import crs as ccrs, feature as cfeature\n",
    "#  Suppress warnings issued by Cartopy when downloading data files\n",
    "warnings.filterwarnings('ignore')"
   ]
  },
  {
   "cell_type": "code",
   "execution_count": null,
   "metadata": {
    "execution": {},
    "executionInfo": {
     "elapsed": 107,
     "status": "ok",
     "timestamp": 1682814154744,
     "user": {
      "displayName": "Abigail Bodner",
      "userId": "16617086768288510233"
     },
     "user_tz": 240
    }
   },
   "outputs": [],
   "source": [
    "# plot helping function\n",
    "\n",
    "def set_projection_figure(projection = ccrs.PlateCarree(), figsize =(5, 4.5) ):\n",
    "    # source:https://foundations.projectpythia.org/core/cartopy/cartopy.html\n",
    "\n",
    "    projLccNY =  projection #ccrs.LambertConformal(central_longitude=cLon, central_latitude=cLat)\n",
    "\n",
    "    fig = plt.figure(figsize=figsize)\n",
    "    ax = plt.subplot(1, 1, 1, projection=projLccNY)\n",
    "\n",
    "    format_axes(ax)\n",
    "    #ax.add_feature(cfeature.STATES)\n",
    "    #ax.add_feature(cfeature.RIVERS)\n",
    "    return fig, ax\n",
    "\n",
    "def format_axes(ax):\n",
    "    ax.add_feature(cfeature.COASTLINE)\n",
    "    ax.add_feature(cfeature.LAKES, edgecolor='black', facecolor='None', alpha=0.3 )\n",
    "    gl = ax.gridlines(draw_labels=True, linewidth=1, color='black', alpha=0.5, linestyle='--')\n",
    "    gl.xlocator = matplotlib.ticker.MaxNLocator(7)\n",
    "    gl.ylocator = matplotlib.ticker.MaxNLocator(5)\n",
    "    gl.xlabels_top  = False\n",
    "    gl.ylabels_left = False\n",
    "    #gl.xlines = False\n",
    "\n",
    "# helping functions:\n",
    "def geographic_lon_to_360(lon):\n",
    "    return 360 + lon\n",
    "\n",
    "def inverted_geographic_lon_to_360(lon):\n",
    "    return lon - 180\n",
    "\n",
    "def cbar_label(DD):\n",
    "    return DD.attrs['long_name'] + ' [' + DD.attrs['units']+ ']'"
   ]
  },
  {
   "cell_type": "markdown",
   "metadata": {},
   "source": [
    "####  Figure settings\n"
   ]
  },
  {
   "cell_type": "markdown",
   "metadata": {},
   "source": [
    "#####  Figure settings\n"
   ]
  },
  {
   "cell_type": "markdown",
   "metadata": {},
   "source": [
    "######  Figure settings\n"
   ]
  },
  {
   "cell_type": "markdown",
   "metadata": {},
   "source": [
    "#######  Figure settings\n"
   ]
  },
  {
   "cell_type": "markdown",
   "metadata": {},
   "source": [
    "########  Figure settings\n"
   ]
  },
  {
   "cell_type": "markdown",
   "metadata": {},
   "source": [
    "#########  Figure settings\n"
   ]
  },
  {
   "cell_type": "markdown",
   "metadata": {},
   "source": [
    "##########  Figure settings\n"
   ]
  },
  {
   "cell_type": "markdown",
   "metadata": {},
   "source": [
    "###########  Figure settings\n"
   ]
  },
  {
   "cell_type": "markdown",
   "metadata": {},
   "source": [
    "############  Figure settings\n"
   ]
  },
  {
   "cell_type": "markdown",
   "metadata": {},
   "source": [
    "#############  Figure settings\n"
   ]
  },
  {
   "cell_type": "markdown",
   "metadata": {},
   "source": [
    "##############  Figure settings\n"
   ]
  },
  {
   "cell_type": "markdown",
   "metadata": {},
   "source": [
    "###############  Figure settings\n"
   ]
  },
  {
   "cell_type": "markdown",
   "metadata": {},
   "source": [
    "################  Figure settings\n"
   ]
  },
  {
   "cell_type": "markdown",
   "metadata": {},
   "source": [
    "#################  Figure settings\n"
   ]
  },
  {
   "cell_type": "markdown",
   "metadata": {},
   "source": [
    "##################  Figure settings\n"
   ]
  },
  {
   "cell_type": "markdown",
   "metadata": {},
   "source": [
    "###################  Figure settings\n"
   ]
  },
  {
   "cell_type": "markdown",
   "metadata": {},
   "source": [
    "####################  Figure settings\n"
   ]
  },
  {
   "cell_type": "code",
   "execution_count": null,
   "metadata": {
    "cellView": "form",
    "execution": {},
    "executionInfo": {
     "elapsed": 515,
     "status": "ok",
     "timestamp": 1682814158125,
     "user": {
      "displayName": "Abigail Bodner",
      "userId": "16617086768288510233"
     },
     "user_tz": 240
    },
    "tags": [
     "hide-input"
    ]
   },
   "outputs": [],
   "source": [
    "# @title Figure settings\n",
    "import ipywidgets as widgets       # interactive display\n",
    "%config InlineBackend.figure_format = 'retina'\n",
    "plt.style.use(\"https://raw.githubusercontent.com/ClimateMatchAcademy/course-content/main/cma.mplstyle\")\n",
    "\n",
    "\n",
    "def font_for_print():\n",
    "\n",
    "    SMALL_SIZE = 8\n",
    "    MEDIUM_SIZE = 10\n",
    "    BIGGER_SIZE = 11\n",
    "    legend_properties = {'weight':'bold'}\n",
    "\n",
    "    plt.rc('font', size=SMALL_SIZE, serif='Helvetica Neue', weight='normal')          # controls default text sizes\n",
    "    #plt.rc('font', size=SMALL_SIZE, serif='DejaVu Sans', weight='light')\n",
    "    plt.rc('text', usetex='false')\n",
    "    plt.rc('axes', titlesize=MEDIUM_SIZE, labelweight='normal')     # fontsize of the axes title\n",
    "    plt.rc('axes', labelsize=SMALL_SIZE, labelweight='normal') #, family='bold')    # fontsize of the x and y labels\n",
    "    plt.rc('xtick', labelsize=SMALL_SIZE)    # fontsize of the tick labels\n",
    "    plt.rc('ytick', labelsize=SMALL_SIZE)    # fontsize of the tick labels\n",
    "    plt.rc('legend', fontsize=SMALL_SIZE, frameon=False)    # legend fontsize\n",
    "    plt.rc('figure', titlesize=MEDIUM_SIZE, titleweight='bold', autolayout=True) #, family='bold')  # fontsize of the figure title\n",
    "\n",
    "    plt.rc('axes', labelsize= SMALL_SIZE, labelweight='normal')\n",
    "\n",
    "font_for_print()"
   ]
  },
  {
   "cell_type": "markdown",
   "metadata": {
    "execution": {}
   },
   "source": [
    "Load atmospheric (ERA5) and oceanic (ECCO) ranalysis data \n",
    "\n"
   ]
  },
  {
   "cell_type": "code",
   "execution_count": null,
   "metadata": {
    "cellView": "both",
    "execution": {},
    "executionInfo": {
     "elapsed": 105,
     "status": "error",
     "timestamp": 1682815085837,
     "user": {
      "displayName": "Abigail Bodner",
      "userId": "16617086768288510233"
     },
     "user_tz": 240
    }
   },
   "outputs": [],
   "source": [
    "# from the Pangeo catalog\n",
    "\n",
    "#cat_ERA5 = open_catalog(\"https://raw.githubusercontent.com/pangeo-data/pangeo-datastore/master/intake-catalogs/atmosphere.yaml\")\n",
    "#ERA5  = cat_ERA5[\"era5_hourly_reanalysis_single_levels_sa\"].to_dask()\n",
    "\n",
    "#cat_ECCO = open_catalog(\"https://raw.githubusercontent.com/pangeo-data/pangeo-datastore/master/intake-catalogs/ocean.yaml\")\n",
    "#ECCO  = cat_ECCO[\"ECCOv4r3\"].to_dask()\n",
    "\n",
    "\n",
    "### stand-alone version:\n",
    "import os, pooch\n",
    "fname = 'ERA5_select_example.nc'\n",
    "if not os.path.exists(fname):\n",
    "    url = \"https://osf.io/82gba/download\"\n",
    "    fname = pooch.retrieve(url, known_hash=None, fname=fname)\n",
    "\n",
    "ERA5 = xr.open_dataset(fname)\n",
    "\n",
    "# Will have this shortly\n",
    "import os, pooch\n",
    "fname = 'surface_eval.nc.nc'\n",
    "if not os.path.exists(fname):\n",
    "    url = \"https://osf.io/46e35/download\"\n",
    "    fname = pooch.retrieve(url, known_hash=None, fname=fname)\n",
    "ECCO_U = xr.open_dataarray(fname)\n",
    "import os, pooch\n",
    "fname = 'surface_nvel.nc'\n",
    "if not os.path.exists(fname):\n",
    "    url = \"https://osf.io/v6mzq/download\"\n",
    "    fname = pooch.retrieve(url, known_hash=None, fname=fname)\n",
    "ECCO_V = xr.open_dataset(fname)"
   ]
  },
  {
   "cell_type": "markdown",
   "metadata": {
    "execution": {}
   },
   "source": [
    "Examine the time ranges of each dataset"
   ]
  },
  {
   "cell_type": "code",
   "execution_count": null,
   "metadata": {
    "execution": {}
   },
   "outputs": [],
   "source": [
    "print('The time range is:')\n",
    "print( ERA5.time[0].data.astype('M8[h]') , 'to', ERA5.time[-1].data.astype('M8[h]') )"
   ]
  },
  {
   "cell_type": "code",
   "execution_count": null,
   "metadata": {
    "execution": {}
   },
   "outputs": [],
   "source": [
    "print('The time range is:')\n",
    "# print( ECCO_V.time[0].data.astype('M8[h]') , 'to', ECCO_V.time[-1].data.astype('M8[h]') )"
   ]
  },
  {
   "cell_type": "markdown",
   "metadata": {
    "execution": {}
   },
   "source": [
    "List the available *time* data from a specific year (2000) to identify the *output frequency* or *temporal frequency*, which is the rate at which reanalysis data is provided."
   ]
  },
  {
   "cell_type": "code",
   "execution_count": null,
   "metadata": {
    "execution": {}
   },
   "outputs": [],
   "source": [
    "ERA5.time.sel(time='2018')"
   ]
  },
  {
   "cell_type": "markdown",
   "metadata": {
    "execution": {}
   },
   "source": [
    "Notice the array ['2000-01-01T00:00:00.000000000', '2000-01-01T01:00:00.000000000',\n",
    "       '2000-01-01T02:00:00.000000000',...] consists of dates '2000-01-01' and time 'T00:00:00.000000000', which increases to 'T01:00:00.000000000'. This indicates that the ERA5 data has an *hourly* output frequency. \n",
    "       \n",
    "Now let's examine the ECCO data again for the same year 2000,"
   ]
  },
  {
   "cell_type": "code",
   "execution_count": null,
   "metadata": {
    "execution": {}
   },
   "outputs": [],
   "source": [
    "# ECCO.time.sel(time='2000')"
   ]
  },
  {
   "cell_type": "markdown",
   "metadata": {
    "execution": {}
   },
   "source": [
    "Notice that the ECCO data goes from '2000-01-15T00:00:00.000000000' to '2000-02-13T00:00:00.000000000', which indicates this is *monthly* data. Note: although the timestamp lists a specific day in the middle of a month, the data are actually monthly (temporal) averages.\n",
    "\n",
    "## Discussion\n",
    "- Why do you think the atmospheric dataset have higher output frequency than the ocean dataset?\n",
    "- What can we infer about the rate of change of the two systems and their role in the climate system from these output frequencies?\n",
    "- What type of averaging do we need to perform on ERA5 in order to compare directly with ECCO?"
   ]
  },
  {
   "cell_type": "markdown",
   "metadata": {
    "execution": {}
   },
   "source": [
    "## Surface currents compared with surface winds \n",
    "\n",
    "- Slides about wind driven circulation and introducing the ECCO model\n"
   ]
  },
  {
   "cell_type": "markdown",
   "metadata": {
    "execution": {},
    "tags": []
   },
   "source": [
    "## Section 1: Plotting global surface winds using ERA5 \n",
    "\n",
    "Now let's plot global maps of surface winds, averaged over a month that is present in the time ranges of both ECCO and ERA5. Fortunately, we can use a similar computation to the previous tutorial!\n",
    "\n"
   ]
  },
  {
   "cell_type": "code",
   "execution_count": null,
   "metadata": {
    "execution": {}
   },
   "outputs": [],
   "source": [
    "# Pick a month that overlaps between ERA5 and ECCO. Here we choose April 2000\n",
    "year_month = '2018-03'\n",
    "\n",
    "#examine the time array within this temporal selection\n",
    "ERA5.sel(time=year_month).time"
   ]
  },
  {
   "cell_type": "markdown",
   "metadata": {
    "execution": {}
   },
   "source": [
    "Next, we calculate  monthly averages from the ERA5 hourly data, so we can compare it directly to the ECCO monthly data. We then select the atmospheric variables of interest, the 10 meter wind speeds in the zonal and meridional directions."
   ]
  },
  {
   "cell_type": "code",
   "execution_count": null,
   "metadata": {
    "execution": {}
   },
   "outputs": [],
   "source": [
    "# select year and month of interest and take average over all days in month\n",
    "ERA5_monthly_mean= ERA5.sel(time=year_month).mean('time')\n",
    "\n",
    "# zonal 10m wind speed\n",
    "ERA_U = ERA5_monthly_mean['u10']\n",
    "# meridional 10m wind speed\n",
    "ERA_V = ERA5_monthly_mean['v10']"
   ]
  },
  {
   "cell_type": "markdown",
   "metadata": {
    "execution": {}
   },
   "source": [
    "Rather than ploting the zonal and meridional velocity components $(u,v)$ separately, we will plot the magnitude and direction of the total velocity vector. This type of plot is called a vector field. A [vector](https://glossary.ametsoc.org/wiki/Vector) is a special mathematical quantity that has both a magnitude and a direction, just like the wind! The velocity components describe how much wind is blowing in the zonal ($u$) or meridional ($v$) directions. Specifically, wind can blow in the eastward (positive $u$) or westward (negative $u$) direction, and in the northward (positive $v$) or southward (negative $v$) direction. The total velocity vector is the *vector sum* of these two components, and has variable magnitude and direction. The magnitude ($||u||)$ and direction ($\\theta$) of the total velocity vector are given by\n",
    "\n",
    "\\begin{align}\n",
    "||u|| = \\sqrt{u^2 + v^2},  \\ \\  \\ \\ \\theta = tan^{-1}(\\frac{v}{u})\n",
    "\\end{align}\n",
    "\n",
    "When using a computer to plot a vector field, it is usually called a quiver plot instead. We will use a [quiver function created by Ryan Abernathey](https://rabernat.github.io/intro_to_physical_oceanography/07_ekman.html) that derives the magnitude and direction of the total velocity vector from the given zonal and meridional components."
   ]
  },
  {
   "cell_type": "code",
   "execution_count": null,
   "metadata": {
    "execution": {}
   },
   "outputs": [],
   "source": [
    "# make sure to credit Ryan Abernathey here\n",
    "def quiver_ERA(u, v, sampling_x=10, sampling_y=10, mag_max=None, **kwargs):\n",
    "\n",
    "    x = u.longitude\n",
    "    y = u.latitude\n",
    "\n",
    "    # calculate magnitude of total velocity\n",
    "    mag = (u**2 + v**2)**0.5\n",
    "\n",
    "    # coarsen the grid so the arrows are distinguishable by only selecting\n",
    "    # some longitudes and latitudes defined by sampling_x and sampling_y.\n",
    "    slx = slice(None, None, sampling_x)\n",
    "    sly = slice(None, None, sampling_y)\n",
    "    sl2d = (sly, slx)\n",
    "\n",
    "    #fig, ax = plt.subplots(**kwargs)\n",
    "    fig, ax = set_projection_figure(projection = ccrs.PlateCarree(), figsize = (9, 5.5) )\n",
    "\n",
    "    # plot contours of the magnitude\n",
    "    ax.contourf(x,y,mag, vmax=mag_max, cmap='Blues_r')\n",
    "\n",
    "    #plt.colorbar(fig, orientation='vertical', label = 'm/s', shrink= 0.55 , pad = 0.08)\n",
    "\n",
    "    #return the quiver plot just at the locations we sampled\n",
    "    return ax, ax.quiver(x[slx], y[sly], u[sl2d], v[sl2d])"
   ]
  },
  {
   "cell_type": "code",
   "execution_count": null,
   "metadata": {
    "execution": {}
   },
   "outputs": [],
   "source": [
    "# plot magnitude of wind speed overlayed by quiver arrows indicating vector direction\n",
    "# Note this one takes a little while\n",
    "\n",
    "# we define contours levels that will be used in all plots the compare them better\n",
    "colorlevels = np.arange(0, 10, 2)\n",
    "\n",
    "\n",
    "quiver_ERA(ERA_U, ERA_V,\n",
    "             mag_max=6, sampling_x=20, figsize=(16,8))\n",
    "#plt.title('Date '+year_month +' | qrt(U^2 + V^2) ',loc ='left')"
   ]
  },
  {
   "cell_type": "markdown",
   "metadata": {
    "execution": {}
   },
   "source": [
    "## Section 2: Plotting global surface currents using ECCO \n",
    "\n",
    "To understand how the near-surface winds impact the ocean's motion, we will examine surface currents from [ECCO (Estimating the Circulation and Climate of the Ocean)](https://www.ecco-group.org) reanalysis and compare these to the atmosphere.\n",
    "\n",
    "First let us look at the ECCO dataset variables"
   ]
  },
  {
   "cell_type": "code",
   "execution_count": null,
   "metadata": {
    "execution": {}
   },
   "outputs": [],
   "source": [
    "# ECCO"
   ]
  },
  {
   "cell_type": "code",
   "execution_count": null,
   "metadata": {
    "execution": {}
   },
   "outputs": [],
   "source": [
    "year_month"
   ]
  },
  {
   "cell_type": "markdown",
   "metadata": {
    "execution": {}
   },
   "source": [
    "We next compute the time mean in the same manner as before. We also are only interested in the surface values so we select $k=0$, which represents the upper most layer of the ocean near the surface."
   ]
  },
  {
   "cell_type": "code",
   "execution_count": null,
   "metadata": {
    "execution": {}
   },
   "outputs": [],
   "source": [
    "# ECCO_monthly_mean= ECCO.sel(time=year_month).isel(k=0)"
   ]
  },
  {
   "cell_type": "code",
   "execution_count": null,
   "metadata": {
    "execution": {}
   },
   "outputs": [],
   "source": [
    "# ECCO_V= ECCO_monthly_mean['VVELMASS']\n",
    "# ECCO_U= ECCO_monthly_mean['UVELMASS']"
   ]
  },
  {
   "cell_type": "markdown",
   "metadata": {
    "execution": {}
   },
   "source": [
    "Now let us examine ECCO_U and ECCO_V "
   ]
  },
  {
   "cell_type": "code",
   "execution_count": null,
   "metadata": {
    "execution": {},
    "tags": []
   },
   "outputs": [],
   "source": [
    "ECCO_V"
   ]
  },
  {
   "cell_type": "code",
   "execution_count": null,
   "metadata": {
    "execution": {}
   },
   "outputs": [],
   "source": [
    "ECCO_U"
   ]
  },
  {
   "cell_type": "markdown",
   "metadata": {
    "execution": {}
   },
   "source": [
    "The only dimensions now $['j', 'i_g']$ for $U$, $['j_g', 'i']$ for $V$, and $['face']$ for both. These are related to how velocity variables are computed and stored in the ECCO model. Here $'face'$ refers to the tiles of the [grid for this particular model](https://xgcm.readthedocs.io/en/latest/grid_topology.html), which are not regular.\n",
    "\n",
    "\n",
    "Let's examine what the zonal ocean velocity (ECCO_u) looks like for each tile of our model"
   ]
  },
  {
   "cell_type": "code",
   "execution_count": null,
   "metadata": {
    "execution": {}
   },
   "outputs": [],
   "source": [
    "# ECCO_U.plot(col='face', col_wrap=5)"
   ]
  },
  {
   "cell_type": "markdown",
   "metadata": {
    "execution": {}
   },
   "source": [
    "Each face represents a different section within the globe. It is possible to manually \"patch\" these together but we will interpolate U and V to a regular lat-lon grid using a [handy package](httpshttps://ecco-v4-python-tutorial.readthedocs.io/ECCO_v4_Interpolating_Fields_to_LatLon_Grid.html://) developed specifically to make it easier to work with the ECCO model!\n"
   ]
  },
  {
   "cell_type": "code",
   "execution_count": null,
   "metadata": {
    "execution": {},
    "tags": []
   },
   "outputs": [],
   "source": [
    "import ecco_v4_py as ecco"
   ]
  },
  {
   "cell_type": "code",
   "execution_count": null,
   "metadata": {
    "execution": {}
   },
   "outputs": [],
   "source": [
    "ECCO_V"
   ]
  },
  {
   "cell_type": "code",
   "execution_count": null,
   "metadata": {
    "execution": {}
   },
   "outputs": [],
   "source": [
    "# interpolate the zonal and meridional velocities\n",
    "# ECCO_U_interp = ECCO_U.interp(i_g=ECCO_U.i)\n",
    "# ECCO_V_interp = ECCO_V.interp(j_g=ECCO_V.j)\n",
    "\n",
    "# plot\n",
    "# ecco.plot_proj_to_latlon_grid(ECCO.XC, ECCO.YC, 0.5*(ECCO_U_interp**2+ECCO_V_interp**2)**0.5, cmap='Blues_r', vmax=6);"
   ]
  },
  {
   "cell_type": "markdown",
   "metadata": {
    "execution": {}
   },
   "source": [
    "Now let us add the surface winds quiver plot overlayed on top of surface surrents"
   ]
  },
  {
   "cell_type": "code",
   "execution_count": null,
   "metadata": {
    "execution": {}
   },
   "outputs": [],
   "source": [
    "# make sure to credit Ryan Abernathey here\n",
    "def quiver_ERA_ECCO(u, v, sampling_x=10, sampling_y=10, mag_max=None, **kwargs):\n",
    "    x = u.longitude\n",
    "    y = u.latitude\n",
    "    mag = 0.5*(u**2 + v**2)**0.5\n",
    "    slx = slice(None, None, sampling_x)\n",
    "    sly = slice(None, None, sampling_y)\n",
    "    sl2d = (sly, slx)\n",
    "    #fig, ax = plt.subplots(**kwargs)\n",
    "    #fig, ax = set_projection_figure(projection = ccrs.PlateCarree(), figsize = (9, 5.5) )\n",
    "    #ax.contourf(x,y,mag, vmax=mag_max, cmap='Blues_r')\n",
    "    #plt.colorbar(fig, orientation='vertical', label = 'm/s', shrink= 0.55 , pad = 0.08)\n",
    "    return ax, ax.quiver(x[slx], y[sly], u[sl2d], v[sl2d])"
   ]
  },
  {
   "cell_type": "code",
   "execution_count": null,
   "metadata": {
    "execution": {}
   },
   "outputs": [],
   "source": [
    "# fig = ecco.plot_proj_to_latlon_grid(ECCO.XC, ECCO.YC, 0.5*(ECCO_U_interp**2+ECCO_V_interp**2)**0.5,\n",
    "#                               cmap='Blues_r', vmax=6, projection_type = 'PlateCarree');"
   ]
  },
  {
   "cell_type": "markdown",
   "metadata": {
    "execution": {}
   },
   "source": [
    "**SOMETHING WENT WRONG-- CAN'T OVERLAY WIND QUIVER PLOT !!**"
   ]
  },
  {
   "cell_type": "code",
   "execution_count": null,
   "metadata": {
    "execution": {}
   },
   "outputs": [],
   "source": [
    "# #fig, ax = set_projection_figure(projection = ccrs.PlateCarree(), figsize = (9, 5.5) )\n",
    "# fig, ax = plt.subplots()\n",
    "# ecco.plot_proj_to_latlon_grid(ECCO.XC, ECCO.YC, 0.5*(ECCO_U_interp**2+ECCO_V_interp**2)**0.5,\n",
    "#                               cmap='Blues_r', vmax=6, projection_type = 'PlateCarree');\n",
    "\n",
    "# sampling_x=20\n",
    "# sampling_y=20\n",
    "# x = ERA_U.longitude\n",
    "# y = ERA_V.latitude\n",
    "# slx = slice(None, None, sampling_x)\n",
    "# sly = slice(None, None, sampling_y)\n",
    "# sl2d = (sly, slx)\n",
    "\n",
    "# ax.quiver(x[slx], y[sly], ERA_U[sl2d], ERA_V[sl2d])\n",
    "\n",
    "# plt.show()"
   ]
  },
  {
   "cell_type": "markdown",
   "metadata": {
    "execution": {}
   },
   "source": [
    "As a final step let us compare with the surface wind magnitude and direction."
   ]
  },
  {
   "cell_type": "markdown",
   "metadata": {
    "execution": {}
   },
   "source": [
    "#### *A few notes:*\n",
    "- **Surprise fact!** The wind driven currents at the surface are not actually in the direction of the wind but rather at a ~45 degree angle. This is known as the Ekman pumping effect, for which water is either upwelled or downwelled based on the directionality of the wind. Can you notice this relationship?\n",
    "- **Fun fact!** Upwelling and downwelling is actually a very important process in the El Nino phenomena we discussed earlier. The El Nino La Nina phase is identified either strong or week upwelling near the coast. .. add here story of Fisherman along the coast of Peru and why it is named El Nino.\n",
    "\n",
    "Next activity: can you plot the coast of Peru and examine the direction of the wind and the direction of the ocean currents?\n",
    "\n",
    "Let's make the same plot with surface temperature? What is the relationship between wind, upwelling, and temperature in this location? (make connection here to next tutorial on density)\n",
    "\n",
    "Bonus activity! Try to repeat the steps above with different months and years. Can you identify an El Nino or La Nina event?"
   ]
  },
  {
   "cell_type": "markdown",
   "metadata": {
    "execution": {}
   },
   "source": [
    "Zooming back out, does the wind driven circulation does not explain all of the ocean currents? What do you think is missing? In the next tutorial you will discuss density driven currents"
   ]
  },
  {
   "cell_type": "markdown",
   "metadata": {
    "execution": {}
   },
   "source": [
    "---\n",
    "# Summary\n",
    "\n",
    "\n"
   ]
  },
  {
   "cell_type": "markdown",
   "metadata": {
    "execution": {}
   },
   "source": [
    "### - Winds impose a surface stress which forces ocean currents \n",
    "### - This is called the ***wind driven circulation***\n"
   ]
  }
 ],
 "metadata": {
  "colab": {
   "collapsed_sections": [],
   "include_colab_link": true,
   "name": "W1D2_Tutorial4",
   "provenance": [],
   "toc_visible": true
  },
  "kernel": {
   "display_name": "Python 3",
   "language": "python",
   "name": "python3"
  },
  "kernelspec": {
   "display_name": "Python 3 (ipykernel)",
   "language": "python",
   "name": "python3"
  },
  "language_info": {
   "codemirror_mode": {
    "name": "ipython",
    "version": 3
   },
   "file_extension": ".py",
   "mimetype": "text/x-python",
   "name": "python",
   "nbconvert_exporter": "python",
   "pygments_lexer": "ipython3",
   "version": "3.10.9"
  },
  "toc-autonumbering": true
 },
 "nbformat": 4,
 "nbformat_minor": 0
}