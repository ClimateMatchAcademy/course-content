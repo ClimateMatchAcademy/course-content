{
 "cells": [
  {
   "cell_type": "markdown",
   "metadata": {
    "execution": {},
    "tags": []
   },
   "source": [
    "# Calculating ENSO with Xarray\n",
    "\n"
   ]
  },
  {
   "cell_type": "markdown",
   "metadata": {
    "execution": {}
   },
   "source": [
    "---"
   ]
  },
  {
   "cell_type": "markdown",
   "metadata": {
    "execution": {}
   },
   "source": [
    "## Overview\n",
    "\n",
    "In this notebook (adapted from Project Pythia), we will:\n",
    "\n",
    "1. Load SST data from the CESM2 model\n",
    "2. Mask data using `.where()`\n",
    "3. Compute climatologies and anomalies using `.groupby()`\n",
    "4. Use `.rolling()` to compute moving average\n",
    "5. Compute, normalize, and plot the Niño 3.4 Index"
   ]
  },
  {
   "cell_type": "markdown",
   "metadata": {
    "execution": {}
   },
   "source": [
    "## Prerequisites\n",
    "\n",
    "\n",
    "| Concepts | Importance | Notes |\n",
    "| --- | --- | --- |\n",
    "| [Introduction to Xarray](xarray-intro) | Necessary | |\n",
    "| [Computation and Masking](computation-masking) | Necessary | |\n",
    "\n",
    "\n",
    "\n",
    "- **Time to learn**: 20 minutes"
   ]
  },
  {
   "cell_type": "markdown",
   "metadata": {
    "execution": {}
   },
   "source": [
    "##Introduction to El Niño Southern Oscillation (ENSO)\n",
    "During many of the tutorials yesterday, we practiced using Xarray packages to plot and interpret monthly global sea surface temperature (SST) data from the Community Earth System Model v2 (CESM2). With this data, we:\n",
    "\n",
    "\n",
    "*   Applied arithmetic and aggregation methods\n",
    "*   Explored climatology\n",
    "*   Computed climate anaomalies running averages\n",
    "*   Masked data with one and multiple conditions \n",
    "\n",
    "\n",
    "During the final tutorial yesterday, we learned how to mask data using multiple conditions. In particular, we used `.where()` to isolate SST data between 5ºN-5ºS and 190ºW-240ºW. This geographic region, known as the Niño 3.4 region, is in the tropical Pacific Ocean and is commonly used as a metric for determining the phase of the El Niño-Southern Oscillation (ENSO). ENSO is a recurring climate pattern involving changes in SST in the central and eastern tropical Pacific Ocean, which two alternating phases:\n",
    "\n",
    "*    **El Niño:** the phase of ENSO characterized by warmer than average SSTs in the central and eastern tropical Pacific Ocean, weakened east to west equatorial winds and increased rainfall in the eastern tropical Pacific. \n",
    "*   **La Niña:** the phase of ENSO is characterized by cooler than average SSTs in the central and eastern tropical Pacific Ocean, stronger east to west equatorial winds and decreased rainfall in the eastern tropical Pacific.\n",
    "\n",
    "## Tropical Pacific Climate Processes\n",
    "To better understand the climate system processes that result in El Nino and La Nina events, let's first consider typical climate conditions in the tropical Pacific Ocean. Recall from W1D1, **trade winds** are winds that blow east to west just north and south of the equator (these are sometimes referred to as \"easterly\" winds since the winds are originating from the east and blowing toward the west). And as we discussed yesterday, the reason that the trade winds blow from east to west is related to Earth's rotation, which causes the winds in the Northern Hemisphere to curve to the right and winds in the Southern Hemisphere curves to the left. This is known as the **Coriolis effect**. \n",
    "\n",
    "If Earth's rotation affects air movement, do you think it also influences surface ocean water movement? It does! As trade winds blow across the tropical Pacific Ocean, they move water because of friction at the ocean surface. But because of the Coriolis effect, surface water moves to the right of the wind direction in the Northern Hemisphere and to the left of the wind direction in the Southern Hemisphere. However, the speed and direction of water movement changes with depth. Ocean surface water moves at an angle to the wind, and the water under the surface water moves at a slightly larger angle, and the water below that turns at an even larger angle. The average direction of all this turning water is about a right angle from the wind direction. This average is known as **Ekman transport**. Since this process is driven by the trade winds, the strength of this ocean water transport varies in response to changes in the the srength of the trade winds. \n",
    "\n",
    "\n",
    "## Ocean-Atmosphere Interactions during El Niño and La Niña\n",
    "So, how does all of this relate to El Niño and La Niña? Changes in the strength of Pacific Ocean trade winds and the resulting impact on Ekman transport create variations in the tropical Pacific Ocean SST, which further results in changes to atmospheric circulation patterns and rainfall.\n",
    "\n",
    "\n",
    "During an El Niño event, ***easterly trade winds are weaker***. As a result, less warm surface water is  transported to the west via Ekman transport, which causes a build-up of warm surface water in the eastern equatorial Pacific. This creates warmer than avrage SSTs in the eastern equatorial Pacific Ocean. The atmosphere responds to this warming with increased rising air motion and above-average rainfall in the eastern Pacific. In contrast, during a La Niña event, ***easterly trade winds are stronger***. As a result, more warm surface water is transported to the west via Ekman transport, and cool water from deeper in the ocean rises up in the eastern Pacific during a process known as upwelling. This creates cooler than avrage SSTs in the eastern equatorial Pacific Ocean. This cooling decreases rising air movement in the eastern Pacific, resulting in drier than average cdonsitions. \n",
    "\n",
    "\n",
    "In this tutorial, we'll examine SST temperature to further explore variations in the climate system that occur during El Nino and La Nina events. Specifically, we will plot and interpet CESM2 SST data from the Niño 3.4 region."
   ]
  },
  {
   "cell_type": "code",
   "execution_count": null,
   "metadata": {
    "execution": {},
    "executionInfo": {
     "elapsed": 14879,
     "status": "ok",
     "timestamp": 1682537679643,
     "user": {
      "displayName": "Sloane Garelick",
      "userId": "04706287370408131987"
     },
     "user_tz": 240
    },
    "tags": [
     "colab"
    ]
   },
   "outputs": [],
   "source": [
    "# #<Yosmely Bermúdez> comments\n",
    "# #Install the dependencies\n",
    "# !pip install pythia_datasets\n",
    "# !pip install cartopy\n",
    "# !pip install xarray"
   ]
  },
  {
   "cell_type": "markdown",
   "metadata": {
    "execution": {}
   },
   "source": [
    "---"
   ]
  },
  {
   "cell_type": "markdown",
   "metadata": {
    "execution": {},
    "tags": []
   },
   "source": [
    "## Imports \n"
   ]
  },
  {
   "cell_type": "code",
   "execution_count": null,
   "metadata": {
    "execution": {}
   },
   "outputs": [],
   "source": [
    "import cartopy.crs as ccrs\n",
    "import matplotlib.pyplot as plt\n",
    "import xarray as xr\n",
    "from pythia_datasets import DATASETS"
   ]
  },
  {
   "cell_type": "markdown",
   "metadata": {
    "execution": {},
    "tags": []
   },
   "source": [
    "## The Niño 3.4 Index"
   ]
  },
  {
   "cell_type": "markdown",
   "metadata": {
    "execution": {}
   },
   "source": [
    "\n",
    "In this notebook, we are going to combine several topics we've covered so far to compute the [Niño 3.4 Index](https://climatedataguide.ucar.edu/climate-data/nino-sst-indices-nino-12-3-34-4-oni-and-tni) for the CESM2 submission for the [CMIP6 project](https://esgf-node.llnl.gov/projects/cmip6/). \n",
    "\n",
    "> Niño 3.4 (5N-5S, 170W-120W): The Niño 3.4 anomalies may be thought of as representing the average equatorial SSTs across the Pacific from about the dateline to the South American coast. The Niño 3.4 index typically uses a 5-month running mean, and El Niño or La Niña events are defined when the Niño 3.4 SSTs exceed +/- 0.4C for a period of six months or more.\n",
    "\n",
    "> Nino X Index computation: (a) Compute area averaged total SST from Niño X region; (b) Compute monthly climatology (e.g., 1950-1979) for area averaged total SST from Niño X region, and subtract climatology from area averaged total SST time series to obtain anomalies; (c) Smooth the anomalies with a 5-month running mean; (d) Normalize the smoothed values by its standard deviation over the climatological period.\n",
    "\n",
    "![](https://www.ncdc.noaa.gov/monitoring-content/teleconnections/nino-regions.gif)\n",
    "\n",
    "At the end of this notebook, you should be able to produce a plot that looks similar to this [Oceanic Niño Index plot](https://climatedataguide.ucar.edu/sites/default/files/styles/extra_large/public/2022-03/indices_oni_2_2_lg.png):\n",
    "\n",
    "![ONI index plot from NCAR Climate Data Guide](https://climatedataguide.ucar.edu/sites/default/files/styles/extra_large/public/2022-03/indices_oni_2_2_lg.png)"
   ]
  },
  {
   "cell_type": "markdown",
   "metadata": {
    "execution": {},
    "tags": []
   },
   "source": [
    "Open the SST and areacello datasets, and use Xarray's `merge` method to combine them into a single dataset:"
   ]
  },
  {
   "cell_type": "code",
   "execution_count": null,
   "metadata": {
    "execution": {},
    "executionInfo": {
     "elapsed": 5921,
     "status": "ok",
     "timestamp": 1682537726774,
     "user": {
      "displayName": "Sloane Garelick",
      "userId": "04706287370408131987"
     },
     "user_tz": 240
    }
   },
   "outputs": [],
   "source": [
    "import pandas as pd\n",
    "filepath = DATASETS.fetch('CESM2_sst_data.nc')\n",
    "# <Yosmely Bermúdez> comments\n",
    "# decode_times=False fix up the time variable \"manually\".\n",
    "# You can use xr.decode_cf() or simply assign a new pandas time index to your time variable.\n",
    "# Is better assign a new pandas time index because after you need a groupby with month and this is the solution.\n",
    "data = xr.open_dataset(filepath,decode_times=False)\n",
    "data['time'] = pd.DatetimeIndex(data['time'].values)\n",
    "filepath2 = DATASETS.fetch('CESM2_grid_variables.nc')\n",
    "areacello = xr.open_dataset(filepath2).areacello\n",
    "\n",
    "ds = xr.merge([data, areacello])\n",
    "ds"
   ]
  },
  {
   "cell_type": "code",
   "execution_count": null,
   "metadata": {
    "execution": {},
    "executionInfo": {
     "elapsed": 57286,
     "status": "ok",
     "timestamp": 1682537224931,
     "user": {
      "displayName": "Sloane Garelick",
      "userId": "04706287370408131987"
     },
     "user_tz": 240
    },
    "tags": [
     "colab"
    ]
   },
   "outputs": [],
   "source": [
    "# # Sloane Garelick comments\n",
    "# # When I ran this cell it caused the rest of the notebook to crash. I think maybe we should remove this cell?\n",
    "\n",
    "# # <Yosmely Bermúdez> comments\n",
    "#    # You have to be careful with shapely as it has problems with cartopy, so you have to install other dependencies\n",
    "# !apt-get install libproj-dev proj-data proj-bin\n",
    "# !apt-get install libgeos-dev\n",
    "# !pip install cython\n",
    "# !apt-get -qq install python-cartopy python3-cartopy\n",
    "# !pip uninstall -y shapely    # cartopy and shapely aren't friends (early 2020)\n",
    "# !pip install shapely --no-binary shapely"
   ]
  },
  {
   "cell_type": "code",
   "execution_count": null,
   "metadata": {
    "execution": {}
   },
   "outputs": [],
   "source": [
    "# Sloane Garelick comments\n",
    "# When I ran this cell it caused the rest of the notebook to crash. I think maybe we should remove this cell?\n",
    "\n",
    "\n",
    "# <Yosmely Bermúdez> comments\n",
    "   #This library is needed to be able to graph with cartopy\n",
    "import cartopy.io.shapereader as shapereader"
   ]
  },
  {
   "cell_type": "markdown",
   "metadata": {
    "execution": {}
   },
   "source": [
    "Visualize the first time slice to make sure the data looks as expected:"
   ]
  },
  {
   "cell_type": "code",
   "execution_count": null,
   "metadata": {
    "execution": {},
    "executionInfo": {
     "elapsed": 5137,
     "status": "ok",
     "timestamp": 1682537741323,
     "user": {
      "displayName": "Sloane Garelick",
      "userId": "04706287370408131987"
     },
     "user_tz": 240
    }
   },
   "outputs": [],
   "source": [
    "fig = plt.figure(figsize=(12, 6))\n",
    "ax = plt.axes(projection=ccrs.Robinson(central_longitude=180))\n",
    "ax.coastlines()\n",
    "ax.gridlines()\n",
    "ds.tos.isel(time=0).plot(\n",
    "    ax=ax, transform=ccrs.PlateCarree(), vmin=-2, vmax=30, cmap='coolwarm'\n",
    ");"
   ]
  },
  {
   "cell_type": "markdown",
   "metadata": {
    "execution": {}
   },
   "source": [
    "## Select the Niño 3.4 region \n",
    "\n",
    "There are a couple ways to select the Niño 3.4 region:\n",
    "\n",
    "1. Use `sel()` or `isel()`\n",
    "2. Use `where()` and select all values within the bounds of interest"
   ]
  },
  {
   "cell_type": "code",
   "execution_count": null,
   "metadata": {
    "execution": {},
    "executionInfo": {
     "elapsed": 842,
     "status": "ok",
     "timestamp": 1682539230855,
     "user": {
      "displayName": "Sloane Garelick",
      "userId": "04706287370408131987"
     },
     "user_tz": 240
    }
   },
   "outputs": [],
   "source": [
    "tos_nino34 = ds.sel(lat=slice(-5, 5), lon=slice(190, 240))\n",
    "tos_nino34"
   ]
  },
  {
   "cell_type": "markdown",
   "metadata": {
    "execution": {}
   },
   "source": [
    "The other option for selecting our region of interest is to use "
   ]
  },
  {
   "cell_type": "code",
   "execution_count": null,
   "metadata": {
    "execution": {},
    "executionInfo": {
     "elapsed": 492,
     "status": "ok",
     "timestamp": 1682539239230,
     "user": {
      "displayName": "Sloane Garelick",
      "userId": "04706287370408131987"
     },
     "user_tz": 240
    }
   },
   "outputs": [],
   "source": [
    "tos_nino34 = ds.where(\n",
    "    (ds.lat < 5) & (ds.lat > -5) & (ds.lon > 190) & (ds.lon < 240), drop=True\n",
    ")\n",
    "tos_nino34"
   ]
  },
  {
   "cell_type": "markdown",
   "metadata": {
    "execution": {}
   },
   "source": [
    "Let's plot the selected region to make sure we are doing the right thing."
   ]
  },
  {
   "cell_type": "code",
   "execution_count": null,
   "metadata": {
    "execution": {},
    "executionInfo": {
     "elapsed": 797,
     "status": "ok",
     "timestamp": 1682539250576,
     "user": {
      "displayName": "Sloane Garelick",
      "userId": "04706287370408131987"
     },
     "user_tz": 240
    }
   },
   "outputs": [],
   "source": [
    "fig = plt.figure(figsize=(12, 6))\n",
    "ax = plt.axes(projection=ccrs.Robinson(central_longitude=180))\n",
    "ax.coastlines()\n",
    "ax.gridlines()\n",
    "tos_nino34.tos.isel(time=0).plot(\n",
    "    ax=ax, transform=ccrs.PlateCarree(), vmin=-2, vmax=30, cmap='coolwarm'\n",
    ")\n",
    "ax.set_extent((120, 300, 10, -10))"
   ]
  },
  {
   "cell_type": "markdown",
   "metadata": {
    "execution": {}
   },
   "source": [
    "## Compute the anomalies\n",
    "\n",
    "We first group by month and subtract the mean SST at each point in the Niño 3.4 region. We then compute the weighted average over the region to obtain the anomalies:"
   ]
  },
  {
   "cell_type": "code",
   "execution_count": null,
   "metadata": {
    "execution": {}
   },
   "outputs": [],
   "source": [
    "gb = tos_nino34.tos.groupby('time.month')\n",
    "tos_nino34_anom = gb - gb.mean(dim='time')\n",
    "index_nino34 = tos_nino34_anom.weighted(tos_nino34.areacello).mean(dim=['lat', 'lon'])"
   ]
  },
  {
   "cell_type": "markdown",
   "metadata": {
    "execution": {}
   },
   "source": [
    "Now, smooth the anomalies with a 5-month running mean:"
   ]
  },
  {
   "cell_type": "code",
   "execution_count": null,
   "metadata": {
    "execution": {}
   },
   "outputs": [],
   "source": [
    "index_nino34_rolling_mean = index_nino34.rolling(time=5, center=True).mean()"
   ]
  },
  {
   "cell_type": "code",
   "execution_count": null,
   "metadata": {
    "execution": {},
    "executionInfo": {
     "elapsed": 975,
     "status": "ok",
     "timestamp": 1682539376867,
     "user": {
      "displayName": "Sloane Garelick",
      "userId": "04706287370408131987"
     },
     "user_tz": 240
    }
   },
   "outputs": [],
   "source": [
    "index_nino34.plot(size=8)\n",
    "index_nino34_rolling_mean.plot()\n",
    "plt.legend(['anomaly', '5-month running mean anomaly'])\n",
    "plt.title('SST anomaly over the Niño 3.4 region');"
   ]
  },
  {
   "cell_type": "markdown",
   "metadata": {
    "execution": {}
   },
   "source": [
    "#**Sloane's ideas of climate content to add:**\n",
    "\n",
    "Looking at the time series of SST anomaly over the Nino 3.4 region, consider the following questions:\n",
    "\n",
    "\n",
    "1.   If the SST anomaly is greater that zero, would that be an El Nino event or a La Nina event?\n",
    "2.   Based on this data, how frequently do El Nino and La Nina events occur? \n",
    "\n",
    "\n"
   ]
  },
  {
   "cell_type": "markdown",
   "metadata": {
    "execution": {}
   },
   "source": [
    "Compute the standard deviation of the SST in the Nino 3.4 region, over the entire time period of the data array:"
   ]
  },
  {
   "cell_type": "code",
   "execution_count": null,
   "metadata": {
    "execution": {},
    "executionInfo": {
     "elapsed": 177,
     "status": "ok",
     "timestamp": 1682539393876,
     "user": {
      "displayName": "Sloane Garelick",
      "userId": "04706287370408131987"
     },
     "user_tz": 240
    }
   },
   "outputs": [],
   "source": [
    "std_dev = tos_nino34.tos.std()\n",
    "std_dev"
   ]
  },
  {
   "cell_type": "markdown",
   "metadata": {
    "execution": {}
   },
   "source": [
    "Then we'll normalize the values by dividing the rolling mean by the standard deviation of the SST in the Niño 3.4 region:"
   ]
  },
  {
   "cell_type": "code",
   "execution_count": null,
   "metadata": {
    "execution": {}
   },
   "outputs": [],
   "source": [
    "normalized_index_nino34_rolling_mean = index_nino34_rolling_mean / std_dev"
   ]
  },
  {
   "cell_type": "markdown",
   "metadata": {
    "execution": {}
   },
   "source": [
    "## Visualize the computed Niño 3.4 index"
   ]
  },
  {
   "cell_type": "markdown",
   "metadata": {
    "execution": {}
   },
   "source": [
    "We will highlight values in excess of $\\pm$0.5, roughly corresponding to El Niño (warm) and La Niña (cold) events."
   ]
  },
  {
   "cell_type": "code",
   "execution_count": null,
   "metadata": {
    "execution": {},
    "executionInfo": {
     "elapsed": 1326,
     "status": "ok",
     "timestamp": 1682539414434,
     "user": {
      "displayName": "Sloane Garelick",
      "userId": "04706287370408131987"
     },
     "user_tz": 240
    }
   },
   "outputs": [],
   "source": [
    "fig = plt.figure(figsize=(12, 6))\n",
    "\n",
    "plt.fill_between(\n",
    "    normalized_index_nino34_rolling_mean.time.data,\n",
    "    normalized_index_nino34_rolling_mean.where(\n",
    "        normalized_index_nino34_rolling_mean >= 0.4\n",
    "    ).data,\n",
    "    0.4,\n",
    "    color='red',\n",
    "    alpha=0.9,\n",
    ")\n",
    "plt.fill_between(\n",
    "    normalized_index_nino34_rolling_mean.time.data,\n",
    "    normalized_index_nino34_rolling_mean.where(\n",
    "        normalized_index_nino34_rolling_mean <= -0.4\n",
    "    ).data,\n",
    "    -0.4,\n",
    "    color='blue',\n",
    "    alpha=0.9,\n",
    ")\n",
    "\n",
    "normalized_index_nino34_rolling_mean.plot(color='black')\n",
    "plt.axhline(0, color='black', lw=0.5)\n",
    "plt.axhline(0.4, color='black', linewidth=0.5, linestyle='dotted')\n",
    "plt.axhline(-0.4, color='black', linewidth=0.5, linestyle='dotted')\n",
    "plt.title('Niño 3.4 Index');"
   ]
  },
  {
   "cell_type": "markdown",
   "metadata": {
    "execution": {}
   },
   "source": [
    "#**Sloane's ideas of climate content to add:**\n",
    "\n",
    "Now that we've normalized the data and highlighted SST anomalies that correspond to El Niño (warm) and La Niña (cold) events, consider the following questions:\n",
    "\n",
    "\n",
    "1.   When were the strongest El Nino and La Nina events over this time period? \n",
    "2.   Considering the ocean-atmosphere interactions that cause El Nino and La Nina events, can you hypothesize potential reasons one El Nino or La Nina event may be stronger than others? \n",
    "\n",
    "\n"
   ]
  },
  {
   "cell_type": "markdown",
   "metadata": {
    "execution": {}
   },
   "source": [
    "---"
   ]
  },
  {
   "cell_type": "markdown",
   "metadata": {
    "execution": {}
   },
   "source": [
    "## Summary\n",
    "\n",
    "We have applied a variety of Xarray's selection, grouping, and statistical functions to compute and visualize an important climate index. "
   ]
  },
  {
   "cell_type": "markdown",
   "metadata": {
    "execution": {}
   },
   "source": [
    "## Resources and References\n",
    "\n",
    "- [Niño 3.4 index](https://climatedataguide.ucar.edu/climate-data/nino-sst-indices-nino-12-3-34-4-oni-and-tni)\n",
    "- [Matplotlib's `fill_between` method](https://matplotlib.org/stable/api/_as_gen/matplotlib.pyplot.fill_between.html)\n",
    "- [Matplotlib's `axhline` method](https://matplotlib.org/stable/api/_as_gen/matplotlib.pyplot.axhline.html) (see also its analogous `axvline` method)"
   ]
  }
 ],
 "metadata": {
  "colab": {
   "collapsed_sections": [],
   "include_colab_link": true,
   "name": "W1D2_Tutorial1",
   "provenance": [
    {
     "file_id": "1WxQZGZjRjPv2YkhwRdEG4PGrU0tHGq9t",
     "timestamp": 1680102521421
    }
   ],
   "toc_visible": true
  },
  "kernel": {
   "display_name": "Python 3",
   "language": "python",
   "name": "python3"
  },
  "kernelspec": {
   "display_name": "Python 3 (pangeo)",
   "language": "python",
   "name": "pangeo"
  },
  "language_info": {
   "codemirror_mode": {
    "name": "ipython",
    "version": 3
   },
   "file_extension": ".py",
   "mimetype": "text/x-python",
   "name": "python",
   "nbconvert_exporter": "python",
   "pygments_lexer": "ipython3",
   "version": "3.10.10"
  },
  "toc-autonumbering": false,
  "toc-showcode": false,
  "toc-showmarkdowntxt": false,
  "toc-showtags": false
 },
 "nbformat": 4,
 "nbformat_minor": 0
}