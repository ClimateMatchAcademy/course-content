{
 "cells": [
  {
   "cell_type": "markdown",
   "metadata": {
    "execution": {}
   },
   "source": [
    "- brief slides on large-scale atmospheric dynamics (&lt;5min slides)\n",
    "-----------------------------------"
   ]
  },
  {
   "cell_type": "markdown",
   "metadata": {
    "execution": {}
   },
   "source": [
    "# Tutorial 3: Atmospheric wind driven circulation\n",
    "\n",
    "**Week 1, Day 2: State of the Climate - Ocean and Atmospheric Reanalysis**\n",
    "**By Neuromatch Academy**\n",
    "\n",
    "__Content creators:__   Momme Hell,   Day Lead's Name\n",
    "\n",
    "__Content reviewers:__  Name Surname, Name Surname\n",
    "\n",
    "__Content editors:__    Name Surname, Name Surname\n",
    "\n",
    "__Production editors:__ Name Surname, Name Surname"
   ]
  },
  {
   "cell_type": "markdown",
   "metadata": {
    "execution": {}
   },
   "source": [
    "**Our 2023 Sponsors**\n",
    "\n",
    "<!-- <p align='center'><img src='https://github.com/NeuromatchAcademy/widgets/blob/master/sponsors.png?raw=True'/></p> -->"
   ]
  },
  {
   "cell_type": "markdown",
   "metadata": {
    "execution": {}
   },
   "source": [
    "### Tutorial Objectives\n",
    "NOTES: I used this intro is better suited for the next tutorial and here we should include some general intro for atmospheric large scale circulation\n",
    "\n",
    "\n",
    "The ocean is driven by radiation from the sun, winds, and various sources of fresh water  (precipitation, rivers, melting and freezing ice). This tutorial focuses on the global atmospheric wind pattern and how these drive the large scale ocean current, i.e. the so called \"wind driven circulation\". The wind driven circulation is important for coastel communities and climates. It impacts the ocean temperature and upwelling systems along many coast lines and influences weather on many timescales. At the end of this tutorial you will be able to \n",
    "\n",
    "- Understand the seasonal changes of the surface winds\n",
    "- compute seasonal climatologies and plot global maps.\n",
    "- compare statistics of these climatologies.\n",
    "\n",
    "For this tutorial we will use again the ERA5 dataset, first we will use some example data of 1-hour snapshots each day, and then we will use monthly means over the period of 30 years."
   ]
  },
  {
   "cell_type": "markdown",
   "metadata": {},
   "source": [
    "####  Tutorial slides\n"
   ]
  },
  {
   "cell_type": "markdown",
   "metadata": {},
   "source": [
    " These are the slides for the videos in all tutorials today\n"
   ]
  },
  {
   "cell_type": "markdown",
   "metadata": {},
   "source": [
    "#####  Tutorial slides\n"
   ]
  },
  {
   "cell_type": "markdown",
   "metadata": {},
   "source": [
    " These are the slides for the videos in all tutorials today\n"
   ]
  },
  {
   "cell_type": "markdown",
   "metadata": {},
   "source": [
    "######  Tutorial slides\n"
   ]
  },
  {
   "cell_type": "markdown",
   "metadata": {},
   "source": [
    " These are the slides for the videos in all tutorials today\n"
   ]
  },
  {
   "cell_type": "markdown",
   "metadata": {},
   "source": [
    "#######  Tutorial slides\n"
   ]
  },
  {
   "cell_type": "markdown",
   "metadata": {},
   "source": [
    " These are the slides for the videos in all tutorials today\n"
   ]
  },
  {
   "cell_type": "markdown",
   "metadata": {},
   "source": [
    "########  Tutorial slides\n"
   ]
  },
  {
   "cell_type": "markdown",
   "metadata": {},
   "source": [
    " These are the slides for the videos in all tutorials today\n"
   ]
  },
  {
   "cell_type": "markdown",
   "metadata": {},
   "source": [
    "#########  Tutorial slides\n"
   ]
  },
  {
   "cell_type": "markdown",
   "metadata": {},
   "source": [
    " These are the slides for the videos in all tutorials today\n"
   ]
  },
  {
   "cell_type": "markdown",
   "metadata": {},
   "source": [
    "##########  Tutorial slides\n"
   ]
  },
  {
   "cell_type": "markdown",
   "metadata": {},
   "source": [
    " These are the slides for the videos in all tutorials today\n"
   ]
  },
  {
   "cell_type": "markdown",
   "metadata": {},
   "source": [
    "###########  Tutorial slides\n"
   ]
  },
  {
   "cell_type": "markdown",
   "metadata": {},
   "source": [
    " These are the slides for the videos in all tutorials today\n"
   ]
  },
  {
   "cell_type": "markdown",
   "metadata": {},
   "source": [
    "############  Tutorial slides\n"
   ]
  },
  {
   "cell_type": "markdown",
   "metadata": {},
   "source": [
    " These are the slides for the videos in all tutorials today\n"
   ]
  },
  {
   "cell_type": "markdown",
   "metadata": {},
   "source": [
    "#############  Tutorial slides\n"
   ]
  },
  {
   "cell_type": "markdown",
   "metadata": {},
   "source": [
    " These are the slides for the videos in all tutorials today\n"
   ]
  },
  {
   "cell_type": "markdown",
   "metadata": {},
   "source": [
    "##############  Tutorial slides\n"
   ]
  },
  {
   "cell_type": "markdown",
   "metadata": {},
   "source": [
    " These are the slides for the videos in all tutorials today\n"
   ]
  },
  {
   "cell_type": "markdown",
   "metadata": {},
   "source": [
    "###############  Tutorial slides\n"
   ]
  },
  {
   "cell_type": "markdown",
   "metadata": {},
   "source": [
    " These are the slides for the videos in all tutorials today\n"
   ]
  },
  {
   "cell_type": "markdown",
   "metadata": {},
   "source": [
    "################  Tutorial slides\n"
   ]
  },
  {
   "cell_type": "markdown",
   "metadata": {},
   "source": [
    " These are the slides for the videos in all tutorials today\n"
   ]
  },
  {
   "cell_type": "markdown",
   "metadata": {},
   "source": [
    "#################  Tutorial slides\n"
   ]
  },
  {
   "cell_type": "markdown",
   "metadata": {},
   "source": [
    " These are the slides for the videos in all tutorials today\n"
   ]
  },
  {
   "cell_type": "markdown",
   "metadata": {},
   "source": [
    "##################  Tutorial slides\n"
   ]
  },
  {
   "cell_type": "markdown",
   "metadata": {},
   "source": [
    " These are the slides for the videos in all tutorials today\n"
   ]
  },
  {
   "cell_type": "code",
   "execution_count": null,
   "metadata": {
    "cellView": "form",
    "execution": {},
    "tags": [
     "remove-input"
    ]
   },
   "outputs": [],
   "source": [
    "# @title Tutorial slides\n",
    "\n",
    "# @markdown These are the slides for the videos in all tutorials today\n",
    "from IPython.display import IFrame\n",
    "#IFrame(src=f\"path-to-video\", width=854, height=480)"
   ]
  },
  {
   "cell_type": "code",
   "execution_count": null,
   "metadata": {
    "execution": {}
   },
   "outputs": [],
   "source": [
    "from intake import open_catalog\n",
    "import matplotlib.pyplot as plt\n",
    "import matplotlib\n",
    "\n",
    "import numpy as np\n",
    "import xarray as xr\n",
    "import warnings\n",
    "from cartopy import crs as ccrs, feature as cfeature\n",
    "#  Suppress warnings issued by Cartopy when downloading data files\n",
    "warnings.filterwarnings('ignore')"
   ]
  },
  {
   "cell_type": "code",
   "execution_count": null,
   "metadata": {
    "execution": {}
   },
   "outputs": [],
   "source": [
    "# plot helping function\n",
    "\n",
    "def set_projection_figure(projection = ccrs.PlateCarree(), figsize =(5, 4.5) ):\n",
    "    # source:https://foundations.projectpythia.org/core/cartopy/cartopy.html\n",
    "\n",
    "    projLccNY =  projection #ccrs.LambertConformal(central_longitude=cLon, central_latitude=cLat)\n",
    "\n",
    "    fig = plt.figure(figsize=figsize)\n",
    "    ax = plt.subplot(1, 1, 1, projection=projLccNY)\n",
    "\n",
    "    format_axes(ax)\n",
    "    #ax.add_feature(cfeature.STATES)\n",
    "    #ax.add_feature(cfeature.RIVERS)\n",
    "    return fig, ax\n",
    "\n",
    "def format_axes(ax):\n",
    "    ax.add_feature(cfeature.COASTLINE)\n",
    "    ax.add_feature(cfeature.LAKES, edgecolor='black', facecolor='None', alpha=0.3 )\n",
    "    gl = ax.gridlines(draw_labels=True, linewidth=1, color='black', alpha=0.5, linestyle='--')\n",
    "    gl.xlocator = matplotlib.ticker.MaxNLocator(7)\n",
    "    gl.ylocator = matplotlib.ticker.MaxNLocator(5)\n",
    "    gl.xlabels_top  = False\n",
    "    gl.ylabels_left = False\n",
    "    #gl.xlines = False\n",
    "\n",
    "# helping functions:\n",
    "def geographic_lon_to_360(lon):\n",
    "    return 360 + lon\n",
    "\n",
    "def inverted_geographic_lon_to_360(lon):\n",
    "    return lon - 180\n",
    "\n",
    "def cbar_label(DD):\n",
    "    return DD.attrs['long_name'] + ' [' + DD.attrs['units']+ ']'"
   ]
  },
  {
   "cell_type": "markdown",
   "metadata": {},
   "source": [
    "####  Figure settings\n"
   ]
  },
  {
   "cell_type": "markdown",
   "metadata": {},
   "source": [
    "#####  Figure settings\n"
   ]
  },
  {
   "cell_type": "markdown",
   "metadata": {},
   "source": [
    "######  Figure settings\n"
   ]
  },
  {
   "cell_type": "markdown",
   "metadata": {},
   "source": [
    "#######  Figure settings\n"
   ]
  },
  {
   "cell_type": "markdown",
   "metadata": {},
   "source": [
    "########  Figure settings\n"
   ]
  },
  {
   "cell_type": "markdown",
   "metadata": {},
   "source": [
    "#########  Figure settings\n"
   ]
  },
  {
   "cell_type": "markdown",
   "metadata": {},
   "source": [
    "##########  Figure settings\n"
   ]
  },
  {
   "cell_type": "markdown",
   "metadata": {},
   "source": [
    "###########  Figure settings\n"
   ]
  },
  {
   "cell_type": "markdown",
   "metadata": {},
   "source": [
    "############  Figure settings\n"
   ]
  },
  {
   "cell_type": "markdown",
   "metadata": {},
   "source": [
    "#############  Figure settings\n"
   ]
  },
  {
   "cell_type": "markdown",
   "metadata": {},
   "source": [
    "##############  Figure settings\n"
   ]
  },
  {
   "cell_type": "markdown",
   "metadata": {},
   "source": [
    "###############  Figure settings\n"
   ]
  },
  {
   "cell_type": "markdown",
   "metadata": {},
   "source": [
    "################  Figure settings\n"
   ]
  },
  {
   "cell_type": "markdown",
   "metadata": {},
   "source": [
    "#################  Figure settings\n"
   ]
  },
  {
   "cell_type": "markdown",
   "metadata": {},
   "source": [
    "##################  Figure settings\n"
   ]
  },
  {
   "cell_type": "code",
   "execution_count": null,
   "metadata": {
    "cellView": "form",
    "execution": {},
    "tags": [
     "hide-input"
    ]
   },
   "outputs": [],
   "source": [
    "# @title Figure settings\n",
    "import ipywidgets as widgets       # interactive display\n",
    "%config InlineBackend.figure_format = 'retina'\n",
    "plt.style.use(\"https://raw.githubusercontent.com/ClimateMatchAcademy/course-content/main/cma.mplstyle\")\n",
    "\n",
    "\n",
    "def font_for_print():\n",
    "\n",
    "    SMALL_SIZE = 8\n",
    "    MEDIUM_SIZE = 10\n",
    "    BIGGER_SIZE = 11\n",
    "    legend_properties = {'weight':'bold'}\n",
    "\n",
    "    plt.rc('font', size=SMALL_SIZE, serif='Helvetica Neue', weight='normal')          # controls default text sizes\n",
    "    #plt.rc('font', size=SMALL_SIZE, serif='DejaVu Sans', weight='light')\n",
    "    plt.rc('text', usetex='false')\n",
    "    plt.rc('axes', titlesize=MEDIUM_SIZE, labelweight='normal')     # fontsize of the axes title\n",
    "    plt.rc('axes', labelsize=SMALL_SIZE, labelweight='normal') #, family='bold')    # fontsize of the x and y labels\n",
    "    plt.rc('xtick', labelsize=SMALL_SIZE)    # fontsize of the tick labels\n",
    "    plt.rc('ytick', labelsize=SMALL_SIZE)    # fontsize of the tick labels\n",
    "    plt.rc('legend', fontsize=SMALL_SIZE, frameon=False)    # legend fontsize\n",
    "    plt.rc('figure', titlesize=MEDIUM_SIZE, titleweight='bold', autolayout=True) #, family='bold')  # fontsize of the figure title\n",
    "\n",
    "    plt.rc('axes', labelsize= SMALL_SIZE, labelweight='normal')\n",
    "\n",
    "font_for_print()"
   ]
  },
  {
   "cell_type": "markdown",
   "metadata": {
    "execution": {}
   },
   "source": [
    "Load data from Pangeo catalog"
   ]
  },
  {
   "cell_type": "code",
   "execution_count": null,
   "metadata": {
    "cellView": "both",
    "execution": {}
   },
   "outputs": [],
   "source": [
    "# cat  = open_catalog(\"https://raw.githubusercontent.com/pangeo-data/pangeo-datastore/master/intake-catalogs/atmosphere.yaml\")\n",
    "# CCMP = cat[\"nasa_CCMP_wind_vectors\"].to_dask()\n",
    "# CCMP = CCMP.sel(time=slice('1990', '1992'))#.plot()\n",
    "# print(ERA5)\n",
    "\n",
    "import os, pooch\n",
    "fname = 'ERA5_surface_winds_2020-2021_dd_short.nc'\n",
    "if not os.path.exists(fname):\n",
    "    url = \"https://osf.io/mfztd/download\"\n",
    "    fname = pooch.retrieve(url, known_hash=None, fname=fname)\n",
    "\n",
    "ERA5=xr.open_dataset(fname)\n",
    "ERA5"
   ]
  },
  {
   "cell_type": "code",
   "execution_count": null,
   "metadata": {
    "execution": {}
   },
   "outputs": [],
   "source": [
    "print('The time range is:')\n",
    "print( ERA5.time[0].data.astype('M8[h]') , 'to', ERA5.time[-1].data.astype('M8[h]') )"
   ]
  },
  {
   "cell_type": "markdown",
   "metadata": {
    "execution": {}
   },
   "source": [
    "## Surface winds driven by the general circulation of the atmosphere.\n",
    "\n",
    "- Slides about three cell structure and how they lead to surface winds\n"
   ]
  },
  {
   "cell_type": "markdown",
   "metadata": {
    "execution": {}
   },
   "source": [
    "## Part I: Plotting global surface winds\n",
    "\n",
    "Lets have a first look at the data and look at a single day of global surface winds. Surface winds are vectors, with a zonal component 'u10' and meridional component 'v10'. The length of this vector is the wind speed. \n",
    "\n",
    "The wind speed is defined as\n",
    "$$|u| = u_{speed} = \\sqrt{u^2 + v^2}$$\n",
    "\n",
    "Lets look how $u,v$, and $u_{speed}$ look like for single timestep:\n",
    "Here is the zonal wind component:"
   ]
  },
  {
   "cell_type": "code",
   "execution_count": null,
   "metadata": {
    "execution": {}
   },
   "outputs": [],
   "source": [
    "# Pick a day in January 2020. Just make sure you make the same format.\n",
    "date = '2020-01-02'\n",
    "\n",
    "ERA5_snapshot= ERA5.sel(time=date).load()\n",
    "# we define contours levels that will be used in all plots the compare them better\n",
    "colorlevels = np.arange(-25, 27, 2)\n",
    "\n",
    "var = 'u10'\n",
    "F, ax = set_projection_figure(projection = ccrs.PlateCarree(), figsize = (9, 5.5) )\n",
    "ax.set_title('Snapshot '+date +' | '+ var , loc ='left')\n",
    "dataplot = ax.contourf(ERA5_snapshot.longitude, ERA5_snapshot.latitude, ERA5_snapshot[var], levels = colorlevels, transform=ccrs.PlateCarree(), cmap= plt.cm.coolwarm)\n",
    "plt.colorbar(dataplot, orientation='vertical', label = 'm/s', shrink= 0.55 , pad = 0.08)\n",
    "plt.show()"
   ]
  },
  {
   "cell_type": "markdown",
   "metadata": {
    "execution": {}
   },
   "source": [
    "Can you make plots for $v_{10}$ and $u_{speed}$ as well?"
   ]
  },
  {
   "cell_type": "code",
   "execution_count": null,
   "metadata": {
    "execution": {}
   },
   "outputs": [],
   "source": [
    "# answer:\n",
    "\n",
    "# plotting v components\n",
    "var = 'v10'\n",
    "F, ax = set_projection_figure(projection = ccrs.PlateCarree(), figsize = (9, 5.5) )\n",
    "ax.set_title('Snapshot '+date +' | '+ var , loc ='left')\n",
    "dataplot = ax.contourf(ERA5_snapshot.longitude, ERA5_snapshot.latitude, ERA5_snapshot[var], levels = colorlevels, transform=ccrs.PlateCarree(), cmap= plt.cm.coolwarm)\n",
    "plt.colorbar(dataplot, orientation='vertical', label = 'm/s', shrink= 0.55 , pad = 0.08)\n",
    "plt.show()\n",
    "\n",
    "# computing u_speed\n",
    "ERA5_snapshot['u_speed'] = np.sqrt(ERA5_snapshot['u10']**2 + ERA5_snapshot['v10']**2)\n",
    "\n",
    "# plotting u_speed components\n",
    "var = 'u_speed'\n",
    "F, ax = set_projection_figure(projection = ccrs.PlateCarree(), figsize = (9, 5.5) )\n",
    "ax.set_title('Snapshot '+date +' | '+ var , loc ='left')\n",
    "dataplot = ax.contourf(ERA5_snapshot.longitude, ERA5_snapshot.latitude, ERA5_snapshot[var], levels = colorlevels, transform=ccrs.PlateCarree(), cmap= plt.cm.coolwarm)\n",
    "plt.colorbar(dataplot, orientation='vertical', label = 'm/s', shrink= 0.55 , pad = 0.08)\n",
    "plt.show()"
   ]
  },
  {
   "cell_type": "markdown",
   "metadata": {
    "execution": {}
   },
   "source": [
    "### *Discussion Questions:*\n",
    "- What do you observe for the zonal wind component? Where do you see the strongest winds and the most variability?\n",
    "- How does that compare to the meridional winds?"
   ]
  },
  {
   "cell_type": "markdown",
   "metadata": {
    "execution": {}
   },
   "source": [
    "## Extra-tropical Storms\n",
    "\n",
    "You see should observe in the last wind speed figure, are strong wind patches over the southern ocean, North Pacific and North Atlantic which come from strong zonal and meridional winds. These strong winds are created by extra-tropical storms. They are also known as mid-latitude cyclones and occur in the middle latitudes, between 30 and 60 degrees North or South of the equator, and are the strongest over the Southern Ocean and over Northern Hemisphere Oceans in Winter.\n",
    "\n",
    "They are formed by the interaction of warm and cold air masses and are characterized by a low-pressure center, with winds that circulate in a counter-clockwise direction in the Northern Hemisphere and clockwise in the Southern Hemisphere. These storms can be powerful and destructive, with strong winds, heavy rain, snow, and sleet, and can cause widespread flooding, power outages, and transportation disruptions. The strength of these storms varies depending on factors such as the temperature difference between the air masses, the speed of the jet stream, and the moisture content of the air.\n",
    "\n",
    "To learn more about extra-tropical storms, you can look at standard text books in Meteorology and Atmospheric dycnamics, or, for example here: \n",
    "\n",
    "https://en.wikipedia.org/wiki/Extratropical_cyclone\n",
    "\n",
    "http://pressbooks-dev.oer.hawaii.edu/atmo/chapter/chapter-13-extratropical-cyclones/\n",
    "\n",
    "One Storm may last for a few days and is too weak to create currents in the ocean. However continous winds andmany storms over a year will create oceancurrents as a response to the wind forcing. Now look at more data to understand these longer timescale impacts."
   ]
  },
  {
   "cell_type": "markdown",
   "metadata": {
    "execution": {}
   },
   "source": [
    "## Part II: Annual climatology of wind speed:\n",
    "\n",
    "Now we will use monthly mean data because we want to look at longterm changes of wind field. \n",
    "With xarray you can derive this monthly mean data form higher-resolution data with xr.resample('1M').mean('time'). \n",
    "For convience we did that step already such that you can load the data with \n",
    "\n",
    "- 'si10' is the wind speed in this dataset.\n",
    "- to calcualte the long-term mean we select 30 years of data, let's say 1980 to 2010:"
   ]
  },
  {
   "cell_type": "code",
   "execution_count": null,
   "metadata": {
    "execution": {}
   },
   "outputs": [],
   "source": [
    "fname = 'ERA5_surface_winds_mm.nc'\n",
    "if not os.path.exists(fname):\n",
    "    url = \"https://osf.io/3q4vs/download\"\n",
    "    fname = pooch.retrieve(url, known_hash=None, fname=fname)\n",
    "\n",
    "ERA5_mm=xr.open_dataset(fname).sel(time=slice('1980', '2010'))\n",
    "ERA5_mm"
   ]
  },
  {
   "cell_type": "markdown",
   "metadata": {
    "execution": {}
   },
   "source": [
    "### *Note:*\n",
    "Monthly mean ERA5 data is also avaiable through the Copernicus Portal:\n",
    "\n",
    "[Monthly mean on single levels](https://cds.climate.copernicus.eu/cdsapp#!/dataset/reanalysis-era5-single-levels-monthly-means?tab=overview), \n",
    "[Monthly mean on pressure levels](https://cds.climate.copernicus.eu/cdsapp#!/dataset/reanalysis-era5-pressure-levels-monthly-means?tab=overview)\n",
    "\n",
    "--------\n",
    "Let start with the climatology of zonal wind"
   ]
  },
  {
   "cell_type": "code",
   "execution_count": null,
   "metadata": {
    "execution": {}
   },
   "outputs": [],
   "source": [
    "ERA5_ANN = ERA5_mm.mean('time')"
   ]
  },
  {
   "cell_type": "code",
   "execution_count": null,
   "metadata": {
    "execution": {}
   },
   "outputs": [],
   "source": [
    "# adjust colorlevels to weaker amplitudes\n",
    "colorlevels_clim = np.arange(-10, 11, 1)\n",
    "\n",
    "var = 'u10'\n",
    "F, ax = set_projection_figure(projection = ccrs.PlateCarree(), figsize = (9, 5.5) )\n",
    "ax.set_title('Snapshot '+date +' | '+ var , loc ='left')\n",
    "dataplot = ax.contourf(ERA5_ANN.longitude, ERA5_ANN.latitude, ERA5_ANN[var],\n",
    "                       levels = colorlevels_clim,\n",
    "                       transform=ccrs.PlateCarree(), cmap= plt.cm.coolwarm)\n",
    "plt.colorbar(dataplot, orientation='vertical', label = 'm/s', shrink= 0.55 , pad = 0.08)\n",
    "plt.show()"
   ]
  },
  {
   "cell_type": "markdown",
   "metadata": {
    "execution": {}
   },
   "source": [
    "You see two strong wind bands between 35 to 65 degrees North or South, which are the socalled *westerlies* in the mid-latitudes. Then you also see dominantly *easterly* winds in the tropic ($< 30^\\circ$ N/S). \n",
    "These two wind regimes, one in the tropics and one in the extra-tropics, are weirdly linked through the so-called large-scale circulation of the atmosphere. This circulation is often described as 3-cell struture, which you see here:\n",
    "    \n",
    "![948px-Earth_Global_Circulation_-_en.svg.png](attachment:ff181dda-cb5d-4e71-b48d-59807d848c81.png)\n",
    "    \n",
    "https://commons.wikimedia.org/wiki/File:Earth_Global_Circulation_-_en.svg\n",
    "   \n",
    "These large-scale circulation are a major contributer to the climate we expierene in differnent lattitudes. \n",
    "\n",
    "*Discussion questions:*\n",
    "- 1. Which of the three \"cells\" (Hadley Cell, Farrell Cell, and Polar Cell) in the figure belong to the zonal wind band that we plotted above?\n",
    "\n",
    "The circulation cells in the schematic also show a meridional (north-south) component of the surface winds, but we onnly plotted the zonal wind climatology. Let's also make the meridional wind climatology and see how that looks like:"
   ]
  },
  {
   "cell_type": "code",
   "execution_count": null,
   "metadata": {
    "execution": {}
   },
   "outputs": [],
   "source": [
    "# put code here"
   ]
  },
  {
   "cell_type": "code",
   "execution_count": null,
   "metadata": {
    "execution": {}
   },
   "outputs": [],
   "source": [
    "# answer:\n",
    "var = 'v10'\n",
    "F, ax = set_projection_figure(projection = ccrs.PlateCarree(), figsize = (9, 5.5) )\n",
    "ax.set_title('Snapshot '+date +' | '+ var , loc ='left')\n",
    "dataplot = ax.contourf(ERA5_ANN.longitude, ERA5_ANN.latitude, ERA5_ANN[var],\n",
    "                       levels = colorlevels_clim,\n",
    "                       transform=ccrs.PlateCarree(), cmap= plt.cm.coolwarm)\n",
    "plt.colorbar(dataplot, orientation='vertical', label = 'm/s', shrink= 0.55 , pad = 0.08)\n",
    "plt.show()"
   ]
  },
  {
   "cell_type": "markdown",
   "metadata": {
    "execution": {}
   },
   "source": [
    "You see the are strong southward winds in the Northern Hemisphere subtropic (blue) and northward wind in the Southern hemisphere, also in the subtropic. What else do you see when you compare the zonal with the meridional wind climatology?\n",
    "\n",
    "### Answer:\n",
    "The meridional winds seam to be strongest on the western side of the continents. \n",
    "The reasons for that are hard to explain here, but want to look at their overall effect. For that, we can plot the zonal mean of the zonal and meridional winds:"
   ]
  },
  {
   "cell_type": "code",
   "execution_count": null,
   "metadata": {
    "execution": {}
   },
   "outputs": [],
   "source": [
    "ERA5_ANN.mean('longitude')['u10'].plot(label = 'zonal wind')\n",
    "ERA5_ANN.mean('longitude')['v10'].plot(label = 'meridional wind')\n",
    "plt.legend()\n",
    "plt.title('Annual mean, zonal mean winds', loc= 'left' )\n",
    "ax = plt.gca()\n",
    "ax.axhline(0, color = 'black')"
   ]
  },
  {
   "cell_type": "markdown",
   "metadata": {
    "execution": {}
   },
   "source": [
    "### *Questions:*\n",
    "- With the figure above in mind, why do you see these large differences in the nothern and Southern Hemisphere?"
   ]
  },
  {
   "cell_type": "markdown",
   "metadata": {
    "execution": {}
   },
   "source": [
    "### Answer:\n",
    "\n",
    "The continents influence the strength of the winds, and since the continents are so unevenly positioned on on the planet, the winds are weaker in the North then in the South. The strongest winds occur in the Southenr Ocean, where we nearly ahve no continents, and the winds must get very strong to create the same amount of drag as over the large land masses in the Northern Hemisphere."
   ]
  },
  {
   "cell_type": "markdown",
   "metadata": {
    "execution": {}
   },
   "source": [
    "## Part III: Seasonal Climatology\n",
    "\n",
    "Lets finalluy look at how the zonal mean winds change with season. We do that here for zonal and meridional winds seperatly.\n",
    "Let start with the zonal component. For that we create a so-called Hoffmöller diagram, that has latitude on the horizonal axis and time in the vertical axis.\n",
    "That will show us how the zonal mean winds differ with season and how the seasons differ over the years:\n"
   ]
  },
  {
   "cell_type": "code",
   "execution_count": null,
   "metadata": {
    "execution": {}
   },
   "outputs": [],
   "source": [
    "# the groupby command regroups the data by month, such that all Januarys, all Februaries, .. and so on are taken the mean over\n",
    "ERA5_mm.mean('longitude')['u10'].groupby('time.month').mean().plot()"
   ]
  },
  {
   "cell_type": "markdown",
   "metadata": {
    "execution": {}
   },
   "source": [
    "### *Task:*\n",
    "\n",
    "Now its on you to make the same disagram for the meridinal winds:\n",
    "    "
   ]
  },
  {
   "cell_type": "code",
   "execution_count": null,
   "metadata": {
    "execution": {}
   },
   "outputs": [],
   "source": [
    "ERA5_mm.mean('longitude')['v10'].groupby('time.month').mean().plot()"
   ]
  },
  {
   "cell_type": "markdown",
   "metadata": {
    "execution": {}
   },
   "source": [
    "#### *A few note:*\n",
    "- The winds in the Southern Hemisphere seam to be generally stronger then in the Northern Hemisphere.\n",
    "- The strong meridional winds between June and September come from the variation if the Hadley cell with season. \n",
    "The Hadley cell in the repspective winter hemisphers is much stronger.\n",
    "- the zonal winds are about twice as astrong as the meridional component (look at the colorbars). Does that align with the Cell structure shown above?"
   ]
  },
  {
   "cell_type": "markdown",
   "metadata": {
    "execution": {}
   },
   "source": [
    "---\n",
    "# Summary\n",
    "\n",
    "In this Tutorial you learned about about the atmopsheric circulation by just analysing at surface winds. By using the ERA5 reanlysis you now have a basic understanding of \n",
    "\n",
    "- the westerlies and Easterlies on the globe, how they vary with season, and that they are statistics over many individual storms that can create strong winds locally.\n",
    "- You observed that the strongest winds appear over the Southern Ocean.\n",
    "\n",
    "You learned \n",
    "- how to make climatology over different dimensions of the dataset, and\n",
    "- how to regroup ata by a timestamp, in this case month.\n"
   ]
  },
  {
   "cell_type": "markdown",
   "metadata": {
    "execution": {}
   },
   "source": [
    "### Bonus:\n",
    "\n",
    "- plot the global map for DJF and JJA of the zonal wind. What do you see when you compare the mid-latitudes? (you can also plot their differnce(!)\n",
    "\n",
    "- plot trend of the zonal mean zonal wind in DJF\n",
    "\n",
    "\n",
    "That is because the solar insulation leads to varying circulation patterns with seasons. \n",
    "More about this you can find in [Global Physical Climatology](https://www.atmos.washington.edu/~dennis/gpc.html), \n",
    "[The Atmospheric General Circulation](https://www.cambridge.org/us/academic/subjects/earth-and-environmental-science/atmospheric-science-and-meteorology/atmospheric-general-circulation?format=HB&isbn=9781108474245)\n",
    "or the first few chapters of this evolving draft [Physics of Earth's Climate](https://climate-dynamics.org/wp-content/uploads/2017/04/Climate_Book.pdf)\n"
   ]
  },
  {
   "cell_type": "code",
   "execution_count": null,
   "metadata": {
    "execution": {}
   },
   "outputs": [],
   "source": [
    "# answer:\n",
    "ERA5_season = ERA5_mm.groupby('time.season').mean()\n",
    "\n",
    "var='u10'\n",
    "season='DJF'\n",
    "F, ax = set_projection_figure(projection = ccrs.PlateCarree(), figsize = (9, 5.5) )\n",
    "ax.set_title('Zonal Wind DJF climatology | '+ var , loc ='left')\n",
    "dataplot = ax.contourf(ERA5_season.longitude, ERA5_season.latitude, ERA5_season.sel(season=season)[var],\n",
    "                       levels = colorlevels_clim,\n",
    "                       transform=ccrs.PlateCarree(), cmap= plt.cm.coolwarm)\n",
    "plt.colorbar(dataplot, orientation='vertical', label = 'm/s', shrink= 0.55 , pad = 0.08)\n",
    "plt.show()\n",
    "\n",
    "\n",
    "var='u10'\n",
    "season='JJA'\n",
    "F, ax = set_projection_figure(projection = ccrs.PlateCarree(), figsize = (9, 5.5) )\n",
    "ax.set_title('Meridional Wind DJF climatology | '+ var , loc ='left')\n",
    "dataplot = ax.contourf(ERA5_season.longitude, ERA5_season.latitude, ERA5_season.sel(season=season)[var],\n",
    "                       levels = colorlevels_clim,\n",
    "                       transform=ccrs.PlateCarree(), cmap= plt.cm.coolwarm)\n",
    "plt.colorbar(dataplot, orientation='vertical', label = 'm/s', shrink= 0.55 , pad = 0.08)\n",
    "plt.show()\n",
    "\n",
    "# difference:\n",
    "var='u10'\n",
    "pdata =ERA5_season.sel(season='DJF')[var] - ERA5_season.sel(season='JJA')[var]\n",
    "\n",
    "F, ax = set_projection_figure(projection = ccrs.PlateCarree(), figsize = (9, 5.5) )\n",
    "ax.set_title('Meridional Wind DJF climatology | '+ var , loc ='left')\n",
    "dataplot = ax.contourf(ERA5_season.longitude, ERA5_season.latitude,pdata ,\n",
    "                       levels = colorlevels_clim,\n",
    "                       transform=ccrs.PlateCarree(), cmap= plt.cm.coolwarm)\n",
    "plt.colorbar(dataplot, orientation='vertical', label = 'm/s', shrink= 0.55 , pad = 0.08)\n",
    "plt.show()"
   ]
  }
 ],
 "metadata": {
  "colab": {
   "collapsed_sections": [],
   "include_colab_link": true,
   "name": "W1D2_Tutorial3",
   "provenance": [],
   "toc_visible": true
  },
  "kernel": {
   "display_name": "Python 3",
   "language": "python",
   "name": "python3"
  },
  "kernelspec": {
   "display_name": "py37",
   "language": "python",
   "name": "py37"
  },
  "language_info": {
   "codemirror_mode": {
    "name": "ipython",
    "version": 3
   },
   "file_extension": ".py",
   "mimetype": "text/x-python",
   "name": "python",
   "nbconvert_exporter": "python",
   "pygments_lexer": "ipython3",
   "version": "3.7.9"
  },
  "toc-autonumbering": true
 },
 "nbformat": 4,
 "nbformat_minor": 0
}