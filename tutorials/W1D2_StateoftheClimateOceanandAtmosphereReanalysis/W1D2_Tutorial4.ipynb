{
 "cells": [
  {
   "cell_type": "markdown",
   "metadata": {
    "execution": {},
    "id": "Se-poalyHJbj",
    "tags": []
   },
   "source": [
    "# **Tutorial 4: Oceanic Wind-driven Circulation**\n",
    "\n",
    "**Week 1, Day 2: Ocean and Atmospheric Reanalysis**\n",
    "\n",
    "__Content creators:__   Abigail Bodner\n",
    "\n",
    "**Content reviewers:** Katrina Dobson, Danika Gupta, Maria Gonzalez, Will Gregory, Nahid Hasan, Sherry Mi, Beatriz Cosenza Muralles, Jenna Pearson, Chi Zhang, Ohad Zivan\n",
    "\n",
    "**Content editors:** Brodie Pearson, Jenna Pearson, Chi Zhang, Ohad Zivan\n",
    "\n",
    "**Production editors:** Wesley Banfield, Jenna Pearson, Chi Zhang, Ohad Zivan\n",
    "\n",
    "**Our 2023 Sponsors:** NASA TOPS and Google DeepMind"
   ]
  },
  {
   "cell_type": "markdown",
   "metadata": {},
   "source": [
    "\n",
    "![CMIP.png](https://github.com/ClimateMatchAcademy/course-content/blob/main/tutorials/Art/CMIP.png?raw=true)|\n",
    "-\n"
   ]
  },
  {
   "cell_type": "markdown",
   "metadata": {
    "execution": {},
    "id": "5laa8kptHJbl"
   },
   "source": [
    "# **Tutorial Objectives**\n",
    "\n",
    "The ocean's motion is driven by radiation from the sun, winds, and various sources & sinks of fresh water  (precipitation, rivers, melting and freezing ice). In the previous tutorial, you quantified the surface winds around the world. The surface winds drags on the surface of the ocean which results in ocean transport, known as Ekman transport.\n",
    "\n",
    "In this tutorial you will use the [ECCO (Estimating the Circulation and Climate of the Ocean)](https://www.ecco-group.org) reanalysis data, to visualize the ocean's surface currents and to compare these currents against local atmospheric conditions.\n",
    "\n",
    "At the end of this tutorial you will be able to\n",
    "\n",
    "- Access and manipulate ocean reanalysis data\n",
    "- Plot annual mean ocean surface currents and atmospheric surface winds\n",
    "- Compare oceanic and atmospheric circulation patterns"
   ]
  },
  {
   "cell_type": "markdown",
   "metadata": {
    "execution": {},
    "id": "etIM9EOWHJbm",
    "tags": []
   },
   "source": [
    "# **Setup**"
   ]
  },
  {
   "cell_type": "code",
   "execution_count": null,
   "metadata": {
    "colab": {
     "base_uri": "https://localhost:8080/"
    },
    "id": "hLzRxo9THJbm",
    "outputId": "8eeac177-df6f-4d5b-f3a3-05326a35f68c",
    "tags": [
     "colab"
    ]
   },
   "outputs": [],
   "source": [
    "# !pip install pythia_datasets\n",
    "# !pip install cartopy\n",
    "# !pip install geoviews"
   ]
  },
  {
   "cell_type": "code",
   "execution_count": null,
   "metadata": {
    "id": "s0etc9aMHJbn"
   },
   "outputs": [],
   "source": [
    "#from intake import open_catalog\n",
    "import matplotlib.pyplot as plt\n",
    "import matplotlib\n",
    "import os\n",
    "import pooch\n",
    "import tempfile\n",
    "import numpy as np\n",
    "import xarray as xr\n",
    "import warnings\n",
    "from cartopy import crs as ccrs, feature as cfeature\n",
    "#  suppress warnings issued by Cartopy when downloading data files\n",
    "warnings.filterwarnings('ignore')"
   ]
  },
  {
   "cell_type": "code",
   "execution_count": null,
   "metadata": {
    "id": "vh4SXOowHJbo",
    "tags": [
     "colab"
    ]
   },
   "outputs": [],
   "source": [
    "# @title Video 1: Speaker Introduction\n",
    "#Tech team will add code to format and display the video"
   ]
  },
  {
   "cell_type": "code",
   "execution_count": null,
   "metadata": {
    "tags": []
   },
   "outputs": [],
   "source": [
    "# helper functions\n",
    "\n",
    "def pooch_load(filelocation=None,filename=None,processor=None):\n",
    "    shared_location='/home/jovyan/shared/Data/tutorials/W1D2_StateoftheClimateOceanandAtmosphereReanalysis' # this is different for each day\n",
    "    user_temp_cache=tempfile.gettempdir()\n",
    "    \n",
    "    if os.path.exists(os.path.join(shared_location,filename)):\n",
    "        file = os.path.join(shared_location,filename)\n",
    "    else:\n",
    "        file = pooch.retrieve(filelocation,known_hash=None,fname=os.path.join(user_temp_cache,filename),processor=processor)\n",
    "\n",
    "    return file"
   ]
  },
  {
   "cell_type": "markdown",
   "metadata": {
    "id": "GGALfb_GHJbo"
   },
   "source": [
    "# **Section 1: Load Ocean & Atmosphere Reanalysis Data**"
   ]
  },
  {
   "cell_type": "markdown",
   "metadata": {
    "execution": {},
    "id": "POnVDkWfHJbo"
   },
   "source": [
    "Here you will load atmospheric near-surface winds (at 10-meter height), and then load the oceanic surface currents from ECCO reanalysis data\n",
    "\n",
    "*Note, each of these variables is a velocity with two components (zonal and meridional). These two velocity components must be loaded separately for each variable, so you will load four datasets.*\n",
    "\n"
   ]
  },
  {
   "cell_type": "code",
   "execution_count": null,
   "metadata": {
    "cellView": "both",
    "colab": {
     "base_uri": "https://localhost:8080/",
     "height": 289
    },
    "id": "vyDhYXMPHJbp",
    "outputId": "857b4545-d062-4fdd-f00c-4767c1a1cf60"
   },
   "outputs": [],
   "source": [
    "# load data: atmospheric 10m wind from ECCO\n",
    "# wind in east/west direction labeled here as 'u'\n",
    "fname_atm_wind_u = 'wind_evel_monthly_2016.nc'\n",
    "url_atm_wind_u = \"https://osf.io/ke9yp/download\"\n",
    "atm_wind_u = xr.open_dataarray(pooch_load(url_atm_wind_u,fname_atm_wind_u))\n",
    "atm_wind_u"
   ]
  },
  {
   "cell_type": "code",
   "execution_count": null,
   "metadata": {
    "colab": {
     "base_uri": "https://localhost:8080/",
     "height": 289
    },
    "id": "OjIKOjHHNwTc",
    "outputId": "290843ab-2d95-4736-e802-7d1b4c930dc9"
   },
   "outputs": [],
   "source": [
    "# wind in north/south direction labeled here as 'v'\n",
    "fname_atm_wind_v = 'wind_nvel_monthly_2016.nc'\n",
    "url_atm_wind_v = \"https://osf.io/9zkgd/download\"\n",
    "atm_wind_v = xr.open_dataarray(pooch_load(url_atm_wind_v,fname_atm_wind_v))\n",
    "atm_wind_v"
   ]
  },
  {
   "cell_type": "code",
   "execution_count": null,
   "metadata": {
    "colab": {
     "base_uri": "https://localhost:8080/",
     "height": 586
    },
    "id": "I_R3lu6rHJbp",
    "outputId": "68144263-7bbd-4fe8-d171-f6673e931249"
   },
   "outputs": [],
   "source": [
    "# load data: oceanic surface current from ECCO\n",
    "# current in east/west direction labeled here as 'u'\n",
    "fname_ocn_surface_current_u = 'evel_monthly_2016.nc'\n",
    "url_ocn_surface_current_u = \"https://osf.io/ndx5a/download\"\n",
    "ocn_surface_current_u = xr.open_dataarray(pooch_load(url_ocn_surface_current_u,fname_ocn_surface_current_u))\n",
    "ocn_surface_current_u"
   ]
  },
  {
   "cell_type": "code",
   "execution_count": null,
   "metadata": {
    "colab": {
     "base_uri": "https://localhost:8080/",
     "height": 289
    },
    "id": "4-Ua3ZqzHJbp",
    "outputId": "82866992-1966-4d56-8b95-15f9c44869b1"
   },
   "outputs": [],
   "source": [
    "# current in east/west direction labeled here as 'v'\n",
    "fname_ocn_surface_current_v = 'nvel_monthly_2016.nc'\n",
    "url_ocn_surface_current_v = \"https://osf.io/qa9ex/download\"\n",
    "ocn_surface_current_v = xr.open_dataarray(pooch_load(url_ocn_surface_current_v,fname_ocn_surface_current_v))\n",
    "ocn_surface_current_v"
   ]
  },
  {
   "cell_type": "markdown",
   "metadata": {
    "execution": {},
    "id": "jsYNEyxEHJbq"
   },
   "source": [
    "## **Section 1.1: Exploring the Reanalysis Data**\n",
    "\n",
    "Let's examine the time (or temporal/output) frequency, which descibes the rate at which the reanalysis data is provided, for one of the ECCO variables (*atm_wind_u*). \n",
    "\n",
    "*Note that all the variables should have the same output frequency.*"
   ]
  },
  {
   "cell_type": "code",
   "execution_count": null,
   "metadata": {
    "colab": {
     "base_uri": "https://localhost:8080/",
     "height": 330
    },
    "id": "iuHC8RQGREQk",
    "outputId": "3fefdce0-3620-4ff0-e1b6-f65a38afffd9"
   },
   "outputs": [],
   "source": [
    "atm_wind_u.time"
   ]
  },
  {
   "cell_type": "markdown",
   "metadata": {
    "execution": {},
    "id": "xiQPaDMHHJbq"
   },
   "source": [
    "## **Questions 1.1**\n",
    "1. Why do you think the atmospheric reanalysis dataset from the previous tutorial (ERA5) has higher output frequency (hourly) than the ECCO ocean reanalysis dataset (daily)?\n",
    "2. What can you infer about the role of these two systems at different timescales in the climate system?"
   ]
  },
  {
   "cell_type": "code",
   "execution_count": null,
   "metadata": {
    "id": "o0ZcXSPNHJbq"
   },
   "outputs": [],
   "source": [
    "# to_remove explanation\n",
    "\n",
    "\"\"\"\n",
    "1. The atmospheric dataset has a higher output frequency than the oceanic dataset because of the different timescales on which the atmosphere and the ocean change significantly. The atmosphere has a lower heat capacity (i.e., thermal inertia) and density than the ocean. This means that the temperature and wind speed (which is related to momentum) of the atmosphere can change rapidly (over minutes to hours), while the ocean temperature and currents change more slowly.\n",
    "2. The atmosphere plays a faster, more immediate role in the climate system than the ocean. It reacts quickly to heat and pressure differences, driving weather and synoptic features. The ocean, on the other hand, plays a longer-term role in the climate system and provides a buffering effect against rapid atmospheric changes.\n",
    "\"\"\";\n"
   ]
  },
  {
   "cell_type": "markdown",
   "metadata": {
    "execution": {},
    "id": "qhpgpkgTHJbq",
    "tags": []
   },
   "source": [
    "# **Section 2: Plotting the Annual Mean of Global Surface Wind Stress**\n",
    "\n",
    "In this section you will create global maps displaying the annual mean of atmospheric 10m winds.\n",
    "\n",
    "First, you should compute the annual mean of the surface wind variables. You can do so by averaging over the time dimension using `.mean(dim='time')`. Since you have monthly data spanning only one year, `.mean(dim='time')` will give the annual mean for the year 2016.\n"
   ]
  },
  {
   "cell_type": "code",
   "execution_count": null,
   "metadata": {
    "colab": {
     "base_uri": "https://localhost:8080/",
     "height": 403
    },
    "id": "5Mj2pSuhHJbr",
    "outputId": "9bd4f9c4-96f4-4db6-b95a-1c3a77aa26e4"
   },
   "outputs": [],
   "source": [
    "# compute the annual mean of atm_wind_u\n",
    "atm_wind_u_an_mean = atm_wind_u.mean(dim='time')\n",
    "atm_wind_u_an_mean"
   ]
  },
  {
   "cell_type": "code",
   "execution_count": null,
   "metadata": {
    "colab": {
     "base_uri": "https://localhost:8080/",
     "height": 403
    },
    "id": "-co_951WTf2p",
    "outputId": "f75c1a50-756c-4ea0-8f69-ef7caea4aa2a"
   },
   "outputs": [],
   "source": [
    "# take the annual mean of atm_wind_stress_v\n",
    "atm_wind_v_an_mean = atm_wind_v.mean(dim='time')\n",
    "atm_wind_v_an_mean"
   ]
  },
  {
   "cell_type": "markdown",
   "metadata": {
    "execution": {},
    "id": "VUPo6Mg2HJbr"
   },
   "source": [
    "You are now almost ready to plot! \n",
    "\n",
    "However, you currently have seperate zonal and meridional wind velocity components $(u,v)$. An effective way of visualizing the total surface wind stress is to create a global map of the *magnitude* and *direction* of the wind velocity vector. This type of plot is known as a vector field. A [vector](https://glossary.ametsoc.org/wiki/Vector) is a special mathematical quantity that has both magnitude and direction, just like the wind! The velocity components describe the intensity of wind blowing in the zonal ($u$) or meridional ($v$) directions. Specifically, wind can blow eastward (positive $u$) or westward (negative $u$), as well as northward (positive $v$) or southward (negative $v$).\n",
    "\n",
    "The total velocity vector is the *vector sum* of these two components and exhibits varying magnitude and direction. The magnitude ($||u||$) and direction ($θ$) of the total velocity vector can be determined using the following equations:\n",
    "\n",
    "\\begin{align}\n",
    "||u|| = \\sqrt{u^2 + v^2},  \\ \\  \\ \\ \\theta = tan^{-1}(\\frac{v}{u})\n",
    "\\end{align}\n",
    "\n",
    "When plotting a vector field using a computer, it is commonly referred to as a quiver plot. In our case, we will utilize a [quiver function created by Ryan Abernathey](https://rabernat.github.io/intro_to_physical_oceanography/07_ekman.html) that calculates the magnitude and direction of the total velocity vector based on the given zonal and meridional components.\n",
    "\n",
    "We will overlay the quiver plot on top of the annual mean ocean surface temperature (labeled here as theta)."
   ]
  },
  {
   "cell_type": "code",
   "execution_count": null,
   "metadata": {
    "colab": {
     "base_uri": "https://localhost:8080/",
     "height": 398
    },
    "id": "glIrfNPlztRQ",
    "outputId": "8c339bff-55c6-4a9a-8118-8046b658d6f5"
   },
   "outputs": [],
   "source": [
    "fname_surface_temp = 'surface_theta.nc'\n",
    "url_fname_surface_temp = \"https://osf.io/98ksr/download\"\n",
    "ocn_surface_temp = xr.open_dataarray(pooch.retrieve(url_fname_surface_temp, known_hash=None, fname=fname_surface_temp))\n",
    "ocn_surface_temp"
   ]
  },
  {
   "cell_type": "code",
   "execution_count": null,
   "metadata": {
    "colab": {
     "base_uri": "https://localhost:8080/",
     "height": 630
    },
    "id": "nXtWK8HcHJbr",
    "outputId": "fd6a1aaa-3fcb-4ea2-82fa-f222faaf8a31"
   },
   "outputs": [],
   "source": [
    "# longitude ad latitude coordinates for plotting\n",
    "lon = atm_wind_u_an_mean.longitude\n",
    "lat = atm_wind_u_an_mean.latitude\n",
    "\n",
    "# calculate magnitude of total velocity\n",
    "mag = (atm_wind_u_an_mean**2 + atm_wind_v_an_mean**2)**0.5\n",
    "\n",
    "# coarsen the grid so the arrows are distinguishable by only selecting\n",
    "# some longitudes and latitudes defined by sampling_x and sampling_y.\n",
    "slx = slice(None, None, 20)\n",
    "sly = slice(None, None, 20)\n",
    "sl2d = (sly, slx)\n",
    "\n",
    "fig ,ax= plt.subplots(figsize=(12, 6),subplot_kw={'projection': ccrs.Robinson(central_longitude=180)})\n",
    "\n",
    "c = ax.contourf(lon,lat,ocn_surface_temp, alpha = 0.5)\n",
    "\n",
    "# plot quiver arrows indicating vector direction (winds are in blue, alpha is for opacity)\n",
    "q = ax.quiver(lon[slx],lat[sly],atm_wind_u_an_mean[sl2d],atm_wind_v_an_mean[sl2d],\n",
    "          color='b', alpha=0.5)\n",
    "\n",
    "ax.quiverkey(q, 175, 95, 5, '5 m/s', coordinates='data')\n",
    "\n",
    "fig.colorbar(c,label = 'Sea Surface Temperature (degC)')"
   ]
  },
  {
   "cell_type": "markdown",
   "metadata": {
    "execution": {},
    "id": "IuOl8u71HJbs"
   },
   "source": [
    "# Section 3: Comparing Global Maps of Surface Currents and Winds"
   ]
  },
  {
   "cell_type": "markdown",
   "metadata": {
    "execution": {},
    "id": "UpB4TWgbHJbs"
   },
   "source": [
    "In this section you will compute the annual mean of the ocean surface currents, similar to your above analyses of atmospheric winds, and you will create a global map that shows both of these variables simultaneously."
   ]
  },
  {
   "cell_type": "code",
   "execution_count": null,
   "metadata": {
    "colab": {
     "base_uri": "https://localhost:8080/",
     "height": 204
    },
    "id": "DQsoCHcTHJbs",
    "outputId": "e53f3647-1cb9-4b75-e5d1-c599d0e110ab",
    "tags": []
   },
   "outputs": [],
   "source": [
    "# take the annual mean of ocn_surface_current_u\n",
    "ocn_surface_current_u_an_mean = ocn_surface_current_u.mean(dim='time')\n",
    "ocn_surface_current_u_an_mean"
   ]
  },
  {
   "cell_type": "code",
   "execution_count": null,
   "metadata": {
    "colab": {
     "base_uri": "https://localhost:8080/",
     "height": 403
    },
    "id": "6VnsjOzIHJbs",
    "outputId": "21e85448-1e71-4314-c6f0-9523dfa2d93a"
   },
   "outputs": [],
   "source": [
    "# take the annual mean of ocn_surface_current_v\n",
    "ocn_surface_current_v_an_mean = ocn_surface_current_v.mean(dim='time')\n",
    "ocn_surface_current_v_an_mean"
   ]
  },
  {
   "cell_type": "markdown",
   "metadata": {
    "id": "xTssm6IFjMgR"
   },
   "source": [
    "Let's add ocean surface currents to the previous plot above, using **red** quivers. Note the scale of the arrows for the ocean and atmosphere are very different."
   ]
  },
  {
   "cell_type": "code",
   "execution_count": null,
   "metadata": {
    "colab": {
     "base_uri": "https://localhost:8080/",
     "height": 835
    },
    "id": "HQqhzKoWHJb3",
    "outputId": "604a2178-7491-46aa-c5dc-be0fbabcd6ae"
   },
   "outputs": [],
   "source": [
    "# longitude ad latitude coordinates for plotting\n",
    "lon = atm_wind_u_an_mean.longitude\n",
    "lat = atm_wind_u_an_mean.latitude\n",
    "\n",
    "# calculate magnitude of total velocity\n",
    "mag = (atm_wind_u_an_mean**2 + atm_wind_v_an_mean**2)**0.5\n",
    "\n",
    "# coarsen the grid so the arrows are distinguishable by only selecting\n",
    "# some longitudes and latitudes defined by sampling_x and sampling_y.\n",
    "slx = slice(None, None, 20)\n",
    "sly = slice(None, None, 20)\n",
    "sl2d = (sly, slx)\n",
    "\n",
    "#fig, ax = plt.subplots(**kwargs)\n",
    "fig ,ax= plt.subplots(figsize=(12, 6),subplot_kw={'projection': ccrs.Robinson(central_longitude=180)})\n",
    "\n",
    "c = ax.contourf(lon,lat,ocn_surface_temp, alpha=0.5)\n",
    "\n",
    "# plot quiver arrows indicating vector direction (winds are in blue, alpha is for opacity)\n",
    "q1 = ax.quiver(lon[slx],lat[sly],atm_wind_u_an_mean[sl2d],atm_wind_v_an_mean[sl2d],color='b', alpha=0.5)\n",
    "\n",
    "# plot quiver arrows indicating vector direction (ocean currents are in red, alpha is for opacity)\n",
    "q2 = ax.quiver(lon[slx],lat[sly],ocn_surface_current_u_an_mean[sl2d],ocn_surface_current_v_an_mean[sl2d],color='r', alpha=0.5)\n",
    "\n",
    "ax.quiverkey(q1, 175, 95, 5, '5 m/s', coordinates='data')\n",
    "\n",
    "ax.quiverkey(q2, 150, 95, .05, '5 cm/s', coordinates='data')\n",
    "\n",
    "fig.colorbar(c,label = 'Sea Surface Temperature (degC)')\n"
   ]
  },
  {
   "cell_type": "markdown",
   "metadata": {
    "execution": {},
    "id": "OKFfbIdCHJb4"
   },
   "source": [
    "### **Questions 3**\n",
    "\n",
    "You may notice that the surface currents (red) are typically not aligned with the wind direction (blue). In fact, the surface ocean currents flow at an angle of approximately 45 degrees to the wind direction! \n",
    "\n",
    "The combination of [Coriolis force](https://en.wikipedia.org/wiki/Coriolis_force) and the friction between ocean layers causes the wind-driven currents to turn and weaken with depth, eventually dissapearing entirely at depth. The resulting current *profile* is called the **[Ekman Spiral](https://en.wikipedia.org/wiki/Ekman_spiral)**, and the depth over which the spiral is present is called the **Ekman layer**. While the shape of this spiral can vary in time and space, the depth-integrated transport of water within the Ekman layer is called [**Ekman transport**](https://en.wikipedia.org/wiki/Ekman_transport). Ekman transport is always *90 degrees to the right* of the wind in the Northern Hemisphere, and 90 degrees to the *left* of the wind in the Southern Hemisphere. Under certain wind patterns or near coastlines, Ekman transport can lead to **Ekman Pumping**, where water is upwelled or downwelled depending on the wind direction. This process is particularily important for coastal ecosystems that rely on this upwelling (which is often seasonal) to bring nutrient-rich waters near the surface. These nutrients fuel the growth of tiny marine plants that support the entire food chain, upon which coastal economies often rely. These tiny plants are also responsible for most of the oxygen we breathe!\n",
    "\n",
    "1. Do you observe a deflection of the surface currents relative to the wind? \n",
    "2. Is this deflection the same in both the Northern and Southern Hemispheres?\n"
   ]
  },
  {
   "cell_type": "code",
   "execution_count": null,
   "metadata": {},
   "outputs": [],
   "source": [
    "# to_remove explanation\n",
    "\n",
    "\"\"\" \n",
    "1. Yes, the surface currents are deflected relative to the surface winds, and this seems to happen globally.\n",
    "2. The deflection of the ocean surface current is to the left of the wind in the Southern Hemisphere, and is to the right of the wind in the Northern Hemisphere. This property is predicted by Ekman flow.\n",
    "\"\"\";"
   ]
  },
  {
   "cell_type": "markdown",
   "metadata": {
    "execution": {},
    "id": "gJ3hpaPjHJb4"
   },
   "source": [
    "# **Summary**\n"
   ]
  },
  {
   "cell_type": "markdown",
   "metadata": {
    "execution": {},
    "id": "JesdLgc9HJb4"
   },
   "source": [
    "In this tutorial, you explored how atmospheric winds can shape ocean surface currents.\n",
    "\n",
    "You calculated the surface wind vector an assessed its influence on surface ocean currents called the wind-driven circulation.\n",
    "\n",
    "This circulation influences global climate (e.g., moving heat between latitudes) and biogeochemical cycles (e.g., by driving upwelling of nutrient rich water). In the next tutorial you will explore another mechanism for ocean movement, *density-driven circulation*.\n"
   ]
  },
  {
   "cell_type": "markdown",
   "metadata": {
    "id": "NvC4o4BFHJb4"
   },
   "source": [
    "# **Resources**\n",
    "\n",
    "Data for this tutorial can be accessed [here](https://www.ecco-group.org/)."
   ]
  }
 ],
 "metadata": {
  "colab": {
   "provenance": [],
   "toc_visible": true
  },
  "kernel": {
   "display_name": "Python 3",
   "language": "python",
   "name": "python3"
  },
  "kernelspec": {
   "display_name": "Python 3 (ipykernel)",
   "language": "python",
   "name": "python3"
  },
  "language_info": {
   "codemirror_mode": {
    "name": "ipython",
    "version": 3
   },
   "file_extension": ".py",
   "mimetype": "text/x-python",
   "name": "python",
   "nbconvert_exporter": "python",
   "pygments_lexer": "ipython3",
   "version": "3.10.12"
  },
  "toc-autonumbering": true
 },
 "nbformat": 4,
 "nbformat_minor": 4
}
