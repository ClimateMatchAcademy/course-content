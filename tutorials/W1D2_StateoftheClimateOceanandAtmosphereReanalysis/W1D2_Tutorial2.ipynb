{
 "cells": [
  {
   "cell_type": "markdown",
   "metadata": {
    "execution": {}
   },
   "source": [
    "[![Open In Colab](https://colab.research.google.com/assets/colab-badge.svg)](https://colab.research.google.com/github/ClimateMatchAcademy/course-content/blob/main/tutorials/W1D2_StateoftheClimateOceanandAtmosphereReanalysis/W1D2_Tutorial2.ipynb) &nbsp; <a href=\"https://kaggle.com/kernels/welcome?src=https://raw.githubusercontent.com/ClimateMatchAcademy/course-content/main/tutorials/W1D2_StateoftheClimateOceanandAtmosphereReanalysis/W1D2_Tutorial2.ipynb\" target=\"_parent\"><img src=\"https://kaggle.com/static/images/open-in-kaggle.svg\" alt=\"Open in Kaggle\"/></a>"
   ]
  },
  {
   "cell_type": "markdown",
   "metadata": {
    "execution": {}
   },
   "source": [
    "# **Tutorial 2: A Lot of Weather Makes Climate - Exploring the ERA5 Reanalysis**\n",
    "\n",
    "**Week 1, Day 2, Ocean-Atmosphere Reanalysis**\n",
    "\n",
    "__Content creators:__ Momme Hell\n",
    "\n",
    "**Content reviewers:** Katrina Dobson, Danika Gupta, Maria Gonzalez, Will Gregory, Nahid Hasan, Sherry Mi, Beatriz Cosenza Muralles, Jenna Pearson, Chi Zhang, Ohad Zivan\n",
    "\n",
    "**Content editors:** Jenna Pearson, Chi Zhang, Ohad Zivan\n",
    "\n",
    "**Production editors:** Wesley Banfield, Jenna Pearson, Chi Zhang, Ohad Zivan\n",
    "\n",
    "**Our 2023 Sponsors:** NASA TOPS and Google DeepMind\n",
    "![CMIP.png](https://github.com/ClimateMatchAcademy/course-content/blob/main/tutorials/Art/CMIP.png?raw=true)|\n",
    "-\n"
   ]
  },
  {
   "cell_type": "markdown",
   "metadata": {
    "execution": {},
    "tags": []
   },
   "source": [
    "# Tutorial Objectives\n",
    "\n",
    "In the previous tutorial, we learned about ENSO, which is a specific atmosphere-ocean dynamical phenomena. You will now examine the atmosphere and the ocean systems more generally.\n",
    "\n",
    "In this tutorial, you will learn to work with reanalysis data. These data combine observations and models of the Earth system, and are a critical tool for weather and climate science. You will first utilize two methods to access a specific reanalysis dataset (ECMWF's ERA5; through [PO.DAAC](https://podaac.jpl.nasa.gov/) and through the web Copernicus API). You will then select and mask a region of interest, investigating how important climate variables change on medium length timescales (hours to months) within this region.\n",
    "\n",
    "By the end of this tutorial, you will be able to:\n",
    "- Access and select reanalysis data of cliamtically-important variables\n",
    "- Plot maps to explore changes on various time scales.\n",
    "- Compute and compare timeseries of different variables from reanalysis data."
   ]
  },
  {
   "cell_type": "markdown",
   "metadata": {
    "execution": {},
    "tags": []
   },
   "source": [
    "# Setup"
   ]
  },
  {
   "cell_type": "code",
   "execution_count": 1,
   "metadata": {
    "tags": [
     "colab"
    ]
   },
   "outputs": [],
   "source": [
    "# !pip install pythia_datasets\n",
    "# !pip install cartopy\n",
    "# !pip install geoviews"
   ]
  },
  {
   "cell_type": "code",
   "execution_count": 2,
   "metadata": {
    "cellView": "both",
    "tags": []
   },
   "outputs": [],
   "source": [
    "# imports\n",
    "from intake import open_catalog\n",
    "import matplotlib.pyplot as plt\n",
    "import matplotlib\n",
    "import xarray as xr\n",
    "import fsspec\n",
    "import numpy as np\n",
    "\n",
    "import boto3\n",
    "import botocore\n",
    "import datetime\n",
    "import numpy as np\n",
    "import os\n",
    "import pooch\n",
    "import tempfile\n",
    "import geoviews as gv\n",
    "import holoviews\n",
    "from geoviews import Dataset as gvDataset\n",
    "import geoviews.feature as gf\n",
    "from geoviews import Image as gvImage\n",
    "\n",
    "from cartopy import crs as ccrs\n",
    "from cartopy import feature as cfeature\n",
    "\n",
    "# import warnings\n",
    "# #  Suppress warnings issued by Cartopy when downloading data files\n",
    "# warnings.filterwarnings('ignore')"
   ]
  },
  {
   "cell_type": "code",
   "execution_count": 3,
   "metadata": {
    "cellView": "form",
    "tags": []
   },
   "outputs": [],
   "source": [
    "# @title Figure Settings\n",
    "import ipywidgets as widgets  # interactive display\n",
    "\n",
    "%config InlineBackend.figure_format = 'retina'\n",
    "plt.style.use(\n",
    "    \"https://raw.githubusercontent.com/ClimateMatchAcademy/course-content/main/cma.mplstyle\"\n",
    ")"
   ]
  },
  {
   "cell_type": "code",
   "execution_count": 4,
   "metadata": {
    "cellView": "form",
    "tags": []
   },
   "outputs": [
    {
     "data": {
      "application/vnd.jupyter.widget-view+json": {
       "model_id": "4444388bfa3b4fa7bfcdd20355de3685",
       "version_major": 2,
       "version_minor": 0
      },
      "text/plain": [
       "Tab(children=(Output(), Output()), selected_index=0, titles=('Youtube', 'Bilibili'))"
      ]
     },
     "metadata": {},
     "output_type": "display_data"
    }
   ],
   "source": [
    "# @title Video 1: ECMWF Reanalysis\n",
    "\n",
    "from ipywidgets import widgets\n",
    "from IPython.display import YouTubeVideo\n",
    "from IPython.display import IFrame\n",
    "from IPython.display import display\n",
    "\n",
    "\n",
    "class PlayVideo(IFrame):\n",
    "    def __init__(self, id, source, page=1, width=400, height=300, **kwargs):\n",
    "        self.id = id\n",
    "        if source == \"Bilibili\":\n",
    "            src = f\"https://player.bilibili.com/player.html?bvid={id}&page={page}\"\n",
    "        elif source == \"Osf\":\n",
    "            src = f\"https://mfr.ca-1.osf.io/render?url=https://osf.io/download/{id}/?direct%26mode=render\"\n",
    "        super(PlayVideo, self).__init__(src, width, height, **kwargs)\n",
    "\n",
    "\n",
    "def display_videos(video_ids, W=400, H=300, fs=1):\n",
    "    tab_contents = []\n",
    "    for i, video_id in enumerate(video_ids):\n",
    "        out = widgets.Output()\n",
    "        with out:\n",
    "            if video_ids[i][0] == \"Youtube\":\n",
    "                video = YouTubeVideo(\n",
    "                    id=video_ids[i][1], width=W, height=H, fs=fs, rel=0\n",
    "                )\n",
    "                print(f\"Video available at https://youtube.com/watch?v={video.id}\")\n",
    "            else:\n",
    "                video = PlayVideo(\n",
    "                    id=video_ids[i][1],\n",
    "                    source=video_ids[i][0],\n",
    "                    width=W,\n",
    "                    height=H,\n",
    "                    fs=fs,\n",
    "                    autoplay=False,\n",
    "                )\n",
    "                if video_ids[i][0] == \"Bilibili\":\n",
    "                    print(\n",
    "                        f\"Video available at https://www.bilibili.com/video/{video.id}\"\n",
    "                    )\n",
    "                elif video_ids[i][0] == \"Osf\":\n",
    "                    print(f\"Video available at https://osf.io/{video.id}\")\n",
    "            display(video)\n",
    "        tab_contents.append(out)\n",
    "    return tab_contents\n",
    "\n",
    "\n",
    "video_ids = [(\"Youtube\", \"xn_SGxTm6LA\"), (\"Bilibili\", \"BV1g94y1B7Yw\")]\n",
    "tab_contents = display_videos(video_ids, W=730, H=410)\n",
    "tabs = widgets.Tab()\n",
    "tabs.children = tab_contents\n",
    "for i in range(len(tab_contents)):\n",
    "    tabs.set_title(i, video_ids[i][0])\n",
    "display(tabs)"
   ]
  },
  {
   "cell_type": "code",
   "execution_count": 5,
   "metadata": {},
   "outputs": [],
   "source": [
    "# helper functions\n",
    "\n",
    "def pooch_load(filelocation=None, filename=None, processor=None):\n",
    "    shared_location = \"/home/jovyan/shared/Data/tutorials/W1D2_StateoftheClimateOceanandAtmosphereReanalysis\"  # this is different for each day\n",
    "    user_temp_cache = tempfile.gettempdir()\n",
    "\n",
    "    if os.path.exists(os.path.join(shared_location, filename)):\n",
    "        file = os.path.join(shared_location, filename)\n",
    "    else:\n",
    "        file = pooch.retrieve(\n",
    "            filelocation,\n",
    "            known_hash=None,\n",
    "            fname=os.path.join(user_temp_cache, filename),\n",
    "            processor=processor,\n",
    "        )\n",
    "\n",
    "    return file"
   ]
  },
  {
   "cell_type": "markdown",
   "metadata": {
    "execution": {}
   },
   "source": [
    "# Section 1: What is Reanalysis Data?\n",
    "\n",
    "**Reanalysis** refers to the process of combining historical observations from a variety of sources, such as weather stations, satellite measurments, and ocean buoys, with numerical models to create a comprehensive and consistent record of past weather and climate conditions. Reanalysis data is a useful tool to examine the Earth's climate system over a wide range of time scales, from seasonal through decadal to century-scale changes. \n",
    "\n",
    "There are multiple Earth system reanalysis products (e.g. MERRA-2, NCEP-NCAR, JRA-55C, [see extensive list here](https://climatedataguide.ucar.edu/climate-data/atmospheric-reanalysis-overview-comparison-tables)), and no single product fits all needs. For the purposes of this tutorial you will be using a product from the European Centre for Medium-Range Weather Forecasts (ECMWF) called **ECMWF Reanalysis v5 (ERA5)**. [This video](https://climate.copernicus.eu/climate-reanalysis) from the ECMWF provides you with a brief introduction to the ERA5 product."
   ]
  },
  {
   "cell_type": "markdown",
   "metadata": {
    "execution": {}
   },
   "source": [
    "## Section 1.1: Accessing ERA5 Data\n",
    "\n",
    "You will access the data through the an AWS S3 bucket of the data: [ECMWF ERA5 Reanalysis](https://registry.opendata.aws/ecmwf-era5/). To do this you need the name of the bucket \"era5-pds\", and the file location in the bucket. *Note: you can open the [AWS link](https://registry.opendata.aws/ecmwf-era5/) and find a guided tutorial on how to explore the S3 bucket.*\n",
    "\n",
    "Let's select a specific year and month to work with, March of 2018:"
   ]
  },
  {
   "cell_type": "code",
   "execution_count": 6,
   "metadata": {
    "tags": []
   },
   "outputs": [
    {
     "name": "stderr",
     "output_type": "stream",
     "text": [
      "Downloading data from 'http://s3.amazonaws.com/era5-pds/2018/03/main.nc' to file '/tmp/main.nc'.\n",
      "SHA256 hash of downloaded file: ca720d8cdad27c150913a4478835dae8aec2cce427e6e200c002cb08c611337d\n",
      "Use this value as the 'known_hash' argument of 'pooch.retrieve' to ensure that the file hasn't changed if it is downloaded again in the future.\n"
     ]
    },
    {
     "data": {
      "text/html": [
       "<div><svg style=\"position: absolute; width: 0; height: 0; overflow: hidden\">\n",
       "<defs>\n",
       "<symbol id=\"icon-database\" viewBox=\"0 0 32 32\">\n",
       "<path d=\"M16 0c-8.837 0-16 2.239-16 5v4c0 2.761 7.163 5 16 5s16-2.239 16-5v-4c0-2.761-7.163-5-16-5z\"></path>\n",
       "<path d=\"M16 17c-8.837 0-16-2.239-16-5v6c0 2.761 7.163 5 16 5s16-2.239 16-5v-6c0 2.761-7.163 5-16 5z\"></path>\n",
       "<path d=\"M16 26c-8.837 0-16-2.239-16-5v6c0 2.761 7.163 5 16 5s16-2.239 16-5v-6c0 2.761-7.163 5-16 5z\"></path>\n",
       "</symbol>\n",
       "<symbol id=\"icon-file-text2\" viewBox=\"0 0 32 32\">\n",
       "<path d=\"M28.681 7.159c-0.694-0.947-1.662-2.053-2.724-3.116s-2.169-2.030-3.116-2.724c-1.612-1.182-2.393-1.319-2.841-1.319h-15.5c-1.378 0-2.5 1.121-2.5 2.5v27c0 1.378 1.122 2.5 2.5 2.5h23c1.378 0 2.5-1.122 2.5-2.5v-19.5c0-0.448-0.137-1.23-1.319-2.841zM24.543 5.457c0.959 0.959 1.712 1.825 2.268 2.543h-4.811v-4.811c0.718 0.556 1.584 1.309 2.543 2.268zM28 29.5c0 0.271-0.229 0.5-0.5 0.5h-23c-0.271 0-0.5-0.229-0.5-0.5v-27c0-0.271 0.229-0.5 0.5-0.5 0 0 15.499-0 15.5 0v7c0 0.552 0.448 1 1 1h7v19.5z\"></path>\n",
       "<path d=\"M23 26h-14c-0.552 0-1-0.448-1-1s0.448-1 1-1h14c0.552 0 1 0.448 1 1s-0.448 1-1 1z\"></path>\n",
       "<path d=\"M23 22h-14c-0.552 0-1-0.448-1-1s0.448-1 1-1h14c0.552 0 1 0.448 1 1s-0.448 1-1 1z\"></path>\n",
       "<path d=\"M23 18h-14c-0.552 0-1-0.448-1-1s0.448-1 1-1h14c0.552 0 1 0.448 1 1s-0.448 1-1 1z\"></path>\n",
       "</symbol>\n",
       "</defs>\n",
       "</svg>\n",
       "<style>/* CSS stylesheet for displaying xarray objects in jupyterlab.\n",
       " *\n",
       " */\n",
       "\n",
       ":root {\n",
       "  --xr-font-color0: var(--jp-content-font-color0, rgba(0, 0, 0, 1));\n",
       "  --xr-font-color2: var(--jp-content-font-color2, rgba(0, 0, 0, 0.54));\n",
       "  --xr-font-color3: var(--jp-content-font-color3, rgba(0, 0, 0, 0.38));\n",
       "  --xr-border-color: var(--jp-border-color2, #e0e0e0);\n",
       "  --xr-disabled-color: var(--jp-layout-color3, #bdbdbd);\n",
       "  --xr-background-color: var(--jp-layout-color0, white);\n",
       "  --xr-background-color-row-even: var(--jp-layout-color1, white);\n",
       "  --xr-background-color-row-odd: var(--jp-layout-color2, #eeeeee);\n",
       "}\n",
       "\n",
       "html[theme=dark],\n",
       "body[data-theme=dark],\n",
       "body.vscode-dark {\n",
       "  --xr-font-color0: rgba(255, 255, 255, 1);\n",
       "  --xr-font-color2: rgba(255, 255, 255, 0.54);\n",
       "  --xr-font-color3: rgba(255, 255, 255, 0.38);\n",
       "  --xr-border-color: #1F1F1F;\n",
       "  --xr-disabled-color: #515151;\n",
       "  --xr-background-color: #111111;\n",
       "  --xr-background-color-row-even: #111111;\n",
       "  --xr-background-color-row-odd: #313131;\n",
       "}\n",
       "\n",
       ".xr-wrap {\n",
       "  display: block !important;\n",
       "  min-width: 300px;\n",
       "  max-width: 700px;\n",
       "}\n",
       "\n",
       ".xr-text-repr-fallback {\n",
       "  /* fallback to plain text repr when CSS is not injected (untrusted notebook) */\n",
       "  display: none;\n",
       "}\n",
       "\n",
       ".xr-header {\n",
       "  padding-top: 6px;\n",
       "  padding-bottom: 6px;\n",
       "  margin-bottom: 4px;\n",
       "  border-bottom: solid 1px var(--xr-border-color);\n",
       "}\n",
       "\n",
       ".xr-header > div,\n",
       ".xr-header > ul {\n",
       "  display: inline;\n",
       "  margin-top: 0;\n",
       "  margin-bottom: 0;\n",
       "}\n",
       "\n",
       ".xr-obj-type,\n",
       ".xr-array-name {\n",
       "  margin-left: 2px;\n",
       "  margin-right: 10px;\n",
       "}\n",
       "\n",
       ".xr-obj-type {\n",
       "  color: var(--xr-font-color2);\n",
       "}\n",
       "\n",
       ".xr-sections {\n",
       "  padding-left: 0 !important;\n",
       "  display: grid;\n",
       "  grid-template-columns: 150px auto auto 1fr 20px 20px;\n",
       "}\n",
       "\n",
       ".xr-section-item {\n",
       "  display: contents;\n",
       "}\n",
       "\n",
       ".xr-section-item input {\n",
       "  display: none;\n",
       "}\n",
       "\n",
       ".xr-section-item input + label {\n",
       "  color: var(--xr-disabled-color);\n",
       "}\n",
       "\n",
       ".xr-section-item input:enabled + label {\n",
       "  cursor: pointer;\n",
       "  color: var(--xr-font-color2);\n",
       "}\n",
       "\n",
       ".xr-section-item input:enabled + label:hover {\n",
       "  color: var(--xr-font-color0);\n",
       "}\n",
       "\n",
       ".xr-section-summary {\n",
       "  grid-column: 1;\n",
       "  color: var(--xr-font-color2);\n",
       "  font-weight: 500;\n",
       "}\n",
       "\n",
       ".xr-section-summary > span {\n",
       "  display: inline-block;\n",
       "  padding-left: 0.5em;\n",
       "}\n",
       "\n",
       ".xr-section-summary-in:disabled + label {\n",
       "  color: var(--xr-font-color2);\n",
       "}\n",
       "\n",
       ".xr-section-summary-in + label:before {\n",
       "  display: inline-block;\n",
       "  content: '►';\n",
       "  font-size: 11px;\n",
       "  width: 15px;\n",
       "  text-align: center;\n",
       "}\n",
       "\n",
       ".xr-section-summary-in:disabled + label:before {\n",
       "  color: var(--xr-disabled-color);\n",
       "}\n",
       "\n",
       ".xr-section-summary-in:checked + label:before {\n",
       "  content: '▼';\n",
       "}\n",
       "\n",
       ".xr-section-summary-in:checked + label > span {\n",
       "  display: none;\n",
       "}\n",
       "\n",
       ".xr-section-summary,\n",
       ".xr-section-inline-details {\n",
       "  padding-top: 4px;\n",
       "  padding-bottom: 4px;\n",
       "}\n",
       "\n",
       ".xr-section-inline-details {\n",
       "  grid-column: 2 / -1;\n",
       "}\n",
       "\n",
       ".xr-section-details {\n",
       "  display: none;\n",
       "  grid-column: 1 / -1;\n",
       "  margin-bottom: 5px;\n",
       "}\n",
       "\n",
       ".xr-section-summary-in:checked ~ .xr-section-details {\n",
       "  display: contents;\n",
       "}\n",
       "\n",
       ".xr-array-wrap {\n",
       "  grid-column: 1 / -1;\n",
       "  display: grid;\n",
       "  grid-template-columns: 20px auto;\n",
       "}\n",
       "\n",
       ".xr-array-wrap > label {\n",
       "  grid-column: 1;\n",
       "  vertical-align: top;\n",
       "}\n",
       "\n",
       ".xr-preview {\n",
       "  color: var(--xr-font-color3);\n",
       "}\n",
       "\n",
       ".xr-array-preview,\n",
       ".xr-array-data {\n",
       "  padding: 0 5px !important;\n",
       "  grid-column: 2;\n",
       "}\n",
       "\n",
       ".xr-array-data,\n",
       ".xr-array-in:checked ~ .xr-array-preview {\n",
       "  display: none;\n",
       "}\n",
       "\n",
       ".xr-array-in:checked ~ .xr-array-data,\n",
       ".xr-array-preview {\n",
       "  display: inline-block;\n",
       "}\n",
       "\n",
       ".xr-dim-list {\n",
       "  display: inline-block !important;\n",
       "  list-style: none;\n",
       "  padding: 0 !important;\n",
       "  margin: 0;\n",
       "}\n",
       "\n",
       ".xr-dim-list li {\n",
       "  display: inline-block;\n",
       "  padding: 0;\n",
       "  margin: 0;\n",
       "}\n",
       "\n",
       ".xr-dim-list:before {\n",
       "  content: '(';\n",
       "}\n",
       "\n",
       ".xr-dim-list:after {\n",
       "  content: ')';\n",
       "}\n",
       "\n",
       ".xr-dim-list li:not(:last-child):after {\n",
       "  content: ',';\n",
       "  padding-right: 5px;\n",
       "}\n",
       "\n",
       ".xr-has-index {\n",
       "  font-weight: bold;\n",
       "}\n",
       "\n",
       ".xr-var-list,\n",
       ".xr-var-item {\n",
       "  display: contents;\n",
       "}\n",
       "\n",
       ".xr-var-item > div,\n",
       ".xr-var-item label,\n",
       ".xr-var-item > .xr-var-name span {\n",
       "  background-color: var(--xr-background-color-row-even);\n",
       "  margin-bottom: 0;\n",
       "}\n",
       "\n",
       ".xr-var-item > .xr-var-name:hover span {\n",
       "  padding-right: 5px;\n",
       "}\n",
       "\n",
       ".xr-var-list > li:nth-child(odd) > div,\n",
       ".xr-var-list > li:nth-child(odd) > label,\n",
       ".xr-var-list > li:nth-child(odd) > .xr-var-name span {\n",
       "  background-color: var(--xr-background-color-row-odd);\n",
       "}\n",
       "\n",
       ".xr-var-name {\n",
       "  grid-column: 1;\n",
       "}\n",
       "\n",
       ".xr-var-dims {\n",
       "  grid-column: 2;\n",
       "}\n",
       "\n",
       ".xr-var-dtype {\n",
       "  grid-column: 3;\n",
       "  text-align: right;\n",
       "  color: var(--xr-font-color2);\n",
       "}\n",
       "\n",
       ".xr-var-preview {\n",
       "  grid-column: 4;\n",
       "}\n",
       "\n",
       ".xr-index-preview {\n",
       "  grid-column: 2 / 5;\n",
       "  color: var(--xr-font-color2);\n",
       "}\n",
       "\n",
       ".xr-var-name,\n",
       ".xr-var-dims,\n",
       ".xr-var-dtype,\n",
       ".xr-preview,\n",
       ".xr-attrs dt {\n",
       "  white-space: nowrap;\n",
       "  overflow: hidden;\n",
       "  text-overflow: ellipsis;\n",
       "  padding-right: 10px;\n",
       "}\n",
       "\n",
       ".xr-var-name:hover,\n",
       ".xr-var-dims:hover,\n",
       ".xr-var-dtype:hover,\n",
       ".xr-attrs dt:hover {\n",
       "  overflow: visible;\n",
       "  width: auto;\n",
       "  z-index: 1;\n",
       "}\n",
       "\n",
       ".xr-var-attrs,\n",
       ".xr-var-data,\n",
       ".xr-index-data {\n",
       "  display: none;\n",
       "  background-color: var(--xr-background-color) !important;\n",
       "  padding-bottom: 5px !important;\n",
       "}\n",
       "\n",
       ".xr-var-attrs-in:checked ~ .xr-var-attrs,\n",
       ".xr-var-data-in:checked ~ .xr-var-data,\n",
       ".xr-index-data-in:checked ~ .xr-index-data {\n",
       "  display: block;\n",
       "}\n",
       "\n",
       ".xr-var-data > table {\n",
       "  float: right;\n",
       "}\n",
       "\n",
       ".xr-var-name span,\n",
       ".xr-var-data,\n",
       ".xr-index-name div,\n",
       ".xr-index-data,\n",
       ".xr-attrs {\n",
       "  padding-left: 25px !important;\n",
       "}\n",
       "\n",
       ".xr-attrs,\n",
       ".xr-var-attrs,\n",
       ".xr-var-data,\n",
       ".xr-index-data {\n",
       "  grid-column: 1 / -1;\n",
       "}\n",
       "\n",
       "dl.xr-attrs {\n",
       "  padding: 0;\n",
       "  margin: 0;\n",
       "  display: grid;\n",
       "  grid-template-columns: 125px auto;\n",
       "}\n",
       "\n",
       ".xr-attrs dt,\n",
       ".xr-attrs dd {\n",
       "  padding: 0;\n",
       "  margin: 0;\n",
       "  float: left;\n",
       "  padding-right: 10px;\n",
       "  width: auto;\n",
       "}\n",
       "\n",
       ".xr-attrs dt {\n",
       "  font-weight: normal;\n",
       "  grid-column: 1;\n",
       "}\n",
       "\n",
       ".xr-attrs dt:hover span {\n",
       "  display: inline-block;\n",
       "  background: var(--xr-background-color);\n",
       "  padding-right: 10px;\n",
       "}\n",
       "\n",
       ".xr-attrs dd {\n",
       "  grid-column: 2;\n",
       "  white-space: pre-wrap;\n",
       "  word-break: break-all;\n",
       "}\n",
       "\n",
       ".xr-icon-database,\n",
       ".xr-icon-file-text2,\n",
       ".xr-no-icon {\n",
       "  display: inline-block;\n",
       "  vertical-align: middle;\n",
       "  width: 1em;\n",
       "  height: 1.5em !important;\n",
       "  stroke-width: 0;\n",
       "  stroke: currentColor;\n",
       "  fill: currentColor;\n",
       "}\n",
       "</style><pre class='xr-text-repr-fallback'>&lt;xarray.Dataset&gt;\n",
       "Dimensions:                                                                                   (\n",
       "                                                                                               lat: 721,\n",
       "                                                                                               time1: 744,\n",
       "                                                                                               time0: 744,\n",
       "                                                                                               lon: 1440,\n",
       "                                                                                               lon_ocean: 720,\n",
       "                                                                                               lat_ocean: 361,\n",
       "                                                                                               nv: 2)\n",
       "Coordinates:\n",
       "  * lat                                                                                       (lat) float32 ...\n",
       "  * time1                                                                                     (time1) datetime64[ns] ...\n",
       "  * time0                                                                                     (time0) datetime64[ns] ...\n",
       "  * lon                                                                                       (lon) float32 ...\n",
       "  * lon_ocean                                                                                 (lon_ocean) float32 ...\n",
       "  * lat_ocean                                                                                 (lat_ocean) float32 ...\n",
       "Dimensions without coordinates: nv\n",
       "Data variables: (12/19)\n",
       "    sea_surface_temperature                                                                   (time0, lat, lon) float32 ...\n",
       "    sea_surface_wave_mean_period                                                              (time0, lat_ocean, lon_ocean) float32 ...\n",
       "    air_temperature_at_2_metres_1hour_Maximum                                                 (time1, lat, lon) float32 ...\n",
       "    dew_point_temperature_at_2_metres                                                         (time0, lat, lon) float32 ...\n",
       "    significant_height_of_wind_and_swell_waves                                                (time0, lat_ocean, lon_ocean) float32 ...\n",
       "    sea_surface_wave_from_direction                                                           (time0, lat_ocean, lon_ocean) float32 ...\n",
       "    ...                                                                                        ...\n",
       "    lwe_thickness_of_surface_snow_amount                                                      (time0, lat, lon) float32 ...\n",
       "    snow_density                                                                              (time0, lat, lon) float32 ...\n",
       "    eastward_wind_at_10_metres                                                                (time0, lat, lon) float32 ...\n",
       "    integral_wrt_time_of_surface_direct_downwelling_shortwave_flux_in_air_1hour_Accumulation  (time1, lat, lon) float32 ...\n",
       "    air_temperature_at_2_metres                                                               (time0, lat, lon) float32 ...\n",
       "    northward_wind_at_10_metres                                                               (time0, lat, lon) float32 ...\n",
       "Attributes:\n",
       "    source:       Reanalysis\n",
       "    institution:  ECMWF\n",
       "    tilte:        ERA5 forecasts</pre><div class='xr-wrap' style='display:none'><div class='xr-header'><div class='xr-obj-type'>xarray.Dataset</div></div><ul class='xr-sections'><li class='xr-section-item'><input id='section-bab14bc3-b1e8-4809-b400-4050e48e70d3' class='xr-section-summary-in' type='checkbox' disabled ><label for='section-bab14bc3-b1e8-4809-b400-4050e48e70d3' class='xr-section-summary'  title='Expand/collapse section'>Dimensions:</label><div class='xr-section-inline-details'><ul class='xr-dim-list'><li><span class='xr-has-index'>lat</span>: 721</li><li><span class='xr-has-index'>time1</span>: 744</li><li><span class='xr-has-index'>time0</span>: 744</li><li><span class='xr-has-index'>lon</span>: 1440</li><li><span class='xr-has-index'>lon_ocean</span>: 720</li><li><span class='xr-has-index'>lat_ocean</span>: 361</li><li><span>nv</span>: 2</li></ul></div><div class='xr-section-details'></div></li><li class='xr-section-item'><input id='section-f52990da-e86f-4bf0-9e37-28966bc852bd' class='xr-section-summary-in' type='checkbox'  checked><label for='section-f52990da-e86f-4bf0-9e37-28966bc852bd' class='xr-section-summary' >Coordinates: <span>(6)</span></label><div class='xr-section-inline-details'></div><div class='xr-section-details'><ul class='xr-var-list'><li class='xr-var-item'><div class='xr-var-name'><span class='xr-has-index'>lat</span></div><div class='xr-var-dims'>(lat)</div><div class='xr-var-dtype'>float32</div><div class='xr-var-preview xr-preview'>90.0 89.75 89.5 ... -89.75 -90.0</div><input id='attrs-b01d010b-2e94-47b8-b633-20c7cb3df268' class='xr-var-attrs-in' type='checkbox' ><label for='attrs-b01d010b-2e94-47b8-b633-20c7cb3df268' title='Show/Hide attributes'><svg class='icon xr-icon-file-text2'><use xlink:href='#icon-file-text2'></use></svg></label><input id='data-f9fa2972-ad3b-4e27-9997-9924b3a54708' class='xr-var-data-in' type='checkbox'><label for='data-f9fa2972-ad3b-4e27-9997-9924b3a54708' title='Show/Hide data repr'><svg class='icon xr-icon-database'><use xlink:href='#icon-database'></use></svg></label><div class='xr-var-attrs'><dl class='xr-attrs'><dt><span>standard_name :</span></dt><dd>latitude</dd><dt><span>long_name :</span></dt><dd>latitude</dd><dt><span>units :</span></dt><dd>degrees_north</dd></dl></div><div class='xr-var-data'><pre>array([ 90.  ,  89.75,  89.5 , ..., -89.5 , -89.75, -90.  ], dtype=float32)</pre></div></li><li class='xr-var-item'><div class='xr-var-name'><span class='xr-has-index'>time1</span></div><div class='xr-var-dims'>(time1)</div><div class='xr-var-dtype'>datetime64[ns]</div><div class='xr-var-preview xr-preview'>2018-03-01 ... 2018-03-31T23:00:00</div><input id='attrs-057c2e90-be91-454f-86ff-a3e212fbd655' class='xr-var-attrs-in' type='checkbox' ><label for='attrs-057c2e90-be91-454f-86ff-a3e212fbd655' title='Show/Hide attributes'><svg class='icon xr-icon-file-text2'><use xlink:href='#icon-file-text2'></use></svg></label><input id='data-b470e1ce-1788-4d75-825d-e787d73c7deb' class='xr-var-data-in' type='checkbox'><label for='data-b470e1ce-1788-4d75-825d-e787d73c7deb' title='Show/Hide data repr'><svg class='icon xr-icon-database'><use xlink:href='#icon-database'></use></svg></label><div class='xr-var-attrs'><dl class='xr-attrs'><dt><span>standard_name :</span></dt><dd>time</dd><dt><span>bounds :</span></dt><dd>time1_bounds</dd></dl></div><div class='xr-var-data'><pre>array([&#x27;2018-03-01T00:00:00.000000000&#x27;, &#x27;2018-03-01T01:00:00.000000000&#x27;,\n",
       "       &#x27;2018-03-01T02:00:00.000000000&#x27;, ..., &#x27;2018-03-31T21:00:00.000000000&#x27;,\n",
       "       &#x27;2018-03-31T22:00:00.000000000&#x27;, &#x27;2018-03-31T23:00:00.000000000&#x27;],\n",
       "      dtype=&#x27;datetime64[ns]&#x27;)</pre></div></li><li class='xr-var-item'><div class='xr-var-name'><span class='xr-has-index'>time0</span></div><div class='xr-var-dims'>(time0)</div><div class='xr-var-dtype'>datetime64[ns]</div><div class='xr-var-preview xr-preview'>2018-03-01 ... 2018-03-31T23:00:00</div><input id='attrs-31802734-9e04-401d-ace6-080c53413eb3' class='xr-var-attrs-in' type='checkbox' ><label for='attrs-31802734-9e04-401d-ace6-080c53413eb3' title='Show/Hide attributes'><svg class='icon xr-icon-file-text2'><use xlink:href='#icon-file-text2'></use></svg></label><input id='data-bbe6e3d4-aa04-4bef-a57f-b60202238932' class='xr-var-data-in' type='checkbox'><label for='data-bbe6e3d4-aa04-4bef-a57f-b60202238932' title='Show/Hide data repr'><svg class='icon xr-icon-database'><use xlink:href='#icon-database'></use></svg></label><div class='xr-var-attrs'><dl class='xr-attrs'><dt><span>standard_name :</span></dt><dd>time</dd></dl></div><div class='xr-var-data'><pre>array([&#x27;2018-03-01T00:00:00.000000000&#x27;, &#x27;2018-03-01T01:00:00.000000000&#x27;,\n",
       "       &#x27;2018-03-01T02:00:00.000000000&#x27;, ..., &#x27;2018-03-31T21:00:00.000000000&#x27;,\n",
       "       &#x27;2018-03-31T22:00:00.000000000&#x27;, &#x27;2018-03-31T23:00:00.000000000&#x27;],\n",
       "      dtype=&#x27;datetime64[ns]&#x27;)</pre></div></li><li class='xr-var-item'><div class='xr-var-name'><span class='xr-has-index'>lon</span></div><div class='xr-var-dims'>(lon)</div><div class='xr-var-dtype'>float32</div><div class='xr-var-preview xr-preview'>0.0 0.25 0.5 ... 359.2 359.5 359.8</div><input id='attrs-059b7e23-f33a-4c43-b951-e6e536e6a17b' class='xr-var-attrs-in' type='checkbox' ><label for='attrs-059b7e23-f33a-4c43-b951-e6e536e6a17b' title='Show/Hide attributes'><svg class='icon xr-icon-file-text2'><use xlink:href='#icon-file-text2'></use></svg></label><input id='data-c69075d8-7b32-4c4b-bcaf-df44a2382a0a' class='xr-var-data-in' type='checkbox'><label for='data-c69075d8-7b32-4c4b-bcaf-df44a2382a0a' title='Show/Hide data repr'><svg class='icon xr-icon-database'><use xlink:href='#icon-database'></use></svg></label><div class='xr-var-attrs'><dl class='xr-attrs'><dt><span>standard_name :</span></dt><dd>longitude</dd><dt><span>long_name :</span></dt><dd>longitude</dd><dt><span>units :</span></dt><dd>degrees_east</dd></dl></div><div class='xr-var-data'><pre>array([0.0000e+00, 2.5000e-01, 5.0000e-01, ..., 3.5925e+02, 3.5950e+02,\n",
       "       3.5975e+02], dtype=float32)</pre></div></li><li class='xr-var-item'><div class='xr-var-name'><span class='xr-has-index'>lon_ocean</span></div><div class='xr-var-dims'>(lon_ocean)</div><div class='xr-var-dtype'>float32</div><div class='xr-var-preview xr-preview'>0.0 0.5 1.0 ... 358.5 359.0 359.5</div><input id='attrs-d32a71be-3499-44ee-ac5f-eb64e1c514ff' class='xr-var-attrs-in' type='checkbox' ><label for='attrs-d32a71be-3499-44ee-ac5f-eb64e1c514ff' title='Show/Hide attributes'><svg class='icon xr-icon-file-text2'><use xlink:href='#icon-file-text2'></use></svg></label><input id='data-d508d223-5ff5-408a-a2c7-ec1a6c016b6b' class='xr-var-data-in' type='checkbox'><label for='data-d508d223-5ff5-408a-a2c7-ec1a6c016b6b' title='Show/Hide data repr'><svg class='icon xr-icon-database'><use xlink:href='#icon-database'></use></svg></label><div class='xr-var-attrs'><dl class='xr-attrs'><dt><span>standard_name :</span></dt><dd>longitude</dd><dt><span>long_name :</span></dt><dd>longitude</dd><dt><span>units :</span></dt><dd>degrees_east</dd></dl></div><div class='xr-var-data'><pre>array([  0. ,   0.5,   1. , ..., 358.5, 359. , 359.5], dtype=float32)</pre></div></li><li class='xr-var-item'><div class='xr-var-name'><span class='xr-has-index'>lat_ocean</span></div><div class='xr-var-dims'>(lat_ocean)</div><div class='xr-var-dtype'>float32</div><div class='xr-var-preview xr-preview'>90.0 89.5 89.0 ... -89.5 -90.0</div><input id='attrs-3124c907-55ec-4814-86e5-01c76c149bc7' class='xr-var-attrs-in' type='checkbox' ><label for='attrs-3124c907-55ec-4814-86e5-01c76c149bc7' title='Show/Hide attributes'><svg class='icon xr-icon-file-text2'><use xlink:href='#icon-file-text2'></use></svg></label><input id='data-1272375e-aed6-4285-ac0a-31145eb9e0f1' class='xr-var-data-in' type='checkbox'><label for='data-1272375e-aed6-4285-ac0a-31145eb9e0f1' title='Show/Hide data repr'><svg class='icon xr-icon-database'><use xlink:href='#icon-database'></use></svg></label><div class='xr-var-attrs'><dl class='xr-attrs'><dt><span>standard_name :</span></dt><dd>latitude</dd><dt><span>long_name :</span></dt><dd>latitude</dd><dt><span>units :</span></dt><dd>degrees_north</dd></dl></div><div class='xr-var-data'><pre>array([ 90. ,  89.5,  89. , ..., -89. , -89.5, -90. ], dtype=float32)</pre></div></li></ul></div></li><li class='xr-section-item'><input id='section-5a4a86a7-9dd8-46cb-a293-f311e22782f0' class='xr-section-summary-in' type='checkbox'  ><label for='section-5a4a86a7-9dd8-46cb-a293-f311e22782f0' class='xr-section-summary' >Data variables: <span>(19)</span></label><div class='xr-section-inline-details'></div><div class='xr-section-details'><ul class='xr-var-list'><li class='xr-var-item'><div class='xr-var-name'><span>sea_surface_temperature</span></div><div class='xr-var-dims'>(time0, lat, lon)</div><div class='xr-var-dtype'>float32</div><div class='xr-var-preview xr-preview'>...</div><input id='attrs-2d8a3aac-3eef-4f60-a2e6-abeb2ab5a344' class='xr-var-attrs-in' type='checkbox' ><label for='attrs-2d8a3aac-3eef-4f60-a2e6-abeb2ab5a344' title='Show/Hide attributes'><svg class='icon xr-icon-file-text2'><use xlink:href='#icon-file-text2'></use></svg></label><input id='data-648bb07b-8915-4041-b981-ffb5bc52bbef' class='xr-var-data-in' type='checkbox'><label for='data-648bb07b-8915-4041-b981-ffb5bc52bbef' title='Show/Hide data repr'><svg class='icon xr-icon-database'><use xlink:href='#icon-database'></use></svg></label><div class='xr-var-attrs'><dl class='xr-attrs'><dt><span>standard_name :</span></dt><dd>sea_surface_temperature</dd><dt><span>units :</span></dt><dd>K</dd><dt><span>long_name :</span></dt><dd>Sea surface temperature</dd><dt><span>nameECMWF :</span></dt><dd>Sea surface temperature</dd><dt><span>shortNameECMWF :</span></dt><dd>sst</dd><dt><span>nameCDM :</span></dt><dd>Sea_surface_temperature_surface</dd><dt><span>_SuperchunkSizes :</span></dt><dd>[ 744  721 1440]</dd><dt><span>product_type :</span></dt><dd>analysis</dd></dl></div><div class='xr-var-data'><pre>[772450560 values with dtype=float32]</pre></div></li><li class='xr-var-item'><div class='xr-var-name'><span>sea_surface_wave_mean_period</span></div><div class='xr-var-dims'>(time0, lat_ocean, lon_ocean)</div><div class='xr-var-dtype'>float32</div><div class='xr-var-preview xr-preview'>...</div><input id='attrs-946016ea-151f-48b5-94dc-5e65026da80a' class='xr-var-attrs-in' type='checkbox' ><label for='attrs-946016ea-151f-48b5-94dc-5e65026da80a' title='Show/Hide attributes'><svg class='icon xr-icon-file-text2'><use xlink:href='#icon-file-text2'></use></svg></label><input id='data-70d660c2-3aec-4705-85e3-e83639696ff4' class='xr-var-data-in' type='checkbox'><label for='data-70d660c2-3aec-4705-85e3-e83639696ff4' title='Show/Hide data repr'><svg class='icon xr-icon-database'><use xlink:href='#icon-database'></use></svg></label><div class='xr-var-attrs'><dl class='xr-attrs'><dt><span>standard_name :</span></dt><dd>sea_surface_wave_mean_period</dd><dt><span>units :</span></dt><dd>s</dd><dt><span>long_name :</span></dt><dd>Mean wave period</dd><dt><span>nameECMWF :</span></dt><dd>Mean wave period</dd><dt><span>shortNameECMWF :</span></dt><dd>mwp</dd><dt><span>nameCDM :</span></dt><dd>Mean_wave_period</dd><dt><span>product_type :</span></dt><dd>analysis</dd><dt><span>_SuperchunkSizes :</span></dt><dd>[744 361 720]</dd></dl></div><div class='xr-var-data'><pre>[193380480 values with dtype=float32]</pre></div></li><li class='xr-var-item'><div class='xr-var-name'><span>air_temperature_at_2_metres_1hour_Maximum</span></div><div class='xr-var-dims'>(time1, lat, lon)</div><div class='xr-var-dtype'>float32</div><div class='xr-var-preview xr-preview'>...</div><input id='attrs-1b94562f-7bac-4033-8919-34f61e2fefc6' class='xr-var-attrs-in' type='checkbox' ><label for='attrs-1b94562f-7bac-4033-8919-34f61e2fefc6' title='Show/Hide attributes'><svg class='icon xr-icon-file-text2'><use xlink:href='#icon-file-text2'></use></svg></label><input id='data-f127816f-a98e-48dc-a41e-f56e5dc5ea6f' class='xr-var-data-in' type='checkbox'><label for='data-f127816f-a98e-48dc-a41e-f56e5dc5ea6f' title='Show/Hide data repr'><svg class='icon xr-icon-database'><use xlink:href='#icon-database'></use></svg></label><div class='xr-var-attrs'><dl class='xr-attrs'><dt><span>standard_name :</span></dt><dd>air_temperature</dd><dt><span>units :</span></dt><dd>K</dd><dt><span>long_name :</span></dt><dd>Maximum temperature at 2 metres since previous post-processing</dd><dt><span>nameECMWF :</span></dt><dd>Maximum temperature at 2 metres since previous post-processing</dd><dt><span>shortNameECMWF :</span></dt><dd>mx2t</dd><dt><span>nameCDM :</span></dt><dd>air_temperature</dd><dt><span>_SuperchunkSizes :</span></dt><dd>[ 744  721 1440]</dd><dt><span>product_type :</span></dt><dd>forecast</dd></dl></div><div class='xr-var-data'><pre>[772450560 values with dtype=float32]</pre></div></li><li class='xr-var-item'><div class='xr-var-name'><span>dew_point_temperature_at_2_metres</span></div><div class='xr-var-dims'>(time0, lat, lon)</div><div class='xr-var-dtype'>float32</div><div class='xr-var-preview xr-preview'>...</div><input id='attrs-c7f8d954-d68e-4c18-b18b-0719061445fe' class='xr-var-attrs-in' type='checkbox' ><label for='attrs-c7f8d954-d68e-4c18-b18b-0719061445fe' title='Show/Hide attributes'><svg class='icon xr-icon-file-text2'><use xlink:href='#icon-file-text2'></use></svg></label><input id='data-f2b3b5d3-25fd-43ce-bb71-8c34a5374378' class='xr-var-data-in' type='checkbox'><label for='data-f2b3b5d3-25fd-43ce-bb71-8c34a5374378' title='Show/Hide data repr'><svg class='icon xr-icon-database'><use xlink:href='#icon-database'></use></svg></label><div class='xr-var-attrs'><dl class='xr-attrs'><dt><span>standard_name :</span></dt><dd>dew_point_temperature</dd><dt><span>units :</span></dt><dd>K</dd><dt><span>long_name :</span></dt><dd>2 metre dewpoint temperature</dd><dt><span>nameECMWF :</span></dt><dd>2 metre dewpoint temperature</dd><dt><span>shortNameECMWF :</span></dt><dd>2d</dd><dt><span>nameCDM :</span></dt><dd>2_metre_dewpoint_temperature_surface</dd><dt><span>_SuperchunkSizes :</span></dt><dd>[ 744  721 1440]</dd><dt><span>product_type :</span></dt><dd>analysis</dd></dl></div><div class='xr-var-data'><pre>[772450560 values with dtype=float32]</pre></div></li><li class='xr-var-item'><div class='xr-var-name'><span>significant_height_of_wind_and_swell_waves</span></div><div class='xr-var-dims'>(time0, lat_ocean, lon_ocean)</div><div class='xr-var-dtype'>float32</div><div class='xr-var-preview xr-preview'>...</div><input id='attrs-a0a768d1-bbf6-4580-9291-07f05638cb42' class='xr-var-attrs-in' type='checkbox' ><label for='attrs-a0a768d1-bbf6-4580-9291-07f05638cb42' title='Show/Hide attributes'><svg class='icon xr-icon-file-text2'><use xlink:href='#icon-file-text2'></use></svg></label><input id='data-3bf8b065-b252-40c8-a12a-9a590bac7adc' class='xr-var-data-in' type='checkbox'><label for='data-3bf8b065-b252-40c8-a12a-9a590bac7adc' title='Show/Hide data repr'><svg class='icon xr-icon-database'><use xlink:href='#icon-database'></use></svg></label><div class='xr-var-attrs'><dl class='xr-attrs'><dt><span>standard_name :</span></dt><dd>significant_height_of_wind_and_swell_waves</dd><dt><span>units :</span></dt><dd>m</dd><dt><span>long_name :</span></dt><dd>Significant height of combined wind waves and swell</dd><dt><span>nameECMWF :</span></dt><dd>Significant height of combined wind waves and swell</dd><dt><span>shortNameECMWF :</span></dt><dd>swh</dd><dt><span>nameCDM :</span></dt><dd>Significant_height_of_combined_wind_waves_and_swell</dd><dt><span>product_type :</span></dt><dd>analysis</dd><dt><span>_SuperchunkSizes :</span></dt><dd>[744 361 720]</dd></dl></div><div class='xr-var-data'><pre>[193380480 values with dtype=float32]</pre></div></li><li class='xr-var-item'><div class='xr-var-name'><span>sea_surface_wave_from_direction</span></div><div class='xr-var-dims'>(time0, lat_ocean, lon_ocean)</div><div class='xr-var-dtype'>float32</div><div class='xr-var-preview xr-preview'>...</div><input id='attrs-c11faab2-e85e-4903-949c-0560443cd73e' class='xr-var-attrs-in' type='checkbox' ><label for='attrs-c11faab2-e85e-4903-949c-0560443cd73e' title='Show/Hide attributes'><svg class='icon xr-icon-file-text2'><use xlink:href='#icon-file-text2'></use></svg></label><input id='data-bbd25237-7fb4-4642-9116-1959ced8b8d5' class='xr-var-data-in' type='checkbox'><label for='data-bbd25237-7fb4-4642-9116-1959ced8b8d5' title='Show/Hide data repr'><svg class='icon xr-icon-database'><use xlink:href='#icon-database'></use></svg></label><div class='xr-var-attrs'><dl class='xr-attrs'><dt><span>standard_name :</span></dt><dd>sea_surface_wave_from_direction</dd><dt><span>units :</span></dt><dd>Degree true</dd><dt><span>long_name :</span></dt><dd>Mean wave direction</dd><dt><span>nameECMWF :</span></dt><dd>Mean wave direction</dd><dt><span>shortNameECMWF :</span></dt><dd>mwd</dd><dt><span>nameCDM :</span></dt><dd>Mean_wave_direction</dd><dt><span>product_type :</span></dt><dd>analysis</dd><dt><span>_SuperchunkSizes :</span></dt><dd>[744 361 720]</dd></dl></div><div class='xr-var-data'><pre>[193380480 values with dtype=float32]</pre></div></li><li class='xr-var-item'><div class='xr-var-name'><span>northward_wind_at_100_metres</span></div><div class='xr-var-dims'>(time0, lat, lon)</div><div class='xr-var-dtype'>float32</div><div class='xr-var-preview xr-preview'>...</div><input id='attrs-6bb44717-0098-4d9b-9fd8-327b51d9f7c7' class='xr-var-attrs-in' type='checkbox' ><label for='attrs-6bb44717-0098-4d9b-9fd8-327b51d9f7c7' title='Show/Hide attributes'><svg class='icon xr-icon-file-text2'><use xlink:href='#icon-file-text2'></use></svg></label><input id='data-d6b1d219-8a13-4c00-af0a-45bcc0a42800' class='xr-var-data-in' type='checkbox'><label for='data-d6b1d219-8a13-4c00-af0a-45bcc0a42800' title='Show/Hide data repr'><svg class='icon xr-icon-database'><use xlink:href='#icon-database'></use></svg></label><div class='xr-var-attrs'><dl class='xr-attrs'><dt><span>standard_name :</span></dt><dd>northward_wind</dd><dt><span>units :</span></dt><dd>m s**-1</dd><dt><span>long_name :</span></dt><dd>100 metre V wind component</dd><dt><span>nameECMWF :</span></dt><dd>100 metre V wind component</dd><dt><span>shortNameECMWF :</span></dt><dd>100v</dd><dt><span>nameCDM :</span></dt><dd>100_metre_V_wind_component_surface</dd><dt><span>_SuperchunkSizes :</span></dt><dd>[ 744  721 1440]</dd><dt><span>product_type :</span></dt><dd>analysis</dd></dl></div><div class='xr-var-data'><pre>[772450560 values with dtype=float32]</pre></div></li><li class='xr-var-item'><div class='xr-var-name'><span>surface_air_pressure</span></div><div class='xr-var-dims'>(time0, lat, lon)</div><div class='xr-var-dtype'>float32</div><div class='xr-var-preview xr-preview'>...</div><input id='attrs-64a7e344-d44f-4bc4-a6d0-a2e38cb60e0a' class='xr-var-attrs-in' type='checkbox' ><label for='attrs-64a7e344-d44f-4bc4-a6d0-a2e38cb60e0a' title='Show/Hide attributes'><svg class='icon xr-icon-file-text2'><use xlink:href='#icon-file-text2'></use></svg></label><input id='data-5580a303-92b6-437e-a07a-250288030ae3' class='xr-var-data-in' type='checkbox'><label for='data-5580a303-92b6-437e-a07a-250288030ae3' title='Show/Hide data repr'><svg class='icon xr-icon-database'><use xlink:href='#icon-database'></use></svg></label><div class='xr-var-attrs'><dl class='xr-attrs'><dt><span>standard_name :</span></dt><dd>surface_air_pressure</dd><dt><span>units :</span></dt><dd>Pa</dd><dt><span>long_name :</span></dt><dd>Surface pressure</dd><dt><span>nameECMWF :</span></dt><dd>Surface pressure</dd><dt><span>shortNameECMWF :</span></dt><dd>sp</dd><dt><span>nameCDM :</span></dt><dd>Surface_pressure_surface</dd><dt><span>_SuperchunkSizes :</span></dt><dd>[ 744  721 1440]</dd><dt><span>product_type :</span></dt><dd>analysis</dd></dl></div><div class='xr-var-data'><pre>[772450560 values with dtype=float32]</pre></div></li><li class='xr-var-item'><div class='xr-var-name'><span>air_temperature_at_2_metres_1hour_Minimum</span></div><div class='xr-var-dims'>(time1, lat, lon)</div><div class='xr-var-dtype'>float32</div><div class='xr-var-preview xr-preview'>...</div><input id='attrs-475429bf-714c-4b16-8394-3dc06e744b8c' class='xr-var-attrs-in' type='checkbox' ><label for='attrs-475429bf-714c-4b16-8394-3dc06e744b8c' title='Show/Hide attributes'><svg class='icon xr-icon-file-text2'><use xlink:href='#icon-file-text2'></use></svg></label><input id='data-ded55ee7-a232-4010-98ba-d5e30ebb930a' class='xr-var-data-in' type='checkbox'><label for='data-ded55ee7-a232-4010-98ba-d5e30ebb930a' title='Show/Hide data repr'><svg class='icon xr-icon-database'><use xlink:href='#icon-database'></use></svg></label><div class='xr-var-attrs'><dl class='xr-attrs'><dt><span>standard_name :</span></dt><dd>air_temperature</dd><dt><span>units :</span></dt><dd>K</dd><dt><span>long_name :</span></dt><dd>Minimum temperature at 2 metres since previous post-processing</dd><dt><span>nameECMWF :</span></dt><dd>Minimum temperature at 2 metres since previous post-processing</dd><dt><span>shortNameECMWF :</span></dt><dd>mn2t</dd><dt><span>nameCDM :</span></dt><dd>Minimum_temperature_at_2_metres_since_previous_post-processing_surface_1_Hour_2</dd><dt><span>_SuperchunkSizes :</span></dt><dd>[ 744  721 1440]</dd><dt><span>product_type :</span></dt><dd>forecast</dd></dl></div><div class='xr-var-data'><pre>[772450560 values with dtype=float32]</pre></div></li><li class='xr-var-item'><div class='xr-var-name'><span>air_pressure_at_mean_sea_level</span></div><div class='xr-var-dims'>(time0, lat, lon)</div><div class='xr-var-dtype'>float32</div><div class='xr-var-preview xr-preview'>...</div><input id='attrs-88bcc267-944f-4f88-8787-fd5169d03d86' class='xr-var-attrs-in' type='checkbox' ><label for='attrs-88bcc267-944f-4f88-8787-fd5169d03d86' title='Show/Hide attributes'><svg class='icon xr-icon-file-text2'><use xlink:href='#icon-file-text2'></use></svg></label><input id='data-4d98bf4c-f470-4edc-a605-21e220418cdb' class='xr-var-data-in' type='checkbox'><label for='data-4d98bf4c-f470-4edc-a605-21e220418cdb' title='Show/Hide data repr'><svg class='icon xr-icon-database'><use xlink:href='#icon-database'></use></svg></label><div class='xr-var-attrs'><dl class='xr-attrs'><dt><span>standard_name :</span></dt><dd>air_pressure_at_mean_sea_level</dd><dt><span>units :</span></dt><dd>Pa</dd><dt><span>long_name :</span></dt><dd>Mean sea level pressure</dd><dt><span>nameECMWF :</span></dt><dd>Mean sea level pressure</dd><dt><span>shortNameECMWF :</span></dt><dd>msl</dd><dt><span>nameCDM :</span></dt><dd>Mean_sea_level_pressure_surface</dd><dt><span>_SuperchunkSizes :</span></dt><dd>[ 744  721 1440]</dd><dt><span>product_type :</span></dt><dd>analysis</dd></dl></div><div class='xr-var-data'><pre>[772450560 values with dtype=float32]</pre></div></li><li class='xr-var-item'><div class='xr-var-name'><span>time1_bounds</span></div><div class='xr-var-dims'>(time1, nv)</div><div class='xr-var-dtype'>datetime64[ns]</div><div class='xr-var-preview xr-preview'>...</div><input id='attrs-f0528e70-cf7c-46a7-a475-1f845f036ed5' class='xr-var-attrs-in' type='checkbox' ><label for='attrs-f0528e70-cf7c-46a7-a475-1f845f036ed5' title='Show/Hide attributes'><svg class='icon xr-icon-file-text2'><use xlink:href='#icon-file-text2'></use></svg></label><input id='data-1d629530-b3a8-4cdc-ab23-573b14ed2e8c' class='xr-var-data-in' type='checkbox'><label for='data-1d629530-b3a8-4cdc-ab23-573b14ed2e8c' title='Show/Hide data repr'><svg class='icon xr-icon-database'><use xlink:href='#icon-database'></use></svg></label><div class='xr-var-attrs'><dl class='xr-attrs'><dt><span>_SuperchunkSizes :</span></dt><dd>[744   2]</dd></dl></div><div class='xr-var-data'><pre>[1488 values with dtype=datetime64[ns]]</pre></div></li><li class='xr-var-item'><div class='xr-var-name'><span>precipitation_amount_1hour_Accumulation</span></div><div class='xr-var-dims'>(time1, lat, lon)</div><div class='xr-var-dtype'>float32</div><div class='xr-var-preview xr-preview'>...</div><input id='attrs-fa3b97c7-2861-48a2-b4c3-4e95d1eb7c15' class='xr-var-attrs-in' type='checkbox' ><label for='attrs-fa3b97c7-2861-48a2-b4c3-4e95d1eb7c15' title='Show/Hide attributes'><svg class='icon xr-icon-file-text2'><use xlink:href='#icon-file-text2'></use></svg></label><input id='data-6a8d2ea3-c835-4216-b184-fa37c7e19845' class='xr-var-data-in' type='checkbox'><label for='data-6a8d2ea3-c835-4216-b184-fa37c7e19845' title='Show/Hide data repr'><svg class='icon xr-icon-database'><use xlink:href='#icon-database'></use></svg></label><div class='xr-var-attrs'><dl class='xr-attrs'><dt><span>standard_name :</span></dt><dd>precipitation_amount</dd><dt><span>units :</span></dt><dd>m</dd><dt><span>long_name :</span></dt><dd>Total precipitation</dd><dt><span>nameECMWF :</span></dt><dd>Total precipitation</dd><dt><span>shortNameECMWF :</span></dt><dd>tp</dd><dt><span>nameCDM :</span></dt><dd>Total_precipitation_1hour_Accumulation</dd><dt><span>_SuperchunkSizes :</span></dt><dd>[ 744  721 1440]</dd><dt><span>product_type :</span></dt><dd>forecast</dd></dl></div><div class='xr-var-data'><pre>[772450560 values with dtype=float32]</pre></div></li><li class='xr-var-item'><div class='xr-var-name'><span>eastward_wind_at_100_metres</span></div><div class='xr-var-dims'>(time0, lat, lon)</div><div class='xr-var-dtype'>float32</div><div class='xr-var-preview xr-preview'>...</div><input id='attrs-7caa27d4-f86e-4ac2-9aca-834d28eb69f4' class='xr-var-attrs-in' type='checkbox' ><label for='attrs-7caa27d4-f86e-4ac2-9aca-834d28eb69f4' title='Show/Hide attributes'><svg class='icon xr-icon-file-text2'><use xlink:href='#icon-file-text2'></use></svg></label><input id='data-aac96e56-6cf8-43cc-bf62-c47744f7f4e2' class='xr-var-data-in' type='checkbox'><label for='data-aac96e56-6cf8-43cc-bf62-c47744f7f4e2' title='Show/Hide data repr'><svg class='icon xr-icon-database'><use xlink:href='#icon-database'></use></svg></label><div class='xr-var-attrs'><dl class='xr-attrs'><dt><span>standard_name :</span></dt><dd>eastward_wind</dd><dt><span>units :</span></dt><dd>m s**-1</dd><dt><span>long_name :</span></dt><dd>100 metre U wind component</dd><dt><span>nameECMWF :</span></dt><dd>100 metre U wind component</dd><dt><span>shortNameECMWF :</span></dt><dd>100u</dd><dt><span>nameCDM :</span></dt><dd>100_metre_U_wind_component_surface</dd><dt><span>_SuperchunkSizes :</span></dt><dd>[ 744  721 1440]</dd><dt><span>product_type :</span></dt><dd>analysis</dd></dl></div><div class='xr-var-data'><pre>[772450560 values with dtype=float32]</pre></div></li><li class='xr-var-item'><div class='xr-var-name'><span>lwe_thickness_of_surface_snow_amount</span></div><div class='xr-var-dims'>(time0, lat, lon)</div><div class='xr-var-dtype'>float32</div><div class='xr-var-preview xr-preview'>...</div><input id='attrs-89132563-b469-47b4-948d-84457a671add' class='xr-var-attrs-in' type='checkbox' ><label for='attrs-89132563-b469-47b4-948d-84457a671add' title='Show/Hide attributes'><svg class='icon xr-icon-file-text2'><use xlink:href='#icon-file-text2'></use></svg></label><input id='data-0ddcd578-a763-41b9-88f7-13a741c78449' class='xr-var-data-in' type='checkbox'><label for='data-0ddcd578-a763-41b9-88f7-13a741c78449' title='Show/Hide data repr'><svg class='icon xr-icon-database'><use xlink:href='#icon-database'></use></svg></label><div class='xr-var-attrs'><dl class='xr-attrs'><dt><span>standard_name :</span></dt><dd>lwe_thickness_of_surface_snow_amount</dd><dt><span>units :</span></dt><dd>m of water equivalent</dd><dt><span>long_name :</span></dt><dd>Snow depth</dd><dt><span>nameECMWF :</span></dt><dd>Snow depth</dd><dt><span>shortNameECMWF :</span></dt><dd>sd</dd><dt><span>nameCDM :</span></dt><dd>Snow_depth_surface</dd><dt><span>_SuperchunkSizes :</span></dt><dd>[ 744  721 1440]</dd><dt><span>product_type :</span></dt><dd>analysis</dd></dl></div><div class='xr-var-data'><pre>[772450560 values with dtype=float32]</pre></div></li><li class='xr-var-item'><div class='xr-var-name'><span>snow_density</span></div><div class='xr-var-dims'>(time0, lat, lon)</div><div class='xr-var-dtype'>float32</div><div class='xr-var-preview xr-preview'>...</div><input id='attrs-39ce8694-16a5-462a-a2bc-bc7024a7fff9' class='xr-var-attrs-in' type='checkbox' ><label for='attrs-39ce8694-16a5-462a-a2bc-bc7024a7fff9' title='Show/Hide attributes'><svg class='icon xr-icon-file-text2'><use xlink:href='#icon-file-text2'></use></svg></label><input id='data-c394b25a-b592-4775-b62c-7b1239d8e3a4' class='xr-var-data-in' type='checkbox'><label for='data-c394b25a-b592-4775-b62c-7b1239d8e3a4' title='Show/Hide data repr'><svg class='icon xr-icon-database'><use xlink:href='#icon-database'></use></svg></label><div class='xr-var-attrs'><dl class='xr-attrs'><dt><span>standard_name :</span></dt><dd>snow_density</dd><dt><span>units :</span></dt><dd>kg m**-3</dd><dt><span>long_name :</span></dt><dd>Snow density</dd><dt><span>nameECMWF :</span></dt><dd>Snow density</dd><dt><span>shortNameECMWF :</span></dt><dd>rsn</dd><dt><span>nameCDM :</span></dt><dd>Snow_density_surface</dd><dt><span>_SuperchunkSizes :</span></dt><dd>[ 744  721 1440]</dd><dt><span>product_type :</span></dt><dd>analysis</dd></dl></div><div class='xr-var-data'><pre>[772450560 values with dtype=float32]</pre></div></li><li class='xr-var-item'><div class='xr-var-name'><span>eastward_wind_at_10_metres</span></div><div class='xr-var-dims'>(time0, lat, lon)</div><div class='xr-var-dtype'>float32</div><div class='xr-var-preview xr-preview'>...</div><input id='attrs-ee775362-b8a5-4de4-a4ef-3018d31c4fb3' class='xr-var-attrs-in' type='checkbox' ><label for='attrs-ee775362-b8a5-4de4-a4ef-3018d31c4fb3' title='Show/Hide attributes'><svg class='icon xr-icon-file-text2'><use xlink:href='#icon-file-text2'></use></svg></label><input id='data-4d4e6d7b-8cba-4280-baa0-a2391601d44b' class='xr-var-data-in' type='checkbox'><label for='data-4d4e6d7b-8cba-4280-baa0-a2391601d44b' title='Show/Hide data repr'><svg class='icon xr-icon-database'><use xlink:href='#icon-database'></use></svg></label><div class='xr-var-attrs'><dl class='xr-attrs'><dt><span>standard_name :</span></dt><dd>eastward_wind</dd><dt><span>units :</span></dt><dd>m s**-1</dd><dt><span>long_name :</span></dt><dd>10 metre U wind component</dd><dt><span>nameECMWF :</span></dt><dd>10 metre U wind component</dd><dt><span>shortNameECMWF :</span></dt><dd>10u</dd><dt><span>nameCDM :</span></dt><dd>10_metre_U_wind_component_surface</dd><dt><span>_SuperchunkSizes :</span></dt><dd>[ 744  721 1440]</dd><dt><span>product_type :</span></dt><dd>analysis</dd></dl></div><div class='xr-var-data'><pre>[772450560 values with dtype=float32]</pre></div></li><li class='xr-var-item'><div class='xr-var-name'><span>integral_wrt_time_of_surface_direct_downwelling_shortwave_flux_in_air_1hour_Accumulation</span></div><div class='xr-var-dims'>(time1, lat, lon)</div><div class='xr-var-dtype'>float32</div><div class='xr-var-preview xr-preview'>...</div><input id='attrs-b2405224-3d0a-40e2-bed8-4d1faed531ec' class='xr-var-attrs-in' type='checkbox' ><label for='attrs-b2405224-3d0a-40e2-bed8-4d1faed531ec' title='Show/Hide attributes'><svg class='icon xr-icon-file-text2'><use xlink:href='#icon-file-text2'></use></svg></label><input id='data-2a4ed88d-8596-4b85-aba6-7ce76af9196c' class='xr-var-data-in' type='checkbox'><label for='data-2a4ed88d-8596-4b85-aba6-7ce76af9196c' title='Show/Hide data repr'><svg class='icon xr-icon-database'><use xlink:href='#icon-database'></use></svg></label><div class='xr-var-attrs'><dl class='xr-attrs'><dt><span>standard_name :</span></dt><dd>integral_wrt_time_of_surface_direct_downwelling_shortwave_flux_in_air</dd><dt><span>units :</span></dt><dd>J m**-2</dd><dt><span>long_name :</span></dt><dd>Surface solar radiation downwards</dd><dt><span>nameECMWF :</span></dt><dd>Surface solar radiation downwards</dd><dt><span>shortNameECMWF :</span></dt><dd>ssrd</dd><dt><span>nameCDM :</span></dt><dd>Surface_solar_radiation_downwards_surface_1_Hour_Accumulation</dd><dt><span>_SuperchunkSizes :</span></dt><dd>[ 744  721 1440]</dd><dt><span>product_type :</span></dt><dd>forecast</dd></dl></div><div class='xr-var-data'><pre>[772450560 values with dtype=float32]</pre></div></li><li class='xr-var-item'><div class='xr-var-name'><span>air_temperature_at_2_metres</span></div><div class='xr-var-dims'>(time0, lat, lon)</div><div class='xr-var-dtype'>float32</div><div class='xr-var-preview xr-preview'>...</div><input id='attrs-eec1d9cd-0efe-4699-ac9c-c1160f6b4f0c' class='xr-var-attrs-in' type='checkbox' ><label for='attrs-eec1d9cd-0efe-4699-ac9c-c1160f6b4f0c' title='Show/Hide attributes'><svg class='icon xr-icon-file-text2'><use xlink:href='#icon-file-text2'></use></svg></label><input id='data-a4706272-ba24-47bf-8059-40d52a2f735e' class='xr-var-data-in' type='checkbox'><label for='data-a4706272-ba24-47bf-8059-40d52a2f735e' title='Show/Hide data repr'><svg class='icon xr-icon-database'><use xlink:href='#icon-database'></use></svg></label><div class='xr-var-attrs'><dl class='xr-attrs'><dt><span>standard_name :</span></dt><dd>air_temperature</dd><dt><span>units :</span></dt><dd>K</dd><dt><span>long_name :</span></dt><dd>2 metre temperature</dd><dt><span>nameECMWF :</span></dt><dd>2 metre temperature</dd><dt><span>shortNameECMWF :</span></dt><dd>2t</dd><dt><span>nameCDM :</span></dt><dd>2_metre_temperature_surface</dd><dt><span>_SuperchunkSizes :</span></dt><dd>[ 744  721 1440]</dd><dt><span>product_type :</span></dt><dd>analysis</dd></dl></div><div class='xr-var-data'><pre>[772450560 values with dtype=float32]</pre></div></li><li class='xr-var-item'><div class='xr-var-name'><span>northward_wind_at_10_metres</span></div><div class='xr-var-dims'>(time0, lat, lon)</div><div class='xr-var-dtype'>float32</div><div class='xr-var-preview xr-preview'>...</div><input id='attrs-6975a6e3-bdcb-490a-afcf-0421b862adb9' class='xr-var-attrs-in' type='checkbox' ><label for='attrs-6975a6e3-bdcb-490a-afcf-0421b862adb9' title='Show/Hide attributes'><svg class='icon xr-icon-file-text2'><use xlink:href='#icon-file-text2'></use></svg></label><input id='data-a7dacc81-fbcb-4a1a-a8b4-26b78c233c40' class='xr-var-data-in' type='checkbox'><label for='data-a7dacc81-fbcb-4a1a-a8b4-26b78c233c40' title='Show/Hide data repr'><svg class='icon xr-icon-database'><use xlink:href='#icon-database'></use></svg></label><div class='xr-var-attrs'><dl class='xr-attrs'><dt><span>standard_name :</span></dt><dd>northward_wind</dd><dt><span>units :</span></dt><dd>m s**-1</dd><dt><span>long_name :</span></dt><dd>10 metre V wind component</dd><dt><span>nameECMWF :</span></dt><dd>10 metre V wind component</dd><dt><span>shortNameECMWF :</span></dt><dd>10v</dd><dt><span>nameCDM :</span></dt><dd>10_metre_V_wind_component_surface</dd><dt><span>_SuperchunkSizes :</span></dt><dd>[ 744  721 1440]</dd><dt><span>product_type :</span></dt><dd>analysis</dd></dl></div><div class='xr-var-data'><pre>[772450560 values with dtype=float32]</pre></div></li></ul></div></li><li class='xr-section-item'><input id='section-0ead2f15-d8c8-4995-91a8-9550a337698f' class='xr-section-summary-in' type='checkbox'  ><label for='section-0ead2f15-d8c8-4995-91a8-9550a337698f' class='xr-section-summary' >Indexes: <span>(6)</span></label><div class='xr-section-inline-details'></div><div class='xr-section-details'><ul class='xr-var-list'><li class='xr-var-item'><div class='xr-index-name'><div>lat</div></div><div class='xr-index-preview'>PandasIndex</div><div></div><input id='index-5810cac9-58b2-4409-b47e-134d159c9245' class='xr-index-data-in' type='checkbox'/><label for='index-5810cac9-58b2-4409-b47e-134d159c9245' title='Show/Hide index repr'><svg class='icon xr-icon-database'><use xlink:href='#icon-database'></use></svg></label><div class='xr-index-data'><pre>PandasIndex(Index([  90.0,  89.75,   89.5,  89.25,   89.0,  88.75,   88.5,  88.25,   88.0,\n",
       "        87.75,\n",
       "       ...\n",
       "       -87.75,  -88.0, -88.25,  -88.5, -88.75,  -89.0, -89.25,  -89.5, -89.75,\n",
       "        -90.0],\n",
       "      dtype=&#x27;float32&#x27;, name=&#x27;lat&#x27;, length=721))</pre></div></li><li class='xr-var-item'><div class='xr-index-name'><div>time1</div></div><div class='xr-index-preview'>PandasIndex</div><div></div><input id='index-c2db183e-c7f2-4cd4-8721-6fb8fef31612' class='xr-index-data-in' type='checkbox'/><label for='index-c2db183e-c7f2-4cd4-8721-6fb8fef31612' title='Show/Hide index repr'><svg class='icon xr-icon-database'><use xlink:href='#icon-database'></use></svg></label><div class='xr-index-data'><pre>PandasIndex(DatetimeIndex([&#x27;2018-03-01 00:00:00&#x27;, &#x27;2018-03-01 01:00:00&#x27;,\n",
       "               &#x27;2018-03-01 02:00:00&#x27;, &#x27;2018-03-01 03:00:00&#x27;,\n",
       "               &#x27;2018-03-01 04:00:00&#x27;, &#x27;2018-03-01 05:00:00&#x27;,\n",
       "               &#x27;2018-03-01 06:00:00&#x27;, &#x27;2018-03-01 07:00:00&#x27;,\n",
       "               &#x27;2018-03-01 08:00:00&#x27;, &#x27;2018-03-01 09:00:00&#x27;,\n",
       "               ...\n",
       "               &#x27;2018-03-31 14:00:00&#x27;, &#x27;2018-03-31 15:00:00&#x27;,\n",
       "               &#x27;2018-03-31 16:00:00&#x27;, &#x27;2018-03-31 17:00:00&#x27;,\n",
       "               &#x27;2018-03-31 18:00:00&#x27;, &#x27;2018-03-31 19:00:00&#x27;,\n",
       "               &#x27;2018-03-31 20:00:00&#x27;, &#x27;2018-03-31 21:00:00&#x27;,\n",
       "               &#x27;2018-03-31 22:00:00&#x27;, &#x27;2018-03-31 23:00:00&#x27;],\n",
       "              dtype=&#x27;datetime64[ns]&#x27;, name=&#x27;time1&#x27;, length=744, freq=None))</pre></div></li><li class='xr-var-item'><div class='xr-index-name'><div>time0</div></div><div class='xr-index-preview'>PandasIndex</div><div></div><input id='index-17a40f34-62e4-46e2-b324-c67dce9a3df3' class='xr-index-data-in' type='checkbox'/><label for='index-17a40f34-62e4-46e2-b324-c67dce9a3df3' title='Show/Hide index repr'><svg class='icon xr-icon-database'><use xlink:href='#icon-database'></use></svg></label><div class='xr-index-data'><pre>PandasIndex(DatetimeIndex([&#x27;2018-03-01 00:00:00&#x27;, &#x27;2018-03-01 01:00:00&#x27;,\n",
       "               &#x27;2018-03-01 02:00:00&#x27;, &#x27;2018-03-01 03:00:00&#x27;,\n",
       "               &#x27;2018-03-01 04:00:00&#x27;, &#x27;2018-03-01 05:00:00&#x27;,\n",
       "               &#x27;2018-03-01 06:00:00&#x27;, &#x27;2018-03-01 07:00:00&#x27;,\n",
       "               &#x27;2018-03-01 08:00:00&#x27;, &#x27;2018-03-01 09:00:00&#x27;,\n",
       "               ...\n",
       "               &#x27;2018-03-31 14:00:00&#x27;, &#x27;2018-03-31 15:00:00&#x27;,\n",
       "               &#x27;2018-03-31 16:00:00&#x27;, &#x27;2018-03-31 17:00:00&#x27;,\n",
       "               &#x27;2018-03-31 18:00:00&#x27;, &#x27;2018-03-31 19:00:00&#x27;,\n",
       "               &#x27;2018-03-31 20:00:00&#x27;, &#x27;2018-03-31 21:00:00&#x27;,\n",
       "               &#x27;2018-03-31 22:00:00&#x27;, &#x27;2018-03-31 23:00:00&#x27;],\n",
       "              dtype=&#x27;datetime64[ns]&#x27;, name=&#x27;time0&#x27;, length=744, freq=None))</pre></div></li><li class='xr-var-item'><div class='xr-index-name'><div>lon</div></div><div class='xr-index-preview'>PandasIndex</div><div></div><input id='index-ce31f61b-1432-4888-88bd-81ed5f94e855' class='xr-index-data-in' type='checkbox'/><label for='index-ce31f61b-1432-4888-88bd-81ed5f94e855' title='Show/Hide index repr'><svg class='icon xr-icon-database'><use xlink:href='#icon-database'></use></svg></label><div class='xr-index-data'><pre>PandasIndex(Index([   0.0,   0.25,    0.5,   0.75,    1.0,   1.25,    1.5,   1.75,    2.0,\n",
       "         2.25,\n",
       "       ...\n",
       "        357.5, 357.75,  358.0, 358.25,  358.5, 358.75,  359.0, 359.25,  359.5,\n",
       "       359.75],\n",
       "      dtype=&#x27;float32&#x27;, name=&#x27;lon&#x27;, length=1440))</pre></div></li><li class='xr-var-item'><div class='xr-index-name'><div>lon_ocean</div></div><div class='xr-index-preview'>PandasIndex</div><div></div><input id='index-d67e93f6-c8ba-4ba9-b611-3f9142436062' class='xr-index-data-in' type='checkbox'/><label for='index-d67e93f6-c8ba-4ba9-b611-3f9142436062' title='Show/Hide index repr'><svg class='icon xr-icon-database'><use xlink:href='#icon-database'></use></svg></label><div class='xr-index-data'><pre>PandasIndex(Index([  0.0,   0.5,   1.0,   1.5,   2.0,   2.5,   3.0,   3.5,   4.0,   4.5,\n",
       "       ...\n",
       "       355.0, 355.5, 356.0, 356.5, 357.0, 357.5, 358.0, 358.5, 359.0, 359.5],\n",
       "      dtype=&#x27;float32&#x27;, name=&#x27;lon_ocean&#x27;, length=720))</pre></div></li><li class='xr-var-item'><div class='xr-index-name'><div>lat_ocean</div></div><div class='xr-index-preview'>PandasIndex</div><div></div><input id='index-985555d2-2f41-4d14-91d8-00f1362b8d4a' class='xr-index-data-in' type='checkbox'/><label for='index-985555d2-2f41-4d14-91d8-00f1362b8d4a' title='Show/Hide index repr'><svg class='icon xr-icon-database'><use xlink:href='#icon-database'></use></svg></label><div class='xr-index-data'><pre>PandasIndex(Index([ 90.0,  89.5,  89.0,  88.5,  88.0,  87.5,  87.0,  86.5,  86.0,  85.5,\n",
       "       ...\n",
       "       -85.5, -86.0, -86.5, -87.0, -87.5, -88.0, -88.5, -89.0, -89.5, -90.0],\n",
       "      dtype=&#x27;float32&#x27;, name=&#x27;lat_ocean&#x27;, length=361))</pre></div></li></ul></div></li><li class='xr-section-item'><input id='section-7495cb6e-b1fe-4537-92da-1092f35e8a1c' class='xr-section-summary-in' type='checkbox'  checked><label for='section-7495cb6e-b1fe-4537-92da-1092f35e8a1c' class='xr-section-summary' >Attributes: <span>(3)</span></label><div class='xr-section-inline-details'></div><div class='xr-section-details'><dl class='xr-attrs'><dt><span>source :</span></dt><dd>Reanalysis</dd><dt><span>institution :</span></dt><dd>ECMWF</dd><dt><span>tilte :</span></dt><dd>ERA5 forecasts</dd></dl></div></li></ul></div></div>"
      ],
      "text/plain": [
       "<xarray.Dataset>\n",
       "Dimensions:                                                                                   (\n",
       "                                                                                               lat: 721,\n",
       "                                                                                               time1: 744,\n",
       "                                                                                               time0: 744,\n",
       "                                                                                               lon: 1440,\n",
       "                                                                                               lon_ocean: 720,\n",
       "                                                                                               lat_ocean: 361,\n",
       "                                                                                               nv: 2)\n",
       "Coordinates:\n",
       "  * lat                                                                                       (lat) float32 ...\n",
       "  * time1                                                                                     (time1) datetime64[ns] ...\n",
       "  * time0                                                                                     (time0) datetime64[ns] ...\n",
       "  * lon                                                                                       (lon) float32 ...\n",
       "  * lon_ocean                                                                                 (lon_ocean) float32 ...\n",
       "  * lat_ocean                                                                                 (lat_ocean) float32 ...\n",
       "Dimensions without coordinates: nv\n",
       "Data variables: (12/19)\n",
       "    sea_surface_temperature                                                                   (time0, lat, lon) float32 ...\n",
       "    sea_surface_wave_mean_period                                                              (time0, lat_ocean, lon_ocean) float32 ...\n",
       "    air_temperature_at_2_metres_1hour_Maximum                                                 (time1, lat, lon) float32 ...\n",
       "    dew_point_temperature_at_2_metres                                                         (time0, lat, lon) float32 ...\n",
       "    significant_height_of_wind_and_swell_waves                                                (time0, lat_ocean, lon_ocean) float32 ...\n",
       "    sea_surface_wave_from_direction                                                           (time0, lat_ocean, lon_ocean) float32 ...\n",
       "    ...                                                                                        ...\n",
       "    lwe_thickness_of_surface_snow_amount                                                      (time0, lat, lon) float32 ...\n",
       "    snow_density                                                                              (time0, lat, lon) float32 ...\n",
       "    eastward_wind_at_10_metres                                                                (time0, lat, lon) float32 ...\n",
       "    integral_wrt_time_of_surface_direct_downwelling_shortwave_flux_in_air_1hour_Accumulation  (time1, lat, lon) float32 ...\n",
       "    air_temperature_at_2_metres                                                               (time0, lat, lon) float32 ...\n",
       "    northward_wind_at_10_metres                                                               (time0, lat, lon) float32 ...\n",
       "Attributes:\n",
       "    source:       Reanalysis\n",
       "    institution:  ECMWF\n",
       "    tilte:        ERA5 forecasts"
      ]
     },
     "execution_count": 6,
     "metadata": {},
     "output_type": "execute_result"
    }
   ],
   "source": [
    "era5_bucket = \"era5-pds\"\n",
    "client = boto3.client(\n",
    "    \"s3\", config=botocore.client.Config(signature_version=botocore.UNSIGNED)\n",
    ")  # initialize aws s3 bucket client\n",
    "date_sel = datetime.datetime(\n",
    "    2018, 3, 1, 0\n",
    ")  # select a desired date and hours (midnight is zero)\n",
    "prefix = date_sel.strftime(\"%Y/%m/\")  # format the date to match the s3 bucket\n",
    "metadata_file = \"main.nc\"  # filename on the s3 bucket\n",
    "metadata_key = prefix + metadata_file  # file location and name on the s3 bucket\n",
    "filepath = pooch_load(\n",
    "    filelocation=\"http://s3.amazonaws.com/\" + era5_bucket + \"/\" + metadata_key,\n",
    "    filename=metadata_file,\n",
    ")  # open the file\n",
    "\n",
    "ds_meta = xr.open_dataset(filepath)  # open the file\n",
    "ds_meta"
   ]
  },
  {
   "cell_type": "markdown",
   "metadata": {
    "execution": {}
   },
   "source": [
    "You just loaded an `xarray` dataset, as introduced at the first day. This dataset contains 19 variables covering the whole globe (-90 to +90 degrees in latitude, 0 to 360 degrees on longitude) along with their respective coordinates. With this dataset you have access to our best estimates of climate parameters with a temporal resolution of 1 hour and a spatial resolution of 1/4 degree (i.e. grid points near the Equator represent a ~25 km x 25 km region). This is a lot of data, but still just a fraction the data available through the [full ERA5 dataset](https://cds.climate.copernicus.eu/cdsapp#!/dataset/reanalysis-era5-land?tab=overview). \n"
   ]
  },
  {
   "cell_type": "markdown",
   "metadata": {
    "execution": {}
   },
   "source": [
    "## Section 1.2: Selecting Regions of Interest\n",
    "The global ERA5 data over the entire time range is so large that even just one variable would be too large to store on your computer. Here you will apply a method to load a region (i.e., a spatial subset) of the data. In this first example, you will load *air surface temperature at 2 meters* data for a small region in the Northeastern United States. In later tutorials you will have the opportunity to select a region of your choice and to explore other climate variables. "
   ]
  },
  {
   "cell_type": "code",
   "execution_count": 7,
   "metadata": {
    "tags": []
   },
   "outputs": [],
   "source": [
    "# the order of the lat lon range has to follow the convention of the data set.\n",
    "# for this dataset, longitude ranges from 0 to 360 degrees and\n",
    "# latitude ranges from 90 degrees Northto 90 degrees South .\n",
    "\n",
    "# northeastern United States\n",
    "lat_range = [55.2, 30.2]  # from north to south\n",
    "lon_range = [270, 295]  # from west to east"
   ]
  },
  {
   "cell_type": "code",
   "execution_count": null,
   "metadata": {},
   "outputs": [
    {
     "name": "stderr",
     "output_type": "stream",
     "text": [
      "Downloading data from 'http://s3.amazonaws.com/era5-pds/2018/03/data/air_temperature_at_2_metres.nc' to file '/tmp/2018/03/data/air_temperature_at_2_metres.nc'.\n"
     ]
    },
    {
     "name": "stdout",
     "output_type": "stream",
     "text": [
      "Downloading 2018/03/data/air_temperature_at_2_metres.nc from S3...\n"
     ]
    },
    {
     "name": "stderr",
     "output_type": "stream",
     "text": [
      "SHA256 hash of downloaded file: aaef868e842bdb8142848745566c3f1bde9567c904072505635ffa085b68fdea\n",
      "Use this value as the 'known_hash' argument of 'pooch.retrieve' to ensure that the file hasn't changed if it is downloaded again in the future.\n",
      "Downloading data from 'http://s3.amazonaws.com/era5-pds/2018/03/data/northward_wind_at_10_metres.nc' to file '/tmp/2018/03/data/northward_wind_at_10_metres.nc'.\n"
     ]
    },
    {
     "name": "stdout",
     "output_type": "stream",
     "text": [
      "Downloading 2018/03/data/northward_wind_at_10_metres.nc from S3...\n"
     ]
    },
    {
     "name": "stderr",
     "output_type": "stream",
     "text": [
      "SHA256 hash of downloaded file: bb33d9f3a70d4e73551915280f427bdca20435eb2b330af40c93a711fd004aa3\n",
      "Use this value as the 'known_hash' argument of 'pooch.retrieve' to ensure that the file hasn't changed if it is downloaded again in the future.\n",
      "Downloading data from 'http://s3.amazonaws.com/era5-pds/2018/03/data/eastward_wind_at_10_metres.nc' to file '/tmp/2018/03/data/eastward_wind_at_10_metres.nc'.\n"
     ]
    },
    {
     "name": "stdout",
     "output_type": "stream",
     "text": [
      "Downloading 2018/03/data/eastward_wind_at_10_metres.nc from S3...\n"
     ]
    },
    {
     "name": "stderr",
     "output_type": "stream",
     "text": [
      "SHA256 hash of downloaded file: 72bd5971cd5646c6c5dc3b989ae3713ff702c4dfa7a8830762e1bd523e822b0a\n",
      "Use this value as the 'known_hash' argument of 'pooch.retrieve' to ensure that the file hasn't changed if it is downloaded again in the future.\n",
      "Downloading data from 'http://s3.amazonaws.com/era5-pds/2018/03/data/surface_air_pressure.nc' to file '/tmp/2018/03/data/surface_air_pressure.nc'.\n"
     ]
    },
    {
     "name": "stdout",
     "output_type": "stream",
     "text": [
      "Downloading 2018/03/data/surface_air_pressure.nc from S3...\n"
     ]
    }
   ],
   "source": [
    "# note this can take several minutes to download\n",
    "selected_vars = [\n",
    "    \"air_temperature_at_2_metres\",\n",
    "    \"northward_wind_at_10_metres\",\n",
    "    \"eastward_wind_at_10_metres\",\n",
    "    \"surface_air_pressure\",\n",
    "    \"sea_surface_temperature\",\n",
    "]  # the variables we want\n",
    "s3_data_ptrn = (\n",
    "    \"{year}/{month}/data/{var}.nc\"  # path and filename format for this S3 bucket\n",
    ")\n",
    "year_s3 = date_sel.strftime(\"%Y\")  # extract the year\n",
    "month_s3 = date_sel.strftime(\"%m\")  # extract the month\n",
    "ERA5_select = []  # initialize the dataset, will save a complicated check later\n",
    "for var in selected_vars:  # this will download 5 files of 500Mb each.\n",
    "    s3_data_key = s3_data_ptrn.format(\n",
    "        year=year_s3, month=month_s3, var=var\n",
    "    )  # variable specific  key\n",
    "    print(\"Downloading %s from S3...\" % s3_data_key)\n",
    "    filepath = pooch_load(\n",
    "        filelocation=\"http://s3.amazonaws.com/\" + era5_bucket + \"/\" + s3_data_key,\n",
    "        filename=s3_data_key,\n",
    "    )  # open the file\n",
    "    ds_temp = xr.open_dataset(filepath)  # retrieve the variable from the bucket\n",
    "    if (\n",
    "        ERA5_select\n",
    "    ):  # check if the dataset is empty or not (first iteration of the loop)\n",
    "        ERA5_select = xr.merge(\n",
    "            [ERA5_select, ds_temp]\n",
    "        )  # if not empty, merge the new file\n",
    "    else:\n",
    "        ERA5_select = ds_temp  # if empty, just assign the new file\n",
    "\n",
    "ERA5_allvars = ERA5_select.sel(lon=slice(lon_range[0], lon_range[1])).sel(\n",
    "    lat=slice(lat_range[0], lat_range[1])\n",
    ")\n",
    "ERA5_allvars"
   ]
  },
  {
   "cell_type": "markdown",
   "metadata": {
    "execution": {}
   },
   "source": [
    "The magnitude of the wind vector represents the wind speed \n",
    "\n",
    "\\begin{align}\n",
    "||u|| = \\sqrt{u^2 + v^2}\n",
    "\\end{align}\n",
    "\n",
    "which you will use later in the tutorial and discuss in more detail in tutorial 4. We will calculate that here and add it to our dataset."
   ]
  },
  {
   "cell_type": "code",
   "execution_count": null,
   "metadata": {},
   "outputs": [],
   "source": [
    "# compute ten meter wind speed\n",
    "ERA5_allvars[\"wind_speed\"] = np.sqrt(\n",
    "    ERA5_allvars[\"northward_wind_at_10_metres\"] ** 2\n",
    "    + ERA5_allvars[\"eastward_wind_at_10_metres\"] ** 2\n",
    ")  # calculate the wind speed from the vectors\n",
    "# name and units in the DataArray:\n",
    "ERA5_allvars[\"wind_speed\"].attrs[\n",
    "    \"long_name\"\n",
    "] = \"10-meter wind speed\"  # assigning long name to the windspeed\n",
    "ERA5_allvars[\"wind_speed\"].attrs[\"units\"] = \"m/s\"  # assigning units\n",
    "ERA5_allvars"
   ]
  },
  {
   "cell_type": "markdown",
   "metadata": {
    "execution": {}
   },
   "source": [
    "# Section 2: Plotting Spatial Maps of Reanalysis Data\n",
    "First, let's plot the region's surface temperature for the first time step of the reanalysis dataset. To do this let's extract the air temperatre data from the dataset containing all the variables."
   ]
  },
  {
   "cell_type": "code",
   "execution_count": null,
   "metadata": {},
   "outputs": [],
   "source": [
    "ds_surface_temp_2m = ERA5_allvars.air_temperature_at_2_metres"
   ]
  },
  {
   "cell_type": "markdown",
   "metadata": {
    "execution": {}
   },
   "source": [
    "We will be plotting this a little bit differently that you have previously plotted a map (and differently to how you will plot in most tutorials) so we can look at a few times steps interactively later. To do this we are using the package [geoviews](https://geoviews.org). "
   ]
  },
  {
   "cell_type": "code",
   "execution_count": null,
   "metadata": {},
   "outputs": [],
   "source": [
    "holoviews.extension(\"bokeh\")\n",
    "\n",
    "dataset_plot = gvDataset(ds_surface_temp_2m.isel(time0=0))  # select the first time step\n",
    "\n",
    "# create the image\n",
    "images = dataset_plot.to(\n",
    "    gvImage, [\"longitude\", \"latitude\"], [\"air_temperature_at_2_metres\"], \"hour\"\n",
    ")\n",
    "\n",
    "# aesthetics, add coastlines etc.\n",
    "images.opts(\n",
    "    cmap=\"coolwarm\",\n",
    "    colorbar=True,\n",
    "    width=600,\n",
    "    height=400,\n",
    "    projection=ccrs.PlateCarree(),\n",
    "    clabel=\"2m Air Temperature [K]\",\n",
    ") * gf.coastline"
   ]
  },
  {
   "cell_type": "markdown",
   "metadata": {
    "execution": {}
   },
   "source": [
    "In the above figure, coastlines are shown as black lines. Most of the selected region is land, with some ocean (lower left) and a lake (top middle).\n",
    "\n",
    "Next, we will examine variability at two different frequencies using interactive plots:\n",
    "\n",
    "1. **Hourly variability** \n",
    "2. **Daily variability** \n",
    "\n",
    "Note that in the previous tutorial you computed the monthly variability, or *climatology*, but here you only have one month of data loaded (March 2018). If you are curious about longer timescales you will visit this in the next tutorial!"
   ]
  },
  {
   "cell_type": "code",
   "execution_count": null,
   "metadata": {
    "tags": []
   },
   "outputs": [],
   "source": [
    "# interactive plot of hourly frequency of surface temperature\n",
    "# this cell may take a little longer as it contains several maps in a single plotting function\n",
    "ds_surface_temp_2m_hour = ds_surface_temp_2m.groupby(\"time0.hour\").mean()\n",
    "dataset_plot = gvDataset(\n",
    "    ds_surface_temp_2m_hour.isel(hour=slice(0, 12))\n",
    ")  # only the first 12 time steps, as it is a time consuming task\n",
    "images = dataset_plot.to(\n",
    "    gvImage, [\"longitude\", \"latitude\"], [\"air_temperature_at_2_metres\"], \"hour\"\n",
    ")\n",
    "images.opts(\n",
    "    cmap=\"coolwarm\",\n",
    "    colorbar=True,\n",
    "    width=600,\n",
    "    height=400,\n",
    "    projection=ccrs.PlateCarree(),\n",
    "    clabel=\"2m Air Temperature [K]\",\n",
    ") * gf.coastline"
   ]
  },
  {
   "cell_type": "code",
   "execution_count": null,
   "metadata": {},
   "outputs": [],
   "source": [
    "# interactive plot of hourly frequency of surface temperature\n",
    "# this cell may take a little longer as it contains several maps in a single plotting function holoviews.extension('bokeh')\n",
    "ds_surface_temp_2m_day = ds_surface_temp_2m.groupby(\"time0.day\").mean()\n",
    "dataset_plot = gvDataset(\n",
    "    ds_surface_temp_2m_day.isel(day=slice(0, 10))\n",
    ")  # only the first 10 time steps, as it is a time consuming task\n",
    "images = dataset_plot.to(\n",
    "    gvImage, [\"longitude\", \"latitude\"], [\"air_temperature_at_2_metres\"], \"day\"\n",
    ")\n",
    "images.opts(\n",
    "    cmap=\"coolwarm\",\n",
    "    colorbar=True,\n",
    "    width=600,\n",
    "    height=400,\n",
    "    projection=ccrs.PlateCarree(),\n",
    "    clabel=\"Air Temperature [K]\",\n",
    ") * gf.coastline"
   ]
  },
  {
   "cell_type": "markdown",
   "metadata": {
    "execution": {}
   },
   "source": [
    "### Question 2\n",
    "1. What differences do you notice between the hourly and daily interactive plots, and are there any interesting spatial patterns of these temperature changes?"
   ]
  },
  {
   "cell_type": "code",
   "execution_count": null,
   "metadata": {},
   "outputs": [],
   "source": [
    "# to_remove explanation\n",
    "\n",
    "\"\"\"\n",
    "1. On hourly timescales, the largest changes are over land because it responds faster than the ocean to the diurnal cycle of solar radiation. This is because the ocean has a higher heat capacity than the land surface. On daily timescales, the surface atmospheric temperature shows comparable variations across both the ocean and land.\n",
    "\"\"\";"
   ]
  },
  {
   "cell_type": "markdown",
   "metadata": {
    "execution": {}
   },
   "source": [
    "# Section 3: Plotting Timeseries of Reanalysis Data\n",
    "\n",
    "## Section 3.1: Surface Air Temperature Timeseries\n",
    "\n",
    "You have demonstrated that there are a lot of changes in surface temperature within a day and between days. It is crucial to understand this *temporal variability* in the data when performing climate analysis.\n",
    "\n",
    "Rather than plotting interactive spatial maps for different timescales, in this last section you will create a timeseries of surface air temperature from the data you have already examined to look at variability on longer than daily timescales. Instead of taking the mean in ***time*** to create *maps*, you will now take the mean in ***space*** to create *timeseries*.\n",
    "\n",
    "*Note that the spatially-averaged data will now only have a time coordinate coordinate, making it a timeseries (ts).*"
   ]
  },
  {
   "cell_type": "code",
   "execution_count": null,
   "metadata": {
    "tags": []
   },
   "outputs": [],
   "source": [
    "# find weights (this is a regular grid so we can use cos(lat))\n",
    "weights = np.cos(np.deg2rad(ds_surface_temp_2m.lat))\n",
    "weights.name = \"weights\"\n",
    "\n",
    "# take the weighted spatial mean since the latitude range of the region of interest is large\n",
    "ds_surface_temp_2m_ts = ds_surface_temp_2m.weighted(weights).mean([\"lon\", \"lat\"])\n",
    "ds_surface_temp_2m_ts"
   ]
  },
  {
   "cell_type": "code",
   "execution_count": null,
   "metadata": {},
   "outputs": [],
   "source": [
    "# plot the timeseries of surface temperature\n",
    "\n",
    "fig, ax = plt.subplots(1, 1, figsize=(10, 3))\n",
    "\n",
    "ax.plot(ds_surface_temp_2m_ts.time0, ds_surface_temp_2m_ts)\n",
    "ax.set_ylabel(\"2m Air \\nTemperature (K)\")\n",
    "ax.xaxis.set_tick_params(rotation=45)"
   ]
  },
  {
   "cell_type": "markdown",
   "metadata": {
    "execution": {}
   },
   "source": [
    "### Questions 3.1\n",
    "1. What is the dominant source of the high frequency (short timescale) variability? \n",
    "2. What drives the lower frequency variability? \n",
    "3. Would the ENSO variablity that you computed in the previous tutorial show up here? Why or why not?"
   ]
  },
  {
   "cell_type": "code",
   "execution_count": null,
   "metadata": {},
   "outputs": [],
   "source": [
    "# to_remove explanation\n",
    "\"\"\"\n",
    "1. The high frequency variability can largely be attributed to the diurnal cycle, or the differences in solar radiation between night and day. This causes large variations in surface temperature, particularly over land and shallow water.\n",
    "2. The low frequency variability can be attributed to synoptic patterns (e.g., weather) which can move cold or warm air around on timescales of days to weeks.\n",
    "3. We do not have a long enough time series for ENSO to show up, but ENSO could indirectly affect this timeseries by changing weather patterns on shorter timescales.\n",
    "\"\"\";"
   ]
  },
  {
   "cell_type": "markdown",
   "metadata": {
    "execution": {}
   },
   "source": [
    "## Section 3.2: Comparing Timeseries of Multiple Variables\n",
    "\n",
    "Below you will calculate the timeseries of the surface air temperature which we just plotted, alongside timeseries of several other ERA5 variables for the same period and region: 10-meter wind speed, atmospheric surface pressure, and sea surface temperature. "
   ]
  },
  {
   "cell_type": "code",
   "execution_count": null,
   "metadata": {},
   "outputs": [],
   "source": [
    "ERA5_allvars_ts = ERA5_allvars.weighted(weights).mean([\"lon\", \"lat\"])"
   ]
  },
  {
   "cell_type": "code",
   "execution_count": null,
   "metadata": {},
   "outputs": [],
   "source": [
    "plot_vars = [\n",
    "    \"air_temperature_at_2_metres\",\n",
    "    \"wind_speed\",\n",
    "    \"surface_air_pressure\",\n",
    "    \"sea_surface_temperature\",\n",
    "]\n",
    "\n",
    "fig, ax_list = plt.subplots(len(plot_vars), 1, figsize=(10, 13), sharex=True)\n",
    "\n",
    "for var, ax in zip(plot_vars, ax_list):\n",
    "\n",
    "    ax.plot(ERA5_allvars_ts.time0, ERA5_allvars_ts[var])\n",
    "    ax.set_ylabel(\n",
    "        ERA5_allvars[var].attrs[\"long_name\"] + \": \" + ERA5_allvars[var].attrs[\"units\"],\n",
    "        fontsize=12,\n",
    "    )\n",
    "    ax.xaxis.set_tick_params(rotation=45)"
   ]
  },
  {
   "cell_type": "markdown",
   "metadata": {
    "execution": {},
    "jp-MarkdownHeadingCollapsed": true,
    "tags": []
   },
   "source": [
    "### Questions 3.2\n",
    "\n",
    "Which variable shows variability that is dominated by:\n",
    "1. The diurnal cycle?\n",
    "2. The synoptic [~5 day] scale?\n",
    "3. A mix of these two timescales?\n",
    "4. Longer timescales?"
   ]
  },
  {
   "cell_type": "code",
   "execution_count": null,
   "metadata": {},
   "outputs": [],
   "source": [
    "# to_remove explanation\n",
    "\"\"\"\n",
    "1. The 2-meter temperature is dominated by the diurnal cycle.\n",
    "2. The surface pressure, which is usually associated with storms, is dominated by the synoptic scale.\n",
    "3. The 10-meter wind speed shows influences from both the diurnal cycle and the synoptic scale.\n",
    "4. The ocean surface temperature shows some sensitivity to the diurnal cycle but is dominated by longer timescale (>weeks) variations than the atmospheric variables.\n",
    "\"\"\";"
   ]
  },
  {
   "cell_type": "markdown",
   "metadata": {
    "execution": {}
   },
   "source": [
    "## Bonus Section 1: Selecting a Different Spatial Region\n",
    "\n",
    "Define another spatial region, such as where you live, by selecting a longitude and latitude range of of your choosing. To find the longitude and latitude coordinates of your region, you can use [Google Earth view](https://earth.google.com/), and read the position of your cursor in the lower right corner.\n",
    "\n",
    "### Bonus Section 1.1: Note About the Geographic Coordinate System and the Coordinates Used in This Dataset\n",
    "A point on Earth is described by latitude-longitude coordinates relative to the zero-meridian line going through Greenwich in London, UK (longitude = 0 degree) and the xero-latitude line along the equator (latitude = 0 degrees). Points east of Greenwich up to the *dateline* on the opposite side of the globe are referenced as 0 to +180 and points to the west of Greenwich are 0 to -180. -180 and +180 refer to the same longitude, the so-called *dateline* in the central pacific. \n",
    "\n",
    "However, our data is referenced in a slightly different way where longitude runs from 0 to 360 rather than -180 to +180. Longitude increases as you move east of Greenwich, until you reach Greenwich again (0 or 360 degrees), rather than stopping at the *dateline*. "
   ]
  },
  {
   "cell_type": "markdown",
   "metadata": {
    "execution": {}
   },
   "source": [
    "# Summary\n",
    "\n",
    "In this tutorial, you learned how to access and process ERA5 reanalysis data. You are able to select specific regions within the reanalysis dataset and perform operations such as taking spatial and temporal averages.\n",
    "\n",
    "You also looked at different climate variables to distinguish idenitfy the variability present at different timescales.\n"
   ]
  },
  {
   "cell_type": "markdown",
   "metadata": {
    "execution": {}
   },
   "source": [
    "## **Bonus Section 1: Selecting a Different Spatial Region**\n",
    "\n",
    "Define another spatial region, such as where you live, by selecting a longitude and latitude range of of your choosing. To find the longitude and latitude coordinates of your region, you can use [Google Earth view](https://earth.google.com/), and read the position of your cursor in the lower right corner.\n",
    "\n",
    "### **Bonus Section 1.1: Note About the Geographic Coordinate System and the Coordinates Used in This Dataset**\n",
    "A point on Earth is described by latitude-longitude coordinates relative to the zero-meridian line going through Greenwich in London, UK (longitude = 0 degree) and the xero-latitude line along the equator (latitude = 0 degrees). Points east of Greenwich up to the *dateline* on the opposite side of the globe are referenced as 0 to +180 and points to the west of Greenwich are 0 to -180. -180 and +180 refer to the same longitude, the so-called *dateline* in the central pacific. \n",
    "\n",
    "However, our data is referenced in a slightly different way where longitude runs from 0 to 360 rather than -180 to +180. Longitude increases as you move east of Greenwich, until you reach Greenwich again (0 or 360 degrees), rather than stopping at the *dateline*. "
   ]
  },
  {
   "cell_type": "markdown",
   "metadata": {
    "execution": {}
   },
   "source": [
    "# **Resources**\n",
    "\n",
    "Data for this tutorial can be accessed [here](https://registry.opendata.aws/ecmwf-era5/)."
   ]
  }
 ],
 "metadata": {
  "colab": {
   "collapsed_sections": [],
   "include_colab_link": true,
   "name": "W1D2_Tutorial2",
   "provenance": [],
   "toc_visible": true
  },
  "kernel": {
   "display_name": "Python 3",
   "language": "python",
   "name": "python3"
  },
  "kernelspec": {
   "display_name": "Python 3 (ipykernel)",
   "language": "python",
   "name": "python3"
  },
  "language_info": {
   "codemirror_mode": {
    "name": "ipython",
    "version": 3
   },
   "file_extension": ".py",
   "mimetype": "text/x-python",
   "name": "python",
   "nbconvert_exporter": "python",
   "pygments_lexer": "ipython3",
   "version": "3.10.12"
  },
  "toc-autonumbering": true
 },
 "nbformat": 4,
 "nbformat_minor": 4
}
