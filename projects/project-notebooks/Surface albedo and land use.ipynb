{
 "cells": [
  {
   "cell_type": "markdown",
   "metadata": {
    "id": "avjFjFXwWqyW"
   },
   "source": [
    "#**Change in Earth's albedo and its dependence on land cover changes in the past 20 years**\n",
    "\n",
    "**Content creators:** Oz Kira, Julius Bamah\n",
    "\n",
    "**Content reviewers:** Yuhan Douglas Rao, Abigail Bodner, \n",
    "\n",
    "**Content editors:** Zane Mitrevica, Natalie Steinemann, Jenna Pearson, Chi Zhang, Ohad Zivan\n",
    "\n",
    "**Production editors:**  Wesley Banfield, Jenna Pearson, Chi Zhang, Ohad Zivan\n",
    "\n",
    "**Our 2023 Sponsors:** NASA TOPS and Google DeepMind"
   ]
  },
  {
   "cell_type": "code",
   "execution_count": null,
   "metadata": {
    "id": "umnBeSiJeqYo"
   },
   "outputs": [],
   "source": [
    "# @title #**Project background** \n",
    "#This will be a short video introducing the content creator(s) and motivating the research direction of the template.\n",
    "#The Tech team will add code to format and display the video"
   ]
  },
  {
   "cell_type": "markdown",
   "metadata": {
    "id": "DZbqRlQKXhnc"
   },
   "source": [
    "The global radiative budget is affected by land cover. Regarding vegetation land cover (e.g., forests, grasslands, agricultural fields, etc.), vegetation sequesters carbon, which reduces the greenhouse effect but absorbs more radiation and reduces earth albedo, which counteracts carbon sequestration. In this project, we will evaluate the albedo change vs. carbon sequestration over the past 24 years. In addition, we will track significant land use changes, specifically agricultural land creation, and abandonment. \n",
    "\n",
    "**In this project**, you will be given the opportunity to explore terrestrial remote sensing and meteorological data from MODIS and MERRA-2 to extract reflectance, albedo, and meteorological variables and information on land cover change in your region of interest. We encourage you to use this data to investigate the relationships between these variables and how they affect the global radiative budget. In addition, you can track the phenomenon of agricultural land abandonment and map if the lands were abandoned due to climate change."
   ]
  },
  {
   "cell_type": "markdown",
   "metadata": {
    "id": "adR8NLN_ZsZL"
   },
   "source": [
    "# **Project template**\n",
    "![template](https://raw.githubusercontent.com/ClimateMatchAcademy/course-content/main/projects/template-images/sea_level_rise_template_map.svg)"
   ]
  },
  {
   "cell_type": "markdown",
   "metadata": {
    "id": "-uS_n9-3YJrZ"
   },
   "source": [
    "# **Data exploration notebook**\n",
    "## Project setup\n",
    "\n",
    "To use the script the following proceures must be ensured:\n",
    "1. Register an account on register at NASA earth data portal: https://urs.earthdata.nasa.gov/users/new \n",
    "2.Download python from here : https://www.python.org/downloads/ (please note: if neccessary)\n",
    "2. pip install the following libaries into yor Jupyter notebook \n",
    "\n",
    "\n",
    "\n",
    "Please run the following cells!\n",
    "    \n",
    "\n"
   ]
  },
  {
   "cell_type": "code",
   "execution_count": 1,
   "metadata": {},
   "outputs": [
    {
     "name": "stdout",
     "output_type": "stream",
     "text": [
      "\n",
      "EnvironmentFileNotFound: '/Users/chi/Documents/GitHub/course-content/projects/project-notebooks/environment.yml' file not found\n",
      "\n",
      "\n",
      "Note: you may need to restart the kernel to use updated packages.\n"
     ]
    }
   ],
   "source": [
    "conda env create -f environment.yml"
   ]
  },
  {
   "cell_type": "code",
   "execution_count": null,
   "metadata": {
    "colab": {
     "base_uri": "https://localhost:8080/",
     "height": 1000
    },
    "executionInfo": {
     "elapsed": 84265,
     "status": "error",
     "timestamp": 1683550940548,
     "user": {
      "displayName": "Zane Mitrevica",
      "userId": "10190758862467767060"
     },
     "user_tz": -60
    },
    "id": "9nDg6MeVY1CX",
    "outputId": "e631645b-2751-490a-e9ad-6db6e540eccd"
   },
   "outputs": [],
   "source": [
    "!pip install cartopy\n",
    "!pip install DateTime \n",
    "!pip install matplotlib\n",
    "!pip install pyhdf\n",
    "!pip install numpy\n",
    "!pip install pandas\n",
    "!pip install modis-tools\n",
    "!pip install \n",
    "\n",
    "\n",
    "# the further information on the MODIS data can be found here : https://amanbagrecha.github.io/post/rs_gis/download-modis-data-using-cmr-api-in-python/\n",
    "#Import the libraries\n",
    "from modis_tools.auth import ModisSession\n",
    "from modis_tools.resources import CollectionApi, GranuleApi\n",
    "from modis_tools.granule_handler import GranuleHandler\n",
    "from typing_extensions import Literal\n",
    "from pyhdf.SD import SD, SDC\n",
    "import numpy as np\n",
    "from netCDF4 import Dataset\n",
    "import matplotlib.pyplot as plt\n",
    "import cartopy.crs as ccrs\n"
   ]
  },
  {
   "cell_type": "markdown",
   "metadata": {
    "id": "iYblWn8cZAGT"
   },
   "source": [
    "#**MODIS (Moderate Resolution Imaging Spectroradiometer)**\n",
    "\n",
    "MODIS (Moderate Resolution Imaging Spectroradiometer) is a key instrument aboard the Terra (originally known as EOS AM-1) and Aqua (originally known as EOS PM-1) satellites. Terra's orbit around the Earth is timed so that it passes from north to south across the equator in the morning, while Aqua passes south to north over the equator in the afternoon. Terra MODIS and Aqua MODIS are viewing the entire Earth's surface every 1 to 2 days, acquiring data in 36 spectral bands, or groups of wavelengths (see MODIS Technical Specifications). These data will improve our understanding of global dynamics and processes occurring on the land, in the oceans, and in the lower atmosphere. MODIS is playing a vital role in the development of validated, global, interactive Earth system models able to predict global change accurately enough to assist policy makers in making sound decisions concerning the protection of our environment ([https://modis.gsfc.nasa.gov/data/](https://academy.climatematch.io/courses/2023-computational-tools-for-climate-science)). \n",
    "\n",
    "Before running the code please read : https://amanbagrecha.github.io/post/rs_gis/download-modis-data-using-cmr-api-in-python/ \n"
   ]
  },
  {
   "cell_type": "code",
   "execution_count": null,
   "metadata": {
    "id": "drh-swqCsb9k"
   },
   "outputs": [],
   "source": [
    "#Import the libraries\n",
    "\n",
    "from modis_tools.auth import ModisSession\n",
    "from modis_tools.resources import CollectionApi, GranuleApi\n",
    "from modis_tools.granule_handler import GranuleHandler\n",
    "from typing_extensions import Literal"
   ]
  },
  {
   "cell_type": "code",
   "execution_count": null,
   "metadata": {
    "id": "mZMo14eJs26r"
   },
   "outputs": [],
   "source": [
    "#download_modis.py\n",
    "username = \"\"  # Update this line with your username \n",
    "password = \"\"  # Update this line with your password\n",
    "# 1) connect to earthdata\n",
    "session = ModisSession(username=username, password=password)\n",
    "\n",
    "# 2) Query the MODIS catalog for collections\n",
    "collection_client = CollectionApi(session=session)\n",
    "collections = collection_client.query(short_name=\"\", version=\"\") # Collection short name + version\n",
    "# Query the selected collection for granules\n",
    "granule_client = GranuleApi.from_collection(collections[0], session=session)\n",
    "\n",
    "# 3) Filter the selected granules via spatial and temporal parameters\n",
    "Israel_bbox = [] # format [x_min, y_min, x_max, y_max] # add min lon,min lat, max lon and max_lat input your preferred location\n",
    "Israel_granules = granule_client.query(start_date=\"\", end_date=\"\", bounding_box=Israel_bbox)   #choose the start and end dates for the year-month-day you prefer\n",
    "\n",
    "# 4) Download the granules\n",
    "GranuleHandler.download_from_granules(Israel_granules, session, threads=-1) \n",
    "#NB the file format will be downloaded in hdf \n"
   ]
  },
  {
   "cell_type": "markdown",
   "metadata": {
    "id": "nODD9jDmLdAY"
   },
   "source": [
    "The following links could help students in preprocessing the MODIS dataset  \n",
    "- https://www.earthdatascience.org/courses/use-data-open-source-python/multispectral-remote-sensing/modis-data-in-python/\n",
    "\n",
    "- http://www.hdfeos.org/zoo/LAADS/MYD08_D3.A2009001.006.2015088160849.hdf.py\n",
    "\n",
    "- https://www.moonbooks.org/Articles/How-to-read-a-MODIS-HDF-file-using-python-/"
   ]
  },
  {
   "cell_type": "markdown",
   "metadata": {
    "id": "9UbbKMMQbI0C"
   },
   "source": [
    "However these were what i adopted from the code and how students could visualise the data \n",
    "\n"
   ]
  },
  {
   "cell_type": "code",
   "execution_count": null,
   "metadata": {
    "id": "BlAQNu898z5s"
   },
   "outputs": [],
   "source": [
    "# from pyhdf.SD import SD, SDC\n",
    "\n",
    "import numpy as np\n",
    "\n",
    "file_name = 'D:/modis/modis.hdf'  #path + downloaded modis data\n",
    "\n",
    "file = SD(file_name, SDC.READ)\n",
    "file.info()\n",
    "datasets_dic = file.datasets()\n",
    "datasets_dic = file.datasets()\n",
    "print(datasets_dic)\n",
    "for idx,sds in enumerate(datasets_dic.keys()):\n",
    "    print( idx,sds )\n",
    "  sds_obj = file.select('Npp_500m') # select the data variable \n",
    "\n",
    "data = sds_obj.get() # get sds data\n",
    "\n",
    "print( data )\n",
    " import pprint\n",
    "\n",
    " pprint.pprint( sds_obj.attributes() )\n",
    "  for key, value in sds_obj.attributes().items():\n",
    "      print( key, value )\n",
    "      if key == 'add_offset':\n",
    "          add_offset = value  \n",
    "      if key == 'scale_factor':\n",
    "          scale_factor = value\n",
    " data = (data - add_offset) * scale_factor\n",
    " data\n",
    "\n",
    "# Plot the data\n",
    "plt.imshow(data, cmap='jet')\n",
    "plt.colorbar()\n",
    "plt.title('Npp_500m')\n",
    "plt.show()\n"
   ]
  },
  {
   "cell_type": "markdown",
   "metadata": {
    "id": "ldDmgK_7Lmy4"
   },
   "source": [
    "The following papers could assist in processing of MODIS dataset: \n",
    "- https://www.mdpi.com/2072-4292/8/7/554 \n",
    "\n",
    "- https://www.tandfonline.com/doi/full/10.1080/01431161.2018.1430913\n",
    "\n",
    "- https://www.mdpi.com/2072-4292/6/6/5368"
   ]
  },
  {
   "cell_type": "markdown",
   "metadata": {
    "id": "adHRNDL6EMx-"
   },
   "source": [
    "##**MERRA-2 (Modern-Era Retrospective analysis for Research and Applications, Version 2)**\n",
    "\n",
    "Further background on the dataset could be found at https://gmao.gsfc.nasa.gov/reanalysis/MERRA-2/ . "
   ]
  },
  {
   "cell_type": "code",
   "execution_count": null,
   "metadata": {
    "colab": {
     "base_uri": "https://localhost:8080/",
     "height": 356
    },
    "executionInfo": {
     "elapsed": 215,
     "status": "error",
     "timestamp": 1683551658197,
     "user": {
      "displayName": "Zane Mitrevica",
      "userId": "10190758862467767060"
     },
     "user_tz": -60
    },
    "id": "i4U2mK8SEMx-",
    "outputId": "57c8f9cc-6193-4440-a39a-4a4130b540e9"
   },
   "outputs": [],
   "source": [
    "import numpy as np\n",
    "from netCDF4 import Dataset\n",
    "import matplotlib.pyplot as plt\n",
    "import cartopy.crs as ccrs"
   ]
  },
  {
   "cell_type": "markdown",
   "metadata": {
    "id": "5lPZF1UmM-Nn"
   },
   "source": [
    "- https://daac.gsfc.nasa.gov/information/howto?title=How%20to%20Access%20MERRA-2%20Data%20using%20OPeNDAP%20with%20Python3%20and%20Calculate%20Daily%2FWeekly%2FMonthly%20Statistics%20from%20Hourly%20Data%20\n",
    "\n",
    "- https://github.com/emilylaiken/merradownload\n",
    "\n",
    "- https://github.com/Open-Power-System-Data/weather_data/blob/master/download_merra2.ipynb\n",
    "\n",
    "- https://daac.gsfc.nasa.gov/information/howto?title=How%20to%20remotely%20access%20MERRA-2%20with%20Python3%20and%20calculate%20monthly%20average%20surface%20PM2.5%20for%20world%20countries\n",
    "\n",
    "- http://localhost:8888/notebooks/Downloads/How_to_read_and_plot_NetCDF_MERRA-2_data_in_Python%20(1).ipynb\n"
   ]
  },
  {
   "cell_type": "markdown",
   "metadata": {
    "id": "e5KKmsTujjAg"
   },
   "source": [
    "#**Further reading**\n",
    "- Zhao, X., Wu, T., Wang, S., Liu, K., Yang,  J. Cropland abandonment mapping at sub-pixel scales using crop phenological information and MODIS time-series images, Computers and Electronics in Agriculture, Volume 208,\n",
    "2023,107763, ISSN 0168-1699,https://doi.org/10.1016/j.compag.2023.107763\n",
    "\n",
    "- Shani Rohatyn et al.,  Limited climate change mitigation potential through forestation of the vast dryland regions.Science377,1436-1439(2022).DOI:10.1126/science.abm9684\n",
    "\n",
    "- Hu, Y., Hou, M., Zhao, C., Zhen, X., Yao, L., Xu, Y. Human-induced changes of surface albedo in Northern China from 1992-2012, International Journal of Applied Earth Observation and Geoinformation, Volume 79, 2019, Pages 184-191, ISSN 1569-8432, https://doi.org/10.1016/j.jag.2019.03.018\n",
    "\n",
    "- Duveiller, G., Hooker, J. & Cescatti, A. The mark of vegetation change on Earth’s surface energy balance. Nat Commun 9, 679 (2018). https://doi.org/10.1038/s41467-017-02810-8\n",
    "\n",
    "- Yin, H., Brandão, A., Buchner, J., Helmers, D., Iuliano, B.G., Kimambo, N.E.,  Lewińska, K.E., Razenkova, E., Rizayeva, A., Rogova, N., Spawn, S.A., Xie, Y., Radeloff, V.C. Monitoring cropland abandonment with Landsat time series, Remote Sensing of Environment, Volume 246, 2020, 111873, ISSN 0034-4257,https://doi.org/10.1016/j.rse.2020.111873\n",
    "\n",
    "- Gupta, P., Verma, S., Bhatla, R.,Chandel, A. S., Singh, J., & Payra, S.(2020). Validation of surfacetemperature derived from MERRA‐2Reanalysis against IMD gridded data setover India.Earth and Space Science,7,e2019EA000910. https://doi.org/10.1029/2019EA000910\n",
    "\n",
    "- Cao, Y., S. Liang, X. Chen, and T. He (2015) Assessment of Sea Ice Albedo Radiative Forcing and Feedback over the Northern Hemisphere from 1982 to 2009 Using Satellite and Reanalysis Data. J. Climate, 28, 1248–1259, https://doi.org/10.1175/JCLI-D-14-00389.1.\n",
    "\n",
    "- Westberg, D. J., P. Stackhouse, D. B. Crawley, J. M. Hoell, W. S. Chandler, and T. Zhang (2013), An Analysis of NASA's MERRA Meteorological Data to Supplement Observational Data for Calculation of Climatic Design Conditions, ASHRAE Transactions, 119, 210-221. \n",
    "https://www.researchgate.net/profile/Drury-Crawley/publication/262069995_An_Analysis_of_NASA's_MERRA_Meteorological_Data_to_Supplement_Observational_Data_for_Calculation_of_Climatic_Design_Conditions/links/5465225f0cf2052b509f2cc0/An-Analysis-of-NASAs-MERRA-Meteorological-Data-to-Supplement-Observational-Data-for-Calculation-of-Climatic-Design-Conditions.pdf"
   ]
  }
 ],
 "metadata": {
  "colab": {
   "provenance": []
  },
  "kernelspec": {
   "display_name": "Python 3 (ipykernel)",
   "language": "python",
   "name": "python3"
  },
  "language_info": {
   "codemirror_mode": {
    "name": "ipython",
    "version": 3
   },
   "file_extension": ".py",
   "mimetype": "text/x-python",
   "name": "python",
   "nbconvert_exporter": "python",
   "pygments_lexer": "ipython3",
   "version": "3.10.11"
  }
 },
 "nbformat": 4,
 "nbformat_minor": 4
}
