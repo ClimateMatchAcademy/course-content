{
 "cells": [
  {
   "cell_type": "markdown",
   "metadata": {
    "id": "avjFjFXwWqyW"
   },
   "source": [
    "# Changes in Land Cover: Albedo and Carbon Sequestration\n",
    "\n",
    "**Content creators:** Oz Kira, Julius Bamah\n",
    "\n",
    "**Content reviewers:** Yuhan Douglas Rao, Abigail Bodner\n",
    "\n",
    "**Content editors:** Zane Mitrevica, Natalie Steinemann, Jenna Pearson, Chi Zhang, Ohad Zivan\n",
    "\n",
    "**Production editors:**  Wesley Banfield, Jenna Pearson, Chi Zhang, Ohad Zivan\n",
    "\n",
    "**Our 2023 Sponsors:** NASA TOPS and Google DeepMind"
   ]
  },
  {
   "cell_type": "code",
   "execution_count": null,
   "metadata": {
    "id": "umnBeSiJeqYo"
   },
   "outputs": [],
   "source": [
    "# @title Project background \n",
    "#This will be a short video introducing the content creator(s) and motivating the research direction of the template.\n",
    "#The Tech team will add code to format and display the video"
   ]
  },
  {
   "cell_type": "markdown",
   "metadata": {
    "id": "DZbqRlQKXhnc"
   },
   "source": [
    "The global radiative budget is affected by land cover (e.g., forests, grasslands, agricultural fields, etc.), as different classifications of land cover have different levels of reflectance, or albedo. Vegetation also sequesters carbon at the same time, potentially counteracting these radiative effects.\n",
    "\n",
    "In this project,  you will evaluate the albedo change vs. carbon sequestration. In addition, you will track significant land cover changes, specifically the creation and abandonment of agricultural land. \n",
    "\n",
    "In this project, you will have the opportunity to explore terrestrial remote sensing (recall our W1D3 tutorial on remote sensing) and meteorological data from GLASS and ERA5. The datasets will provide information on reflectance, albedo, meteorological variables, and land cover changes in your region of interest. We encourage you to investigate the relationships between these variables and their impact on the global radiative budget. Moreover, you can track agricultural land abandonment and analyze its potential connection to climate change. This project aligns well with the topics covered in W2D3, which you are encouraged to explore further."
   ]
  },
  {
   "cell_type": "markdown",
   "metadata": {
    "id": "adR8NLN_ZsZL"
   },
   "source": [
    "# Project Template\n",
    "![template](https://raw.githubusercontent.com/ClimateMatchAcademy/course-content/main/projects/template-images/albedo_template_map.svg)"
   ]
  },
  {
   "cell_type": "markdown",
   "metadata": {
    "id": "-uS_n9-3YJrZ"
   },
   "source": [
    "# Data Exploration Notebook\n",
    "## Project Setup\n",
    "\n",
    "Please run the following cells to install the necessary libarries into your Jupyter notebook!\n",
    "    "
   ]
  },
  {
   "cell_type": "code",
   "execution_count": null,
   "metadata": {
    "tags": [
     "colab"
    ]
   },
   "outputs": [],
   "source": [
    "# google colab installs\n",
    "# !pip install cartopy\n",
    "# !pip install DateTime \n",
    "# !pip install matplotlib\n",
    "# !pip install pyhdf\n",
    "# !pip install numpy\n",
    "# !pip install pandas\n",
    "# !pip install modis-tools"
   ]
  },
  {
   "cell_type": "code",
   "execution_count": null,
   "metadata": {
    "colab": {
     "base_uri": "https://localhost:8080/",
     "height": 1000
    },
    "executionInfo": {
     "elapsed": 84265,
     "status": "error",
     "timestamp": 1683550940548,
     "user": {
      "displayName": "Zane Mitrevica",
      "userId": "10190758862467767060"
     },
     "user_tz": -60
    },
    "id": "9nDg6MeVY1CX",
    "outputId": "e631645b-2751-490a-e9ad-6db6e540eccd"
   },
   "outputs": [],
   "source": [
    "# imports\n",
    "import numpy as np\n",
    "from netCDF4 import Dataset\n",
    "import matplotlib.pyplot as plt\n",
    "import cartopy.crs as ccrs\n",
    "import pooch\n",
    "import xarray as xr\n",
    "import os"
   ]
  },
  {
   "cell_type": "markdown",
   "metadata": {},
   "source": [
    "## Obtain Land Cover Data and Net Primary Production (NPP) Data from MODIS\n",
    "\n",
    "MODIS (Moderate Resolution Imaging Spectroradiometer) is a key instrument aboard the Terra (originally known as EOS AM-1) and Aqua (originally known as EOS PM-1) satellites. Terra's orbit around the Earth is timed so that it passes from north to south across the equator in the morning, while Aqua passes south to north over the equator in the afternoon. Terra MODIS and Aqua MODIS are viewing the entire Earth's surface every 1 to 2 days, acquiring data in 36 spectral bands, or groups of wavelengths (see MODIS Technical Specifications). These data will improve your understanding of global dynamics and processes occurring on the land, in the oceans, and in the lower atmosphere. MODIS plays a vital role in the development of validated, global, interactive Earth system models able to predict global change accurately enough to assist policy makers in making sound decisions concerning the protection of our environment (https://modis.gsfc.nasa.gov/data/). The MCD12Q1.061 MODIS Land Cover Type Yearly Global 500m sinusoidal grid land cover data are available [here](https://lpdaac.usgs.gov/products/mcd12q1v061/) , and the  MOD17A3HGF.061 MODIS/Terra Net Primary Production Gap-Filled Yearly L4 Global 500m sinusoidal grid dataset is available [here](https://lpdaac.usgs.gov/products/mod17a3hgfv061/).\n",
    "\n",
    "We have this data available for you to use in the shared projects directory, but if you want to be able to download the data and use for future work after the course you can use the code below as a guide. Before doing so you will need to register for an account on the NASA earth data portal: https://urs.earthdata.nasa.gov/users/new. Then fill in your username and password below to access the data."
   ]
  },
  {
   "cell_type": "code",
   "execution_count": null,
   "metadata": {},
   "outputs": [],
   "source": [
    "# import the libraries\n",
    "\n",
    "from modis_tools.auth import ModisSession\n",
    "from modis_tools.resources import CollectionApi, GranuleApi\n",
    "from modis_tools.granule_handler import GranuleHandler\n",
    "from typing_extensions import Literal"
   ]
  },
  {
   "cell_type": "code",
   "execution_count": null,
   "metadata": {},
   "outputs": [],
   "source": [
    "# SURAJIT: please fill in an example (the one that you would use)\n",
    "\n",
    "# obtain Land Cover Data and Net Primary Production (NPP) Data from MODIS\n",
    "username = \"\"  # update this line with your username \n",
    "password = \"\"  # update this line with your password\n",
    "\n",
    "# connect to earthdata\n",
    "session = ModisSession(username=username, password=password)\n",
    "\n",
    "# query the MODIS catalog for collections\n",
    "collection_client = CollectionApi(session=session)\n",
    "collections = collection_client.query(short_name=\"\", version=\"\") # Collection short name + version\n",
    "\n",
    "# query the selected collection for granules\n",
    "granule_client = GranuleApi.from_collection(collections[0], session=session)\n",
    "\n",
    "# filter the selected granules via spatial and temporal parameters, for example for Isreal\n",
    "Israel_bbox = [] # format [x_min, y_min, x_max, y_max] # add min lon,min lat, max lon and max_lat input your preferred location\n",
    "Israel_granules = granule_client.query(start_date=\"\", end_date=\"\", bounding_box=Israel_bbox)   #choose the start and end dates for the year-month-day you prefer\n",
    "\n",
    "# download the granules (files are in .hdf format)\n",
    "GranuleHandler.download_from_granules(Israel_granules, session, threads=-1) "
   ]
  },
  {
   "cell_type": "code",
   "execution_count": null,
   "metadata": {},
   "outputs": [],
   "source": [
    "# SURAJIT: please modify the code so that students could download the data, convert to xarray dataarray,\n",
    "# add a useable lat lon grid to the dataset/coordinates, and concatenate all years and save as .nc.\n",
    "\n",
    "# ideally this would loop through all years of data, but right now it is just for one file. \n",
    "# we will run this before the course so that the data is pre-processed and ready to go but we need to keep an example\n",
    "# so students can use after the course\n",
    "\n",
    "# pre-process the datafiles\n",
    "\n",
    "from pyhdf.SD import SD, SDC\n",
    "\n",
    "import numpy as np\n",
    "\n",
    "file_name = 'D:/modis/modis.hdf'  #path + downloaded modis data\n",
    "\n",
    "file = SD(file_name, SDC.READ)\n",
    "file.info()\n",
    "datasets_dic = file.datasets()\n",
    "datasets_dic = file.datasets()\n",
    "print(datasets_dic)\n",
    "\n",
    "for idx,sds in enumerate(datasets_dic.keys()):\n",
    "    print( idx,sds )\n",
    "    \n",
    "sds_obj = file.select('Npp_500m') # select the data variable \n",
    "\n",
    "data = sds_obj.get() # get sds data\n",
    "\n",
    "print( data )\n",
    " import pprint\n",
    "\n",
    "pprint.pprint( sds_obj.attributes() )\n",
    "for key, value in sds_obj.attributes().items():\n",
    "    print( key, value )\n",
    "    if key == 'add_offset':\n",
    "          add_offset = value  \n",
    "    if key == 'scale_factor':\n",
    "          scale_factor = value\n",
    "data = (data - add_offset) * scale_factor\n",
    "data\n",
    "\n",
    "# plot the data\n",
    "plt.imshow(data, cmap='jet')\n",
    "plt.colorbar()\n",
    "plt.title('Npp_500m')\n",
    "plt.show()"
   ]
  },
  {
   "cell_type": "code",
   "execution_count": null,
   "metadata": {},
   "outputs": [],
   "source": [
    "# TO ADD WHEN ON THE HUB\n",
    "npp_path='~/shared/Data/Projects/...'\n",
    "ds_npp =xr.open_dataset(npp_path)=\n",
    "ds_npp"
   ]
  },
  {
   "cell_type": "code",
   "execution_count": null,
   "metadata": {},
   "outputs": [],
   "source": [
    "# TO ADD WHEN ON THE HUB\n",
    "lc_path='~/shared/Data/Projects/...'\n",
    "ds_lc =xr.open_dataset(lc_path)=\n",
    "ds_lc"
   ]
  },
  {
   "cell_type": "markdown",
   "metadata": {
    "id": "iYblWn8cZAGT"
   },
   "source": [
    "## Alternative Approach: Global Land Surface Satellite (GLASS) Dataset\n",
    "\n",
    "The Global Land Surface Satellite (GLASS) datasets primarily based on NASA’s Advanced Very High Resolution Radiometer (AVHRR) long-term data record [(LTDR)](https://ltdr.modaps.eosdis.nasa.gov) and Moderate Resolution Imaging Spectroradiometer (MODIS) data, in conjunction with other satellite data and ancillary information. \n",
    "\n",
    "Currently, there are more than dozens of GLASS products are officially released, including leaf area index, fraction of green vegetation coverage, gross primary production, broadband albedo, land surface temperature, evapotranspiration, and so on. \n",
    "\n",
    "Here we provide you the datasets of GLASS from 1982 to 2015, a 34-year long annual dynamics of global land cover (GLASS-GLC) at 5 km resolution. In this datasets, there are 7 classes, including cropland, forest, grassland, shrubland, tundra, barren land, and snow/ice. \n",
    "The annual global land cover map (5 km) is presented in a GeoTIFF file format named in the form of ‘GLASS-GLC_7classes_year’ with a WGS 84 projection. The relationship between the labels in the files and the 7 land cover classes is shown in the following table\n",
    "\n",
    "You can refer to this [paper](https://doi.pangaea.de/10.1594/PANGAEA.913496) for detailed description of this.ts\n"
   ]
  },
  {
   "cell_type": "code",
   "execution_count": null,
   "metadata": {},
   "outputs": [],
   "source": [
    "# Table 1 Classification system, with 7 land cover classes. From paper https://www.earth-syst-sci-data-discuss.net/essd-2019-23\n",
    "import pandas as pd\n",
    "from IPython.display import display, HTML, Markdown\n",
    "# Data as list of dictionaries\n",
    "classification_system = [\n",
    "    {\"Label\": 10, \"Class\": \"Cropland\", \"Subclass\": \"Rice paddy\", \"Description\": \"\"},\n",
    "    {\"Label\": 10, \"Class\": \"Cropland\", \"Subclass\": \"Greenhouse\", \"Description\": \"\"},\n",
    "    {\"Label\": 10, \"Class\": \"Cropland\", \"Subclass\": \"Other farmland\", \"Description\": \"\"},\n",
    "    {\"Label\": 10, \"Class\": \"Cropland\", \"Subclass\": \"Orchard\", \"Description\": \"\"},\n",
    "    {\"Label\": 10, \"Class\": \"Cropland\", \"Subclass\": \"Bare farmland\", \"Description\": \"\"},\n",
    "    {\"Label\": 20, \"Class\": \"Forest\", \"Subclass\": \"Broadleaf, leaf-on\", \"Description\": \"Tree cover≥10%; Height>5m; For mixed leaf, neither coniferous nor broadleaf types exceed 60%\"},\n",
    "    {\"Label\": 20, \"Class\": \"Forest\", \"Subclass\": \"Broadleaf, leaf-off\", \"Description\": \"\"},\n",
    "    {\"Label\": 20, \"Class\": \"Forest\", \"Subclass\": \"Needle-leaf, leaf-on\", \"Description\": \"\"},\n",
    "    {\"Label\": 20, \"Class\": \"Forest\", \"Subclass\": \"Needle-leaf, leaf-off\", \"Description\": \"\"},\n",
    "    {\"Label\": 20, \"Class\": \"Forest\", \"Subclass\": \"Mixed leaf type, leaf-on\", \"Description\": \"\"},\n",
    "    {\"Label\": 20, \"Class\": \"Forest\", \"Subclass\": \"Mixed leaf type, leaf-off\", \"Description\": \"\"},\n",
    "    {\"Label\": 30, \"Class\": \"Grassland\", \"Subclass\": \"Pasture, leaf-on\", \"Description\": \"Canopy cover≥20%\"},\n",
    "    {\"Label\": 30, \"Class\": \"Grassland\", \"Subclass\": \"Natural grassland, leaf-on\", \"Description\": \"\"},\n",
    "    {\"Label\": 30, \"Class\": \"Grassland\", \"Subclass\": \"Grassland, leaf-off\", \"Description\": \"\"},\n",
    "    {\"Label\": 40, \"Class\": \"Shrubland\", \"Subclass\": \"Shrub cover, leaf-on\", \"Description\": \"Canopy cover≥20%; Height<5m\"},\n",
    "    {\"Label\": 40, \"Class\": \"Shrubland\", \"Subclass\": \"Shrub cover, leaf-off\", \"Description\": \"\"},\n",
    "    {\"Label\": 70, \"Class\": \"Tundra\", \"Subclass\": \"Shrub and brush tundra\", \"Description\": \"\"},\n",
    "    {\"Label\": 70, \"Class\": \"Tundra\", \"Subclass\": \"Herbaceous tundra\", \"Description\": \"\"},\n",
    "    {\"Label\": 90, \"Class\": \"Barren land\", \"Subclass\": \"Barren land\", \"Description\": \"Vegetation cover<10%\"},\n",
    "    {\"Label\": 100, \"Class\": \"Snow/Ice\", \"Subclass\": \"Snow\", \"Description\": \"\"},\n",
    "    {\"Label\": 100, \"Class\": \"Snow/Ice\", \"Subclass\": \"Ice\", \"Description\": \"\"},\n",
    "    {\"Label\": 0, \"Class\": \"No data\", \"Subclass\": \"\", \"Description\": \"\"}\n",
    "]\n",
    "\n",
    "df = pd.DataFrame(classification_system)\n",
    "pd.set_option('display.max_colwidth', None)\n",
    "html = df.to_html(index=False)\n",
    "title_md = \"### Table 1 GLASS classification system with 7 land cover classes. From [this paper](https://www.earth-syst-sci-data-discuss.net/essd-2019-23).\"\n",
    "display(Markdown(title_md))\n",
    "display(HTML(html))\n"
   ]
  },
  {
   "cell_type": "code",
   "execution_count": null,
   "metadata": {},
   "outputs": [],
   "source": [
    "# source of landuse data: https://doi.pangaea.de/10.1594/PANGAEA.913496\n",
    "# the folder \"land-use\" has the data for years 1982 to 2015. choose the years you need and change the path accordingly \n",
    "path_LandUse=os.path.expanduser('~/shared/Data/Projects/Albedo/land-use/GLASS-GLC_7classes_1982.tif')\n",
    "ds_landuse=xr.open_dataset(path_LandUse).rename({'x':'longitude', 'y':'latitude'})\n",
    "# ds_landuse.band_data[0,:,:].plot() # how to plot the global data\n",
    "ds_landuse"
   ]
  },
  {
   "cell_type": "markdown",
   "metadata": {},
   "source": [
    "## ERA5-Land Monthly Averaged Data from 1950 to Present\n",
    "\n",
    "**[ERA5-Land](https://cds.climate.copernicus.eu/cdsapp#!/dataset/reanalysis-era5-land-monthly-means?tab=overview)** is a reanalysis dataset that offers an enhanced resolution compared to [ERA5](https://www.ecmwf.int/en/forecasts/dataset/ecmwf-reanalysis-v5), providing a consistent view of land variables over several decades. It is created by replaying the land component of the ECMWF ERA5 climate reanalysis, which combines model data and global observations to generate a complete and reliable dataset using the laws of physics. \n",
    "\n",
    "ERA5-Land focuses on the water and energy cycles at the surface level, offering a detailed record starting from 1950. The data used here is a post-processed subset of the complete ERA5-Land dataset. Monthly-mean averages have been pre-calculated to facilitate quick and convenient access to the data, particularly for applications that do not require sub-monthly fields. The native spatial resolution of the ERA5-Land reanalysis dataset is 9km on a reduced Gaussian grid (TCo1279). The data in the CDS has been regridded to a regular lat-lon grid of 0.1x0.1 degrees.\n",
    "\n",
    "### To Calculate Albedo Using ERA5-Land\n",
    "ERA5 parameter [`Forecast albedo`](https://codes.ecmwf.int/grib/param-db/?id=243) provides is the measure of the reflectivity of the Earth's surface. It is the fraction of solar (shortwave) radiation reflected by Earth's surface, across the solar spectrum, for both direct and diffuse radiation. Values are between 0 and 1. Typically, snow and ice have high reflectivity with albedo values of 0.8 and above, land has intermediate values between about 0.1 and 0.4 and the ocean has low values of 0.1 or less. Radiation from the Sun (solar, or shortwave, radiation) is partly reflected back to space by clouds and particles in the atmosphere (aerosols) and some of it is absorbed. The rest is incident on the Earth's surface, where some of it is reflected. The portion that is reflected by the Earth's surface depends on the albedo. In the ECMWF Integrated Forecasting System (IFS), a climatological background albedo (observed values averaged over a period of several years) is used, modified by the model over water, ice and snow. Albedo is often shown as a percentage (%).\n"
   ]
  },
  {
   "cell_type": "code",
   "execution_count": null,
   "metadata": {},
   "outputs": [],
   "source": [
    "# link for albedo data:\n",
    "albedo_path='~/shared/Data/Projects/Albedo/ERA/albedo-001.nc'\n",
    "ds_albedo=xr.open_dataset(albedo_path)\n",
    "ds_albedo # note the official variable name is fal (forecast albedo)"
   ]
  },
  {
   "cell_type": "markdown",
   "metadata": {},
   "source": [
    "for your convience, included below are preciptation and temprature ERA5 dataset for the same times as the Albedo dataset"
   ]
  },
  {
   "cell_type": "code",
   "execution_count": null,
   "metadata": {},
   "outputs": [],
   "source": [
    "precp_path='~/shared/Data/Projects/Albedo/ERA/precipitation-002.nc'\n",
    "ds_precp=xr.open_dataset(precp_path)\n",
    "ds_precp # the variable name is tp (total preciptation)\n"
   ]
  },
  {
   "cell_type": "code",
   "execution_count": null,
   "metadata": {},
   "outputs": [],
   "source": [
    "tempr_path='~/shared/Data/Projects/Albedo/ERA/Temperature-003.nc'\n",
    "ds_tempr=xr.open_dataset(tempr_path)\n",
    "ds_tempr # the variable name is t2m (temprature at 2m)\n"
   ]
  },
  {
   "cell_type": "markdown",
   "metadata": {
    "id": "e5KKmsTujjAg"
   },
   "source": [
    "# Further Reading\n",
    "- Zhao, X., Wu, T., Wang, S., Liu, K., Yang,  J. Cropland abandonment mapping at sub-pixel scales using crop phenological information and MODIS time-series images, Computers and Electronics in Agriculture, Volume 208,\n",
    "2023,107763, ISSN 0168-1699,https://doi.org/10.1016/j.compag.2023.107763\n",
    "\n",
    "- Shani Rohatyn et al.,  Limited climate change mitigation potential through forestation of the vast dryland regions.Science377,1436-1439(2022).DOI:10.1126/science.abm9684\n",
    "\n",
    "- Hu, Y., Hou, M., Zhao, C., Zhen, X., Yao, L., Xu, Y. Human-induced changes of surface albedo in Northern China from 1992-2012, International Journal of Applied Earth Observation and Geoinformation, Volume 79, 2019, Pages 184-191, ISSN 1569-8432, https://doi.org/10.1016/j.jag.2019.03.018\n",
    "\n",
    "- Duveiller, G., Hooker, J. & Cescatti, A. The mark of vegetation change on Earth’s surface energy balance. Nat Commun 9, 679 (2018). https://doi.org/10.1038/s41467-017-02810-8\n",
    "\n",
    "- Yin, H., Brandão, A., Buchner, J., Helmers, D., Iuliano, B.G., Kimambo, N.E.,  Lewińska, K.E., Razenkova, E., Rizayeva, A., Rogova, N., Spawn, S.A., Xie, Y., Radeloff, V.C. Monitoring cropland abandonment with Landsat time series, Remote Sensing of Environment, Volume 246, 2020, 111873, ISSN 0034-4257,https://doi.org/10.1016/j.rse.2020.111873\n",
    "\n",
    "- Gupta, P., Verma, S., Bhatla, R.,Chandel, A. S., Singh, J., & Payra, S.(2020). Validation of surfacetemperature derived from MERRA‐2Reanalysis against IMD gridded data setover India.Earth and Space Science,7,e2019EA000910. https://doi.org/10.1029/2019EA000910\n",
    "\n",
    "- Cao, Y., S. Liang, X. Chen, and T. He (2015) Assessment of Sea Ice Albedo Radiative Forcing and Feedback over the Northern Hemisphere from 1982 to 2009 Using Satellite and Reanalysis Data. J. Climate, 28, 1248–1259, https://doi.org/10.1175/JCLI-D-14-00389.1.\n",
    "\n",
    "- Westberg, D. J., P. Stackhouse, D. B. Crawley, J. M. Hoell, W. S. Chandler, and T. Zhang (2013), An Analysis of NASA's MERRA Meteorological Data to Supplement Observational Data for Calculation of Climatic Design Conditions, ASHRAE Transactions, 119, 210-221. \n",
    "https://www.researchgate.net/profile/Drury-Crawley/publication/262069995_An_Analysis_of_NASA's_MERRA_Meteorological_Data_to_Supplement_Observational_Data_for_Calculation_of_Climatic_Design_Conditions/links/5465225f0cf2052b509f2cc0/An-Analysis-of-NASAs-MERRA-Meteorological-Data-to-Supplement-Observational-Data-for-Calculation-of-Climatic-Design-Conditions.pdf"
   ]
  }
 ],
 "metadata": {
  "colab": {
   "provenance": []
  },
  "kernelspec": {
   "display_name": "Python 3 (ipykernel)",
   "language": "python",
   "name": "python3"
  },
  "language_info": {
   "codemirror_mode": {
    "name": "ipython",
    "version": 3
   },
   "file_extension": ".py",
   "mimetype": "text/x-python",
   "name": "python",
   "nbconvert_exporter": "python",
   "pygments_lexer": "ipython3",
   "version": "3.10.8"
  }
 },
 "nbformat": 4,
 "nbformat_minor": 4
}
