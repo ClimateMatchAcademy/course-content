{
 "cells": [
  {
   "cell_type": "markdown",
   "metadata": {
    "id": "avjFjFXwWqyW"
   },
   "source": [
    "# Changes in Land Cover: Albedo and Carbon Sequestration\n",
    "\n",
    "**Content creators:** Oz Kira, Julius Bamah\n",
    "\n",
    "**Content reviewers:** Yuhan Douglas Rao, Abigail Bodner\n",
    "\n",
    "**Content editors:** Zane Mitrevica, Natalie Steinemann, Jenna Pearson, Chi Zhang, Ohad Zivan\n",
    "\n",
    "**Production editors:**  Wesley Banfield, Jenna Pearson, Chi Zhang, Ohad Zivan\n",
    "\n",
    "**Our 2023 Sponsors:** NASA TOPS, Google DeepMind, and CMIP"
   ]
  },
  {
   "cell_type": "code",
   "execution_count": null,
   "metadata": {
    "id": "umnBeSiJeqYo"
   },
   "outputs": [],
   "source": [
    "# @title Project Background\n",
    "# This will be a short video introducing the content creator(s) and motivating the research direction of the template.\n",
    "\n",
    "# @markdown\n",
    "from ipywidgets import widgets\n",
    "from IPython.display import YouTubeVideo\n",
    "from IPython.display import IFrame\n",
    "from IPython.display import display\n",
    "\n",
    "\n",
    "class PlayVideo(IFrame):\n",
    "    def __init__(self, id, source, page=1, width=400, height=300, **kwargs):\n",
    "        self.id = id\n",
    "        if source == \"Bilibili\":\n",
    "            src = f\"https://player.bilibili.com/player.html?bvid={id}&page={page}\"\n",
    "        elif source == \"Osf\":\n",
    "            src = f\"https://mfr.ca-1.osf.io/render?url=https://osf.io/download/{id}/?direct%26mode=render\"\n",
    "        super(PlayVideo, self).__init__(src, width, height, **kwargs)\n",
    "\n",
    "\n",
    "def display_videos(video_ids, W=400, H=300, fs=1):\n",
    "    tab_contents = []\n",
    "    for i, video_id in enumerate(video_ids):\n",
    "        out = widgets.Output()\n",
    "        with out:\n",
    "            if video_ids[i][0] == \"Youtube\":\n",
    "                video = YouTubeVideo(\n",
    "                    id=video_ids[i][1], width=W, height=H, fs=fs, rel=0\n",
    "                )\n",
    "                print(f\"Video available at https://youtube.com/watch?v={video.id}\")\n",
    "            else:\n",
    "                video = PlayVideo(\n",
    "                    id=video_ids[i][1],\n",
    "                    source=video_ids[i][0],\n",
    "                    width=W,\n",
    "                    height=H,\n",
    "                    fs=fs,\n",
    "                    autoplay=False,\n",
    "                )\n",
    "                if video_ids[i][0] == \"Bilibili\":\n",
    "                    print(\n",
    "                        f\"Video available at https://www.bilibili.com/video/{video.id}\"\n",
    "                    )\n",
    "                elif video_ids[i][0] == \"Osf\":\n",
    "                    print(f\"Video available at https://osf.io/{video.id}\")\n",
    "            display(video)\n",
    "        tab_contents.append(out)\n",
    "    return tab_contents\n",
    "\n",
    "\n",
    "video_ids = [(\"Youtube\", \"W5o_HTsef0I\"), (\"Bilibili\", \"BV1ho4y1C7Eo\")]\n",
    "tab_contents = display_videos(video_ids, W=730, H=410)\n",
    "tabs = widgets.Tab()\n",
    "tabs.children = tab_contents\n",
    "for i in range(len(tab_contents)):\n",
    "    tabs.set_title(i, video_ids[i][0])\n",
    "display(tabs)"
   ]
  },
  {
   "cell_type": "markdown",
   "metadata": {
    "id": "DZbqRlQKXhnc"
   },
   "source": [
    "The global radiative budget is affected by land cover (e.g., forests, grasslands, agricultural fields, etc.), as different classifications of land cover have different levels of reflectance, or albedo. Vegetation also sequesters carbon at the same time, potentially counteracting these radiative effects.\n",
    "\n",
    "In this project,  you will evaluate the albedo change vs. carbon sequestration. In addition, you will track significant land cover changes, specifically the creation and abandonment of agricultural land. \n",
    "\n",
    "**In this project**, you will have the opportunity to explore terrestrial remote sensing (recall our W1D3 tutorial on remote sensing) and meteorological data from GLASS and ERA5. The datasets will provide information on reflectance, albedo, meteorological variables, and land cover changes in your region of interest. We encourage you to investigate the relationships between these variables and their impact on the global radiative budget. Moreover, you can track agricultural land abandonment and analyze its potential connection to climate change. This project aligns well with the topics covered in W2D3, which you are encouraged to explore further."
   ]
  },
  {
   "cell_type": "markdown",
   "metadata": {
    "id": "adR8NLN_ZsZL"
   },
   "source": [
    "# Project Template\n",
    "![Project Template](https://raw.githubusercontent.com/ClimateMatchAcademy/course-content/main/projects/template-images/albedo_template_map.svg)\n",
    "\n",
    "*Note: The dashed boxes are socio-economic questions.*"
   ]
  },
  {
   "cell_type": "markdown",
   "metadata": {
    "id": "-uS_n9-3YJrZ"
   },
   "source": [
    "# Data Exploration Notebook\n",
    "## Project Setup"
   ]
  },
  {
   "cell_type": "code",
   "execution_count": null,
   "metadata": {
    "tags": [
     "colab"
    ]
   },
   "outputs": [],
   "source": [
    "# google colab installs\n",
    "# !pip install cartopy\n",
    "# !pip install DateTime\n",
    "# !pip install matplotlib\n",
    "# !pip install pyhdf\n",
    "# !pip install numpy\n",
    "# !pip install pandas\n",
    "# !pip install modis-tools"
   ]
  },
  {
   "cell_type": "code",
   "execution_count": null,
   "metadata": {
    "colab": {
     "base_uri": "https://localhost:8080/",
     "height": 1000
    },
    "executionInfo": {
     "elapsed": 84265,
     "status": "error",
     "timestamp": 1683550940548,
     "user": {
      "displayName": "Zane Mitrevica",
      "userId": "10190758862467767060"
     },
     "user_tz": -60
    },
    "id": "9nDg6MeVY1CX",
    "outputId": "e631645b-2751-490a-e9ad-6db6e540eccd"
   },
   "outputs": [],
   "source": [
    "# imports\n",
    "import numpy as np\n",
    "from netCDF4 import Dataset\n",
    "import matplotlib.pyplot as plt\n",
    "import cartopy.crs as ccrs\n",
    "import pooch\n",
    "import xarray as xr\n",
    "import os\n",
    "\n",
    "import intake\n",
    "import numpy as np\n",
    "import matplotlib.pyplot as plt\n",
    "import xarray as xr\n",
    "\n",
    "from xmip.preprocessing import combined_preprocessing\n",
    "from xarrayutils.plotting import shaded_line_plot\n",
    "from xmip.utils import google_cmip_col\n",
    "\n",
    "from datatree import DataTree\n",
    "from xmip.postprocessing import _parse_metric\n",
    "\n",
    "import cartopy.crs as ccrs\n",
    "import pooch"
   ]
  },
  {
   "cell_type": "markdown",
   "metadata": {},
   "source": [
    "## Obtain Land and Atmospheric Variables from CMIP6"
   ]
  },
  {
   "cell_type": "markdown",
   "metadata": {},
   "source": [
    "Here you will use the Pangeo cloud service to access CMIP6 data. For more information and practice, please see Tutorial 7 of W1D5 and the entire day of W2D1."
   ]
  },
  {
   "cell_type": "code",
   "execution_count": null,
   "metadata": {},
   "outputs": [],
   "source": [
    "# open an intake catalog containing the Pangeo CMIP cloud data\n",
    "col = intake.open_esm_datastore(\n",
    "    \"https://storage.googleapis.com/cmip6/pangeo-cmip6.json\"\n",
    ")\n",
    "col"
   ]
  },
  {
   "cell_type": "markdown",
   "metadata": {},
   "source": [
    "To see a list of variables and models (although not all are hosted through the pangeo cloud service used here) please visit [this website](https://esgf-node.llnl.gov/search/cmip6/). You can see what variables are available for which models through the sample code below where we are looking for models having the variable 'pastureFrac' for the historical simulation: "
   ]
  },
  {
   "cell_type": "code",
   "execution_count": null,
   "metadata": {},
   "outputs": [],
   "source": [
    "expts = [\"historical\"]\n",
    "\n",
    "query = dict(\n",
    "    experiment_id=expts,\n",
    "    table_id=\"Lmon\",\n",
    "    variable_id=[\"pastureFrac\"],\n",
    "    member_id=\"r1i1p1f1\",\n",
    ")\n",
    "\n",
    "col_subset = col.search(require_all_on=[\"source_id\"], **query)\n",
    "col_subset.df.groupby(\"source_id\")[\n",
    "    [\"experiment_id\", \"variable_id\", \"table_id\"]\n",
    "].nunique()"
   ]
  },
  {
   "cell_type": "markdown",
   "metadata": {},
   "source": [
    "Here we will download the following variables from the GFDL-ESM4 historical simulations:"
   ]
  },
  {
   "cell_type": "code",
   "execution_count": null,
   "metadata": {},
   "outputs": [],
   "source": [
    "import pandas as pd\n",
    "from IPython.display import display, HTML, Markdown\n",
    "\n",
    "# Data as list of dictionaries\n",
    "classification_system = [\n",
    "    {\n",
    "        \"Name\": \"gpp\",\n",
    "        \"Description\": \"Carbon Mass Flux out of Atmosphere due to Gross Primary Production on Land\",\n",
    "    },\n",
    "    {\n",
    "        \"Name\": \"npp\",\n",
    "        \"Description\": \"Carbon Mass Flux out of Atmosphere due to Net Primary Production on Land\",\n",
    "    },\n",
    "    {\n",
    "        \"Name\": \"nep\",\n",
    "        \"Description\": \"Carbon Mass Flux out of Atmophere due to Net Ecosystem Production on Land\",\n",
    "    },\n",
    "    {\n",
    "        \"Name\": \"nbp\",\n",
    "        \"Description\": \"Carbon Mass Flux out of Atmosphere due to Net Biospheric Production on Land\",\n",
    "    },\n",
    "    {\"Name\": \"treeFrac\", \"Description\": \"Land Area Percentage Tree Cover\"},\n",
    "    {\"Name\": \"grassFrac\", \"Description\": \"Land Area Percentage Natural Grass\"},\n",
    "    {\"Name\": \"cropFrac\", \"Description\": \"Land Area Percentage Crop Cover\"},\n",
    "    {\n",
    "        \"Name\": \"pastureFrac\",\n",
    "        \"Description\": \"Land Area Percentage Anthropogenic Pasture Cover\",\n",
    "    },\n",
    "    {\"Name\": \"rsus\", \"Description\": \"Surface Upwelling Shortwave Radiation\"},\n",
    "    {\"Name\": \"rsds\", \"Description\": \"Surface Downwelling Shortwave Radiation\"},\n",
    "    {\"Name\": \"tas\", \"Description\": \"Near-Surface Air Temperature\"},\n",
    "    {\"Name\": \"pr\", \"Description\": \"Precipitation\"},\n",
    "    {\n",
    "        \"Name\": \"areacella\",\n",
    "        \"Description\": \"Grid-Cell Area for Atmospheric Variables (all variabeles are on this grid however)\",\n",
    "    },\n",
    "]\n",
    "\n",
    "df = pd.DataFrame(classification_system)\n",
    "pd.set_option(\"display.max_colwidth\", None)\n",
    "html = df.to_html(index=False)\n",
    "title_md = \"### Table 1: CMIP6 Variables\"\n",
    "display(Markdown(title_md))\n",
    "display(HTML(html))"
   ]
  },
  {
   "cell_type": "markdown",
   "metadata": {},
   "source": [
    "There are different timescales on which carbon is released back into the atmosphere, and these are reflected in the different production terms. This is highlighted in the figure below (please note these numbers are quite outdated).\n",
    "\n",
    "![](https://archive.ipcc.ch/ipccreports/sres/land_use/images/1-2.gif)\n",
    "\n",
    "**Figure 1-2**: Global terrestrial carbon uptake. Plant (autotrophic) respiration releases CO2 to the atmosphere, reducing GPP to NPP and resulting in short-term carbon uptake. Decomposition (heterotrophic respiration) of litter and soils in excess of that resulting from disturbance further releases CO2 to the atmosphere, reducing NPP to NEP and resulting in medium-term carbon uptake. Disturbance from both natural and anthropogenic sources (e.g., harvest) leads to further release of CO2 to the atmosphere by additional heterotrophic respiration and combustion-which, in turn, leads to long-term carbon storage (adapted from Steffen et al., 1998).  Credit: [IPCC](https://archive.ipcc.ch/ipccreports/sres/land_use/index.php?idp=24)\n",
    "\n",
    "Now you are ready to extract all the variables!"
   ]
  },
  {
   "cell_type": "code",
   "execution_count": null,
   "metadata": {},
   "outputs": [],
   "source": [
    "# get monthly land variables\n",
    "\n",
    "# from the full `col` object, create a subset using facet search\n",
    "cat = col.search(\n",
    "    source_id=\"GFDL-ESM4\",\n",
    "    variable_id=[\n",
    "        \"gpp\",\n",
    "        \"npp\",\n",
    "        \"nbp\",\n",
    "        \"treeFrac\",\n",
    "        \"grassFrac\",\n",
    "        \"cropFrac\",\n",
    "        \"pastureFrac\",\n",
    "    ],  # No 'shrubFrac','baresoilFrac','residualFrac' in GFDL-ESM4\n",
    "    member_id=\"r1i1p1f1\",\n",
    "    table_id=\"Lmon\",\n",
    "    grid_label=\"gr1\",\n",
    "    experiment_id=[\"historical\"],\n",
    "    require_all_on=[\n",
    "        \"source_id\"\n",
    "    ],  # make sure that we only get models which have all of the above experiments\n",
    ")\n",
    "\n",
    "# convert the sub-catalog into a datatree object, by opening each dataset into an xarray.Dataset (without loading the data)\n",
    "kwargs = dict(\n",
    "    preprocess=combined_preprocessing,  # apply xMIP fixes to each dataset\n",
    "    xarray_open_kwargs=dict(\n",
    "        use_cftime=True\n",
    "    ),  # ensure all datasets use the same time index\n",
    "    storage_options={\n",
    "        \"token\": \"anon\"\n",
    "    },  # anonymous/public authentication to google cloud storage\n",
    ")\n",
    "\n",
    "cat.esmcat.aggregation_control.groupby_attrs = [\"source_id\", \"experiment_id\"]\n",
    "dt_Lmon_variables = cat.to_datatree(**kwargs)\n",
    "\n",
    "# convert to dataset instead of datatree, remove extra singleton dimensions\n",
    "ds_Lmon = dt_Lmon_variables[\"GFDL-ESM4\"][\"historical\"].to_dataset().squeeze()\n",
    "ds_Lmon"
   ]
  },
  {
   "cell_type": "code",
   "execution_count": null,
   "metadata": {},
   "outputs": [],
   "source": [
    "# get monthly 'extension' variables\n",
    "\n",
    "# from the full `col` object, create a subset using facet search\n",
    "cat = col.search(\n",
    "    source_id=\"GFDL-ESM4\",\n",
    "    variable_id=\"nep\",\n",
    "    member_id=\"r1i1p1f1\",\n",
    "    table_id=\"Emon\",\n",
    "    grid_label=\"gr1\",\n",
    "    experiment_id=[\"historical\"],\n",
    "    require_all_on=[\n",
    "        \"source_id\"\n",
    "    ],  # make sure that we only get models which have all of the above experiments\n",
    ")\n",
    "\n",
    "# convert the sub-catalog into a datatree object, by opening each dataset into an xarray.Dataset (without loading the data)\n",
    "kwargs = dict(\n",
    "    preprocess=combined_preprocessing,  # apply xMIP fixes to each dataset\n",
    "    xarray_open_kwargs=dict(\n",
    "        use_cftime=True\n",
    "    ),  # ensure all datasets use the same time index\n",
    "    storage_options={\n",
    "        \"token\": \"anon\"\n",
    "    },  # anonymous/public authentication to google cloud storage\n",
    ")\n",
    "\n",
    "cat.esmcat.aggregation_control.groupby_attrs = [\"source_id\", \"experiment_id\"]\n",
    "dt_Emon_variables = cat.to_datatree(**kwargs)\n",
    "\n",
    "# convert to dataset instead of datatree, remove extra singleton dimensions\n",
    "ds_Emon = dt_Emon_variables[\"GFDL-ESM4\"][\"historical\"].to_dataset().squeeze()\n",
    "ds_Emon"
   ]
  },
  {
   "cell_type": "code",
   "execution_count": null,
   "metadata": {},
   "outputs": [],
   "source": [
    "# get atmospheric variables\n",
    "\n",
    "# from the full `col` object, create a subset using facet search\n",
    "cat = col.search(\n",
    "    source_id=\"GFDL-ESM4\",\n",
    "    variable_id=[\"rsds\", \"rsus\", \"tas\", \"pr\"],\n",
    "    member_id=\"r1i1p1f1\",\n",
    "    table_id=\"Amon\",\n",
    "    grid_label=\"gr1\",\n",
    "    experiment_id=[\"historical\"],\n",
    "    require_all_on=[\n",
    "        \"source_id\"\n",
    "    ],  # make sure that we only get models which have all of the above experiments\n",
    ")\n",
    "\n",
    "# convert the sub-catalog into a datatree object, by opening each dataset into an xarray.Dataset (without loading the data)\n",
    "kwargs = dict(\n",
    "    preprocess=combined_preprocessing,  # apply xMIP fixes to each dataset\n",
    "    xarray_open_kwargs=dict(\n",
    "        use_cftime=True\n",
    "    ),  # ensure all datasets use the same time index\n",
    "    storage_options={\n",
    "        \"token\": \"anon\"\n",
    "    },  # anonymous/public authentication to google cloud storage\n",
    ")\n",
    "\n",
    "cat.esmcat.aggregation_control.groupby_attrs = [\"source_id\", \"experiment_id\"]\n",
    "dt_Amon_variables = cat.to_datatree(**kwargs)\n",
    "\n",
    "# convert to dataset instead of datatree, remove extra singleton dimensions\n",
    "ds_Amon = dt_Amon_variables[\"GFDL-ESM4\"][\"historical\"].to_dataset().squeeze()\n",
    "ds_Amon"
   ]
  },
  {
   "cell_type": "code",
   "execution_count": null,
   "metadata": {},
   "outputs": [],
   "source": [
    "# get atmospheric variables\n",
    "\n",
    "# from the full `col` object, create a subset using facet search\n",
    "cat = col.search(\n",
    "    source_id=\"GFDL-ESM4\",\n",
    "    variable_id=[\"areacella\"],\n",
    "    member_id=\"r1i1p1f1\",\n",
    "    table_id=\"fx\",\n",
    "    grid_label=\"gr1\",\n",
    "    experiment_id=[\"historical\"],\n",
    "    require_all_on=[\n",
    "        \"source_id\"\n",
    "    ],  # make sure that we only get models which have all of the above experiments\n",
    ")\n",
    "\n",
    "# convert the sub-catalog into a datatree object, by opening each dataset into an xarray.Dataset (without loading the data)\n",
    "kwargs = dict(\n",
    "    preprocess=combined_preprocessing,  # apply xMIP fixes to each dataset\n",
    "    xarray_open_kwargs=dict(\n",
    "        use_cftime=True\n",
    "    ),  # ensure all datasets use the same time index\n",
    "    storage_options={\n",
    "        \"token\": \"anon\"\n",
    "    },  # anonymous/public authentication to google cloud storage\n",
    ")\n",
    "\n",
    "cat.esmcat.aggregation_control.groupby_attrs = [\"source_id\", \"experiment_id\"]\n",
    "dt_fx_variables = cat.to_datatree(**kwargs)\n",
    "\n",
    "# convert to dataset instead of datatree, remove extra singleton dimensions\n",
    "ds_fx = dt_fx_variables[\"GFDL-ESM4\"][\"historical\"].to_dataset().squeeze()\n",
    "ds_fx"
   ]
  },
  {
   "cell_type": "markdown",
   "metadata": {},
   "source": [
    "So we are only using one model here, it is practical to extract the variables of interest into datarrays and put them in one compact dataset. In addition we need to calculate the surface albedo. Note, that you will learn much more about surface albedo in W1D5, for CMIP6 data in particular in Tutorial 7."
   ]
  },
  {
   "cell_type": "code",
   "execution_count": null,
   "metadata": {},
   "outputs": [],
   "source": [
    "# merge into single dataset. note, these are all on the 'gr1' grid.\n",
    "ds = xr.Dataset()\n",
    "\n",
    "# add land variables\n",
    "for var in ds_Lmon.data_vars:\n",
    "    ds[var] = ds_Lmon[var]\n",
    "\n",
    "# add extension variables\n",
    "for var in ds_Emon.data_vars:\n",
    "    ds[var] = ds_Emon[var]\n",
    "\n",
    "# add atmopsheric variables\n",
    "for var in ds_Amon.data_vars:\n",
    "    ds[var] = ds_Amon[var]\n",
    "\n",
    "# add grid cell area\n",
    "for var in ds_fx.data_vars:\n",
    "    ds[var] = ds_fx[var]\n",
    "\n",
    "# drop unnecessary coordinates\n",
    "ds = ds.drop_vars([\"member_id\", \"dcpp_init_year\", \"height\"])\n",
    "ds"
   ]
  },
  {
   "cell_type": "code",
   "execution_count": null,
   "metadata": {},
   "outputs": [],
   "source": [
    "# surface albedo is ratio of upwelling shortwave radiation (reflected) to downwelling shortwave radiation (incoming solar radiation).\n",
    "ds[\"surf_albedo\"] = ds.rsus / ds.rsds\n",
    "\n",
    "# add attributes\n",
    "ds[\"surf_albedo\"].attrs = {\"units\": \"Dimensionless\", \"long_name\": \"Surface Albedo\"}\n",
    "ds"
   ]
  },
  {
   "cell_type": "markdown",
   "metadata": {
    "id": "iYblWn8cZAGT"
   },
   "source": [
    "## Alternative Land Cover Approach: Global Land Surface Satellite (GLASS) Dataset\n",
    "\n",
    "The Global Land Surface Satellite (GLASS) datasets primarily based on NASA’s Advanced Very High Resolution Radiometer (AVHRR) long-term data record [(LTDR)](https://ltdr.modaps.eosdis.nasa.gov) and Moderate Resolution Imaging Spectroradiometer (MODIS) data, in conjunction with other satellite data and ancillary information. \n",
    "\n",
    "Currently, there are more than dozens of GLASS products are officially released, including leaf area index, fraction of green vegetation coverage, gross primary production, broadband albedo, land surface temperature, evapotranspiration, and so on. \n",
    "\n",
    "Here we provide you the datasets of GLASS from 1982 to 2015, a 34-year long annual dynamics of global land cover (GLASS-GLC) at 5 km resolution. In this datasets, there are 7 classes, including cropland, forest, grassland, shrubland, tundra, barren land, and snow/ice. \n",
    "The annual global land cover map (5 km) is presented in a GeoTIFF file format named in the form of ‘GLASS-GLC_7classes_year’ with a WGS 84 projection. The relationship between the labels in the files and the 7 land cover classes is shown in the following table\n",
    "\n",
    "You can refer to this [paper](https://doi.pangaea.de/10.1594/PANGAEA.913496) for detailed description of this.ts\n"
   ]
  },
  {
   "cell_type": "code",
   "execution_count": null,
   "metadata": {},
   "outputs": [],
   "source": [
    "# Table 1 Classification system, with 7 land cover classes. From paper https://www.earth-syst-sci-data-discuss.net/essd-2019-23\n",
    "import pandas as pd\n",
    "from IPython.display import display, HTML, Markdown\n",
    "\n",
    "# Data as list of dictionaries\n",
    "classification_system = [\n",
    "    {\"Label\": 10, \"Class\": \"Cropland\", \"Subclass\": \"Rice paddy\", \"Description\": \"\"},\n",
    "    {\"Label\": 10, \"Class\": \"Cropland\", \"Subclass\": \"Greenhouse\", \"Description\": \"\"},\n",
    "    {\"Label\": 10, \"Class\": \"Cropland\", \"Subclass\": \"Other farmland\", \"Description\": \"\"},\n",
    "    {\"Label\": 10, \"Class\": \"Cropland\", \"Subclass\": \"Orchard\", \"Description\": \"\"},\n",
    "    {\"Label\": 10, \"Class\": \"Cropland\", \"Subclass\": \"Bare farmland\", \"Description\": \"\"},\n",
    "    {\n",
    "        \"Label\": 20,\n",
    "        \"Class\": \"Forest\",\n",
    "        \"Subclass\": \"Broadleaf, leaf-on\",\n",
    "        \"Description\": \"Tree cover≥10%; Height>5m; For mixed leaf, neither coniferous nor broadleaf types exceed 60%\",\n",
    "    },\n",
    "    {\n",
    "        \"Label\": 20,\n",
    "        \"Class\": \"Forest\",\n",
    "        \"Subclass\": \"Broadleaf, leaf-off\",\n",
    "        \"Description\": \"\",\n",
    "    },\n",
    "    {\n",
    "        \"Label\": 20,\n",
    "        \"Class\": \"Forest\",\n",
    "        \"Subclass\": \"Needle-leaf, leaf-on\",\n",
    "        \"Description\": \"\",\n",
    "    },\n",
    "    {\n",
    "        \"Label\": 20,\n",
    "        \"Class\": \"Forest\",\n",
    "        \"Subclass\": \"Needle-leaf, leaf-off\",\n",
    "        \"Description\": \"\",\n",
    "    },\n",
    "    {\n",
    "        \"Label\": 20,\n",
    "        \"Class\": \"Forest\",\n",
    "        \"Subclass\": \"Mixed leaf type, leaf-on\",\n",
    "        \"Description\": \"\",\n",
    "    },\n",
    "    {\n",
    "        \"Label\": 20,\n",
    "        \"Class\": \"Forest\",\n",
    "        \"Subclass\": \"Mixed leaf type, leaf-off\",\n",
    "        \"Description\": \"\",\n",
    "    },\n",
    "    {\n",
    "        \"Label\": 30,\n",
    "        \"Class\": \"Grassland\",\n",
    "        \"Subclass\": \"Pasture, leaf-on\",\n",
    "        \"Description\": \"Canopy cover≥20%\",\n",
    "    },\n",
    "    {\n",
    "        \"Label\": 30,\n",
    "        \"Class\": \"Grassland\",\n",
    "        \"Subclass\": \"Natural grassland, leaf-on\",\n",
    "        \"Description\": \"\",\n",
    "    },\n",
    "    {\n",
    "        \"Label\": 30,\n",
    "        \"Class\": \"Grassland\",\n",
    "        \"Subclass\": \"Grassland, leaf-off\",\n",
    "        \"Description\": \"\",\n",
    "    },\n",
    "    {\n",
    "        \"Label\": 40,\n",
    "        \"Class\": \"Shrubland\",\n",
    "        \"Subclass\": \"Shrub cover, leaf-on\",\n",
    "        \"Description\": \"Canopy cover≥20%; Height<5m\",\n",
    "    },\n",
    "    {\n",
    "        \"Label\": 40,\n",
    "        \"Class\": \"Shrubland\",\n",
    "        \"Subclass\": \"Shrub cover, leaf-off\",\n",
    "        \"Description\": \"\",\n",
    "    },\n",
    "    {\n",
    "        \"Label\": 70,\n",
    "        \"Class\": \"Tundra\",\n",
    "        \"Subclass\": \"Shrub and brush tundra\",\n",
    "        \"Description\": \"\",\n",
    "    },\n",
    "    {\n",
    "        \"Label\": 70,\n",
    "        \"Class\": \"Tundra\",\n",
    "        \"Subclass\": \"Herbaceous tundra\",\n",
    "        \"Description\": \"\",\n",
    "    },\n",
    "    {\n",
    "        \"Label\": 90,\n",
    "        \"Class\": \"Barren land\",\n",
    "        \"Subclass\": \"Barren land\",\n",
    "        \"Description\": \"Vegetation cover<10%\",\n",
    "    },\n",
    "    {\"Label\": 100, \"Class\": \"Snow/Ice\", \"Subclass\": \"Snow\", \"Description\": \"\"},\n",
    "    {\"Label\": 100, \"Class\": \"Snow/Ice\", \"Subclass\": \"Ice\", \"Description\": \"\"},\n",
    "    {\"Label\": 0, \"Class\": \"No data\", \"Subclass\": \"\", \"Description\": \"\"},\n",
    "]\n",
    "\n",
    "df = pd.DataFrame(classification_system)\n",
    "pd.set_option(\"display.max_colwidth\", None)\n",
    "html = df.to_html(index=False)\n",
    "title_md = \"### Table 1 GLASS classification system with 7 land cover classes. From [this paper](https://www.earth-syst-sci-data-discuss.net/essd-2019-23).\"\n",
    "display(Markdown(title_md))\n",
    "display(HTML(html))"
   ]
  },
  {
   "cell_type": "code",
   "execution_count": null,
   "metadata": {},
   "outputs": [],
   "source": [
    "# source of landuse data: https://doi.pangaea.de/10.1594/PANGAEA.913496\n",
    "# the folder \"land-use\" has the data for years 1982 to 2015. choose the years you need and change the path accordingly\n",
    "path_LandUse = os.path.expanduser(\n",
    "    \"~/shared/Data/Projects/Albedo/land-use/GLASS-GLC_7classes_1982.tif\"\n",
    ")\n",
    "ds_landuse = xr.open_dataset(path_LandUse).rename({\"x\": \"longitude\", \"y\": \"latitude\"})\n",
    "# ds_landuse.band_data[0,:,:].plot() # how to plot the global data\n",
    "ds_landuse"
   ]
  },
  {
   "cell_type": "markdown",
   "metadata": {},
   "source": [
    "## Alternative Approach: ERA5-Land Monthly Averaged Data from 1950 to Present\n",
    "\n",
    "**[ERA5-Land](https://cds.climate.copernicus.eu/cdsapp#!/dataset/reanalysis-era5-land-monthly-means?tab=overview)** is a reanalysis dataset that offers an enhanced resolution compared to [ERA5](https://www.ecmwf.int/en/forecasts/dataset/ecmwf-reanalysis-v5), providing a consistent view of land variables over several decades. It is created by replaying the land component of the ECMWF ERA5 climate reanalysis, which combines model data and global observations to generate a complete and reliable dataset using the laws of physics. \n",
    "\n",
    "ERA5-Land focuses on the water and energy cycles at the surface level, offering a detailed record starting from 1950. The data used here is a post-processed subset of the complete ERA5-Land dataset. Monthly-mean averages have been pre-calculated to facilitate quick and convenient access to the data, particularly for applications that do not require sub-monthly fields. The native spatial resolution of the ERA5-Land reanalysis dataset is 9km on a reduced Gaussian grid (TCo1279). The data in the CDS has been regridded to a regular lat-lon grid of 0.1x0.1 degrees.\n",
    "\n",
    "### To Calculate Albedo Using ERA5-Land\n",
    "ERA5 parameter [`Forecast albedo`](https://codes.ecmwf.int/grib/param-db/?id=243) provides is the measure of the reflectivity of the Earth's surface. It is the fraction of solar (shortwave) radiation reflected by Earth's surface, across the solar spectrum, for both direct and diffuse radiation. Values are between 0 and 1. Typically, snow and ice have high reflectivity with albedo values of 0.8 and above, land has intermediate values between about 0.1 and 0.4 and the ocean has low values of 0.1 or less. Radiation from the Sun (solar, or shortwave, radiation) is partly reflected back to space by clouds and particles in the atmosphere (aerosols) and some of it is absorbed. The rest is incident on the Earth's surface, where some of it is reflected. The portion that is reflected by the Earth's surface depends on the albedo. In the ECMWF Integrated Forecasting System (IFS), a climatological background albedo (observed values averaged over a period of several years) is used, modified by the model over water, ice and snow. Albedo is often shown as a percentage (%).\n"
   ]
  },
  {
   "cell_type": "code",
   "execution_count": null,
   "metadata": {},
   "outputs": [],
   "source": [
    "# link for albedo data:\n",
    "albedo_path = \"~/shared/Data/Projects/Albedo/ERA/albedo-001.nc\"\n",
    "ds_albedo = xr.open_dataset(albedo_path)\n",
    "ds_albedo  # note the official variable name is fal (forecast albedo)"
   ]
  },
  {
   "cell_type": "markdown",
   "metadata": {},
   "source": [
    "for your convience, included below are preciptation and temprature ERA5 dataset for the same times as the Albedo dataset"
   ]
  },
  {
   "cell_type": "code",
   "execution_count": null,
   "metadata": {},
   "outputs": [],
   "source": [
    "precp_path = \"~/shared/Data/Projects/Albedo/ERA/precipitation-002.nc\"\n",
    "ds_precp = xr.open_dataset(precp_path)\n",
    "ds_precp  # the variable name is tp (total preciptation)"
   ]
  },
  {
   "cell_type": "code",
   "execution_count": null,
   "metadata": {},
   "outputs": [],
   "source": [
    "tempr_path = \"~/shared/Data/Projects/Albedo/ERA/Temperature-003.nc\"\n",
    "ds_tempr = xr.open_dataset(tempr_path)\n",
    "ds_tempr  # the variable name is t2m (temprature at 2m)"
   ]
  },
  {
   "cell_type": "markdown",
   "metadata": {
    "id": "e5KKmsTujjAg"
   },
   "source": [
    "# Further Reading\n",
    "- IPCC Special Report on climate change, desertification, land degradation, sustainable land management, food security, and greenhouse gas fluxes in terrestrial ecosystems, https://www.ipcc.ch/srccl/\n",
    "\n",
    "- Zhao, X., Wu, T., Wang, S., Liu, K., Yang,  J. Cropland abandonment mapping at sub-pixel scales using crop phenological information and MODIS time-series images, Computers and Electronics in Agriculture, Volume 208,\n",
    "2023,107763, ISSN 0168-1699,https://doi.org/10.1016/j.compag.2023.107763\n",
    "\n",
    "- Shani Rohatyn et al.,  Limited climate change mitigation potential through forestation of the vast dryland regions. Science 377,1436-1439 (2022).DOI:10.1126/science.abm9684\n",
    "\n",
    "- Hu, Y., Hou, M., Zhao, C., Zhen, X., Yao, L., Xu, Y. Human-induced changes of surface albedo in Northern China from 1992-2012, International Journal of Applied Earth Observation and Geoinformation, Volume 79, 2019, Pages 184-191, ISSN 1569-8432, https://doi.org/10.1016/j.jag.2019.03.018\n",
    "\n",
    "- Duveiller, G., Hooker, J. & Cescatti, A. The mark of vegetation change on Earth’s surface energy balance. Nat Commun 9, 679 (2018). https://doi.org/10.1038/s41467-017-02810-8\n",
    "\n",
    "- Yin, H., Brandão, A., Buchner, J., Helmers, D., Iuliano, B.G., Kimambo, N.E.,  Lewińska, K.E., Razenkova, E., Rizayeva, A., Rogova, N., Spawn, S.A., Xie, Y., Radeloff, V.C. Monitoring cropland abandonment with Landsat time series, Remote Sensing of Environment, Volume 246, 2020, 111873, ISSN 0034-4257,https://doi.org/10.1016/j.rse.2020.111873\n",
    "\n",
    "- Gupta, P., Verma, S., Bhatla, R.,Chandel, A. S., Singh, J., & Payra, S.(2020). Validation of surfacetemperature derived from MERRA‐2Reanalysis against IMD gridded data setover India.Earth and Space Science,7,e2019EA000910. https://doi.org/10.1029/2019EA000910\n",
    "\n",
    "- Cao, Y., S. Liang, X. Chen, and T. He (2015) Assessment of Sea Ice Albedo Radiative Forcing and Feedback over the Northern Hemisphere from 1982 to 2009 Using Satellite and Reanalysis Data. J. Climate, 28, 1248–1259, https://doi.org/10.1175/JCLI-D-14-00389.1.\n",
    "\n",
    "- Westberg, D. J., P. Stackhouse, D. B. Crawley, J. M. Hoell, W. S. Chandler, and T. Zhang (2013), An Analysis of NASA's MERRA Meteorological Data to Supplement Observational Data for Calculation of Climatic Design Conditions, ASHRAE Transactions, 119, 210-221. \n",
    "https://www.researchgate.net/profile/Drury-Crawley/publication/262069995_An_Analysis_of_NASA's_MERRA_Meteorological_Data_to_Supplement_Observational_Data_for_Calculation_of_Climatic_Design_Conditions/links/5465225f0cf2052b509f2cc0/An-Analysis-of-NASAs-MERRA-Meteorological-Data-to-Supplement-Observational-Data-for-Calculation-of-Climatic-Design-Conditions.pdf\n",
    "\n",
    "- Södergren, A. H., & McDonald, A. J.. Quantifying the role of atmospheric and surface albedo on polar amplification using satellite observations and CMIP6 Model output. Journal of Geophysical Research: Atmospheres.(2022). 127, e2021JD035058. https://agupubs.onlinelibrary.wiley.com/doi/full/10.1029/2021JD035058\n"
   ]
  },
  {
   "cell_type": "markdown",
   "metadata": {},
   "source": [
    "# **Resources**\n",
    "\n",
    "This tutorial uses data from the simulations conducted as part of the [CMIP6](https://wcrp-cmip.org/) multi-model ensemble. \n",
    "\n",
    "For examples on how to access and analyze data, please visit the [Pangeo Cloud CMIP6 Gallery](https://gallery.pangeo.io/repos/pangeo-gallery/cmip6/index.html) \n",
    "\n",
    "For more information on what CMIP is and how to access the data, please see this [page](https://github.com/ClimateMatchAcademy/course-content/blob/main/tutorials/CMIP/CMIP_resource_bank.md)."
   ]
  }
 ],
 "metadata": {
  "colab": {
   "provenance": []
  },
  "kernelspec": {
   "display_name": "climatematch",
   "language": "python",
   "name": "climatematch"
  },
  "language_info": {
   "codemirror_mode": {
    "name": "ipython",
    "version": 3
   },
   "file_extension": ".py",
   "mimetype": "text/x-python",
   "name": "python",
   "nbconvert_exporter": "python",
   "pygments_lexer": "ipython3",
   "version": "3.10.11"
  }
 },
 "nbformat": 4,
 "nbformat_minor": 4
}
