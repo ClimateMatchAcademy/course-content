{
 "cells": [
  {
   "cell_type": "markdown",
   "metadata": {
    "id": "avjFjFXwWqyW"
   },
   "source": [
    "# **Ocean Acidification**\n",
    "\n",
    "\n",
    "**Content creators:** C. Gabriela Mayorga Adame, Lidia Krinova\n",
    "\n",
    "**Content reviewers:** Jenna Pearson, Abigail Bodner, Ohad Zivan, Chi Zhang\n",
    "\n",
    "**Content editors:** Zane Mitrevica, Natalie Steinemann, Ohad Zivan, Chi Zhang, Jenna Pearson\n",
    "\n",
    "**Production editors:** Wesley Banfield, Jenna Pearson, Chi Zhang, Ohad Zivan\n",
    "\n",
    "**Our 2023 Sponsors:** NASA TOPS, Google DeepMind"
   ]
  },
  {
   "cell_type": "code",
   "execution_count": null,
   "metadata": {
    "id": "umnBeSiJeqYo"
   },
   "outputs": [],
   "source": [
    "# @title Project Background\n",
    "#This will be a short video introducing the content creator(s) and motivating the research direction of the template.\n",
    "\n",
    "# @markdown\n",
    "from ipywidgets import widgets\n",
    "from IPython.display import YouTubeVideo\n",
    "from IPython.display import IFrame\n",
    "from IPython.display import display\n",
    "\n",
    "\n",
    "class PlayVideo(IFrame):\n",
    "  def __init__(self, id, source, page=1, width=400, height=300, **kwargs):\n",
    "    self.id = id\n",
    "    if source == 'Bilibili':\n",
    "      src = f'https://player.bilibili.com/player.html?bvid={id}&page={page}'\n",
    "    elif source == 'Osf':\n",
    "      src = f'https://mfr.ca-1.osf.io/render?url=https://osf.io/download/{id}/?direct%26mode=render'\n",
    "    super(PlayVideo, self).__init__(src, width, height, **kwargs)\n",
    "\n",
    "\n",
    "def display_videos(video_ids, W=400, H=300, fs=1):\n",
    "  tab_contents = []\n",
    "  for i, video_id in enumerate(video_ids):\n",
    "    out = widgets.Output()\n",
    "    with out:\n",
    "      if video_ids[i][0] == 'Youtube':\n",
    "        video = YouTubeVideo(id=video_ids[i][1], width=W,\n",
    "                             height=H, fs=fs, rel=0)\n",
    "        print(f'Video available at https://youtube.com/watch?v={video.id}')\n",
    "      else:\n",
    "        video = PlayVideo(id=video_ids[i][1], source=video_ids[i][0], width=W,\n",
    "                          height=H, fs=fs, autoplay=False)\n",
    "        if video_ids[i][0] == 'Bilibili':\n",
    "          print(f'Video available at https://www.bilibili.com/video/{video.id}')\n",
    "        elif video_ids[i][0] == 'Osf':\n",
    "          print(f'Video available at https://osf.io/{video.id}')\n",
    "      display(video)\n",
    "    tab_contents.append(out)\n",
    "  return tab_contents\n",
    "\n",
    "\n",
    "video_ids = [('Youtube', 'W5o_HTsef0I'), ('Bilibili', 'BV1ho4y1C7Eo')]\n",
    "tab_contents = display_videos(video_ids, W=730, H=410)\n",
    "tabs = widgets.Tab()\n",
    "tabs.children = tab_contents\n",
    "for i in range(len(tab_contents)):\n",
    "  tabs.set_title(i, video_ids[i][0])\n",
    "display(tabs)"
   ]
  },
  {
   "cell_type": "markdown",
   "metadata": {
    "id": "DZbqRlQKXhnc"
   },
   "source": [
    "**In this project**, you will analyse ocean model and observational data from global databases to extract variables like pH, CO<sub>2</sub>, and temperature, and to investigate ocean acidification process in your region of interest. This project will also be an opportunity to investigate the relationships between these variables as well as their impact on the marine ecosystems."
   ]
  },
  {
   "cell_type": "markdown",
   "metadata": {
    "id": "B2hG2V_2veFC"
   },
   "source": [
    "# Project Template\n",
    "\n",
    "![Project Template](https://raw.githubusercontent.com/ClimateMatchAcademy/course-content/main/projects/template-images/ocean_acidification_template_map.svg)\n",
    "\n",
    "*Note: The dashed boxes are socio-economic questions.*"
   ]
  },
  {
   "cell_type": "markdown",
   "metadata": {
    "id": "-uS_n9-3YJrZ"
   },
   "source": [
    "# Data Exploration Notebook\n",
    "## Project Setup\n"
   ]
  },
  {
   "cell_type": "code",
   "execution_count": null,
   "metadata": {
    "colab": {
     "base_uri": "https://localhost:8080/"
    },
    "executionInfo": {
     "elapsed": 6642,
     "status": "ok",
     "timestamp": 1684025369728,
     "user": {
      "displayName": "Abigail Bodner",
      "userId": "16617086768288510233"
     },
     "user_tz": 240
    },
    "id": "drh-swqCsb9k",
    "outputId": "c889805c-2e31-402d-9bfd-a6c97cfe8ed6",
    "tags": [
     "colab"
    ]
   },
   "outputs": [],
   "source": [
    "# google colab installs\n",
    "\n",
    "# !mamaba install netCDF4"
   ]
  },
  {
   "cell_type": "code",
   "execution_count": null,
   "metadata": {
    "id": "9nDg6MeVY1CX"
   },
   "outputs": [],
   "source": [
    "# imports\n",
    "\n",
    "import random\n",
    "import numpy as np\n",
    "import matplotlib.pyplot as plt\n",
    "import xarray as xr\n",
    "import pooch\n",
    "import pandas as pd"
   ]
  },
  {
   "cell_type": "markdown",
   "metadata": {
    "id": "iYblWn8cZAGT"
   },
   "source": [
    "## NOAA Ocean pH and Acidity"
   ]
  },
  {
   "cell_type": "markdown",
   "metadata": {
    "id": "W43m6TQBZrpe"
   },
   "source": [
    "### Global surface ocean acidification indicators from 1750 to 2100 (NCEI Accession 0259391)\n",
    "\n",
    "This data package contains a hybrid surface OA data product that is produced based on three recent observational data products: (a) the Surface Ocean CO2 Atlas (SOCAT, version 2022), (b) the Global Ocean Data Analysis Product version 2 (GLODAPv2, version 2022), and (c) the Coastal Ocean Data Analysis Product in North America (CODAP-NA, version 2021), and 14 Earth System Models from the sixth phase of the Coupled Model Intercomparison Project (CMIP6). The trajectories of ten OA indicators, including fugacity of carbon dioxide, pH on Total Scale, total hydrogen ion content, free hydrogen ion content, carbonate ion content, aragonite saturation state, calcite saturation state, Revelle Factor, total dissolved inorganic carbon content, and total alkalinity content are provided under preindustrial conditions, historical conditions, and future Shared Socioeconomic Pathways: SSP1-19, SSP1-26, SSP2-45, SSP3-70, and SSP5-85 from 1750 to 2100 on a global surface ocean grid. These OA trajectories are improved relative to previous OA data products with respect to data quantity, spatial and temporal coverage, diversity of the underlying data and model simulations, and the provided SSPs over the 21st century.\n",
    "\n",
    "**Citation:** \n",
    "Jiang, L.-Q., Dunne, J., Carter, B. R., Tjiputra, J. F., Terhaar, J., Sharp, J. D., et al. (2023). Global surface ocean acidification indicators from 1750 to 2100. Journal of Advances in Modeling Earth Systems, 15, e2022MS003563. https://doi.org/10.1029/2022MS003563\n",
    "\n",
    "**Dataset**: https://www.ncei.noaa.gov/data/oceans/ncei/ocads/metadata/0259391.html\n"
   ]
  },
  {
   "cell_type": "markdown",
   "metadata": {
    "id": "xqiXjDKC9G2M"
   },
   "source": [
    "We can load and visualize the **surface pH** as follows:"
   ]
  },
  {
   "cell_type": "code",
   "execution_count": null,
   "metadata": {
    "colab": {
     "base_uri": "https://localhost:8080/"
    },
    "executionInfo": {
     "elapsed": 2788,
     "status": "ok",
     "timestamp": 1684025378922,
     "user": {
      "displayName": "Abigail Bodner",
      "userId": "16617086768288510233"
     },
     "user_tz": 240
    },
    "id": "mZMo14eJs26r",
    "outputId": "3efc4132-229b-4790-ef27-af53b2be5386"
   },
   "outputs": [],
   "source": [
    "# code to retrieve and load the data\n",
    "# url_SurfacepH= 'https://www.ncei.noaa.gov/data/oceans/ncei/ocads/data/0206289/Surface_pH_1770_2100/Surface_pH_1770_2000.nc' $ old CMIP5 dataset\n",
    "url_SurfacepH='https://www.ncei.noaa.gov/data/oceans/ncei/ocads/data/0259391/nc/median/pHT_median_historical.nc'\n",
    "ds_pH = xr.open_dataset(pooch.retrieve(url_SurfacepH,known_hash=None))\n",
    "ds_pH"
   ]
  },
  {
   "cell_type": "markdown",
   "metadata": {
    "id": "S6fZBOG00xW6"
   },
   "source": [
    "These are the files of the climate change projections under various scenarios (SSP1-19, SSP1-26, SSP2-45, SSP3-70, and SSP5-85, recall W2D1 tutorials) for those feeling adventurous: \n",
    "*   pHT_median_ssp119.nc \n",
    "*   pHT_median_ssp126.nc\t \n",
    "*   pHT_median_ssp245.nc \n",
    "*   pHT_median_ssp370.nc\n",
    "*   pHT_median_ssp585.nc\n",
    "\n",
    "To load them, replace the filename in the path/filename line above"
   ]
  },
  {
   "cell_type": "markdown",
   "metadata": {
    "id": "pqD42yn7vOnG"
   },
   "source": [
    "## Copernicus\n",
    "\n",
    "Copernicus is the Earth observation component of the European Union’s Space programme, looking at our planet and its environment to benefit all European citizens. It offers information services that draw from satellite Earth Observation and in-situ (non-space) data.\n",
    "\n",
    "The European Commission manages the Programme. It is implemented in partnership with the Member States, the European Space Agency (ESA), the European Organisation for the Exploitation of Meteorological Satellites (EUMETSAT), the European Centre for Medium-Range Weather Forecasts (ECMWF), EU Agencies and Mercator Océan.\n",
    "\n",
    "Vast amounts of global data from satellites and ground-based, airborne, and seaborne measurement systems provide information to help service providers, public authorities, and other international organisations improve European citizens' quality of life and beyond. The information services provided are free and openly accessible to users.\n",
    "\n",
    "**Source**: https://www.copernicus.eu/en/about-copernicus"
   ]
  },
  {
   "cell_type": "markdown",
   "metadata": {
    "id": "k9F0UYYTv31x"
   },
   "source": [
    "### ECMWF Atmospheric Composition Reanalysis: Carbon Dioxide (CO<sub>2</sub>)\n",
    "\n",
    "From this dataset we will use **CO<sub>2</sub> column-mean molar fraction** from the Single-level chemical vertical integrals variables & **Sea Surface Temperature** from the Single-level meteorological variables (in case you need to download them direclty from the catalog). \n",
    "\n",
    "This dataset is part of the [ECMWF Atmospheric Composition Reanalysis focusing on long-lived greenhouse gases: carbon dioxide (CO<sub>2</sub>) and methane (CH<sub>4</sub>)](https://www.copernicus.eu/en/access-data/copernicus-services-catalogue/cams-global-ghg-reanalysis-egg4-monthly). The emissions and natural fluxes at the surface are crucial for the evolution of the long-lived greenhouse gases in the atmosphere. In this dataset the CO<sub>2</sub> fluxes from terrestrial vegetation are modelled in order to simulate the variability across a wide range of scales from diurnal to inter-annual. The CH<sub>4</sub> chemical loss is represented by a climatological loss rate and the emissions at the surface are taken from a range of datasets.\n",
    "\n",
    "Reanalysis combines model data with observations from across the world into a globally complete and consistent dataset using a model of the atmosphere based on the laws of physics and chemistry. This principle, called data assimilation, is based on the method used by numerical weather prediction centres and air quality forecasting centres, where every so many hours (12 hours at ECMWF) a previous forecast is combined with newly available observations in an optimal way to produce a new best estimate of the state of the atmosphere, called analysis, from which an updated, improved forecast is issued. Reanalysis works in the same way to allow for the provision of a dataset spanning back more than a decade. Reanalysis does not have the constraint of issuing timely forecasts, so there is more time to collect observations, and when going further back in time, to allow for the ingestion of improved versions of the original observations, which all benefit the quality of the reanalysis product.\n",
    "\n",
    "**Source & further information:** https://ads.atmosphere.copernicus.eu/cdsapp#!/dataset/cams-global-ghg-reanalysis-egg4-monthly?tab=overview\n"
   ]
  },
  {
   "cell_type": "markdown",
   "metadata": {
    "id": "OcwO6XpY3rOS"
   },
   "source": [
    "We can load and visualize the **sea surface temperature** and **CO<sub>2</sub> concentration** (from [NOAA Global Monitoring Laboratory](https://gml.noaa.gov/ccgg/trends/gl_data.html)):"
   ]
  },
  {
   "cell_type": "code",
   "execution_count": null,
   "metadata": {
    "id": "rF3Z4CwmwE1K"
   },
   "outputs": [],
   "source": [
    "url_CO2= 'https://gml.noaa.gov/webdata/ccgg/trends/co2/co2_mm_gl.csv'\n",
    "ds_CO2 = pd.read_csv(pooch.retrieve(url_CO2,known_hash=None),header=55)\n",
    "\n",
    "ds_CO2"
   ]
  },
  {
   "cell_type": "code",
   "execution_count": null,
   "metadata": {},
   "outputs": [],
   "source": [
    "# from W1D3 tutorial 6 we have Sea Surface Temprature from 1981 to the present:\n",
    "# download the monthly sea surface temperature data from NOAA Physical System\n",
    "# Laboratory. The data is processed using the OISST SST Climate Data Records\n",
    "# from the NOAA CDR program.\n",
    "# the data downloading may take 2-3 minutes to complete.\n",
    "\n",
    "url_sst = \"https://osf.io/6pgc2/download/\"\n",
    "ds_SST = xr.open_dataset(pooch.retrieve(url_sst,known_hash=None))\n",
    "ds_SST"
   ]
  },
  {
   "cell_type": "markdown",
   "metadata": {},
   "source": [
    "**Hint for question 4:**\n",
    "\n",
    "Use the attached image (figure 5 in this [website](https://coastadapt.com.au/ocean-acidification-and-its-effects)) and this [mapping tool](https://mapper.obis.org/). Search for each species on the mapping tool to see the spatial global distribution."
   ]
  },
  {
   "cell_type": "markdown",
   "metadata": {},
   "source": [
    "![effects of ocean acidifaction](https://coastadapt.com.au/sites/default/files/coastadapt_image/T2I3_Figure%205.jpg)"
   ]
  },
  {
   "cell_type": "markdown",
   "metadata": {},
   "source": [
    "# Further Reading\n"
   ]
  }
 ],
 "metadata": {
  "colab": {
   "provenance": [],
   "toc_visible": true
  },
  "kernelspec": {
   "display_name": "Python 3 (ipykernel)",
   "language": "python",
   "name": "python3"
  },
  "language_info": {
   "codemirror_mode": {
    "name": "ipython",
    "version": 3
   },
   "file_extension": ".py",
   "mimetype": "text/x-python",
   "name": "python",
   "nbconvert_exporter": "python",
   "pygments_lexer": "ipython3",
   "version": "3.10.8"
  }
 },
 "nbformat": 4,
 "nbformat_minor": 4
}
