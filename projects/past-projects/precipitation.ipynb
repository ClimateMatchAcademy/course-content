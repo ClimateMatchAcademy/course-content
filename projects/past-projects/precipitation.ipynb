{
 "cells": [
  {
   "cell_type": "markdown",
   "metadata": {},
   "source": [
    "# Regional precipitation variability and extreme events\n",
    "## 2023\n",
    "\n",
    "### Assessing spatio-temporal precipitation variability and extreme events in India\n",
    "**Authors**: Dr Pandurang Choudhari, Jeciliya Selva Kiruba S, Stefy Thomas, Sintayehu Fetene Demessie\n",
    "\n",
    "**Teaching assistants**: Surajit Deb Barma, Sumudu Senanayake"
   ]
  },
  {
   "cell_type": "code",
   "execution_count": null,
   "metadata": {},
   "outputs": [],
   "source": [
    "# @markdown\n",
    "from ipywidgets import widgets\n",
    "from IPython.display import IFrame\n",
    "\n",
    "filename = \"2023RPV_Assessing_spatiotemporal_precipitation_variability_and_extreme_events_in_India\"\n",
    "\n",
    "download_link = f\"https://github.com/ClimateMatchAcademy/course-content/blob/main/projects/past-projects/{filename}.pdf\"\n",
    "render_link = f\"https://nbviewer.org/github/ClimateMatchAcademy/course-content/blob/main/projects/past-projects/{filename}.pdf\"\n",
    "\n",
    "# @markdown\n",
    "out = widgets.Output()\n",
    "with out:\n",
    "    print(f\"If you want to download the slides: {download_link}\")\n",
    "    display(IFrame(src=f\"{render_link}\", width=730, height=410))\n",
    "display(out)"
   ]
  },
  {
   "cell_type": "markdown",
   "metadata": {},
   "source": [
    "### A spatiotemporal assessment of the high-resolution CHIRPS rainfall dataset over the vegetation in Nepal and Sri Lanka Region\n",
    "**Authors**: Akanksha Soni, Zhujun Shao, Swarnadeep Mukherjee, Terezia Klasova​, Aanchal Goel\n",
    "\n",
    "**Teaching assistants**: Surajit Deb Barma, Jacob Joseph"
   ]
  },
  {
   "cell_type": "code",
   "execution_count": null,
   "metadata": {},
   "outputs": [],
   "source": [
    "# @markdown\n",
    "from ipywidgets import widgets\n",
    "from IPython.display import IFrame\n",
    "\n",
    "filename = \"2023RPV_A_spatiotemporal_assessment_of_the_high_resolution_CHIRPS_rainfall_dataset_over_the_vegetation_in_Nepal_and_Sri_Lanka_Region\"\n",
    "\n",
    "download_link = f\"https://github.com/ClimateMatchAcademy/course-content/blob/main/projects/past-projects/{filename}.pdf\"\n",
    "render_link = f\"https://nbviewer.org/github/ClimateMatchAcademy/course-content/blob/main/projects/past-projects/{filename}.pdf\"\n",
    "\n",
    "# @markdown\n",
    "out = widgets.Output()\n",
    "with out:\n",
    "    print(f\"If you want to download the slides: {download_link}\")\n",
    "    display(IFrame(src=f\"{render_link}\", width=730, height=410))\n",
    "display(out)"
   ]
  },
  {
   "cell_type": "markdown",
   "metadata": {},
   "source": [
    "### Using global climate model and remote sensing data to identify extreme precipitation, climatological, and NDVI trends in the Deccan region of India\n",
    "**Authors**: Ila Gupta, Ghadi El Hasbani, Lynn Maalouf\n",
    "\n",
    "**Teaching assistants**: Surajit Deb Barma, Jacob Joseph"
   ]
  },
  {
   "cell_type": "code",
   "execution_count": null,
   "metadata": {},
   "outputs": [],
   "source": [
    "# @markdown\n",
    "from ipywidgets import widgets\n",
    "from IPython.display import IFrame\n",
    "\n",
    "filename = \"2023RPV_Using_global_climate_model_and_remote_sensing_data_to_identify_extreme_precipitation_climatological_and_NDVI_trends_in_the_Deccan_region_of_India\"\n",
    "\n",
    "download_link = f\"https://github.com/ClimateMatchAcademy/course-content/blob/main/projects/past-projects/{filename}.pdf\"\n",
    "render_link = f\"https://nbviewer.org/github/ClimateMatchAcademy/course-content/blob/main/projects/past-projects/{filename}.pdf\"\n",
    "\n",
    "# @markdown\n",
    "out = widgets.Output()\n",
    "with out:\n",
    "    print(f\"If you want to download the slides: {download_link}\")\n",
    "    display(IFrame(src=f\"{render_link}\", width=730, height=410))\n",
    "display(out)"
   ]
  },
  {
   "cell_type": "markdown",
   "metadata": {},
   "source": [
    "### ENSO's impact on Amazon Basin: Assessing the relationship between climate anomalies and regional precipitation variability\n",
    "**Authors**: Luciana Rojas, Ricardo Rengifo, Franco Barrionuevo, Cristian Farfán\n",
    "\n",
    "**Teaching assistants**: Raphael Rocha, Rubi Garcia"
   ]
  },
  {
   "cell_type": "code",
   "execution_count": null,
   "metadata": {},
   "outputs": [],
   "source": [
    "# @markdown\n",
    "from ipywidgets import widgets\n",
    "from IPython.display import IFrame\n",
    "\n",
    "filename = \"2023RPV_ENSO_impact_on_Amazon_basin_Assessing_the_relationship_between_climate_anomalies_and_regional_precipitation_variability\"\n",
    "\n",
    "download_link = f\"https://github.com/ClimateMatchAcademy/course-content/blob/main/projects/past-projects/{filename}.pdf\"\n",
    "render_link = f\"https://nbviewer.org/github/ClimateMatchAcademy/course-content/blob/main/projects/past-projects/{filename}.pdf\"\n",
    "\n",
    "# @markdown\n",
    "out = widgets.Output()\n",
    "with out:\n",
    "    print(f\"If you want to download the slides: {download_link}\")\n",
    "    display(IFrame(src=f\"{render_link}\", width=730, height=410))\n",
    "display(out)"
   ]
  },
  {
   "cell_type": "markdown",
   "metadata": {},
   "source": [
    "### How extreme precipitation influence vegetation greenness in the center region of Cameroon between 2001 and 2020?\n",
    "**Authors**: Sarth Dubey, Himanshu Ahuja, Aboudi MANA SUZANNE CHRISTINE, Juan Barrios, Bijay Bagale, Foulna Carmel TCHEOBE\n",
    "\n",
    "**Teaching assistants**: Raphael Rocha, Cassidy Wagner"
   ]
  },
  {
   "cell_type": "code",
   "execution_count": null,
   "metadata": {},
   "outputs": [],
   "source": [
    "# @markdown\n",
    "from ipywidgets import widgets\n",
    "from IPython.display import IFrame\n",
    "\n",
    "filename = \"2023RPV_How_extreme_precipitation_influences_vegetation_greenness_in_the_center_region_of_Cameroon_between_2001_and_2020\"\n",
    "\n",
    "download_link = f\"https://github.com/ClimateMatchAcademy/course-content/blob/main/projects/past-projects/{filename}.pdf\"\n",
    "render_link = f\"https://nbviewer.org/github/ClimateMatchAcademy/course-content/blob/main/projects/past-projects/{filename}.pdf\"\n",
    "\n",
    "# @markdown\n",
    "out = widgets.Output()\n",
    "with out:\n",
    "    print(f\"If you want to download the slides: {download_link}\")\n",
    "    display(IFrame(src=f\"{render_link}\", width=730, height=410))\n",
    "display(out)"
   ]
  },
  {
   "cell_type": "markdown",
   "metadata": {},
   "source": [
    "### Assessment of the extreme precipitation events frequency and its impact on the Yucatan Peninsula vegetation coverage\n",
    "**Authors**: Elisa Ortiz Melchor, Ricardo Adolfo Hidalgo Rodriguez, Jean-Claude Jim Kevin Schwarzens, María Elena Velázquez Ferrera\n",
    "\n",
    "**Teaching assistants**: Raphael Rocha, Rubi Garcia"
   ]
  },
  {
   "cell_type": "code",
   "execution_count": null,
   "metadata": {},
   "outputs": [],
   "source": [
    "# @markdown\n",
    "from ipywidgets import widgets\n",
    "from IPython.display import IFrame\n",
    "\n",
    "filename = \"2023RPV_Assessment_of_the_extreme_precipitation_event_frequency_and_its_impact_on_the_Yucatan_Peninsula_vegetation_coverage\"\n",
    "\n",
    "download_link = f\"https://github.com/ClimateMatchAcademy/course-content/blob/main/projects/past-projects/{filename}.pdf\"\n",
    "render_link = f\"https://nbviewer.org/github/ClimateMatchAcademy/course-content/blob/main/projects/past-projects/{filename}.pdf\"\n",
    "\n",
    "# @markdown\n",
    "out = widgets.Output()\n",
    "with out:\n",
    "    print(f\"If you want to download the slides: {download_link}\")\n",
    "    display(IFrame(src=f\"{render_link}\", width=730, height=410))\n",
    "display(out)"
   ]
  },
  {
   "cell_type": "markdown",
   "metadata": {},
   "source": [
    "### Impact of extreme precipitation on vegetation cover in Indonesia\n",
    "**Authors**: Livinia Saputra, Jazmín Moreno, Moon Limb\n",
    "\n",
    "**Teaching assistants**: Surajit Deb Barma, Ye Yint"
   ]
  },
  {
   "cell_type": "code",
   "execution_count": null,
   "metadata": {},
   "outputs": [],
   "source": [
    "# @markdown\n",
    "from ipywidgets import widgets\n",
    "from IPython.display import IFrame\n",
    "\n",
    "filename = \"2023RPV_Impact_of_extreme_precipitation_on_vegetation_cover_in_Indonesia\"\n",
    "\n",
    "download_link = f\"https://github.com/ClimateMatchAcademy/course-content/blob/main/projects/past-projects/{filename}.pdf\"\n",
    "render_link = f\"https://nbviewer.org/github/ClimateMatchAcademy/course-content/blob/main/projects/past-projects/{filename}.pdf\"\n",
    "\n",
    "# @markdown\n",
    "out = widgets.Output()\n",
    "with out:\n",
    "    print(f\"If you want to download the slides: {download_link}\")\n",
    "    display(IFrame(src=f\"{render_link}\", width=730, height=410))\n",
    "display(out)"
   ]
  },
  {
   "cell_type": "markdown",
   "metadata": {},
   "source": [
    "### Impact of La Niña on vegetation and precipitation in the Greater Horn of Africa\n",
    "**Authors**: Adewale Olabintan, Arnaz Khan, Hailun Xie, Franklin Njaiwo Ngalim, Kenechi Omeke, Olabanji Aladejana, João Martins, Mame Balla Ndiaye\n",
    "\n",
    "**Teaching assistants**: Graziela Luzia, Jeffrey Nii Armah Aryee"
   ]
  },
  {
   "cell_type": "code",
   "execution_count": null,
   "metadata": {},
   "outputs": [],
   "source": [
    "# @markdown\n",
    "from ipywidgets import widgets\n",
    "from IPython.display import IFrame\n",
    "\n",
    "filename = \"2023RPV_Impact_of_La_Nina_on_vegetation_and_precipitation_in_the_Greater_Horn_of_Africa\"\n",
    "\n",
    "download_link = f\"https://github.com/ClimateMatchAcademy/course-content/blob/main/projects/past-projects/{filename}.pdf\"\n",
    "render_link = f\"https://nbviewer.org/github/ClimateMatchAcademy/course-content/blob/main/projects/past-projects/{filename}.pdf\"\n",
    "\n",
    "# @markdown\n",
    "out = widgets.Output()\n",
    "with out:\n",
    "    print(f\"If you want to download the slides: {download_link}\")\n",
    "    display(IFrame(src=f\"{render_link}\", width=730, height=410))\n",
    "display(out)"
   ]
  },
  {
   "cell_type": "markdown",
   "metadata": {},
   "source": [
    "### Impact of deforestation and ENSO on precipitation patterns and cereal production in Congo River Basin\n",
    "**Authors**: Pratik Bhandari, Lorenzo Pierini, Magda Altman, James Hartzell, Pelin Cansu Çavuş Gürcan, Masoumeh Bahri, Rajiv Srivastava, Eriola ADENIDJI\n",
    "\n",
    "**Teaching assistants**: Graziela Luzia, Jeffrey Nii Armah Aryee"
   ]
  },
  {
   "cell_type": "code",
   "execution_count": null,
   "metadata": {},
   "outputs": [],
   "source": [
    "# @markdown\n",
    "from ipywidgets import widgets\n",
    "from IPython.display import IFrame\n",
    "\n",
    "filename = \"2023RPV_Impact_of_deforestation_and_ENSO_on_precipitation_patterns_and_cereal_production_in_Congo_River_Basin\"\n",
    "\n",
    "download_link = f\"https://github.com/ClimateMatchAcademy/course-content/blob/main/projects/past-projects/{filename}.pdf\"\n",
    "render_link = f\"https://nbviewer.org/github/ClimateMatchAcademy/course-content/blob/main/projects/past-projects/{filename}.pdf\"\n",
    "\n",
    "# @markdown\n",
    "out = widgets.Output()\n",
    "with out:\n",
    "    print(f\"If you want to download the slides: {download_link}\")\n",
    "    display(IFrame(src=f\"{render_link}\", width=730, height=410))\n",
    "display(out)"
   ]
  },
  {
   "cell_type": "markdown",
   "metadata": {},
   "source": [
    "### Relationship between extreme precipitation events and vegetation cover in the Amazon basin\n",
    "**Authors**: Botetano Bastidas, Gianella Campos Sanchéz, Kevin Cardona Barrero, Salvador Diez, Francisco Peña, Manuel Romero Arrieta, Sebastián Sanchez, Juan Manuel \n",
    "\n",
    "**Teaching assistants**: Graziela Luzia, Nidia Tobon"
   ]
  },
  {
   "cell_type": "code",
   "execution_count": null,
   "metadata": {},
   "outputs": [],
   "source": [
    "# @markdown\n",
    "from ipywidgets import widgets\n",
    "from IPython.display import IFrame\n",
    "\n",
    "filename = \"2023RPV_Relationship_between_extreme_precipitation_events_and_vegetation_cover_in_the_Amazon_basin\"\n",
    "\n",
    "download_link = f\"https://github.com/ClimateMatchAcademy/course-content/blob/main/projects/past-projects/{filename}.pdf\"\n",
    "render_link = f\"https://nbviewer.org/github/ClimateMatchAcademy/course-content/blob/main/projects/past-projects/{filename}.pdf\"\n",
    "\n",
    "# @markdown\n",
    "out = widgets.Output()\n",
    "with out:\n",
    "    print(f\"If you want to download the slides: {download_link}\")\n",
    "    display(IFrame(src=f\"{render_link}\", width=730, height=410))\n",
    "display(out)"
   ]
  },
  {
   "cell_type": "markdown",
   "metadata": {},
   "source": [
    "### Relationship between precipitation extremes and cereal productivity in West Africa over 30years\n",
    "**Authors**: Joshua Fafanyo, Emmanuel Agbo, Kayode Florence, Janet Osie, Taiwo Ewulo, Ismailia Elimane, Amadou Ndiaye\n",
    "\n",
    "**Teaching assistants**: Graziela Luzia, Oladipo Mumin"
   ]
  },
  {
   "cell_type": "code",
   "execution_count": null,
   "metadata": {},
   "outputs": [],
   "source": [
    "# @markdown\n",
    "from ipywidgets import widgets\n",
    "from IPython.display import IFrame\n",
    "\n",
    "filename = \"2023RPV_Relationship_between_precipitation_extremes_and_cereal_productivity_in_West_Africa_over_30_years\"\n",
    "\n",
    "download_link = f\"https://github.com/ClimateMatchAcademy/course-content/blob/main/projects/past-projects/{filename}.pdf\"\n",
    "render_link = f\"https://nbviewer.org/github/ClimateMatchAcademy/course-content/blob/main/projects/past-projects/{filename}.pdf\"\n",
    "\n",
    "# @markdown\n",
    "out = widgets.Output()\n",
    "with out:\n",
    "    print(f\"If you want to download the slides: {download_link}\")\n",
    "    display(IFrame(src=f\"{render_link}\", width=730, height=410))\n",
    "display(out)"
   ]
  },
  {
   "cell_type": "markdown",
   "metadata": {},
   "source": [
    "### Effects of precipitation extreme events on maize yield in Maracaju (Brazil)\n",
    "**Authors**: Lucia Chamlian Munari, Eduardo Gelcer, Hamanda Cavalheri, Chioma Aliku, ANNADASANKAR ROY, Astrid Helena Huechacona Ruiz, Lindsay Barbieri, Arash Nabizadeh Haghighi, Attai Aabubakar, Weld Lucas Cunha, Domenico BOVIENZO\n",
    "\n",
    "**Teaching assistants**: Raphael Rocha, Nkongho Ayuketang Arreyndip"
   ]
  },
  {
   "cell_type": "code",
   "execution_count": null,
   "metadata": {},
   "outputs": [],
   "source": [
    "# @markdown\n",
    "from ipywidgets import widgets\n",
    "from IPython.display import IFrame\n",
    "\n",
    "filename = \"2023RPV_Effects_of_precipitation_extreme_events_on_maize_yield_in_Maracaju_Brazil\"\n",
    "\n",
    "download_link = f\"https://github.com/ClimateMatchAcademy/course-content/blob/main/projects/past-projects/{filename}.pdf\"\n",
    "render_link = f\"https://nbviewer.org/github/ClimateMatchAcademy/course-content/blob/main/projects/past-projects/{filename}.pdf\"\n",
    "\n",
    "# @markdown\n",
    "out = widgets.Output()\n",
    "with out:\n",
    "    print(f\"If you want to download the slides: {download_link}\")\n",
    "    display(IFrame(src=f\"{render_link}\", width=730, height=410))\n",
    "display(out)"
   ]
  },
  {
   "cell_type": "markdown",
   "metadata": {},
   "source": [
    "### Assessment of rainfall variability on cereal yield and food security in Australia.\n",
    "**Authors**: Felicia Dogbey, Krishna Kanhaiya Tiwari, Femi  Akinduyite, Harold Cotacallapa Mamani\n",
    "\n",
    "**Teaching assistants**: Raphael Rocha, Mujeeb Akanbi Abdulfatai"
   ]
  },
  {
   "cell_type": "code",
   "execution_count": null,
   "metadata": {},
   "outputs": [],
   "source": [
    "# @markdown\n",
    "from ipywidgets import widgets\n",
    "from IPython.display import IFrame\n",
    "\n",
    "filename = \"2023RPV_Assessment_of_rainfall_variability_on_cereal_yield_and_food_security_in_Australia\"\n",
    "\n",
    "download_link = f\"https://github.com/ClimateMatchAcademy/course-content/blob/main/projects/past-projects/{filename}.pdf\"\n",
    "render_link = f\"https://nbviewer.org/github/ClimateMatchAcademy/course-content/blob/main/projects/past-projects/{filename}.pdf\"\n",
    "\n",
    "# @markdown\n",
    "out = widgets.Output()\n",
    "with out:\n",
    "    print(f\"If you want to download the slides: {download_link}\")\n",
    "    display(IFrame(src=f\"{render_link}\", width=730, height=410))\n",
    "display(out)"
   ]
  },
  {
   "cell_type": "markdown",
   "metadata": {},
   "source": [
    "### Impact of drought conditions on food security in the Sahelian region of West Africa\n",
    "**Authors**: Abimbola Sekinat Abimbola, Adam Muhhamed Adam, Ingrid Ubeda Trujillo, Opeyemi Hammed Rasaq, Khushi Dani\n",
    "\n",
    "**Teaching assistants**: Graziela Luzia, Oladipo Mumin"
   ]
  },
  {
   "cell_type": "code",
   "execution_count": null,
   "metadata": {},
   "outputs": [],
   "source": [
    "# @markdown\n",
    "from ipywidgets import widgets\n",
    "from IPython.display import IFrame\n",
    "\n",
    "filename = \"2023RPV_Impact_of_drought_conditions_on_food_security_in_the_Sahelian_region_of_West_Africa\"\n",
    "\n",
    "download_link = f\"https://github.com/ClimateMatchAcademy/course-content/blob/main/projects/past-projects/{filename}.pdf\"\n",
    "render_link = f\"https://nbviewer.org/github/ClimateMatchAcademy/course-content/blob/main/projects/past-projects/{filename}.pdf\"\n",
    "\n",
    "# @markdown\n",
    "out = widgets.Output()\n",
    "with out:\n",
    "    print(f\"If you want to download the slides: {download_link}\")\n",
    "    display(IFrame(src=f\"{render_link}\", width=730, height=410))\n",
    "display(out)"
   ]
  }
 ],
 "metadata": {
  "language_info": {
   "name": "python"
  },
  "orig_nbformat": 4
 },
 "nbformat": 4,
 "nbformat_minor": 2
}
