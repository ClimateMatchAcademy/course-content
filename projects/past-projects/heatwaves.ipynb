{
 "cells": [
  {
   "cell_type": "markdown",
   "metadata": {},
   "source": [
    "# Heatwaves: Assessing the dynamic interactions of the atmosphere and land\n",
    "\n",
    "## 2023\n",
    "\n",
    "### Automated heatwave detection using historical  simulations from CMIP6\n",
    "**Authors**: Jaweria Amjad, Albert Berdjour, Gerald Yiran, Timon Kunze, Rebecca Bediako\n",
    "\n",
    "**Teaching assistants**: Wil Laura, Nazimur Rashid Chowdhury"
   ]
  },
  {
   "cell_type": "code",
   "execution_count": null,
   "metadata": {},
   "outputs": [],
   "source": [
    "# @markdown\n",
    "from ipywidgets import widgets\n",
    "from IPython.display import IFrame\n",
    "\n",
    "filename = \"2023HW_Automated_heatwave_detection_using_historical_stimulations_from_CMIP6\"\n",
    "\n",
    "download_link = f\"https://github.com/ClimateMatchAcademy/course-content/blob/main/projects/past-projects/{filename}.pdf\"\n",
    "render_link = f\"https://nbviewer.org/github/ClimateMatchAcademy/course-content/blob/main/projects/past-projects/{filename}.pdf\"\n",
    "\n",
    "# @markdown\n",
    "out = widgets.Output()\n",
    "with out:\n",
    "    print(f\"If you want to download the slides: {download_link}\")\n",
    "    display(IFrame(src=f\"{render_link}\", width=730, height=410))\n",
    "display(out)"
   ]
  },
  {
   "cell_type": "markdown",
   "metadata": {},
   "source": [
    "### The occurrence of heat waves in connection to global warming in the Mediterranean region\n",
    "**Authors**: Alba Monistrol, Farukcan Sağlam, Lana Flanjak, Natalia Gabdrakhmanova \n",
    "\n",
    "**Teaching assistants**: Wil Laura, Nazimur Rashid Chowdhury"
   ]
  },
  {
   "cell_type": "code",
   "execution_count": null,
   "metadata": {},
   "outputs": [],
   "source": [
    "# @markdown\n",
    "from ipywidgets import widgets\n",
    "from IPython.display import IFrame\n",
    "\n",
    "filename = \"2023HW_The_occurrence_of_heatwaves_in_connection_to_global_warming_in_the_Mediterranean_region\"\n",
    "\n",
    "download_link = f\"https://github.com/ClimateMatchAcademy/course-content/blob/main/projects/past-projects/{filename}.pdf\"\n",
    "render_link = f\"https://nbviewer.org/github/ClimateMatchAcademy/course-content/blob/main/projects/past-projects/{filename}.pdf\"\n",
    "\n",
    "# @markdown\n",
    "out = widgets.Output()\n",
    "with out:\n",
    "    print(f\"If you want to download the slides: {download_link}\")\n",
    "    display(IFrame(src=f\"{render_link}\", width=730, height=410))\n",
    "display(out)"
   ]
  },
  {
   "cell_type": "markdown",
   "metadata": {},
   "source": [
    "### Heatwaves and land surface albedo / urbanization in China\n",
    "**Authors**: Abolfazl Ghadimi, Manuela Vanegas Ferro, Matteo Alleman, Rebecca Roycroft\n",
    "\n",
    "**Teaching assistants**: Raphael Rocha, Nkongho Ayuketang Arreyndip"
   ]
  },
  {
   "cell_type": "code",
   "execution_count": null,
   "metadata": {},
   "outputs": [],
   "source": [
    "# @markdown\n",
    "from ipywidgets import widgets\n",
    "from IPython.display import IFrame\n",
    "\n",
    "filename = \"2023HW_Heatwaves_and_land_surface_albedo_urbanization_in_China\"\n",
    "\n",
    "download_link = f\"https://github.com/ClimateMatchAcademy/course-content/blob/main/projects/past-projects/{filename}.pdf\"\n",
    "render_link = f\"https://nbviewer.org/github/ClimateMatchAcademy/course-content/blob/main/projects/past-projects/{filename}.pdf\"\n",
    "\n",
    "# @markdown\n",
    "out = widgets.Output()\n",
    "with out:\n",
    "    print(f\"If you want to download the slides: {download_link}\")\n",
    "    display(IFrame(src=f\"{render_link}\", width=730, height=410))\n",
    "display(out)"
   ]
  },
  {
   "cell_type": "markdown",
   "metadata": {},
   "source": [
    "### Heatwave scenario in Asia region\n",
    "**Authors**: Ahmad Rashiq, Seyed Mehdi Mirbazel, Arihant Jain, Ruchir Patidar\n",
    "\n",
    "**Teaching assistants**: Wil Laura, Abel Shibu"
   ]
  },
  {
   "cell_type": "code",
   "execution_count": null,
   "metadata": {},
   "outputs": [],
   "source": [
    "# @markdown\n",
    "from ipywidgets import widgets\n",
    "from IPython.display import IFrame\n",
    "\n",
    "filename = \"2023HW_Heatwave_scenario_in_Asia_region\"\n",
    "\n",
    "download_link = f\"https://github.com/ClimateMatchAcademy/course-content/blob/main/projects/past-projects/{filename}.pdf\"\n",
    "render_link = f\"https://nbviewer.org/github/ClimateMatchAcademy/course-content/blob/main/projects/past-projects/{filename}.pdf\"\n",
    "\n",
    "# @markdown\n",
    "out = widgets.Output()\n",
    "with out:\n",
    "    print(f\"If you want to download the slides: {download_link}\")\n",
    "    display(IFrame(src=f\"{render_link}\", width=730, height=410))\n",
    "display(out)"
   ]
  },
  {
   "cell_type": "markdown",
   "metadata": {},
   "source": [
    "### Heatwave Characterization  in Humid Prone Areas: India\n",
    "**Authors**: Zeus Gracia Tabuenca, Weiling Shao, Saema Miftah, Zoe Harrington\n",
    "\n",
    "**Teaching assistants**: Wil Laura, Shashank Roy"
   ]
  },
  {
   "cell_type": "code",
   "execution_count": null,
   "metadata": {},
   "outputs": [],
   "source": [
    "# @markdown\n",
    "from ipywidgets import widgets\n",
    "from IPython.display import IFrame\n",
    "\n",
    "filename = \"2023HW_Heatwave_characterization_in_humid_prone_areas_India\"\n",
    "\n",
    "download_link = f\"https://github.com/ClimateMatchAcademy/course-content/blob/main/projects/past-projects/{filename}.pdf\"\n",
    "render_link = f\"https://nbviewer.org/github/ClimateMatchAcademy/course-content/blob/main/projects/past-projects/{filename}.pdf\"\n",
    "\n",
    "# @markdown\n",
    "out = widgets.Output()\n",
    "with out:\n",
    "    print(f\"If you want to download the slides: {download_link}\")\n",
    "    display(IFrame(src=f\"{render_link}\", width=730, height=410))\n",
    "display(out)"
   ]
  },
  {
   "cell_type": "markdown",
   "metadata": {},
   "source": [
    "### Temporal variations in Heatwave in West Africa  during 1950-2014\n",
    "**Authors**: Ara Lee, Saidat Rasaq-Balogun, Idrees Muhammad, Kelvin Fiati\n",
    "\n",
    "**Teaching assistants**: Raphael Rocha, Mujeeb Akanbi Abdulfatai"
   ]
  },
  {
   "cell_type": "code",
   "execution_count": null,
   "metadata": {},
   "outputs": [],
   "source": [
    "# @markdown\n",
    "from ipywidgets import widgets\n",
    "from IPython.display import IFrame\n",
    "\n",
    "filename = \"2023HW_Temporal_variations_in_heatwave_in_West_Africa_during_1950_2014\"\n",
    "\n",
    "download_link = f\"https://github.com/ClimateMatchAcademy/course-content/blob/main/projects/past-projects/{filename}.pdf\"\n",
    "render_link = f\"https://nbviewer.org/github/ClimateMatchAcademy/course-content/blob/main/projects/past-projects/{filename}.pdf\"\n",
    "\n",
    "# @markdown\n",
    "out = widgets.Output()\n",
    "with out:\n",
    "    print(f\"If you want to download the slides: {download_link}\")\n",
    "    display(IFrame(src=f\"{render_link}\", width=730, height=410))\n",
    "display(out)"
   ]
  }
 ],
 "metadata": {
  "language_info": {
   "name": "python"
  },
  "orig_nbformat": 4
 },
 "nbformat": 4,
 "nbformat_minor": 2
}
