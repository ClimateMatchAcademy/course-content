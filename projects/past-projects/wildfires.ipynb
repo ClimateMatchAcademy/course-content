{
 "cells": [
  {
   "cell_type": "markdown",
   "metadata": {},
   "source": [
    "# Monitoring and mapping wildfires Using satellite data\n",
    "## 2023\n",
    "\n",
    "### Assessing wildfire impact and  ecological recovery  in Mozambique (2010) through remote sensing analysis\n",
    "**Authors**: Adem P, Max Peralta, Mateo Santillan\n",
    "\n",
    "**Teaching assistants**: Alexei Rozanov, Nithish Kumar Sriramoju"
   ]
  },
  {
   "cell_type": "code",
   "execution_count": null,
   "metadata": {},
   "outputs": [],
   "source": [
    "# @markdown\n",
    "from ipywidgets import widgets\n",
    "from IPython.display import IFrame\n",
    "\n",
    "filename = \"2023WF_Assessing_wildfire_impact_and_ecological_recovery_in_Mozambique_through_remote_sensing_analysis\"\n",
    "\n",
    "download_link = f\"https://github.com/ClimateMatchAcademy/course-content/blob/main/projects/past-projects/{filename}.pdf\"\n",
    "render_link = f\"https://nbviewer.org/github/ClimateMatchAcademy/course-content/blob/main/projects/past-projects/{filename}.pdf\"\n",
    "\n",
    "# @markdown\n",
    "out = widgets.Output()\n",
    "with out:\n",
    "    print(f\"If you want to download the slides: {download_link}\")\n",
    "    display(IFrame(src=f\"{render_link}\", width=730, height=410))\n",
    "display(out)"
   ]
  },
  {
   "cell_type": "markdown",
   "metadata": {},
   "source": [
    "### Effect of ENSO on wildfire frequency and burnt area\n",
    "**Authors**: Pallaw Mishra, Lida Khosrosereshki, Krishna katyal, Mary Nathalie Dela Cruz, Saroj Kandel, Janvi Chhabra, Alfiya Orazkhanova, Anthony Jeanpier Fow Esteves\n",
    "\n",
    "\n",
    "**Teaching assistants**: Wil Laura, Shashank Roy"
   ]
  },
  {
   "cell_type": "code",
   "execution_count": null,
   "metadata": {},
   "outputs": [],
   "source": [
    "# @markdown\n",
    "from ipywidgets import widgets\n",
    "from IPython.display import IFrame\n",
    "\n",
    "filename = \"2023WF_Effect_of_ENSO_on_wildfire_frequency_and_burnt_area\"\n",
    "\n",
    "download_link = f\"https://github.com/ClimateMatchAcademy/course-content/blob/main/projects/past-projects/{filename}.pdf\"\n",
    "render_link = f\"https://nbviewer.org/github/ClimateMatchAcademy/course-content/blob/main/projects/past-projects/{filename}.pdf\"\n",
    "\n",
    "# @markdown\n",
    "out = widgets.Output()\n",
    "with out:\n",
    "    print(f\"If you want to download the slides: {download_link}\")\n",
    "    display(IFrame(src=f\"{render_link}\", width=730, height=410))\n",
    "display(out)"
   ]
  },
  {
   "cell_type": "markdown",
   "metadata": {},
   "source": [
    "### Trends in fire regimes in South America\n",
    "**Authors**: Anahita Abravan, Lydia Farnham, Gülara Uysal, Farhan Saleem, Zhanna Osipova \n",
    "\n",
    "**Teaching assistants**: Wil Laura, Daniel Kwaku Agyei"
   ]
  },
  {
   "cell_type": "code",
   "execution_count": null,
   "metadata": {},
   "outputs": [],
   "source": [
    "# @markdown\n",
    "from ipywidgets import widgets\n",
    "from IPython.display import IFrame\n",
    "\n",
    "filename = \"2023WF_Trends_in_fire_regimes_in_South_America\"\n",
    "\n",
    "download_link = f\"https://github.com/ClimateMatchAcademy/course-content/blob/main/projects/past-projects/{filename}.pdf\"\n",
    "render_link = f\"https://nbviewer.org/github/ClimateMatchAcademy/course-content/blob/main/projects/past-projects/{filename}.pdf\"\n",
    "\n",
    "# @markdown\n",
    "out = widgets.Output()\n",
    "with out:\n",
    "    print(f\"If you want to download the slides: {download_link}\")\n",
    "    display(IFrame(src=f\"{render_link}\", width=730, height=410))\n",
    "display(out)"
   ]
  },
  {
   "cell_type": "markdown",
   "metadata": {},
   "source": [
    "### Wildfires in Angola: Burn areas and vegetation index \n",
    "**Authors**: Agnessa Karapetian, Sedem Buabassah, Gilad Shreibshtein, Alkis Kalisoras, Jan Bendyk, Ana Carolina Filipe\n",
    "\n",
    "**Teaching assistants**: Alexei Rozanov, Mansour DIA"
   ]
  },
  {
   "cell_type": "code",
   "execution_count": null,
   "metadata": {},
   "outputs": [],
   "source": [
    "# @markdown\n",
    "from ipywidgets import widgets\n",
    "from IPython.display import IFrame\n",
    "\n",
    "filename = \"2023WF_Wildfires_in_Angola_Burn_areas_and_vegetation_index\"\n",
    "\n",
    "download_link = f\"https://github.com/ClimateMatchAcademy/course-content/blob/main/projects/past-projects/{filename}.pdf\"\n",
    "render_link = f\"https://nbviewer.org/github/ClimateMatchAcademy/course-content/blob/main/projects/past-projects/{filename}.pdf\"\n",
    "\n",
    "# @markdown\n",
    "out = widgets.Output()\n",
    "with out:\n",
    "    print(f\"If you want to download the slides: {download_link}\")\n",
    "    display(IFrame(src=f\"{render_link}\", width=730, height=410))\n",
    "display(out)"
   ]
  },
  {
   "cell_type": "markdown",
   "metadata": {},
   "source": [
    "### Wildfires in Asia\n",
    "**Authors**: Zahra Heidaifar, Tanishq Prasad, Sayyed Mohammad Reza Mousavi, Mahdieh Goli\n",
    "\n",
    "**Teaching assistants**: Wil Laura, Abel Shibu"
   ]
  },
  {
   "cell_type": "code",
   "execution_count": null,
   "metadata": {},
   "outputs": [],
   "source": [
    "# @markdown\n",
    "from ipywidgets import widgets\n",
    "from IPython.display import IFrame\n",
    "\n",
    "filename = \"2023WF_Wildfires_in_Asia\"\n",
    "\n",
    "download_link = f\"https://github.com/ClimateMatchAcademy/course-content/blob/main/projects/past-projects/{filename}.pdf\"\n",
    "render_link = f\"https://nbviewer.org/github/ClimateMatchAcademy/course-content/blob/main/projects/past-projects/{filename}.pdf\"\n",
    "\n",
    "# @markdown\n",
    "out = widgets.Output()\n",
    "with out:\n",
    "    print(f\"If you want to download the slides: {download_link}\")\n",
    "    display(IFrame(src=f\"{render_link}\", width=730, height=410))\n",
    "display(out)"
   ]
  }
 ],
 "metadata": {
  "language_info": {
   "name": "python"
  },
  "orig_nbformat": 4
 },
 "nbformat": 4,
 "nbformat_minor": 2
}
