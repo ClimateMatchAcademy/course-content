{
 "cells": [
  {
   "cell_type": "markdown",
   "metadata": {},
   "source": [
    "# Sea level rise\n",
    "## 2023\n",
    "\n",
    "### Investigating the relationship between Sea Level Rise and Extreme Events in Indonesia\n",
    "**Authors**: Camille Mora, Anthea Guo, Satya Sai Srinath, Siyu Xue, Bharti Dharapuram, Tanisha Garg\n",
    "\n",
    "**Teaching assistants**: Gaby Mayorga Adame, Nischal Karki"
   ]
  },
  {
   "cell_type": "code",
   "execution_count": null,
   "metadata": {},
   "outputs": [],
   "source": [
    "# @markdown\n",
    "from ipywidgets import widgets\n",
    "from IPython.display import IFrame\n",
    "\n",
    "filename = \"2023SLR_Investigating_the_relationship_between_sea_level_rise_and_extreme_events_in_Indonesia\"\n",
    "\n",
    "download_link = f\"https://github.com/ClimateMatchAcademy/course-content/blob/main/projects/past-projects/{filename}.pdf\"\n",
    "render_link = f\"https://nbviewer.org/github/ClimateMatchAcademy/course-content/blob/main/projects/past-projects/{filename}.pdf\"\n",
    "\n",
    "# @markdown\n",
    "out = widgets.Output()\n",
    "with out:\n",
    "    print(f\"If you want to download the slides: {download_link}\")\n",
    "    display(IFrame(src=f\"{render_link}\", width=730, height=410))\n",
    "display(out)"
   ]
  },
  {
   "cell_type": "markdown",
   "metadata": {},
   "source": [
    "### Rapa Nui: A world heritage site threatened by sea level rise\n",
    "**Authors**: Julieta Millan, Emma Poirier, Mitzy Quinto-Cortes, Carlos Vivar Rios, Yang Zhang\n",
    "\n",
    "**Teaching assistants**: Rene Navarro Labastida, Shannon Bohman"
   ]
  },
  {
   "cell_type": "code",
   "execution_count": null,
   "metadata": {},
   "outputs": [],
   "source": [
    "# @markdown\n",
    "from ipywidgets import widgets\n",
    "from IPython.display import IFrame\n",
    "\n",
    "filename = \"2023SLR_Rapa_Nui_A_world_heritage_site_threatened_by_sea_level_rise\"\n",
    "\n",
    "download_link = f\"https://github.com/ClimateMatchAcademy/course-content/blob/main/projects/past-projects/{filename}.pdf\"\n",
    "render_link = f\"https://nbviewer.org/github/ClimateMatchAcademy/course-content/blob/main/projects/past-projects/{filename}.pdf\"\n",
    "\n",
    "# @markdown\n",
    "out = widgets.Output()\n",
    "with out:\n",
    "    print(f\"If you want to download the slides: {download_link}\")\n",
    "    display(IFrame(src=f\"{render_link}\", width=730, height=410))\n",
    "display(out)"
   ]
  },
  {
   "cell_type": "markdown",
   "metadata": {},
   "source": [
    "### After (during and before) the storm: Comparing SSH data systems\n",
    "**Authors**: James Milward, Ruben Espeleta Bolivar, Abdul Aizat Nazmi Bin A Azmi, Faith Hunja, Ayman Said, Hannah Krohn, Franck Porteous\n",
    "\n",
    "**Teaching assistants**: Gaby Mayorga Adame, Grant Parajuli"
   ]
  },
  {
   "cell_type": "code",
   "execution_count": null,
   "metadata": {},
   "outputs": [],
   "source": [
    "# @markdown\n",
    "from ipywidgets import widgets\n",
    "from IPython.display import IFrame\n",
    "\n",
    "filename = \"2023SLR_After_during_and_before_the_storm_Comparing_SSH_data_systems\"\n",
    "\n",
    "download_link = f\"https://github.com/ClimateMatchAcademy/course-content/blob/main/projects/past-projects/{filename}.pdf\"\n",
    "render_link = f\"https://nbviewer.org/github/ClimateMatchAcademy/course-content/blob/main/projects/past-projects/{filename}.pdf\"\n",
    "\n",
    "# @markdown\n",
    "out = widgets.Output()\n",
    "with out:\n",
    "    print(f\"If you want to download the slides: {download_link}\")\n",
    "    display(IFrame(src=f\"{render_link}\", width=730, height=410))\n",
    "display(out)"
   ]
  },
  {
   "cell_type": "markdown",
   "metadata": {},
   "source": [
    "### Sea level rise and seagrass distribution\n",
    "**Authors**: Sanket Riswadkar, Vanessa Nakonecnij, Donia Waffa, FERDINARD OBENG-FORSON, Erik Zhivkoplias, Dkawlma Tora\n",
    "\n",
    "**Teaching assistants**: Eligio Maure, Danny McCulloch"
   ]
  },
  {
   "cell_type": "code",
   "execution_count": null,
   "metadata": {},
   "outputs": [],
   "source": [
    "# @markdown\n",
    "from ipywidgets import widgets\n",
    "from IPython.display import IFrame\n",
    "\n",
    "filename = \"2023SLR_Sea_level_rise_and_seagrass_distribution\"\n",
    "\n",
    "download_link = f\"https://github.com/ClimateMatchAcademy/course-content/blob/main/projects/past-projects/{filename}.pdf\"\n",
    "render_link = f\"https://nbviewer.org/github/ClimateMatchAcademy/course-content/blob/main/projects/past-projects/{filename}.pdf\"\n",
    "\n",
    "# @markdown\n",
    "out = widgets.Output()\n",
    "with out:\n",
    "    print(f\"If you want to download the slides: {download_link}\")\n",
    "    display(IFrame(src=f\"{render_link}\", width=730, height=410))\n",
    "display(out)"
   ]
  },
  {
   "cell_type": "markdown",
   "metadata": {},
   "source": [
    "### Sea level rise: model variability and community impact\n",
    "**Authors**: Carlo Peiffer, Gaia Buccino, Elena Corona, Arpit Ayang Doley, Ben Arnon\n",
    "\n",
    "**Teaching assistants**: Rene Navarro Labastida, Mackenzie Blanusa"
   ]
  },
  {
   "cell_type": "code",
   "execution_count": null,
   "metadata": {},
   "outputs": [],
   "source": [
    "# @markdown\n",
    "from ipywidgets import widgets\n",
    "from IPython.display import IFrame\n",
    "\n",
    "filename = \"2023SLR_Sea_level_rise_model_variability_and_community_impact\"\n",
    "\n",
    "download_link = f\"https://github.com/ClimateMatchAcademy/course-content/blob/main/projects/past-projects/{filename}.pdf\"\n",
    "render_link = f\"https://nbviewer.org/github/ClimateMatchAcademy/course-content/blob/main/projects/past-projects/{filename}.pdf\"\n",
    "\n",
    "# @markdown\n",
    "out = widgets.Output()\n",
    "with out:\n",
    "    print(f\"If you want to download the slides: {download_link}\")\n",
    "    display(IFrame(src=f\"{render_link}\", width=730, height=410))\n",
    "display(out)"
   ]
  }
 ],
 "metadata": {
  "language_info": {
   "name": "python"
  },
  "orig_nbformat": 4
 },
 "nbformat": 4,
 "nbformat_minor": 2
}
