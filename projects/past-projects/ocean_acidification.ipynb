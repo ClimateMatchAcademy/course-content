{
 "cells": [
  {
   "cell_type": "markdown",
   "metadata": {},
   "source": [
    "# Ocean acidification\n",
    "## 2023\n",
    "\n",
    "### The relationship between sea surface temperature and ocean acidification in Shanghai during 1990 and 2010\n",
    "**Authors**: Xintong Huang, Pham Nguyen Hoang Le, Miguel Ronaldo, Ronceros Agüero, Tho Huynh Huu Tran\n",
    "\n",
    "**Teaching assistants**: Gaby Mayorga Adame, Nischal Karki"
   ]
  },
  {
   "cell_type": "code",
   "execution_count": null,
   "metadata": {},
   "outputs": [],
   "source": [
    "# @markdown\n",
    "from ipywidgets import widgets\n",
    "from IPython.display import IFrame\n",
    "\n",
    "filename = \"2023OA_The_relationship_between_sea_surface_temperature_and_ocean_acidification_in_Shanghai_during_1990_and_2010\"\n",
    "\n",
    "download_link = f\"https://github.com/ClimateMatchAcademy/course-content/blob/main/projects/past-projects/{filename}.pdf\"\n",
    "render_link = f\"https://nbviewer.org/github/ClimateMatchAcademy/course-content/blob/main/projects/past-projects/{filename}.pdf\"\n",
    "\n",
    "# @markdown\n",
    "out = widgets.Output()\n",
    "with out:\n",
    "    print(f\"If you want to download the slides: {download_link}\")\n",
    "    display(IFrame(src=f\"{render_link}\", width=730, height=410))\n",
    "display(out)"
   ]
  },
  {
   "cell_type": "markdown",
   "metadata": {},
   "source": [
    "### The effect of ocean acidification on marine species population and coastal industry/community health\n",
    "**Authors**: Prani Nalluri, Ali Haydaroglu, Trilce Loayza, Archana Panway, Mohamed Elhadary\n",
    "\n",
    "**Teaching assistants**: Gaby Mayorga Adame, Vinay Ummadi"
   ]
  },
  {
   "cell_type": "code",
   "execution_count": null,
   "metadata": {},
   "outputs": [],
   "source": [
    "# @markdown\n",
    "from ipywidgets import widgets\n",
    "from IPython.display import IFrame\n",
    "\n",
    "filename = \"2023OA_The_effect_of_ocean_acidification_on_marine_species_population_and_coastal_industry_community_health\"\n",
    "\n",
    "download_link = f\"https://github.com/ClimateMatchAcademy/course-content/blob/main/projects/past-projects/{filename}.pdf\"\n",
    "render_link = f\"https://nbviewer.org/github/ClimateMatchAcademy/course-content/blob/main/projects/past-projects/{filename}.pdf\"\n",
    "\n",
    "# @markdown\n",
    "out = widgets.Output()\n",
    "with out:\n",
    "    print(f\"If you want to download the slides: {download_link}\")\n",
    "    display(IFrame(src=f\"{render_link}\", width=730, height=410))\n",
    "display(out)"
   ]
  }
 ],
 "metadata": {
  "language_info": {
   "name": "python"
  },
  "orig_nbformat": 4
 },
 "nbformat": 4,
 "nbformat_minor": 2
}
